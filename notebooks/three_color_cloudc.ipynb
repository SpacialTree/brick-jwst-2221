{
 "cells": [
  {
   "cell_type": "code",
   "execution_count": 1,
   "id": "a57b6e74-1818-4fae-b683-2c9413a1cc10",
   "metadata": {
    "tags": []
   },
   "outputs": [],
   "source": [
    "import sys\n",
    "import regions\n",
    "import pyavm\n",
    "import numpy as np\n",
    "import PIL\n",
    "\n",
    "from astropy.io import fits\n",
    "from astropy.wcs import WCS\n",
    "from astropy.visualization import simple_norm\n",
    "\n",
    "import reproject \n",
    "from reproject.mosaicking import find_optimal_celestial_wcs, reproject_and_coadd\n",
    "import matplotlib.pyplot as plt\n",
    "from matplotlib.colors import rgb_to_hsv, hsv_to_rgb\n"
   ]
  },
  {
   "cell_type": "code",
   "execution_count": 2,
   "id": "80f45577-fd91-4ad3-a8a9-20d9e61f728b",
   "metadata": {
    "tags": []
   },
   "outputs": [],
   "source": [
    "basepath = '/orange/adamginsburg/jwst/cloudc/'"
   ]
  },
  {
   "cell_type": "code",
   "execution_count": 3,
   "id": "22ef83cb-2301-4e26-955c-6d4e70fc5d9a",
   "metadata": {
    "tags": []
   },
   "outputs": [],
   "source": [
    "def save_rgb(img, filename, flip=-1):\n",
    "    img = (img*256)\n",
    "    img[img<0] = 0\n",
    "    img[img>255] = 255\n",
    "    img = img.astype('uint8')\n",
    "    img = PIL.Image.fromarray(img[::flip,:,:])\n",
    "    img.save(filename)"
   ]
  },
  {
   "cell_type": "code",
   "execution_count": 1,
   "id": "056d0c44-2b82-4264-9010-7cda03e6574d",
   "metadata": {
    "tags": []
   },
   "outputs": [
    {
     "name": "stdout",
     "output_type": "stream",
     "text": [
      "/orange/adamginsburg/jwst/cloudc/images/F182_reproj_merged-fortricolor.fits\n",
      "/orange/adamginsburg/jwst/cloudc/images/F187_reproj_merged-fortricolor.fits\n",
      "/orange/adamginsburg/jwst/cloudc/images/F212_reproj_merged-fortricolor.fits\n",
      "/orange/adamginsburg/jwst/cloudc/images/F405_reproj_merged-fortricolor.fits\n",
      "/orange/adamginsburg/jwst/cloudc/images/F410_reproj_merged-fortricolor.fits\n",
      "/orange/adamginsburg/jwst/cloudc/images/F466_reproj_merged-fortricolor.fits\n"
     ]
    }
   ],
   "source": [
    "ls /orange/adamginsburg/jwst/cloudc/images/*merged-fortricolor.fits"
   ]
  },
  {
   "cell_type": "markdown",
   "id": "d45f0537-35c6-47d9-8502-1ed046222f8c",
   "metadata": {},
   "source": [
    "# F405N and F466N"
   ]
  },
  {
   "cell_type": "code",
   "execution_count": 4,
   "id": "362f1281-1546-45a2-9900-22a815512724",
   "metadata": {
    "tags": []
   },
   "outputs": [],
   "source": [
    "rgb_withstars = np.array(\n",
    "      [\n",
    "       fits.getdata(f'{basepath}/images/F466_reproj_merged-fortricolor.fits'),\n",
    "       fits.getdata(f'{basepath}/images/F405_reproj_merged-fortricolor.fits'),\n",
    "      ]\n",
    ").swapaxes(0,2).swapaxes(0,1)"
   ]
  },
  {
   "cell_type": "code",
   "execution_count": 5,
   "id": "df73c270-4e38-4651-b03c-d2ff84eb6116",
   "metadata": {
    "tags": []
   },
   "outputs": [],
   "source": [
    "#AVM = pyavm.AVM.from_header(fits.getheader(f'{basepath}/images/F466_minus_F410cont_refitted466wcsto410_merged_destarred6.fits'))\n",
    "AVM = pyavm.AVM.from_header(fits.getheader(f'{basepath}/images/F405_reproj_merged-fortricolor.fits'))"
   ]
  },
  {
   "cell_type": "code",
   "execution_count": null,
   "id": "e88d491e-e8e1-4b28-9166-a1fe3504c801",
   "metadata": {
    "tags": []
   },
   "outputs": [
    {
     "name": "stderr",
     "output_type": "stream",
     "text": [
      "Clipping input data to the valid range for imshow with RGB data ([0..1] for floats or [0..255] for integers).\n"
     ]
    }
   ],
   "source": [
    "narrowsum_withstars = rgb_withstars[:,:,0] + rgb_withstars[:,:,1]\n",
    "rgb_scaled = np.array([\n",
    "                       simple_norm(rgb_withstars[:,:,0], stretch='asinh', min_cut=-1, max_cut=90)(rgb_withstars[:,:,0]),\n",
    "                       simple_norm(narrowsum_withstars,  stretch='asinh', min_cut=-2, max_cut=210)(narrowsum_withstars),\n",
    "                       simple_norm(rgb_withstars[:,:,1], stretch='asinh', min_cut=-1, max_cut=120)(rgb_withstars[:,:,1]),\n",
    "]).swapaxes(0,2).swapaxes(0,1)\n",
    "#hsv = rgb_to_hsv(rgb_scaled)\n",
    "#hsv[:,:,0] += -0.35  # 0.25 = 90/360\n",
    "#hsv[:,:,0] = hsv[:,:,0] % 1 \n",
    "#rgb_scaled = hsv_to_rgb(hsv)\n",
    "plt.figure(figsize=(24,10))\n",
    "plt.imshow(rgb_scaled, origin='lower')\n",
    "plt.xticks([]);\n",
    "plt.yticks([]);\n",
    "\n",
    "outfn = f\"{basepath}/images/cloudcJWST_merged_longwave_narrowband_rotated_withstars.png\"\n",
    "save_rgb(rgb_scaled.swapaxes(0,1), outfn, flip=1)\n",
    "AVM.embed(outfn, outfn)"
   ]
  },
  {
   "cell_type": "markdown",
   "id": "0066316e-51f2-4f91-9e8a-4fdecc51ca97",
   "metadata": {},
   "source": [
    "# F405N and F410M"
   ]
  },
  {
   "cell_type": "code",
   "execution_count": 5,
   "id": "6e566076-3c63-440d-be68-671a31f0361e",
   "metadata": {
    "tags": []
   },
   "outputs": [
    {
     "name": "stdout",
     "output_type": "stream",
     "text": [
      "/orange/adamginsburg/jwst/cloudc/images/F182_reproj_merged-fortricolor.fits\n",
      "/orange/adamginsburg/jwst/cloudc/images/F187_reproj_merged-fortricolor.fits\n",
      "/orange/adamginsburg/jwst/cloudc/images/F212_reproj_merged-fortricolor.fits\n",
      "/orange/adamginsburg/jwst/cloudc/images/F405_reproj_merged-fortricolor.fits\n",
      "/orange/adamginsburg/jwst/cloudc/images/F410_reproj_merged-fortricolor.fits\n",
      "/orange/adamginsburg/jwst/cloudc/images/F466_reproj_merged-fortricolor.fits\n"
     ]
    }
   ],
   "source": [
    "ls /orange/adamginsburg/jwst/cloudc/images/*fortricolor.fits"
   ]
  },
  {
   "cell_type": "code",
   "execution_count": 6,
   "id": "965dbfb9-9a84-4a45-a324-4988b99ed621",
   "metadata": {
    "tags": []
   },
   "outputs": [],
   "source": [
    "rgb_withstars = np.array(\n",
    "      [\n",
    "       fits.getdata(f'{basepath}/images/F410_reproj_merged-fortricolor.fits'),\n",
    "       fits.getdata(f'{basepath}/images/F405_reproj_merged-fortricolor.fits'),\n",
    "      ]\n",
    ").swapaxes(0,2).swapaxes(0,1)"
   ]
  },
  {
   "cell_type": "code",
   "execution_count": 7,
   "id": "731a246f-40f2-4eb7-b04d-05e9c39d6bd3",
   "metadata": {
    "tags": []
   },
   "outputs": [],
   "source": [
    "AVM = pyavm.AVM.from_header(fits.getheader(f'{basepath}/images/F405_reproj_merged-fortricolor.fits'))"
   ]
  },
  {
   "cell_type": "code",
   "execution_count": null,
   "id": "4ed87a96-04b4-4e08-ba26-d45b42d3ef89",
   "metadata": {
    "tags": []
   },
   "outputs": [
    {
     "name": "stderr",
     "output_type": "stream",
     "text": [
      "Clipping input data to the valid range for imshow with RGB data ([0..1] for floats or [0..255] for integers).\n"
     ]
    }
   ],
   "source": [
    "narrowsum_withstars = rgb_withstars[:,:,0] + rgb_withstars[:,:,1]\n",
    "rgb_scaled = np.array([\n",
    "                       simple_norm(rgb_withstars[:,:,0], stretch='asinh', min_cut=-1, max_cut=90)(rgb_withstars[:,:,0]),\n",
    "                       simple_norm(narrowsum_withstars,  stretch='asinh', min_cut=-2, max_cut=210)(narrowsum_withstars),\n",
    "                       simple_norm(rgb_withstars[:,:,1], stretch='asinh', min_cut=-1, max_cut=120)(rgb_withstars[:,:,1]),\n",
    "]).swapaxes(0,2).swapaxes(0,1)\n",
    "#hsv = rgb_to_hsv(rgb_scaled)\n",
    "#hsv[:,:,0] += -0.35  # 0.25 = 90/360\n",
    "#hsv[:,:,0] = hsv[:,:,0] % 1 \n",
    "#rgb_scaled = hsv_to_rgb(hsv)\n",
    "plt.figure(figsize=(24,10))\n",
    "plt.imshow(rgb_scaled, origin='lower')\n",
    "plt.xticks([]);\n",
    "plt.yticks([]);\n",
    "\n",
    "#outfn = f\"{basepath}/images/cloudcJWST_merged_f212-f405_rotated_withstars.png\"\n",
    "#save_rgb(rgb_scaled.swapaxes(0,1), outfn, flip=1)\n",
    "#AVM.embed(outfn, outfn)"
   ]
  },
  {
   "cell_type": "code",
   "execution_count": null,
   "id": "7cb1317d-ac7f-46b9-a42f-bfdaa28102d3",
   "metadata": {},
   "outputs": [],
   "source": []
  }
 ],
 "metadata": {
  "kernelspec": {
   "display_name": "Python 3 (ipykernel)",
   "language": "python",
   "name": "python3"
  },
  "language_info": {
   "codemirror_mode": {
    "name": "ipython",
    "version": 3
   },
   "file_extension": ".py",
   "mimetype": "text/x-python",
   "name": "python",
   "nbconvert_exporter": "python",
   "pygments_lexer": "ipython3",
   "version": "3.9.17"
  }
 },
 "nbformat": 4,
 "nbformat_minor": 5
}
