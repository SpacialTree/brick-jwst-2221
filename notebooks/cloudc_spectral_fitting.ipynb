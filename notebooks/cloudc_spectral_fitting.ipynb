{
 "cells": [
  {
   "cell_type": "code",
   "execution_count": 1,
   "metadata": {},
   "outputs": [
    {
     "name": "stderr",
     "output_type": "stream",
     "text": [
      "Pandas requires version '1.3.6' or newer of 'bottleneck' (version '1.3.5' currently installed).\n"
     ]
    },
    {
     "name": "stdout",
     "output_type": "stream",
     "text": [
      "g++ -std=c++11   -Ofast -fopenmp -DNDEBUG -DHAVE_INLINE -MMD -MP -fPIC   -c -o pwind_geom.o pwind_geom.cpp\n"
     ]
    },
    {
     "name": "stderr",
     "output_type": "stream",
     "text": [
      "In file included from pwind_geom.cpp:2:\n",
      "pwind_util.H:9:10: fatal error: gsl/gsl_sf_erf.h: No such file or directory\n",
      "    9 | #include <gsl/gsl_sf_erf.h>\n",
      "      |          ^~~~~~~~~~~~~~~~~~\n",
      "compilation terminated.\n",
      "make: *** [<builtin>: pwind_geom.o] Error 1\n"
     ]
    }
   ],
   "source": [
    "import matplotlib.pyplot as plt\n",
    "import pyspeckit \n",
    "\n",
    "from astropy.io import fits\n",
    "from astropy.wcs import WCS\n",
    "\n",
    "from astropy.nddata import Cutout2D\n",
    "from astropy.coordinates import SkyCoord\n",
    "from astropy import units as u\n",
    "import numpy as np\n",
    "\n",
    "from spectral_cube import SpectralCube\n",
    "from spectral_cube import Projection"
   ]
  },
  {
   "cell_type": "code",
   "execution_count": 2,
   "metadata": {},
   "outputs": [],
   "source": [
    "pos_cloudc1 = SkyCoord('17:46:21.3048683891', '-28:35:33.1211282499', unit=(u.hourangle, u.deg))\n",
    "pos_cloudc2 = SkyCoord('17:46:18.3316118680', '-28:34:48.4717811920', unit=(u.hourangle, u.deg))\n",
    "pos_cloudd = SkyCoord('17:46:22.6563371259', '-28:33:27.5405071803', unit=(u.hourangle, u.deg))\n",
    "pos_filament = SkyCoord('17:46:20.9063719501', '-28:37:51.6942550990', unit=(u.hourangle, u.deg))"
   ]
  },
  {
   "cell_type": "code",
   "execution_count": 4,
   "metadata": {},
   "outputs": [],
   "source": [
    "rad_cloudc1 = 15*u.arcsec\n",
    "rad_cloudc2 = 15*u.arcsec\n",
    "rad_cloudd = 30*u.arcsec\n",
    "rad_filament = 1.5*u.arcmin"
   ]
  },
  {
   "cell_type": "code",
   "execution_count": 3,
   "metadata": {},
   "outputs": [
    {
     "name": "stderr",
     "output_type": "stream",
     "text": [
      "File may have been truncated: actual file length (989520002880) is smaller than the expected size (989520004800)\n",
      "Could not memory map array with mode='readonly', falling back to mode='denywrite', which means that the array will be read-only\n"
     ]
    }
   ],
   "source": [
    "cube = SpectralCube.read('/orange/adamginsburg/ACES/mosaics/cubes/HNCO_7m12mTP_CubeMosaic.fits')"
   ]
  },
  {
   "cell_type": "code",
   "execution_count": 7,
   "metadata": {},
   "outputs": [
    {
     "name": "stderr",
     "output_type": "stream",
     "text": [
      "This function (<function BaseSpectralCube.mean at 0x145e1be7b520>) requires loading the entire cube into memory and may therefore be slow.\n"
     ]
    }
   ],
   "source": [
    "from spectral_cube import SpectralCube\n",
    "from regions import CircleSkyRegion\n",
    "\n",
    "# Create a circular region around pos_cloudc1 with the given radius\n",
    "circle_region = CircleSkyRegion(center=pos_cloudc1, radius=rad_cloudc1)\n",
    "\n",
    "# Extract the subcube around pos_cloudc1 with the given radius\n",
    "subcube = cube.subcube_from_regions([circle_region], minimize=False)\n",
    "\n",
    "# Compute the average spectrum along the spectral axis\n",
    "average_spectrum = subcube.mean(axis=(1, 2))"
   ]
  },
  {
   "cell_type": "code",
   "execution_count": null,
   "metadata": {},
   "outputs": [
    {
     "data": {
      "text/plain": [
       "<CircleSkyRegion(center=<SkyCoord (ICRS): (ra, dec) in deg\n",
       "    (266.58877028, -28.59253365)>, radius=15.0 arcsec)>"
      ]
     },
     "execution_count": 6,
     "metadata": {},
     "output_type": "execute_result"
    }
   ],
   "source": [
    "plt.plot(average_spectrum)"
   ]
  },
  {
   "cell_type": "code",
   "execution_count": null,
   "metadata": {},
   "outputs": [],
   "source": []
  }
 ],
 "metadata": {
  "kernelspec": {
   "display_name": "py310",
   "language": "python",
   "name": "py310"
  },
  "language_info": {
   "codemirror_mode": {
    "name": "ipython",
    "version": 3
   },
   "file_extension": ".py",
   "mimetype": "text/x-python",
   "name": "python",
   "nbconvert_exporter": "python",
   "pygments_lexer": "ipython3",
   "version": "3.10.8"
  }
 },
 "nbformat": 4,
 "nbformat_minor": 2
}
