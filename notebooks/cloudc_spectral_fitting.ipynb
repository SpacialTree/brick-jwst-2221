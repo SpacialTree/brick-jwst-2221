{
 "cells": [
  {
   "cell_type": "code",
   "execution_count": null,
   "metadata": {},
   "outputs": [],
   "source": [
    "import matplotlib.pyplot as plt\n",
    "#import pyspeckit \n",
    "\n",
    "from astropy.io import fits\n",
    "from astropy.wcs import WCS\n",
    "\n",
    "from astropy.nddata import Cutout2D\n",
    "from astropy.coordinates import SkyCoord\n",
    "from astropy import units as u\n",
    "import numpy as np\n",
    "\n",
    "from spectral_cube import SpectralCube\n",
    "from spectral_cube import Projection\n",
    "\n",
    "from specutils import Spectrum1D\n",
    "from specutils.manipulation import extract_region\n",
    "from specutils.manipulation import noise_region_uncertainty\n",
    "from specutils import Spectrum1D, SpectralRegion\n",
    "from astropy.modeling import models\n",
    "from specutils.fitting import find_lines_threshold\n",
    "import specutils\n",
    "from specutils.fitting import fit_lines\n",
    "\n",
    "import regions\n"
   ]
  },
  {
   "cell_type": "code",
   "execution_count": 1,
   "metadata": {},
   "outputs": [
    {
     "name": "stdout",
     "output_type": "stream",
     "text": [
      "test\n"
     ]
    }
   ],
   "source": [
    "print('test')"
   ]
  },
  {
   "cell_type": "code",
   "execution_count": null,
   "metadata": {},
   "outputs": [],
   "source": [
    "pos_cloudc1 = SkyCoord('17:46:21.3048683891', '-28:35:33.1211282499', unit=(u.hourangle, u.deg))\n",
    "pos_cloudc2 = SkyCoord('17:46:18.3316118680', '-28:34:48.4717811920', unit=(u.hourangle, u.deg))\n",
    "pos_cloudd = SkyCoord('17:46:22.6563371259', '-28:33:27.5405071803', unit=(u.hourangle, u.deg))\n",
    "pos_filament = SkyCoord('17:46:20.9063719501', '-28:37:51.6942550990', unit=(u.hourangle, u.deg))"
   ]
  },
  {
   "cell_type": "code",
   "execution_count": null,
   "metadata": {},
   "outputs": [],
   "source": [
    "rad_cloudc1 = 15*u.arcsec\n",
    "rad_cloudc2 = 15*u.arcsec\n",
    "rad_cloudd = 30*u.arcsec\n",
    "rad_filament = 1.5*u.arcmin"
   ]
  },
  {
   "cell_type": "code",
   "execution_count": null,
   "metadata": {},
   "outputs": [],
   "source": [
    "def plot_spectrum(spectrum, ax=None, **kwargs):\n",
    "    if ax == None:\n",
    "        ax = plt.subplot(111)\n",
    "    ax.step(spectrum.spectral_axis.to(u.km/u.s), spectrum.flux, where='mid', **kwargs)\n",
    "    ax.set_xlabel(\"Velocity (\"+str(spectrum.spectral_axis.to(u.km/u.s).unit)+\")\")\n",
    "    ax.set_ylabel(\"Brightness Temperature (\"+str(spectrum.flux.unit)+\")\")\n",
    "    return ax"
   ]
  },
  {
   "cell_type": "code",
   "execution_count": null,
   "metadata": {},
   "outputs": [],
   "source": [
    "def get_cutout(filename, position, l, w):\n",
    "    try: \n",
    "        hdu = fits.open(filename, ext='SCI')[0]\n",
    "    except: \n",
    "        hdu = fits.open(filename)[0]\n",
    "    data = hdu.data\n",
    "    head = hdu.header\n",
    "\n",
    "    ww = WCS(head)\n",
    "    size = (l, w)\n",
    "\n",
    "    cutout = Cutout2D(data, position=position, size=size, wcs=ww)\n",
    "    return cutout\n",
    "\n",
    "def get_cutout_405(position, l, w):\n",
    "    fn = '/orange/adamginsburg/jwst/cloudc/images/F405_reproj_merged-fortricolor.fits'\n",
    "    return get_cutout(fn, position, l, w)\n",
    "\n",
    "def get_cutout_circ(position, rad):\n",
    "    fn = '/orange/adamginsburg/jwst/cloudc/images/F405_reproj_merged-fortricolor.fits'\n",
    "    return get_cutout(fn, position, 3*rad, 3*rad)"
   ]
  },
  {
   "cell_type": "markdown",
   "metadata": {},
   "source": [
    "# Cloud C1 Spectrum"
   ]
  },
  {
   "cell_type": "markdown",
   "metadata": {},
   "source": [
    "## HNCO"
   ]
  },
  {
   "cell_type": "code",
   "execution_count": null,
   "metadata": {},
   "outputs": [],
   "source": [
    "spectrum_cloudc1 = Spectrum1D.read('/orange/adamginsburg/jwst/cloudc/alma/spectra/spectrum_cloudc1.fits')"
   ]
  },
  {
   "cell_type": "code",
   "execution_count": null,
   "metadata": {},
   "outputs": [],
   "source": [
    "ax = plt.subplot(111)\n",
    "ax.plot(spectrum_cloudc1.spectral_axis.to(u.km/u.s), spectrum_cloudc1.flux)\n",
    "\n",
    "ax.set_xlabel('Velocity (km/s)')\n",
    "ax.set_ylabel('Brightness Temperature (K)')"
   ]
  },
  {
   "cell_type": "code",
   "execution_count": null,
   "metadata": {},
   "outputs": [],
   "source": [
    "spectrum = spectrum_cloudc1"
   ]
  },
  {
   "cell_type": "code",
   "execution_count": null,
   "metadata": {},
   "outputs": [],
   "source": [
    "from matplotlib import pyplot as plt\n",
    "plt.plot(spectrum.spectral_axis, spectrum.flux) \n",
    "plt.xlabel('Spectral Axis ({})'.format(spectrum.spectral_axis.unit)) \n",
    "plt.ylabel('Flux Axis({})'.format(spectrum.flux.unit)) \n",
    "plt.grid(True)"
   ]
  },
  {
   "cell_type": "code",
   "execution_count": null,
   "metadata": {},
   "outputs": [],
   "source": [
    "noise_region = SpectralRegion(50*u.km/u.s, 99*u.km/u.s)\n",
    "spectrum = noise_region_uncertainty(spectrum, noise_region)"
   ]
  },
  {
   "cell_type": "code",
   "execution_count": null,
   "metadata": {},
   "outputs": [],
   "source": [
    "lines = find_lines_threshold(spectrum, noise_factor=3)  \n",
    "lines[lines['line_type'] == 'emission']  "
   ]
  },
  {
   "cell_type": "code",
   "execution_count": null,
   "metadata": {},
   "outputs": [],
   "source": [
    "from matplotlib import pyplot as plt\n",
    "ax = plt.subplot(111)\n",
    "ax.plot(spectrum.spectral_axis.to(u.km/u.s), spectrum.flux) \n",
    "ax.set_xlabel('Spectral Axis ({})'.format(spectrum.spectral_axis.to(u.km/u.s).unit)) \n",
    "ax.set_ylabel('Flux Axis({})'.format(spectrum.flux.unit)) \n",
    "\n",
    "for line in lines:\n",
    "    ax.axvline(line['line_center'].to(u.km/u.s).value, color='k', linestyle='--')\n",
    "\n",
    "ax.set_xlim(left=0, right=75)"
   ]
  },
  {
   "cell_type": "code",
   "execution_count": null,
   "metadata": {},
   "outputs": [],
   "source": [
    "g_init = models.Gaussian1D(amplitude=2.5*u.K, mean=40*u.km/u.s, stddev=10*u.km/u.s)\n",
    "g_fit = fit_lines(spectrum, g_init)\n",
    "y_fit = g_fit(spectrum.spectral_axis)"
   ]
  },
  {
   "cell_type": "code",
   "execution_count": null,
   "metadata": {},
   "outputs": [],
   "source": [
    "cutout_c1 = get_cutout_circ(pos_cloudc1, rad_cloudc1)\n",
    "reg_c1 = regions.CircleSkyRegion(center=pos_cloudc1, radius=rad_cloudc1)"
   ]
  },
  {
   "cell_type": "code",
   "execution_count": null,
   "metadata": {},
   "outputs": [],
   "source": [
    "fig = plt.figure(figsize=(10, 5))\n",
    "ax = plt.subplot(121)\n",
    "ax.plot(spectrum.spectral_axis.to(u.km/u.s), spectrum.flux, label='Original Spectrum') \n",
    "ax.plot(spectrum.spectral_axis.to(u.km/u.s), y_fit, label='Gaussian Fit')\n",
    "ax.set_xlabel('Spectral Axis ({})'.format(spectrum.spectral_axis.to(u.km/u.s).unit)) \n",
    "ax.set_ylabel('Flux Axis({})'.format(spectrum.flux.unit)) \n",
    "\n",
    "ax.set_xlim(left=0, right=75)\n",
    "ax.legend()\n",
    "ax.set_title('HNCO 4-3')\n",
    "\n",
    "\n",
    "ax1 = plt.subplot(122, projection=cutout_c1.wcs)\n",
    "ax1.imshow(cutout_c1.data, cmap='Greys', vmin=0, vmax=25)\n",
    "pix_reg = reg_c1.to_pixel(wcs=cutout_c1.wcs)\n",
    "pix_reg.plot(color='r')\n",
    "ax1.set_xlabel(\"Right Ascension\")\n",
    "ax1.set_ylabel(\"Declination\")\n",
    "\n",
    "plt.tight_layout()"
   ]
  },
  {
   "cell_type": "code",
   "execution_count": null,
   "metadata": {},
   "outputs": [],
   "source": [
    "g_fit"
   ]
  },
  {
   "cell_type": "code",
   "execution_count": null,
   "metadata": {},
   "outputs": [],
   "source": [
    "specutils.analysis.fwhm(Spectrum1D(flux=y_fit, spectral_axis=spectrum.spectral_axis)).to(u.km/u.s)"
   ]
  },
  {
   "cell_type": "markdown",
   "metadata": {},
   "source": [
    "# Cloud C2 Spectrum"
   ]
  },
  {
   "cell_type": "code",
   "execution_count": null,
   "metadata": {},
   "outputs": [],
   "source": [
    "spectrum_cloudc2 = Spectrum1D.read('/orange/adamginsburg/jwst/cloudc/alma/spectra/spectrum_cloudc2.fits')"
   ]
  },
  {
   "cell_type": "code",
   "execution_count": null,
   "metadata": {},
   "outputs": [],
   "source": [
    "ax = plot_spectrum(spectrum_cloudc2)"
   ]
  },
  {
   "cell_type": "code",
   "execution_count": null,
   "metadata": {},
   "outputs": [],
   "source": [
    "noise_region = SpectralRegion(50*u.km/u.s, 99*u.km/u.s)\n",
    "spectrum = noise_region_uncertainty(spectrum_cloudc2, noise_region)"
   ]
  },
  {
   "cell_type": "code",
   "execution_count": null,
   "metadata": {},
   "outputs": [],
   "source": [
    "lines = find_lines_threshold(spectrum, noise_factor=3)  \n",
    "lines[lines['line_type'] == 'emission']  "
   ]
  },
  {
   "cell_type": "code",
   "execution_count": null,
   "metadata": {},
   "outputs": [],
   "source": [
    "ax = plot_spectrum(spectrum_cloudc2)\n",
    "for line in lines:\n",
    "    ax.axvline(line['line_center'].to(u.km/u.s).value, color='k', linestyle='--')\n",
    "\n",
    "ax.set_xlim(left=-50, right=75)"
   ]
  },
  {
   "cell_type": "code",
   "execution_count": null,
   "metadata": {},
   "outputs": [],
   "source": [
    "g1_init = models.Gaussian1D(amplitude=2.5*u.K, mean=10*u.km/u.s, stddev=5*u.km/u.s)\n",
    "g2_init = models.Gaussian1D(amplitude=1.5*u.K, mean=0*u.km/u.s, stddev=5*u.km/u.s)\n",
    "g3_init = models.Gaussian1D(amplitude=1.4*u.K, mean=-10*u.km/u.s, stddev=5*u.km/u.s)\n",
    "g4_init = models.Gaussian1D(amplitude=1.4*u.K, mean=10*u.km/u.s, stddev=20*u.km/u.s)\n",
    "g1234_fit = fit_lines(spectrum_cloudc2, g1_init+g2_init+g3_init+g4_init)\n",
    "y_fit = g1234_fit(spectrum_cloudc2.spectral_axis)"
   ]
  },
  {
   "cell_type": "code",
   "execution_count": null,
   "metadata": {},
   "outputs": [],
   "source": [
    "cutout_c2 = get_cutout_circ(pos_cloudc2, rad_cloudc2)\n",
    "reg_c2 = regions.CircleSkyRegion(center=pos_cloudc2, radius=rad_cloudc2)"
   ]
  },
  {
   "cell_type": "code",
   "execution_count": null,
   "metadata": {},
   "outputs": [],
   "source": [
    "fig = plt.figure(figsize=(10, 5))\n",
    "ax = plt.subplot(121)\n",
    "ax = plot_spectrum(spectrum_cloudc2, ax=ax, label='Original Spectrum')\n",
    "plot_spectrum(Spectrum1D(flux=y_fit, spectral_axis=spectrum_cloudc2.spectral_axis), ax=ax, label='Gaussian Fit')\n",
    "\n",
    "ax.set_xlim(left=-50, right=75)\n",
    "ax.legend()\n",
    "ax.set_title('HNCO 4-3')\n",
    "\n",
    "\n",
    "ax1 = plt.subplot(122, projection=cutout_c2.wcs)\n",
    "ax1.imshow(cutout_c2.data, cmap='Greys', vmin=0, vmax=25)\n",
    "pix_reg = reg_c2.to_pixel(wcs=cutout_c2.wcs)\n",
    "pix_reg.plot(color='r')\n",
    "ax1.set_xlabel(\"Right Ascension\")\n",
    "ax1.set_ylabel(\"Declination\")\n",
    "\n",
    "plt.tight_layout()"
   ]
  },
  {
   "cell_type": "code",
   "execution_count": null,
   "metadata": {},
   "outputs": [],
   "source": []
  },
  {
   "cell_type": "markdown",
   "metadata": {},
   "source": [
    "# Spectrum Cloud D"
   ]
  },
  {
   "cell_type": "code",
   "execution_count": null,
   "metadata": {},
   "outputs": [],
   "source": [
    "spectrum_cloudd = Spectrum1D.read('/orange/adamginsburg/jwst/cloudc/alma/spectra/spectrum_cloudd.fits')"
   ]
  },
  {
   "cell_type": "code",
   "execution_count": null,
   "metadata": {},
   "outputs": [],
   "source": [
    "ax = plot_spectrum(spectrum_cloudd)"
   ]
  },
  {
   "cell_type": "code",
   "execution_count": null,
   "metadata": {},
   "outputs": [],
   "source": [
    "noise_region = SpectralRegion(50*u.km/u.s, 99*u.km/u.s)\n",
    "spectrum = noise_region_uncertainty(spectrum_cloudd, noise_region)"
   ]
  },
  {
   "cell_type": "code",
   "execution_count": null,
   "metadata": {},
   "outputs": [],
   "source": [
    "lines = find_lines_threshold(spectrum, noise_factor=3)  \n",
    "lines[lines['line_type'] == 'emission']  "
   ]
  },
  {
   "cell_type": "code",
   "execution_count": null,
   "metadata": {},
   "outputs": [],
   "source": [
    "ax = plot_spectrum(spectrum_cloudd)\n",
    "for line in lines:\n",
    "    ax.axvline(line['line_center'].to(u.km/u.s).value, color='k', linestyle='--')\n",
    "\n",
    "ax.set_xlim(left=-50, right=75)"
   ]
  },
  {
   "cell_type": "code",
   "execution_count": null,
   "metadata": {},
   "outputs": [],
   "source": [
    "g1_init = models.Gaussian1D(amplitude=2*u.K, mean=25*u.km/u.s, stddev=5*u.km/u.s)\n",
    "g2_init = models.Gaussian1D(amplitude=1.7*u.K, mean=18*u.km/u.s, stddev=10*u.km/u.s)\n",
    "g3_init = models.Gaussian1D(amplitude=0.5*u.K, mean=0*u.km/u.s, stddev=10*u.km/u.s)\n",
    "#g4_init = models.Gaussian1D(amplitude=1.25*u.K, mean=15*u.km/u.s, stddev=10*u.km/u.s)\n",
    "g1234_fit = fit_lines(spectrum_cloudd, g1_init+g2_init+g3_init)#+g4_init)\n",
    "y_fit = g1234_fit(spectrum_cloudd.spectral_axis)"
   ]
  },
  {
   "cell_type": "code",
   "execution_count": null,
   "metadata": {},
   "outputs": [],
   "source": [
    "cutout_d = get_cutout_circ(pos_cloudd, rad_cloudd)\n",
    "reg_d = regions.CircleSkyRegion(center=pos_cloudd, radius=rad_cloudd)"
   ]
  },
  {
   "cell_type": "code",
   "execution_count": null,
   "metadata": {},
   "outputs": [],
   "source": [
    "fig = plt.figure(figsize=(10, 5))\n",
    "ax = plt.subplot(121)\n",
    "ax = plot_spectrum(spectrum_cloudd, ax=ax, label='Original Spectrum')\n",
    "plot_spectrum(Spectrum1D(flux=y_fit, spectral_axis=spectrum_cloudd.spectral_axis), ax=ax, label='Gaussian Fit')\n",
    "\n",
    "ax.set_xlim(left=-50, right=75)\n",
    "ax.legend()\n",
    "ax.set_title('HNCO 4-3')\n",
    "\n",
    "ax1 = plt.subplot(122, projection=cutout_d.wcs)\n",
    "ax1.imshow(cutout_d.data, cmap='Greys', vmin=0, vmax=25)\n",
    "pix_reg = reg_d.to_pixel(wcs=cutout_d.wcs)\n",
    "pix_reg.plot(color='r')\n",
    "ax1.set_xlabel(\"Right Ascension\")\n",
    "ax1.set_ylabel(\"Declination\")\n",
    "\n",
    "\n",
    "plt.tight_layout()"
   ]
  },
  {
   "cell_type": "code",
   "execution_count": null,
   "metadata": {},
   "outputs": [],
   "source": [
    "g1234_fit.mean_0, g1234_fit.mean_1, g1234_fit.mean_2#, g1234_fit.mean_3"
   ]
  },
  {
   "cell_type": "code",
   "execution_count": null,
   "metadata": {},
   "outputs": [],
   "source": [
    "g1234_fit.stddev_0*2, g1234_fit.stddev_1*2, g1234_fit.stddev_2*2#, g1234_fit.stddev_3"
   ]
  },
  {
   "cell_type": "markdown",
   "metadata": {},
   "source": [
    "# Filament"
   ]
  },
  {
   "cell_type": "markdown",
   "metadata": {},
   "source": [
    "## CO"
   ]
  },
  {
   "cell_type": "code",
   "execution_count": null,
   "metadata": {},
   "outputs": [],
   "source": [
    "spectrum_filament_co = Spectrum1D.read('/orange/adamginsburg/jwst/cloudc/alma/spectra/spectrum_filament_12CO-BEARS.fits')"
   ]
  },
  {
   "cell_type": "code",
   "execution_count": null,
   "metadata": {},
   "outputs": [],
   "source": [
    "ax = plot_spectrum(spectrum_filament_co, label='12CO-BEARS')\n",
    "ax.set_xlim(left=-100, right=0)"
   ]
  },
  {
   "cell_type": "code",
   "execution_count": null,
   "metadata": {},
   "outputs": [],
   "source": [
    "fig = plt.figure(figsize=(6, 5))#, dpi=250)\n",
    "ax = plt.subplot(111)\n",
    "ax = plot_spectrum(spectrum_filament_co, label=r'$^{12}$CO 1-0', ax=ax)\n",
    "#ax.set_xlim(left=-100, right=100)\n",
    "ax.axvspan(-62, -50, color='gray', alpha=0.3, label='Filament')\n",
    "ax.legend()\n",
    "plt.tight_layout()\n",
    "\n",
    "#plt.savefig('/orange/adamginsburg/jwst/cloudc/figures/filament_spectrum_12CO.pdf', bbox_inches='tight')"
   ]
  },
  {
   "cell_type": "code",
   "execution_count": null,
   "metadata": {},
   "outputs": [],
   "source": [
    "g1_init = models.Gaussian1D(amplitude=8*u.K, mean=-55*u.km/u.s, stddev=1*u.km/u.s)\n",
    "g1234_fit = fit_lines(spectrum_filament_co, g1_init)\n",
    "y_fit = g1234_fit(spectrum_filament_co.spectral_axis)"
   ]
  },
  {
   "cell_type": "code",
   "execution_count": null,
   "metadata": {},
   "outputs": [],
   "source": [
    "fig = plt.figure(figsize=(6, 5))\n",
    "ax = plt.subplot(111)\n",
    "ax = plot_spectrum(spectrum_filament_co, ax=ax, label='Original Spectrum')\n",
    "plot_spectrum(Spectrum1D(flux=y_fit, spectral_axis=spectrum_filament_co.spectral_axis), ax=ax, label='Gaussian Fit')\n",
    "\n",
    "ax.set_xlim(left=-100, right=0)\n",
    "ax.legend()\n",
    "ax.set_title('Filament CO 1-0')"
   ]
  },
  {
   "cell_type": "code",
   "execution_count": null,
   "metadata": {},
   "outputs": [],
   "source": [
    "fig = plt.figure(figsize=(6, 5))\n",
    "ax = plt.subplot(111)\n",
    "ax = plot_spectrum(spectrum_filament_co, ax=ax, label=r'$^{12}$CO 2-1')\n",
    "plot_spectrum(Spectrum1D(flux=y_fit, spectral_axis=spectrum_filament_co.spectral_axis), ax=ax, label='Gaussian Fit')\n",
    "\n",
    "#ax.set_xlim(left=-100, right=0)\n",
    "ax.axvspan(-62, -50, color='gray', alpha=0.3, label='Filament')\n",
    "ax.legend()\n",
    "#ax.set_title('Filament CO 1-0')"
   ]
  },
  {
   "cell_type": "code",
   "execution_count": null,
   "metadata": {},
   "outputs": [],
   "source": [
    "g1234_fit.fwhm"
   ]
  },
  {
   "cell_type": "markdown",
   "metadata": {},
   "source": [
    "## HNCO"
   ]
  },
  {
   "cell_type": "code",
   "execution_count": null,
   "metadata": {},
   "outputs": [],
   "source": [
    "spectrum_filament_hnco = Spectrum1D.read('/orange/adamginsburg/jwst/cloudc/alma/spectra/spectrum_filament.fits')"
   ]
  },
  {
   "cell_type": "code",
   "execution_count": null,
   "metadata": {},
   "outputs": [],
   "source": [
    "ax = plot_spectrum(spectrum_filament_hnco, label='HNCO 4-3')\n",
    "ax.set_xlim(left=-80, right=-20)\n",
    "ax.set_ylim(top=0.05)"
   ]
  },
  {
   "cell_type": "code",
   "execution_count": null,
   "metadata": {},
   "outputs": [],
   "source": [
    "g1_init = models.Gaussian1D(amplitude=0.2*u.K, mean=-55*u.km/u.s, stddev=1*u.km/u.s)\n",
    "g1234_fit = fit_lines(spectrum_filament_hnco, g1_init)\n",
    "y_fit = g1234_fit(spectrum_filament_hnco.spectral_axis)"
   ]
  },
  {
   "cell_type": "code",
   "execution_count": null,
   "metadata": {},
   "outputs": [],
   "source": [
    "fig = plt.figure(figsize=(6, 5))\n",
    "ax = plt.subplot(111)\n",
    "ax = plot_spectrum(spectrum_filament_hnco, ax=ax, label='Original Spectrum')\n",
    "plot_spectrum(Spectrum1D(flux=y_fit, spectral_axis=spectrum_filament_hnco.spectral_axis), ax=ax, label='Gaussian Fit')\n",
    "\n",
    "ax.set_xlim(left=-80, right=-20)\n",
    "ax.set_ylim(top=0.05)\n",
    "ax.legend()\n",
    "ax.set_title('Filament HNCO 4-3')"
   ]
  },
  {
   "cell_type": "code",
   "execution_count": null,
   "metadata": {},
   "outputs": [],
   "source": [
    "g1234_fit.fwhm"
   ]
  },
  {
   "cell_type": "code",
   "execution_count": null,
   "metadata": {},
   "outputs": [],
   "source": []
  },
  {
   "cell_type": "code",
   "execution_count": null,
   "metadata": {},
   "outputs": [],
   "source": []
  }
 ],
 "metadata": {
  "kernelspec": {
   "display_name": "Python 3",
   "language": "python",
   "name": "python3"
  },
  "language_info": {
   "codemirror_mode": {
    "name": "ipython",
    "version": 3
   },
   "file_extension": ".py",
   "mimetype": "text/x-python",
   "name": "python",
   "nbconvert_exporter": "python",
   "pygments_lexer": "ipython3",
   "version": "3.10.8"
  }
 },
 "nbformat": 4,
 "nbformat_minor": 2
}
