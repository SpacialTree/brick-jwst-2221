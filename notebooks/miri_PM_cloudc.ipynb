{
 "cells": [
  {
   "cell_type": "code",
   "execution_count": 1,
   "id": "8b0baaf4-8730-4cbd-9780-58c0b77b241b",
   "metadata": {
    "tags": []
   },
   "outputs": [],
   "source": [
    "import os\n",
    "from astropy.io import fits\n",
    "from astropy.wcs import WCS\n",
    "from spectral_cube import SpectralCube\n",
    "import regions\n",
    "import radio_beam\n",
    "from astropy.coordinates import SkyCoord\n",
    "from astropy import units as u\n",
    "import pylab as pl"
   ]
  },
  {
   "cell_type": "code",
   "execution_count": null,
   "id": "106c6b56-c4ae-47c4-92c6-c6940a3fee6c",
   "metadata": {},
   "outputs": [],
   "source": []
  },
  {
   "cell_type": "code",
   "execution_count": null,
   "id": "f3260d02-c3d3-4c72-b363-8ce768f4d20a",
   "metadata": {},
   "outputs": [],
   "source": [
    "pmq = Vizier.query_region(coord, radius=15*u.arcsec, catalog='J/A+A/662/A11/tablea1')[0] ### This one??? \n"
   ]
  },
  {
   "cell_type": "code",
   "execution_count": null,
   "id": "0935954d-a304-431f-942a-c23b3ce1e030",
   "metadata": {},
   "outputs": [],
   "source": [
    "# Show continuum on NIR HST\n",
    "fh = fits.open('/orange/adamginsburg/cmz/hst_paschenalpha/hlsp_hpsgc_hst_nicmos-nic3_gc_f190n_v1_img.fits')\n",
    "fh[0].header['CTYPE1'] = 'GLON-TAN'\n",
    "fh[0].header['CTYPE2'] = 'GLAT-TAN'\n",
    "nirwcs = WCS(fh[0].header)\n",
    "preg = region.to_pixel(nirwcs)\n",
    "msk = preg.to_mask()\n",
    "nirim = msk.cutout(fh[0].data.squeeze());\n",
    "slcs,_ = msk.get_overlap_slices(fh[0].data.squeeze().shape)\n",
    "\n",
    "fig = pl.figure()\n",
    "ax = pl.subplot(projection=nirwcs[slcs])\n",
    "#ax = pl.subplot(projection=contwcs_co)\n",
    "im = ax.imshow(nirim, cmap='gray_r', norm=simple_norm(nirim, stretch='log', max_percent=99.5, min_percent=1),\n",
    "               #transform=ax.get_transform(nirwcs[slcs]),\n",
    "              )\n",
    "ax.contour(contim.data, transform=ax.get_transform(contwcs),\n",
    "           levels=[0.0008,  0.0015, ]);\n",
    "ax.set_xlabel(\"Galactic Longitude\")\n",
    "ax.grid()\n",
    "ax.set_ylabel(\"Galactic Latitude\")\n",
    "ax.set_title(\"HST F190\")\n",
    "axlims = ax.axis()\n",
    "\n",
    "crdpm = SkyCoord(pmq['RAJ2000'], pmq['DEJ2000'], frame='fk5', unit=(u.deg, u.deg)).galactic\n",
    "#ax.scatter_coord(crdpm, marker='.', s=15)\n",
    "for row in pmq:\n",
    "    crdpm = SkyCoord(row['RAJ2000'], row['DEJ2000'], frame='fk5', unit=(u.deg, u.deg)).galactic\n",
    "    ax.arrow(crdpm.l.deg, crdpm.b.deg, row['pml']/36000, row['pmb']/36000,\n",
    "             width=1e-5,\n",
    "             color='r',\n",
    "             transform=ax.get_transform('world'))\n",
    "\n",
    "ax.axis(axlims)\n",
    "\n",
    "#fig.savefig('/orange/adamginsburg/ACES/broadline_sources/G0.025-0.073/HSTF190nir_continuum_withPM.pdf', bbox_inches='tight')"
   ]
  }
 ],
 "metadata": {
  "kernelspec": {
   "display_name": "Python 3 (ipykernel)",
   "language": "python",
   "name": "python3"
  },
  "language_info": {
   "codemirror_mode": {
    "name": "ipython",
    "version": 3
   },
   "file_extension": ".py",
   "mimetype": "text/x-python",
   "name": "python",
   "nbconvert_exporter": "python",
   "pygments_lexer": "ipython3",
   "version": "3.9.17"
  }
 },
 "nbformat": 4,
 "nbformat_minor": 5
}
