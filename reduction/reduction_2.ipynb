{
 "cells": [
  {
   "cell_type": "code",
   "execution_count": 1,
   "id": "935f934e-fd7d-434e-b7ba-f4b364d17db4",
   "metadata": {
    "tags": []
   },
   "outputs": [
    {
     "ename": "SyntaxError",
     "evalue": "invalid syntax (align_to_catalogs.py, line 116)",
     "output_type": "error",
     "traceback": [
      "Traceback \u001b[0;36m(most recent call last)\u001b[0m:\n",
      "\u001b[0m  File \u001b[1;32m/blue/adamginsburg/adamginsburg/miniconda3/envs/python39savannah/lib/python3.9/site-packages/IPython/core/interactiveshell.py:3505\u001b[0m in \u001b[1;35mrun_code\u001b[0m\n    exec(code_obj, self.user_global_ns, self.user_ns)\u001b[0m\n",
      "\u001b[0;36m  Cell \u001b[0;32mIn[1], line 40\u001b[0;36m\n\u001b[0;31m    from align_to_catalogs import realign_to_vvv, merge_a_plus_b, retrieve_vvv\u001b[0;36m\n",
      "\u001b[0;36m  File \u001b[0;32m/blue/adamginsburg/adamginsburg/jwst/cloudc/reduction/brick-jwst-2221/reduction/align_to_catalogs.py:116\u001b[0;36m\u001b[0m\n\u001b[0;31m    <<<<<<< HEAD\u001b[0m\n\u001b[0m    ^\u001b[0m\n\u001b[0;31mSyntaxError\u001b[0m\u001b[0;31m:\u001b[0m invalid syntax\n"
     ]
    }
   ],
   "source": [
    "#!/usr/bin/env python\n",
    "from glob import glob\n",
    "from astroquery.mast import Mast, Observations\n",
    "import os\n",
    "import shutil\n",
    "import numpy as np\n",
    "import json\n",
    "import requests\n",
    "import asdf\n",
    "from astropy import log\n",
    "from astropy.io import ascii, fits\n",
    "from astropy.wcs import WCS\n",
    "from astropy.coordinates import SkyCoord\n",
    "from astropy.utils.data import download_file\n",
    "from astropy.visualization import ImageNormalize, ManualInterval, LogStretch, LinearStretch\n",
    "import matplotlib.pyplot as plt\n",
    "import matplotlib as mpl\n",
    "from astropy.table import Table\n",
    "import astropy.units as u\n",
    "\n",
    "\n",
    "# do this before importing webb\n",
    "os.environ[\"CRDS_PATH\"] = \"/orange/adamginsburg/jwst/brick/crds/\"\n",
    "os.environ[\"CRDS_SERVER_URL\"] = \"https://jwst-crds.stsci.edu\"\n",
    "\n",
    "from jwst.pipeline import calwebb_image3\n",
    "from jwst.pipeline import Detector1Pipeline, Image2Pipeline\n",
    "\n",
    "# Individual steps that make up calwebb_image3\n",
    "from jwst.tweakreg import TweakRegStep\n",
    "from jwst.tweakreg.utils import adjust_wcs\n",
    "from jwst.skymatch import SkyMatchStep\n",
    "from jwst.outlier_detection import OutlierDetectionStep\n",
    "from jwst.resample import ResampleStep\n",
    "from jwst.source_catalog import SourceCatalogStep\n",
    "from jwst import datamodels\n",
    "from jwst.associations import asn_from_list\n",
    "from jwst.associations.lib.rules_level3_base import DMS_Level3_Base\n",
    "\n",
    "from align_to_catalogs import realign_to_vvv, merge_a_plus_b, retrieve_vvv\n",
    "#from saturated_star_finding import iteratively_remove_saturated_stars, remove_saturated_stars\n",
    "\n",
    "from destreak import destreak\n",
    "\n",
    "import crds\n",
    "\n",
    "import numpy as np\n",
    "from astropy.modeling import models\n",
    "from astropy import coordinates as coord\n",
    "from astropy import units as u\n",
    "from gwcs import wcs\n",
    "from gwcs import coordinate_frames as cf\n",
    "\n",
    "import datetime\n",
    "import jwst\n",
    "\n",
    "def print(*args, **kwargs):\n",
    "    now = datetime.datetime.now().isoformat()\n",
    "    from builtins import print as printfunc\n",
    "    return printfunc(f\"{now}:\", *args, **kwargs)\n",
    "\n",
    "\n",
    "print(jwst.__version__)\n",
    "\n",
    "# see 'destreak410.ipynb' for tests of this\n",
    "medfilt_size = {'F410M': 15, 'F405N': 256, 'F466N': 55}\n",
    "\n",
    "#basepath = '/orange/adamginsburg/jwst/brick/'\n",
    "\n",
    "filtername = 'F405N'\n",
    "module = 'merged'\n",
    "field = '002'\n",
    "regionname = 'cloudc'"
   ]
  },
  {
   "cell_type": "code",
   "execution_count": 2,
   "id": "cd78d06f-f763-4041-a98f-9ea5e7b35f20",
   "metadata": {
    "collapsed": true,
    "jupyter": {
     "outputs_hidden": true
    },
    "tags": []
   },
   "outputs": [
    {
     "data": {
      "text/plain": [
       "\u001b[0;31mSignature:\u001b[0m \u001b[0mcalwebb_image3\u001b[0m\u001b[0;34m.\u001b[0m\u001b[0mImage3Pipeline\u001b[0m\u001b[0;34m.\u001b[0m\u001b[0mcall\u001b[0m\u001b[0;34m(\u001b[0m\u001b[0;34m*\u001b[0m\u001b[0margs\u001b[0m\u001b[0;34m,\u001b[0m \u001b[0;34m**\u001b[0m\u001b[0mkwargs\u001b[0m\u001b[0;34m)\u001b[0m\u001b[0;34m\u001b[0m\u001b[0;34m\u001b[0m\u001b[0m\n",
       "\u001b[0;31mSource:\u001b[0m   \n",
       "    \u001b[0;34m@\u001b[0m\u001b[0mclassmethod\u001b[0m\u001b[0;34m\u001b[0m\n",
       "\u001b[0;34m\u001b[0m    \u001b[0;32mdef\u001b[0m \u001b[0mcall\u001b[0m\u001b[0;34m(\u001b[0m\u001b[0mcls\u001b[0m\u001b[0;34m,\u001b[0m \u001b[0;34m*\u001b[0m\u001b[0margs\u001b[0m\u001b[0;34m,\u001b[0m \u001b[0;34m**\u001b[0m\u001b[0mkwargs\u001b[0m\u001b[0;34m)\u001b[0m\u001b[0;34m:\u001b[0m\u001b[0;34m\u001b[0m\n",
       "\u001b[0;34m\u001b[0m        \u001b[0;34m\"\"\"\u001b[0m\n",
       "\u001b[0;34m        Creates and runs a new instance of the class.\u001b[0m\n",
       "\u001b[0;34m\u001b[0m\n",
       "\u001b[0;34m        Gets a config file from CRDS if one is available\u001b[0m\n",
       "\u001b[0;34m\u001b[0m\n",
       "\u001b[0;34m        To set configuration parameters, pass a `config_file` path or\u001b[0m\n",
       "\u001b[0;34m        keyword arguments.  Keyword arguments override those in the\u001b[0m\n",
       "\u001b[0;34m        specified `config_file`.\u001b[0m\n",
       "\u001b[0;34m\u001b[0m\n",
       "\u001b[0;34m        Any positional `*args` will be passed along to the step's\u001b[0m\n",
       "\u001b[0;34m        `process` method.\u001b[0m\n",
       "\u001b[0;34m\u001b[0m\n",
       "\u001b[0;34m        Note: this method creates a new instance of `Step` with the given\u001b[0m\n",
       "\u001b[0;34m        `config_file` if supplied, plus any extra `*args` and `**kwargs`.\u001b[0m\n",
       "\u001b[0;34m        If you create an instance of a Step, set parameters, and then use\u001b[0m\n",
       "\u001b[0;34m        this `call()` method, it will ignore previously-set parameters, as\u001b[0m\n",
       "\u001b[0;34m        it creates a new instance of the class with only the `config_file`,\u001b[0m\n",
       "\u001b[0;34m        `*args` and `**kwargs` passed to the `call()` method.\u001b[0m\n",
       "\u001b[0;34m\u001b[0m\n",
       "\u001b[0;34m        If not used with a `config_file` or specific `*args` and `**kwargs`,\u001b[0m\n",
       "\u001b[0;34m        it would be better to use the `run` method, which does not create\u001b[0m\n",
       "\u001b[0;34m        a new instance but simply runs the existing instance of the `Step`\u001b[0m\n",
       "\u001b[0;34m        class.\u001b[0m\n",
       "\u001b[0;34m        \"\"\"\u001b[0m\u001b[0;34m\u001b[0m\n",
       "\u001b[0;34m\u001b[0m        \u001b[0mfilename\u001b[0m \u001b[0;34m=\u001b[0m \u001b[0;32mNone\u001b[0m\u001b[0;34m\u001b[0m\n",
       "\u001b[0;34m\u001b[0m        \u001b[0;32mif\u001b[0m \u001b[0mlen\u001b[0m\u001b[0;34m(\u001b[0m\u001b[0margs\u001b[0m\u001b[0;34m)\u001b[0m \u001b[0;34m>\u001b[0m \u001b[0;36m0\u001b[0m\u001b[0;34m:\u001b[0m\u001b[0;34m\u001b[0m\n",
       "\u001b[0;34m\u001b[0m            \u001b[0mfilename\u001b[0m \u001b[0;34m=\u001b[0m \u001b[0margs\u001b[0m\u001b[0;34m[\u001b[0m\u001b[0;36m0\u001b[0m\u001b[0;34m]\u001b[0m\u001b[0;34m\u001b[0m\n",
       "\u001b[0;34m\u001b[0m        \u001b[0mconfig\u001b[0m\u001b[0;34m,\u001b[0m \u001b[0mconfig_file\u001b[0m \u001b[0;34m=\u001b[0m \u001b[0mcls\u001b[0m\u001b[0;34m.\u001b[0m\u001b[0mbuild_config\u001b[0m\u001b[0;34m(\u001b[0m\u001b[0mfilename\u001b[0m\u001b[0;34m,\u001b[0m \u001b[0;34m**\u001b[0m\u001b[0mkwargs\u001b[0m\u001b[0;34m)\u001b[0m\u001b[0;34m\u001b[0m\n",
       "\u001b[0;34m\u001b[0m\u001b[0;34m\u001b[0m\n",
       "\u001b[0;34m\u001b[0m        \u001b[0;32mif\u001b[0m \u001b[0;34m'class'\u001b[0m \u001b[0;32min\u001b[0m \u001b[0mconfig\u001b[0m\u001b[0;34m:\u001b[0m\u001b[0;34m\u001b[0m\n",
       "\u001b[0;34m\u001b[0m            \u001b[0;32mdel\u001b[0m \u001b[0mconfig\u001b[0m\u001b[0;34m[\u001b[0m\u001b[0;34m'class'\u001b[0m\u001b[0;34m]\u001b[0m\u001b[0;34m\u001b[0m\n",
       "\u001b[0;34m\u001b[0m\u001b[0;34m\u001b[0m\n",
       "\u001b[0;34m\u001b[0m        \u001b[0;32mif\u001b[0m \u001b[0;34m'logcfg'\u001b[0m \u001b[0;32min\u001b[0m \u001b[0mconfig\u001b[0m\u001b[0;34m:\u001b[0m\u001b[0;34m\u001b[0m\n",
       "\u001b[0;34m\u001b[0m            \u001b[0;32mtry\u001b[0m\u001b[0;34m:\u001b[0m\u001b[0;34m\u001b[0m\n",
       "\u001b[0;34m\u001b[0m                \u001b[0mlog\u001b[0m\u001b[0;34m.\u001b[0m\u001b[0mload_configuration\u001b[0m\u001b[0;34m(\u001b[0m\u001b[0mconfig\u001b[0m\u001b[0;34m[\u001b[0m\u001b[0;34m'logcfg'\u001b[0m\u001b[0;34m]\u001b[0m\u001b[0;34m)\u001b[0m\u001b[0;34m\u001b[0m\n",
       "\u001b[0;34m\u001b[0m            \u001b[0;32mexcept\u001b[0m \u001b[0mException\u001b[0m \u001b[0;32mas\u001b[0m \u001b[0me\u001b[0m\u001b[0;34m:\u001b[0m\u001b[0;34m\u001b[0m\n",
       "\u001b[0;34m\u001b[0m                \u001b[0;32mraise\u001b[0m \u001b[0mRuntimeError\u001b[0m\u001b[0;34m(\u001b[0m\u001b[0;34m\u001b[0m\n",
       "\u001b[0;34m\u001b[0m                    \u001b[0;34mf\"Error parsing logging config {config['logcfg']}\"\u001b[0m\u001b[0;34m\u001b[0m\n",
       "\u001b[0;34m\u001b[0m                \u001b[0;34m)\u001b[0m \u001b[0;32mfrom\u001b[0m \u001b[0me\u001b[0m\u001b[0;34m\u001b[0m\n",
       "\u001b[0;34m\u001b[0m            \u001b[0;32mdel\u001b[0m \u001b[0mconfig\u001b[0m\u001b[0;34m[\u001b[0m\u001b[0;34m'logcfg'\u001b[0m\u001b[0;34m]\u001b[0m\u001b[0;34m\u001b[0m\n",
       "\u001b[0;34m\u001b[0m\u001b[0;34m\u001b[0m\n",
       "\u001b[0;34m\u001b[0m        \u001b[0mname\u001b[0m \u001b[0;34m=\u001b[0m \u001b[0mconfig\u001b[0m\u001b[0;34m.\u001b[0m\u001b[0mget\u001b[0m\u001b[0;34m(\u001b[0m\u001b[0;34m'name'\u001b[0m\u001b[0;34m,\u001b[0m \u001b[0;32mNone\u001b[0m\u001b[0;34m)\u001b[0m\u001b[0;34m\u001b[0m\n",
       "\u001b[0;34m\u001b[0m        \u001b[0minstance\u001b[0m \u001b[0;34m=\u001b[0m \u001b[0mcls\u001b[0m\u001b[0;34m.\u001b[0m\u001b[0mfrom_config_section\u001b[0m\u001b[0;34m(\u001b[0m\u001b[0mconfig\u001b[0m\u001b[0;34m,\u001b[0m\u001b[0;34m\u001b[0m\n",
       "\u001b[0;34m\u001b[0m            \u001b[0mname\u001b[0m\u001b[0;34m=\u001b[0m\u001b[0mname\u001b[0m\u001b[0;34m,\u001b[0m \u001b[0mconfig_file\u001b[0m\u001b[0;34m=\u001b[0m\u001b[0mconfig_file\u001b[0m\u001b[0;34m)\u001b[0m\u001b[0;34m\u001b[0m\n",
       "\u001b[0;34m\u001b[0m\u001b[0;34m\u001b[0m\n",
       "\u001b[0;34m\u001b[0m        \u001b[0;32mreturn\u001b[0m \u001b[0minstance\u001b[0m\u001b[0;34m.\u001b[0m\u001b[0mrun\u001b[0m\u001b[0;34m(\u001b[0m\u001b[0;34m*\u001b[0m\u001b[0margs\u001b[0m\u001b[0;34m)\u001b[0m\u001b[0;34m\u001b[0m\u001b[0;34m\u001b[0m\u001b[0m\n",
       "\u001b[0;31mFile:\u001b[0m      /orange/adamginsburg/miniconda3/envs/python39/lib/python3.9/site-packages/stpipe/step.py\n",
       "\u001b[0;31mType:\u001b[0m      method\n"
      ]
     },
     "metadata": {},
     "output_type": "display_data"
    }
   ],
   "source": [
    "calwebb_image3.Image3Pipeline.call??"
   ]
  },
  {
   "cell_type": "code",
   "execution_count": 4,
   "id": "c4532e45-9e08-4ed7-8cff-2184538a7a09",
   "metadata": {},
   "outputs": [],
   "source": [
    "vvvcat = fits.open('/orange/adamginsburg/jwst/cloudc//F466N/pipeline/jw02221-o001_t001_nircam_clear-F466N-merged_vvvcat.fits')"
   ]
  },
  {
   "cell_type": "code",
   "execution_count": 9,
   "id": "d95a4751-1612-49c0-8d7d-92397598080d",
   "metadata": {
    "collapsed": true,
    "jupyter": {
     "outputs_hidden": true
    },
    "tags": []
   },
   "outputs": [
    {
     "data": {
      "text/plain": [
       "FITS_rec([(266.602823, -28.60222 , 'VVV J174624.67-283607.99', -1, 18.806, 0.084,  0, 17.736, 0.053,  0, 16.528, 0.034, 16,    nan,   nan,  0,    nan,   nan,  0, 266.602823, -28.60222 ),\n",
       "          (266.606742, -28.598289, 'VVV J174625.61-283553.84', -1, 16.278, 0.011,  0, 15.811, 0.011,  0, 15.225, 0.011, 16, 14.721, 0.027, 16, 14.421, 0.058, 16, 266.606742, -28.598289),\n",
       "          (266.613329, -28.597491, 'VVV J174627.19-283550.96', -1, 17.865, 0.037, 16, 17.298, 0.036, 16, 16.693, 0.039, 16, 16.261, 0.111, 16,    nan,   nan,  0, 266.613329, -28.597491),\n",
       "          ...,\n",
       "          (266.59499 , -28.520139, 'VVV J174622.79-283112.49',  1,    nan,   nan,  0,    nan,   nan,  0, 17.2  , 0.061, 16, 14.584, 0.024, 16,    nan,   nan,  0, 266.59499 , -28.520139),\n",
       "          (266.592745, -28.520205, 'VVV J174622.25-283112.73', -1,    nan,   nan,  0,    nan,   nan,  0,    nan,   nan,  0,    nan,   nan,  0, 14.23 , 0.049, 16, 266.592745, -28.520205),\n",
       "          (266.593806, -28.520737, 'VVV J174622.51-283114.65', -2, 19.541, 0.161,  0, 18.476, 0.107,  0, 17.066, 0.054, 16, 16.216, 0.105, 16,    nan,   nan,  0, 266.593806, -28.520737)],\n",
       "         dtype=(numpy.record, [('RAJ2000', '>f8'), ('DEJ2000', '>f8'), ('iauname', 'S24'), ('mClass', '>i2'), ('Zmag3', '>f4'), ('e_Zmag3', '>f8'), ('Zperrbits', '>i4'), ('Ymag3', '>f8'), ('e_Ymag3', '>f8'), ('Yperrbits', '>i4'), ('Jmag3', '>f8'), ('e_Jmag3', '>f8'), ('Jperrbits', '>i4'), ('Hmag3', '>f8'), ('e_Hmag3', '>f8'), ('Hperrbits', '>i4'), ('Ksmag3', '>f8'), ('e_Ksmag3', '>f8'), ('Ksperrbits', '>i4'), ('RA', '>f8'), ('DEC', '>f8')]))"
      ]
     },
     "execution_count": 9,
     "metadata": {},
     "output_type": "execute_result"
    }
   ],
   "source": [
    "vvvcat[1].data"
   ]
  },
  {
   "cell_type": "code",
   "execution_count": 2,
   "id": "7e89b482-7ebd-48bd-86ad-163a92a096e5",
   "metadata": {},
   "outputs": [],
   "source": [
    "from astropy.table import Table"
   ]
  },
  {
   "cell_type": "code",
   "execution_count": 16,
   "id": "4509de2e-3087-449c-a8c4-bae50cde6490",
   "metadata": {},
   "outputs": [
    {
     "data": {
      "text/plain": [
       "False"
      ]
     },
     "execution_count": 16,
     "metadata": {},
     "output_type": "execute_result"
    }
   ],
   "source": [
    "\n",
    "vvvdr2fn = '/orange/adamginsburg/jwst/cloudc//F466N/pipeline/jw02221-o002_t001_nircam_clear-F466N-merged_vvvcat.ecsv'\n",
    "#(f'{basepath}/{filtername.upper()}/pipeline/jw02221-o{field}_t001_nircam_clear-{filtername}-{module}_vvvcat.ecsv')\n",
    "\n",
    "os.path.exists(vvvdr2fn)"
   ]
  },
  {
   "cell_type": "code",
   "execution_count": null,
   "id": "f74b96ce-11aa-42f3-a336-4bb49751c37c",
   "metadata": {},
   "outputs": [],
   "source": []
  },
  {
   "cell_type": "code",
   "execution_count": 13,
   "id": "ac9e059a-1f0e-4422-931e-cf436a6b5915",
   "metadata": {
    "collapsed": true,
    "jupyter": {
     "outputs_hidden": true
    },
    "tags": []
   },
   "outputs": [
    {
     "data": {
      "text/html": [
       "<div><i>Table length=3437</i>\n",
       "<table id=\"table46918845900016\" class=\"table-striped table-bordered table-condensed\">\n",
       "<thead><tr><th>RAJ2000</th><th>DEJ2000</th><th>iauname</th><th>mClass</th><th>Zmag3</th><th>e_Zmag3</th><th>Zperrbits</th><th>Ymag3</th><th>e_Ymag3</th><th>Yperrbits</th><th>Jmag3</th><th>e_Jmag3</th><th>Jperrbits</th><th>Hmag3</th><th>e_Hmag3</th><th>Hperrbits</th><th>Ksmag3</th><th>e_Ksmag3</th><th>Ksperrbits</th><th>RA</th><th>DEC</th></tr></thead>\n",
       "<thead><tr><th>float64</th><th>float64</th><th>str24</th><th>int16</th><th>float32</th><th>float64</th><th>int32</th><th>float64</th><th>float64</th><th>int32</th><th>float64</th><th>float64</th><th>int32</th><th>float64</th><th>float64</th><th>int32</th><th>float64</th><th>float64</th><th>int32</th><th>float64</th><th>float64</th></tr></thead>\n",
       "<tr><td>266.602823</td><td>-28.60222</td><td>VVV J174624.67-283607.99</td><td>-1</td><td>18.806</td><td>0.084</td><td>0</td><td>17.736</td><td>0.053</td><td>0</td><td>16.528</td><td>0.034</td><td>16</td><td>nan</td><td>nan</td><td>0</td><td>nan</td><td>nan</td><td>0</td><td>266.602823</td><td>-28.60222</td></tr>\n",
       "<tr><td>266.606742</td><td>-28.598289</td><td>VVV J174625.61-283553.84</td><td>-1</td><td>16.278</td><td>0.011</td><td>0</td><td>15.811</td><td>0.011</td><td>0</td><td>15.225</td><td>0.011</td><td>16</td><td>14.721</td><td>0.027</td><td>16</td><td>14.421</td><td>0.058</td><td>16</td><td>266.606742</td><td>-28.598289</td></tr>\n",
       "<tr><td>266.613329</td><td>-28.597491</td><td>VVV J174627.19-283550.96</td><td>-1</td><td>17.865</td><td>0.037</td><td>16</td><td>17.298</td><td>0.036</td><td>16</td><td>16.693</td><td>0.039</td><td>16</td><td>16.261</td><td>0.111</td><td>16</td><td>nan</td><td>nan</td><td>0</td><td>266.613329</td><td>-28.597491</td></tr>\n",
       "<tr><td>266.611708</td><td>-28.596065</td><td>VVV J174626.81-283545.83</td><td>1</td><td>19.567</td><td>0.167</td><td>0</td><td>19.022</td><td>0.17</td><td>0</td><td>17.988</td><td>0.126</td><td>0</td><td>15.987</td><td>0.086</td><td>16</td><td>14.496</td><td>0.062</td><td>16</td><td>266.611708</td><td>-28.596065</td></tr>\n",
       "<tr><td>266.603496</td><td>-28.60398</td><td>VVV J174624.83-283614.32</td><td>-1</td><td>16.636</td><td>0.014</td><td>0</td><td>16.304</td><td>0.016</td><td>0</td><td>15.796</td><td>0.018</td><td>0</td><td>14.848</td><td>0.03</td><td>16</td><td>13.669</td><td>0.029</td><td>16</td><td>266.603496</td><td>-28.60398</td></tr>\n",
       "<tr><td>266.610196</td><td>-28.601597</td><td>VVV J174626.44-283605.75</td><td>-1</td><td>18.836</td><td>0.087</td><td>0</td><td>18.411</td><td>0.097</td><td>0</td><td>17.722</td><td>0.099</td><td>0</td><td>17.499</td><td>0.345</td><td>0</td><td>nan</td><td>nan</td><td>0</td><td>266.610196</td><td>-28.601597</td></tr>\n",
       "<tr><td>266.613424</td><td>-28.595982</td><td>VVV J174627.22-283545.53</td><td>1</td><td>19.395</td><td>0.143</td><td>0</td><td>18.878</td><td>0.149</td><td>0</td><td>17.766</td><td>0.103</td><td>16</td><td>nan</td><td>nan</td><td>0</td><td>nan</td><td>nan</td><td>0</td><td>266.613424</td><td>-28.595982</td></tr>\n",
       "<tr><td>266.603983</td><td>-28.60527</td><td>VVV J174624.95-283618.97</td><td>1</td><td>nan</td><td>nan</td><td>0</td><td>nan</td><td>nan</td><td>0</td><td>15.802</td><td>0.018</td><td>0</td><td>13.3</td><td>0.008</td><td>16</td><td>11.588</td><td>0.004</td><td>16</td><td>266.603983</td><td>-28.60527</td></tr>\n",
       "<tr><td>266.614028</td><td>-28.605808</td><td>VVV J174627.36-283620.90</td><td>-1</td><td>18.678</td><td>0.075</td><td>0</td><td>17.789</td><td>0.056</td><td>0</td><td>16.494</td><td>0.033</td><td>16</td><td>14.852</td><td>0.03</td><td>16</td><td>nan</td><td>nan</td><td>0</td><td>266.614028</td><td>-28.605808</td></tr>\n",
       "<tr><td>266.608224</td><td>-28.601396</td><td>VVV J174625.97-283605.02</td><td>-1</td><td>14.472</td><td>0.003</td><td>0</td><td>14.313</td><td>0.004</td><td>0</td><td>13.945</td><td>0.004</td><td>0</td><td>13.345</td><td>0.008</td><td>0</td><td>12.465</td><td>0.01</td><td>0</td><td>266.608224</td><td>-28.601396</td></tr>\n",
       "<tr><td>266.606161</td><td>-28.599634</td><td>VVV J174625.47-283558.68</td><td>-1</td><td>16.728</td><td>0.015</td><td>0</td><td>15.917</td><td>0.011</td><td>0</td><td>14.945</td><td>0.009</td><td>16</td><td>14.024</td><td>0.014</td><td>16</td><td>13.58</td><td>0.027</td><td>16</td><td>266.606161</td><td>-28.599634</td></tr>\n",
       "<tr><td>266.609194</td><td>-28.596255</td><td>VVV J174626.20-283546.51</td><td>-1</td><td>16.872</td><td>0.016</td><td>16</td><td>16.157</td><td>0.014</td><td>0</td><td>15.364</td><td>0.012</td><td>0</td><td>14.642</td><td>0.025</td><td>16</td><td>14.007</td><td>0.039</td><td>16</td><td>266.609194</td><td>-28.596255</td></tr>\n",
       "<tr><td>266.605681</td><td>-28.602197</td><td>VVV J174625.36-283607.90</td><td>1</td><td>19.784</td><td>0.203</td><td>0</td><td>18.874</td><td>0.149</td><td>0</td><td>18.1</td><td>0.14</td><td>0</td><td>nan</td><td>nan</td><td>0</td><td>nan</td><td>nan</td><td>0</td><td>266.605681</td><td>-28.602197</td></tr>\n",
       "<tr><td>266.606167</td><td>-28.602851</td><td>VVV J174625.48-283610.26</td><td>-2</td><td>18.164</td><td>0.048</td><td>0</td><td>17.741</td><td>0.054</td><td>0</td><td>16.986</td><td>0.051</td><td>16</td><td>16.273</td><td>0.112</td><td>16</td><td>nan</td><td>nan</td><td>0</td><td>266.606167</td><td>-28.602851</td></tr>\n",
       "<tr><td>266.606797</td><td>-28.601727</td><td>VVV J174625.63-283606.21</td><td>-2</td><td>19.734</td><td>0.194</td><td>0</td><td>17.994</td><td>0.067</td><td>0</td><td>16.466</td><td>0.032</td><td>0</td><td>15.061</td><td>0.037</td><td>0</td><td>14.123</td><td>0.044</td><td>0</td><td>266.606797</td><td>-28.601727</td></tr>\n",
       "<tr><td>266.614177</td><td>-28.597853</td><td>VVV J174627.40-283552.26</td><td>-1</td><td>16.828</td><td>0.016</td><td>16</td><td>16.352</td><td>0.016</td><td>16</td><td>15.686</td><td>0.016</td><td>16</td><td>15.014</td><td>0.035</td><td>16</td><td>nan</td><td>nan</td><td>0</td><td>266.614177</td><td>-28.597853</td></tr>\n",
       "<tr><td>266.608228</td><td>-28.599384</td><td>VVV J174625.97-283557.78</td><td>-1</td><td>18.618</td><td>0.071</td><td>0</td><td>18.102</td><td>0.074</td><td>0</td><td>17.681</td><td>0.096</td><td>0</td><td>nan</td><td>nan</td><td>0</td><td>nan</td><td>nan</td><td>0</td><td>266.608228</td><td>-28.599384</td></tr>\n",
       "<tr><td>266.611239</td><td>-28.598081</td><td>VVV J174626.69-283553.09</td><td>-1</td><td>17.081</td><td>0.019</td><td>0</td><td>16.495</td><td>0.018</td><td>0</td><td>15.629</td><td>0.015</td><td>16</td><td>14.377</td><td>0.02</td><td>16</td><td>13.366</td><td>0.022</td><td>16</td><td>266.611239</td><td>-28.598081</td></tr>\n",
       "<tr><td>266.604212</td><td>-28.602032</td><td>VVV J174625.01-283607.31</td><td>-2</td><td>nan</td><td>nan</td><td>0</td><td>19.172</td><td>0.195</td><td>0</td><td>18.691</td><td>0.241</td><td>0</td><td>nan</td><td>nan</td><td>0</td><td>nan</td><td>nan</td><td>0</td><td>266.604212</td><td>-28.602032</td></tr>\n",
       "<tr><td>266.609519</td><td>-28.598202</td><td>VVV J174626.28-283553.52</td><td>-1</td><td>nan</td><td>nan</td><td>0</td><td>19.452</td><td>0.251</td><td>0</td><td>17.539</td><td>0.084</td><td>0</td><td>nan</td><td>nan</td><td>0</td><td>nan</td><td>nan</td><td>0</td><td>266.609519</td><td>-28.598202</td></tr>\n",
       "<tr><td>266.608604</td><td>-28.605855</td><td>VVV J174626.06-283621.07</td><td>-1</td><td>nan</td><td>nan</td><td>0</td><td>17.519</td><td>0.044</td><td>0</td><td>13.73</td><td>0.003</td><td>16</td><td>11.13</td><td>0.001</td><td>65552</td><td>8.107</td><td>0.001</td><td>65552</td><td>266.608604</td><td>-28.605855</td></tr>\n",
       "<tr><td>266.612621</td><td>-28.595392</td><td>VVV J174627.02-283543.41</td><td>-1</td><td>nan</td><td>nan</td><td>0</td><td>18.197</td><td>0.08</td><td>0</td><td>14.79</td><td>0.008</td><td>0</td><td>11.468</td><td>0.002</td><td>65552</td><td>9.973</td><td>0.002</td><td>65552</td><td>266.612621</td><td>-28.595392</td></tr>\n",
       "<tr><td>266.61143</td><td>-28.604855</td><td>VVV J174626.74-283617.47</td><td>-1</td><td>nan</td><td>nan</td><td>0</td><td>nan</td><td>nan</td><td>0</td><td>17.503</td><td>0.081</td><td>0</td><td>14.744</td><td>0.028</td><td>16</td><td>13.345</td><td>0.022</td><td>16</td><td>266.61143</td><td>-28.604855</td></tr>\n",
       "<tr><td>266.612291</td><td>-28.604951</td><td>VVV J174626.94-283617.82</td><td>-1</td><td>nan</td><td>nan</td><td>0</td><td>nan</td><td>nan</td><td>0</td><td>18.098</td><td>0.14</td><td>0</td><td>15.005</td><td>0.035</td><td>16</td><td>13.415</td><td>0.023</td><td>16</td><td>266.612291</td><td>-28.604951</td></tr>\n",
       "<tr><td>...</td><td>...</td><td>...</td><td>...</td><td>...</td><td>...</td><td>...</td><td>...</td><td>...</td><td>...</td><td>...</td><td>...</td><td>...</td><td>...</td><td>...</td><td>...</td><td>...</td><td>...</td><td>...</td><td>...</td><td>...</td></tr>\n",
       "<tr><td>266.593954</td><td>-28.521056</td><td>VVV J174622.54-283115.80</td><td>-1</td><td>19.541</td><td>0.161</td><td>0</td><td>18.476</td><td>0.107</td><td>0</td><td>17.066</td><td>0.054</td><td>16</td><td>16.216</td><td>0.105</td><td>16</td><td>nan</td><td>nan</td><td>0</td><td>266.593954</td><td>-28.521056</td></tr>\n",
       "<tr><td>266.594571</td><td>-28.521793</td><td>VVV J174622.69-283118.45</td><td>-1</td><td>19.42</td><td>0.144</td><td>0</td><td>17.862</td><td>0.062</td><td>0</td><td>16.378</td><td>0.029</td><td>16</td><td>15.128</td><td>0.039</td><td>16</td><td>14.228</td><td>0.049</td><td>16</td><td>266.594571</td><td>-28.521793</td></tr>\n",
       "<tr><td>266.592453</td><td>-28.520984</td><td>VVV J174622.18-283115.54</td><td>-1</td><td>nan</td><td>nan</td><td>0</td><td>16.821</td><td>0.025</td><td>0</td><td>13.711</td><td>0.003</td><td>16</td><td>11.204</td><td>0.001</td><td>65552</td><td>10.118</td><td>0.001</td><td>65552</td><td>266.592453</td><td>-28.520984</td></tr>\n",
       "<tr><td>266.595912</td><td>-28.520939</td><td>VVV J174623.01-283115.37</td><td>1</td><td>nan</td><td>nan</td><td>0</td><td>18.899</td><td>0.157</td><td>0</td><td>16.818</td><td>0.043</td><td>16</td><td>nan</td><td>nan</td><td>0</td><td>nan</td><td>nan</td><td>0</td><td>266.595912</td><td>-28.520939</td></tr>\n",
       "<tr><td>266.595849</td><td>-28.520085</td><td>VVV J174623.00-283112.30</td><td>1</td><td>nan</td><td>nan</td><td>0</td><td>nan</td><td>nan</td><td>0</td><td>18.317</td><td>0.168</td><td>16</td><td>nan</td><td>nan</td><td>0</td><td>nan</td><td>nan</td><td>0</td><td>266.595849</td><td>-28.520085</td></tr>\n",
       "<tr><td>266.593137</td><td>-28.522741</td><td>VVV J174622.35-283121.86</td><td>1</td><td>nan</td><td>nan</td><td>0</td><td>nan</td><td>nan</td><td>0</td><td>16.807</td><td>0.043</td><td>16</td><td>14.344</td><td>0.019</td><td>16</td><td>12.827</td><td>0.014</td><td>16</td><td>266.593137</td><td>-28.522741</td></tr>\n",
       "<tr><td>266.589841</td><td>-28.520251</td><td>VVV J174621.56-283112.90</td><td>-1</td><td>nan</td><td>nan</td><td>0</td><td>nan</td><td>nan</td><td>0</td><td>18.791</td><td>0.261</td><td>0</td><td>15.189</td><td>0.041</td><td>16</td><td>13.593</td><td>0.027</td><td>16</td><td>266.589841</td><td>-28.520251</td></tr>\n",
       "<tr><td>266.595342</td><td>-28.520513</td><td>VVV J174622.88-283113.84</td><td>-1</td><td>nan</td><td>nan</td><td>0</td><td>nan</td><td>nan</td><td>0</td><td>17.2</td><td>0.061</td><td>16</td><td>14.584</td><td>0.024</td><td>16</td><td>nan</td><td>nan</td><td>0</td><td>266.595342</td><td>-28.520513</td></tr>\n",
       "<tr><td>266.593437</td><td>-28.520009</td><td>VVV J174622.42-283112.03</td><td>1</td><td>nan</td><td>nan</td><td>0</td><td>nan</td><td>nan</td><td>0</td><td>18.415</td><td>0.185</td><td>0</td><td>15.449</td><td>0.052</td><td>16</td><td>13.96</td><td>0.038</td><td>16</td><td>266.593437</td><td>-28.520009</td></tr>\n",
       "<tr><td>266.595303</td><td>-28.521214</td><td>VVV J174622.87-283116.37</td><td>-1</td><td>nan</td><td>nan</td><td>0</td><td>nan</td><td>nan</td><td>0</td><td>15.612</td><td>0.015</td><td>16</td><td>12.272</td><td>0.003</td><td>16</td><td>9.988</td><td>0.002</td><td>65552</td><td>266.595303</td><td>-28.521214</td></tr>\n",
       "<tr><td>266.592055</td><td>-28.520043</td><td>VVV J174622.09-283112.15</td><td>-2</td><td>nan</td><td>nan</td><td>0</td><td>nan</td><td>nan</td><td>0</td><td>17.671</td><td>0.094</td><td>16</td><td>15.067</td><td>0.037</td><td>16</td><td>13.633</td><td>0.028</td><td>16</td><td>266.592055</td><td>-28.520043</td></tr>\n",
       "<tr><td>266.593932</td><td>-28.521522</td><td>VVV J174622.54-283117.48</td><td>1</td><td>nan</td><td>nan</td><td>0</td><td>nan</td><td>nan</td><td>0</td><td>17.076</td><td>0.055</td><td>16</td><td>14.546</td><td>0.023</td><td>16</td><td>13.253</td><td>0.02</td><td>16</td><td>266.593932</td><td>-28.521522</td></tr>\n",
       "<tr><td>266.595958</td><td>-28.520048</td><td>VVV J174623.02-283112.17</td><td>1</td><td>nan</td><td>nan</td><td>0</td><td>nan</td><td>nan</td><td>0</td><td>17.047</td><td>0.053</td><td>16</td><td>14.171</td><td>0.016</td><td>16</td><td>12.826</td><td>0.014</td><td>16</td><td>266.595958</td><td>-28.520048</td></tr>\n",
       "<tr><td>266.593254</td><td>-28.521426</td><td>VVV J174622.38-283117.13</td><td>-2</td><td>nan</td><td>nan</td><td>0</td><td>nan</td><td>nan</td><td>0</td><td>nan</td><td>nan</td><td>0</td><td>15.322</td><td>0.046</td><td>16</td><td>14.198</td><td>0.048</td><td>16</td><td>266.593254</td><td>-28.521426</td></tr>\n",
       "<tr><td>266.595796</td><td>-28.522784</td><td>VVV J174622.99-283122.02</td><td>-1</td><td>nan</td><td>nan</td><td>0</td><td>nan</td><td>nan</td><td>0</td><td>nan</td><td>nan</td><td>0</td><td>16.404</td><td>0.125</td><td>0</td><td>15.042</td><td>0.103</td><td>16</td><td>266.595796</td><td>-28.522784</td></tr>\n",
       "<tr><td>266.597432</td><td>-28.520321</td><td>VVV J174623.38-283113.15</td><td>-2</td><td>nan</td><td>nan</td><td>0</td><td>nan</td><td>nan</td><td>0</td><td>nan</td><td>nan</td><td>0</td><td>13.648</td><td>0.01</td><td>16</td><td>12.523</td><td>0.01</td><td>16</td><td>266.597432</td><td>-28.520321</td></tr>\n",
       "<tr><td>266.593623</td><td>-28.523496</td><td>VVV J174622.46-283124.58</td><td>-3</td><td>nan</td><td>nan</td><td>0</td><td>nan</td><td>nan</td><td>0</td><td>nan</td><td>nan</td><td>0</td><td>14.989</td><td>0.034</td><td>16</td><td>13.43</td><td>0.024</td><td>16</td><td>266.593623</td><td>-28.523496</td></tr>\n",
       "<tr><td>266.598003</td><td>-28.520625</td><td>VVV J174623.52-283114.24</td><td>-3</td><td>nan</td><td>nan</td><td>0</td><td>nan</td><td>nan</td><td>0</td><td>nan</td><td>nan</td><td>0</td><td>16.016</td><td>0.088</td><td>16</td><td>nan</td><td>nan</td><td>0</td><td>266.598003</td><td>-28.520625</td></tr>\n",
       "<tr><td>266.593597</td><td>-28.522093</td><td>VVV J174622.46-283119.53</td><td>1</td><td>nan</td><td>nan</td><td>0</td><td>nan</td><td>nan</td><td>0</td><td>nan</td><td>nan</td><td>0</td><td>15.763</td><td>0.07</td><td>16</td><td>14.319</td><td>0.053</td><td>16</td><td>266.593597</td><td>-28.522093</td></tr>\n",
       "<tr><td>266.598487</td><td>-28.520101</td><td>VVV J174623.63-283112.36</td><td>1</td><td>nan</td><td>nan</td><td>0</td><td>nan</td><td>nan</td><td>0</td><td>nan</td><td>nan</td><td>0</td><td>15.366</td><td>0.048</td><td>16</td><td>13.919</td><td>0.037</td><td>16</td><td>266.598487</td><td>-28.520101</td></tr>\n",
       "<tr><td>266.596129</td><td>-28.522613</td><td>VVV J174623.07-283121.40</td><td>-1</td><td>nan</td><td>nan</td><td>0</td><td>nan</td><td>nan</td><td>0</td><td>nan</td><td>nan</td><td>0</td><td>nan</td><td>nan</td><td>0</td><td>15.46</td><td>0.152</td><td>16</td><td>266.596129</td><td>-28.522613</td></tr>\n",
       "<tr><td>266.59499</td><td>-28.520139</td><td>VVV J174622.79-283112.49</td><td>1</td><td>nan</td><td>nan</td><td>0</td><td>nan</td><td>nan</td><td>0</td><td>17.2</td><td>0.061</td><td>16</td><td>14.584</td><td>0.024</td><td>16</td><td>nan</td><td>nan</td><td>0</td><td>266.59499</td><td>-28.520139</td></tr>\n",
       "<tr><td>266.592745</td><td>-28.520205</td><td>VVV J174622.25-283112.73</td><td>-1</td><td>nan</td><td>nan</td><td>0</td><td>nan</td><td>nan</td><td>0</td><td>nan</td><td>nan</td><td>0</td><td>nan</td><td>nan</td><td>0</td><td>14.23</td><td>0.049</td><td>16</td><td>266.592745</td><td>-28.520205</td></tr>\n",
       "<tr><td>266.593806</td><td>-28.520737</td><td>VVV J174622.51-283114.65</td><td>-2</td><td>19.541</td><td>0.161</td><td>0</td><td>18.476</td><td>0.107</td><td>0</td><td>17.066</td><td>0.054</td><td>16</td><td>16.216</td><td>0.105</td><td>16</td><td>nan</td><td>nan</td><td>0</td><td>266.593806</td><td>-28.520737</td></tr>\n",
       "</table></div>"
      ],
      "text/plain": [
       "<Table length=3437>\n",
       " RAJ2000    DEJ2000           iauname          mClass  Zmag3  e_Zmag3 Zperrbits  Ymag3  e_Ymag3 Yperrbits ... e_Jmag3 Jperrbits  Hmag3  e_Hmag3 Hperrbits  Ksmag3 e_Ksmag3 Ksperrbits     RA        DEC    \n",
       " float64    float64            str24           int16  float32 float64   int32   float64 float64   int32   ... float64   int32   float64 float64   int32   float64 float64    int32     float64    float64  \n",
       "---------- ---------- ------------------------ ------ ------- ------- --------- ------- ------- --------- ... ------- --------- ------- ------- --------- ------- -------- ---------- ---------- ----------\n",
       "266.602823  -28.60222 VVV J174624.67-283607.99     -1  18.806   0.084         0  17.736   0.053         0 ...   0.034        16     nan     nan         0     nan      nan          0 266.602823  -28.60222\n",
       "266.606742 -28.598289 VVV J174625.61-283553.84     -1  16.278   0.011         0  15.811   0.011         0 ...   0.011        16  14.721   0.027        16  14.421    0.058         16 266.606742 -28.598289\n",
       "266.613329 -28.597491 VVV J174627.19-283550.96     -1  17.865   0.037        16  17.298   0.036        16 ...   0.039        16  16.261   0.111        16     nan      nan          0 266.613329 -28.597491\n",
       "266.611708 -28.596065 VVV J174626.81-283545.83      1  19.567   0.167         0  19.022    0.17         0 ...   0.126         0  15.987   0.086        16  14.496    0.062         16 266.611708 -28.596065\n",
       "266.603496  -28.60398 VVV J174624.83-283614.32     -1  16.636   0.014         0  16.304   0.016         0 ...   0.018         0  14.848    0.03        16  13.669    0.029         16 266.603496  -28.60398\n",
       "266.610196 -28.601597 VVV J174626.44-283605.75     -1  18.836   0.087         0  18.411   0.097         0 ...   0.099         0  17.499   0.345         0     nan      nan          0 266.610196 -28.601597\n",
       "266.613424 -28.595982 VVV J174627.22-283545.53      1  19.395   0.143         0  18.878   0.149         0 ...   0.103        16     nan     nan         0     nan      nan          0 266.613424 -28.595982\n",
       "266.603983  -28.60527 VVV J174624.95-283618.97      1     nan     nan         0     nan     nan         0 ...   0.018         0    13.3   0.008        16  11.588    0.004         16 266.603983  -28.60527\n",
       "266.614028 -28.605808 VVV J174627.36-283620.90     -1  18.678   0.075         0  17.789   0.056         0 ...   0.033        16  14.852    0.03        16     nan      nan          0 266.614028 -28.605808\n",
       "266.608224 -28.601396 VVV J174625.97-283605.02     -1  14.472   0.003         0  14.313   0.004         0 ...   0.004         0  13.345   0.008         0  12.465     0.01          0 266.608224 -28.601396\n",
       "266.606161 -28.599634 VVV J174625.47-283558.68     -1  16.728   0.015         0  15.917   0.011         0 ...   0.009        16  14.024   0.014        16   13.58    0.027         16 266.606161 -28.599634\n",
       "266.609194 -28.596255 VVV J174626.20-283546.51     -1  16.872   0.016        16  16.157   0.014         0 ...   0.012         0  14.642   0.025        16  14.007    0.039         16 266.609194 -28.596255\n",
       "266.605681 -28.602197 VVV J174625.36-283607.90      1  19.784   0.203         0  18.874   0.149         0 ...    0.14         0     nan     nan         0     nan      nan          0 266.605681 -28.602197\n",
       "266.606167 -28.602851 VVV J174625.48-283610.26     -2  18.164   0.048         0  17.741   0.054         0 ...   0.051        16  16.273   0.112        16     nan      nan          0 266.606167 -28.602851\n",
       "266.606797 -28.601727 VVV J174625.63-283606.21     -2  19.734   0.194         0  17.994   0.067         0 ...   0.032         0  15.061   0.037         0  14.123    0.044          0 266.606797 -28.601727\n",
       "266.614177 -28.597853 VVV J174627.40-283552.26     -1  16.828   0.016        16  16.352   0.016        16 ...   0.016        16  15.014   0.035        16     nan      nan          0 266.614177 -28.597853\n",
       "266.608228 -28.599384 VVV J174625.97-283557.78     -1  18.618   0.071         0  18.102   0.074         0 ...   0.096         0     nan     nan         0     nan      nan          0 266.608228 -28.599384\n",
       "266.611239 -28.598081 VVV J174626.69-283553.09     -1  17.081   0.019         0  16.495   0.018         0 ...   0.015        16  14.377    0.02        16  13.366    0.022         16 266.611239 -28.598081\n",
       "266.604212 -28.602032 VVV J174625.01-283607.31     -2     nan     nan         0  19.172   0.195         0 ...   0.241         0     nan     nan         0     nan      nan          0 266.604212 -28.602032\n",
       "266.609519 -28.598202 VVV J174626.28-283553.52     -1     nan     nan         0  19.452   0.251         0 ...   0.084         0     nan     nan         0     nan      nan          0 266.609519 -28.598202\n",
       "266.608604 -28.605855 VVV J174626.06-283621.07     -1     nan     nan         0  17.519   0.044         0 ...   0.003        16   11.13   0.001     65552   8.107    0.001      65552 266.608604 -28.605855\n",
       "266.612621 -28.595392 VVV J174627.02-283543.41     -1     nan     nan         0  18.197    0.08         0 ...   0.008         0  11.468   0.002     65552   9.973    0.002      65552 266.612621 -28.595392\n",
       " 266.61143 -28.604855 VVV J174626.74-283617.47     -1     nan     nan         0     nan     nan         0 ...   0.081         0  14.744   0.028        16  13.345    0.022         16  266.61143 -28.604855\n",
       "266.612291 -28.604951 VVV J174626.94-283617.82     -1     nan     nan         0     nan     nan         0 ...    0.14         0  15.005   0.035        16  13.415    0.023         16 266.612291 -28.604951\n",
       "       ...        ...                      ...    ...     ...     ...       ...     ...     ...       ... ...     ...       ...     ...     ...       ...     ...      ...        ...        ...        ...\n",
       "266.593954 -28.521056 VVV J174622.54-283115.80     -1  19.541   0.161         0  18.476   0.107         0 ...   0.054        16  16.216   0.105        16     nan      nan          0 266.593954 -28.521056\n",
       "266.594571 -28.521793 VVV J174622.69-283118.45     -1   19.42   0.144         0  17.862   0.062         0 ...   0.029        16  15.128   0.039        16  14.228    0.049         16 266.594571 -28.521793\n",
       "266.592453 -28.520984 VVV J174622.18-283115.54     -1     nan     nan         0  16.821   0.025         0 ...   0.003        16  11.204   0.001     65552  10.118    0.001      65552 266.592453 -28.520984\n",
       "266.595912 -28.520939 VVV J174623.01-283115.37      1     nan     nan         0  18.899   0.157         0 ...   0.043        16     nan     nan         0     nan      nan          0 266.595912 -28.520939\n",
       "266.595849 -28.520085 VVV J174623.00-283112.30      1     nan     nan         0     nan     nan         0 ...   0.168        16     nan     nan         0     nan      nan          0 266.595849 -28.520085\n",
       "266.593137 -28.522741 VVV J174622.35-283121.86      1     nan     nan         0     nan     nan         0 ...   0.043        16  14.344   0.019        16  12.827    0.014         16 266.593137 -28.522741\n",
       "266.589841 -28.520251 VVV J174621.56-283112.90     -1     nan     nan         0     nan     nan         0 ...   0.261         0  15.189   0.041        16  13.593    0.027         16 266.589841 -28.520251\n",
       "266.595342 -28.520513 VVV J174622.88-283113.84     -1     nan     nan         0     nan     nan         0 ...   0.061        16  14.584   0.024        16     nan      nan          0 266.595342 -28.520513\n",
       "266.593437 -28.520009 VVV J174622.42-283112.03      1     nan     nan         0     nan     nan         0 ...   0.185         0  15.449   0.052        16   13.96    0.038         16 266.593437 -28.520009\n",
       "266.595303 -28.521214 VVV J174622.87-283116.37     -1     nan     nan         0     nan     nan         0 ...   0.015        16  12.272   0.003        16   9.988    0.002      65552 266.595303 -28.521214\n",
       "266.592055 -28.520043 VVV J174622.09-283112.15     -2     nan     nan         0     nan     nan         0 ...   0.094        16  15.067   0.037        16  13.633    0.028         16 266.592055 -28.520043\n",
       "266.593932 -28.521522 VVV J174622.54-283117.48      1     nan     nan         0     nan     nan         0 ...   0.055        16  14.546   0.023        16  13.253     0.02         16 266.593932 -28.521522\n",
       "266.595958 -28.520048 VVV J174623.02-283112.17      1     nan     nan         0     nan     nan         0 ...   0.053        16  14.171   0.016        16  12.826    0.014         16 266.595958 -28.520048\n",
       "266.593254 -28.521426 VVV J174622.38-283117.13     -2     nan     nan         0     nan     nan         0 ...     nan         0  15.322   0.046        16  14.198    0.048         16 266.593254 -28.521426\n",
       "266.595796 -28.522784 VVV J174622.99-283122.02     -1     nan     nan         0     nan     nan         0 ...     nan         0  16.404   0.125         0  15.042    0.103         16 266.595796 -28.522784\n",
       "266.597432 -28.520321 VVV J174623.38-283113.15     -2     nan     nan         0     nan     nan         0 ...     nan         0  13.648    0.01        16  12.523     0.01         16 266.597432 -28.520321\n",
       "266.593623 -28.523496 VVV J174622.46-283124.58     -3     nan     nan         0     nan     nan         0 ...     nan         0  14.989   0.034        16   13.43    0.024         16 266.593623 -28.523496\n",
       "266.598003 -28.520625 VVV J174623.52-283114.24     -3     nan     nan         0     nan     nan         0 ...     nan         0  16.016   0.088        16     nan      nan          0 266.598003 -28.520625\n",
       "266.593597 -28.522093 VVV J174622.46-283119.53      1     nan     nan         0     nan     nan         0 ...     nan         0  15.763    0.07        16  14.319    0.053         16 266.593597 -28.522093\n",
       "266.598487 -28.520101 VVV J174623.63-283112.36      1     nan     nan         0     nan     nan         0 ...     nan         0  15.366   0.048        16  13.919    0.037         16 266.598487 -28.520101\n",
       "266.596129 -28.522613 VVV J174623.07-283121.40     -1     nan     nan         0     nan     nan         0 ...     nan         0     nan     nan         0   15.46    0.152         16 266.596129 -28.522613\n",
       " 266.59499 -28.520139 VVV J174622.79-283112.49      1     nan     nan         0     nan     nan         0 ...   0.061        16  14.584   0.024        16     nan      nan          0  266.59499 -28.520139\n",
       "266.592745 -28.520205 VVV J174622.25-283112.73     -1     nan     nan         0     nan     nan         0 ...     nan         0     nan     nan         0   14.23    0.049         16 266.592745 -28.520205\n",
       "266.593806 -28.520737 VVV J174622.51-283114.65     -2  19.541   0.161         0  18.476   0.107         0 ...   0.054        16  16.216   0.105        16     nan      nan          0 266.593806 -28.520737"
      ]
     },
     "execution_count": 13,
     "metadata": {},
     "output_type": "execute_result"
    }
   ],
   "source": [
    "Table(vvvcat[1].data)"
   ]
  },
  {
   "cell_type": "code",
   "execution_count": null,
   "id": "fe4b232a-acb2-4930-9b11-6a9ae233db30",
   "metadata": {},
   "outputs": [],
   "source": []
  },
  {
   "cell_type": "code",
   "execution_count": null,
   "id": "338dc706-ffc7-4d36-b444-746a6372b9af",
   "metadata": {},
   "outputs": [],
   "source": []
  },
  {
   "cell_type": "code",
   "execution_count": null,
   "id": "3dc1b327-feaf-4dc2-bb0a-422ad2d0fe7c",
   "metadata": {},
   "outputs": [],
   "source": [
    "#def main(filtername, module, Observations=None, regionname='brick', field='001'):\n",
    "log.info(f\"Processing filter {filtername} module {module}\")\n",
    "# sanity check\n",
    "if regionname == 'brick':\n",
    "    assert field == '001'\n",
    "elif regionname == 'cloudc':\n",
    "    assert field == '002'\n",
    "basepath = f'/orange/adamginsburg/jwst/{regionname}/'\n",
    "os.environ[\"CRDS_PATH\"] = f\"{basepath}/crds/\"\n",
    "os.environ[\"CRDS_SERVER_URL\"] = \"https://jwst-crds.stsci.edu\"\n",
    "mpl.rcParams['savefig.dpi'] = 80\n",
    "mpl.rcParams['figure.dpi'] = 80\n",
    "# Files created in this notebook will be saved\n",
    "# in a subdirectory of the base directory called `Stage3`\n",
    "output_dir = f'/orange/adamginsburg/jwst/{regionname}/{filtername}/pipeline/'\n",
    "print('Output directory set as:', output_dir)\n",
    "if not os.path.exists(output_dir):\n",
    "    os.mkdir(output_dir)\n",
    "os.chdir(output_dir)\n",
    "# the files are one directory up\n",
    "for fn in glob(\"../*cal.fits\"):\n",
    "    try:\n",
    "        os.link(fn, './'+os.path.basename(fn))\n",
    "    except Exception as ex:\n",
    "        print(f'Failed to link {fn} to {os.path.basename(fn)} because of {ex}')\n"
   ]
  },
  {
   "cell_type": "code",
   "execution_count": null,
   "id": "64e2f9af-c0ac-4791-93fe-abc4a4641f53",
   "metadata": {
    "tags": []
   },
   "outputs": [],
   "source": [
    "Observations.cache_location = output_dir\n",
    "obs_table = Observations.query_criteria(\n",
    "                                        proposal_id=\"2221\",\n",
    "                                        proposal_pi=\"Ginsburg*\",\n",
    "                                        #calib_level=3,\n",
    "                                        )\n",
    "print(\"Obs table length:\", len(obs_table))\n",
    "msk = ((np.char.find(obs_table['filters'], filtername.upper()) >= 0) |\n",
    "       (np.char.find(obs_table['obs_id'], filtername.lower()) >= 0))\n",
    "data_products_by_obs = Observations.get_product_list(obs_table[msk])\n",
    "print(\"data prodcts by obs length: \", len(data_products_by_obs))\n",
    "products_asn = Observations.filter_products(data_products_by_obs, extension=\"json\")\n",
    "print(\"products_asn length:\", len(products_asn))\n",
    "#valid_obsids = products_asn['obs_id'][np.char.find(np.unique(products_asn['obs_id']), 'jw02221-o001', ) == 0]\n",
    "#match = [x for x in valid_obsids if filtername.lower() in x][0]\n",
    "asn_mast_data = products_asn#[products_asn['obs_id'] == match]\n",
    "print(\"asn_mast_data:\", asn_mast_data)\n",
    "manifest = Observations.download_products(asn_mast_data, download_dir=output_dir)\n",
    "print(\"manifest:\", manifest)"
   ]
  },
  {
   "cell_type": "code",
   "execution_count": null,
   "id": "8a81c7c0-d904-4ce0-9588-da9bdcb101e9",
   "metadata": {},
   "outputs": [],
   "source": [
    "# MAST creates deep directory structures we don't want\n",
    "for row in manifest:\n",
    "    try:\n",
    "        shutil.move(row['Local Path'], os.path.join(output_dir, os.path.basename(row['Local Path'])))\n",
    "    except Exception as ex:\n",
    "        print(f\"Failed to move file with error {ex}\")\n"
   ]
  },
  {
   "cell_type": "code",
   "execution_count": null,
   "id": "eb84cbdf-055d-4b04-b01d-07bfe3e741cd",
   "metadata": {
    "tags": []
   },
   "outputs": [],
   "source": [
    "\n",
    "products_fits = Observations.filter_products(data_products_by_obs, extension=\"fits\")\n",
    "print(\"products_fits length:\", len(products_fits))\n",
    "uncal_mask = np.array([uri.endswith('_uncal.fits') and f'jw02221{field}' in uri for uri in products_fits['dataURI']])\n",
    "uncal_mask &= products_fits['productType'] == 'SCIENCE'\n",
    "print(\"uncal length:\", (uncal_mask.sum()))\n",
    "\n",
    "already_downloaded = np.array([os.path.exists(os.path.basename(uri)) for uri in products_fits['dataURI']])\n",
    "uncal_mask &= ~already_downloaded\n",
    "print(f\"uncal to download: {uncal_mask.sum()}; {already_downloaded.sum()} were already downloaded\")"
   ]
  },
  {
   "cell_type": "code",
   "execution_count": 7,
   "id": "d5e63782-d22f-45d4-b611-31436fc95587",
   "metadata": {},
   "outputs": [
    {
     "data": {
      "text/plain": [
       "'002'"
      ]
     },
     "execution_count": 7,
     "metadata": {},
     "output_type": "execute_result"
    }
   ],
   "source": [
    "field"
   ]
  },
  {
   "cell_type": "code",
   "execution_count": 101,
   "id": "d9dfa5ca-940f-48cb-9dcb-ac8269451ca1",
   "metadata": {
    "tags": []
   },
   "outputs": [],
   "source": [
    "#products_fits[(products_fits['productType'] == 'SCIENCE') & np.array([uri.endswith('_uncal.fits') for uri in products_fits['dataURI']])]"
   ]
  },
  {
   "cell_type": "code",
   "execution_count": 9,
   "id": "d68222ce-8156-427f-bf97-130111c57ee5",
   "metadata": {},
   "outputs": [],
   "source": [
    "from align_to_catalogs import retrieve_vvv"
   ]
  },
  {
   "cell_type": "code",
   "execution_count": 2,
   "id": "7bba1e7c-8368-442c-9cfb-89e8da92e673",
   "metadata": {
    "collapsed": true,
    "jupyter": {
     "outputs_hidden": true
    },
    "tags": []
   },
   "outputs": [
    {
     "name": "stderr",
     "output_type": "stream",
     "text": [
      "WARNING: VerifyWarning: Keyword name 'description' is greater than 8 characters or contains characters not allowed by the FITS standard; a HIERARCH card will be created. [astropy.io.fits.card]\n"
     ]
    },
    {
     "data": {
      "text/plain": [
       "(<SkyCoord (FK5: equinox=J2000.000): (ra, dec) in deg\n",
       "     [(266.581129, -28.666482), (266.594517, -28.666434),\n",
       "      (266.604305, -28.663877), ..., (266.555803, -28.513283),\n",
       "      (266.560494, -28.514834), (266.559398, -28.51401 )]>,\n",
       " <Table length=9945>\n",
       "  RAJ2000    DEJ2000           iauname          mClass  Zmag3   e_Zmag3   Zperrbits  Ymag3  e_Ymag3  ...  Hmag3  e_Hmag3  Hperrbits  Ksmag3 e_Ksmag3 Ksperrbits     RA        DEC            skycoord      \n",
       "    deg        deg                                       mag      mag                 mag     mag    ...   mag     mag                mag     mag                  deg        deg            deg,deg       \n",
       "  float64    float64            str24           int16  float32  float64     int32   float64 float64  ... float64 float64    int32   float64 float64    int32     float64    float64          SkyCoord      \n",
       " ---------- ---------- ------------------------ ------ ------- ---------- --------- ------- -------- ... ------- -------- --------- ------- -------- ---------- ---------- ---------- ---------------------\n",
       " 266.581129 -28.666482 VVV J174619.47-283959.33     -1  19.834      0.213         0  18.378    0.095 ...      --       --         0      --       --          0 266.581129 -28.666482 266.581129,-28.666482\n",
       " 266.594517 -28.666434 VVV J174622.68-283959.16     -1  19.698      0.186         0  17.913    0.063 ...  14.765    0.028        16  13.780    0.032         16 266.594517 -28.666434 266.594517,-28.666434\n",
       " 266.604305 -28.663877 VVV J174625.03-283949.95      1  19.802      0.203         0  19.139    0.195 ...      --       --         0      --       --          0 266.604305 -28.663877 266.604305,-28.663877\n",
       " 266.591641 -28.659914 VVV J174621.99-283935.68     -2  17.080      0.019        16  16.666    0.021 ...  15.239    0.043        16  14.557    0.066         16 266.591641 -28.659914 266.591641,-28.659914\n",
       " 266.594249 -28.659873 VVV J174622.61-283935.54     -1  16.533      0.013        16  16.252    0.015 ...  14.908    0.032         0      --       --          0 266.594249 -28.659873 266.594249,-28.659873\n",
       " 266.596891 -28.657571 VVV J174623.25-283927.25      1  19.783      0.201         0  19.503    0.267 ...      --       --         0      --       --          0 266.596891 -28.657571 266.596891,-28.657571\n",
       " 266.592115 -28.663610 VVV J174622.10-283948.99      1  19.429      0.146         0  18.921    0.157 ...      --       --         0      --       --          0 266.592115 -28.663610  266.592115,-28.66361\n",
       " 266.596359 -28.665611 VVV J174623.12-283956.20     -1  18.001      0.041         0  16.417    0.017 ...  13.448    0.009        16  12.555    0.011         16 266.596359 -28.665611 266.596359,-28.665611\n",
       " 266.595743 -28.663933 VVV J174622.97-283950.15     -1  18.288      0.053         0  17.738    0.054 ...  16.486    0.135         0      --       --          0 266.595743 -28.663933 266.595743,-28.663933\n",
       " 266.599595 -28.659911 VVV J174623.90-283935.67     -1  12.426      0.001         0  11.403    0.001 ...   9.421    0.001     65552      --       --          0 266.599595 -28.659911 266.599595,-28.659911\n",
       " 266.587911 -28.662759 VVV J174621.09-283945.93     -1  19.705      0.188         0  18.984    0.165 ...      --       --         0      --       --          0 266.587911 -28.662759 266.587911,-28.662759\n",
       " 266.588618 -28.666039 VVV J174621.26-283957.73     -1  16.027      0.009         0  15.728    0.010 ...  14.780    0.028         0  14.263    0.050          0 266.588618 -28.666039 266.588618,-28.666039\n",
       " 266.586247 -28.665907 VVV J174620.69-283957.26     -2  19.545      0.163         0  19.112    0.186 ...      --       --         0      --       --          0 266.586247 -28.665907 266.586247,-28.665907\n",
       " 266.586009 -28.664312 VVV J174620.64-283951.52     -1  17.429      0.026         0  16.919    0.026 ...  15.458    0.053         0  15.029    0.102         16 266.586009 -28.664312 266.586009,-28.664312\n",
       " 266.590792 -28.661108 VVV J174621.79-283939.98     -1  18.478      0.063         0  17.577    0.047 ...  15.866    0.077        16      --       --          0 266.590792 -28.661108 266.590792,-28.661108\n",
       " 266.597314 -28.660773 VVV J174623.35-283938.78      1  19.331      0.134         0  18.036    0.071 ...  15.616    0.061        16  15.342    0.135         16 266.597314 -28.660773 266.597314,-28.660773\n",
       " 266.585033 -28.663071 VVV J174620.40-283947.05     -1  17.273      0.023         0  16.668    0.021 ...  15.135    0.039        16  14.477    0.061         16 266.585033 -28.663071 266.585033,-28.663071\n",
       " 266.587969 -28.659972 VVV J174621.11-283935.89     -1  19.087      0.108         0  17.862    0.060 ...  15.565    0.058         0  15.201    0.119         16 266.587969 -28.659972 266.587969,-28.659972\n",
       " 266.606888 -28.667453 VVV J174625.65-284002.83     -1  15.775      0.007         0  15.441    0.008 ...  14.465    0.021        16  13.950    0.037         16 266.606888 -28.667453 266.606888,-28.667453\n",
       " 266.592309 -28.657008 VVV J174622.15-283925.23     -1  10.249      0.001     65552   9.939    0.001 ...   9.001    0.001     65552   9.100    0.001      65552 266.592309 -28.657008 266.592309,-28.657008\n",
       " 266.598855 -28.657307 VVV J174623.72-283926.30      1      --         --         0      --       -- ...  16.103    0.095         0  14.184    0.047         16 266.598855 -28.657307 266.598855,-28.657307\n",
       " 266.590135 -28.659017 VVV J174621.63-283932.46      1  17.900      0.038        16  17.069    0.030 ...      --       --         0      --       --          0 266.590135 -28.659017 266.590135,-28.659017\n",
       " 266.594639 -28.658206 VVV J174622.71-283929.54      1  17.618      0.030        16  17.316    0.037 ...  16.339    0.118         0  14.910    0.091          0 266.594639 -28.658206 266.594639,-28.658206\n",
       "        ...        ...                      ...    ...     ...        ...       ...     ...      ... ...     ...      ...       ...     ...      ...        ...        ...        ...                   ...\n",
       " 266.553269 -28.518855 VVV J174612.78-283107.87     -1      --         --         0      --       -- ...  14.432    0.021        16  12.938    0.015         16 266.553269 -28.518855 266.553269,-28.518855\n",
       " 266.558297 -28.516544 VVV J174613.99-283059.55     -1      --         --         0      --       -- ...  14.313    0.018        16  12.801    0.013         16 266.558297 -28.516544 266.558297,-28.516544\n",
       " 266.556025 -28.514961 VVV J174613.44-283053.86      0      --         --         0      --       -- ...      --       --         0      --       --          0 266.556025 -28.514961 266.556025,-28.514961\n",
       " 266.553959 -28.512955 VVV J174612.95-283046.63      1      --         --         0      --       -- ...  15.608    0.060         0  14.462    0.061         16 266.553959 -28.512955 266.553959,-28.512955\n",
       " 266.557039 -28.516025 VVV J174613.68-283057.68      1      --         --         0      --       -- ...  15.080    0.037         0  13.653    0.029         16 266.557039 -28.516025 266.557039,-28.516025\n",
       " 266.553825 -28.516370 VVV J174612.91-283058.93     -1      --         --         0      --       -- ...  14.367    0.019        16      --       --          0 266.553825 -28.516370  266.553825,-28.51637\n",
       " 266.554886 -28.519588 VVV J174613.17-283110.51     -1      --         --         0      --       -- ...  14.131    0.016        16  12.771    0.013         16 266.554886 -28.519588 266.554886,-28.519588\n",
       " 266.556013 -28.514959 VVV J174613.44-283053.85      1      --         --         0      --       -- ...      --       --         0  11.538    0.004         16 266.556013 -28.514959 266.556013,-28.514959\n",
       " 266.557574 -28.514656 VVV J174613.81-283052.76     -2      --         --         0      --       -- ...      --       --         0  12.054    0.007         16 266.557574 -28.514656 266.557574,-28.514656\n",
       " 266.558319 -28.513344 VVV J174613.99-283048.03     -1      --         --         0      --       -- ...  16.355    0.119        16  14.858    0.088         16 266.558319 -28.513344 266.558319,-28.513344\n",
       " 266.561644 -28.512861 VVV J174614.79-283046.29     -1      --         --         0      --       -- ...  16.047    0.090         0  14.795    0.083         16 266.561644 -28.512861 266.561644,-28.512861\n",
       " 266.553364 -28.513896 VVV J174612.80-283050.02     -1      --         --         0      --       -- ...  17.470    0.333         0  15.774    0.203          0 266.553364 -28.513896 266.553364,-28.513896\n",
       " 266.559312 -28.513041 VVV J174614.23-283046.94     -1      --         --         0      --       -- ...  17.060    0.228         0  15.755    0.200          0 266.559312 -28.513041 266.559312,-28.513041\n",
       " 266.553792 -28.517143 VVV J174612.91-283101.71     -1      --         --         0      --       -- ...  16.209    0.104         0  15.007    0.100          0 266.553792 -28.517143 266.553792,-28.517143\n",
       " 266.554725 -28.520504 VVV J174613.13-283113.81     -1      --         --         0      --       -- ...  17.459    0.329         0  15.550    0.165          0 266.554725 -28.520504 266.554725,-28.520504\n",
       " 266.559430 -28.514934 VVV J174614.26-283053.76     -1      --         --         0      --       -- ...  16.838    0.186        16      --       --          0 266.559430 -28.514934  266.55943,-28.514934\n",
       " 266.557265 -28.516724 VVV J174613.74-283100.20     -1      --         --         0      --       -- ...  16.785    0.177         0  15.327    0.135          0 266.557265 -28.516724 266.557265,-28.516724\n",
       " 266.555460 -28.517331 VVV J174613.31-283102.39     -1      --         --         0      --       -- ...  15.418    0.051        16      --       --          0 266.555460 -28.517331  266.55546,-28.517331\n",
       " 266.553644 -28.518782 VVV J174612.87-283107.61      1      --         --         0      --       -- ...  14.370    0.019        16  12.923    0.015         16 266.553644 -28.518782 266.553644,-28.518782\n",
       " 266.561040 -28.513635 VVV J174614.64-283049.08      0      --         --         0      --       -- ...      --       --         0  17.540    1.034          0 266.561040 -28.513635  266.56104,-28.513635\n",
       " 266.556982 -28.514317 VVV J174613.67-283051.54      1      --         --         0      --       -- ...      --       --         0  12.673    0.012         16 266.556982 -28.514317 266.556982,-28.514317\n",
       " 266.555803 -28.513283 VVV J174613.39-283047.81     -1      --         --         0      --       -- ...      --       --         0  12.779    0.013         16 266.555803 -28.513283 266.555803,-28.513283\n",
       " 266.560494 -28.514834 VVV J174614.51-283053.40     -1      --         --         0      --       -- ...      --       --         0  16.794    0.520          0 266.560494 -28.514834 266.560494,-28.514834\n",
       " 266.559398 -28.514010 VVV J174614.25-283050.43     -1      --         --         0      --       -- ...      --       --         0  16.780    0.513          0 266.559398 -28.514010  266.559398,-28.51401)"
      ]
     },
     "execution_count": 2,
     "metadata": {},
     "output_type": "execute_result"
    }
   ],
   "source": [
    "retrieve_vvv(\n",
    "    basepath = '/orange/adamginsburg/jwst/cloudc/',\n",
    "    filtername = 'f405n',\n",
    "    module = 'merged',\n",
    "    imfile = None,\n",
    "    catfile = None,\n",
    "    fov_regname='regions/nircam_cloudc_fov.reg',\n",
    "    fieldnumber='002',\n",
    ")"
   ]
  },
  {
   "cell_type": "code",
   "execution_count": 9,
   "id": "6435670d-a4ce-4d1f-8485-a37694dfc97f",
   "metadata": {},
   "outputs": [
    {
     "ename": "NameError",
     "evalue": "name 'member' is not defined",
     "output_type": "error",
     "traceback": [
      "\u001b[0;31m---------------------------------------------------------------------------\u001b[0m",
      "\u001b[0;31mNameError\u001b[0m                                 Traceback (most recent call last)",
      "Cell \u001b[0;32mIn[9], line 1\u001b[0m\n\u001b[0;32m----> 1\u001b[0m \u001b[43mmember\u001b[49m[\u001b[38;5;124m'\u001b[39m\u001b[38;5;124mexpname\u001b[39m\u001b[38;5;124m'\u001b[39m]\n",
      "\u001b[0;31mNameError\u001b[0m: name 'member' is not defined"
     ]
    }
   ],
   "source": [
    "#member['expname']"
   ]
  },
  {
   "cell_type": "code",
   "execution_count": 3,
   "id": "119674e2-3fb4-48a5-9854-9ec0af085f31",
   "metadata": {},
   "outputs": [],
   "source": [
    "import shutil\n",
    "from align_to_catalogs import realign_to_vvv, realign_to_catalog, merge_a_plus_b, retrieve_vvv\n"
   ]
  },
  {
   "cell_type": "code",
   "execution_count": 7,
   "id": "6cdf62c2-6b47-4638-b562-31565339d93f",
   "metadata": {},
   "outputs": [
    {
     "name": "stdout",
     "output_type": "stream",
     "text": [
      "INFO: Kept 7752 out of 9945 VVV stars using ksmag_limit>11 [align_to_catalogs]\n",
      "INFO: For f405n merged 002 catalog /orange/adamginsburg/jwst/cloudc//F405N/pipeline/jw02221-o002_t001_nircam_clear-f405n-merged_cat.ecsv, found 9395 of 19507 sources meeting criteria mag<15 [align_to_catalogs]\n",
      "2023-07-20T14:26:15.739478: Before realignment, offset is -0.005937815103607136 arcsec, -0.01007643522541457 arcsec.  Found 319 matches.\n",
      "2023-07-20T14:26:15.746149: CRVAL before 266.5870709048492 -28.59030752349884\n",
      "2023-07-20T14:26:15.751861: CRVAL after 266.58707255424 -28.590304724489\n",
      "2023-07-20T14:26:16.012553: After realignment, offset is -0.015492051852561417 arcsec, -0.005075601654169759 arcsec with 320 mathces\n",
      "2023-07-20T14:26:16.054517: After re-realignment, offset is -0.015492051852561417 arcsec, -0.005075601654169759 arcsec using 320 matches\n"
     ]
    }
   ],
   "source": [
    "realigned_vvv_filename = '/orange/adamginsburg/jwst/cloudc/F405N/pipeline/jw02221-o002_t001_nircam_clear-f405n-merged_realigned-to-vvv.fits'\n",
    "#f'{basepath}/{filtername.upper()}/pipeline/jw02221-o{field}_t001_nircam_clear-{filtername.lower()}-{module}_realigned-to-vvv.fits'\n",
    "#shutil.copy(f'{basepath}/{filtername.upper()}/pipeline/jw02221-o{field}_t001_nircam_clear-{filtername.lower()}-{module}_i2d.fits',\n",
    "#            realigned_vvv_filename)\n",
    "shutil.copy('/orange/adamginsburg/jwst/cloudc/F405N/pipeline/jw02221-o002_t001_nircam_clear-f405n-merged_i2d.fits', realigned_vvv_filename)\n",
    "filtername='f405n'\n",
    "realigned = realign_to_vvv(filtername=filtername, fov_regname='regions/nircam_cloudc_fov.reg', basepath='/orange/adamginsburg/jwst/cloudc/', module='merged', fieldnumber='002',\n",
    "                           imfile=realigned_vvv_filename, ksmag_limit=15 if filtername=='f410m' else 11, mag_limit=15)"
   ]
  },
  {
   "cell_type": "code",
   "execution_count": null,
   "id": "d83d834e-ee5d-4f77-8e6d-579db32aa87b",
   "metadata": {},
   "outputs": [],
   "source": []
  },
  {
   "cell_type": "code",
   "execution_count": null,
   "id": "e73fd709-5256-4234-a854-883f6d9dce3e",
   "metadata": {},
   "outputs": [],
   "source": []
  },
  {
   "cell_type": "code",
   "execution_count": 3,
   "id": "8cd1b5a9-bdd3-49cc-83c5-622ca5b19862",
   "metadata": {},
   "outputs": [],
   "source": [
    "from align_to_catalogs import realign_to_vvv, merge_a_plus_b, retrieve_vvv\n"
   ]
  },
  {
   "cell_type": "code",
   "execution_count": 4,
   "id": "c3b7ee54-643b-4086-a9e0-fae79e5eb940",
   "metadata": {},
   "outputs": [],
   "source": [
    "fov_regname = {'brick': 'regions/nircam_brick_fov.reg',\n",
    "              'cloudc': 'regions/nircam_cloudc_fov.reg',\n",
    "              }\n",
    "regionname = 'cloudc'\n",
    "basepath = f'/orange/adamginsburg/jwst/{regionname}/'\n",
    "filtername = 'F405N'\n",
    "field = '002' \n",
    "module = 'merged'\n",
    "output_dir = f'/orange/adamginsburg/jwst/{regionname}/{filtername}/pipeline/'"
   ]
  },
  {
   "cell_type": "code",
   "execution_count": 5,
   "id": "c1f4474d-1ca7-4b7e-a7e9-090cd1b90637",
   "metadata": {},
   "outputs": [],
   "source": [
    "fwhm_tbl = Table.read(f'{basepath}/reduction/fwhm_table.ecsv')\n",
    "row = fwhm_tbl[fwhm_tbl['Filter'] == filtername]\n",
    "fwhm = fwhm_arcsec = float(row['PSF FWHM (arcsec)'][0])\n",
    "fwhm_pix = float(row['PSF FWHM (pixel)'][0])"
   ]
  },
  {
   "cell_type": "code",
   "execution_count": 6,
   "id": "34815f23-9365-4b72-8a10-f938e0ee26f3",
   "metadata": {},
   "outputs": [
    {
     "name": "stdout",
     "output_type": "stream",
     "text": [
      "Searching for /orange/adamginsburg/jwst/cloudc/F405N/pipeline/jw02221-o002*_image3_*0[0-9][0-9]_asn.json\n",
      "Found multiple asn files: ['/orange/adamginsburg/jwst/cloudc/F405N/pipeline/jw02221-o002_20230911t112751_image3_00005_asn.json', '/orange/adamginsburg/jwst/cloudc/F405N/pipeline/jw02221-o002_20230725t121309_image3_00005_asn.json', '/orange/adamginsburg/jwst/cloudc/F405N/pipeline/jw02221-o002_20230410t190607_image3_00004_asn.json', '/orange/adamginsburg/jwst/cloudc/F405N/pipeline/jw02221-o002_20230622t004213_image3_00004_asn.json'].  Using the more recent one, /orange/adamginsburg/jwst/cloudc/F405N/pipeline/jw02221-o002_20230911t112751_image3_00005_asn.json.\n"
     ]
    }
   ],
   "source": [
    "print(f\"Searching for {os.path.join(output_dir, f'jw02221-o{field}*_image3_*0[0-9][0-9]_asn.json')}\")\n",
    "asn_file_search = glob(os.path.join(output_dir, f'jw02221-o{field}*_image3_*0[0-9][0-9]_asn.json'))\n",
    "if len(asn_file_search) == 1:\n",
    "    asn_file = asn_file_search[0]\n",
    "elif len(asn_file_search) > 1:\n",
    "    asn_file = sorted(asn_file_search)[-1]\n",
    "    print(f\"Found multiple asn files: {asn_file_search}.  Using the more recent one, {asn_file}.\")\n",
    "else:\n",
    "    raise ValueError(f\"Mismatch: Did not find any asn files for module {module} for field {field} in {output_dir}\")"
   ]
  },
  {
   "cell_type": "code",
   "execution_count": 90,
   "id": "f25d2460-6a2a-44f2-a4b8-f4730225889c",
   "metadata": {
    "tags": []
   },
   "outputs": [
    {
     "data": {
      "text/plain": [
       "'/orange/adamginsburg/jwst/cloudc/F405N/pipeline/jw02221-o002_20230725t121309_image3_00005_asn.json'"
      ]
     },
     "execution_count": 90,
     "metadata": {},
     "output_type": "execute_result"
    }
   ],
   "source": [
    "asn_file"
   ]
  },
  {
   "cell_type": "code",
   "execution_count": 91,
   "id": "249cb1e8-8f45-41d3-9899-85be5cc86fd8",
   "metadata": {},
   "outputs": [
    {
     "data": {
      "text/plain": [
       "['/orange/adamginsburg/jwst/cloudc/F405N/pipeline/jw02221-o002_20230725t121309_image3_00005_asn.json',\n",
       " '/orange/adamginsburg/jwst/cloudc/F405N/pipeline/jw02221-o002_20230410t190607_image3_00004_asn.json',\n",
       " '/orange/adamginsburg/jwst/cloudc/F405N/pipeline/jw02221-o002_20230622t004213_image3_00004_asn.json']"
      ]
     },
     "execution_count": 91,
     "metadata": {},
     "output_type": "execute_result"
    }
   ],
   "source": [
    "asn_file_search"
   ]
  },
  {
   "cell_type": "code",
   "execution_count": 61,
   "id": "f5818065-32a6-4bd5-a131-60014ba1e807",
   "metadata": {
    "tags": []
   },
   "outputs": [
    {
     "name": "stdout",
     "output_type": "stream",
     "text": [
      "2023-10-10T13:35:58.967529: Mapping: [('NRC_IMAGE', 'F070W', 'CLEAR', '2000-01-01 00:00:00', 'jwst_nircam_pars-tweakregstep_0030.asdf'), ('NRC_IMAGE', 'F090W', 'CLEAR', '2000-01-01 00:00:00', 'jwst_nircam_pars-tweakregstep_0046.asdf'), ('NRC_IMAGE', 'F115W', 'CLEAR', '2000-01-01 00:00:00', 'jwst_nircam_pars-tweakregstep_0039.asdf'), ('NRC_IMAGE', 'F140M', 'CLEAR', '2000-01-01 00:00:00', 'jwst_nircam_pars-tweakregstep_0034.asdf'), ('NRC_IMAGE', 'F150W', 'CLEAR', '2000-01-01 00:00:00', 'jwst_nircam_pars-tweakregstep_0041.asdf'), ('NRC_IMAGE', 'F150W2', 'CLEAR', '2000-01-01 00:00:00', 'jwst_nircam_pars-tweakregstep_0050.asdf'), ('NRC_IMAGE', 'F150W2', 'F162M', '2000-01-01 00:00:00', 'jwst_nircam_pars-tweakregstep_0055.asdf'), ('NRC_IMAGE', 'F150W2', 'F164N', '2000-01-01 00:00:00', 'jwst_nircam_pars-tweakregstep_0033.asdf'), ('NRC_IMAGE', 'F182M', 'CLEAR', '2000-01-01 00:00:00', 'jwst_nircam_pars-tweakregstep_0047.asdf'), ('NRC_IMAGE', 'F187N', 'CLEAR', '2000-01-01 00:00:00', 'jwst_nircam_pars-tweakregstep_0051.asdf'), ('NRC_IMAGE', 'F200W', 'CLEAR', '2000-01-01 00:00:00', 'jwst_nircam_pars-tweakregstep_0036.asdf'), ('NRC_IMAGE', 'F210M', 'CLEAR', '2000-01-01 00:00:00', 'jwst_nircam_pars-tweakregstep_0056.asdf'), ('NRC_IMAGE', 'F212N', 'CLEAR', '2000-01-01 00:00:00', 'jwst_nircam_pars-tweakregstep_0037.asdf'), ('NRC_IMAGE', 'F250M', 'CLEAR', '2000-01-01 00:00:00', 'jwst_nircam_pars-tweakregstep_0040.asdf'), ('NRC_IMAGE', 'F277W', 'CLEAR', '2000-01-01 00:00:00', 'jwst_nircam_pars-tweakregstep_0042.asdf'), ('NRC_IMAGE', 'F300M', 'CLEAR', '2000-01-01 00:00:00', 'jwst_nircam_pars-tweakregstep_0054.asdf'), ('NRC_IMAGE', 'F322W2', 'CLEAR', '2000-01-01 00:00:00', 'jwst_nircam_pars-tweakregstep_0044.asdf'), ('NRC_IMAGE', 'F322W2', 'F323N', '2000-01-01 00:00:00', 'jwst_nircam_pars-tweakregstep_0053.asdf'), ('NRC_IMAGE', 'F335M', 'CLEAR', '2000-01-01 00:00:00', 'jwst_nircam_pars-tweakregstep_0032.asdf'), ('NRC_IMAGE', 'F356W', 'CLEAR', '2000-01-01 00:00:00', 'jwst_nircam_pars-tweakregstep_0043.asdf'), ('NRC_IMAGE', 'F360M', 'CLEAR', '2000-01-01 00:00:00', 'jwst_nircam_pars-tweakregstep_0048.asdf'), ('NRC_IMAGE', 'F410M', 'CLEAR', '2000-01-01 00:00:00', 'jwst_nircam_pars-tweakregstep_0031.asdf'), ('NRC_IMAGE', 'F430M', 'CLEAR', '2000-01-01 00:00:00', 'jwst_nircam_pars-tweakregstep_0049.asdf'), ('NRC_IMAGE', 'F444W', 'CLEAR', '2000-01-01 00:00:00', 'jwst_nircam_pars-tweakregstep_0045.asdf'), ('NRC_IMAGE', 'F444W', 'F405N', '2000-01-01 00:00:00', 'jwst_nircam_pars-tweakregstep_0035.asdf'), ('NRC_IMAGE', 'F444W', 'F466N', '2000-01-01 00:00:00', 'jwst_nircam_pars-tweakregstep_0052.asdf'), ('NRC_IMAGE', 'F444W', 'F470N', '2000-01-01 00:00:00', 'jwst_nircam_pars-tweakregstep_0058.asdf'), ('NRC_IMAGE', 'F460M', 'CLEAR', '2000-01-01 00:00:00', 'jwst_nircam_pars-tweakregstep_0038.asdf'), ('NRC_IMAGE', 'F480M', 'CLEAR', '2000-01-01 00:00:00', 'jwst_nircam_pars-tweakregstep_0057.asdf')]\n",
      "2023-10-10T13:35:58.967650: Filtername: F405N\n",
      "2023-10-10T13:35:58.967837: Filter_match: [('NRC_IMAGE', 'F444W', 'F405N', '2000-01-01 00:00:00', 'jwst_nircam_pars-tweakregstep_0035.asdf')] n=1\n",
      "2023-10-10T13:35:59.202978: Filter F405N: {'fitgeometry': 'shift', 'kernel_fwhm': 2.165, 'separation': 2.0, 'tolerance': 1.0}\n"
     ]
    }
   ],
   "source": [
    "mapping = crds.rmap.load_mapping(f'/orange/adamginsburg/jwst/{regionname}/crds/mappings/jwst/jwst_nircam_pars-tweakregstep_0003.rmap')\n",
    "print(f\"Mapping: {mapping.todict()['selections']}\")\n",
    "print(f\"Filtername: {filtername}\")\n",
    "filter_match = [x for x in mapping.todict()['selections'] if filtername in x]\n",
    "print(f\"Filter_match: {filter_match} n={len(filter_match)}\")\n",
    "tweakreg_asdf_filename = filter_match[0][4]\n",
    "tweakreg_asdf = asdf.open(f'https://jwst-crds.stsci.edu/unchecked_get/references/jwst/{tweakreg_asdf_filename}')\n",
    "tweakreg_parameters = tweakreg_asdf.tree['parameters']\n",
    "print(f'Filter {filtername}: {tweakreg_parameters}')"
   ]
  },
  {
   "cell_type": "code",
   "execution_count": 93,
   "id": "cb99181f-7c4f-4078-9d04-5e5008bc23b0",
   "metadata": {},
   "outputs": [],
   "source": [
    "#os.path.join(output_dir, member['expname'])"
   ]
  },
  {
   "cell_type": "code",
   "execution_count": 94,
   "id": "5621a90d-7d14-4917-a40c-69eb29ca491e",
   "metadata": {},
   "outputs": [],
   "source": [
    "import astropy.units as u"
   ]
  },
  {
   "cell_type": "code",
   "execution_count": 95,
   "id": "972c99cb-07e1-400e-bc80-7157b7029982",
   "metadata": {
    "tags": []
   },
   "outputs": [
    {
     "data": {
      "text/html": [
       "<div><i>Table length=1</i>\n",
       "<table id=\"table22489874699456\" class=\"table-striped table-bordered table-condensed\">\n",
       "<thead><tr><th>Filter</th><th>Wavelength(µm)</th><th>PSF FWHM (arcsec)</th><th>PSF FWHM (pixel)</th></tr></thead>\n",
       "<thead><tr><th>str6</th><th>float64</th><th>float64</th><th>float64</th></tr></thead>\n",
       "<tr><td>F405N</td><td>4.052</td><td>0.136</td><td>2.165</td></tr>\n",
       "</table></div>"
      ],
      "text/plain": [
       "<Table length=1>\n",
       "Filter Wavelength(µm) PSF FWHM (arcsec) PSF FWHM (pixel)\n",
       " str6     float64          float64          float64     \n",
       "------ -------------- ----------------- ----------------\n",
       " F405N          4.052             0.136            2.165"
      ]
     },
     "execution_count": 95,
     "metadata": {},
     "output_type": "execute_result"
    }
   ],
   "source": [
    "row"
   ]
  },
  {
   "cell_type": "code",
   "execution_count": null,
   "id": "807a1595-7ecc-4449-b3aa-400f2a43f211",
   "metadata": {
    "collapsed": true,
    "jupyter": {
     "outputs_hidden": true
    },
    "tags": []
   },
   "outputs": [],
   "source": []
  },
  {
   "cell_type": "code",
   "execution_count": 10,
   "id": "64e8835d-106c-4e85-95d0-9b9b27f831c7",
   "metadata": {
    "collapsed": true,
    "jupyter": {
     "outputs_hidden": true
    },
    "tags": []
   },
   "outputs": [
    {
     "name": "stdout",
     "output_type": "stream",
     "text": [
      "2023-09-12T11:30:03.495031: Filter F405N module nrca\n",
      "2023-09-12T11:30:03.496914: jw02221002001_02201_00001_nrcalong_cal.fits\n",
      "Destreaking /orange/adamginsburg/jwst/cloudc/F405N/pipeline/jw02221002001_02201_00001_nrcalong_cal.fits\n"
     ]
    },
    {
     "name": "stderr",
     "output_type": "stream",
     "text": [
      "2023-09-12 11:30:03,959 - stpipe - WARNING - /blue/adamginsburg/adamginsburg/miniconda3/envs/python39savannah/lib/python3.9/site-packages/numpy/lib/nanfunctions.py:1577: RuntimeWarning: All-NaN slice encountered\n",
      "  result = np.apply_along_axis(_nanquantile_1d, axis, a, q,\n",
      "\n",
      "2023-09-12 11:30:05,242 - stpipe - WARNING - /blue/adamginsburg/adamginsburg/repos/astropy/astropy/wcs/wcs.py:819: FITSFixedWarning: 'datfix' made the change 'Set DATE-BEG to '2023-04-15T15:08:19.326' from MJD-BEG.\n",
      "Set DATE-AVG to '2023-04-15T15:08:46.168' from MJD-AVG.\n",
      "Set DATE-END to '2023-04-15T15:09:13.010' from MJD-END'.\n",
      "  warnings.warn(\n",
      "\n",
      "2023-09-12 11:30:05,252 - stpipe - WARNING - /blue/adamginsburg/adamginsburg/repos/astropy/astropy/wcs/wcs.py:819: FITSFixedWarning: 'obsfix' made the change 'Set OBSGEO-L to  -134.380275 from OBSGEO-[XYZ].\n",
      "Set OBSGEO-B to    -3.177752 from OBSGEO-[XYZ].\n",
      "Set OBSGEO-H to 1298809712.873 from OBSGEO-[XYZ]'.\n",
      "  warnings.warn(\n",
      "\n",
      "2023-09-12 11:30:05,307 - stpipe - WARNING - /blue/adamginsburg/adamginsburg/repos/astropy/astropy/wcs/wcs.py:819: FITSFixedWarning: 'obsfix' made the change 'Set OBSGEO-L to   -51.592060 from OBSGEO-[XYZ].\n",
      "Set OBSGEO-B to   -20.722509 from OBSGEO-[XYZ].\n",
      "Set OBSGEO-H to 1527124813.495 from OBSGEO-[XYZ]'.\n",
      "  warnings.warn(\n",
      "\n"
     ]
    },
    {
     "name": "stdout",
     "output_type": "stream",
     "text": [
      "2023-09-12T11:30:06.102892: /orange/adamginsburg/jwst/cloudc/F405N/pipeline/jw02221002001_02201_00001_nrcalong_destreak.fits\n",
      "2023-09-12T11:30:06.549604: Running manual align.\n",
      "2023-09-12T11:30:06.554765: 1024.5 126.20755149343998\n",
      "2023-09-12T11:30:06.555071: 1150.70755149344\n",
      "2023-09-12T11:30:06.555291: 1024.5 -4.792691828864809\n",
      "2023-09-12T11:30:06.555600: 1019.7073081711352\n",
      "2023-09-12T11:30:06.823133: jw02221002001_02201_00002_nrcalong_cal.fits\n",
      "Destreaking /orange/adamginsburg/jwst/cloudc/F405N/pipeline/jw02221002001_02201_00002_nrcalong_cal.fits\n"
     ]
    },
    {
     "name": "stderr",
     "output_type": "stream",
     "text": [
      "2023-09-12 11:30:08,569 - stpipe - WARNING - /blue/adamginsburg/adamginsburg/repos/astropy/astropy/wcs/wcs.py:819: FITSFixedWarning: 'datfix' made the change 'Set DATE-BEG to '2023-04-15T15:11:00.350' from MJD-BEG.\n",
      "Set DATE-AVG to '2023-04-15T15:11:27.192' from MJD-AVG.\n",
      "Set DATE-END to '2023-04-15T15:11:54.034' from MJD-END'.\n",
      "  warnings.warn(\n",
      "\n",
      "2023-09-12 11:30:08,572 - stpipe - WARNING - /blue/adamginsburg/adamginsburg/repos/astropy/astropy/wcs/wcs.py:819: FITSFixedWarning: 'obsfix' made the change 'Set OBSGEO-L to  -134.376742 from OBSGEO-[XYZ].\n",
      "Set OBSGEO-B to    -3.179688 from OBSGEO-[XYZ].\n",
      "Set OBSGEO-H to 1298825238.212 from OBSGEO-[XYZ]'.\n",
      "  warnings.warn(\n",
      "\n"
     ]
    },
    {
     "name": "stdout",
     "output_type": "stream",
     "text": [
      "2023-09-12T11:30:09.049208: /orange/adamginsburg/jwst/cloudc/F405N/pipeline/jw02221002001_02201_00002_nrcalong_destreak.fits\n",
      "2023-09-12T11:30:09.383420: Running manual align.\n",
      "2023-09-12T11:30:09.385211: 1024.5 126.20755149343998\n",
      "2023-09-12T11:30:09.385406: 1150.70755149344\n",
      "2023-09-12T11:30:09.385627: 1024.5 -4.792691828864809\n",
      "2023-09-12T11:30:09.385793: 1019.7073081711352\n",
      "2023-09-12T11:30:09.642415: jw02221002001_02201_00003_nrcalong_cal.fits\n",
      "Destreaking /orange/adamginsburg/jwst/cloudc/F405N/pipeline/jw02221002001_02201_00003_nrcalong_cal.fits\n"
     ]
    },
    {
     "name": "stderr",
     "output_type": "stream",
     "text": [
      "2023-09-12 11:30:11,290 - stpipe - WARNING - /blue/adamginsburg/adamginsburg/repos/astropy/astropy/wcs/wcs.py:819: FITSFixedWarning: 'datfix' made the change 'Set DATE-BEG to '2023-04-15T15:13:19.934' from MJD-BEG.\n",
      "Set DATE-AVG to '2023-04-15T15:13:46.776' from MJD-AVG.\n",
      "Set DATE-END to '2023-04-15T15:14:13.618' from MJD-END'.\n",
      "  warnings.warn(\n",
      "\n",
      "2023-09-12 11:30:11,293 - stpipe - WARNING - /blue/adamginsburg/adamginsburg/repos/astropy/astropy/wcs/wcs.py:819: FITSFixedWarning: 'obsfix' made the change 'Set OBSGEO-L to  -134.374386 from OBSGEO-[XYZ].\n",
      "Set OBSGEO-B to    -3.180978 from OBSGEO-[XYZ].\n",
      "Set OBSGEO-H to 1298835589.265 from OBSGEO-[XYZ]'.\n",
      "  warnings.warn(\n",
      "\n"
     ]
    },
    {
     "name": "stdout",
     "output_type": "stream",
     "text": [
      "2023-09-12T11:30:11.768962: /orange/adamginsburg/jwst/cloudc/F405N/pipeline/jw02221002001_02201_00003_nrcalong_destreak.fits\n",
      "2023-09-12T11:30:12.078999: Running manual align.\n",
      "2023-09-12T11:30:12.080787: 1024.5 125.40876952196251\n",
      "2023-09-12T11:30:12.080971: 1149.9087695219625\n",
      "2023-09-12T11:30:12.081189: 1024.5 -4.792691828864809\n",
      "2023-09-12T11:30:12.081355: 1019.7073081711352\n",
      "2023-09-12T11:30:12.267905: jw02221002001_02201_00004_nrcalong_cal.fits\n",
      "Destreaking /orange/adamginsburg/jwst/cloudc/F405N/pipeline/jw02221002001_02201_00004_nrcalong_cal.fits\n"
     ]
    },
    {
     "name": "stderr",
     "output_type": "stream",
     "text": [
      "2023-09-12 11:30:14,017 - stpipe - WARNING - /blue/adamginsburg/adamginsburg/repos/astropy/astropy/wcs/wcs.py:819: FITSFixedWarning: 'datfix' made the change 'Set DATE-BEG to '2023-04-15T15:16:01.022' from MJD-BEG.\n",
      "Set DATE-AVG to '2023-04-15T15:16:27.864' from MJD-AVG.\n",
      "Set DATE-END to '2023-04-15T15:16:54.706' from MJD-END'.\n",
      "  warnings.warn(\n",
      "\n",
      "2023-09-12 11:30:14,019 - stpipe - WARNING - /blue/adamginsburg/adamginsburg/repos/astropy/astropy/wcs/wcs.py:819: FITSFixedWarning: 'obsfix' made the change 'Set OBSGEO-L to  -134.370854 from OBSGEO-[XYZ].\n",
      "Set OBSGEO-B to    -3.182913 from OBSGEO-[XYZ].\n",
      "Set OBSGEO-H to 1298851117.169 from OBSGEO-[XYZ]'.\n",
      "  warnings.warn(\n",
      "\n"
     ]
    },
    {
     "name": "stdout",
     "output_type": "stream",
     "text": [
      "2023-09-12T11:30:14.475709: /orange/adamginsburg/jwst/cloudc/F405N/pipeline/jw02221002001_02201_00004_nrcalong_destreak.fits\n",
      "2023-09-12T11:30:14.838742: Running manual align.\n",
      "2023-09-12T11:30:14.840620: 1024.5 126.20755149343998\n",
      "2023-09-12T11:30:14.840811: 1150.70755149344\n",
      "2023-09-12T11:30:14.841036: 1024.5 -4.792691828864809\n",
      "2023-09-12T11:30:14.841211: 1019.7073081711352\n",
      "2023-09-12T11:30:15.121666: jw02221002001_08201_00001_nrcalong_cal.fits\n",
      "Destreaking /orange/adamginsburg/jwst/cloudc/F405N/pipeline/jw02221002001_08201_00001_nrcalong_cal.fits\n"
     ]
    },
    {
     "name": "stderr",
     "output_type": "stream",
     "text": [
      "2023-09-12 11:30:16,828 - stpipe - WARNING - /blue/adamginsburg/adamginsburg/repos/astropy/astropy/wcs/wcs.py:819: FITSFixedWarning: 'datfix' made the change 'Set DATE-BEG to '2023-04-15T15:55:33.883' from MJD-BEG.\n",
      "Set DATE-AVG to '2023-04-15T15:56:00.725' from MJD-AVG.\n",
      "Set DATE-END to '2023-04-15T15:56:27.567' from MJD-END'.\n",
      "  warnings.warn(\n",
      "\n",
      "2023-09-12 11:30:16,832 - stpipe - WARNING - /blue/adamginsburg/adamginsburg/repos/astropy/astropy/wcs/wcs.py:819: FITSFixedWarning: 'obsfix' made the change 'Set OBSGEO-L to  -134.323768 from OBSGEO-[XYZ].\n",
      "Set OBSGEO-B to    -3.208710 from OBSGEO-[XYZ].\n",
      "Set OBSGEO-H to 1299058303.688 from OBSGEO-[XYZ]'.\n",
      "  warnings.warn(\n",
      "\n"
     ]
    },
    {
     "name": "stdout",
     "output_type": "stream",
     "text": [
      "2023-09-12T11:30:17.411798: /orange/adamginsburg/jwst/cloudc/F405N/pipeline/jw02221002001_08201_00001_nrcalong_destreak.fits\n",
      "2023-09-12T11:30:17.698850: Running manual align.\n",
      "2023-09-12T11:30:17.700687: 1024.5 127.80511543639491\n",
      "2023-09-12T11:30:17.700873: 1152.305115436395\n",
      "2023-09-12T11:30:17.701089: 1024.5 -3.993909857387341\n",
      "2023-09-12T11:30:17.701256: 1020.5060901426126\n",
      "2023-09-12T11:30:17.956079: jw02221002001_08201_00002_nrcalong_cal.fits\n",
      "Destreaking /orange/adamginsburg/jwst/cloudc/F405N/pipeline/jw02221002001_08201_00002_nrcalong_cal.fits\n"
     ]
    },
    {
     "name": "stderr",
     "output_type": "stream",
     "text": [
      "2023-09-12 11:30:19,435 - stpipe - WARNING - /blue/adamginsburg/adamginsburg/repos/astropy/astropy/wcs/wcs.py:819: FITSFixedWarning: 'datfix' made the change 'Set DATE-BEG to '2023-04-15T15:58:04.219' from MJD-BEG.\n",
      "Set DATE-AVG to '2023-04-15T15:58:31.061' from MJD-AVG.\n",
      "Set DATE-END to '2023-04-15T15:58:57.903' from MJD-END'.\n",
      "  warnings.warn(\n",
      "\n",
      "2023-09-12 11:30:19,437 - stpipe - WARNING - /blue/adamginsburg/adamginsburg/repos/astropy/astropy/wcs/wcs.py:819: FITSFixedWarning: 'obsfix' made the change 'Set OBSGEO-L to  -134.321415 from OBSGEO-[XYZ].\n",
      "Set OBSGEO-B to    -3.210000 from OBSGEO-[XYZ].\n",
      "Set OBSGEO-H to 1299068670.245 from OBSGEO-[XYZ]'.\n",
      "  warnings.warn(\n",
      "\n"
     ]
    },
    {
     "name": "stdout",
     "output_type": "stream",
     "text": [
      "2023-09-12T11:30:19.993625: /orange/adamginsburg/jwst/cloudc/F405N/pipeline/jw02221002001_08201_00002_nrcalong_destreak.fits\n",
      "2023-09-12T11:30:20.375395: Running manual align.\n",
      "2023-09-12T11:30:20.377270: 1024.5 127.80511543639491\n",
      "2023-09-12T11:30:20.377453: 1152.305115436395\n",
      "2023-09-12T11:30:20.377682: 1024.5 -4.792691828864809\n",
      "2023-09-12T11:30:20.377848: 1019.7073081711352\n",
      "2023-09-12T11:30:20.599151: jw02221002001_08201_00003_nrcalong_cal.fits\n",
      "Destreaking /orange/adamginsburg/jwst/cloudc/F405N/pipeline/jw02221002001_08201_00003_nrcalong_cal.fits\n"
     ]
    },
    {
     "name": "stderr",
     "output_type": "stream",
     "text": [
      "2023-09-12 11:30:22,230 - stpipe - WARNING - /blue/adamginsburg/adamginsburg/repos/astropy/astropy/wcs/wcs.py:819: FITSFixedWarning: 'datfix' made the change 'Set DATE-BEG to '2023-04-15T16:00:34.555' from MJD-BEG.\n",
      "Set DATE-AVG to '2023-04-15T16:01:01.397' from MJD-AVG.\n",
      "Set DATE-END to '2023-04-15T16:01:28.239' from MJD-END'.\n",
      "  warnings.warn(\n",
      "\n",
      "2023-09-12 11:30:22,233 - stpipe - WARNING - /blue/adamginsburg/adamginsburg/repos/astropy/astropy/wcs/wcs.py:819: FITSFixedWarning: 'obsfix' made the change 'Set OBSGEO-L to  -134.317885 from OBSGEO-[XYZ].\n",
      "Set OBSGEO-B to    -3.211934 from OBSGEO-[XYZ].\n",
      "Set OBSGEO-H to 1299084221.372 from OBSGEO-[XYZ]'.\n",
      "  warnings.warn(\n",
      "\n"
     ]
    },
    {
     "name": "stdout",
     "output_type": "stream",
     "text": [
      "2023-09-12T11:30:22.722872: /orange/adamginsburg/jwst/cloudc/F405N/pipeline/jw02221002001_08201_00003_nrcalong_destreak.fits\n",
      "2023-09-12T11:30:23.150161: Running manual align.\n",
      "2023-09-12T11:30:23.151991: 1024.5 127.80511543639491\n",
      "2023-09-12T11:30:23.152182: 1152.305115436395\n",
      "2023-09-12T11:30:23.152404: 1024.5 -4.792691828864809\n",
      "2023-09-12T11:30:23.152586: 1019.7073081711352\n",
      "2023-09-12T11:30:23.456822: jw02221002001_08201_00004_nrcalong_cal.fits\n",
      "Destreaking /orange/adamginsburg/jwst/cloudc/F405N/pipeline/jw02221002001_08201_00004_nrcalong_cal.fits\n"
     ]
    },
    {
     "name": "stderr",
     "output_type": "stream",
     "text": [
      "2023-09-12 11:30:25,035 - stpipe - WARNING - /blue/adamginsburg/adamginsburg/repos/astropy/astropy/wcs/wcs.py:819: FITSFixedWarning: 'datfix' made the change 'Set DATE-BEG to '2023-04-15T16:03:04.827' from MJD-BEG.\n",
      "Set DATE-AVG to '2023-04-15T16:03:31.669' from MJD-AVG.\n",
      "Set DATE-END to '2023-04-15T16:03:58.511' from MJD-END'.\n",
      "  warnings.warn(\n",
      "\n",
      "2023-09-12 11:30:25,039 - stpipe - WARNING - /blue/adamginsburg/adamginsburg/repos/astropy/astropy/wcs/wcs.py:819: FITSFixedWarning: 'obsfix' made the change 'Set OBSGEO-L to  -134.315532 from OBSGEO-[XYZ].\n",
      "Set OBSGEO-B to    -3.213224 from OBSGEO-[XYZ].\n",
      "Set OBSGEO-H to 1299094589.651 from OBSGEO-[XYZ]'.\n",
      "  warnings.warn(\n",
      "\n"
     ]
    },
    {
     "name": "stdout",
     "output_type": "stream",
     "text": [
      "2023-09-12T11:30:25.423545: /orange/adamginsburg/jwst/cloudc/F405N/pipeline/jw02221002001_08201_00004_nrcalong_destreak.fits\n",
      "2023-09-12T11:30:25.718518: Running manual align.\n",
      "2023-09-12T11:30:25.720331: 1024.5 127.80511543639491\n",
      "2023-09-12T11:30:25.720513: 1152.305115436395\n",
      "2023-09-12T11:30:25.720737: 1024.5 -4.792691828864809\n",
      "2023-09-12T11:30:25.720902: 1019.7073081711352\n",
      "2023-09-12T11:30:25.970811: jw02221002002_02201_00001_nrcalong_cal.fits\n",
      "Destreaking /orange/adamginsburg/jwst/cloudc/F405N/pipeline/jw02221002002_02201_00001_nrcalong_cal.fits\n"
     ]
    },
    {
     "name": "stderr",
     "output_type": "stream",
     "text": [
      "2023-09-12 11:30:27,636 - stpipe - WARNING - /blue/adamginsburg/adamginsburg/repos/astropy/astropy/wcs/wcs.py:819: FITSFixedWarning: 'datfix' made the change 'Set DATE-BEG to '2023-04-25T04:11:46.413' from MJD-BEG.\n",
      "Set DATE-AVG to '2023-04-25T04:12:13.255' from MJD-AVG.\n",
      "Set DATE-END to '2023-04-25T04:12:40.097' from MJD-END'.\n",
      "  warnings.warn(\n",
      "\n",
      "2023-09-12 11:30:27,641 - stpipe - WARNING - /blue/adamginsburg/adamginsburg/repos/astropy/astropy/wcs/wcs.py:819: FITSFixedWarning: 'obsfix' made the change 'Set OBSGEO-L to  -120.025295 from OBSGEO-[XYZ].\n",
      "Set OBSGEO-B to   -11.484850 from OBSGEO-[XYZ].\n",
      "Set OBSGEO-H to 1386067713.035 from OBSGEO-[XYZ]'.\n",
      "  warnings.warn(\n",
      "\n"
     ]
    },
    {
     "name": "stdout",
     "output_type": "stream",
     "text": [
      "2023-09-12T11:30:28.080715: /orange/adamginsburg/jwst/cloudc/F405N/pipeline/jw02221002002_02201_00001_nrcalong_destreak.fits\n",
      "2023-09-12T11:30:28.455073: Running manual align.\n",
      "2023-09-12T11:30:28.456853: 1024.5 62.30499377524252\n",
      "2023-09-12T11:30:28.457037: 1086.8049937752426\n",
      "2023-09-12T11:30:28.457252: 1024.5 14.378075486594428\n",
      "2023-09-12T11:30:28.457416: 1038.8780754865945\n",
      "2023-09-12T11:30:28.650976: jw02221002002_02201_00002_nrcalong_cal.fits\n",
      "Destreaking /orange/adamginsburg/jwst/cloudc/F405N/pipeline/jw02221002002_02201_00002_nrcalong_cal.fits\n"
     ]
    },
    {
     "name": "stderr",
     "output_type": "stream",
     "text": [
      "2023-09-12 11:30:30,063 - stpipe - WARNING - /blue/adamginsburg/adamginsburg/repos/astropy/astropy/wcs/wcs.py:819: FITSFixedWarning: 'datfix' made the change 'Set DATE-BEG to '2023-04-25T04:14:05.997' from MJD-BEG.\n",
      "Set DATE-AVG to '2023-04-25T04:14:32.839' from MJD-AVG.\n",
      "Set DATE-END to '2023-04-25T04:14:59.681' from MJD-END'.\n",
      "  warnings.warn(\n",
      "\n",
      "2023-09-12 11:30:30,065 - stpipe - WARNING - /blue/adamginsburg/adamginsburg/repos/astropy/astropy/wcs/wcs.py:819: FITSFixedWarning: 'obsfix' made the change 'Set OBSGEO-L to  -120.023434 from OBSGEO-[XYZ].\n",
      "Set OBSGEO-B to   -11.485975 from OBSGEO-[XYZ].\n",
      "Set OBSGEO-H to 1386082407.725 from OBSGEO-[XYZ]'.\n",
      "  warnings.warn(\n",
      "\n"
     ]
    },
    {
     "name": "stdout",
     "output_type": "stream",
     "text": [
      "2023-09-12T11:30:30.499180: /orange/adamginsburg/jwst/cloudc/F405N/pipeline/jw02221002002_02201_00002_nrcalong_destreak.fits\n",
      "2023-09-12T11:30:30.844770: Running manual align.\n",
      "2023-09-12T11:30:30.846648: 1024.5 63.90255771819746\n",
      "2023-09-12T11:30:30.846833: 1088.4025577181974\n",
      "2023-09-12T11:30:30.847046: 1024.5 15.975639429549364\n",
      "2023-09-12T11:30:30.847212: 1040.4756394295493\n",
      "2023-09-12T11:30:31.188445: jw02221002002_02201_00003_nrcalong_cal.fits\n",
      "Destreaking /orange/adamginsburg/jwst/cloudc/F405N/pipeline/jw02221002002_02201_00003_nrcalong_cal.fits\n"
     ]
    },
    {
     "name": "stderr",
     "output_type": "stream",
     "text": [
      "2023-09-12 11:30:32,840 - stpipe - WARNING - /blue/adamginsburg/adamginsburg/repos/astropy/astropy/wcs/wcs.py:819: FITSFixedWarning: 'datfix' made the change 'Set DATE-BEG to '2023-04-25T04:16:36.333' from MJD-BEG.\n",
      "Set DATE-AVG to '2023-04-25T04:17:03.175' from MJD-AVG.\n",
      "Set DATE-END to '2023-04-25T04:17:30.017' from MJD-END'.\n",
      "  warnings.warn(\n",
      "\n",
      "2023-09-12 11:30:32,842 - stpipe - WARNING - /blue/adamginsburg/adamginsburg/repos/astropy/astropy/wcs/wcs.py:819: FITSFixedWarning: 'obsfix' made the change 'Set OBSGEO-L to  -120.020642 from OBSGEO-[XYZ].\n",
      "Set OBSGEO-B to   -11.487662 from OBSGEO-[XYZ].\n",
      "Set OBSGEO-H to 1386104450.505 from OBSGEO-[XYZ]'.\n",
      "  warnings.warn(\n",
      "\n"
     ]
    },
    {
     "name": "stdout",
     "output_type": "stream",
     "text": [
      "2023-09-12T11:30:33.213421: /orange/adamginsburg/jwst/cloudc/F405N/pipeline/jw02221002002_02201_00003_nrcalong_destreak.fits\n",
      "2023-09-12T11:30:33.501929: Running manual align.\n",
      "2023-09-12T11:30:33.503744: 1024.5 62.30499377524252\n",
      "2023-09-12T11:30:33.503930: 1086.8049937752426\n",
      "2023-09-12T11:30:33.504151: 1024.5 14.378075486594428\n",
      "2023-09-12T11:30:33.504316: 1038.8780754865945\n",
      "2023-09-12T11:30:33.698344: jw02221002002_02201_00004_nrcalong_cal.fits\n",
      "Destreaking /orange/adamginsburg/jwst/cloudc/F405N/pipeline/jw02221002002_02201_00004_nrcalong_cal.fits\n"
     ]
    },
    {
     "name": "stderr",
     "output_type": "stream",
     "text": [
      "2023-09-12 11:30:35,288 - stpipe - WARNING - /blue/adamginsburg/adamginsburg/repos/astropy/astropy/wcs/wcs.py:819: FITSFixedWarning: 'datfix' made the change 'Set DATE-BEG to '2023-04-25T04:19:06.604' from MJD-BEG.\n",
      "Set DATE-AVG to '2023-04-25T04:19:33.446' from MJD-AVG.\n",
      "Set DATE-END to '2023-04-25T04:20:00.288' from MJD-END'.\n",
      "  warnings.warn(\n",
      "\n",
      "2023-09-12 11:30:35,299 - stpipe - WARNING - /blue/adamginsburg/adamginsburg/repos/astropy/astropy/wcs/wcs.py:819: FITSFixedWarning: 'obsfix' made the change 'Set OBSGEO-L to  -120.018780 from OBSGEO-[XYZ].\n",
      "Set OBSGEO-B to   -11.488787 from OBSGEO-[XYZ].\n",
      "Set OBSGEO-H to 1386119146.156 from OBSGEO-[XYZ]'.\n",
      "  warnings.warn(\n",
      "\n"
     ]
    },
    {
     "name": "stdout",
     "output_type": "stream",
     "text": [
      "2023-09-12T11:30:35.682759: /orange/adamginsburg/jwst/cloudc/F405N/pipeline/jw02221002002_02201_00004_nrcalong_destreak.fits\n",
      "2023-09-12T11:30:35.925834: Running manual align.\n",
      "2023-09-12T11:30:35.927593: 1024.5 63.10377574671999\n",
      "2023-09-12T11:30:35.927777: 1087.60377574672\n",
      "2023-09-12T11:30:35.927991: 1024.5 14.378075486594428\n",
      "2023-09-12T11:30:35.928156: 1038.8780754865945\n",
      "2023-09-12T11:30:36.179341: jw02221002002_08201_00001_nrcalong_cal.fits\n",
      "Destreaking /orange/adamginsburg/jwst/cloudc/F405N/pipeline/jw02221002002_08201_00001_nrcalong_cal.fits\n"
     ]
    },
    {
     "name": "stderr",
     "output_type": "stream",
     "text": [
      "2023-09-12 11:30:37,559 - stpipe - WARNING - /blue/adamginsburg/adamginsburg/repos/astropy/astropy/wcs/wcs.py:819: FITSFixedWarning: 'datfix' made the change 'Set DATE-BEG to '2023-04-25T04:58:28.778' from MJD-BEG.\n",
      "Set DATE-AVG to '2023-04-25T04:58:55.620' from MJD-AVG.\n",
      "Set DATE-END to '2023-04-25T04:59:22.462' from MJD-END'.\n",
      "  warnings.warn(\n",
      "\n",
      "2023-09-12 11:30:37,561 - stpipe - WARNING - /blue/adamginsburg/adamginsburg/repos/astropy/astropy/wcs/wcs.py:819: FITSFixedWarning: 'obsfix' made the change 'Set OBSGEO-L to  -119.982494 from OBSGEO-[XYZ].\n",
      "Set OBSGEO-B to   -11.510718 from OBSGEO-[XYZ].\n",
      "Set OBSGEO-H to 1386405788.205 from OBSGEO-[XYZ]'.\n",
      "  warnings.warn(\n",
      "\n"
     ]
    },
    {
     "name": "stdout",
     "output_type": "stream",
     "text": [
      "2023-09-12T11:30:37.939770: /orange/adamginsburg/jwst/cloudc/F405N/pipeline/jw02221002002_08201_00001_nrcalong_destreak.fits\n",
      "2023-09-12T11:30:38.186801: Running manual align.\n",
      "2023-09-12T11:30:38.188559: 1024.5 62.30499377524252\n",
      "2023-09-12T11:30:38.188856: 1086.8049937752426\n",
      "2023-09-12T11:30:38.189070: 1024.5 15.975639429549364\n",
      "2023-09-12T11:30:38.189236: 1040.4756394295493\n",
      "2023-09-12T11:30:38.421805: jw02221002002_08201_00002_nrcalong_cal.fits\n",
      "Destreaking /orange/adamginsburg/jwst/cloudc/F405N/pipeline/jw02221002002_08201_00002_nrcalong_cal.fits\n"
     ]
    },
    {
     "name": "stderr",
     "output_type": "stream",
     "text": [
      "2023-09-12 11:30:40,192 - stpipe - WARNING - /blue/adamginsburg/adamginsburg/repos/astropy/astropy/wcs/wcs.py:819: FITSFixedWarning: 'datfix' made the change 'Set DATE-BEG to '2023-04-25T05:00:59.050' from MJD-BEG.\n",
      "Set DATE-AVG to '2023-04-25T05:01:25.892' from MJD-AVG.\n",
      "Set DATE-END to '2023-04-25T05:01:52.734' from MJD-END'.\n",
      "  warnings.warn(\n",
      "\n",
      "2023-09-12 11:30:40,194 - stpipe - WARNING - /blue/adamginsburg/adamginsburg/repos/astropy/astropy/wcs/wcs.py:819: FITSFixedWarning: 'obsfix' made the change 'Set OBSGEO-L to  -119.979703 from OBSGEO-[XYZ].\n",
      "Set OBSGEO-B to   -11.512404 from OBSGEO-[XYZ].\n",
      "Set OBSGEO-H to 1386427843.636 from OBSGEO-[XYZ]'.\n",
      "  warnings.warn(\n",
      "\n"
     ]
    },
    {
     "name": "stdout",
     "output_type": "stream",
     "text": [
      "2023-09-12T11:30:40.566030: /orange/adamginsburg/jwst/cloudc/F405N/pipeline/jw02221002002_08201_00002_nrcalong_destreak.fits\n",
      "2023-09-12T11:30:40.872884: Running manual align.\n",
      "2023-09-12T11:30:40.874697: 1024.5 63.90255771819746\n",
      "2023-09-12T11:30:40.874880: 1088.4025577181974\n",
      "2023-09-12T11:30:40.875093: 1024.5 -1.5975639429549364\n",
      "2023-09-12T11:30:40.875260: 1022.9024360570451\n",
      "2023-09-12T11:30:41.107397: jw02221002002_08201_00003_nrcalong_cal.fits\n",
      "Destreaking /orange/adamginsburg/jwst/cloudc/F405N/pipeline/jw02221002002_08201_00003_nrcalong_cal.fits\n"
     ]
    },
    {
     "name": "stderr",
     "output_type": "stream",
     "text": [
      "2023-09-12 11:30:42,662 - stpipe - WARNING - /blue/adamginsburg/adamginsburg/repos/astropy/astropy/wcs/wcs.py:819: FITSFixedWarning: 'datfix' made the change 'Set DATE-BEG to '2023-04-25T05:03:40.138' from MJD-BEG.\n",
      "Set DATE-AVG to '2023-04-25T05:04:06.980' from MJD-AVG.\n",
      "Set DATE-END to '2023-04-25T05:04:33.822' from MJD-END'.\n",
      "  warnings.warn(\n",
      "\n",
      "2023-09-12 11:30:42,664 - stpipe - WARNING - /blue/adamginsburg/adamginsburg/repos/astropy/astropy/wcs/wcs.py:819: FITSFixedWarning: 'obsfix' made the change 'Set OBSGEO-L to  -119.976913 from OBSGEO-[XYZ].\n",
      "Set OBSGEO-B to   -11.514091 from OBSGEO-[XYZ].\n",
      "Set OBSGEO-H to 1386449899.931 from OBSGEO-[XYZ]'.\n",
      "  warnings.warn(\n",
      "\n"
     ]
    },
    {
     "name": "stdout",
     "output_type": "stream",
     "text": [
      "2023-09-12T11:30:43.188741: /orange/adamginsburg/jwst/cloudc/F405N/pipeline/jw02221002002_08201_00003_nrcalong_destreak.fits\n",
      "2023-09-12T11:30:43.526523: Running manual align.\n",
      "2023-09-12T11:30:43.528302: 1024.5 63.10377574671999\n",
      "2023-09-12T11:30:43.528486: 1087.60377574672\n",
      "2023-09-12T11:30:43.528708: 1024.5 15.975639429549364\n",
      "2023-09-12T11:30:43.528873: 1040.4756394295493\n",
      "2023-09-12T11:30:43.766169: jw02221002002_08201_00004_nrcalong_cal.fits\n",
      "Destreaking /orange/adamginsburg/jwst/cloudc/F405N/pipeline/jw02221002002_08201_00004_nrcalong_cal.fits\n"
     ]
    },
    {
     "name": "stderr",
     "output_type": "stream",
     "text": [
      "2023-09-12 11:30:45,541 - stpipe - WARNING - /blue/adamginsburg/adamginsburg/repos/astropy/astropy/wcs/wcs.py:819: FITSFixedWarning: 'datfix' made the change 'Set DATE-BEG to '2023-04-25T05:05:59.722' from MJD-BEG.\n",
      "Set DATE-AVG to '2023-04-25T05:06:26.564' from MJD-AVG.\n",
      "Set DATE-END to '2023-04-25T05:06:53.406' from MJD-END'.\n",
      "  warnings.warn(\n",
      "\n",
      "2023-09-12 11:30:45,544 - stpipe - WARNING - /blue/adamginsburg/adamginsburg/repos/astropy/astropy/wcs/wcs.py:819: FITSFixedWarning: 'obsfix' made the change 'Set OBSGEO-L to  -119.975053 from OBSGEO-[XYZ].\n",
      "Set OBSGEO-B to   -11.515215 from OBSGEO-[XYZ].\n",
      "Set OBSGEO-H to 1386464604.607 from OBSGEO-[XYZ]'.\n",
      "  warnings.warn(\n",
      "\n"
     ]
    },
    {
     "name": "stdout",
     "output_type": "stream",
     "text": [
      "2023-09-12T11:30:46.037132: /orange/adamginsburg/jwst/cloudc/F405N/pipeline/jw02221002002_08201_00004_nrcalong_destreak.fits\n",
      "2023-09-12T11:30:46.232787: Running manual align.\n",
      "2023-09-12T11:30:46.234343: 1024.5 63.10377574671999\n",
      "2023-09-12T11:30:46.234526: 1087.60377574672\n",
      "2023-09-12T11:30:46.234751: 1024.5 15.975639429549364\n",
      "2023-09-12T11:30:46.234919: 1040.4756394295493\n"
     ]
    }
   ],
   "source": [
    "'''\n",
    "if module in ('nrca', 'nrcb'):\n",
    "    print(f\"Filter {filtername} module {module}\")\n",
    "\n",
    "    with open(asn_file) as f_obj:\n",
    "        asn_data = json.load(f_obj)\n",
    "    asn_data['products'][0]['name'] = f'jw02221-o{field}_t001_nircam_clear-{filtername.lower()}-{module}'\n",
    "    asn_data['products'][0]['members'] = [row for row in asn_data['products'][0]['members']\n",
    "                                            if f'{module}' in row['expname']]\n",
    "\n",
    "    for member in asn_data['products'][0]['members']:\n",
    "        print(member['expname'])\n",
    "        member['expname'] = os.path.join(output_dir, member['expname'])\n",
    "        hdr = fits.getheader(member['expname'])\n",
    "        if filtername in (hdr['PUPIL'], hdr['FILTER']):\n",
    "            outname = destreak(member['expname'],\n",
    "                               use_background_map=True,\n",
    "                               median_filter_size=2048)  # median_filter_size=medfilt_size[filtername])\n",
    "            member['expname'] = outname\n",
    "\n",
    "        print(member['expname'])\n",
    "        if field == '002' and (filtername.lower() == 'f405n' or filtername.lower() == 'f410m' or filtername.lower() == 'f466n'):\n",
    "                align_image = member['expname'].replace(\"_destreak.fits\", \"_align.fits\")#.split('.')[0]+'_align.fits'\n",
    "                shutil.copy(member['expname'], align_image)\n",
    "                offsets_tbl = Table.read('/orange/adamginsburg/jwst/cloudc/offsets/Offsets_JWST_Cloud_C.csv')\n",
    "                row = offsets_tbl[member['expname'].split('/')[-1] == offsets_tbl['Filename_1']]\n",
    "                align_fits = fits.open(align_image)\n",
    "                pixel_scale = np.sqrt(fits.getheader(align_image, ext=1)['PIXAR_A2']*u.arcsec**2)\n",
    "                try: \n",
    "                    print('Running manual align.')\n",
    "                    print(align_fits['SCI',1].header['CRPIX1'], (float(row['xshift (arcsec)'])*u.arcsec/pixel_scale).value)\n",
    "                    print(align_fits['SCI',1].header['CRPIX1'] + (float(row['xshift (arcsec)'])*u.arcsec/pixel_scale).value)\n",
    "                    print(align_fits['SCI',1].header['CRPIX2'], (float(row['yshift (arcsec)'])*u.arcsec/pixel_scale).value)\n",
    "                    print(align_fits['SCI',1].header['CRPIX2'] + (float(row['yshift (arcsec)'])*u.arcsec/pixel_scale).value)\n",
    "                    align_fits['SCI',1].header['CRPIX1']+=(float(row['xshift (arcsec)'])*u.arcsec/pixel_scale).value\n",
    "                    align_fits['SCI',1].header['CRPIX2']+=(float(row['yshift (arcsec)'])*u.arcsec/pixel_scale).value\n",
    "                except: \n",
    "                    print('Something went wrong with manual align, running default values.')\n",
    "                    visit = member['expname'].split('_')[0][-3:]\n",
    "                    if visit == '001':\n",
    "                        align_fits['SCI',1].header['CRPIX1']+=(8*u.arcsec/pixel_scale).value\n",
    "                        align_fits['SCI',1].header['CRPIX2']+=(-0.3*u.arcsec/pixel_scale).value\n",
    "                    elif visit == '002':\n",
    "                        align_fits['SCI',1].header['CRPIX1']+=(3.9*u.arcsec/pixel_scale).value\n",
    "                        align_fits['SCI',1].header['CRPIX2']+=(1*u.arcsec/pixel_scale).value\n",
    "                    else:\n",
    "                        align_fits['SCI',1].header['CRPIX1']+=(0*u.arcsec/pixel_scale).value\n",
    "                        align_fits['SCI',1].header['CRPIX2']+=(0*u.arcsec/pixel_scale).value\n",
    "                align_fits.writeto(align_image, overwrite=True)\n",
    "                member['expname'] = align_image\n",
    "\n",
    "    asn_file_each = asn_file.replace(\"_asn.json\", f\"_{module}_asn.json\")\n",
    "    with open(asn_file_each, 'w') as fh:\n",
    "        json.dump(asn_data, fh)\n",
    "        \n",
    "if module == 'merged':\n",
    "        # try merging all frames & modules\n",
    "        log.info(\"Working on merged reduction (both modules)\")\n",
    "\n",
    "        fov_regname = {'brick': 'regions/nircam_brick_fov.reg',\n",
    "                       'cloudc': 'regions/nircam_cloudc_fov.reg',\n",
    "                      }\n",
    "\n",
    "        # Load asn_data for both modules\n",
    "        with open(asn_file) as f_obj:\n",
    "            asn_data = json.load(f_obj)\n",
    "\n",
    "        for member in asn_data['products'][0]['members']:\n",
    "            hdr = fits.getheader(member['expname'])\n",
    "            if filtername in (hdr['PUPIL'], hdr['FILTER']):\n",
    "                outname = destreak(member['expname'],\n",
    "                                   use_background_map=True,\n",
    "                                   median_filter_size=2048)  # median_filter_size=medfilt_size[filtername])\n",
    "                member['expname'] = outname\n",
    "            \n",
    "            if field == '002' and (filtername.lower() == 'f405n' or filtername.lower() == 'f410m' or filtername.lower() == 'f466n'):\n",
    "                align_image = member['expname'].replace(\"_destreak.fits\", \"_align.fits\")#.split('.')[0]+'_align.fits'\n",
    "                shutil.copy(member['expname'], align_image)\n",
    "                offsets_tbl = Table.read('/orange/adamginsburg/jwst/cloudc/offsets/Offsets_JWST_Cloud_C.csv')\n",
    "                row = offsets_tbl[member['expname'].split('/')[-1] == offsets_tbl['Filename_1']]\n",
    "                align_fits = fits.open(align_image)\n",
    "                pixel_scale = np.sqrt(fits.getheader(align_image, ext=1)['PIXAR_A2']*u.arcsec**2)\n",
    "                try: \n",
    "                    print('Running manual align.')\n",
    "                    print(align_fits['SCI',1].header['CRPIX1'], (float(row['xshift (arcsec)'])*u.arcsec/pixel_scale).value)\n",
    "                    print(align_fits['SCI',1].header['CRPIX1'] + (float(row['xshift (arcsec)'])*u.arcsec/pixel_scale).value)\n",
    "                    print(align_fits['SCI',1].header['CRPIX2'], (float(row['yshift (arcsec)'])*u.arcsec/pixel_scale).value)\n",
    "                    print(align_fits['SCI',1].header['CRPIX2'] + (float(row['yshift (arcsec)'])*u.arcsec/pixel_scale).value)\n",
    "                    align_fits['SCI',1].header['CRPIX1']+=(float(row['xshift (arcsec)'])*u.arcsec/pixel_scale).value\n",
    "                    align_fits['SCI',1].header['CRPIX2']+=(float(row['yshift (arcsec)'])*u.arcsec/pixel_scale).value\n",
    "                except: \n",
    "                    print('Something went wrong with manual align, running default values.')\n",
    "                    visit = member['expname'].split('_')[0][-3:]\n",
    "                    if visit == '001':\n",
    "                        align_fits['SCI',1].header['CRPIX1']+=(8*u.arcsec/pixel_scale).value\n",
    "                        align_fits['SCI',1].header['CRPIX2']+=(-0.3*u.arcsec/pixel_scale).value\n",
    "                    elif visit == '002':\n",
    "                        align_fits['SCI',1].header['CRPIX1']+=(3.9*u.arcsec/pixel_scale).value\n",
    "                        align_fits['SCI',1].header['CRPIX2']+=(1*u.arcsec/pixel_scale).value\n",
    "                    else:\n",
    "                        align_fits['SCI',1].header['CRPIX1']+=(0*u.arcsec/pixel_scale).value\n",
    "                        align_fits['SCI',1].header['CRPIX2']+=(0*u.arcsec/pixel_scale).value\n",
    "                align_fits.writeto(align_image, overwrite=True)\n",
    "                member['expname'] = align_image\n",
    "\n",
    "        asn_data['products'][0]['name'] = f'jw02221-o{field}_t001_nircam_clear-{filtername.lower()}-merged'\n",
    "        asn_file_merged = asn_file.replace(\"_asn.json\", f\"_merged_asn.json\")\n",
    "        with open(asn_file_merged, 'w') as fh:\n",
    "            json.dump(asn_data, fh)\n",
    "'''"
   ]
  },
  {
   "cell_type": "code",
   "execution_count": 62,
   "id": "6159e6e1-63fe-415b-a0a0-2874f6c89782",
   "metadata": {
    "tags": []
   },
   "outputs": [
    {
     "name": "stderr",
     "output_type": "stream",
     "text": [
      "2023-10-10 13:35:59,224 - stpipe - INFO - Working on merged reduction (both modules)\n"
     ]
    },
    {
     "name": "stdout",
     "output_type": "stream",
     "text": [
      "INFO: Working on merged reduction (both modules) [unknown]\n",
      "Destreaking jw02221002001_02201_00001_nrcalong_cal.fits\n"
     ]
    },
    {
     "name": "stderr",
     "output_type": "stream",
     "text": [
      "2023-10-10 13:35:59,704 - stpipe - WARNING - /blue/adamginsburg/adamginsburg/miniconda3/envs/python39savannah/lib/python3.9/site-packages/numpy/lib/nanfunctions.py:1577: RuntimeWarning: All-NaN slice encountered\n",
      "  result = np.apply_along_axis(_nanquantile_1d, axis, a, q,\n",
      "\n",
      "2023-10-10 13:36:00,717 - stpipe - WARNING - /scratch/local/12171132/ipykernel_971263/2615950328.py:72: ResourceWarning: unclosed file <_io.BufferedReader name='jw02221002001_02201_00001_nrcalong_cal.fits'>\n",
      "  outname = destreak(member['expname'],\n",
      "\n"
     ]
    },
    {
     "name": "stdout",
     "output_type": "stream",
     "text": [
      "2023-10-10T13:36:01.676015: Running manual align.\n"
     ]
    },
    {
     "name": "stderr",
     "output_type": "stream",
     "text": [
      "2023-10-10 13:36:01,988 - stpipe - WARNING - /scratch/local/12171132/ipykernel_971263/2615950328.py:100: ResourceWarning: unclosed file <_io.BufferedReader name='/orange/adamginsburg/jwst/cloudc/F405N/pipeline/jw02221002002_08201_00004_nrcalong_align.fits'>\n",
      "  fa = asdf.open(align_image)\n",
      "\n"
     ]
    },
    {
     "name": "stdout",
     "output_type": "stream",
     "text": [
      "Destreaking jw02221002001_02201_00001_nrcblong_cal.fits\n"
     ]
    },
    {
     "name": "stderr",
     "output_type": "stream",
     "text": [
      "2023-10-10 13:36:07,168 - stpipe - WARNING - /blue/adamginsburg/adamginsburg/miniconda3/envs/python39savannah/lib/python3.9/site-packages/numpy/lib/nanfunctions.py:1577: RuntimeWarning: All-NaN slice encountered\n",
      "  result = np.apply_along_axis(_nanquantile_1d, axis, a, q,\n",
      "\n",
      "2023-10-10 13:36:09,422 - stpipe - WARNING - /scratch/local/12171132/ipykernel_971263/2615950328.py:72: ResourceWarning: unclosed file <_io.BufferedReader name='jw02221002001_02201_00001_nrcblong_cal.fits'>\n",
      "  outname = destreak(member['expname'],\n",
      "\n"
     ]
    },
    {
     "name": "stdout",
     "output_type": "stream",
     "text": [
      "2023-10-10T13:36:13.161729: Running manual align.\n"
     ]
    },
    {
     "name": "stderr",
     "output_type": "stream",
     "text": [
      "2023-10-10 13:36:15,535 - stpipe - WARNING - /scratch/local/12171132/ipykernel_971263/2615950328.py:100: ResourceWarning: unclosed file <_io.BufferedReader name='jw02221002001_02201_00001_nrcalong_align.fits'>\n",
      "  fa = asdf.open(align_image)\n",
      "\n"
     ]
    },
    {
     "name": "stdout",
     "output_type": "stream",
     "text": [
      "Destreaking jw02221002001_02201_00002_nrcalong_cal.fits\n"
     ]
    },
    {
     "name": "stderr",
     "output_type": "stream",
     "text": [
      "2023-10-10 13:36:27,111 - stpipe - WARNING - /blue/adamginsburg/adamginsburg/miniconda3/envs/python39savannah/lib/python3.9/site-packages/numpy/lib/nanfunctions.py:1577: RuntimeWarning: All-NaN slice encountered\n",
      "  result = np.apply_along_axis(_nanquantile_1d, axis, a, q,\n",
      "\n",
      "2023-10-10 13:36:32,337 - stpipe - WARNING - /scratch/local/12171132/ipykernel_971263/2615950328.py:72: ResourceWarning: unclosed file <_io.BufferedReader name='jw02221002001_02201_00002_nrcalong_cal.fits'>\n",
      "  outname = destreak(member['expname'],\n",
      "\n"
     ]
    },
    {
     "name": "stdout",
     "output_type": "stream",
     "text": [
      "2023-10-10T13:36:32.733173: Running manual align.\n"
     ]
    },
    {
     "name": "stderr",
     "output_type": "stream",
     "text": [
      "2023-10-10 13:36:33,859 - stpipe - WARNING - /scratch/local/12171132/ipykernel_971263/2615950328.py:100: ResourceWarning: unclosed file <_io.BufferedReader name='jw02221002001_02201_00001_nrcblong_align.fits'>\n",
      "  fa = asdf.open(align_image)\n",
      "\n"
     ]
    },
    {
     "name": "stdout",
     "output_type": "stream",
     "text": [
      "Destreaking jw02221002001_02201_00002_nrcblong_cal.fits\n"
     ]
    },
    {
     "name": "stderr",
     "output_type": "stream",
     "text": [
      "2023-10-10 13:36:36,069 - stpipe - WARNING - /blue/adamginsburg/adamginsburg/miniconda3/envs/python39savannah/lib/python3.9/site-packages/numpy/lib/nanfunctions.py:1577: RuntimeWarning: All-NaN slice encountered\n",
      "  result = np.apply_along_axis(_nanquantile_1d, axis, a, q,\n",
      "\n",
      "2023-10-10 13:36:38,111 - stpipe - WARNING - /scratch/local/12171132/ipykernel_971263/2615950328.py:72: ResourceWarning: unclosed file <_io.BufferedReader name='jw02221002001_02201_00002_nrcblong_cal.fits'>\n",
      "  outname = destreak(member['expname'],\n",
      "\n"
     ]
    },
    {
     "name": "stdout",
     "output_type": "stream",
     "text": [
      "2023-10-10T13:36:40.626449: Running manual align.\n",
      "Destreaking jw02221002001_02201_00003_nrcalong_cal.fits\n"
     ]
    },
    {
     "name": "stderr",
     "output_type": "stream",
     "text": [
      "2023-10-10 13:36:41,884 - stpipe - WARNING - /blue/adamginsburg/adamginsburg/miniconda3/envs/python39savannah/lib/python3.9/site-packages/numpy/lib/nanfunctions.py:1577: RuntimeWarning: All-NaN slice encountered\n",
      "  result = np.apply_along_axis(_nanquantile_1d, axis, a, q,\n",
      "\n",
      "2023-10-10 13:36:43,340 - stpipe - WARNING - /scratch/local/12171132/ipykernel_971263/2615950328.py:72: ResourceWarning: unclosed file <_io.BufferedReader name='jw02221002001_02201_00003_nrcalong_cal.fits'>\n",
      "  outname = destreak(member['expname'],\n",
      "\n",
      "2023-10-10 13:36:45,859 - stpipe - WARNING - /blue/adamginsburg/adamginsburg/repos/astropy/astropy/io/fits/header.py:542: ResourceWarning: unclosed file <_io.BufferedReader name='/orange/adamginsburg/jwst/cloudc/F405N/pipeline/jw02221002002_08201_00004_nrcalong_align.fits'>\n",
      "  header._keyword_indices[keyword].append(idx)\n",
      "\n",
      "2023-10-10 13:36:45,885 - stpipe - WARNING - /blue/adamginsburg/adamginsburg/repos/astropy/astropy/io/fits/header.py:542: ResourceWarning: unclosed file <_io.BufferedReader name='jw02221002001_02201_00001_nrcalong_align.fits'>\n",
      "  header._keyword_indices[keyword].append(idx)\n",
      "\n",
      "2023-10-10 13:36:45,890 - stpipe - WARNING - /blue/adamginsburg/adamginsburg/repos/astropy/astropy/io/fits/header.py:542: ResourceWarning: unclosed file <_io.BufferedReader name='jw02221002001_02201_00001_nrcblong_align.fits'>\n",
      "  header._keyword_indices[keyword].append(idx)\n",
      "\n",
      "2023-10-10 13:36:45,891 - stpipe - WARNING - /blue/adamginsburg/adamginsburg/repos/astropy/astropy/io/fits/header.py:542: ResourceWarning: unclosed file <_io.BufferedReader name='jw02221002001_02201_00002_nrcalong_align.fits'>\n",
      "  header._keyword_indices[keyword].append(idx)\n",
      "\n"
     ]
    },
    {
     "name": "stdout",
     "output_type": "stream",
     "text": [
      "2023-10-10T13:36:46.595130: Running manual align.\n"
     ]
    },
    {
     "name": "stderr",
     "output_type": "stream",
     "text": [
      "2023-10-10 13:36:48,476 - stpipe - WARNING - /scratch/local/12171132/ipykernel_971263/2615950328.py:100: ResourceWarning: unclosed file <_io.BufferedReader name='jw02221002001_02201_00002_nrcblong_align.fits'>\n",
      "  fa = asdf.open(align_image)\n",
      "\n"
     ]
    },
    {
     "name": "stdout",
     "output_type": "stream",
     "text": [
      "Destreaking jw02221002001_02201_00003_nrcblong_cal.fits\n"
     ]
    },
    {
     "name": "stderr",
     "output_type": "stream",
     "text": [
      "2023-10-10 13:36:53,607 - stpipe - WARNING - /blue/adamginsburg/adamginsburg/miniconda3/envs/python39savannah/lib/python3.9/site-packages/numpy/lib/nanfunctions.py:1577: RuntimeWarning: All-NaN slice encountered\n",
      "  result = np.apply_along_axis(_nanquantile_1d, axis, a, q,\n",
      "\n",
      "2023-10-10 13:36:54,486 - stpipe - WARNING - /scratch/local/12171132/ipykernel_971263/2615950328.py:72: ResourceWarning: unclosed file <_io.BufferedReader name='jw02221002001_02201_00003_nrcblong_cal.fits'>\n",
      "  outname = destreak(member['expname'],\n",
      "\n"
     ]
    },
    {
     "name": "stdout",
     "output_type": "stream",
     "text": [
      "2023-10-10T13:37:02.487845: Running manual align.\n"
     ]
    },
    {
     "name": "stderr",
     "output_type": "stream",
     "text": [
      "2023-10-10 13:37:02,875 - stpipe - WARNING - /scratch/local/12171132/ipykernel_971263/2615950328.py:100: ResourceWarning: unclosed file <_io.BufferedReader name='jw02221002001_02201_00003_nrcalong_align.fits'>\n",
      "  fa = asdf.open(align_image)\n",
      "\n"
     ]
    },
    {
     "name": "stdout",
     "output_type": "stream",
     "text": [
      "Destreaking jw02221002001_02201_00004_nrcalong_cal.fits\n"
     ]
    },
    {
     "name": "stderr",
     "output_type": "stream",
     "text": [
      "2023-10-10 13:37:05,156 - stpipe - WARNING - /blue/adamginsburg/adamginsburg/miniconda3/envs/python39savannah/lib/python3.9/site-packages/numpy/lib/nanfunctions.py:1577: RuntimeWarning: All-NaN slice encountered\n",
      "  result = np.apply_along_axis(_nanquantile_1d, axis, a, q,\n",
      "\n",
      "2023-10-10 13:37:06,969 - stpipe - WARNING - /scratch/local/12171132/ipykernel_971263/2615950328.py:72: ResourceWarning: unclosed file <_io.BufferedReader name='jw02221002001_02201_00004_nrcalong_cal.fits'>\n",
      "  outname = destreak(member['expname'],\n",
      "\n"
     ]
    },
    {
     "name": "stdout",
     "output_type": "stream",
     "text": [
      "2023-10-10T13:37:07.512853: Running manual align.\n"
     ]
    },
    {
     "name": "stderr",
     "output_type": "stream",
     "text": [
      "2023-10-10 13:37:08,752 - stpipe - WARNING - /scratch/local/12171132/ipykernel_971263/2615950328.py:100: ResourceWarning: unclosed file <_io.BufferedReader name='jw02221002001_02201_00003_nrcblong_align.fits'>\n",
      "  fa = asdf.open(align_image)\n",
      "\n"
     ]
    },
    {
     "name": "stdout",
     "output_type": "stream",
     "text": [
      "Destreaking jw02221002001_02201_00004_nrcblong_cal.fits\n"
     ]
    },
    {
     "name": "stderr",
     "output_type": "stream",
     "text": [
      "2023-10-10 13:37:12,445 - stpipe - WARNING - /blue/adamginsburg/adamginsburg/miniconda3/envs/python39savannah/lib/python3.9/site-packages/numpy/lib/nanfunctions.py:1577: RuntimeWarning: All-NaN slice encountered\n",
      "  result = np.apply_along_axis(_nanquantile_1d, axis, a, q,\n",
      "\n",
      "2023-10-10 13:37:13,851 - stpipe - WARNING - /scratch/local/12171132/ipykernel_971263/2615950328.py:72: ResourceWarning: unclosed file <_io.BufferedReader name='jw02221002001_02201_00004_nrcblong_cal.fits'>\n",
      "  outname = destreak(member['expname'],\n",
      "\n"
     ]
    },
    {
     "name": "stdout",
     "output_type": "stream",
     "text": [
      "2023-10-10T13:37:14.249804: Running manual align.\n"
     ]
    },
    {
     "name": "stderr",
     "output_type": "stream",
     "text": [
      "2023-10-10 13:37:16,060 - stpipe - WARNING - /scratch/local/12171132/ipykernel_971263/2615950328.py:100: ResourceWarning: unclosed file <_io.BufferedReader name='jw02221002001_02201_00004_nrcalong_align.fits'>\n",
      "  fa = asdf.open(align_image)\n",
      "\n"
     ]
    },
    {
     "name": "stdout",
     "output_type": "stream",
     "text": [
      "Destreaking jw02221002001_08201_00001_nrcalong_cal.fits\n"
     ]
    },
    {
     "name": "stderr",
     "output_type": "stream",
     "text": [
      "2023-10-10 13:37:17,502 - stpipe - WARNING - /blue/adamginsburg/adamginsburg/miniconda3/envs/python39savannah/lib/python3.9/site-packages/numpy/lib/nanfunctions.py:1577: RuntimeWarning: All-NaN slice encountered\n",
      "  result = np.apply_along_axis(_nanquantile_1d, axis, a, q,\n",
      "\n",
      "2023-10-10 13:37:18,512 - stpipe - WARNING - /scratch/local/12171132/ipykernel_971263/2615950328.py:72: ResourceWarning: unclosed file <_io.BufferedReader name='jw02221002001_08201_00001_nrcalong_cal.fits'>\n",
      "  outname = destreak(member['expname'],\n",
      "\n"
     ]
    },
    {
     "name": "stdout",
     "output_type": "stream",
     "text": [
      "2023-10-10T13:37:24.387433: Running manual align.\n"
     ]
    },
    {
     "name": "stderr",
     "output_type": "stream",
     "text": [
      "2023-10-10 13:37:27,276 - stpipe - WARNING - /scratch/local/12171132/ipykernel_971263/2615950328.py:100: ResourceWarning: unclosed file <_io.BufferedReader name='jw02221002001_02201_00004_nrcblong_align.fits'>\n",
      "  fa = asdf.open(align_image)\n",
      "\n",
      "2023-10-10 13:37:28,662 - stpipe - WARNING - /blue/adamginsburg/adamginsburg/miniconda3/envs/python39savannah/lib/python3.9/site-packages/numpy/lib/nanfunctions.py:1577: RuntimeWarning: All-NaN slice encountered\n",
      "  result = np.apply_along_axis(_nanquantile_1d, axis, a, q,\n",
      "\n"
     ]
    },
    {
     "name": "stdout",
     "output_type": "stream",
     "text": [
      "Destreaking jw02221002001_08201_00001_nrcblong_cal.fits\n"
     ]
    },
    {
     "name": "stderr",
     "output_type": "stream",
     "text": [
      "2023-10-10 13:37:32,660 - stpipe - WARNING - /scratch/local/12171132/ipykernel_971263/2615950328.py:72: ResourceWarning: unclosed file <_io.BufferedReader name='jw02221002001_08201_00001_nrcblong_cal.fits'>\n",
      "  outname = destreak(member['expname'],\n",
      "\n"
     ]
    },
    {
     "name": "stdout",
     "output_type": "stream",
     "text": [
      "2023-10-10T13:37:34.763317: Running manual align.\n",
      "Destreaking jw02221002001_08201_00002_nrcalong_cal.fits\n"
     ]
    },
    {
     "name": "stderr",
     "output_type": "stream",
     "text": [
      "2023-10-10 13:37:37,009 - stpipe - WARNING - /blue/adamginsburg/adamginsburg/miniconda3/envs/python39savannah/lib/python3.9/site-packages/numpy/lib/nanfunctions.py:1577: RuntimeWarning: All-NaN slice encountered\n",
      "  result = np.apply_along_axis(_nanquantile_1d, axis, a, q,\n",
      "\n",
      "2023-10-10 13:37:38,380 - stpipe - WARNING - /scratch/local/12171132/ipykernel_971263/2615950328.py:72: ResourceWarning: unclosed file <_io.BufferedReader name='jw02221002001_08201_00002_nrcalong_cal.fits'>\n",
      "  outname = destreak(member['expname'],\n",
      "\n"
     ]
    },
    {
     "name": "stdout",
     "output_type": "stream",
     "text": [
      "2023-10-10T13:37:39.805047: Running manual align.\n",
      "Destreaking jw02221002001_08201_00002_nrcblong_cal.fits\n"
     ]
    },
    {
     "name": "stderr",
     "output_type": "stream",
     "text": [
      "2023-10-10 13:37:45,584 - stpipe - WARNING - /blue/adamginsburg/adamginsburg/miniconda3/envs/python39savannah/lib/python3.9/site-packages/numpy/lib/nanfunctions.py:1577: RuntimeWarning: All-NaN slice encountered\n",
      "  result = np.apply_along_axis(_nanquantile_1d, axis, a, q,\n",
      "\n",
      "2023-10-10 13:37:46,729 - stpipe - WARNING - /scratch/local/12171132/ipykernel_971263/2615950328.py:72: ResourceWarning: unclosed file <_io.BufferedReader name='jw02221002001_08201_00002_nrcblong_cal.fits'>\n",
      "  outname = destreak(member['expname'],\n",
      "\n",
      "2023-10-10 13:37:47,032 - stpipe - WARNING - /scratch/local/12171132/ipykernel_971263/2615950328.py:100: ResourceWarning: unclosed file <_io.BufferedReader name='jw02221002001_08201_00002_nrcalong_align.fits'>\n",
      "  fa = asdf.open(align_image)\n",
      "\n"
     ]
    },
    {
     "name": "stdout",
     "output_type": "stream",
     "text": [
      "2023-10-10T13:37:46.915793: Running manual align.\n",
      "Destreaking jw02221002001_08201_00003_nrcalong_cal.fits\n"
     ]
    },
    {
     "name": "stderr",
     "output_type": "stream",
     "text": [
      "2023-10-10 13:37:48,679 - stpipe - WARNING - /blue/adamginsburg/adamginsburg/miniconda3/envs/python39savannah/lib/python3.9/site-packages/numpy/lib/nanfunctions.py:1577: RuntimeWarning: All-NaN slice encountered\n",
      "  result = np.apply_along_axis(_nanquantile_1d, axis, a, q,\n",
      "\n",
      "2023-10-10 13:37:50,840 - stpipe - WARNING - /scratch/local/12171132/ipykernel_971263/2615950328.py:72: ResourceWarning: unclosed file <_io.BufferedReader name='jw02221002001_08201_00003_nrcalong_cal.fits'>\n",
      "  outname = destreak(member['expname'],\n",
      "\n"
     ]
    },
    {
     "name": "stdout",
     "output_type": "stream",
     "text": [
      "2023-10-10T13:37:52.446818: Running manual align.\n"
     ]
    },
    {
     "name": "stderr",
     "output_type": "stream",
     "text": [
      "2023-10-10 13:37:53,338 - stpipe - WARNING - /scratch/local/12171132/ipykernel_971263/2615950328.py:100: ResourceWarning: unclosed file <_io.BufferedReader name='jw02221002001_08201_00002_nrcblong_align.fits'>\n",
      "  fa = asdf.open(align_image)\n",
      "\n"
     ]
    },
    {
     "name": "stdout",
     "output_type": "stream",
     "text": [
      "Destreaking jw02221002001_08201_00003_nrcblong_cal.fits\n"
     ]
    },
    {
     "name": "stderr",
     "output_type": "stream",
     "text": [
      "2023-10-10 13:37:55,903 - stpipe - WARNING - /blue/adamginsburg/adamginsburg/miniconda3/envs/python39savannah/lib/python3.9/site-packages/numpy/lib/nanfunctions.py:1577: RuntimeWarning: All-NaN slice encountered\n",
      "  result = np.apply_along_axis(_nanquantile_1d, axis, a, q,\n",
      "\n",
      "2023-10-10 13:37:56,862 - stpipe - WARNING - /scratch/local/12171132/ipykernel_971263/2615950328.py:72: ResourceWarning: unclosed file <_io.BufferedReader name='jw02221002001_08201_00003_nrcblong_cal.fits'>\n",
      "  outname = destreak(member['expname'],\n",
      "\n"
     ]
    },
    {
     "name": "stdout",
     "output_type": "stream",
     "text": [
      "2023-10-10T13:37:57.169938: Running manual align.\n"
     ]
    },
    {
     "name": "stderr",
     "output_type": "stream",
     "text": [
      "2023-10-10 13:37:58,065 - stpipe - WARNING - /scratch/local/12171132/ipykernel_971263/2615950328.py:100: ResourceWarning: unclosed file <_io.BufferedReader name='jw02221002001_08201_00003_nrcalong_align.fits'>\n",
      "  fa = asdf.open(align_image)\n",
      "\n"
     ]
    },
    {
     "name": "stdout",
     "output_type": "stream",
     "text": [
      "Destreaking jw02221002001_08201_00004_nrcalong_cal.fits\n"
     ]
    },
    {
     "name": "stderr",
     "output_type": "stream",
     "text": [
      "2023-10-10 13:38:00,186 - stpipe - WARNING - /blue/adamginsburg/adamginsburg/miniconda3/envs/python39savannah/lib/python3.9/site-packages/numpy/lib/nanfunctions.py:1577: RuntimeWarning: All-NaN slice encountered\n",
      "  result = np.apply_along_axis(_nanquantile_1d, axis, a, q,\n",
      "\n",
      "2023-10-10 13:38:05,155 - stpipe - WARNING - /scratch/local/12171132/ipykernel_971263/2615950328.py:72: ResourceWarning: unclosed file <_io.BufferedReader name='jw02221002001_08201_00004_nrcalong_cal.fits'>\n",
      "  outname = destreak(member['expname'],\n",
      "\n",
      "2023-10-10 13:38:06,313 - stpipe - WARNING - /scratch/local/12171132/ipykernel_971263/2615950328.py:100: ResourceWarning: unclosed file <_io.BufferedReader name='jw02221002001_08201_00003_nrcblong_align.fits'>\n",
      "  fa = asdf.open(align_image)\n",
      "\n"
     ]
    },
    {
     "name": "stdout",
     "output_type": "stream",
     "text": [
      "2023-10-10T13:38:06.179768: Running manual align.\n"
     ]
    },
    {
     "name": "stderr",
     "output_type": "stream",
     "text": [
      "2023-10-10 13:38:06,946 - stpipe - WARNING - /blue/adamginsburg/adamginsburg/repos/astropy/astropy/io/fits/header.py:542: ResourceWarning: unclosed file <_io.BufferedReader name='jw02221002001_02201_00002_nrcblong_align.fits'>\n",
      "  header._keyword_indices[keyword].append(idx)\n",
      "\n",
      "2023-10-10 13:38:06,954 - stpipe - WARNING - /blue/adamginsburg/adamginsburg/repos/astropy/astropy/io/fits/header.py:542: ResourceWarning: unclosed file <_io.BufferedReader name='jw02221002001_02201_00003_nrcalong_align.fits'>\n",
      "  header._keyword_indices[keyword].append(idx)\n",
      "\n",
      "2023-10-10 13:38:06,955 - stpipe - WARNING - /blue/adamginsburg/adamginsburg/repos/astropy/astropy/io/fits/header.py:542: ResourceWarning: unclosed file <_io.BufferedReader name='jw02221002001_02201_00003_nrcblong_align.fits'>\n",
      "  header._keyword_indices[keyword].append(idx)\n",
      "\n",
      "2023-10-10 13:38:06,956 - stpipe - WARNING - /blue/adamginsburg/adamginsburg/repos/astropy/astropy/io/fits/header.py:542: ResourceWarning: unclosed file <_io.BufferedReader name='jw02221002001_02201_00004_nrcalong_align.fits'>\n",
      "  header._keyword_indices[keyword].append(idx)\n",
      "\n",
      "2023-10-10 13:38:06,957 - stpipe - WARNING - /blue/adamginsburg/adamginsburg/repos/astropy/astropy/io/fits/header.py:542: ResourceWarning: unclosed file <_io.BufferedReader name='jw02221002001_02201_00004_nrcblong_align.fits'>\n",
      "  header._keyword_indices[keyword].append(idx)\n",
      "\n",
      "2023-10-10 13:38:06,958 - stpipe - WARNING - /blue/adamginsburg/adamginsburg/repos/astropy/astropy/io/fits/header.py:542: ResourceWarning: unclosed file <_io.BufferedReader name='jw02221002001_08201_00001_nrcalong_align.fits'>\n",
      "  header._keyword_indices[keyword].append(idx)\n",
      "\n",
      "2023-10-10 13:38:06,963 - stpipe - WARNING - /blue/adamginsburg/adamginsburg/repos/astropy/astropy/io/fits/header.py:542: ResourceWarning: unclosed file <_io.BufferedReader name='jw02221002001_08201_00001_nrcblong_align.fits'>\n",
      "  header._keyword_indices[keyword].append(idx)\n",
      "\n",
      "2023-10-10 13:38:06,964 - stpipe - WARNING - /blue/adamginsburg/adamginsburg/repos/astropy/astropy/io/fits/header.py:542: ResourceWarning: unclosed file <_io.BufferedReader name='jw02221002001_08201_00002_nrcalong_align.fits'>\n",
      "  header._keyword_indices[keyword].append(idx)\n",
      "\n",
      "2023-10-10 13:38:06,966 - stpipe - WARNING - /blue/adamginsburg/adamginsburg/repos/astropy/astropy/io/fits/header.py:542: ResourceWarning: unclosed file <_io.BufferedReader name='jw02221002001_08201_00002_nrcblong_align.fits'>\n",
      "  header._keyword_indices[keyword].append(idx)\n",
      "\n",
      "2023-10-10 13:38:06,967 - stpipe - WARNING - /blue/adamginsburg/adamginsburg/repos/astropy/astropy/io/fits/header.py:542: ResourceWarning: unclosed file <_io.BufferedReader name='jw02221002001_08201_00003_nrcalong_align.fits'>\n",
      "  header._keyword_indices[keyword].append(idx)\n",
      "\n",
      "2023-10-10 13:38:06,969 - stpipe - WARNING - /blue/adamginsburg/adamginsburg/repos/astropy/astropy/io/fits/header.py:542: ResourceWarning: unclosed file <_io.BufferedReader name='jw02221002001_08201_00003_nrcblong_align.fits'>\n",
      "  header._keyword_indices[keyword].append(idx)\n",
      "\n"
     ]
    },
    {
     "name": "stdout",
     "output_type": "stream",
     "text": [
      "Destreaking jw02221002001_08201_00004_nrcblong_cal.fits\n"
     ]
    },
    {
     "name": "stderr",
     "output_type": "stream",
     "text": [
      "2023-10-10 13:38:07,417 - stpipe - WARNING - /blue/adamginsburg/adamginsburg/miniconda3/envs/python39savannah/lib/python3.9/site-packages/numpy/lib/nanfunctions.py:1577: RuntimeWarning: All-NaN slice encountered\n",
      "  result = np.apply_along_axis(_nanquantile_1d, axis, a, q,\n",
      "\n",
      "2023-10-10 13:38:08,908 - stpipe - WARNING - /scratch/local/12171132/ipykernel_971263/2615950328.py:72: ResourceWarning: unclosed file <_io.BufferedReader name='jw02221002001_08201_00004_nrcblong_cal.fits'>\n",
      "  outname = destreak(member['expname'],\n",
      "\n",
      "2023-10-10 13:38:12,107 - stpipe - WARNING - /scratch/local/12171132/ipykernel_971263/2615950328.py:100: ResourceWarning: unclosed file <_io.BufferedReader name='jw02221002001_08201_00004_nrcalong_align.fits'>\n",
      "  fa = asdf.open(align_image)\n",
      "\n"
     ]
    },
    {
     "name": "stdout",
     "output_type": "stream",
     "text": [
      "2023-10-10T13:38:11.958505: Running manual align.\n",
      "Destreaking jw02221002002_02201_00001_nrcalong_cal.fits\n"
     ]
    },
    {
     "name": "stderr",
     "output_type": "stream",
     "text": [
      "2023-10-10 13:38:15,048 - stpipe - WARNING - /blue/adamginsburg/adamginsburg/miniconda3/envs/python39savannah/lib/python3.9/site-packages/numpy/lib/nanfunctions.py:1577: RuntimeWarning: All-NaN slice encountered\n",
      "  result = np.apply_along_axis(_nanquantile_1d, axis, a, q,\n",
      "\n",
      "2023-10-10 13:38:15,971 - stpipe - WARNING - /scratch/local/12171132/ipykernel_971263/2615950328.py:72: ResourceWarning: unclosed file <_io.BufferedReader name='jw02221002002_02201_00001_nrcalong_cal.fits'>\n",
      "  outname = destreak(member['expname'],\n",
      "\n",
      "2023-10-10 13:38:16,388 - stpipe - WARNING - /scratch/local/12171132/ipykernel_971263/2615950328.py:100: ResourceWarning: unclosed file <_io.BufferedReader name='jw02221002001_08201_00004_nrcblong_align.fits'>\n",
      "  fa = asdf.open(align_image)\n",
      "\n"
     ]
    },
    {
     "name": "stdout",
     "output_type": "stream",
     "text": [
      "2023-10-10T13:38:16.250547: Running manual align.\n",
      "Destreaking jw02221002002_02201_00001_nrcblong_cal.fits\n"
     ]
    },
    {
     "name": "stderr",
     "output_type": "stream",
     "text": [
      "2023-10-10 13:38:17,388 - stpipe - WARNING - /blue/adamginsburg/adamginsburg/miniconda3/envs/python39savannah/lib/python3.9/site-packages/numpy/lib/nanfunctions.py:1577: RuntimeWarning: All-NaN slice encountered\n",
      "  result = np.apply_along_axis(_nanquantile_1d, axis, a, q,\n",
      "\n",
      "2023-10-10 13:38:20,189 - stpipe - WARNING - /scratch/local/12171132/ipykernel_971263/2615950328.py:72: ResourceWarning: unclosed file <_io.BufferedReader name='jw02221002002_02201_00001_nrcblong_cal.fits'>\n",
      "  outname = destreak(member['expname'],\n",
      "\n"
     ]
    },
    {
     "name": "stdout",
     "output_type": "stream",
     "text": [
      "2023-10-10T13:38:20.779264: Running manual align.\n"
     ]
    },
    {
     "name": "stderr",
     "output_type": "stream",
     "text": [
      "2023-10-10 13:38:22,139 - stpipe - WARNING - /scratch/local/12171132/ipykernel_971263/2615950328.py:100: ResourceWarning: unclosed file <_io.BufferedReader name='jw02221002002_02201_00001_nrcalong_align.fits'>\n",
      "  fa = asdf.open(align_image)\n",
      "\n"
     ]
    },
    {
     "name": "stdout",
     "output_type": "stream",
     "text": [
      "Destreaking jw02221002002_02201_00002_nrcalong_cal.fits\n"
     ]
    },
    {
     "name": "stderr",
     "output_type": "stream",
     "text": [
      "2023-10-10 13:38:26,056 - stpipe - WARNING - /blue/adamginsburg/adamginsburg/miniconda3/envs/python39savannah/lib/python3.9/site-packages/numpy/lib/nanfunctions.py:1577: RuntimeWarning: All-NaN slice encountered\n",
      "  result = np.apply_along_axis(_nanquantile_1d, axis, a, q,\n",
      "\n",
      "2023-10-10 13:38:27,076 - stpipe - WARNING - /scratch/local/12171132/ipykernel_971263/2615950328.py:72: ResourceWarning: unclosed file <_io.BufferedReader name='jw02221002002_02201_00002_nrcalong_cal.fits'>\n",
      "  outname = destreak(member['expname'],\n",
      "\n",
      "2023-10-10 13:38:27,785 - stpipe - WARNING - /scratch/local/12171132/ipykernel_971263/2615950328.py:100: ResourceWarning: unclosed file <_io.BufferedReader name='jw02221002002_02201_00001_nrcblong_align.fits'>\n",
      "  fa = asdf.open(align_image)\n",
      "\n"
     ]
    },
    {
     "name": "stdout",
     "output_type": "stream",
     "text": [
      "2023-10-10T13:38:27.675298: Running manual align.\n"
     ]
    },
    {
     "name": "stderr",
     "output_type": "stream",
     "text": [
      "2023-10-10 13:38:28,425 - stpipe - WARNING - /blue/adamginsburg/adamginsburg/miniconda3/envs/python39savannah/lib/python3.9/site-packages/numpy/lib/nanfunctions.py:1577: RuntimeWarning: All-NaN slice encountered\n",
      "  result = np.apply_along_axis(_nanquantile_1d, axis, a, q,\n",
      "\n"
     ]
    },
    {
     "name": "stdout",
     "output_type": "stream",
     "text": [
      "Destreaking jw02221002002_02201_00002_nrcblong_cal.fits\n"
     ]
    },
    {
     "name": "stderr",
     "output_type": "stream",
     "text": [
      "2023-10-10 13:38:30,767 - stpipe - WARNING - /scratch/local/12171132/ipykernel_971263/2615950328.py:72: ResourceWarning: unclosed file <_io.BufferedReader name='jw02221002002_02201_00002_nrcblong_cal.fits'>\n",
      "  outname = destreak(member['expname'],\n",
      "\n"
     ]
    },
    {
     "name": "stdout",
     "output_type": "stream",
     "text": [
      "2023-10-10T13:38:31.141118: Running manual align.\n"
     ]
    },
    {
     "name": "stderr",
     "output_type": "stream",
     "text": [
      "2023-10-10 13:38:31,798 - stpipe - WARNING - /scratch/local/12171132/ipykernel_971263/2615950328.py:100: ResourceWarning: unclosed file <_io.BufferedReader name='jw02221002002_02201_00002_nrcalong_align.fits'>\n",
      "  fa = asdf.open(align_image)\n",
      "\n"
     ]
    },
    {
     "name": "stdout",
     "output_type": "stream",
     "text": [
      "Destreaking jw02221002002_02201_00003_nrcalong_cal.fits\n"
     ]
    },
    {
     "name": "stderr",
     "output_type": "stream",
     "text": [
      "2023-10-10 13:38:35,574 - stpipe - WARNING - /blue/adamginsburg/adamginsburg/miniconda3/envs/python39savannah/lib/python3.9/site-packages/numpy/lib/nanfunctions.py:1577: RuntimeWarning: All-NaN slice encountered\n",
      "  result = np.apply_along_axis(_nanquantile_1d, axis, a, q,\n",
      "\n",
      "2023-10-10 13:38:36,588 - stpipe - WARNING - /scratch/local/12171132/ipykernel_971263/2615950328.py:72: ResourceWarning: unclosed file <_io.BufferedReader name='jw02221002002_02201_00003_nrcalong_cal.fits'>\n",
      "  outname = destreak(member['expname'],\n",
      "\n",
      "2023-10-10 13:38:36,950 - stpipe - WARNING - /scratch/local/12171132/ipykernel_971263/2615950328.py:100: ResourceWarning: unclosed file <_io.BufferedReader name='jw02221002002_02201_00002_nrcblong_align.fits'>\n",
      "  fa = asdf.open(align_image)\n",
      "\n"
     ]
    },
    {
     "name": "stdout",
     "output_type": "stream",
     "text": [
      "2023-10-10T13:38:36.830415: Running manual align.\n",
      "Destreaking jw02221002002_02201_00003_nrcblong_cal.fits\n"
     ]
    },
    {
     "name": "stderr",
     "output_type": "stream",
     "text": [
      "2023-10-10 13:38:39,034 - stpipe - WARNING - /blue/adamginsburg/adamginsburg/miniconda3/envs/python39savannah/lib/python3.9/site-packages/numpy/lib/nanfunctions.py:1577: RuntimeWarning: All-NaN slice encountered\n",
      "  result = np.apply_along_axis(_nanquantile_1d, axis, a, q,\n",
      "\n",
      "2023-10-10 13:38:40,775 - stpipe - WARNING - /scratch/local/12171132/ipykernel_971263/2615950328.py:72: ResourceWarning: unclosed file <_io.BufferedReader name='jw02221002002_02201_00003_nrcblong_cal.fits'>\n",
      "  outname = destreak(member['expname'],\n",
      "\n"
     ]
    },
    {
     "name": "stdout",
     "output_type": "stream",
     "text": [
      "2023-10-10T13:38:41.909870: Running manual align.\n"
     ]
    },
    {
     "name": "stderr",
     "output_type": "stream",
     "text": [
      "2023-10-10 13:38:43,240 - stpipe - WARNING - /scratch/local/12171132/ipykernel_971263/2615950328.py:100: ResourceWarning: unclosed file <_io.BufferedReader name='jw02221002002_02201_00003_nrcalong_align.fits'>\n",
      "  fa = asdf.open(align_image)\n",
      "\n"
     ]
    },
    {
     "name": "stdout",
     "output_type": "stream",
     "text": [
      "Destreaking jw02221002002_02201_00004_nrcalong_cal.fits\n"
     ]
    },
    {
     "name": "stderr",
     "output_type": "stream",
     "text": [
      "2023-10-10 13:38:48,422 - stpipe - WARNING - /blue/adamginsburg/adamginsburg/miniconda3/envs/python39savannah/lib/python3.9/site-packages/numpy/lib/nanfunctions.py:1577: RuntimeWarning: All-NaN slice encountered\n",
      "  result = np.apply_along_axis(_nanquantile_1d, axis, a, q,\n",
      "\n",
      "2023-10-10 13:38:49,913 - stpipe - WARNING - /scratch/local/12171132/ipykernel_971263/2615950328.py:72: ResourceWarning: unclosed file <_io.BufferedReader name='jw02221002002_02201_00004_nrcalong_cal.fits'>\n",
      "  outname = destreak(member['expname'],\n",
      "\n"
     ]
    },
    {
     "name": "stdout",
     "output_type": "stream",
     "text": [
      "2023-10-10T13:38:50.515803: Running manual align.\n",
      "Destreaking jw02221002002_02201_00004_nrcblong_cal.fits\n"
     ]
    },
    {
     "name": "stderr",
     "output_type": "stream",
     "text": [
      "2023-10-10 13:38:55,604 - stpipe - WARNING - /blue/adamginsburg/adamginsburg/miniconda3/envs/python39savannah/lib/python3.9/site-packages/numpy/lib/nanfunctions.py:1577: RuntimeWarning: All-NaN slice encountered\n",
      "  result = np.apply_along_axis(_nanquantile_1d, axis, a, q,\n",
      "\n",
      "2023-10-10 13:38:56,878 - stpipe - WARNING - /scratch/local/12171132/ipykernel_971263/2615950328.py:72: ResourceWarning: unclosed file <_io.BufferedReader name='jw02221002002_02201_00004_nrcblong_cal.fits'>\n",
      "  outname = destreak(member['expname'],\n",
      "\n"
     ]
    },
    {
     "name": "stdout",
     "output_type": "stream",
     "text": [
      "2023-10-10T13:38:57.271460: Running manual align.\n",
      "Destreaking jw02221002002_08201_00001_nrcalong_cal.fits\n"
     ]
    },
    {
     "name": "stderr",
     "output_type": "stream",
     "text": [
      "2023-10-10 13:38:59,473 - stpipe - WARNING - /blue/adamginsburg/adamginsburg/miniconda3/envs/python39savannah/lib/python3.9/site-packages/numpy/lib/nanfunctions.py:1577: RuntimeWarning: All-NaN slice encountered\n",
      "  result = np.apply_along_axis(_nanquantile_1d, axis, a, q,\n",
      "\n",
      "2023-10-10 13:39:02,583 - stpipe - WARNING - /scratch/local/12171132/ipykernel_971263/2615950328.py:72: ResourceWarning: unclosed file <_io.BufferedReader name='jw02221002002_08201_00001_nrcalong_cal.fits'>\n",
      "  outname = destreak(member['expname'],\n",
      "\n",
      "2023-10-10 13:39:03,436 - stpipe - WARNING - /scratch/local/12171132/ipykernel_971263/2615950328.py:100: ResourceWarning: unclosed file <_io.BufferedReader name='jw02221002002_02201_00004_nrcblong_align.fits'>\n",
      "  fa = asdf.open(align_image)\n",
      "\n"
     ]
    },
    {
     "name": "stdout",
     "output_type": "stream",
     "text": [
      "2023-10-10T13:39:03.283534: Running manual align.\n",
      "Destreaking jw02221002002_08201_00001_nrcblong_cal.fits\n"
     ]
    },
    {
     "name": "stderr",
     "output_type": "stream",
     "text": [
      "2023-10-10 13:39:04,553 - stpipe - WARNING - /blue/adamginsburg/adamginsburg/miniconda3/envs/python39savannah/lib/python3.9/site-packages/numpy/lib/nanfunctions.py:1577: RuntimeWarning: All-NaN slice encountered\n",
      "  result = np.apply_along_axis(_nanquantile_1d, axis, a, q,\n",
      "\n",
      "2023-10-10 13:39:06,389 - stpipe - WARNING - /scratch/local/12171132/ipykernel_971263/2615950328.py:72: ResourceWarning: unclosed file <_io.BufferedReader name='jw02221002002_08201_00001_nrcblong_cal.fits'>\n",
      "  outname = destreak(member['expname'],\n",
      "\n"
     ]
    },
    {
     "name": "stdout",
     "output_type": "stream",
     "text": [
      "2023-10-10T13:39:06.712279: Running manual align.\n"
     ]
    },
    {
     "name": "stderr",
     "output_type": "stream",
     "text": [
      "2023-10-10 13:39:07,391 - stpipe - WARNING - /blue/adamginsburg/adamginsburg/miniconda3/envs/python39savannah/lib/python3.9/copy.py:217: ResourceWarning: unclosed file <_io.BufferedReader name='jw02221002001_08201_00004_nrcalong_align.fits'>\n",
      "  for k, j in zip(x, y):\n",
      "\n",
      "2023-10-10 13:39:07,395 - stpipe - WARNING - /blue/adamginsburg/adamginsburg/miniconda3/envs/python39savannah/lib/python3.9/copy.py:217: ResourceWarning: unclosed file <_io.BufferedReader name='jw02221002001_08201_00004_nrcblong_align.fits'>\n",
      "  for k, j in zip(x, y):\n",
      "\n",
      "2023-10-10 13:39:07,397 - stpipe - WARNING - /blue/adamginsburg/adamginsburg/miniconda3/envs/python39savannah/lib/python3.9/copy.py:217: ResourceWarning: unclosed file <_io.BufferedReader name='jw02221002002_02201_00001_nrcalong_align.fits'>\n",
      "  for k, j in zip(x, y):\n",
      "\n",
      "2023-10-10 13:39:07,397 - stpipe - WARNING - /blue/adamginsburg/adamginsburg/miniconda3/envs/python39savannah/lib/python3.9/copy.py:217: ResourceWarning: unclosed file <_io.BufferedReader name='jw02221002002_02201_00001_nrcblong_align.fits'>\n",
      "  for k, j in zip(x, y):\n",
      "\n",
      "2023-10-10 13:39:07,398 - stpipe - WARNING - /blue/adamginsburg/adamginsburg/miniconda3/envs/python39savannah/lib/python3.9/copy.py:217: ResourceWarning: unclosed file <_io.BufferedReader name='jw02221002002_02201_00002_nrcalong_align.fits'>\n",
      "  for k, j in zip(x, y):\n",
      "\n",
      "2023-10-10 13:39:07,399 - stpipe - WARNING - /blue/adamginsburg/adamginsburg/miniconda3/envs/python39savannah/lib/python3.9/copy.py:217: ResourceWarning: unclosed file <_io.BufferedReader name='jw02221002002_02201_00002_nrcblong_align.fits'>\n",
      "  for k, j in zip(x, y):\n",
      "\n",
      "2023-10-10 13:39:07,400 - stpipe - WARNING - /blue/adamginsburg/adamginsburg/miniconda3/envs/python39savannah/lib/python3.9/copy.py:217: ResourceWarning: unclosed file <_io.BufferedReader name='jw02221002002_02201_00003_nrcalong_align.fits'>\n",
      "  for k, j in zip(x, y):\n",
      "\n",
      "2023-10-10 13:39:07,401 - stpipe - WARNING - /blue/adamginsburg/adamginsburg/miniconda3/envs/python39savannah/lib/python3.9/copy.py:217: ResourceWarning: unclosed file <_io.BufferedReader name='jw02221002002_02201_00003_nrcblong_align.fits'>\n",
      "  for k, j in zip(x, y):\n",
      "\n",
      "2023-10-10 13:39:07,402 - stpipe - WARNING - /blue/adamginsburg/adamginsburg/miniconda3/envs/python39savannah/lib/python3.9/copy.py:217: ResourceWarning: unclosed file <_io.BufferedReader name='jw02221002002_02201_00004_nrcalong_align.fits'>\n",
      "  for k, j in zip(x, y):\n",
      "\n",
      "2023-10-10 13:39:07,402 - stpipe - WARNING - /blue/adamginsburg/adamginsburg/miniconda3/envs/python39savannah/lib/python3.9/copy.py:217: ResourceWarning: unclosed file <_io.BufferedReader name='jw02221002002_02201_00004_nrcblong_align.fits'>\n",
      "  for k, j in zip(x, y):\n",
      "\n",
      "2023-10-10 13:39:07,623 - stpipe - WARNING - /scratch/local/12171132/ipykernel_971263/2615950328.py:100: ResourceWarning: unclosed file <_io.BufferedReader name='jw02221002002_08201_00001_nrcalong_align.fits'>\n",
      "  fa = asdf.open(align_image)\n",
      "\n",
      "2023-10-10 13:39:08,372 - stpipe - WARNING - /blue/adamginsburg/adamginsburg/miniconda3/envs/python39savannah/lib/python3.9/site-packages/numpy/lib/nanfunctions.py:1577: RuntimeWarning: All-NaN slice encountered\n",
      "  result = np.apply_along_axis(_nanquantile_1d, axis, a, q,\n",
      "\n"
     ]
    },
    {
     "name": "stdout",
     "output_type": "stream",
     "text": [
      "Destreaking jw02221002002_08201_00002_nrcalong_cal.fits\n"
     ]
    },
    {
     "name": "stderr",
     "output_type": "stream",
     "text": [
      "2023-10-10 13:39:09,616 - stpipe - WARNING - /scratch/local/12171132/ipykernel_971263/2615950328.py:72: ResourceWarning: unclosed file <_io.BufferedReader name='jw02221002002_08201_00002_nrcalong_cal.fits'>\n",
      "  outname = destreak(member['expname'],\n",
      "\n"
     ]
    },
    {
     "name": "stdout",
     "output_type": "stream",
     "text": [
      "2023-10-10T13:39:12.284855: Running manual align.\n"
     ]
    },
    {
     "name": "stderr",
     "output_type": "stream",
     "text": [
      "2023-10-10 13:39:13,721 - stpipe - WARNING - /scratch/local/12171132/ipykernel_971263/2615950328.py:100: ResourceWarning: unclosed file <_io.BufferedReader name='jw02221002002_08201_00001_nrcblong_align.fits'>\n",
      "  fa = asdf.open(align_image)\n",
      "\n"
     ]
    },
    {
     "name": "stdout",
     "output_type": "stream",
     "text": [
      "Destreaking jw02221002002_08201_00002_nrcblong_cal.fits\n"
     ]
    },
    {
     "name": "stderr",
     "output_type": "stream",
     "text": [
      "2023-10-10 13:39:15,203 - stpipe - WARNING - /blue/adamginsburg/adamginsburg/miniconda3/envs/python39savannah/lib/python3.9/site-packages/numpy/lib/nanfunctions.py:1577: RuntimeWarning: All-NaN slice encountered\n",
      "  result = np.apply_along_axis(_nanquantile_1d, axis, a, q,\n",
      "\n",
      "2023-10-10 13:39:16,159 - stpipe - WARNING - /scratch/local/12171132/ipykernel_971263/2615950328.py:72: ResourceWarning: unclosed file <_io.BufferedReader name='jw02221002002_08201_00002_nrcblong_cal.fits'>\n",
      "  outname = destreak(member['expname'],\n",
      "\n"
     ]
    },
    {
     "name": "stdout",
     "output_type": "stream",
     "text": [
      "2023-10-10T13:39:18.460090: Running manual align.\n",
      "Destreaking jw02221002002_08201_00003_nrcalong_cal.fits\n"
     ]
    },
    {
     "name": "stderr",
     "output_type": "stream",
     "text": [
      "2023-10-10 13:39:22,316 - stpipe - WARNING - /blue/adamginsburg/adamginsburg/miniconda3/envs/python39savannah/lib/python3.9/site-packages/numpy/lib/nanfunctions.py:1577: RuntimeWarning: All-NaN slice encountered\n",
      "  result = np.apply_along_axis(_nanquantile_1d, axis, a, q,\n",
      "\n",
      "2023-10-10 13:39:23,568 - stpipe - WARNING - /scratch/local/12171132/ipykernel_971263/2615950328.py:72: ResourceWarning: unclosed file <_io.BufferedReader name='jw02221002002_08201_00003_nrcalong_cal.fits'>\n",
      "  outname = destreak(member['expname'],\n",
      "\n"
     ]
    },
    {
     "name": "stdout",
     "output_type": "stream",
     "text": [
      "2023-10-10T13:39:23.885757: Running manual align.\n",
      "Destreaking jw02221002002_08201_00003_nrcblong_cal.fits\n"
     ]
    },
    {
     "name": "stderr",
     "output_type": "stream",
     "text": [
      "2023-10-10 13:39:25,572 - stpipe - WARNING - /blue/adamginsburg/adamginsburg/miniconda3/envs/python39savannah/lib/python3.9/site-packages/numpy/lib/nanfunctions.py:1577: RuntimeWarning: All-NaN slice encountered\n",
      "  result = np.apply_along_axis(_nanquantile_1d, axis, a, q,\n",
      "\n",
      "2023-10-10 13:39:26,910 - stpipe - WARNING - /scratch/local/12171132/ipykernel_971263/2615950328.py:72: ResourceWarning: unclosed file <_io.BufferedReader name='jw02221002002_08201_00003_nrcblong_cal.fits'>\n",
      "  outname = destreak(member['expname'],\n",
      "\n"
     ]
    },
    {
     "name": "stdout",
     "output_type": "stream",
     "text": [
      "2023-10-10T13:39:27.238953: Running manual align.\n",
      "Destreaking jw02221002002_08201_00004_nrcalong_cal.fits\n"
     ]
    },
    {
     "name": "stderr",
     "output_type": "stream",
     "text": [
      "2023-10-10 13:39:35,650 - stpipe - WARNING - /blue/adamginsburg/adamginsburg/miniconda3/envs/python39savannah/lib/python3.9/site-packages/numpy/lib/nanfunctions.py:1577: RuntimeWarning: All-NaN slice encountered\n",
      "  result = np.apply_along_axis(_nanquantile_1d, axis, a, q,\n",
      "\n",
      "2023-10-10 13:39:37,472 - stpipe - WARNING - /scratch/local/12171132/ipykernel_971263/2615950328.py:72: ResourceWarning: unclosed file <_io.BufferedReader name='jw02221002002_08201_00004_nrcalong_cal.fits'>\n",
      "  outname = destreak(member['expname'],\n",
      "\n"
     ]
    },
    {
     "name": "stdout",
     "output_type": "stream",
     "text": [
      "2023-10-10T13:39:39.799976: Running manual align.\n"
     ]
    },
    {
     "name": "stderr",
     "output_type": "stream",
     "text": [
      "2023-10-10 13:39:41,162 - stpipe - WARNING - /scratch/local/12171132/ipykernel_971263/2615950328.py:100: ResourceWarning: unclosed file <_io.BufferedReader name='jw02221002002_08201_00003_nrcblong_align.fits'>\n",
      "  fa = asdf.open(align_image)\n",
      "\n"
     ]
    },
    {
     "name": "stdout",
     "output_type": "stream",
     "text": [
      "Destreaking jw02221002002_08201_00004_nrcblong_cal.fits\n"
     ]
    },
    {
     "name": "stderr",
     "output_type": "stream",
     "text": [
      "2023-10-10 13:39:43,913 - stpipe - WARNING - /blue/adamginsburg/adamginsburg/miniconda3/envs/python39savannah/lib/python3.9/site-packages/numpy/lib/nanfunctions.py:1577: RuntimeWarning: All-NaN slice encountered\n",
      "  result = np.apply_along_axis(_nanquantile_1d, axis, a, q,\n",
      "\n",
      "2023-10-10 13:39:44,843 - stpipe - WARNING - /scratch/local/12171132/ipykernel_971263/2615950328.py:72: ResourceWarning: unclosed file <_io.BufferedReader name='jw02221002002_08201_00004_nrcblong_cal.fits'>\n",
      "  outname = destreak(member['expname'],\n",
      "\n"
     ]
    },
    {
     "name": "stdout",
     "output_type": "stream",
     "text": [
      "2023-10-10T13:39:45.597906: Running manual align.\n"
     ]
    },
    {
     "name": "stderr",
     "output_type": "stream",
     "text": [
      "2023-10-10 13:39:46,032 - stpipe - WARNING - /scratch/local/12171132/ipykernel_971263/2615950328.py:100: ResourceWarning: unclosed file <_io.BufferedReader name='jw02221002002_08201_00004_nrcalong_align.fits'>\n",
      "  fa = asdf.open(align_image)\n",
      "\n"
     ]
    }
   ],
   "source": [
    "if module in ('nrca', 'nrcb'):\n",
    "    print(f\"Filter {filtername} module {module}\")\n",
    "\n",
    "    with open(asn_file) as f_obj:\n",
    "        asn_data = json.load(f_obj)\n",
    "    asn_data['products'][0]['name'] = f'jw02221-o{field}_t001_nircam_clear-{filtername.lower()}-{module}'\n",
    "    asn_data['products'][0]['members'] = [row for row in asn_data['products'][0]['members']\n",
    "                                            if f'{module}' in row['expname']]\n",
    "\n",
    "    for member in asn_data['products'][0]['members']:\n",
    "        print(member['expname'])\n",
    "        member['expname'] = os.path.join(output_dir, member['expname'])\n",
    "        hdr = fits.getheader(member['expname'])\n",
    "        if filtername in (hdr['PUPIL'], hdr['FILTER']):\n",
    "            outname = destreak(member['expname'],\n",
    "                               use_background_map=False,\n",
    "                               median_filter_size=2048)  # median_filter_size=medfilt_size[filtername])\n",
    "            member['expname'] = outname\n",
    "\n",
    "        print(member['expname'])\n",
    "        if field == '002' and (filtername.lower() == 'f405n' or filtername.lower() == 'f410m' or filtername.lower() == 'f466n'):\n",
    "                align_image = member['expname'].replace(\"_destreak.fits\", \"_align.fits\")#.split('.')[0]+'_align.fits'\n",
    "                shutil.copy(member['expname'], align_image)\n",
    "                offsets_tbl = Table.read('/orange/adamginsburg/jwst/cloudc/offsets/Offsets_JWST_Cloud_C.csv')\n",
    "                row = offsets_tbl[member['expname'].split('/')[-1] == offsets_tbl['Filename_1']]\n",
    "                align_fits = fits.open(align_image)\n",
    "                pixel_scale = np.sqrt(fits.getheader(align_image, ext=1)['PIXAR_A2']*u.arcsec**2)\n",
    "                try: \n",
    "                    print('Running manual align.')\n",
    "                    xshift = float(row['xshift (arcsec)'])*u.arcsec\n",
    "                    yshift = float(row['yshift (arcsec)'])*u.arcsec\n",
    "                except: \n",
    "                    print('Something went wrong with manual align, running default values.')\n",
    "                    visit = member['expname'].split('_')[0][-3:]\n",
    "                    if visit == '001':\n",
    "                        xshift = 8*u.arcsec\n",
    "                        yshift = -0.3*u.arcsec\n",
    "                    elif visit == '002':\n",
    "                        xshift = 3.9*u.arcsec/pixel_scale\n",
    "                        yshift = 1*u.arcsec/pixel_scale\n",
    "                    else:\n",
    "                        xshift = 0*u.arcsec/pixel_scale\n",
    "                        yshift = 0*u.arcsec/pixel_scale\n",
    "                fa = asdf.open(align_image)\n",
    "                wcsobj = fa.tree['meta']['wcs']\n",
    "                ww = adjust_wcs(wcsobj, delta_ra=yshift, delta_dec=xshift)\n",
    "                tree = fa.tree\n",
    "                tree['meta']['wcs'] = ww\n",
    "                fa = asdf.fits_embed.AsdfInFits(align_fits, tree)                    \n",
    "                align_fits.writeto(align_image, overwrite=True)\n",
    "                member['expname'] = align_image\n",
    "\n",
    "    asn_file_each = asn_file.replace(\"_asn.json\", f\"_{module}_asn.json\")\n",
    "    with open(asn_file_each, 'w') as fh:\n",
    "        json.dump(asn_data, fh)\n",
    "        \n",
    "if module == 'merged':\n",
    "        # try merging all frames & modules\n",
    "        log.info(\"Working on merged reduction (both modules)\")\n",
    "\n",
    "        fov_regname = {'brick': 'regions/nircam_brick_fov.reg',\n",
    "                       'cloudc': 'regions/nircam_cloudc_fov.reg',\n",
    "                      }\n",
    "\n",
    "        # Load asn_data for both modules\n",
    "        with open(asn_file) as f_obj:\n",
    "            asn_data = json.load(f_obj)\n",
    "\n",
    "        for member in asn_data['products'][0]['members']:\n",
    "            hdr = fits.getheader(member['expname'])\n",
    "            if filtername in (hdr['PUPIL'], hdr['FILTER']):\n",
    "                outname = destreak(member['expname'],\n",
    "                                   use_background_map=False,\n",
    "                                   median_filter_size=2048)  # median_filter_size=medfilt_size[filtername])\n",
    "                member['expname'] = outname\n",
    "            \n",
    "            if field == '002' and (filtername.lower() == 'f405n' or filtername.lower() == 'f410m' or filtername.lower() == 'f466n'):\n",
    "                align_image = member['expname'].replace(\"_destreak.fits\", \"_align.fits\")#.split('.')[0]+'_align.fits'\n",
    "                shutil.copy(member['expname'], align_image)\n",
    "                offsets_tbl = Table.read('/orange/adamginsburg/jwst/cloudc/offsets/Offsets_JWST_Cloud_C.csv')\n",
    "                row = offsets_tbl[member['expname'].split('/')[-1] == offsets_tbl['Filename_1']]\n",
    "                align_fits = fits.open(align_image)\n",
    "                pixel_scale = np.sqrt(fits.getheader(align_image, ext=1)['PIXAR_A2']*u.arcsec**2)\n",
    "                try: \n",
    "                    print('Running manual align.')\n",
    "                    xshift = float(row['xshift (arcsec)'])*u.arcsec\n",
    "                    yshift = float(row['yshift (arcsec)'])*u.arcsec\n",
    "                except: \n",
    "                    print('Something went wrong with manual align, running default values.')\n",
    "                    visit = member['expname'].split('_')[0][-3:]\n",
    "                    if visit == '001':\n",
    "                        xshift = 8*u.arcsec\n",
    "                        yshift = -0.3*u.arcsec\n",
    "                    elif visit == '002':\n",
    "                        xshift = 3.9*u.arcsec/pixel_scale\n",
    "                        yshift = 1*u.arcsec/pixel_scale\n",
    "                    else:\n",
    "                        xshift = 0*u.arcsec/pixel_scale\n",
    "                        yshift = 0*u.arcsec/pixel_scale\n",
    "                fa = asdf.open(align_image)\n",
    "                wcsobj = fa.tree['meta']['wcs']\n",
    "                ww = adjust_wcs(wcsobj, delta_ra=yshift, delta_dec=xshift)\n",
    "                tree = fa.tree\n",
    "                tree['meta']['wcs'] = ww\n",
    "                fa = asdf.fits_embed.AsdfInFits(align_fits, tree)                    \n",
    "                align_fits.writeto(align_image, overwrite=True)\n",
    "                member['expname'] = align_image\n",
    "\n",
    "        asn_data['products'][0]['name'] = f'jw02221-o{field}_t001_nircam_clear-{filtername.lower()}-merged'\n",
    "        asn_file_merged = asn_file.replace(\"_asn.json\", f\"_merged_asn.json\")\n",
    "        with open(asn_file_merged, 'w') as fh:\n",
    "            json.dump(asn_data, fh)"
   ]
  },
  {
   "cell_type": "code",
   "execution_count": 22,
   "id": "1d527bc5-8644-473e-907b-87256d3b67cf",
   "metadata": {
    "tags": []
   },
   "outputs": [
    {
     "data": {
      "text/plain": [
       "'/orange/adamginsburg/jwst/cloudc/F405N/pipeline/jw02221-o002_20230725t121309_image3_00005_asn.json'"
      ]
     },
     "execution_count": 22,
     "metadata": {},
     "output_type": "execute_result"
    }
   ],
   "source": [
    "asn_file#['products'][0]['members']"
   ]
  },
  {
   "cell_type": "code",
   "execution_count": 18,
   "id": "de353f98-63bd-4517-986f-5e499bf47075",
   "metadata": {},
   "outputs": [
    {
     "data": {
      "text/plain": [
       "'/orange/adamginsburg/jwst/cloudc/F405N/pipeline/jw02221-o002_20230911t112751_image3_00005_nrcb_asn.json'"
      ]
     },
     "execution_count": 18,
     "metadata": {},
     "output_type": "execute_result"
    }
   ],
   "source": [
    "asn_file_each"
   ]
  },
  {
   "cell_type": "code",
   "execution_count": null,
   "id": "1397c58b-54ac-499e-957e-3883cedcd1e0",
   "metadata": {},
   "outputs": [],
   "source": []
  },
  {
   "cell_type": "code",
   "execution_count": null,
   "id": "d9515665-0ae2-42fc-93b8-27fe979bcd75",
   "metadata": {},
   "outputs": [],
   "source": []
  },
  {
   "cell_type": "code",
   "execution_count": 63,
   "id": "e6102ec2-fee2-4041-922a-59c2c44ab898",
   "metadata": {},
   "outputs": [
    {
     "name": "stdout",
     "output_type": "stream",
     "text": [
      "2023-10-10T13:39:46.596200: Loaded VVV catalog /orange/adamginsburg/jwst/cloudc//F405N/pipeline/jw02221-o002_t001_nircam_clear-F405N-merged_vvvcat.ecsv\n"
     ]
    }
   ],
   "source": [
    "\n",
    "if filtername.lower() == 'f405n':\n",
    "# for the VVV cat, use the merged version: no need for independent versions\n",
    "    abs_refcat = vvvdr2fn = (f'{basepath}/{filtername.upper()}/pipeline/jw02221-o{field}_t001_nircam_clear-{filtername}-merged_vvvcat.ecsv') # file needed by crowdsource_catalogs_long\n",
    "    print(f\"Loaded VVV catalog {vvvdr2fn}\")\n",
    "    retrieve_vvv(basepath=basepath, filtername=filtername, fov_regname=fov_regname[regionname], module='merged', fieldnumber=field)\n",
    "    tweakreg_parameters['abs_refcat'] = vvvdr2fn\n",
    "    tweakreg_parameters['abs_searchrad'] = 1\n",
    "    reftbl = Table.read(abs_refcat)\n",
    "    assert 'skycoord' in reftbl.colnames\n",
    "else:\n",
    "    abs_refcat = f'{basepath}/catalogs/crowdsource_based_nircam-f405n_reference_astrometric_catalog.ecsv'\n",
    "    reftbl = Table.read(abs_refcat)\n",
    "    # For non-F410M, try aligning to F410M instead of VVV?\n",
    "    reftblversion = reftbl.meta['VERSION']\n",
    "\n",
    "    # truncate to top 10,000 sources\n",
    "    reftbl[:10000].write(f'{basepath}/catalogs/crowdsource_based_nircam-f405n_reference_astrometric_catalog_truncated10000.ecsv', overwrite=True)\n",
    "    abs_refcat = f'{basepath}/catalogs/crowdsource_based_nircam-f405n_reference_astrometric_catalog_truncated10000.ecsv'\n",
    "\n",
    "    tweakreg_parameters['abs_searchrad'] = 0.4\n",
    "    # try forcing searchrad to be tighter to avoid bad crossmatches\n",
    "    # (the raw data are very well-aligned to begin with, though CARTA\n",
    "    # can't display them b/c they are using SIP)\n",
    "    tweakreg_parameters['searchrad'] = 0.05\n",
    "    print(f\"Reference catalog is {abs_refcat} with version {reftblversion}\")\n"
   ]
  },
  {
   "cell_type": "code",
   "execution_count": 64,
   "id": "de81c6da-6b89-4039-ad4f-acc2440df84c",
   "metadata": {
    "tags": []
   },
   "outputs": [
    {
     "name": "stderr",
     "output_type": "stream",
     "text": [
      "2023-10-10 13:39:47,340 - stpipe - INFO - Running tweakreg (merged)\n"
     ]
    },
    {
     "name": "stdout",
     "output_type": "stream",
     "text": [
      "INFO: Running tweakreg (merged) [unknown]\n"
     ]
    },
    {
     "name": "stderr",
     "output_type": "stream",
     "text": [
      "2023-10-10 13:39:47,696 - stpipe - WARNING - /blue/adamginsburg/adamginsburg/repos/jwst/jwst/associations/association.py:215: UserWarning: 'expname' contains path, but should only be a filename.  All input files should be in a single directory, so no path is needed.\n",
      "  warnings.warn(err_str, UserWarning)\n",
      "\n",
      "2023-10-10 13:39:50,550 - stpipe - INFO - PARS-TWEAKREGSTEP parameters found: /orange/adamginsburg/jwst/cloudc//crds/references/jwst/nircam/jwst_nircam_pars-tweakregstep_0035.asdf\n",
      "2023-10-10 13:39:50,667 - stpipe - INFO - PARS-SOURCECATALOGSTEP parameters found: /orange/adamginsburg/jwst/cloudc//crds/references/jwst/nircam/jwst_nircam_pars-sourcecatalogstep_0022.asdf\n",
      "2023-10-10 13:39:50,691 - stpipe - WARNING - /blue/adamginsburg/adamginsburg/miniconda3/envs/python39savannah/lib/python3.9/site-packages/asdf/asdf.py:356: AsdfWarning: File 'file:///orange/adamginsburg/jwst/cloudc/crds/references/jwst/nircam/jwst_nircam_pars-sourcecatalogstep_0022.asdf' was created with extension class 'asdf.extension.BuiltinExtension' (from package asdf==2.15.2), but older package (asdf==2.15.1) is installed.\n",
      "  warnings.warn(msg, AsdfWarning)\n",
      "\n",
      "2023-10-10 13:39:50,700 - stpipe.Image3Pipeline - INFO - Image3Pipeline instance created.\n",
      "2023-10-10 13:39:50,702 - stpipe.Image3Pipeline.assign_mtwcs - INFO - AssignMTWcsStep instance created.\n",
      "2023-10-10 13:39:50,704 - stpipe.Image3Pipeline.tweakreg - INFO - TweakRegStep instance created.\n",
      "2023-10-10 13:39:50,706 - stpipe.Image3Pipeline.skymatch - INFO - SkyMatchStep instance created.\n",
      "2023-10-10 13:39:50,708 - stpipe.Image3Pipeline.outlier_detection - INFO - OutlierDetectionStep instance created.\n",
      "2023-10-10 13:39:50,709 - stpipe.Image3Pipeline.resample - INFO - ResampleStep instance created.\n",
      "2023-10-10 13:39:50,711 - stpipe.Image3Pipeline.source_catalog - INFO - SourceCatalogStep instance created.\n",
      "2023-10-10 13:39:50,978 - stpipe - WARNING - /blue/adamginsburg/adamginsburg/repos/stpipe/src/stpipe/step.py:409: ResourceWarning: unclosed file <_io.BufferedReader name='jw02221002002_08201_00001_nrcblong_align.fits'>\n",
      "  gc.collect()\n",
      "\n",
      "2023-10-10 13:39:50,980 - stpipe - WARNING - /blue/adamginsburg/adamginsburg/repos/stpipe/src/stpipe/step.py:409: ResourceWarning: unclosed file <_io.BufferedReader name='jw02221002002_08201_00001_nrcalong_align.fits'>\n",
      "  gc.collect()\n",
      "\n",
      "2023-10-10 13:39:50,982 - stpipe - WARNING - /blue/adamginsburg/adamginsburg/repos/stpipe/src/stpipe/step.py:409: ResourceWarning: unclosed file <_io.BufferedReader name='jw02221002002_08201_00002_nrcalong_align.fits'>\n",
      "  gc.collect()\n",
      "\n",
      "2023-10-10 13:39:50,983 - stpipe - WARNING - /blue/adamginsburg/adamginsburg/repos/stpipe/src/stpipe/step.py:409: ResourceWarning: unclosed file <_io.BufferedReader name='jw02221002002_08201_00002_nrcblong_align.fits'>\n",
      "  gc.collect()\n",
      "\n",
      "2023-10-10 13:39:50,985 - stpipe - WARNING - /blue/adamginsburg/adamginsburg/repos/stpipe/src/stpipe/step.py:409: ResourceWarning: unclosed file <_io.BufferedReader name='jw02221002002_08201_00003_nrcalong_align.fits'>\n",
      "  gc.collect()\n",
      "\n",
      "2023-10-10 13:39:50,986 - stpipe - WARNING - /blue/adamginsburg/adamginsburg/repos/stpipe/src/stpipe/step.py:409: ResourceWarning: unclosed file <_io.BufferedReader name='jw02221002002_08201_00003_nrcblong_align.fits'>\n",
      "  gc.collect()\n",
      "\n",
      "2023-10-10 13:39:50,987 - stpipe - WARNING - /blue/adamginsburg/adamginsburg/repos/stpipe/src/stpipe/step.py:409: ResourceWarning: unclosed file <_io.BufferedReader name='jw02221002002_08201_00004_nrcalong_align.fits'>\n",
      "  gc.collect()\n",
      "\n",
      "2023-10-10 13:39:51,014 - stpipe.Image3Pipeline - INFO - Step Image3Pipeline running with args ('/orange/adamginsburg/jwst/cloudc/F405N/pipeline/jw02221-o002_20230911t112751_image3_00005_nrca_asn.json',).\n",
      "2023-10-10 13:39:51,021 - stpipe.Image3Pipeline - INFO - Step Image3Pipeline parameters are: {'pre_hooks': [], 'post_hooks': [], 'output_file': None, 'output_dir': '/orange/adamginsburg/jwst/cloudc/F405N/pipeline/', 'output_ext': '.fits', 'output_use_model': False, 'output_use_index': True, 'save_results': True, 'skip': False, 'suffix': None, 'search_output_file': True, 'input_dir': '', 'steps': {'assign_mtwcs': {'pre_hooks': [], 'post_hooks': [], 'output_file': None, 'output_dir': None, 'output_ext': '.fits', 'output_use_model': True, 'output_use_index': True, 'save_results': False, 'skip': False, 'suffix': 'assign_mtwcs', 'search_output_file': True, 'input_dir': ''}, 'tweakreg': {'pre_hooks': [], 'post_hooks': [], 'output_file': None, 'output_dir': None, 'output_ext': '.fits', 'output_use_model': True, 'output_use_index': True, 'save_results': True, 'skip': False, 'suffix': None, 'search_output_file': True, 'input_dir': '', 'save_catalogs': True, 'use_custom_catalogs': False, 'catalog_format': 'ecsv', 'catfile': '', 'kernel_fwhm': 2.165, 'snr_threshold': 30, 'sharplo': 0.3, 'sharphi': 0.9, 'roundlo': -0.25, 'roundhi': 0.25, 'brightest': 500, 'peakmax': None, 'bkg_boxsize': 400, 'enforce_user_order': False, 'expand_refcat': False, 'minobj': 15, 'searchrad': 5, 'use2dhist': True, 'separation': 0.5, 'tolerance': 1.0, 'xoffset': 0.0, 'yoffset': 0.0, 'fitgeometry': 'general', 'nclip': 5, 'sigma': 3.0, 'abs_refcat': '/orange/adamginsburg/jwst/cloudc//F405N/pipeline/jw02221-o002_t001_nircam_clear-F405N-merged_vvvcat.ecsv', 'save_abs_catalog': False, 'abs_minobj': 15, 'abs_searchrad': 1, 'abs_use2dhist': True, 'abs_separation': 0.1, 'abs_tolerance': 0.7, 'abs_fitgeometry': 'rshift', 'abs_nclip': 3, 'abs_sigma': 3.0}, 'skymatch': {'pre_hooks': [], 'post_hooks': [], 'output_file': None, 'output_dir': None, 'output_ext': '.fits', 'output_use_model': False, 'output_use_index': True, 'save_results': False, 'skip': False, 'suffix': None, 'search_output_file': True, 'input_dir': '', 'skymethod': 'match', 'match_down': True, 'subtract': False, 'stepsize': None, 'skystat': 'mode', 'dqbits': '~DO_NOT_USE+NON_SCIENCE', 'lower': None, 'upper': None, 'nclip': 5, 'lsigma': 4.0, 'usigma': 4.0, 'binwidth': 0.1}, 'outlier_detection': {'pre_hooks': [], 'post_hooks': [], 'output_file': None, 'output_dir': None, 'output_ext': '.fits', 'output_use_model': False, 'output_use_index': True, 'save_results': False, 'skip': False, 'suffix': None, 'search_output_file': False, 'input_dir': '', 'weight_type': 'ivm', 'pixfrac': 1.0, 'kernel': 'square', 'fillval': 'INDEF', 'nlow': 0, 'nhigh': 0, 'maskpt': 0.7, 'grow': 1, 'snr': '5.0 4.0', 'scale': '1.2 0.7', 'backg': 0.0, 'kernel_size': '7 7', 'threshold_percent': 99.8, 'ifu_second_check': False, 'save_intermediate_results': False, 'resample_data': True, 'good_bits': '~DO_NOT_USE', 'scale_detection': False, 'allowed_memory': None, 'in_memory': False}, 'resample': {'pre_hooks': [], 'post_hooks': [], 'output_file': None, 'output_dir': None, 'output_ext': '.fits', 'output_use_model': False, 'output_use_index': True, 'save_results': False, 'skip': False, 'suffix': None, 'search_output_file': True, 'input_dir': '', 'pixfrac': 1.0, 'kernel': 'square', 'fillval': 'INDEF', 'weight_type': 'ivm', 'output_shape': None, 'crpix': None, 'crval': None, 'rotation': None, 'pixel_scale_ratio': 1.0, 'pixel_scale': None, 'output_wcs': '', 'single': False, 'blendheaders': True, 'allowed_memory': None, 'in_memory': True}, 'source_catalog': {'pre_hooks': [], 'post_hooks': [], 'output_file': None, 'output_dir': None, 'output_ext': '.fits', 'output_use_model': False, 'output_use_index': True, 'save_results': False, 'skip': False, 'suffix': 'cat', 'search_output_file': True, 'input_dir': '', 'bkg_boxsize': 1000, 'kernel_fwhm': 2.165, 'snr_threshold': 3.0, 'npixels': 25, 'deblend': False, 'aperture_ee1': 30, 'aperture_ee2': 50, 'aperture_ee3': 70, 'ci1_star_threshold': 2.0, 'ci2_star_threshold': 1.8}}}\n",
      "2023-10-10 13:39:51,051 - stpipe.Image3Pipeline - WARNING - /blue/adamginsburg/adamginsburg/repos/jwst/jwst/associations/association.py:215: UserWarning: 'expname' contains path, but should only be a filename.  All input files should be in a single directory, so no path is needed.\n",
      "  warnings.warn(err_str, UserWarning)\n",
      "\n",
      "2023-10-10 13:39:51,257 - stpipe.Image3Pipeline - INFO - Prefetching reference files for dataset: 'jw02221002001_02201_00001_nrcalong_align.fits' reftypes = ['abvegaoffset', 'apcorr', 'drizpars']\n",
      "2023-10-10 13:39:51,330 - stpipe.Image3Pipeline - INFO - Prefetch for ABVEGAOFFSET reference file is '/orange/adamginsburg/jwst/cloudc//crds/references/jwst/nircam/jwst_nircam_abvegaoffset_0001.asdf'.\n",
      "2023-10-10 13:39:51,332 - stpipe.Image3Pipeline - INFO - Prefetch for APCORR reference file is '/orange/adamginsburg/jwst/cloudc//crds/references/jwst/nircam/jwst_nircam_apcorr_0004.fits'.\n",
      "2023-10-10 13:39:51,333 - stpipe.Image3Pipeline - INFO - Prefetch for DRIZPARS reference file is '/orange/adamginsburg/jwst/cloudc//crds/references/jwst/nircam/jwst_nircam_drizpars_0001.fits'.\n",
      "2023-10-10 13:39:51,335 - stpipe.Image3Pipeline - INFO - Starting calwebb_image3 ...\n",
      "2023-10-10 13:39:51,349 - stpipe.Image3Pipeline - WARNING - /blue/adamginsburg/adamginsburg/repos/jwst/jwst/associations/association.py:215: UserWarning: 'expname' contains path, but should only be a filename.  All input files should be in a single directory, so no path is needed.\n",
      "  warnings.warn(err_str, UserWarning)\n",
      "\n",
      "2023-10-10 13:40:18,712 - stpipe.Image3Pipeline.tweakreg - INFO - Step tweakreg running with args (<ModelContainer>,).\n",
      "2023-10-10 13:40:18,743 - stpipe.Image3Pipeline.tweakreg - INFO - Step tweakreg parameters are: {'pre_hooks': [], 'post_hooks': [], 'output_file': None, 'output_dir': None, 'output_ext': '.fits', 'output_use_model': True, 'output_use_index': True, 'save_results': True, 'skip': False, 'suffix': None, 'search_output_file': True, 'input_dir': '/orange/adamginsburg/jwst/cloudc/F405N/pipeline', 'save_catalogs': True, 'use_custom_catalogs': False, 'catalog_format': 'ecsv', 'catfile': '', 'kernel_fwhm': 2.165, 'snr_threshold': 30, 'sharplo': 0.3, 'sharphi': 0.9, 'roundlo': -0.25, 'roundhi': 0.25, 'brightest': 500, 'peakmax': None, 'bkg_boxsize': 400, 'enforce_user_order': False, 'expand_refcat': False, 'minobj': 15, 'searchrad': 5, 'use2dhist': True, 'separation': 0.5, 'tolerance': 1.0, 'xoffset': 0.0, 'yoffset': 0.0, 'fitgeometry': 'general', 'nclip': 5, 'sigma': 3.0, 'abs_refcat': '/orange/adamginsburg/jwst/cloudc//F405N/pipeline/jw02221-o002_t001_nircam_clear-F405N-merged_vvvcat.ecsv', 'save_abs_catalog': False, 'abs_minobj': 15, 'abs_searchrad': 1, 'abs_use2dhist': True, 'abs_separation': 0.1, 'abs_tolerance': 0.7, 'abs_fitgeometry': 'rshift', 'abs_nclip': 3, 'abs_sigma': 3.0}\n",
      "2023-10-10 13:40:18,784 - stpipe.Image3Pipeline.tweakreg - INFO - Using absolute refcat {self.abs_refcat}\n",
      "2023-10-10 13:40:18,785 - stpipe.Image3Pipeline.tweakreg - INFO - In tweakreg_step, brightest = 500\n",
      "2023-10-10 13:40:19,088 - stpipe.Image3Pipeline.tweakreg - WARNING - /blue/adamginsburg/adamginsburg/miniconda3/envs/python39savannah/lib/python3.9/site-packages/photutils/background/background_2d.py:274: AstropyUserWarning: Input data contains invalid values (NaNs or infs), which were automatically masked.\n",
      "  warnings.warn('Input data contains invalid values (NaNs or '\n",
      "\n",
      "2023-10-10 13:40:20,890 - stpipe.Image3Pipeline.tweakreg - INFO - In make_tweakreg_catalog, brightest = 500\n",
      "2023-10-10 13:40:21,315 - stpipe.Image3Pipeline.tweakreg - INFO - In make_tweakreg_catalog, brightest = 500.  len(sources) = 500\n",
      "2023-10-10 13:40:21,318 - stpipe.Image3Pipeline.tweakreg - INFO - In tweakreg_step, brightest = 500. len(catalog)=500\n",
      "2023-10-10 13:40:21,319 - stpipe.Image3Pipeline.tweakreg - INFO - Detected 500 sources in jw02221002001_02201_00001_nrcalong_align.fits.\n",
      "2023-10-10 13:40:21,344 - stpipe.Image3Pipeline.tweakreg - INFO - Wrote source catalog: jw02221002001_02201_00001_nrcalong_align_cat.ecsv\n",
      "2023-10-10 13:40:21,358 - stpipe.Image3Pipeline.tweakreg - INFO - In tweakreg_step, brightest = 500\n",
      "2023-10-10 13:40:21,366 - stpipe.Image3Pipeline.tweakreg - WARNING - /blue/adamginsburg/adamginsburg/miniconda3/envs/python39savannah/lib/python3.9/site-packages/photutils/background/background_2d.py:274: AstropyUserWarning: Input data contains invalid values (NaNs or infs), which were automatically masked.\n",
      "  warnings.warn('Input data contains invalid values (NaNs or '\n",
      "\n",
      "2023-10-10 13:40:22,301 - stpipe.Image3Pipeline.tweakreg - INFO - In make_tweakreg_catalog, brightest = 500\n",
      "2023-10-10 13:40:22,733 - stpipe.Image3Pipeline.tweakreg - INFO - In make_tweakreg_catalog, brightest = 500.  len(sources) = 500\n",
      "2023-10-10 13:40:22,735 - stpipe.Image3Pipeline.tweakreg - INFO - In tweakreg_step, brightest = 500. len(catalog)=500\n",
      "2023-10-10 13:40:22,736 - stpipe.Image3Pipeline.tweakreg - INFO - Detected 500 sources in jw02221002001_02201_00002_nrcalong_align.fits.\n",
      "2023-10-10 13:40:22,805 - stpipe.Image3Pipeline.tweakreg - INFO - Wrote source catalog: jw02221002001_02201_00002_nrcalong_align_cat.ecsv\n",
      "2023-10-10 13:40:22,818 - stpipe.Image3Pipeline.tweakreg - INFO - In tweakreg_step, brightest = 500\n",
      "2023-10-10 13:40:22,826 - stpipe.Image3Pipeline.tweakreg - WARNING - /blue/adamginsburg/adamginsburg/miniconda3/envs/python39savannah/lib/python3.9/site-packages/photutils/background/background_2d.py:274: AstropyUserWarning: Input data contains invalid values (NaNs or infs), which were automatically masked.\n",
      "  warnings.warn('Input data contains invalid values (NaNs or '\n",
      "\n",
      "2023-10-10 13:40:23,768 - stpipe.Image3Pipeline.tweakreg - INFO - In make_tweakreg_catalog, brightest = 500\n",
      "2023-10-10 13:40:24,199 - stpipe.Image3Pipeline.tweakreg - INFO - In make_tweakreg_catalog, brightest = 500.  len(sources) = 500\n",
      "2023-10-10 13:40:24,201 - stpipe.Image3Pipeline.tweakreg - INFO - In tweakreg_step, brightest = 500. len(catalog)=500\n",
      "2023-10-10 13:40:24,202 - stpipe.Image3Pipeline.tweakreg - INFO - Detected 500 sources in jw02221002001_02201_00003_nrcalong_align.fits.\n",
      "2023-10-10 13:40:24,228 - stpipe.Image3Pipeline.tweakreg - INFO - Wrote source catalog: jw02221002001_02201_00003_nrcalong_align_cat.ecsv\n",
      "2023-10-10 13:40:24,240 - stpipe.Image3Pipeline.tweakreg - INFO - In tweakreg_step, brightest = 500\n",
      "2023-10-10 13:40:24,248 - stpipe.Image3Pipeline.tweakreg - WARNING - /blue/adamginsburg/adamginsburg/miniconda3/envs/python39savannah/lib/python3.9/site-packages/photutils/background/background_2d.py:274: AstropyUserWarning: Input data contains invalid values (NaNs or infs), which were automatically masked.\n",
      "  warnings.warn('Input data contains invalid values (NaNs or '\n",
      "\n",
      "2023-10-10 13:40:25,189 - stpipe.Image3Pipeline.tweakreg - INFO - In make_tweakreg_catalog, brightest = 500\n",
      "2023-10-10 13:40:25,619 - stpipe.Image3Pipeline.tweakreg - INFO - In make_tweakreg_catalog, brightest = 500.  len(sources) = 500\n",
      "2023-10-10 13:40:25,621 - stpipe.Image3Pipeline.tweakreg - INFO - In tweakreg_step, brightest = 500. len(catalog)=500\n",
      "2023-10-10 13:40:25,622 - stpipe.Image3Pipeline.tweakreg - INFO - Detected 500 sources in jw02221002001_02201_00004_nrcalong_align.fits.\n",
      "2023-10-10 13:40:25,662 - stpipe.Image3Pipeline.tweakreg - INFO - Wrote source catalog: jw02221002001_02201_00004_nrcalong_align_cat.ecsv\n",
      "2023-10-10 13:40:25,675 - stpipe.Image3Pipeline.tweakreg - INFO - In tweakreg_step, brightest = 500\n",
      "2023-10-10 13:40:25,683 - stpipe.Image3Pipeline.tweakreg - WARNING - /blue/adamginsburg/adamginsburg/miniconda3/envs/python39savannah/lib/python3.9/site-packages/photutils/background/background_2d.py:274: AstropyUserWarning: Input data contains invalid values (NaNs or infs), which were automatically masked.\n",
      "  warnings.warn('Input data contains invalid values (NaNs or '\n",
      "\n",
      "2023-10-10 13:40:26,640 - stpipe.Image3Pipeline.tweakreg - INFO - In make_tweakreg_catalog, brightest = 500\n",
      "2023-10-10 13:40:27,045 - stpipe.Image3Pipeline.tweakreg - INFO - In make_tweakreg_catalog, brightest = 500.  len(sources) = 500\n",
      "2023-10-10 13:40:27,047 - stpipe.Image3Pipeline.tweakreg - INFO - In tweakreg_step, brightest = 500. len(catalog)=500\n",
      "2023-10-10 13:40:27,049 - stpipe.Image3Pipeline.tweakreg - INFO - Detected 500 sources in jw02221002001_08201_00001_nrcalong_align.fits.\n",
      "2023-10-10 13:40:27,086 - stpipe.Image3Pipeline.tweakreg - INFO - Wrote source catalog: jw02221002001_08201_00001_nrcalong_align_cat.ecsv\n",
      "2023-10-10 13:40:27,099 - stpipe.Image3Pipeline.tweakreg - INFO - In tweakreg_step, brightest = 500\n",
      "2023-10-10 13:40:27,107 - stpipe.Image3Pipeline.tweakreg - WARNING - /blue/adamginsburg/adamginsburg/miniconda3/envs/python39savannah/lib/python3.9/site-packages/photutils/background/background_2d.py:274: AstropyUserWarning: Input data contains invalid values (NaNs or infs), which were automatically masked.\n",
      "  warnings.warn('Input data contains invalid values (NaNs or '\n",
      "\n",
      "2023-10-10 13:40:29,230 - stpipe.Image3Pipeline.tweakreg - INFO - In make_tweakreg_catalog, brightest = 500\n",
      "2023-10-10 13:40:29,889 - stpipe.Image3Pipeline.tweakreg - INFO - In make_tweakreg_catalog, brightest = 500.  len(sources) = 500\n",
      "2023-10-10 13:40:29,893 - stpipe.Image3Pipeline.tweakreg - INFO - In tweakreg_step, brightest = 500. len(catalog)=500\n",
      "2023-10-10 13:40:29,894 - stpipe.Image3Pipeline.tweakreg - INFO - Detected 500 sources in jw02221002001_08201_00002_nrcalong_align.fits.\n",
      "2023-10-10 13:40:29,933 - stpipe.Image3Pipeline.tweakreg - INFO - Wrote source catalog: jw02221002001_08201_00002_nrcalong_align_cat.ecsv\n",
      "2023-10-10 13:40:29,960 - stpipe.Image3Pipeline.tweakreg - INFO - In tweakreg_step, brightest = 500\n",
      "2023-10-10 13:40:29,974 - stpipe.Image3Pipeline.tweakreg - WARNING - /blue/adamginsburg/adamginsburg/miniconda3/envs/python39savannah/lib/python3.9/site-packages/photutils/background/background_2d.py:274: AstropyUserWarning: Input data contains invalid values (NaNs or infs), which were automatically masked.\n",
      "  warnings.warn('Input data contains invalid values (NaNs or '\n",
      "\n",
      "2023-10-10 13:40:30,948 - stpipe.Image3Pipeline.tweakreg - INFO - In make_tweakreg_catalog, brightest = 500\n",
      "2023-10-10 13:40:31,351 - stpipe.Image3Pipeline.tweakreg - INFO - In make_tweakreg_catalog, brightest = 500.  len(sources) = 500\n",
      "2023-10-10 13:40:31,353 - stpipe.Image3Pipeline.tweakreg - INFO - In tweakreg_step, brightest = 500. len(catalog)=500\n",
      "2023-10-10 13:40:31,355 - stpipe.Image3Pipeline.tweakreg - INFO - Detected 500 sources in jw02221002001_08201_00003_nrcalong_align.fits.\n",
      "2023-10-10 13:40:31,362 - stpipe.Image3Pipeline.tweakreg - INFO - Wrote source catalog: jw02221002001_08201_00003_nrcalong_align_cat.ecsv\n",
      "2023-10-10 13:40:31,374 - stpipe.Image3Pipeline.tweakreg - INFO - In tweakreg_step, brightest = 500\n",
      "2023-10-10 13:40:31,383 - stpipe.Image3Pipeline.tweakreg - WARNING - /blue/adamginsburg/adamginsburg/miniconda3/envs/python39savannah/lib/python3.9/site-packages/photutils/background/background_2d.py:274: AstropyUserWarning: Input data contains invalid values (NaNs or infs), which were automatically masked.\n",
      "  warnings.warn('Input data contains invalid values (NaNs or '\n",
      "\n",
      "2023-10-10 13:40:32,344 - stpipe.Image3Pipeline.tweakreg - INFO - In make_tweakreg_catalog, brightest = 500\n",
      "2023-10-10 13:40:32,749 - stpipe.Image3Pipeline.tweakreg - INFO - In make_tweakreg_catalog, brightest = 500.  len(sources) = 500\n",
      "2023-10-10 13:40:32,751 - stpipe.Image3Pipeline.tweakreg - INFO - In tweakreg_step, brightest = 500. len(catalog)=500\n",
      "2023-10-10 13:40:32,753 - stpipe.Image3Pipeline.tweakreg - INFO - Detected 500 sources in jw02221002001_08201_00004_nrcalong_align.fits.\n",
      "2023-10-10 13:40:32,777 - stpipe.Image3Pipeline.tweakreg - INFO - Wrote source catalog: jw02221002001_08201_00004_nrcalong_align_cat.ecsv\n",
      "2023-10-10 13:40:32,789 - stpipe.Image3Pipeline.tweakreg - INFO - In tweakreg_step, brightest = 500\n",
      "2023-10-10 13:40:32,798 - stpipe.Image3Pipeline.tweakreg - WARNING - /blue/adamginsburg/adamginsburg/miniconda3/envs/python39savannah/lib/python3.9/site-packages/photutils/background/background_2d.py:274: AstropyUserWarning: Input data contains invalid values (NaNs or infs), which were automatically masked.\n",
      "  warnings.warn('Input data contains invalid values (NaNs or '\n",
      "\n",
      "2023-10-10 13:40:33,750 - stpipe.Image3Pipeline.tweakreg - INFO - In make_tweakreg_catalog, brightest = 500\n",
      "2023-10-10 13:40:34,762 - stpipe.Image3Pipeline.tweakreg - INFO - In make_tweakreg_catalog, brightest = 500.  len(sources) = 500\n",
      "2023-10-10 13:40:34,793 - stpipe.Image3Pipeline.tweakreg - INFO - In tweakreg_step, brightest = 500. len(catalog)=500\n",
      "2023-10-10 13:40:34,805 - stpipe.Image3Pipeline.tweakreg - INFO - Detected 500 sources in jw02221002002_02201_00001_nrcalong_align.fits.\n",
      "2023-10-10 13:40:34,881 - stpipe.Image3Pipeline.tweakreg - INFO - Wrote source catalog: jw02221002002_02201_00001_nrcalong_align_cat.ecsv\n",
      "2023-10-10 13:40:35,206 - stpipe.Image3Pipeline.tweakreg - INFO - In tweakreg_step, brightest = 500\n",
      "2023-10-10 13:40:35,890 - stpipe.Image3Pipeline.tweakreg - WARNING - /blue/adamginsburg/adamginsburg/miniconda3/envs/python39savannah/lib/python3.9/site-packages/photutils/background/background_2d.py:274: AstropyUserWarning: Input data contains invalid values (NaNs or infs), which were automatically masked.\n",
      "  warnings.warn('Input data contains invalid values (NaNs or '\n",
      "\n",
      "2023-10-10 13:40:37,208 - stpipe.Image3Pipeline.tweakreg - INFO - In make_tweakreg_catalog, brightest = 500\n",
      "2023-10-10 13:40:37,731 - stpipe.Image3Pipeline.tweakreg - INFO - In make_tweakreg_catalog, brightest = 500.  len(sources) = 500\n",
      "2023-10-10 13:40:37,752 - stpipe.Image3Pipeline.tweakreg - INFO - In tweakreg_step, brightest = 500. len(catalog)=500\n",
      "2023-10-10 13:40:37,762 - stpipe.Image3Pipeline.tweakreg - INFO - Detected 500 sources in jw02221002002_02201_00002_nrcalong_align.fits.\n",
      "2023-10-10 13:40:37,813 - stpipe.Image3Pipeline.tweakreg - INFO - Wrote source catalog: jw02221002002_02201_00002_nrcalong_align_cat.ecsv\n",
      "2023-10-10 13:40:37,835 - stpipe.Image3Pipeline.tweakreg - INFO - In tweakreg_step, brightest = 500\n",
      "2023-10-10 13:40:37,850 - stpipe.Image3Pipeline.tweakreg - WARNING - /blue/adamginsburg/adamginsburg/miniconda3/envs/python39savannah/lib/python3.9/site-packages/photutils/background/background_2d.py:274: AstropyUserWarning: Input data contains invalid values (NaNs or infs), which were automatically masked.\n",
      "  warnings.warn('Input data contains invalid values (NaNs or '\n",
      "\n",
      "2023-10-10 13:40:38,880 - stpipe.Image3Pipeline.tweakreg - INFO - In make_tweakreg_catalog, brightest = 500\n",
      "2023-10-10 13:40:39,354 - stpipe.Image3Pipeline.tweakreg - INFO - In make_tweakreg_catalog, brightest = 500.  len(sources) = 500\n",
      "2023-10-10 13:40:39,356 - stpipe.Image3Pipeline.tweakreg - INFO - In tweakreg_step, brightest = 500. len(catalog)=500\n",
      "2023-10-10 13:40:39,357 - stpipe.Image3Pipeline.tweakreg - INFO - Detected 500 sources in jw02221002002_02201_00003_nrcalong_align.fits.\n",
      "2023-10-10 13:40:39,402 - stpipe.Image3Pipeline.tweakreg - INFO - Wrote source catalog: jw02221002002_02201_00003_nrcalong_align_cat.ecsv\n",
      "2023-10-10 13:40:39,417 - stpipe.Image3Pipeline.tweakreg - INFO - In tweakreg_step, brightest = 500\n",
      "2023-10-10 13:40:39,427 - stpipe.Image3Pipeline.tweakreg - WARNING - /blue/adamginsburg/adamginsburg/miniconda3/envs/python39savannah/lib/python3.9/site-packages/photutils/background/background_2d.py:274: AstropyUserWarning: Input data contains invalid values (NaNs or infs), which were automatically masked.\n",
      "  warnings.warn('Input data contains invalid values (NaNs or '\n",
      "\n",
      "2023-10-10 13:40:40,378 - stpipe.Image3Pipeline.tweakreg - INFO - In make_tweakreg_catalog, brightest = 500\n",
      "2023-10-10 13:40:40,784 - stpipe.Image3Pipeline.tweakreg - INFO - In make_tweakreg_catalog, brightest = 500.  len(sources) = 500\n",
      "2023-10-10 13:40:40,787 - stpipe.Image3Pipeline.tweakreg - INFO - In tweakreg_step, brightest = 500. len(catalog)=500\n",
      "2023-10-10 13:40:40,788 - stpipe.Image3Pipeline.tweakreg - INFO - Detected 500 sources in jw02221002002_02201_00004_nrcalong_align.fits.\n",
      "2023-10-10 13:40:40,830 - stpipe.Image3Pipeline.tweakreg - INFO - Wrote source catalog: jw02221002002_02201_00004_nrcalong_align_cat.ecsv\n",
      "2023-10-10 13:40:40,842 - stpipe.Image3Pipeline.tweakreg - INFO - In tweakreg_step, brightest = 500\n",
      "2023-10-10 13:40:40,852 - stpipe.Image3Pipeline.tweakreg - WARNING - /blue/adamginsburg/adamginsburg/miniconda3/envs/python39savannah/lib/python3.9/site-packages/photutils/background/background_2d.py:274: AstropyUserWarning: Input data contains invalid values (NaNs or infs), which were automatically masked.\n",
      "  warnings.warn('Input data contains invalid values (NaNs or '\n",
      "\n",
      "2023-10-10 13:40:41,797 - stpipe.Image3Pipeline.tweakreg - INFO - In make_tweakreg_catalog, brightest = 500\n",
      "2023-10-10 13:40:42,280 - stpipe.Image3Pipeline.tweakreg - INFO - In make_tweakreg_catalog, brightest = 500.  len(sources) = 500\n",
      "2023-10-10 13:40:42,282 - stpipe.Image3Pipeline.tweakreg - INFO - In tweakreg_step, brightest = 500. len(catalog)=500\n",
      "2023-10-10 13:40:42,282 - stpipe.Image3Pipeline.tweakreg - INFO - Detected 500 sources in jw02221002002_08201_00001_nrcalong_align.fits.\n",
      "2023-10-10 13:40:42,291 - stpipe.Image3Pipeline.tweakreg - INFO - Wrote source catalog: jw02221002002_08201_00001_nrcalong_align_cat.ecsv\n",
      "2023-10-10 13:40:42,302 - stpipe.Image3Pipeline.tweakreg - INFO - In tweakreg_step, brightest = 500\n",
      "2023-10-10 13:40:42,311 - stpipe.Image3Pipeline.tweakreg - WARNING - /blue/adamginsburg/adamginsburg/miniconda3/envs/python39savannah/lib/python3.9/site-packages/photutils/background/background_2d.py:274: AstropyUserWarning: Input data contains invalid values (NaNs or infs), which were automatically masked.\n",
      "  warnings.warn('Input data contains invalid values (NaNs or '\n",
      "\n",
      "2023-10-10 13:40:43,270 - stpipe.Image3Pipeline.tweakreg - INFO - In make_tweakreg_catalog, brightest = 500\n",
      "2023-10-10 13:40:43,730 - stpipe.Image3Pipeline.tweakreg - INFO - In make_tweakreg_catalog, brightest = 500.  len(sources) = 500\n",
      "2023-10-10 13:40:43,733 - stpipe.Image3Pipeline.tweakreg - INFO - In tweakreg_step, brightest = 500. len(catalog)=500\n",
      "2023-10-10 13:40:43,734 - stpipe.Image3Pipeline.tweakreg - INFO - Detected 500 sources in jw02221002002_08201_00002_nrcalong_align.fits.\n",
      "2023-10-10 13:40:43,748 - stpipe.Image3Pipeline.tweakreg - INFO - Wrote source catalog: jw02221002002_08201_00002_nrcalong_align_cat.ecsv\n",
      "2023-10-10 13:40:43,761 - stpipe.Image3Pipeline.tweakreg - INFO - In tweakreg_step, brightest = 500\n",
      "2023-10-10 13:40:43,770 - stpipe.Image3Pipeline.tweakreg - WARNING - /blue/adamginsburg/adamginsburg/miniconda3/envs/python39savannah/lib/python3.9/site-packages/photutils/background/background_2d.py:274: AstropyUserWarning: Input data contains invalid values (NaNs or infs), which were automatically masked.\n",
      "  warnings.warn('Input data contains invalid values (NaNs or '\n",
      "\n",
      "2023-10-10 13:40:44,701 - stpipe.Image3Pipeline.tweakreg - INFO - In make_tweakreg_catalog, brightest = 500\n",
      "2023-10-10 13:40:45,155 - stpipe.Image3Pipeline.tweakreg - INFO - In make_tweakreg_catalog, brightest = 500.  len(sources) = 500\n",
      "2023-10-10 13:40:45,157 - stpipe.Image3Pipeline.tweakreg - INFO - In tweakreg_step, brightest = 500. len(catalog)=500\n",
      "2023-10-10 13:40:45,158 - stpipe.Image3Pipeline.tweakreg - INFO - Detected 500 sources in jw02221002002_08201_00003_nrcalong_align.fits.\n",
      "2023-10-10 13:40:45,182 - stpipe.Image3Pipeline.tweakreg - INFO - Wrote source catalog: jw02221002002_08201_00003_nrcalong_align_cat.ecsv\n",
      "2023-10-10 13:40:45,195 - stpipe.Image3Pipeline.tweakreg - INFO - In tweakreg_step, brightest = 500\n",
      "2023-10-10 13:40:45,204 - stpipe.Image3Pipeline.tweakreg - WARNING - /blue/adamginsburg/adamginsburg/miniconda3/envs/python39savannah/lib/python3.9/site-packages/photutils/background/background_2d.py:274: AstropyUserWarning: Input data contains invalid values (NaNs or infs), which were automatically masked.\n",
      "  warnings.warn('Input data contains invalid values (NaNs or '\n",
      "\n",
      "2023-10-10 13:40:46,138 - stpipe.Image3Pipeline.tweakreg - INFO - In make_tweakreg_catalog, brightest = 500\n",
      "2023-10-10 13:40:46,589 - stpipe.Image3Pipeline.tweakreg - INFO - In make_tweakreg_catalog, brightest = 500.  len(sources) = 500\n",
      "2023-10-10 13:40:46,591 - stpipe.Image3Pipeline.tweakreg - INFO - In tweakreg_step, brightest = 500. len(catalog)=500\n",
      "2023-10-10 13:40:46,593 - stpipe.Image3Pipeline.tweakreg - INFO - Detected 500 sources in jw02221002002_08201_00004_nrcalong_align.fits.\n",
      "2023-10-10 13:40:46,636 - stpipe.Image3Pipeline.tweakreg - INFO - Wrote source catalog: jw02221002002_08201_00004_nrcalong_align_cat.ecsv\n",
      "2023-10-10 13:40:46,661 - stpipe.Image3Pipeline.tweakreg - INFO - \n",
      "2023-10-10 13:40:46,662 - stpipe.Image3Pipeline.tweakreg - INFO - Number of image groups to be aligned: 16.\n",
      "2023-10-10 13:40:46,663 - stpipe.Image3Pipeline.tweakreg - INFO - Image groups:\n",
      "2023-10-10 13:40:48,120 - stpipe.Image3Pipeline.tweakreg - INFO - * Images in GROUP 'jw02221002001_02201_00001_nrcalong_align':\n",
      "2023-10-10 13:40:48,121 - stpipe.Image3Pipeline.tweakreg - INFO -      jw02221002001_02201_00001_nrcalong_align\n",
      "2023-10-10 13:40:48,122 - stpipe.Image3Pipeline.tweakreg - INFO - Grouped imcats has length 1\n",
      "2023-10-10 13:40:48,140 - stpipe.Image3Pipeline.tweakreg - INFO - * Images in GROUP 'jw02221002001_02201_00002_nrcalong_align':\n",
      "2023-10-10 13:40:48,141 - stpipe.Image3Pipeline.tweakreg - INFO -      jw02221002001_02201_00002_nrcalong_align\n",
      "2023-10-10 13:40:48,142 - stpipe.Image3Pipeline.tweakreg - INFO - Grouped imcats has length 2\n",
      "2023-10-10 13:40:48,161 - stpipe.Image3Pipeline.tweakreg - INFO - * Images in GROUP 'jw02221002001_02201_00003_nrcalong_align':\n",
      "2023-10-10 13:40:48,161 - stpipe.Image3Pipeline.tweakreg - INFO -      jw02221002001_02201_00003_nrcalong_align\n",
      "2023-10-10 13:40:48,162 - stpipe.Image3Pipeline.tweakreg - INFO - Grouped imcats has length 3\n",
      "2023-10-10 13:40:48,180 - stpipe.Image3Pipeline.tweakreg - INFO - * Images in GROUP 'jw02221002001_02201_00004_nrcalong_align':\n",
      "2023-10-10 13:40:48,181 - stpipe.Image3Pipeline.tweakreg - INFO -      jw02221002001_02201_00004_nrcalong_align\n",
      "2023-10-10 13:40:48,182 - stpipe.Image3Pipeline.tweakreg - INFO - Grouped imcats has length 4\n",
      "2023-10-10 13:40:48,200 - stpipe.Image3Pipeline.tweakreg - INFO - * Images in GROUP 'jw02221002001_08201_00001_nrcalong_align':\n",
      "2023-10-10 13:40:48,201 - stpipe.Image3Pipeline.tweakreg - INFO -      jw02221002001_08201_00001_nrcalong_align\n",
      "2023-10-10 13:40:48,202 - stpipe.Image3Pipeline.tweakreg - INFO - Grouped imcats has length 5\n",
      "2023-10-10 13:40:48,219 - stpipe.Image3Pipeline.tweakreg - INFO - * Images in GROUP 'jw02221002001_08201_00002_nrcalong_align':\n",
      "2023-10-10 13:40:48,220 - stpipe.Image3Pipeline.tweakreg - INFO -      jw02221002001_08201_00002_nrcalong_align\n",
      "2023-10-10 13:40:48,221 - stpipe.Image3Pipeline.tweakreg - INFO - Grouped imcats has length 6\n",
      "2023-10-10 13:40:48,239 - stpipe.Image3Pipeline.tweakreg - INFO - * Images in GROUP 'jw02221002001_08201_00003_nrcalong_align':\n",
      "2023-10-10 13:40:48,240 - stpipe.Image3Pipeline.tweakreg - INFO -      jw02221002001_08201_00003_nrcalong_align\n",
      "2023-10-10 13:40:48,241 - stpipe.Image3Pipeline.tweakreg - INFO - Grouped imcats has length 7\n",
      "2023-10-10 13:40:48,259 - stpipe.Image3Pipeline.tweakreg - INFO - * Images in GROUP 'jw02221002001_08201_00004_nrcalong_align':\n",
      "2023-10-10 13:40:48,260 - stpipe.Image3Pipeline.tweakreg - INFO -      jw02221002001_08201_00004_nrcalong_align\n",
      "2023-10-10 13:40:48,261 - stpipe.Image3Pipeline.tweakreg - INFO - Grouped imcats has length 8\n",
      "2023-10-10 13:40:48,278 - stpipe.Image3Pipeline.tweakreg - INFO - * Images in GROUP 'jw02221002002_02201_00001_nrcalong_align':\n",
      "2023-10-10 13:40:48,279 - stpipe.Image3Pipeline.tweakreg - INFO -      jw02221002002_02201_00001_nrcalong_align\n",
      "2023-10-10 13:40:48,280 - stpipe.Image3Pipeline.tweakreg - INFO - Grouped imcats has length 9\n",
      "2023-10-10 13:40:48,298 - stpipe.Image3Pipeline.tweakreg - INFO - * Images in GROUP 'jw02221002002_02201_00002_nrcalong_align':\n",
      "2023-10-10 13:40:48,299 - stpipe.Image3Pipeline.tweakreg - INFO -      jw02221002002_02201_00002_nrcalong_align\n",
      "2023-10-10 13:40:48,300 - stpipe.Image3Pipeline.tweakreg - INFO - Grouped imcats has length 10\n",
      "2023-10-10 13:40:48,317 - stpipe.Image3Pipeline.tweakreg - INFO - * Images in GROUP 'jw02221002002_02201_00003_nrcalong_align':\n",
      "2023-10-10 13:40:48,318 - stpipe.Image3Pipeline.tweakreg - INFO -      jw02221002002_02201_00003_nrcalong_align\n",
      "2023-10-10 13:40:48,319 - stpipe.Image3Pipeline.tweakreg - INFO - Grouped imcats has length 11\n",
      "2023-10-10 13:40:48,337 - stpipe.Image3Pipeline.tweakreg - INFO - * Images in GROUP 'jw02221002002_02201_00004_nrcalong_align':\n",
      "2023-10-10 13:40:48,338 - stpipe.Image3Pipeline.tweakreg - INFO -      jw02221002002_02201_00004_nrcalong_align\n",
      "2023-10-10 13:40:48,339 - stpipe.Image3Pipeline.tweakreg - INFO - Grouped imcats has length 12\n",
      "2023-10-10 13:40:48,357 - stpipe.Image3Pipeline.tweakreg - INFO - * Images in GROUP 'jw02221002002_08201_00001_nrcalong_align':\n",
      "2023-10-10 13:40:48,358 - stpipe.Image3Pipeline.tweakreg - INFO -      jw02221002002_08201_00001_nrcalong_align\n",
      "2023-10-10 13:40:48,359 - stpipe.Image3Pipeline.tweakreg - INFO - Grouped imcats has length 13\n",
      "2023-10-10 13:40:48,376 - stpipe.Image3Pipeline.tweakreg - INFO - * Images in GROUP 'jw02221002002_08201_00002_nrcalong_align':\n",
      "2023-10-10 13:40:48,377 - stpipe.Image3Pipeline.tweakreg - INFO -      jw02221002002_08201_00002_nrcalong_align\n",
      "2023-10-10 13:40:48,378 - stpipe.Image3Pipeline.tweakreg - INFO - Grouped imcats has length 14\n",
      "2023-10-10 13:40:48,396 - stpipe.Image3Pipeline.tweakreg - INFO - * Images in GROUP 'jw02221002002_08201_00003_nrcalong_align':\n",
      "2023-10-10 13:40:48,397 - stpipe.Image3Pipeline.tweakreg - INFO -      jw02221002002_08201_00003_nrcalong_align\n",
      "2023-10-10 13:40:48,398 - stpipe.Image3Pipeline.tweakreg - INFO - Grouped imcats has length 15\n",
      "2023-10-10 13:40:48,416 - stpipe.Image3Pipeline.tweakreg - INFO - * Images in GROUP 'jw02221002002_08201_00004_nrcalong_align':\n",
      "2023-10-10 13:40:48,417 - stpipe.Image3Pipeline.tweakreg - INFO -      jw02221002002_08201_00004_nrcalong_align\n",
      "2023-10-10 13:40:48,418 - stpipe.Image3Pipeline.tweakreg - INFO - Grouped imcats has length 16\n",
      "2023-10-10 13:40:48,419 - stpipe.Image3Pipeline.tweakreg - INFO - \n",
      "2023-10-10 13:40:48,420 - stpipe.Image3Pipeline.tweakreg - INFO - doing xyxymatch for image groups\n",
      "2023-10-10 13:40:48,420 - stpipe.Image3Pipeline.tweakreg - INFO - doing align_wcs for image groups\n",
      "2023-10-10 13:40:48,421 - stpipe.Image3Pipeline.tweakreg - INFO - In tweakreg_step, at align_wcs with groups, brightest = 500. len(catalog)=500\n",
      "2023-10-10 13:40:48,422 - stpipe.Image3Pipeline.tweakreg - INFO -  \n",
      "2023-10-10 13:40:48,423 - stpipe.Image3Pipeline.tweakreg - INFO - ***** tweakwcs.imalign.align_wcs() started on 2023-10-10 13:40:48.422734\n",
      "2023-10-10 13:40:48,424 - stpipe.Image3Pipeline.tweakreg - INFO -       Version 0.8.3\n",
      "2023-10-10 13:40:48,425 - stpipe.Image3Pipeline.tweakreg - INFO -  \n",
      "2023-10-10 13:41:08,608 - stpipe.Image3Pipeline.tweakreg - INFO - Selected image 'GROUP ID: jw02221002002_02201_00001_nrcalong_align' as reference image\n",
      "2023-10-10 13:41:08,668 - stpipe.Image3Pipeline.tweakreg - INFO - Aligning image catalog 'GROUP ID: jw02221002002_02201_00002_nrcalong_align' to the reference catalog.\n",
      "2023-10-10 13:41:08,890 - stpipe.Image3Pipeline.tweakreg - INFO - Matching sources from 'jw02221002002_02201_00002_nrcalong_align' catalog with sources from the reference 'jw02221002002_02201_00001_nrcalong_align' catalog.\n",
      "2023-10-10 13:41:08,891 - stpipe.Image3Pipeline.tweakreg - INFO - Computing initial guess for X and Y shifts...\n",
      "2023-10-10 13:41:08,897 - stpipe.Image3Pipeline.tweakreg - INFO - Found initial X and Y shifts of 0.03331, 0.03331 (arcsec) with significance of 272.2 and 277 matches.\n",
      "2023-10-10 13:41:08,921 - stpipe.Image3Pipeline.tweakreg - INFO - Found 296 matches for 'GROUP ID: jw02221002002_02201_00002_nrcalong_align'...\n",
      "2023-10-10 13:41:08,922 - stpipe.Image3Pipeline.tweakreg - INFO - Performing 'general' fit\n",
      "2023-10-10 13:41:08,927 - stpipe.Image3Pipeline.tweakreg - INFO - Computed 'general' fit for GROUP ID: jw02221002002_02201_00002_nrcalong_align:\n",
      "2023-10-10 13:41:08,928 - stpipe.Image3Pipeline.tweakreg - INFO - XSH: 0.00338597  YSH: -0.00126057    PROPER ROT: 0.00400283    \n",
      "2023-10-10 13:41:08,928 - stpipe.Image3Pipeline.tweakreg - INFO - <ROT>: 0.00400283  SKEW: -0.000449611    ROT_X: 0.00422764  ROT_Y: 0.00377803\n",
      "2023-10-10 13:41:08,929 - stpipe.Image3Pipeline.tweakreg - INFO - <SCALE>: 1.00004  SCALE_X: 1.00008  SCALE_Y: 0.999996\n",
      "2023-10-10 13:41:08,930 - stpipe.Image3Pipeline.tweakreg - INFO - \n",
      "2023-10-10 13:41:08,931 - stpipe.Image3Pipeline.tweakreg - INFO - FIT RMSE: 0.0713575   FIT MAE: 0.0170632\n",
      "2023-10-10 13:41:08,932 - stpipe.Image3Pipeline.tweakreg - INFO - Final solution based on 278 objects.\n",
      "2023-10-10 13:41:09,080 - stpipe.Image3Pipeline.tweakreg - INFO - Added 213 unmatched sources from 'GROUP ID: jw02221002002_02201_00002_nrcalong_align' to the reference catalog.\n",
      "2023-10-10 13:41:11,746 - stpipe.Image3Pipeline.tweakreg - INFO - Aligning image catalog 'GROUP ID: jw02221002002_02201_00003_nrcalong_align' to the reference catalog.\n",
      "2023-10-10 13:41:11,863 - stpipe.Image3Pipeline.tweakreg - INFO - Matching sources from 'jw02221002002_02201_00003_nrcalong_align' catalog with sources from the reference 'jw02221002002_02201_00002_nrcalong_align' catalog.\n",
      "2023-10-10 13:41:11,864 - stpipe.Image3Pipeline.tweakreg - INFO - Computing initial guess for X and Y shifts...\n",
      "2023-10-10 13:41:11,894 - stpipe.Image3Pipeline.tweakreg - INFO - Found initial X and Y shifts of 0.03331, 0.03331 (arcsec) with significance of 387.3 and 397 matches.\n",
      "2023-10-10 13:41:11,895 - stpipe.Image3Pipeline.tweakreg - INFO - Found 416 matches for 'GROUP ID: jw02221002002_02201_00003_nrcalong_align'...\n",
      "2023-10-10 13:41:11,896 - stpipe.Image3Pipeline.tweakreg - INFO - Performing 'general' fit\n",
      "2023-10-10 13:41:11,900 - stpipe.Image3Pipeline.tweakreg - INFO - Computed 'general' fit for GROUP ID: jw02221002002_02201_00003_nrcalong_align:\n",
      "2023-10-10 13:41:11,901 - stpipe.Image3Pipeline.tweakreg - INFO - XSH: 0.00173804  YSH: -0.00341749    PROPER ROT: -0.000101267    \n",
      "2023-10-10 13:41:11,902 - stpipe.Image3Pipeline.tweakreg - INFO - <ROT>: -0.000101267  SKEW: -0.00106072    ROT_X: 0.000429093  ROT_Y: -0.000631628\n",
      "2023-10-10 13:41:11,903 - stpipe.Image3Pipeline.tweakreg - INFO - <SCALE>: 0.999953  SCALE_X: 0.999912  SCALE_Y: 0.999994\n",
      "2023-10-10 13:41:11,904 - stpipe.Image3Pipeline.tweakreg - INFO - \n",
      "2023-10-10 13:41:11,905 - stpipe.Image3Pipeline.tweakreg - INFO - FIT RMSE: 0.0795154   FIT MAE: 0.0192201\n",
      "2023-10-10 13:41:11,906 - stpipe.Image3Pipeline.tweakreg - INFO - Final solution based on 399 objects.\n",
      "2023-10-10 13:41:11,945 - stpipe.Image3Pipeline.tweakreg - INFO - Added 101 unmatched sources from 'GROUP ID: jw02221002002_02201_00003_nrcalong_align' to the reference catalog.\n",
      "2023-10-10 13:41:14,547 - stpipe.Image3Pipeline.tweakreg - INFO - Aligning image catalog 'GROUP ID: jw02221002002_02201_00004_nrcalong_align' to the reference catalog.\n",
      "2023-10-10 13:41:14,664 - stpipe.Image3Pipeline.tweakreg - INFO - Matching sources from 'jw02221002002_02201_00004_nrcalong_align' catalog with sources from the reference 'jw02221002002_02201_00003_nrcalong_align' catalog.\n",
      "2023-10-10 13:41:14,666 - stpipe.Image3Pipeline.tweakreg - INFO - Computing initial guess for X and Y shifts...\n",
      "2023-10-10 13:41:14,669 - stpipe.Image3Pipeline.tweakreg - INFO - Found initial X and Y shifts of 0.03331, 0.03331 (arcsec) with significance of 423 and 437 matches.\n",
      "2023-10-10 13:41:14,671 - stpipe.Image3Pipeline.tweakreg - INFO - Found 465 matches for 'GROUP ID: jw02221002002_02201_00004_nrcalong_align'...\n",
      "2023-10-10 13:41:14,672 - stpipe.Image3Pipeline.tweakreg - INFO - Performing 'general' fit\n",
      "2023-10-10 13:41:14,676 - stpipe.Image3Pipeline.tweakreg - INFO - Computed 'general' fit for GROUP ID: jw02221002002_02201_00004_nrcalong_align:\n",
      "2023-10-10 13:41:14,677 - stpipe.Image3Pipeline.tweakreg - INFO - XSH: -0.00361385  YSH: -0.00360673    PROPER ROT: 0.00376772    \n",
      "2023-10-10 13:41:14,678 - stpipe.Image3Pipeline.tweakreg - INFO - <ROT>: 0.00376772  SKEW: 0.00419874    ROT_X: 0.00166835  ROT_Y: 0.00586709\n",
      "2023-10-10 13:41:14,679 - stpipe.Image3Pipeline.tweakreg - INFO - <SCALE>: 0.999975  SCALE_X: 1.00003  SCALE_Y: 0.999923\n",
      "2023-10-10 13:41:14,680 - stpipe.Image3Pipeline.tweakreg - INFO - \n",
      "2023-10-10 13:41:14,680 - stpipe.Image3Pipeline.tweakreg - INFO - FIT RMSE: 0.107773   FIT MAE: 0.029269\n",
      "2023-10-10 13:41:14,681 - stpipe.Image3Pipeline.tweakreg - INFO - Final solution based on 439 objects.\n",
      "2023-10-10 13:41:14,722 - stpipe.Image3Pipeline.tweakreg - INFO - Added 62 unmatched sources from 'GROUP ID: jw02221002002_02201_00004_nrcalong_align' to the reference catalog.\n",
      "2023-10-10 13:41:17,084 - stpipe.Image3Pipeline.tweakreg - INFO - Aligning image catalog 'GROUP ID: jw02221002001_08201_00004_nrcalong_align' to the reference catalog.\n",
      "2023-10-10 13:41:17,194 - stpipe.Image3Pipeline.tweakreg - INFO - Matching sources from 'jw02221002001_08201_00004_nrcalong_align' catalog with sources from the reference 'jw02221002002_02201_00004_nrcalong_align' catalog.\n",
      "2023-10-10 13:41:17,196 - stpipe.Image3Pipeline.tweakreg - INFO - Computing initial guess for X and Y shifts...\n",
      "2023-10-10 13:41:17,200 - stpipe.Image3Pipeline.tweakreg - INFO - Found initial X and Y shifts of 0.9142, -4.119 (arcsec) with significance of 202 and 207 matches.\n",
      "2023-10-10 13:41:17,202 - stpipe.Image3Pipeline.tweakreg - INFO - Found 219 matches for 'GROUP ID: jw02221002001_08201_00004_nrcalong_align'...\n",
      "2023-10-10 13:41:17,203 - stpipe.Image3Pipeline.tweakreg - INFO - Performing 'general' fit\n",
      "2023-10-10 13:41:17,206 - stpipe.Image3Pipeline.tweakreg - INFO - Computed 'general' fit for GROUP ID: jw02221002001_08201_00004_nrcalong_align:\n",
      "2023-10-10 13:41:17,207 - stpipe.Image3Pipeline.tweakreg - INFO - XSH: -0.875502  YSH: 4.13947    PROPER ROT: 0.00227241    \n",
      "2023-10-10 13:41:17,208 - stpipe.Image3Pipeline.tweakreg - INFO - <ROT>: 0.00227241  SKEW: 0.0123466    ROT_X: -0.00390088  ROT_Y: 0.0084457\n",
      "2023-10-10 13:41:17,209 - stpipe.Image3Pipeline.tweakreg - INFO - <SCALE>: 1.00006  SCALE_X: 1.00006  SCALE_Y: 1.00007\n",
      "2023-10-10 13:41:17,210 - stpipe.Image3Pipeline.tweakreg - INFO - \n",
      "2023-10-10 13:41:17,211 - stpipe.Image3Pipeline.tweakreg - INFO - FIT RMSE: 0.0921327   FIT MAE: 0.0255133\n",
      "2023-10-10 13:41:17,212 - stpipe.Image3Pipeline.tweakreg - INFO - Final solution based on 210 objects.\n",
      "2023-10-10 13:41:17,252 - stpipe.Image3Pipeline.tweakreg - INFO - Added 293 unmatched sources from 'GROUP ID: jw02221002001_08201_00004_nrcalong_align' to the reference catalog.\n",
      "2023-10-10 13:41:20,746 - stpipe.Image3Pipeline.tweakreg - INFO - Aligning image catalog 'GROUP ID: jw02221002001_08201_00003_nrcalong_align' to the reference catalog.\n",
      "2023-10-10 13:41:20,860 - stpipe.Image3Pipeline.tweakreg - INFO - Matching sources from 'jw02221002001_08201_00003_nrcalong_align' catalog with sources from the reference 'jw02221002001_08201_00004_nrcalong_align' catalog.\n",
      "2023-10-10 13:41:20,862 - stpipe.Image3Pipeline.tweakreg - INFO - Computing initial guess for X and Y shifts...\n",
      "2023-10-10 13:41:20,866 - stpipe.Image3Pipeline.tweakreg - INFO - Found initial X and Y shifts of 0.9142, -4.119 (arcsec) with significance of 354.9 and 363 matches.\n",
      "2023-10-10 13:41:20,868 - stpipe.Image3Pipeline.tweakreg - INFO - Found 384 matches for 'GROUP ID: jw02221002001_08201_00003_nrcalong_align'...\n",
      "2023-10-10 13:41:20,869 - stpipe.Image3Pipeline.tweakreg - INFO - Performing 'general' fit\n",
      "2023-10-10 13:41:20,873 - stpipe.Image3Pipeline.tweakreg - INFO - Computed 'general' fit for GROUP ID: jw02221002001_08201_00003_nrcalong_align:\n",
      "2023-10-10 13:41:20,874 - stpipe.Image3Pipeline.tweakreg - INFO - XSH: -0.880823  YSH: 4.14501    PROPER ROT: -0.000758993    \n",
      "2023-10-10 13:41:20,875 - stpipe.Image3Pipeline.tweakreg - INFO - <ROT>: -0.000758993  SKEW: 0.00585595    ROT_X: -0.00368697  ROT_Y: 0.00216898\n",
      "2023-10-10 13:41:20,875 - stpipe.Image3Pipeline.tweakreg - INFO - <SCALE>: 1.00001  SCALE_X: 0.999932  SCALE_Y: 1.00009\n",
      "2023-10-10 13:41:20,876 - stpipe.Image3Pipeline.tweakreg - INFO - \n",
      "2023-10-10 13:41:20,877 - stpipe.Image3Pipeline.tweakreg - INFO - FIT RMSE: 0.0756188   FIT MAE: 0.0192289\n",
      "2023-10-10 13:41:20,878 - stpipe.Image3Pipeline.tweakreg - INFO - Final solution based on 365 objects.\n",
      "2023-10-10 13:41:20,920 - stpipe.Image3Pipeline.tweakreg - INFO - Added 131 unmatched sources from 'GROUP ID: jw02221002001_08201_00003_nrcalong_align' to the reference catalog.\n",
      "2023-10-10 13:41:24,272 - stpipe.Image3Pipeline.tweakreg - INFO - Aligning image catalog 'GROUP ID: jw02221002001_08201_00002_nrcalong_align' to the reference catalog.\n",
      "2023-10-10 13:41:24,385 - stpipe.Image3Pipeline.tweakreg - INFO - Matching sources from 'jw02221002001_08201_00002_nrcalong_align' catalog with sources from the reference 'jw02221002001_08201_00003_nrcalong_align' catalog.\n",
      "2023-10-10 13:41:24,386 - stpipe.Image3Pipeline.tweakreg - INFO - Computing initial guess for X and Y shifts...\n",
      "2023-10-10 13:41:24,391 - stpipe.Image3Pipeline.tweakreg - INFO - Found initial X and Y shifts of 0.9142, -4.119 (arcsec) with significance of 399.8 and 410 matches.\n",
      "2023-10-10 13:41:24,392 - stpipe.Image3Pipeline.tweakreg - INFO - Found 431 matches for 'GROUP ID: jw02221002001_08201_00002_nrcalong_align'...\n",
      "2023-10-10 13:41:24,393 - stpipe.Image3Pipeline.tweakreg - INFO - Performing 'general' fit\n",
      "2023-10-10 13:41:24,397 - stpipe.Image3Pipeline.tweakreg - INFO - Computed 'general' fit for GROUP ID: jw02221002001_08201_00002_nrcalong_align:\n",
      "2023-10-10 13:41:24,398 - stpipe.Image3Pipeline.tweakreg - INFO - XSH: -0.882124  YSH: 4.14562    PROPER ROT: 0.00467914    \n",
      "2023-10-10 13:41:24,399 - stpipe.Image3Pipeline.tweakreg - INFO - <ROT>: 0.00467914  SKEW: -0.00250611    ROT_X: 0.0059322  ROT_Y: 0.00342609\n",
      "2023-10-10 13:41:24,400 - stpipe.Image3Pipeline.tweakreg - INFO - <SCALE>: 1.00007  SCALE_X: 1.00012  SCALE_Y: 1.00002\n",
      "2023-10-10 13:41:24,401 - stpipe.Image3Pipeline.tweakreg - INFO - \n",
      "2023-10-10 13:41:24,402 - stpipe.Image3Pipeline.tweakreg - INFO - FIT RMSE: 0.0843902   FIT MAE: 0.0231979\n",
      "2023-10-10 13:41:24,403 - stpipe.Image3Pipeline.tweakreg - INFO - Final solution based on 409 objects.\n",
      "2023-10-10 13:41:24,445 - stpipe.Image3Pipeline.tweakreg - INFO - Added 91 unmatched sources from 'GROUP ID: jw02221002001_08201_00002_nrcalong_align' to the reference catalog.\n",
      "2023-10-10 13:41:27,176 - stpipe.Image3Pipeline.tweakreg - INFO - Aligning image catalog 'GROUP ID: jw02221002001_08201_00001_nrcalong_align' to the reference catalog.\n",
      "2023-10-10 13:41:27,291 - stpipe.Image3Pipeline.tweakreg - INFO - Matching sources from 'jw02221002001_08201_00001_nrcalong_align' catalog with sources from the reference 'jw02221002001_08201_00002_nrcalong_align' catalog.\n",
      "2023-10-10 13:41:27,293 - stpipe.Image3Pipeline.tweakreg - INFO - Computing initial guess for X and Y shifts...\n",
      "2023-10-10 13:41:27,297 - stpipe.Image3Pipeline.tweakreg - INFO - Found initial X and Y shifts of 0.9142, -4.119 (arcsec) with significance of 450.8 and 465 matches.\n",
      "2023-10-10 13:41:27,299 - stpipe.Image3Pipeline.tweakreg - INFO - Found 477 matches for 'GROUP ID: jw02221002001_08201_00001_nrcalong_align'...\n",
      "2023-10-10 13:41:27,300 - stpipe.Image3Pipeline.tweakreg - INFO - Performing 'general' fit\n",
      "2023-10-10 13:41:27,304 - stpipe.Image3Pipeline.tweakreg - INFO - Computed 'general' fit for GROUP ID: jw02221002001_08201_00001_nrcalong_align:\n",
      "2023-10-10 13:41:27,305 - stpipe.Image3Pipeline.tweakreg - INFO - XSH: -0.882201  YSH: 4.14166    PROPER ROT: 0.00516382    \n",
      "2023-10-10 13:41:27,306 - stpipe.Image3Pipeline.tweakreg - INFO - <ROT>: 0.00516382  SKEW: 0.00322548    ROT_X: 0.00355108  ROT_Y: 0.00677656\n",
      "2023-10-10 13:41:27,307 - stpipe.Image3Pipeline.tweakreg - INFO - <SCALE>: 1.00003  SCALE_X: 0.999989  SCALE_Y: 1.00008\n",
      "2023-10-10 13:41:27,308 - stpipe.Image3Pipeline.tweakreg - INFO - \n",
      "2023-10-10 13:41:27,308 - stpipe.Image3Pipeline.tweakreg - INFO - FIT RMSE: 0.0682686   FIT MAE: 0.0180064\n",
      "2023-10-10 13:41:27,309 - stpipe.Image3Pipeline.tweakreg - INFO - Final solution based on 458 objects.\n",
      "2023-10-10 13:41:30,424 - stpipe.Image3Pipeline.tweakreg - INFO - Added 42 unmatched sources from 'GROUP ID: jw02221002001_08201_00001_nrcalong_align' to the reference catalog.\n",
      "2023-10-10 13:41:32,864 - stpipe.Image3Pipeline.tweakreg - INFO - Aligning image catalog 'GROUP ID: jw02221002002_08201_00001_nrcalong_align' to the reference catalog.\n",
      "2023-10-10 13:41:32,978 - stpipe.Image3Pipeline.tweakreg - INFO - Matching sources from 'jw02221002002_08201_00001_nrcalong_align' catalog with sources from the reference 'jw02221002001_08201_00001_nrcalong_align' catalog.\n",
      "2023-10-10 13:41:32,980 - stpipe.Image3Pipeline.tweakreg - INFO - Computing initial guess for X and Y shifts...\n",
      "2023-10-10 13:41:32,984 - stpipe.Image3Pipeline.tweakreg - INFO - Found initial X and Y shifts of 0.03331, 0.03395 (arcsec) with significance of 191.3 and 197 matches.\n",
      "2023-10-10 13:41:32,986 - stpipe.Image3Pipeline.tweakreg - INFO - Found 211 matches for 'GROUP ID: jw02221002002_08201_00001_nrcalong_align'...\n",
      "2023-10-10 13:41:32,987 - stpipe.Image3Pipeline.tweakreg - INFO - Performing 'general' fit\n",
      "2023-10-10 13:41:32,990 - stpipe.Image3Pipeline.tweakreg - INFO - Computed 'general' fit for GROUP ID: jw02221002002_08201_00001_nrcalong_align:\n",
      "2023-10-10 13:41:32,991 - stpipe.Image3Pipeline.tweakreg - INFO - XSH: 0.0237957  YSH: -0.0236906    PROPER ROT: 0.00781024    \n",
      "2023-10-10 13:41:32,992 - stpipe.Image3Pipeline.tweakreg - INFO - <ROT>: 0.00781024  SKEW: 0.0296958    ROT_X: -0.00703766  ROT_Y: 0.0226581\n",
      "2023-10-10 13:41:32,993 - stpipe.Image3Pipeline.tweakreg - INFO - <SCALE>: 1.00019  SCALE_X: 1.00026  SCALE_Y: 1.00013\n",
      "2023-10-10 13:41:32,994 - stpipe.Image3Pipeline.tweakreg - INFO - \n",
      "2023-10-10 13:41:32,995 - stpipe.Image3Pipeline.tweakreg - INFO - FIT RMSE: 0.136804   FIT MAE: 0.0477468\n",
      "2023-10-10 13:41:32,996 - stpipe.Image3Pipeline.tweakreg - INFO - Final solution based on 199 objects.\n",
      "2023-10-10 13:41:33,039 - stpipe.Image3Pipeline.tweakreg - INFO - Added 306 unmatched sources from 'GROUP ID: jw02221002002_08201_00001_nrcalong_align' to the reference catalog.\n",
      "2023-10-10 13:41:35,018 - stpipe.Image3Pipeline.tweakreg - INFO - Aligning image catalog 'GROUP ID: jw02221002002_08201_00002_nrcalong_align' to the reference catalog.\n",
      "2023-10-10 13:41:35,211 - stpipe.Image3Pipeline.tweakreg - INFO - Matching sources from 'jw02221002002_08201_00002_nrcalong_align' catalog with sources from the reference 'jw02221002002_08201_00001_nrcalong_align' catalog.\n",
      "2023-10-10 13:41:35,212 - stpipe.Image3Pipeline.tweakreg - INFO - Computing initial guess for X and Y shifts...\n",
      "2023-10-10 13:41:35,220 - stpipe.Image3Pipeline.tweakreg - INFO - Found initial X and Y shifts of 0.01472, 0.03349 (arcsec) with significance of 234.3 and 352 matches.\n",
      "2023-10-10 13:41:35,223 - stpipe.Image3Pipeline.tweakreg - INFO - Found 388 matches for 'GROUP ID: jw02221002002_08201_00002_nrcalong_align'...\n",
      "2023-10-10 13:41:35,227 - stpipe.Image3Pipeline.tweakreg - INFO - Performing 'general' fit\n",
      "2023-10-10 13:41:35,232 - stpipe.Image3Pipeline.tweakreg - INFO - Computed 'general' fit for GROUP ID: jw02221002002_08201_00002_nrcalong_align:\n",
      "2023-10-10 13:41:35,233 - stpipe.Image3Pipeline.tweakreg - INFO - XSH: 0.0094912  YSH: -0.0195537    PROPER ROT: 0.00906604    \n",
      "2023-10-10 13:41:35,233 - stpipe.Image3Pipeline.tweakreg - INFO - <ROT>: 0.00906604  SKEW: 0.0139973    ROT_X: 0.00206739  ROT_Y: 0.0160647\n",
      "2023-10-10 13:41:35,234 - stpipe.Image3Pipeline.tweakreg - INFO - <SCALE>: 1.00027  SCALE_X: 1.00043  SCALE_Y: 1.00011\n",
      "2023-10-10 13:41:35,235 - stpipe.Image3Pipeline.tweakreg - INFO - \n",
      "2023-10-10 13:41:35,236 - stpipe.Image3Pipeline.tweakreg - INFO - FIT RMSE: 0.130326   FIT MAE: 0.0470243\n",
      "2023-10-10 13:41:35,237 - stpipe.Image3Pipeline.tweakreg - INFO - Final solution based on 368 objects.\n",
      "2023-10-10 13:41:35,287 - stpipe.Image3Pipeline.tweakreg - INFO - Added 138 unmatched sources from 'GROUP ID: jw02221002002_08201_00002_nrcalong_align' to the reference catalog.\n",
      "2023-10-10 13:41:36,850 - stpipe.Image3Pipeline.tweakreg - INFO - Aligning image catalog 'GROUP ID: jw02221002002_08201_00004_nrcalong_align' to the reference catalog.\n",
      "2023-10-10 13:41:37,037 - stpipe.Image3Pipeline.tweakreg - INFO - Matching sources from 'jw02221002002_08201_00004_nrcalong_align' catalog with sources from the reference 'jw02221002002_08201_00002_nrcalong_align' catalog.\n",
      "2023-10-10 13:41:37,040 - stpipe.Image3Pipeline.tweakreg - INFO - Computing initial guess for X and Y shifts...\n",
      "2023-10-10 13:41:37,053 - stpipe.Image3Pipeline.tweakreg - INFO - Found initial X and Y shifts of 0.01456, 0.03549 (arcsec) with significance of 273.3 and 433 matches.\n",
      "2023-10-10 13:41:37,059 - stpipe.Image3Pipeline.tweakreg - INFO - Found 465 matches for 'GROUP ID: jw02221002002_08201_00004_nrcalong_align'...\n",
      "2023-10-10 13:41:37,061 - stpipe.Image3Pipeline.tweakreg - INFO - Performing 'general' fit\n",
      "2023-10-10 13:41:37,065 - stpipe.Image3Pipeline.tweakreg - INFO - Computed 'general' fit for GROUP ID: jw02221002002_08201_00004_nrcalong_align:\n",
      "2023-10-10 13:41:37,066 - stpipe.Image3Pipeline.tweakreg - INFO - XSH: 0.0167424  YSH: -0.0192397    PROPER ROT: 0.0108397    \n",
      "2023-10-10 13:41:37,067 - stpipe.Image3Pipeline.tweakreg - INFO - <ROT>: 0.0108397  SKEW: 0.0204565    ROT_X: 0.000611453  ROT_Y: 0.0210679\n",
      "2023-10-10 13:41:37,067 - stpipe.Image3Pipeline.tweakreg - INFO - <SCALE>: 1.00019  SCALE_X: 1.00027  SCALE_Y: 1.00011\n",
      "2023-10-10 13:41:37,068 - stpipe.Image3Pipeline.tweakreg - INFO - \n",
      "2023-10-10 13:41:37,069 - stpipe.Image3Pipeline.tweakreg - INFO - FIT RMSE: 0.0713154   FIT MAE: 0.0200237\n",
      "2023-10-10 13:41:37,070 - stpipe.Image3Pipeline.tweakreg - INFO - Final solution based on 440 objects.\n",
      "2023-10-10 13:41:37,118 - stpipe.Image3Pipeline.tweakreg - INFO - Added 59 unmatched sources from 'GROUP ID: jw02221002002_08201_00004_nrcalong_align' to the reference catalog.\n",
      "2023-10-10 13:41:38,385 - stpipe.Image3Pipeline.tweakreg - INFO - Aligning image catalog 'GROUP ID: jw02221002002_08201_00003_nrcalong_align' to the reference catalog.\n",
      "2023-10-10 13:41:38,498 - stpipe.Image3Pipeline.tweakreg - INFO - Matching sources from 'jw02221002002_08201_00003_nrcalong_align' catalog with sources from the reference 'jw02221002002_08201_00004_nrcalong_align' catalog.\n",
      "2023-10-10 13:41:38,499 - stpipe.Image3Pipeline.tweakreg - INFO - Computing initial guess for X and Y shifts...\n",
      "2023-10-10 13:41:38,504 - stpipe.Image3Pipeline.tweakreg - INFO - Found initial X and Y shifts of 0.01331, 0.03331 (arcsec) with significance of 292.7 and 453 matches.\n",
      "2023-10-10 13:41:38,506 - stpipe.Image3Pipeline.tweakreg - INFO - Found 483 matches for 'GROUP ID: jw02221002002_08201_00003_nrcalong_align'...\n",
      "2023-10-10 13:41:38,507 - stpipe.Image3Pipeline.tweakreg - INFO - Performing 'general' fit\n",
      "2023-10-10 13:41:38,512 - stpipe.Image3Pipeline.tweakreg - INFO - Computed 'general' fit for GROUP ID: jw02221002002_08201_00003_nrcalong_align:\n",
      "2023-10-10 13:41:38,513 - stpipe.Image3Pipeline.tweakreg - INFO - XSH: 0.0158677  YSH: -0.0170605    PROPER ROT: 0.0159967    \n",
      "2023-10-10 13:41:38,514 - stpipe.Image3Pipeline.tweakreg - INFO - <ROT>: 0.0159967  SKEW: 0.0315869    ROT_X: 0.000203299  ROT_Y: 0.0317902\n",
      "2023-10-10 13:41:38,514 - stpipe.Image3Pipeline.tweakreg - INFO - <SCALE>: 1.00011  SCALE_X: 1.00018  SCALE_Y: 1.00004\n",
      "2023-10-10 13:41:38,515 - stpipe.Image3Pipeline.tweakreg - INFO - \n",
      "2023-10-10 13:41:38,516 - stpipe.Image3Pipeline.tweakreg - INFO - FIT RMSE: 0.0863044   FIT MAE: 0.0244427\n",
      "2023-10-10 13:41:38,517 - stpipe.Image3Pipeline.tweakreg - INFO - Final solution based on 458 objects.\n",
      "2023-10-10 13:41:38,561 - stpipe.Image3Pipeline.tweakreg - INFO - Added 44 unmatched sources from 'GROUP ID: jw02221002002_08201_00003_nrcalong_align' to the reference catalog.\n",
      "2023-10-10 13:41:39,372 - stpipe.Image3Pipeline.tweakreg - INFO - Aligning image catalog 'GROUP ID: jw02221002001_02201_00004_nrcalong_align' to the reference catalog.\n",
      "2023-10-10 13:41:39,486 - stpipe.Image3Pipeline.tweakreg - INFO - Matching sources from 'jw02221002001_02201_00004_nrcalong_align' catalog with sources from the reference 'jw02221002002_08201_00003_nrcalong_align' catalog.\n",
      "2023-10-10 13:41:39,487 - stpipe.Image3Pipeline.tweakreg - INFO - Computing initial guess for X and Y shifts...\n",
      "2023-10-10 13:41:39,492 - stpipe.Image3Pipeline.tweakreg - INFO - Found initial X and Y shifts of 0.9145, -4.119 (arcsec) with significance of 203.3 and 209 matches.\n",
      "2023-10-10 13:41:39,494 - stpipe.Image3Pipeline.tweakreg - INFO - Found 229 matches for 'GROUP ID: jw02221002001_02201_00004_nrcalong_align'...\n",
      "2023-10-10 13:41:39,495 - stpipe.Image3Pipeline.tweakreg - INFO - Performing 'general' fit\n",
      "2023-10-10 13:41:39,499 - stpipe.Image3Pipeline.tweakreg - INFO - Computed 'general' fit for GROUP ID: jw02221002001_02201_00004_nrcalong_align:\n",
      "2023-10-10 13:41:39,499 - stpipe.Image3Pipeline.tweakreg - INFO - XSH: -0.915027  YSH: 4.17058    PROPER ROT: 0.0160208    \n",
      "2023-10-10 13:41:39,500 - stpipe.Image3Pipeline.tweakreg - INFO - <ROT>: 0.0160208  SKEW: 0.0291893    ROT_X: 0.00142616  ROT_Y: 0.0306155\n",
      "2023-10-10 13:41:39,501 - stpipe.Image3Pipeline.tweakreg - INFO - <SCALE>: 0.999832  SCALE_X: 1.00004  SCALE_Y: 0.999628\n",
      "2023-10-10 13:41:39,502 - stpipe.Image3Pipeline.tweakreg - INFO - \n",
      "2023-10-10 13:41:39,503 - stpipe.Image3Pipeline.tweakreg - INFO - FIT RMSE: 0.117685   FIT MAE: 0.0357405\n",
      "2023-10-10 13:41:39,504 - stpipe.Image3Pipeline.tweakreg - INFO - Final solution based on 216 objects.\n",
      "2023-10-10 13:41:39,548 - stpipe.Image3Pipeline.tweakreg - INFO - Added 287 unmatched sources from 'GROUP ID: jw02221002001_02201_00004_nrcalong_align' to the reference catalog.\n",
      "2023-10-10 13:41:40,277 - stpipe.Image3Pipeline.tweakreg - INFO - Aligning image catalog 'GROUP ID: jw02221002001_02201_00002_nrcalong_align' to the reference catalog.\n",
      "2023-10-10 13:41:40,391 - stpipe.Image3Pipeline.tweakreg - INFO - Matching sources from 'jw02221002001_02201_00002_nrcalong_align' catalog with sources from the reference 'jw02221002001_02201_00004_nrcalong_align' catalog.\n",
      "2023-10-10 13:41:40,393 - stpipe.Image3Pipeline.tweakreg - INFO - Computing initial guess for X and Y shifts...\n",
      "2023-10-10 13:41:40,398 - stpipe.Image3Pipeline.tweakreg - INFO - Found initial X and Y shifts of 0.939, -4.132 (arcsec) with significance of 206.2 and 362 matches.\n",
      "2023-10-10 13:41:40,401 - stpipe.Image3Pipeline.tweakreg - INFO - Found 388 matches for 'GROUP ID: jw02221002001_02201_00002_nrcalong_align'...\n",
      "2023-10-10 13:41:40,402 - stpipe.Image3Pipeline.tweakreg - INFO - Performing 'general' fit\n",
      "2023-10-10 13:41:40,406 - stpipe.Image3Pipeline.tweakreg - INFO - Computed 'general' fit for GROUP ID: jw02221002001_02201_00002_nrcalong_align:\n",
      "2023-10-10 13:41:40,407 - stpipe.Image3Pipeline.tweakreg - INFO - XSH: -0.9214  YSH: 4.17122    PROPER ROT: 0.0143063    \n",
      "2023-10-10 13:41:40,407 - stpipe.Image3Pipeline.tweakreg - INFO - <ROT>: 0.0143063  SKEW: 0.0283241    ROT_X: 0.000144227  ROT_Y: 0.0284683\n",
      "2023-10-10 13:41:40,408 - stpipe.Image3Pipeline.tweakreg - INFO - <SCALE>: 0.999857  SCALE_X: 0.999936  SCALE_Y: 0.999777\n",
      "2023-10-10 13:41:40,409 - stpipe.Image3Pipeline.tweakreg - INFO - \n",
      "2023-10-10 13:41:40,410 - stpipe.Image3Pipeline.tweakreg - INFO - FIT RMSE: 0.0741656   FIT MAE: 0.0208992\n",
      "2023-10-10 13:41:40,411 - stpipe.Image3Pipeline.tweakreg - INFO - Final solution based on 367 objects.\n",
      "2023-10-10 13:41:40,457 - stpipe.Image3Pipeline.tweakreg - INFO - Added 130 unmatched sources from 'GROUP ID: jw02221002001_02201_00002_nrcalong_align' to the reference catalog.\n",
      "2023-10-10 13:41:40,908 - stpipe.Image3Pipeline.tweakreg - INFO - Aligning image catalog 'GROUP ID: jw02221002001_02201_00003_nrcalong_align' to the reference catalog.\n",
      "2023-10-10 13:41:41,023 - stpipe.Image3Pipeline.tweakreg - INFO - Matching sources from 'jw02221002001_02201_00003_nrcalong_align' catalog with sources from the reference 'jw02221002001_02201_00002_nrcalong_align' catalog.\n",
      "2023-10-10 13:41:41,025 - stpipe.Image3Pipeline.tweakreg - INFO - Computing initial guess for X and Y shifts...\n",
      "2023-10-10 13:41:41,031 - stpipe.Image3Pipeline.tweakreg - INFO - Found initial X and Y shifts of 0.9466, -4.134 (arcsec) with significance of 200.8 and 448 matches.\n",
      "2023-10-10 13:41:41,033 - stpipe.Image3Pipeline.tweakreg - INFO - Found 471 matches for 'GROUP ID: jw02221002001_02201_00003_nrcalong_align'...\n",
      "2023-10-10 13:41:41,034 - stpipe.Image3Pipeline.tweakreg - INFO - Performing 'general' fit\n",
      "2023-10-10 13:41:41,038 - stpipe.Image3Pipeline.tweakreg - INFO - Computed 'general' fit for GROUP ID: jw02221002001_02201_00003_nrcalong_align:\n",
      "2023-10-10 13:41:41,039 - stpipe.Image3Pipeline.tweakreg - INFO - XSH: -0.91866  YSH: 4.17009    PROPER ROT: 0.0156627    \n",
      "2023-10-10 13:41:41,040 - stpipe.Image3Pipeline.tweakreg - INFO - <ROT>: 0.0156627  SKEW: 0.0242689    ROT_X: 0.00352827  ROT_Y: 0.0277972\n",
      "2023-10-10 13:41:41,041 - stpipe.Image3Pipeline.tweakreg - INFO - <SCALE>: 0.999871  SCALE_X: 1.00005  SCALE_Y: 0.999695\n",
      "2023-10-10 13:41:41,042 - stpipe.Image3Pipeline.tweakreg - INFO - \n",
      "2023-10-10 13:41:41,043 - stpipe.Image3Pipeline.tweakreg - INFO - FIT RMSE: 0.0764716   FIT MAE: 0.0200063\n",
      "2023-10-10 13:41:41,044 - stpipe.Image3Pipeline.tweakreg - INFO - Final solution based on 448 objects.\n",
      "2023-10-10 13:41:41,089 - stpipe.Image3Pipeline.tweakreg - INFO - Added 55 unmatched sources from 'GROUP ID: jw02221002001_02201_00003_nrcalong_align' to the reference catalog.\n",
      "2023-10-10 13:41:41,303 - stpipe.Image3Pipeline.tweakreg - INFO - Aligning image catalog 'GROUP ID: jw02221002001_02201_00001_nrcalong_align' to the reference catalog.\n",
      "2023-10-10 13:41:41,418 - stpipe.Image3Pipeline.tweakreg - INFO - Matching sources from 'jw02221002001_02201_00001_nrcalong_align' catalog with sources from the reference 'jw02221002001_02201_00003_nrcalong_align' catalog.\n",
      "2023-10-10 13:41:41,420 - stpipe.Image3Pipeline.tweakreg - INFO - Computing initial guess for X and Y shifts...\n",
      "2023-10-10 13:41:41,425 - stpipe.Image3Pipeline.tweakreg - INFO - Found initial X and Y shifts of 0.9479, -4.139 (arcsec) with significance of 200.1 and 471 matches.\n",
      "2023-10-10 13:41:41,428 - stpipe.Image3Pipeline.tweakreg - INFO - Found 484 matches for 'GROUP ID: jw02221002001_02201_00001_nrcalong_align'...\n",
      "2023-10-10 13:41:41,429 - stpipe.Image3Pipeline.tweakreg - INFO - Performing 'general' fit\n",
      "2023-10-10 13:41:41,433 - stpipe.Image3Pipeline.tweakreg - INFO - Computed 'general' fit for GROUP ID: jw02221002001_02201_00001_nrcalong_align:\n",
      "2023-10-10 13:41:41,434 - stpipe.Image3Pipeline.tweakreg - INFO - XSH: -0.918317  YSH: 4.17566    PROPER ROT: 0.0165329    \n",
      "2023-10-10 13:41:41,435 - stpipe.Image3Pipeline.tweakreg - INFO - <ROT>: 0.0165329  SKEW: 0.0276786    ROT_X: 0.00269354  ROT_Y: 0.0303722\n",
      "2023-10-10 13:41:41,435 - stpipe.Image3Pipeline.tweakreg - INFO - <SCALE>: 0.999862  SCALE_X: 1.00002  SCALE_Y: 0.999707\n",
      "2023-10-10 13:41:41,436 - stpipe.Image3Pipeline.tweakreg - INFO - \n",
      "2023-10-10 13:41:41,437 - stpipe.Image3Pipeline.tweakreg - INFO - FIT RMSE: 0.0343384   FIT MAE: 0.0103255\n",
      "2023-10-10 13:41:41,438 - stpipe.Image3Pipeline.tweakreg - INFO - Final solution based on 460 objects.\n",
      "2023-10-10 13:41:41,484 - stpipe.Image3Pipeline.tweakreg - INFO - Added 36 unmatched sources from 'GROUP ID: jw02221002001_02201_00001_nrcalong_align' to the reference catalog.\n",
      "2023-10-10 13:41:41,485 - stpipe.Image3Pipeline.tweakreg - INFO -  \n",
      "2023-10-10 13:41:41,486 - stpipe.Image3Pipeline.tweakreg - INFO - ***** tweakwcs.imalign.align_wcs() ended on 2023-10-10 13:41:41.485319\n",
      "2023-10-10 13:41:41,487 - stpipe.Image3Pipeline.tweakreg - INFO - ***** tweakwcs.imalign.align_wcs() TOTAL RUN TIME: 0:00:53.062585\n",
      "2023-10-10 13:41:41,488 - stpipe.Image3Pipeline.tweakreg - INFO -  \n",
      "2023-10-10 13:41:41,844 - stpipe.Image3Pipeline.tweakreg - INFO - Aligning imcats [<tweakwcs.correctors.JWSTWCSCorrector object at 0x148b9d6ea160>, <tweakwcs.correctors.JWSTWCSCorrector object at 0x148b9d0c35b0>, <tweakwcs.correctors.JWSTWCSCorrector object at 0x148b991ba3d0>, <tweakwcs.correctors.JWSTWCSCorrector object at 0x148b9d047670>, <tweakwcs.correctors.JWSTWCSCorrector object at 0x148b9cb5e4c0>, <tweakwcs.correctors.JWSTWCSCorrector object at 0x148b9951f850>, <tweakwcs.correctors.JWSTWCSCorrector object at 0x148b99045340>, <tweakwcs.correctors.JWSTWCSCorrector object at 0x148b9d8b2c40>, <tweakwcs.correctors.JWSTWCSCorrector object at 0x148b980887c0>, <tweakwcs.correctors.JWSTWCSCorrector object at 0x148b9989e940>, <tweakwcs.correctors.JWSTWCSCorrector object at 0x148b9e348280>, <tweakwcs.correctors.JWSTWCSCorrector object at 0x148b9c7afee0>, <tweakwcs.correctors.JWSTWCSCorrector object at 0x148b9dacc7f0>, <tweakwcs.correctors.JWSTWCSCorrector object at 0x148b9b5e6970>, <tweakwcs.correctors.JWSTWCSCorrector object at 0x148b98d02f10>, <tweakwcs.correctors.JWSTWCSCorrector object at 0x148b97e9d070>] with length 16 to refcat with length 9945\n",
      "2023-10-10 13:41:41,845 - stpipe.Image3Pipeline.tweakreg - INFO -  \n",
      "2023-10-10 13:41:41,846 - stpipe.Image3Pipeline.tweakreg - INFO - ***** tweakwcs.imalign.align_wcs() started on 2023-10-10 13:41:41.845562\n",
      "2023-10-10 13:41:41,847 - stpipe.Image3Pipeline.tweakreg - INFO -       Version 0.8.3\n",
      "2023-10-10 13:41:41,848 - stpipe.Image3Pipeline.tweakreg - INFO -  \n",
      "2023-10-10 13:42:48,025 - stpipe.Image3Pipeline.tweakreg - INFO - Aligning image catalog 'GROUP ID: 987654' to the reference catalog.\n",
      "2023-10-10 13:42:48,450 - stpipe.Image3Pipeline.tweakreg - INFO - Matching sources from 'jw0222100200' catalog with sources from the reference 'II/348/vvv2' catalog.\n",
      "2023-10-10 13:42:48,453 - stpipe.Image3Pipeline.tweakreg - INFO - Computing initial guess for X and Y shifts...\n",
      "2023-10-10 13:42:51,479 - stpipe.Image3Pipeline.tweakreg - INFO - Found initial X and Y shifts of -0.6036, 0.8175 (arcsec) with significance of 9.455 and 78 matches.\n",
      "2023-10-10 13:42:51,485 - stpipe.Image3Pipeline.tweakreg - INFO - Found 305 matches for 'GROUP ID: 987654'...\n",
      "2023-10-10 13:42:51,486 - stpipe.Image3Pipeline.tweakreg - INFO - Performing 'rshift' fit\n",
      "2023-10-10 13:42:51,489 - stpipe.Image3Pipeline.tweakreg - INFO - Computed 'rshift' fit for GROUP ID: 987654:\n",
      "2023-10-10 13:42:51,490 - stpipe.Image3Pipeline.tweakreg - INFO - XSH: 0.617422  YSH: -0.783765    ROT: 0.000927016    SCALE: 1\n",
      "2023-10-10 13:42:51,491 - stpipe.Image3Pipeline.tweakreg - INFO - \n",
      "2023-10-10 13:42:51,492 - stpipe.Image3Pipeline.tweakreg - INFO - FIT RMSE: 0.485187   FIT MAE: 0.451632\n",
      "2023-10-10 13:42:51,492 - stpipe.Image3Pipeline.tweakreg - INFO - Final solution based on 305 objects.\n",
      "2023-10-10 13:42:52,556 - stpipe.Image3Pipeline.tweakreg - INFO -  \n",
      "2023-10-10 13:42:52,558 - stpipe.Image3Pipeline.tweakreg - INFO - ***** tweakwcs.imalign.align_wcs() ended on 2023-10-10 13:42:52.556252\n",
      "2023-10-10 13:42:52,559 - stpipe.Image3Pipeline.tweakreg - INFO - ***** tweakwcs.imalign.align_wcs() TOTAL RUN TIME: 0:01:10.710690\n",
      "2023-10-10 13:42:52,560 - stpipe.Image3Pipeline.tweakreg - INFO -  \n",
      "2023-10-10 13:42:52,621 - stpipe.Image3Pipeline.tweakreg - INFO - Updating FITS wcsinfo for image_model <ImageModel(2048, 2048) from jw02221002001_02201_00001_nrcalong_align.fits>\n",
      "2023-10-10 13:42:54,113 - stpipe.Image3Pipeline.tweakreg - INFO - Updating FITS wcsinfo for image_model <ImageModel(2048, 2048) from jw02221002001_02201_00002_nrcalong_align.fits>\n",
      "2023-10-10 13:42:54,209 - stpipe.Image3Pipeline.tweakreg - INFO - Updating FITS wcsinfo for image_model <ImageModel(2048, 2048) from jw02221002001_02201_00003_nrcalong_align.fits>\n",
      "2023-10-10 13:42:54,304 - stpipe.Image3Pipeline.tweakreg - INFO - Updating FITS wcsinfo for image_model <ImageModel(2048, 2048) from jw02221002001_02201_00004_nrcalong_align.fits>\n",
      "2023-10-10 13:42:54,404 - stpipe.Image3Pipeline.tweakreg - INFO - Updating FITS wcsinfo for image_model <ImageModel(2048, 2048) from jw02221002001_08201_00001_nrcalong_align.fits>\n",
      "2023-10-10 13:42:54,621 - stpipe.Image3Pipeline.tweakreg - INFO - Updating FITS wcsinfo for image_model <ImageModel(2048, 2048) from jw02221002001_08201_00002_nrcalong_align.fits>\n",
      "2023-10-10 13:42:54,722 - stpipe.Image3Pipeline.tweakreg - INFO - Updating FITS wcsinfo for image_model <ImageModel(2048, 2048) from jw02221002001_08201_00003_nrcalong_align.fits>\n",
      "2023-10-10 13:42:54,841 - stpipe.Image3Pipeline.tweakreg - INFO - Updating FITS wcsinfo for image_model <ImageModel(2048, 2048) from jw02221002001_08201_00004_nrcalong_align.fits>\n",
      "2023-10-10 13:42:54,991 - stpipe.Image3Pipeline.tweakreg - INFO - Updating FITS wcsinfo for image_model <ImageModel(2048, 2048) from jw02221002002_02201_00001_nrcalong_align.fits>\n",
      "2023-10-10 13:42:55,101 - stpipe.Image3Pipeline.tweakreg - INFO - Updating FITS wcsinfo for image_model <ImageModel(2048, 2048) from jw02221002002_02201_00002_nrcalong_align.fits>\n",
      "2023-10-10 13:42:55,225 - stpipe.Image3Pipeline.tweakreg - INFO - Updating FITS wcsinfo for image_model <ImageModel(2048, 2048) from jw02221002002_02201_00003_nrcalong_align.fits>\n",
      "2023-10-10 13:42:55,359 - stpipe.Image3Pipeline.tweakreg - INFO - Updating FITS wcsinfo for image_model <ImageModel(2048, 2048) from jw02221002002_02201_00004_nrcalong_align.fits>\n",
      "2023-10-10 13:42:55,479 - stpipe.Image3Pipeline.tweakreg - INFO - Updating FITS wcsinfo for image_model <ImageModel(2048, 2048) from jw02221002002_08201_00001_nrcalong_align.fits>\n",
      "2023-10-10 13:42:55,591 - stpipe.Image3Pipeline.tweakreg - INFO - Updating FITS wcsinfo for image_model <ImageModel(2048, 2048) from jw02221002002_08201_00002_nrcalong_align.fits>\n",
      "2023-10-10 13:42:55,963 - stpipe.Image3Pipeline.tweakreg - INFO - Updating FITS wcsinfo for image_model <ImageModel(2048, 2048) from jw02221002002_08201_00003_nrcalong_align.fits>\n",
      "2023-10-10 13:42:56,090 - stpipe.Image3Pipeline.tweakreg - INFO - Updating FITS wcsinfo for image_model <ImageModel(2048, 2048) from jw02221002002_08201_00004_nrcalong_align.fits>\n",
      "2023-10-10 13:42:57,368 - stpipe.Image3Pipeline.tweakreg - INFO - Saved model in /orange/adamginsburg/jwst/cloudc/F405N/pipeline/jw02221002001_02201_00001_nrcalong_align_tweakreg.fits\n",
      "2023-10-10 13:42:57,931 - stpipe.Image3Pipeline.tweakreg - INFO - Saved model in /orange/adamginsburg/jwst/cloudc/F405N/pipeline/jw02221002001_02201_00002_nrcalong_align_tweakreg.fits\n",
      "2023-10-10 13:42:58,505 - stpipe.Image3Pipeline.tweakreg - INFO - Saved model in /orange/adamginsburg/jwst/cloudc/F405N/pipeline/jw02221002001_02201_00003_nrcalong_align_tweakreg.fits\n",
      "2023-10-10 13:42:59,573 - stpipe.Image3Pipeline.tweakreg - INFO - Saved model in /orange/adamginsburg/jwst/cloudc/F405N/pipeline/jw02221002001_02201_00004_nrcalong_align_tweakreg.fits\n",
      "2023-10-10 13:42:59,902 - stpipe.Image3Pipeline.tweakreg - INFO - Saved model in /orange/adamginsburg/jwst/cloudc/F405N/pipeline/jw02221002001_08201_00001_nrcalong_align_tweakreg.fits\n",
      "2023-10-10 13:43:00,548 - stpipe.Image3Pipeline.tweakreg - INFO - Saved model in /orange/adamginsburg/jwst/cloudc/F405N/pipeline/jw02221002001_08201_00002_nrcalong_align_tweakreg.fits\n",
      "2023-10-10 13:43:00,895 - stpipe.Image3Pipeline.tweakreg - INFO - Saved model in /orange/adamginsburg/jwst/cloudc/F405N/pipeline/jw02221002001_08201_00003_nrcalong_align_tweakreg.fits\n",
      "2023-10-10 13:43:03,170 - stpipe.Image3Pipeline.tweakreg - INFO - Saved model in /orange/adamginsburg/jwst/cloudc/F405N/pipeline/jw02221002001_08201_00004_nrcalong_align_tweakreg.fits\n",
      "2023-10-10 13:43:06,430 - stpipe.Image3Pipeline.tweakreg - INFO - Saved model in /orange/adamginsburg/jwst/cloudc/F405N/pipeline/jw02221002002_02201_00001_nrcalong_align_tweakreg.fits\n",
      "2023-10-10 13:43:07,159 - stpipe.Image3Pipeline.tweakreg - INFO - Saved model in /orange/adamginsburg/jwst/cloudc/F405N/pipeline/jw02221002002_02201_00002_nrcalong_align_tweakreg.fits\n",
      "2023-10-10 13:43:07,434 - stpipe.Image3Pipeline.tweakreg - INFO - Saved model in /orange/adamginsburg/jwst/cloudc/F405N/pipeline/jw02221002002_02201_00003_nrcalong_align_tweakreg.fits\n",
      "2023-10-10 13:43:08,016 - stpipe.Image3Pipeline.tweakreg - INFO - Saved model in /orange/adamginsburg/jwst/cloudc/F405N/pipeline/jw02221002002_02201_00004_nrcalong_align_tweakreg.fits\n",
      "2023-10-10 13:43:09,411 - stpipe.Image3Pipeline.tweakreg - INFO - Saved model in /orange/adamginsburg/jwst/cloudc/F405N/pipeline/jw02221002002_08201_00001_nrcalong_align_tweakreg.fits\n",
      "2023-10-10 13:43:10,481 - stpipe.Image3Pipeline.tweakreg - INFO - Saved model in /orange/adamginsburg/jwst/cloudc/F405N/pipeline/jw02221002002_08201_00002_nrcalong_align_tweakreg.fits\n",
      "2023-10-10 13:43:11,076 - stpipe.Image3Pipeline.tweakreg - INFO - Saved model in /orange/adamginsburg/jwst/cloudc/F405N/pipeline/jw02221002002_08201_00003_nrcalong_align_tweakreg.fits\n",
      "2023-10-10 13:43:12,118 - stpipe.Image3Pipeline.tweakreg - INFO - Saved model in /orange/adamginsburg/jwst/cloudc/F405N/pipeline/jw02221002002_08201_00004_nrcalong_align_tweakreg.fits\n",
      "2023-10-10 13:43:12,129 - stpipe.Image3Pipeline.tweakreg - INFO - Step tweakreg done\n",
      "2023-10-10 13:43:12,464 - stpipe.Image3Pipeline.skymatch - INFO - Step skymatch running with args (<ModelContainer>,).\n",
      "2023-10-10 13:43:12,470 - stpipe.Image3Pipeline.skymatch - INFO - Step skymatch parameters are: {'pre_hooks': [], 'post_hooks': [], 'output_file': None, 'output_dir': None, 'output_ext': '.fits', 'output_use_model': False, 'output_use_index': True, 'save_results': False, 'skip': False, 'suffix': None, 'search_output_file': True, 'input_dir': '/orange/adamginsburg/jwst/cloudc/F405N/pipeline', 'skymethod': 'match', 'match_down': True, 'subtract': False, 'stepsize': None, 'skystat': 'mode', 'dqbits': '~DO_NOT_USE+NON_SCIENCE', 'lower': None, 'upper': None, 'nclip': 5, 'lsigma': 4.0, 'usigma': 4.0, 'binwidth': 0.1}\n",
      "2023-10-10 13:43:12,873 - stpipe.Image3Pipeline.skymatch - INFO -  \n",
      "2023-10-10 13:43:12,875 - stpipe.Image3Pipeline.skymatch - INFO - ***** jwst.skymatch.skymatch.match() started on 2023-10-10 13:43:12.873758\n",
      "2023-10-10 13:43:12,876 - stpipe.Image3Pipeline.skymatch - INFO -  \n",
      "2023-10-10 13:43:12,877 - stpipe.Image3Pipeline.skymatch - INFO - Sky computation method: 'match'\n",
      "2023-10-10 13:43:12,878 - stpipe.Image3Pipeline.skymatch - INFO - Sky matching direction: DOWN\n",
      "2023-10-10 13:43:12,878 - stpipe.Image3Pipeline.skymatch - INFO - Sky subtraction from image data: OFF\n",
      "2023-10-10 13:43:12,880 - stpipe.Image3Pipeline.skymatch - INFO -  \n",
      "2023-10-10 13:43:12,880 - stpipe.Image3Pipeline.skymatch - INFO - ----  Computing differences in sky values in overlapping regions.\n",
      "2023-10-10 13:44:36,284 - stpipe.Image3Pipeline.skymatch - INFO -    *  Image ID=jw02221002001_02201_00001_nrcalong_align_tweakreg.fits. Sky background: 1.28328\n",
      "2023-10-10 13:44:36,291 - stpipe.Image3Pipeline.skymatch - INFO -    *  Image ID=jw02221002001_02201_00002_nrcalong_align_tweakreg.fits. Sky background: 1.16092\n",
      "2023-10-10 13:44:36,291 - stpipe.Image3Pipeline.skymatch - INFO -    *  Image ID=jw02221002001_02201_00003_nrcalong_align_tweakreg.fits. Sky background: 0.715174\n",
      "2023-10-10 13:44:36,292 - stpipe.Image3Pipeline.skymatch - INFO -    *  Image ID=jw02221002001_02201_00004_nrcalong_align_tweakreg.fits. Sky background: 0.5995\n",
      "2023-10-10 13:44:36,292 - stpipe.Image3Pipeline.skymatch - INFO -    *  Image ID=jw02221002001_08201_00001_nrcalong_align_tweakreg.fits. Sky background: 1.32055\n",
      "2023-10-10 13:44:36,293 - stpipe.Image3Pipeline.skymatch - INFO -    *  Image ID=jw02221002001_08201_00002_nrcalong_align_tweakreg.fits. Sky background: 0.336096\n",
      "2023-10-10 13:44:36,293 - stpipe.Image3Pipeline.skymatch - INFO -    *  Image ID=jw02221002001_08201_00003_nrcalong_align_tweakreg.fits. Sky background: 0.58641\n",
      "2023-10-10 13:44:36,293 - stpipe.Image3Pipeline.skymatch - INFO -    *  Image ID=jw02221002001_08201_00004_nrcalong_align_tweakreg.fits. Sky background: 1.38962\n",
      "2023-10-10 13:44:36,294 - stpipe.Image3Pipeline.skymatch - INFO -    *  Image ID=jw02221002002_02201_00001_nrcalong_align_tweakreg.fits. Sky background: 1.17702\n",
      "2023-10-10 13:44:36,294 - stpipe.Image3Pipeline.skymatch - INFO -    *  Image ID=jw02221002002_02201_00002_nrcalong_align_tweakreg.fits. Sky background: 0.8768\n",
      "2023-10-10 13:44:36,294 - stpipe.Image3Pipeline.skymatch - INFO -    *  Image ID=jw02221002002_02201_00003_nrcalong_align_tweakreg.fits. Sky background: 0.909519\n",
      "2023-10-10 13:44:36,295 - stpipe.Image3Pipeline.skymatch - INFO -    *  Image ID=jw02221002002_02201_00004_nrcalong_align_tweakreg.fits. Sky background: 1.39792\n",
      "2023-10-10 13:44:36,295 - stpipe.Image3Pipeline.skymatch - INFO -    *  Image ID=jw02221002002_08201_00001_nrcalong_align_tweakreg.fits. Sky background: 0.804488\n",
      "2023-10-10 13:44:36,295 - stpipe.Image3Pipeline.skymatch - INFO -    *  Image ID=jw02221002002_08201_00002_nrcalong_align_tweakreg.fits. Sky background: 0.427958\n",
      "2023-10-10 13:44:36,296 - stpipe.Image3Pipeline.skymatch - INFO -    *  Image ID=jw02221002002_08201_00003_nrcalong_align_tweakreg.fits. Sky background: 0.464426\n",
      "2023-10-10 13:44:36,296 - stpipe.Image3Pipeline.skymatch - INFO -    *  Image ID=jw02221002002_08201_00004_nrcalong_align_tweakreg.fits. Sky background: 0\n",
      "2023-10-10 13:44:36,296 - stpipe.Image3Pipeline.skymatch - INFO -  \n",
      "2023-10-10 13:44:36,297 - stpipe.Image3Pipeline.skymatch - INFO - ***** jwst.skymatch.skymatch.match() ended on 2023-10-10 13:44:36.296889\n",
      "2023-10-10 13:44:36,297 - stpipe.Image3Pipeline.skymatch - INFO - ***** jwst.skymatch.skymatch.match() TOTAL RUN TIME: 0:01:23.423131\n",
      "2023-10-10 13:44:36,298 - stpipe.Image3Pipeline.skymatch - INFO -  \n",
      "2023-10-10 13:44:36,376 - stpipe.Image3Pipeline.skymatch - INFO - Step skymatch done\n",
      "2023-10-10 13:44:36,732 - stpipe.Image3Pipeline.outlier_detection - INFO - Step outlier_detection running with args (<ModelContainer>,).\n",
      "2023-10-10 13:44:36,736 - stpipe.Image3Pipeline.outlier_detection - INFO - Step outlier_detection parameters are: {'pre_hooks': [], 'post_hooks': [], 'output_file': None, 'output_dir': None, 'output_ext': '.fits', 'output_use_model': False, 'output_use_index': True, 'save_results': True, 'skip': False, 'suffix': 'crf', 'search_output_file': False, 'input_dir': '/orange/adamginsburg/jwst/cloudc/F405N/pipeline', 'weight_type': 'ivm', 'pixfrac': 1.0, 'kernel': 'square', 'fillval': 'INDEF', 'nlow': 0, 'nhigh': 0, 'maskpt': 0.7, 'grow': 1, 'snr': '5.0 4.0', 'scale': '1.2 0.7', 'backg': 0.0, 'kernel_size': '7 7', 'threshold_percent': 99.8, 'ifu_second_check': False, 'save_intermediate_results': False, 'resample_data': True, 'good_bits': '~DO_NOT_USE', 'scale_detection': False, 'allowed_memory': None, 'in_memory': False}\n",
      "2023-10-10 13:44:36,757 - stpipe.Image3Pipeline.outlier_detection - INFO - Performing outlier detection on 16 inputs\n",
      "2023-10-10 13:44:36,759 - stpipe.Image3Pipeline.outlier_detection - INFO - Driz parameter kernel: square\n",
      "2023-10-10 13:44:36,760 - stpipe.Image3Pipeline.outlier_detection - INFO - Driz parameter pixfrac: 1.0\n",
      "2023-10-10 13:44:36,761 - stpipe.Image3Pipeline.outlier_detection - INFO - Driz parameter fillval: INDEF\n",
      "2023-10-10 13:44:36,761 - stpipe.Image3Pipeline.outlier_detection - INFO - Driz parameter weight_type: ivm\n",
      "2023-10-10 13:44:36,762 - stpipe.Image3Pipeline.outlier_detection - INFO - Output pixel scale ratio: 1.0\n",
      "2023-10-10 13:44:37,104 - stpipe.Image3Pipeline.outlier_detection - INFO - 1 exposures to drizzle together\n",
      "2023-10-10 13:44:38,983 - stpipe.Image3Pipeline.outlier_detection - INFO - Drizzling (2048, 2048) --> (2431, 5216)\n",
      "2023-10-10 13:44:40,304 - stpipe.Image3Pipeline.outlier_detection - INFO - Saved model in jw02221002001_02201_00001_nrcalong_align_outlier_i2d.fits\n",
      "2023-10-10 13:44:40,322 - stpipe.Image3Pipeline.outlier_detection - INFO - 1 exposures to drizzle together\n",
      "2023-10-10 13:44:42,129 - stpipe.Image3Pipeline.outlier_detection - INFO - Drizzling (2048, 2048) --> (2431, 5216)\n",
      "2023-10-10 13:44:43,067 - stpipe.Image3Pipeline.outlier_detection - INFO - Saved model in jw02221002001_02201_00002_nrcalong_align_outlier_i2d.fits\n",
      "2023-10-10 13:44:43,083 - stpipe.Image3Pipeline.outlier_detection - INFO - 1 exposures to drizzle together\n",
      "2023-10-10 13:44:44,909 - stpipe.Image3Pipeline.outlier_detection - INFO - Drizzling (2048, 2048) --> (2431, 5216)\n",
      "2023-10-10 13:44:46,045 - stpipe.Image3Pipeline.outlier_detection - INFO - Saved model in jw02221002001_02201_00003_nrcalong_align_outlier_i2d.fits\n",
      "2023-10-10 13:44:46,164 - stpipe.Image3Pipeline.outlier_detection - INFO - 1 exposures to drizzle together\n",
      "2023-10-10 13:44:48,412 - stpipe.Image3Pipeline.outlier_detection - INFO - Drizzling (2048, 2048) --> (2431, 5216)\n",
      "2023-10-10 13:44:50,977 - stpipe.Image3Pipeline.outlier_detection - INFO - Saved model in jw02221002001_02201_00004_nrcalong_align_outlier_i2d.fits\n",
      "2023-10-10 13:44:51,053 - stpipe.Image3Pipeline.outlier_detection - INFO - 1 exposures to drizzle together\n",
      "2023-10-10 13:44:52,877 - stpipe.Image3Pipeline.outlier_detection - INFO - Drizzling (2048, 2048) --> (2431, 5216)\n",
      "2023-10-10 13:44:54,403 - stpipe.Image3Pipeline.outlier_detection - INFO - Saved model in jw02221002001_08201_00001_nrcalong_align_outlier_i2d.fits\n",
      "2023-10-10 13:44:54,463 - stpipe.Image3Pipeline.outlier_detection - INFO - 1 exposures to drizzle together\n",
      "2023-10-10 13:44:56,355 - stpipe.Image3Pipeline.outlier_detection - INFO - Drizzling (2048, 2048) --> (2431, 5216)\n",
      "2023-10-10 13:44:57,647 - stpipe.Image3Pipeline.outlier_detection - INFO - Saved model in jw02221002001_08201_00002_nrcalong_align_outlier_i2d.fits\n",
      "2023-10-10 13:44:57,680 - stpipe.Image3Pipeline.outlier_detection - INFO - 1 exposures to drizzle together\n",
      "2023-10-10 13:45:01,572 - stpipe.Image3Pipeline.outlier_detection - INFO - Drizzling (2048, 2048) --> (2431, 5216)\n",
      "2023-10-10 13:45:03,449 - stpipe.Image3Pipeline.outlier_detection - INFO - Saved model in jw02221002001_08201_00003_nrcalong_align_outlier_i2d.fits\n",
      "2023-10-10 13:45:03,468 - stpipe.Image3Pipeline.outlier_detection - INFO - 1 exposures to drizzle together\n",
      "2023-10-10 13:45:05,319 - stpipe.Image3Pipeline.outlier_detection - INFO - Drizzling (2048, 2048) --> (2431, 5216)\n",
      "2023-10-10 13:45:06,289 - stpipe.Image3Pipeline.outlier_detection - INFO - Saved model in jw02221002001_08201_00004_nrcalong_align_outlier_i2d.fits\n",
      "2023-10-10 13:45:06,306 - stpipe.Image3Pipeline.outlier_detection - INFO - 1 exposures to drizzle together\n",
      "2023-10-10 13:45:08,132 - stpipe.Image3Pipeline.outlier_detection - INFO - Drizzling (2048, 2048) --> (2431, 5216)\n",
      "2023-10-10 13:45:10,082 - stpipe.Image3Pipeline.outlier_detection - INFO - Saved model in jw02221002002_02201_00001_nrcalong_align_outlier_i2d.fits\n",
      "2023-10-10 13:45:10,123 - stpipe.Image3Pipeline.outlier_detection - INFO - 1 exposures to drizzle together\n",
      "2023-10-10 13:45:11,982 - stpipe.Image3Pipeline.outlier_detection - INFO - Drizzling (2048, 2048) --> (2431, 5216)\n",
      "2023-10-10 13:45:14,108 - stpipe.Image3Pipeline.outlier_detection - INFO - Saved model in jw02221002002_02201_00002_nrcalong_align_outlier_i2d.fits\n",
      "2023-10-10 13:45:14,137 - stpipe.Image3Pipeline.outlier_detection - INFO - 1 exposures to drizzle together\n",
      "2023-10-10 13:45:17,435 - stpipe.Image3Pipeline.outlier_detection - INFO - Drizzling (2048, 2048) --> (2431, 5216)\n",
      "2023-10-10 13:45:19,793 - stpipe.Image3Pipeline.outlier_detection - INFO - Saved model in jw02221002002_02201_00003_nrcalong_align_outlier_i2d.fits\n",
      "2023-10-10 13:45:19,809 - stpipe.Image3Pipeline.outlier_detection - INFO - 1 exposures to drizzle together\n",
      "2023-10-10 13:45:21,807 - stpipe.Image3Pipeline.outlier_detection - INFO - Drizzling (2048, 2048) --> (2431, 5216)\n",
      "2023-10-10 13:45:22,872 - stpipe.Image3Pipeline.outlier_detection - INFO - Saved model in jw02221002002_02201_00004_nrcalong_align_outlier_i2d.fits\n",
      "2023-10-10 13:45:23,623 - stpipe.Image3Pipeline.outlier_detection - INFO - 1 exposures to drizzle together\n",
      "2023-10-10 13:45:26,531 - stpipe.Image3Pipeline.outlier_detection - INFO - Drizzling (2048, 2048) --> (2431, 5216)\n",
      "2023-10-10 13:45:27,580 - stpipe.Image3Pipeline.outlier_detection - INFO - Saved model in jw02221002002_08201_00001_nrcalong_align_outlier_i2d.fits\n",
      "2023-10-10 13:45:27,598 - stpipe.Image3Pipeline.outlier_detection - INFO - 1 exposures to drizzle together\n",
      "2023-10-10 13:45:30,698 - stpipe.Image3Pipeline.outlier_detection - INFO - Drizzling (2048, 2048) --> (2431, 5216)\n",
      "2023-10-10 13:45:31,938 - stpipe.Image3Pipeline.outlier_detection - INFO - Saved model in jw02221002002_08201_00002_nrcalong_align_outlier_i2d.fits\n",
      "2023-10-10 13:45:31,955 - stpipe.Image3Pipeline.outlier_detection - INFO - 1 exposures to drizzle together\n",
      "2023-10-10 13:45:33,848 - stpipe.Image3Pipeline.outlier_detection - INFO - Drizzling (2048, 2048) --> (2431, 5216)\n",
      "2023-10-10 13:45:35,138 - stpipe.Image3Pipeline.outlier_detection - INFO - Saved model in jw02221002002_08201_00003_nrcalong_align_outlier_i2d.fits\n",
      "2023-10-10 13:45:35,194 - stpipe.Image3Pipeline.outlier_detection - INFO - 1 exposures to drizzle together\n",
      "2023-10-10 13:45:37,410 - stpipe.Image3Pipeline.outlier_detection - INFO - Drizzling (2048, 2048) --> (2431, 5216)\n",
      "2023-10-10 13:45:38,709 - stpipe.Image3Pipeline.outlier_detection - INFO - Saved model in jw02221002002_08201_00004_nrcalong_align_outlier_i2d.fits\n",
      "2023-10-10 13:45:40,781 - stpipe.Image3Pipeline.outlier_detection - INFO - Computing median\n",
      "2023-10-10 14:04:57,601 - stpipe.Image3Pipeline.outlier_detection - INFO - Saved model in /orange/adamginsburg/jwst/cloudc/F405N/pipeline/jw02221002001_02201_00001_nrcalong_align_o002_median.fits\n",
      "2023-10-10 14:04:57,613 - stpipe.Image3Pipeline.outlier_detection - INFO - Blotting median\n",
      "2023-10-10 14:05:02,376 - stpipe.Image3Pipeline.outlier_detection - INFO - Blotting (2048, 2048) <-- (2431, 5216)\n",
      "2023-10-10 14:05:03,152 - stpipe.Image3Pipeline.outlier_detection - INFO - Saved model in /orange/adamginsburg/jwst/cloudc/F405N/pipeline/jw02221002001_02201_00001_nrcalong_align_o002_blot.fits\n",
      "2023-10-10 14:05:05,343 - stpipe.Image3Pipeline.outlier_detection - INFO - Blotting (2048, 2048) <-- (2431, 5216)\n",
      "2023-10-10 14:05:07,241 - stpipe.Image3Pipeline.outlier_detection - INFO - Saved model in /orange/adamginsburg/jwst/cloudc/F405N/pipeline/jw02221002001_02201_00002_nrcalong_align_o002_blot.fits\n",
      "2023-10-10 14:05:14,139 - stpipe.Image3Pipeline.outlier_detection - INFO - Blotting (2048, 2048) <-- (2431, 5216)\n",
      "2023-10-10 14:05:25,671 - stpipe.Image3Pipeline.outlier_detection - INFO - Saved model in /orange/adamginsburg/jwst/cloudc/F405N/pipeline/jw02221002001_02201_00003_nrcalong_align_o002_blot.fits\n",
      "2023-10-10 14:05:30,477 - stpipe.Image3Pipeline.outlier_detection - INFO - Blotting (2048, 2048) <-- (2431, 5216)\n",
      "2023-10-10 14:05:31,680 - stpipe.Image3Pipeline.outlier_detection - INFO - Saved model in /orange/adamginsburg/jwst/cloudc/F405N/pipeline/jw02221002001_02201_00004_nrcalong_align_o002_blot.fits\n",
      "2023-10-10 14:05:33,520 - stpipe.Image3Pipeline.outlier_detection - INFO - Blotting (2048, 2048) <-- (2431, 5216)\n",
      "2023-10-10 14:05:41,122 - stpipe.Image3Pipeline.outlier_detection - INFO - Saved model in /orange/adamginsburg/jwst/cloudc/F405N/pipeline/jw02221002001_08201_00001_nrcalong_align_o002_blot.fits\n",
      "2023-10-10 14:05:44,279 - stpipe.Image3Pipeline.outlier_detection - INFO - Blotting (2048, 2048) <-- (2431, 5216)\n",
      "2023-10-10 14:05:44,676 - stpipe.Image3Pipeline.outlier_detection - INFO - Saved model in /orange/adamginsburg/jwst/cloudc/F405N/pipeline/jw02221002001_08201_00002_nrcalong_align_o002_blot.fits\n",
      "2023-10-10 14:05:46,517 - stpipe.Image3Pipeline.outlier_detection - INFO - Blotting (2048, 2048) <-- (2431, 5216)\n",
      "2023-10-10 14:05:48,160 - stpipe.Image3Pipeline.outlier_detection - INFO - Saved model in /orange/adamginsburg/jwst/cloudc/F405N/pipeline/jw02221002001_08201_00003_nrcalong_align_o002_blot.fits\n",
      "2023-10-10 14:05:54,690 - stpipe.Image3Pipeline.outlier_detection - INFO - Blotting (2048, 2048) <-- (2431, 5216)\n",
      "2023-10-10 14:05:55,778 - stpipe.Image3Pipeline.outlier_detection - INFO - Saved model in /orange/adamginsburg/jwst/cloudc/F405N/pipeline/jw02221002001_08201_00004_nrcalong_align_o002_blot.fits\n",
      "2023-10-10 14:05:57,657 - stpipe.Image3Pipeline.outlier_detection - INFO - Blotting (2048, 2048) <-- (2431, 5216)\n",
      "2023-10-10 14:05:59,891 - stpipe.Image3Pipeline.outlier_detection - INFO - Saved model in /orange/adamginsburg/jwst/cloudc/F405N/pipeline/jw02221002002_02201_00001_nrcalong_align_o002_blot.fits\n",
      "2023-10-10 14:06:02,932 - stpipe.Image3Pipeline.outlier_detection - INFO - Blotting (2048, 2048) <-- (2431, 5216)\n",
      "2023-10-10 14:06:03,335 - stpipe.Image3Pipeline.outlier_detection - INFO - Saved model in /orange/adamginsburg/jwst/cloudc/F405N/pipeline/jw02221002002_02201_00002_nrcalong_align_o002_blot.fits\n",
      "2023-10-10 14:06:05,175 - stpipe.Image3Pipeline.outlier_detection - INFO - Blotting (2048, 2048) <-- (2431, 5216)\n",
      "2023-10-10 14:06:06,643 - stpipe.Image3Pipeline.outlier_detection - INFO - Saved model in /orange/adamginsburg/jwst/cloudc/F405N/pipeline/jw02221002002_02201_00003_nrcalong_align_o002_blot.fits\n",
      "2023-10-10 14:06:09,023 - stpipe.Image3Pipeline.outlier_detection - INFO - Blotting (2048, 2048) <-- (2431, 5216)\n",
      "2023-10-10 14:06:09,433 - stpipe.Image3Pipeline.outlier_detection - INFO - Saved model in /orange/adamginsburg/jwst/cloudc/F405N/pipeline/jw02221002002_02201_00004_nrcalong_align_o002_blot.fits\n",
      "2023-10-10 14:06:11,285 - stpipe.Image3Pipeline.outlier_detection - INFO - Blotting (2048, 2048) <-- (2431, 5216)\n",
      "2023-10-10 14:06:12,694 - stpipe.Image3Pipeline.outlier_detection - INFO - Saved model in /orange/adamginsburg/jwst/cloudc/F405N/pipeline/jw02221002002_08201_00001_nrcalong_align_o002_blot.fits\n",
      "2023-10-10 14:06:17,298 - stpipe.Image3Pipeline.outlier_detection - INFO - Blotting (2048, 2048) <-- (2431, 5216)\n",
      "2023-10-10 14:06:19,180 - stpipe.Image3Pipeline.outlier_detection - INFO - Saved model in /orange/adamginsburg/jwst/cloudc/F405N/pipeline/jw02221002002_08201_00002_nrcalong_align_o002_blot.fits\n",
      "2023-10-10 14:06:21,012 - stpipe.Image3Pipeline.outlier_detection - INFO - Blotting (2048, 2048) <-- (2431, 5216)\n",
      "2023-10-10 14:06:21,363 - stpipe.Image3Pipeline.outlier_detection - INFO - Saved model in /orange/adamginsburg/jwst/cloudc/F405N/pipeline/jw02221002002_08201_00003_nrcalong_align_o002_blot.fits\n",
      "2023-10-10 14:06:23,183 - stpipe.Image3Pipeline.outlier_detection - INFO - Blotting (2048, 2048) <-- (2431, 5216)\n",
      "2023-10-10 14:06:25,774 - stpipe.Image3Pipeline.outlier_detection - INFO - Saved model in /orange/adamginsburg/jwst/cloudc/F405N/pipeline/jw02221002002_08201_00004_nrcalong_align_o002_blot.fits\n",
      "2023-10-10 14:06:25,808 - stpipe.Image3Pipeline.outlier_detection - INFO - Flagging outliers\n",
      "2023-10-10 14:06:27,410 - stpipe.Image3Pipeline.outlier_detection - INFO - New pixels flagged as outliers: 9191 (0.22%)\n",
      "2023-10-10 14:06:31,700 - stpipe.Image3Pipeline.outlier_detection - INFO - New pixels flagged as outliers: 10444 (0.25%)\n",
      "2023-10-10 14:06:32,999 - stpipe.Image3Pipeline.outlier_detection - INFO - New pixels flagged as outliers: 10453 (0.25%)\n",
      "2023-10-10 14:06:34,270 - stpipe.Image3Pipeline.outlier_detection - INFO - New pixels flagged as outliers: 10375 (0.25%)\n",
      "2023-10-10 14:06:37,060 - stpipe.Image3Pipeline.outlier_detection - INFO - New pixels flagged as outliers: 11054 (0.26%)\n",
      "2023-10-10 14:06:43,140 - stpipe.Image3Pipeline.outlier_detection - INFO - New pixels flagged as outliers: 10237 (0.24%)\n",
      "2023-10-10 14:06:44,586 - stpipe.Image3Pipeline.outlier_detection - INFO - New pixels flagged as outliers: 10154 (0.24%)\n",
      "2023-10-10 14:06:45,099 - stpipe.Image3Pipeline.outlier_detection - INFO - New pixels flagged as outliers: 10466 (0.25%)\n",
      "2023-10-10 14:06:46,202 - stpipe.Image3Pipeline.outlier_detection - INFO - New pixels flagged as outliers: 10738 (0.26%)\n",
      "2023-10-10 14:06:51,654 - stpipe.Image3Pipeline.outlier_detection - INFO - New pixels flagged as outliers: 9488 (0.23%)\n",
      "2023-10-10 14:06:55,359 - stpipe.Image3Pipeline.outlier_detection - INFO - New pixels flagged as outliers: 9570 (0.23%)\n",
      "2023-10-10 14:06:57,259 - stpipe.Image3Pipeline.outlier_detection - INFO - New pixels flagged as outliers: 9369 (0.22%)\n",
      "2023-10-10 14:06:58,337 - stpipe.Image3Pipeline.outlier_detection - INFO - New pixels flagged as outliers: 9313 (0.22%)\n",
      "2023-10-10 14:07:02,585 - stpipe.Image3Pipeline.outlier_detection - INFO - New pixels flagged as outliers: 9186 (0.22%)\n",
      "2023-10-10 14:07:06,245 - stpipe.Image3Pipeline.outlier_detection - INFO - New pixels flagged as outliers: 9281 (0.22%)\n",
      "2023-10-10 14:07:09,127 - stpipe.Image3Pipeline.outlier_detection - INFO - New pixels flagged as outliers: 9262 (0.22%)\n",
      "2023-10-10 14:07:11,655 - stpipe.Image3Pipeline.outlier_detection - INFO - Saved model in /orange/adamginsburg/jwst/cloudc/F405N/pipeline/jw02221002001_02201_00001_nrcalong_align_o002_crf.fits\n",
      "2023-10-10 14:07:17,402 - stpipe.Image3Pipeline.outlier_detection - INFO - Saved model in /orange/adamginsburg/jwst/cloudc/F405N/pipeline/jw02221002001_02201_00002_nrcalong_align_o002_crf.fits\n",
      "2023-10-10 14:07:18,298 - stpipe.Image3Pipeline.outlier_detection - INFO - Saved model in /orange/adamginsburg/jwst/cloudc/F405N/pipeline/jw02221002001_02201_00003_nrcalong_align_o002_crf.fits\n",
      "2023-10-10 14:07:18,580 - stpipe.Image3Pipeline.outlier_detection - INFO - Saved model in /orange/adamginsburg/jwst/cloudc/F405N/pipeline/jw02221002001_02201_00004_nrcalong_align_o002_crf.fits\n",
      "2023-10-10 14:07:21,320 - stpipe.Image3Pipeline.outlier_detection - INFO - Saved model in /orange/adamginsburg/jwst/cloudc/F405N/pipeline/jw02221002001_08201_00001_nrcalong_align_o002_crf.fits\n",
      "2023-10-10 14:07:24,222 - stpipe.Image3Pipeline.outlier_detection - INFO - Saved model in /orange/adamginsburg/jwst/cloudc/F405N/pipeline/jw02221002001_08201_00002_nrcalong_align_o002_crf.fits\n",
      "2023-10-10 14:07:28,786 - stpipe.Image3Pipeline.outlier_detection - INFO - Saved model in /orange/adamginsburg/jwst/cloudc/F405N/pipeline/jw02221002001_08201_00003_nrcalong_align_o002_crf.fits\n",
      "2023-10-10 14:07:29,087 - stpipe.Image3Pipeline.outlier_detection - INFO - Saved model in /orange/adamginsburg/jwst/cloudc/F405N/pipeline/jw02221002001_08201_00004_nrcalong_align_o002_crf.fits\n",
      "2023-10-10 14:07:29,350 - stpipe.Image3Pipeline.outlier_detection - INFO - Saved model in /orange/adamginsburg/jwst/cloudc/F405N/pipeline/jw02221002002_02201_00001_nrcalong_align_o002_crf.fits\n",
      "2023-10-10 14:07:29,629 - stpipe.Image3Pipeline.outlier_detection - INFO - Saved model in /orange/adamginsburg/jwst/cloudc/F405N/pipeline/jw02221002002_02201_00002_nrcalong_align_o002_crf.fits\n",
      "2023-10-10 14:07:29,999 - stpipe.Image3Pipeline.outlier_detection - INFO - Saved model in /orange/adamginsburg/jwst/cloudc/F405N/pipeline/jw02221002002_02201_00003_nrcalong_align_o002_crf.fits\n",
      "2023-10-10 14:07:32,153 - stpipe.Image3Pipeline.outlier_detection - INFO - Saved model in /orange/adamginsburg/jwst/cloudc/F405N/pipeline/jw02221002002_02201_00004_nrcalong_align_o002_crf.fits\n",
      "2023-10-10 14:07:34,249 - stpipe.Image3Pipeline.outlier_detection - INFO - Saved model in /orange/adamginsburg/jwst/cloudc/F405N/pipeline/jw02221002002_08201_00001_nrcalong_align_o002_crf.fits\n",
      "2023-10-10 14:07:37,021 - stpipe.Image3Pipeline.outlier_detection - INFO - Saved model in /orange/adamginsburg/jwst/cloudc/F405N/pipeline/jw02221002002_08201_00002_nrcalong_align_o002_crf.fits\n",
      "2023-10-10 14:07:37,689 - stpipe.Image3Pipeline.outlier_detection - INFO - Saved model in /orange/adamginsburg/jwst/cloudc/F405N/pipeline/jw02221002002_08201_00003_nrcalong_align_o002_crf.fits\n",
      "2023-10-10 14:07:41,087 - stpipe.Image3Pipeline.outlier_detection - INFO - Saved model in /orange/adamginsburg/jwst/cloudc/F405N/pipeline/jw02221002002_08201_00004_nrcalong_align_o002_crf.fits\n",
      "2023-10-10 14:07:41,132 - stpipe.Image3Pipeline.outlier_detection - INFO - Step outlier_detection done\n",
      "2023-10-10 14:07:42,092 - stpipe.Image3Pipeline.resample - INFO - Step resample running with args (<ModelContainer>,).\n",
      "2023-10-10 14:07:42,150 - stpipe.Image3Pipeline.resample - INFO - Step resample parameters are: {'pre_hooks': [], 'post_hooks': [], 'output_file': None, 'output_dir': None, 'output_ext': '.fits', 'output_use_model': False, 'output_use_index': True, 'save_results': True, 'skip': False, 'suffix': 'i2d', 'search_output_file': True, 'input_dir': '/orange/adamginsburg/jwst/cloudc/F405N/pipeline', 'pixfrac': 1.0, 'kernel': 'square', 'fillval': 'INDEF', 'weight_type': 'ivm', 'output_shape': None, 'crpix': None, 'crval': None, 'rotation': None, 'pixel_scale_ratio': 1.0, 'pixel_scale': None, 'output_wcs': '', 'single': False, 'blendheaders': True, 'allowed_memory': None, 'in_memory': True}\n",
      "2023-10-10 14:07:42,262 - stpipe.Image3Pipeline.resample - INFO - Using drizpars reference file: /orange/adamginsburg/jwst/cloudc//crds/references/jwst/nircam/jwst_nircam_drizpars_0001.fits\n",
      "2023-10-10 14:07:42,325 - stpipe.Image3Pipeline.resample - INFO - Driz parameter kernel: square\n",
      "2023-10-10 14:07:42,326 - stpipe.Image3Pipeline.resample - INFO - Driz parameter pixfrac: 1.0\n",
      "2023-10-10 14:07:42,327 - stpipe.Image3Pipeline.resample - INFO - Driz parameter fillval: INDEF\n",
      "2023-10-10 14:07:42,327 - stpipe.Image3Pipeline.resample - INFO - Driz parameter weight_type: ivm\n",
      "2023-10-10 14:07:42,328 - stpipe.Image3Pipeline.resample - INFO - Output pixel scale ratio: 1.0\n",
      "2023-10-10 14:07:42,730 - stpipe.Image3Pipeline.resample - INFO - Blending metadata for jw02221-o002_t001_nircam_clear-f405n-nrca\n",
      "2023-10-10 14:07:43,801 - stpipe.Image3Pipeline.resample - INFO - Resampling science data\n",
      "2023-10-10 14:07:45,544 - stpipe.Image3Pipeline.resample - INFO - Drizzling (2048, 2048) --> (2431, 5216)\n",
      "2023-10-10 14:07:50,057 - stpipe.Image3Pipeline.resample - INFO - Drizzling (2048, 2048) --> (2431, 5216)\n",
      "2023-10-10 14:07:52,634 - stpipe.Image3Pipeline.resample - INFO - Drizzling (2048, 2048) --> (2431, 5216)\n",
      "2023-10-10 14:07:55,020 - stpipe.Image3Pipeline.resample - INFO - Drizzling (2048, 2048) --> (2431, 5216)\n",
      "2023-10-10 14:07:57,394 - stpipe.Image3Pipeline.resample - INFO - Drizzling (2048, 2048) --> (2431, 5216)\n",
      "2023-10-10 14:07:59,770 - stpipe.Image3Pipeline.resample - INFO - Drizzling (2048, 2048) --> (2431, 5216)\n",
      "2023-10-10 14:08:02,255 - stpipe.Image3Pipeline.resample - INFO - Drizzling (2048, 2048) --> (2431, 5216)\n",
      "2023-10-10 14:08:04,721 - stpipe.Image3Pipeline.resample - INFO - Drizzling (2048, 2048) --> (2431, 5216)\n",
      "2023-10-10 14:08:07,099 - stpipe.Image3Pipeline.resample - INFO - Drizzling (2048, 2048) --> (2431, 5216)\n",
      "2023-10-10 14:08:09,488 - stpipe.Image3Pipeline.resample - INFO - Drizzling (2048, 2048) --> (2431, 5216)\n",
      "2023-10-10 14:08:12,178 - stpipe.Image3Pipeline.resample - INFO - Drizzling (2048, 2048) --> (2431, 5216)\n",
      "2023-10-10 14:08:14,806 - stpipe.Image3Pipeline.resample - INFO - Drizzling (2048, 2048) --> (2431, 5216)\n",
      "2023-10-10 14:08:17,271 - stpipe.Image3Pipeline.resample - INFO - Drizzling (2048, 2048) --> (2431, 5216)\n",
      "2023-10-10 14:08:19,659 - stpipe.Image3Pipeline.resample - INFO - Drizzling (2048, 2048) --> (2431, 5216)\n",
      "2023-10-10 14:08:22,080 - stpipe.Image3Pipeline.resample - INFO - Drizzling (2048, 2048) --> (2431, 5216)\n",
      "2023-10-10 14:08:24,474 - stpipe.Image3Pipeline.resample - INFO - Drizzling (2048, 2048) --> (2431, 5216)\n",
      "2023-10-10 14:08:25,160 - stpipe.Image3Pipeline.resample - INFO - Resampling var_rnoise\n",
      "2023-10-10 14:08:26,971 - stpipe.Image3Pipeline.resample - INFO - Drizzling (2048, 2048) --> (2431, 5216)\n",
      "2023-10-10 14:08:29,471 - stpipe.Image3Pipeline.resample - INFO - Drizzling (2048, 2048) --> (2431, 5216)\n",
      "2023-10-10 14:08:31,982 - stpipe.Image3Pipeline.resample - INFO - Drizzling (2048, 2048) --> (2431, 5216)\n",
      "2023-10-10 14:08:34,541 - stpipe.Image3Pipeline.resample - INFO - Drizzling (2048, 2048) --> (2431, 5216)\n",
      "2023-10-10 14:08:37,004 - stpipe.Image3Pipeline.resample - INFO - Drizzling (2048, 2048) --> (2431, 5216)\n",
      "2023-10-10 14:08:39,455 - stpipe.Image3Pipeline.resample - INFO - Drizzling (2048, 2048) --> (2431, 5216)\n",
      "2023-10-10 14:08:41,941 - stpipe.Image3Pipeline.resample - INFO - Drizzling (2048, 2048) --> (2431, 5216)\n",
      "2023-10-10 14:08:44,426 - stpipe.Image3Pipeline.resample - INFO - Drizzling (2048, 2048) --> (2431, 5216)\n",
      "2023-10-10 14:08:46,889 - stpipe.Image3Pipeline.resample - INFO - Drizzling (2048, 2048) --> (2431, 5216)\n",
      "2023-10-10 14:08:49,518 - stpipe.Image3Pipeline.resample - INFO - Drizzling (2048, 2048) --> (2431, 5216)\n",
      "2023-10-10 14:08:51,972 - stpipe.Image3Pipeline.resample - INFO - Drizzling (2048, 2048) --> (2431, 5216)\n",
      "2023-10-10 14:08:54,414 - stpipe.Image3Pipeline.resample - INFO - Drizzling (2048, 2048) --> (2431, 5216)\n",
      "2023-10-10 14:08:56,885 - stpipe.Image3Pipeline.resample - INFO - Drizzling (2048, 2048) --> (2431, 5216)\n",
      "2023-10-10 14:08:59,370 - stpipe.Image3Pipeline.resample - INFO - Drizzling (2048, 2048) --> (2431, 5216)\n",
      "2023-10-10 14:09:01,834 - stpipe.Image3Pipeline.resample - INFO - Drizzling (2048, 2048) --> (2431, 5216)\n",
      "2023-10-10 14:09:04,303 - stpipe.Image3Pipeline.resample - INFO - Drizzling (2048, 2048) --> (2431, 5216)\n",
      "2023-10-10 14:09:05,041 - stpipe.Image3Pipeline.resample - INFO - Resampling var_poisson\n",
      "2023-10-10 14:09:06,800 - stpipe.Image3Pipeline.resample - INFO - Drizzling (2048, 2048) --> (2431, 5216)\n",
      "2023-10-10 14:09:09,284 - stpipe.Image3Pipeline.resample - INFO - Drizzling (2048, 2048) --> (2431, 5216)\n",
      "2023-10-10 14:09:11,793 - stpipe.Image3Pipeline.resample - INFO - Drizzling (2048, 2048) --> (2431, 5216)\n",
      "2023-10-10 14:09:14,265 - stpipe.Image3Pipeline.resample - INFO - Drizzling (2048, 2048) --> (2431, 5216)\n",
      "2023-10-10 14:09:16,723 - stpipe.Image3Pipeline.resample - INFO - Drizzling (2048, 2048) --> (2431, 5216)\n",
      "2023-10-10 14:09:19,212 - stpipe.Image3Pipeline.resample - INFO - Drizzling (2048, 2048) --> (2431, 5216)\n",
      "2023-10-10 14:09:21,687 - stpipe.Image3Pipeline.resample - INFO - Drizzling (2048, 2048) --> (2431, 5216)\n",
      "2023-10-10 14:09:24,163 - stpipe.Image3Pipeline.resample - INFO - Drizzling (2048, 2048) --> (2431, 5216)\n",
      "2023-10-10 14:09:26,624 - stpipe.Image3Pipeline.resample - INFO - Drizzling (2048, 2048) --> (2431, 5216)\n",
      "2023-10-10 14:09:29,072 - stpipe.Image3Pipeline.resample - INFO - Drizzling (2048, 2048) --> (2431, 5216)\n",
      "2023-10-10 14:09:31,535 - stpipe.Image3Pipeline.resample - INFO - Drizzling (2048, 2048) --> (2431, 5216)\n",
      "2023-10-10 14:09:34,167 - stpipe.Image3Pipeline.resample - INFO - Drizzling (2048, 2048) --> (2431, 5216)\n",
      "2023-10-10 14:09:36,637 - stpipe.Image3Pipeline.resample - INFO - Drizzling (2048, 2048) --> (2431, 5216)\n",
      "2023-10-10 14:09:39,100 - stpipe.Image3Pipeline.resample - INFO - Drizzling (2048, 2048) --> (2431, 5216)\n",
      "2023-10-10 14:09:41,561 - stpipe.Image3Pipeline.resample - INFO - Drizzling (2048, 2048) --> (2431, 5216)\n",
      "2023-10-10 14:09:44,023 - stpipe.Image3Pipeline.resample - INFO - Drizzling (2048, 2048) --> (2431, 5216)\n",
      "2023-10-10 14:09:44,751 - stpipe.Image3Pipeline.resample - INFO - Resampling var_flat\n",
      "2023-10-10 14:09:46,493 - stpipe.Image3Pipeline.resample - INFO - Drizzling (2048, 2048) --> (2431, 5216)\n",
      "2023-10-10 14:09:49,015 - stpipe.Image3Pipeline.resample - INFO - Drizzling (2048, 2048) --> (2431, 5216)\n",
      "2023-10-10 14:09:51,512 - stpipe.Image3Pipeline.resample - INFO - Drizzling (2048, 2048) --> (2431, 5216)\n",
      "2023-10-10 14:09:54,073 - stpipe.Image3Pipeline.resample - INFO - Drizzling (2048, 2048) --> (2431, 5216)\n",
      "2023-10-10 14:09:56,556 - stpipe.Image3Pipeline.resample - INFO - Drizzling (2048, 2048) --> (2431, 5216)\n",
      "2023-10-10 14:09:59,080 - stpipe.Image3Pipeline.resample - INFO - Drizzling (2048, 2048) --> (2431, 5216)\n",
      "2023-10-10 14:10:01,629 - stpipe.Image3Pipeline.resample - INFO - Drizzling (2048, 2048) --> (2431, 5216)\n",
      "2023-10-10 14:10:04,133 - stpipe.Image3Pipeline.resample - INFO - Drizzling (2048, 2048) --> (2431, 5216)\n",
      "2023-10-10 14:10:06,606 - stpipe.Image3Pipeline.resample - INFO - Drizzling (2048, 2048) --> (2431, 5216)\n",
      "2023-10-10 14:10:09,079 - stpipe.Image3Pipeline.resample - INFO - Drizzling (2048, 2048) --> (2431, 5216)\n",
      "2023-10-10 14:10:11,557 - stpipe.Image3Pipeline.resample - INFO - Drizzling (2048, 2048) --> (2431, 5216)\n",
      "2023-10-10 14:10:14,051 - stpipe.Image3Pipeline.resample - INFO - Drizzling (2048, 2048) --> (2431, 5216)\n",
      "2023-10-10 14:10:16,523 - stpipe.Image3Pipeline.resample - INFO - Drizzling (2048, 2048) --> (2431, 5216)\n",
      "2023-10-10 14:10:18,997 - stpipe.Image3Pipeline.resample - INFO - Drizzling (2048, 2048) --> (2431, 5216)\n",
      "2023-10-10 14:10:21,489 - stpipe.Image3Pipeline.resample - INFO - Drizzling (2048, 2048) --> (2431, 5216)\n",
      "2023-10-10 14:10:23,975 - stpipe.Image3Pipeline.resample - INFO - Drizzling (2048, 2048) --> (2431, 5216)\n",
      "2023-10-10 14:10:24,802 - stpipe.Image3Pipeline.resample - INFO - Update S_REGION to POLYGON ICRS  266.619185090 -28.522172361 266.571036567 -28.518171755 266.561238267 -28.608941504 266.609427965 -28.612945561\n",
      "2023-10-10 14:10:26,340 - stpipe.Image3Pipeline.resample - INFO - Saved model in /orange/adamginsburg/jwst/cloudc/F405N/pipeline/jw02221-o002_t001_nircam_clear-f405n-nrca_i2d.fits\n",
      "2023-10-10 14:10:26,357 - stpipe.Image3Pipeline.resample - INFO - Step resample done\n",
      "2023-10-10 14:10:26,625 - stpipe.Image3Pipeline.source_catalog - INFO - Step source_catalog running with args (<ImageModel(2431, 5216) from jw02221-o002_t001_nircam_clear-f405n-nrca_i2d.fits>,).\n",
      "2023-10-10 14:10:26,628 - stpipe.Image3Pipeline.source_catalog - INFO - Step source_catalog parameters are: {'pre_hooks': [], 'post_hooks': [], 'output_file': None, 'output_dir': None, 'output_ext': '.fits', 'output_use_model': False, 'output_use_index': True, 'save_results': True, 'skip': False, 'suffix': 'cat', 'search_output_file': True, 'input_dir': '/orange/adamginsburg/jwst/cloudc/F405N/pipeline', 'bkg_boxsize': 1000, 'kernel_fwhm': 2.165, 'snr_threshold': 3.0, 'npixels': 25, 'deblend': False, 'aperture_ee1': 30, 'aperture_ee2': 50, 'aperture_ee3': 70, 'ci1_star_threshold': 2.0, 'ci2_star_threshold': 1.8}\n",
      "2023-10-10 14:10:26,698 - stpipe.Image3Pipeline.source_catalog - INFO - Using APCORR reference file: /orange/adamginsburg/jwst/cloudc//crds/references/jwst/nircam/jwst_nircam_apcorr_0004.fits\n",
      "2023-10-10 14:10:26,900 - stpipe.Image3Pipeline.source_catalog - INFO - Using ABVEGAOFFSET reference file: /orange/adamginsburg/jwst/cloudc//crds/references/jwst/nircam/jwst_nircam_abvegaoffset_0001.asdf\n",
      "2023-10-10 14:10:26,903 - stpipe.Image3Pipeline.source_catalog - INFO - Instrument: NIRCAM\n",
      "2023-10-10 14:10:26,904 - stpipe.Image3Pipeline.source_catalog - INFO - Detector: NRCALONG\n",
      "2023-10-10 14:10:26,905 - stpipe.Image3Pipeline.source_catalog - INFO - Filter: F444W\n",
      "2023-10-10 14:10:26,906 - stpipe.Image3Pipeline.source_catalog - INFO - Pupil: F405N\n",
      "2023-10-10 14:10:26,906 - stpipe.Image3Pipeline.source_catalog - INFO - Subarray: FULL\n",
      "2023-10-10 14:10:27,080 - stpipe.Image3Pipeline.source_catalog - INFO - AB to Vega magnitude offset 3.12603\n",
      "2023-10-10 14:10:28,502 - stpipe.Image3Pipeline.source_catalog - INFO - Background could not be estimated in meshes. Using the entire unmasked array for background estimation: bkg_boxsize=(2431, 5216).\n",
      "2023-10-10 14:10:30,904 - stpipe.Image3Pipeline.source_catalog - INFO - Detected 9861 sources\n",
      "2023-10-10 14:10:36,929 - stpipe.Image3Pipeline.source_catalog - WARNING - /blue/adamginsburg/adamginsburg/repos/jwst/jwst/source_catalog/source_catalog.py:616: RuntimeWarning: invalid value encountered in divide\n",
      "  return [getattr(self, flux1).value / getattr(self, flux2).value\n",
      "\n",
      "2023-10-10 14:10:37,450 - stpipe.Image3Pipeline.source_catalog - WARNING - /blue/adamginsburg/adamginsburg/repos/jwst/jwst/source_catalog/source_catalog.py:616: RuntimeWarning: divide by zero encountered in divide\n",
      "  return [getattr(self, flux1).value / getattr(self, flux2).value\n",
      "\n",
      "2023-10-10 14:10:39,386 - stpipe.Image3Pipeline.source_catalog - INFO - Wrote source catalog: /orange/adamginsburg/jwst/cloudc/F405N/pipeline/jw02221-o002_t001_nircam_clear-f405n-nrca_cat.ecsv\n",
      "2023-10-10 14:10:39,785 - stpipe.Image3Pipeline.source_catalog - INFO - Saved model in /orange/adamginsburg/jwst/cloudc/F405N/pipeline/jw02221-o002_t001_nircam_clear-f405n-nrca_segm.fits\n",
      "2023-10-10 14:10:39,789 - stpipe.Image3Pipeline.source_catalog - INFO - Wrote segmentation map: jw02221-o002_t001_nircam_clear-f405n-nrca_segm.fits\n",
      "2023-10-10 14:10:39,796 - stpipe.Image3Pipeline.source_catalog - INFO - Step source_catalog done\n",
      "2023-10-10 14:10:39,807 - stpipe.Image3Pipeline - INFO - Step Image3Pipeline done\n"
     ]
    },
    {
     "name": "stdout",
     "output_type": "stream",
     "text": [
      "2023-10-10T14:10:39.837222: DONE running /orange/adamginsburg/jwst/cloudc/F405N/pipeline/jw02221-o002_20230911t112751_image3_00005_nrca_asn.json\n"
     ]
    }
   ],
   "source": [
    "\n",
    "tweakreg_parameters.update({\n",
    "                           'fitgeometry': 'general',\n",
    "                           # brightest = 5000 was causing problems- maybe the cross-alignment was getting caught on PSF artifacts?\n",
    "                           'brightest': 500,\n",
    "                           'snr_threshold': 30, # was 5, but that produced too many stars\n",
    "                           'abs_refcat': abs_refcat,\n",
    "                           'save_catalogs': True,\n",
    "                           'catalog_format': 'ecsv',\n",
    "                           'kernel_fwhm': fwhm_pix,\n",
    "                           'nclip': 5,\n",
    "                           # based on DebugReproduceTweakregStep\n",
    "                           'sharplo': 0.3,\n",
    "                           'sharphi': 0.9,\n",
    "                           'roundlo': -0.25,\n",
    "                           'roundhi': 0.25,\n",
    "                           #'searchrad': 4.0,\n",
    "                           #'xoffset': -6.0,\n",
    "                           'separation': 0.5, # minimum separation; default is 1\n",
    "                           'searchrad': 5,\n",
    "                           'save_results': True,\n",
    "                           'skip': False,\n",
    "                           # 'clip_accum': True, # https://github.com/spacetelescope/tweakwcs/pull/169/files\n",
    "                            \n",
    "                           })\n",
    "\n",
    "log.info(f\"Running tweakreg ({module})\")\n",
    "calwebb_image3.Image3Pipeline.call(\n",
    "    asn_file_each,\n",
    "    steps={'tweakreg': tweakreg_parameters},\n",
    "    output_dir=output_dir,\n",
    "    save_results=True)\n",
    "print(f\"DONE running {asn_file_each}\")"
   ]
  },
  {
   "cell_type": "code",
   "execution_count": 29,
   "id": "5a1846c5-31ac-4b88-bee1-6913df862baf",
   "metadata": {
    "tags": []
   },
   "outputs": [],
   "source": [
    "proposal_id = '2221'"
   ]
  },
  {
   "cell_type": "code",
   "execution_count": 52,
   "id": "e3d770ed-ae71-4ede-93db-9760be2abdee",
   "metadata": {
    "tags": []
   },
   "outputs": [
    {
     "name": "stderr",
     "output_type": "stream",
     "text": [
      "2023-10-10 13:31:10,227 - stpipe - INFO - Kept 7752 out of 9945 VVV stars using ksmag_limit>11\n"
     ]
    },
    {
     "name": "stdout",
     "output_type": "stream",
     "text": [
      "INFO: Kept 7752 out of 9945 VVV stars using ksmag_limit>11 [align_to_catalogs]\n"
     ]
    },
    {
     "name": "stderr",
     "output_type": "stream",
     "text": [
      "2023-10-10 13:31:12,165 - stpipe - INFO - For f405n nrca 002 catalog /orange/adamginsburg/jwst/cloudc//F405N/pipeline/jw02221-o002_t001_nircam_clear-f405n-nrca_cat.ecsv, found 7061 of 9861 sources meeting criteria mag<15\n"
     ]
    },
    {
     "name": "stdout",
     "output_type": "stream",
     "text": [
      "INFO: For f405n nrca 002 catalog /orange/adamginsburg/jwst/cloudc//F405N/pipeline/jw02221-o002_t001_nircam_clear-f405n-nrca_cat.ecsv, found 7061 of 9861 sources meeting criteria mag<15 [align_to_catalogs]\n",
      "2023-10-10T13:31:12.689981: Before realignment, offset is -0.054412538065662375 arcsec, -0.007279172132257372 arcsec.  Found 2405 matches.\n",
      "2023-10-10T13:31:12.694523: CRVAL before 266.5901708101073 -28.565669430343224\n",
      "2023-10-10T13:31:12.698772: CRVAL after 266.59040814692 -28.564389630573\n",
      "2023-10-10T13:31:12.886787: After realignment, offset is -0.0014771950191061478 arcsec, -0.0002991540902996803 arcsec with 2400 mathces\n"
     ]
    },
    {
     "name": "stderr",
     "output_type": "stream",
     "text": [
      "2023-10-10 13:31:13,010 - stpipe - WARNING - /scratch/local/12171132/ipykernel_971263/2558443114.py:4: ResourceWarning: unclosed file <_io.BufferedReader name='/orange/adamginsburg/jwst/cloudc//F405N/pipeline/jw02221-o002_t001_nircam_clear-f405n-nrca_realigned-to-vvv.fits'>\n",
      "  realigned = realign_to_vvv(filtername=filtername.lower(), fov_regname=fov_regname[regionname], basepath=basepath, module=module, fieldnumber=field,\n",
      "\n"
     ]
    },
    {
     "name": "stdout",
     "output_type": "stream",
     "text": [
      "2023-10-10T13:31:12.908181: After re-realignment, offset is -0.0014771950191061478 arcsec, -0.0002991540902996803 arcsec using 2400 matches\n"
     ]
    }
   ],
   "source": [
    "realigned_vvv_filename = f'{basepath}/{filtername.upper()}/pipeline/jw0{proposal_id}-o{field}_t001_nircam_clear-{filtername.lower()}-{module}_realigned-to-vvv.fits'\n",
    "shutil.copy(f'{basepath}/{filtername.upper()}/pipeline/jw0{proposal_id}-o{field}_t001_nircam_clear-{filtername.lower()}-{module}_i2d.fits',\n",
    "            realigned_vvv_filename)\n",
    "realigned = realign_to_vvv(filtername=filtername.lower(), fov_regname=fov_regname[regionname], basepath=basepath, module=module, fieldnumber=field,\n",
    "                           imfile=realigned_vvv_filename, ksmag_limit=15 if filtername=='f410m' else 11, mag_limit=15, #max_offset=3*u.arcsec)\n",
    "                           decoffset=-4.6*u.arcsec, raoffset=-0.8*u.arcsec)"
   ]
  },
  {
   "cell_type": "raw",
   "id": "57fbb10a-82e2-42e9-aace-09ebc0553330",
   "metadata": {},
   "source": [
    "# NRCB \n",
    "decoffset=-2.9*u.arcsec\n",
    "raoffset=-0.7*u.arcsec\n",
    "# NRCA\n",
    "decoffset=-4.6*u.arcsec\n",
    "raoffset=-0.8*u.arcsec"
   ]
  },
  {
   "cell_type": "code",
   "execution_count": 65,
   "id": "3cffb778-1569-4695-acf4-148ab4343531",
   "metadata": {
    "tags": []
   },
   "outputs": [
    {
     "data": {
      "text/plain": [
       "'merged'"
      ]
     },
     "execution_count": 65,
     "metadata": {},
     "output_type": "execute_result"
    }
   ],
   "source": [
    "module"
   ]
  },
  {
   "cell_type": "code",
   "execution_count": 79,
   "id": "14708976-01cf-4a66-b8d1-58338e4e2cac",
   "metadata": {
    "tags": []
   },
   "outputs": [],
   "source": [
    "\n"
   ]
  },
  {
   "cell_type": "code",
   "execution_count": 76,
   "id": "d0492475-e0e7-407e-8249-19d1a162132e",
   "metadata": {
    "tags": []
   },
   "outputs": [],
   "source": [
    "pix_coords = {'nrca': (3904, 869), 'nrcb': (1119, 832), 'merged': (3903, 868)}"
   ]
  },
  {
   "cell_type": "code",
   "execution_count": 80,
   "id": "f219a89c-27ca-4b65-a9a9-09c9f6a8f71d",
   "metadata": {
    "tags": []
   },
   "outputs": [],
   "source": [
    "star_coord = SkyCoord(266.594893*u.deg, -28.587417*u.deg)"
   ]
  },
  {
   "cell_type": "code",
   "execution_count": 81,
   "id": "b464fb1b-167a-4499-b20c-1bc468c38e0d",
   "metadata": {
    "tags": []
   },
   "outputs": [
    {
     "name": "stderr",
     "output_type": "stream",
     "text": [
      "2023-10-11 16:41:20,059 - stpipe - WARNING - /scratch/local/12171132/ipykernel_971263/862747135.py:2: ResourceWarning: unclosed file <_io.BufferedReader name='/orange/adamginsburg/jwst/cloudc//F405N/pipeline/jw02221-o002_t001_nircam_clear-f405n-merged_i2d.fits'>\n",
      "  f = fits.open(fn)\n",
      "\n"
     ]
    }
   ],
   "source": [
    "fn = f'{basepath}/{filtername.upper()}/pipeline/jw0{proposal_id}-o{field}_t001_nircam_clear-{filtername.lower()}-{module}_i2d.fits'\n",
    "f = fits.open(fn)\n",
    "w = WCS(f['SCI'].header)\n",
    "sky = w.pixel_to_world(pix_coords[module][0], pix_coords[module][1])\n",
    "decoffset = sky.dec - star_coord.dec\n",
    "raoffset = sky.ra - star_coord.ra"
   ]
  },
  {
   "cell_type": "code",
   "execution_count": 82,
   "id": "62e508cc-f7d2-4c34-9651-a2879c82fcec",
   "metadata": {
    "tags": []
   },
   "outputs": [
    {
     "name": "stderr",
     "output_type": "stream",
     "text": [
      "2023-10-11 16:42:12,260 - stpipe - INFO - For f405n merged 002 catalog /orange/adamginsburg/jwst/cloudc//F405N/pipeline/jw02221-o002_t001_nircam_clear-f405n-merged_cat.ecsv, found 16435 of 16492 sources meeting criteria mag<20\n"
     ]
    },
    {
     "name": "stdout",
     "output_type": "stream",
     "text": [
      "INFO: For f405n merged 002 catalog /orange/adamginsburg/jwst/cloudc//F405N/pipeline/jw02221-o002_t001_nircam_clear-f405n-merged_cat.ecsv, found 16435 of 16492 sources meeting criteria mag<20 [align_to_catalogs]\n",
      "2023-10-11T16:42:13.382681: Before realignment, offset is -0.06150782595568671 arcsec, -0.039301825007242996 arcsec.  Found 4774 matches.\n",
      "2023-10-11T16:42:13.391754: CRVAL before 266.5869885625818 -28.589893462360422\n",
      "2023-10-11T16:42:13.565613: CRVAL after 266.58745300272 -28.58861602275\n"
     ]
    },
    {
     "name": "stderr",
     "output_type": "stream",
     "text": [
      "2023-10-11 16:42:13,775 - stpipe - WARNING - /scratch/local/12171132/ipykernel_971263/1682818600.py:4: ResourceWarning: unclosed file <_io.BufferedReader name='/orange/adamginsburg/jwst/cloudc//F405N/pipeline/jw02221-o002_t001_nircam_clear-f405n-merged_realigned-to-refcat.fits'>\n",
      "  realigned = realign_to_catalog(reftbl['skycoord'],\n",
      "\n"
     ]
    },
    {
     "name": "stdout",
     "output_type": "stream",
     "text": [
      "2023-10-11T16:42:13.715374: After realignment, offset is -0.0016962530708042323 arcsec, -0.002012817598995298 arcsec with 4783 mathces\n",
      "2023-10-11T16:42:13.773119: After re-realignment, offset is -0.0016962530708042323 arcsec, -0.002012817598995298 arcsec using 4783 matches\n"
     ]
    }
   ],
   "source": [
    "realigned_refcat_filename = f'{basepath}/{filtername.upper()}/pipeline/jw0{proposal_id}-o{field}_t001_nircam_clear-{filtername.lower()}-{module}_realigned-to-refcat.fits'\n",
    "shutil.copy(f'{basepath}/{filtername.upper()}/pipeline/jw0{proposal_id}-o{field}_t001_nircam_clear-{filtername.lower()}-{module}_i2d.fits',\n",
    "            realigned_refcat_filename)\n",
    "realigned = realign_to_catalog(reftbl['skycoord'],\n",
    "                               filtername=filtername.lower(),\n",
    "                               basepath=basepath, module=module,\n",
    "                               fieldnumber=field,\n",
    "                               mag_limit=20,\n",
    "                               imfile=realigned_refcat_filename,\n",
    "                               raoffset=raoffset, decoffset=decoffset)"
   ]
  },
  {
   "cell_type": "code",
   "execution_count": 83,
   "id": "135bb239-ef41-4612-96ed-3e5ae4105ddd",
   "metadata": {
    "tags": []
   },
   "outputs": [
    {
     "data": {
      "text/plain": [
       "'002'"
      ]
     },
     "execution_count": 83,
     "metadata": {},
     "output_type": "execute_result"
    }
   ],
   "source": [
    "field"
   ]
  },
  {
   "cell_type": "code",
   "execution_count": null,
   "id": "6be75e32-ca0d-4c13-bd02-4c1c71501222",
   "metadata": {},
   "outputs": [],
   "source": []
  },
  {
   "cell_type": "code",
   "execution_count": null,
   "id": "8c2b8dba-d781-4ad4-a3dc-0a67a01be6da",
   "metadata": {},
   "outputs": [],
   "source": []
  },
  {
   "cell_type": "code",
   "execution_count": 18,
   "id": "55224578-fcf3-44f2-94b5-e6e70ee98702",
   "metadata": {
    "collapsed": true,
    "jupyter": {
     "outputs_hidden": true
    },
    "tags": []
   },
   "outputs": [
    {
     "name": "stdout",
     "output_type": "stream",
     "text": [
      "{\n",
      "  \"asn_type\": \"image3\",\n",
      "  \"asn_rule\": \"candidate_Asn_Lv3Image\",\n",
      "  \"version_id\": \"20230911t112751\",\n",
      "  \"code_version\": \"1.11.4\",\n",
      "  \"degraded_status\": \"No known degraded exposures in association.\",\n",
      "  \"program\": \"02221\",\n",
      "  \"constraints\": \"DMSAttrConstraint({'name': 'program', 'sources': ['program'], 'value': '2221'})\\nDMSAttrConstraint({'name': 'instrument', 'sources': ['instrume'], 'value': 'nircam'})\\nDMSAttrConstraint({'name': 'opt_elem', 'sources': ['filter'], 'value': 'f444w'})\\nDMSAttrConstraint({'name': 'opt_elem2', 'sources': ['pupil'], 'value': 'f405n'})\\nDMSAttrConstraint({'name': 'opt_elem3', 'sources': ['fxd_slit'], 'value': None})\\nDMSAttrConstraint({'name': 'subarray', 'sources': ['subarray'], 'value': 'full'})\\nConstraint_Target({'name': 'target', 'sources': ['targetid'], 'value': '1'})\\nConstraint_Image({'name': 'exp_type', 'sources': ['exp_type'], 'value': 'nrc_image'})\\nDMSAttrConstraint({'name': 'wfsvisit', 'sources': ['visitype'], 'value': 'prime_targeted_fixed'})\\nDMSAttrConstraint({'name': 'bkgdtarg', 'sources': ['bkgdtarg'], 'value': None})\\nConstraint_Obsnum({'name': 'obs_num', 'sources': ['obs_num'], 'value': None})\\nConstraint_TargetAcq({'name': 'target_acq', 'value': 'target_acquisition'})\\nDMSAttrConstraint({'name': 'acq_obsnum', 'sources': ['obs_num'], 'value': <function AsnMixin_Science.__init__.<locals>.<lambda> at 0x2b2229e750d0>})\\nDMSAttrConstraint({'name': 'asn_candidate', 'sources': ['asn_candidate'], 'value': \\\"\\\\\\\\('o002',\\\\\\\\ 'observation'\\\\\\\\)\\\"})\",\n",
      "  \"asn_id\": \"o002\",\n",
      "  \"target\": \"t001\",\n",
      "  \"asn_pool\": \"jw02221_20230911t112751_pool.csv\",\n",
      "  \"products\": [\n",
      "    {\n",
      "      \"name\": \"jw02221-o002_t001_nircam_clear-f405n-nrca\",\n",
      "      \"members\": [\n",
      "        {\n",
      "          \"expname\": \"/orange/adamginsburg/jwst/cloudc/F405N/pipeline/jw02221002001_02201_00001_nrcalong_align.fits\",\n",
      "          \"exptype\": \"science\",\n",
      "          \"exposerr\": \"null\",\n",
      "          \"asn_candidate\": \"[('o002', 'observation')]\"\n",
      "        },\n",
      "        {\n",
      "          \"expname\": \"/orange/adamginsburg/jwst/cloudc/F405N/pipeline/jw02221002001_02201_00002_nrcalong_align.fits\",\n",
      "          \"exptype\": \"science\",\n",
      "          \"exposerr\": \"null\",\n",
      "          \"asn_candidate\": \"[('o002', 'observation')]\"\n",
      "        },\n",
      "        {\n",
      "          \"expname\": \"/orange/adamginsburg/jwst/cloudc/F405N/pipeline/jw02221002001_02201_00003_nrcalong_align.fits\",\n",
      "          \"exptype\": \"science\",\n",
      "          \"exposerr\": \"null\",\n",
      "          \"asn_candidate\": \"[('o002', 'observation')]\"\n",
      "        },\n",
      "        {\n",
      "          \"expname\": \"/orange/adamginsburg/jwst/cloudc/F405N/pipeline/jw02221002001_02201_00004_nrcalong_align.fits\",\n",
      "          \"exptype\": \"science\",\n",
      "          \"exposerr\": \"null\",\n",
      "          \"asn_candidate\": \"[('o002', 'observation')]\"\n",
      "        },\n",
      "        {\n",
      "          \"expname\": \"/orange/adamginsburg/jwst/cloudc/F405N/pipeline/jw02221002001_08201_00001_nrcalong_align.fits\",\n",
      "          \"exptype\": \"science\",\n",
      "          \"exposerr\": \"null\",\n",
      "          \"asn_candidate\": \"[('o002', 'observation')]\"\n",
      "        },\n",
      "        {\n",
      "          \"expname\": \"/orange/adamginsburg/jwst/cloudc/F405N/pipeline/jw02221002001_08201_00002_nrcalong_align.fits\",\n",
      "          \"exptype\": \"science\",\n",
      "          \"exposerr\": \"null\",\n",
      "          \"asn_candidate\": \"[('o002', 'observation')]\"\n",
      "        },\n",
      "        {\n",
      "          \"expname\": \"/orange/adamginsburg/jwst/cloudc/F405N/pipeline/jw02221002001_08201_00003_nrcalong_align.fits\",\n",
      "          \"exptype\": \"science\",\n",
      "          \"exposerr\": \"null\",\n",
      "          \"asn_candidate\": \"[('o002', 'observation')]\"\n",
      "        },\n",
      "        {\n",
      "          \"expname\": \"/orange/adamginsburg/jwst/cloudc/F405N/pipeline/jw02221002001_08201_00004_nrcalong_align.fits\",\n",
      "          \"exptype\": \"science\",\n",
      "          \"exposerr\": \"null\",\n",
      "          \"asn_candidate\": \"[('o002', 'observation')]\"\n",
      "        },\n",
      "        {\n",
      "          \"expname\": \"/orange/adamginsburg/jwst/cloudc/F405N/pipeline/jw02221002002_02201_00001_nrcalong_align.fits\",\n",
      "          \"exptype\": \"science\",\n",
      "          \"exposerr\": \"null\",\n",
      "          \"asn_candidate\": \"[('o002', 'observation')]\"\n",
      "        },\n",
      "        {\n",
      "          \"expname\": \"/orange/adamginsburg/jwst/cloudc/F405N/pipeline/jw02221002002_02201_00002_nrcalong_align.fits\",\n",
      "          \"exptype\": \"science\",\n",
      "          \"exposerr\": \"null\",\n",
      "          \"asn_candidate\": \"[('o002', 'observation')]\"\n",
      "        },\n",
      "        {\n",
      "          \"expname\": \"/orange/adamginsburg/jwst/cloudc/F405N/pipeline/jw02221002002_02201_00003_nrcalong_align.fits\",\n",
      "          \"exptype\": \"science\",\n",
      "          \"exposerr\": \"null\",\n",
      "          \"asn_candidate\": \"[('o002', 'observation')]\"\n",
      "        },\n",
      "        {\n",
      "          \"expname\": \"/orange/adamginsburg/jwst/cloudc/F405N/pipeline/jw02221002002_02201_00004_nrcalong_align.fits\",\n",
      "          \"exptype\": \"science\",\n",
      "          \"exposerr\": \"null\",\n",
      "          \"asn_candidate\": \"[('o002', 'observation')]\"\n",
      "        },\n",
      "        {\n",
      "          \"expname\": \"/orange/adamginsburg/jwst/cloudc/F405N/pipeline/jw02221002002_08201_00001_nrcalong_align.fits\",\n",
      "          \"exptype\": \"science\",\n",
      "          \"exposerr\": \"null\",\n",
      "          \"asn_candidate\": \"[('o002', 'observation')]\"\n",
      "        },\n",
      "        {\n",
      "          \"expname\": \"/orange/adamginsburg/jwst/cloudc/F405N/pipeline/jw02221002002_08201_00002_nrcalong_align.fits\",\n",
      "          \"exptype\": \"science\",\n",
      "          \"exposerr\": \"null\",\n",
      "          \"asn_candidate\": \"[('o002', 'observation')]\"\n",
      "        },\n",
      "        {\n",
      "          \"expname\": \"/orange/adamginsburg/jwst/cloudc/F405N/pipeline/jw02221002002_08201_00003_nrcalong_align.fits\",\n",
      "          \"exptype\": \"science\",\n",
      "          \"exposerr\": \"null\",\n",
      "          \"asn_candidate\": \"[('o002', 'observation')]\"\n",
      "        },\n",
      "        {\n",
      "          \"expname\": \"/orange/adamginsburg/jwst/cloudc/F405N/pipeline/jw02221002002_08201_00004_nrcalong_align.fits\",\n",
      "          \"exptype\": \"science\",\n",
      "          \"exposerr\": \"null\",\n",
      "          \"asn_candidate\": \"[('o002', 'observation')]\"\n",
      "        }\n",
      "      ]\n",
      "    }\n",
      "  ]\n",
      "}\n"
     ]
    }
   ],
   "source": [
    "%%bash\n",
    "module load jq\n",
    "jq . /orange/adamginsburg/jwst/cloudc/F405N/pipeline/jw02221-o002_20230911t112751_image3_00005_nrca_asn.json"
   ]
  },
  {
   "cell_type": "code",
   "execution_count": 26,
   "id": "b24512ba-7098-4e6b-ae2e-bda9123e473f",
   "metadata": {},
   "outputs": [
    {
     "data": {
      "text/plain": [
       "'/orange/adamginsburg/jwst/cloudc/F405N/pipeline/jw02221-o002_20230911t112751_image3_00005_nrcb_asn.json'"
      ]
     },
     "execution_count": 26,
     "metadata": {},
     "output_type": "execute_result"
    }
   ],
   "source": [
    "asn_file_each"
   ]
  },
  {
   "cell_type": "code",
   "execution_count": 12,
   "id": "a508f4bd-fa39-4f1a-8381-c398e672ec5b",
   "metadata": {},
   "outputs": [
    {
     "data": {
      "text/plain": [
       "'/orange/adamginsburg/jwst/cloudc/F405N/pipeline/'"
      ]
     },
     "execution_count": 12,
     "metadata": {},
     "output_type": "execute_result"
    }
   ],
   "source": [
    "output_dir"
   ]
  },
  {
   "cell_type": "code",
   "execution_count": 23,
   "id": "160a4533-572e-4766-b347-c6b561ffbbb7",
   "metadata": {
    "tags": []
   },
   "outputs": [
    {
     "name": "stdout",
     "output_type": "stream",
     "text": [
      "Filename: /orange/adamginsburg/jwst/cloudc/F405N/pipeline/jw02221002001_02201_00001_nrcalong_align.fits\n",
      "No.    Name      Ver    Type      Cards   Dimensions   Format\n",
      "  0  PRIMARY       1 PrimaryHDU     348   ()      \n",
      "  1  SCI           1 ImageHDU       112   (2048, 2048)   float32   \n",
      "  2  ERR           1 ImageHDU        10   (2048, 2048)   float32   \n",
      "  3  DQ            1 ImageHDU        11   (2048, 2048)   int32 (rescales to uint32)   \n",
      "  4  AREA          1 ImageHDU         9   (2048, 2048)   float32   \n",
      "  5  VAR_POISSON    1 ImageHDU         9   (2048, 2048)   float32   \n",
      "  6  VAR_RNOISE    1 ImageHDU         9   (2048, 2048)   float32   \n",
      "  7  VAR_FLAT      1 ImageHDU         9   (2048, 2048)   float32   \n",
      "  8  ASDF          1 BinTableHDU     11   1R x 1C   [24978B]   \n"
     ]
    }
   ],
   "source": [
    "fits.open(\"/orange/adamginsburg/jwst/cloudc/F405N/pipeline/jw02221002001_02201_00001_nrcalong_align.fits\").info()"
   ]
  },
  {
   "cell_type": "code",
   "execution_count": 24,
   "id": "bbfc444a-4f7d-415d-a556-30b26823b9db",
   "metadata": {
    "tags": []
   },
   "outputs": [
    {
     "data": {
      "text/plain": [
       "XTENSION= 'BINTABLE'           / binary table extension                         \n",
       "BITPIX  =                    8 / array data type                                \n",
       "NAXIS   =                    2 / number of array dimensions                     \n",
       "NAXIS1  =                24978 / length of dimension 1                          \n",
       "NAXIS2  =                    1 / length of dimension 2                          \n",
       "PCOUNT  =                    0 / number of group parameters                     \n",
       "GCOUNT  =                    1 / number of groups                               \n",
       "TFIELDS =                    1 / number of table fields                         \n",
       "TTYPE1  = 'ASDF_METADATA'                                                       \n",
       "TFORM1  = '24978B  '                                                            \n",
       "EXTNAME = 'ASDF    '           / extension name                                 "
      ]
     },
     "execution_count": 24,
     "metadata": {},
     "output_type": "execute_result"
    }
   ],
   "source": [
    "fits.getheader(\"/orange/adamginsburg/jwst/cloudc/F405N/pipeline/jw02221002001_02201_00001_nrcalong_align.fits\")"
   ]
  },
  {
   "cell_type": "code",
   "execution_count": 25,
   "id": "28f66569-7491-4199-8728-704579bc1b9d",
   "metadata": {
    "tags": []
   },
   "outputs": [],
   "source": [
    "file_w = \"/orange/adamginsburg/jwst/cloudc/F405N/pipeline/jw02221002001_02201_00001_nrcalong_align.fits\""
   ]
  },
  {
   "cell_type": "code",
   "execution_count": 26,
   "id": "6d64888f-4e2a-4bff-8da1-63c68bdee058",
   "metadata": {
    "tags": []
   },
   "outputs": [],
   "source": [
    "import stdatamodels.jwst.datamodels as dm\n",
    "input_model = dm.open(file_w)"
   ]
  },
  {
   "cell_type": "code",
   "execution_count": 31,
   "id": "577057e7-6b18-4d05-8475-4dca1bdcf0ae",
   "metadata": {
    "tags": []
   },
   "outputs": [],
   "source": [
    "import asdf"
   ]
  },
  {
   "cell_type": "code",
   "execution_count": 35,
   "id": "c91baca5-0445-4790-9874-086b3faba659",
   "metadata": {
    "tags": []
   },
   "outputs": [
    {
     "data": {
      "text/plain": [
       "<asdf.fits_embed.AsdfInFits at 0x14d0a2caf220>"
      ]
     },
     "execution_count": 35,
     "metadata": {},
     "output_type": "execute_result"
    }
   ],
   "source": [
    "asdf.open(file_w)"
   ]
  },
  {
   "cell_type": "code",
   "execution_count": 36,
   "id": "e052384c-1737-42ee-a8ab-4ae120bb6f88",
   "metadata": {
    "tags": []
   },
   "outputs": [],
   "source": [
    "gwcs = asdf.open(file_w).tree['meta']['wcs']"
   ]
  },
  {
   "cell_type": "code",
   "execution_count": 39,
   "id": "626a5325-a723-4469-8826-cc689fb7af7b",
   "metadata": {
    "collapsed": true,
    "jupyter": {
     "outputs_hidden": true
    },
    "tags": []
   },
   "outputs": [
    {
     "data": {
      "text/plain": [
       "XTENSION= 'IMAGE   '           / Image extension                                \n",
       "BITPIX  =                  -32 / array data type                                \n",
       "NAXIS   =                    2 / number of array dimensions                     \n",
       "NAXIS1  =                 2048                                                  \n",
       "NAXIS2  =                 2048                                                  \n",
       "PCOUNT  =                    0 / number of parameters                           \n",
       "GCOUNT  =                    1 / number of groups                               \n",
       "EXTNAME = 'SCI     '           / extension name                                 \n",
       "MJD-BEG =    60049.63077923785 / [d] exposure start time in MJD                 \n",
       "MJD-AVG =    60049.63108990827 / [d] exposure mid-point in MJD                  \n",
       "MJD-END =    60049.63140057871 / [d] exposure end time in MJD                   \n",
       "TDB-BEG =    60049.62712636175 / [d] TDB time of exposure start in MJD          \n",
       "TDB-MID =    60049.62743703241 / [d] TDB time of exposure mid-point in MJD      \n",
       "TDB-END =    60049.62774770308 / [d] TDB time of exposure end in MJD            \n",
       "XPOSURE =               42.947 / [s] Effective exposure time                    \n",
       "TELAPSE =               42.947 / [s] Total elapsed exposure time                \n",
       "                                                                                \n",
       "        JWST ephemeris information                                              \n",
       "                                                                                \n",
       "REFFRAME= 'EME2000 '           / Ephemeris reference frame                      \n",
       "EPH_TYPE= 'Predicted'          / Definitive or Predicted                        \n",
       "EPH_TIME=    60049.63055555556 / [d] MJD time of position and velocity vectors  \n",
       "JWST_X  =   -138174969.8012117 / [km] barycentric JWST X coordinate at MJD_AVG  \n",
       "JWST_Y  =   -59407771.35967701 / [km] barycentric JWST Y coordinate at MJD_AVG  \n",
       "JWST_Z  =   -25385258.12809015 / [km] barycentric JWST Z coordinate at MJD_AVG  \n",
       "OBSGEO-X=    -911467383.590055 / [m] geocentric JWST X coordinate at MJD_AVG    \n",
       "OBSGEO-Y=    -931401076.640298 / [m] geocentric JWST Y coordinate at MJD_AVG    \n",
       "OBSGEO-Z=    -72349175.0385962 / [m] geocentric JWST Z coordinate at MJD_AVG    \n",
       "JWST_DX =    12.40519204385002 / [km/s] barycentric JWST X velocity at MJD_AVG  \n",
       "JWST_DY =   -25.24704046184067 / [km/s] barycentric JWST Y velocity at MJD_AVG  \n",
       "JWST_DZ =   -11.03634965885119 / [km/s] barycentric JWST Z velocity at MJD_AVG  \n",
       "OBSGEODX=     268.353045242972 / [m/s] geocentric JWST X velocity at MJD_AVG    \n",
       "OBSGEODY=    -364.103022032349 / [m/s] geocentric JWST Y velocity at MJD_AVG    \n",
       "OBSGEODZ=    -249.313169156134 / [m/s] geocentric JWST Z velocity at MJD_AVG    \n",
       "PA_APER =    275.4044323374529 / [deg] Position angle of aperture used          \n",
       "VA_SCALE=    1.000089271181079 / Velocity aberration scale factor               \n",
       "BUNIT   = 'MJy/sr  '           / physical units of the array values             \n",
       "                                                                                \n",
       "        Photometry information                                                  \n",
       "                                                                                \n",
       "PHOTMJSR=    10.92240047454834 / Flux density (MJy/steradian) producing 1 cps   \n",
       "PHOTUJA2=   256.72480327423125 / Flux density (uJy/arcsec2) producing 1 cps     \n",
       "PIXAR_SR= 9.20944023299612E-14 / Nominal pixel area in steradians               \n",
       "PIXAR_A2= 0.003918172030450555 / Nominal pixel area in arcsec^2                 \n",
       "                                                                                \n",
       "        Information about the coordinates in the file                           \n",
       "                                                                                \n",
       "RADESYS = 'ICRS    '           / Name of the coordinate reference frame         \n",
       "                                                                                \n",
       "        Spacecraft pointing information                                         \n",
       "                                                                                \n",
       "RA_V1   =    266.4257562350645 / [deg] RA of telescope V1 axis                  \n",
       "DEC_V1  =   -28.60417439305317 / [deg] Dec of telescope V1 axis                 \n",
       "PA_V3   =    275.5349381993506 / [deg] Position angle of telescope V3 axis      \n",
       "                                                                                \n",
       "        WCS parameters                                                          \n",
       "                                                                                \n",
       "WCSAXES =                    2 / number of World Coordinate System axes         \n",
       "CRPIX1  =     1150.70755149344 / axis 1 coordinate of the reference pixel       \n",
       "CRPIX2  =   1019.7073081711352 / axis 2 coordinate of the reference pixel       \n",
       "CRVAL1  =      266.58377837707 / first axis value at the reference pixel        \n",
       "CRVAL2  =     -28.593542796145 / second axis value at the reference pixel       \n",
       "CTYPE1  = 'RA---TAN-SIP'       / Axis 1 type                                    \n",
       "CTYPE2  = 'DEC--TAN-SIP'       / Axis 2 type                                    \n",
       "CUNIT1  = 'deg     '           / Axis 1 units                                   \n",
       "CUNIT2  = 'deg     '           / Axis 2 units                                   \n",
       "CD1_1   = -1.6147504428999E-06 / linear transformation matrix element, CD matrix\n",
       "CD1_2   = -1.7440417503342E-05 / linear transformation matrix element, CD matrix\n",
       "CD2_1   = -1.7358658268799E-05 / linear transformation matrix element, CD matrix\n",
       "CD2_2   =  1.6505176571172E-06 / linear transformation matrix element, CD matrix\n",
       "S_REGION= 'POLYGON ICRS  266.606050232 -28.577195186 266.565335404 &'           \n",
       "CONTINUE  '-28.574240822 266.561446466 -28.609483027 266.602384298 &'           \n",
       "CONTINUE  '-28.613314185&'                                                      \n",
       "CONTINUE  '' / spatial extent of the observation                                \n",
       "V2_REF  =            85.939298 / [arcsec] Telescope V2 coord of reference point \n",
       "V3_REF  =          -493.510653 / [arcsec] Telescope V3 coord of reference point \n",
       "VPARITY =                   -1 / Relative sense of rotation between Ideal xy and\n",
       "V3I_YANG=            -0.054893 / [deg] Angle from V3 axis to Ideal y axis       \n",
       "RA_REF  =    266.5837788616415 / [deg] Right ascension of the reference point   \n",
       "DEC_REF =    -28.5935444649259 / [deg] Declination of the reference point       \n",
       "ROLL_REF=    275.4593253374529 / [deg] V3 roll angle at the ref point (N over E)\n",
       "VELOSYS =            -26746.77 / [m/s] Barycentric correction to radial velocity\n",
       "A_ORDER =                    3 / Degree of forward SIP polynomial               \n",
       "B_ORDER =                    3 / Degree of forward SIP polynomial               \n",
       "AP_ORDER=                    3 / Degree of inverse SIP polynomial               \n",
       "BP_ORDER=                    3 / Degree of inverse SIP polynomial               \n",
       "A_0_2   = -1.5440575551828E-06 / SIP coefficient, forward transform             \n",
       "A_0_3   = 1.15793922893645E-11 / SIP coefficient, forward transform             \n",
       "A_1_1   = -1.1657998972671E-05 / SIP coefficient, forward transform             \n",
       "A_1_2   = 1.80067625942526E-09 / SIP coefficient, forward transform             \n",
       "A_2_0   = 1.87604891096353E-06 / SIP coefficient, forward transform             \n",
       "A_2_1   = -3.4178616980005E-11 / SIP coefficient, forward transform             \n",
       "A_3_0   = 1.65740502190648E-09 / SIP coefficient, forward transform             \n",
       "B_0_2   = -6.7559924708676E-06 / SIP coefficient, forward transform             \n",
       "B_0_3   = 1.72742759699642E-09 / SIP coefficient, forward transform             \n",
       "B_1_1   = 3.58632127583912E-06 / SIP coefficient, forward transform             \n",
       "B_1_2   = -5.9747663443550E-11 / SIP coefficient, forward transform             \n",
       "B_2_0   = 4.98358722324378E-06 / SIP coefficient, forward transform             \n",
       "B_2_1   = 1.69037445833678E-09 / SIP coefficient, forward transform             \n",
       "B_3_0   = -3.4542585514981E-12 / SIP coefficient, forward transform             \n",
       "AP_0_2  = 1.53719028490080E-06 / SIP coefficient, inverse transform             \n",
       "AP_0_3  = 2.67396320179693E-11 / SIP coefficient, inverse transform             \n",
       "AP_1_1  = 1.15376966087618E-05 / SIP coefficient, inverse transform             \n",
       "AP_1_2  = -1.5820190827590E-09 / SIP coefficient, inverse transform             \n",
       "AP_2_0  = -1.8584220194576E-06 / SIP coefficient, inverse transform             \n",
       "AP_2_1  = -8.7767772736835E-11 / SIP coefficient, inverse transform             \n",
       "AP_3_0  = -1.6886941931328E-09 / SIP coefficient, inverse transform             \n",
       "BP_0_2  = 6.69153997907503E-06 / SIP coefficient, inverse transform             \n",
       "BP_0_3  = -1.6232948457925E-09 / SIP coefficient, inverse transform             \n",
       "BP_1_1  = -3.5487798690420E-06 / SIP coefficient, inverse transform             \n",
       "BP_1_2  = -6.9625414357425E-11 / SIP coefficient, inverse transform             \n",
       "BP_2_0  = -4.9630750747563E-06 / SIP coefficient, inverse transform             \n",
       "BP_2_1  = -1.8305012329320E-09 / SIP coefficient, inverse transform             \n",
       "BP_3_0  = 3.89719405892731E-11 / SIP coefficient, inverse transform             \n",
       "EXTVER  =                    1 / extension value                                "
      ]
     },
     "execution_count": 39,
     "metadata": {},
     "output_type": "execute_result"
    }
   ],
   "source": [
    "fits.getheader(file_w, ext=1)"
   ]
  },
  {
   "cell_type": "code",
   "execution_count": 37,
   "id": "6ff49957-7b1c-449b-b910-bd99cd748d06",
   "metadata": {
    "collapsed": true,
    "jupyter": {
     "outputs_hidden": true
    },
    "tags": []
   },
   "outputs": [
    {
     "data": {
      "text/plain": [
       "<WCS(output_frame=world, input_frame=detector, forward_transform=Model: CompoundModel\n",
       "Inputs: ('x0', 'x1')\n",
       "Outputs: ('lon', 'lat')\n",
       "Model set size: 1\n",
       "Expression: [0] & [1] | [2] & [3] | [4] & [5] | [6] | [7] & [8] | [9] | [10] & [11] | [12] & [13] | [14] & [15] | [16] & [17] | [18] & [19] | [20] | [21] | [22]\n",
       "Components: \n",
       "    [0]: <Shift(offset=-0.093)>\n",
       "\n",
       "    [1]: <Shift(offset=0.033)>\n",
       "\n",
       "    [2]: <Shift(offset=1.)>\n",
       "\n",
       "    [3]: <Shift(offset=1.)>\n",
       "\n",
       "    [4]: <Shift(offset=-1024.5)>\n",
       "\n",
       "    [5]: <Shift(offset=-1024.5)>\n",
       "\n",
       "    [6]: <Mapping((0, 1, 0, 1))>\n",
       "\n",
       "    [7]: <Polynomial2D(5, c0_0=0., c1_0=0.06275847, c2_0=0.00000012, c3_0=0., c4_0=-0., c5_0=0., c0_1=-0., c0_2=-0.0000001, c0_3=-0., c0_4=0., c0_5=0., c1_1=-0.00000073, c1_2=0., c1_3=-0., c1_4=0., c2_1=-0., c2_2=0., c2_3=0., c3_1=-0., c3_2=0., c4_1=0.)>\n",
       "\n",
       "    [8]: <Polynomial2D(5, c0_0=0., c1_0=-0.00009902, c2_0=0.00000031, c3_0=0., c4_0=0., c5_0=-0., c0_1=0.06306468, c0_2=-0.00000042, c0_3=0., c0_4=-0., c0_5=0., c1_1=0.00000023, c1_2=-0., c1_3=0., c1_4=-0., c2_1=0., c2_2=-0., c2_3=0., c3_1=0., c3_2=-0., c4_1=0.)>\n",
       "\n",
       "    [9]: <Mapping((0, 1, 0, 1))>\n",
       "\n",
       "    [10]: <Polynomial2D(1, c0_0=0., c1_0=-0.99999954, c0_1=-0.00095806)>\n",
       "\n",
       "    [11]: <Polynomial2D(1, c0_0=0., c1_0=-0.00095806, c0_1=0.99999954)>\n",
       "\n",
       "    [12]: <Shift(offset=85.9392976)>\n",
       "\n",
       "    [13]: <Shift(offset=-493.5106528)>\n",
       "\n",
       "    [14]: <Scale(factor=1.00008927, name='dva_scale_v2')>\n",
       "\n",
       "    [15]: <Scale(factor=1.00008927, name='dva_scale_v3')>\n",
       "\n",
       "    [16]: <Shift(offset=-0.0076719, name='dva_v2_shift')>\n",
       "\n",
       "    [17]: <Shift(offset=0.04405628, name='dva_v3_shift')>\n",
       "\n",
       "    [18]: <Scale(factor=0.00027778)>\n",
       "\n",
       "    [19]: <Scale(factor=0.00027778)>\n",
       "\n",
       "    [20]: <SphericalToCartesian()>\n",
       "\n",
       "    [21]: <RotationSequence3D(angles=[   0.02387203,    0.13708629,  275.45932534,  -28.59354446, -266.58377886])>\n",
       "\n",
       "    [22]: <CartesianToSpherical()>\n",
       "Parameters:\n",
       "    offset_0 offset_1 offset_2 offset_3 offset_4 ...      offset_17             factor_18             factor_19                       angles_21                \n",
       "    -------- -------- -------- -------- -------- ... -------------------- --------------------- --------------------- -----------------------------------------\n",
       "      -0.093    0.033      1.0      1.0  -1024.5 ... 0.044056278868344734 0.0002777777777777778 0.0002777777777777778 0.02387202722222222 .. -266.5837788616415)>"
      ]
     },
     "execution_count": 37,
     "metadata": {},
     "output_type": "execute_result"
    }
   ],
   "source": [
    "gwcs"
   ]
  },
  {
   "cell_type": "code",
   "execution_count": 12,
   "id": "2881cb30-dabe-44a5-aede-1d93eb186c6d",
   "metadata": {
    "tags": []
   },
   "outputs": [
    {
     "data": {
      "text/plain": [
       "'/orange/adamginsburg/jwst/cloudc//F405N/pipeline/jw02221-o002_t001_nircam_clear-F405N-merged_vvvcat.ecsv'"
      ]
     },
     "execution_count": 12,
     "metadata": {},
     "output_type": "execute_result"
    }
   ],
   "source": [
    "abs_refcat"
   ]
  },
  {
   "cell_type": "code",
   "execution_count": 13,
   "id": "9672734c-d5dc-4fc3-884a-710a8649a026",
   "metadata": {
    "tags": []
   },
   "outputs": [
    {
     "name": "stderr",
     "output_type": "stream",
     "text": [
      "2023-09-25 11:20:21,303 - stpipe.TweakRegStep - INFO - TweakRegStep instance created.\n",
      "2023-09-25 11:20:21,406 - stpipe.TweakRegStep - INFO - Step TweakRegStep running with args ('/orange/adamginsburg/jwst/cloudc/F405N/pipeline/jw02221-o002_20230911t112751_image3_00005_nrcb_asn.json',).\n",
      "2023-09-25 11:20:21,409 - stpipe.TweakRegStep - INFO - Step TweakRegStep parameters are: {'pre_hooks': [], 'post_hooks': [], 'output_file': None, 'output_dir': '/orange/adamginsburg/jwst/cloudc/F405N/pipeline/', 'output_ext': '.fits', 'output_use_model': True, 'output_use_index': True, 'save_results': True, 'skip': False, 'suffix': None, 'search_output_file': True, 'input_dir': '', 'save_catalogs': True, 'use_custom_catalogs': False, 'catalog_format': 'ecsv', 'catfile': '', 'kernel_fwhm': 2.165, 'snr_threshold': 30, 'sharplo': 0.3, 'sharphi': 0.9, 'roundlo': -0.25, 'roundhi': 0.25, 'brightest': 500, 'peakmax': None, 'bkg_boxsize': 400, 'enforce_user_order': False, 'expand_refcat': False, 'minobj': 15, 'searchrad': 5, 'use2dhist': True, 'separation': 0.5, 'tolerance': 0.7, 'xoffset': 0.0, 'yoffset': 0.0, 'fitgeometry': 'general', 'nclip': 5, 'sigma': 3.0, 'abs_refcat': '/orange/adamginsburg/jwst/cloudc//F405N/pipeline/jw02221-o002_t001_nircam_clear-F405N-merged_vvvcat.ecsv', 'save_abs_catalog': False, 'abs_minobj': 15, 'abs_searchrad': 6.0, 'abs_use2dhist': True, 'abs_separation': 0.1, 'abs_tolerance': 0.7, 'abs_fitgeometry': 'rshift', 'abs_nclip': 3, 'abs_sigma': 3.0}\n",
      "2023-09-25 11:20:21,436 - stpipe.TweakRegStep - WARNING - /blue/adamginsburg/adamginsburg/miniconda3/envs/python39savannah/lib/python3.9/site-packages/jwst/associations/association.py:215: UserWarning: 'expname' contains path, but should only be a filename.  All input files should be in a single directory, so no path is needed.\n",
      "  warnings.warn(err_str, UserWarning)\n",
      "\n",
      "2023-09-25 11:20:24,655 - stpipe.TweakRegStep - WARNING - /blue/adamginsburg/adamginsburg/miniconda3/envs/python39savannah/lib/python3.9/site-packages/photutils/background/background_2d.py:274: AstropyUserWarning: Input data contains invalid values (NaNs or infs), which were automatically masked.\n",
      "  warnings.warn('Input data contains invalid values (NaNs or '\n",
      "\n",
      "2023-09-25 11:20:26,448 - stpipe.TweakRegStep - INFO - Detected 500 sources in jw02221002001_02201_00001_nrcblong_align.fits.\n",
      "2023-09-25 11:20:26,471 - stpipe.TweakRegStep - INFO - Wrote source catalog: jw02221002001_02201_00001_nrcblong_align_cat.ecsv\n",
      "2023-09-25 11:20:26,491 - stpipe.TweakRegStep - WARNING - /blue/adamginsburg/adamginsburg/miniconda3/envs/python39savannah/lib/python3.9/site-packages/photutils/background/background_2d.py:274: AstropyUserWarning: Input data contains invalid values (NaNs or infs), which were automatically masked.\n",
      "  warnings.warn('Input data contains invalid values (NaNs or '\n",
      "\n",
      "2023-09-25 11:20:27,873 - stpipe.TweakRegStep - INFO - Detected 500 sources in jw02221002001_02201_00002_nrcblong_align.fits.\n",
      "2023-09-25 11:20:27,887 - stpipe.TweakRegStep - INFO - Wrote source catalog: jw02221002001_02201_00002_nrcblong_align_cat.ecsv\n",
      "2023-09-25 11:20:27,906 - stpipe.TweakRegStep - WARNING - /blue/adamginsburg/adamginsburg/miniconda3/envs/python39savannah/lib/python3.9/site-packages/photutils/background/background_2d.py:274: AstropyUserWarning: Input data contains invalid values (NaNs or infs), which were automatically masked.\n",
      "  warnings.warn('Input data contains invalid values (NaNs or '\n",
      "\n",
      "2023-09-25 11:20:29,286 - stpipe.TweakRegStep - INFO - Detected 500 sources in jw02221002001_02201_00003_nrcblong_align.fits.\n",
      "2023-09-25 11:20:29,325 - stpipe.TweakRegStep - INFO - Wrote source catalog: jw02221002001_02201_00003_nrcblong_align_cat.ecsv\n",
      "2023-09-25 11:20:29,343 - stpipe.TweakRegStep - WARNING - /blue/adamginsburg/adamginsburg/miniconda3/envs/python39savannah/lib/python3.9/site-packages/photutils/background/background_2d.py:274: AstropyUserWarning: Input data contains invalid values (NaNs or infs), which were automatically masked.\n",
      "  warnings.warn('Input data contains invalid values (NaNs or '\n",
      "\n",
      "2023-09-25 11:20:30,730 - stpipe.TweakRegStep - INFO - Detected 500 sources in jw02221002001_02201_00004_nrcblong_align.fits.\n",
      "2023-09-25 11:20:30,758 - stpipe.TweakRegStep - INFO - Wrote source catalog: jw02221002001_02201_00004_nrcblong_align_cat.ecsv\n",
      "2023-09-25 11:20:30,777 - stpipe.TweakRegStep - WARNING - /blue/adamginsburg/adamginsburg/miniconda3/envs/python39savannah/lib/python3.9/site-packages/photutils/background/background_2d.py:274: AstropyUserWarning: Input data contains invalid values (NaNs or infs), which were automatically masked.\n",
      "  warnings.warn('Input data contains invalid values (NaNs or '\n",
      "\n",
      "2023-09-25 11:20:32,185 - stpipe.TweakRegStep - INFO - Detected 500 sources in jw02221002001_08201_00001_nrcblong_align.fits.\n",
      "2023-09-25 11:20:32,193 - stpipe.TweakRegStep - INFO - Wrote source catalog: jw02221002001_08201_00001_nrcblong_align_cat.ecsv\n",
      "2023-09-25 11:20:32,211 - stpipe.TweakRegStep - WARNING - /blue/adamginsburg/adamginsburg/miniconda3/envs/python39savannah/lib/python3.9/site-packages/photutils/background/background_2d.py:274: AstropyUserWarning: Input data contains invalid values (NaNs or infs), which were automatically masked.\n",
      "  warnings.warn('Input data contains invalid values (NaNs or '\n",
      "\n",
      "2023-09-25 11:20:33,613 - stpipe.TweakRegStep - INFO - Detected 500 sources in jw02221002001_08201_00002_nrcblong_align.fits.\n",
      "2023-09-25 11:20:33,671 - stpipe.TweakRegStep - INFO - Wrote source catalog: jw02221002001_08201_00002_nrcblong_align_cat.ecsv\n",
      "2023-09-25 11:20:33,695 - stpipe.TweakRegStep - WARNING - /blue/adamginsburg/adamginsburg/miniconda3/envs/python39savannah/lib/python3.9/site-packages/photutils/background/background_2d.py:274: AstropyUserWarning: Input data contains invalid values (NaNs or infs), which were automatically masked.\n",
      "  warnings.warn('Input data contains invalid values (NaNs or '\n",
      "\n",
      "2023-09-25 11:20:35,117 - stpipe.TweakRegStep - INFO - Detected 500 sources in jw02221002001_08201_00003_nrcblong_align.fits.\n",
      "2023-09-25 11:20:35,163 - stpipe.TweakRegStep - INFO - Wrote source catalog: jw02221002001_08201_00003_nrcblong_align_cat.ecsv\n",
      "2023-09-25 11:20:35,182 - stpipe.TweakRegStep - WARNING - /blue/adamginsburg/adamginsburg/miniconda3/envs/python39savannah/lib/python3.9/site-packages/photutils/background/background_2d.py:274: AstropyUserWarning: Input data contains invalid values (NaNs or infs), which were automatically masked.\n",
      "  warnings.warn('Input data contains invalid values (NaNs or '\n",
      "\n",
      "2023-09-25 11:20:36,569 - stpipe.TweakRegStep - INFO - Detected 500 sources in jw02221002001_08201_00004_nrcblong_align.fits.\n",
      "2023-09-25 11:20:36,626 - stpipe.TweakRegStep - INFO - Wrote source catalog: jw02221002001_08201_00004_nrcblong_align_cat.ecsv\n",
      "2023-09-25 11:20:36,644 - stpipe.TweakRegStep - WARNING - /blue/adamginsburg/adamginsburg/miniconda3/envs/python39savannah/lib/python3.9/site-packages/photutils/background/background_2d.py:274: AstropyUserWarning: Input data contains invalid values (NaNs or infs), which were automatically masked.\n",
      "  warnings.warn('Input data contains invalid values (NaNs or '\n",
      "\n",
      "2023-09-25 11:20:38,051 - stpipe.TweakRegStep - INFO - Detected 500 sources in jw02221002002_02201_00001_nrcblong_align.fits.\n",
      "2023-09-25 11:20:38,071 - stpipe.TweakRegStep - INFO - Wrote source catalog: jw02221002002_02201_00001_nrcblong_align_cat.ecsv\n",
      "2023-09-25 11:20:38,090 - stpipe.TweakRegStep - WARNING - /blue/adamginsburg/adamginsburg/miniconda3/envs/python39savannah/lib/python3.9/site-packages/photutils/background/background_2d.py:274: AstropyUserWarning: Input data contains invalid values (NaNs or infs), which were automatically masked.\n",
      "  warnings.warn('Input data contains invalid values (NaNs or '\n",
      "\n",
      "2023-09-25 11:20:39,492 - stpipe.TweakRegStep - INFO - Detected 500 sources in jw02221002002_02201_00002_nrcblong_align.fits.\n",
      "2023-09-25 11:20:39,520 - stpipe.TweakRegStep - INFO - Wrote source catalog: jw02221002002_02201_00002_nrcblong_align_cat.ecsv\n",
      "2023-09-25 11:20:39,538 - stpipe.TweakRegStep - WARNING - /blue/adamginsburg/adamginsburg/miniconda3/envs/python39savannah/lib/python3.9/site-packages/photutils/background/background_2d.py:274: AstropyUserWarning: Input data contains invalid values (NaNs or infs), which were automatically masked.\n",
      "  warnings.warn('Input data contains invalid values (NaNs or '\n",
      "\n",
      "2023-09-25 11:20:40,944 - stpipe.TweakRegStep - INFO - Detected 500 sources in jw02221002002_02201_00003_nrcblong_align.fits.\n",
      "2023-09-25 11:20:40,952 - stpipe.TweakRegStep - INFO - Wrote source catalog: jw02221002002_02201_00003_nrcblong_align_cat.ecsv\n",
      "2023-09-25 11:20:40,971 - stpipe.TweakRegStep - WARNING - /blue/adamginsburg/adamginsburg/miniconda3/envs/python39savannah/lib/python3.9/site-packages/photutils/background/background_2d.py:274: AstropyUserWarning: Input data contains invalid values (NaNs or infs), which were automatically masked.\n",
      "  warnings.warn('Input data contains invalid values (NaNs or '\n",
      "\n",
      "2023-09-25 11:20:42,373 - stpipe.TweakRegStep - INFO - Detected 500 sources in jw02221002002_02201_00004_nrcblong_align.fits.\n",
      "2023-09-25 11:20:42,399 - stpipe.TweakRegStep - INFO - Wrote source catalog: jw02221002002_02201_00004_nrcblong_align_cat.ecsv\n",
      "2023-09-25 11:20:42,417 - stpipe.TweakRegStep - WARNING - /blue/adamginsburg/adamginsburg/miniconda3/envs/python39savannah/lib/python3.9/site-packages/photutils/background/background_2d.py:274: AstropyUserWarning: Input data contains invalid values (NaNs or infs), which were automatically masked.\n",
      "  warnings.warn('Input data contains invalid values (NaNs or '\n",
      "\n",
      "2023-09-25 11:20:43,790 - stpipe.TweakRegStep - INFO - Detected 500 sources in jw02221002002_08201_00001_nrcblong_align.fits.\n",
      "2023-09-25 11:20:43,812 - stpipe.TweakRegStep - INFO - Wrote source catalog: jw02221002002_08201_00001_nrcblong_align_cat.ecsv\n",
      "2023-09-25 11:20:43,831 - stpipe.TweakRegStep - WARNING - /blue/adamginsburg/adamginsburg/miniconda3/envs/python39savannah/lib/python3.9/site-packages/photutils/background/background_2d.py:274: AstropyUserWarning: Input data contains invalid values (NaNs or infs), which were automatically masked.\n",
      "  warnings.warn('Input data contains invalid values (NaNs or '\n",
      "\n",
      "2023-09-25 11:20:45,224 - stpipe.TweakRegStep - INFO - Detected 500 sources in jw02221002002_08201_00002_nrcblong_align.fits.\n",
      "2023-09-25 11:20:45,313 - stpipe.TweakRegStep - INFO - Wrote source catalog: jw02221002002_08201_00002_nrcblong_align_cat.ecsv\n",
      "2023-09-25 11:20:45,333 - stpipe.TweakRegStep - WARNING - /blue/adamginsburg/adamginsburg/miniconda3/envs/python39savannah/lib/python3.9/site-packages/photutils/background/background_2d.py:274: AstropyUserWarning: Input data contains invalid values (NaNs or infs), which were automatically masked.\n",
      "  warnings.warn('Input data contains invalid values (NaNs or '\n",
      "\n",
      "2023-09-25 11:20:46,707 - stpipe.TweakRegStep - INFO - Detected 500 sources in jw02221002002_08201_00003_nrcblong_align.fits.\n",
      "2023-09-25 11:20:46,715 - stpipe.TweakRegStep - INFO - Wrote source catalog: jw02221002002_08201_00003_nrcblong_align_cat.ecsv\n",
      "2023-09-25 11:20:46,733 - stpipe.TweakRegStep - WARNING - /blue/adamginsburg/adamginsburg/miniconda3/envs/python39savannah/lib/python3.9/site-packages/photutils/background/background_2d.py:274: AstropyUserWarning: Input data contains invalid values (NaNs or infs), which were automatically masked.\n",
      "  warnings.warn('Input data contains invalid values (NaNs or '\n",
      "\n",
      "2023-09-25 11:20:48,107 - stpipe.TweakRegStep - INFO - Detected 500 sources in jw02221002002_08201_00004_nrcblong_align.fits.\n",
      "2023-09-25 11:20:48,124 - stpipe.TweakRegStep - INFO - Wrote source catalog: jw02221002002_08201_00004_nrcblong_align_cat.ecsv\n",
      "2023-09-25 11:20:48,147 - stpipe.TweakRegStep - INFO - \n",
      "2023-09-25 11:20:48,148 - stpipe.TweakRegStep - INFO - Number of image groups to be aligned: 16.\n",
      "2023-09-25 11:20:48,149 - stpipe.TweakRegStep - INFO - Image groups:\n",
      "2023-09-25 11:20:48,353 - stpipe.TweakRegStep - INFO - * Images in GROUP 'jw02221002001_02201_00001_nrcblong_align':\n",
      "2023-09-25 11:20:48,354 - stpipe.TweakRegStep - INFO -      jw02221002001_02201_00001_nrcblong_align\n",
      "2023-09-25 11:20:48,372 - stpipe.TweakRegStep - INFO - * Images in GROUP 'jw02221002001_02201_00002_nrcblong_align':\n",
      "2023-09-25 11:20:48,373 - stpipe.TweakRegStep - INFO -      jw02221002001_02201_00002_nrcblong_align\n",
      "2023-09-25 11:20:48,392 - stpipe.TweakRegStep - INFO - * Images in GROUP 'jw02221002001_02201_00003_nrcblong_align':\n",
      "2023-09-25 11:20:48,393 - stpipe.TweakRegStep - INFO -      jw02221002001_02201_00003_nrcblong_align\n",
      "2023-09-25 11:20:48,411 - stpipe.TweakRegStep - INFO - * Images in GROUP 'jw02221002001_02201_00004_nrcblong_align':\n",
      "2023-09-25 11:20:48,412 - stpipe.TweakRegStep - INFO -      jw02221002001_02201_00004_nrcblong_align\n",
      "2023-09-25 11:20:48,430 - stpipe.TweakRegStep - INFO - * Images in GROUP 'jw02221002001_08201_00001_nrcblong_align':\n",
      "2023-09-25 11:20:48,431 - stpipe.TweakRegStep - INFO -      jw02221002001_08201_00001_nrcblong_align\n",
      "2023-09-25 11:20:48,449 - stpipe.TweakRegStep - INFO - * Images in GROUP 'jw02221002001_08201_00002_nrcblong_align':\n",
      "2023-09-25 11:20:48,450 - stpipe.TweakRegStep - INFO -      jw02221002001_08201_00002_nrcblong_align\n",
      "2023-09-25 11:20:48,468 - stpipe.TweakRegStep - INFO - * Images in GROUP 'jw02221002001_08201_00003_nrcblong_align':\n",
      "2023-09-25 11:20:48,469 - stpipe.TweakRegStep - INFO -      jw02221002001_08201_00003_nrcblong_align\n",
      "2023-09-25 11:20:48,488 - stpipe.TweakRegStep - INFO - * Images in GROUP 'jw02221002001_08201_00004_nrcblong_align':\n",
      "2023-09-25 11:20:48,489 - stpipe.TweakRegStep - INFO -      jw02221002001_08201_00004_nrcblong_align\n",
      "2023-09-25 11:20:48,507 - stpipe.TweakRegStep - INFO - * Images in GROUP 'jw02221002002_02201_00001_nrcblong_align':\n",
      "2023-09-25 11:20:48,508 - stpipe.TweakRegStep - INFO -      jw02221002002_02201_00001_nrcblong_align\n",
      "2023-09-25 11:20:48,526 - stpipe.TweakRegStep - INFO - * Images in GROUP 'jw02221002002_02201_00002_nrcblong_align':\n",
      "2023-09-25 11:20:48,527 - stpipe.TweakRegStep - INFO -      jw02221002002_02201_00002_nrcblong_align\n",
      "2023-09-25 11:20:48,546 - stpipe.TweakRegStep - INFO - * Images in GROUP 'jw02221002002_02201_00003_nrcblong_align':\n",
      "2023-09-25 11:20:48,547 - stpipe.TweakRegStep - INFO -      jw02221002002_02201_00003_nrcblong_align\n",
      "2023-09-25 11:20:48,565 - stpipe.TweakRegStep - INFO - * Images in GROUP 'jw02221002002_02201_00004_nrcblong_align':\n",
      "2023-09-25 11:20:48,566 - stpipe.TweakRegStep - INFO -      jw02221002002_02201_00004_nrcblong_align\n",
      "2023-09-25 11:20:48,584 - stpipe.TweakRegStep - INFO - * Images in GROUP 'jw02221002002_08201_00001_nrcblong_align':\n",
      "2023-09-25 11:20:48,585 - stpipe.TweakRegStep - INFO -      jw02221002002_08201_00001_nrcblong_align\n",
      "2023-09-25 11:20:48,736 - stpipe.TweakRegStep - INFO - * Images in GROUP 'jw02221002002_08201_00002_nrcblong_align':\n",
      "2023-09-25 11:20:48,738 - stpipe.TweakRegStep - INFO -      jw02221002002_08201_00002_nrcblong_align\n",
      "2023-09-25 11:20:48,757 - stpipe.TweakRegStep - INFO - * Images in GROUP 'jw02221002002_08201_00003_nrcblong_align':\n",
      "2023-09-25 11:20:48,758 - stpipe.TweakRegStep - INFO -      jw02221002002_08201_00003_nrcblong_align\n",
      "2023-09-25 11:20:48,777 - stpipe.TweakRegStep - INFO - * Images in GROUP 'jw02221002002_08201_00004_nrcblong_align':\n",
      "2023-09-25 11:20:48,778 - stpipe.TweakRegStep - INFO -      jw02221002002_08201_00004_nrcblong_align\n",
      "2023-09-25 11:20:48,778 - stpipe.TweakRegStep - INFO - \n",
      "2023-09-25 11:20:48,779 - stpipe.TweakRegStep - INFO -  \n",
      "2023-09-25 11:20:48,780 - stpipe.TweakRegStep - INFO - ***** tweakwcs.imalign.align_wcs() started on 2023-09-25 11:20:48.779825\n",
      "2023-09-25 11:20:48,781 - stpipe.TweakRegStep - INFO -       Version 0.8.2\n",
      "2023-09-25 11:20:48,782 - stpipe.TweakRegStep - INFO -  \n",
      "2023-09-25 11:21:09,438 - stpipe.TweakRegStep - INFO - Selected image 'GROUP ID: jw02221002002_08201_00002_nrcblong_align' as reference image\n",
      "2023-09-25 11:21:09,444 - stpipe.TweakRegStep - INFO - Aligning image catalog 'GROUP ID: jw02221002002_08201_00004_nrcblong_align' to the reference catalog.\n",
      "2023-09-25 11:21:09,561 - stpipe.TweakRegStep - INFO - Matching sources from 'jw02221002002_08201_00004_nrcblong_align' catalog with sources from the reference 'jw02221002002_08201_00002_nrcblong_align' catalog.\n",
      "2023-09-25 11:21:09,562 - stpipe.TweakRegStep - INFO - Computing initial guess for X and Y shifts...\n",
      "2023-09-25 11:21:09,564 - stpipe.TweakRegStep - INFO - Found initial X and Y shifts of 0.04077, 0.04077 (arcsec) with significance of 257.9 and 262 matches.\n",
      "2023-09-25 11:21:09,566 - stpipe.TweakRegStep - INFO - Found 272 matches for 'GROUP ID: jw02221002002_08201_00004_nrcblong_align'...\n",
      "2023-09-25 11:21:09,567 - stpipe.TweakRegStep - INFO - Performing 'general' fit\n",
      "2023-09-25 11:21:09,571 - stpipe.TweakRegStep - INFO - Computed 'general' fit for GROUP ID: jw02221002002_08201_00004_nrcblong_align:\n",
      "2023-09-25 11:21:09,572 - stpipe.TweakRegStep - INFO - XSH: 0.000791678  YSH: -0.00309176    PROPER ROT: 0.000322937    \n",
      "2023-09-25 11:21:09,573 - stpipe.TweakRegStep - INFO - <ROT>: 0.000322937  SKEW: 0.00396115    ROT_X: -0.00165764  ROT_Y: 0.00230351\n",
      "2023-09-25 11:21:09,573 - stpipe.TweakRegStep - INFO - <SCALE>: 1.00005  SCALE_X: 1.00008  SCALE_Y: 1.00003\n",
      "2023-09-25 11:21:09,574 - stpipe.TweakRegStep - INFO - \n",
      "2023-09-25 11:21:09,575 - stpipe.TweakRegStep - INFO - FIT RMSE: 0.0293164   FIT MAE: 0.00720257\n",
      "2023-09-25 11:21:09,576 - stpipe.TweakRegStep - INFO - Final solution based on 260 objects.\n",
      "2023-09-25 11:21:09,616 - stpipe.TweakRegStep - INFO - Added 230 unmatched sources from 'GROUP ID: jw02221002002_08201_00004_nrcblong_align' to the reference catalog.\n",
      "2023-09-25 11:21:10,903 - stpipe.TweakRegStep - INFO - Aligning image catalog 'GROUP ID: jw02221002002_08201_00001_nrcblong_align' to the reference catalog.\n",
      "2023-09-25 11:21:11,026 - stpipe.TweakRegStep - INFO - Matching sources from 'jw02221002002_08201_00001_nrcblong_align' catalog with sources from the reference 'jw02221002002_08201_00004_nrcblong_align' catalog.\n",
      "2023-09-25 11:21:11,027 - stpipe.TweakRegStep - INFO - Computing initial guess for X and Y shifts...\n",
      "2023-09-25 11:21:11,030 - stpipe.TweakRegStep - INFO - Found initial X and Y shifts of 0.04046, 0.04108 (arcsec) with significance of 396.9 and 409 matches.\n",
      "2023-09-25 11:21:11,032 - stpipe.TweakRegStep - INFO - Found 406 matches for 'GROUP ID: jw02221002002_08201_00001_nrcblong_align'...\n",
      "2023-09-25 11:21:11,033 - stpipe.TweakRegStep - INFO - Performing 'general' fit\n",
      "2023-09-25 11:21:11,037 - stpipe.TweakRegStep - INFO - Computed 'general' fit for GROUP ID: jw02221002002_08201_00001_nrcblong_align:\n",
      "2023-09-25 11:21:11,038 - stpipe.TweakRegStep - INFO - XSH: 0.00167221  YSH: -0.00239995    PROPER ROT: 0.000706532    \n",
      "2023-09-25 11:21:11,039 - stpipe.TweakRegStep - INFO - <ROT>: 0.000706532  SKEW: 0.0020032    ROT_X: -0.000295066  ROT_Y: 0.00170813\n",
      "2023-09-25 11:21:11,040 - stpipe.TweakRegStep - INFO - <SCALE>: 1.00003  SCALE_X: 1.00006  SCALE_Y: 1\n",
      "2023-09-25 11:21:11,041 - stpipe.TweakRegStep - INFO - \n",
      "2023-09-25 11:21:11,041 - stpipe.TweakRegStep - INFO - FIT RMSE: 0.0145897   FIT MAE: 0.00468675\n",
      "2023-09-25 11:21:11,042 - stpipe.TweakRegStep - INFO - Final solution based on 396 objects.\n",
      "2023-09-25 11:21:11,082 - stpipe.TweakRegStep - INFO - Added 96 unmatched sources from 'GROUP ID: jw02221002002_08201_00001_nrcblong_align' to the reference catalog.\n",
      "2023-09-25 11:21:12,264 - stpipe.TweakRegStep - INFO - Aligning image catalog 'GROUP ID: jw02221002002_08201_00003_nrcblong_align' to the reference catalog.\n",
      "2023-09-25 11:21:12,380 - stpipe.TweakRegStep - INFO - Matching sources from 'jw02221002002_08201_00003_nrcblong_align' catalog with sources from the reference 'jw02221002002_08201_00001_nrcblong_align' catalog.\n",
      "2023-09-25 11:21:12,382 - stpipe.TweakRegStep - INFO - Computing initial guess for X and Y shifts...\n",
      "2023-09-25 11:21:12,385 - stpipe.TweakRegStep - INFO - Found initial X and Y shifts of 0.04077, 0.04077 (arcsec) with significance of 439.8 and 454 matches.\n",
      "2023-09-25 11:21:12,386 - stpipe.TweakRegStep - INFO - Found 457 matches for 'GROUP ID: jw02221002002_08201_00003_nrcblong_align'...\n",
      "2023-09-25 11:21:12,387 - stpipe.TweakRegStep - INFO - Performing 'general' fit\n",
      "2023-09-25 11:21:12,391 - stpipe.TweakRegStep - INFO - Computed 'general' fit for GROUP ID: jw02221002002_08201_00003_nrcblong_align:\n",
      "2023-09-25 11:21:12,392 - stpipe.TweakRegStep - INFO - XSH: 0.000485855  YSH: -0.000498396    PROPER ROT: 0.000377818    \n",
      "2023-09-25 11:21:12,393 - stpipe.TweakRegStep - INFO - <ROT>: 0.000377818  SKEW: 0.00184364    ROT_X: -0.000544002  ROT_Y: 0.00129964\n",
      "2023-09-25 11:21:12,394 - stpipe.TweakRegStep - INFO - <SCALE>: 1.00003  SCALE_X: 1.00005  SCALE_Y: 1.00001\n",
      "2023-09-25 11:21:12,395 - stpipe.TweakRegStep - INFO - \n",
      "2023-09-25 11:21:12,396 - stpipe.TweakRegStep - INFO - FIT RMSE: 0.0110004   FIT MAE: 0.00384134\n",
      "2023-09-25 11:21:12,397 - stpipe.TweakRegStep - INFO - Final solution based on 446 objects.\n",
      "2023-09-25 11:21:12,437 - stpipe.TweakRegStep - INFO - Added 49 unmatched sources from 'GROUP ID: jw02221002002_08201_00003_nrcblong_align' to the reference catalog.\n",
      "2023-09-25 11:21:13,350 - stpipe.TweakRegStep - INFO - Aligning image catalog 'GROUP ID: jw02221002002_02201_00004_nrcblong_align' to the reference catalog.\n",
      "2023-09-25 11:21:13,465 - stpipe.TweakRegStep - INFO - Matching sources from 'jw02221002002_02201_00004_nrcblong_align' catalog with sources from the reference 'jw02221002002_08201_00003_nrcblong_align' catalog.\n",
      "2023-09-25 11:21:13,467 - stpipe.TweakRegStep - INFO - Computing initial guess for X and Y shifts...\n",
      "2023-09-25 11:21:13,470 - stpipe.TweakRegStep - INFO - Found initial X and Y shifts of 0.04077, 0.04077 (arcsec) with significance of 213.9 and 219 matches.\n",
      "2023-09-25 11:21:13,472 - stpipe.TweakRegStep - INFO - Found 221 matches for 'GROUP ID: jw02221002002_02201_00004_nrcblong_align'...\n",
      "2023-09-25 11:21:13,473 - stpipe.TweakRegStep - INFO - Performing 'general' fit\n",
      "2023-09-25 11:21:13,476 - stpipe.TweakRegStep - INFO - Computed 'general' fit for GROUP ID: jw02221002002_02201_00004_nrcblong_align:\n",
      "2023-09-25 11:21:13,477 - stpipe.TweakRegStep - INFO - XSH: -0.00687969  YSH: 0.0181368    PROPER ROT: -0.000414366    \n",
      "2023-09-25 11:21:13,478 - stpipe.TweakRegStep - INFO - <ROT>: -0.000414366  SKEW: 0.00411503    ROT_X: -0.00247188  ROT_Y: 0.00164315\n",
      "2023-09-25 11:21:13,479 - stpipe.TweakRegStep - INFO - <SCALE>: 1.00002  SCALE_X: 1.00002  SCALE_Y: 1.00001\n",
      "2023-09-25 11:21:13,480 - stpipe.TweakRegStep - INFO - \n",
      "2023-09-25 11:21:13,481 - stpipe.TweakRegStep - INFO - FIT RMSE: 0.0154152   FIT MAE: 0.00432251\n",
      "2023-09-25 11:21:13,482 - stpipe.TweakRegStep - INFO - Final solution based on 213 objects.\n",
      "2023-09-25 11:21:13,523 - stpipe.TweakRegStep - INFO - Added 285 unmatched sources from 'GROUP ID: jw02221002002_02201_00004_nrcblong_align' to the reference catalog.\n",
      "2023-09-25 11:21:15,449 - stpipe.TweakRegStep - INFO - Aligning image catalog 'GROUP ID: jw02221002002_02201_00002_nrcblong_align' to the reference catalog.\n",
      "2023-09-25 11:21:15,566 - stpipe.TweakRegStep - INFO - Matching sources from 'jw02221002002_02201_00002_nrcblong_align' catalog with sources from the reference 'jw02221002002_02201_00004_nrcblong_align' catalog.\n",
      "2023-09-25 11:21:15,567 - stpipe.TweakRegStep - INFO - Computing initial guess for X and Y shifts...\n",
      "2023-09-25 11:21:15,571 - stpipe.TweakRegStep - INFO - Found initial X and Y shifts of 0.04077, 0.04077 (arcsec) with significance of 358.9 and 369 matches.\n",
      "2023-09-25 11:21:15,573 - stpipe.TweakRegStep - INFO - Found 373 matches for 'GROUP ID: jw02221002002_02201_00002_nrcblong_align'...\n",
      "2023-09-25 11:21:15,574 - stpipe.TweakRegStep - INFO - Performing 'general' fit\n",
      "2023-09-25 11:21:15,576 - stpipe.TweakRegStep - INFO - Computed 'general' fit for GROUP ID: jw02221002002_02201_00002_nrcblong_align:\n",
      "2023-09-25 11:21:15,577 - stpipe.TweakRegStep - INFO - XSH: -0.000295216  YSH: 0.0169925    PROPER ROT: -0.000234209    \n",
      "2023-09-25 11:21:15,578 - stpipe.TweakRegStep - INFO - <ROT>: -0.000234209  SKEW: 0.00378206    ROT_X: -0.00212524  ROT_Y: 0.00165682\n",
      "2023-09-25 11:21:15,579 - stpipe.TweakRegStep - INFO - <SCALE>: 1.00003  SCALE_X: 1.00003  SCALE_Y: 1.00002\n",
      "2023-09-25 11:21:15,580 - stpipe.TweakRegStep - INFO - \n",
      "2023-09-25 11:21:15,581 - stpipe.TweakRegStep - INFO - FIT RMSE: 0.00339445   FIT MAE: 0.00287186\n",
      "2023-09-25 11:21:15,581 - stpipe.TweakRegStep - INFO - Final solution based on 363 objects.\n",
      "2023-09-25 11:21:15,624 - stpipe.TweakRegStep - INFO - Added 134 unmatched sources from 'GROUP ID: jw02221002002_02201_00002_nrcblong_align' to the reference catalog.\n",
      "2023-09-25 11:21:17,510 - stpipe.TweakRegStep - INFO - Aligning image catalog 'GROUP ID: jw02221002002_02201_00001_nrcblong_align' to the reference catalog.\n",
      "2023-09-25 11:21:17,626 - stpipe.TweakRegStep - INFO - Matching sources from 'jw02221002002_02201_00001_nrcblong_align' catalog with sources from the reference 'jw02221002002_02201_00002_nrcblong_align' catalog.\n",
      "2023-09-25 11:21:17,627 - stpipe.TweakRegStep - INFO - Computing initial guess for X and Y shifts...\n",
      "2023-09-25 11:21:17,631 - stpipe.TweakRegStep - INFO - Found initial X and Y shifts of 0.04077, 0.04077 (arcsec) with significance of 435.9 and 452 matches.\n",
      "2023-09-25 11:21:17,633 - stpipe.TweakRegStep - INFO - Found 453 matches for 'GROUP ID: jw02221002002_02201_00001_nrcblong_align'...\n",
      "2023-09-25 11:21:17,634 - stpipe.TweakRegStep - INFO - Performing 'general' fit\n",
      "2023-09-25 11:21:17,638 - stpipe.TweakRegStep - INFO - Computed 'general' fit for GROUP ID: jw02221002002_02201_00001_nrcblong_align:\n",
      "2023-09-25 11:21:17,639 - stpipe.TweakRegStep - INFO - XSH: -0.00217247  YSH: 0.0211236    PROPER ROT: -0.000551323    \n",
      "2023-09-25 11:21:17,640 - stpipe.TweakRegStep - INFO - <ROT>: -0.000551323  SKEW: 0.00328308    ROT_X: -0.00219286  ROT_Y: 0.00109021\n",
      "2023-09-25 11:21:17,641 - stpipe.TweakRegStep - INFO - <SCALE>: 1.00003  SCALE_X: 1.00003  SCALE_Y: 1.00002\n",
      "2023-09-25 11:21:17,642 - stpipe.TweakRegStep - INFO - \n",
      "2023-09-25 11:21:17,643 - stpipe.TweakRegStep - INFO - FIT RMSE: 0.0034521   FIT MAE: 0.00289012\n",
      "2023-09-25 11:21:17,644 - stpipe.TweakRegStep - INFO - Final solution based on 442 objects.\n",
      "2023-09-25 11:21:17,686 - stpipe.TweakRegStep - INFO - Added 53 unmatched sources from 'GROUP ID: jw02221002002_02201_00001_nrcblong_align' to the reference catalog.\n",
      "2023-09-25 11:21:19,020 - stpipe.TweakRegStep - INFO - Aligning image catalog 'GROUP ID: jw02221002002_02201_00003_nrcblong_align' to the reference catalog.\n",
      "2023-09-25 11:21:19,136 - stpipe.TweakRegStep - INFO - Matching sources from 'jw02221002002_02201_00003_nrcblong_align' catalog with sources from the reference 'jw02221002002_02201_00001_nrcblong_align' catalog.\n",
      "2023-09-25 11:21:19,137 - stpipe.TweakRegStep - INFO - Computing initial guess for X and Y shifts...\n",
      "2023-09-25 11:21:19,142 - stpipe.TweakRegStep - INFO - Found initial X and Y shifts of 0.04077, 0.04077 (arcsec) with significance of 451.8 and 468 matches.\n",
      "2023-09-25 11:21:19,144 - stpipe.TweakRegStep - INFO - Found 473 matches for 'GROUP ID: jw02221002002_02201_00003_nrcblong_align'...\n",
      "2023-09-25 11:21:19,145 - stpipe.TweakRegStep - INFO - Performing 'general' fit\n",
      "2023-09-25 11:21:19,149 - stpipe.TweakRegStep - INFO - Computed 'general' fit for GROUP ID: jw02221002002_02201_00003_nrcblong_align:\n",
      "2023-09-25 11:21:19,150 - stpipe.TweakRegStep - INFO - XSH: 0.000806767  YSH: 0.0173068    PROPER ROT: -0.000144655    \n",
      "2023-09-25 11:21:19,151 - stpipe.TweakRegStep - INFO - <ROT>: -0.000144655  SKEW: 0.00450533    ROT_X: -0.00239732  ROT_Y: 0.00210801\n",
      "2023-09-25 11:21:19,152 - stpipe.TweakRegStep - INFO - <SCALE>: 1.00001  SCALE_X: 1.00002  SCALE_Y: 1.00001\n",
      "2023-09-25 11:21:19,152 - stpipe.TweakRegStep - INFO - \n",
      "2023-09-25 11:21:19,153 - stpipe.TweakRegStep - INFO - FIT RMSE: 0.0147891   FIT MAE: 0.00398954\n",
      "2023-09-25 11:21:19,154 - stpipe.TweakRegStep - INFO - Final solution based on 462 objects.\n",
      "2023-09-25 11:21:19,197 - stpipe.TweakRegStep - INFO - Added 36 unmatched sources from 'GROUP ID: jw02221002002_02201_00003_nrcblong_align' to the reference catalog.\n",
      "2023-09-25 11:21:20,161 - stpipe.TweakRegStep - INFO - Aligning image catalog 'GROUP ID: jw02221002001_08201_00004_nrcblong_align' to the reference catalog.\n",
      "2023-09-25 11:21:20,442 - stpipe.TweakRegStep - INFO - Matching sources from 'jw02221002001_08201_00004_nrcblong_align' catalog with sources from the reference 'jw02221002002_02201_00003_nrcblong_align' catalog.\n",
      "2023-09-25 11:21:20,443 - stpipe.TweakRegStep - INFO - Computing initial guess for X and Y shifts...\n",
      "2023-09-25 11:21:20,447 - stpipe.TweakRegStep - INFO - Found initial X and Y shifts of 0.923, -4.118 (arcsec) with significance of 240.3 and 245 matches.\n",
      "2023-09-25 11:21:20,448 - stpipe.TweakRegStep - INFO - Found 247 matches for 'GROUP ID: jw02221002001_08201_00004_nrcblong_align'...\n",
      "2023-09-25 11:21:20,449 - stpipe.TweakRegStep - INFO - Performing 'general' fit\n",
      "2023-09-25 11:21:20,453 - stpipe.TweakRegStep - INFO - Computed 'general' fit for GROUP ID: jw02221002001_08201_00004_nrcblong_align:\n",
      "2023-09-25 11:21:20,454 - stpipe.TweakRegStep - INFO - XSH: -0.869444  YSH: 4.1623    PROPER ROT: -0.00344584    \n",
      "2023-09-25 11:21:20,455 - stpipe.TweakRegStep - INFO - <ROT>: -0.00344584  SKEW: 0.00209004    ROT_X: -0.00449086  ROT_Y: -0.00240081\n",
      "2023-09-25 11:21:20,456 - stpipe.TweakRegStep - INFO - <SCALE>: 1.00001  SCALE_X: 1.00002  SCALE_Y: 0.999995\n",
      "2023-09-25 11:21:20,457 - stpipe.TweakRegStep - INFO - \n",
      "2023-09-25 11:21:20,458 - stpipe.TweakRegStep - INFO - FIT RMSE: 0.0147599   FIT MAE: 0.00401366\n",
      "2023-09-25 11:21:20,459 - stpipe.TweakRegStep - INFO - Final solution based on 241 objects.\n",
      "2023-09-25 11:21:20,502 - stpipe.TweakRegStep - INFO - Added 256 unmatched sources from 'GROUP ID: jw02221002001_08201_00004_nrcblong_align' to the reference catalog.\n",
      "2023-09-25 11:21:22,600 - stpipe.TweakRegStep - INFO - Aligning image catalog 'GROUP ID: jw02221002001_08201_00003_nrcblong_align' to the reference catalog.\n",
      "2023-09-25 11:21:22,714 - stpipe.TweakRegStep - INFO - Matching sources from 'jw02221002001_08201_00003_nrcblong_align' catalog with sources from the reference 'jw02221002001_08201_00004_nrcblong_align' catalog.\n",
      "2023-09-25 11:21:22,715 - stpipe.TweakRegStep - INFO - Computing initial guess for X and Y shifts...\n",
      "2023-09-25 11:21:22,721 - stpipe.TweakRegStep - INFO - Found initial X and Y shifts of 0.923, -4.118 (arcsec) with significance of 399.3 and 409 matches.\n",
      "2023-09-25 11:21:22,722 - stpipe.TweakRegStep - INFO - Found 411 matches for 'GROUP ID: jw02221002001_08201_00003_nrcblong_align'...\n",
      "2023-09-25 11:21:22,723 - stpipe.TweakRegStep - INFO - Performing 'general' fit\n",
      "2023-09-25 11:21:22,726 - stpipe.TweakRegStep - INFO - Computed 'general' fit for GROUP ID: jw02221002001_08201_00003_nrcblong_align:\n",
      "2023-09-25 11:21:22,727 - stpipe.TweakRegStep - INFO - XSH: -0.869693  YSH: 4.16102    PROPER ROT: -0.00377561    \n",
      "2023-09-25 11:21:22,728 - stpipe.TweakRegStep - INFO - <ROT>: -0.00377561  SKEW: 0.0031041    ROT_X: -0.00532766  ROT_Y: -0.00222356\n",
      "2023-09-25 11:21:22,729 - stpipe.TweakRegStep - INFO - <SCALE>: 1.00001  SCALE_X: 1.00003  SCALE_Y: 0.999986\n",
      "2023-09-25 11:21:22,729 - stpipe.TweakRegStep - INFO - \n",
      "2023-09-25 11:21:22,730 - stpipe.TweakRegStep - INFO - FIT RMSE: 0.00341716   FIT MAE: 0.00295861\n",
      "2023-09-25 11:21:22,731 - stpipe.TweakRegStep - INFO - Final solution based on 403 objects.\n",
      "2023-09-25 11:21:22,775 - stpipe.TweakRegStep - INFO - Added 93 unmatched sources from 'GROUP ID: jw02221002001_08201_00003_nrcblong_align' to the reference catalog.\n",
      "2023-09-25 11:21:24,431 - stpipe.TweakRegStep - INFO - Aligning image catalog 'GROUP ID: jw02221002001_08201_00001_nrcblong_align' to the reference catalog.\n",
      "2023-09-25 11:21:24,543 - stpipe.TweakRegStep - INFO - Matching sources from 'jw02221002001_08201_00001_nrcblong_align' catalog with sources from the reference 'jw02221002001_08201_00003_nrcblong_align' catalog.\n",
      "2023-09-25 11:21:24,544 - stpipe.TweakRegStep - INFO - Computing initial guess for X and Y shifts...\n",
      "2023-09-25 11:21:24,549 - stpipe.TweakRegStep - INFO - Found initial X and Y shifts of 0.923, -4.118 (arcsec) with significance of 427.2 and 439 matches.\n",
      "2023-09-25 11:21:24,551 - stpipe.TweakRegStep - INFO - Found 433 matches for 'GROUP ID: jw02221002001_08201_00001_nrcblong_align'...\n",
      "2023-09-25 11:21:24,552 - stpipe.TweakRegStep - INFO - Performing 'general' fit\n",
      "2023-09-25 11:21:24,556 - stpipe.TweakRegStep - INFO - Computed 'general' fit for GROUP ID: jw02221002001_08201_00001_nrcblong_align:\n",
      "2023-09-25 11:21:24,557 - stpipe.TweakRegStep - INFO - XSH: -0.869345  YSH: 4.16288    PROPER ROT: -0.00435321    \n",
      "2023-09-25 11:21:24,557 - stpipe.TweakRegStep - INFO - <ROT>: -0.00435321  SKEW: 0.00356758    ROT_X: -0.006137  ROT_Y: -0.00256942\n",
      "2023-09-25 11:21:24,558 - stpipe.TweakRegStep - INFO - <SCALE>: 1.00001  SCALE_X: 1.00003  SCALE_Y: 0.999993\n",
      "2023-09-25 11:21:24,559 - stpipe.TweakRegStep - INFO - \n",
      "2023-09-25 11:21:24,560 - stpipe.TweakRegStep - INFO - FIT RMSE: 0.00983945   FIT MAE: 0.00344901\n",
      "2023-09-25 11:21:24,561 - stpipe.TweakRegStep - INFO - Final solution based on 426 objects.\n",
      "2023-09-25 11:21:24,604 - stpipe.TweakRegStep - INFO - Added 72 unmatched sources from 'GROUP ID: jw02221002001_08201_00001_nrcblong_align' to the reference catalog.\n",
      "2023-09-25 11:21:25,944 - stpipe.TweakRegStep - INFO - Aligning image catalog 'GROUP ID: jw02221002001_08201_00002_nrcblong_align' to the reference catalog.\n",
      "2023-09-25 11:21:26,064 - stpipe.TweakRegStep - INFO - Matching sources from 'jw02221002001_08201_00002_nrcblong_align' catalog with sources from the reference 'jw02221002001_08201_00001_nrcblong_align' catalog.\n",
      "2023-09-25 11:21:26,066 - stpipe.TweakRegStep - INFO - Computing initial guess for X and Y shifts...\n",
      "2023-09-25 11:21:26,071 - stpipe.TweakRegStep - INFO - Found initial X and Y shifts of 0.923, -4.118 (arcsec) with significance of 458.3 and 473 matches.\n",
      "2023-09-25 11:21:26,073 - stpipe.TweakRegStep - INFO - Found 467 matches for 'GROUP ID: jw02221002001_08201_00002_nrcblong_align'...\n",
      "2023-09-25 11:21:26,074 - stpipe.TweakRegStep - INFO - Performing 'general' fit\n",
      "2023-09-25 11:21:26,078 - stpipe.TweakRegStep - INFO - Computed 'general' fit for GROUP ID: jw02221002001_08201_00002_nrcblong_align:\n",
      "2023-09-25 11:21:26,079 - stpipe.TweakRegStep - INFO - XSH: -0.869867  YSH: 4.16193    PROPER ROT: -0.00373932    \n",
      "2023-09-25 11:21:26,080 - stpipe.TweakRegStep - INFO - <ROT>: -0.00373932  SKEW: 0.00307335    ROT_X: -0.00527599  ROT_Y: -0.00220265\n",
      "2023-09-25 11:21:26,081 - stpipe.TweakRegStep - INFO - <SCALE>: 1.00001  SCALE_X: 1.00002  SCALE_Y: 0.999988\n",
      "2023-09-25 11:21:26,082 - stpipe.TweakRegStep - INFO - \n",
      "2023-09-25 11:21:26,083 - stpipe.TweakRegStep - INFO - FIT RMSE: 0.00356077   FIT MAE: 0.00304418\n",
      "2023-09-25 11:21:26,084 - stpipe.TweakRegStep - INFO - Final solution based on 458 objects.\n",
      "2023-09-25 11:21:26,129 - stpipe.TweakRegStep - INFO - Added 38 unmatched sources from 'GROUP ID: jw02221002001_08201_00002_nrcblong_align' to the reference catalog.\n",
      "2023-09-25 11:21:27,115 - stpipe.TweakRegStep - INFO - Aligning image catalog 'GROUP ID: jw02221002001_02201_00004_nrcblong_align' to the reference catalog.\n",
      "2023-09-25 11:21:27,238 - stpipe.TweakRegStep - INFO - Matching sources from 'jw02221002001_02201_00004_nrcblong_align' catalog with sources from the reference 'jw02221002001_08201_00002_nrcblong_align' catalog.\n",
      "2023-09-25 11:21:27,239 - stpipe.TweakRegStep - INFO - Computing initial guess for X and Y shifts...\n",
      "2023-09-25 11:21:27,244 - stpipe.TweakRegStep - INFO - Found initial X and Y shifts of 0.923, -4.123 (arcsec) with significance of 185.4 and 206 matches.\n",
      "2023-09-25 11:21:27,246 - stpipe.TweakRegStep - INFO - Found 207 matches for 'GROUP ID: jw02221002001_02201_00004_nrcblong_align'...\n",
      "2023-09-25 11:21:27,247 - stpipe.TweakRegStep - INFO - Performing 'general' fit\n",
      "2023-09-25 11:21:27,250 - stpipe.TweakRegStep - INFO - Computed 'general' fit for GROUP ID: jw02221002001_02201_00004_nrcblong_align:\n",
      "2023-09-25 11:21:27,251 - stpipe.TweakRegStep - INFO - XSH: -0.890008  YSH: 4.18398    PROPER ROT: -0.00273893    \n",
      "2023-09-25 11:21:27,252 - stpipe.TweakRegStep - INFO - <ROT>: -0.00273893  SKEW: 0.00507506    ROT_X: -0.00527646  ROT_Y: -0.000201399\n",
      "2023-09-25 11:21:27,252 - stpipe.TweakRegStep - INFO - <SCALE>: 1.00002  SCALE_X: 1.00003  SCALE_Y: 1.00001\n",
      "2023-09-25 11:21:27,253 - stpipe.TweakRegStep - INFO - \n",
      "2023-09-25 11:21:27,254 - stpipe.TweakRegStep - INFO - FIT RMSE: 0.00346493   FIT MAE: 0.00298407\n",
      "2023-09-25 11:21:27,255 - stpipe.TweakRegStep - INFO - Final solution based on 204 objects.\n",
      "2023-09-25 11:21:27,300 - stpipe.TweakRegStep - INFO - Added 295 unmatched sources from 'GROUP ID: jw02221002001_02201_00004_nrcblong_align' to the reference catalog.\n",
      "2023-09-25 11:21:28,281 - stpipe.TweakRegStep - INFO - Aligning image catalog 'GROUP ID: jw02221002001_02201_00003_nrcblong_align' to the reference catalog.\n",
      "2023-09-25 11:21:28,398 - stpipe.TweakRegStep - INFO - Matching sources from 'jw02221002001_02201_00003_nrcblong_align' catalog with sources from the reference 'jw02221002001_02201_00004_nrcblong_align' catalog.\n",
      "2023-09-25 11:21:28,400 - stpipe.TweakRegStep - INFO - Computing initial guess for X and Y shifts...\n",
      "2023-09-25 11:21:28,406 - stpipe.TweakRegStep - INFO - Found initial X and Y shifts of 0.923, -4.124 (arcsec) with significance of 325.4 and 371 matches.\n",
      "2023-09-25 11:21:28,408 - stpipe.TweakRegStep - INFO - Found 370 matches for 'GROUP ID: jw02221002001_02201_00003_nrcblong_align'...\n",
      "2023-09-25 11:21:28,409 - stpipe.TweakRegStep - INFO - Performing 'general' fit\n",
      "2023-09-25 11:21:28,413 - stpipe.TweakRegStep - INFO - Computed 'general' fit for GROUP ID: jw02221002001_02201_00003_nrcblong_align:\n",
      "2023-09-25 11:21:28,414 - stpipe.TweakRegStep - INFO - XSH: -0.890201  YSH: 4.1849    PROPER ROT: -0.00263262    \n",
      "2023-09-25 11:21:28,415 - stpipe.TweakRegStep - INFO - <ROT>: -0.00263262  SKEW: 0.00495749    ROT_X: -0.00511136  ROT_Y: -0.000153871\n",
      "2023-09-25 11:21:28,416 - stpipe.TweakRegStep - INFO - <SCALE>: 1.00002  SCALE_X: 1.00004  SCALE_Y: 1.00001\n",
      "2023-09-25 11:21:28,416 - stpipe.TweakRegStep - INFO - \n",
      "2023-09-25 11:21:28,417 - stpipe.TweakRegStep - INFO - FIT RMSE: 0.00344917   FIT MAE: 0.0028292\n",
      "2023-09-25 11:21:28,418 - stpipe.TweakRegStep - INFO - Final solution based on 365 objects.\n",
      "2023-09-25 11:21:28,464 - stpipe.TweakRegStep - INFO - Added 133 unmatched sources from 'GROUP ID: jw02221002001_02201_00003_nrcblong_align' to the reference catalog.\n",
      "2023-09-25 11:21:29,022 - stpipe.TweakRegStep - INFO - Aligning image catalog 'GROUP ID: jw02221002001_02201_00001_nrcblong_align' to the reference catalog.\n",
      "2023-09-25 11:21:29,139 - stpipe.TweakRegStep - INFO - Matching sources from 'jw02221002001_02201_00001_nrcblong_align' catalog with sources from the reference 'jw02221002001_02201_00003_nrcblong_align' catalog.\n",
      "2023-09-25 11:21:29,140 - stpipe.TweakRegStep - INFO - Computing initial guess for X and Y shifts...\n",
      "2023-09-25 11:21:29,147 - stpipe.TweakRegStep - INFO - Found initial X and Y shifts of 0.923, -4.137 (arcsec) with significance of 280.9 and 426 matches.\n",
      "2023-09-25 11:21:29,149 - stpipe.TweakRegStep - INFO - Found 428 matches for 'GROUP ID: jw02221002001_02201_00001_nrcblong_align'...\n",
      "2023-09-25 11:21:29,150 - stpipe.TweakRegStep - INFO - Performing 'general' fit\n",
      "2023-09-25 11:21:29,154 - stpipe.TweakRegStep - INFO - Computed 'general' fit for GROUP ID: jw02221002001_02201_00001_nrcblong_align:\n",
      "2023-09-25 11:21:29,155 - stpipe.TweakRegStep - INFO - XSH: -0.891868  YSH: 4.18782    PROPER ROT: -0.00226599    \n",
      "2023-09-25 11:21:29,156 - stpipe.TweakRegStep - INFO - <ROT>: -0.00226599  SKEW: 0.00495148    ROT_X: -0.00474174  ROT_Y: 0.000209749\n",
      "2023-09-25 11:21:29,157 - stpipe.TweakRegStep - INFO - <SCALE>: 1.00003  SCALE_X: 1.00004  SCALE_Y: 1.00001\n",
      "2023-09-25 11:21:29,158 - stpipe.TweakRegStep - INFO - \n",
      "2023-09-25 11:21:29,158 - stpipe.TweakRegStep - INFO - FIT RMSE: 0.00338802   FIT MAE: 0.00278931\n",
      "2023-09-25 11:21:29,159 - stpipe.TweakRegStep - INFO - Final solution based on 421 objects.\n",
      "2023-09-25 11:21:29,206 - stpipe.TweakRegStep - INFO - Added 76 unmatched sources from 'GROUP ID: jw02221002001_02201_00001_nrcblong_align' to the reference catalog.\n",
      "2023-09-25 11:21:29,487 - stpipe.TweakRegStep - INFO - Aligning image catalog 'GROUP ID: jw02221002001_02201_00002_nrcblong_align' to the reference catalog.\n",
      "2023-09-25 11:21:29,604 - stpipe.TweakRegStep - INFO - Matching sources from 'jw02221002001_02201_00002_nrcblong_align' catalog with sources from the reference 'jw02221002001_02201_00001_nrcblong_align' catalog.\n",
      "2023-09-25 11:21:29,606 - stpipe.TweakRegStep - INFO - Computing initial guess for X and Y shifts...\n",
      "2023-09-25 11:21:29,613 - stpipe.TweakRegStep - INFO - Found initial X and Y shifts of 0.923, -4.126 (arcsec) with significance of 398.8 and 478 matches.\n",
      "2023-09-25 11:21:29,615 - stpipe.TweakRegStep - INFO - Found 481 matches for 'GROUP ID: jw02221002001_02201_00002_nrcblong_align'...\n",
      "2023-09-25 11:21:29,616 - stpipe.TweakRegStep - INFO - Performing 'general' fit\n",
      "2023-09-25 11:21:29,620 - stpipe.TweakRegStep - INFO - Computed 'general' fit for GROUP ID: jw02221002001_02201_00002_nrcblong_align:\n",
      "2023-09-25 11:21:29,621 - stpipe.TweakRegStep - INFO - XSH: -0.891429  YSH: 4.1849    PROPER ROT: -0.00287268    \n",
      "2023-09-25 11:21:29,622 - stpipe.TweakRegStep - INFO - <ROT>: -0.00287268  SKEW: 0.00645218    ROT_X: -0.00609877  ROT_Y: 0.000353407\n",
      "2023-09-25 11:21:29,622 - stpipe.TweakRegStep - INFO - <SCALE>: 1.00002  SCALE_X: 1.00004  SCALE_Y: 0.999987\n",
      "2023-09-25 11:21:29,623 - stpipe.TweakRegStep - INFO - \n",
      "2023-09-25 11:21:29,624 - stpipe.TweakRegStep - INFO - FIT RMSE: 0.0136334   FIT MAE: 0.00376812\n",
      "2023-09-25 11:21:29,625 - stpipe.TweakRegStep - INFO - Final solution based on 469 objects.\n",
      "2023-09-25 11:21:29,670 - stpipe.TweakRegStep - INFO - Added 26 unmatched sources from 'GROUP ID: jw02221002001_02201_00002_nrcblong_align' to the reference catalog.\n",
      "2023-09-25 11:21:29,671 - stpipe.TweakRegStep - INFO -  \n",
      "2023-09-25 11:21:29,672 - stpipe.TweakRegStep - INFO - ***** tweakwcs.imalign.align_wcs() ended on 2023-09-25 11:21:29.671477\n",
      "2023-09-25 11:21:29,673 - stpipe.TweakRegStep - INFO - ***** tweakwcs.imalign.align_wcs() TOTAL RUN TIME: 0:00:40.891652\n",
      "2023-09-25 11:21:29,674 - stpipe.TweakRegStep - INFO -  \n",
      "2023-09-25 11:21:29,919 - stpipe.TweakRegStep - INFO -  \n",
      "2023-09-25 11:21:29,921 - stpipe.TweakRegStep - INFO - ***** tweakwcs.imalign.align_wcs() started on 2023-09-25 11:21:29.919730\n",
      "2023-09-25 11:21:29,922 - stpipe.TweakRegStep - INFO -       Version 0.8.2\n",
      "2023-09-25 11:21:29,922 - stpipe.TweakRegStep - INFO -  \n",
      "2023-09-25 11:22:35,969 - stpipe.TweakRegStep - INFO - Aligning image catalog 'GROUP ID: 987654' to the reference catalog.\n",
      "2023-09-25 11:22:36,098 - stpipe.TweakRegStep - INFO - Matching sources from 'jw0222100200' catalog with sources from the reference 'II/348/vvv2' catalog.\n",
      "2023-09-25 11:22:36,100 - stpipe.TweakRegStep - INFO - Computing initial guess for X and Y shifts...\n",
      "2023-09-25 11:22:37,282 - stpipe.TweakRegStep - INFO - Found initial X and Y shifts of -1.335, -3.741 (arcsec) with significance of 415.1 and 4756 matches.\n",
      "2023-09-25 11:22:37,286 - stpipe.TweakRegStep - INFO - Found 1650 matches for 'GROUP ID: 987654'...\n",
      "2023-09-25 11:22:37,287 - stpipe.TweakRegStep - INFO - Performing 'rshift' fit\n",
      "2023-09-25 11:22:37,291 - stpipe.TweakRegStep - INFO - Computed 'rshift' fit for GROUP ID: 987654:\n",
      "2023-09-25 11:22:37,292 - stpipe.TweakRegStep - INFO - XSH: 1.39396  YSH: 3.79469    ROT: -0.00642638    SCALE: 1\n",
      "2023-09-25 11:22:37,293 - stpipe.TweakRegStep - INFO - \n",
      "2023-09-25 11:22:37,294 - stpipe.TweakRegStep - INFO - FIT RMSE: 0.158914   FIT MAE: 0.11588\n",
      "2023-09-25 11:22:37,295 - stpipe.TweakRegStep - INFO - Final solution based on 1607 objects.\n",
      "2023-09-25 11:22:37,939 - stpipe.TweakRegStep - INFO -  \n",
      "2023-09-25 11:22:37,940 - stpipe.TweakRegStep - INFO - ***** tweakwcs.imalign.align_wcs() ended on 2023-09-25 11:22:37.938982\n",
      "2023-09-25 11:22:37,941 - stpipe.TweakRegStep - INFO - ***** tweakwcs.imalign.align_wcs() TOTAL RUN TIME: 0:01:08.019252\n",
      "2023-09-25 11:22:37,942 - stpipe.TweakRegStep - INFO -  \n",
      "2023-09-25 11:22:40,001 - stpipe.TweakRegStep - INFO - Saved model in /orange/adamginsburg/jwst/cloudc/F405N/pipeline/jw02221002001_02201_00001_nrcblong_align_tweakregstep.fits\n",
      "2023-09-25 11:22:40,244 - stpipe.TweakRegStep - INFO - Saved model in /orange/adamginsburg/jwst/cloudc/F405N/pipeline/jw02221002001_02201_00002_nrcblong_align_tweakregstep.fits\n",
      "2023-09-25 11:22:40,499 - stpipe.TweakRegStep - INFO - Saved model in /orange/adamginsburg/jwst/cloudc/F405N/pipeline/jw02221002001_02201_00003_nrcblong_align_tweakregstep.fits\n",
      "2023-09-25 11:22:40,766 - stpipe.TweakRegStep - INFO - Saved model in /orange/adamginsburg/jwst/cloudc/F405N/pipeline/jw02221002001_02201_00004_nrcblong_align_tweakregstep.fits\n",
      "2023-09-25 11:22:41,222 - stpipe.TweakRegStep - INFO - Saved model in /orange/adamginsburg/jwst/cloudc/F405N/pipeline/jw02221002001_08201_00001_nrcblong_align_tweakregstep.fits\n",
      "2023-09-25 11:22:41,500 - stpipe.TweakRegStep - INFO - Saved model in /orange/adamginsburg/jwst/cloudc/F405N/pipeline/jw02221002001_08201_00002_nrcblong_align_tweakregstep.fits\n",
      "2023-09-25 11:22:41,755 - stpipe.TweakRegStep - INFO - Saved model in /orange/adamginsburg/jwst/cloudc/F405N/pipeline/jw02221002001_08201_00003_nrcblong_align_tweakregstep.fits\n",
      "2023-09-25 11:22:42,031 - stpipe.TweakRegStep - INFO - Saved model in /orange/adamginsburg/jwst/cloudc/F405N/pipeline/jw02221002001_08201_00004_nrcblong_align_tweakregstep.fits\n",
      "2023-09-25 11:22:42,290 - stpipe.TweakRegStep - INFO - Saved model in /orange/adamginsburg/jwst/cloudc/F405N/pipeline/jw02221002002_02201_00001_nrcblong_align_tweakregstep.fits\n",
      "2023-09-25 11:22:42,609 - stpipe.TweakRegStep - INFO - Saved model in /orange/adamginsburg/jwst/cloudc/F405N/pipeline/jw02221002002_02201_00002_nrcblong_align_tweakregstep.fits\n",
      "2023-09-25 11:22:42,869 - stpipe.TweakRegStep - INFO - Saved model in /orange/adamginsburg/jwst/cloudc/F405N/pipeline/jw02221002002_02201_00003_nrcblong_align_tweakregstep.fits\n",
      "2023-09-25 11:22:43,125 - stpipe.TweakRegStep - INFO - Saved model in /orange/adamginsburg/jwst/cloudc/F405N/pipeline/jw02221002002_02201_00004_nrcblong_align_tweakregstep.fits\n",
      "2023-09-25 11:22:43,365 - stpipe.TweakRegStep - INFO - Saved model in /orange/adamginsburg/jwst/cloudc/F405N/pipeline/jw02221002002_08201_00001_nrcblong_align_tweakregstep.fits\n",
      "2023-09-25 11:22:43,621 - stpipe.TweakRegStep - INFO - Saved model in /orange/adamginsburg/jwst/cloudc/F405N/pipeline/jw02221002002_08201_00002_nrcblong_align_tweakregstep.fits\n",
      "2023-09-25 11:22:43,890 - stpipe.TweakRegStep - INFO - Saved model in /orange/adamginsburg/jwst/cloudc/F405N/pipeline/jw02221002002_08201_00003_nrcblong_align_tweakregstep.fits\n",
      "2023-09-25 11:22:44,160 - stpipe.TweakRegStep - INFO - Saved model in /orange/adamginsburg/jwst/cloudc/F405N/pipeline/jw02221002002_08201_00004_nrcblong_align_tweakregstep.fits\n",
      "2023-09-25 11:22:44,162 - stpipe.TweakRegStep - INFO - Step TweakRegStep done\n"
     ]
    }
   ],
   "source": [
    "tweakreg = TweakRegStep()\n",
    "tweakreg.fitgeometry = 'general'\n",
    "tweakreg.brightest = 500\n",
    "tweakreg.snr_threshold = 30\n",
    "tweakreg.abs_refcat = abs_refcat\n",
    "tweakreg.save_catalogs = True\n",
    "tweakreg.catalog_format = 'ecsv'\n",
    "tweakreg.kernel_fwhm = fwhm_pix\n",
    "tweakreg.nclip = 5\n",
    "tweakreg.sharplo = 0.3\n",
    "tweakreg.sharphi = 0.9\n",
    "tweakreg.roundlo = -0.25\n",
    "tweakreg.roundhi = 0.25\n",
    "tweakreg.separation = 0.5\n",
    "tweakreg.output_dir = output_dir\n",
    "tweakreg.save_results = True\n",
    "tweakreg.skip = False\n",
    "tweakreg.searchrad = 5\n",
    "tweak = tweakreg.run(asn_file_each)"
   ]
  },
  {
   "cell_type": "code",
   "execution_count": 14,
   "id": "f1cf106e-b910-4529-9b49-247edf7f75c4",
   "metadata": {
    "tags": []
   },
   "outputs": [
    {
     "name": "stdout",
     "output_type": "stream",
     "text": [
      "2023-09-25T11:22:44.168744: fini\n"
     ]
    }
   ],
   "source": [
    "print('fini')"
   ]
  },
  {
   "cell_type": "code",
   "execution_count": 55,
   "id": "b6f3b775-7696-4124-bcc5-979c5e42d353",
   "metadata": {},
   "outputs": [
    {
     "ename": "AttributeError",
     "evalue": "'str' object has no attribute 'meta'",
     "output_type": "error",
     "traceback": [
      "\u001b[0;31m---------------------------------------------------------------------------\u001b[0m",
      "\u001b[0;31mAttributeError\u001b[0m                            Traceback (most recent call last)",
      "Cell \u001b[0;32mIn[55], line 1\u001b[0m\n\u001b[0;32m----> 1\u001b[0m tweak_file \u001b[38;5;241m=\u001b[39m os\u001b[38;5;241m.\u001b[39mpath\u001b[38;5;241m.\u001b[39mjoin(output_dir, \u001b[43mtweak\u001b[49m\u001b[43m[\u001b[49m\u001b[38;5;241;43m0\u001b[39;49m\u001b[43m]\u001b[49m\u001b[38;5;241;43m.\u001b[39;49m\u001b[43mmeta\u001b[49m\u001b[38;5;241m.\u001b[39mfilename)\n\u001b[1;32m      2\u001b[0m tweak_file\n",
      "\u001b[0;31mAttributeError\u001b[0m: 'str' object has no attribute 'meta'"
     ]
    }
   ],
   "source": [
    "tweak_file = os.path.join(output_dir, tweak[0].meta.filename)\n",
    "tweak_file"
   ]
  },
  {
   "cell_type": "code",
   "execution_count": 59,
   "id": "1d846201-ba05-4ffa-b6e7-f5cc233bf651",
   "metadata": {
    "collapsed": true,
    "jupyter": {
     "outputs_hidden": true
    },
    "tags": []
   },
   "outputs": [
    {
     "name": "stdout",
     "output_type": "stream",
     "text": [
      "2023-09-01T18:15:43.481795: Cal: (266.57889003017374, -28.641290897929444)\n",
      "2023-09-01T18:15:43.485653: (266.5790276601067, -28.63981286055749)\n",
      "2023-09-01T18:15:43.498388: Difference: -0.00013762993296495551 -0.001478037371953178\n",
      "2023-09-01T18:15:43.498443:\n",
      "2023-09-01T18:15:45.267377: Cal: (266.57782016520355, -28.64124472704071)\n",
      "2023-09-01T18:15:45.270898: (266.57795771862146, -28.639766169654745)\n",
      "2023-09-01T18:15:45.282605: Difference: -0.0001375534179146598 -0.0014785573859654733\n",
      "2023-09-01T18:15:45.282649:\n",
      "2023-09-01T18:15:47.064634: Cal: (266.58641178175856, -28.60560461822254)\n",
      "2023-09-01T18:15:47.068338: (266.5868443193349, -28.60454317273278)\n",
      "2023-09-01T18:15:47.079630: Difference: -0.00043253757633010537 -0.0010614454897606151\n",
      "2023-09-01T18:15:47.079672:\n"
     ]
    },
    {
     "ename": "KeyboardInterrupt",
     "evalue": "",
     "output_type": "error",
     "traceback": [
      "\u001b[0;31m---------------------------------------------------------------------------\u001b[0m",
      "\u001b[0;31mKeyboardInterrupt\u001b[0m                         Traceback (most recent call last)",
      "Cell \u001b[0;32mIn[59], line 24\u001b[0m\n\u001b[1;32m     22\u001b[0m point \u001b[38;5;241m=\u001b[39m \u001b[38;5;124m'\u001b[39m\u001b[38;5;124m02201\u001b[39m\u001b[38;5;124m'\u001b[39m\n\u001b[1;32m     23\u001b[0m files \u001b[38;5;241m=\u001b[39m glob(os\u001b[38;5;241m.\u001b[39mpath\u001b[38;5;241m.\u001b[39mjoin(output_dir, \u001b[38;5;124mf\u001b[39m\u001b[38;5;124m'\u001b[39m\u001b[38;5;124mjw02221\u001b[39m\u001b[38;5;132;01m{\u001b[39;00mfield\u001b[38;5;132;01m}\u001b[39;00m\u001b[38;5;124m*\u001b[39m\u001b[38;5;132;01m{\u001b[39;00mpoint\u001b[38;5;132;01m}\u001b[39;00m\u001b[38;5;124m*\u001b[39m\u001b[38;5;132;01m{\u001b[39;00mmodule\u001b[38;5;132;01m}\u001b[39;00m\u001b[38;5;124mlong_cal.fits\u001b[39m\u001b[38;5;124m'\u001b[39m))\n\u001b[0;32m---> 24\u001b[0m \u001b[43mcompare\u001b[49m\u001b[43m(\u001b[49m\u001b[43mfiles\u001b[49m\u001b[43m)\u001b[49m\n",
      "Cell \u001b[0;32mIn[59], line 7\u001b[0m, in \u001b[0;36mcompare\u001b[0;34m(files)\u001b[0m\n\u001b[1;32m      4\u001b[0m cal_file \u001b[38;5;241m=\u001b[39m f\n\u001b[1;32m      5\u001b[0m tweak_file \u001b[38;5;241m=\u001b[39m f[:\u001b[38;5;241m-\u001b[39m\u001b[38;5;241m8\u001b[39m]\u001b[38;5;241m+\u001b[39m\u001b[38;5;124m'\u001b[39m\u001b[38;5;124mdestreak_tweakregstep.fits\u001b[39m\u001b[38;5;124m'\u001b[39m\n\u001b[0;32m----> 7\u001b[0m cal_data \u001b[38;5;241m=\u001b[39m \u001b[43mdatamodels\u001b[49m\u001b[38;5;241;43m.\u001b[39;49m\u001b[43mopen\u001b[49m\u001b[43m(\u001b[49m\u001b[43mcal_file\u001b[49m\u001b[43m)\u001b[49m\n\u001b[1;32m      8\u001b[0m tweak_data \u001b[38;5;241m=\u001b[39m datamodels\u001b[38;5;241m.\u001b[39mopen(tweak_file)\n\u001b[1;32m     10\u001b[0m cal_detector_to_world \u001b[38;5;241m=\u001b[39m cal_data\u001b[38;5;241m.\u001b[39mmeta\u001b[38;5;241m.\u001b[39mwcs\u001b[38;5;241m.\u001b[39mget_transform(\u001b[38;5;124m'\u001b[39m\u001b[38;5;124mdetector\u001b[39m\u001b[38;5;124m'\u001b[39m, \u001b[38;5;124m'\u001b[39m\u001b[38;5;124mworld\u001b[39m\u001b[38;5;124m'\u001b[39m)\n",
      "File \u001b[0;32m/blue/adamginsburg/adamginsburg/miniconda3/envs/python39savannah/lib/python3.9/site-packages/stdatamodels/jwst/datamodels/util.py:226\u001b[0m, in \u001b[0;36mopen\u001b[0;34m(init, guess, memmap, **kwargs)\u001b[0m\n\u001b[1;32m    224\u001b[0m \u001b[38;5;66;03m# Actually open the model\u001b[39;00m\n\u001b[1;32m    225\u001b[0m \u001b[38;5;28;01mtry\u001b[39;00m:\n\u001b[0;32m--> 226\u001b[0m     model \u001b[38;5;241m=\u001b[39m \u001b[43mnew_class\u001b[49m\u001b[43m(\u001b[49m\u001b[43minit\u001b[49m\u001b[43m,\u001b[49m\u001b[43m \u001b[49m\u001b[38;5;241;43m*\u001b[39;49m\u001b[38;5;241;43m*\u001b[39;49m\u001b[43mkwargs\u001b[49m\u001b[43m)\u001b[49m\n\u001b[1;32m    227\u001b[0m \u001b[38;5;28;01mexcept\u001b[39;00m \u001b[38;5;167;01mException\u001b[39;00m:\n\u001b[1;32m    228\u001b[0m     \u001b[38;5;28;01mif\u001b[39;00m file_to_close \u001b[38;5;129;01mis\u001b[39;00m \u001b[38;5;129;01mnot\u001b[39;00m \u001b[38;5;28;01mNone\u001b[39;00m:\n",
      "File \u001b[0;32m/blue/adamginsburg/adamginsburg/miniconda3/envs/python39savannah/lib/python3.9/site-packages/stdatamodels/model_base.py:223\u001b[0m, in \u001b[0;36mDataModel.__init__\u001b[0;34m(self, init, schema, memmap, pass_invalid_values, strict_validation, validate_on_assignment, cast_fits_arrays, validate_arrays, ignore_missing_extensions, **kwargs)\u001b[0m\n\u001b[1;32m    220\u001b[0m     asdffile \u001b[38;5;241m=\u001b[39m init\n\u001b[1;32m    222\u001b[0m \u001b[38;5;28;01melif\u001b[39;00m \u001b[38;5;28misinstance\u001b[39m(init, fits\u001b[38;5;241m.\u001b[39mHDUList):\n\u001b[0;32m--> 223\u001b[0m     asdffile \u001b[38;5;241m=\u001b[39m \u001b[43mfits_support\u001b[49m\u001b[38;5;241;43m.\u001b[39;49m\u001b[43mfrom_fits\u001b[49m\u001b[43m(\u001b[49m\u001b[43minit\u001b[49m\u001b[43m,\u001b[49m\u001b[43m \u001b[49m\u001b[38;5;28;43mself\u001b[39;49m\u001b[38;5;241;43m.\u001b[39;49m\u001b[43m_schema\u001b[49m\u001b[43m,\u001b[49m\u001b[43m \u001b[49m\u001b[38;5;28;43mself\u001b[39;49m\u001b[38;5;241;43m.\u001b[39;49m\u001b[43m_ctx\u001b[49m\u001b[43m,\u001b[49m\n\u001b[1;32m    224\u001b[0m \u001b[43m                                      \u001b[49m\u001b[38;5;241;43m*\u001b[39;49m\u001b[38;5;241;43m*\u001b[39;49m\u001b[43mkwargs\u001b[49m\u001b[43m)\u001b[49m\n\u001b[1;32m    226\u001b[0m \u001b[38;5;28;01melif\u001b[39;00m \u001b[38;5;28misinstance\u001b[39m(init, (\u001b[38;5;28mstr\u001b[39m, \u001b[38;5;28mbytes\u001b[39m, PurePath)):\n\u001b[1;32m    227\u001b[0m     \u001b[38;5;28;01mif\u001b[39;00m \u001b[38;5;28misinstance\u001b[39m(init, PurePath):\n",
      "File \u001b[0;32m/blue/adamginsburg/adamginsburg/miniconda3/envs/python39savannah/lib/python3.9/site-packages/stdatamodels/fits_support.py:699\u001b[0m, in \u001b[0;36mfrom_fits\u001b[0;34m(hdulist, schema, context, skip_fits_update, **kwargs)\u001b[0m\n\u001b[1;32m    676\u001b[0m \u001b[38;5;250m\u001b[39m\u001b[38;5;124;03m\"\"\"Read model information from a FITS HDU list\u001b[39;00m\n\u001b[1;32m    677\u001b[0m \n\u001b[1;32m    678\u001b[0m \u001b[38;5;124;03mParameters\u001b[39;00m\n\u001b[0;32m   (...)\u001b[0m\n\u001b[1;32m    696\u001b[0m \u001b[38;5;124;03m    Otherwise, the default is `False`\u001b[39;00m\n\u001b[1;32m    697\u001b[0m \u001b[38;5;124;03m\"\"\"\u001b[39;00m\n\u001b[1;32m    698\u001b[0m \u001b[38;5;28;01mtry\u001b[39;00m:\n\u001b[0;32m--> 699\u001b[0m     ff \u001b[38;5;241m=\u001b[39m \u001b[43mfrom_fits_asdf\u001b[49m\u001b[43m(\u001b[49m\u001b[43mhdulist\u001b[49m\u001b[43m,\u001b[49m\u001b[43m \u001b[49m\u001b[38;5;241;43m*\u001b[39;49m\u001b[38;5;241;43m*\u001b[39;49m\u001b[43mkwargs\u001b[49m\u001b[43m)\u001b[49m\n\u001b[1;32m    700\u001b[0m \u001b[38;5;28;01mexcept\u001b[39;00m \u001b[38;5;167;01mException\u001b[39;00m \u001b[38;5;28;01mas\u001b[39;00m exc:\n\u001b[1;32m    701\u001b[0m     \u001b[38;5;28;01mraise\u001b[39;00m exc\u001b[38;5;241m.\u001b[39m\u001b[38;5;18m__class__\u001b[39m(\u001b[38;5;124m\"\u001b[39m\u001b[38;5;124mERROR loading embedded ASDF: \u001b[39m\u001b[38;5;124m\"\u001b[39m \u001b[38;5;241m+\u001b[39m \u001b[38;5;28mstr\u001b[39m(exc)) \u001b[38;5;28;01mfrom\u001b[39;00m \u001b[38;5;21;01mexc\u001b[39;00m\n",
      "File \u001b[0;32m/blue/adamginsburg/adamginsburg/miniconda3/envs/python39savannah/lib/python3.9/site-packages/stdatamodels/fits_support.py:751\u001b[0m, in \u001b[0;36mfrom_fits_asdf\u001b[0;34m(hdulist, ignore_version_mismatch, ignore_unrecognized_tag, **kwargs)\u001b[0m\n\u001b[1;32m    743\u001b[0m af \u001b[38;5;241m=\u001b[39m asdf\u001b[38;5;241m.\u001b[39mopen(\n\u001b[1;32m    744\u001b[0m     generic_file,\n\u001b[1;32m    745\u001b[0m     ignore_version_mismatch\u001b[38;5;241m=\u001b[39mignore_version_mismatch,\n\u001b[0;32m   (...)\u001b[0m\n\u001b[1;32m    748\u001b[0m     \u001b[38;5;241m*\u001b[39m\u001b[38;5;241m*\u001b[39makwargs\n\u001b[1;32m    749\u001b[0m )\n\u001b[1;32m    750\u001b[0m \u001b[38;5;66;03m# map hdulist to blocks here\u001b[39;00m\n\u001b[0;32m--> 751\u001b[0m \u001b[43m_map_hdulist_to_arrays\u001b[49m\u001b[43m(\u001b[49m\u001b[43mhdulist\u001b[49m\u001b[43m,\u001b[49m\u001b[43m \u001b[49m\u001b[43maf\u001b[49m\u001b[43m)\u001b[49m\n\u001b[1;32m    752\u001b[0m \u001b[38;5;28;01mreturn\u001b[39;00m af\n",
      "File \u001b[0;32m/blue/adamginsburg/adamginsburg/miniconda3/envs/python39savannah/lib/python3.9/site-packages/stdatamodels/fits_support.py:778\u001b[0m, in \u001b[0;36m_map_hdulist_to_arrays\u001b[0;34m(hdulist, af)\u001b[0m\n\u001b[1;32m    776\u001b[0m         \u001b[38;5;28;01mreturn\u001b[39;00m data\n\u001b[1;32m    777\u001b[0m     \u001b[38;5;28;01mreturn\u001b[39;00m node\n\u001b[0;32m--> 778\u001b[0m af\u001b[38;5;241m.\u001b[39mtree \u001b[38;5;241m=\u001b[39m \u001b[43mtreeutil\u001b[49m\u001b[38;5;241;43m.\u001b[39;49m\u001b[43mwalk_and_modify\u001b[49m\u001b[43m(\u001b[49m\u001b[43maf\u001b[49m\u001b[38;5;241;43m.\u001b[39;49m\u001b[43mtree\u001b[49m\u001b[43m,\u001b[49m\u001b[43m \u001b[49m\u001b[43mcallback\u001b[49m\u001b[43m)\u001b[49m\n",
      "File \u001b[0;32m/blue/adamginsburg/adamginsburg/miniconda3/envs/python39savannah/lib/python3.9/site-packages/asdf/treeutil.py:418\u001b[0m, in \u001b[0;36mwalk_and_modify\u001b[0;34m(top, callback, ignore_implicit_conversion, postorder, _context)\u001b[0m\n\u001b[1;32m    415\u001b[0m     _context \u001b[38;5;241m=\u001b[39m _TreeModificationContext()\n\u001b[1;32m    417\u001b[0m \u001b[38;5;28;01mwith\u001b[39;00m _context:\n\u001b[0;32m--> 418\u001b[0m     \u001b[38;5;28;01mreturn\u001b[39;00m \u001b[43m_recurse\u001b[49m\u001b[43m(\u001b[49m\u001b[43mtop\u001b[49m\u001b[43m)\u001b[49m\n",
      "File \u001b[0;32m/blue/adamginsburg/adamginsburg/miniconda3/envs/python39savannah/lib/python3.9/site-packages/asdf/treeutil.py:399\u001b[0m, in \u001b[0;36mwalk_and_modify.<locals>._recurse\u001b[0;34m(node, json_id)\u001b[0m\n\u001b[1;32m    394\u001b[0m     json_id \u001b[38;5;241m=\u001b[39m node[\u001b[38;5;124m\"\u001b[39m\u001b[38;5;124mid\u001b[39m\u001b[38;5;124m\"\u001b[39m]\n\u001b[1;32m    396\u001b[0m \u001b[38;5;28;01mif\u001b[39;00m postorder:\n\u001b[1;32m    397\u001b[0m     \u001b[38;5;66;03m# If this is a postorder modification, invoke the\u001b[39;00m\n\u001b[1;32m    398\u001b[0m     \u001b[38;5;66;03m# callback on this node's children first.\u001b[39;00m\n\u001b[0;32m--> 399\u001b[0m     result \u001b[38;5;241m=\u001b[39m \u001b[43m_handle_children\u001b[49m\u001b[43m(\u001b[49m\u001b[43mnode\u001b[49m\u001b[43m,\u001b[49m\u001b[43m \u001b[49m\u001b[43mjson_id\u001b[49m\u001b[43m)\u001b[49m\n\u001b[1;32m    400\u001b[0m     result \u001b[38;5;241m=\u001b[39m _handle_callback(result, json_id)\n\u001b[1;32m    401\u001b[0m \u001b[38;5;28;01melse\u001b[39;00m:\n\u001b[1;32m    402\u001b[0m     \u001b[38;5;66;03m# Otherwise, invoke the callback on the node first,\u001b[39;00m\n\u001b[1;32m    403\u001b[0m     \u001b[38;5;66;03m# then its children.\u001b[39;00m\n",
      "File \u001b[0;32m/blue/adamginsburg/adamginsburg/miniconda3/envs/python39savannah/lib/python3.9/site-packages/asdf/treeutil.py:375\u001b[0m, in \u001b[0;36mwalk_and_modify.<locals>._handle_children\u001b[0;34m(node, json_id)\u001b[0m\n\u001b[1;32m    372\u001b[0m \u001b[38;5;28;01melse\u001b[39;00m:\n\u001b[1;32m    373\u001b[0m     result \u001b[38;5;241m=\u001b[39m node\n\u001b[0;32m--> 375\u001b[0m \u001b[38;5;28;01mreturn\u001b[39;00m \u001b[43m_handle_generator\u001b[49m\u001b[43m(\u001b[49m\u001b[43mresult\u001b[49m\u001b[43m)\u001b[49m\n",
      "File \u001b[0;32m/blue/adamginsburg/adamginsburg/miniconda3/envs/python39savannah/lib/python3.9/site-packages/asdf/treeutil.py:279\u001b[0m, in \u001b[0;36mwalk_and_modify.<locals>._handle_generator\u001b[0;34m(result)\u001b[0m\n\u001b[1;32m    277\u001b[0m \u001b[38;5;28;01mif\u001b[39;00m \u001b[38;5;28misinstance\u001b[39m(result, types\u001b[38;5;241m.\u001b[39mGeneratorType):\n\u001b[1;32m    278\u001b[0m     generator \u001b[38;5;241m=\u001b[39m result\n\u001b[0;32m--> 279\u001b[0m     result \u001b[38;5;241m=\u001b[39m \u001b[38;5;28;43mnext\u001b[39;49m\u001b[43m(\u001b[49m\u001b[43mgenerator\u001b[49m\u001b[43m)\u001b[49m\n\u001b[1;32m    280\u001b[0m     _context\u001b[38;5;241m.\u001b[39madd_generator(generator)\n\u001b[1;32m    282\u001b[0m \u001b[38;5;28;01mreturn\u001b[39;00m result\n",
      "File \u001b[0;32m/blue/adamginsburg/adamginsburg/miniconda3/envs/python39savannah/lib/python3.9/site-packages/asdf/treeutil.py:304\u001b[0m, in \u001b[0;36mwalk_and_modify.<locals>._handle_mapping\u001b[0;34m(node, json_id)\u001b[0m\n\u001b[1;32m    301\u001b[0m         pending_items[key] \u001b[38;5;241m=\u001b[39m value\n\u001b[1;32m    302\u001b[0m         result[key] \u001b[38;5;241m=\u001b[39m PendingValue\n\u001b[0;32m--> 304\u001b[0m     \u001b[38;5;28;01melif\u001b[39;00m (val \u001b[38;5;241m:=\u001b[39m \u001b[43m_recurse\u001b[49m\u001b[43m(\u001b[49m\u001b[43mvalue\u001b[49m\u001b[43m,\u001b[49m\u001b[43m \u001b[49m\u001b[43mjson_id\u001b[49m\u001b[43m)\u001b[49m) \u001b[38;5;129;01mis\u001b[39;00m \u001b[38;5;129;01mnot\u001b[39;00m RemoveNode:\n\u001b[1;32m    305\u001b[0m         result[key] \u001b[38;5;241m=\u001b[39m val\n\u001b[1;32m    307\u001b[0m \u001b[38;5;28;01myield\u001b[39;00m result\n",
      "File \u001b[0;32m/blue/adamginsburg/adamginsburg/miniconda3/envs/python39savannah/lib/python3.9/site-packages/asdf/treeutil.py:400\u001b[0m, in \u001b[0;36mwalk_and_modify.<locals>._recurse\u001b[0;34m(node, json_id)\u001b[0m\n\u001b[1;32m    396\u001b[0m \u001b[38;5;28;01mif\u001b[39;00m postorder:\n\u001b[1;32m    397\u001b[0m     \u001b[38;5;66;03m# If this is a postorder modification, invoke the\u001b[39;00m\n\u001b[1;32m    398\u001b[0m     \u001b[38;5;66;03m# callback on this node's children first.\u001b[39;00m\n\u001b[1;32m    399\u001b[0m     result \u001b[38;5;241m=\u001b[39m _handle_children(node, json_id)\n\u001b[0;32m--> 400\u001b[0m     result \u001b[38;5;241m=\u001b[39m \u001b[43m_handle_callback\u001b[49m\u001b[43m(\u001b[49m\u001b[43mresult\u001b[49m\u001b[43m,\u001b[49m\u001b[43m \u001b[49m\u001b[43mjson_id\u001b[49m\u001b[43m)\u001b[49m\n\u001b[1;32m    401\u001b[0m \u001b[38;5;28;01melse\u001b[39;00m:\n\u001b[1;32m    402\u001b[0m     \u001b[38;5;66;03m# Otherwise, invoke the callback on the node first,\u001b[39;00m\n\u001b[1;32m    403\u001b[0m     \u001b[38;5;66;03m# then its children.\u001b[39;00m\n\u001b[1;32m    404\u001b[0m     result \u001b[38;5;241m=\u001b[39m _handle_callback(node, json_id)\n",
      "File \u001b[0;32m/blue/adamginsburg/adamginsburg/miniconda3/envs/python39savannah/lib/python3.9/site-packages/asdf/treeutil.py:285\u001b[0m, in \u001b[0;36mwalk_and_modify.<locals>._handle_callback\u001b[0;34m(node, json_id)\u001b[0m\n\u001b[1;32m    284\u001b[0m \u001b[38;5;28;01mdef\u001b[39;00m \u001b[38;5;21m_handle_callback\u001b[39m(node, json_id):\n\u001b[0;32m--> 285\u001b[0m     result \u001b[38;5;241m=\u001b[39m callback(node) \u001b[38;5;28;01mif\u001b[39;00m callback_arity \u001b[38;5;241m==\u001b[39m \u001b[38;5;241m1\u001b[39m \u001b[38;5;28;01melse\u001b[39;00m \u001b[43mcallback\u001b[49m\u001b[43m(\u001b[49m\u001b[43mnode\u001b[49m\u001b[43m,\u001b[49m\u001b[43m \u001b[49m\u001b[43mjson_id\u001b[49m\u001b[43m)\u001b[49m\n\u001b[1;32m    287\u001b[0m     \u001b[38;5;28;01mreturn\u001b[39;00m _handle_generator(result)\n",
      "File \u001b[0;32m/blue/adamginsburg/adamginsburg/miniconda3/envs/python39savannah/lib/python3.9/site-packages/stdatamodels/fits_support.py:775\u001b[0m, in \u001b[0;36m_map_hdulist_to_arrays.<locals>.callback\u001b[0;34m(node, json_id)\u001b[0m\n\u001b[1;32m    773\u001b[0m         \u001b[38;5;28;01melse\u001b[39;00m:\n\u001b[1;32m    774\u001b[0m             pair \u001b[38;5;241m=\u001b[39m ver\n\u001b[0;32m--> 775\u001b[0m     data \u001b[38;5;241m=\u001b[39m \u001b[43mhdulist\u001b[49m\u001b[43m[\u001b[49m\u001b[43mpair\u001b[49m\u001b[43m]\u001b[49m\u001b[38;5;241;43m.\u001b[39;49m\u001b[43mdata\u001b[49m\n\u001b[1;32m    776\u001b[0m     \u001b[38;5;28;01mreturn\u001b[39;00m data\n\u001b[1;32m    777\u001b[0m \u001b[38;5;28;01mreturn\u001b[39;00m node\n",
      "File \u001b[0;32m/blue/adamginsburg/adamginsburg/repos/astropy/astropy/utils/decorators.py:837\u001b[0m, in \u001b[0;36mlazyproperty.__get__\u001b[0;34m(self, obj, owner)\u001b[0m\n\u001b[1;32m    835\u001b[0m         val \u001b[38;5;241m=\u001b[39m obj_dict\u001b[38;5;241m.\u001b[39mget(\u001b[38;5;28mself\u001b[39m\u001b[38;5;241m.\u001b[39m_key, _NotFound)\n\u001b[1;32m    836\u001b[0m         \u001b[38;5;28;01mif\u001b[39;00m val \u001b[38;5;129;01mis\u001b[39;00m _NotFound:\n\u001b[0;32m--> 837\u001b[0m             val \u001b[38;5;241m=\u001b[39m \u001b[38;5;28;43mself\u001b[39;49m\u001b[38;5;241;43m.\u001b[39;49m\u001b[43mfget\u001b[49m\u001b[43m(\u001b[49m\u001b[43mobj\u001b[49m\u001b[43m)\u001b[49m\n\u001b[1;32m    838\u001b[0m             obj_dict[\u001b[38;5;28mself\u001b[39m\u001b[38;5;241m.\u001b[39m_key] \u001b[38;5;241m=\u001b[39m val\n\u001b[1;32m    839\u001b[0m \u001b[38;5;28;01mreturn\u001b[39;00m val\n",
      "File \u001b[0;32m/blue/adamginsburg/adamginsburg/repos/astropy/astropy/io/fits/hdu/image.py:250\u001b[0m, in \u001b[0;36m_ImageBaseHDU.data\u001b[0;34m(self)\u001b[0m\n\u001b[1;32m    247\u001b[0m \u001b[38;5;28;01mif\u001b[39;00m \u001b[38;5;28mlen\u001b[39m(\u001b[38;5;28mself\u001b[39m\u001b[38;5;241m.\u001b[39m_axes) \u001b[38;5;241m<\u001b[39m \u001b[38;5;241m1\u001b[39m:\n\u001b[1;32m    248\u001b[0m     \u001b[38;5;28;01mreturn\u001b[39;00m\n\u001b[0;32m--> 250\u001b[0m data \u001b[38;5;241m=\u001b[39m \u001b[38;5;28;43mself\u001b[39;49m\u001b[38;5;241;43m.\u001b[39;49m\u001b[43m_get_scaled_image_data\u001b[49m\u001b[43m(\u001b[49m\u001b[38;5;28;43mself\u001b[39;49m\u001b[38;5;241;43m.\u001b[39;49m\u001b[43m_data_offset\u001b[49m\u001b[43m,\u001b[49m\u001b[43m \u001b[49m\u001b[38;5;28;43mself\u001b[39;49m\u001b[38;5;241;43m.\u001b[39;49m\u001b[43mshape\u001b[49m\u001b[43m)\u001b[49m\n\u001b[1;32m    251\u001b[0m \u001b[38;5;28mself\u001b[39m\u001b[38;5;241m.\u001b[39m_update_header_scale_info(data\u001b[38;5;241m.\u001b[39mdtype)\n\u001b[1;32m    253\u001b[0m \u001b[38;5;28;01mreturn\u001b[39;00m data\n",
      "File \u001b[0;32m/blue/adamginsburg/adamginsburg/repos/astropy/astropy/io/fits/hdu/image.py:809\u001b[0m, in \u001b[0;36m_ImageBaseHDU._get_scaled_image_data\u001b[0;34m(self, offset, shape)\u001b[0m\n\u001b[1;32m    802\u001b[0m \u001b[38;5;250m\u001b[39m\u001b[38;5;124;03m\"\"\"\u001b[39;00m\n\u001b[1;32m    803\u001b[0m \u001b[38;5;124;03mInternal function for reading image data from a file and apply scale\u001b[39;00m\n\u001b[1;32m    804\u001b[0m \u001b[38;5;124;03mfactors to it.  Normally this is used for the entire image, but it\u001b[39;00m\n\u001b[1;32m    805\u001b[0m \u001b[38;5;124;03msupports alternate offset/shape for Section support.\u001b[39;00m\n\u001b[1;32m    806\u001b[0m \u001b[38;5;124;03m\"\"\"\u001b[39;00m\n\u001b[1;32m    807\u001b[0m code \u001b[38;5;241m=\u001b[39m BITPIX2DTYPE[\u001b[38;5;28mself\u001b[39m\u001b[38;5;241m.\u001b[39m_orig_bitpix]\n\u001b[0;32m--> 809\u001b[0m raw_data \u001b[38;5;241m=\u001b[39m \u001b[38;5;28;43mself\u001b[39;49m\u001b[38;5;241;43m.\u001b[39;49m\u001b[43m_get_raw_data\u001b[49m\u001b[43m(\u001b[49m\u001b[43mshape\u001b[49m\u001b[43m,\u001b[49m\u001b[43m \u001b[49m\u001b[43mcode\u001b[49m\u001b[43m,\u001b[49m\u001b[43m \u001b[49m\u001b[43moffset\u001b[49m\u001b[43m)\u001b[49m\n\u001b[1;32m    810\u001b[0m raw_data\u001b[38;5;241m.\u001b[39mdtype \u001b[38;5;241m=\u001b[39m raw_data\u001b[38;5;241m.\u001b[39mdtype\u001b[38;5;241m.\u001b[39mnewbyteorder(\u001b[38;5;124m\"\u001b[39m\u001b[38;5;124m>\u001b[39m\u001b[38;5;124m\"\u001b[39m)\n\u001b[1;32m    812\u001b[0m \u001b[38;5;28;01mif\u001b[39;00m \u001b[38;5;28mself\u001b[39m\u001b[38;5;241m.\u001b[39m_do_not_scale_image_data \u001b[38;5;129;01mor\u001b[39;00m (\n\u001b[1;32m    813\u001b[0m     \u001b[38;5;28mself\u001b[39m\u001b[38;5;241m.\u001b[39m_orig_bzero \u001b[38;5;241m==\u001b[39m \u001b[38;5;241m0\u001b[39m \u001b[38;5;129;01mand\u001b[39;00m \u001b[38;5;28mself\u001b[39m\u001b[38;5;241m.\u001b[39m_orig_bscale \u001b[38;5;241m==\u001b[39m \u001b[38;5;241m1\u001b[39m \u001b[38;5;129;01mand\u001b[39;00m \u001b[38;5;28mself\u001b[39m\u001b[38;5;241m.\u001b[39m_blank \u001b[38;5;129;01mis\u001b[39;00m \u001b[38;5;28;01mNone\u001b[39;00m\n\u001b[1;32m    814\u001b[0m ):\n\u001b[1;32m    815\u001b[0m     \u001b[38;5;66;03m# No further conversion of the data is necessary\u001b[39;00m\n",
      "File \u001b[0;32m/blue/adamginsburg/adamginsburg/repos/astropy/astropy/io/fits/hdu/base.py:547\u001b[0m, in \u001b[0;36m_BaseHDU._get_raw_data\u001b[0;34m(self, shape, code, offset)\u001b[0m\n\u001b[1;32m    545\u001b[0m     \u001b[38;5;28;01mreturn\u001b[39;00m np\u001b[38;5;241m.\u001b[39mndarray(shape, dtype\u001b[38;5;241m=\u001b[39mcode, buffer\u001b[38;5;241m=\u001b[39m\u001b[38;5;28mself\u001b[39m\u001b[38;5;241m.\u001b[39m_buffer, offset\u001b[38;5;241m=\u001b[39moffset)\n\u001b[1;32m    546\u001b[0m \u001b[38;5;28;01melif\u001b[39;00m \u001b[38;5;28mself\u001b[39m\u001b[38;5;241m.\u001b[39m_file:\n\u001b[0;32m--> 547\u001b[0m     \u001b[38;5;28;01mreturn\u001b[39;00m \u001b[38;5;28;43mself\u001b[39;49m\u001b[38;5;241;43m.\u001b[39;49m\u001b[43m_file\u001b[49m\u001b[38;5;241;43m.\u001b[39;49m\u001b[43mreadarray\u001b[49m\u001b[43m(\u001b[49m\u001b[43moffset\u001b[49m\u001b[38;5;241;43m=\u001b[39;49m\u001b[43moffset\u001b[49m\u001b[43m,\u001b[49m\u001b[43m \u001b[49m\u001b[43mdtype\u001b[49m\u001b[38;5;241;43m=\u001b[39;49m\u001b[43mcode\u001b[49m\u001b[43m,\u001b[49m\u001b[43m \u001b[49m\u001b[43mshape\u001b[49m\u001b[38;5;241;43m=\u001b[39;49m\u001b[43mshape\u001b[49m\u001b[43m)\u001b[49m\n\u001b[1;32m    548\u001b[0m \u001b[38;5;28;01melse\u001b[39;00m:\n\u001b[1;32m    549\u001b[0m     \u001b[38;5;28;01mreturn\u001b[39;00m \u001b[38;5;28;01mNone\u001b[39;00m\n",
      "File \u001b[0;32m/blue/adamginsburg/adamginsburg/repos/astropy/astropy/io/fits/file.py:384\u001b[0m, in \u001b[0;36m_File.readarray\u001b[0;34m(self, size, offset, dtype, shape)\u001b[0m\n\u001b[1;32m    382\u001b[0m count \u001b[38;5;241m=\u001b[39m reduce(operator\u001b[38;5;241m.\u001b[39mmul, shape)\n\u001b[1;32m    383\u001b[0m \u001b[38;5;28mself\u001b[39m\u001b[38;5;241m.\u001b[39m_file\u001b[38;5;241m.\u001b[39mseek(offset)\n\u001b[0;32m--> 384\u001b[0m data \u001b[38;5;241m=\u001b[39m \u001b[43m_array_from_file\u001b[49m\u001b[43m(\u001b[49m\u001b[38;5;28;43mself\u001b[39;49m\u001b[38;5;241;43m.\u001b[39;49m\u001b[43m_file\u001b[49m\u001b[43m,\u001b[49m\u001b[43m \u001b[49m\u001b[43mdtype\u001b[49m\u001b[43m,\u001b[49m\u001b[43m \u001b[49m\u001b[43mcount\u001b[49m\u001b[43m)\u001b[49m\n\u001b[1;32m    385\u001b[0m data\u001b[38;5;241m.\u001b[39mshape \u001b[38;5;241m=\u001b[39m shape\n\u001b[1;32m    386\u001b[0m \u001b[38;5;28;01mreturn\u001b[39;00m data\n",
      "File \u001b[0;32m/blue/adamginsburg/adamginsburg/repos/astropy/astropy/io/fits/util.py:552\u001b[0m, in \u001b[0;36m_array_from_file\u001b[0;34m(infile, dtype, count)\u001b[0m\n\u001b[1;32m    550\u001b[0m             \u001b[38;5;28;01mreturn\u001b[39;00m array\n\u001b[1;32m    551\u001b[0m     \u001b[38;5;28;01melse\u001b[39;00m:\n\u001b[0;32m--> 552\u001b[0m         \u001b[38;5;28;01mreturn\u001b[39;00m \u001b[43mnp\u001b[49m\u001b[38;5;241;43m.\u001b[39;49m\u001b[43mfromfile\u001b[49m\u001b[43m(\u001b[49m\u001b[43minfile\u001b[49m\u001b[43m,\u001b[49m\u001b[43m \u001b[49m\u001b[43mdtype\u001b[49m\u001b[38;5;241;43m=\u001b[39;49m\u001b[43mdtype\u001b[49m\u001b[43m,\u001b[49m\u001b[43m \u001b[49m\u001b[43mcount\u001b[49m\u001b[38;5;241;43m=\u001b[39;49m\u001b[43mcount\u001b[49m\u001b[43m)\u001b[49m\n\u001b[1;32m    553\u001b[0m \u001b[38;5;28;01melse\u001b[39;00m:\n\u001b[1;32m    554\u001b[0m     \u001b[38;5;66;03m# treat as file-like object with \"read\" method; this includes gzip file\u001b[39;00m\n\u001b[1;32m    555\u001b[0m     \u001b[38;5;66;03m# objects, because numpy.fromfile just reads the compressed bytes from\u001b[39;00m\n\u001b[1;32m    556\u001b[0m     \u001b[38;5;66;03m# their underlying file object, instead of the decompressed bytes\u001b[39;00m\n\u001b[1;32m    557\u001b[0m     read_size \u001b[38;5;241m=\u001b[39m np\u001b[38;5;241m.\u001b[39mdtype(dtype)\u001b[38;5;241m.\u001b[39mitemsize \u001b[38;5;241m*\u001b[39m count\n",
      "\u001b[0;31mKeyboardInterrupt\u001b[0m: "
     ]
    }
   ],
   "source": [
    "def compare(files):\n",
    "    x, y = (1024, 1024)\n",
    "    for f in files:\n",
    "        cal_file = f\n",
    "        tweak_file = f[:-8]+'destreak_tweakregstep.fits'\n",
    "        \n",
    "        cal_data = datamodels.open(cal_file)\n",
    "        tweak_data = datamodels.open(tweak_file)\n",
    "        \n",
    "        cal_detector_to_world = cal_data.meta.wcs.get_transform('detector', 'world')\n",
    "        run_detector_to_world = tweak_data.meta.wcs.get_transform('detector', 'world')\n",
    "        \n",
    "        print('Cal:', cal_detector_to_world(x, y))\n",
    "        print(run_detector_to_world(x, y))\n",
    "        diffx = cal_detector_to_world(x, y)[0] - run_detector_to_world(x, y)[0]\n",
    "        diffy = cal_detector_to_world(x, y)[1] - run_detector_to_world(x, y)[1]\n",
    "        print('Difference:', diffx, diffy)\n",
    "        \n",
    "        print()\n",
    "        \n",
    "\n",
    "point = '02201'\n",
    "files = glob(os.path.join(output_dir, f'jw02221{field}*{point}*{module}long_cal.fits'))\n",
    "compare(files)"
   ]
  },
  {
   "cell_type": "code",
   "execution_count": null,
   "id": "55dd140b-1fd1-4b1e-bb6b-81c6794ed1ce",
   "metadata": {},
   "outputs": [],
   "source": []
  },
  {
   "cell_type": "code",
   "execution_count": 64,
   "id": "ee8ba04f-8dbc-4994-bf77-79bf2fd423e3",
   "metadata": {},
   "outputs": [],
   "source": [
    "cal_data = datamodels.open('/orange/adamginsburg/jwst/cloudc/F405N/pipeline/jw02221002001_02201_00002_nrcalong_cal.fits')\n",
    "#tweak_data = datamodels.open(tweak_file)\n",
    "tweak_data = datamodels.open('/orange/adamginsburg/jwst/cloudc/F405N/pipeline/jw02221002001_02201_00002_nrcalong_destreak.fits')\n"
   ]
  },
  {
   "cell_type": "code",
   "execution_count": 66,
   "id": "048b3ebe-2a06-4d04-9d61-312f451d7d09",
   "metadata": {},
   "outputs": [],
   "source": [
    "cal_detector_to_world = cal_data.meta.wcs.get_transform('detector', 'world')\n",
    "run_detector_to_world = tweak_data.meta.wcs.get_transform('detector', 'world')"
   ]
  },
  {
   "cell_type": "code",
   "execution_count": 67,
   "id": "b33b023b-1cae-4c75-9f94-7d25fcb4a597",
   "metadata": {},
   "outputs": [],
   "source": []
  },
  {
   "cell_type": "code",
   "execution_count": 68,
   "id": "2ba137a5-0b57-4f80-821a-47ff65a96899",
   "metadata": {},
   "outputs": [
    {
     "name": "stdout",
     "output_type": "stream",
     "text": [
      "2023-07-27T14:16:44.932300: (266.58459696150726, -28.59355794836456)\n",
      "2023-07-27T14:16:44.951258: (266.58459696150726, -28.59355794836456)\n"
     ]
    }
   ],
   "source": [
    "print(cal_detector_to_world(x, y))\n",
    "print(run_detector_to_world(x, y))"
   ]
  },
  {
   "cell_type": "code",
   "execution_count": 58,
   "id": "cedfb0a7-b80c-41d1-b9a8-cecd3ef6ce21",
   "metadata": {},
   "outputs": [
    {
     "data": {
      "text/plain": [
       "<CompoundModel(offset_0=-0.093, offset_1=0.033, offset_2=1., offset_3=1., offset_4=-1024.5, offset_5=-1024.5, c0_0_7=0., c1_0_7=0.06275847, c2_0_7=0.00000012, c3_0_7=0., c4_0_7=-0., c5_0_7=0., c0_1_7=-0., c0_2_7=-0.0000001, c0_3_7=-0., c0_4_7=0., c0_5_7=0., c1_1_7=-0.00000073, c1_2_7=0., c1_3_7=-0., c1_4_7=0., c2_1_7=-0., c2_2_7=0., c2_3_7=0., c3_1_7=-0., c3_2_7=0., c4_1_7=0., c0_0_8=0., c1_0_8=-0.00009902, c2_0_8=0.00000031, c3_0_8=0., c4_0_8=0., c5_0_8=-0., c0_1_8=0.06306468, c0_2_8=-0.00000042, c0_3_8=0., c0_4_8=-0., c0_5_8=0., c1_1_8=0.00000023, c1_2_8=-0., c1_3_8=0., c1_4_8=-0., c2_1_8=0., c2_2_8=-0., c2_3_8=0., c3_1_8=0., c3_2_8=-0., c4_1_8=0., c0_0_10=0., c1_0_10=-0.99999954, c0_1_10=-0.00095806, c0_0_11=0., c1_0_11=-0.00095806, c0_1_11=0.99999954, offset_12=85.9392976, offset_13=-493.5106528, factor_14=1.00008927, factor_15=1.00008927, offset_16=-0.0076718, offset_17=0.04405571, factor_18=0.00027778, factor_19=0.00027778, angles_21=[   0.02387203,    0.13708629,  275.45960573,  -28.59355176, -266.5846083 ])>"
      ]
     },
     "execution_count": 58,
     "metadata": {},
     "output_type": "execute_result"
    }
   ],
   "source": [
    "run_detector_to_world"
   ]
  },
  {
   "cell_type": "code",
   "execution_count": 60,
   "id": "ce305727-9fbf-4c9c-ba0c-93a8ecfbaecb",
   "metadata": {
    "tags": []
   },
   "outputs": [
    {
     "ename": "NameError",
     "evalue": "name 'tweak_data' is not defined",
     "output_type": "error",
     "traceback": [
      "\u001b[0;31m---------------------------------------------------------------------------\u001b[0m",
      "\u001b[0;31mNameError\u001b[0m                                 Traceback (most recent call last)",
      "Cell \u001b[0;32mIn[60], line 1\u001b[0m\n\u001b[0;32m----> 1\u001b[0m \u001b[43mtweak_data\u001b[49m\u001b[38;5;241m.\u001b[39mmeta\u001b[38;5;241m.\u001b[39mwcs\n",
      "\u001b[0;31mNameError\u001b[0m: name 'tweak_data' is not defined"
     ]
    }
   ],
   "source": [
    "tweak_data.meta.wcs"
   ]
  },
  {
   "cell_type": "code",
   "execution_count": 69,
   "id": "185d5a73-6a77-4079-a758-ee7ea39d8481",
   "metadata": {},
   "outputs": [
    {
     "data": {
      "text/plain": [
       "['/orange/adamginsburg/jwst/cloudc/F405N/pipeline/jw02221-o002_20230410t190607_image3_00004_asn.json',\n",
       " '/orange/adamginsburg/jwst/cloudc/F405N/pipeline/jw02221-o002_20230622t004213_image3_00004_asn.json']"
      ]
     },
     "execution_count": 69,
     "metadata": {},
     "output_type": "execute_result"
    }
   ],
   "source": [
    "glob(os.path.join(output_dir, f'jw02221-o{field}*_image3_*0[0-9][0-9]_asn.json'))"
   ]
  },
  {
   "cell_type": "code",
   "execution_count": 76,
   "id": "25885e00-922e-40bc-a3d0-f3158a6dc886",
   "metadata": {},
   "outputs": [
    {
     "name": "stdout",
     "output_type": "stream",
     "text": [
      "2023-07-27T14:39:46.562408: test\n"
     ]
    }
   ],
   "source": [
    "print('test')"
   ]
  },
  {
   "cell_type": "code",
   "execution_count": 15,
   "id": "faa0261f-4c82-4bbc-87cb-b72d83886eef",
   "metadata": {
    "tags": []
   },
   "outputs": [
    {
     "name": "stderr",
     "output_type": "stream",
     "text": [
      "2023-09-25 11:24:58,661 - stpipe.SkyMatchStep - INFO - SkyMatchStep instance created.\n",
      "2023-09-25 11:24:58,803 - stpipe.SkyMatchStep - INFO - Step SkyMatchStep running with args (<ModelContainer>,).\n",
      "2023-09-25 11:24:58,805 - stpipe.SkyMatchStep - INFO - Step SkyMatchStep parameters are: {'pre_hooks': [], 'post_hooks': [], 'output_file': None, 'output_dir': '/orange/adamginsburg/jwst/cloudc/F405N/pipeline/', 'output_ext': '.fits', 'output_use_model': False, 'output_use_index': True, 'save_results': True, 'skip': False, 'suffix': None, 'search_output_file': True, 'input_dir': '', 'skymethod': 'global+match', 'match_down': True, 'subtract': False, 'stepsize': None, 'skystat': 'mode', 'dqbits': '~DO_NOT_USE+NON_SCIENCE', 'lower': None, 'upper': None, 'nclip': 5, 'lsigma': 4.0, 'usigma': 4.0, 'binwidth': 0.1}\n",
      "2023-09-25 11:24:59,191 - stpipe.SkyMatchStep - INFO -  \n",
      "2023-09-25 11:24:59,192 - stpipe.SkyMatchStep - INFO - ***** jwst.skymatch.skymatch.match() started on 2023-09-25 11:24:59.190978\n",
      "2023-09-25 11:24:59,193 - stpipe.SkyMatchStep - INFO -  \n",
      "2023-09-25 11:24:59,194 - stpipe.SkyMatchStep - INFO - Sky computation method: 'global+match'\n",
      "2023-09-25 11:24:59,195 - stpipe.SkyMatchStep - INFO - Sky matching direction: DOWN\n",
      "2023-09-25 11:24:59,196 - stpipe.SkyMatchStep - INFO - Sky subtraction from image data: OFF\n",
      "2023-09-25 11:24:59,197 - stpipe.SkyMatchStep - INFO -  \n",
      "2023-09-25 11:24:59,198 - stpipe.SkyMatchStep - INFO - ----  Computing differences in sky values in overlapping regions.\n",
      "2023-09-25 11:26:16,650 - stpipe.SkyMatchStep - INFO -    *  Image ID=jw02221002001_02201_00001_nrcblong_align_tweakregstep.fits. Sky background: 0.229298\n",
      "2023-09-25 11:26:16,652 - stpipe.SkyMatchStep - INFO -    *  Image ID=jw02221002001_02201_00002_nrcblong_align_tweakregstep.fits. Sky background: 0.0730288\n",
      "2023-09-25 11:26:16,653 - stpipe.SkyMatchStep - INFO -    *  Image ID=jw02221002001_02201_00003_nrcblong_align_tweakregstep.fits. Sky background: 0.144228\n",
      "2023-09-25 11:26:16,654 - stpipe.SkyMatchStep - INFO -    *  Image ID=jw02221002001_02201_00004_nrcblong_align_tweakregstep.fits. Sky background: 0\n",
      "2023-09-25 11:26:16,655 - stpipe.SkyMatchStep - INFO -    *  Image ID=jw02221002001_08201_00001_nrcblong_align_tweakregstep.fits. Sky background: 0.137279\n",
      "2023-09-25 11:26:16,656 - stpipe.SkyMatchStep - INFO -    *  Image ID=jw02221002001_08201_00002_nrcblong_align_tweakregstep.fits. Sky background: 0.147255\n",
      "2023-09-25 11:26:16,656 - stpipe.SkyMatchStep - INFO -    *  Image ID=jw02221002001_08201_00003_nrcblong_align_tweakregstep.fits. Sky background: 0.178798\n",
      "2023-09-25 11:26:16,657 - stpipe.SkyMatchStep - INFO -    *  Image ID=jw02221002001_08201_00004_nrcblong_align_tweakregstep.fits. Sky background: 0.0383896\n",
      "2023-09-25 11:26:16,658 - stpipe.SkyMatchStep - INFO -    *  Image ID=jw02221002002_02201_00001_nrcblong_align_tweakregstep.fits. Sky background: 0.227238\n",
      "2023-09-25 11:26:16,659 - stpipe.SkyMatchStep - INFO -    *  Image ID=jw02221002002_02201_00002_nrcblong_align_tweakregstep.fits. Sky background: 0.253107\n",
      "2023-09-25 11:26:16,660 - stpipe.SkyMatchStep - INFO -    *  Image ID=jw02221002002_02201_00003_nrcblong_align_tweakregstep.fits. Sky background: 0.122197\n",
      "2023-09-25 11:26:16,661 - stpipe.SkyMatchStep - INFO -    *  Image ID=jw02221002002_02201_00004_nrcblong_align_tweakregstep.fits. Sky background: 0.171279\n",
      "2023-09-25 11:26:16,662 - stpipe.SkyMatchStep - INFO -    *  Image ID=jw02221002002_08201_00001_nrcblong_align_tweakregstep.fits. Sky background: 0.127535\n",
      "2023-09-25 11:26:16,662 - stpipe.SkyMatchStep - INFO -    *  Image ID=jw02221002002_08201_00002_nrcblong_align_tweakregstep.fits. Sky background: 0.17025\n",
      "2023-09-25 11:26:16,663 - stpipe.SkyMatchStep - INFO -    *  Image ID=jw02221002002_08201_00003_nrcblong_align_tweakregstep.fits. Sky background: 0.188436\n",
      "2023-09-25 11:26:16,664 - stpipe.SkyMatchStep - INFO -    *  Image ID=jw02221002002_08201_00004_nrcblong_align_tweakregstep.fits. Sky background: 0.029971\n",
      "2023-09-25 11:26:16,665 - stpipe.SkyMatchStep - INFO -  \n",
      "2023-09-25 11:26:16,666 - stpipe.SkyMatchStep - INFO - ----  Computing \"global\" sky - smallest sky value across *all* input images.\n",
      "2023-09-25 11:26:17,789 - stpipe.SkyMatchStep - INFO -  \n",
      "2023-09-25 11:26:17,791 - stpipe.SkyMatchStep - INFO -    \"Global\" sky value correction: 3.0972886209770483 [not converted]\n",
      "2023-09-25 11:26:17,792 - stpipe.SkyMatchStep - INFO -  \n",
      "2023-09-25 11:26:17,793 - stpipe.SkyMatchStep - INFO - ----  Final (match+global) sky for:\n",
      "2023-09-25 11:26:17,794 - stpipe.SkyMatchStep - INFO -    *  Image ID=jw02221002001_02201_00001_nrcblong_align_tweakregstep.fits. Sky background: 3.32659 (old=0.229298, delta=3.09729)\n",
      "2023-09-25 11:26:17,795 - stpipe.SkyMatchStep - INFO -    *  Image ID=jw02221002001_02201_00002_nrcblong_align_tweakregstep.fits. Sky background: 3.17032 (old=0.0730288, delta=3.09729)\n",
      "2023-09-25 11:26:17,796 - stpipe.SkyMatchStep - INFO -    *  Image ID=jw02221002001_02201_00003_nrcblong_align_tweakregstep.fits. Sky background: 3.24152 (old=0.144228, delta=3.09729)\n",
      "2023-09-25 11:26:17,797 - stpipe.SkyMatchStep - INFO -    *  Image ID=jw02221002001_02201_00004_nrcblong_align_tweakregstep.fits. Sky background: 3.09729 (old=0, delta=3.09729)\n",
      "2023-09-25 11:26:17,798 - stpipe.SkyMatchStep - INFO -    *  Image ID=jw02221002001_08201_00001_nrcblong_align_tweakregstep.fits. Sky background: 3.23457 (old=0.137279, delta=3.09729)\n",
      "2023-09-25 11:26:17,798 - stpipe.SkyMatchStep - INFO -    *  Image ID=jw02221002001_08201_00002_nrcblong_align_tweakregstep.fits. Sky background: 3.24454 (old=0.147255, delta=3.09729)\n",
      "2023-09-25 11:26:17,799 - stpipe.SkyMatchStep - INFO -    *  Image ID=jw02221002001_08201_00003_nrcblong_align_tweakregstep.fits. Sky background: 3.27609 (old=0.178798, delta=3.09729)\n",
      "2023-09-25 11:26:17,800 - stpipe.SkyMatchStep - INFO -    *  Image ID=jw02221002001_08201_00004_nrcblong_align_tweakregstep.fits. Sky background: 3.13568 (old=0.0383896, delta=3.09729)\n",
      "2023-09-25 11:26:17,801 - stpipe.SkyMatchStep - INFO -    *  Image ID=jw02221002002_02201_00001_nrcblong_align_tweakregstep.fits. Sky background: 3.32453 (old=0.227238, delta=3.09729)\n",
      "2023-09-25 11:26:17,802 - stpipe.SkyMatchStep - INFO -    *  Image ID=jw02221002002_02201_00002_nrcblong_align_tweakregstep.fits. Sky background: 3.3504 (old=0.253107, delta=3.09729)\n",
      "2023-09-25 11:26:17,803 - stpipe.SkyMatchStep - INFO -    *  Image ID=jw02221002002_02201_00003_nrcblong_align_tweakregstep.fits. Sky background: 3.21949 (old=0.122197, delta=3.09729)\n",
      "2023-09-25 11:26:17,804 - stpipe.SkyMatchStep - INFO -    *  Image ID=jw02221002002_02201_00004_nrcblong_align_tweakregstep.fits. Sky background: 3.26857 (old=0.171279, delta=3.09729)\n",
      "2023-09-25 11:26:17,804 - stpipe.SkyMatchStep - INFO -    *  Image ID=jw02221002002_08201_00001_nrcblong_align_tweakregstep.fits. Sky background: 3.22482 (old=0.127535, delta=3.09729)\n",
      "2023-09-25 11:26:17,805 - stpipe.SkyMatchStep - INFO -    *  Image ID=jw02221002002_08201_00002_nrcblong_align_tweakregstep.fits. Sky background: 3.26754 (old=0.17025, delta=3.09729)\n",
      "2023-09-25 11:26:17,806 - stpipe.SkyMatchStep - INFO -    *  Image ID=jw02221002002_08201_00003_nrcblong_align_tweakregstep.fits. Sky background: 3.28572 (old=0.188436, delta=3.09729)\n",
      "2023-09-25 11:26:17,807 - stpipe.SkyMatchStep - INFO -    *  Image ID=jw02221002002_08201_00004_nrcblong_align_tweakregstep.fits. Sky background: 3.12726 (old=0.029971, delta=3.09729)\n",
      "2023-09-25 11:26:17,808 - stpipe.SkyMatchStep - INFO -  \n",
      "2023-09-25 11:26:17,809 - stpipe.SkyMatchStep - INFO - ***** jwst.skymatch.skymatch.match() ended on 2023-09-25 11:26:17.808427\n",
      "2023-09-25 11:26:17,810 - stpipe.SkyMatchStep - INFO - ***** jwst.skymatch.skymatch.match() TOTAL RUN TIME: 0:01:18.617449\n",
      "2023-09-25 11:26:17,811 - stpipe.SkyMatchStep - INFO -  \n",
      "2023-09-25 11:26:18,367 - stpipe.SkyMatchStep - INFO - Saved model in /orange/adamginsburg/jwst/cloudc/F405N/pipeline/step_SkyMatchStep_0_skymatchstep.fits\n",
      "2023-09-25 11:26:18,626 - stpipe.SkyMatchStep - INFO - Saved model in /orange/adamginsburg/jwst/cloudc/F405N/pipeline/step_SkyMatchStep_1_skymatchstep.fits\n",
      "2023-09-25 11:26:18,889 - stpipe.SkyMatchStep - INFO - Saved model in /orange/adamginsburg/jwst/cloudc/F405N/pipeline/step_SkyMatchStep_2_skymatchstep.fits\n",
      "2023-09-25 11:26:19,137 - stpipe.SkyMatchStep - INFO - Saved model in /orange/adamginsburg/jwst/cloudc/F405N/pipeline/step_SkyMatchStep_3_skymatchstep.fits\n",
      "2023-09-25 11:26:19,402 - stpipe.SkyMatchStep - INFO - Saved model in /orange/adamginsburg/jwst/cloudc/F405N/pipeline/step_SkyMatchStep_4_skymatchstep.fits\n",
      "2023-09-25 11:26:19,646 - stpipe.SkyMatchStep - INFO - Saved model in /orange/adamginsburg/jwst/cloudc/F405N/pipeline/step_SkyMatchStep_5_skymatchstep.fits\n",
      "2023-09-25 11:26:19,895 - stpipe.SkyMatchStep - INFO - Saved model in /orange/adamginsburg/jwst/cloudc/F405N/pipeline/step_SkyMatchStep_6_skymatchstep.fits\n",
      "2023-09-25 11:26:20,161 - stpipe.SkyMatchStep - INFO - Saved model in /orange/adamginsburg/jwst/cloudc/F405N/pipeline/step_SkyMatchStep_7_skymatchstep.fits\n",
      "2023-09-25 11:26:20,414 - stpipe.SkyMatchStep - INFO - Saved model in /orange/adamginsburg/jwst/cloudc/F405N/pipeline/step_SkyMatchStep_8_skymatchstep.fits\n",
      "2023-09-25 11:26:20,692 - stpipe.SkyMatchStep - INFO - Saved model in /orange/adamginsburg/jwst/cloudc/F405N/pipeline/step_SkyMatchStep_9_skymatchstep.fits\n",
      "2023-09-25 11:26:21,012 - stpipe.SkyMatchStep - INFO - Saved model in /orange/adamginsburg/jwst/cloudc/F405N/pipeline/step_SkyMatchStep_10_skymatchstep.fits\n",
      "2023-09-25 11:26:21,271 - stpipe.SkyMatchStep - INFO - Saved model in /orange/adamginsburg/jwst/cloudc/F405N/pipeline/step_SkyMatchStep_11_skymatchstep.fits\n",
      "2023-09-25 11:26:21,523 - stpipe.SkyMatchStep - INFO - Saved model in /orange/adamginsburg/jwst/cloudc/F405N/pipeline/step_SkyMatchStep_12_skymatchstep.fits\n",
      "2023-09-25 11:26:21,828 - stpipe.SkyMatchStep - INFO - Saved model in /orange/adamginsburg/jwst/cloudc/F405N/pipeline/step_SkyMatchStep_13_skymatchstep.fits\n",
      "2023-09-25 11:26:22,083 - stpipe.SkyMatchStep - INFO - Saved model in /orange/adamginsburg/jwst/cloudc/F405N/pipeline/step_SkyMatchStep_14_skymatchstep.fits\n",
      "2023-09-25 11:26:22,337 - stpipe.SkyMatchStep - INFO - Saved model in /orange/adamginsburg/jwst/cloudc/F405N/pipeline/step_SkyMatchStep_15_skymatchstep.fits\n",
      "2023-09-25 11:26:22,338 - stpipe.SkyMatchStep - INFO - Step SkyMatchStep done\n"
     ]
    }
   ],
   "source": [
    "skymatch = SkyMatchStep()\n",
    "skymatch.skymethod = 'global+match'\n",
    "skymatch.save_results = True\n",
    "skymatch.output_dir = output_dir\n",
    "sky = skymatch.run(tweak)"
   ]
  },
  {
   "cell_type": "code",
   "execution_count": 101,
   "id": "89d8278f-fd6f-484d-9d56-2661e0fa6f6e",
   "metadata": {},
   "outputs": [
    {
     "name": "stdout",
     "output_type": "stream",
     "text": [
      "2023-07-27T18:29:08.056126: step_SkyMatchStep_0_skymatchstep.fits\n",
      "2023-07-27T18:29:08.056256: step_SkyMatchStep_0_skymatchstep.fits\n",
      "2023-07-27T18:29:08.056277: step_SkyMatchStep_0_skymatchstep.fits\n",
      "2023-07-27T18:29:08.056294: step_SkyMatchStep_0_skymatchstep.fits\n",
      "2023-07-27T18:29:08.056309: step_SkyMatchStep_0_skymatchstep.fits\n",
      "2023-07-27T18:29:08.056325: step_SkyMatchStep_0_skymatchstep.fits\n",
      "2023-07-27T18:29:08.056340: step_SkyMatchStep_0_skymatchstep.fits\n",
      "2023-07-27T18:29:08.056355: step_SkyMatchStep_0_skymatchstep.fits\n",
      "2023-07-27T18:29:08.056371: step_SkyMatchStep_0_skymatchstep.fits\n",
      "2023-07-27T18:29:08.056386: step_SkyMatchStep_0_skymatchstep.fits\n",
      "2023-07-27T18:29:08.056400: step_SkyMatchStep_0_skymatchstep.fits\n",
      "2023-07-27T18:29:08.056415: step_SkyMatchStep_0_skymatchstep.fits\n",
      "2023-07-27T18:29:08.056430: step_SkyMatchStep_0_skymatchstep.fits\n",
      "2023-07-27T18:29:08.056445: step_SkyMatchStep_0_skymatchstep.fits\n",
      "2023-07-27T18:29:08.056461: step_SkyMatchStep_0_skymatchstep.fits\n",
      "2023-07-27T18:29:08.056477: step_SkyMatchStep_0_skymatchstep.fits\n"
     ]
    }
   ],
   "source": [
    "for i in range(16):\n",
    "    print(sky[0].meta.filename)"
   ]
  },
  {
   "cell_type": "code",
   "execution_count": 62,
   "id": "2bc5606e-c67f-4ece-811a-58b0df987c66",
   "metadata": {},
   "outputs": [
    {
     "name": "stdout",
     "output_type": "stream",
     "text": [
      "2023-09-01T18:23:07.804229: Computed background level: 3.1323486857077834\n",
      "2023-09-01T18:23:07.804544: Background subtracted: False\n"
     ]
    }
   ],
   "source": [
    "sky_file = sky[0].meta.filename\n",
    "sky_header = fits.getheader(sky_file)\n",
    "print('Computed background level: {}'.format(sky_header['BKGLEVEL']))\n",
    "print('Background subtracted: {}'.format(sky_header['BKGSUB']))"
   ]
  },
  {
   "cell_type": "code",
   "execution_count": 63,
   "id": "44364658-dbb9-45cf-b24e-41ead9a788b1",
   "metadata": {},
   "outputs": [],
   "source": [
    "sky_data = datamodels.open(sky_file)"
   ]
  },
  {
   "cell_type": "code",
   "execution_count": 65,
   "id": "57d9e2e4-faf1-45e5-a020-e1b5c9b48ceb",
   "metadata": {},
   "outputs": [
    {
     "data": {
      "text/plain": [
       "(-28818.928, 21596.38)"
      ]
     },
     "execution_count": 65,
     "metadata": {},
     "output_type": "execute_result"
    }
   ],
   "source": [
    "np.nanmin(sky_data.data - cal_data.data), np.nanmax(sky_data.data - cal_data.data) # difference is probably due to destreaking "
   ]
  },
  {
   "cell_type": "code",
   "execution_count": 16,
   "id": "51048b3f-8146-407f-bd36-ce4e295d3980",
   "metadata": {},
   "outputs": [
    {
     "name": "stderr",
     "output_type": "stream",
     "text": [
      "2023-09-25 11:26:22,346 - stpipe.OutlierDetectionStep - INFO - OutlierDetectionStep instance created.\n",
      "2023-09-25 11:26:22,514 - stpipe.OutlierDetectionStep - INFO - Step OutlierDetectionStep running with args (<ModelContainer>,).\n",
      "2023-09-25 11:26:22,517 - stpipe.OutlierDetectionStep - INFO - Step OutlierDetectionStep parameters are: {'pre_hooks': [], 'post_hooks': [], 'output_file': None, 'output_dir': None, 'output_ext': '.fits', 'output_use_model': False, 'output_use_index': True, 'save_results': True, 'skip': False, 'suffix': None, 'search_output_file': False, 'input_dir': '', 'weight_type': 'ivm', 'pixfrac': 1.0, 'kernel': 'square', 'fillval': 'INDEF', 'nlow': 0, 'nhigh': 0, 'maskpt': 0.7, 'grow': 1, 'snr': '5.0 4.0', 'scale': '1.2 0.7', 'backg': 0.0, 'kernel_size': '7 7', 'threshold_percent': 99.8, 'ifu_second_check': False, 'save_intermediate_results': True, 'resample_data': True, 'good_bits': '~DO_NOT_USE', 'scale_detection': False, 'allowed_memory': None, 'in_memory': False}\n",
      "2023-09-25 11:26:22,526 - stpipe.OutlierDetectionStep - INFO - Performing outlier detection on 16 inputs\n",
      "2023-09-25 11:26:22,527 - stpipe.OutlierDetectionStep - INFO - Driz parameter kernel: square\n",
      "2023-09-25 11:26:22,528 - stpipe.OutlierDetectionStep - INFO - Driz parameter pixfrac: 1.0\n",
      "2023-09-25 11:26:22,528 - stpipe.OutlierDetectionStep - INFO - Driz parameter fillval: INDEF\n",
      "2023-09-25 11:26:22,529 - stpipe.OutlierDetectionStep - INFO - Driz parameter weight_type: ivm\n",
      "2023-09-25 11:26:22,530 - stpipe.OutlierDetectionStep - INFO - Output pixel scale ratio: 1.0\n",
      "2023-09-25 11:26:22,830 - stpipe.OutlierDetectionStep - INFO - 1 exposures to drizzle together\n",
      "2023-09-25 11:26:24,898 - stpipe.OutlierDetectionStep - INFO - Drizzling (2048, 2048) --> (2426, 5216)\n",
      "2023-09-25 11:26:25,867 - stpipe.OutlierDetectionStep - INFO - Exposure step_SkyMatchStep_0_outlier_i2d.fits saved to file\n",
      "2023-09-25 11:26:25,885 - stpipe.OutlierDetectionStep - INFO - 1 exposures to drizzle together\n",
      "2023-09-25 11:26:27,898 - stpipe.OutlierDetectionStep - INFO - Drizzling (2048, 2048) --> (2426, 5216)\n",
      "2023-09-25 11:26:28,862 - stpipe.OutlierDetectionStep - INFO - Exposure step_SkyMatchStep_1_outlier_i2d.fits saved to file\n",
      "2023-09-25 11:26:28,878 - stpipe.OutlierDetectionStep - INFO - 1 exposures to drizzle together\n",
      "2023-09-25 11:26:30,899 - stpipe.OutlierDetectionStep - INFO - Drizzling (2048, 2048) --> (2426, 5216)\n",
      "2023-09-25 11:26:31,862 - stpipe.OutlierDetectionStep - INFO - Exposure step_SkyMatchStep_2_outlier_i2d.fits saved to file\n",
      "2023-09-25 11:26:31,879 - stpipe.OutlierDetectionStep - INFO - 1 exposures to drizzle together\n",
      "2023-09-25 11:26:33,899 - stpipe.OutlierDetectionStep - INFO - Drizzling (2048, 2048) --> (2426, 5216)\n",
      "2023-09-25 11:26:34,905 - stpipe.OutlierDetectionStep - INFO - Exposure step_SkyMatchStep_3_outlier_i2d.fits saved to file\n",
      "2023-09-25 11:26:34,922 - stpipe.OutlierDetectionStep - INFO - 1 exposures to drizzle together\n",
      "2023-09-25 11:26:36,925 - stpipe.OutlierDetectionStep - INFO - Drizzling (2048, 2048) --> (2426, 5216)\n",
      "2023-09-25 11:26:37,881 - stpipe.OutlierDetectionStep - INFO - Exposure step_SkyMatchStep_4_outlier_i2d.fits saved to file\n",
      "2023-09-25 11:26:37,898 - stpipe.OutlierDetectionStep - INFO - 1 exposures to drizzle together\n",
      "2023-09-25 11:26:39,906 - stpipe.OutlierDetectionStep - INFO - Drizzling (2048, 2048) --> (2426, 5216)\n",
      "2023-09-25 11:26:40,859 - stpipe.OutlierDetectionStep - INFO - Exposure step_SkyMatchStep_5_outlier_i2d.fits saved to file\n",
      "2023-09-25 11:26:40,874 - stpipe.OutlierDetectionStep - INFO - 1 exposures to drizzle together\n",
      "2023-09-25 11:26:42,883 - stpipe.OutlierDetectionStep - INFO - Drizzling (2048, 2048) --> (2426, 5216)\n",
      "2023-09-25 11:26:43,932 - stpipe.OutlierDetectionStep - INFO - Exposure step_SkyMatchStep_6_outlier_i2d.fits saved to file\n",
      "2023-09-25 11:26:43,952 - stpipe.OutlierDetectionStep - INFO - 1 exposures to drizzle together\n",
      "2023-09-25 11:26:45,958 - stpipe.OutlierDetectionStep - INFO - Drizzling (2048, 2048) --> (2426, 5216)\n",
      "2023-09-25 11:26:46,938 - stpipe.OutlierDetectionStep - INFO - Exposure step_SkyMatchStep_7_outlier_i2d.fits saved to file\n",
      "2023-09-25 11:26:46,956 - stpipe.OutlierDetectionStep - INFO - 1 exposures to drizzle together\n",
      "2023-09-25 11:26:48,956 - stpipe.OutlierDetectionStep - INFO - Drizzling (2048, 2048) --> (2426, 5216)\n",
      "2023-09-25 11:26:49,915 - stpipe.OutlierDetectionStep - INFO - Exposure step_SkyMatchStep_8_outlier_i2d.fits saved to file\n",
      "2023-09-25 11:26:49,933 - stpipe.OutlierDetectionStep - INFO - 1 exposures to drizzle together\n",
      "2023-09-25 11:26:51,926 - stpipe.OutlierDetectionStep - INFO - Drizzling (2048, 2048) --> (2426, 5216)\n",
      "2023-09-25 11:26:52,877 - stpipe.OutlierDetectionStep - INFO - Exposure step_SkyMatchStep_9_outlier_i2d.fits saved to file\n",
      "2023-09-25 11:26:52,894 - stpipe.OutlierDetectionStep - INFO - 1 exposures to drizzle together\n",
      "2023-09-25 11:26:54,900 - stpipe.OutlierDetectionStep - INFO - Drizzling (2048, 2048) --> (2426, 5216)\n",
      "2023-09-25 11:26:55,849 - stpipe.OutlierDetectionStep - INFO - Exposure step_SkyMatchStep_10_outlier_i2d.fits saved to file\n",
      "2023-09-25 11:26:55,867 - stpipe.OutlierDetectionStep - INFO - 1 exposures to drizzle together\n",
      "2023-09-25 11:26:57,863 - stpipe.OutlierDetectionStep - INFO - Drizzling (2048, 2048) --> (2426, 5216)\n",
      "2023-09-25 11:26:58,858 - stpipe.OutlierDetectionStep - INFO - Exposure step_SkyMatchStep_11_outlier_i2d.fits saved to file\n",
      "2023-09-25 11:26:58,876 - stpipe.OutlierDetectionStep - INFO - 1 exposures to drizzle together\n",
      "2023-09-25 11:27:00,877 - stpipe.OutlierDetectionStep - INFO - Drizzling (2048, 2048) --> (2426, 5216)\n",
      "2023-09-25 11:27:01,828 - stpipe.OutlierDetectionStep - INFO - Exposure step_SkyMatchStep_12_outlier_i2d.fits saved to file\n",
      "2023-09-25 11:27:01,846 - stpipe.OutlierDetectionStep - INFO - 1 exposures to drizzle together\n",
      "2023-09-25 11:27:03,847 - stpipe.OutlierDetectionStep - INFO - Drizzling (2048, 2048) --> (2426, 5216)\n",
      "2023-09-25 11:27:04,842 - stpipe.OutlierDetectionStep - INFO - Exposure step_SkyMatchStep_13_outlier_i2d.fits saved to file\n",
      "2023-09-25 11:27:04,860 - stpipe.OutlierDetectionStep - INFO - 1 exposures to drizzle together\n",
      "2023-09-25 11:27:06,856 - stpipe.OutlierDetectionStep - INFO - Drizzling (2048, 2048) --> (2426, 5216)\n",
      "2023-09-25 11:27:07,822 - stpipe.OutlierDetectionStep - INFO - Exposure step_SkyMatchStep_14_outlier_i2d.fits saved to file\n",
      "2023-09-25 11:27:07,840 - stpipe.OutlierDetectionStep - INFO - 1 exposures to drizzle together\n",
      "2023-09-25 11:27:09,854 - stpipe.OutlierDetectionStep - INFO - Drizzling (2048, 2048) --> (2426, 5216)\n",
      "2023-09-25 11:27:10,855 - stpipe.OutlierDetectionStep - INFO - Exposure step_SkyMatchStep_15_outlier_i2d.fits saved to file\n",
      "2023-09-25 11:29:25,888 - stpipe.OutlierDetectionStep - INFO - Blotting median...\n",
      "2023-09-25 11:29:28,035 - stpipe.OutlierDetectionStep - INFO - Blotting (2048, 2048) <-- (2426, 5216)\n",
      "2023-09-25 11:29:30,498 - stpipe.OutlierDetectionStep - INFO - Blotting (2048, 2048) <-- (2426, 5216)\n",
      "2023-09-25 11:29:32,985 - stpipe.OutlierDetectionStep - INFO - Blotting (2048, 2048) <-- (2426, 5216)\n",
      "2023-09-25 11:29:35,603 - stpipe.OutlierDetectionStep - INFO - Blotting (2048, 2048) <-- (2426, 5216)\n",
      "2023-09-25 11:29:38,068 - stpipe.OutlierDetectionStep - INFO - Blotting (2048, 2048) <-- (2426, 5216)\n",
      "2023-09-25 11:29:40,550 - stpipe.OutlierDetectionStep - INFO - Blotting (2048, 2048) <-- (2426, 5216)\n",
      "2023-09-25 11:29:43,031 - stpipe.OutlierDetectionStep - INFO - Blotting (2048, 2048) <-- (2426, 5216)\n",
      "2023-09-25 11:29:45,497 - stpipe.OutlierDetectionStep - INFO - Blotting (2048, 2048) <-- (2426, 5216)\n",
      "2023-09-25 11:29:47,953 - stpipe.OutlierDetectionStep - INFO - Blotting (2048, 2048) <-- (2426, 5216)\n",
      "2023-09-25 11:29:50,411 - stpipe.OutlierDetectionStep - INFO - Blotting (2048, 2048) <-- (2426, 5216)\n",
      "2023-09-25 11:29:52,898 - stpipe.OutlierDetectionStep - INFO - Blotting (2048, 2048) <-- (2426, 5216)\n",
      "2023-09-25 11:29:55,352 - stpipe.OutlierDetectionStep - INFO - Blotting (2048, 2048) <-- (2426, 5216)\n",
      "2023-09-25 11:29:57,812 - stpipe.OutlierDetectionStep - INFO - Blotting (2048, 2048) <-- (2426, 5216)\n",
      "2023-09-25 11:30:00,473 - stpipe.OutlierDetectionStep - INFO - Blotting (2048, 2048) <-- (2426, 5216)\n",
      "2023-09-25 11:30:02,958 - stpipe.OutlierDetectionStep - INFO - Blotting (2048, 2048) <-- (2426, 5216)\n",
      "2023-09-25 11:30:05,450 - stpipe.OutlierDetectionStep - INFO - Blotting (2048, 2048) <-- (2426, 5216)\n",
      "2023-09-25 11:30:05,796 - stpipe.OutlierDetectionStep - INFO - Flagging outliers\n",
      "2023-09-25 11:30:06,262 - stpipe.OutlierDetectionStep - INFO - New pixels flagged as outliers: 8938 (0.21%)\n",
      "2023-09-25 11:30:06,693 - stpipe.OutlierDetectionStep - INFO - New pixels flagged as outliers: 9547 (0.23%)\n",
      "2023-09-25 11:30:07,128 - stpipe.OutlierDetectionStep - INFO - New pixels flagged as outliers: 9459 (0.23%)\n",
      "2023-09-25 11:30:07,583 - stpipe.OutlierDetectionStep - INFO - New pixels flagged as outliers: 9815 (0.23%)\n",
      "2023-09-25 11:30:08,040 - stpipe.OutlierDetectionStep - INFO - New pixels flagged as outliers: 9611 (0.23%)\n",
      "2023-09-25 11:30:08,584 - stpipe.OutlierDetectionStep - INFO - New pixels flagged as outliers: 11195 (0.27%)\n",
      "2023-09-25 11:30:08,980 - stpipe.OutlierDetectionStep - INFO - New pixels flagged as outliers: 10138 (0.24%)\n",
      "2023-09-25 11:30:09,361 - stpipe.OutlierDetectionStep - INFO - New pixels flagged as outliers: 10213 (0.24%)\n",
      "2023-09-25 11:30:09,756 - stpipe.OutlierDetectionStep - INFO - New pixels flagged as outliers: 9076 (0.22%)\n",
      "2023-09-25 11:30:10,143 - stpipe.OutlierDetectionStep - INFO - New pixels flagged as outliers: 9160 (0.22%)\n",
      "2023-09-25 11:30:10,557 - stpipe.OutlierDetectionStep - INFO - New pixels flagged as outliers: 9977 (0.24%)\n",
      "2023-09-25 11:30:11,107 - stpipe.OutlierDetectionStep - INFO - New pixels flagged as outliers: 9034 (0.22%)\n",
      "2023-09-25 11:30:11,487 - stpipe.OutlierDetectionStep - INFO - New pixels flagged as outliers: 8972 (0.21%)\n",
      "2023-09-25 11:30:11,866 - stpipe.OutlierDetectionStep - INFO - New pixels flagged as outliers: 9026 (0.22%)\n",
      "2023-09-25 11:30:12,254 - stpipe.OutlierDetectionStep - INFO - New pixels flagged as outliers: 8195 (0.20%)\n",
      "2023-09-25 11:30:12,680 - stpipe.OutlierDetectionStep - INFO - New pixels flagged as outliers: 8595 (0.20%)\n",
      "2023-09-25 11:30:12,963 - stpipe.OutlierDetectionStep - INFO - Saved model in step_SkyMatchStep_0_o002_outlierdetectionstep.fits\n",
      "2023-09-25 11:30:13,246 - stpipe.OutlierDetectionStep - INFO - Saved model in step_SkyMatchStep_1_o002_outlierdetectionstep.fits\n",
      "2023-09-25 11:30:13,494 - stpipe.OutlierDetectionStep - INFO - Saved model in step_SkyMatchStep_2_o002_outlierdetectionstep.fits\n",
      "2023-09-25 11:30:13,777 - stpipe.OutlierDetectionStep - INFO - Saved model in step_SkyMatchStep_3_o002_outlierdetectionstep.fits\n",
      "2023-09-25 11:30:14,049 - stpipe.OutlierDetectionStep - INFO - Saved model in step_SkyMatchStep_4_o002_outlierdetectionstep.fits\n",
      "2023-09-25 11:30:14,300 - stpipe.OutlierDetectionStep - INFO - Saved model in step_SkyMatchStep_5_o002_outlierdetectionstep.fits\n",
      "2023-09-25 11:30:14,578 - stpipe.OutlierDetectionStep - INFO - Saved model in step_SkyMatchStep_6_o002_outlierdetectionstep.fits\n",
      "2023-09-25 11:30:15,005 - stpipe.OutlierDetectionStep - INFO - Saved model in step_SkyMatchStep_7_o002_outlierdetectionstep.fits\n",
      "2023-09-25 11:30:15,280 - stpipe.OutlierDetectionStep - INFO - Saved model in step_SkyMatchStep_8_o002_outlierdetectionstep.fits\n",
      "2023-09-25 11:30:15,555 - stpipe.OutlierDetectionStep - INFO - Saved model in step_SkyMatchStep_9_o002_outlierdetectionstep.fits\n",
      "2023-09-25 11:30:15,827 - stpipe.OutlierDetectionStep - INFO - Saved model in step_SkyMatchStep_10_o002_outlierdetectionstep.fits\n",
      "2023-09-25 11:30:16,112 - stpipe.OutlierDetectionStep - INFO - Saved model in step_SkyMatchStep_11_o002_outlierdetectionstep.fits\n",
      "2023-09-25 11:30:16,425 - stpipe.OutlierDetectionStep - INFO - Saved model in step_SkyMatchStep_12_o002_outlierdetectionstep.fits\n",
      "2023-09-25 11:30:16,698 - stpipe.OutlierDetectionStep - INFO - Saved model in step_SkyMatchStep_13_o002_outlierdetectionstep.fits\n",
      "2023-09-25 11:30:16,984 - stpipe.OutlierDetectionStep - INFO - Saved model in step_SkyMatchStep_14_o002_outlierdetectionstep.fits\n",
      "2023-09-25 11:30:17,366 - stpipe.OutlierDetectionStep - INFO - Saved model in step_SkyMatchStep_15_o002_outlierdetectionstep.fits\n",
      "2023-09-25 11:30:17,368 - stpipe.OutlierDetectionStep - INFO - Step OutlierDetectionStep done\n"
     ]
    }
   ],
   "source": [
    "outlier_detection = OutlierDetectionStep()\n",
    "outlier_detection.save_results = True\n",
    "outlier_detection.save_intermediate_results = True\n",
    "outlier = outlier_detection.run(sky)"
   ]
  },
  {
   "cell_type": "code",
   "execution_count": 29,
   "id": "536071d9-4c7d-42c3-9f90-a8757a9c8e12",
   "metadata": {
    "tags": []
   },
   "outputs": [
    {
     "data": {
      "text/plain": [
       "['jw02221002001_02201_00004_nrcblong_outlier_i2d.fits',\n",
       " 'jw02221002001_08201_00003_nrcalong_destreak_realigned_to_outlier_i2d.fits',\n",
       " 'jw02221002001_02201_00003_nrcblong_outlier_i2d.fits',\n",
       " 'jw02221002002_08201_00001_nrcblong_outlier_i2d.fits',\n",
       " 'step_SkyMatchStep_5_outlier_i2d.fits',\n",
       " 'jw02221002001_02201_00003_nrcalong_destreak_realigned_to_outlier_i2d.fits',\n",
       " 'jw02221002001_02201_00001_nrcalong_destreak_realigned_to_outlier_i2d.fits',\n",
       " 'jw02221002002_08201_00003_nrcblong_outlier_i2d.fits',\n",
       " 'jw02221-o002_20230725t121309_image3_00005_nrca_asn_15_outlier_i2d.fits',\n",
       " 'step_SkyMatchStep_10_outlier_i2d.fits',\n",
       " 'jw02221002001_02201_00004_nrcblong_destreak_realigned_to_outlier_i2d.fits',\n",
       " 'jw02221002001_02201_00001_nrcalong_outlier_i2d.fits',\n",
       " 'jw02221002001_02201_00003_nrcblong_destreak_realigned_to_outlier_i2d.fits',\n",
       " 'jw02221002002_08201_00003_nrcalong_destreak_realigned_to_outlier_i2d.fits',\n",
       " 'step_SkyMatchStep_3_outlier_i2d.fits',\n",
       " 'jw02221002001_02201_00002_nrcblong_destreak_realigned_to_outlier_i2d.fits',\n",
       " 'jw02221002001_08201_00002_nrcblong_destreak_realigned_to_outlier_i2d.fits',\n",
       " 'jw02221-o002_20230725t121309_image3_00005_nrcb_asn_6_outlier_i2d.fits',\n",
       " 'jw02221002001_08201_00002_nrcalong_destreak_realigned_to_outlier_i2d.fits',\n",
       " 'jw02221002002_02201_00002_nrcblong_outlier_i2d.fits',\n",
       " 'jw02221002002_02201_00004_nrcblong_outlier_i2d.fits',\n",
       " 'jw02221002002_02201_00001_nrcalong_outlier_i2d.fits',\n",
       " 'jw02221002002_02201_00002_nrcalong_outlier_i2d.fits',\n",
       " 'jw02221002001_08201_00004_nrcalong_outlier_i2d.fits',\n",
       " 'jw02221-o002_20230725t121309_image3_00005_nrcb_asn_13_outlier_i2d.fits',\n",
       " 'jw02221-o002_20230725t121309_image3_00005_nrcb_asn_1_outlier_i2d.fits',\n",
       " 'jw02221002001_08201_00001_nrcalong_destreak_realigned_to_outlier_i2d.fits',\n",
       " 'jw02221002002_08201_00001_nrcalong_destreak_realigned_to_outlier_i2d.fits',\n",
       " 'jw02221-o002_20230725t121309_image3_00005_nrcb_asn_2_outlier_i2d.fits',\n",
       " 'jw02221002001_08201_00002_nrcblong_outlier_i2d.fits',\n",
       " 'step_SkyMatchStep_14_outlier_i2d.fits',\n",
       " 'jw02221002002_02201_00001_nrcblong_destreak_realigned_to_outlier_i2d.fits',\n",
       " 'jw02221002002_08201_00004_nrcblong_outlier_i2d.fits',\n",
       " 'jw02221002001_02201_00004_nrcalong_destreak_realigned_to_outlier_i2d.fits',\n",
       " 'jw02221-o002_20230725t121309_image3_00005_nrcb_asn_3_outlier_i2d.fits',\n",
       " 'jw02221-o002_20230725t121309_image3_00005_nrcb_asn_4_outlier_i2d.fits',\n",
       " 'jw02221-o002_20230725t121309_image3_00005_nrcb_asn_15_outlier_i2d.fits',\n",
       " 'jw02221-o002_20230725t121309_image3_00005_nrcb_asn_11_outlier_i2d.fits',\n",
       " 'jw02221002002_08201_00004_nrcalong_destreak_realigned_to_outlier_i2d.fits',\n",
       " 'jw02221002002_02201_00002_nrcblong_destreak_realigned_to_outlier_i2d.fits',\n",
       " 'jw02221-o002_20230725t121309_image3_00005_nrca_asn_2_outlier_i2d.fits',\n",
       " 'jw02221002002_02201_00004_nrcblong_destreak_realigned_to_outlier_i2d.fits',\n",
       " 'jw02221002002_02201_00001_nrcblong_outlier_i2d.fits',\n",
       " 'step_SkyMatchStep_11_outlier_i2d.fits',\n",
       " 'jw02221-o002_20230725t121309_image3_00005_nrcb_asn_14_outlier_i2d.fits',\n",
       " 'step_SkyMatchStep_12_outlier_i2d.fits',\n",
       " 'step_SkyMatchStep_1_outlier_i2d.fits',\n",
       " 'step_SkyMatchStep_8_outlier_i2d.fits',\n",
       " 'jw02221-o002_20230725t121309_image3_00005_nrca_asn_6_outlier_i2d.fits',\n",
       " 'jw02221-o002_20230725t121309_image3_00005_nrcb_asn_10_outlier_i2d.fits',\n",
       " 'step_SkyMatchStep_15_outlier_i2d.fits',\n",
       " 'jw02221002002_02201_00003_nrcalong_destreak_realigned_to_outlier_i2d.fits',\n",
       " 'jw02221002001_08201_00001_nrcblong_destreak_realigned_to_outlier_i2d.fits',\n",
       " 'jw02221-o002_20230725t121309_image3_00005_nrca_asn_14_outlier_i2d.fits',\n",
       " 'jw02221002002_08201_00002_nrcblong_outlier_i2d.fits',\n",
       " 'jw02221002002_02201_00004_nrcalong_outlier_i2d.fits',\n",
       " 'jw02221002002_02201_00003_nrcblong_destreak_realigned_to_outlier_i2d.fits',\n",
       " 'jw02221002002_02201_00003_nrcalong_outlier_i2d.fits',\n",
       " 'jw02221002001_02201_00001_nrcblong_destreak_realigned_to_outlier_i2d.fits',\n",
       " 'jw02221002001_02201_00004_nrcalong_outlier_i2d.fits',\n",
       " 'jw02221-o002_20230725t121309_image3_00005_nrca_asn_0_outlier_i2d.fits',\n",
       " 'jw02221002002_08201_00004_nrcalong_outlier_i2d.fits',\n",
       " 'jw02221-o002_20230725t121309_image3_00005_nrcb_asn_9_outlier_i2d.fits',\n",
       " 'jw02221002001_08201_00001_nrcalong_outlier_i2d.fits',\n",
       " 'jw02221002001_08201_00001_nrcblong_outlier_i2d.fits',\n",
       " 'jw02221002002_08201_00002_nrcalong_destreak_realigned_to_outlier_i2d.fits',\n",
       " 'step_SkyMatchStep_6_outlier_i2d.fits',\n",
       " 'jw02221002002_08201_00002_nrcalong_outlier_i2d.fits',\n",
       " 'jw02221002001_08201_00002_nrcalong_outlier_i2d.fits',\n",
       " 'jw02221-o002_20230725t121309_image3_00005_nrca_asn_1_outlier_i2d.fits',\n",
       " 'jw02221-o002_20230725t121309_image3_00005_nrca_asn_3_outlier_i2d.fits',\n",
       " 'jw02221002002_02201_00001_nrcalong_destreak_realigned_to_outlier_i2d.fits',\n",
       " 'step_SkyMatchStep_2_outlier_i2d.fits',\n",
       " 'jw02221002001_02201_00002_nrcblong_outlier_i2d.fits',\n",
       " 'step_SkyMatchStep_4_outlier_i2d.fits',\n",
       " 'step_SkyMatchStep_0_outlier_i2d.fits',\n",
       " 'jw02221002002_08201_00001_nrcalong_outlier_i2d.fits',\n",
       " 'jw02221-o002_20230725t121309_image3_00005_nrcb_asn_5_outlier_i2d.fits',\n",
       " 'jw02221002002_02201_00003_nrcblong_outlier_i2d.fits',\n",
       " 'jw02221002001_08201_00004_nrcblong_outlier_i2d.fits',\n",
       " 'step_SkyMatchStep_9_outlier_i2d.fits',\n",
       " 'jw02221002002_08201_00002_nrcblong_destreak_realigned_to_outlier_i2d.fits',\n",
       " 'jw02221002001_02201_00001_nrcblong_outlier_i2d.fits',\n",
       " 'jw02221002001_08201_00003_nrcblong_destreak_realigned_to_outlier_i2d.fits',\n",
       " 'jw02221002001_08201_00003_nrcalong_outlier_i2d.fits',\n",
       " 'jw02221002001_02201_00002_nrcalong_destreak_realigned_to_outlier_i2d.fits',\n",
       " 'jw02221002001_02201_00003_nrcalong_outlier_i2d.fits',\n",
       " 'jw02221002001_08201_00004_nrcblong_destreak_realigned_to_outlier_i2d.fits',\n",
       " 'jw02221-o002_20230725t121309_image3_00005_nrca_asn_5_outlier_i2d.fits',\n",
       " 'jw02221002002_02201_00002_nrcalong_destreak_realigned_to_outlier_i2d.fits',\n",
       " 'jw02221-o002_20230725t121309_image3_00005_nrca_asn_10_outlier_i2d.fits',\n",
       " 'jw02221002002_08201_00001_nrcblong_destreak_realigned_to_outlier_i2d.fits',\n",
       " 'jw02221-o002_20230725t121309_image3_00005_nrca_asn_9_outlier_i2d.fits',\n",
       " 'jw02221-o002_20230725t121309_image3_00005_nrcb_asn_0_outlier_i2d.fits',\n",
       " 'jw02221002002_02201_00004_nrcalong_destreak_realigned_to_outlier_i2d.fits',\n",
       " 'jw02221002001_08201_00003_nrcblong_outlier_i2d.fits',\n",
       " 'jw02221-o002_20230725t121309_image3_00005_nrcb_asn_12_outlier_i2d.fits',\n",
       " 'step_SkyMatchStep_7_outlier_i2d.fits',\n",
       " 'jw02221-o002_20230725t121309_image3_00005_nrca_asn_13_outlier_i2d.fits',\n",
       " 'jw02221002001_02201_00002_nrcalong_outlier_i2d.fits',\n",
       " 'jw02221002002_08201_00004_nrcblong_destreak_realigned_to_outlier_i2d.fits',\n",
       " 'jw02221-o002_20230725t121309_image3_00005_nrca_asn_7_outlier_i2d.fits',\n",
       " 'jw02221-o002_20230725t121309_image3_00005_nrca_asn_11_outlier_i2d.fits',\n",
       " 'jw02221-o002_20230725t121309_image3_00005_nrca_asn_8_outlier_i2d.fits',\n",
       " 'jw02221002002_08201_00003_nrcblong_destreak_realigned_to_outlier_i2d.fits',\n",
       " 'jw02221002001_08201_00004_nrcalong_destreak_realigned_to_outlier_i2d.fits',\n",
       " 'step_SkyMatchStep_13_outlier_i2d.fits',\n",
       " 'jw02221-o002_20230725t121309_image3_00005_nrcb_asn_8_outlier_i2d.fits',\n",
       " 'jw02221002002_08201_00003_nrcalong_outlier_i2d.fits',\n",
       " 'jw02221-o002_20230725t121309_image3_00005_nrcb_asn_7_outlier_i2d.fits',\n",
       " 'jw02221-o002_20230725t121309_image3_00005_nrca_asn_12_outlier_i2d.fits',\n",
       " 'jw02221-o002_20230725t121309_image3_00005_nrca_asn_4_outlier_i2d.fits']"
      ]
     },
     "execution_count": 29,
     "metadata": {},
     "output_type": "execute_result"
    }
   ],
   "source": [
    "glob('*outlier*i2d.fits')"
   ]
  },
  {
   "cell_type": "code",
   "execution_count": 30,
   "id": "4d7a5756-6225-40e2-8654-91b86ddc28ec",
   "metadata": {
    "tags": []
   },
   "outputs": [
    {
     "name": "stdout",
     "output_type": "stream",
     "text": [
      "2023-09-20T15:02:00.585400: DONE\n"
     ]
    }
   ],
   "source": [
    "print('DONE')"
   ]
  },
  {
   "cell_type": "code",
   "execution_count": 115,
   "id": "470c16f9-17cc-4302-851f-64a84f917fb9",
   "metadata": {},
   "outputs": [],
   "source": [
    "out_lis = np.array(['15', '10', '9', '8', '7', '6', '5', '4'])"
   ]
  },
  {
   "cell_type": "code",
   "execution_count": 123,
   "id": "493c8dec-2eed-4057-a318-aa8889385dd8",
   "metadata": {
    "collapsed": true,
    "jupyter": {
     "outputs_hidden": true
    },
    "tags": []
   },
   "outputs": [
    {
     "data": {
      "text/plain": [
       "['step_SkyMatchStep_5_outlier_i2d.fits',\n",
       " 'step_SkyMatchStep_10_outlier_i2d.fits',\n",
       " 'step_SkyMatchStep_3_outlier_i2d.fits',\n",
       " 'step_SkyMatchStep_14_outlier_i2d.fits',\n",
       " 'step_SkyMatchStep_11_outlier_i2d.fits',\n",
       " 'step_SkyMatchStep_12_outlier_i2d.fits',\n",
       " 'step_SkyMatchStep_1_outlier_i2d.fits',\n",
       " 'step_SkyMatchStep_8_outlier_i2d.fits',\n",
       " 'step_SkyMatchStep_15_outlier_i2d.fits',\n",
       " 'step_SkyMatchStep_6_outlier_i2d.fits',\n",
       " 'step_SkyMatchStep_2_outlier_i2d.fits',\n",
       " 'step_SkyMatchStep_4_outlier_i2d.fits',\n",
       " 'step_SkyMatchStep_0_outlier_i2d.fits',\n",
       " 'step_SkyMatchStep_9_outlier_i2d.fits',\n",
       " 'step_SkyMatchStep_7_outlier_i2d.fits',\n",
       " 'step_SkyMatchStep_13_outlier_i2d.fits']"
      ]
     },
     "execution_count": 123,
     "metadata": {},
     "output_type": "execute_result"
    }
   ],
   "source": [
    "glob('step_SkyMatchStep_*_outlier_i2d.fits')"
   ]
  },
  {
   "cell_type": "code",
   "execution_count": 17,
   "id": "27d0eab0-1faf-47ca-91eb-54d87bd6b93e",
   "metadata": {},
   "outputs": [
    {
     "name": "stderr",
     "output_type": "stream",
     "text": [
      "2023-09-25 11:30:17,375 - stpipe.ResampleStep - INFO - ResampleStep instance created.\n",
      "2023-09-25 11:30:17,522 - stpipe.ResampleStep - INFO - Step ResampleStep running with args (<ModelContainer>,).\n",
      "2023-09-25 11:30:17,524 - stpipe.ResampleStep - INFO - Step ResampleStep parameters are: {'pre_hooks': [], 'post_hooks': [], 'output_file': None, 'output_dir': None, 'output_ext': '.fits', 'output_use_model': False, 'output_use_index': True, 'save_results': True, 'skip': False, 'suffix': None, 'search_output_file': True, 'input_dir': '', 'pixfrac': 1.0, 'kernel': 'square', 'fillval': 'INDEF', 'weight_type': 'ivm', 'output_shape': None, 'crpix': None, 'crval': None, 'rotation': None, 'pixel_scale_ratio': 1.0, 'pixel_scale': None, 'output_wcs': '', 'single': False, 'blendheaders': True, 'allowed_memory': None, 'in_memory': True}\n",
      "2023-09-25 11:30:19,390 - stpipe.ResampleStep - INFO - Using drizpars reference file: /orange/adamginsburg/jwst/cloudc//crds/references/jwst/nircam/jwst_nircam_drizpars_0001.fits\n",
      "2023-09-25 11:30:19,441 - stpipe.ResampleStep - INFO - Driz parameter kernel: square\n",
      "2023-09-25 11:30:19,442 - stpipe.ResampleStep - INFO - Driz parameter pixfrac: 1.0\n",
      "2023-09-25 11:30:19,443 - stpipe.ResampleStep - INFO - Driz parameter fillval: INDEF\n",
      "2023-09-25 11:30:19,444 - stpipe.ResampleStep - INFO - Driz parameter weight_type: ivm\n",
      "2023-09-25 11:30:19,444 - stpipe.ResampleStep - INFO - Output pixel scale ratio: 1.0\n",
      "2023-09-25 11:30:19,717 - stpipe.ResampleStep - INFO - Blending metadata for jw02221-o002_t001_nircam_clear-f405n-nrcb\n",
      "2023-09-25 11:30:20,572 - stpipe.ResampleStep - INFO - Resampling science data\n",
      "2023-09-25 11:30:22,370 - stpipe.ResampleStep - INFO - Drizzling (2048, 2048) --> (2426, 5216)\n",
      "2023-09-25 11:30:24,874 - stpipe.ResampleStep - INFO - Drizzling (2048, 2048) --> (2426, 5216)\n",
      "2023-09-25 11:30:27,368 - stpipe.ResampleStep - INFO - Drizzling (2048, 2048) --> (2426, 5216)\n",
      "2023-09-25 11:30:29,868 - stpipe.ResampleStep - INFO - Drizzling (2048, 2048) --> (2426, 5216)\n",
      "2023-09-25 11:30:32,350 - stpipe.ResampleStep - INFO - Drizzling (2048, 2048) --> (2426, 5216)\n",
      "2023-09-25 11:30:34,841 - stpipe.ResampleStep - INFO - Drizzling (2048, 2048) --> (2426, 5216)\n",
      "2023-09-25 11:30:37,360 - stpipe.ResampleStep - INFO - Drizzling (2048, 2048) --> (2426, 5216)\n",
      "2023-09-25 11:30:39,849 - stpipe.ResampleStep - INFO - Drizzling (2048, 2048) --> (2426, 5216)\n",
      "2023-09-25 11:30:42,333 - stpipe.ResampleStep - INFO - Drizzling (2048, 2048) --> (2426, 5216)\n",
      "2023-09-25 11:30:44,817 - stpipe.ResampleStep - INFO - Drizzling (2048, 2048) --> (2426, 5216)\n",
      "2023-09-25 11:30:47,316 - stpipe.ResampleStep - INFO - Drizzling (2048, 2048) --> (2426, 5216)\n",
      "2023-09-25 11:30:49,794 - stpipe.ResampleStep - INFO - Drizzling (2048, 2048) --> (2426, 5216)\n",
      "2023-09-25 11:30:52,275 - stpipe.ResampleStep - INFO - Drizzling (2048, 2048) --> (2426, 5216)\n",
      "2023-09-25 11:30:54,756 - stpipe.ResampleStep - INFO - Drizzling (2048, 2048) --> (2426, 5216)\n",
      "2023-09-25 11:30:57,247 - stpipe.ResampleStep - INFO - Drizzling (2048, 2048) --> (2426, 5216)\n",
      "2023-09-25 11:30:59,737 - stpipe.ResampleStep - INFO - Drizzling (2048, 2048) --> (2426, 5216)\n",
      "2023-09-25 11:31:00,479 - stpipe.ResampleStep - INFO - Resampling var_rnoise\n",
      "2023-09-25 11:31:02,418 - stpipe.ResampleStep - INFO - Drizzling (2048, 2048) --> (2426, 5216)\n",
      "2023-09-25 11:31:05,135 - stpipe.ResampleStep - INFO - Drizzling (2048, 2048) --> (2426, 5216)\n",
      "2023-09-25 11:31:07,865 - stpipe.ResampleStep - INFO - Drizzling (2048, 2048) --> (2426, 5216)\n",
      "2023-09-25 11:31:10,569 - stpipe.ResampleStep - INFO - Drizzling (2048, 2048) --> (2426, 5216)\n",
      "2023-09-25 11:31:13,260 - stpipe.ResampleStep - INFO - Drizzling (2048, 2048) --> (2426, 5216)\n",
      "2023-09-25 11:31:15,985 - stpipe.ResampleStep - INFO - Drizzling (2048, 2048) --> (2426, 5216)\n",
      "2023-09-25 11:31:18,695 - stpipe.ResampleStep - INFO - Drizzling (2048, 2048) --> (2426, 5216)\n",
      "2023-09-25 11:31:21,395 - stpipe.ResampleStep - INFO - Drizzling (2048, 2048) --> (2426, 5216)\n",
      "2023-09-25 11:31:24,078 - stpipe.ResampleStep - INFO - Drizzling (2048, 2048) --> (2426, 5216)\n",
      "2023-09-25 11:31:26,781 - stpipe.ResampleStep - INFO - Drizzling (2048, 2048) --> (2426, 5216)\n",
      "2023-09-25 11:31:29,468 - stpipe.ResampleStep - INFO - Drizzling (2048, 2048) --> (2426, 5216)\n",
      "2023-09-25 11:31:32,171 - stpipe.ResampleStep - INFO - Drizzling (2048, 2048) --> (2426, 5216)\n",
      "2023-09-25 11:31:34,868 - stpipe.ResampleStep - INFO - Drizzling (2048, 2048) --> (2426, 5216)\n",
      "2023-09-25 11:31:37,571 - stpipe.ResampleStep - INFO - Drizzling (2048, 2048) --> (2426, 5216)\n",
      "2023-09-25 11:31:40,262 - stpipe.ResampleStep - INFO - Drizzling (2048, 2048) --> (2426, 5216)\n",
      "2023-09-25 11:31:42,955 - stpipe.ResampleStep - INFO - Drizzling (2048, 2048) --> (2426, 5216)\n",
      "2023-09-25 11:31:43,749 - stpipe.ResampleStep - INFO - Resampling var_poisson\n",
      "2023-09-25 11:31:45,698 - stpipe.ResampleStep - INFO - Drizzling (2048, 2048) --> (2426, 5216)\n",
      "2023-09-25 11:31:48,418 - stpipe.ResampleStep - INFO - Drizzling (2048, 2048) --> (2426, 5216)\n",
      "2023-09-25 11:31:51,148 - stpipe.ResampleStep - INFO - Drizzling (2048, 2048) --> (2426, 5216)\n",
      "2023-09-25 11:31:53,853 - stpipe.ResampleStep - INFO - Drizzling (2048, 2048) --> (2426, 5216)\n",
      "2023-09-25 11:31:56,583 - stpipe.ResampleStep - INFO - Drizzling (2048, 2048) --> (2426, 5216)\n",
      "2023-09-25 11:31:59,284 - stpipe.ResampleStep - INFO - Drizzling (2048, 2048) --> (2426, 5216)\n",
      "2023-09-25 11:32:02,002 - stpipe.ResampleStep - INFO - Drizzling (2048, 2048) --> (2426, 5216)\n",
      "2023-09-25 11:32:04,702 - stpipe.ResampleStep - INFO - Drizzling (2048, 2048) --> (2426, 5216)\n",
      "2023-09-25 11:32:07,423 - stpipe.ResampleStep - INFO - Drizzling (2048, 2048) --> (2426, 5216)\n",
      "2023-09-25 11:32:10,111 - stpipe.ResampleStep - INFO - Drizzling (2048, 2048) --> (2426, 5216)\n",
      "2023-09-25 11:32:12,819 - stpipe.ResampleStep - INFO - Drizzling (2048, 2048) --> (2426, 5216)\n",
      "2023-09-25 11:32:15,514 - stpipe.ResampleStep - INFO - Drizzling (2048, 2048) --> (2426, 5216)\n",
      "2023-09-25 11:32:18,230 - stpipe.ResampleStep - INFO - Drizzling (2048, 2048) --> (2426, 5216)\n",
      "2023-09-25 11:32:20,922 - stpipe.ResampleStep - INFO - Drizzling (2048, 2048) --> (2426, 5216)\n",
      "2023-09-25 11:32:23,637 - stpipe.ResampleStep - INFO - Drizzling (2048, 2048) --> (2426, 5216)\n",
      "2023-09-25 11:32:26,341 - stpipe.ResampleStep - INFO - Drizzling (2048, 2048) --> (2426, 5216)\n",
      "2023-09-25 11:32:27,126 - stpipe.ResampleStep - INFO - Resampling var_flat\n",
      "2023-09-25 11:32:29,106 - stpipe.ResampleStep - INFO - Drizzling (2048, 2048) --> (2426, 5216)\n",
      "2023-09-25 11:32:31,871 - stpipe.ResampleStep - INFO - Drizzling (2048, 2048) --> (2426, 5216)\n",
      "2023-09-25 11:32:34,635 - stpipe.ResampleStep - INFO - Drizzling (2048, 2048) --> (2426, 5216)\n",
      "2023-09-25 11:32:37,405 - stpipe.ResampleStep - INFO - Drizzling (2048, 2048) --> (2426, 5216)\n",
      "2023-09-25 11:32:40,153 - stpipe.ResampleStep - INFO - Drizzling (2048, 2048) --> (2426, 5216)\n",
      "2023-09-25 11:32:42,900 - stpipe.ResampleStep - INFO - Drizzling (2048, 2048) --> (2426, 5216)\n",
      "2023-09-25 11:32:45,647 - stpipe.ResampleStep - INFO - Drizzling (2048, 2048) --> (2426, 5216)\n",
      "2023-09-25 11:32:48,369 - stpipe.ResampleStep - INFO - Drizzling (2048, 2048) --> (2426, 5216)\n",
      "2023-09-25 11:32:51,114 - stpipe.ResampleStep - INFO - Drizzling (2048, 2048) --> (2426, 5216)\n",
      "2023-09-25 11:32:53,863 - stpipe.ResampleStep - INFO - Drizzling (2048, 2048) --> (2426, 5216)\n",
      "2023-09-25 11:32:56,626 - stpipe.ResampleStep - INFO - Drizzling (2048, 2048) --> (2426, 5216)\n",
      "2023-09-25 11:32:59,334 - stpipe.ResampleStep - INFO - Drizzling (2048, 2048) --> (2426, 5216)\n",
      "2023-09-25 11:33:02,080 - stpipe.ResampleStep - INFO - Drizzling (2048, 2048) --> (2426, 5216)\n",
      "2023-09-25 11:33:04,834 - stpipe.ResampleStep - INFO - Drizzling (2048, 2048) --> (2426, 5216)\n",
      "2023-09-25 11:33:07,587 - stpipe.ResampleStep - INFO - Drizzling (2048, 2048) --> (2426, 5216)\n",
      "2023-09-25 11:33:10,292 - stpipe.ResampleStep - INFO - Drizzling (2048, 2048) --> (2426, 5216)\n",
      "2023-09-25 11:33:11,157 - stpipe.ResampleStep - INFO - Update S_REGION to POLYGON ICRS  266.613547880 -28.569306027 266.565438037 -28.565245572 266.555468501 -28.656088654 266.603619588 -28.660152622\n",
      "2023-09-25 11:33:11,167 - stpipe.ResampleStep - INFO - Results used CRDS context: jwst_1132.pmap\n",
      "2023-09-25 11:33:11,774 - stpipe.ResampleStep - INFO - Saved model in step_ResampleStep_resamplestep.fits\n",
      "2023-09-25 11:33:11,775 - stpipe.ResampleStep - INFO - Step ResampleStep done\n"
     ]
    }
   ],
   "source": [
    "resample = ResampleStep()\n",
    "resample.save_results = True\n",
    "resamp = resample.run(outlier)"
   ]
  },
  {
   "cell_type": "code",
   "execution_count": 18,
   "id": "9147eab1-f4d7-4204-93d6-562db5b75ae5",
   "metadata": {},
   "outputs": [
    {
     "name": "stdout",
     "output_type": "stream",
     "text": [
      "2023-09-25T11:33:11.781945: fini\n"
     ]
    }
   ],
   "source": [
    "print('fini')"
   ]
  },
  {
   "cell_type": "code",
   "execution_count": null,
   "id": "8ca7e3bc-7f26-4b1a-bb34-71d2b7a72b23",
   "metadata": {
    "tags": []
   },
   "outputs": [],
   "source": []
  },
  {
   "cell_type": "code",
   "execution_count": 19,
   "id": "6a4f9184-b235-4377-b179-62db423f1881",
   "metadata": {
    "tags": []
   },
   "outputs": [
    {
     "name": "stderr",
     "output_type": "stream",
     "text": [
      "2023-09-25 11:50:57,271 - stpipe - INFO - Realigning to VVV (module=nrcb\n"
     ]
    },
    {
     "name": "stdout",
     "output_type": "stream",
     "text": [
      "INFO: Realigning to VVV (module=nrcb [unknown]\n"
     ]
    },
    {
     "name": "stderr",
     "output_type": "stream",
     "text": [
      "2023-09-25 11:50:57,914 - stpipe - INFO - Kept 7752 out of 9945 VVV stars using ksmag_limit>11\n"
     ]
    },
    {
     "name": "stdout",
     "output_type": "stream",
     "text": [
      "INFO: Kept 7752 out of 9945 VVV stars using ksmag_limit>11 [align_to_catalogs]\n"
     ]
    },
    {
     "name": "stderr",
     "output_type": "stream",
     "text": [
      "2023-09-25 11:50:58,472 - stpipe - INFO - For f405n nrcb 002 catalog /orange/adamginsburg/jwst/cloudc//F405N/pipeline/jw02221-o002_t001_nircam_clear-f405n-nrcb_cat.ecsv, found 8336 of 10690 sources meeting criteria mag<15\n"
     ]
    },
    {
     "name": "stdout",
     "output_type": "stream",
     "text": [
      "INFO: For f405n nrcb 002 catalog /orange/adamginsburg/jwst/cloudc//F405N/pipeline/jw02221-o002_t001_nircam_clear-f405n-nrcb_cat.ecsv, found 8336 of 10690 sources meeting criteria mag<15 [align_to_catalogs]\n",
      "2023-09-25T11:50:58.522961: Before realignment, offset is -0.06310279766239546 arcsec, -0.056418529234036896 arcsec.  Found 298 matches.\n",
      "2023-09-25T11:50:58.527203: CRVAL before 266.58438216192985 -28.613580029756864\n",
      "2023-09-25T11:50:58.531191: CRVAL after 266.58439969048 -28.613564357943\n",
      "2023-09-25T11:50:58.596052: After realignment, offset is -0.03798434529471706 arcsec, -0.04546084908838566 arcsec with 305 mathces\n",
      "2023-09-25T11:50:58.616183: After re-realignment, offset is -0.03798434529471706 arcsec, -0.04546084908838566 arcsec using 305 matches\n"
     ]
    }
   ],
   "source": [
    "log.info(f\"Realigning to VVV (module={module}\")\n",
    "realigned_vvv_filename = f'{basepath}/{filtername.upper()}/pipeline/jw02221-o{field}_t001_nircam_clear-{filtername.lower()}-{module}_realigned-to-vvv.fits'\n",
    "shutil.copy(f'{basepath}/{filtername.upper()}/pipeline/jw02221-o{field}_t001_nircam_clear-{filtername.lower()}-{module}_i2d.fits',\n",
    "            realigned_vvv_filename)\n",
    "realigned = realign_to_vvv(filtername=filtername.lower(), fov_regname=fov_regname[regionname], basepath=basepath, module=module, fieldnumber=field,\n",
    "                           imfile=realigned_vvv_filename, ksmag_limit=15 if filtername=='f410m' else 11, mag_limit=15)"
   ]
  },
  {
   "cell_type": "code",
   "execution_count": 11,
   "id": "a8fe82e6-f8ff-432f-8846-c879d9d3331e",
   "metadata": {
    "tags": []
   },
   "outputs": [
    {
     "data": {
      "text/plain": [
       "'merged'"
      ]
     },
     "execution_count": 11,
     "metadata": {},
     "output_type": "execute_result"
    }
   ],
   "source": [
    "proposal_id = 2221\n",
    "module"
   ]
  },
  {
   "cell_type": "code",
   "execution_count": 13,
   "id": "0589d5bd-5f60-493b-85e3-0f35400e2a16",
   "metadata": {
    "tags": []
   },
   "outputs": [
    {
     "name": "stderr",
     "output_type": "stream",
     "text": [
      "2023-11-03 13:02:05,886 - stpipe - WARNING - /blue/adamginsburg/adamginsburg/jwst/cloudc/reduction/brick-jwst-2221/reduction/filtering.py:20: TqdmExperimentalWarning: Using `tqdm.autonotebook.tqdm` in notebook mode. Use `tqdm.tqdm` instead to force console mode (e.g. in jupyter console)\n",
      "  from tqdm.autonotebook import tqdm\n",
      "\n"
     ]
    },
    {
     "ename": "ModuleNotFoundError",
     "evalue": "No module named 'webbpsf'",
     "output_type": "error",
     "traceback": [
      "\u001b[0;31m---------------------------------------------------------------------------\u001b[0m",
      "\u001b[0;31mModuleNotFoundError\u001b[0m                       Traceback (most recent call last)",
      "Cell \u001b[0;32mIn[13], line 1\u001b[0m\n\u001b[0;32m----> 1\u001b[0m \u001b[38;5;28;01mfrom\u001b[39;00m \u001b[38;5;21;01msaturated_star_finding\u001b[39;00m \u001b[38;5;28;01mimport\u001b[39;00m iteratively_remove_saturated_stars, remove_saturated_stars\n",
      "File \u001b[0;32m/blue/adamginsburg/adamginsburg/jwst/cloudc/reduction/brick-jwst-2221/reduction/saturated_star_finding.py:16\u001b[0m\n\u001b[1;32m     14\u001b[0m \u001b[38;5;28;01mfrom\u001b[39;00m \u001b[38;5;21;01mastropy\u001b[39;00m \u001b[38;5;28;01mimport\u001b[39;00m table\n\u001b[1;32m     15\u001b[0m \u001b[38;5;28;01mfrom\u001b[39;00m \u001b[38;5;21;01mastropy\u001b[39;00m \u001b[38;5;28;01mimport\u001b[39;00m log\n\u001b[0;32m---> 16\u001b[0m \u001b[38;5;28;01mfrom\u001b[39;00m \u001b[38;5;21;01mfiltering\u001b[39;00m \u001b[38;5;28;01mimport\u001b[39;00m get_filtername, get_fwhm\n\u001b[1;32m     17\u001b[0m \u001b[38;5;28;01mimport\u001b[39;00m \u001b[38;5;21;01mfunctools\u001b[39;00m\n\u001b[1;32m     18\u001b[0m \u001b[38;5;28;01mimport\u001b[39;00m \u001b[38;5;21;01mrequests\u001b[39;00m\n",
      "File \u001b[0;32m/blue/adamginsburg/adamginsburg/jwst/cloudc/reduction/brick-jwst-2221/reduction/filtering.py:32\u001b[0m\n\u001b[1;32m     30\u001b[0m \u001b[38;5;28;01mimport\u001b[39;00m \u001b[38;5;21;01mos\u001b[39;00m\n\u001b[1;32m     31\u001b[0m os\u001b[38;5;241m.\u001b[39menviron[\u001b[38;5;124m'\u001b[39m\u001b[38;5;124mWEBBPSF_PATH\u001b[39m\u001b[38;5;124m'\u001b[39m] \u001b[38;5;241m=\u001b[39m \u001b[38;5;124m'\u001b[39m\u001b[38;5;124m/orange/adamginsburg/jwst/webbpsf-data/\u001b[39m\u001b[38;5;124m'\u001b[39m\n\u001b[0;32m---> 32\u001b[0m \u001b[38;5;28;01mimport\u001b[39;00m \u001b[38;5;21;01mwebbpsf\u001b[39;00m\n\u001b[1;32m     33\u001b[0m \u001b[38;5;28;01mfrom\u001b[39;00m \u001b[38;5;21;01mwebbpsf\u001b[39;00m\u001b[38;5;21;01m.\u001b[39;00m\u001b[38;5;21;01mutils\u001b[39;00m \u001b[38;5;28;01mimport\u001b[39;00m to_griddedpsfmodel\n\u001b[1;32m     35\u001b[0m basepath \u001b[38;5;241m=\u001b[39m \u001b[38;5;124m'\u001b[39m\u001b[38;5;124m/orange/adamginsburg/jwst/brick/\u001b[39m\u001b[38;5;124m'\u001b[39m\n",
      "\u001b[0;31mModuleNotFoundError\u001b[0m: No module named 'webbpsf'"
     ]
    }
   ],
   "source": [
    "from saturated_star_finding import iteratively_remove_saturated_stars, remove_saturated_stars\n"
   ]
  },
  {
   "cell_type": "code",
   "execution_count": 14,
   "id": "e69865de-13aa-4ccf-bda5-91b0a850313f",
   "metadata": {
    "tags": []
   },
   "outputs": [
    {
     "data": {
      "text/plain": [
       "2221"
      ]
     },
     "execution_count": 14,
     "metadata": {},
     "output_type": "execute_result"
    }
   ],
   "source": [
    "proposal_id"
   ]
  },
  {
   "cell_type": "code",
   "execution_count": 15,
   "id": "9aa3be8c-7aa5-4d3d-96cf-9613820acc24",
   "metadata": {
    "tags": []
   },
   "outputs": [
    {
     "data": {
      "text/plain": [
       "'002'"
      ]
     },
     "execution_count": 15,
     "metadata": {},
     "output_type": "execute_result"
    }
   ],
   "source": [
    "field"
   ]
  },
  {
   "cell_type": "code",
   "execution_count": 16,
   "id": "9f8fdaf1-1fd0-4991-ace4-0f99e0306493",
   "metadata": {
    "tags": []
   },
   "outputs": [
    {
     "data": {
      "text/plain": [
       "'F405N'"
      ]
     },
     "execution_count": 16,
     "metadata": {},
     "output_type": "execute_result"
    }
   ],
   "source": [
    "filtername"
   ]
  },
  {
   "cell_type": "code",
   "execution_count": 17,
   "id": "deabd5b0-98fa-436c-acd4-c021b1ada7b0",
   "metadata": {
    "tags": []
   },
   "outputs": [
    {
     "data": {
      "text/plain": [
       "'merged'"
      ]
     },
     "execution_count": 17,
     "metadata": {},
     "output_type": "execute_result"
    }
   ],
   "source": [
    "module"
   ]
  },
  {
   "cell_type": "code",
   "execution_count": 18,
   "id": "56e7fa98-8134-480b-8031-e11ec00d10cc",
   "metadata": {
    "tags": []
   },
   "outputs": [
    {
     "data": {
      "text/plain": [
       "'/orange/adamginsburg/jwst/cloudc/'"
      ]
     },
     "execution_count": 18,
     "metadata": {},
     "output_type": "execute_result"
    }
   ],
   "source": [
    "basepath"
   ]
  },
  {
   "cell_type": "code",
   "execution_count": 12,
   "id": "8c38a566-e613-425b-8440-bdb25eb047d4",
   "metadata": {},
   "outputs": [
    {
     "ename": "NameError",
     "evalue": "name 'remove_saturated_stars' is not defined",
     "output_type": "error",
     "traceback": [
      "\u001b[0;31m---------------------------------------------------------------------------\u001b[0m",
      "\u001b[0;31mNameError\u001b[0m                                 Traceback (most recent call last)",
      "Cell \u001b[0;32mIn[12], line 2\u001b[0m\n\u001b[1;32m      1\u001b[0m \u001b[38;5;28;01mtry\u001b[39;00m:\n\u001b[0;32m----> 2\u001b[0m     \u001b[43mremove_saturated_stars\u001b[49m(\u001b[38;5;124mf\u001b[39m\u001b[38;5;124m'\u001b[39m\u001b[38;5;124mjw0\u001b[39m\u001b[38;5;132;01m{\u001b[39;00mproposal_id\u001b[38;5;132;01m}\u001b[39;00m\u001b[38;5;124m-o\u001b[39m\u001b[38;5;132;01m{\u001b[39;00mfield\u001b[38;5;132;01m}\u001b[39;00m\u001b[38;5;124m_t001_nircam_clear-\u001b[39m\u001b[38;5;132;01m{\u001b[39;00mfiltername\u001b[38;5;241m.\u001b[39mlower()\u001b[38;5;132;01m}\u001b[39;00m\u001b[38;5;124m-merged_i2d.fits\u001b[39m\u001b[38;5;124m'\u001b[39m)\n\u001b[1;32m      3\u001b[0m     remove_saturated_stars(\u001b[38;5;124mf\u001b[39m\u001b[38;5;124m'\u001b[39m\u001b[38;5;124mjw0\u001b[39m\u001b[38;5;132;01m{\u001b[39;00mproposal_id\u001b[38;5;132;01m}\u001b[39;00m\u001b[38;5;124m-o\u001b[39m\u001b[38;5;132;01m{\u001b[39;00mfield\u001b[38;5;132;01m}\u001b[39;00m\u001b[38;5;124m_t001_nircam_clear-\u001b[39m\u001b[38;5;132;01m{\u001b[39;00mfiltername\u001b[38;5;241m.\u001b[39mlower()\u001b[38;5;132;01m}\u001b[39;00m\u001b[38;5;124m-\u001b[39m\u001b[38;5;132;01m{\u001b[39;00mmodule\u001b[38;5;132;01m}\u001b[39;00m\u001b[38;5;124m_realigned-to-vvv.fits\u001b[39m\u001b[38;5;124m'\u001b[39m)\n\u001b[1;32m      4\u001b[0m \u001b[38;5;28;01mexcept\u001b[39;00m (\u001b[38;5;167;01mTimeoutError\u001b[39;00m, requests\u001b[38;5;241m.\u001b[39mexceptions\u001b[38;5;241m.\u001b[39mReadTimeout) \u001b[38;5;28;01mas\u001b[39;00m ex:\n",
      "\u001b[0;31mNameError\u001b[0m: name 'remove_saturated_stars' is not defined"
     ]
    }
   ],
   "source": [
    "try:\n",
    "    remove_saturated_stars(f'jw0{proposal_id}-o{field}_t001_nircam_clear-{filtername.lower()}-{module}_i2d.fits')\n",
    "    remove_saturated_stars(f'jw0{proposal_id}-o{field}_t001_nircam_clear-{filtername.lower()}-{module}_realigned-to-vvv.fits')\n",
    "except (TimeoutError, requests.exceptions.ReadTimeout) as ex:\n",
    "    print(\"Failed to run remove_saturated_stars with failure {ex}\")"
   ]
  },
  {
   "cell_type": "code",
   "execution_count": null,
   "id": "5f0e8602-91b8-4be8-ab3e-3e42c9d110ca",
   "metadata": {
    "collapsed": true,
    "jupyter": {
     "outputs_hidden": true
    },
    "tags": []
   },
   "outputs": [
    {
     "name": "stdout",
     "output_type": "stream",
     "text": [
      "Merging already-combined nrca + nrcb modules\n"
     ]
    },
    {
     "name": "stderr",
     "output_type": "stream",
     "text": [
      "2023-11-03 15:05:35,673 - stpipe - WARNING - /blue/adamginsburg/adamginsburg/repos/astropy/astropy/wcs/wcs.py:817: FITSFixedWarning: 'obsfix' made the change 'Set OBSGEO-L to  -134.380275 from OBSGEO-[XYZ].\n",
      "Set OBSGEO-B to    -3.177752 from OBSGEO-[XYZ].\n",
      "Set OBSGEO-H to 1298809712.873 from OBSGEO-[XYZ]'.\n",
      "  warnings.warn(\n",
      "\n",
      "2023-11-03 15:05:35,695 - stpipe - WARNING - /blue/adamginsburg/adamginsburg/repos/astropy/astropy/wcs/wcs.py:817: FITSFixedWarning: 'datfix' made the change 'Set DATE-BEG to '2023-04-15T15:08:19.262' from MJD-BEG.\n",
      "Set DATE-AVG to '2023-04-20T10:07:45.034' from MJD-AVG.\n",
      "Set DATE-END to '2023-04-25T05:06:53.342' from MJD-END'.\n",
      "  warnings.warn(\n",
      "\n",
      "2023-11-03 15:05:36,544 - stpipe - WARNING - /blue/adamginsburg/adamginsburg/repos/astropy/astropy/wcs/wcs.py:817: FITSFixedWarning: 'obsfix' made the change 'Set OBSGEO-L to  -134.380275 from OBSGEO-[XYZ].\n",
      "Set OBSGEO-B to    -3.177752 from OBSGEO-[XYZ].\n",
      "Set OBSGEO-H to 1298809712.873 from OBSGEO-[XYZ]'.\n",
      "  warnings.warn(\n",
      "\n",
      "WARNING: FITSFixedWarning: 'obsfix' made the change 'Set OBSGEO-L to  -134.380275 from OBSGEO-[XYZ].\n",
      "Set OBSGEO-B to    -3.177752 from OBSGEO-[XYZ].\n",
      "Set OBSGEO-H to 1298809712.873 from OBSGEO-[XYZ]'. [astropy.wcs.wcs]\n",
      "WARNING: FITSFixedWarning: 'obsfix' made the change 'Set OBSGEO-L to  -134.380275 from OBSGEO-[XYZ].\n",
      "Set OBSGEO-B to    -3.177752 from OBSGEO-[XYZ].\n",
      "Set OBSGEO-H to 1298809712.873 from OBSGEO-[XYZ]'. [astropy.wcs.wcs]\n",
      "WARNING: FITSFixedWarning: 'obsfix' made the change 'Set OBSGEO-L to  -134.380275 from OBSGEO-[XYZ].\n",
      "Set OBSGEO-B to    -3.177752 from OBSGEO-[XYZ].\n",
      "Set OBSGEO-H to 1298809712.873 from OBSGEO-[XYZ]'. [astropy.wcs.wcs]\n",
      "WARNING: FITSFixedWarning: 'obsfix' made the change 'Set OBSGEO-L to  -134.380275 from OBSGEO-[XYZ].\n",
      "Set OBSGEO-B to    -3.177752 from OBSGEO-[XYZ].\n",
      "Set OBSGEO-H to 1298809712.873 from OBSGEO-[XYZ]'. [astropy.wcs.wcs]\n",
      "WARNING: FITSFixedWarning: 'obsfix' made the change 'Set OBSGEO-L to  -134.380275 from OBSGEO-[XYZ].\n",
      "Set OBSGEO-B to    -3.177752 from OBSGEO-[XYZ].\n",
      "Set OBSGEO-H to 1298809712.873 from OBSGEO-[XYZ]'. [astropy.wcs.wcs]\n",
      "WARNING: FITSFixedWarning: 'obsfix' made the change 'Set OBSGEO-L to  -134.380275 from OBSGEO-[XYZ].\n",
      "Set OBSGEO-B to    -3.177752 from OBSGEO-[XYZ].\n",
      "Set OBSGEO-H to 1298809712.873 from OBSGEO-[XYZ]'. [astropy.wcs.wcs]\n",
      "WARNING: FITSFixedWarning: 'obsfix' made the change 'Set OBSGEO-L to  -134.380275 from OBSGEO-[XYZ].\n",
      "Set OBSGEO-B to    -3.177752 from OBSGEO-[XYZ].\n",
      "Set OBSGEO-H to 1298809712.873 from OBSGEO-[XYZ]'. [astropy.wcs.wcs]\n",
      "WARNING: FITSFixedWarning: 'obsfix' made the change 'Set OBSGEO-L to  -134.380275 from OBSGEO-[XYZ].\n",
      "Set OBSGEO-B to    -3.177752 from OBSGEO-[XYZ].\n",
      "Set OBSGEO-H to 1298809712.873 from OBSGEO-[XYZ]'. [astropy.wcs.wcs]\n",
      "WARNING: FITSFixedWarning: 'obsfix' made the change 'Set OBSGEO-L to  -134.380275 from OBSGEO-[XYZ].\n",
      "Set OBSGEO-B to    -3.177752 from OBSGEO-[XYZ].\n",
      "Set OBSGEO-H to 1298809712.873 from OBSGEO-[XYZ]'. [astropy.wcs.wcs]\n",
      "WARNING: FITSFixedWarning: 'obsfix' made the change 'Set OBSGEO-L to  -134.380275 from OBSGEO-[XYZ].\n",
      "Set OBSGEO-B to    -3.177752 from OBSGEO-[XYZ].\n",
      "Set OBSGEO-H to 1298809712.873 from OBSGEO-[XYZ]'. [astropy.wcs.wcs]\n",
      "WARNING: FITSFixedWarning: 'obsfix' made the change 'Set OBSGEO-L to  -134.380275 from OBSGEO-[XYZ].\n",
      "Set OBSGEO-B to    -3.177752 from OBSGEO-[XYZ].\n",
      "Set OBSGEO-H to 1298809712.873 from OBSGEO-[XYZ]'. [astropy.wcs.wcs]\n",
      "WARNING: FITSFixedWarning: 'obsfix' made the change 'Set OBSGEO-L to  -134.380275 from OBSGEO-[XYZ].\n",
      "Set OBSGEO-B to    -3.177752 from OBSGEO-[XYZ].\n",
      "Set OBSGEO-H to 1298809712.873 from OBSGEO-[XYZ]'. [astropy.wcs.wcs]\n",
      "WARNING: FITSFixedWarning: 'obsfix' made the change 'Set OBSGEO-L to  -134.380275 from OBSGEO-[XYZ].\n",
      "Set OBSGEO-B to    -3.177752 from OBSGEO-[XYZ].\n",
      "Set OBSGEO-H to 1298809712.873 from OBSGEO-[XYZ]'. [astropy.wcs.wcs]\n",
      "WARNING: FITSFixedWarning: 'obsfix' made the change 'Set OBSGEO-L to  -134.380275 from OBSGEO-[XYZ].\n",
      "Set OBSGEO-B to    -3.177752 from OBSGEO-[XYZ].\n",
      "Set OBSGEO-H to 1298809712.873 from OBSGEO-[XYZ]'. [astropy.wcs.wcs]\n",
      "WARNING: FITSFixedWarning: 'obsfix' made the change 'Set OBSGEO-L to  -134.380275 from OBSGEO-[XYZ].\n",
      "Set OBSGEO-B to    -3.177752 from OBSGEO-[XYZ].\n",
      "Set OBSGEO-H to 1298809712.873 from OBSGEO-[XYZ]'. [astropy.wcs.wcs]\n",
      "WARNING: FITSFixedWarning: 'obsfix' made the change 'Set OBSGEO-L to  -134.380275 from OBSGEO-[XYZ].\n",
      "Set OBSGEO-B to    -3.177752 from OBSGEO-[XYZ].\n",
      "Set OBSGEO-H to 1298809712.873 from OBSGEO-[XYZ]'. [astropy.wcs.wcs]\n",
      "WARNING: FITSFixedWarning: 'obsfix' made the change 'Set OBSGEO-L to  -134.380275 from OBSGEO-[XYZ].\n",
      "Set OBSGEO-B to    -3.177752 from OBSGEO-[XYZ].\n",
      "Set OBSGEO-H to 1298809712.873 from OBSGEO-[XYZ]'. [astropy.wcs.wcs]\n",
      "WARNING: FITSFixedWarning: 'obsfix' made the change 'Set OBSGEO-L to  -134.380275 from OBSGEO-[XYZ].\n",
      "Set OBSGEO-B to    -3.177752 from OBSGEO-[XYZ].\n",
      "Set OBSGEO-H to 1298809712.873 from OBSGEO-[XYZ]'. [astropy.wcs.wcs]\n",
      "WARNING: FITSFixedWarning: 'obsfix' made the change 'Set OBSGEO-L to  -134.380275 from OBSGEO-[XYZ].\n",
      "Set OBSGEO-B to    -3.177752 from OBSGEO-[XYZ].\n",
      "Set OBSGEO-H to 1298809712.873 from OBSGEO-[XYZ]'. [astropy.wcs.wcs]\n",
      "WARNING: FITSFixedWarning: 'obsfix' made the change 'Set OBSGEO-L to  -134.380275 from OBSGEO-[XYZ].\n",
      "Set OBSGEO-B to    -3.177752 from OBSGEO-[XYZ].\n",
      "Set OBSGEO-H to 1298809712.873 from OBSGEO-[XYZ]'. [astropy.wcs.wcs]\n",
      "WARNING: FITSFixedWarning: 'obsfix' made the change 'Set OBSGEO-L to  -134.380275 from OBSGEO-[XYZ].\n",
      "Set OBSGEO-B to    -3.177752 from OBSGEO-[XYZ].\n",
      "Set OBSGEO-H to 1298809712.873 from OBSGEO-[XYZ]'. [astropy.wcs.wcs]\n",
      "WARNING: FITSFixedWarning: 'obsfix' made the change 'Set OBSGEO-L to  -134.380275 from OBSGEO-[XYZ].\n",
      "Set OBSGEO-B to    -3.177752 from OBSGEO-[XYZ].\n",
      "Set OBSGEO-H to 1298809712.873 from OBSGEO-[XYZ]'. [astropy.wcs.wcs]\n",
      "WARNING: FITSFixedWarning: 'obsfix' made the change 'Set OBSGEO-L to  -134.380275 from OBSGEO-[XYZ].\n",
      "Set OBSGEO-B to    -3.177752 from OBSGEO-[XYZ].\n",
      "Set OBSGEO-H to 1298809712.873 from OBSGEO-[XYZ]'. [astropy.wcs.wcs]\n",
      "WARNING: FITSFixedWarning: 'obsfix' made the change 'Set OBSGEO-L to  -134.380275 from OBSGEO-[XYZ].\n",
      "Set OBSGEO-B to    -3.177752 from OBSGEO-[XYZ].\n",
      "Set OBSGEO-H to 1298809712.873 from OBSGEO-[XYZ]'. [astropy.wcs.wcs]\n",
      "WARNING: FITSFixedWarning: 'obsfix' made the change 'Set OBSGEO-L to  -134.380275 from OBSGEO-[XYZ].\n",
      "Set OBSGEO-B to    -3.177752 from OBSGEO-[XYZ].\n",
      "Set OBSGEO-H to 1298809712.873 from OBSGEO-[XYZ]'. [astropy.wcs.wcs]\n",
      "WARNING: FITSFixedWarning: 'obsfix' made the change 'Set OBSGEO-L to  -134.380275 from OBSGEO-[XYZ].\n",
      "Set OBSGEO-B to    -3.177752 from OBSGEO-[XYZ].\n",
      "Set OBSGEO-H to 1298809712.873 from OBSGEO-[XYZ]'. [astropy.wcs.wcs]\n",
      "WARNING: FITSFixedWarning: 'obsfix' made the change 'Set OBSGEO-L to  -134.380275 from OBSGEO-[XYZ].\n",
      "Set OBSGEO-B to    -3.177752 from OBSGEO-[XYZ].\n",
      "Set OBSGEO-H to 1298809712.873 from OBSGEO-[XYZ]'. [astropy.wcs.wcs]\n",
      "WARNING: FITSFixedWarning: 'obsfix' made the change 'Set OBSGEO-L to  -134.380275 from OBSGEO-[XYZ].\n",
      "Set OBSGEO-B to    -3.177752 from OBSGEO-[XYZ].\n",
      "Set OBSGEO-H to 1298809712.873 from OBSGEO-[XYZ]'. [astropy.wcs.wcs]\n",
      "WARNING: FITSFixedWarning: 'obsfix' made the change 'Set OBSGEO-L to  -134.380275 from OBSGEO-[XYZ].\n",
      "Set OBSGEO-B to    -3.177752 from OBSGEO-[XYZ].\n",
      "Set OBSGEO-H to 1298809712.873 from OBSGEO-[XYZ]'. [astropy.wcs.wcs]\n",
      "WARNING: FITSFixedWarning: 'obsfix' made the change 'Set OBSGEO-L to  -134.380275 from OBSGEO-[XYZ].\n",
      "Set OBSGEO-B to    -3.177752 from OBSGEO-[XYZ].\n",
      "Set OBSGEO-H to 1298809712.873 from OBSGEO-[XYZ]'. [astropy.wcs.wcs]\n",
      "WARNING: FITSFixedWarning: 'obsfix' made the change 'Set OBSGEO-L to  -134.380275 from OBSGEO-[XYZ].\n",
      "Set OBSGEO-B to    -3.177752 from OBSGEO-[XYZ].\n",
      "Set OBSGEO-H to 1298809712.873 from OBSGEO-[XYZ]'. [astropy.wcs.wcs]\n",
      "WARNING: FITSFixedWarning: 'obsfix' made the change 'Set OBSGEO-L to  -134.380275 from OBSGEO-[XYZ].\n",
      "Set OBSGEO-B to    -3.177752 from OBSGEO-[XYZ].\n",
      "Set OBSGEO-H to 1298809712.873 from OBSGEO-[XYZ]'. [astropy.wcs.wcs]\n",
      "2023-11-03 15:19:17,558 - stpipe - WARNING - /blue/adamginsburg/adamginsburg/repos/astropy/astropy/wcs/wcs.py:817: FITSFixedWarning: 'datfix' made the change 'Set DATE-BEG to '2023-04-15T15:08:19.262' from MJD-BEG.\n",
      "Set DATE-AVG to '2023-04-20T10:07:45.034' from MJD-AVG.\n",
      "Set DATE-END to '2023-04-25T05:06:53.342' from MJD-END'.\n",
      "  warnings.warn(\n",
      "\n",
      "2023-11-03 15:19:17,563 - stpipe - WARNING - /blue/adamginsburg/adamginsburg/repos/astropy/astropy/wcs/wcs.py:817: FITSFixedWarning: 'obsfix' made the change 'Set OBSGEO-L to  -134.380275 from OBSGEO-[XYZ].\n",
      "Set OBSGEO-B to    -3.177752 from OBSGEO-[XYZ].\n",
      "Set OBSGEO-H to 1298809712.873 from OBSGEO-[XYZ]'.\n",
      "  warnings.warn(\n",
      "\n",
      "WARNING: FITSFixedWarning: 'obsfix' made the change 'Set OBSGEO-L to  -134.380275 from OBSGEO-[XYZ].\n",
      "Set OBSGEO-B to    -3.177752 from OBSGEO-[XYZ].\n",
      "Set OBSGEO-H to 1298809712.873 from OBSGEO-[XYZ]'. [astropy.wcs.wcs]\n",
      "WARNING: FITSFixedWarning: 'obsfix' made the change 'Set OBSGEO-L to  -134.380275 from OBSGEO-[XYZ].\n",
      "Set OBSGEO-B to    -3.177752 from OBSGEO-[XYZ].\n",
      "Set OBSGEO-H to 1298809712.873 from OBSGEO-[XYZ]'. [astropy.wcs.wcs]\n",
      "WARNING: FITSFixedWarning: 'obsfix' made the change 'Set OBSGEO-L to  -134.380275 from OBSGEO-[XYZ].\n",
      "Set OBSGEO-B to    -3.177752 from OBSGEO-[XYZ].\n",
      "Set OBSGEO-H to 1298809712.873 from OBSGEO-[XYZ]'. [astropy.wcs.wcs]\n",
      "WARNING: FITSFixedWarning: 'obsfix' made the change 'Set OBSGEO-L to  -134.380275 from OBSGEO-[XYZ].\n",
      "Set OBSGEO-B to    -3.177752 from OBSGEO-[XYZ].\n",
      "Set OBSGEO-H to 1298809712.873 from OBSGEO-[XYZ]'. [astropy.wcs.wcs]\n",
      "WARNING: FITSFixedWarning: 'obsfix' made the change 'Set OBSGEO-L to  -134.380275 from OBSGEO-[XYZ].\n",
      "Set OBSGEO-B to    -3.177752 from OBSGEO-[XYZ].\n",
      "Set OBSGEO-H to 1298809712.873 from OBSGEO-[XYZ]'. [astropy.wcs.wcs]\n",
      "WARNING: FITSFixedWarning: 'obsfix' made the change 'Set OBSGEO-L to  -134.380275 from OBSGEO-[XYZ].\n",
      "Set OBSGEO-B to    -3.177752 from OBSGEO-[XYZ].\n",
      "Set OBSGEO-H to 1298809712.873 from OBSGEO-[XYZ]'. [astropy.wcs.wcs]\n",
      "WARNING: FITSFixedWarning: 'obsfix' made the change 'Set OBSGEO-L to  -134.380275 from OBSGEO-[XYZ].\n",
      "Set OBSGEO-B to    -3.177752 from OBSGEO-[XYZ].\n",
      "Set OBSGEO-H to 1298809712.873 from OBSGEO-[XYZ]'. [astropy.wcs.wcs]\n",
      "WARNING: FITSFixedWarning: 'obsfix' made the change 'Set OBSGEO-L to  -134.380275 from OBSGEO-[XYZ].\n",
      "Set OBSGEO-B to    -3.177752 from OBSGEO-[XYZ].\n",
      "Set OBSGEO-H to 1298809712.873 from OBSGEO-[XYZ]'. [astropy.wcs.wcs]\n",
      "WARNING: FITSFixedWarning: 'obsfix' made the change 'Set OBSGEO-L to  -134.380275 from OBSGEO-[XYZ].\n",
      "Set OBSGEO-B to    -3.177752 from OBSGEO-[XYZ].\n",
      "Set OBSGEO-H to 1298809712.873 from OBSGEO-[XYZ]'. [astropy.wcs.wcs]\n",
      "WARNING: FITSFixedWarning: 'obsfix' made the change 'Set OBSGEO-L to  -134.380275 from OBSGEO-[XYZ].\n",
      "Set OBSGEO-B to    -3.177752 from OBSGEO-[XYZ].\n",
      "Set OBSGEO-H to 1298809712.873 from OBSGEO-[XYZ]'. [astropy.wcs.wcs]\n",
      "WARNING: FITSFixedWarning: 'obsfix' made the change 'Set OBSGEO-L to  -134.380275 from OBSGEO-[XYZ].\n",
      "Set OBSGEO-B to    -3.177752 from OBSGEO-[XYZ].\n",
      "Set OBSGEO-H to 1298809712.873 from OBSGEO-[XYZ]'. [astropy.wcs.wcs]\n",
      "WARNING: FITSFixedWarning: 'obsfix' made the change 'Set OBSGEO-L to  -134.380275 from OBSGEO-[XYZ].\n",
      "Set OBSGEO-B to    -3.177752 from OBSGEO-[XYZ].\n",
      "Set OBSGEO-H to 1298809712.873 from OBSGEO-[XYZ]'. [astropy.wcs.wcs]\n",
      "WARNING: FITSFixedWarning: 'obsfix' made the change 'Set OBSGEO-L to  -134.380275 from OBSGEO-[XYZ].\n",
      "Set OBSGEO-B to    -3.177752 from OBSGEO-[XYZ].\n",
      "Set OBSGEO-H to 1298809712.873 from OBSGEO-[XYZ]'. [astropy.wcs.wcs]\n",
      "WARNING: FITSFixedWarning: 'obsfix' made the change 'Set OBSGEO-L to  -134.380275 from OBSGEO-[XYZ].\n",
      "Set OBSGEO-B to    -3.177752 from OBSGEO-[XYZ].\n",
      "Set OBSGEO-H to 1298809712.873 from OBSGEO-[XYZ]'. [astropy.wcs.wcs]\n",
      "WARNING: FITSFixedWarning: 'obsfix' made the change 'Set OBSGEO-L to  -134.380275 from OBSGEO-[XYZ].\n",
      "Set OBSGEO-B to    -3.177752 from OBSGEO-[XYZ].\n",
      "Set OBSGEO-H to 1298809712.873 from OBSGEO-[XYZ]'. [astropy.wcs.wcs]\n",
      "WARNING: FITSFixedWarning: 'obsfix' made the change 'Set OBSGEO-L to  -134.380275 from OBSGEO-[XYZ].\n",
      "Set OBSGEO-B to    -3.177752 from OBSGEO-[XYZ].\n",
      "Set OBSGEO-H to 1298809712.873 from OBSGEO-[XYZ]'. [astropy.wcs.wcs]\n",
      "WARNING: FITSFixedWarning: 'obsfix' made the change 'Set OBSGEO-L to  -134.380275 from OBSGEO-[XYZ].\n",
      "Set OBSGEO-B to    -3.177752 from OBSGEO-[XYZ].\n",
      "Set OBSGEO-H to 1298809712.873 from OBSGEO-[XYZ]'. [astropy.wcs.wcs]\n",
      "WARNING: FITSFixedWarning: 'obsfix' made the change 'Set OBSGEO-L to  -134.380275 from OBSGEO-[XYZ].\n",
      "Set OBSGEO-B to    -3.177752 from OBSGEO-[XYZ].\n",
      "Set OBSGEO-H to 1298809712.873 from OBSGEO-[XYZ]'. [astropy.wcs.wcs]\n",
      "WARNING: FITSFixedWarning: 'obsfix' made the change 'Set OBSGEO-L to  -134.380275 from OBSGEO-[XYZ].\n",
      "Set OBSGEO-B to    -3.177752 from OBSGEO-[XYZ].\n",
      "Set OBSGEO-H to 1298809712.873 from OBSGEO-[XYZ]'. [astropy.wcs.wcs]\n",
      "WARNING: FITSFixedWarning: 'obsfix' made the change 'Set OBSGEO-L to  -134.380275 from OBSGEO-[XYZ].\n",
      "Set OBSGEO-B to    -3.177752 from OBSGEO-[XYZ].\n",
      "Set OBSGEO-H to 1298809712.873 from OBSGEO-[XYZ]'. [astropy.wcs.wcs]\n",
      "WARNING: FITSFixedWarning: 'obsfix' made the change 'Set OBSGEO-L to  -134.380275 from OBSGEO-[XYZ].\n",
      "Set OBSGEO-B to    -3.177752 from OBSGEO-[XYZ].\n",
      "Set OBSGEO-H to 1298809712.873 from OBSGEO-[XYZ]'. [astropy.wcs.wcs]\n",
      "WARNING: FITSFixedWarning: 'obsfix' made the change 'Set OBSGEO-L to  -134.380275 from OBSGEO-[XYZ].\n",
      "Set OBSGEO-B to    -3.177752 from OBSGEO-[XYZ].\n",
      "Set OBSGEO-H to 1298809712.873 from OBSGEO-[XYZ]'. [astropy.wcs.wcs]\n",
      "WARNING: FITSFixedWarning: 'obsfix' made the change 'Set OBSGEO-L to  -134.380275 from OBSGEO-[XYZ].\n",
      "Set OBSGEO-B to    -3.177752 from OBSGEO-[XYZ].\n",
      "Set OBSGEO-H to 1298809712.873 from OBSGEO-[XYZ]'. [astropy.wcs.wcs]\n",
      "WARNING: FITSFixedWarning: 'obsfix' made the change 'Set OBSGEO-L to  -134.380275 from OBSGEO-[XYZ].\n",
      "Set OBSGEO-B to    -3.177752 from OBSGEO-[XYZ].\n",
      "Set OBSGEO-H to 1298809712.873 from OBSGEO-[XYZ]'. [astropy.wcs.wcs]\n",
      "WARNING: FITSFixedWarning: 'obsfix' made the change 'Set OBSGEO-L to  -134.380275 from OBSGEO-[XYZ].\n",
      "Set OBSGEO-B to    -3.177752 from OBSGEO-[XYZ].\n",
      "Set OBSGEO-H to 1298809712.873 from OBSGEO-[XYZ]'. [astropy.wcs.wcs]\n",
      "WARNING: FITSFixedWarning: 'obsfix' made the change 'Set OBSGEO-L to  -134.380275 from OBSGEO-[XYZ].\n",
      "Set OBSGEO-B to    -3.177752 from OBSGEO-[XYZ].\n",
      "Set OBSGEO-H to 1298809712.873 from OBSGEO-[XYZ]'. [astropy.wcs.wcs]\n",
      "WARNING: FITSFixedWarning: 'obsfix' made the change 'Set OBSGEO-L to  -134.380275 from OBSGEO-[XYZ].\n",
      "Set OBSGEO-B to    -3.177752 from OBSGEO-[XYZ].\n",
      "Set OBSGEO-H to 1298809712.873 from OBSGEO-[XYZ]'. [astropy.wcs.wcs]\n",
      "WARNING: FITSFixedWarning: 'obsfix' made the change 'Set OBSGEO-L to  -134.380275 from OBSGEO-[XYZ].\n",
      "Set OBSGEO-B to    -3.177752 from OBSGEO-[XYZ].\n",
      "Set OBSGEO-H to 1298809712.873 from OBSGEO-[XYZ]'. [astropy.wcs.wcs]\n",
      "WARNING: FITSFixedWarning: 'obsfix' made the change 'Set OBSGEO-L to  -134.380275 from OBSGEO-[XYZ].\n",
      "Set OBSGEO-B to    -3.177752 from OBSGEO-[XYZ].\n",
      "Set OBSGEO-H to 1298809712.873 from OBSGEO-[XYZ]'. [astropy.wcs.wcs]\n",
      "WARNING: FITSFixedWarning: 'obsfix' made the change 'Set OBSGEO-L to  -134.380275 from OBSGEO-[XYZ].\n",
      "Set OBSGEO-B to    -3.177752 from OBSGEO-[XYZ].\n",
      "Set OBSGEO-H to 1298809712.873 from OBSGEO-[XYZ]'. [astropy.wcs.wcs]\n",
      "WARNING: FITSFixedWarning: 'obsfix' made the change 'Set OBSGEO-L to  -134.380275 from OBSGEO-[XYZ].\n",
      "Set OBSGEO-B to    -3.177752 from OBSGEO-[XYZ].\n",
      "Set OBSGEO-H to 1298809712.873 from OBSGEO-[XYZ]'. [astropy.wcs.wcs]\n",
      "WARNING: FITSFixedWarning: 'obsfix' made the change 'Set OBSGEO-L to  -134.380275 from OBSGEO-[XYZ].\n",
      "Set OBSGEO-B to    -3.177752 from OBSGEO-[XYZ].\n",
      "Set OBSGEO-H to 1298809712.873 from OBSGEO-[XYZ]'. [astropy.wcs.wcs]\n",
      "2023-11-03 15:32:51,729 - stpipe - WARNING - /blue/adamginsburg/adamginsburg/repos/astropy/astropy/wcs/wcs.py:817: FITSFixedWarning: 'obsfix' made the change 'Set OBSGEO-L to  -134.380275 from OBSGEO-[XYZ].\n",
      "Set OBSGEO-B to    -3.177752 from OBSGEO-[XYZ].\n",
      "Set OBSGEO-H to 1298809712.873 from OBSGEO-[XYZ]'.\n",
      "  warnings.warn(\n",
      "\n",
      "WARNING: FITSFixedWarning: 'obsfix' made the change 'Set OBSGEO-L to  -134.380275 from OBSGEO-[XYZ].\n",
      "Set OBSGEO-B to    -3.177752 from OBSGEO-[XYZ].\n",
      "Set OBSGEO-H to 1298809712.873 from OBSGEO-[XYZ]'. [astropy.wcs.wcs]\n",
      "WARNING: FITSFixedWarning: 'obsfix' made the change 'Set OBSGEO-L to  -134.380275 from OBSGEO-[XYZ].\n",
      "Set OBSGEO-B to    -3.177752 from OBSGEO-[XYZ].\n",
      "Set OBSGEO-H to 1298809712.873 from OBSGEO-[XYZ]'. [astropy.wcs.wcs]\n",
      "WARNING: FITSFixedWarning: 'obsfix' made the change 'Set OBSGEO-L to  -134.380275 from OBSGEO-[XYZ].\n",
      "Set OBSGEO-B to    -3.177752 from OBSGEO-[XYZ].\n",
      "Set OBSGEO-H to 1298809712.873 from OBSGEO-[XYZ]'. [astropy.wcs.wcs]\n",
      "WARNING: FITSFixedWarning: 'obsfix' made the change 'Set OBSGEO-L to  -134.380275 from OBSGEO-[XYZ].\n",
      "Set OBSGEO-B to    -3.177752 from OBSGEO-[XYZ].\n",
      "Set OBSGEO-H to 1298809712.873 from OBSGEO-[XYZ]'. [astropy.wcs.wcs]\n",
      "WARNING: FITSFixedWarning: 'obsfix' made the change 'Set OBSGEO-L to  -134.380275 from OBSGEO-[XYZ].\n",
      "Set OBSGEO-B to    -3.177752 from OBSGEO-[XYZ].\n",
      "Set OBSGEO-H to 1298809712.873 from OBSGEO-[XYZ]'. [astropy.wcs.wcs]\n",
      "WARNING: FITSFixedWarning: 'obsfix' made the change 'Set OBSGEO-L to  -134.380275 from OBSGEO-[XYZ].\n",
      "Set OBSGEO-B to    -3.177752 from OBSGEO-[XYZ].\n",
      "Set OBSGEO-H to 1298809712.873 from OBSGEO-[XYZ]'. [astropy.wcs.wcs]\n",
      "WARNING: FITSFixedWarning: 'obsfix' made the change 'Set OBSGEO-L to  -134.380275 from OBSGEO-[XYZ].\n",
      "Set OBSGEO-B to    -3.177752 from OBSGEO-[XYZ].\n",
      "Set OBSGEO-H to 1298809712.873 from OBSGEO-[XYZ]'. [astropy.wcs.wcs]\n",
      "WARNING: FITSFixedWarning: 'obsfix' made the change 'Set OBSGEO-L to  -134.380275 from OBSGEO-[XYZ].\n",
      "Set OBSGEO-B to    -3.177752 from OBSGEO-[XYZ].\n",
      "Set OBSGEO-H to 1298809712.873 from OBSGEO-[XYZ]'. [astropy.wcs.wcs]\n",
      "WARNING: FITSFixedWarning: 'obsfix' made the change 'Set OBSGEO-L to  -134.380275 from OBSGEO-[XYZ].\n",
      "Set OBSGEO-B to    -3.177752 from OBSGEO-[XYZ].\n",
      "Set OBSGEO-H to 1298809712.873 from OBSGEO-[XYZ]'. [astropy.wcs.wcs]\n",
      "WARNING: FITSFixedWarning: 'obsfix' made the change 'Set OBSGEO-L to  -134.380275 from OBSGEO-[XYZ].\n",
      "Set OBSGEO-B to    -3.177752 from OBSGEO-[XYZ].\n",
      "Set OBSGEO-H to 1298809712.873 from OBSGEO-[XYZ]'. [astropy.wcs.wcs]\n",
      "WARNING: FITSFixedWarning: 'obsfix' made the change 'Set OBSGEO-L to  -134.380275 from OBSGEO-[XYZ].\n",
      "Set OBSGEO-B to    -3.177752 from OBSGEO-[XYZ].\n",
      "Set OBSGEO-H to 1298809712.873 from OBSGEO-[XYZ]'. [astropy.wcs.wcs]\n",
      "WARNING: FITSFixedWarning: 'obsfix' made the change 'Set OBSGEO-L to  -134.380275 from OBSGEO-[XYZ].\n",
      "Set OBSGEO-B to    -3.177752 from OBSGEO-[XYZ].\n",
      "Set OBSGEO-H to 1298809712.873 from OBSGEO-[XYZ]'. [astropy.wcs.wcs]\n",
      "WARNING: FITSFixedWarning: 'obsfix' made the change 'Set OBSGEO-L to  -134.380275 from OBSGEO-[XYZ].\n",
      "Set OBSGEO-B to    -3.177752 from OBSGEO-[XYZ].\n",
      "Set OBSGEO-H to 1298809712.873 from OBSGEO-[XYZ]'. [astropy.wcs.wcs]\n",
      "WARNING: FITSFixedWarning: 'obsfix' made the change 'Set OBSGEO-L to  -134.380275 from OBSGEO-[XYZ].\n",
      "Set OBSGEO-B to    -3.177752 from OBSGEO-[XYZ].\n",
      "Set OBSGEO-H to 1298809712.873 from OBSGEO-[XYZ]'. [astropy.wcs.wcs]\n",
      "WARNING: FITSFixedWarning: 'obsfix' made the change 'Set OBSGEO-L to  -134.380275 from OBSGEO-[XYZ].\n",
      "Set OBSGEO-B to    -3.177752 from OBSGEO-[XYZ].\n",
      "Set OBSGEO-H to 1298809712.873 from OBSGEO-[XYZ]'. [astropy.wcs.wcs]\n",
      "WARNING: FITSFixedWarning: 'obsfix' made the change 'Set OBSGEO-L to  -134.380275 from OBSGEO-[XYZ].\n",
      "Set OBSGEO-B to    -3.177752 from OBSGEO-[XYZ].\n",
      "Set OBSGEO-H to 1298809712.873 from OBSGEO-[XYZ]'. [astropy.wcs.wcs]\n",
      "WARNING: FITSFixedWarning: 'obsfix' made the change 'Set OBSGEO-L to  -134.380275 from OBSGEO-[XYZ].\n",
      "Set OBSGEO-B to    -3.177752 from OBSGEO-[XYZ].\n",
      "Set OBSGEO-H to 1298809712.873 from OBSGEO-[XYZ]'. [astropy.wcs.wcs]\n",
      "WARNING: FITSFixedWarning: 'obsfix' made the change 'Set OBSGEO-L to  -134.380275 from OBSGEO-[XYZ].\n",
      "Set OBSGEO-B to    -3.177752 from OBSGEO-[XYZ].\n",
      "Set OBSGEO-H to 1298809712.873 from OBSGEO-[XYZ]'. [astropy.wcs.wcs]\n",
      "WARNING: FITSFixedWarning: 'obsfix' made the change 'Set OBSGEO-L to  -134.380275 from OBSGEO-[XYZ].\n",
      "Set OBSGEO-B to    -3.177752 from OBSGEO-[XYZ].\n",
      "Set OBSGEO-H to 1298809712.873 from OBSGEO-[XYZ]'. [astropy.wcs.wcs]\n",
      "WARNING: FITSFixedWarning: 'obsfix' made the change 'Set OBSGEO-L to  -134.380275 from OBSGEO-[XYZ].\n",
      "Set OBSGEO-B to    -3.177752 from OBSGEO-[XYZ].\n",
      "Set OBSGEO-H to 1298809712.873 from OBSGEO-[XYZ]'. [astropy.wcs.wcs]\n",
      "WARNING: FITSFixedWarning: 'obsfix' made the change 'Set OBSGEO-L to  -134.380275 from OBSGEO-[XYZ].\n",
      "Set OBSGEO-B to    -3.177752 from OBSGEO-[XYZ].\n",
      "Set OBSGEO-H to 1298809712.873 from OBSGEO-[XYZ]'. [astropy.wcs.wcs]\n",
      "WARNING: FITSFixedWarning: 'obsfix' made the change 'Set OBSGEO-L to  -134.380275 from OBSGEO-[XYZ].\n",
      "Set OBSGEO-B to    -3.177752 from OBSGEO-[XYZ].\n",
      "Set OBSGEO-H to 1298809712.873 from OBSGEO-[XYZ]'. [astropy.wcs.wcs]\n",
      "WARNING: FITSFixedWarning: 'obsfix' made the change 'Set OBSGEO-L to  -134.380275 from OBSGEO-[XYZ].\n",
      "Set OBSGEO-B to    -3.177752 from OBSGEO-[XYZ].\n",
      "Set OBSGEO-H to 1298809712.873 from OBSGEO-[XYZ]'. [astropy.wcs.wcs]\n",
      "WARNING: FITSFixedWarning: 'obsfix' made the change 'Set OBSGEO-L to  -134.380275 from OBSGEO-[XYZ].\n",
      "Set OBSGEO-B to    -3.177752 from OBSGEO-[XYZ].\n",
      "Set OBSGEO-H to 1298809712.873 from OBSGEO-[XYZ]'. [astropy.wcs.wcs]\n",
      "WARNING: FITSFixedWarning: 'obsfix' made the change 'Set OBSGEO-L to  -134.380275 from OBSGEO-[XYZ].\n",
      "Set OBSGEO-B to    -3.177752 from OBSGEO-[XYZ].\n",
      "Set OBSGEO-H to 1298809712.873 from OBSGEO-[XYZ]'. [astropy.wcs.wcs]\n",
      "WARNING: FITSFixedWarning: 'obsfix' made the change 'Set OBSGEO-L to  -134.380275 from OBSGEO-[XYZ].\n",
      "Set OBSGEO-B to    -3.177752 from OBSGEO-[XYZ].\n",
      "Set OBSGEO-H to 1298809712.873 from OBSGEO-[XYZ]'. [astropy.wcs.wcs]\n",
      "WARNING: FITSFixedWarning: 'obsfix' made the change 'Set OBSGEO-L to  -134.380275 from OBSGEO-[XYZ].\n",
      "Set OBSGEO-B to    -3.177752 from OBSGEO-[XYZ].\n",
      "Set OBSGEO-H to 1298809712.873 from OBSGEO-[XYZ]'. [astropy.wcs.wcs]\n",
      "WARNING: FITSFixedWarning: 'obsfix' made the change 'Set OBSGEO-L to  -134.380275 from OBSGEO-[XYZ].\n",
      "Set OBSGEO-B to    -3.177752 from OBSGEO-[XYZ].\n",
      "Set OBSGEO-H to 1298809712.873 from OBSGEO-[XYZ]'. [astropy.wcs.wcs]\n",
      "WARNING: FITSFixedWarning: 'obsfix' made the change 'Set OBSGEO-L to  -134.380275 from OBSGEO-[XYZ].\n",
      "Set OBSGEO-B to    -3.177752 from OBSGEO-[XYZ].\n",
      "Set OBSGEO-H to 1298809712.873 from OBSGEO-[XYZ]'. [astropy.wcs.wcs]\n",
      "WARNING: FITSFixedWarning: 'obsfix' made the change 'Set OBSGEO-L to  -134.380275 from OBSGEO-[XYZ].\n",
      "Set OBSGEO-B to    -3.177752 from OBSGEO-[XYZ].\n",
      "Set OBSGEO-H to 1298809712.873 from OBSGEO-[XYZ]'. [astropy.wcs.wcs]\n",
      "WARNING: FITSFixedWarning: 'obsfix' made the change 'Set OBSGEO-L to  -134.380275 from OBSGEO-[XYZ].\n",
      "Set OBSGEO-B to    -3.177752 from OBSGEO-[XYZ].\n",
      "Set OBSGEO-H to 1298809712.873 from OBSGEO-[XYZ]'. [astropy.wcs.wcs]\n",
      "WARNING: FITSFixedWarning: 'obsfix' made the change 'Set OBSGEO-L to  -134.380275 from OBSGEO-[XYZ].\n",
      "Set OBSGEO-B to    -3.177752 from OBSGEO-[XYZ].\n",
      "Set OBSGEO-H to 1298809712.873 from OBSGEO-[XYZ]'. [astropy.wcs.wcs]\n",
      "2023-11-03 15:46:19,824 - stpipe - WARNING - /blue/adamginsburg/adamginsburg/repos/astropy/astropy/wcs/wcs.py:817: FITSFixedWarning: 'obsfix' made the change 'Set OBSGEO-L to  -134.380275 from OBSGEO-[XYZ].\n",
      "Set OBSGEO-B to    -3.177752 from OBSGEO-[XYZ].\n",
      "Set OBSGEO-H to 1298809712.873 from OBSGEO-[XYZ]'.\n",
      "  warnings.warn(\n",
      "\n",
      "WARNING: FITSFixedWarning: 'obsfix' made the change 'Set OBSGEO-L to  -134.380275 from OBSGEO-[XYZ].\n",
      "Set OBSGEO-B to    -3.177752 from OBSGEO-[XYZ].\n",
      "Set OBSGEO-H to 1298809712.873 from OBSGEO-[XYZ]'. [astropy.wcs.wcs]\n",
      "WARNING: FITSFixedWarning: 'obsfix' made the change 'Set OBSGEO-L to  -134.380275 from OBSGEO-[XYZ].\n",
      "Set OBSGEO-B to    -3.177752 from OBSGEO-[XYZ].\n",
      "Set OBSGEO-H to 1298809712.873 from OBSGEO-[XYZ]'. [astropy.wcs.wcs]\n"
     ]
    }
   ],
   "source": [
    "print(\"Merging already-combined nrca + nrcb modules\")\n",
    "merge_a_plus_b(filtername, basepath=basepath, fieldnumber=field, suffix='realigned-to-refcat',\n",
    "               proposal_id=proposal_id)\n",
    "print(\"DONE Merging already-combined nrca + nrcb modules\")"
   ]
  },
  {
   "cell_type": "code",
   "execution_count": null,
   "id": "d18e7cfd-a43a-45d8-a381-9b0af43e6be9",
   "metadata": {},
   "outputs": [],
   "source": [
    "\n",
    "\n",
    "print(\"Merging already-combined nrca + nrcb modules\")\n",
    "merge_a_plus_b(filtername, basepath=basepath, fieldnumber=field, suffix='realigned-to-vvv',\n",
    "               proposal_id=proposal_id, outsuffix='merged-reproject_realigned-to-vvv')\n",
    "print(\"DONE Merging already-combined nrca + nrcb modules\")"
   ]
  }
 ],
 "metadata": {
  "kernelspec": {
   "display_name": "Python 3 (ipykernel)",
   "language": "python",
   "name": "python3"
  },
  "language_info": {
   "codemirror_mode": {
    "name": "ipython",
    "version": 3
   },
   "file_extension": ".py",
   "mimetype": "text/x-python",
   "name": "python",
   "nbconvert_exporter": "python",
   "pygments_lexer": "ipython3",
   "version": "3.9.17"
  }
 },
 "nbformat": 4,
 "nbformat_minor": 5
}
