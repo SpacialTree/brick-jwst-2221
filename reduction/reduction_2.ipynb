{
 "cells": [
  {
   "cell_type": "code",
   "execution_count": 1,
   "id": "935f934e-fd7d-434e-b7ba-f4b364d17db4",
   "metadata": {},
   "outputs": [
    {
     "name": "stderr",
     "output_type": "stream",
     "text": [
      "2023-06-02 13:37:10,686 - stpipe - WARNING - /blue/adamginsburg/adamginsburg/jwst/cloudc/reduction/brick-jwst-2221/reduction/filtering.py:20: TqdmExperimentalWarning: Using `tqdm.autonotebook.tqdm` in notebook mode. Use `tqdm.tqdm` instead to force console mode (e.g. in jupyter console)\n",
      "  from tqdm.autonotebook import tqdm\n",
      "\n",
      "fatal: detected dubious ownership in repository at '/blue/adamginsburg/adamginsburg/repos/dask'\n",
      "To add an exception for this directory, call:\n",
      "\n",
      "\tgit config --global --add safe.directory /blue/adamginsburg/adamginsburg/repos/dask\n"
     ]
    },
    {
     "name": "stdout",
     "output_type": "stream",
     "text": [
      "2023-06-02T13:37:17.782816: 1.9.0\n"
     ]
    }
   ],
   "source": [
    "#!/usr/bin/env python\n",
    "from glob import glob\n",
    "from astroquery.mast import Mast, Observations\n",
    "import os\n",
    "import shutil\n",
    "import numpy as np\n",
    "import json\n",
    "import requests\n",
    "import asdf\n",
    "from astropy import log\n",
    "from astropy.io import ascii, fits\n",
    "from astropy.utils.data import download_file\n",
    "from astropy.visualization import ImageNormalize, ManualInterval, LogStretch, LinearStretch\n",
    "import matplotlib.pyplot as plt\n",
    "import matplotlib as mpl\n",
    "\n",
    "# do this before importing webb\n",
    "os.environ[\"CRDS_PATH\"] = \"/orange/adamginsburg/jwst/brick/crds/\"\n",
    "os.environ[\"CRDS_SERVER_URL\"] = \"https://jwst-crds.stsci.edu\"\n",
    "\n",
    "from jwst.pipeline import calwebb_image3\n",
    "from jwst.pipeline import Detector1Pipeline, Image2Pipeline\n",
    "\n",
    "# Individual steps that make up calwebb_image3\n",
    "from jwst.tweakreg import TweakRegStep\n",
    "from jwst.skymatch import SkyMatchStep\n",
    "from jwst.outlier_detection import OutlierDetectionStep\n",
    "from jwst.resample import ResampleStep\n",
    "from jwst.source_catalog import SourceCatalogStep\n",
    "from jwst import datamodels\n",
    "from jwst.associations import asn_from_list\n",
    "from jwst.associations.lib.rules_level3_base import DMS_Level3_Base\n",
    "\n",
    "from align_to_catalogs import realign_to_vvv, merge_a_plus_b, retrieve_vvv\n",
    "from saturated_star_finding import iteratively_remove_saturated_stars, remove_saturated_stars\n",
    "\n",
    "from destreak import destreak\n",
    "\n",
    "import crds\n",
    "\n",
    "import datetime\n",
    "import jwst\n",
    "\n",
    "def print(*args, **kwargs):\n",
    "    now = datetime.datetime.now().isoformat()\n",
    "    from builtins import print as printfunc\n",
    "    return printfunc(f\"{now}:\", *args, **kwargs)\n",
    "\n",
    "\n",
    "print(jwst.__version__)\n",
    "\n",
    "# see 'destreak410.ipynb' for tests of this\n",
    "medfilt_size = {'F410M': 15, 'F405N': 256, 'F466N': 55}\n",
    "\n",
    "#basepath = '/orange/adamginsburg/jwst/brick/'\n",
    "\n",
    "filtername = 'F466N'\n",
    "module = 'merged'\n",
    "field = '002'\n",
    "regionname = 'cloudc'"
   ]
  },
  {
   "cell_type": "code",
   "execution_count": 2,
   "id": "cd78d06f-f763-4041-a98f-9ea5e7b35f20",
   "metadata": {},
   "outputs": [
    {
     "data": {
      "text/plain": [
       "\u001b[0;31mSignature:\u001b[0m \u001b[0mcalwebb_image3\u001b[0m\u001b[0;34m.\u001b[0m\u001b[0mImage3Pipeline\u001b[0m\u001b[0;34m.\u001b[0m\u001b[0mcall\u001b[0m\u001b[0;34m(\u001b[0m\u001b[0;34m*\u001b[0m\u001b[0margs\u001b[0m\u001b[0;34m,\u001b[0m \u001b[0;34m**\u001b[0m\u001b[0mkwargs\u001b[0m\u001b[0;34m)\u001b[0m\u001b[0;34m\u001b[0m\u001b[0;34m\u001b[0m\u001b[0m\n",
       "\u001b[0;31mSource:\u001b[0m   \n",
       "    \u001b[0;34m@\u001b[0m\u001b[0mclassmethod\u001b[0m\u001b[0;34m\u001b[0m\n",
       "\u001b[0;34m\u001b[0m    \u001b[0;32mdef\u001b[0m \u001b[0mcall\u001b[0m\u001b[0;34m(\u001b[0m\u001b[0mcls\u001b[0m\u001b[0;34m,\u001b[0m \u001b[0;34m*\u001b[0m\u001b[0margs\u001b[0m\u001b[0;34m,\u001b[0m \u001b[0;34m**\u001b[0m\u001b[0mkwargs\u001b[0m\u001b[0;34m)\u001b[0m\u001b[0;34m:\u001b[0m\u001b[0;34m\u001b[0m\n",
       "\u001b[0;34m\u001b[0m        \u001b[0;34m\"\"\"\u001b[0m\n",
       "\u001b[0;34m        Creates and runs a new instance of the class.\u001b[0m\n",
       "\u001b[0;34m\u001b[0m\n",
       "\u001b[0;34m        Gets a config file from CRDS if one is available\u001b[0m\n",
       "\u001b[0;34m\u001b[0m\n",
       "\u001b[0;34m        To set configuration parameters, pass a `config_file` path or\u001b[0m\n",
       "\u001b[0;34m        keyword arguments.  Keyword arguments override those in the\u001b[0m\n",
       "\u001b[0;34m        specified `config_file`.\u001b[0m\n",
       "\u001b[0;34m\u001b[0m\n",
       "\u001b[0;34m        Any positional `*args` will be passed along to the step's\u001b[0m\n",
       "\u001b[0;34m        `process` method.\u001b[0m\n",
       "\u001b[0;34m\u001b[0m\n",
       "\u001b[0;34m        Note: this method creates a new instance of `Step` with the given\u001b[0m\n",
       "\u001b[0;34m        `config_file` if supplied, plus any extra `*args` and `**kwargs`.\u001b[0m\n",
       "\u001b[0;34m        If you create an instance of a Step, set parameters, and then use\u001b[0m\n",
       "\u001b[0;34m        this `call()` method, it will ignore previously-set parameters, as\u001b[0m\n",
       "\u001b[0;34m        it creates a new instance of the class with only the `config_file`,\u001b[0m\n",
       "\u001b[0;34m        `*args` and `**kwargs` passed to the `call()` method.\u001b[0m\n",
       "\u001b[0;34m\u001b[0m\n",
       "\u001b[0;34m        If not used with a `config_file` or specific `*args` and `**kwargs`,\u001b[0m\n",
       "\u001b[0;34m        it would be better to use the `run` method, which does not create\u001b[0m\n",
       "\u001b[0;34m        a new instance but simply runs the existing instance of the `Step`\u001b[0m\n",
       "\u001b[0;34m        class.\u001b[0m\n",
       "\u001b[0;34m        \"\"\"\u001b[0m\u001b[0;34m\u001b[0m\n",
       "\u001b[0;34m\u001b[0m        \u001b[0mfilename\u001b[0m \u001b[0;34m=\u001b[0m \u001b[0;32mNone\u001b[0m\u001b[0;34m\u001b[0m\n",
       "\u001b[0;34m\u001b[0m        \u001b[0;32mif\u001b[0m \u001b[0mlen\u001b[0m\u001b[0;34m(\u001b[0m\u001b[0margs\u001b[0m\u001b[0;34m)\u001b[0m \u001b[0;34m>\u001b[0m \u001b[0;36m0\u001b[0m\u001b[0;34m:\u001b[0m\u001b[0;34m\u001b[0m\n",
       "\u001b[0;34m\u001b[0m            \u001b[0mfilename\u001b[0m \u001b[0;34m=\u001b[0m \u001b[0margs\u001b[0m\u001b[0;34m[\u001b[0m\u001b[0;36m0\u001b[0m\u001b[0;34m]\u001b[0m\u001b[0;34m\u001b[0m\n",
       "\u001b[0;34m\u001b[0m        \u001b[0mconfig\u001b[0m\u001b[0;34m,\u001b[0m \u001b[0mconfig_file\u001b[0m \u001b[0;34m=\u001b[0m \u001b[0mcls\u001b[0m\u001b[0;34m.\u001b[0m\u001b[0mbuild_config\u001b[0m\u001b[0;34m(\u001b[0m\u001b[0mfilename\u001b[0m\u001b[0;34m,\u001b[0m \u001b[0;34m**\u001b[0m\u001b[0mkwargs\u001b[0m\u001b[0;34m)\u001b[0m\u001b[0;34m\u001b[0m\n",
       "\u001b[0;34m\u001b[0m\u001b[0;34m\u001b[0m\n",
       "\u001b[0;34m\u001b[0m        \u001b[0;32mif\u001b[0m \u001b[0;34m'class'\u001b[0m \u001b[0;32min\u001b[0m \u001b[0mconfig\u001b[0m\u001b[0;34m:\u001b[0m\u001b[0;34m\u001b[0m\n",
       "\u001b[0;34m\u001b[0m            \u001b[0;32mdel\u001b[0m \u001b[0mconfig\u001b[0m\u001b[0;34m[\u001b[0m\u001b[0;34m'class'\u001b[0m\u001b[0;34m]\u001b[0m\u001b[0;34m\u001b[0m\n",
       "\u001b[0;34m\u001b[0m\u001b[0;34m\u001b[0m\n",
       "\u001b[0;34m\u001b[0m        \u001b[0;32mif\u001b[0m \u001b[0;34m'logcfg'\u001b[0m \u001b[0;32min\u001b[0m \u001b[0mconfig\u001b[0m\u001b[0;34m:\u001b[0m\u001b[0;34m\u001b[0m\n",
       "\u001b[0;34m\u001b[0m            \u001b[0;32mtry\u001b[0m\u001b[0;34m:\u001b[0m\u001b[0;34m\u001b[0m\n",
       "\u001b[0;34m\u001b[0m                \u001b[0mlog\u001b[0m\u001b[0;34m.\u001b[0m\u001b[0mload_configuration\u001b[0m\u001b[0;34m(\u001b[0m\u001b[0mconfig\u001b[0m\u001b[0;34m[\u001b[0m\u001b[0;34m'logcfg'\u001b[0m\u001b[0;34m]\u001b[0m\u001b[0;34m)\u001b[0m\u001b[0;34m\u001b[0m\n",
       "\u001b[0;34m\u001b[0m            \u001b[0;32mexcept\u001b[0m \u001b[0mException\u001b[0m \u001b[0;32mas\u001b[0m \u001b[0me\u001b[0m\u001b[0;34m:\u001b[0m\u001b[0;34m\u001b[0m\n",
       "\u001b[0;34m\u001b[0m                \u001b[0;32mraise\u001b[0m \u001b[0mRuntimeError\u001b[0m\u001b[0;34m(\u001b[0m\u001b[0;34m\u001b[0m\n",
       "\u001b[0;34m\u001b[0m                    \u001b[0;34mf\"Error parsing logging config {config['logcfg']}\"\u001b[0m\u001b[0;34m\u001b[0m\n",
       "\u001b[0;34m\u001b[0m                \u001b[0;34m)\u001b[0m \u001b[0;32mfrom\u001b[0m \u001b[0me\u001b[0m\u001b[0;34m\u001b[0m\n",
       "\u001b[0;34m\u001b[0m            \u001b[0;32mdel\u001b[0m \u001b[0mconfig\u001b[0m\u001b[0;34m[\u001b[0m\u001b[0;34m'logcfg'\u001b[0m\u001b[0;34m]\u001b[0m\u001b[0;34m\u001b[0m\n",
       "\u001b[0;34m\u001b[0m\u001b[0;34m\u001b[0m\n",
       "\u001b[0;34m\u001b[0m        \u001b[0mname\u001b[0m \u001b[0;34m=\u001b[0m \u001b[0mconfig\u001b[0m\u001b[0;34m.\u001b[0m\u001b[0mget\u001b[0m\u001b[0;34m(\u001b[0m\u001b[0;34m'name'\u001b[0m\u001b[0;34m,\u001b[0m \u001b[0;32mNone\u001b[0m\u001b[0;34m)\u001b[0m\u001b[0;34m\u001b[0m\n",
       "\u001b[0;34m\u001b[0m        \u001b[0minstance\u001b[0m \u001b[0;34m=\u001b[0m \u001b[0mcls\u001b[0m\u001b[0;34m.\u001b[0m\u001b[0mfrom_config_section\u001b[0m\u001b[0;34m(\u001b[0m\u001b[0mconfig\u001b[0m\u001b[0;34m,\u001b[0m\u001b[0;34m\u001b[0m\n",
       "\u001b[0;34m\u001b[0m            \u001b[0mname\u001b[0m\u001b[0;34m=\u001b[0m\u001b[0mname\u001b[0m\u001b[0;34m,\u001b[0m \u001b[0mconfig_file\u001b[0m\u001b[0;34m=\u001b[0m\u001b[0mconfig_file\u001b[0m\u001b[0;34m)\u001b[0m\u001b[0;34m\u001b[0m\n",
       "\u001b[0;34m\u001b[0m\u001b[0;34m\u001b[0m\n",
       "\u001b[0;34m\u001b[0m        \u001b[0;32mreturn\u001b[0m \u001b[0minstance\u001b[0m\u001b[0;34m.\u001b[0m\u001b[0mrun\u001b[0m\u001b[0;34m(\u001b[0m\u001b[0;34m*\u001b[0m\u001b[0margs\u001b[0m\u001b[0;34m)\u001b[0m\u001b[0;34m\u001b[0m\u001b[0;34m\u001b[0m\u001b[0m\n",
       "\u001b[0;31mFile:\u001b[0m      /orange/adamginsburg/miniconda3/envs/python39/lib/python3.9/site-packages/stpipe/step.py\n",
       "\u001b[0;31mType:\u001b[0m      method\n"
      ]
     },
     "metadata": {},
     "output_type": "display_data"
    }
   ],
   "source": [
    "calwebb_image3.Image3Pipeline.call??"
   ]
  },
  {
   "cell_type": "code",
   "execution_count": 4,
   "id": "c4532e45-9e08-4ed7-8cff-2184538a7a09",
   "metadata": {},
   "outputs": [],
   "source": [
    "vvvcat = fits.open('/orange/adamginsburg/jwst/cloudc//F466N/pipeline/jw02221-o001_t001_nircam_clear-F466N-merged_vvvcat.fits')"
   ]
  },
  {
   "cell_type": "code",
   "execution_count": 9,
   "id": "d95a4751-1612-49c0-8d7d-92397598080d",
   "metadata": {},
   "outputs": [
    {
     "data": {
      "text/plain": [
       "FITS_rec([(266.602823, -28.60222 , 'VVV J174624.67-283607.99', -1, 18.806, 0.084,  0, 17.736, 0.053,  0, 16.528, 0.034, 16,    nan,   nan,  0,    nan,   nan,  0, 266.602823, -28.60222 ),\n",
       "          (266.606742, -28.598289, 'VVV J174625.61-283553.84', -1, 16.278, 0.011,  0, 15.811, 0.011,  0, 15.225, 0.011, 16, 14.721, 0.027, 16, 14.421, 0.058, 16, 266.606742, -28.598289),\n",
       "          (266.613329, -28.597491, 'VVV J174627.19-283550.96', -1, 17.865, 0.037, 16, 17.298, 0.036, 16, 16.693, 0.039, 16, 16.261, 0.111, 16,    nan,   nan,  0, 266.613329, -28.597491),\n",
       "          ...,\n",
       "          (266.59499 , -28.520139, 'VVV J174622.79-283112.49',  1,    nan,   nan,  0,    nan,   nan,  0, 17.2  , 0.061, 16, 14.584, 0.024, 16,    nan,   nan,  0, 266.59499 , -28.520139),\n",
       "          (266.592745, -28.520205, 'VVV J174622.25-283112.73', -1,    nan,   nan,  0,    nan,   nan,  0,    nan,   nan,  0,    nan,   nan,  0, 14.23 , 0.049, 16, 266.592745, -28.520205),\n",
       "          (266.593806, -28.520737, 'VVV J174622.51-283114.65', -2, 19.541, 0.161,  0, 18.476, 0.107,  0, 17.066, 0.054, 16, 16.216, 0.105, 16,    nan,   nan,  0, 266.593806, -28.520737)],\n",
       "         dtype=(numpy.record, [('RAJ2000', '>f8'), ('DEJ2000', '>f8'), ('iauname', 'S24'), ('mClass', '>i2'), ('Zmag3', '>f4'), ('e_Zmag3', '>f8'), ('Zperrbits', '>i4'), ('Ymag3', '>f8'), ('e_Ymag3', '>f8'), ('Yperrbits', '>i4'), ('Jmag3', '>f8'), ('e_Jmag3', '>f8'), ('Jperrbits', '>i4'), ('Hmag3', '>f8'), ('e_Hmag3', '>f8'), ('Hperrbits', '>i4'), ('Ksmag3', '>f8'), ('e_Ksmag3', '>f8'), ('Ksperrbits', '>i4'), ('RA', '>f8'), ('DEC', '>f8')]))"
      ]
     },
     "execution_count": 9,
     "metadata": {},
     "output_type": "execute_result"
    }
   ],
   "source": [
    "vvvcat[1].data"
   ]
  },
  {
   "cell_type": "code",
   "execution_count": 12,
   "id": "7e89b482-7ebd-48bd-86ad-163a92a096e5",
   "metadata": {},
   "outputs": [],
   "source": [
    "from astropy.table import Table"
   ]
  },
  {
   "cell_type": "code",
   "execution_count": 16,
   "id": "4509de2e-3087-449c-a8c4-bae50cde6490",
   "metadata": {},
   "outputs": [
    {
     "data": {
      "text/plain": [
       "False"
      ]
     },
     "execution_count": 16,
     "metadata": {},
     "output_type": "execute_result"
    }
   ],
   "source": [
    "\n",
    "vvvdr2fn = '/orange/adamginsburg/jwst/cloudc//F466N/pipeline/jw02221-o002_t001_nircam_clear-F466N-merged_vvvcat.ecsv'\n",
    "#(f'{basepath}/{filtername.upper()}/pipeline/jw02221-o{field}_t001_nircam_clear-{filtername}-{module}_vvvcat.ecsv')\n",
    "\n",
    "os.path.exists(vvvdr2fn)"
   ]
  },
  {
   "cell_type": "code",
   "execution_count": null,
   "id": "f74b96ce-11aa-42f3-a336-4bb49751c37c",
   "metadata": {},
   "outputs": [],
   "source": []
  },
  {
   "cell_type": "code",
   "execution_count": 13,
   "id": "ac9e059a-1f0e-4422-931e-cf436a6b5915",
   "metadata": {},
   "outputs": [
    {
     "data": {
      "text/html": [
       "<div><i>Table length=3437</i>\n",
       "<table id=\"table46918845900016\" class=\"table-striped table-bordered table-condensed\">\n",
       "<thead><tr><th>RAJ2000</th><th>DEJ2000</th><th>iauname</th><th>mClass</th><th>Zmag3</th><th>e_Zmag3</th><th>Zperrbits</th><th>Ymag3</th><th>e_Ymag3</th><th>Yperrbits</th><th>Jmag3</th><th>e_Jmag3</th><th>Jperrbits</th><th>Hmag3</th><th>e_Hmag3</th><th>Hperrbits</th><th>Ksmag3</th><th>e_Ksmag3</th><th>Ksperrbits</th><th>RA</th><th>DEC</th></tr></thead>\n",
       "<thead><tr><th>float64</th><th>float64</th><th>str24</th><th>int16</th><th>float32</th><th>float64</th><th>int32</th><th>float64</th><th>float64</th><th>int32</th><th>float64</th><th>float64</th><th>int32</th><th>float64</th><th>float64</th><th>int32</th><th>float64</th><th>float64</th><th>int32</th><th>float64</th><th>float64</th></tr></thead>\n",
       "<tr><td>266.602823</td><td>-28.60222</td><td>VVV J174624.67-283607.99</td><td>-1</td><td>18.806</td><td>0.084</td><td>0</td><td>17.736</td><td>0.053</td><td>0</td><td>16.528</td><td>0.034</td><td>16</td><td>nan</td><td>nan</td><td>0</td><td>nan</td><td>nan</td><td>0</td><td>266.602823</td><td>-28.60222</td></tr>\n",
       "<tr><td>266.606742</td><td>-28.598289</td><td>VVV J174625.61-283553.84</td><td>-1</td><td>16.278</td><td>0.011</td><td>0</td><td>15.811</td><td>0.011</td><td>0</td><td>15.225</td><td>0.011</td><td>16</td><td>14.721</td><td>0.027</td><td>16</td><td>14.421</td><td>0.058</td><td>16</td><td>266.606742</td><td>-28.598289</td></tr>\n",
       "<tr><td>266.613329</td><td>-28.597491</td><td>VVV J174627.19-283550.96</td><td>-1</td><td>17.865</td><td>0.037</td><td>16</td><td>17.298</td><td>0.036</td><td>16</td><td>16.693</td><td>0.039</td><td>16</td><td>16.261</td><td>0.111</td><td>16</td><td>nan</td><td>nan</td><td>0</td><td>266.613329</td><td>-28.597491</td></tr>\n",
       "<tr><td>266.611708</td><td>-28.596065</td><td>VVV J174626.81-283545.83</td><td>1</td><td>19.567</td><td>0.167</td><td>0</td><td>19.022</td><td>0.17</td><td>0</td><td>17.988</td><td>0.126</td><td>0</td><td>15.987</td><td>0.086</td><td>16</td><td>14.496</td><td>0.062</td><td>16</td><td>266.611708</td><td>-28.596065</td></tr>\n",
       "<tr><td>266.603496</td><td>-28.60398</td><td>VVV J174624.83-283614.32</td><td>-1</td><td>16.636</td><td>0.014</td><td>0</td><td>16.304</td><td>0.016</td><td>0</td><td>15.796</td><td>0.018</td><td>0</td><td>14.848</td><td>0.03</td><td>16</td><td>13.669</td><td>0.029</td><td>16</td><td>266.603496</td><td>-28.60398</td></tr>\n",
       "<tr><td>266.610196</td><td>-28.601597</td><td>VVV J174626.44-283605.75</td><td>-1</td><td>18.836</td><td>0.087</td><td>0</td><td>18.411</td><td>0.097</td><td>0</td><td>17.722</td><td>0.099</td><td>0</td><td>17.499</td><td>0.345</td><td>0</td><td>nan</td><td>nan</td><td>0</td><td>266.610196</td><td>-28.601597</td></tr>\n",
       "<tr><td>266.613424</td><td>-28.595982</td><td>VVV J174627.22-283545.53</td><td>1</td><td>19.395</td><td>0.143</td><td>0</td><td>18.878</td><td>0.149</td><td>0</td><td>17.766</td><td>0.103</td><td>16</td><td>nan</td><td>nan</td><td>0</td><td>nan</td><td>nan</td><td>0</td><td>266.613424</td><td>-28.595982</td></tr>\n",
       "<tr><td>266.603983</td><td>-28.60527</td><td>VVV J174624.95-283618.97</td><td>1</td><td>nan</td><td>nan</td><td>0</td><td>nan</td><td>nan</td><td>0</td><td>15.802</td><td>0.018</td><td>0</td><td>13.3</td><td>0.008</td><td>16</td><td>11.588</td><td>0.004</td><td>16</td><td>266.603983</td><td>-28.60527</td></tr>\n",
       "<tr><td>266.614028</td><td>-28.605808</td><td>VVV J174627.36-283620.90</td><td>-1</td><td>18.678</td><td>0.075</td><td>0</td><td>17.789</td><td>0.056</td><td>0</td><td>16.494</td><td>0.033</td><td>16</td><td>14.852</td><td>0.03</td><td>16</td><td>nan</td><td>nan</td><td>0</td><td>266.614028</td><td>-28.605808</td></tr>\n",
       "<tr><td>266.608224</td><td>-28.601396</td><td>VVV J174625.97-283605.02</td><td>-1</td><td>14.472</td><td>0.003</td><td>0</td><td>14.313</td><td>0.004</td><td>0</td><td>13.945</td><td>0.004</td><td>0</td><td>13.345</td><td>0.008</td><td>0</td><td>12.465</td><td>0.01</td><td>0</td><td>266.608224</td><td>-28.601396</td></tr>\n",
       "<tr><td>266.606161</td><td>-28.599634</td><td>VVV J174625.47-283558.68</td><td>-1</td><td>16.728</td><td>0.015</td><td>0</td><td>15.917</td><td>0.011</td><td>0</td><td>14.945</td><td>0.009</td><td>16</td><td>14.024</td><td>0.014</td><td>16</td><td>13.58</td><td>0.027</td><td>16</td><td>266.606161</td><td>-28.599634</td></tr>\n",
       "<tr><td>266.609194</td><td>-28.596255</td><td>VVV J174626.20-283546.51</td><td>-1</td><td>16.872</td><td>0.016</td><td>16</td><td>16.157</td><td>0.014</td><td>0</td><td>15.364</td><td>0.012</td><td>0</td><td>14.642</td><td>0.025</td><td>16</td><td>14.007</td><td>0.039</td><td>16</td><td>266.609194</td><td>-28.596255</td></tr>\n",
       "<tr><td>266.605681</td><td>-28.602197</td><td>VVV J174625.36-283607.90</td><td>1</td><td>19.784</td><td>0.203</td><td>0</td><td>18.874</td><td>0.149</td><td>0</td><td>18.1</td><td>0.14</td><td>0</td><td>nan</td><td>nan</td><td>0</td><td>nan</td><td>nan</td><td>0</td><td>266.605681</td><td>-28.602197</td></tr>\n",
       "<tr><td>266.606167</td><td>-28.602851</td><td>VVV J174625.48-283610.26</td><td>-2</td><td>18.164</td><td>0.048</td><td>0</td><td>17.741</td><td>0.054</td><td>0</td><td>16.986</td><td>0.051</td><td>16</td><td>16.273</td><td>0.112</td><td>16</td><td>nan</td><td>nan</td><td>0</td><td>266.606167</td><td>-28.602851</td></tr>\n",
       "<tr><td>266.606797</td><td>-28.601727</td><td>VVV J174625.63-283606.21</td><td>-2</td><td>19.734</td><td>0.194</td><td>0</td><td>17.994</td><td>0.067</td><td>0</td><td>16.466</td><td>0.032</td><td>0</td><td>15.061</td><td>0.037</td><td>0</td><td>14.123</td><td>0.044</td><td>0</td><td>266.606797</td><td>-28.601727</td></tr>\n",
       "<tr><td>266.614177</td><td>-28.597853</td><td>VVV J174627.40-283552.26</td><td>-1</td><td>16.828</td><td>0.016</td><td>16</td><td>16.352</td><td>0.016</td><td>16</td><td>15.686</td><td>0.016</td><td>16</td><td>15.014</td><td>0.035</td><td>16</td><td>nan</td><td>nan</td><td>0</td><td>266.614177</td><td>-28.597853</td></tr>\n",
       "<tr><td>266.608228</td><td>-28.599384</td><td>VVV J174625.97-283557.78</td><td>-1</td><td>18.618</td><td>0.071</td><td>0</td><td>18.102</td><td>0.074</td><td>0</td><td>17.681</td><td>0.096</td><td>0</td><td>nan</td><td>nan</td><td>0</td><td>nan</td><td>nan</td><td>0</td><td>266.608228</td><td>-28.599384</td></tr>\n",
       "<tr><td>266.611239</td><td>-28.598081</td><td>VVV J174626.69-283553.09</td><td>-1</td><td>17.081</td><td>0.019</td><td>0</td><td>16.495</td><td>0.018</td><td>0</td><td>15.629</td><td>0.015</td><td>16</td><td>14.377</td><td>0.02</td><td>16</td><td>13.366</td><td>0.022</td><td>16</td><td>266.611239</td><td>-28.598081</td></tr>\n",
       "<tr><td>266.604212</td><td>-28.602032</td><td>VVV J174625.01-283607.31</td><td>-2</td><td>nan</td><td>nan</td><td>0</td><td>19.172</td><td>0.195</td><td>0</td><td>18.691</td><td>0.241</td><td>0</td><td>nan</td><td>nan</td><td>0</td><td>nan</td><td>nan</td><td>0</td><td>266.604212</td><td>-28.602032</td></tr>\n",
       "<tr><td>266.609519</td><td>-28.598202</td><td>VVV J174626.28-283553.52</td><td>-1</td><td>nan</td><td>nan</td><td>0</td><td>19.452</td><td>0.251</td><td>0</td><td>17.539</td><td>0.084</td><td>0</td><td>nan</td><td>nan</td><td>0</td><td>nan</td><td>nan</td><td>0</td><td>266.609519</td><td>-28.598202</td></tr>\n",
       "<tr><td>266.608604</td><td>-28.605855</td><td>VVV J174626.06-283621.07</td><td>-1</td><td>nan</td><td>nan</td><td>0</td><td>17.519</td><td>0.044</td><td>0</td><td>13.73</td><td>0.003</td><td>16</td><td>11.13</td><td>0.001</td><td>65552</td><td>8.107</td><td>0.001</td><td>65552</td><td>266.608604</td><td>-28.605855</td></tr>\n",
       "<tr><td>266.612621</td><td>-28.595392</td><td>VVV J174627.02-283543.41</td><td>-1</td><td>nan</td><td>nan</td><td>0</td><td>18.197</td><td>0.08</td><td>0</td><td>14.79</td><td>0.008</td><td>0</td><td>11.468</td><td>0.002</td><td>65552</td><td>9.973</td><td>0.002</td><td>65552</td><td>266.612621</td><td>-28.595392</td></tr>\n",
       "<tr><td>266.61143</td><td>-28.604855</td><td>VVV J174626.74-283617.47</td><td>-1</td><td>nan</td><td>nan</td><td>0</td><td>nan</td><td>nan</td><td>0</td><td>17.503</td><td>0.081</td><td>0</td><td>14.744</td><td>0.028</td><td>16</td><td>13.345</td><td>0.022</td><td>16</td><td>266.61143</td><td>-28.604855</td></tr>\n",
       "<tr><td>266.612291</td><td>-28.604951</td><td>VVV J174626.94-283617.82</td><td>-1</td><td>nan</td><td>nan</td><td>0</td><td>nan</td><td>nan</td><td>0</td><td>18.098</td><td>0.14</td><td>0</td><td>15.005</td><td>0.035</td><td>16</td><td>13.415</td><td>0.023</td><td>16</td><td>266.612291</td><td>-28.604951</td></tr>\n",
       "<tr><td>...</td><td>...</td><td>...</td><td>...</td><td>...</td><td>...</td><td>...</td><td>...</td><td>...</td><td>...</td><td>...</td><td>...</td><td>...</td><td>...</td><td>...</td><td>...</td><td>...</td><td>...</td><td>...</td><td>...</td><td>...</td></tr>\n",
       "<tr><td>266.593954</td><td>-28.521056</td><td>VVV J174622.54-283115.80</td><td>-1</td><td>19.541</td><td>0.161</td><td>0</td><td>18.476</td><td>0.107</td><td>0</td><td>17.066</td><td>0.054</td><td>16</td><td>16.216</td><td>0.105</td><td>16</td><td>nan</td><td>nan</td><td>0</td><td>266.593954</td><td>-28.521056</td></tr>\n",
       "<tr><td>266.594571</td><td>-28.521793</td><td>VVV J174622.69-283118.45</td><td>-1</td><td>19.42</td><td>0.144</td><td>0</td><td>17.862</td><td>0.062</td><td>0</td><td>16.378</td><td>0.029</td><td>16</td><td>15.128</td><td>0.039</td><td>16</td><td>14.228</td><td>0.049</td><td>16</td><td>266.594571</td><td>-28.521793</td></tr>\n",
       "<tr><td>266.592453</td><td>-28.520984</td><td>VVV J174622.18-283115.54</td><td>-1</td><td>nan</td><td>nan</td><td>0</td><td>16.821</td><td>0.025</td><td>0</td><td>13.711</td><td>0.003</td><td>16</td><td>11.204</td><td>0.001</td><td>65552</td><td>10.118</td><td>0.001</td><td>65552</td><td>266.592453</td><td>-28.520984</td></tr>\n",
       "<tr><td>266.595912</td><td>-28.520939</td><td>VVV J174623.01-283115.37</td><td>1</td><td>nan</td><td>nan</td><td>0</td><td>18.899</td><td>0.157</td><td>0</td><td>16.818</td><td>0.043</td><td>16</td><td>nan</td><td>nan</td><td>0</td><td>nan</td><td>nan</td><td>0</td><td>266.595912</td><td>-28.520939</td></tr>\n",
       "<tr><td>266.595849</td><td>-28.520085</td><td>VVV J174623.00-283112.30</td><td>1</td><td>nan</td><td>nan</td><td>0</td><td>nan</td><td>nan</td><td>0</td><td>18.317</td><td>0.168</td><td>16</td><td>nan</td><td>nan</td><td>0</td><td>nan</td><td>nan</td><td>0</td><td>266.595849</td><td>-28.520085</td></tr>\n",
       "<tr><td>266.593137</td><td>-28.522741</td><td>VVV J174622.35-283121.86</td><td>1</td><td>nan</td><td>nan</td><td>0</td><td>nan</td><td>nan</td><td>0</td><td>16.807</td><td>0.043</td><td>16</td><td>14.344</td><td>0.019</td><td>16</td><td>12.827</td><td>0.014</td><td>16</td><td>266.593137</td><td>-28.522741</td></tr>\n",
       "<tr><td>266.589841</td><td>-28.520251</td><td>VVV J174621.56-283112.90</td><td>-1</td><td>nan</td><td>nan</td><td>0</td><td>nan</td><td>nan</td><td>0</td><td>18.791</td><td>0.261</td><td>0</td><td>15.189</td><td>0.041</td><td>16</td><td>13.593</td><td>0.027</td><td>16</td><td>266.589841</td><td>-28.520251</td></tr>\n",
       "<tr><td>266.595342</td><td>-28.520513</td><td>VVV J174622.88-283113.84</td><td>-1</td><td>nan</td><td>nan</td><td>0</td><td>nan</td><td>nan</td><td>0</td><td>17.2</td><td>0.061</td><td>16</td><td>14.584</td><td>0.024</td><td>16</td><td>nan</td><td>nan</td><td>0</td><td>266.595342</td><td>-28.520513</td></tr>\n",
       "<tr><td>266.593437</td><td>-28.520009</td><td>VVV J174622.42-283112.03</td><td>1</td><td>nan</td><td>nan</td><td>0</td><td>nan</td><td>nan</td><td>0</td><td>18.415</td><td>0.185</td><td>0</td><td>15.449</td><td>0.052</td><td>16</td><td>13.96</td><td>0.038</td><td>16</td><td>266.593437</td><td>-28.520009</td></tr>\n",
       "<tr><td>266.595303</td><td>-28.521214</td><td>VVV J174622.87-283116.37</td><td>-1</td><td>nan</td><td>nan</td><td>0</td><td>nan</td><td>nan</td><td>0</td><td>15.612</td><td>0.015</td><td>16</td><td>12.272</td><td>0.003</td><td>16</td><td>9.988</td><td>0.002</td><td>65552</td><td>266.595303</td><td>-28.521214</td></tr>\n",
       "<tr><td>266.592055</td><td>-28.520043</td><td>VVV J174622.09-283112.15</td><td>-2</td><td>nan</td><td>nan</td><td>0</td><td>nan</td><td>nan</td><td>0</td><td>17.671</td><td>0.094</td><td>16</td><td>15.067</td><td>0.037</td><td>16</td><td>13.633</td><td>0.028</td><td>16</td><td>266.592055</td><td>-28.520043</td></tr>\n",
       "<tr><td>266.593932</td><td>-28.521522</td><td>VVV J174622.54-283117.48</td><td>1</td><td>nan</td><td>nan</td><td>0</td><td>nan</td><td>nan</td><td>0</td><td>17.076</td><td>0.055</td><td>16</td><td>14.546</td><td>0.023</td><td>16</td><td>13.253</td><td>0.02</td><td>16</td><td>266.593932</td><td>-28.521522</td></tr>\n",
       "<tr><td>266.595958</td><td>-28.520048</td><td>VVV J174623.02-283112.17</td><td>1</td><td>nan</td><td>nan</td><td>0</td><td>nan</td><td>nan</td><td>0</td><td>17.047</td><td>0.053</td><td>16</td><td>14.171</td><td>0.016</td><td>16</td><td>12.826</td><td>0.014</td><td>16</td><td>266.595958</td><td>-28.520048</td></tr>\n",
       "<tr><td>266.593254</td><td>-28.521426</td><td>VVV J174622.38-283117.13</td><td>-2</td><td>nan</td><td>nan</td><td>0</td><td>nan</td><td>nan</td><td>0</td><td>nan</td><td>nan</td><td>0</td><td>15.322</td><td>0.046</td><td>16</td><td>14.198</td><td>0.048</td><td>16</td><td>266.593254</td><td>-28.521426</td></tr>\n",
       "<tr><td>266.595796</td><td>-28.522784</td><td>VVV J174622.99-283122.02</td><td>-1</td><td>nan</td><td>nan</td><td>0</td><td>nan</td><td>nan</td><td>0</td><td>nan</td><td>nan</td><td>0</td><td>16.404</td><td>0.125</td><td>0</td><td>15.042</td><td>0.103</td><td>16</td><td>266.595796</td><td>-28.522784</td></tr>\n",
       "<tr><td>266.597432</td><td>-28.520321</td><td>VVV J174623.38-283113.15</td><td>-2</td><td>nan</td><td>nan</td><td>0</td><td>nan</td><td>nan</td><td>0</td><td>nan</td><td>nan</td><td>0</td><td>13.648</td><td>0.01</td><td>16</td><td>12.523</td><td>0.01</td><td>16</td><td>266.597432</td><td>-28.520321</td></tr>\n",
       "<tr><td>266.593623</td><td>-28.523496</td><td>VVV J174622.46-283124.58</td><td>-3</td><td>nan</td><td>nan</td><td>0</td><td>nan</td><td>nan</td><td>0</td><td>nan</td><td>nan</td><td>0</td><td>14.989</td><td>0.034</td><td>16</td><td>13.43</td><td>0.024</td><td>16</td><td>266.593623</td><td>-28.523496</td></tr>\n",
       "<tr><td>266.598003</td><td>-28.520625</td><td>VVV J174623.52-283114.24</td><td>-3</td><td>nan</td><td>nan</td><td>0</td><td>nan</td><td>nan</td><td>0</td><td>nan</td><td>nan</td><td>0</td><td>16.016</td><td>0.088</td><td>16</td><td>nan</td><td>nan</td><td>0</td><td>266.598003</td><td>-28.520625</td></tr>\n",
       "<tr><td>266.593597</td><td>-28.522093</td><td>VVV J174622.46-283119.53</td><td>1</td><td>nan</td><td>nan</td><td>0</td><td>nan</td><td>nan</td><td>0</td><td>nan</td><td>nan</td><td>0</td><td>15.763</td><td>0.07</td><td>16</td><td>14.319</td><td>0.053</td><td>16</td><td>266.593597</td><td>-28.522093</td></tr>\n",
       "<tr><td>266.598487</td><td>-28.520101</td><td>VVV J174623.63-283112.36</td><td>1</td><td>nan</td><td>nan</td><td>0</td><td>nan</td><td>nan</td><td>0</td><td>nan</td><td>nan</td><td>0</td><td>15.366</td><td>0.048</td><td>16</td><td>13.919</td><td>0.037</td><td>16</td><td>266.598487</td><td>-28.520101</td></tr>\n",
       "<tr><td>266.596129</td><td>-28.522613</td><td>VVV J174623.07-283121.40</td><td>-1</td><td>nan</td><td>nan</td><td>0</td><td>nan</td><td>nan</td><td>0</td><td>nan</td><td>nan</td><td>0</td><td>nan</td><td>nan</td><td>0</td><td>15.46</td><td>0.152</td><td>16</td><td>266.596129</td><td>-28.522613</td></tr>\n",
       "<tr><td>266.59499</td><td>-28.520139</td><td>VVV J174622.79-283112.49</td><td>1</td><td>nan</td><td>nan</td><td>0</td><td>nan</td><td>nan</td><td>0</td><td>17.2</td><td>0.061</td><td>16</td><td>14.584</td><td>0.024</td><td>16</td><td>nan</td><td>nan</td><td>0</td><td>266.59499</td><td>-28.520139</td></tr>\n",
       "<tr><td>266.592745</td><td>-28.520205</td><td>VVV J174622.25-283112.73</td><td>-1</td><td>nan</td><td>nan</td><td>0</td><td>nan</td><td>nan</td><td>0</td><td>nan</td><td>nan</td><td>0</td><td>nan</td><td>nan</td><td>0</td><td>14.23</td><td>0.049</td><td>16</td><td>266.592745</td><td>-28.520205</td></tr>\n",
       "<tr><td>266.593806</td><td>-28.520737</td><td>VVV J174622.51-283114.65</td><td>-2</td><td>19.541</td><td>0.161</td><td>0</td><td>18.476</td><td>0.107</td><td>0</td><td>17.066</td><td>0.054</td><td>16</td><td>16.216</td><td>0.105</td><td>16</td><td>nan</td><td>nan</td><td>0</td><td>266.593806</td><td>-28.520737</td></tr>\n",
       "</table></div>"
      ],
      "text/plain": [
       "<Table length=3437>\n",
       " RAJ2000    DEJ2000           iauname          mClass  Zmag3  e_Zmag3 Zperrbits  Ymag3  e_Ymag3 Yperrbits ... e_Jmag3 Jperrbits  Hmag3  e_Hmag3 Hperrbits  Ksmag3 e_Ksmag3 Ksperrbits     RA        DEC    \n",
       " float64    float64            str24           int16  float32 float64   int32   float64 float64   int32   ... float64   int32   float64 float64   int32   float64 float64    int32     float64    float64  \n",
       "---------- ---------- ------------------------ ------ ------- ------- --------- ------- ------- --------- ... ------- --------- ------- ------- --------- ------- -------- ---------- ---------- ----------\n",
       "266.602823  -28.60222 VVV J174624.67-283607.99     -1  18.806   0.084         0  17.736   0.053         0 ...   0.034        16     nan     nan         0     nan      nan          0 266.602823  -28.60222\n",
       "266.606742 -28.598289 VVV J174625.61-283553.84     -1  16.278   0.011         0  15.811   0.011         0 ...   0.011        16  14.721   0.027        16  14.421    0.058         16 266.606742 -28.598289\n",
       "266.613329 -28.597491 VVV J174627.19-283550.96     -1  17.865   0.037        16  17.298   0.036        16 ...   0.039        16  16.261   0.111        16     nan      nan          0 266.613329 -28.597491\n",
       "266.611708 -28.596065 VVV J174626.81-283545.83      1  19.567   0.167         0  19.022    0.17         0 ...   0.126         0  15.987   0.086        16  14.496    0.062         16 266.611708 -28.596065\n",
       "266.603496  -28.60398 VVV J174624.83-283614.32     -1  16.636   0.014         0  16.304   0.016         0 ...   0.018         0  14.848    0.03        16  13.669    0.029         16 266.603496  -28.60398\n",
       "266.610196 -28.601597 VVV J174626.44-283605.75     -1  18.836   0.087         0  18.411   0.097         0 ...   0.099         0  17.499   0.345         0     nan      nan          0 266.610196 -28.601597\n",
       "266.613424 -28.595982 VVV J174627.22-283545.53      1  19.395   0.143         0  18.878   0.149         0 ...   0.103        16     nan     nan         0     nan      nan          0 266.613424 -28.595982\n",
       "266.603983  -28.60527 VVV J174624.95-283618.97      1     nan     nan         0     nan     nan         0 ...   0.018         0    13.3   0.008        16  11.588    0.004         16 266.603983  -28.60527\n",
       "266.614028 -28.605808 VVV J174627.36-283620.90     -1  18.678   0.075         0  17.789   0.056         0 ...   0.033        16  14.852    0.03        16     nan      nan          0 266.614028 -28.605808\n",
       "266.608224 -28.601396 VVV J174625.97-283605.02     -1  14.472   0.003         0  14.313   0.004         0 ...   0.004         0  13.345   0.008         0  12.465     0.01          0 266.608224 -28.601396\n",
       "266.606161 -28.599634 VVV J174625.47-283558.68     -1  16.728   0.015         0  15.917   0.011         0 ...   0.009        16  14.024   0.014        16   13.58    0.027         16 266.606161 -28.599634\n",
       "266.609194 -28.596255 VVV J174626.20-283546.51     -1  16.872   0.016        16  16.157   0.014         0 ...   0.012         0  14.642   0.025        16  14.007    0.039         16 266.609194 -28.596255\n",
       "266.605681 -28.602197 VVV J174625.36-283607.90      1  19.784   0.203         0  18.874   0.149         0 ...    0.14         0     nan     nan         0     nan      nan          0 266.605681 -28.602197\n",
       "266.606167 -28.602851 VVV J174625.48-283610.26     -2  18.164   0.048         0  17.741   0.054         0 ...   0.051        16  16.273   0.112        16     nan      nan          0 266.606167 -28.602851\n",
       "266.606797 -28.601727 VVV J174625.63-283606.21     -2  19.734   0.194         0  17.994   0.067         0 ...   0.032         0  15.061   0.037         0  14.123    0.044          0 266.606797 -28.601727\n",
       "266.614177 -28.597853 VVV J174627.40-283552.26     -1  16.828   0.016        16  16.352   0.016        16 ...   0.016        16  15.014   0.035        16     nan      nan          0 266.614177 -28.597853\n",
       "266.608228 -28.599384 VVV J174625.97-283557.78     -1  18.618   0.071         0  18.102   0.074         0 ...   0.096         0     nan     nan         0     nan      nan          0 266.608228 -28.599384\n",
       "266.611239 -28.598081 VVV J174626.69-283553.09     -1  17.081   0.019         0  16.495   0.018         0 ...   0.015        16  14.377    0.02        16  13.366    0.022         16 266.611239 -28.598081\n",
       "266.604212 -28.602032 VVV J174625.01-283607.31     -2     nan     nan         0  19.172   0.195         0 ...   0.241         0     nan     nan         0     nan      nan          0 266.604212 -28.602032\n",
       "266.609519 -28.598202 VVV J174626.28-283553.52     -1     nan     nan         0  19.452   0.251         0 ...   0.084         0     nan     nan         0     nan      nan          0 266.609519 -28.598202\n",
       "266.608604 -28.605855 VVV J174626.06-283621.07     -1     nan     nan         0  17.519   0.044         0 ...   0.003        16   11.13   0.001     65552   8.107    0.001      65552 266.608604 -28.605855\n",
       "266.612621 -28.595392 VVV J174627.02-283543.41     -1     nan     nan         0  18.197    0.08         0 ...   0.008         0  11.468   0.002     65552   9.973    0.002      65552 266.612621 -28.595392\n",
       " 266.61143 -28.604855 VVV J174626.74-283617.47     -1     nan     nan         0     nan     nan         0 ...   0.081         0  14.744   0.028        16  13.345    0.022         16  266.61143 -28.604855\n",
       "266.612291 -28.604951 VVV J174626.94-283617.82     -1     nan     nan         0     nan     nan         0 ...    0.14         0  15.005   0.035        16  13.415    0.023         16 266.612291 -28.604951\n",
       "       ...        ...                      ...    ...     ...     ...       ...     ...     ...       ... ...     ...       ...     ...     ...       ...     ...      ...        ...        ...        ...\n",
       "266.593954 -28.521056 VVV J174622.54-283115.80     -1  19.541   0.161         0  18.476   0.107         0 ...   0.054        16  16.216   0.105        16     nan      nan          0 266.593954 -28.521056\n",
       "266.594571 -28.521793 VVV J174622.69-283118.45     -1   19.42   0.144         0  17.862   0.062         0 ...   0.029        16  15.128   0.039        16  14.228    0.049         16 266.594571 -28.521793\n",
       "266.592453 -28.520984 VVV J174622.18-283115.54     -1     nan     nan         0  16.821   0.025         0 ...   0.003        16  11.204   0.001     65552  10.118    0.001      65552 266.592453 -28.520984\n",
       "266.595912 -28.520939 VVV J174623.01-283115.37      1     nan     nan         0  18.899   0.157         0 ...   0.043        16     nan     nan         0     nan      nan          0 266.595912 -28.520939\n",
       "266.595849 -28.520085 VVV J174623.00-283112.30      1     nan     nan         0     nan     nan         0 ...   0.168        16     nan     nan         0     nan      nan          0 266.595849 -28.520085\n",
       "266.593137 -28.522741 VVV J174622.35-283121.86      1     nan     nan         0     nan     nan         0 ...   0.043        16  14.344   0.019        16  12.827    0.014         16 266.593137 -28.522741\n",
       "266.589841 -28.520251 VVV J174621.56-283112.90     -1     nan     nan         0     nan     nan         0 ...   0.261         0  15.189   0.041        16  13.593    0.027         16 266.589841 -28.520251\n",
       "266.595342 -28.520513 VVV J174622.88-283113.84     -1     nan     nan         0     nan     nan         0 ...   0.061        16  14.584   0.024        16     nan      nan          0 266.595342 -28.520513\n",
       "266.593437 -28.520009 VVV J174622.42-283112.03      1     nan     nan         0     nan     nan         0 ...   0.185         0  15.449   0.052        16   13.96    0.038         16 266.593437 -28.520009\n",
       "266.595303 -28.521214 VVV J174622.87-283116.37     -1     nan     nan         0     nan     nan         0 ...   0.015        16  12.272   0.003        16   9.988    0.002      65552 266.595303 -28.521214\n",
       "266.592055 -28.520043 VVV J174622.09-283112.15     -2     nan     nan         0     nan     nan         0 ...   0.094        16  15.067   0.037        16  13.633    0.028         16 266.592055 -28.520043\n",
       "266.593932 -28.521522 VVV J174622.54-283117.48      1     nan     nan         0     nan     nan         0 ...   0.055        16  14.546   0.023        16  13.253     0.02         16 266.593932 -28.521522\n",
       "266.595958 -28.520048 VVV J174623.02-283112.17      1     nan     nan         0     nan     nan         0 ...   0.053        16  14.171   0.016        16  12.826    0.014         16 266.595958 -28.520048\n",
       "266.593254 -28.521426 VVV J174622.38-283117.13     -2     nan     nan         0     nan     nan         0 ...     nan         0  15.322   0.046        16  14.198    0.048         16 266.593254 -28.521426\n",
       "266.595796 -28.522784 VVV J174622.99-283122.02     -1     nan     nan         0     nan     nan         0 ...     nan         0  16.404   0.125         0  15.042    0.103         16 266.595796 -28.522784\n",
       "266.597432 -28.520321 VVV J174623.38-283113.15     -2     nan     nan         0     nan     nan         0 ...     nan         0  13.648    0.01        16  12.523     0.01         16 266.597432 -28.520321\n",
       "266.593623 -28.523496 VVV J174622.46-283124.58     -3     nan     nan         0     nan     nan         0 ...     nan         0  14.989   0.034        16   13.43    0.024         16 266.593623 -28.523496\n",
       "266.598003 -28.520625 VVV J174623.52-283114.24     -3     nan     nan         0     nan     nan         0 ...     nan         0  16.016   0.088        16     nan      nan          0 266.598003 -28.520625\n",
       "266.593597 -28.522093 VVV J174622.46-283119.53      1     nan     nan         0     nan     nan         0 ...     nan         0  15.763    0.07        16  14.319    0.053         16 266.593597 -28.522093\n",
       "266.598487 -28.520101 VVV J174623.63-283112.36      1     nan     nan         0     nan     nan         0 ...     nan         0  15.366   0.048        16  13.919    0.037         16 266.598487 -28.520101\n",
       "266.596129 -28.522613 VVV J174623.07-283121.40     -1     nan     nan         0     nan     nan         0 ...     nan         0     nan     nan         0   15.46    0.152         16 266.596129 -28.522613\n",
       " 266.59499 -28.520139 VVV J174622.79-283112.49      1     nan     nan         0     nan     nan         0 ...   0.061        16  14.584   0.024        16     nan      nan          0  266.59499 -28.520139\n",
       "266.592745 -28.520205 VVV J174622.25-283112.73     -1     nan     nan         0     nan     nan         0 ...     nan         0     nan     nan         0   14.23    0.049         16 266.592745 -28.520205\n",
       "266.593806 -28.520737 VVV J174622.51-283114.65     -2  19.541   0.161         0  18.476   0.107         0 ...   0.054        16  16.216   0.105        16     nan      nan          0 266.593806 -28.520737"
      ]
     },
     "execution_count": 13,
     "metadata": {},
     "output_type": "execute_result"
    }
   ],
   "source": [
    "Table(vvvcat[1].data)"
   ]
  },
  {
   "cell_type": "code",
   "execution_count": null,
   "id": "fe4b232a-acb2-4930-9b11-6a9ae233db30",
   "metadata": {},
   "outputs": [],
   "source": []
  },
  {
   "cell_type": "code",
   "execution_count": null,
   "id": "338dc706-ffc7-4d36-b444-746a6372b9af",
   "metadata": {},
   "outputs": [],
   "source": []
  },
  {
   "cell_type": "code",
   "execution_count": 2,
   "id": "3dc1b327-feaf-4dc2-bb0a-422ad2d0fe7c",
   "metadata": {},
   "outputs": [
    {
     "name": "stderr",
     "output_type": "stream",
     "text": [
      "2023-05-31 11:53:55,827 - stpipe - INFO - Processing filter F466N module merged\n"
     ]
    },
    {
     "name": "stdout",
     "output_type": "stream",
     "text": [
      "INFO: Processing filter F466N module merged [unknown]\n",
      "2023-05-31T11:53:55.829992: Output directory set as: /orange/adamginsburg/jwst/cloudc/F466N/pipeline/\n"
     ]
    }
   ],
   "source": [
    "#def main(filtername, module, Observations=None, regionname='brick', field='001'):\n",
    "log.info(f\"Processing filter {filtername} module {module}\")\n",
    "# sanity check\n",
    "if regionname == 'brick':\n",
    "    assert field == '001'\n",
    "elif regionname == 'cloudc':\n",
    "    assert field == '002'\n",
    "basepath = f'/orange/adamginsburg/jwst/{regionname}/'\n",
    "os.environ[\"CRDS_PATH\"] = f\"{basepath}/crds/\"\n",
    "os.environ[\"CRDS_SERVER_URL\"] = \"https://jwst-crds.stsci.edu\"\n",
    "mpl.rcParams['savefig.dpi'] = 80\n",
    "mpl.rcParams['figure.dpi'] = 80\n",
    "# Files created in this notebook will be saved\n",
    "# in a subdirectory of the base directory called `Stage3`\n",
    "output_dir = f'/orange/adamginsburg/jwst/{regionname}/{filtername}/pipeline/'\n",
    "print('Output directory set as:', output_dir)\n",
    "if not os.path.exists(output_dir):\n",
    "    os.mkdir(output_dir)\n",
    "os.chdir(output_dir)\n",
    "# the files are one directory up\n",
    "for fn in glob(\"../*cal.fits\"):\n",
    "    try:\n",
    "        os.link(fn, './'+os.path.basename(fn))\n",
    "    except Exception as ex:\n",
    "        print(f'Failed to link {fn} to {os.path.basename(fn)} because of {ex}')\n"
   ]
  },
  {
   "cell_type": "code",
   "execution_count": 3,
   "id": "64e2f9af-c0ac-4791-93fe-abc4a4641f53",
   "metadata": {},
   "outputs": [
    {
     "name": "stdout",
     "output_type": "stream",
     "text": [
      "2023-05-31T11:54:18.309766: Obs table length: 15\n",
      "2023-05-31T11:54:21.907023: data prodcts by obs length:  29612\n",
      "2023-05-31T11:54:22.384921: products_asn length: 34\n",
      "2023-05-31T11:54:22.385046: asn_mast_data:   obsID   obs_collection dataproduct_type                obs_id                ...  size parent_obsid    dataRights    calib_level\n",
      "--------- -------------- ---------------- ------------------------------------ ... ----- ------------ ---------------- -----------\n",
      " 90220722           JWST            image jw02221-o001_t001_nircam_f444w-f466n ... 14244     90220722 EXCLUSIVE_ACCESS           3\n",
      "127345709           JWST            image jw02221-o002_t001_nircam_f444w-f466n ... 10148    127345709 EXCLUSIVE_ACCESS           3\n",
      "127235693           JWST            image   jw02221002001_04201_00001_nrcalong ...  1795    127345709 EXCLUSIVE_ACCESS           2\n",
      "127235308           JWST            image   jw02221002001_04201_00001_nrcblong ...  1795    127345709 EXCLUSIVE_ACCESS           2\n",
      "127235639           JWST            image   jw02221002001_04201_00002_nrcalong ...  1795    127345709 EXCLUSIVE_ACCESS           2\n",
      "127235413           JWST            image   jw02221002001_04201_00002_nrcblong ...  1795    127345709 EXCLUSIVE_ACCESS           2\n",
      "127235418           JWST            image   jw02221002001_04201_00003_nrcalong ...  1795    127345709 EXCLUSIVE_ACCESS           2\n",
      "127235258           JWST            image   jw02221002001_04201_00003_nrcblong ...  1795    127345709 EXCLUSIVE_ACCESS           2\n",
      "127235478           JWST            image   jw02221002001_04201_00004_nrcalong ...  1795    127345709 EXCLUSIVE_ACCESS           2\n",
      "127235496           JWST            image   jw02221002001_04201_00004_nrcblong ...  1795    127345709 EXCLUSIVE_ACCESS           2\n",
      "127235667           JWST            image   jw02221002001_10201_00001_nrcalong ...  1795    127345709 EXCLUSIVE_ACCESS           2\n",
      "127235666           JWST            image   jw02221002001_10201_00001_nrcblong ...  1795    127345709 EXCLUSIVE_ACCESS           2\n",
      "127235406           JWST            image   jw02221002001_10201_00002_nrcalong ...  1795    127345709 EXCLUSIVE_ACCESS           2\n",
      "127235304           JWST            image   jw02221002001_10201_00002_nrcblong ...  1795    127345709 EXCLUSIVE_ACCESS           2\n",
      "127235516           JWST            image   jw02221002001_10201_00003_nrcalong ...  1795    127345709 EXCLUSIVE_ACCESS           2\n",
      "127235655           JWST            image   jw02221002001_10201_00003_nrcblong ...  1795    127345709 EXCLUSIVE_ACCESS           2\n",
      "127235531           JWST            image   jw02221002001_10201_00004_nrcalong ...  1795    127345709 EXCLUSIVE_ACCESS           2\n",
      "127235681           JWST            image   jw02221002001_10201_00004_nrcblong ...  1795    127345709 EXCLUSIVE_ACCESS           2\n",
      "129263178           JWST            image   jw02221002002_04201_00001_nrcalong ...  1795    127345709 EXCLUSIVE_ACCESS           2\n",
      "129262773           JWST            image   jw02221002002_04201_00001_nrcblong ...  1795    127345709 EXCLUSIVE_ACCESS           2\n",
      "129262969           JWST            image   jw02221002002_04201_00002_nrcalong ...  1795    127345709 EXCLUSIVE_ACCESS           2\n",
      "129262762           JWST            image   jw02221002002_04201_00002_nrcblong ...  1795    127345709 EXCLUSIVE_ACCESS           2\n",
      "129260941           JWST            image   jw02221002002_04201_00003_nrcalong ...  1795    127345709 EXCLUSIVE_ACCESS           2\n",
      "129261055           JWST            image   jw02221002002_04201_00003_nrcblong ...  1795    127345709 EXCLUSIVE_ACCESS           2\n",
      "129272038           JWST            image   jw02221002002_04201_00004_nrcalong ...  1795    127345709 EXCLUSIVE_ACCESS           2\n",
      "129272090           JWST            image   jw02221002002_04201_00004_nrcblong ...  1795    127345709 EXCLUSIVE_ACCESS           2\n",
      "129269532           JWST            image   jw02221002002_10201_00001_nrcalong ...  1795    127345709 EXCLUSIVE_ACCESS           2\n",
      "129272112           JWST            image   jw02221002002_10201_00001_nrcblong ...  1795    127345709 EXCLUSIVE_ACCESS           2\n",
      "129271991           JWST            image   jw02221002002_10201_00002_nrcalong ...  1795    127345709 EXCLUSIVE_ACCESS           2\n",
      "129272121           JWST            image   jw02221002002_10201_00002_nrcblong ...  1795    127345709 EXCLUSIVE_ACCESS           2\n",
      "129272032           JWST            image   jw02221002002_10201_00003_nrcalong ...  1795    127345709 EXCLUSIVE_ACCESS           2\n",
      "129272000           JWST            image   jw02221002002_10201_00003_nrcblong ...  1795    127345709 EXCLUSIVE_ACCESS           2\n",
      "129272036           JWST            image   jw02221002002_10201_00004_nrcalong ...  1795    127345709 EXCLUSIVE_ACCESS           2\n",
      "129272111           JWST            image   jw02221002002_10201_00004_nrcblong ...  1795    127345709 EXCLUSIVE_ACCESS           2\n",
      "Downloading URL https://mast.stsci.edu/api/v0.1/Download/file?uri=mast:JWST/product/jw02221-o001_20230410t190607_image3_00003_asn.json to /orange/adamginsburg/jwst/cloudc/F466N/pipeline/mastDownload/JWST/jw02221-o001_t001_nircam_f444w-f466n/jw02221-o001_20230410t190607_image3_00003_asn.json ... [Done]\n",
      "Downloading URL https://mast.stsci.edu/api/v0.1/Download/file?uri=mast:JWST/product/jw02221-o002_20230410t190607_image2_00004_asn.json to /orange/adamginsburg/jwst/cloudc/F466N/pipeline/mastDownload/JWST/jw02221002001_04201_00001_nrcalong/jw02221-o002_20230410t190607_image2_00004_asn.json ... [Done]\n",
      "Downloading URL https://mast.stsci.edu/api/v0.1/Download/file?uri=mast:JWST/product/jw02221-o002_20230410t190607_image2_00016_asn.json to /orange/adamginsburg/jwst/cloudc/F466N/pipeline/mastDownload/JWST/jw02221002001_04201_00002_nrcalong/jw02221-o002_20230410t190607_image2_00016_asn.json ... [Done]\n",
      "Downloading URL https://mast.stsci.edu/api/v0.1/Download/file?uri=mast:JWST/product/jw02221-o002_20230410t190607_image2_00024_asn.json to /orange/adamginsburg/jwst/cloudc/F466N/pipeline/mastDownload/JWST/jw02221002001_04201_00003_nrcalong/jw02221-o002_20230410t190607_image2_00024_asn.json ... [Done]\n",
      "Downloading URL https://mast.stsci.edu/api/v0.1/Download/file?uri=mast:JWST/product/jw02221-o002_20230410t190607_image2_00088_asn.json to /orange/adamginsburg/jwst/cloudc/F466N/pipeline/mastDownload/JWST/jw02221002001_04201_00003_nrcblong/jw02221-o002_20230410t190607_image2_00088_asn.json ... [Done]\n",
      "Downloading URL https://mast.stsci.edu/api/v0.1/Download/file?uri=mast:JWST/product/jw02221-o002_20230410t190607_image2_00092_asn.json to /orange/adamginsburg/jwst/cloudc/F466N/pipeline/mastDownload/JWST/jw02221002001_04201_00004_nrcblong/jw02221-o002_20230410t190607_image2_00092_asn.json ... [Done]\n",
      "Downloading URL https://mast.stsci.edu/api/v0.1/Download/file?uri=mast:JWST/product/jw02221-o002_20230410t190607_image2_00099_asn.json to /orange/adamginsburg/jwst/cloudc/F466N/pipeline/mastDownload/JWST/jw02221002001_10201_00002_nrcalong/jw02221-o002_20230410t190607_image2_00099_asn.json ... [Done]\n",
      "Downloading URL https://mast.stsci.edu/api/v0.1/Download/file?uri=mast:JWST/product/jw02221-o002_20230410t190607_image2_00105_asn.json to /orange/adamginsburg/jwst/cloudc/F466N/pipeline/mastDownload/JWST/jw02221002001_10201_00003_nrcalong/jw02221-o002_20230410t190607_image2_00105_asn.json ... [Done]\n",
      "Downloading URL https://mast.stsci.edu/api/v0.1/Download/file?uri=mast:JWST/product/jw02221-o002_20230410t190607_image2_00113_asn.json to /orange/adamginsburg/jwst/cloudc/F466N/pipeline/mastDownload/JWST/jw02221002001_04201_00002_nrcblong/jw02221-o002_20230410t190607_image2_00113_asn.json ... [Done]\n",
      "Downloading URL https://mast.stsci.edu/api/v0.1/Download/file?uri=mast:JWST/product/jw02221-o002_20230410t190607_image2_00123_asn.json to /orange/adamginsburg/jwst/cloudc/F466N/pipeline/mastDownload/JWST/jw02221002001_04201_00001_nrcblong/jw02221-o002_20230410t190607_image2_00123_asn.json ... [Done]\n",
      "Downloading URL https://mast.stsci.edu/api/v0.1/Download/file?uri=mast:JWST/product/jw02221-o002_20230410t190607_image2_00143_asn.json to /orange/adamginsburg/jwst/cloudc/F466N/pipeline/mastDownload/JWST/jw02221002001_10201_00001_nrcalong/jw02221-o002_20230410t190607_image2_00143_asn.json ... [Done]\n",
      "Downloading URL https://mast.stsci.edu/api/v0.1/Download/file?uri=mast:JWST/product/jw02221-o002_20230410t190607_image2_00152_asn.json to /orange/adamginsburg/jwst/cloudc/F466N/pipeline/mastDownload/JWST/jw02221002001_10201_00001_nrcblong/jw02221-o002_20230410t190607_image2_00152_asn.json ... [Done]\n",
      "Downloading URL https://mast.stsci.edu/api/v0.1/Download/file?uri=mast:JWST/product/jw02221-o002_20230410t190607_image2_00154_asn.json to /orange/adamginsburg/jwst/cloudc/F466N/pipeline/mastDownload/JWST/jw02221002001_10201_00003_nrcblong/jw02221-o002_20230410t190607_image2_00154_asn.json ... [Done]\n",
      "Downloading URL https://mast.stsci.edu/api/v0.1/Download/file?uri=mast:JWST/product/jw02221-o002_20230410t190607_image2_00172_asn.json to /orange/adamginsburg/jwst/cloudc/F466N/pipeline/mastDownload/JWST/jw02221002001_04201_00004_nrcalong/jw02221-o002_20230410t190607_image2_00172_asn.json ... [Done]\n",
      "Downloading URL https://mast.stsci.edu/api/v0.1/Download/file?uri=mast:JWST/product/jw02221-o002_20230410t190607_image2_00173_asn.json to /orange/adamginsburg/jwst/cloudc/F466N/pipeline/mastDownload/JWST/jw02221002001_10201_00002_nrcblong/jw02221-o002_20230410t190607_image2_00173_asn.json ... [Done]\n",
      "Downloading URL https://mast.stsci.edu/api/v0.1/Download/file?uri=mast:JWST/product/jw02221-o002_20230410t190607_image2_00253_asn.json to /orange/adamginsburg/jwst/cloudc/F466N/pipeline/mastDownload/JWST/jw02221002001_10201_00004_nrcblong/jw02221-o002_20230410t190607_image2_00253_asn.json ... [Done]\n",
      "Downloading URL https://mast.stsci.edu/api/v0.1/Download/file?uri=mast:JWST/product/jw02221-o002_20230410t190607_image2_00257_asn.json to /orange/adamginsburg/jwst/cloudc/F466N/pipeline/mastDownload/JWST/jw02221002001_10201_00004_nrcalong/jw02221-o002_20230410t190607_image2_00257_asn.json ... [Done]\n",
      "Downloading URL https://mast.stsci.edu/api/v0.1/Download/file?uri=mast:JWST/product/jw02221-o002_20230410t190607_image2_00294_asn.json to /orange/adamginsburg/jwst/cloudc/F466N/pipeline/mastDownload/JWST/jw02221002002_04201_00003_nrcblong/jw02221-o002_20230410t190607_image2_00294_asn.json ... [Done]\n",
      "Downloading URL https://mast.stsci.edu/api/v0.1/Download/file?uri=mast:JWST/product/jw02221-o002_20230410t190607_image2_00295_asn.json to /orange/adamginsburg/jwst/cloudc/F466N/pipeline/mastDownload/JWST/jw02221002002_04201_00003_nrcalong/jw02221-o002_20230410t190607_image2_00295_asn.json ... [Done]\n",
      "Downloading URL https://mast.stsci.edu/api/v0.1/Download/file?uri=mast:JWST/product/jw02221-o002_20230410t190607_image2_00303_asn.json to /orange/adamginsburg/jwst/cloudc/F466N/pipeline/mastDownload/JWST/jw02221002002_04201_00001_nrcblong/jw02221-o002_20230410t190607_image2_00303_asn.json ... [Done]\n",
      "Downloading URL https://mast.stsci.edu/api/v0.1/Download/file?uri=mast:JWST/product/jw02221-o002_20230410t190607_image2_00305_asn.json to /orange/adamginsburg/jwst/cloudc/F466N/pipeline/mastDownload/JWST/jw02221002002_04201_00002_nrcalong/jw02221-o002_20230410t190607_image2_00305_asn.json ... [Done]\n",
      "Downloading URL https://mast.stsci.edu/api/v0.1/Download/file?uri=mast:JWST/product/jw02221-o002_20230410t190607_image2_00314_asn.json to /orange/adamginsburg/jwst/cloudc/F466N/pipeline/mastDownload/JWST/jw02221002002_04201_00002_nrcblong/jw02221-o002_20230410t190607_image2_00314_asn.json ... [Done]\n",
      "Downloading URL https://mast.stsci.edu/api/v0.1/Download/file?uri=mast:JWST/product/jw02221-o002_20230410t190607_image2_00315_asn.json to /orange/adamginsburg/jwst/cloudc/F466N/pipeline/mastDownload/JWST/jw02221002002_04201_00001_nrcalong/jw02221-o002_20230410t190607_image2_00315_asn.json ... [Done]\n",
      "Downloading URL https://mast.stsci.edu/api/v0.1/Download/file?uri=mast:JWST/product/jw02221-o002_20230410t190607_image2_00367_asn.json to /orange/adamginsburg/jwst/cloudc/F466N/pipeline/mastDownload/JWST/jw02221002002_10201_00001_nrcalong/jw02221-o002_20230410t190607_image2_00367_asn.json ... [Done]\n",
      "Downloading URL https://mast.stsci.edu/api/v0.1/Download/file?uri=mast:JWST/product/jw02221-o002_20230410t190607_image2_00383_asn.json to /orange/adamginsburg/jwst/cloudc/F466N/pipeline/mastDownload/JWST/jw02221002002_10201_00001_nrcblong/jw02221-o002_20230410t190607_image2_00383_asn.json ... [Done]\n",
      "Downloading URL https://mast.stsci.edu/api/v0.1/Download/file?uri=mast:JWST/product/jw02221-o002_20230410t190607_image2_00416_asn.json to /orange/adamginsburg/jwst/cloudc/F466N/pipeline/mastDownload/JWST/jw02221002002_10201_00004_nrcblong/jw02221-o002_20230410t190607_image2_00416_asn.json ... [Done]\n",
      "Downloading URL https://mast.stsci.edu/api/v0.1/Download/file?uri=mast:JWST/product/jw02221-o002_20230410t190607_image2_00422_asn.json to /orange/adamginsburg/jwst/cloudc/F466N/pipeline/mastDownload/JWST/jw02221002002_10201_00004_nrcalong/jw02221-o002_20230410t190607_image2_00422_asn.json ... [Done]\n",
      "Downloading URL https://mast.stsci.edu/api/v0.1/Download/file?uri=mast:JWST/product/jw02221-o002_20230410t190607_image2_00427_asn.json to /orange/adamginsburg/jwst/cloudc/F466N/pipeline/mastDownload/JWST/jw02221002002_10201_00003_nrcalong/jw02221-o002_20230410t190607_image2_00427_asn.json ... [Done]\n",
      "Downloading URL https://mast.stsci.edu/api/v0.1/Download/file?uri=mast:JWST/product/jw02221-o002_20230410t190607_image2_00444_asn.json to /orange/adamginsburg/jwst/cloudc/F466N/pipeline/mastDownload/JWST/jw02221002002_10201_00003_nrcblong/jw02221-o002_20230410t190607_image2_00444_asn.json ... [Done]\n",
      "Downloading URL https://mast.stsci.edu/api/v0.1/Download/file?uri=mast:JWST/product/jw02221-o002_20230410t190607_image2_00462_asn.json to /orange/adamginsburg/jwst/cloudc/F466N/pipeline/mastDownload/JWST/jw02221002002_04201_00004_nrcblong/jw02221-o002_20230410t190607_image2_00462_asn.json ... [Done]\n",
      "Downloading URL https://mast.stsci.edu/api/v0.1/Download/file?uri=mast:JWST/product/jw02221-o002_20230410t190607_image2_00466_asn.json to /orange/adamginsburg/jwst/cloudc/F466N/pipeline/mastDownload/JWST/jw02221002002_04201_00004_nrcalong/jw02221-o002_20230410t190607_image2_00466_asn.json ... [Done]\n",
      "Downloading URL https://mast.stsci.edu/api/v0.1/Download/file?uri=mast:JWST/product/jw02221-o002_20230410t190607_image2_00487_asn.json to /orange/adamginsburg/jwst/cloudc/F466N/pipeline/mastDownload/JWST/jw02221002002_10201_00002_nrcblong/jw02221-o002_20230410t190607_image2_00487_asn.json ... [Done]\n",
      "Downloading URL https://mast.stsci.edu/api/v0.1/Download/file?uri=mast:JWST/product/jw02221-o002_20230410t190607_image2_00488_asn.json to /orange/adamginsburg/jwst/cloudc/F466N/pipeline/mastDownload/JWST/jw02221002002_10201_00002_nrcalong/jw02221-o002_20230410t190607_image2_00488_asn.json ... [Done]\n",
      "Downloading URL https://mast.stsci.edu/api/v0.1/Download/file?uri=mast:JWST/product/jw02221-o002_20230410t190607_image3_00005_asn.json to /orange/adamginsburg/jwst/cloudc/F466N/pipeline/mastDownload/JWST/jw02221-o002_t001_nircam_f444w-f466n/jw02221-o002_20230410t190607_image3_00005_asn.json ... [Done]\n",
      "2023-05-31T11:54:29.905327: manifest:                                                                         Local Path                                                                        ...\n",
      "--------------------------------------------------------------------------------------------------------------------------------------------------------- ...\n",
      "/orange/adamginsburg/jwst/cloudc/F466N/pipeline/mastDownload/JWST/jw02221-o001_t001_nircam_f444w-f466n/jw02221-o001_20230410t190607_image3_00003_asn.json ...\n",
      "  /orange/adamginsburg/jwst/cloudc/F466N/pipeline/mastDownload/JWST/jw02221002001_04201_00001_nrcalong/jw02221-o002_20230410t190607_image2_00004_asn.json ...\n",
      "  /orange/adamginsburg/jwst/cloudc/F466N/pipeline/mastDownload/JWST/jw02221002001_04201_00002_nrcalong/jw02221-o002_20230410t190607_image2_00016_asn.json ...\n",
      "  /orange/adamginsburg/jwst/cloudc/F466N/pipeline/mastDownload/JWST/jw02221002001_04201_00003_nrcalong/jw02221-o002_20230410t190607_image2_00024_asn.json ...\n",
      "  /orange/adamginsburg/jwst/cloudc/F466N/pipeline/mastDownload/JWST/jw02221002001_04201_00003_nrcblong/jw02221-o002_20230410t190607_image2_00088_asn.json ...\n",
      "  /orange/adamginsburg/jwst/cloudc/F466N/pipeline/mastDownload/JWST/jw02221002001_04201_00004_nrcblong/jw02221-o002_20230410t190607_image2_00092_asn.json ...\n",
      "  /orange/adamginsburg/jwst/cloudc/F466N/pipeline/mastDownload/JWST/jw02221002001_10201_00002_nrcalong/jw02221-o002_20230410t190607_image2_00099_asn.json ...\n",
      "  /orange/adamginsburg/jwst/cloudc/F466N/pipeline/mastDownload/JWST/jw02221002001_10201_00003_nrcalong/jw02221-o002_20230410t190607_image2_00105_asn.json ...\n",
      "  /orange/adamginsburg/jwst/cloudc/F466N/pipeline/mastDownload/JWST/jw02221002001_04201_00002_nrcblong/jw02221-o002_20230410t190607_image2_00113_asn.json ...\n",
      "  /orange/adamginsburg/jwst/cloudc/F466N/pipeline/mastDownload/JWST/jw02221002001_04201_00001_nrcblong/jw02221-o002_20230410t190607_image2_00123_asn.json ...\n",
      "  /orange/adamginsburg/jwst/cloudc/F466N/pipeline/mastDownload/JWST/jw02221002001_10201_00001_nrcalong/jw02221-o002_20230410t190607_image2_00143_asn.json ...\n",
      "  /orange/adamginsburg/jwst/cloudc/F466N/pipeline/mastDownload/JWST/jw02221002001_10201_00001_nrcblong/jw02221-o002_20230410t190607_image2_00152_asn.json ...\n",
      "  /orange/adamginsburg/jwst/cloudc/F466N/pipeline/mastDownload/JWST/jw02221002001_10201_00003_nrcblong/jw02221-o002_20230410t190607_image2_00154_asn.json ...\n",
      "  /orange/adamginsburg/jwst/cloudc/F466N/pipeline/mastDownload/JWST/jw02221002001_04201_00004_nrcalong/jw02221-o002_20230410t190607_image2_00172_asn.json ...\n",
      "  /orange/adamginsburg/jwst/cloudc/F466N/pipeline/mastDownload/JWST/jw02221002001_10201_00002_nrcblong/jw02221-o002_20230410t190607_image2_00173_asn.json ...\n",
      "  /orange/adamginsburg/jwst/cloudc/F466N/pipeline/mastDownload/JWST/jw02221002001_10201_00004_nrcblong/jw02221-o002_20230410t190607_image2_00253_asn.json ...\n",
      "  /orange/adamginsburg/jwst/cloudc/F466N/pipeline/mastDownload/JWST/jw02221002001_10201_00004_nrcalong/jw02221-o002_20230410t190607_image2_00257_asn.json ...\n",
      "  /orange/adamginsburg/jwst/cloudc/F466N/pipeline/mastDownload/JWST/jw02221002002_04201_00003_nrcblong/jw02221-o002_20230410t190607_image2_00294_asn.json ...\n",
      "  /orange/adamginsburg/jwst/cloudc/F466N/pipeline/mastDownload/JWST/jw02221002002_04201_00003_nrcalong/jw02221-o002_20230410t190607_image2_00295_asn.json ...\n",
      "  /orange/adamginsburg/jwst/cloudc/F466N/pipeline/mastDownload/JWST/jw02221002002_04201_00001_nrcblong/jw02221-o002_20230410t190607_image2_00303_asn.json ...\n",
      "  /orange/adamginsburg/jwst/cloudc/F466N/pipeline/mastDownload/JWST/jw02221002002_04201_00002_nrcalong/jw02221-o002_20230410t190607_image2_00305_asn.json ...\n",
      "  /orange/adamginsburg/jwst/cloudc/F466N/pipeline/mastDownload/JWST/jw02221002002_04201_00002_nrcblong/jw02221-o002_20230410t190607_image2_00314_asn.json ...\n",
      "  /orange/adamginsburg/jwst/cloudc/F466N/pipeline/mastDownload/JWST/jw02221002002_04201_00001_nrcalong/jw02221-o002_20230410t190607_image2_00315_asn.json ...\n",
      "  /orange/adamginsburg/jwst/cloudc/F466N/pipeline/mastDownload/JWST/jw02221002002_10201_00001_nrcalong/jw02221-o002_20230410t190607_image2_00367_asn.json ...\n",
      "  /orange/adamginsburg/jwst/cloudc/F466N/pipeline/mastDownload/JWST/jw02221002002_10201_00001_nrcblong/jw02221-o002_20230410t190607_image2_00383_asn.json ...\n",
      "  /orange/adamginsburg/jwst/cloudc/F466N/pipeline/mastDownload/JWST/jw02221002002_10201_00004_nrcblong/jw02221-o002_20230410t190607_image2_00416_asn.json ...\n",
      "  /orange/adamginsburg/jwst/cloudc/F466N/pipeline/mastDownload/JWST/jw02221002002_10201_00004_nrcalong/jw02221-o002_20230410t190607_image2_00422_asn.json ...\n",
      "  /orange/adamginsburg/jwst/cloudc/F466N/pipeline/mastDownload/JWST/jw02221002002_10201_00003_nrcalong/jw02221-o002_20230410t190607_image2_00427_asn.json ...\n",
      "  /orange/adamginsburg/jwst/cloudc/F466N/pipeline/mastDownload/JWST/jw02221002002_10201_00003_nrcblong/jw02221-o002_20230410t190607_image2_00444_asn.json ...\n",
      "  /orange/adamginsburg/jwst/cloudc/F466N/pipeline/mastDownload/JWST/jw02221002002_04201_00004_nrcblong/jw02221-o002_20230410t190607_image2_00462_asn.json ...\n",
      "  /orange/adamginsburg/jwst/cloudc/F466N/pipeline/mastDownload/JWST/jw02221002002_04201_00004_nrcalong/jw02221-o002_20230410t190607_image2_00466_asn.json ...\n",
      "  /orange/adamginsburg/jwst/cloudc/F466N/pipeline/mastDownload/JWST/jw02221002002_10201_00002_nrcblong/jw02221-o002_20230410t190607_image2_00487_asn.json ...\n",
      "  /orange/adamginsburg/jwst/cloudc/F466N/pipeline/mastDownload/JWST/jw02221002002_10201_00002_nrcalong/jw02221-o002_20230410t190607_image2_00488_asn.json ...\n",
      "/orange/adamginsburg/jwst/cloudc/F466N/pipeline/mastDownload/JWST/jw02221-o002_t001_nircam_f444w-f466n/jw02221-o002_20230410t190607_image3_00005_asn.json ...\n"
     ]
    }
   ],
   "source": [
    "Observations.cache_location = output_dir\n",
    "obs_table = Observations.query_criteria(\n",
    "                                        proposal_id=\"2221\",\n",
    "                                        proposal_pi=\"Ginsburg*\",\n",
    "                                        #calib_level=3,\n",
    "                                        )\n",
    "print(\"Obs table length:\", len(obs_table))\n",
    "msk = ((np.char.find(obs_table['filters'], filtername.upper()) >= 0) |\n",
    "       (np.char.find(obs_table['obs_id'], filtername.lower()) >= 0))\n",
    "data_products_by_obs = Observations.get_product_list(obs_table[msk])\n",
    "print(\"data prodcts by obs length: \", len(data_products_by_obs))\n",
    "products_asn = Observations.filter_products(data_products_by_obs, extension=\"json\")\n",
    "print(\"products_asn length:\", len(products_asn))\n",
    "#valid_obsids = products_asn['obs_id'][np.char.find(np.unique(products_asn['obs_id']), 'jw02221-o001', ) == 0]\n",
    "#match = [x for x in valid_obsids if filtername.lower() in x][0]\n",
    "asn_mast_data = products_asn#[products_asn['obs_id'] == match]\n",
    "print(\"asn_mast_data:\", asn_mast_data)\n",
    "manifest = Observations.download_products(asn_mast_data, download_dir=output_dir)\n",
    "print(\"manifest:\", manifest)"
   ]
  },
  {
   "cell_type": "code",
   "execution_count": null,
   "id": "8a81c7c0-d904-4ce0-9588-da9bdcb101e9",
   "metadata": {},
   "outputs": [],
   "source": [
    "# MAST creates deep directory structures we don't want\n",
    "for row in manifest:\n",
    "    try:\n",
    "        shutil.move(row['Local Path'], os.path.join(output_dir, os.path.basename(row['Local Path'])))\n",
    "    except Exception as ex:\n",
    "        print(f\"Failed to move file with error {ex}\")\n"
   ]
  },
  {
   "cell_type": "code",
   "execution_count": 12,
   "id": "eb84cbdf-055d-4b04-b01d-07bfe3e741cd",
   "metadata": {
    "tags": []
   },
   "outputs": [
    {
     "name": "stdout",
     "output_type": "stream",
     "text": [
      "2023-05-31T12:44:07.783626: products_fits length: 29060\n",
      "2023-05-31T12:44:08.267028: uncal length: 32\n",
      "2023-05-31T12:44:11.483467: uncal to download: 16; 112 were already downloaded\n"
     ]
    }
   ],
   "source": [
    "\n",
    "products_fits = Observations.filter_products(data_products_by_obs, extension=\"fits\")\n",
    "print(\"products_fits length:\", len(products_fits))\n",
    "uncal_mask = np.array([uri.endswith('_uncal.fits') and f'jw02221{field}' in uri for uri in products_fits['dataURI']])\n",
    "uncal_mask &= products_fits['productType'] == 'SCIENCE'\n",
    "print(\"uncal length:\", (uncal_mask.sum()))\n",
    "\n",
    "already_downloaded = np.array([os.path.exists(os.path.basename(uri)) for uri in products_fits['dataURI']])\n",
    "uncal_mask &= ~already_downloaded\n",
    "print(f\"uncal to download: {uncal_mask.sum()}; {already_downloaded.sum()} were already downloaded\")"
   ]
  },
  {
   "cell_type": "code",
   "execution_count": 7,
   "id": "d5e63782-d22f-45d4-b611-31436fc95587",
   "metadata": {},
   "outputs": [
    {
     "data": {
      "text/plain": [
       "'002'"
      ]
     },
     "execution_count": 7,
     "metadata": {},
     "output_type": "execute_result"
    }
   ],
   "source": [
    "field"
   ]
  },
  {
   "cell_type": "code",
   "execution_count": 11,
   "id": "d9dfa5ca-940f-48cb-9dcb-ac8269451ca1",
   "metadata": {},
   "outputs": [
    {
     "data": {
      "text/html": [
       "<div><i>Table masked=True length=80</i>\n",
       "<table id=\"table47160385995152\" class=\"table-striped table-bordered table-condensed\">\n",
       "<thead><tr><th>obsID</th><th>obs_collection</th><th>dataproduct_type</th><th>obs_id</th><th>description</th><th>type</th><th>dataURI</th><th>productType</th><th>productGroupDescription</th><th>productSubGroupDescription</th><th>productDocumentationURL</th><th>project</th><th>prvversion</th><th>proposal_id</th><th>productFilename</th><th>size</th><th>parent_obsid</th><th>dataRights</th><th>calib_level</th></tr></thead>\n",
       "<thead><tr><th>str9</th><th>str4</th><th>str5</th><th>str36</th><th>str64</th><th>str1</th><th>str69</th><th>str9</th><th>str28</th><th>str11</th><th>str1</th><th>str7</th><th>str5</th><th>str4</th><th>str51</th><th>int64</th><th>str9</th><th>str16</th><th>int64</th></tr></thead>\n",
       "<tr><td>90107202</td><td>JWST</td><td>image</td><td>jw02221001001_05101_00001_nrcalong</td><td>exposure (L1b): Uncalibrated 4D exposure data</td><td>S</td><td>mast:JWST/product/jw02221001001_05101_00001_nrcalong_uncal.fits</td><td>SCIENCE</td><td>--</td><td>UNCAL</td><td>--</td><td>CALJWST</td><td>--</td><td>2221</td><td>jw02221001001_05101_00001_nrcalong_uncal.fits</td><td>25223040</td><td>90220722</td><td>EXCLUSIVE_ACCESS</td><td>1</td></tr>\n",
       "<tr><td>90112172</td><td>JWST</td><td>image</td><td>jw02221001001_05101_00001_nrcblong</td><td>exposure (L1b): Uncalibrated 4D exposure data</td><td>S</td><td>mast:JWST/product/jw02221001001_05101_00001_nrcblong_uncal.fits</td><td>SCIENCE</td><td>--</td><td>UNCAL</td><td>--</td><td>CALJWST</td><td>--</td><td>2221</td><td>jw02221001001_05101_00001_nrcblong_uncal.fits</td><td>25223040</td><td>90220722</td><td>EXCLUSIVE_ACCESS</td><td>1</td></tr>\n",
       "<tr><td>90104132</td><td>JWST</td><td>image</td><td>jw02221001001_05101_00002_nrcalong</td><td>exposure (L1b): Uncalibrated 4D exposure data</td><td>S</td><td>mast:JWST/product/jw02221001001_05101_00002_nrcalong_uncal.fits</td><td>SCIENCE</td><td>--</td><td>UNCAL</td><td>--</td><td>CALJWST</td><td>--</td><td>2221</td><td>jw02221001001_05101_00002_nrcalong_uncal.fits</td><td>25223040</td><td>90220722</td><td>EXCLUSIVE_ACCESS</td><td>1</td></tr>\n",
       "<tr><td>90110302</td><td>JWST</td><td>image</td><td>jw02221001001_05101_00002_nrcblong</td><td>exposure (L1b): Uncalibrated 4D exposure data</td><td>S</td><td>mast:JWST/product/jw02221001001_05101_00002_nrcblong_uncal.fits</td><td>SCIENCE</td><td>--</td><td>UNCAL</td><td>--</td><td>CALJWST</td><td>--</td><td>2221</td><td>jw02221001001_05101_00002_nrcblong_uncal.fits</td><td>25223040</td><td>90220722</td><td>EXCLUSIVE_ACCESS</td><td>1</td></tr>\n",
       "<tr><td>90108068</td><td>JWST</td><td>image</td><td>jw02221001001_05101_00003_nrcalong</td><td>exposure (L1b): Uncalibrated 4D exposure data</td><td>S</td><td>mast:JWST/product/jw02221001001_05101_00003_nrcalong_uncal.fits</td><td>SCIENCE</td><td>--</td><td>UNCAL</td><td>--</td><td>CALJWST</td><td>--</td><td>2221</td><td>jw02221001001_05101_00003_nrcalong_uncal.fits</td><td>25223040</td><td>90220722</td><td>EXCLUSIVE_ACCESS</td><td>1</td></tr>\n",
       "<tr><td>90111220</td><td>JWST</td><td>image</td><td>jw02221001001_05101_00003_nrcblong</td><td>exposure (L1b): Uncalibrated 4D exposure data</td><td>S</td><td>mast:JWST/product/jw02221001001_05101_00003_nrcblong_uncal.fits</td><td>SCIENCE</td><td>--</td><td>UNCAL</td><td>--</td><td>CALJWST</td><td>--</td><td>2221</td><td>jw02221001001_05101_00003_nrcblong_uncal.fits</td><td>25223040</td><td>90220722</td><td>EXCLUSIVE_ACCESS</td><td>1</td></tr>\n",
       "<tr><td>90107199</td><td>JWST</td><td>image</td><td>jw02221001001_05101_00004_nrcalong</td><td>exposure (L1b): Uncalibrated 4D exposure data</td><td>S</td><td>mast:JWST/product/jw02221001001_05101_00004_nrcalong_uncal.fits</td><td>SCIENCE</td><td>--</td><td>UNCAL</td><td>--</td><td>CALJWST</td><td>--</td><td>2221</td><td>jw02221001001_05101_00004_nrcalong_uncal.fits</td><td>25223040</td><td>90220722</td><td>EXCLUSIVE_ACCESS</td><td>1</td></tr>\n",
       "<tr><td>90113041</td><td>JWST</td><td>image</td><td>jw02221001001_05101_00004_nrcblong</td><td>exposure (L1b): Uncalibrated 4D exposure data</td><td>S</td><td>mast:JWST/product/jw02221001001_05101_00004_nrcblong_uncal.fits</td><td>SCIENCE</td><td>--</td><td>UNCAL</td><td>--</td><td>CALJWST</td><td>--</td><td>2221</td><td>jw02221001001_05101_00004_nrcblong_uncal.fits</td><td>25223040</td><td>90220722</td><td>EXCLUSIVE_ACCESS</td><td>1</td></tr>\n",
       "<tr><td>90106758</td><td>JWST</td><td>image</td><td>jw02221001001_05101_00005_nrcalong</td><td>exposure (L1b): Uncalibrated 4D exposure data</td><td>S</td><td>mast:JWST/product/jw02221001001_05101_00005_nrcalong_uncal.fits</td><td>SCIENCE</td><td>--</td><td>UNCAL</td><td>--</td><td>CALJWST</td><td>--</td><td>2221</td><td>jw02221001001_05101_00005_nrcalong_uncal.fits</td><td>25223040</td><td>90220722</td><td>EXCLUSIVE_ACCESS</td><td>1</td></tr>\n",
       "<tr><td>90113821</td><td>JWST</td><td>image</td><td>jw02221001001_05101_00005_nrcblong</td><td>exposure (L1b): Uncalibrated 4D exposure data</td><td>S</td><td>mast:JWST/product/jw02221001001_05101_00005_nrcblong_uncal.fits</td><td>SCIENCE</td><td>--</td><td>UNCAL</td><td>--</td><td>CALJWST</td><td>--</td><td>2221</td><td>jw02221001001_05101_00005_nrcblong_uncal.fits</td><td>25223040</td><td>90220722</td><td>EXCLUSIVE_ACCESS</td><td>1</td></tr>\n",
       "<tr><td>90107088</td><td>JWST</td><td>image</td><td>jw02221001001_05101_00006_nrcalong</td><td>exposure (L1b): Uncalibrated 4D exposure data</td><td>S</td><td>mast:JWST/product/jw02221001001_05101_00006_nrcalong_uncal.fits</td><td>SCIENCE</td><td>--</td><td>UNCAL</td><td>--</td><td>CALJWST</td><td>--</td><td>2221</td><td>jw02221001001_05101_00006_nrcalong_uncal.fits</td><td>25223040</td><td>90220722</td><td>EXCLUSIVE_ACCESS</td><td>1</td></tr>\n",
       "<tr><td>90111621</td><td>JWST</td><td>image</td><td>jw02221001001_05101_00006_nrcblong</td><td>exposure (L1b): Uncalibrated 4D exposure data</td><td>S</td><td>mast:JWST/product/jw02221001001_05101_00006_nrcblong_uncal.fits</td><td>SCIENCE</td><td>--</td><td>UNCAL</td><td>--</td><td>CALJWST</td><td>--</td><td>2221</td><td>jw02221001001_05101_00006_nrcblong_uncal.fits</td><td>25223040</td><td>90220722</td><td>EXCLUSIVE_ACCESS</td><td>1</td></tr>\n",
       "<tr><td>90106840</td><td>JWST</td><td>image</td><td>jw02221001001_05101_00007_nrcalong</td><td>exposure (L1b): Uncalibrated 4D exposure data</td><td>S</td><td>mast:JWST/product/jw02221001001_05101_00007_nrcalong_uncal.fits</td><td>SCIENCE</td><td>--</td><td>UNCAL</td><td>--</td><td>CALJWST</td><td>--</td><td>2221</td><td>jw02221001001_05101_00007_nrcalong_uncal.fits</td><td>25223040</td><td>90220722</td><td>EXCLUSIVE_ACCESS</td><td>1</td></tr>\n",
       "<tr><td>90113316</td><td>JWST</td><td>image</td><td>jw02221001001_05101_00007_nrcblong</td><td>exposure (L1b): Uncalibrated 4D exposure data</td><td>S</td><td>mast:JWST/product/jw02221001001_05101_00007_nrcblong_uncal.fits</td><td>SCIENCE</td><td>--</td><td>UNCAL</td><td>--</td><td>CALJWST</td><td>--</td><td>2221</td><td>jw02221001001_05101_00007_nrcblong_uncal.fits</td><td>25223040</td><td>90220722</td><td>EXCLUSIVE_ACCESS</td><td>1</td></tr>\n",
       "<tr><td>90106427</td><td>JWST</td><td>image</td><td>jw02221001001_05101_00008_nrcalong</td><td>exposure (L1b): Uncalibrated 4D exposure data</td><td>S</td><td>mast:JWST/product/jw02221001001_05101_00008_nrcalong_uncal.fits</td><td>SCIENCE</td><td>--</td><td>UNCAL</td><td>--</td><td>CALJWST</td><td>--</td><td>2221</td><td>jw02221001001_05101_00008_nrcalong_uncal.fits</td><td>25223040</td><td>90220722</td><td>EXCLUSIVE_ACCESS</td><td>1</td></tr>\n",
       "<tr><td>...</td><td>...</td><td>...</td><td>...</td><td>...</td><td>...</td><td>...</td><td>...</td><td>...</td><td>...</td><td>...</td><td>...</td><td>...</td><td>...</td><td>...</td><td>...</td><td>...</td><td>...</td><td>...</td></tr>\n",
       "<tr><td>129263178</td><td>JWST</td><td>image</td><td>jw02221002002_04201_00001_nrcalong</td><td>exposure (L1b): Uncalibrated 4D exposure data</td><td>S</td><td>mast:JWST/product/jw02221002002_04201_00001_nrcalong_uncal.fits</td><td>SCIENCE</td><td>--</td><td>UNCAL</td><td>--</td><td>CALJWST</td><td>--</td><td>2221</td><td>jw02221002002_04201_00001_nrcalong_uncal.fits</td><td>16830720</td><td>127345709</td><td>EXCLUSIVE_ACCESS</td><td>1</td></tr>\n",
       "<tr><td>129262773</td><td>JWST</td><td>image</td><td>jw02221002002_04201_00001_nrcblong</td><td>exposure (L1b): Uncalibrated 4D exposure data</td><td>S</td><td>mast:JWST/product/jw02221002002_04201_00001_nrcblong_uncal.fits</td><td>SCIENCE</td><td>--</td><td>UNCAL</td><td>--</td><td>CALJWST</td><td>--</td><td>2221</td><td>jw02221002002_04201_00001_nrcblong_uncal.fits</td><td>16830720</td><td>127345709</td><td>EXCLUSIVE_ACCESS</td><td>1</td></tr>\n",
       "<tr><td>129262969</td><td>JWST</td><td>image</td><td>jw02221002002_04201_00002_nrcalong</td><td>exposure (L1b): Uncalibrated 4D exposure data</td><td>S</td><td>mast:JWST/product/jw02221002002_04201_00002_nrcalong_uncal.fits</td><td>SCIENCE</td><td>--</td><td>UNCAL</td><td>--</td><td>CALJWST</td><td>--</td><td>2221</td><td>jw02221002002_04201_00002_nrcalong_uncal.fits</td><td>25223040</td><td>127345709</td><td>EXCLUSIVE_ACCESS</td><td>1</td></tr>\n",
       "<tr><td>129262762</td><td>JWST</td><td>image</td><td>jw02221002002_04201_00002_nrcblong</td><td>exposure (L1b): Uncalibrated 4D exposure data</td><td>S</td><td>mast:JWST/product/jw02221002002_04201_00002_nrcblong_uncal.fits</td><td>SCIENCE</td><td>--</td><td>UNCAL</td><td>--</td><td>CALJWST</td><td>--</td><td>2221</td><td>jw02221002002_04201_00002_nrcblong_uncal.fits</td><td>16830720</td><td>127345709</td><td>EXCLUSIVE_ACCESS</td><td>1</td></tr>\n",
       "<tr><td>129260941</td><td>JWST</td><td>image</td><td>jw02221002002_04201_00003_nrcalong</td><td>exposure (L1b): Uncalibrated 4D exposure data</td><td>S</td><td>mast:JWST/product/jw02221002002_04201_00003_nrcalong_uncal.fits</td><td>SCIENCE</td><td>--</td><td>UNCAL</td><td>--</td><td>CALJWST</td><td>--</td><td>2221</td><td>jw02221002002_04201_00003_nrcalong_uncal.fits</td><td>16830720</td><td>127345709</td><td>EXCLUSIVE_ACCESS</td><td>1</td></tr>\n",
       "<tr><td>129261055</td><td>JWST</td><td>image</td><td>jw02221002002_04201_00003_nrcblong</td><td>exposure (L1b): Uncalibrated 4D exposure data</td><td>S</td><td>mast:JWST/product/jw02221002002_04201_00003_nrcblong_uncal.fits</td><td>SCIENCE</td><td>--</td><td>UNCAL</td><td>--</td><td>CALJWST</td><td>--</td><td>2221</td><td>jw02221002002_04201_00003_nrcblong_uncal.fits</td><td>25223040</td><td>127345709</td><td>EXCLUSIVE_ACCESS</td><td>1</td></tr>\n",
       "<tr><td>129272038</td><td>JWST</td><td>image</td><td>jw02221002002_04201_00004_nrcalong</td><td>exposure (L1b): Uncalibrated 4D exposure data</td><td>S</td><td>mast:JWST/product/jw02221002002_04201_00004_nrcalong_uncal.fits</td><td>SCIENCE</td><td>--</td><td>UNCAL</td><td>--</td><td>CALJWST</td><td>--</td><td>2221</td><td>jw02221002002_04201_00004_nrcalong_uncal.fits</td><td>25223040</td><td>127345709</td><td>EXCLUSIVE_ACCESS</td><td>1</td></tr>\n",
       "<tr><td>129272090</td><td>JWST</td><td>image</td><td>jw02221002002_04201_00004_nrcblong</td><td>exposure (L1b): Uncalibrated 4D exposure data</td><td>S</td><td>mast:JWST/product/jw02221002002_04201_00004_nrcblong_uncal.fits</td><td>SCIENCE</td><td>--</td><td>UNCAL</td><td>--</td><td>CALJWST</td><td>--</td><td>2221</td><td>jw02221002002_04201_00004_nrcblong_uncal.fits</td><td>25223040</td><td>127345709</td><td>EXCLUSIVE_ACCESS</td><td>1</td></tr>\n",
       "<tr><td>129269532</td><td>JWST</td><td>image</td><td>jw02221002002_10201_00001_nrcalong</td><td>exposure (L1b): Uncalibrated 4D exposure data</td><td>S</td><td>mast:JWST/product/jw02221002002_10201_00001_nrcalong_uncal.fits</td><td>SCIENCE</td><td>--</td><td>UNCAL</td><td>--</td><td>CALJWST</td><td>--</td><td>2221</td><td>jw02221002002_10201_00001_nrcalong_uncal.fits</td><td>16830720</td><td>127345709</td><td>EXCLUSIVE_ACCESS</td><td>1</td></tr>\n",
       "<tr><td>129272112</td><td>JWST</td><td>image</td><td>jw02221002002_10201_00001_nrcblong</td><td>exposure (L1b): Uncalibrated 4D exposure data</td><td>S</td><td>mast:JWST/product/jw02221002002_10201_00001_nrcblong_uncal.fits</td><td>SCIENCE</td><td>--</td><td>UNCAL</td><td>--</td><td>CALJWST</td><td>--</td><td>2221</td><td>jw02221002002_10201_00001_nrcblong_uncal.fits</td><td>25223040</td><td>127345709</td><td>EXCLUSIVE_ACCESS</td><td>1</td></tr>\n",
       "<tr><td>129271991</td><td>JWST</td><td>image</td><td>jw02221002002_10201_00002_nrcalong</td><td>exposure (L1b): Uncalibrated 4D exposure data</td><td>S</td><td>mast:JWST/product/jw02221002002_10201_00002_nrcalong_uncal.fits</td><td>SCIENCE</td><td>--</td><td>UNCAL</td><td>--</td><td>CALJWST</td><td>--</td><td>2221</td><td>jw02221002002_10201_00002_nrcalong_uncal.fits</td><td>25223040</td><td>127345709</td><td>EXCLUSIVE_ACCESS</td><td>1</td></tr>\n",
       "<tr><td>129272121</td><td>JWST</td><td>image</td><td>jw02221002002_10201_00002_nrcblong</td><td>exposure (L1b): Uncalibrated 4D exposure data</td><td>S</td><td>mast:JWST/product/jw02221002002_10201_00002_nrcblong_uncal.fits</td><td>SCIENCE</td><td>--</td><td>UNCAL</td><td>--</td><td>CALJWST</td><td>--</td><td>2221</td><td>jw02221002002_10201_00002_nrcblong_uncal.fits</td><td>25223040</td><td>127345709</td><td>EXCLUSIVE_ACCESS</td><td>1</td></tr>\n",
       "<tr><td>129272032</td><td>JWST</td><td>image</td><td>jw02221002002_10201_00003_nrcalong</td><td>exposure (L1b): Uncalibrated 4D exposure data</td><td>S</td><td>mast:JWST/product/jw02221002002_10201_00003_nrcalong_uncal.fits</td><td>SCIENCE</td><td>--</td><td>UNCAL</td><td>--</td><td>CALJWST</td><td>--</td><td>2221</td><td>jw02221002002_10201_00003_nrcalong_uncal.fits</td><td>16830720</td><td>127345709</td><td>EXCLUSIVE_ACCESS</td><td>1</td></tr>\n",
       "<tr><td>129272000</td><td>JWST</td><td>image</td><td>jw02221002002_10201_00003_nrcblong</td><td>exposure (L1b): Uncalibrated 4D exposure data</td><td>S</td><td>mast:JWST/product/jw02221002002_10201_00003_nrcblong_uncal.fits</td><td>SCIENCE</td><td>--</td><td>UNCAL</td><td>--</td><td>CALJWST</td><td>--</td><td>2221</td><td>jw02221002002_10201_00003_nrcblong_uncal.fits</td><td>25223040</td><td>127345709</td><td>EXCLUSIVE_ACCESS</td><td>1</td></tr>\n",
       "<tr><td>129272036</td><td>JWST</td><td>image</td><td>jw02221002002_10201_00004_nrcalong</td><td>exposure (L1b): Uncalibrated 4D exposure data</td><td>S</td><td>mast:JWST/product/jw02221002002_10201_00004_nrcalong_uncal.fits</td><td>SCIENCE</td><td>--</td><td>UNCAL</td><td>--</td><td>CALJWST</td><td>--</td><td>2221</td><td>jw02221002002_10201_00004_nrcalong_uncal.fits</td><td>25223040</td><td>127345709</td><td>EXCLUSIVE_ACCESS</td><td>1</td></tr>\n",
       "<tr><td>129272111</td><td>JWST</td><td>image</td><td>jw02221002002_10201_00004_nrcblong</td><td>exposure (L1b): Uncalibrated 4D exposure data</td><td>S</td><td>mast:JWST/product/jw02221002002_10201_00004_nrcblong_uncal.fits</td><td>SCIENCE</td><td>--</td><td>UNCAL</td><td>--</td><td>CALJWST</td><td>--</td><td>2221</td><td>jw02221002002_10201_00004_nrcblong_uncal.fits</td><td>25223040</td><td>127345709</td><td>EXCLUSIVE_ACCESS</td><td>1</td></tr>\n",
       "</table></div>"
      ],
      "text/plain": [
       "<Table masked=True length=80>\n",
       "  obsID   obs_collection dataproduct_type               obs_id               ...   size   parent_obsid    dataRights    calib_level\n",
       "   str9        str4            str5                     str36                ...  int64       str9          str16          int64   \n",
       "--------- -------------- ---------------- ---------------------------------- ... -------- ------------ ---------------- -----------\n",
       " 90107202           JWST            image jw02221001001_05101_00001_nrcalong ... 25223040     90220722 EXCLUSIVE_ACCESS           1\n",
       " 90112172           JWST            image jw02221001001_05101_00001_nrcblong ... 25223040     90220722 EXCLUSIVE_ACCESS           1\n",
       " 90104132           JWST            image jw02221001001_05101_00002_nrcalong ... 25223040     90220722 EXCLUSIVE_ACCESS           1\n",
       " 90110302           JWST            image jw02221001001_05101_00002_nrcblong ... 25223040     90220722 EXCLUSIVE_ACCESS           1\n",
       " 90108068           JWST            image jw02221001001_05101_00003_nrcalong ... 25223040     90220722 EXCLUSIVE_ACCESS           1\n",
       " 90111220           JWST            image jw02221001001_05101_00003_nrcblong ... 25223040     90220722 EXCLUSIVE_ACCESS           1\n",
       " 90107199           JWST            image jw02221001001_05101_00004_nrcalong ... 25223040     90220722 EXCLUSIVE_ACCESS           1\n",
       " 90113041           JWST            image jw02221001001_05101_00004_nrcblong ... 25223040     90220722 EXCLUSIVE_ACCESS           1\n",
       " 90106758           JWST            image jw02221001001_05101_00005_nrcalong ... 25223040     90220722 EXCLUSIVE_ACCESS           1\n",
       " 90113821           JWST            image jw02221001001_05101_00005_nrcblong ... 25223040     90220722 EXCLUSIVE_ACCESS           1\n",
       " 90107088           JWST            image jw02221001001_05101_00006_nrcalong ... 25223040     90220722 EXCLUSIVE_ACCESS           1\n",
       " 90111621           JWST            image jw02221001001_05101_00006_nrcblong ... 25223040     90220722 EXCLUSIVE_ACCESS           1\n",
       " 90106840           JWST            image jw02221001001_05101_00007_nrcalong ... 25223040     90220722 EXCLUSIVE_ACCESS           1\n",
       " 90113316           JWST            image jw02221001001_05101_00007_nrcblong ... 25223040     90220722 EXCLUSIVE_ACCESS           1\n",
       " 90106427           JWST            image jw02221001001_05101_00008_nrcalong ... 25223040     90220722 EXCLUSIVE_ACCESS           1\n",
       "      ...            ...              ...                                ... ...      ...          ...              ...         ...\n",
       "129263178           JWST            image jw02221002002_04201_00001_nrcalong ... 16830720    127345709 EXCLUSIVE_ACCESS           1\n",
       "129262773           JWST            image jw02221002002_04201_00001_nrcblong ... 16830720    127345709 EXCLUSIVE_ACCESS           1\n",
       "129262969           JWST            image jw02221002002_04201_00002_nrcalong ... 25223040    127345709 EXCLUSIVE_ACCESS           1\n",
       "129262762           JWST            image jw02221002002_04201_00002_nrcblong ... 16830720    127345709 EXCLUSIVE_ACCESS           1\n",
       "129260941           JWST            image jw02221002002_04201_00003_nrcalong ... 16830720    127345709 EXCLUSIVE_ACCESS           1\n",
       "129261055           JWST            image jw02221002002_04201_00003_nrcblong ... 25223040    127345709 EXCLUSIVE_ACCESS           1\n",
       "129272038           JWST            image jw02221002002_04201_00004_nrcalong ... 25223040    127345709 EXCLUSIVE_ACCESS           1\n",
       "129272090           JWST            image jw02221002002_04201_00004_nrcblong ... 25223040    127345709 EXCLUSIVE_ACCESS           1\n",
       "129269532           JWST            image jw02221002002_10201_00001_nrcalong ... 16830720    127345709 EXCLUSIVE_ACCESS           1\n",
       "129272112           JWST            image jw02221002002_10201_00001_nrcblong ... 25223040    127345709 EXCLUSIVE_ACCESS           1\n",
       "129271991           JWST            image jw02221002002_10201_00002_nrcalong ... 25223040    127345709 EXCLUSIVE_ACCESS           1\n",
       "129272121           JWST            image jw02221002002_10201_00002_nrcblong ... 25223040    127345709 EXCLUSIVE_ACCESS           1\n",
       "129272032           JWST            image jw02221002002_10201_00003_nrcalong ... 16830720    127345709 EXCLUSIVE_ACCESS           1\n",
       "129272000           JWST            image jw02221002002_10201_00003_nrcblong ... 25223040    127345709 EXCLUSIVE_ACCESS           1\n",
       "129272036           JWST            image jw02221002002_10201_00004_nrcalong ... 25223040    127345709 EXCLUSIVE_ACCESS           1\n",
       "129272111           JWST            image jw02221002002_10201_00004_nrcblong ... 25223040    127345709 EXCLUSIVE_ACCESS           1"
      ]
     },
     "execution_count": 11,
     "metadata": {},
     "output_type": "execute_result"
    }
   ],
   "source": [
    "products_fits[(products_fits['productType'] == 'SCIENCE') & np.array([uri.endswith('_uncal.fits') for uri in products_fits['dataURI']])]"
   ]
  },
  {
   "cell_type": "code",
   "execution_count": null,
   "id": "d68222ce-8156-427f-bf97-130111c57ee5",
   "metadata": {},
   "outputs": [],
   "source": []
  }
 ],
 "metadata": {
  "kernelspec": {
   "display_name": "Python 3 (ipykernel)",
   "language": "python",
   "name": "python3"
  },
  "language_info": {
   "codemirror_mode": {
    "name": "ipython",
    "version": 3
   },
   "file_extension": ".py",
   "mimetype": "text/x-python",
   "name": "python",
   "nbconvert_exporter": "python",
   "pygments_lexer": "ipython3",
   "version": "3.9.13"
  }
 },
 "nbformat": 4,
 "nbformat_minor": 5
}
