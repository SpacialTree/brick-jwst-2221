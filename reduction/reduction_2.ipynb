{
 "cells": [
  {
   "cell_type": "code",
   "execution_count": 1,
   "id": "935f934e-fd7d-434e-b7ba-f4b364d17db4",
   "metadata": {},
   "outputs": [
    {
     "name": "stderr",
     "output_type": "stream",
     "text": [
      "2023-05-31 11:53:42,839 - stpipe - WARNING - /blue/adamginsburg/adamginsburg/jwst/cloudc/reduction/brick-jwst-2221/reduction/filtering.py:20: TqdmExperimentalWarning: Using `tqdm.autonotebook.tqdm` in notebook mode. Use `tqdm.tqdm` instead to force console mode (e.g. in jupyter console)\n",
      "  from tqdm.autonotebook import tqdm\n",
      "\n",
      "fatal: detected dubious ownership in repository at '/blue/adamginsburg/adamginsburg/repos/dask'\n",
      "To add an exception for this directory, call:\n",
      "\n",
      "\tgit config --global --add safe.directory /blue/adamginsburg/adamginsburg/repos/dask\n"
     ]
    },
    {
     "name": "stdout",
     "output_type": "stream",
     "text": [
      "2023-05-31T11:53:47.506713: 1.9.0\n"
     ]
    }
   ],
   "source": [
    "#!/usr/bin/env python\n",
    "from glob import glob\n",
    "from astroquery.mast import Mast, Observations\n",
    "import os\n",
    "import shutil\n",
    "import numpy as np\n",
    "import json\n",
    "import requests\n",
    "import asdf\n",
    "from astropy import log\n",
    "from astropy.io import ascii, fits\n",
    "from astropy.utils.data import download_file\n",
    "from astropy.visualization import ImageNormalize, ManualInterval, LogStretch, LinearStretch\n",
    "import matplotlib.pyplot as plt\n",
    "import matplotlib as mpl\n",
    "\n",
    "# do this before importing webb\n",
    "os.environ[\"CRDS_PATH\"] = \"/orange/adamginsburg/jwst/brick/crds/\"\n",
    "os.environ[\"CRDS_SERVER_URL\"] = \"https://jwst-crds.stsci.edu\"\n",
    "\n",
    "from jwst.pipeline import calwebb_image3\n",
    "from jwst.pipeline import Detector1Pipeline, Image2Pipeline\n",
    "\n",
    "# Individual steps that make up calwebb_image3\n",
    "from jwst.tweakreg import TweakRegStep\n",
    "from jwst.skymatch import SkyMatchStep\n",
    "from jwst.outlier_detection import OutlierDetectionStep\n",
    "from jwst.resample import ResampleStep\n",
    "from jwst.source_catalog import SourceCatalogStep\n",
    "from jwst import datamodels\n",
    "from jwst.associations import asn_from_list\n",
    "from jwst.associations.lib.rules_level3_base import DMS_Level3_Base\n",
    "\n",
    "from align_to_catalogs import realign_to_vvv, merge_a_plus_b, retrieve_vvv\n",
    "from saturated_star_finding import iteratively_remove_saturated_stars, remove_saturated_stars\n",
    "\n",
    "from destreak import destreak\n",
    "\n",
    "import crds\n",
    "\n",
    "import datetime\n",
    "import jwst\n",
    "\n",
    "def print(*args, **kwargs):\n",
    "    now = datetime.datetime.now().isoformat()\n",
    "    from builtins import print as printfunc\n",
    "    return printfunc(f\"{now}:\", *args, **kwargs)\n",
    "\n",
    "\n",
    "print(jwst.__version__)\n",
    "\n",
    "# see 'destreak410.ipynb' for tests of this\n",
    "medfilt_size = {'F410M': 15, 'F405N': 256, 'F466N': 55}\n",
    "\n",
    "#basepath = '/orange/adamginsburg/jwst/brick/'\n",
    "\n",
    "filtername = 'F466N'\n",
    "module = 'merged'\n",
    "field = '002'\n",
    "regionname = 'cloudc'"
   ]
  },
  {
   "cell_type": "code",
   "execution_count": 2,
   "id": "3dc1b327-feaf-4dc2-bb0a-422ad2d0fe7c",
   "metadata": {},
   "outputs": [
    {
     "name": "stderr",
     "output_type": "stream",
     "text": [
      "2023-05-31 11:53:55,827 - stpipe - INFO - Processing filter F466N module merged\n"
     ]
    },
    {
     "name": "stdout",
     "output_type": "stream",
     "text": [
      "INFO: Processing filter F466N module merged [unknown]\n",
      "2023-05-31T11:53:55.829992: Output directory set as: /orange/adamginsburg/jwst/cloudc/F466N/pipeline/\n"
     ]
    }
   ],
   "source": [
    "#def main(filtername, module, Observations=None, regionname='brick', field='001'):\n",
    "log.info(f\"Processing filter {filtername} module {module}\")\n",
    "# sanity check\n",
    "if regionname == 'brick':\n",
    "    assert field == '001'\n",
    "elif regionname == 'cloudc':\n",
    "    assert field == '002'\n",
    "basepath = f'/orange/adamginsburg/jwst/{regionname}/'\n",
    "os.environ[\"CRDS_PATH\"] = f\"{basepath}/crds/\"\n",
    "os.environ[\"CRDS_SERVER_URL\"] = \"https://jwst-crds.stsci.edu\"\n",
    "mpl.rcParams['savefig.dpi'] = 80\n",
    "mpl.rcParams['figure.dpi'] = 80\n",
    "# Files created in this notebook will be saved\n",
    "# in a subdirectory of the base directory called `Stage3`\n",
    "output_dir = f'/orange/adamginsburg/jwst/{regionname}/{filtername}/pipeline/'\n",
    "print('Output directory set as:', output_dir)\n",
    "if not os.path.exists(output_dir):\n",
    "    os.mkdir(output_dir)\n",
    "os.chdir(output_dir)\n",
    "# the files are one directory up\n",
    "for fn in glob(\"../*cal.fits\"):\n",
    "    try:\n",
    "        os.link(fn, './'+os.path.basename(fn))\n",
    "    except Exception as ex:\n",
    "        print(f'Failed to link {fn} to {os.path.basename(fn)} because of {ex}')\n"
   ]
  },
  {
   "cell_type": "code",
   "execution_count": 3,
   "id": "64e2f9af-c0ac-4791-93fe-abc4a4641f53",
   "metadata": {},
   "outputs": [
    {
     "name": "stdout",
     "output_type": "stream",
     "text": [
      "2023-05-31T11:54:18.309766: Obs table length: 15\n",
      "2023-05-31T11:54:21.907023: data prodcts by obs length:  29612\n",
      "2023-05-31T11:54:22.384921: products_asn length: 34\n",
      "2023-05-31T11:54:22.385046: asn_mast_data:   obsID   obs_collection dataproduct_type                obs_id                ...  size parent_obsid    dataRights    calib_level\n",
      "--------- -------------- ---------------- ------------------------------------ ... ----- ------------ ---------------- -----------\n",
      " 90220722           JWST            image jw02221-o001_t001_nircam_f444w-f466n ... 14244     90220722 EXCLUSIVE_ACCESS           3\n",
      "127345709           JWST            image jw02221-o002_t001_nircam_f444w-f466n ... 10148    127345709 EXCLUSIVE_ACCESS           3\n",
      "127235693           JWST            image   jw02221002001_04201_00001_nrcalong ...  1795    127345709 EXCLUSIVE_ACCESS           2\n",
      "127235308           JWST            image   jw02221002001_04201_00001_nrcblong ...  1795    127345709 EXCLUSIVE_ACCESS           2\n",
      "127235639           JWST            image   jw02221002001_04201_00002_nrcalong ...  1795    127345709 EXCLUSIVE_ACCESS           2\n",
      "127235413           JWST            image   jw02221002001_04201_00002_nrcblong ...  1795    127345709 EXCLUSIVE_ACCESS           2\n",
      "127235418           JWST            image   jw02221002001_04201_00003_nrcalong ...  1795    127345709 EXCLUSIVE_ACCESS           2\n",
      "127235258           JWST            image   jw02221002001_04201_00003_nrcblong ...  1795    127345709 EXCLUSIVE_ACCESS           2\n",
      "127235478           JWST            image   jw02221002001_04201_00004_nrcalong ...  1795    127345709 EXCLUSIVE_ACCESS           2\n",
      "127235496           JWST            image   jw02221002001_04201_00004_nrcblong ...  1795    127345709 EXCLUSIVE_ACCESS           2\n",
      "127235667           JWST            image   jw02221002001_10201_00001_nrcalong ...  1795    127345709 EXCLUSIVE_ACCESS           2\n",
      "127235666           JWST            image   jw02221002001_10201_00001_nrcblong ...  1795    127345709 EXCLUSIVE_ACCESS           2\n",
      "127235406           JWST            image   jw02221002001_10201_00002_nrcalong ...  1795    127345709 EXCLUSIVE_ACCESS           2\n",
      "127235304           JWST            image   jw02221002001_10201_00002_nrcblong ...  1795    127345709 EXCLUSIVE_ACCESS           2\n",
      "127235516           JWST            image   jw02221002001_10201_00003_nrcalong ...  1795    127345709 EXCLUSIVE_ACCESS           2\n",
      "127235655           JWST            image   jw02221002001_10201_00003_nrcblong ...  1795    127345709 EXCLUSIVE_ACCESS           2\n",
      "127235531           JWST            image   jw02221002001_10201_00004_nrcalong ...  1795    127345709 EXCLUSIVE_ACCESS           2\n",
      "127235681           JWST            image   jw02221002001_10201_00004_nrcblong ...  1795    127345709 EXCLUSIVE_ACCESS           2\n",
      "129263178           JWST            image   jw02221002002_04201_00001_nrcalong ...  1795    127345709 EXCLUSIVE_ACCESS           2\n",
      "129262773           JWST            image   jw02221002002_04201_00001_nrcblong ...  1795    127345709 EXCLUSIVE_ACCESS           2\n",
      "129262969           JWST            image   jw02221002002_04201_00002_nrcalong ...  1795    127345709 EXCLUSIVE_ACCESS           2\n",
      "129262762           JWST            image   jw02221002002_04201_00002_nrcblong ...  1795    127345709 EXCLUSIVE_ACCESS           2\n",
      "129260941           JWST            image   jw02221002002_04201_00003_nrcalong ...  1795    127345709 EXCLUSIVE_ACCESS           2\n",
      "129261055           JWST            image   jw02221002002_04201_00003_nrcblong ...  1795    127345709 EXCLUSIVE_ACCESS           2\n",
      "129272038           JWST            image   jw02221002002_04201_00004_nrcalong ...  1795    127345709 EXCLUSIVE_ACCESS           2\n",
      "129272090           JWST            image   jw02221002002_04201_00004_nrcblong ...  1795    127345709 EXCLUSIVE_ACCESS           2\n",
      "129269532           JWST            image   jw02221002002_10201_00001_nrcalong ...  1795    127345709 EXCLUSIVE_ACCESS           2\n",
      "129272112           JWST            image   jw02221002002_10201_00001_nrcblong ...  1795    127345709 EXCLUSIVE_ACCESS           2\n",
      "129271991           JWST            image   jw02221002002_10201_00002_nrcalong ...  1795    127345709 EXCLUSIVE_ACCESS           2\n",
      "129272121           JWST            image   jw02221002002_10201_00002_nrcblong ...  1795    127345709 EXCLUSIVE_ACCESS           2\n",
      "129272032           JWST            image   jw02221002002_10201_00003_nrcalong ...  1795    127345709 EXCLUSIVE_ACCESS           2\n",
      "129272000           JWST            image   jw02221002002_10201_00003_nrcblong ...  1795    127345709 EXCLUSIVE_ACCESS           2\n",
      "129272036           JWST            image   jw02221002002_10201_00004_nrcalong ...  1795    127345709 EXCLUSIVE_ACCESS           2\n",
      "129272111           JWST            image   jw02221002002_10201_00004_nrcblong ...  1795    127345709 EXCLUSIVE_ACCESS           2\n",
      "Downloading URL https://mast.stsci.edu/api/v0.1/Download/file?uri=mast:JWST/product/jw02221-o001_20230410t190607_image3_00003_asn.json to /orange/adamginsburg/jwst/cloudc/F466N/pipeline/mastDownload/JWST/jw02221-o001_t001_nircam_f444w-f466n/jw02221-o001_20230410t190607_image3_00003_asn.json ... [Done]\n",
      "Downloading URL https://mast.stsci.edu/api/v0.1/Download/file?uri=mast:JWST/product/jw02221-o002_20230410t190607_image2_00004_asn.json to /orange/adamginsburg/jwst/cloudc/F466N/pipeline/mastDownload/JWST/jw02221002001_04201_00001_nrcalong/jw02221-o002_20230410t190607_image2_00004_asn.json ... [Done]\n",
      "Downloading URL https://mast.stsci.edu/api/v0.1/Download/file?uri=mast:JWST/product/jw02221-o002_20230410t190607_image2_00016_asn.json to /orange/adamginsburg/jwst/cloudc/F466N/pipeline/mastDownload/JWST/jw02221002001_04201_00002_nrcalong/jw02221-o002_20230410t190607_image2_00016_asn.json ... [Done]\n",
      "Downloading URL https://mast.stsci.edu/api/v0.1/Download/file?uri=mast:JWST/product/jw02221-o002_20230410t190607_image2_00024_asn.json to /orange/adamginsburg/jwst/cloudc/F466N/pipeline/mastDownload/JWST/jw02221002001_04201_00003_nrcalong/jw02221-o002_20230410t190607_image2_00024_asn.json ... [Done]\n",
      "Downloading URL https://mast.stsci.edu/api/v0.1/Download/file?uri=mast:JWST/product/jw02221-o002_20230410t190607_image2_00088_asn.json to /orange/adamginsburg/jwst/cloudc/F466N/pipeline/mastDownload/JWST/jw02221002001_04201_00003_nrcblong/jw02221-o002_20230410t190607_image2_00088_asn.json ... [Done]\n",
      "Downloading URL https://mast.stsci.edu/api/v0.1/Download/file?uri=mast:JWST/product/jw02221-o002_20230410t190607_image2_00092_asn.json to /orange/adamginsburg/jwst/cloudc/F466N/pipeline/mastDownload/JWST/jw02221002001_04201_00004_nrcblong/jw02221-o002_20230410t190607_image2_00092_asn.json ... [Done]\n",
      "Downloading URL https://mast.stsci.edu/api/v0.1/Download/file?uri=mast:JWST/product/jw02221-o002_20230410t190607_image2_00099_asn.json to /orange/adamginsburg/jwst/cloudc/F466N/pipeline/mastDownload/JWST/jw02221002001_10201_00002_nrcalong/jw02221-o002_20230410t190607_image2_00099_asn.json ... [Done]\n",
      "Downloading URL https://mast.stsci.edu/api/v0.1/Download/file?uri=mast:JWST/product/jw02221-o002_20230410t190607_image2_00105_asn.json to /orange/adamginsburg/jwst/cloudc/F466N/pipeline/mastDownload/JWST/jw02221002001_10201_00003_nrcalong/jw02221-o002_20230410t190607_image2_00105_asn.json ... [Done]\n",
      "Downloading URL https://mast.stsci.edu/api/v0.1/Download/file?uri=mast:JWST/product/jw02221-o002_20230410t190607_image2_00113_asn.json to /orange/adamginsburg/jwst/cloudc/F466N/pipeline/mastDownload/JWST/jw02221002001_04201_00002_nrcblong/jw02221-o002_20230410t190607_image2_00113_asn.json ... [Done]\n",
      "Downloading URL https://mast.stsci.edu/api/v0.1/Download/file?uri=mast:JWST/product/jw02221-o002_20230410t190607_image2_00123_asn.json to /orange/adamginsburg/jwst/cloudc/F466N/pipeline/mastDownload/JWST/jw02221002001_04201_00001_nrcblong/jw02221-o002_20230410t190607_image2_00123_asn.json ... [Done]\n",
      "Downloading URL https://mast.stsci.edu/api/v0.1/Download/file?uri=mast:JWST/product/jw02221-o002_20230410t190607_image2_00143_asn.json to /orange/adamginsburg/jwst/cloudc/F466N/pipeline/mastDownload/JWST/jw02221002001_10201_00001_nrcalong/jw02221-o002_20230410t190607_image2_00143_asn.json ... [Done]\n",
      "Downloading URL https://mast.stsci.edu/api/v0.1/Download/file?uri=mast:JWST/product/jw02221-o002_20230410t190607_image2_00152_asn.json to /orange/adamginsburg/jwst/cloudc/F466N/pipeline/mastDownload/JWST/jw02221002001_10201_00001_nrcblong/jw02221-o002_20230410t190607_image2_00152_asn.json ... [Done]\n",
      "Downloading URL https://mast.stsci.edu/api/v0.1/Download/file?uri=mast:JWST/product/jw02221-o002_20230410t190607_image2_00154_asn.json to /orange/adamginsburg/jwst/cloudc/F466N/pipeline/mastDownload/JWST/jw02221002001_10201_00003_nrcblong/jw02221-o002_20230410t190607_image2_00154_asn.json ... [Done]\n",
      "Downloading URL https://mast.stsci.edu/api/v0.1/Download/file?uri=mast:JWST/product/jw02221-o002_20230410t190607_image2_00172_asn.json to /orange/adamginsburg/jwst/cloudc/F466N/pipeline/mastDownload/JWST/jw02221002001_04201_00004_nrcalong/jw02221-o002_20230410t190607_image2_00172_asn.json ... [Done]\n",
      "Downloading URL https://mast.stsci.edu/api/v0.1/Download/file?uri=mast:JWST/product/jw02221-o002_20230410t190607_image2_00173_asn.json to /orange/adamginsburg/jwst/cloudc/F466N/pipeline/mastDownload/JWST/jw02221002001_10201_00002_nrcblong/jw02221-o002_20230410t190607_image2_00173_asn.json ... [Done]\n",
      "Downloading URL https://mast.stsci.edu/api/v0.1/Download/file?uri=mast:JWST/product/jw02221-o002_20230410t190607_image2_00253_asn.json to /orange/adamginsburg/jwst/cloudc/F466N/pipeline/mastDownload/JWST/jw02221002001_10201_00004_nrcblong/jw02221-o002_20230410t190607_image2_00253_asn.json ... [Done]\n",
      "Downloading URL https://mast.stsci.edu/api/v0.1/Download/file?uri=mast:JWST/product/jw02221-o002_20230410t190607_image2_00257_asn.json to /orange/adamginsburg/jwst/cloudc/F466N/pipeline/mastDownload/JWST/jw02221002001_10201_00004_nrcalong/jw02221-o002_20230410t190607_image2_00257_asn.json ... [Done]\n",
      "Downloading URL https://mast.stsci.edu/api/v0.1/Download/file?uri=mast:JWST/product/jw02221-o002_20230410t190607_image2_00294_asn.json to /orange/adamginsburg/jwst/cloudc/F466N/pipeline/mastDownload/JWST/jw02221002002_04201_00003_nrcblong/jw02221-o002_20230410t190607_image2_00294_asn.json ... [Done]\n",
      "Downloading URL https://mast.stsci.edu/api/v0.1/Download/file?uri=mast:JWST/product/jw02221-o002_20230410t190607_image2_00295_asn.json to /orange/adamginsburg/jwst/cloudc/F466N/pipeline/mastDownload/JWST/jw02221002002_04201_00003_nrcalong/jw02221-o002_20230410t190607_image2_00295_asn.json ... [Done]\n",
      "Downloading URL https://mast.stsci.edu/api/v0.1/Download/file?uri=mast:JWST/product/jw02221-o002_20230410t190607_image2_00303_asn.json to /orange/adamginsburg/jwst/cloudc/F466N/pipeline/mastDownload/JWST/jw02221002002_04201_00001_nrcblong/jw02221-o002_20230410t190607_image2_00303_asn.json ... [Done]\n",
      "Downloading URL https://mast.stsci.edu/api/v0.1/Download/file?uri=mast:JWST/product/jw02221-o002_20230410t190607_image2_00305_asn.json to /orange/adamginsburg/jwst/cloudc/F466N/pipeline/mastDownload/JWST/jw02221002002_04201_00002_nrcalong/jw02221-o002_20230410t190607_image2_00305_asn.json ... [Done]\n",
      "Downloading URL https://mast.stsci.edu/api/v0.1/Download/file?uri=mast:JWST/product/jw02221-o002_20230410t190607_image2_00314_asn.json to /orange/adamginsburg/jwst/cloudc/F466N/pipeline/mastDownload/JWST/jw02221002002_04201_00002_nrcblong/jw02221-o002_20230410t190607_image2_00314_asn.json ... [Done]\n",
      "Downloading URL https://mast.stsci.edu/api/v0.1/Download/file?uri=mast:JWST/product/jw02221-o002_20230410t190607_image2_00315_asn.json to /orange/adamginsburg/jwst/cloudc/F466N/pipeline/mastDownload/JWST/jw02221002002_04201_00001_nrcalong/jw02221-o002_20230410t190607_image2_00315_asn.json ... [Done]\n",
      "Downloading URL https://mast.stsci.edu/api/v0.1/Download/file?uri=mast:JWST/product/jw02221-o002_20230410t190607_image2_00367_asn.json to /orange/adamginsburg/jwst/cloudc/F466N/pipeline/mastDownload/JWST/jw02221002002_10201_00001_nrcalong/jw02221-o002_20230410t190607_image2_00367_asn.json ... [Done]\n",
      "Downloading URL https://mast.stsci.edu/api/v0.1/Download/file?uri=mast:JWST/product/jw02221-o002_20230410t190607_image2_00383_asn.json to /orange/adamginsburg/jwst/cloudc/F466N/pipeline/mastDownload/JWST/jw02221002002_10201_00001_nrcblong/jw02221-o002_20230410t190607_image2_00383_asn.json ... [Done]\n",
      "Downloading URL https://mast.stsci.edu/api/v0.1/Download/file?uri=mast:JWST/product/jw02221-o002_20230410t190607_image2_00416_asn.json to /orange/adamginsburg/jwst/cloudc/F466N/pipeline/mastDownload/JWST/jw02221002002_10201_00004_nrcblong/jw02221-o002_20230410t190607_image2_00416_asn.json ... [Done]\n",
      "Downloading URL https://mast.stsci.edu/api/v0.1/Download/file?uri=mast:JWST/product/jw02221-o002_20230410t190607_image2_00422_asn.json to /orange/adamginsburg/jwst/cloudc/F466N/pipeline/mastDownload/JWST/jw02221002002_10201_00004_nrcalong/jw02221-o002_20230410t190607_image2_00422_asn.json ... [Done]\n",
      "Downloading URL https://mast.stsci.edu/api/v0.1/Download/file?uri=mast:JWST/product/jw02221-o002_20230410t190607_image2_00427_asn.json to /orange/adamginsburg/jwst/cloudc/F466N/pipeline/mastDownload/JWST/jw02221002002_10201_00003_nrcalong/jw02221-o002_20230410t190607_image2_00427_asn.json ... [Done]\n",
      "Downloading URL https://mast.stsci.edu/api/v0.1/Download/file?uri=mast:JWST/product/jw02221-o002_20230410t190607_image2_00444_asn.json to /orange/adamginsburg/jwst/cloudc/F466N/pipeline/mastDownload/JWST/jw02221002002_10201_00003_nrcblong/jw02221-o002_20230410t190607_image2_00444_asn.json ... [Done]\n",
      "Downloading URL https://mast.stsci.edu/api/v0.1/Download/file?uri=mast:JWST/product/jw02221-o002_20230410t190607_image2_00462_asn.json to /orange/adamginsburg/jwst/cloudc/F466N/pipeline/mastDownload/JWST/jw02221002002_04201_00004_nrcblong/jw02221-o002_20230410t190607_image2_00462_asn.json ... [Done]\n",
      "Downloading URL https://mast.stsci.edu/api/v0.1/Download/file?uri=mast:JWST/product/jw02221-o002_20230410t190607_image2_00466_asn.json to /orange/adamginsburg/jwst/cloudc/F466N/pipeline/mastDownload/JWST/jw02221002002_04201_00004_nrcalong/jw02221-o002_20230410t190607_image2_00466_asn.json ... [Done]\n",
      "Downloading URL https://mast.stsci.edu/api/v0.1/Download/file?uri=mast:JWST/product/jw02221-o002_20230410t190607_image2_00487_asn.json to /orange/adamginsburg/jwst/cloudc/F466N/pipeline/mastDownload/JWST/jw02221002002_10201_00002_nrcblong/jw02221-o002_20230410t190607_image2_00487_asn.json ... [Done]\n",
      "Downloading URL https://mast.stsci.edu/api/v0.1/Download/file?uri=mast:JWST/product/jw02221-o002_20230410t190607_image2_00488_asn.json to /orange/adamginsburg/jwst/cloudc/F466N/pipeline/mastDownload/JWST/jw02221002002_10201_00002_nrcalong/jw02221-o002_20230410t190607_image2_00488_asn.json ... [Done]\n",
      "Downloading URL https://mast.stsci.edu/api/v0.1/Download/file?uri=mast:JWST/product/jw02221-o002_20230410t190607_image3_00005_asn.json to /orange/adamginsburg/jwst/cloudc/F466N/pipeline/mastDownload/JWST/jw02221-o002_t001_nircam_f444w-f466n/jw02221-o002_20230410t190607_image3_00005_asn.json ... [Done]\n",
      "2023-05-31T11:54:29.905327: manifest:                                                                         Local Path                                                                        ...\n",
      "--------------------------------------------------------------------------------------------------------------------------------------------------------- ...\n",
      "/orange/adamginsburg/jwst/cloudc/F466N/pipeline/mastDownload/JWST/jw02221-o001_t001_nircam_f444w-f466n/jw02221-o001_20230410t190607_image3_00003_asn.json ...\n",
      "  /orange/adamginsburg/jwst/cloudc/F466N/pipeline/mastDownload/JWST/jw02221002001_04201_00001_nrcalong/jw02221-o002_20230410t190607_image2_00004_asn.json ...\n",
      "  /orange/adamginsburg/jwst/cloudc/F466N/pipeline/mastDownload/JWST/jw02221002001_04201_00002_nrcalong/jw02221-o002_20230410t190607_image2_00016_asn.json ...\n",
      "  /orange/adamginsburg/jwst/cloudc/F466N/pipeline/mastDownload/JWST/jw02221002001_04201_00003_nrcalong/jw02221-o002_20230410t190607_image2_00024_asn.json ...\n",
      "  /orange/adamginsburg/jwst/cloudc/F466N/pipeline/mastDownload/JWST/jw02221002001_04201_00003_nrcblong/jw02221-o002_20230410t190607_image2_00088_asn.json ...\n",
      "  /orange/adamginsburg/jwst/cloudc/F466N/pipeline/mastDownload/JWST/jw02221002001_04201_00004_nrcblong/jw02221-o002_20230410t190607_image2_00092_asn.json ...\n",
      "  /orange/adamginsburg/jwst/cloudc/F466N/pipeline/mastDownload/JWST/jw02221002001_10201_00002_nrcalong/jw02221-o002_20230410t190607_image2_00099_asn.json ...\n",
      "  /orange/adamginsburg/jwst/cloudc/F466N/pipeline/mastDownload/JWST/jw02221002001_10201_00003_nrcalong/jw02221-o002_20230410t190607_image2_00105_asn.json ...\n",
      "  /orange/adamginsburg/jwst/cloudc/F466N/pipeline/mastDownload/JWST/jw02221002001_04201_00002_nrcblong/jw02221-o002_20230410t190607_image2_00113_asn.json ...\n",
      "  /orange/adamginsburg/jwst/cloudc/F466N/pipeline/mastDownload/JWST/jw02221002001_04201_00001_nrcblong/jw02221-o002_20230410t190607_image2_00123_asn.json ...\n",
      "  /orange/adamginsburg/jwst/cloudc/F466N/pipeline/mastDownload/JWST/jw02221002001_10201_00001_nrcalong/jw02221-o002_20230410t190607_image2_00143_asn.json ...\n",
      "  /orange/adamginsburg/jwst/cloudc/F466N/pipeline/mastDownload/JWST/jw02221002001_10201_00001_nrcblong/jw02221-o002_20230410t190607_image2_00152_asn.json ...\n",
      "  /orange/adamginsburg/jwst/cloudc/F466N/pipeline/mastDownload/JWST/jw02221002001_10201_00003_nrcblong/jw02221-o002_20230410t190607_image2_00154_asn.json ...\n",
      "  /orange/adamginsburg/jwst/cloudc/F466N/pipeline/mastDownload/JWST/jw02221002001_04201_00004_nrcalong/jw02221-o002_20230410t190607_image2_00172_asn.json ...\n",
      "  /orange/adamginsburg/jwst/cloudc/F466N/pipeline/mastDownload/JWST/jw02221002001_10201_00002_nrcblong/jw02221-o002_20230410t190607_image2_00173_asn.json ...\n",
      "  /orange/adamginsburg/jwst/cloudc/F466N/pipeline/mastDownload/JWST/jw02221002001_10201_00004_nrcblong/jw02221-o002_20230410t190607_image2_00253_asn.json ...\n",
      "  /orange/adamginsburg/jwst/cloudc/F466N/pipeline/mastDownload/JWST/jw02221002001_10201_00004_nrcalong/jw02221-o002_20230410t190607_image2_00257_asn.json ...\n",
      "  /orange/adamginsburg/jwst/cloudc/F466N/pipeline/mastDownload/JWST/jw02221002002_04201_00003_nrcblong/jw02221-o002_20230410t190607_image2_00294_asn.json ...\n",
      "  /orange/adamginsburg/jwst/cloudc/F466N/pipeline/mastDownload/JWST/jw02221002002_04201_00003_nrcalong/jw02221-o002_20230410t190607_image2_00295_asn.json ...\n",
      "  /orange/adamginsburg/jwst/cloudc/F466N/pipeline/mastDownload/JWST/jw02221002002_04201_00001_nrcblong/jw02221-o002_20230410t190607_image2_00303_asn.json ...\n",
      "  /orange/adamginsburg/jwst/cloudc/F466N/pipeline/mastDownload/JWST/jw02221002002_04201_00002_nrcalong/jw02221-o002_20230410t190607_image2_00305_asn.json ...\n",
      "  /orange/adamginsburg/jwst/cloudc/F466N/pipeline/mastDownload/JWST/jw02221002002_04201_00002_nrcblong/jw02221-o002_20230410t190607_image2_00314_asn.json ...\n",
      "  /orange/adamginsburg/jwst/cloudc/F466N/pipeline/mastDownload/JWST/jw02221002002_04201_00001_nrcalong/jw02221-o002_20230410t190607_image2_00315_asn.json ...\n",
      "  /orange/adamginsburg/jwst/cloudc/F466N/pipeline/mastDownload/JWST/jw02221002002_10201_00001_nrcalong/jw02221-o002_20230410t190607_image2_00367_asn.json ...\n",
      "  /orange/adamginsburg/jwst/cloudc/F466N/pipeline/mastDownload/JWST/jw02221002002_10201_00001_nrcblong/jw02221-o002_20230410t190607_image2_00383_asn.json ...\n",
      "  /orange/adamginsburg/jwst/cloudc/F466N/pipeline/mastDownload/JWST/jw02221002002_10201_00004_nrcblong/jw02221-o002_20230410t190607_image2_00416_asn.json ...\n",
      "  /orange/adamginsburg/jwst/cloudc/F466N/pipeline/mastDownload/JWST/jw02221002002_10201_00004_nrcalong/jw02221-o002_20230410t190607_image2_00422_asn.json ...\n",
      "  /orange/adamginsburg/jwst/cloudc/F466N/pipeline/mastDownload/JWST/jw02221002002_10201_00003_nrcalong/jw02221-o002_20230410t190607_image2_00427_asn.json ...\n",
      "  /orange/adamginsburg/jwst/cloudc/F466N/pipeline/mastDownload/JWST/jw02221002002_10201_00003_nrcblong/jw02221-o002_20230410t190607_image2_00444_asn.json ...\n",
      "  /orange/adamginsburg/jwst/cloudc/F466N/pipeline/mastDownload/JWST/jw02221002002_04201_00004_nrcblong/jw02221-o002_20230410t190607_image2_00462_asn.json ...\n",
      "  /orange/adamginsburg/jwst/cloudc/F466N/pipeline/mastDownload/JWST/jw02221002002_04201_00004_nrcalong/jw02221-o002_20230410t190607_image2_00466_asn.json ...\n",
      "  /orange/adamginsburg/jwst/cloudc/F466N/pipeline/mastDownload/JWST/jw02221002002_10201_00002_nrcblong/jw02221-o002_20230410t190607_image2_00487_asn.json ...\n",
      "  /orange/adamginsburg/jwst/cloudc/F466N/pipeline/mastDownload/JWST/jw02221002002_10201_00002_nrcalong/jw02221-o002_20230410t190607_image2_00488_asn.json ...\n",
      "/orange/adamginsburg/jwst/cloudc/F466N/pipeline/mastDownload/JWST/jw02221-o002_t001_nircam_f444w-f466n/jw02221-o002_20230410t190607_image3_00005_asn.json ...\n"
     ]
    }
   ],
   "source": [
    "Observations.cache_location = output_dir\n",
    "obs_table = Observations.query_criteria(\n",
    "                                        proposal_id=\"2221\",\n",
    "                                        proposal_pi=\"Ginsburg*\",\n",
    "                                        #calib_level=3,\n",
    "                                        )\n",
    "print(\"Obs table length:\", len(obs_table))\n",
    "msk = ((np.char.find(obs_table['filters'], filtername.upper()) >= 0) |\n",
    "       (np.char.find(obs_table['obs_id'], filtername.lower()) >= 0))\n",
    "data_products_by_obs = Observations.get_product_list(obs_table[msk])\n",
    "print(\"data prodcts by obs length: \", len(data_products_by_obs))\n",
    "products_asn = Observations.filter_products(data_products_by_obs, extension=\"json\")\n",
    "print(\"products_asn length:\", len(products_asn))\n",
    "#valid_obsids = products_asn['obs_id'][np.char.find(np.unique(products_asn['obs_id']), 'jw02221-o001', ) == 0]\n",
    "#match = [x for x in valid_obsids if filtername.lower() in x][0]\n",
    "asn_mast_data = products_asn#[products_asn['obs_id'] == match]\n",
    "print(\"asn_mast_data:\", asn_mast_data)\n",
    "manifest = Observations.download_products(asn_mast_data, download_dir=output_dir)\n",
    "print(\"manifest:\", manifest)"
   ]
  },
  {
   "cell_type": "code",
   "execution_count": null,
   "id": "8a81c7c0-d904-4ce0-9588-da9bdcb101e9",
   "metadata": {},
   "outputs": [],
   "source": [
    "# MAST creates deep directory structures we don't want\n",
    "for row in manifest:\n",
    "    try:\n",
    "        shutil.move(row['Local Path'], os.path.join(output_dir, os.path.basename(row['Local Path'])))\n",
    "    except Exception as ex:\n",
    "        print(f\"Failed to move file with error {ex}\")\n"
   ]
  },
  {
   "cell_type": "code",
   "execution_count": 12,
   "id": "eb84cbdf-055d-4b04-b01d-07bfe3e741cd",
   "metadata": {
    "tags": []
   },
   "outputs": [
    {
     "name": "stdout",
     "output_type": "stream",
     "text": [
      "2023-05-31T12:44:07.783626: products_fits length: 29060\n",
      "2023-05-31T12:44:08.267028: uncal length: 32\n",
      "2023-05-31T12:44:11.483467: uncal to download: 16; 112 were already downloaded\n"
     ]
    }
   ],
   "source": [
    "\n",
    "products_fits = Observations.filter_products(data_products_by_obs, extension=\"fits\")\n",
    "print(\"products_fits length:\", len(products_fits))\n",
    "uncal_mask = np.array([uri.endswith('_uncal.fits') and f'jw02221{field}' in uri for uri in products_fits['dataURI']])\n",
    "uncal_mask &= products_fits['productType'] == 'SCIENCE'\n",
    "print(\"uncal length:\", (uncal_mask.sum()))\n",
    "\n",
    "already_downloaded = np.array([os.path.exists(os.path.basename(uri)) for uri in products_fits['dataURI']])\n",
    "uncal_mask &= ~already_downloaded\n",
    "print(f\"uncal to download: {uncal_mask.sum()}; {already_downloaded.sum()} were already downloaded\")"
   ]
  },
  {
   "cell_type": "code",
   "execution_count": 7,
   "id": "d5e63782-d22f-45d4-b611-31436fc95587",
   "metadata": {},
   "outputs": [
    {
     "data": {
      "text/plain": [
       "'002'"
      ]
     },
     "execution_count": 7,
     "metadata": {},
     "output_type": "execute_result"
    }
   ],
   "source": [
    "field"
   ]
  },
  {
   "cell_type": "code",
   "execution_count": 11,
   "id": "d9dfa5ca-940f-48cb-9dcb-ac8269451ca1",
   "metadata": {},
   "outputs": [
    {
     "data": {
      "text/html": [
       "<div><i>Table masked=True length=80</i>\n",
       "<table id=\"table47160385995152\" class=\"table-striped table-bordered table-condensed\">\n",
       "<thead><tr><th>obsID</th><th>obs_collection</th><th>dataproduct_type</th><th>obs_id</th><th>description</th><th>type</th><th>dataURI</th><th>productType</th><th>productGroupDescription</th><th>productSubGroupDescription</th><th>productDocumentationURL</th><th>project</th><th>prvversion</th><th>proposal_id</th><th>productFilename</th><th>size</th><th>parent_obsid</th><th>dataRights</th><th>calib_level</th></tr></thead>\n",
       "<thead><tr><th>str9</th><th>str4</th><th>str5</th><th>str36</th><th>str64</th><th>str1</th><th>str69</th><th>str9</th><th>str28</th><th>str11</th><th>str1</th><th>str7</th><th>str5</th><th>str4</th><th>str51</th><th>int64</th><th>str9</th><th>str16</th><th>int64</th></tr></thead>\n",
       "<tr><td>90107202</td><td>JWST</td><td>image</td><td>jw02221001001_05101_00001_nrcalong</td><td>exposure (L1b): Uncalibrated 4D exposure data</td><td>S</td><td>mast:JWST/product/jw02221001001_05101_00001_nrcalong_uncal.fits</td><td>SCIENCE</td><td>--</td><td>UNCAL</td><td>--</td><td>CALJWST</td><td>--</td><td>2221</td><td>jw02221001001_05101_00001_nrcalong_uncal.fits</td><td>25223040</td><td>90220722</td><td>EXCLUSIVE_ACCESS</td><td>1</td></tr>\n",
       "<tr><td>90112172</td><td>JWST</td><td>image</td><td>jw02221001001_05101_00001_nrcblong</td><td>exposure (L1b): Uncalibrated 4D exposure data</td><td>S</td><td>mast:JWST/product/jw02221001001_05101_00001_nrcblong_uncal.fits</td><td>SCIENCE</td><td>--</td><td>UNCAL</td><td>--</td><td>CALJWST</td><td>--</td><td>2221</td><td>jw02221001001_05101_00001_nrcblong_uncal.fits</td><td>25223040</td><td>90220722</td><td>EXCLUSIVE_ACCESS</td><td>1</td></tr>\n",
       "<tr><td>90104132</td><td>JWST</td><td>image</td><td>jw02221001001_05101_00002_nrcalong</td><td>exposure (L1b): Uncalibrated 4D exposure data</td><td>S</td><td>mast:JWST/product/jw02221001001_05101_00002_nrcalong_uncal.fits</td><td>SCIENCE</td><td>--</td><td>UNCAL</td><td>--</td><td>CALJWST</td><td>--</td><td>2221</td><td>jw02221001001_05101_00002_nrcalong_uncal.fits</td><td>25223040</td><td>90220722</td><td>EXCLUSIVE_ACCESS</td><td>1</td></tr>\n",
       "<tr><td>90110302</td><td>JWST</td><td>image</td><td>jw02221001001_05101_00002_nrcblong</td><td>exposure (L1b): Uncalibrated 4D exposure data</td><td>S</td><td>mast:JWST/product/jw02221001001_05101_00002_nrcblong_uncal.fits</td><td>SCIENCE</td><td>--</td><td>UNCAL</td><td>--</td><td>CALJWST</td><td>--</td><td>2221</td><td>jw02221001001_05101_00002_nrcblong_uncal.fits</td><td>25223040</td><td>90220722</td><td>EXCLUSIVE_ACCESS</td><td>1</td></tr>\n",
       "<tr><td>90108068</td><td>JWST</td><td>image</td><td>jw02221001001_05101_00003_nrcalong</td><td>exposure (L1b): Uncalibrated 4D exposure data</td><td>S</td><td>mast:JWST/product/jw02221001001_05101_00003_nrcalong_uncal.fits</td><td>SCIENCE</td><td>--</td><td>UNCAL</td><td>--</td><td>CALJWST</td><td>--</td><td>2221</td><td>jw02221001001_05101_00003_nrcalong_uncal.fits</td><td>25223040</td><td>90220722</td><td>EXCLUSIVE_ACCESS</td><td>1</td></tr>\n",
       "<tr><td>90111220</td><td>JWST</td><td>image</td><td>jw02221001001_05101_00003_nrcblong</td><td>exposure (L1b): Uncalibrated 4D exposure data</td><td>S</td><td>mast:JWST/product/jw02221001001_05101_00003_nrcblong_uncal.fits</td><td>SCIENCE</td><td>--</td><td>UNCAL</td><td>--</td><td>CALJWST</td><td>--</td><td>2221</td><td>jw02221001001_05101_00003_nrcblong_uncal.fits</td><td>25223040</td><td>90220722</td><td>EXCLUSIVE_ACCESS</td><td>1</td></tr>\n",
       "<tr><td>90107199</td><td>JWST</td><td>image</td><td>jw02221001001_05101_00004_nrcalong</td><td>exposure (L1b): Uncalibrated 4D exposure data</td><td>S</td><td>mast:JWST/product/jw02221001001_05101_00004_nrcalong_uncal.fits</td><td>SCIENCE</td><td>--</td><td>UNCAL</td><td>--</td><td>CALJWST</td><td>--</td><td>2221</td><td>jw02221001001_05101_00004_nrcalong_uncal.fits</td><td>25223040</td><td>90220722</td><td>EXCLUSIVE_ACCESS</td><td>1</td></tr>\n",
       "<tr><td>90113041</td><td>JWST</td><td>image</td><td>jw02221001001_05101_00004_nrcblong</td><td>exposure (L1b): Uncalibrated 4D exposure data</td><td>S</td><td>mast:JWST/product/jw02221001001_05101_00004_nrcblong_uncal.fits</td><td>SCIENCE</td><td>--</td><td>UNCAL</td><td>--</td><td>CALJWST</td><td>--</td><td>2221</td><td>jw02221001001_05101_00004_nrcblong_uncal.fits</td><td>25223040</td><td>90220722</td><td>EXCLUSIVE_ACCESS</td><td>1</td></tr>\n",
       "<tr><td>90106758</td><td>JWST</td><td>image</td><td>jw02221001001_05101_00005_nrcalong</td><td>exposure (L1b): Uncalibrated 4D exposure data</td><td>S</td><td>mast:JWST/product/jw02221001001_05101_00005_nrcalong_uncal.fits</td><td>SCIENCE</td><td>--</td><td>UNCAL</td><td>--</td><td>CALJWST</td><td>--</td><td>2221</td><td>jw02221001001_05101_00005_nrcalong_uncal.fits</td><td>25223040</td><td>90220722</td><td>EXCLUSIVE_ACCESS</td><td>1</td></tr>\n",
       "<tr><td>90113821</td><td>JWST</td><td>image</td><td>jw02221001001_05101_00005_nrcblong</td><td>exposure (L1b): Uncalibrated 4D exposure data</td><td>S</td><td>mast:JWST/product/jw02221001001_05101_00005_nrcblong_uncal.fits</td><td>SCIENCE</td><td>--</td><td>UNCAL</td><td>--</td><td>CALJWST</td><td>--</td><td>2221</td><td>jw02221001001_05101_00005_nrcblong_uncal.fits</td><td>25223040</td><td>90220722</td><td>EXCLUSIVE_ACCESS</td><td>1</td></tr>\n",
       "<tr><td>90107088</td><td>JWST</td><td>image</td><td>jw02221001001_05101_00006_nrcalong</td><td>exposure (L1b): Uncalibrated 4D exposure data</td><td>S</td><td>mast:JWST/product/jw02221001001_05101_00006_nrcalong_uncal.fits</td><td>SCIENCE</td><td>--</td><td>UNCAL</td><td>--</td><td>CALJWST</td><td>--</td><td>2221</td><td>jw02221001001_05101_00006_nrcalong_uncal.fits</td><td>25223040</td><td>90220722</td><td>EXCLUSIVE_ACCESS</td><td>1</td></tr>\n",
       "<tr><td>90111621</td><td>JWST</td><td>image</td><td>jw02221001001_05101_00006_nrcblong</td><td>exposure (L1b): Uncalibrated 4D exposure data</td><td>S</td><td>mast:JWST/product/jw02221001001_05101_00006_nrcblong_uncal.fits</td><td>SCIENCE</td><td>--</td><td>UNCAL</td><td>--</td><td>CALJWST</td><td>--</td><td>2221</td><td>jw02221001001_05101_00006_nrcblong_uncal.fits</td><td>25223040</td><td>90220722</td><td>EXCLUSIVE_ACCESS</td><td>1</td></tr>\n",
       "<tr><td>90106840</td><td>JWST</td><td>image</td><td>jw02221001001_05101_00007_nrcalong</td><td>exposure (L1b): Uncalibrated 4D exposure data</td><td>S</td><td>mast:JWST/product/jw02221001001_05101_00007_nrcalong_uncal.fits</td><td>SCIENCE</td><td>--</td><td>UNCAL</td><td>--</td><td>CALJWST</td><td>--</td><td>2221</td><td>jw02221001001_05101_00007_nrcalong_uncal.fits</td><td>25223040</td><td>90220722</td><td>EXCLUSIVE_ACCESS</td><td>1</td></tr>\n",
       "<tr><td>90113316</td><td>JWST</td><td>image</td><td>jw02221001001_05101_00007_nrcblong</td><td>exposure (L1b): Uncalibrated 4D exposure data</td><td>S</td><td>mast:JWST/product/jw02221001001_05101_00007_nrcblong_uncal.fits</td><td>SCIENCE</td><td>--</td><td>UNCAL</td><td>--</td><td>CALJWST</td><td>--</td><td>2221</td><td>jw02221001001_05101_00007_nrcblong_uncal.fits</td><td>25223040</td><td>90220722</td><td>EXCLUSIVE_ACCESS</td><td>1</td></tr>\n",
       "<tr><td>90106427</td><td>JWST</td><td>image</td><td>jw02221001001_05101_00008_nrcalong</td><td>exposure (L1b): Uncalibrated 4D exposure data</td><td>S</td><td>mast:JWST/product/jw02221001001_05101_00008_nrcalong_uncal.fits</td><td>SCIENCE</td><td>--</td><td>UNCAL</td><td>--</td><td>CALJWST</td><td>--</td><td>2221</td><td>jw02221001001_05101_00008_nrcalong_uncal.fits</td><td>25223040</td><td>90220722</td><td>EXCLUSIVE_ACCESS</td><td>1</td></tr>\n",
       "<tr><td>...</td><td>...</td><td>...</td><td>...</td><td>...</td><td>...</td><td>...</td><td>...</td><td>...</td><td>...</td><td>...</td><td>...</td><td>...</td><td>...</td><td>...</td><td>...</td><td>...</td><td>...</td><td>...</td></tr>\n",
       "<tr><td>129263178</td><td>JWST</td><td>image</td><td>jw02221002002_04201_00001_nrcalong</td><td>exposure (L1b): Uncalibrated 4D exposure data</td><td>S</td><td>mast:JWST/product/jw02221002002_04201_00001_nrcalong_uncal.fits</td><td>SCIENCE</td><td>--</td><td>UNCAL</td><td>--</td><td>CALJWST</td><td>--</td><td>2221</td><td>jw02221002002_04201_00001_nrcalong_uncal.fits</td><td>16830720</td><td>127345709</td><td>EXCLUSIVE_ACCESS</td><td>1</td></tr>\n",
       "<tr><td>129262773</td><td>JWST</td><td>image</td><td>jw02221002002_04201_00001_nrcblong</td><td>exposure (L1b): Uncalibrated 4D exposure data</td><td>S</td><td>mast:JWST/product/jw02221002002_04201_00001_nrcblong_uncal.fits</td><td>SCIENCE</td><td>--</td><td>UNCAL</td><td>--</td><td>CALJWST</td><td>--</td><td>2221</td><td>jw02221002002_04201_00001_nrcblong_uncal.fits</td><td>16830720</td><td>127345709</td><td>EXCLUSIVE_ACCESS</td><td>1</td></tr>\n",
       "<tr><td>129262969</td><td>JWST</td><td>image</td><td>jw02221002002_04201_00002_nrcalong</td><td>exposure (L1b): Uncalibrated 4D exposure data</td><td>S</td><td>mast:JWST/product/jw02221002002_04201_00002_nrcalong_uncal.fits</td><td>SCIENCE</td><td>--</td><td>UNCAL</td><td>--</td><td>CALJWST</td><td>--</td><td>2221</td><td>jw02221002002_04201_00002_nrcalong_uncal.fits</td><td>25223040</td><td>127345709</td><td>EXCLUSIVE_ACCESS</td><td>1</td></tr>\n",
       "<tr><td>129262762</td><td>JWST</td><td>image</td><td>jw02221002002_04201_00002_nrcblong</td><td>exposure (L1b): Uncalibrated 4D exposure data</td><td>S</td><td>mast:JWST/product/jw02221002002_04201_00002_nrcblong_uncal.fits</td><td>SCIENCE</td><td>--</td><td>UNCAL</td><td>--</td><td>CALJWST</td><td>--</td><td>2221</td><td>jw02221002002_04201_00002_nrcblong_uncal.fits</td><td>16830720</td><td>127345709</td><td>EXCLUSIVE_ACCESS</td><td>1</td></tr>\n",
       "<tr><td>129260941</td><td>JWST</td><td>image</td><td>jw02221002002_04201_00003_nrcalong</td><td>exposure (L1b): Uncalibrated 4D exposure data</td><td>S</td><td>mast:JWST/product/jw02221002002_04201_00003_nrcalong_uncal.fits</td><td>SCIENCE</td><td>--</td><td>UNCAL</td><td>--</td><td>CALJWST</td><td>--</td><td>2221</td><td>jw02221002002_04201_00003_nrcalong_uncal.fits</td><td>16830720</td><td>127345709</td><td>EXCLUSIVE_ACCESS</td><td>1</td></tr>\n",
       "<tr><td>129261055</td><td>JWST</td><td>image</td><td>jw02221002002_04201_00003_nrcblong</td><td>exposure (L1b): Uncalibrated 4D exposure data</td><td>S</td><td>mast:JWST/product/jw02221002002_04201_00003_nrcblong_uncal.fits</td><td>SCIENCE</td><td>--</td><td>UNCAL</td><td>--</td><td>CALJWST</td><td>--</td><td>2221</td><td>jw02221002002_04201_00003_nrcblong_uncal.fits</td><td>25223040</td><td>127345709</td><td>EXCLUSIVE_ACCESS</td><td>1</td></tr>\n",
       "<tr><td>129272038</td><td>JWST</td><td>image</td><td>jw02221002002_04201_00004_nrcalong</td><td>exposure (L1b): Uncalibrated 4D exposure data</td><td>S</td><td>mast:JWST/product/jw02221002002_04201_00004_nrcalong_uncal.fits</td><td>SCIENCE</td><td>--</td><td>UNCAL</td><td>--</td><td>CALJWST</td><td>--</td><td>2221</td><td>jw02221002002_04201_00004_nrcalong_uncal.fits</td><td>25223040</td><td>127345709</td><td>EXCLUSIVE_ACCESS</td><td>1</td></tr>\n",
       "<tr><td>129272090</td><td>JWST</td><td>image</td><td>jw02221002002_04201_00004_nrcblong</td><td>exposure (L1b): Uncalibrated 4D exposure data</td><td>S</td><td>mast:JWST/product/jw02221002002_04201_00004_nrcblong_uncal.fits</td><td>SCIENCE</td><td>--</td><td>UNCAL</td><td>--</td><td>CALJWST</td><td>--</td><td>2221</td><td>jw02221002002_04201_00004_nrcblong_uncal.fits</td><td>25223040</td><td>127345709</td><td>EXCLUSIVE_ACCESS</td><td>1</td></tr>\n",
       "<tr><td>129269532</td><td>JWST</td><td>image</td><td>jw02221002002_10201_00001_nrcalong</td><td>exposure (L1b): Uncalibrated 4D exposure data</td><td>S</td><td>mast:JWST/product/jw02221002002_10201_00001_nrcalong_uncal.fits</td><td>SCIENCE</td><td>--</td><td>UNCAL</td><td>--</td><td>CALJWST</td><td>--</td><td>2221</td><td>jw02221002002_10201_00001_nrcalong_uncal.fits</td><td>16830720</td><td>127345709</td><td>EXCLUSIVE_ACCESS</td><td>1</td></tr>\n",
       "<tr><td>129272112</td><td>JWST</td><td>image</td><td>jw02221002002_10201_00001_nrcblong</td><td>exposure (L1b): Uncalibrated 4D exposure data</td><td>S</td><td>mast:JWST/product/jw02221002002_10201_00001_nrcblong_uncal.fits</td><td>SCIENCE</td><td>--</td><td>UNCAL</td><td>--</td><td>CALJWST</td><td>--</td><td>2221</td><td>jw02221002002_10201_00001_nrcblong_uncal.fits</td><td>25223040</td><td>127345709</td><td>EXCLUSIVE_ACCESS</td><td>1</td></tr>\n",
       "<tr><td>129271991</td><td>JWST</td><td>image</td><td>jw02221002002_10201_00002_nrcalong</td><td>exposure (L1b): Uncalibrated 4D exposure data</td><td>S</td><td>mast:JWST/product/jw02221002002_10201_00002_nrcalong_uncal.fits</td><td>SCIENCE</td><td>--</td><td>UNCAL</td><td>--</td><td>CALJWST</td><td>--</td><td>2221</td><td>jw02221002002_10201_00002_nrcalong_uncal.fits</td><td>25223040</td><td>127345709</td><td>EXCLUSIVE_ACCESS</td><td>1</td></tr>\n",
       "<tr><td>129272121</td><td>JWST</td><td>image</td><td>jw02221002002_10201_00002_nrcblong</td><td>exposure (L1b): Uncalibrated 4D exposure data</td><td>S</td><td>mast:JWST/product/jw02221002002_10201_00002_nrcblong_uncal.fits</td><td>SCIENCE</td><td>--</td><td>UNCAL</td><td>--</td><td>CALJWST</td><td>--</td><td>2221</td><td>jw02221002002_10201_00002_nrcblong_uncal.fits</td><td>25223040</td><td>127345709</td><td>EXCLUSIVE_ACCESS</td><td>1</td></tr>\n",
       "<tr><td>129272032</td><td>JWST</td><td>image</td><td>jw02221002002_10201_00003_nrcalong</td><td>exposure (L1b): Uncalibrated 4D exposure data</td><td>S</td><td>mast:JWST/product/jw02221002002_10201_00003_nrcalong_uncal.fits</td><td>SCIENCE</td><td>--</td><td>UNCAL</td><td>--</td><td>CALJWST</td><td>--</td><td>2221</td><td>jw02221002002_10201_00003_nrcalong_uncal.fits</td><td>16830720</td><td>127345709</td><td>EXCLUSIVE_ACCESS</td><td>1</td></tr>\n",
       "<tr><td>129272000</td><td>JWST</td><td>image</td><td>jw02221002002_10201_00003_nrcblong</td><td>exposure (L1b): Uncalibrated 4D exposure data</td><td>S</td><td>mast:JWST/product/jw02221002002_10201_00003_nrcblong_uncal.fits</td><td>SCIENCE</td><td>--</td><td>UNCAL</td><td>--</td><td>CALJWST</td><td>--</td><td>2221</td><td>jw02221002002_10201_00003_nrcblong_uncal.fits</td><td>25223040</td><td>127345709</td><td>EXCLUSIVE_ACCESS</td><td>1</td></tr>\n",
       "<tr><td>129272036</td><td>JWST</td><td>image</td><td>jw02221002002_10201_00004_nrcalong</td><td>exposure (L1b): Uncalibrated 4D exposure data</td><td>S</td><td>mast:JWST/product/jw02221002002_10201_00004_nrcalong_uncal.fits</td><td>SCIENCE</td><td>--</td><td>UNCAL</td><td>--</td><td>CALJWST</td><td>--</td><td>2221</td><td>jw02221002002_10201_00004_nrcalong_uncal.fits</td><td>25223040</td><td>127345709</td><td>EXCLUSIVE_ACCESS</td><td>1</td></tr>\n",
       "<tr><td>129272111</td><td>JWST</td><td>image</td><td>jw02221002002_10201_00004_nrcblong</td><td>exposure (L1b): Uncalibrated 4D exposure data</td><td>S</td><td>mast:JWST/product/jw02221002002_10201_00004_nrcblong_uncal.fits</td><td>SCIENCE</td><td>--</td><td>UNCAL</td><td>--</td><td>CALJWST</td><td>--</td><td>2221</td><td>jw02221002002_10201_00004_nrcblong_uncal.fits</td><td>25223040</td><td>127345709</td><td>EXCLUSIVE_ACCESS</td><td>1</td></tr>\n",
       "</table></div>"
      ],
      "text/plain": [
       "<Table masked=True length=80>\n",
       "  obsID   obs_collection dataproduct_type               obs_id               ...   size   parent_obsid    dataRights    calib_level\n",
       "   str9        str4            str5                     str36                ...  int64       str9          str16          int64   \n",
       "--------- -------------- ---------------- ---------------------------------- ... -------- ------------ ---------------- -----------\n",
       " 90107202           JWST            image jw02221001001_05101_00001_nrcalong ... 25223040     90220722 EXCLUSIVE_ACCESS           1\n",
       " 90112172           JWST            image jw02221001001_05101_00001_nrcblong ... 25223040     90220722 EXCLUSIVE_ACCESS           1\n",
       " 90104132           JWST            image jw02221001001_05101_00002_nrcalong ... 25223040     90220722 EXCLUSIVE_ACCESS           1\n",
       " 90110302           JWST            image jw02221001001_05101_00002_nrcblong ... 25223040     90220722 EXCLUSIVE_ACCESS           1\n",
       " 90108068           JWST            image jw02221001001_05101_00003_nrcalong ... 25223040     90220722 EXCLUSIVE_ACCESS           1\n",
       " 90111220           JWST            image jw02221001001_05101_00003_nrcblong ... 25223040     90220722 EXCLUSIVE_ACCESS           1\n",
       " 90107199           JWST            image jw02221001001_05101_00004_nrcalong ... 25223040     90220722 EXCLUSIVE_ACCESS           1\n",
       " 90113041           JWST            image jw02221001001_05101_00004_nrcblong ... 25223040     90220722 EXCLUSIVE_ACCESS           1\n",
       " 90106758           JWST            image jw02221001001_05101_00005_nrcalong ... 25223040     90220722 EXCLUSIVE_ACCESS           1\n",
       " 90113821           JWST            image jw02221001001_05101_00005_nrcblong ... 25223040     90220722 EXCLUSIVE_ACCESS           1\n",
       " 90107088           JWST            image jw02221001001_05101_00006_nrcalong ... 25223040     90220722 EXCLUSIVE_ACCESS           1\n",
       " 90111621           JWST            image jw02221001001_05101_00006_nrcblong ... 25223040     90220722 EXCLUSIVE_ACCESS           1\n",
       " 90106840           JWST            image jw02221001001_05101_00007_nrcalong ... 25223040     90220722 EXCLUSIVE_ACCESS           1\n",
       " 90113316           JWST            image jw02221001001_05101_00007_nrcblong ... 25223040     90220722 EXCLUSIVE_ACCESS           1\n",
       " 90106427           JWST            image jw02221001001_05101_00008_nrcalong ... 25223040     90220722 EXCLUSIVE_ACCESS           1\n",
       "      ...            ...              ...                                ... ...      ...          ...              ...         ...\n",
       "129263178           JWST            image jw02221002002_04201_00001_nrcalong ... 16830720    127345709 EXCLUSIVE_ACCESS           1\n",
       "129262773           JWST            image jw02221002002_04201_00001_nrcblong ... 16830720    127345709 EXCLUSIVE_ACCESS           1\n",
       "129262969           JWST            image jw02221002002_04201_00002_nrcalong ... 25223040    127345709 EXCLUSIVE_ACCESS           1\n",
       "129262762           JWST            image jw02221002002_04201_00002_nrcblong ... 16830720    127345709 EXCLUSIVE_ACCESS           1\n",
       "129260941           JWST            image jw02221002002_04201_00003_nrcalong ... 16830720    127345709 EXCLUSIVE_ACCESS           1\n",
       "129261055           JWST            image jw02221002002_04201_00003_nrcblong ... 25223040    127345709 EXCLUSIVE_ACCESS           1\n",
       "129272038           JWST            image jw02221002002_04201_00004_nrcalong ... 25223040    127345709 EXCLUSIVE_ACCESS           1\n",
       "129272090           JWST            image jw02221002002_04201_00004_nrcblong ... 25223040    127345709 EXCLUSIVE_ACCESS           1\n",
       "129269532           JWST            image jw02221002002_10201_00001_nrcalong ... 16830720    127345709 EXCLUSIVE_ACCESS           1\n",
       "129272112           JWST            image jw02221002002_10201_00001_nrcblong ... 25223040    127345709 EXCLUSIVE_ACCESS           1\n",
       "129271991           JWST            image jw02221002002_10201_00002_nrcalong ... 25223040    127345709 EXCLUSIVE_ACCESS           1\n",
       "129272121           JWST            image jw02221002002_10201_00002_nrcblong ... 25223040    127345709 EXCLUSIVE_ACCESS           1\n",
       "129272032           JWST            image jw02221002002_10201_00003_nrcalong ... 16830720    127345709 EXCLUSIVE_ACCESS           1\n",
       "129272000           JWST            image jw02221002002_10201_00003_nrcblong ... 25223040    127345709 EXCLUSIVE_ACCESS           1\n",
       "129272036           JWST            image jw02221002002_10201_00004_nrcalong ... 25223040    127345709 EXCLUSIVE_ACCESS           1\n",
       "129272111           JWST            image jw02221002002_10201_00004_nrcblong ... 25223040    127345709 EXCLUSIVE_ACCESS           1"
      ]
     },
     "execution_count": 11,
     "metadata": {},
     "output_type": "execute_result"
    }
   ],
   "source": [
    "products_fits[(products_fits['productType'] == 'SCIENCE') & np.array([uri.endswith('_uncal.fits') for uri in products_fits['dataURI']])]"
   ]
  },
  {
   "cell_type": "code",
   "execution_count": null,
   "id": "d68222ce-8156-427f-bf97-130111c57ee5",
   "metadata": {},
   "outputs": [],
   "source": []
  }
 ],
 "metadata": {
  "kernelspec": {
   "display_name": "Python 3 (ipykernel)",
   "language": "python",
   "name": "python3"
  },
  "language_info": {
   "codemirror_mode": {
    "name": "ipython",
    "version": 3
   },
   "file_extension": ".py",
   "mimetype": "text/x-python",
   "name": "python",
   "nbconvert_exporter": "python",
   "pygments_lexer": "ipython3",
   "version": "3.9.13"
  }
 },
 "nbformat": 4,
 "nbformat_minor": 5
}
