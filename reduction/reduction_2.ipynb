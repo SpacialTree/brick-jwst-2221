{
 "cells": [
  {
   "cell_type": "code",
   "execution_count": 1,
   "id": "935f934e-fd7d-434e-b7ba-f4b364d17db4",
   "metadata": {},
   "outputs": [
    {
     "name": "stdout",
     "output_type": "stream",
     "text": [
      "2023-08-31T11:15:20.054919: 1.11.3\n"
     ]
    }
   ],
   "source": [
    "#!/usr/bin/env python\n",
    "from glob import glob\n",
    "from astroquery.mast import Mast, Observations\n",
    "import os\n",
    "import shutil\n",
    "import numpy as np\n",
    "import json\n",
    "import requests\n",
    "import asdf\n",
    "from astropy import log\n",
    "from astropy.io import ascii, fits\n",
    "from astropy.utils.data import download_file\n",
    "from astropy.visualization import ImageNormalize, ManualInterval, LogStretch, LinearStretch\n",
    "import matplotlib.pyplot as plt\n",
    "import matplotlib as mpl\n",
    "from astropy.table import Table\n",
    "\n",
    "\n",
    "# do this before importing webb\n",
    "os.environ[\"CRDS_PATH\"] = \"/orange/adamginsburg/jwst/brick/crds/\"\n",
    "os.environ[\"CRDS_SERVER_URL\"] = \"https://jwst-crds.stsci.edu\"\n",
    "\n",
    "from jwst.pipeline import calwebb_image3\n",
    "from jwst.pipeline import Detector1Pipeline, Image2Pipeline\n",
    "\n",
    "# Individual steps that make up calwebb_image3\n",
    "from jwst.tweakreg import TweakRegStep\n",
    "from jwst.skymatch import SkyMatchStep\n",
    "from jwst.outlier_detection import OutlierDetectionStep\n",
    "from jwst.resample import ResampleStep\n",
    "from jwst.source_catalog import SourceCatalogStep\n",
    "from jwst import datamodels\n",
    "from jwst.associations import asn_from_list\n",
    "from jwst.associations.lib.rules_level3_base import DMS_Level3_Base\n",
    "\n",
    "from align_to_catalogs import realign_to_vvv, merge_a_plus_b, retrieve_vvv\n",
    "#from saturated_star_finding import iteratively_remove_saturated_stars, remove_saturated_stars\n",
    "\n",
    "from destreak import destreak\n",
    "\n",
    "import crds\n",
    "\n",
    "import datetime\n",
    "import jwst\n",
    "\n",
    "def print(*args, **kwargs):\n",
    "    now = datetime.datetime.now().isoformat()\n",
    "    from builtins import print as printfunc\n",
    "    return printfunc(f\"{now}:\", *args, **kwargs)\n",
    "\n",
    "\n",
    "print(jwst.__version__)\n",
    "\n",
    "# see 'destreak410.ipynb' for tests of this\n",
    "medfilt_size = {'F410M': 15, 'F405N': 256, 'F466N': 55}\n",
    "\n",
    "#basepath = '/orange/adamginsburg/jwst/brick/'\n",
    "\n",
    "filtername = 'F405N'\n",
    "module = 'merged'\n",
    "field = '002'\n",
    "regionname = 'cloudc'"
   ]
  },
  {
   "cell_type": "code",
   "execution_count": 2,
   "id": "cd78d06f-f763-4041-a98f-9ea5e7b35f20",
   "metadata": {
    "collapsed": true,
    "jupyter": {
     "outputs_hidden": true
    },
    "tags": []
   },
   "outputs": [
    {
     "data": {
      "text/plain": [
       "\u001b[0;31mSignature:\u001b[0m \u001b[0mcalwebb_image3\u001b[0m\u001b[0;34m.\u001b[0m\u001b[0mImage3Pipeline\u001b[0m\u001b[0;34m.\u001b[0m\u001b[0mcall\u001b[0m\u001b[0;34m(\u001b[0m\u001b[0;34m*\u001b[0m\u001b[0margs\u001b[0m\u001b[0;34m,\u001b[0m \u001b[0;34m**\u001b[0m\u001b[0mkwargs\u001b[0m\u001b[0;34m)\u001b[0m\u001b[0;34m\u001b[0m\u001b[0;34m\u001b[0m\u001b[0m\n",
       "\u001b[0;31mSource:\u001b[0m   \n",
       "    \u001b[0;34m@\u001b[0m\u001b[0mclassmethod\u001b[0m\u001b[0;34m\u001b[0m\n",
       "\u001b[0;34m\u001b[0m    \u001b[0;32mdef\u001b[0m \u001b[0mcall\u001b[0m\u001b[0;34m(\u001b[0m\u001b[0mcls\u001b[0m\u001b[0;34m,\u001b[0m \u001b[0;34m*\u001b[0m\u001b[0margs\u001b[0m\u001b[0;34m,\u001b[0m \u001b[0;34m**\u001b[0m\u001b[0mkwargs\u001b[0m\u001b[0;34m)\u001b[0m\u001b[0;34m:\u001b[0m\u001b[0;34m\u001b[0m\n",
       "\u001b[0;34m\u001b[0m        \u001b[0;34m\"\"\"\u001b[0m\n",
       "\u001b[0;34m        Creates and runs a new instance of the class.\u001b[0m\n",
       "\u001b[0;34m\u001b[0m\n",
       "\u001b[0;34m        Gets a config file from CRDS if one is available\u001b[0m\n",
       "\u001b[0;34m\u001b[0m\n",
       "\u001b[0;34m        To set configuration parameters, pass a `config_file` path or\u001b[0m\n",
       "\u001b[0;34m        keyword arguments.  Keyword arguments override those in the\u001b[0m\n",
       "\u001b[0;34m        specified `config_file`.\u001b[0m\n",
       "\u001b[0;34m\u001b[0m\n",
       "\u001b[0;34m        Any positional `*args` will be passed along to the step's\u001b[0m\n",
       "\u001b[0;34m        `process` method.\u001b[0m\n",
       "\u001b[0;34m\u001b[0m\n",
       "\u001b[0;34m        Note: this method creates a new instance of `Step` with the given\u001b[0m\n",
       "\u001b[0;34m        `config_file` if supplied, plus any extra `*args` and `**kwargs`.\u001b[0m\n",
       "\u001b[0;34m        If you create an instance of a Step, set parameters, and then use\u001b[0m\n",
       "\u001b[0;34m        this `call()` method, it will ignore previously-set parameters, as\u001b[0m\n",
       "\u001b[0;34m        it creates a new instance of the class with only the `config_file`,\u001b[0m\n",
       "\u001b[0;34m        `*args` and `**kwargs` passed to the `call()` method.\u001b[0m\n",
       "\u001b[0;34m\u001b[0m\n",
       "\u001b[0;34m        If not used with a `config_file` or specific `*args` and `**kwargs`,\u001b[0m\n",
       "\u001b[0;34m        it would be better to use the `run` method, which does not create\u001b[0m\n",
       "\u001b[0;34m        a new instance but simply runs the existing instance of the `Step`\u001b[0m\n",
       "\u001b[0;34m        class.\u001b[0m\n",
       "\u001b[0;34m        \"\"\"\u001b[0m\u001b[0;34m\u001b[0m\n",
       "\u001b[0;34m\u001b[0m        \u001b[0mfilename\u001b[0m \u001b[0;34m=\u001b[0m \u001b[0;32mNone\u001b[0m\u001b[0;34m\u001b[0m\n",
       "\u001b[0;34m\u001b[0m        \u001b[0;32mif\u001b[0m \u001b[0mlen\u001b[0m\u001b[0;34m(\u001b[0m\u001b[0margs\u001b[0m\u001b[0;34m)\u001b[0m \u001b[0;34m>\u001b[0m \u001b[0;36m0\u001b[0m\u001b[0;34m:\u001b[0m\u001b[0;34m\u001b[0m\n",
       "\u001b[0;34m\u001b[0m            \u001b[0mfilename\u001b[0m \u001b[0;34m=\u001b[0m \u001b[0margs\u001b[0m\u001b[0;34m[\u001b[0m\u001b[0;36m0\u001b[0m\u001b[0;34m]\u001b[0m\u001b[0;34m\u001b[0m\n",
       "\u001b[0;34m\u001b[0m        \u001b[0mconfig\u001b[0m\u001b[0;34m,\u001b[0m \u001b[0mconfig_file\u001b[0m \u001b[0;34m=\u001b[0m \u001b[0mcls\u001b[0m\u001b[0;34m.\u001b[0m\u001b[0mbuild_config\u001b[0m\u001b[0;34m(\u001b[0m\u001b[0mfilename\u001b[0m\u001b[0;34m,\u001b[0m \u001b[0;34m**\u001b[0m\u001b[0mkwargs\u001b[0m\u001b[0;34m)\u001b[0m\u001b[0;34m\u001b[0m\n",
       "\u001b[0;34m\u001b[0m\u001b[0;34m\u001b[0m\n",
       "\u001b[0;34m\u001b[0m        \u001b[0;32mif\u001b[0m \u001b[0;34m'class'\u001b[0m \u001b[0;32min\u001b[0m \u001b[0mconfig\u001b[0m\u001b[0;34m:\u001b[0m\u001b[0;34m\u001b[0m\n",
       "\u001b[0;34m\u001b[0m            \u001b[0;32mdel\u001b[0m \u001b[0mconfig\u001b[0m\u001b[0;34m[\u001b[0m\u001b[0;34m'class'\u001b[0m\u001b[0;34m]\u001b[0m\u001b[0;34m\u001b[0m\n",
       "\u001b[0;34m\u001b[0m\u001b[0;34m\u001b[0m\n",
       "\u001b[0;34m\u001b[0m        \u001b[0;32mif\u001b[0m \u001b[0;34m'logcfg'\u001b[0m \u001b[0;32min\u001b[0m \u001b[0mconfig\u001b[0m\u001b[0;34m:\u001b[0m\u001b[0;34m\u001b[0m\n",
       "\u001b[0;34m\u001b[0m            \u001b[0;32mtry\u001b[0m\u001b[0;34m:\u001b[0m\u001b[0;34m\u001b[0m\n",
       "\u001b[0;34m\u001b[0m                \u001b[0mlog\u001b[0m\u001b[0;34m.\u001b[0m\u001b[0mload_configuration\u001b[0m\u001b[0;34m(\u001b[0m\u001b[0mconfig\u001b[0m\u001b[0;34m[\u001b[0m\u001b[0;34m'logcfg'\u001b[0m\u001b[0;34m]\u001b[0m\u001b[0;34m)\u001b[0m\u001b[0;34m\u001b[0m\n",
       "\u001b[0;34m\u001b[0m            \u001b[0;32mexcept\u001b[0m \u001b[0mException\u001b[0m \u001b[0;32mas\u001b[0m \u001b[0me\u001b[0m\u001b[0;34m:\u001b[0m\u001b[0;34m\u001b[0m\n",
       "\u001b[0;34m\u001b[0m                \u001b[0;32mraise\u001b[0m \u001b[0mRuntimeError\u001b[0m\u001b[0;34m(\u001b[0m\u001b[0;34m\u001b[0m\n",
       "\u001b[0;34m\u001b[0m                    \u001b[0;34mf\"Error parsing logging config {config['logcfg']}\"\u001b[0m\u001b[0;34m\u001b[0m\n",
       "\u001b[0;34m\u001b[0m                \u001b[0;34m)\u001b[0m \u001b[0;32mfrom\u001b[0m \u001b[0me\u001b[0m\u001b[0;34m\u001b[0m\n",
       "\u001b[0;34m\u001b[0m            \u001b[0;32mdel\u001b[0m \u001b[0mconfig\u001b[0m\u001b[0;34m[\u001b[0m\u001b[0;34m'logcfg'\u001b[0m\u001b[0;34m]\u001b[0m\u001b[0;34m\u001b[0m\n",
       "\u001b[0;34m\u001b[0m\u001b[0;34m\u001b[0m\n",
       "\u001b[0;34m\u001b[0m        \u001b[0mname\u001b[0m \u001b[0;34m=\u001b[0m \u001b[0mconfig\u001b[0m\u001b[0;34m.\u001b[0m\u001b[0mget\u001b[0m\u001b[0;34m(\u001b[0m\u001b[0;34m'name'\u001b[0m\u001b[0;34m,\u001b[0m \u001b[0;32mNone\u001b[0m\u001b[0;34m)\u001b[0m\u001b[0;34m\u001b[0m\n",
       "\u001b[0;34m\u001b[0m        \u001b[0minstance\u001b[0m \u001b[0;34m=\u001b[0m \u001b[0mcls\u001b[0m\u001b[0;34m.\u001b[0m\u001b[0mfrom_config_section\u001b[0m\u001b[0;34m(\u001b[0m\u001b[0mconfig\u001b[0m\u001b[0;34m,\u001b[0m\u001b[0;34m\u001b[0m\n",
       "\u001b[0;34m\u001b[0m            \u001b[0mname\u001b[0m\u001b[0;34m=\u001b[0m\u001b[0mname\u001b[0m\u001b[0;34m,\u001b[0m \u001b[0mconfig_file\u001b[0m\u001b[0;34m=\u001b[0m\u001b[0mconfig_file\u001b[0m\u001b[0;34m)\u001b[0m\u001b[0;34m\u001b[0m\n",
       "\u001b[0;34m\u001b[0m\u001b[0;34m\u001b[0m\n",
       "\u001b[0;34m\u001b[0m        \u001b[0;32mreturn\u001b[0m \u001b[0minstance\u001b[0m\u001b[0;34m.\u001b[0m\u001b[0mrun\u001b[0m\u001b[0;34m(\u001b[0m\u001b[0;34m*\u001b[0m\u001b[0margs\u001b[0m\u001b[0;34m)\u001b[0m\u001b[0;34m\u001b[0m\u001b[0;34m\u001b[0m\u001b[0m\n",
       "\u001b[0;31mFile:\u001b[0m      /orange/adamginsburg/miniconda3/envs/python39/lib/python3.9/site-packages/stpipe/step.py\n",
       "\u001b[0;31mType:\u001b[0m      method\n"
      ]
     },
     "metadata": {},
     "output_type": "display_data"
    }
   ],
   "source": [
    "calwebb_image3.Image3Pipeline.call??"
   ]
  },
  {
   "cell_type": "code",
   "execution_count": 4,
   "id": "c4532e45-9e08-4ed7-8cff-2184538a7a09",
   "metadata": {},
   "outputs": [],
   "source": [
    "vvvcat = fits.open('/orange/adamginsburg/jwst/cloudc//F466N/pipeline/jw02221-o001_t001_nircam_clear-F466N-merged_vvvcat.fits')"
   ]
  },
  {
   "cell_type": "code",
   "execution_count": 9,
   "id": "d95a4751-1612-49c0-8d7d-92397598080d",
   "metadata": {},
   "outputs": [
    {
     "data": {
      "text/plain": [
       "FITS_rec([(266.602823, -28.60222 , 'VVV J174624.67-283607.99', -1, 18.806, 0.084,  0, 17.736, 0.053,  0, 16.528, 0.034, 16,    nan,   nan,  0,    nan,   nan,  0, 266.602823, -28.60222 ),\n",
       "          (266.606742, -28.598289, 'VVV J174625.61-283553.84', -1, 16.278, 0.011,  0, 15.811, 0.011,  0, 15.225, 0.011, 16, 14.721, 0.027, 16, 14.421, 0.058, 16, 266.606742, -28.598289),\n",
       "          (266.613329, -28.597491, 'VVV J174627.19-283550.96', -1, 17.865, 0.037, 16, 17.298, 0.036, 16, 16.693, 0.039, 16, 16.261, 0.111, 16,    nan,   nan,  0, 266.613329, -28.597491),\n",
       "          ...,\n",
       "          (266.59499 , -28.520139, 'VVV J174622.79-283112.49',  1,    nan,   nan,  0,    nan,   nan,  0, 17.2  , 0.061, 16, 14.584, 0.024, 16,    nan,   nan,  0, 266.59499 , -28.520139),\n",
       "          (266.592745, -28.520205, 'VVV J174622.25-283112.73', -1,    nan,   nan,  0,    nan,   nan,  0,    nan,   nan,  0,    nan,   nan,  0, 14.23 , 0.049, 16, 266.592745, -28.520205),\n",
       "          (266.593806, -28.520737, 'VVV J174622.51-283114.65', -2, 19.541, 0.161,  0, 18.476, 0.107,  0, 17.066, 0.054, 16, 16.216, 0.105, 16,    nan,   nan,  0, 266.593806, -28.520737)],\n",
       "         dtype=(numpy.record, [('RAJ2000', '>f8'), ('DEJ2000', '>f8'), ('iauname', 'S24'), ('mClass', '>i2'), ('Zmag3', '>f4'), ('e_Zmag3', '>f8'), ('Zperrbits', '>i4'), ('Ymag3', '>f8'), ('e_Ymag3', '>f8'), ('Yperrbits', '>i4'), ('Jmag3', '>f8'), ('e_Jmag3', '>f8'), ('Jperrbits', '>i4'), ('Hmag3', '>f8'), ('e_Hmag3', '>f8'), ('Hperrbits', '>i4'), ('Ksmag3', '>f8'), ('e_Ksmag3', '>f8'), ('Ksperrbits', '>i4'), ('RA', '>f8'), ('DEC', '>f8')]))"
      ]
     },
     "execution_count": 9,
     "metadata": {},
     "output_type": "execute_result"
    }
   ],
   "source": [
    "vvvcat[1].data"
   ]
  },
  {
   "cell_type": "code",
   "execution_count": 12,
   "id": "7e89b482-7ebd-48bd-86ad-163a92a096e5",
   "metadata": {},
   "outputs": [],
   "source": [
    "from astropy.table import Table"
   ]
  },
  {
   "cell_type": "code",
   "execution_count": 16,
   "id": "4509de2e-3087-449c-a8c4-bae50cde6490",
   "metadata": {},
   "outputs": [
    {
     "data": {
      "text/plain": [
       "False"
      ]
     },
     "execution_count": 16,
     "metadata": {},
     "output_type": "execute_result"
    }
   ],
   "source": [
    "\n",
    "vvvdr2fn = '/orange/adamginsburg/jwst/cloudc//F466N/pipeline/jw02221-o002_t001_nircam_clear-F466N-merged_vvvcat.ecsv'\n",
    "#(f'{basepath}/{filtername.upper()}/pipeline/jw02221-o{field}_t001_nircam_clear-{filtername}-{module}_vvvcat.ecsv')\n",
    "\n",
    "os.path.exists(vvvdr2fn)"
   ]
  },
  {
   "cell_type": "code",
   "execution_count": null,
   "id": "f74b96ce-11aa-42f3-a336-4bb49751c37c",
   "metadata": {},
   "outputs": [],
   "source": []
  },
  {
   "cell_type": "code",
   "execution_count": 13,
   "id": "ac9e059a-1f0e-4422-931e-cf436a6b5915",
   "metadata": {
    "collapsed": true,
    "jupyter": {
     "outputs_hidden": true
    },
    "tags": []
   },
   "outputs": [
    {
     "data": {
      "text/html": [
       "<div><i>Table length=3437</i>\n",
       "<table id=\"table46918845900016\" class=\"table-striped table-bordered table-condensed\">\n",
       "<thead><tr><th>RAJ2000</th><th>DEJ2000</th><th>iauname</th><th>mClass</th><th>Zmag3</th><th>e_Zmag3</th><th>Zperrbits</th><th>Ymag3</th><th>e_Ymag3</th><th>Yperrbits</th><th>Jmag3</th><th>e_Jmag3</th><th>Jperrbits</th><th>Hmag3</th><th>e_Hmag3</th><th>Hperrbits</th><th>Ksmag3</th><th>e_Ksmag3</th><th>Ksperrbits</th><th>RA</th><th>DEC</th></tr></thead>\n",
       "<thead><tr><th>float64</th><th>float64</th><th>str24</th><th>int16</th><th>float32</th><th>float64</th><th>int32</th><th>float64</th><th>float64</th><th>int32</th><th>float64</th><th>float64</th><th>int32</th><th>float64</th><th>float64</th><th>int32</th><th>float64</th><th>float64</th><th>int32</th><th>float64</th><th>float64</th></tr></thead>\n",
       "<tr><td>266.602823</td><td>-28.60222</td><td>VVV J174624.67-283607.99</td><td>-1</td><td>18.806</td><td>0.084</td><td>0</td><td>17.736</td><td>0.053</td><td>0</td><td>16.528</td><td>0.034</td><td>16</td><td>nan</td><td>nan</td><td>0</td><td>nan</td><td>nan</td><td>0</td><td>266.602823</td><td>-28.60222</td></tr>\n",
       "<tr><td>266.606742</td><td>-28.598289</td><td>VVV J174625.61-283553.84</td><td>-1</td><td>16.278</td><td>0.011</td><td>0</td><td>15.811</td><td>0.011</td><td>0</td><td>15.225</td><td>0.011</td><td>16</td><td>14.721</td><td>0.027</td><td>16</td><td>14.421</td><td>0.058</td><td>16</td><td>266.606742</td><td>-28.598289</td></tr>\n",
       "<tr><td>266.613329</td><td>-28.597491</td><td>VVV J174627.19-283550.96</td><td>-1</td><td>17.865</td><td>0.037</td><td>16</td><td>17.298</td><td>0.036</td><td>16</td><td>16.693</td><td>0.039</td><td>16</td><td>16.261</td><td>0.111</td><td>16</td><td>nan</td><td>nan</td><td>0</td><td>266.613329</td><td>-28.597491</td></tr>\n",
       "<tr><td>266.611708</td><td>-28.596065</td><td>VVV J174626.81-283545.83</td><td>1</td><td>19.567</td><td>0.167</td><td>0</td><td>19.022</td><td>0.17</td><td>0</td><td>17.988</td><td>0.126</td><td>0</td><td>15.987</td><td>0.086</td><td>16</td><td>14.496</td><td>0.062</td><td>16</td><td>266.611708</td><td>-28.596065</td></tr>\n",
       "<tr><td>266.603496</td><td>-28.60398</td><td>VVV J174624.83-283614.32</td><td>-1</td><td>16.636</td><td>0.014</td><td>0</td><td>16.304</td><td>0.016</td><td>0</td><td>15.796</td><td>0.018</td><td>0</td><td>14.848</td><td>0.03</td><td>16</td><td>13.669</td><td>0.029</td><td>16</td><td>266.603496</td><td>-28.60398</td></tr>\n",
       "<tr><td>266.610196</td><td>-28.601597</td><td>VVV J174626.44-283605.75</td><td>-1</td><td>18.836</td><td>0.087</td><td>0</td><td>18.411</td><td>0.097</td><td>0</td><td>17.722</td><td>0.099</td><td>0</td><td>17.499</td><td>0.345</td><td>0</td><td>nan</td><td>nan</td><td>0</td><td>266.610196</td><td>-28.601597</td></tr>\n",
       "<tr><td>266.613424</td><td>-28.595982</td><td>VVV J174627.22-283545.53</td><td>1</td><td>19.395</td><td>0.143</td><td>0</td><td>18.878</td><td>0.149</td><td>0</td><td>17.766</td><td>0.103</td><td>16</td><td>nan</td><td>nan</td><td>0</td><td>nan</td><td>nan</td><td>0</td><td>266.613424</td><td>-28.595982</td></tr>\n",
       "<tr><td>266.603983</td><td>-28.60527</td><td>VVV J174624.95-283618.97</td><td>1</td><td>nan</td><td>nan</td><td>0</td><td>nan</td><td>nan</td><td>0</td><td>15.802</td><td>0.018</td><td>0</td><td>13.3</td><td>0.008</td><td>16</td><td>11.588</td><td>0.004</td><td>16</td><td>266.603983</td><td>-28.60527</td></tr>\n",
       "<tr><td>266.614028</td><td>-28.605808</td><td>VVV J174627.36-283620.90</td><td>-1</td><td>18.678</td><td>0.075</td><td>0</td><td>17.789</td><td>0.056</td><td>0</td><td>16.494</td><td>0.033</td><td>16</td><td>14.852</td><td>0.03</td><td>16</td><td>nan</td><td>nan</td><td>0</td><td>266.614028</td><td>-28.605808</td></tr>\n",
       "<tr><td>266.608224</td><td>-28.601396</td><td>VVV J174625.97-283605.02</td><td>-1</td><td>14.472</td><td>0.003</td><td>0</td><td>14.313</td><td>0.004</td><td>0</td><td>13.945</td><td>0.004</td><td>0</td><td>13.345</td><td>0.008</td><td>0</td><td>12.465</td><td>0.01</td><td>0</td><td>266.608224</td><td>-28.601396</td></tr>\n",
       "<tr><td>266.606161</td><td>-28.599634</td><td>VVV J174625.47-283558.68</td><td>-1</td><td>16.728</td><td>0.015</td><td>0</td><td>15.917</td><td>0.011</td><td>0</td><td>14.945</td><td>0.009</td><td>16</td><td>14.024</td><td>0.014</td><td>16</td><td>13.58</td><td>0.027</td><td>16</td><td>266.606161</td><td>-28.599634</td></tr>\n",
       "<tr><td>266.609194</td><td>-28.596255</td><td>VVV J174626.20-283546.51</td><td>-1</td><td>16.872</td><td>0.016</td><td>16</td><td>16.157</td><td>0.014</td><td>0</td><td>15.364</td><td>0.012</td><td>0</td><td>14.642</td><td>0.025</td><td>16</td><td>14.007</td><td>0.039</td><td>16</td><td>266.609194</td><td>-28.596255</td></tr>\n",
       "<tr><td>266.605681</td><td>-28.602197</td><td>VVV J174625.36-283607.90</td><td>1</td><td>19.784</td><td>0.203</td><td>0</td><td>18.874</td><td>0.149</td><td>0</td><td>18.1</td><td>0.14</td><td>0</td><td>nan</td><td>nan</td><td>0</td><td>nan</td><td>nan</td><td>0</td><td>266.605681</td><td>-28.602197</td></tr>\n",
       "<tr><td>266.606167</td><td>-28.602851</td><td>VVV J174625.48-283610.26</td><td>-2</td><td>18.164</td><td>0.048</td><td>0</td><td>17.741</td><td>0.054</td><td>0</td><td>16.986</td><td>0.051</td><td>16</td><td>16.273</td><td>0.112</td><td>16</td><td>nan</td><td>nan</td><td>0</td><td>266.606167</td><td>-28.602851</td></tr>\n",
       "<tr><td>266.606797</td><td>-28.601727</td><td>VVV J174625.63-283606.21</td><td>-2</td><td>19.734</td><td>0.194</td><td>0</td><td>17.994</td><td>0.067</td><td>0</td><td>16.466</td><td>0.032</td><td>0</td><td>15.061</td><td>0.037</td><td>0</td><td>14.123</td><td>0.044</td><td>0</td><td>266.606797</td><td>-28.601727</td></tr>\n",
       "<tr><td>266.614177</td><td>-28.597853</td><td>VVV J174627.40-283552.26</td><td>-1</td><td>16.828</td><td>0.016</td><td>16</td><td>16.352</td><td>0.016</td><td>16</td><td>15.686</td><td>0.016</td><td>16</td><td>15.014</td><td>0.035</td><td>16</td><td>nan</td><td>nan</td><td>0</td><td>266.614177</td><td>-28.597853</td></tr>\n",
       "<tr><td>266.608228</td><td>-28.599384</td><td>VVV J174625.97-283557.78</td><td>-1</td><td>18.618</td><td>0.071</td><td>0</td><td>18.102</td><td>0.074</td><td>0</td><td>17.681</td><td>0.096</td><td>0</td><td>nan</td><td>nan</td><td>0</td><td>nan</td><td>nan</td><td>0</td><td>266.608228</td><td>-28.599384</td></tr>\n",
       "<tr><td>266.611239</td><td>-28.598081</td><td>VVV J174626.69-283553.09</td><td>-1</td><td>17.081</td><td>0.019</td><td>0</td><td>16.495</td><td>0.018</td><td>0</td><td>15.629</td><td>0.015</td><td>16</td><td>14.377</td><td>0.02</td><td>16</td><td>13.366</td><td>0.022</td><td>16</td><td>266.611239</td><td>-28.598081</td></tr>\n",
       "<tr><td>266.604212</td><td>-28.602032</td><td>VVV J174625.01-283607.31</td><td>-2</td><td>nan</td><td>nan</td><td>0</td><td>19.172</td><td>0.195</td><td>0</td><td>18.691</td><td>0.241</td><td>0</td><td>nan</td><td>nan</td><td>0</td><td>nan</td><td>nan</td><td>0</td><td>266.604212</td><td>-28.602032</td></tr>\n",
       "<tr><td>266.609519</td><td>-28.598202</td><td>VVV J174626.28-283553.52</td><td>-1</td><td>nan</td><td>nan</td><td>0</td><td>19.452</td><td>0.251</td><td>0</td><td>17.539</td><td>0.084</td><td>0</td><td>nan</td><td>nan</td><td>0</td><td>nan</td><td>nan</td><td>0</td><td>266.609519</td><td>-28.598202</td></tr>\n",
       "<tr><td>266.608604</td><td>-28.605855</td><td>VVV J174626.06-283621.07</td><td>-1</td><td>nan</td><td>nan</td><td>0</td><td>17.519</td><td>0.044</td><td>0</td><td>13.73</td><td>0.003</td><td>16</td><td>11.13</td><td>0.001</td><td>65552</td><td>8.107</td><td>0.001</td><td>65552</td><td>266.608604</td><td>-28.605855</td></tr>\n",
       "<tr><td>266.612621</td><td>-28.595392</td><td>VVV J174627.02-283543.41</td><td>-1</td><td>nan</td><td>nan</td><td>0</td><td>18.197</td><td>0.08</td><td>0</td><td>14.79</td><td>0.008</td><td>0</td><td>11.468</td><td>0.002</td><td>65552</td><td>9.973</td><td>0.002</td><td>65552</td><td>266.612621</td><td>-28.595392</td></tr>\n",
       "<tr><td>266.61143</td><td>-28.604855</td><td>VVV J174626.74-283617.47</td><td>-1</td><td>nan</td><td>nan</td><td>0</td><td>nan</td><td>nan</td><td>0</td><td>17.503</td><td>0.081</td><td>0</td><td>14.744</td><td>0.028</td><td>16</td><td>13.345</td><td>0.022</td><td>16</td><td>266.61143</td><td>-28.604855</td></tr>\n",
       "<tr><td>266.612291</td><td>-28.604951</td><td>VVV J174626.94-283617.82</td><td>-1</td><td>nan</td><td>nan</td><td>0</td><td>nan</td><td>nan</td><td>0</td><td>18.098</td><td>0.14</td><td>0</td><td>15.005</td><td>0.035</td><td>16</td><td>13.415</td><td>0.023</td><td>16</td><td>266.612291</td><td>-28.604951</td></tr>\n",
       "<tr><td>...</td><td>...</td><td>...</td><td>...</td><td>...</td><td>...</td><td>...</td><td>...</td><td>...</td><td>...</td><td>...</td><td>...</td><td>...</td><td>...</td><td>...</td><td>...</td><td>...</td><td>...</td><td>...</td><td>...</td><td>...</td></tr>\n",
       "<tr><td>266.593954</td><td>-28.521056</td><td>VVV J174622.54-283115.80</td><td>-1</td><td>19.541</td><td>0.161</td><td>0</td><td>18.476</td><td>0.107</td><td>0</td><td>17.066</td><td>0.054</td><td>16</td><td>16.216</td><td>0.105</td><td>16</td><td>nan</td><td>nan</td><td>0</td><td>266.593954</td><td>-28.521056</td></tr>\n",
       "<tr><td>266.594571</td><td>-28.521793</td><td>VVV J174622.69-283118.45</td><td>-1</td><td>19.42</td><td>0.144</td><td>0</td><td>17.862</td><td>0.062</td><td>0</td><td>16.378</td><td>0.029</td><td>16</td><td>15.128</td><td>0.039</td><td>16</td><td>14.228</td><td>0.049</td><td>16</td><td>266.594571</td><td>-28.521793</td></tr>\n",
       "<tr><td>266.592453</td><td>-28.520984</td><td>VVV J174622.18-283115.54</td><td>-1</td><td>nan</td><td>nan</td><td>0</td><td>16.821</td><td>0.025</td><td>0</td><td>13.711</td><td>0.003</td><td>16</td><td>11.204</td><td>0.001</td><td>65552</td><td>10.118</td><td>0.001</td><td>65552</td><td>266.592453</td><td>-28.520984</td></tr>\n",
       "<tr><td>266.595912</td><td>-28.520939</td><td>VVV J174623.01-283115.37</td><td>1</td><td>nan</td><td>nan</td><td>0</td><td>18.899</td><td>0.157</td><td>0</td><td>16.818</td><td>0.043</td><td>16</td><td>nan</td><td>nan</td><td>0</td><td>nan</td><td>nan</td><td>0</td><td>266.595912</td><td>-28.520939</td></tr>\n",
       "<tr><td>266.595849</td><td>-28.520085</td><td>VVV J174623.00-283112.30</td><td>1</td><td>nan</td><td>nan</td><td>0</td><td>nan</td><td>nan</td><td>0</td><td>18.317</td><td>0.168</td><td>16</td><td>nan</td><td>nan</td><td>0</td><td>nan</td><td>nan</td><td>0</td><td>266.595849</td><td>-28.520085</td></tr>\n",
       "<tr><td>266.593137</td><td>-28.522741</td><td>VVV J174622.35-283121.86</td><td>1</td><td>nan</td><td>nan</td><td>0</td><td>nan</td><td>nan</td><td>0</td><td>16.807</td><td>0.043</td><td>16</td><td>14.344</td><td>0.019</td><td>16</td><td>12.827</td><td>0.014</td><td>16</td><td>266.593137</td><td>-28.522741</td></tr>\n",
       "<tr><td>266.589841</td><td>-28.520251</td><td>VVV J174621.56-283112.90</td><td>-1</td><td>nan</td><td>nan</td><td>0</td><td>nan</td><td>nan</td><td>0</td><td>18.791</td><td>0.261</td><td>0</td><td>15.189</td><td>0.041</td><td>16</td><td>13.593</td><td>0.027</td><td>16</td><td>266.589841</td><td>-28.520251</td></tr>\n",
       "<tr><td>266.595342</td><td>-28.520513</td><td>VVV J174622.88-283113.84</td><td>-1</td><td>nan</td><td>nan</td><td>0</td><td>nan</td><td>nan</td><td>0</td><td>17.2</td><td>0.061</td><td>16</td><td>14.584</td><td>0.024</td><td>16</td><td>nan</td><td>nan</td><td>0</td><td>266.595342</td><td>-28.520513</td></tr>\n",
       "<tr><td>266.593437</td><td>-28.520009</td><td>VVV J174622.42-283112.03</td><td>1</td><td>nan</td><td>nan</td><td>0</td><td>nan</td><td>nan</td><td>0</td><td>18.415</td><td>0.185</td><td>0</td><td>15.449</td><td>0.052</td><td>16</td><td>13.96</td><td>0.038</td><td>16</td><td>266.593437</td><td>-28.520009</td></tr>\n",
       "<tr><td>266.595303</td><td>-28.521214</td><td>VVV J174622.87-283116.37</td><td>-1</td><td>nan</td><td>nan</td><td>0</td><td>nan</td><td>nan</td><td>0</td><td>15.612</td><td>0.015</td><td>16</td><td>12.272</td><td>0.003</td><td>16</td><td>9.988</td><td>0.002</td><td>65552</td><td>266.595303</td><td>-28.521214</td></tr>\n",
       "<tr><td>266.592055</td><td>-28.520043</td><td>VVV J174622.09-283112.15</td><td>-2</td><td>nan</td><td>nan</td><td>0</td><td>nan</td><td>nan</td><td>0</td><td>17.671</td><td>0.094</td><td>16</td><td>15.067</td><td>0.037</td><td>16</td><td>13.633</td><td>0.028</td><td>16</td><td>266.592055</td><td>-28.520043</td></tr>\n",
       "<tr><td>266.593932</td><td>-28.521522</td><td>VVV J174622.54-283117.48</td><td>1</td><td>nan</td><td>nan</td><td>0</td><td>nan</td><td>nan</td><td>0</td><td>17.076</td><td>0.055</td><td>16</td><td>14.546</td><td>0.023</td><td>16</td><td>13.253</td><td>0.02</td><td>16</td><td>266.593932</td><td>-28.521522</td></tr>\n",
       "<tr><td>266.595958</td><td>-28.520048</td><td>VVV J174623.02-283112.17</td><td>1</td><td>nan</td><td>nan</td><td>0</td><td>nan</td><td>nan</td><td>0</td><td>17.047</td><td>0.053</td><td>16</td><td>14.171</td><td>0.016</td><td>16</td><td>12.826</td><td>0.014</td><td>16</td><td>266.595958</td><td>-28.520048</td></tr>\n",
       "<tr><td>266.593254</td><td>-28.521426</td><td>VVV J174622.38-283117.13</td><td>-2</td><td>nan</td><td>nan</td><td>0</td><td>nan</td><td>nan</td><td>0</td><td>nan</td><td>nan</td><td>0</td><td>15.322</td><td>0.046</td><td>16</td><td>14.198</td><td>0.048</td><td>16</td><td>266.593254</td><td>-28.521426</td></tr>\n",
       "<tr><td>266.595796</td><td>-28.522784</td><td>VVV J174622.99-283122.02</td><td>-1</td><td>nan</td><td>nan</td><td>0</td><td>nan</td><td>nan</td><td>0</td><td>nan</td><td>nan</td><td>0</td><td>16.404</td><td>0.125</td><td>0</td><td>15.042</td><td>0.103</td><td>16</td><td>266.595796</td><td>-28.522784</td></tr>\n",
       "<tr><td>266.597432</td><td>-28.520321</td><td>VVV J174623.38-283113.15</td><td>-2</td><td>nan</td><td>nan</td><td>0</td><td>nan</td><td>nan</td><td>0</td><td>nan</td><td>nan</td><td>0</td><td>13.648</td><td>0.01</td><td>16</td><td>12.523</td><td>0.01</td><td>16</td><td>266.597432</td><td>-28.520321</td></tr>\n",
       "<tr><td>266.593623</td><td>-28.523496</td><td>VVV J174622.46-283124.58</td><td>-3</td><td>nan</td><td>nan</td><td>0</td><td>nan</td><td>nan</td><td>0</td><td>nan</td><td>nan</td><td>0</td><td>14.989</td><td>0.034</td><td>16</td><td>13.43</td><td>0.024</td><td>16</td><td>266.593623</td><td>-28.523496</td></tr>\n",
       "<tr><td>266.598003</td><td>-28.520625</td><td>VVV J174623.52-283114.24</td><td>-3</td><td>nan</td><td>nan</td><td>0</td><td>nan</td><td>nan</td><td>0</td><td>nan</td><td>nan</td><td>0</td><td>16.016</td><td>0.088</td><td>16</td><td>nan</td><td>nan</td><td>0</td><td>266.598003</td><td>-28.520625</td></tr>\n",
       "<tr><td>266.593597</td><td>-28.522093</td><td>VVV J174622.46-283119.53</td><td>1</td><td>nan</td><td>nan</td><td>0</td><td>nan</td><td>nan</td><td>0</td><td>nan</td><td>nan</td><td>0</td><td>15.763</td><td>0.07</td><td>16</td><td>14.319</td><td>0.053</td><td>16</td><td>266.593597</td><td>-28.522093</td></tr>\n",
       "<tr><td>266.598487</td><td>-28.520101</td><td>VVV J174623.63-283112.36</td><td>1</td><td>nan</td><td>nan</td><td>0</td><td>nan</td><td>nan</td><td>0</td><td>nan</td><td>nan</td><td>0</td><td>15.366</td><td>0.048</td><td>16</td><td>13.919</td><td>0.037</td><td>16</td><td>266.598487</td><td>-28.520101</td></tr>\n",
       "<tr><td>266.596129</td><td>-28.522613</td><td>VVV J174623.07-283121.40</td><td>-1</td><td>nan</td><td>nan</td><td>0</td><td>nan</td><td>nan</td><td>0</td><td>nan</td><td>nan</td><td>0</td><td>nan</td><td>nan</td><td>0</td><td>15.46</td><td>0.152</td><td>16</td><td>266.596129</td><td>-28.522613</td></tr>\n",
       "<tr><td>266.59499</td><td>-28.520139</td><td>VVV J174622.79-283112.49</td><td>1</td><td>nan</td><td>nan</td><td>0</td><td>nan</td><td>nan</td><td>0</td><td>17.2</td><td>0.061</td><td>16</td><td>14.584</td><td>0.024</td><td>16</td><td>nan</td><td>nan</td><td>0</td><td>266.59499</td><td>-28.520139</td></tr>\n",
       "<tr><td>266.592745</td><td>-28.520205</td><td>VVV J174622.25-283112.73</td><td>-1</td><td>nan</td><td>nan</td><td>0</td><td>nan</td><td>nan</td><td>0</td><td>nan</td><td>nan</td><td>0</td><td>nan</td><td>nan</td><td>0</td><td>14.23</td><td>0.049</td><td>16</td><td>266.592745</td><td>-28.520205</td></tr>\n",
       "<tr><td>266.593806</td><td>-28.520737</td><td>VVV J174622.51-283114.65</td><td>-2</td><td>19.541</td><td>0.161</td><td>0</td><td>18.476</td><td>0.107</td><td>0</td><td>17.066</td><td>0.054</td><td>16</td><td>16.216</td><td>0.105</td><td>16</td><td>nan</td><td>nan</td><td>0</td><td>266.593806</td><td>-28.520737</td></tr>\n",
       "</table></div>"
      ],
      "text/plain": [
       "<Table length=3437>\n",
       " RAJ2000    DEJ2000           iauname          mClass  Zmag3  e_Zmag3 Zperrbits  Ymag3  e_Ymag3 Yperrbits ... e_Jmag3 Jperrbits  Hmag3  e_Hmag3 Hperrbits  Ksmag3 e_Ksmag3 Ksperrbits     RA        DEC    \n",
       " float64    float64            str24           int16  float32 float64   int32   float64 float64   int32   ... float64   int32   float64 float64   int32   float64 float64    int32     float64    float64  \n",
       "---------- ---------- ------------------------ ------ ------- ------- --------- ------- ------- --------- ... ------- --------- ------- ------- --------- ------- -------- ---------- ---------- ----------\n",
       "266.602823  -28.60222 VVV J174624.67-283607.99     -1  18.806   0.084         0  17.736   0.053         0 ...   0.034        16     nan     nan         0     nan      nan          0 266.602823  -28.60222\n",
       "266.606742 -28.598289 VVV J174625.61-283553.84     -1  16.278   0.011         0  15.811   0.011         0 ...   0.011        16  14.721   0.027        16  14.421    0.058         16 266.606742 -28.598289\n",
       "266.613329 -28.597491 VVV J174627.19-283550.96     -1  17.865   0.037        16  17.298   0.036        16 ...   0.039        16  16.261   0.111        16     nan      nan          0 266.613329 -28.597491\n",
       "266.611708 -28.596065 VVV J174626.81-283545.83      1  19.567   0.167         0  19.022    0.17         0 ...   0.126         0  15.987   0.086        16  14.496    0.062         16 266.611708 -28.596065\n",
       "266.603496  -28.60398 VVV J174624.83-283614.32     -1  16.636   0.014         0  16.304   0.016         0 ...   0.018         0  14.848    0.03        16  13.669    0.029         16 266.603496  -28.60398\n",
       "266.610196 -28.601597 VVV J174626.44-283605.75     -1  18.836   0.087         0  18.411   0.097         0 ...   0.099         0  17.499   0.345         0     nan      nan          0 266.610196 -28.601597\n",
       "266.613424 -28.595982 VVV J174627.22-283545.53      1  19.395   0.143         0  18.878   0.149         0 ...   0.103        16     nan     nan         0     nan      nan          0 266.613424 -28.595982\n",
       "266.603983  -28.60527 VVV J174624.95-283618.97      1     nan     nan         0     nan     nan         0 ...   0.018         0    13.3   0.008        16  11.588    0.004         16 266.603983  -28.60527\n",
       "266.614028 -28.605808 VVV J174627.36-283620.90     -1  18.678   0.075         0  17.789   0.056         0 ...   0.033        16  14.852    0.03        16     nan      nan          0 266.614028 -28.605808\n",
       "266.608224 -28.601396 VVV J174625.97-283605.02     -1  14.472   0.003         0  14.313   0.004         0 ...   0.004         0  13.345   0.008         0  12.465     0.01          0 266.608224 -28.601396\n",
       "266.606161 -28.599634 VVV J174625.47-283558.68     -1  16.728   0.015         0  15.917   0.011         0 ...   0.009        16  14.024   0.014        16   13.58    0.027         16 266.606161 -28.599634\n",
       "266.609194 -28.596255 VVV J174626.20-283546.51     -1  16.872   0.016        16  16.157   0.014         0 ...   0.012         0  14.642   0.025        16  14.007    0.039         16 266.609194 -28.596255\n",
       "266.605681 -28.602197 VVV J174625.36-283607.90      1  19.784   0.203         0  18.874   0.149         0 ...    0.14         0     nan     nan         0     nan      nan          0 266.605681 -28.602197\n",
       "266.606167 -28.602851 VVV J174625.48-283610.26     -2  18.164   0.048         0  17.741   0.054         0 ...   0.051        16  16.273   0.112        16     nan      nan          0 266.606167 -28.602851\n",
       "266.606797 -28.601727 VVV J174625.63-283606.21     -2  19.734   0.194         0  17.994   0.067         0 ...   0.032         0  15.061   0.037         0  14.123    0.044          0 266.606797 -28.601727\n",
       "266.614177 -28.597853 VVV J174627.40-283552.26     -1  16.828   0.016        16  16.352   0.016        16 ...   0.016        16  15.014   0.035        16     nan      nan          0 266.614177 -28.597853\n",
       "266.608228 -28.599384 VVV J174625.97-283557.78     -1  18.618   0.071         0  18.102   0.074         0 ...   0.096         0     nan     nan         0     nan      nan          0 266.608228 -28.599384\n",
       "266.611239 -28.598081 VVV J174626.69-283553.09     -1  17.081   0.019         0  16.495   0.018         0 ...   0.015        16  14.377    0.02        16  13.366    0.022         16 266.611239 -28.598081\n",
       "266.604212 -28.602032 VVV J174625.01-283607.31     -2     nan     nan         0  19.172   0.195         0 ...   0.241         0     nan     nan         0     nan      nan          0 266.604212 -28.602032\n",
       "266.609519 -28.598202 VVV J174626.28-283553.52     -1     nan     nan         0  19.452   0.251         0 ...   0.084         0     nan     nan         0     nan      nan          0 266.609519 -28.598202\n",
       "266.608604 -28.605855 VVV J174626.06-283621.07     -1     nan     nan         0  17.519   0.044         0 ...   0.003        16   11.13   0.001     65552   8.107    0.001      65552 266.608604 -28.605855\n",
       "266.612621 -28.595392 VVV J174627.02-283543.41     -1     nan     nan         0  18.197    0.08         0 ...   0.008         0  11.468   0.002     65552   9.973    0.002      65552 266.612621 -28.595392\n",
       " 266.61143 -28.604855 VVV J174626.74-283617.47     -1     nan     nan         0     nan     nan         0 ...   0.081         0  14.744   0.028        16  13.345    0.022         16  266.61143 -28.604855\n",
       "266.612291 -28.604951 VVV J174626.94-283617.82     -1     nan     nan         0     nan     nan         0 ...    0.14         0  15.005   0.035        16  13.415    0.023         16 266.612291 -28.604951\n",
       "       ...        ...                      ...    ...     ...     ...       ...     ...     ...       ... ...     ...       ...     ...     ...       ...     ...      ...        ...        ...        ...\n",
       "266.593954 -28.521056 VVV J174622.54-283115.80     -1  19.541   0.161         0  18.476   0.107         0 ...   0.054        16  16.216   0.105        16     nan      nan          0 266.593954 -28.521056\n",
       "266.594571 -28.521793 VVV J174622.69-283118.45     -1   19.42   0.144         0  17.862   0.062         0 ...   0.029        16  15.128   0.039        16  14.228    0.049         16 266.594571 -28.521793\n",
       "266.592453 -28.520984 VVV J174622.18-283115.54     -1     nan     nan         0  16.821   0.025         0 ...   0.003        16  11.204   0.001     65552  10.118    0.001      65552 266.592453 -28.520984\n",
       "266.595912 -28.520939 VVV J174623.01-283115.37      1     nan     nan         0  18.899   0.157         0 ...   0.043        16     nan     nan         0     nan      nan          0 266.595912 -28.520939\n",
       "266.595849 -28.520085 VVV J174623.00-283112.30      1     nan     nan         0     nan     nan         0 ...   0.168        16     nan     nan         0     nan      nan          0 266.595849 -28.520085\n",
       "266.593137 -28.522741 VVV J174622.35-283121.86      1     nan     nan         0     nan     nan         0 ...   0.043        16  14.344   0.019        16  12.827    0.014         16 266.593137 -28.522741\n",
       "266.589841 -28.520251 VVV J174621.56-283112.90     -1     nan     nan         0     nan     nan         0 ...   0.261         0  15.189   0.041        16  13.593    0.027         16 266.589841 -28.520251\n",
       "266.595342 -28.520513 VVV J174622.88-283113.84     -1     nan     nan         0     nan     nan         0 ...   0.061        16  14.584   0.024        16     nan      nan          0 266.595342 -28.520513\n",
       "266.593437 -28.520009 VVV J174622.42-283112.03      1     nan     nan         0     nan     nan         0 ...   0.185         0  15.449   0.052        16   13.96    0.038         16 266.593437 -28.520009\n",
       "266.595303 -28.521214 VVV J174622.87-283116.37     -1     nan     nan         0     nan     nan         0 ...   0.015        16  12.272   0.003        16   9.988    0.002      65552 266.595303 -28.521214\n",
       "266.592055 -28.520043 VVV J174622.09-283112.15     -2     nan     nan         0     nan     nan         0 ...   0.094        16  15.067   0.037        16  13.633    0.028         16 266.592055 -28.520043\n",
       "266.593932 -28.521522 VVV J174622.54-283117.48      1     nan     nan         0     nan     nan         0 ...   0.055        16  14.546   0.023        16  13.253     0.02         16 266.593932 -28.521522\n",
       "266.595958 -28.520048 VVV J174623.02-283112.17      1     nan     nan         0     nan     nan         0 ...   0.053        16  14.171   0.016        16  12.826    0.014         16 266.595958 -28.520048\n",
       "266.593254 -28.521426 VVV J174622.38-283117.13     -2     nan     nan         0     nan     nan         0 ...     nan         0  15.322   0.046        16  14.198    0.048         16 266.593254 -28.521426\n",
       "266.595796 -28.522784 VVV J174622.99-283122.02     -1     nan     nan         0     nan     nan         0 ...     nan         0  16.404   0.125         0  15.042    0.103         16 266.595796 -28.522784\n",
       "266.597432 -28.520321 VVV J174623.38-283113.15     -2     nan     nan         0     nan     nan         0 ...     nan         0  13.648    0.01        16  12.523     0.01         16 266.597432 -28.520321\n",
       "266.593623 -28.523496 VVV J174622.46-283124.58     -3     nan     nan         0     nan     nan         0 ...     nan         0  14.989   0.034        16   13.43    0.024         16 266.593623 -28.523496\n",
       "266.598003 -28.520625 VVV J174623.52-283114.24     -3     nan     nan         0     nan     nan         0 ...     nan         0  16.016   0.088        16     nan      nan          0 266.598003 -28.520625\n",
       "266.593597 -28.522093 VVV J174622.46-283119.53      1     nan     nan         0     nan     nan         0 ...     nan         0  15.763    0.07        16  14.319    0.053         16 266.593597 -28.522093\n",
       "266.598487 -28.520101 VVV J174623.63-283112.36      1     nan     nan         0     nan     nan         0 ...     nan         0  15.366   0.048        16  13.919    0.037         16 266.598487 -28.520101\n",
       "266.596129 -28.522613 VVV J174623.07-283121.40     -1     nan     nan         0     nan     nan         0 ...     nan         0     nan     nan         0   15.46    0.152         16 266.596129 -28.522613\n",
       " 266.59499 -28.520139 VVV J174622.79-283112.49      1     nan     nan         0     nan     nan         0 ...   0.061        16  14.584   0.024        16     nan      nan          0  266.59499 -28.520139\n",
       "266.592745 -28.520205 VVV J174622.25-283112.73     -1     nan     nan         0     nan     nan         0 ...     nan         0     nan     nan         0   14.23    0.049         16 266.592745 -28.520205\n",
       "266.593806 -28.520737 VVV J174622.51-283114.65     -2  19.541   0.161         0  18.476   0.107         0 ...   0.054        16  16.216   0.105        16     nan      nan          0 266.593806 -28.520737"
      ]
     },
     "execution_count": 13,
     "metadata": {},
     "output_type": "execute_result"
    }
   ],
   "source": [
    "Table(vvvcat[1].data)"
   ]
  },
  {
   "cell_type": "code",
   "execution_count": null,
   "id": "fe4b232a-acb2-4930-9b11-6a9ae233db30",
   "metadata": {},
   "outputs": [],
   "source": []
  },
  {
   "cell_type": "code",
   "execution_count": null,
   "id": "338dc706-ffc7-4d36-b444-746a6372b9af",
   "metadata": {},
   "outputs": [],
   "source": []
  },
  {
   "cell_type": "code",
   "execution_count": 2,
   "id": "3dc1b327-feaf-4dc2-bb0a-422ad2d0fe7c",
   "metadata": {},
   "outputs": [
    {
     "name": "stderr",
     "output_type": "stream",
     "text": [
      "2023-08-31 11:15:20,074 - stpipe - INFO - Processing filter F405N module merged\n"
     ]
    },
    {
     "name": "stdout",
     "output_type": "stream",
     "text": [
      "INFO: Processing filter F405N module merged [unknown]\n",
      "2023-08-31T11:15:20.075923: Output directory set as: /orange/adamginsburg/jwst/cloudc/F405N/pipeline/\n"
     ]
    }
   ],
   "source": [
    "#def main(filtername, module, Observations=None, regionname='brick', field='001'):\n",
    "log.info(f\"Processing filter {filtername} module {module}\")\n",
    "# sanity check\n",
    "if regionname == 'brick':\n",
    "    assert field == '001'\n",
    "elif regionname == 'cloudc':\n",
    "    assert field == '002'\n",
    "basepath = f'/orange/adamginsburg/jwst/{regionname}/'\n",
    "os.environ[\"CRDS_PATH\"] = f\"{basepath}/crds/\"\n",
    "os.environ[\"CRDS_SERVER_URL\"] = \"https://jwst-crds.stsci.edu\"\n",
    "mpl.rcParams['savefig.dpi'] = 80\n",
    "mpl.rcParams['figure.dpi'] = 80\n",
    "# Files created in this notebook will be saved\n",
    "# in a subdirectory of the base directory called `Stage3`\n",
    "output_dir = f'/orange/adamginsburg/jwst/{regionname}/{filtername}/pipeline/'\n",
    "print('Output directory set as:', output_dir)\n",
    "if not os.path.exists(output_dir):\n",
    "    os.mkdir(output_dir)\n",
    "os.chdir(output_dir)\n",
    "# the files are one directory up\n",
    "for fn in glob(\"../*cal.fits\"):\n",
    "    try:\n",
    "        os.link(fn, './'+os.path.basename(fn))\n",
    "    except Exception as ex:\n",
    "        print(f'Failed to link {fn} to {os.path.basename(fn)} because of {ex}')\n"
   ]
  },
  {
   "cell_type": "code",
   "execution_count": 3,
   "id": "64e2f9af-c0ac-4791-93fe-abc4a4641f53",
   "metadata": {
    "collapsed": true,
    "jupyter": {
     "outputs_hidden": true
    },
    "tags": []
   },
   "outputs": [
    {
     "name": "stdout",
     "output_type": "stream",
     "text": [
      "2023-08-31T11:15:26.487919: Obs table length: 15\n",
      "2023-08-31T11:15:30.356213: data prodcts by obs length:  29708\n",
      "2023-08-31T11:15:30.835236: products_asn length: 82\n",
      "2023-08-31T11:15:30.835744: asn_mast_data:   obsID   obs_collection dataproduct_type                obs_id                ...  size parent_obsid    dataRights    calib_level\n",
      "--------- -------------- ---------------- ------------------------------------ ... ----- ------------ ---------------- -----------\n",
      " 90191617           JWST            image jw02221-o001_t001_nircam_f405n-f444w ... 15301     90191617           PUBLIC           3\n",
      "127345652           JWST            image jw02221-o002_t001_nircam_f405n-f444w ... 10149    127345652 EXCLUSIVE_ACCESS           3\n",
      " 90106375           JWST            image   jw02221001001_03101_00001_nrcalong ...  1812     90191617           PUBLIC           2\n",
      " 90111555           JWST            image   jw02221001001_03101_00001_nrcblong ...  1812     90191617           PUBLIC           2\n",
      " 90103980           JWST            image   jw02221001001_03101_00002_nrcalong ...  1812     90191617           PUBLIC           2\n",
      " 90112033           JWST            image   jw02221001001_03101_00002_nrcblong ...  1812     90191617           PUBLIC           2\n",
      " 90107860           JWST            image   jw02221001001_03101_00003_nrcalong ...  1812     90191617           PUBLIC           2\n",
      " 90112704           JWST            image   jw02221001001_03101_00003_nrcblong ...  1812     90191617           PUBLIC           2\n",
      " 90104009           JWST            image   jw02221001001_03101_00004_nrcalong ...  1812     90191617           PUBLIC           2\n",
      " 90112856           JWST            image   jw02221001001_03101_00004_nrcblong ...  1812     90191617           PUBLIC           2\n",
      " 90107966           JWST            image   jw02221001001_03101_00005_nrcalong ...  1812     90191617           PUBLIC           2\n",
      " 90111136           JWST            image   jw02221001001_03101_00005_nrcblong ...  1812     90191617           PUBLIC           2\n",
      " 90107203           JWST            image   jw02221001001_03101_00006_nrcalong ...  1812     90191617           PUBLIC           2\n",
      " 90114508           JWST            image   jw02221001001_03101_00006_nrcblong ...  1812     90191617           PUBLIC           2\n",
      " 90104160           JWST            image   jw02221001001_03101_00007_nrcalong ...  1812     90191617           PUBLIC           2\n",
      " 90111791           JWST            image   jw02221001001_03101_00007_nrcblong ...  1812     90191617           PUBLIC           2\n",
      "      ...            ...              ...                                  ... ...   ...          ...              ...         ...\n",
      "129260948           JWST            image   jw02221002002_02201_00001_nrcalong ...  1812    127345652 EXCLUSIVE_ACCESS           2\n",
      "129261015           JWST            image   jw02221002002_02201_00001_nrcblong ...  1812    127345652 EXCLUSIVE_ACCESS           2\n",
      "129260983           JWST            image   jw02221002002_02201_00002_nrcalong ...  1812    127345652 EXCLUSIVE_ACCESS           2\n",
      "129260867           JWST            image   jw02221002002_02201_00002_nrcblong ...  1812    127345652 EXCLUSIVE_ACCESS           2\n",
      "129272101           JWST            image   jw02221002002_02201_00003_nrcalong ...  1812    127345652 EXCLUSIVE_ACCESS           2\n",
      "129272023           JWST            image   jw02221002002_02201_00003_nrcblong ...  1812    127345652 EXCLUSIVE_ACCESS           2\n",
      "129263253           JWST            image   jw02221002002_02201_00004_nrcalong ...  1812    127345652 EXCLUSIVE_ACCESS           2\n",
      "129263219           JWST            image   jw02221002002_02201_00004_nrcblong ...  1812    127345652 EXCLUSIVE_ACCESS           2\n",
      "129272072           JWST            image   jw02221002002_08201_00001_nrcalong ...  1812    127345652 EXCLUSIVE_ACCESS           2\n",
      "129271995           JWST            image   jw02221002002_08201_00001_nrcblong ...  1812    127345652 EXCLUSIVE_ACCESS           2\n",
      "129272042           JWST            image   jw02221002002_08201_00002_nrcalong ...  1812    127345652 EXCLUSIVE_ACCESS           2\n",
      "129272014           JWST            image   jw02221002002_08201_00002_nrcblong ...  1812    127345652 EXCLUSIVE_ACCESS           2\n",
      "129272100           JWST            image   jw02221002002_08201_00003_nrcalong ...  1812    127345652 EXCLUSIVE_ACCESS           2\n",
      "129272011           JWST            image   jw02221002002_08201_00003_nrcblong ...  1812    127345652 EXCLUSIVE_ACCESS           2\n",
      "129272069           JWST            image   jw02221002002_08201_00004_nrcalong ...  1812    127345652 EXCLUSIVE_ACCESS           2\n",
      "129272089           JWST            image   jw02221002002_08201_00004_nrcblong ...  1812    127345652 EXCLUSIVE_ACCESS           2\n",
      "Length = 82 rows\n",
      "Downloading URL https://mast.stsci.edu/api/v0.1/Download/file?uri=mast:JWST/product/jw02221-o001_20230725t121309_image3_00001_asn.json to /orange/adamginsburg/jwst/cloudc/F405N/pipeline/mastDownload/JWST/jw02221-o001_t001_nircam_f405n-f444w/jw02221-o001_20230725t121309_image3_00001_asn.json ... [Done]\n",
      "Downloading URL https://mast.stsci.edu/api/v0.1/Download/file?uri=mast:JWST/product/jw02221-o002_20230725t121309_image3_00005_asn.json to /orange/adamginsburg/jwst/cloudc/F405N/pipeline/mastDownload/JWST/jw02221-o002_t001_nircam_f405n-f444w/jw02221-o002_20230725t121309_image3_00005_asn.json ... [Done]\n",
      "Downloading URL https://mast.stsci.edu/api/v0.1/Download/file?uri=mast:JWST/product/jw02221-o001_20230725t121309_image2_00706_asn.json to /orange/adamginsburg/jwst/cloudc/F405N/pipeline/mastDownload/JWST/jw02221001001_03101_00001_nrcalong/jw02221-o001_20230725t121309_image2_00706_asn.json ... [Done]\n",
      "Downloading URL https://mast.stsci.edu/api/v0.1/Download/file?uri=mast:JWST/product/jw02221-o001_20230725t121309_image2_00717_asn.json to /orange/adamginsburg/jwst/cloudc/F405N/pipeline/mastDownload/JWST/jw02221001001_03101_00001_nrcblong/jw02221-o001_20230725t121309_image2_00717_asn.json ... [Done]\n",
      "Downloading URL https://mast.stsci.edu/api/v0.1/Download/file?uri=mast:JWST/product/jw02221-o001_20230725t121309_image2_00757_asn.json to /orange/adamginsburg/jwst/cloudc/F405N/pipeline/mastDownload/JWST/jw02221001001_03101_00002_nrcalong/jw02221-o001_20230725t121309_image2_00757_asn.json ... [Done]\n",
      "Downloading URL https://mast.stsci.edu/api/v0.1/Download/file?uri=mast:JWST/product/jw02221-o001_20230725t121309_image2_00788_asn.json to /orange/adamginsburg/jwst/cloudc/F405N/pipeline/mastDownload/JWST/jw02221001001_03101_00002_nrcblong/jw02221-o001_20230725t121309_image2_00788_asn.json ... [Done]\n",
      "Downloading URL https://mast.stsci.edu/api/v0.1/Download/file?uri=mast:JWST/product/jw02221-o001_20230725t121309_image2_00695_asn.json to /orange/adamginsburg/jwst/cloudc/F405N/pipeline/mastDownload/JWST/jw02221001001_03101_00003_nrcalong/jw02221-o001_20230725t121309_image2_00695_asn.json ... [Done]\n",
      "Downloading URL https://mast.stsci.edu/api/v0.1/Download/file?uri=mast:JWST/product/jw02221-o001_20230725t121309_image2_00765_asn.json to /orange/adamginsburg/jwst/cloudc/F405N/pipeline/mastDownload/JWST/jw02221001001_03101_00003_nrcblong/jw02221-o001_20230725t121309_image2_00765_asn.json ... [Done]\n",
      "Downloading URL https://mast.stsci.edu/api/v0.1/Download/file?uri=mast:JWST/product/jw02221-o001_20230725t121309_image2_00760_asn.json to /orange/adamginsburg/jwst/cloudc/F405N/pipeline/mastDownload/JWST/jw02221001001_03101_00004_nrcalong/jw02221-o001_20230725t121309_image2_00760_asn.json ... [Done]\n",
      "Downloading URL https://mast.stsci.edu/api/v0.1/Download/file?uri=mast:JWST/product/jw02221-o001_20230725t121309_image2_00762_asn.json to /orange/adamginsburg/jwst/cloudc/F405N/pipeline/mastDownload/JWST/jw02221001001_03101_00004_nrcblong/jw02221-o001_20230725t121309_image2_00762_asn.json ... [Done]\n",
      "Downloading URL https://mast.stsci.edu/api/v0.1/Download/file?uri=mast:JWST/product/jw02221-o001_20230725t121309_image2_00782_asn.json to /orange/adamginsburg/jwst/cloudc/F405N/pipeline/mastDownload/JWST/jw02221001001_03101_00005_nrcalong/jw02221-o001_20230725t121309_image2_00782_asn.json ... [Done]\n",
      "Downloading URL https://mast.stsci.edu/api/v0.1/Download/file?uri=mast:JWST/product/jw02221-o001_20230725t121309_image2_00743_asn.json to /orange/adamginsburg/jwst/cloudc/F405N/pipeline/mastDownload/JWST/jw02221001001_03101_00005_nrcblong/jw02221-o001_20230725t121309_image2_00743_asn.json ... [Done]\n",
      "Downloading URL https://mast.stsci.edu/api/v0.1/Download/file?uri=mast:JWST/product/jw02221-o001_20230725t121309_image2_00772_asn.json to /orange/adamginsburg/jwst/cloudc/F405N/pipeline/mastDownload/JWST/jw02221001001_03101_00006_nrcalong/jw02221-o001_20230725t121309_image2_00772_asn.json ... [Done]\n",
      "Downloading URL https://mast.stsci.edu/api/v0.1/Download/file?uri=mast:JWST/product/jw02221-o001_20230725t121309_image2_00780_asn.json to /orange/adamginsburg/jwst/cloudc/F405N/pipeline/mastDownload/JWST/jw02221001001_03101_00006_nrcblong/jw02221-o001_20230725t121309_image2_00780_asn.json ... [Done]\n",
      "Downloading URL https://mast.stsci.edu/api/v0.1/Download/file?uri=mast:JWST/product/jw02221-o001_20230725t121309_image2_00739_asn.json to /orange/adamginsburg/jwst/cloudc/F405N/pipeline/mastDownload/JWST/jw02221001001_03101_00007_nrcalong/jw02221-o001_20230725t121309_image2_00739_asn.json ... [Done]\n",
      "Downloading URL https://mast.stsci.edu/api/v0.1/Download/file?uri=mast:JWST/product/jw02221-o001_20230725t121309_image2_00694_asn.json to /orange/adamginsburg/jwst/cloudc/F405N/pipeline/mastDownload/JWST/jw02221001001_03101_00007_nrcblong/jw02221-o001_20230725t121309_image2_00694_asn.json ... [Done]\n",
      "Downloading URL https://mast.stsci.edu/api/v0.1/Download/file?uri=mast:JWST/product/jw02221-o001_20230725t121309_image2_00683_asn.json to /orange/adamginsburg/jwst/cloudc/F405N/pipeline/mastDownload/JWST/jw02221001001_03101_00008_nrcalong/jw02221-o001_20230725t121309_image2_00683_asn.json ... [Done]\n",
      "Downloading URL https://mast.stsci.edu/api/v0.1/Download/file?uri=mast:JWST/product/jw02221-o001_20230725t121309_image2_00720_asn.json to /orange/adamginsburg/jwst/cloudc/F405N/pipeline/mastDownload/JWST/jw02221001001_03101_00008_nrcblong/jw02221-o001_20230725t121309_image2_00720_asn.json ... [Done]\n",
      "Downloading URL https://mast.stsci.edu/api/v0.1/Download/file?uri=mast:JWST/product/jw02221-o001_20230725t121309_image2_00759_asn.json to /orange/adamginsburg/jwst/cloudc/F405N/pipeline/mastDownload/JWST/jw02221001001_03101_00009_nrcalong/jw02221-o001_20230725t121309_image2_00759_asn.json ... [Done]\n",
      "Downloading URL https://mast.stsci.edu/api/v0.1/Download/file?uri=mast:JWST/product/jw02221-o001_20230725t121309_image2_00674_asn.json to /orange/adamginsburg/jwst/cloudc/F405N/pipeline/mastDownload/JWST/jw02221001001_03101_00009_nrcblong/jw02221-o001_20230725t121309_image2_00674_asn.json ... [Done]\n",
      "Downloading URL https://mast.stsci.edu/api/v0.1/Download/file?uri=mast:JWST/product/jw02221-o001_20230725t121309_image2_00684_asn.json to /orange/adamginsburg/jwst/cloudc/F405N/pipeline/mastDownload/JWST/jw02221001001_03101_00010_nrcalong/jw02221-o001_20230725t121309_image2_00684_asn.json ... [Done]\n",
      "Downloading URL https://mast.stsci.edu/api/v0.1/Download/file?uri=mast:JWST/product/jw02221-o001_20230725t121309_image2_00707_asn.json to /orange/adamginsburg/jwst/cloudc/F405N/pipeline/mastDownload/JWST/jw02221001001_03101_00010_nrcblong/jw02221-o001_20230725t121309_image2_00707_asn.json ... [Done]\n",
      "Downloading URL https://mast.stsci.edu/api/v0.1/Download/file?uri=mast:JWST/product/jw02221-o001_20230725t121309_image2_00746_asn.json to /orange/adamginsburg/jwst/cloudc/F405N/pipeline/mastDownload/JWST/jw02221001001_03101_00011_nrcalong/jw02221-o001_20230725t121309_image2_00746_asn.json ... [Done]\n",
      "Downloading URL https://mast.stsci.edu/api/v0.1/Download/file?uri=mast:JWST/product/jw02221-o001_20230725t121309_image2_00778_asn.json to /orange/adamginsburg/jwst/cloudc/F405N/pipeline/mastDownload/JWST/jw02221001001_03101_00011_nrcblong/jw02221-o001_20230725t121309_image2_00778_asn.json ... [Done]\n",
      "Downloading URL https://mast.stsci.edu/api/v0.1/Download/file?uri=mast:JWST/product/jw02221-o001_20230725t121309_image2_00617_asn.json to /orange/adamginsburg/jwst/cloudc/F405N/pipeline/mastDownload/JWST/jw02221001001_03101_00012_nrcalong/jw02221-o001_20230725t121309_image2_00617_asn.json ... [Done]\n",
      "Downloading URL https://mast.stsci.edu/api/v0.1/Download/file?uri=mast:JWST/product/jw02221-o001_20230725t121309_image2_00563_asn.json to /orange/adamginsburg/jwst/cloudc/F405N/pipeline/mastDownload/JWST/jw02221001001_03101_00012_nrcblong/jw02221-o001_20230725t121309_image2_00563_asn.json ... [Done]\n",
      "Downloading URL https://mast.stsci.edu/api/v0.1/Download/file?uri=mast:JWST/product/jw02221-o001_20230725t121309_image2_00602_asn.json to /orange/adamginsburg/jwst/cloudc/F405N/pipeline/mastDownload/JWST/jw02221001001_03101_00013_nrcalong/jw02221-o001_20230725t121309_image2_00602_asn.json ... [Done]\n",
      "Downloading URL https://mast.stsci.edu/api/v0.1/Download/file?uri=mast:JWST/product/jw02221-o001_20230725t121309_image2_00654_asn.json to /orange/adamginsburg/jwst/cloudc/F405N/pipeline/mastDownload/JWST/jw02221001001_03101_00013_nrcblong/jw02221-o001_20230725t121309_image2_00654_asn.json ... [Done]\n",
      "Downloading URL https://mast.stsci.edu/api/v0.1/Download/file?uri=mast:JWST/product/jw02221-o001_20230725t121309_image2_00593_asn.json to /orange/adamginsburg/jwst/cloudc/F405N/pipeline/mastDownload/JWST/jw02221001001_03101_00014_nrcalong/jw02221-o001_20230725t121309_image2_00593_asn.json ... [Done]\n",
      "Downloading URL https://mast.stsci.edu/api/v0.1/Download/file?uri=mast:JWST/product/jw02221-o001_20230725t121309_image2_00598_asn.json to /orange/adamginsburg/jwst/cloudc/F405N/pipeline/mastDownload/JWST/jw02221001001_03101_00014_nrcblong/jw02221-o001_20230725t121309_image2_00598_asn.json ... [Done]\n",
      "Downloading URL https://mast.stsci.edu/api/v0.1/Download/file?uri=mast:JWST/product/jw02221-o001_20230725t121309_image2_00628_asn.json to /orange/adamginsburg/jwst/cloudc/F405N/pipeline/mastDownload/JWST/jw02221001001_03101_00015_nrcalong/jw02221-o001_20230725t121309_image2_00628_asn.json ... [Done]\n",
      "Downloading URL https://mast.stsci.edu/api/v0.1/Download/file?uri=mast:JWST/product/jw02221-o001_20230725t121309_image2_00548_asn.json to /orange/adamginsburg/jwst/cloudc/F405N/pipeline/mastDownload/JWST/jw02221001001_03101_00015_nrcblong/jw02221-o001_20230725t121309_image2_00548_asn.json ... [Done]\n",
      "Downloading URL https://mast.stsci.edu/api/v0.1/Download/file?uri=mast:JWST/product/jw02221-o001_20230725t121309_image2_00644_asn.json to /orange/adamginsburg/jwst/cloudc/F405N/pipeline/mastDownload/JWST/jw02221001001_03101_00016_nrcalong/jw02221-o001_20230725t121309_image2_00644_asn.json ... [Done]\n",
      "Downloading URL https://mast.stsci.edu/api/v0.1/Download/file?uri=mast:JWST/product/jw02221-o001_20230725t121309_image2_00632_asn.json to /orange/adamginsburg/jwst/cloudc/F405N/pipeline/mastDownload/JWST/jw02221001001_03101_00016_nrcblong/jw02221-o001_20230725t121309_image2_00632_asn.json ... [Done]\n",
      "Downloading URL https://mast.stsci.edu/api/v0.1/Download/file?uri=mast:JWST/product/jw02221-o001_20230725t121309_image2_00626_asn.json to /orange/adamginsburg/jwst/cloudc/F405N/pipeline/mastDownload/JWST/jw02221001001_03101_00017_nrcalong/jw02221-o001_20230725t121309_image2_00626_asn.json ... [Done]\n",
      "Downloading URL https://mast.stsci.edu/api/v0.1/Download/file?uri=mast:JWST/product/jw02221-o001_20230725t121309_image2_00564_asn.json to /orange/adamginsburg/jwst/cloudc/F405N/pipeline/mastDownload/JWST/jw02221001001_03101_00017_nrcblong/jw02221-o001_20230725t121309_image2_00564_asn.json ... [Done]\n",
      "Downloading URL https://mast.stsci.edu/api/v0.1/Download/file?uri=mast:JWST/product/jw02221-o001_20230725t121309_image2_00660_asn.json to /orange/adamginsburg/jwst/cloudc/F405N/pipeline/mastDownload/JWST/jw02221001001_03101_00018_nrcalong/jw02221-o001_20230725t121309_image2_00660_asn.json ... [Done]\n",
      "Downloading URL https://mast.stsci.edu/api/v0.1/Download/file?uri=mast:JWST/product/jw02221-o001_20230725t121309_image2_00635_asn.json to /orange/adamginsburg/jwst/cloudc/F405N/pipeline/mastDownload/JWST/jw02221001001_03101_00018_nrcblong/jw02221-o001_20230725t121309_image2_00635_asn.json ... [Done]\n",
      "Downloading URL https://mast.stsci.edu/api/v0.1/Download/file?uri=mast:JWST/product/jw02221-o001_20230725t121309_image2_00585_asn.json to /orange/adamginsburg/jwst/cloudc/F405N/pipeline/mastDownload/JWST/jw02221001001_03101_00019_nrcalong/jw02221-o001_20230725t121309_image2_00585_asn.json ... [Done]\n",
      "Downloading URL https://mast.stsci.edu/api/v0.1/Download/file?uri=mast:JWST/product/jw02221-o001_20230725t121309_image2_00633_asn.json to /orange/adamginsburg/jwst/cloudc/F405N/pipeline/mastDownload/JWST/jw02221001001_03101_00019_nrcblong/jw02221-o001_20230725t121309_image2_00633_asn.json ... [Done]\n",
      "Downloading URL https://mast.stsci.edu/api/v0.1/Download/file?uri=mast:JWST/product/jw02221-o001_20230725t121309_image2_00612_asn.json to /orange/adamginsburg/jwst/cloudc/F405N/pipeline/mastDownload/JWST/jw02221001001_03101_00020_nrcalong/jw02221-o001_20230725t121309_image2_00612_asn.json ... [Done]\n",
      "Downloading URL https://mast.stsci.edu/api/v0.1/Download/file?uri=mast:JWST/product/jw02221-o001_20230725t121309_image2_00540_asn.json to /orange/adamginsburg/jwst/cloudc/F405N/pipeline/mastDownload/JWST/jw02221001001_03101_00020_nrcblong/jw02221-o001_20230725t121309_image2_00540_asn.json ... [Done]\n",
      "Downloading URL https://mast.stsci.edu/api/v0.1/Download/file?uri=mast:JWST/product/jw02221-o001_20230725t121309_image2_00576_asn.json to /orange/adamginsburg/jwst/cloudc/F405N/pipeline/mastDownload/JWST/jw02221001001_03101_00021_nrcalong/jw02221-o001_20230725t121309_image2_00576_asn.json ... [Done]\n",
      "Downloading URL https://mast.stsci.edu/api/v0.1/Download/file?uri=mast:JWST/product/jw02221-o001_20230725t121309_image2_00555_asn.json to /orange/adamginsburg/jwst/cloudc/F405N/pipeline/mastDownload/JWST/jw02221001001_03101_00021_nrcblong/jw02221-o001_20230725t121309_image2_00555_asn.json ... [Done]\n",
      "Downloading URL https://mast.stsci.edu/api/v0.1/Download/file?uri=mast:JWST/product/jw02221-o001_20230725t121309_image2_00653_asn.json to /orange/adamginsburg/jwst/cloudc/F405N/pipeline/mastDownload/JWST/jw02221001001_03101_00022_nrcalong/jw02221-o001_20230725t121309_image2_00653_asn.json ... [Done]\n",
      "Downloading URL https://mast.stsci.edu/api/v0.1/Download/file?uri=mast:JWST/product/jw02221-o001_20230725t121309_image2_00664_asn.json to /orange/adamginsburg/jwst/cloudc/F405N/pipeline/mastDownload/JWST/jw02221001001_03101_00022_nrcblong/jw02221-o001_20230725t121309_image2_00664_asn.json ... [Done]\n",
      "Downloading URL https://mast.stsci.edu/api/v0.1/Download/file?uri=mast:JWST/product/jw02221-o001_20230725t121309_image2_00533_asn.json to /orange/adamginsburg/jwst/cloudc/F405N/pipeline/mastDownload/JWST/jw02221001001_03101_00023_nrcalong/jw02221-o001_20230725t121309_image2_00533_asn.json ... [Done]\n",
      "Downloading URL https://mast.stsci.edu/api/v0.1/Download/file?uri=mast:JWST/product/jw02221-o001_20230725t121309_image2_00536_asn.json to /orange/adamginsburg/jwst/cloudc/F405N/pipeline/mastDownload/JWST/jw02221001001_03101_00023_nrcblong/jw02221-o001_20230725t121309_image2_00536_asn.json ... [Done]\n",
      "Downloading URL https://mast.stsci.edu/api/v0.1/Download/file?uri=mast:JWST/product/jw02221-o001_20230725t121309_image2_00499_asn.json to /orange/adamginsburg/jwst/cloudc/F405N/pipeline/mastDownload/JWST/jw02221001001_03101_00024_nrcalong/jw02221-o001_20230725t121309_image2_00499_asn.json ... [Done]\n",
      "Downloading URL https://mast.stsci.edu/api/v0.1/Download/file?uri=mast:JWST/product/jw02221-o001_20230725t121309_image2_00642_asn.json to /orange/adamginsburg/jwst/cloudc/F405N/pipeline/mastDownload/JWST/jw02221001001_03101_00024_nrcblong/jw02221-o001_20230725t121309_image2_00642_asn.json ... [Done]\n",
      "Downloading URL https://mast.stsci.edu/api/v0.1/Download/file?uri=mast:JWST/product/jw02221-o002_20230725t121309_image2_00475_asn.json to /orange/adamginsburg/jwst/cloudc/F405N/pipeline/mastDownload/JWST/jw02221002001_02201_00001_nrcalong/jw02221-o002_20230725t121309_image2_00475_asn.json ... [Done]\n",
      "Downloading URL https://mast.stsci.edu/api/v0.1/Download/file?uri=mast:JWST/product/jw02221-o002_20230725t121309_image2_00461_asn.json to /orange/adamginsburg/jwst/cloudc/F405N/pipeline/mastDownload/JWST/jw02221002001_02201_00001_nrcblong/jw02221-o002_20230725t121309_image2_00461_asn.json ... [Done]\n",
      "Downloading URL https://mast.stsci.edu/api/v0.1/Download/file?uri=mast:JWST/product/jw02221-o002_20230725t121309_image2_00500_asn.json to /orange/adamginsburg/jwst/cloudc/F405N/pipeline/mastDownload/JWST/jw02221002001_02201_00002_nrcalong/jw02221-o002_20230725t121309_image2_00500_asn.json ... [Done]\n",
      "Downloading URL https://mast.stsci.edu/api/v0.1/Download/file?uri=mast:JWST/product/jw02221-o002_20230725t121309_image2_00451_asn.json to /orange/adamginsburg/jwst/cloudc/F405N/pipeline/mastDownload/JWST/jw02221002001_02201_00002_nrcblong/jw02221-o002_20230725t121309_image2_00451_asn.json ... [Done]\n",
      "Downloading URL https://mast.stsci.edu/api/v0.1/Download/file?uri=mast:JWST/product/jw02221-o002_20230725t121309_image2_00492_asn.json to /orange/adamginsburg/jwst/cloudc/F405N/pipeline/mastDownload/JWST/jw02221002001_02201_00003_nrcalong/jw02221-o002_20230725t121309_image2_00492_asn.json ... [Done]\n",
      "Downloading URL https://mast.stsci.edu/api/v0.1/Download/file?uri=mast:JWST/product/jw02221-o002_20230725t121309_image2_00453_asn.json to /orange/adamginsburg/jwst/cloudc/F405N/pipeline/mastDownload/JWST/jw02221002001_02201_00003_nrcblong/jw02221-o002_20230725t121309_image2_00453_asn.json ... [Done]\n",
      "Downloading URL https://mast.stsci.edu/api/v0.1/Download/file?uri=mast:JWST/product/jw02221-o002_20230725t121309_image2_00511_asn.json to /orange/adamginsburg/jwst/cloudc/F405N/pipeline/mastDownload/JWST/jw02221002001_02201_00004_nrcalong/jw02221-o002_20230725t121309_image2_00511_asn.json ... [Done]\n",
      "Downloading URL https://mast.stsci.edu/api/v0.1/Download/file?uri=mast:JWST/product/jw02221-o002_20230725t121309_image2_00411_asn.json to /orange/adamginsburg/jwst/cloudc/F405N/pipeline/mastDownload/JWST/jw02221002001_02201_00004_nrcblong/jw02221-o002_20230725t121309_image2_00411_asn.json ... [Done]\n",
      "Downloading URL https://mast.stsci.edu/api/v0.1/Download/file?uri=mast:JWST/product/jw02221-o002_20230725t121309_image2_00392_asn.json to /orange/adamginsburg/jwst/cloudc/F405N/pipeline/mastDownload/JWST/jw02221002001_08201_00001_nrcalong/jw02221-o002_20230725t121309_image2_00392_asn.json ... [Done]\n",
      "Downloading URL https://mast.stsci.edu/api/v0.1/Download/file?uri=mast:JWST/product/jw02221-o002_20230725t121309_image2_00447_asn.json to /orange/adamginsburg/jwst/cloudc/F405N/pipeline/mastDownload/JWST/jw02221002001_08201_00001_nrcblong/jw02221-o002_20230725t121309_image2_00447_asn.json ... [Done]\n",
      "Downloading URL https://mast.stsci.edu/api/v0.1/Download/file?uri=mast:JWST/product/jw02221-o002_20230725t121309_image2_00388_asn.json to /orange/adamginsburg/jwst/cloudc/F405N/pipeline/mastDownload/JWST/jw02221002001_08201_00002_nrcalong/jw02221-o002_20230725t121309_image2_00388_asn.json ... [Done]\n",
      "Downloading URL https://mast.stsci.edu/api/v0.1/Download/file?uri=mast:JWST/product/jw02221-o002_20230725t121309_image2_00175_asn.json to /orange/adamginsburg/jwst/cloudc/F405N/pipeline/mastDownload/JWST/jw02221002001_08201_00002_nrcblong/jw02221-o002_20230725t121309_image2_00175_asn.json ... [Done]\n",
      "Downloading URL https://mast.stsci.edu/api/v0.1/Download/file?uri=mast:JWST/product/jw02221-o002_20230725t121309_image2_00212_asn.json to /orange/adamginsburg/jwst/cloudc/F405N/pipeline/mastDownload/JWST/jw02221002001_08201_00003_nrcalong/jw02221-o002_20230725t121309_image2_00212_asn.json ... [Done]\n",
      "Downloading URL https://mast.stsci.edu/api/v0.1/Download/file?uri=mast:JWST/product/jw02221-o002_20230725t121309_image2_00351_asn.json to /orange/adamginsburg/jwst/cloudc/F405N/pipeline/mastDownload/JWST/jw02221002001_08201_00003_nrcblong/jw02221-o002_20230725t121309_image2_00351_asn.json ... [Done]\n",
      "Downloading URL https://mast.stsci.edu/api/v0.1/Download/file?uri=mast:JWST/product/jw02221-o002_20230725t121309_image2_00354_asn.json to /orange/adamginsburg/jwst/cloudc/F405N/pipeline/mastDownload/JWST/jw02221002001_08201_00004_nrcalong/jw02221-o002_20230725t121309_image2_00354_asn.json ... [Done]\n",
      "Downloading URL https://mast.stsci.edu/api/v0.1/Download/file?uri=mast:JWST/product/jw02221-o002_20230725t121309_image2_00382_asn.json to /orange/adamginsburg/jwst/cloudc/F405N/pipeline/mastDownload/JWST/jw02221002001_08201_00004_nrcblong/jw02221-o002_20230725t121309_image2_00382_asn.json ... [Done]\n",
      "Downloading URL https://mast.stsci.edu/api/v0.1/Download/file?uri=mast:JWST/product/jw02221-o002_20230725t121309_image2_00317_asn.json to /orange/adamginsburg/jwst/cloudc/F405N/pipeline/mastDownload/JWST/jw02221002002_02201_00001_nrcalong/jw02221-o002_20230725t121309_image2_00317_asn.json ... [Done]\n",
      "Downloading URL https://mast.stsci.edu/api/v0.1/Download/file?uri=mast:JWST/product/jw02221-o002_20230725t121309_image2_00329_asn.json to /orange/adamginsburg/jwst/cloudc/F405N/pipeline/mastDownload/JWST/jw02221002002_02201_00001_nrcblong/jw02221-o002_20230725t121309_image2_00329_asn.json ... [Done]\n",
      "Downloading URL https://mast.stsci.edu/api/v0.1/Download/file?uri=mast:JWST/product/jw02221-o002_20230725t121309_image2_00356_asn.json to /orange/adamginsburg/jwst/cloudc/F405N/pipeline/mastDownload/JWST/jw02221002002_02201_00002_nrcalong/jw02221-o002_20230725t121309_image2_00356_asn.json ... [Done]\n",
      "Downloading URL https://mast.stsci.edu/api/v0.1/Download/file?uri=mast:JWST/product/jw02221-o002_20230725t121309_image2_00102_asn.json to /orange/adamginsburg/jwst/cloudc/F405N/pipeline/mastDownload/JWST/jw02221002002_02201_00002_nrcblong/jw02221-o002_20230725t121309_image2_00102_asn.json ... [Done]\n",
      "Downloading URL https://mast.stsci.edu/api/v0.1/Download/file?uri=mast:JWST/product/jw02221-o002_20230725t121309_image2_00318_asn.json to /orange/adamginsburg/jwst/cloudc/F405N/pipeline/mastDownload/JWST/jw02221002002_02201_00003_nrcalong/jw02221-o002_20230725t121309_image2_00318_asn.json ... [Done]\n",
      "Downloading URL https://mast.stsci.edu/api/v0.1/Download/file?uri=mast:JWST/product/jw02221-o002_20230725t121309_image2_00324_asn.json to /orange/adamginsburg/jwst/cloudc/F405N/pipeline/mastDownload/JWST/jw02221002002_02201_00003_nrcblong/jw02221-o002_20230725t121309_image2_00324_asn.json ... [Done]\n",
      "Downloading URL https://mast.stsci.edu/api/v0.1/Download/file?uri=mast:JWST/product/jw02221-o002_20230725t121309_image2_00414_asn.json to /orange/adamginsburg/jwst/cloudc/F405N/pipeline/mastDownload/JWST/jw02221002002_02201_00004_nrcalong/jw02221-o002_20230725t121309_image2_00414_asn.json ... [Done]\n",
      "Downloading URL https://mast.stsci.edu/api/v0.1/Download/file?uri=mast:JWST/product/jw02221-o002_20230725t121309_image2_00245_asn.json to /orange/adamginsburg/jwst/cloudc/F405N/pipeline/mastDownload/JWST/jw02221002002_02201_00004_nrcblong/jw02221-o002_20230725t121309_image2_00245_asn.json ... [Done]\n",
      "Downloading URL https://mast.stsci.edu/api/v0.1/Download/file?uri=mast:JWST/product/jw02221-o002_20230725t121309_image2_00109_asn.json to /orange/adamginsburg/jwst/cloudc/F405N/pipeline/mastDownload/JWST/jw02221002002_08201_00001_nrcalong/jw02221-o002_20230725t121309_image2_00109_asn.json ... [Done]\n",
      "Downloading URL https://mast.stsci.edu/api/v0.1/Download/file?uri=mast:JWST/product/jw02221-o002_20230725t121309_image2_00204_asn.json to /orange/adamginsburg/jwst/cloudc/F405N/pipeline/mastDownload/JWST/jw02221002002_08201_00001_nrcblong/jw02221-o002_20230725t121309_image2_00204_asn.json ... [Done]\n",
      "Downloading URL https://mast.stsci.edu/api/v0.1/Download/file?uri=mast:JWST/product/jw02221-o002_20230725t121309_image2_00258_asn.json to /orange/adamginsburg/jwst/cloudc/F405N/pipeline/mastDownload/JWST/jw02221002002_08201_00002_nrcalong/jw02221-o002_20230725t121309_image2_00258_asn.json ... [Done]\n",
      "Downloading URL https://mast.stsci.edu/api/v0.1/Download/file?uri=mast:JWST/product/jw02221-o002_20230725t121309_image2_00032_asn.json to /orange/adamginsburg/jwst/cloudc/F405N/pipeline/mastDownload/JWST/jw02221002002_08201_00002_nrcblong/jw02221-o002_20230725t121309_image2_00032_asn.json ... [Done]\n",
      "Downloading URL https://mast.stsci.edu/api/v0.1/Download/file?uri=mast:JWST/product/jw02221-o002_20230725t121309_image2_00074_asn.json to /orange/adamginsburg/jwst/cloudc/F405N/pipeline/mastDownload/JWST/jw02221002002_08201_00003_nrcalong/jw02221-o002_20230725t121309_image2_00074_asn.json ... [Done]\n",
      "Downloading URL https://mast.stsci.edu/api/v0.1/Download/file?uri=mast:JWST/product/jw02221-o002_20230725t121309_image2_00120_asn.json to /orange/adamginsburg/jwst/cloudc/F405N/pipeline/mastDownload/JWST/jw02221002002_08201_00003_nrcblong/jw02221-o002_20230725t121309_image2_00120_asn.json ... [Done]\n",
      "Downloading URL https://mast.stsci.edu/api/v0.1/Download/file?uri=mast:JWST/product/jw02221-o002_20230725t121309_image2_00065_asn.json to /orange/adamginsburg/jwst/cloudc/F405N/pipeline/mastDownload/JWST/jw02221002002_08201_00004_nrcalong/jw02221-o002_20230725t121309_image2_00065_asn.json ... [Done]\n",
      "Downloading URL https://mast.stsci.edu/api/v0.1/Download/file?uri=mast:JWST/product/jw02221-o002_20230725t121309_image2_00004_asn.json to /orange/adamginsburg/jwst/cloudc/F405N/pipeline/mastDownload/JWST/jw02221002002_08201_00004_nrcblong/jw02221-o002_20230725t121309_image2_00004_asn.json ... [Done]\n",
      "2023-08-31T11:15:48.245822: manifest:                                                                         Local Path                                                                        ...\n",
      "--------------------------------------------------------------------------------------------------------------------------------------------------------- ...\n",
      "/orange/adamginsburg/jwst/cloudc/F405N/pipeline/mastDownload/JWST/jw02221-o001_t001_nircam_f405n-f444w/jw02221-o001_20230725t121309_image3_00001_asn.json ...\n",
      "/orange/adamginsburg/jwst/cloudc/F405N/pipeline/mastDownload/JWST/jw02221-o002_t001_nircam_f405n-f444w/jw02221-o002_20230725t121309_image3_00005_asn.json ...\n",
      "  /orange/adamginsburg/jwst/cloudc/F405N/pipeline/mastDownload/JWST/jw02221001001_03101_00001_nrcalong/jw02221-o001_20230725t121309_image2_00706_asn.json ...\n",
      "  /orange/adamginsburg/jwst/cloudc/F405N/pipeline/mastDownload/JWST/jw02221001001_03101_00001_nrcblong/jw02221-o001_20230725t121309_image2_00717_asn.json ...\n",
      "  /orange/adamginsburg/jwst/cloudc/F405N/pipeline/mastDownload/JWST/jw02221001001_03101_00002_nrcalong/jw02221-o001_20230725t121309_image2_00757_asn.json ...\n",
      "  /orange/adamginsburg/jwst/cloudc/F405N/pipeline/mastDownload/JWST/jw02221001001_03101_00002_nrcblong/jw02221-o001_20230725t121309_image2_00788_asn.json ...\n",
      "  /orange/adamginsburg/jwst/cloudc/F405N/pipeline/mastDownload/JWST/jw02221001001_03101_00003_nrcalong/jw02221-o001_20230725t121309_image2_00695_asn.json ...\n",
      "  /orange/adamginsburg/jwst/cloudc/F405N/pipeline/mastDownload/JWST/jw02221001001_03101_00003_nrcblong/jw02221-o001_20230725t121309_image2_00765_asn.json ...\n",
      "  /orange/adamginsburg/jwst/cloudc/F405N/pipeline/mastDownload/JWST/jw02221001001_03101_00004_nrcalong/jw02221-o001_20230725t121309_image2_00760_asn.json ...\n",
      "  /orange/adamginsburg/jwst/cloudc/F405N/pipeline/mastDownload/JWST/jw02221001001_03101_00004_nrcblong/jw02221-o001_20230725t121309_image2_00762_asn.json ...\n",
      "  /orange/adamginsburg/jwst/cloudc/F405N/pipeline/mastDownload/JWST/jw02221001001_03101_00005_nrcalong/jw02221-o001_20230725t121309_image2_00782_asn.json ...\n",
      "  /orange/adamginsburg/jwst/cloudc/F405N/pipeline/mastDownload/JWST/jw02221001001_03101_00005_nrcblong/jw02221-o001_20230725t121309_image2_00743_asn.json ...\n",
      "  /orange/adamginsburg/jwst/cloudc/F405N/pipeline/mastDownload/JWST/jw02221001001_03101_00006_nrcalong/jw02221-o001_20230725t121309_image2_00772_asn.json ...\n",
      "  /orange/adamginsburg/jwst/cloudc/F405N/pipeline/mastDownload/JWST/jw02221001001_03101_00006_nrcblong/jw02221-o001_20230725t121309_image2_00780_asn.json ...\n",
      "  /orange/adamginsburg/jwst/cloudc/F405N/pipeline/mastDownload/JWST/jw02221001001_03101_00007_nrcalong/jw02221-o001_20230725t121309_image2_00739_asn.json ...\n",
      "  /orange/adamginsburg/jwst/cloudc/F405N/pipeline/mastDownload/JWST/jw02221001001_03101_00007_nrcblong/jw02221-o001_20230725t121309_image2_00694_asn.json ...\n",
      "                                                                                                                                                      ... ...\n",
      "  /orange/adamginsburg/jwst/cloudc/F405N/pipeline/mastDownload/JWST/jw02221002002_02201_00001_nrcalong/jw02221-o002_20230725t121309_image2_00317_asn.json ...\n",
      "  /orange/adamginsburg/jwst/cloudc/F405N/pipeline/mastDownload/JWST/jw02221002002_02201_00001_nrcblong/jw02221-o002_20230725t121309_image2_00329_asn.json ...\n",
      "  /orange/adamginsburg/jwst/cloudc/F405N/pipeline/mastDownload/JWST/jw02221002002_02201_00002_nrcalong/jw02221-o002_20230725t121309_image2_00356_asn.json ...\n",
      "  /orange/adamginsburg/jwst/cloudc/F405N/pipeline/mastDownload/JWST/jw02221002002_02201_00002_nrcblong/jw02221-o002_20230725t121309_image2_00102_asn.json ...\n",
      "  /orange/adamginsburg/jwst/cloudc/F405N/pipeline/mastDownload/JWST/jw02221002002_02201_00003_nrcalong/jw02221-o002_20230725t121309_image2_00318_asn.json ...\n",
      "  /orange/adamginsburg/jwst/cloudc/F405N/pipeline/mastDownload/JWST/jw02221002002_02201_00003_nrcblong/jw02221-o002_20230725t121309_image2_00324_asn.json ...\n",
      "  /orange/adamginsburg/jwst/cloudc/F405N/pipeline/mastDownload/JWST/jw02221002002_02201_00004_nrcalong/jw02221-o002_20230725t121309_image2_00414_asn.json ...\n",
      "  /orange/adamginsburg/jwst/cloudc/F405N/pipeline/mastDownload/JWST/jw02221002002_02201_00004_nrcblong/jw02221-o002_20230725t121309_image2_00245_asn.json ...\n",
      "  /orange/adamginsburg/jwst/cloudc/F405N/pipeline/mastDownload/JWST/jw02221002002_08201_00001_nrcalong/jw02221-o002_20230725t121309_image2_00109_asn.json ...\n",
      "  /orange/adamginsburg/jwst/cloudc/F405N/pipeline/mastDownload/JWST/jw02221002002_08201_00001_nrcblong/jw02221-o002_20230725t121309_image2_00204_asn.json ...\n",
      "  /orange/adamginsburg/jwst/cloudc/F405N/pipeline/mastDownload/JWST/jw02221002002_08201_00002_nrcalong/jw02221-o002_20230725t121309_image2_00258_asn.json ...\n",
      "  /orange/adamginsburg/jwst/cloudc/F405N/pipeline/mastDownload/JWST/jw02221002002_08201_00002_nrcblong/jw02221-o002_20230725t121309_image2_00032_asn.json ...\n",
      "  /orange/adamginsburg/jwst/cloudc/F405N/pipeline/mastDownload/JWST/jw02221002002_08201_00003_nrcalong/jw02221-o002_20230725t121309_image2_00074_asn.json ...\n",
      "  /orange/adamginsburg/jwst/cloudc/F405N/pipeline/mastDownload/JWST/jw02221002002_08201_00003_nrcblong/jw02221-o002_20230725t121309_image2_00120_asn.json ...\n",
      "  /orange/adamginsburg/jwst/cloudc/F405N/pipeline/mastDownload/JWST/jw02221002002_08201_00004_nrcalong/jw02221-o002_20230725t121309_image2_00065_asn.json ...\n",
      "  /orange/adamginsburg/jwst/cloudc/F405N/pipeline/mastDownload/JWST/jw02221002002_08201_00004_nrcblong/jw02221-o002_20230725t121309_image2_00004_asn.json ...\n",
      "Length = 82 rows\n"
     ]
    }
   ],
   "source": [
    "Observations.cache_location = output_dir\n",
    "obs_table = Observations.query_criteria(\n",
    "                                        proposal_id=\"2221\",\n",
    "                                        proposal_pi=\"Ginsburg*\",\n",
    "                                        #calib_level=3,\n",
    "                                        )\n",
    "print(\"Obs table length:\", len(obs_table))\n",
    "msk = ((np.char.find(obs_table['filters'], filtername.upper()) >= 0) |\n",
    "       (np.char.find(obs_table['obs_id'], filtername.lower()) >= 0))\n",
    "data_products_by_obs = Observations.get_product_list(obs_table[msk])\n",
    "print(\"data prodcts by obs length: \", len(data_products_by_obs))\n",
    "products_asn = Observations.filter_products(data_products_by_obs, extension=\"json\")\n",
    "print(\"products_asn length:\", len(products_asn))\n",
    "#valid_obsids = products_asn['obs_id'][np.char.find(np.unique(products_asn['obs_id']), 'jw02221-o001', ) == 0]\n",
    "#match = [x for x in valid_obsids if filtername.lower() in x][0]\n",
    "asn_mast_data = products_asn#[products_asn['obs_id'] == match]\n",
    "print(\"asn_mast_data:\", asn_mast_data)\n",
    "manifest = Observations.download_products(asn_mast_data, download_dir=output_dir)\n",
    "print(\"manifest:\", manifest)"
   ]
  },
  {
   "cell_type": "code",
   "execution_count": 4,
   "id": "8a81c7c0-d904-4ce0-9588-da9bdcb101e9",
   "metadata": {},
   "outputs": [],
   "source": [
    "# MAST creates deep directory structures we don't want\n",
    "for row in manifest:\n",
    "    try:\n",
    "        shutil.move(row['Local Path'], os.path.join(output_dir, os.path.basename(row['Local Path'])))\n",
    "    except Exception as ex:\n",
    "        print(f\"Failed to move file with error {ex}\")\n"
   ]
  },
  {
   "cell_type": "code",
   "execution_count": 5,
   "id": "eb84cbdf-055d-4b04-b01d-07bfe3e741cd",
   "metadata": {
    "tags": []
   },
   "outputs": [
    {
     "name": "stdout",
     "output_type": "stream",
     "text": [
      "2023-08-31T11:15:48.791745: products_fits length: 29060\n",
      "2023-08-31T11:15:49.251731: uncal length: 32\n",
      "2023-08-31T11:15:52.909651: uncal to download: 0; 274 were already downloaded\n"
     ]
    }
   ],
   "source": [
    "\n",
    "products_fits = Observations.filter_products(data_products_by_obs, extension=\"fits\")\n",
    "print(\"products_fits length:\", len(products_fits))\n",
    "uncal_mask = np.array([uri.endswith('_uncal.fits') and f'jw02221{field}' in uri for uri in products_fits['dataURI']])\n",
    "uncal_mask &= products_fits['productType'] == 'SCIENCE'\n",
    "print(\"uncal length:\", (uncal_mask.sum()))\n",
    "\n",
    "already_downloaded = np.array([os.path.exists(os.path.basename(uri)) for uri in products_fits['dataURI']])\n",
    "uncal_mask &= ~already_downloaded\n",
    "print(f\"uncal to download: {uncal_mask.sum()}; {already_downloaded.sum()} were already downloaded\")"
   ]
  },
  {
   "cell_type": "code",
   "execution_count": 6,
   "id": "d5e63782-d22f-45d4-b611-31436fc95587",
   "metadata": {},
   "outputs": [
    {
     "data": {
      "text/plain": [
       "'002'"
      ]
     },
     "execution_count": 6,
     "metadata": {},
     "output_type": "execute_result"
    }
   ],
   "source": [
    "field"
   ]
  },
  {
   "cell_type": "code",
   "execution_count": 7,
   "id": "d9dfa5ca-940f-48cb-9dcb-ac8269451ca1",
   "metadata": {
    "collapsed": true,
    "jupyter": {
     "outputs_hidden": true
    },
    "tags": []
   },
   "outputs": [
    {
     "data": {
      "text/html": [
       "<div><i>Table masked=True length=80</i>\n",
       "<table id=\"table47420085961248\" class=\"table-striped table-bordered table-condensed\">\n",
       "<thead><tr><th>obsID</th><th>obs_collection</th><th>dataproduct_type</th><th>obs_id</th><th>description</th><th>type</th><th>dataURI</th><th>productType</th><th>productGroupDescription</th><th>productSubGroupDescription</th><th>productDocumentationURL</th><th>project</th><th>prvversion</th><th>proposal_id</th><th>productFilename</th><th>size</th><th>parent_obsid</th><th>dataRights</th><th>calib_level</th></tr></thead>\n",
       "<thead><tr><th>str9</th><th>str4</th><th>str5</th><th>str36</th><th>str64</th><th>str1</th><th>str69</th><th>str9</th><th>str28</th><th>str11</th><th>str1</th><th>str7</th><th>str6</th><th>str4</th><th>str51</th><th>int64</th><th>str9</th><th>str16</th><th>int64</th></tr></thead>\n",
       "<tr><td>90106375</td><td>JWST</td><td>image</td><td>jw02221001001_03101_00001_nrcalong</td><td>exposure (L1b): Uncalibrated 4D exposure data</td><td>S</td><td>mast:JWST/product/jw02221001001_03101_00001_nrcalong_uncal.fits</td><td>SCIENCE</td><td>--</td><td>UNCAL</td><td>--</td><td>CALJWST</td><td>--</td><td>2221</td><td>jw02221001001_03101_00001_nrcalong_uncal.fits</td><td>25225920</td><td>90191617</td><td>PUBLIC</td><td>1</td></tr>\n",
       "<tr><td>90111555</td><td>JWST</td><td>image</td><td>jw02221001001_03101_00001_nrcblong</td><td>exposure (L1b): Uncalibrated 4D exposure data</td><td>S</td><td>mast:JWST/product/jw02221001001_03101_00001_nrcblong_uncal.fits</td><td>SCIENCE</td><td>--</td><td>UNCAL</td><td>--</td><td>CALJWST</td><td>--</td><td>2221</td><td>jw02221001001_03101_00001_nrcblong_uncal.fits</td><td>25225920</td><td>90191617</td><td>PUBLIC</td><td>1</td></tr>\n",
       "<tr><td>90103980</td><td>JWST</td><td>image</td><td>jw02221001001_03101_00002_nrcalong</td><td>exposure (L1b): Uncalibrated 4D exposure data</td><td>S</td><td>mast:JWST/product/jw02221001001_03101_00002_nrcalong_uncal.fits</td><td>SCIENCE</td><td>--</td><td>UNCAL</td><td>--</td><td>CALJWST</td><td>--</td><td>2221</td><td>jw02221001001_03101_00002_nrcalong_uncal.fits</td><td>25225920</td><td>90191617</td><td>PUBLIC</td><td>1</td></tr>\n",
       "<tr><td>90112033</td><td>JWST</td><td>image</td><td>jw02221001001_03101_00002_nrcblong</td><td>exposure (L1b): Uncalibrated 4D exposure data</td><td>S</td><td>mast:JWST/product/jw02221001001_03101_00002_nrcblong_uncal.fits</td><td>SCIENCE</td><td>--</td><td>UNCAL</td><td>--</td><td>CALJWST</td><td>--</td><td>2221</td><td>jw02221001001_03101_00002_nrcblong_uncal.fits</td><td>25225920</td><td>90191617</td><td>PUBLIC</td><td>1</td></tr>\n",
       "<tr><td>90107860</td><td>JWST</td><td>image</td><td>jw02221001001_03101_00003_nrcalong</td><td>exposure (L1b): Uncalibrated 4D exposure data</td><td>S</td><td>mast:JWST/product/jw02221001001_03101_00003_nrcalong_uncal.fits</td><td>SCIENCE</td><td>--</td><td>UNCAL</td><td>--</td><td>CALJWST</td><td>--</td><td>2221</td><td>jw02221001001_03101_00003_nrcalong_uncal.fits</td><td>25225920</td><td>90191617</td><td>PUBLIC</td><td>1</td></tr>\n",
       "<tr><td>90112704</td><td>JWST</td><td>image</td><td>jw02221001001_03101_00003_nrcblong</td><td>exposure (L1b): Uncalibrated 4D exposure data</td><td>S</td><td>mast:JWST/product/jw02221001001_03101_00003_nrcblong_uncal.fits</td><td>SCIENCE</td><td>--</td><td>UNCAL</td><td>--</td><td>CALJWST</td><td>--</td><td>2221</td><td>jw02221001001_03101_00003_nrcblong_uncal.fits</td><td>25225920</td><td>90191617</td><td>PUBLIC</td><td>1</td></tr>\n",
       "<tr><td>90104009</td><td>JWST</td><td>image</td><td>jw02221001001_03101_00004_nrcalong</td><td>exposure (L1b): Uncalibrated 4D exposure data</td><td>S</td><td>mast:JWST/product/jw02221001001_03101_00004_nrcalong_uncal.fits</td><td>SCIENCE</td><td>--</td><td>UNCAL</td><td>--</td><td>CALJWST</td><td>--</td><td>2221</td><td>jw02221001001_03101_00004_nrcalong_uncal.fits</td><td>25225920</td><td>90191617</td><td>PUBLIC</td><td>1</td></tr>\n",
       "<tr><td>90112856</td><td>JWST</td><td>image</td><td>jw02221001001_03101_00004_nrcblong</td><td>exposure (L1b): Uncalibrated 4D exposure data</td><td>S</td><td>mast:JWST/product/jw02221001001_03101_00004_nrcblong_uncal.fits</td><td>SCIENCE</td><td>--</td><td>UNCAL</td><td>--</td><td>CALJWST</td><td>--</td><td>2221</td><td>jw02221001001_03101_00004_nrcblong_uncal.fits</td><td>25225920</td><td>90191617</td><td>PUBLIC</td><td>1</td></tr>\n",
       "<tr><td>90107966</td><td>JWST</td><td>image</td><td>jw02221001001_03101_00005_nrcalong</td><td>exposure (L1b): Uncalibrated 4D exposure data</td><td>S</td><td>mast:JWST/product/jw02221001001_03101_00005_nrcalong_uncal.fits</td><td>SCIENCE</td><td>--</td><td>UNCAL</td><td>--</td><td>CALJWST</td><td>--</td><td>2221</td><td>jw02221001001_03101_00005_nrcalong_uncal.fits</td><td>25225920</td><td>90191617</td><td>PUBLIC</td><td>1</td></tr>\n",
       "<tr><td>90111136</td><td>JWST</td><td>image</td><td>jw02221001001_03101_00005_nrcblong</td><td>exposure (L1b): Uncalibrated 4D exposure data</td><td>S</td><td>mast:JWST/product/jw02221001001_03101_00005_nrcblong_uncal.fits</td><td>SCIENCE</td><td>--</td><td>UNCAL</td><td>--</td><td>CALJWST</td><td>--</td><td>2221</td><td>jw02221001001_03101_00005_nrcblong_uncal.fits</td><td>25225920</td><td>90191617</td><td>PUBLIC</td><td>1</td></tr>\n",
       "<tr><td>90107203</td><td>JWST</td><td>image</td><td>jw02221001001_03101_00006_nrcalong</td><td>exposure (L1b): Uncalibrated 4D exposure data</td><td>S</td><td>mast:JWST/product/jw02221001001_03101_00006_nrcalong_uncal.fits</td><td>SCIENCE</td><td>--</td><td>UNCAL</td><td>--</td><td>CALJWST</td><td>--</td><td>2221</td><td>jw02221001001_03101_00006_nrcalong_uncal.fits</td><td>25225920</td><td>90191617</td><td>PUBLIC</td><td>1</td></tr>\n",
       "<tr><td>90114508</td><td>JWST</td><td>image</td><td>jw02221001001_03101_00006_nrcblong</td><td>exposure (L1b): Uncalibrated 4D exposure data</td><td>S</td><td>mast:JWST/product/jw02221001001_03101_00006_nrcblong_uncal.fits</td><td>SCIENCE</td><td>--</td><td>UNCAL</td><td>--</td><td>CALJWST</td><td>--</td><td>2221</td><td>jw02221001001_03101_00006_nrcblong_uncal.fits</td><td>25225920</td><td>90191617</td><td>PUBLIC</td><td>1</td></tr>\n",
       "<tr><td>90104160</td><td>JWST</td><td>image</td><td>jw02221001001_03101_00007_nrcalong</td><td>exposure (L1b): Uncalibrated 4D exposure data</td><td>S</td><td>mast:JWST/product/jw02221001001_03101_00007_nrcalong_uncal.fits</td><td>SCIENCE</td><td>--</td><td>UNCAL</td><td>--</td><td>CALJWST</td><td>--</td><td>2221</td><td>jw02221001001_03101_00007_nrcalong_uncal.fits</td><td>25225920</td><td>90191617</td><td>PUBLIC</td><td>1</td></tr>\n",
       "<tr><td>90111791</td><td>JWST</td><td>image</td><td>jw02221001001_03101_00007_nrcblong</td><td>exposure (L1b): Uncalibrated 4D exposure data</td><td>S</td><td>mast:JWST/product/jw02221001001_03101_00007_nrcblong_uncal.fits</td><td>SCIENCE</td><td>--</td><td>UNCAL</td><td>--</td><td>CALJWST</td><td>--</td><td>2221</td><td>jw02221001001_03101_00007_nrcblong_uncal.fits</td><td>25225920</td><td>90191617</td><td>PUBLIC</td><td>1</td></tr>\n",
       "<tr><td>90104260</td><td>JWST</td><td>image</td><td>jw02221001001_03101_00008_nrcalong</td><td>exposure (L1b): Uncalibrated 4D exposure data</td><td>S</td><td>mast:JWST/product/jw02221001001_03101_00008_nrcalong_uncal.fits</td><td>SCIENCE</td><td>--</td><td>UNCAL</td><td>--</td><td>CALJWST</td><td>--</td><td>2221</td><td>jw02221001001_03101_00008_nrcalong_uncal.fits</td><td>25225920</td><td>90191617</td><td>PUBLIC</td><td>1</td></tr>\n",
       "<tr><td>...</td><td>...</td><td>...</td><td>...</td><td>...</td><td>...</td><td>...</td><td>...</td><td>...</td><td>...</td><td>...</td><td>...</td><td>...</td><td>...</td><td>...</td><td>...</td><td>...</td><td>...</td><td>...</td></tr>\n",
       "<tr><td>129260948</td><td>JWST</td><td>image</td><td>jw02221002002_02201_00001_nrcalong</td><td>exposure (L1b): Uncalibrated 4D exposure data</td><td>S</td><td>mast:JWST/product/jw02221002002_02201_00001_nrcalong_uncal.fits</td><td>SCIENCE</td><td>--</td><td>UNCAL</td><td>--</td><td>CALJWST</td><td>--</td><td>2221</td><td>jw02221002002_02201_00001_nrcalong_uncal.fits</td><td>25225920</td><td>127345652</td><td>EXCLUSIVE_ACCESS</td><td>1</td></tr>\n",
       "<tr><td>129261015</td><td>JWST</td><td>image</td><td>jw02221002002_02201_00001_nrcblong</td><td>exposure (L1b): Uncalibrated 4D exposure data</td><td>S</td><td>mast:JWST/product/jw02221002002_02201_00001_nrcblong_uncal.fits</td><td>SCIENCE</td><td>--</td><td>UNCAL</td><td>--</td><td>CALJWST</td><td>--</td><td>2221</td><td>jw02221002002_02201_00001_nrcblong_uncal.fits</td><td>25225920</td><td>127345652</td><td>EXCLUSIVE_ACCESS</td><td>1</td></tr>\n",
       "<tr><td>129260983</td><td>JWST</td><td>image</td><td>jw02221002002_02201_00002_nrcalong</td><td>exposure (L1b): Uncalibrated 4D exposure data</td><td>S</td><td>mast:JWST/product/jw02221002002_02201_00002_nrcalong_uncal.fits</td><td>SCIENCE</td><td>--</td><td>UNCAL</td><td>--</td><td>CALJWST</td><td>--</td><td>2221</td><td>jw02221002002_02201_00002_nrcalong_uncal.fits</td><td>25225920</td><td>127345652</td><td>EXCLUSIVE_ACCESS</td><td>1</td></tr>\n",
       "<tr><td>129260867</td><td>JWST</td><td>image</td><td>jw02221002002_02201_00002_nrcblong</td><td>exposure (L1b): Uncalibrated 4D exposure data</td><td>S</td><td>mast:JWST/product/jw02221002002_02201_00002_nrcblong_uncal.fits</td><td>SCIENCE</td><td>--</td><td>UNCAL</td><td>--</td><td>CALJWST</td><td>--</td><td>2221</td><td>jw02221002002_02201_00002_nrcblong_uncal.fits</td><td>25225920</td><td>127345652</td><td>EXCLUSIVE_ACCESS</td><td>1</td></tr>\n",
       "<tr><td>129272101</td><td>JWST</td><td>image</td><td>jw02221002002_02201_00003_nrcalong</td><td>exposure (L1b): Uncalibrated 4D exposure data</td><td>S</td><td>mast:JWST/product/jw02221002002_02201_00003_nrcalong_uncal.fits</td><td>SCIENCE</td><td>--</td><td>UNCAL</td><td>--</td><td>CALJWST</td><td>--</td><td>2221</td><td>jw02221002002_02201_00003_nrcalong_uncal.fits</td><td>25225920</td><td>127345652</td><td>EXCLUSIVE_ACCESS</td><td>1</td></tr>\n",
       "<tr><td>129272023</td><td>JWST</td><td>image</td><td>jw02221002002_02201_00003_nrcblong</td><td>exposure (L1b): Uncalibrated 4D exposure data</td><td>S</td><td>mast:JWST/product/jw02221002002_02201_00003_nrcblong_uncal.fits</td><td>SCIENCE</td><td>--</td><td>UNCAL</td><td>--</td><td>CALJWST</td><td>--</td><td>2221</td><td>jw02221002002_02201_00003_nrcblong_uncal.fits</td><td>25225920</td><td>127345652</td><td>EXCLUSIVE_ACCESS</td><td>1</td></tr>\n",
       "<tr><td>129263253</td><td>JWST</td><td>image</td><td>jw02221002002_02201_00004_nrcalong</td><td>exposure (L1b): Uncalibrated 4D exposure data</td><td>S</td><td>mast:JWST/product/jw02221002002_02201_00004_nrcalong_uncal.fits</td><td>SCIENCE</td><td>--</td><td>UNCAL</td><td>--</td><td>CALJWST</td><td>--</td><td>2221</td><td>jw02221002002_02201_00004_nrcalong_uncal.fits</td><td>25225920</td><td>127345652</td><td>EXCLUSIVE_ACCESS</td><td>1</td></tr>\n",
       "<tr><td>129263219</td><td>JWST</td><td>image</td><td>jw02221002002_02201_00004_nrcblong</td><td>exposure (L1b): Uncalibrated 4D exposure data</td><td>S</td><td>mast:JWST/product/jw02221002002_02201_00004_nrcblong_uncal.fits</td><td>SCIENCE</td><td>--</td><td>UNCAL</td><td>--</td><td>CALJWST</td><td>--</td><td>2221</td><td>jw02221002002_02201_00004_nrcblong_uncal.fits</td><td>25225920</td><td>127345652</td><td>EXCLUSIVE_ACCESS</td><td>1</td></tr>\n",
       "<tr><td>129272072</td><td>JWST</td><td>image</td><td>jw02221002002_08201_00001_nrcalong</td><td>exposure (L1b): Uncalibrated 4D exposure data</td><td>S</td><td>mast:JWST/product/jw02221002002_08201_00001_nrcalong_uncal.fits</td><td>SCIENCE</td><td>--</td><td>UNCAL</td><td>--</td><td>CALJWST</td><td>--</td><td>2221</td><td>jw02221002002_08201_00001_nrcalong_uncal.fits</td><td>25225920</td><td>127345652</td><td>EXCLUSIVE_ACCESS</td><td>1</td></tr>\n",
       "<tr><td>129271995</td><td>JWST</td><td>image</td><td>jw02221002002_08201_00001_nrcblong</td><td>exposure (L1b): Uncalibrated 4D exposure data</td><td>S</td><td>mast:JWST/product/jw02221002002_08201_00001_nrcblong_uncal.fits</td><td>SCIENCE</td><td>--</td><td>UNCAL</td><td>--</td><td>CALJWST</td><td>--</td><td>2221</td><td>jw02221002002_08201_00001_nrcblong_uncal.fits</td><td>25225920</td><td>127345652</td><td>EXCLUSIVE_ACCESS</td><td>1</td></tr>\n",
       "<tr><td>129272042</td><td>JWST</td><td>image</td><td>jw02221002002_08201_00002_nrcalong</td><td>exposure (L1b): Uncalibrated 4D exposure data</td><td>S</td><td>mast:JWST/product/jw02221002002_08201_00002_nrcalong_uncal.fits</td><td>SCIENCE</td><td>--</td><td>UNCAL</td><td>--</td><td>CALJWST</td><td>--</td><td>2221</td><td>jw02221002002_08201_00002_nrcalong_uncal.fits</td><td>25225920</td><td>127345652</td><td>EXCLUSIVE_ACCESS</td><td>1</td></tr>\n",
       "<tr><td>129272014</td><td>JWST</td><td>image</td><td>jw02221002002_08201_00002_nrcblong</td><td>exposure (L1b): Uncalibrated 4D exposure data</td><td>S</td><td>mast:JWST/product/jw02221002002_08201_00002_nrcblong_uncal.fits</td><td>SCIENCE</td><td>--</td><td>UNCAL</td><td>--</td><td>CALJWST</td><td>--</td><td>2221</td><td>jw02221002002_08201_00002_nrcblong_uncal.fits</td><td>25225920</td><td>127345652</td><td>EXCLUSIVE_ACCESS</td><td>1</td></tr>\n",
       "<tr><td>129272100</td><td>JWST</td><td>image</td><td>jw02221002002_08201_00003_nrcalong</td><td>exposure (L1b): Uncalibrated 4D exposure data</td><td>S</td><td>mast:JWST/product/jw02221002002_08201_00003_nrcalong_uncal.fits</td><td>SCIENCE</td><td>--</td><td>UNCAL</td><td>--</td><td>CALJWST</td><td>--</td><td>2221</td><td>jw02221002002_08201_00003_nrcalong_uncal.fits</td><td>25225920</td><td>127345652</td><td>EXCLUSIVE_ACCESS</td><td>1</td></tr>\n",
       "<tr><td>129272011</td><td>JWST</td><td>image</td><td>jw02221002002_08201_00003_nrcblong</td><td>exposure (L1b): Uncalibrated 4D exposure data</td><td>S</td><td>mast:JWST/product/jw02221002002_08201_00003_nrcblong_uncal.fits</td><td>SCIENCE</td><td>--</td><td>UNCAL</td><td>--</td><td>CALJWST</td><td>--</td><td>2221</td><td>jw02221002002_08201_00003_nrcblong_uncal.fits</td><td>25225920</td><td>127345652</td><td>EXCLUSIVE_ACCESS</td><td>1</td></tr>\n",
       "<tr><td>129272069</td><td>JWST</td><td>image</td><td>jw02221002002_08201_00004_nrcalong</td><td>exposure (L1b): Uncalibrated 4D exposure data</td><td>S</td><td>mast:JWST/product/jw02221002002_08201_00004_nrcalong_uncal.fits</td><td>SCIENCE</td><td>--</td><td>UNCAL</td><td>--</td><td>CALJWST</td><td>--</td><td>2221</td><td>jw02221002002_08201_00004_nrcalong_uncal.fits</td><td>25225920</td><td>127345652</td><td>EXCLUSIVE_ACCESS</td><td>1</td></tr>\n",
       "<tr><td>129272089</td><td>JWST</td><td>image</td><td>jw02221002002_08201_00004_nrcblong</td><td>exposure (L1b): Uncalibrated 4D exposure data</td><td>S</td><td>mast:JWST/product/jw02221002002_08201_00004_nrcblong_uncal.fits</td><td>SCIENCE</td><td>--</td><td>UNCAL</td><td>--</td><td>CALJWST</td><td>--</td><td>2221</td><td>jw02221002002_08201_00004_nrcblong_uncal.fits</td><td>25225920</td><td>127345652</td><td>EXCLUSIVE_ACCESS</td><td>1</td></tr>\n",
       "</table></div>"
      ],
      "text/plain": [
       "<Table masked=True length=80>\n",
       "  obsID   obs_collection dataproduct_type               obs_id               ...   size   parent_obsid    dataRights    calib_level\n",
       "   str9        str4            str5                     str36                ...  int64       str9          str16          int64   \n",
       "--------- -------------- ---------------- ---------------------------------- ... -------- ------------ ---------------- -----------\n",
       " 90106375           JWST            image jw02221001001_03101_00001_nrcalong ... 25225920     90191617           PUBLIC           1\n",
       " 90111555           JWST            image jw02221001001_03101_00001_nrcblong ... 25225920     90191617           PUBLIC           1\n",
       " 90103980           JWST            image jw02221001001_03101_00002_nrcalong ... 25225920     90191617           PUBLIC           1\n",
       " 90112033           JWST            image jw02221001001_03101_00002_nrcblong ... 25225920     90191617           PUBLIC           1\n",
       " 90107860           JWST            image jw02221001001_03101_00003_nrcalong ... 25225920     90191617           PUBLIC           1\n",
       " 90112704           JWST            image jw02221001001_03101_00003_nrcblong ... 25225920     90191617           PUBLIC           1\n",
       " 90104009           JWST            image jw02221001001_03101_00004_nrcalong ... 25225920     90191617           PUBLIC           1\n",
       " 90112856           JWST            image jw02221001001_03101_00004_nrcblong ... 25225920     90191617           PUBLIC           1\n",
       " 90107966           JWST            image jw02221001001_03101_00005_nrcalong ... 25225920     90191617           PUBLIC           1\n",
       " 90111136           JWST            image jw02221001001_03101_00005_nrcblong ... 25225920     90191617           PUBLIC           1\n",
       " 90107203           JWST            image jw02221001001_03101_00006_nrcalong ... 25225920     90191617           PUBLIC           1\n",
       " 90114508           JWST            image jw02221001001_03101_00006_nrcblong ... 25225920     90191617           PUBLIC           1\n",
       " 90104160           JWST            image jw02221001001_03101_00007_nrcalong ... 25225920     90191617           PUBLIC           1\n",
       " 90111791           JWST            image jw02221001001_03101_00007_nrcblong ... 25225920     90191617           PUBLIC           1\n",
       " 90104260           JWST            image jw02221001001_03101_00008_nrcalong ... 25225920     90191617           PUBLIC           1\n",
       "      ...            ...              ...                                ... ...      ...          ...              ...         ...\n",
       "129260948           JWST            image jw02221002002_02201_00001_nrcalong ... 25225920    127345652 EXCLUSIVE_ACCESS           1\n",
       "129261015           JWST            image jw02221002002_02201_00001_nrcblong ... 25225920    127345652 EXCLUSIVE_ACCESS           1\n",
       "129260983           JWST            image jw02221002002_02201_00002_nrcalong ... 25225920    127345652 EXCLUSIVE_ACCESS           1\n",
       "129260867           JWST            image jw02221002002_02201_00002_nrcblong ... 25225920    127345652 EXCLUSIVE_ACCESS           1\n",
       "129272101           JWST            image jw02221002002_02201_00003_nrcalong ... 25225920    127345652 EXCLUSIVE_ACCESS           1\n",
       "129272023           JWST            image jw02221002002_02201_00003_nrcblong ... 25225920    127345652 EXCLUSIVE_ACCESS           1\n",
       "129263253           JWST            image jw02221002002_02201_00004_nrcalong ... 25225920    127345652 EXCLUSIVE_ACCESS           1\n",
       "129263219           JWST            image jw02221002002_02201_00004_nrcblong ... 25225920    127345652 EXCLUSIVE_ACCESS           1\n",
       "129272072           JWST            image jw02221002002_08201_00001_nrcalong ... 25225920    127345652 EXCLUSIVE_ACCESS           1\n",
       "129271995           JWST            image jw02221002002_08201_00001_nrcblong ... 25225920    127345652 EXCLUSIVE_ACCESS           1\n",
       "129272042           JWST            image jw02221002002_08201_00002_nrcalong ... 25225920    127345652 EXCLUSIVE_ACCESS           1\n",
       "129272014           JWST            image jw02221002002_08201_00002_nrcblong ... 25225920    127345652 EXCLUSIVE_ACCESS           1\n",
       "129272100           JWST            image jw02221002002_08201_00003_nrcalong ... 25225920    127345652 EXCLUSIVE_ACCESS           1\n",
       "129272011           JWST            image jw02221002002_08201_00003_nrcblong ... 25225920    127345652 EXCLUSIVE_ACCESS           1\n",
       "129272069           JWST            image jw02221002002_08201_00004_nrcalong ... 25225920    127345652 EXCLUSIVE_ACCESS           1\n",
       "129272089           JWST            image jw02221002002_08201_00004_nrcblong ... 25225920    127345652 EXCLUSIVE_ACCESS           1"
      ]
     },
     "execution_count": 7,
     "metadata": {},
     "output_type": "execute_result"
    }
   ],
   "source": [
    "products_fits[(products_fits['productType'] == 'SCIENCE') & np.array([uri.endswith('_uncal.fits') for uri in products_fits['dataURI']])]"
   ]
  },
  {
   "cell_type": "code",
   "execution_count": 8,
   "id": "d68222ce-8156-427f-bf97-130111c57ee5",
   "metadata": {},
   "outputs": [],
   "source": [
    "from align_to_catalogs import retrieve_vvv"
   ]
  },
  {
   "cell_type": "code",
   "execution_count": 2,
   "id": "7bba1e7c-8368-442c-9cfb-89e8da92e673",
   "metadata": {
    "collapsed": true,
    "jupyter": {
     "outputs_hidden": true
    },
    "tags": []
   },
   "outputs": [
    {
     "name": "stderr",
     "output_type": "stream",
     "text": [
      "WARNING: VerifyWarning: Keyword name 'description' is greater than 8 characters or contains characters not allowed by the FITS standard; a HIERARCH card will be created. [astropy.io.fits.card]\n"
     ]
    },
    {
     "data": {
      "text/plain": [
       "(<SkyCoord (FK5: equinox=J2000.000): (ra, dec) in deg\n",
       "     [(266.581129, -28.666482), (266.594517, -28.666434),\n",
       "      (266.604305, -28.663877), ..., (266.555803, -28.513283),\n",
       "      (266.560494, -28.514834), (266.559398, -28.51401 )]>,\n",
       " <Table length=9945>\n",
       "  RAJ2000    DEJ2000           iauname          mClass  Zmag3   e_Zmag3   Zperrbits  Ymag3  e_Ymag3  ...  Hmag3  e_Hmag3  Hperrbits  Ksmag3 e_Ksmag3 Ksperrbits     RA        DEC            skycoord      \n",
       "    deg        deg                                       mag      mag                 mag     mag    ...   mag     mag                mag     mag                  deg        deg            deg,deg       \n",
       "  float64    float64            str24           int16  float32  float64     int32   float64 float64  ... float64 float64    int32   float64 float64    int32     float64    float64          SkyCoord      \n",
       " ---------- ---------- ------------------------ ------ ------- ---------- --------- ------- -------- ... ------- -------- --------- ------- -------- ---------- ---------- ---------- ---------------------\n",
       " 266.581129 -28.666482 VVV J174619.47-283959.33     -1  19.834      0.213         0  18.378    0.095 ...      --       --         0      --       --          0 266.581129 -28.666482 266.581129,-28.666482\n",
       " 266.594517 -28.666434 VVV J174622.68-283959.16     -1  19.698      0.186         0  17.913    0.063 ...  14.765    0.028        16  13.780    0.032         16 266.594517 -28.666434 266.594517,-28.666434\n",
       " 266.604305 -28.663877 VVV J174625.03-283949.95      1  19.802      0.203         0  19.139    0.195 ...      --       --         0      --       --          0 266.604305 -28.663877 266.604305,-28.663877\n",
       " 266.591641 -28.659914 VVV J174621.99-283935.68     -2  17.080      0.019        16  16.666    0.021 ...  15.239    0.043        16  14.557    0.066         16 266.591641 -28.659914 266.591641,-28.659914\n",
       " 266.594249 -28.659873 VVV J174622.61-283935.54     -1  16.533      0.013        16  16.252    0.015 ...  14.908    0.032         0      --       --          0 266.594249 -28.659873 266.594249,-28.659873\n",
       " 266.596891 -28.657571 VVV J174623.25-283927.25      1  19.783      0.201         0  19.503    0.267 ...      --       --         0      --       --          0 266.596891 -28.657571 266.596891,-28.657571\n",
       " 266.592115 -28.663610 VVV J174622.10-283948.99      1  19.429      0.146         0  18.921    0.157 ...      --       --         0      --       --          0 266.592115 -28.663610  266.592115,-28.66361\n",
       " 266.596359 -28.665611 VVV J174623.12-283956.20     -1  18.001      0.041         0  16.417    0.017 ...  13.448    0.009        16  12.555    0.011         16 266.596359 -28.665611 266.596359,-28.665611\n",
       " 266.595743 -28.663933 VVV J174622.97-283950.15     -1  18.288      0.053         0  17.738    0.054 ...  16.486    0.135         0      --       --          0 266.595743 -28.663933 266.595743,-28.663933\n",
       " 266.599595 -28.659911 VVV J174623.90-283935.67     -1  12.426      0.001         0  11.403    0.001 ...   9.421    0.001     65552      --       --          0 266.599595 -28.659911 266.599595,-28.659911\n",
       " 266.587911 -28.662759 VVV J174621.09-283945.93     -1  19.705      0.188         0  18.984    0.165 ...      --       --         0      --       --          0 266.587911 -28.662759 266.587911,-28.662759\n",
       " 266.588618 -28.666039 VVV J174621.26-283957.73     -1  16.027      0.009         0  15.728    0.010 ...  14.780    0.028         0  14.263    0.050          0 266.588618 -28.666039 266.588618,-28.666039\n",
       " 266.586247 -28.665907 VVV J174620.69-283957.26     -2  19.545      0.163         0  19.112    0.186 ...      --       --         0      --       --          0 266.586247 -28.665907 266.586247,-28.665907\n",
       " 266.586009 -28.664312 VVV J174620.64-283951.52     -1  17.429      0.026         0  16.919    0.026 ...  15.458    0.053         0  15.029    0.102         16 266.586009 -28.664312 266.586009,-28.664312\n",
       " 266.590792 -28.661108 VVV J174621.79-283939.98     -1  18.478      0.063         0  17.577    0.047 ...  15.866    0.077        16      --       --          0 266.590792 -28.661108 266.590792,-28.661108\n",
       " 266.597314 -28.660773 VVV J174623.35-283938.78      1  19.331      0.134         0  18.036    0.071 ...  15.616    0.061        16  15.342    0.135         16 266.597314 -28.660773 266.597314,-28.660773\n",
       " 266.585033 -28.663071 VVV J174620.40-283947.05     -1  17.273      0.023         0  16.668    0.021 ...  15.135    0.039        16  14.477    0.061         16 266.585033 -28.663071 266.585033,-28.663071\n",
       " 266.587969 -28.659972 VVV J174621.11-283935.89     -1  19.087      0.108         0  17.862    0.060 ...  15.565    0.058         0  15.201    0.119         16 266.587969 -28.659972 266.587969,-28.659972\n",
       " 266.606888 -28.667453 VVV J174625.65-284002.83     -1  15.775      0.007         0  15.441    0.008 ...  14.465    0.021        16  13.950    0.037         16 266.606888 -28.667453 266.606888,-28.667453\n",
       " 266.592309 -28.657008 VVV J174622.15-283925.23     -1  10.249      0.001     65552   9.939    0.001 ...   9.001    0.001     65552   9.100    0.001      65552 266.592309 -28.657008 266.592309,-28.657008\n",
       " 266.598855 -28.657307 VVV J174623.72-283926.30      1      --         --         0      --       -- ...  16.103    0.095         0  14.184    0.047         16 266.598855 -28.657307 266.598855,-28.657307\n",
       " 266.590135 -28.659017 VVV J174621.63-283932.46      1  17.900      0.038        16  17.069    0.030 ...      --       --         0      --       --          0 266.590135 -28.659017 266.590135,-28.659017\n",
       " 266.594639 -28.658206 VVV J174622.71-283929.54      1  17.618      0.030        16  17.316    0.037 ...  16.339    0.118         0  14.910    0.091          0 266.594639 -28.658206 266.594639,-28.658206\n",
       "        ...        ...                      ...    ...     ...        ...       ...     ...      ... ...     ...      ...       ...     ...      ...        ...        ...        ...                   ...\n",
       " 266.553269 -28.518855 VVV J174612.78-283107.87     -1      --         --         0      --       -- ...  14.432    0.021        16  12.938    0.015         16 266.553269 -28.518855 266.553269,-28.518855\n",
       " 266.558297 -28.516544 VVV J174613.99-283059.55     -1      --         --         0      --       -- ...  14.313    0.018        16  12.801    0.013         16 266.558297 -28.516544 266.558297,-28.516544\n",
       " 266.556025 -28.514961 VVV J174613.44-283053.86      0      --         --         0      --       -- ...      --       --         0      --       --          0 266.556025 -28.514961 266.556025,-28.514961\n",
       " 266.553959 -28.512955 VVV J174612.95-283046.63      1      --         --         0      --       -- ...  15.608    0.060         0  14.462    0.061         16 266.553959 -28.512955 266.553959,-28.512955\n",
       " 266.557039 -28.516025 VVV J174613.68-283057.68      1      --         --         0      --       -- ...  15.080    0.037         0  13.653    0.029         16 266.557039 -28.516025 266.557039,-28.516025\n",
       " 266.553825 -28.516370 VVV J174612.91-283058.93     -1      --         --         0      --       -- ...  14.367    0.019        16      --       --          0 266.553825 -28.516370  266.553825,-28.51637\n",
       " 266.554886 -28.519588 VVV J174613.17-283110.51     -1      --         --         0      --       -- ...  14.131    0.016        16  12.771    0.013         16 266.554886 -28.519588 266.554886,-28.519588\n",
       " 266.556013 -28.514959 VVV J174613.44-283053.85      1      --         --         0      --       -- ...      --       --         0  11.538    0.004         16 266.556013 -28.514959 266.556013,-28.514959\n",
       " 266.557574 -28.514656 VVV J174613.81-283052.76     -2      --         --         0      --       -- ...      --       --         0  12.054    0.007         16 266.557574 -28.514656 266.557574,-28.514656\n",
       " 266.558319 -28.513344 VVV J174613.99-283048.03     -1      --         --         0      --       -- ...  16.355    0.119        16  14.858    0.088         16 266.558319 -28.513344 266.558319,-28.513344\n",
       " 266.561644 -28.512861 VVV J174614.79-283046.29     -1      --         --         0      --       -- ...  16.047    0.090         0  14.795    0.083         16 266.561644 -28.512861 266.561644,-28.512861\n",
       " 266.553364 -28.513896 VVV J174612.80-283050.02     -1      --         --         0      --       -- ...  17.470    0.333         0  15.774    0.203          0 266.553364 -28.513896 266.553364,-28.513896\n",
       " 266.559312 -28.513041 VVV J174614.23-283046.94     -1      --         --         0      --       -- ...  17.060    0.228         0  15.755    0.200          0 266.559312 -28.513041 266.559312,-28.513041\n",
       " 266.553792 -28.517143 VVV J174612.91-283101.71     -1      --         --         0      --       -- ...  16.209    0.104         0  15.007    0.100          0 266.553792 -28.517143 266.553792,-28.517143\n",
       " 266.554725 -28.520504 VVV J174613.13-283113.81     -1      --         --         0      --       -- ...  17.459    0.329         0  15.550    0.165          0 266.554725 -28.520504 266.554725,-28.520504\n",
       " 266.559430 -28.514934 VVV J174614.26-283053.76     -1      --         --         0      --       -- ...  16.838    0.186        16      --       --          0 266.559430 -28.514934  266.55943,-28.514934\n",
       " 266.557265 -28.516724 VVV J174613.74-283100.20     -1      --         --         0      --       -- ...  16.785    0.177         0  15.327    0.135          0 266.557265 -28.516724 266.557265,-28.516724\n",
       " 266.555460 -28.517331 VVV J174613.31-283102.39     -1      --         --         0      --       -- ...  15.418    0.051        16      --       --          0 266.555460 -28.517331  266.55546,-28.517331\n",
       " 266.553644 -28.518782 VVV J174612.87-283107.61      1      --         --         0      --       -- ...  14.370    0.019        16  12.923    0.015         16 266.553644 -28.518782 266.553644,-28.518782\n",
       " 266.561040 -28.513635 VVV J174614.64-283049.08      0      --         --         0      --       -- ...      --       --         0  17.540    1.034          0 266.561040 -28.513635  266.56104,-28.513635\n",
       " 266.556982 -28.514317 VVV J174613.67-283051.54      1      --         --         0      --       -- ...      --       --         0  12.673    0.012         16 266.556982 -28.514317 266.556982,-28.514317\n",
       " 266.555803 -28.513283 VVV J174613.39-283047.81     -1      --         --         0      --       -- ...      --       --         0  12.779    0.013         16 266.555803 -28.513283 266.555803,-28.513283\n",
       " 266.560494 -28.514834 VVV J174614.51-283053.40     -1      --         --         0      --       -- ...      --       --         0  16.794    0.520          0 266.560494 -28.514834 266.560494,-28.514834\n",
       " 266.559398 -28.514010 VVV J174614.25-283050.43     -1      --         --         0      --       -- ...      --       --         0  16.780    0.513          0 266.559398 -28.514010  266.559398,-28.51401)"
      ]
     },
     "execution_count": 2,
     "metadata": {},
     "output_type": "execute_result"
    }
   ],
   "source": [
    "retrieve_vvv(\n",
    "    basepath = '/orange/adamginsburg/jwst/cloudc/',\n",
    "    filtername = 'f405n',\n",
    "    module = 'merged',\n",
    "    imfile = None,\n",
    "    catfile = None,\n",
    "    fov_regname='regions/nircam_cloudc_fov.reg',\n",
    "    fieldnumber='002',\n",
    ")"
   ]
  },
  {
   "cell_type": "code",
   "execution_count": 9,
   "id": "6435670d-a4ce-4d1f-8485-a37694dfc97f",
   "metadata": {},
   "outputs": [
    {
     "ename": "NameError",
     "evalue": "name 'member' is not defined",
     "output_type": "error",
     "traceback": [
      "\u001b[0;31m---------------------------------------------------------------------------\u001b[0m",
      "\u001b[0;31mNameError\u001b[0m                                 Traceback (most recent call last)",
      "Cell \u001b[0;32mIn[9], line 1\u001b[0m\n\u001b[0;32m----> 1\u001b[0m \u001b[43mmember\u001b[49m[\u001b[38;5;124m'\u001b[39m\u001b[38;5;124mexpname\u001b[39m\u001b[38;5;124m'\u001b[39m]\n",
      "\u001b[0;31mNameError\u001b[0m: name 'member' is not defined"
     ]
    }
   ],
   "source": [
    "#member['expname']"
   ]
  },
  {
   "cell_type": "code",
   "execution_count": 10,
   "id": "119674e2-3fb4-48a5-9854-9ec0af085f31",
   "metadata": {},
   "outputs": [],
   "source": [
    "import shutil\n",
    "from align_to_catalogs import realign_to_vvv, realign_to_catalog, merge_a_plus_b, retrieve_vvv\n"
   ]
  },
  {
   "cell_type": "code",
   "execution_count": 7,
   "id": "6cdf62c2-6b47-4638-b562-31565339d93f",
   "metadata": {},
   "outputs": [
    {
     "name": "stdout",
     "output_type": "stream",
     "text": [
      "INFO: Kept 7752 out of 9945 VVV stars using ksmag_limit>11 [align_to_catalogs]\n",
      "INFO: For f405n merged 002 catalog /orange/adamginsburg/jwst/cloudc//F405N/pipeline/jw02221-o002_t001_nircam_clear-f405n-merged_cat.ecsv, found 9395 of 19507 sources meeting criteria mag<15 [align_to_catalogs]\n",
      "2023-07-20T14:26:15.739478: Before realignment, offset is -0.005937815103607136 arcsec, -0.01007643522541457 arcsec.  Found 319 matches.\n",
      "2023-07-20T14:26:15.746149: CRVAL before 266.5870709048492 -28.59030752349884\n",
      "2023-07-20T14:26:15.751861: CRVAL after 266.58707255424 -28.590304724489\n",
      "2023-07-20T14:26:16.012553: After realignment, offset is -0.015492051852561417 arcsec, -0.005075601654169759 arcsec with 320 mathces\n",
      "2023-07-20T14:26:16.054517: After re-realignment, offset is -0.015492051852561417 arcsec, -0.005075601654169759 arcsec using 320 matches\n"
     ]
    }
   ],
   "source": [
    "realigned_vvv_filename = '/orange/adamginsburg/jwst/cloudc/F405N/pipeline/jw02221-o002_t001_nircam_clear-f405n-merged_realigned-to-vvv.fits'\n",
    "#f'{basepath}/{filtername.upper()}/pipeline/jw02221-o{field}_t001_nircam_clear-{filtername.lower()}-{module}_realigned-to-vvv.fits'\n",
    "#shutil.copy(f'{basepath}/{filtername.upper()}/pipeline/jw02221-o{field}_t001_nircam_clear-{filtername.lower()}-{module}_i2d.fits',\n",
    "#            realigned_vvv_filename)\n",
    "shutil.copy('/orange/adamginsburg/jwst/cloudc/F405N/pipeline/jw02221-o002_t001_nircam_clear-f405n-merged_i2d.fits', realigned_vvv_filename)\n",
    "filtername='f405n'\n",
    "realigned = realign_to_vvv(filtername=filtername, fov_regname='regions/nircam_cloudc_fov.reg', basepath='/orange/adamginsburg/jwst/cloudc/', module='merged', fieldnumber='002',\n",
    "                           imfile=realigned_vvv_filename, ksmag_limit=15 if filtername=='f410m' else 11, mag_limit=15)"
   ]
  },
  {
   "cell_type": "code",
   "execution_count": null,
   "id": "d83d834e-ee5d-4f77-8e6d-579db32aa87b",
   "metadata": {},
   "outputs": [],
   "source": []
  },
  {
   "cell_type": "code",
   "execution_count": null,
   "id": "e73fd709-5256-4234-a854-883f6d9dce3e",
   "metadata": {},
   "outputs": [],
   "source": []
  },
  {
   "cell_type": "code",
   "execution_count": 3,
   "id": "8cd1b5a9-bdd3-49cc-83c5-622ca5b19862",
   "metadata": {},
   "outputs": [],
   "source": [
    "from align_to_catalogs import realign_to_vvv, merge_a_plus_b, retrieve_vvv\n"
   ]
  },
  {
   "cell_type": "code",
   "execution_count": 10,
   "id": "c3b7ee54-643b-4086-a9e0-fae79e5eb940",
   "metadata": {},
   "outputs": [],
   "source": [
    "fov_regname = {'brick': 'regions/nircam_brick_fov.reg',\n",
    "              'cloudc': 'regions/nircam_cloudc_fov.reg',\n",
    "              }\n",
    "regionname = 'cloudc'\n",
    "basepath = f'/orange/adamginsburg/jwst/{regionname}/'\n",
    "filtername = 'F405N'\n",
    "field = '002' \n",
    "module = 'nrcb'\n",
    "output_dir = f'/orange/adamginsburg/jwst/{regionname}/{filtername}/pipeline/'"
   ]
  },
  {
   "cell_type": "code",
   "execution_count": 11,
   "id": "c1f4474d-1ca7-4b7e-a7e9-090cd1b90637",
   "metadata": {},
   "outputs": [],
   "source": [
    "fwhm_tbl = Table.read(f'{basepath}/reduction/fwhm_table.ecsv')\n",
    "row = fwhm_tbl[fwhm_tbl['Filter'] == filtername]\n",
    "fwhm = fwhm_arcsec = float(row['PSF FWHM (arcsec)'][0])\n",
    "fwhm_pix = float(row['PSF FWHM (pixel)'][0])"
   ]
  },
  {
   "cell_type": "code",
   "execution_count": 12,
   "id": "34815f23-9365-4b72-8a10-f938e0ee26f3",
   "metadata": {},
   "outputs": [
    {
     "name": "stdout",
     "output_type": "stream",
     "text": [
      "2023-08-31T11:16:26.103610: Searching for /orange/adamginsburg/jwst/cloudc/F405N/pipeline/jw02221-o002*_image3_*0[0-9][0-9]_asn.json\n",
      "2023-08-31T11:16:26.109058: Found multiple asn files: ['/orange/adamginsburg/jwst/cloudc/F405N/pipeline/jw02221-o002_20230725t121309_image3_00005_asn.json', '/orange/adamginsburg/jwst/cloudc/F405N/pipeline/jw02221-o002_20230410t190607_image3_00004_asn.json', '/orange/adamginsburg/jwst/cloudc/F405N/pipeline/jw02221-o002_20230622t004213_image3_00004_asn.json'].  Using the more recent one, /orange/adamginsburg/jwst/cloudc/F405N/pipeline/jw02221-o002_20230725t121309_image3_00005_asn.json.\n"
     ]
    }
   ],
   "source": [
    "print(f\"Searching for {os.path.join(output_dir, f'jw02221-o{field}*_image3_*0[0-9][0-9]_asn.json')}\")\n",
    "asn_file_search = glob(os.path.join(output_dir, f'jw02221-o{field}*_image3_*0[0-9][0-9]_asn.json'))\n",
    "if len(asn_file_search) == 1:\n",
    "    asn_file = asn_file_search[0]\n",
    "elif len(asn_file_search) > 1:\n",
    "    asn_file = sorted(asn_file_search)[-1]\n",
    "    print(f\"Found multiple asn files: {asn_file_search}.  Using the more recent one, {asn_file}.\")\n",
    "else:\n",
    "    raise ValueError(f\"Mismatch: Did not find any asn files for module {module} for field {field} in {output_dir}\")"
   ]
  },
  {
   "cell_type": "code",
   "execution_count": 13,
   "id": "249cb1e8-8f45-41d3-9899-85be5cc86fd8",
   "metadata": {},
   "outputs": [
    {
     "data": {
      "text/plain": [
       "['/orange/adamginsburg/jwst/cloudc/F405N/pipeline/jw02221-o002_20230725t121309_image3_00005_asn.json',\n",
       " '/orange/adamginsburg/jwst/cloudc/F405N/pipeline/jw02221-o002_20230410t190607_image3_00004_asn.json',\n",
       " '/orange/adamginsburg/jwst/cloudc/F405N/pipeline/jw02221-o002_20230622t004213_image3_00004_asn.json']"
      ]
     },
     "execution_count": 13,
     "metadata": {},
     "output_type": "execute_result"
    }
   ],
   "source": [
    "asn_file_search"
   ]
  },
  {
   "cell_type": "code",
   "execution_count": 14,
   "id": "f5818065-32a6-4bd5-a131-60014ba1e807",
   "metadata": {
    "tags": []
   },
   "outputs": [
    {
     "name": "stdout",
     "output_type": "stream",
     "text": [
      "2023-08-31T11:16:31.396876: Mapping: [('NRC_IMAGE', 'F070W', 'CLEAR', '2000-01-01 00:00:00', 'jwst_nircam_pars-tweakregstep_0030.asdf'), ('NRC_IMAGE', 'F090W', 'CLEAR', '2000-01-01 00:00:00', 'jwst_nircam_pars-tweakregstep_0046.asdf'), ('NRC_IMAGE', 'F115W', 'CLEAR', '2000-01-01 00:00:00', 'jwst_nircam_pars-tweakregstep_0039.asdf'), ('NRC_IMAGE', 'F140M', 'CLEAR', '2000-01-01 00:00:00', 'jwst_nircam_pars-tweakregstep_0034.asdf'), ('NRC_IMAGE', 'F150W', 'CLEAR', '2000-01-01 00:00:00', 'jwst_nircam_pars-tweakregstep_0041.asdf'), ('NRC_IMAGE', 'F150W2', 'CLEAR', '2000-01-01 00:00:00', 'jwst_nircam_pars-tweakregstep_0050.asdf'), ('NRC_IMAGE', 'F150W2', 'F162M', '2000-01-01 00:00:00', 'jwst_nircam_pars-tweakregstep_0055.asdf'), ('NRC_IMAGE', 'F150W2', 'F164N', '2000-01-01 00:00:00', 'jwst_nircam_pars-tweakregstep_0033.asdf'), ('NRC_IMAGE', 'F182M', 'CLEAR', '2000-01-01 00:00:00', 'jwst_nircam_pars-tweakregstep_0047.asdf'), ('NRC_IMAGE', 'F187N', 'CLEAR', '2000-01-01 00:00:00', 'jwst_nircam_pars-tweakregstep_0051.asdf'), ('NRC_IMAGE', 'F200W', 'CLEAR', '2000-01-01 00:00:00', 'jwst_nircam_pars-tweakregstep_0036.asdf'), ('NRC_IMAGE', 'F210M', 'CLEAR', '2000-01-01 00:00:00', 'jwst_nircam_pars-tweakregstep_0056.asdf'), ('NRC_IMAGE', 'F212N', 'CLEAR', '2000-01-01 00:00:00', 'jwst_nircam_pars-tweakregstep_0037.asdf'), ('NRC_IMAGE', 'F250M', 'CLEAR', '2000-01-01 00:00:00', 'jwst_nircam_pars-tweakregstep_0040.asdf'), ('NRC_IMAGE', 'F277W', 'CLEAR', '2000-01-01 00:00:00', 'jwst_nircam_pars-tweakregstep_0042.asdf'), ('NRC_IMAGE', 'F300M', 'CLEAR', '2000-01-01 00:00:00', 'jwst_nircam_pars-tweakregstep_0054.asdf'), ('NRC_IMAGE', 'F322W2', 'CLEAR', '2000-01-01 00:00:00', 'jwst_nircam_pars-tweakregstep_0044.asdf'), ('NRC_IMAGE', 'F322W2', 'F323N', '2000-01-01 00:00:00', 'jwst_nircam_pars-tweakregstep_0053.asdf'), ('NRC_IMAGE', 'F335M', 'CLEAR', '2000-01-01 00:00:00', 'jwst_nircam_pars-tweakregstep_0032.asdf'), ('NRC_IMAGE', 'F356W', 'CLEAR', '2000-01-01 00:00:00', 'jwst_nircam_pars-tweakregstep_0043.asdf'), ('NRC_IMAGE', 'F360M', 'CLEAR', '2000-01-01 00:00:00', 'jwst_nircam_pars-tweakregstep_0048.asdf'), ('NRC_IMAGE', 'F410M', 'CLEAR', '2000-01-01 00:00:00', 'jwst_nircam_pars-tweakregstep_0031.asdf'), ('NRC_IMAGE', 'F430M', 'CLEAR', '2000-01-01 00:00:00', 'jwst_nircam_pars-tweakregstep_0049.asdf'), ('NRC_IMAGE', 'F444W', 'CLEAR', '2000-01-01 00:00:00', 'jwst_nircam_pars-tweakregstep_0045.asdf'), ('NRC_IMAGE', 'F444W', 'F405N', '2000-01-01 00:00:00', 'jwst_nircam_pars-tweakregstep_0035.asdf'), ('NRC_IMAGE', 'F444W', 'F466N', '2000-01-01 00:00:00', 'jwst_nircam_pars-tweakregstep_0052.asdf'), ('NRC_IMAGE', 'F444W', 'F470N', '2000-01-01 00:00:00', 'jwst_nircam_pars-tweakregstep_0058.asdf'), ('NRC_IMAGE', 'F460M', 'CLEAR', '2000-01-01 00:00:00', 'jwst_nircam_pars-tweakregstep_0038.asdf'), ('NRC_IMAGE', 'F480M', 'CLEAR', '2000-01-01 00:00:00', 'jwst_nircam_pars-tweakregstep_0057.asdf')]\n",
      "2023-08-31T11:16:31.397152: Filtername: F405N\n",
      "2023-08-31T11:16:31.397469: Filter_match: [('NRC_IMAGE', 'F444W', 'F405N', '2000-01-01 00:00:00', 'jwst_nircam_pars-tweakregstep_0035.asdf')] n=1\n",
      "2023-08-31T11:16:32.995628: Filter F405N: {'fitgeometry': 'shift', 'kernel_fwhm': 2.165, 'separation': 2.0, 'tolerance': 1.0}\n"
     ]
    }
   ],
   "source": [
    "mapping = crds.rmap.load_mapping(f'/orange/adamginsburg/jwst/{regionname}/crds/mappings/jwst/jwst_nircam_pars-tweakregstep_0003.rmap')\n",
    "print(f\"Mapping: {mapping.todict()['selections']}\")\n",
    "print(f\"Filtername: {filtername}\")\n",
    "filter_match = [x for x in mapping.todict()['selections'] if filtername in x]\n",
    "print(f\"Filter_match: {filter_match} n={len(filter_match)}\")\n",
    "tweakreg_asdf_filename = filter_match[0][4]\n",
    "tweakreg_asdf = asdf.open(f'https://jwst-crds.stsci.edu/unchecked_get/references/jwst/{tweakreg_asdf_filename}')\n",
    "tweakreg_parameters = tweakreg_asdf.tree['parameters']\n",
    "print(f'Filter {filtername}: {tweakreg_parameters}')"
   ]
  },
  {
   "cell_type": "code",
   "execution_count": 9,
   "id": "cb99181f-7c4f-4078-9d04-5e5008bc23b0",
   "metadata": {},
   "outputs": [],
   "source": [
    "#os.path.join(output_dir, member['expname'])"
   ]
  },
  {
   "cell_type": "code",
   "execution_count": 15,
   "id": "5621a90d-7d14-4917-a40c-69eb29ca491e",
   "metadata": {},
   "outputs": [],
   "source": [
    "import astropy.units as u"
   ]
  },
  {
   "cell_type": "code",
   "execution_count": 47,
   "id": "9c28e0eb-ec90-406b-9936-2a746140e929",
   "metadata": {
    "tags": []
   },
   "outputs": [],
   "source": [
    "module='nrcb'"
   ]
  },
  {
   "cell_type": "code",
   "execution_count": 48,
   "id": "3609b1b1-a15c-4998-a461-1c0ce54e6e14",
   "metadata": {
    "tags": []
   },
   "outputs": [
    {
     "data": {
      "text/plain": [
       "7.9"
      ]
     },
     "execution_count": 48,
     "metadata": {},
     "output_type": "execute_result"
    }
   ],
   "source": [
    "float(row['xshift (arcsec)'])"
   ]
  },
  {
   "cell_type": "code",
   "execution_count": 52,
   "id": "64e8835d-106c-4e85-95d0-9b9b27f831c7",
   "metadata": {
    "tags": []
   },
   "outputs": [
    {
     "name": "stdout",
     "output_type": "stream",
     "text": [
      "2023-08-31T15:14:12.524685: Filter F405N module nrcb\n",
      "2023-08-31T15:14:12.525943: jw02221002002_08201_00004_nrcblong_cal.fits\n",
      "Destreaking /orange/adamginsburg/jwst/cloudc/F405N/pipeline/jw02221002002_08201_00004_nrcblong_cal.fits\n",
      "2023-08-31T15:14:13.911467: /orange/adamginsburg/jwst/cloudc/F405N/pipeline/jw02221002002_08201_00004_nrcblong_destreak.fits\n",
      "2023-08-31T15:14:14.312059: Running manual align.\n",
      "2023-08-31T15:14:14.313538: 1024.5 61.413063064009854\n",
      "2023-08-31T15:14:14.313667: 1085.9130630640097\n",
      "2023-08-31T15:14:14.313813: 1024.5 14.356300456521783\n",
      "2023-08-31T15:14:14.313926: 1038.8563004565217\n",
      "2023-08-31T15:14:14.520690: jw02221002002_08201_00002_nrcblong_cal.fits\n",
      "Destreaking /orange/adamginsburg/jwst/cloudc/F405N/pipeline/jw02221002002_08201_00002_nrcblong_cal.fits\n",
      "2023-08-31T15:14:15.904793: /orange/adamginsburg/jwst/cloudc/F405N/pipeline/jw02221002002_08201_00002_nrcblong_destreak.fits\n",
      "2023-08-31T15:14:16.294528: Running manual align.\n",
      "2023-08-31T15:14:16.296526: 1024.5 61.413063064009854\n",
      "2023-08-31T15:14:16.296673: 1085.9130630640097\n",
      "2023-08-31T15:14:16.296820: 1024.5 14.356300456521783\n",
      "2023-08-31T15:14:16.296930: 1038.8563004565217\n",
      "2023-08-31T15:14:16.506319: jw02221002002_02201_00002_nrcblong_cal.fits\n",
      "Destreaking /orange/adamginsburg/jwst/cloudc/F405N/pipeline/jw02221002002_02201_00002_nrcblong_cal.fits\n",
      "2023-08-31T15:14:17.872064: /orange/adamginsburg/jwst/cloudc/F405N/pipeline/jw02221002002_02201_00002_nrcblong_destreak.fits\n",
      "2023-08-31T15:14:18.265878: Running manual align.\n",
      "2023-08-31T15:14:18.268062: 1024.5 63.80577980676348\n",
      "2023-08-31T15:14:18.268204: 1088.3057798067634\n",
      "2023-08-31T15:14:18.268349: 1024.5 15.95144495169087\n",
      "2023-08-31T15:14:18.268460: 1040.451444951691\n",
      "2023-08-31T15:14:18.493745: jw02221002002_08201_00003_nrcblong_cal.fits\n",
      "Destreaking /orange/adamginsburg/jwst/cloudc/F405N/pipeline/jw02221002002_08201_00003_nrcblong_cal.fits\n",
      "2023-08-31T15:14:19.832051: /orange/adamginsburg/jwst/cloudc/F405N/pipeline/jw02221002002_08201_00003_nrcblong_destreak.fits\n",
      "2023-08-31T15:14:20.241647: Running manual align.\n",
      "2023-08-31T15:14:20.243128: 1024.5 62.210635311594395\n",
      "2023-08-31T15:14:20.243256: 1086.7106353115944\n",
      "2023-08-31T15:14:20.243403: 1024.5 14.356300456521783\n",
      "2023-08-31T15:14:20.243517: 1038.8563004565217\n",
      "2023-08-31T15:14:20.465818: jw02221002001_08201_00002_nrcblong_cal.fits\n",
      "Destreaking /orange/adamginsburg/jwst/cloudc/F405N/pipeline/jw02221002001_08201_00002_nrcblong_cal.fits\n",
      "2023-08-31T15:14:21.732307: /orange/adamginsburg/jwst/cloudc/F405N/pipeline/jw02221002001_08201_00002_nrcblong_destreak.fits\n",
      "2023-08-31T15:14:22.097920: Running manual align.\n",
      "2023-08-31T15:14:22.099476: 1024.5 126.01641511835788\n",
      "2023-08-31T15:14:22.099604: 1150.5164151183578\n",
      "2023-08-31T15:14:22.099753: 1024.5 -4.785433485507261\n",
      "2023-08-31T15:14:22.099863: 1019.7145665144927\n",
      "2023-08-31T15:14:22.378113: jw02221002002_08201_00001_nrcblong_cal.fits\n",
      "Destreaking /orange/adamginsburg/jwst/cloudc/F405N/pipeline/jw02221002002_08201_00001_nrcblong_cal.fits\n",
      "2023-08-31T15:14:23.778303: /orange/adamginsburg/jwst/cloudc/F405N/pipeline/jw02221002002_08201_00001_nrcblong_destreak.fits\n",
      "2023-08-31T15:14:24.203373: Running manual align.\n",
      "2023-08-31T15:14:24.206586: 1024.5 61.413063064009854\n",
      "2023-08-31T15:14:24.206816: 1085.9130630640097\n",
      "2023-08-31T15:14:24.213237: 1024.5 14.356300456521783\n",
      "2023-08-31T15:14:24.213861: 1038.8563004565217\n",
      "2023-08-31T15:14:24.422057: jw02221002002_02201_00004_nrcblong_cal.fits\n",
      "Destreaking /orange/adamginsburg/jwst/cloudc/F405N/pipeline/jw02221002002_02201_00004_nrcblong_cal.fits\n",
      "2023-08-31T15:14:25.794200: /orange/adamginsburg/jwst/cloudc/F405N/pipeline/jw02221002002_02201_00004_nrcblong_destreak.fits\n",
      "2023-08-31T15:14:26.162854: Running manual align.\n",
      "2023-08-31T15:14:26.164296: 1024.5 63.00820755917894\n",
      "2023-08-31T15:14:26.164421: 1087.508207559179\n",
      "2023-08-31T15:14:26.164563: 1024.5 15.95144495169087\n",
      "2023-08-31T15:14:26.164672: 1040.451444951691\n",
      "2023-08-31T15:14:26.338808: jw02221002002_02201_00003_nrcblong_cal.fits\n",
      "Destreaking /orange/adamginsburg/jwst/cloudc/F405N/pipeline/jw02221002002_02201_00003_nrcblong_cal.fits\n",
      "2023-08-31T15:14:27.554178: /orange/adamginsburg/jwst/cloudc/F405N/pipeline/jw02221002002_02201_00003_nrcblong_destreak.fits\n",
      "2023-08-31T15:14:27.992514: Running manual align.\n",
      "2023-08-31T15:14:27.993973: 1024.5 63.00820755917894\n",
      "2023-08-31T15:14:27.994100: 1087.508207559179\n",
      "2023-08-31T15:14:27.994237: 1024.5 14.356300456521783\n",
      "2023-08-31T15:14:27.994343: 1038.8563004565217\n",
      "2023-08-31T15:14:28.163685: jw02221002002_02201_00001_nrcblong_cal.fits\n",
      "Destreaking /orange/adamginsburg/jwst/cloudc/F405N/pipeline/jw02221002002_02201_00001_nrcblong_cal.fits\n",
      "2023-08-31T15:14:29.497424: /orange/adamginsburg/jwst/cloudc/F405N/pipeline/jw02221002002_02201_00001_nrcblong_destreak.fits\n",
      "2023-08-31T15:14:29.880103: Running manual align.\n",
      "2023-08-31T15:14:29.886424: 1024.5 62.210635311594395\n",
      "2023-08-31T15:14:29.887072: 1086.7106353115944\n",
      "2023-08-31T15:14:29.887668: 1024.5 15.153872704106327\n",
      "2023-08-31T15:14:29.888101: 1039.6538727041063\n",
      "2023-08-31T15:14:30.074098: jw02221002001_08201_00003_nrcblong_cal.fits\n",
      "Destreaking /orange/adamginsburg/jwst/cloudc/F405N/pipeline/jw02221002001_08201_00003_nrcblong_cal.fits\n",
      "2023-08-31T15:14:31.413928: /orange/adamginsburg/jwst/cloudc/F405N/pipeline/jw02221002001_08201_00003_nrcblong_destreak.fits\n",
      "2023-08-31T15:14:31.814817: Running manual align.\n",
      "2023-08-31T15:14:31.818119: 1024.5 126.01641511835788\n",
      "2023-08-31T15:14:31.818352: 1150.5164151183578\n",
      "2023-08-31T15:14:31.818530: 1024.5 -4.785433485507261\n",
      "2023-08-31T15:14:31.818664: 1019.7145665144927\n",
      "2023-08-31T15:14:32.026119: jw02221002001_08201_00004_nrcblong_cal.fits\n",
      "Destreaking /orange/adamginsburg/jwst/cloudc/F405N/pipeline/jw02221002001_08201_00004_nrcblong_cal.fits\n",
      "2023-08-31T15:14:33.384262: /orange/adamginsburg/jwst/cloudc/F405N/pipeline/jw02221002001_08201_00004_nrcblong_destreak.fits\n",
      "2023-08-31T15:14:33.750505: Running manual align.\n",
      "2023-08-31T15:14:33.752145: 1024.5 126.81398736594242\n",
      "2023-08-31T15:14:33.752276: 1151.3139873659425\n",
      "2023-08-31T15:14:33.752420: 1024.5 -4.785433485507261\n",
      "2023-08-31T15:14:33.752530: 1019.7145665144927\n",
      "2023-08-31T15:14:34.031967: jw02221002001_02201_00004_nrcblong_cal.fits\n",
      "Destreaking /orange/adamginsburg/jwst/cloudc/F405N/pipeline/jw02221002001_02201_00004_nrcblong_cal.fits\n",
      "2023-08-31T15:14:35.399801: /orange/adamginsburg/jwst/cloudc/F405N/pipeline/jw02221002001_02201_00004_nrcblong_destreak.fits\n",
      "2023-08-31T15:14:35.789666: Running manual align.\n",
      "2023-08-31T15:14:35.791141: 1024.5 125.21884287077333\n",
      "2023-08-31T15:14:35.791267: 1149.7188428707734\n",
      "2023-08-31T15:14:35.791418: 1024.5 -4.785433485507261\n",
      "2023-08-31T15:14:35.791528: 1019.7145665144927\n",
      "2023-08-31T15:14:35.966043: jw02221002001_08201_00001_nrcblong_cal.fits\n",
      "Destreaking /orange/adamginsburg/jwst/cloudc/F405N/pipeline/jw02221002001_08201_00001_nrcblong_cal.fits\n",
      "2023-08-31T15:14:37.287870: /orange/adamginsburg/jwst/cloudc/F405N/pipeline/jw02221002001_08201_00001_nrcblong_destreak.fits\n",
      "2023-08-31T15:14:37.691936: Running manual align.\n",
      "2023-08-31T15:14:37.693407: 1024.5 126.01641511835788\n",
      "2023-08-31T15:14:37.693532: 1150.5164151183578\n",
      "2023-08-31T15:14:37.693671: 1024.5 -4.785433485507261\n",
      "2023-08-31T15:14:37.693778: 1019.7145665144927\n",
      "2023-08-31T15:14:37.873002: jw02221002001_02201_00002_nrcblong_cal.fits\n",
      "Destreaking /orange/adamginsburg/jwst/cloudc/F405N/pipeline/jw02221002001_02201_00002_nrcblong_cal.fits\n",
      "2023-08-31T15:14:39.186341: /orange/adamginsburg/jwst/cloudc/F405N/pipeline/jw02221002001_02201_00002_nrcblong_destreak.fits\n",
      "2023-08-31T15:14:39.563659: Running manual align.\n",
      "2023-08-31T15:14:39.565219: 1024.5 126.01641511835788\n",
      "2023-08-31T15:14:39.565348: 1150.5164151183578\n",
      "2023-08-31T15:14:39.565495: 1024.5 -4.785433485507261\n",
      "2023-08-31T15:14:39.565611: 1019.7145665144927\n",
      "2023-08-31T15:14:39.779259: jw02221002001_02201_00003_nrcblong_cal.fits\n",
      "Destreaking /orange/adamginsburg/jwst/cloudc/F405N/pipeline/jw02221002001_02201_00003_nrcblong_cal.fits\n",
      "2023-08-31T15:14:41.111314: /orange/adamginsburg/jwst/cloudc/F405N/pipeline/jw02221002001_02201_00003_nrcblong_destreak.fits\n",
      "2023-08-31T15:14:41.515922: Running manual align.\n",
      "2023-08-31T15:14:41.517378: 1024.5 126.01641511835788\n",
      "2023-08-31T15:14:41.517501: 1150.5164151183578\n",
      "2023-08-31T15:14:41.517641: 1024.5 -4.785433485507261\n",
      "2023-08-31T15:14:41.517749: 1019.7145665144927\n",
      "2023-08-31T15:14:41.733103: jw02221002001_02201_00001_nrcblong_cal.fits\n",
      "Destreaking /orange/adamginsburg/jwst/cloudc/F405N/pipeline/jw02221002001_02201_00001_nrcblong_cal.fits\n",
      "2023-08-31T15:14:43.057773: /orange/adamginsburg/jwst/cloudc/F405N/pipeline/jw02221002001_02201_00001_nrcblong_destreak.fits\n",
      "2023-08-31T15:14:43.421521: Running manual align.\n",
      "2023-08-31T15:14:43.423056: 1024.5 126.01641511835788\n",
      "2023-08-31T15:14:43.423184: 1150.5164151183578\n",
      "2023-08-31T15:14:43.423332: 1024.5 -4.785433485507261\n",
      "2023-08-31T15:14:43.423444: 1019.7145665144927\n"
     ]
    }
   ],
   "source": [
    "if module in ('nrca', 'nrcb'):\n",
    "    print(f\"Filter {filtername} module {module}\")\n",
    "\n",
    "    with open(asn_file) as f_obj:\n",
    "        asn_data = json.load(f_obj)\n",
    "    asn_data['products'][0]['name'] = f'jw02221-o{field}_t001_nircam_clear-{filtername.lower()}-{module}'\n",
    "    asn_data['products'][0]['members'] = [row for row in asn_data['products'][0]['members']\n",
    "                                            if f'{module}' in row['expname']]\n",
    "\n",
    "    for member in asn_data['products'][0]['members']:\n",
    "        print(member['expname'])\n",
    "        member['expname'] = os.path.join(output_dir, member['expname'])\n",
    "        hdr = fits.getheader(member['expname'])\n",
    "        if filtername in (hdr['PUPIL'], hdr['FILTER']):\n",
    "            outname = destreak(member['expname'],\n",
    "                               use_background_map=True,\n",
    "                               median_filter_size=2048)  # median_filter_size=medfilt_size[filtername])\n",
    "            member['expname'] = outname\n",
    "\n",
    "        print(member['expname'])\n",
    "        if field == '002' and (filtername.lower() == 'f405n' or filtername.lower() == 'f410m' or filtername.lower() == 'f466n'):\n",
    "                align_image = member['expname'].replace(\"_destreak.fits\", \"_align.fits\")#.split('.')[0]+'_align.fits'\n",
    "                shutil.copy(member['expname'], align_image)\n",
    "                offsets_tbl = Table.read('/orange/adamginsburg/jwst/cloudc/offsets/Offsets_JWST_Cloud_C.csv')\n",
    "                row = offsets_tbl[member['expname'].split('/')[-1] == offsets_tbl['Filename_1']]\n",
    "                align_fits = fits.open(align_image)\n",
    "                pixel_scale = np.sqrt(fits.getheader(align_image, ext=1)['PIXAR_A2']*u.arcsec**2)\n",
    "                try: \n",
    "                    print('Running manual align.')\n",
    "                    print(align_fits['SCI',1].header['CRPIX1'], (float(row['xshift (arcsec)'])*u.arcsec/pixel_scale).value)\n",
    "                    print(align_fits['SCI',1].header['CRPIX1'] + (float(row['xshift (arcsec)'])*u.arcsec/pixel_scale).value)\n",
    "                    print(align_fits['SCI',1].header['CRPIX2'], (float(row['yshift (arcsec)'])*u.arcsec/pixel_scale).value)\n",
    "                    print(align_fits['SCI',1].header['CRPIX2'] + (float(row['yshift (arcsec)'])*u.arcsec/pixel_scale).value)\n",
    "                    align_fits['SCI',1].header['CRPIX1']+=(float(row['xshift (arcsec)'])*u.arcsec/pixel_scale).value\n",
    "                    align_fits['SCI',1].header['CRPIX2']+=(float(row['yshift (arcsec)'])*u.arcsec/pixel_scale).value\n",
    "                except: \n",
    "                    print('Something went wrong with manual align, running default values.')\n",
    "                    visit = member['expname'].split('_')[0][-3:]\n",
    "                    if visit == '001':\n",
    "                        align_fits['SCI',1].header['CRPIX1']+=(8*u.arcsec/pixel_scale).value\n",
    "                        align_fits['SCI',1].header['CRPIX2']+=(-0.3*u.arcsec/pixel_scale).value\n",
    "                    elif visit == '002':\n",
    "                        align_fits['SCI',1].header['CRPIX1']+=(3.9*u.arcsec/pixel_scale).value\n",
    "                        align_fits['SCI',1].header['CRPIX2']+=(1*u.arcsec/pixel_scale).value\n",
    "                    else:\n",
    "                        align_fits['SCI',1].header['CRPIX1']+=(0*u.arcsec/pixel_scale).value\n",
    "                        align_fits['SCI',1].header['CRPIX2']+=(0*u.arcsec/pixel_scale).value\n",
    "                align_fits.writeto(align_image, overwrite=True)\n",
    "                member['expname'] = align_image\n",
    "\n",
    "    asn_file_each = asn_file.replace(\"_asn.json\", f\"_{module}_asn.json\")\n",
    "    with open(asn_file_each, 'w') as fh:\n",
    "        json.dump(asn_data, fh)"
   ]
  },
  {
   "cell_type": "code",
   "execution_count": 22,
   "id": "1d527bc5-8644-473e-907b-87256d3b67cf",
   "metadata": {
    "tags": []
   },
   "outputs": [
    {
     "data": {
      "text/plain": [
       "'/orange/adamginsburg/jwst/cloudc/F405N/pipeline/jw02221-o002_20230725t121309_image3_00005_asn.json'"
      ]
     },
     "execution_count": 22,
     "metadata": {},
     "output_type": "execute_result"
    }
   ],
   "source": [
    "asn_file#['products'][0]['members']"
   ]
  },
  {
   "cell_type": "code",
   "execution_count": 18,
   "id": "de353f98-63bd-4517-986f-5e499bf47075",
   "metadata": {},
   "outputs": [
    {
     "data": {
      "text/plain": [
       "'/orange/adamginsburg/jwst/cloudc/F405N/pipeline/jw02221-o002_20230725t121309_image3_00005_nrca_asn.json'"
      ]
     },
     "execution_count": 18,
     "metadata": {},
     "output_type": "execute_result"
    }
   ],
   "source": [
    "asn_file_each"
   ]
  },
  {
   "cell_type": "code",
   "execution_count": null,
   "id": "1397c58b-54ac-499e-957e-3883cedcd1e0",
   "metadata": {},
   "outputs": [],
   "source": []
  },
  {
   "cell_type": "code",
   "execution_count": null,
   "id": "d9515665-0ae2-42fc-93b8-27fe979bcd75",
   "metadata": {},
   "outputs": [],
   "source": []
  },
  {
   "cell_type": "code",
   "execution_count": 12,
   "id": "e6102ec2-fee2-4041-922a-59c2c44ab898",
   "metadata": {},
   "outputs": [
    {
     "name": "stdout",
     "output_type": "stream",
     "text": [
      "2023-08-25T12:55:10.849973: Loaded VVV catalog /orange/adamginsburg/jwst/cloudc//F405N/pipeline/jw02221-o002_t001_nircam_clear-F405N-merged_vvvcat.ecsv\n"
     ]
    }
   ],
   "source": [
    "\n",
    "if filtername.lower() == 'f405n':\n",
    "# for the VVV cat, use the merged version: no need for independent versions\n",
    "    abs_refcat = vvvdr2fn = (f'{basepath}/{filtername.upper()}/pipeline/jw02221-o{field}_t001_nircam_clear-{filtername}-merged_vvvcat.ecsv') # file needed by crowdsource_catalogs_long\n",
    "    print(f\"Loaded VVV catalog {vvvdr2fn}\")\n",
    "    retrieve_vvv(basepath=basepath, filtername=filtername, fov_regname=fov_regname[regionname], module='merged', fieldnumber=field)\n",
    "    tweakreg_parameters['abs_refcat'] = vvvdr2fn\n",
    "    tweakreg_parameters['abs_searchrad'] = 1\n",
    "    reftbl = Table.read(abs_refcat)\n",
    "    assert 'skycoord' in reftbl.colnames\n",
    "else:\n",
    "    abs_refcat = f'{basepath}/catalogs/crowdsource_based_nircam-f405n_reference_astrometric_catalog.ecsv'\n",
    "    reftbl = Table.read(abs_refcat)\n",
    "    # For non-F410M, try aligning to F410M instead of VVV?\n",
    "    reftblversion = reftbl.meta['VERSION']\n",
    "\n",
    "    # truncate to top 10,000 sources\n",
    "    reftbl[:10000].write(f'{basepath}/catalogs/crowdsource_based_nircam-f405n_reference_astrometric_catalog_truncated10000.ecsv', overwrite=True)\n",
    "    abs_refcat = f'{basepath}/catalogs/crowdsource_based_nircam-f405n_reference_astrometric_catalog_truncated10000.ecsv'\n",
    "\n",
    "    tweakreg_parameters['abs_searchrad'] = 0.4\n",
    "    # try forcing searchrad to be tighter to avoid bad crossmatches\n",
    "    # (the raw data are very well-aligned to begin with, though CARTA\n",
    "    # can't display them b/c they are using SIP)\n",
    "    tweakreg_parameters['searchrad'] = 0.05\n",
    "    print(f\"Reference catalog is {abs_refcat} with version {reftblversion}\")\n"
   ]
  },
  {
   "cell_type": "code",
   "execution_count": null,
   "id": "de81c6da-6b89-4039-ad4f-acc2440df84c",
   "metadata": {},
   "outputs": [],
   "source": [
    "\n",
    "tweakreg_parameters.update({\n",
    "                           'fitgeometry': 'general',\n",
    "                           # brightest = 5000 was causing problems- maybe the cross-alignment was getting caught on PSF artifacts?\n",
    "                           'brightest': 500,\n",
    "                           'snr_threshold': 30, # was 5, but that produced too many stars\n",
    "                           'abs_refcat': abs_refcat,\n",
    "                           'save_catalogs': True,\n",
    "                           'catalog_format': 'ecsv',\n",
    "                           'kernel_fwhm': fwhm_pix,\n",
    "                           'nclip': 5,\n",
    "                           # based on DebugReproduceTweakregStep\n",
    "                           'sharplo': 0.3,\n",
    "                           'sharphi': 0.9,\n",
    "                           'roundlo': -0.25,\n",
    "                           'roundhi': 0.25,\n",
    "                           #'searchrad': 4.0,\n",
    "                           #'xoffset': -6.0,\n",
    "                           'separation': 0.5, # minimum separation; default is 1\n",
    "                           # 'clip_accum': True, # https://github.com/spacetelescope/tweakwcs/pull/169/files\n",
    "                           })\n",
    "\n",
    "log.info(f\"Running tweakreg ({module})\")\n",
    "calwebb_image3.Image3Pipeline.call(\n",
    "    asn_file_each,\n",
    "    steps={'tweakreg': tweakreg_parameters,},\n",
    "    output_dir=output_dir,\n",
    "    save_results=True)\n",
    "print(f\"DONE running {asn_file_each}\")"
   ]
  },
  {
   "cell_type": "code",
   "execution_count": null,
   "id": "55224578-fcf3-44f2-94b5-e6e70ee98702",
   "metadata": {},
   "outputs": [],
   "source": []
  },
  {
   "cell_type": "code",
   "execution_count": null,
   "id": "b24512ba-7098-4e6b-ae2e-bda9123e473f",
   "metadata": {},
   "outputs": [],
   "source": []
  },
  {
   "cell_type": "code",
   "execution_count": 13,
   "id": "a508f4bd-fa39-4f1a-8381-c398e672ec5b",
   "metadata": {},
   "outputs": [
    {
     "data": {
      "text/plain": [
       "'/orange/adamginsburg/jwst/cloudc/F405N/pipeline/'"
      ]
     },
     "execution_count": 13,
     "metadata": {},
     "output_type": "execute_result"
    }
   ],
   "source": [
    "output_dir"
   ]
  },
  {
   "cell_type": "code",
   "execution_count": 15,
   "id": "9672734c-d5dc-4fc3-884a-710a8649a026",
   "metadata": {
    "tags": []
   },
   "outputs": [
    {
     "name": "stderr",
     "output_type": "stream",
     "text": [
      "2023-08-25 12:55:20,664 - stpipe.TweakRegStep - INFO - TweakRegStep instance created.\n",
      "2023-08-25 12:55:20,764 - stpipe.TweakRegStep - INFO - Step TweakRegStep running with args ('/orange/adamginsburg/jwst/cloudc/F405N/pipeline/jw02221-o002_20230725t121309_image3_00005_nrcb_asn.json',).\n",
      "2023-08-25 12:55:20,768 - stpipe.TweakRegStep - INFO - Step TweakRegStep parameters are: {'pre_hooks': [], 'post_hooks': [], 'output_file': None, 'output_dir': '/orange/adamginsburg/jwst/cloudc/F405N/pipeline/', 'output_ext': '.fits', 'output_use_model': True, 'output_use_index': True, 'save_results': True, 'skip': False, 'suffix': None, 'search_output_file': True, 'input_dir': '', 'save_catalogs': True, 'use_custom_catalogs': False, 'catalog_format': 'ecsv', 'catfile': '', 'kernel_fwhm': 2.165, 'snr_threshold': 30, 'sharplo': 0.3, 'sharphi': 0.9, 'roundlo': -0.25, 'roundhi': 0.25, 'brightest': 500, 'peakmax': None, 'bkg_boxsize': 400, 'enforce_user_order': False, 'expand_refcat': False, 'minobj': 15, 'searchrad': 2.0, 'use2dhist': True, 'separation': 0.5, 'tolerance': 0.7, 'xoffset': 0.0, 'yoffset': 0.0, 'fitgeometry': 'general', 'nclip': 5, 'sigma': 3.0, 'abs_refcat': '/orange/adamginsburg/jwst/cloudc//F405N/pipeline/jw02221-o002_t001_nircam_clear-F405N-merged_vvvcat.ecsv', 'save_abs_catalog': False, 'abs_minobj': 15, 'abs_searchrad': 6.0, 'abs_use2dhist': True, 'abs_separation': 0.1, 'abs_tolerance': 0.7, 'abs_fitgeometry': 'rshift', 'abs_nclip': 3, 'abs_sigma': 3.0}\n",
      "2023-08-25 12:55:20,804 - stpipe.TweakRegStep - WARNING - /blue/adamginsburg/adamginsburg/miniconda3/envs/python39savannah/lib/python3.9/site-packages/jwst/associations/association.py:215: UserWarning: 'expname' contains path, but should only be a filename.  All input files should be in a single directory, so no path is needed.\n",
      "  warnings.warn(err_str, UserWarning)\n",
      "\n",
      "2023-08-25 12:55:25,421 - stpipe.TweakRegStep - WARNING - /blue/adamginsburg/adamginsburg/miniconda3/envs/python39savannah/lib/python3.9/site-packages/photutils/background/background_2d.py:274: AstropyUserWarning: Input data contains invalid values (NaNs or infs), which were automatically masked.\n",
      "  warnings.warn('Input data contains invalid values (NaNs or '\n",
      "\n",
      "2023-08-25 12:55:27,938 - stpipe.TweakRegStep - INFO - Detected 500 sources in jw02221002002_08201_00004_nrcblong_destreak.fits.\n",
      "2023-08-25 12:55:27,948 - stpipe.TweakRegStep - INFO - Wrote source catalog: jw02221002002_08201_00004_nrcblong_destreak_cat.ecsv\n",
      "2023-08-25 12:55:28,084 - stpipe.TweakRegStep - WARNING - /blue/adamginsburg/adamginsburg/miniconda3/envs/python39savannah/lib/python3.9/site-packages/photutils/background/background_2d.py:274: AstropyUserWarning: Input data contains invalid values (NaNs or infs), which were automatically masked.\n",
      "  warnings.warn('Input data contains invalid values (NaNs or '\n",
      "\n",
      "2023-08-25 12:55:30,235 - stpipe.TweakRegStep - INFO - Detected 500 sources in jw02221002002_08201_00002_nrcblong_destreak.fits.\n",
      "2023-08-25 12:55:30,244 - stpipe.TweakRegStep - INFO - Wrote source catalog: jw02221002002_08201_00002_nrcblong_destreak_cat.ecsv\n",
      "2023-08-25 12:55:30,272 - stpipe.TweakRegStep - WARNING - /blue/adamginsburg/adamginsburg/miniconda3/envs/python39savannah/lib/python3.9/site-packages/photutils/background/background_2d.py:274: AstropyUserWarning: Input data contains invalid values (NaNs or infs), which were automatically masked.\n",
      "  warnings.warn('Input data contains invalid values (NaNs or '\n",
      "\n",
      "2023-08-25 12:55:32,524 - stpipe.TweakRegStep - INFO - Detected 500 sources in jw02221002002_02201_00002_nrcblong_destreak.fits.\n",
      "2023-08-25 12:55:32,533 - stpipe.TweakRegStep - INFO - Wrote source catalog: jw02221002002_02201_00002_nrcblong_destreak_cat.ecsv\n",
      "2023-08-25 12:55:32,561 - stpipe.TweakRegStep - WARNING - /blue/adamginsburg/adamginsburg/miniconda3/envs/python39savannah/lib/python3.9/site-packages/photutils/background/background_2d.py:274: AstropyUserWarning: Input data contains invalid values (NaNs or infs), which were automatically masked.\n",
      "  warnings.warn('Input data contains invalid values (NaNs or '\n",
      "\n",
      "2023-08-25 12:55:34,729 - stpipe.TweakRegStep - INFO - Detected 500 sources in jw02221002002_08201_00003_nrcblong_destreak.fits.\n",
      "2023-08-25 12:55:34,747 - stpipe.TweakRegStep - INFO - Wrote source catalog: jw02221002002_08201_00003_nrcblong_destreak_cat.ecsv\n",
      "2023-08-25 12:55:34,775 - stpipe.TweakRegStep - WARNING - /blue/adamginsburg/adamginsburg/miniconda3/envs/python39savannah/lib/python3.9/site-packages/photutils/background/background_2d.py:274: AstropyUserWarning: Input data contains invalid values (NaNs or infs), which were automatically masked.\n",
      "  warnings.warn('Input data contains invalid values (NaNs or '\n",
      "\n",
      "2023-08-25 12:55:36,997 - stpipe.TweakRegStep - INFO - Detected 500 sources in jw02221002001_08201_00002_nrcblong_destreak.fits.\n",
      "2023-08-25 12:55:37,007 - stpipe.TweakRegStep - INFO - Wrote source catalog: jw02221002001_08201_00002_nrcblong_destreak_cat.ecsv\n",
      "2023-08-25 12:55:37,034 - stpipe.TweakRegStep - WARNING - /blue/adamginsburg/adamginsburg/miniconda3/envs/python39savannah/lib/python3.9/site-packages/photutils/background/background_2d.py:274: AstropyUserWarning: Input data contains invalid values (NaNs or infs), which were automatically masked.\n",
      "  warnings.warn('Input data contains invalid values (NaNs or '\n",
      "\n",
      "2023-08-25 12:55:39,196 - stpipe.TweakRegStep - INFO - Detected 500 sources in jw02221002002_08201_00001_nrcblong_destreak.fits.\n",
      "2023-08-25 12:55:39,205 - stpipe.TweakRegStep - INFO - Wrote source catalog: jw02221002002_08201_00001_nrcblong_destreak_cat.ecsv\n",
      "2023-08-25 12:55:39,232 - stpipe.TweakRegStep - WARNING - /blue/adamginsburg/adamginsburg/miniconda3/envs/python39savannah/lib/python3.9/site-packages/photutils/background/background_2d.py:274: AstropyUserWarning: Input data contains invalid values (NaNs or infs), which were automatically masked.\n",
      "  warnings.warn('Input data contains invalid values (NaNs or '\n",
      "\n",
      "2023-08-25 12:55:41,431 - stpipe.TweakRegStep - INFO - Detected 500 sources in jw02221002002_02201_00004_nrcblong_destreak.fits.\n",
      "2023-08-25 12:55:41,440 - stpipe.TweakRegStep - INFO - Wrote source catalog: jw02221002002_02201_00004_nrcblong_destreak_cat.ecsv\n",
      "2023-08-25 12:55:41,466 - stpipe.TweakRegStep - WARNING - /blue/adamginsburg/adamginsburg/miniconda3/envs/python39savannah/lib/python3.9/site-packages/photutils/background/background_2d.py:274: AstropyUserWarning: Input data contains invalid values (NaNs or infs), which were automatically masked.\n",
      "  warnings.warn('Input data contains invalid values (NaNs or '\n",
      "\n",
      "2023-08-25 12:55:43,659 - stpipe.TweakRegStep - INFO - Detected 500 sources in jw02221002002_02201_00003_nrcblong_destreak.fits.\n",
      "2023-08-25 12:55:43,695 - stpipe.TweakRegStep - INFO - Wrote source catalog: jw02221002002_02201_00003_nrcblong_destreak_cat.ecsv\n",
      "2023-08-25 12:55:43,723 - stpipe.TweakRegStep - WARNING - /blue/adamginsburg/adamginsburg/miniconda3/envs/python39savannah/lib/python3.9/site-packages/photutils/background/background_2d.py:274: AstropyUserWarning: Input data contains invalid values (NaNs or infs), which were automatically masked.\n",
      "  warnings.warn('Input data contains invalid values (NaNs or '\n",
      "\n",
      "2023-08-25 12:55:45,941 - stpipe.TweakRegStep - INFO - Detected 500 sources in jw02221002002_02201_00001_nrcblong_destreak.fits.\n",
      "2023-08-25 12:55:45,971 - stpipe.TweakRegStep - INFO - Wrote source catalog: jw02221002002_02201_00001_nrcblong_destreak_cat.ecsv\n",
      "2023-08-25 12:55:45,998 - stpipe.TweakRegStep - WARNING - /blue/adamginsburg/adamginsburg/miniconda3/envs/python39savannah/lib/python3.9/site-packages/photutils/background/background_2d.py:274: AstropyUserWarning: Input data contains invalid values (NaNs or infs), which were automatically masked.\n",
      "  warnings.warn('Input data contains invalid values (NaNs or '\n",
      "\n",
      "2023-08-25 12:55:48,242 - stpipe.TweakRegStep - INFO - Detected 500 sources in jw02221002001_08201_00003_nrcblong_destreak.fits.\n",
      "2023-08-25 12:55:48,251 - stpipe.TweakRegStep - INFO - Wrote source catalog: jw02221002001_08201_00003_nrcblong_destreak_cat.ecsv\n",
      "2023-08-25 12:55:48,279 - stpipe.TweakRegStep - WARNING - /blue/adamginsburg/adamginsburg/miniconda3/envs/python39savannah/lib/python3.9/site-packages/photutils/background/background_2d.py:274: AstropyUserWarning: Input data contains invalid values (NaNs or infs), which were automatically masked.\n",
      "  warnings.warn('Input data contains invalid values (NaNs or '\n",
      "\n",
      "2023-08-25 12:55:50,471 - stpipe.TweakRegStep - INFO - Detected 500 sources in jw02221002001_08201_00004_nrcblong_destreak.fits.\n",
      "2023-08-25 12:55:50,481 - stpipe.TweakRegStep - INFO - Wrote source catalog: jw02221002001_08201_00004_nrcblong_destreak_cat.ecsv\n",
      "2023-08-25 12:55:50,507 - stpipe.TweakRegStep - WARNING - /blue/adamginsburg/adamginsburg/miniconda3/envs/python39savannah/lib/python3.9/site-packages/photutils/background/background_2d.py:274: AstropyUserWarning: Input data contains invalid values (NaNs or infs), which were automatically masked.\n",
      "  warnings.warn('Input data contains invalid values (NaNs or '\n",
      "\n",
      "2023-08-25 12:55:52,675 - stpipe.TweakRegStep - INFO - Detected 500 sources in jw02221002001_02201_00004_nrcblong_destreak.fits.\n",
      "2023-08-25 12:55:52,695 - stpipe.TweakRegStep - INFO - Wrote source catalog: jw02221002001_02201_00004_nrcblong_destreak_cat.ecsv\n",
      "2023-08-25 12:55:52,722 - stpipe.TweakRegStep - WARNING - /blue/adamginsburg/adamginsburg/miniconda3/envs/python39savannah/lib/python3.9/site-packages/photutils/background/background_2d.py:274: AstropyUserWarning: Input data contains invalid values (NaNs or infs), which were automatically masked.\n",
      "  warnings.warn('Input data contains invalid values (NaNs or '\n",
      "\n",
      "2023-08-25 12:55:54,883 - stpipe.TweakRegStep - INFO - Detected 500 sources in jw02221002001_08201_00001_nrcblong_destreak.fits.\n",
      "2023-08-25 12:55:54,907 - stpipe.TweakRegStep - INFO - Wrote source catalog: jw02221002001_08201_00001_nrcblong_destreak_cat.ecsv\n",
      "2023-08-25 12:55:54,935 - stpipe.TweakRegStep - WARNING - /blue/adamginsburg/adamginsburg/miniconda3/envs/python39savannah/lib/python3.9/site-packages/photutils/background/background_2d.py:274: AstropyUserWarning: Input data contains invalid values (NaNs or infs), which were automatically masked.\n",
      "  warnings.warn('Input data contains invalid values (NaNs or '\n",
      "\n",
      "2023-08-25 12:55:57,071 - stpipe.TweakRegStep - INFO - Detected 500 sources in jw02221002001_02201_00002_nrcblong_destreak.fits.\n",
      "2023-08-25 12:55:57,095 - stpipe.TweakRegStep - INFO - Wrote source catalog: jw02221002001_02201_00002_nrcblong_destreak_cat.ecsv\n",
      "2023-08-25 12:55:57,122 - stpipe.TweakRegStep - WARNING - /blue/adamginsburg/adamginsburg/miniconda3/envs/python39savannah/lib/python3.9/site-packages/photutils/background/background_2d.py:274: AstropyUserWarning: Input data contains invalid values (NaNs or infs), which were automatically masked.\n",
      "  warnings.warn('Input data contains invalid values (NaNs or '\n",
      "\n",
      "2023-08-25 12:55:59,312 - stpipe.TweakRegStep - INFO - Detected 500 sources in jw02221002001_02201_00003_nrcblong_destreak.fits.\n",
      "2023-08-25 12:55:59,321 - stpipe.TweakRegStep - INFO - Wrote source catalog: jw02221002001_02201_00003_nrcblong_destreak_cat.ecsv\n",
      "2023-08-25 12:55:59,349 - stpipe.TweakRegStep - WARNING - /blue/adamginsburg/adamginsburg/miniconda3/envs/python39savannah/lib/python3.9/site-packages/photutils/background/background_2d.py:274: AstropyUserWarning: Input data contains invalid values (NaNs or infs), which were automatically masked.\n",
      "  warnings.warn('Input data contains invalid values (NaNs or '\n",
      "\n",
      "2023-08-25 12:56:01,520 - stpipe.TweakRegStep - INFO - Detected 500 sources in jw02221002001_02201_00001_nrcblong_destreak.fits.\n",
      "2023-08-25 12:56:01,530 - stpipe.TweakRegStep - INFO - Wrote source catalog: jw02221002001_02201_00001_nrcblong_destreak_cat.ecsv\n",
      "2023-08-25 12:56:01,563 - stpipe.TweakRegStep - INFO - \n",
      "2023-08-25 12:56:01,564 - stpipe.TweakRegStep - INFO - Number of image groups to be aligned: 16.\n",
      "2023-08-25 12:56:01,566 - stpipe.TweakRegStep - INFO - Image groups:\n",
      "2023-08-25 12:56:01,595 - stpipe.TweakRegStep - INFO - * Images in GROUP 'jw02221002002_08201_00004_nrcblong_destreak':\n",
      "2023-08-25 12:56:01,596 - stpipe.TweakRegStep - INFO -      jw02221002002_08201_00004_nrcblong_destreak\n",
      "2023-08-25 12:56:01,625 - stpipe.TweakRegStep - INFO - * Images in GROUP 'jw02221002002_08201_00002_nrcblong_destreak':\n",
      "2023-08-25 12:56:01,627 - stpipe.TweakRegStep - INFO -      jw02221002002_08201_00002_nrcblong_destreak\n",
      "2023-08-25 12:56:01,654 - stpipe.TweakRegStep - INFO - * Images in GROUP 'jw02221002002_02201_00002_nrcblong_destreak':\n",
      "2023-08-25 12:56:01,656 - stpipe.TweakRegStep - INFO -      jw02221002002_02201_00002_nrcblong_destreak\n",
      "2023-08-25 12:56:01,684 - stpipe.TweakRegStep - INFO - * Images in GROUP 'jw02221002002_08201_00003_nrcblong_destreak':\n",
      "2023-08-25 12:56:01,685 - stpipe.TweakRegStep - INFO -      jw02221002002_08201_00003_nrcblong_destreak\n",
      "2023-08-25 12:56:01,714 - stpipe.TweakRegStep - INFO - * Images in GROUP 'jw02221002001_08201_00002_nrcblong_destreak':\n",
      "2023-08-25 12:56:01,715 - stpipe.TweakRegStep - INFO -      jw02221002001_08201_00002_nrcblong_destreak\n",
      "2023-08-25 12:56:01,743 - stpipe.TweakRegStep - INFO - * Images in GROUP 'jw02221002002_08201_00001_nrcblong_destreak':\n",
      "2023-08-25 12:56:01,744 - stpipe.TweakRegStep - INFO -      jw02221002002_08201_00001_nrcblong_destreak\n",
      "2023-08-25 12:56:01,772 - stpipe.TweakRegStep - INFO - * Images in GROUP 'jw02221002002_02201_00004_nrcblong_destreak':\n",
      "2023-08-25 12:56:01,774 - stpipe.TweakRegStep - INFO -      jw02221002002_02201_00004_nrcblong_destreak\n",
      "2023-08-25 12:56:01,802 - stpipe.TweakRegStep - INFO - * Images in GROUP 'jw02221002002_02201_00003_nrcblong_destreak':\n",
      "2023-08-25 12:56:01,803 - stpipe.TweakRegStep - INFO -      jw02221002002_02201_00003_nrcblong_destreak\n",
      "2023-08-25 12:56:01,831 - stpipe.TweakRegStep - INFO - * Images in GROUP 'jw02221002002_02201_00001_nrcblong_destreak':\n",
      "2023-08-25 12:56:01,833 - stpipe.TweakRegStep - INFO -      jw02221002002_02201_00001_nrcblong_destreak\n",
      "2023-08-25 12:56:01,861 - stpipe.TweakRegStep - INFO - * Images in GROUP 'jw02221002001_08201_00003_nrcblong_destreak':\n",
      "2023-08-25 12:56:01,862 - stpipe.TweakRegStep - INFO -      jw02221002001_08201_00003_nrcblong_destreak\n",
      "2023-08-25 12:56:01,890 - stpipe.TweakRegStep - INFO - * Images in GROUP 'jw02221002001_08201_00004_nrcblong_destreak':\n",
      "2023-08-25 12:56:01,892 - stpipe.TweakRegStep - INFO -      jw02221002001_08201_00004_nrcblong_destreak\n",
      "2023-08-25 12:56:01,920 - stpipe.TweakRegStep - INFO - * Images in GROUP 'jw02221002001_02201_00004_nrcblong_destreak':\n",
      "2023-08-25 12:56:01,921 - stpipe.TweakRegStep - INFO -      jw02221002001_02201_00004_nrcblong_destreak\n",
      "2023-08-25 12:56:01,950 - stpipe.TweakRegStep - INFO - * Images in GROUP 'jw02221002001_08201_00001_nrcblong_destreak':\n",
      "2023-08-25 12:56:01,951 - stpipe.TweakRegStep - INFO -      jw02221002001_08201_00001_nrcblong_destreak\n",
      "2023-08-25 12:56:01,979 - stpipe.TweakRegStep - INFO - * Images in GROUP 'jw02221002001_02201_00002_nrcblong_destreak':\n",
      "2023-08-25 12:56:01,981 - stpipe.TweakRegStep - INFO -      jw02221002001_02201_00002_nrcblong_destreak\n",
      "2023-08-25 12:56:02,009 - stpipe.TweakRegStep - INFO - * Images in GROUP 'jw02221002001_02201_00003_nrcblong_destreak':\n",
      "2023-08-25 12:56:02,010 - stpipe.TweakRegStep - INFO -      jw02221002001_02201_00003_nrcblong_destreak\n",
      "2023-08-25 12:56:02,038 - stpipe.TweakRegStep - INFO - * Images in GROUP 'jw02221002001_02201_00001_nrcblong_destreak':\n",
      "2023-08-25 12:56:02,040 - stpipe.TweakRegStep - INFO -      jw02221002001_02201_00001_nrcblong_destreak\n",
      "2023-08-25 12:56:02,041 - stpipe.TweakRegStep - INFO - \n",
      "2023-08-25 12:56:02,042 - stpipe.TweakRegStep - INFO -  \n",
      "2023-08-25 12:56:02,043 - stpipe.TweakRegStep - INFO - ***** tweakwcs.imalign.align_wcs() started on 2023-08-25 12:56:02.042385\n",
      "2023-08-25 12:56:02,044 - stpipe.TweakRegStep - INFO -       Version 0.8.2\n",
      "2023-08-25 12:56:02,045 - stpipe.TweakRegStep - INFO -  \n",
      "2023-08-25 12:56:29,468 - stpipe.TweakRegStep - INFO - Selected image 'GROUP ID: jw02221002002_08201_00002_nrcblong_destreak' as reference image\n",
      "2023-08-25 12:56:29,476 - stpipe.TweakRegStep - INFO - Aligning image catalog 'GROUP ID: jw02221002002_08201_00004_nrcblong_destreak' to the reference catalog.\n",
      "2023-08-25 12:56:29,644 - stpipe.TweakRegStep - INFO - Matching sources from 'jw02221002002_08201_00004_nrcblong_destreak' catalog with sources from the reference 'jw02221002002_08201_00002_nrcblong_destreak' catalog.\n",
      "2023-08-25 12:56:29,645 - stpipe.TweakRegStep - INFO - Computing initial guess for X and Y shifts...\n",
      "2023-08-25 12:56:29,648 - stpipe.TweakRegStep - INFO - Found initial X and Y shifts of 0.01631, 0.01631 (arcsec) with significance of 256.4 and 262 matches.\n",
      "2023-08-25 12:56:29,650 - stpipe.TweakRegStep - INFO - Found 273 matches for 'GROUP ID: jw02221002002_08201_00004_nrcblong_destreak'...\n",
      "2023-08-25 12:56:29,652 - stpipe.TweakRegStep - INFO - Performing 'general' fit\n",
      "2023-08-25 12:56:29,657 - stpipe.TweakRegStep - INFO - Computed 'general' fit for GROUP ID: jw02221002002_08201_00004_nrcblong_destreak:\n",
      "2023-08-25 12:56:29,658 - stpipe.TweakRegStep - INFO - XSH: 0.000791678  YSH: -0.00309176    PROPER ROT: 0.000322937    \n",
      "2023-08-25 12:56:29,659 - stpipe.TweakRegStep - INFO - <ROT>: 0.000322937  SKEW: 0.00396115    ROT_X: -0.00165764  ROT_Y: 0.00230351\n",
      "2023-08-25 12:56:29,660 - stpipe.TweakRegStep - INFO - <SCALE>: 1.00005  SCALE_X: 1.00008  SCALE_Y: 1.00003\n",
      "2023-08-25 12:56:29,661 - stpipe.TweakRegStep - INFO - \n",
      "2023-08-25 12:56:29,662 - stpipe.TweakRegStep - INFO - FIT RMSE: 0.0293164   FIT MAE: 0.00720257\n",
      "2023-08-25 12:56:29,663 - stpipe.TweakRegStep - INFO - Final solution based on 260 objects.\n",
      "2023-08-25 12:56:29,859 - stpipe.TweakRegStep - INFO - Added 230 unmatched sources from 'GROUP ID: jw02221002002_08201_00004_nrcblong_destreak' to the reference catalog.\n",
      "2023-08-25 12:56:31,574 - stpipe.TweakRegStep - INFO - Aligning image catalog 'GROUP ID: jw02221002002_08201_00001_nrcblong_destreak' to the reference catalog.\n",
      "2023-08-25 12:56:31,731 - stpipe.TweakRegStep - INFO - Matching sources from 'jw02221002002_08201_00001_nrcblong_destreak' catalog with sources from the reference 'jw02221002002_08201_00004_nrcblong_destreak' catalog.\n",
      "2023-08-25 12:56:31,733 - stpipe.TweakRegStep - INFO - Computing initial guess for X and Y shifts...\n",
      "2023-08-25 12:56:31,736 - stpipe.TweakRegStep - INFO - Found initial X and Y shifts of 0.016, 0.01662 (arcsec) with significance of 393.8 and 409 matches.\n",
      "2023-08-25 12:56:31,738 - stpipe.TweakRegStep - INFO - Found 408 matches for 'GROUP ID: jw02221002002_08201_00001_nrcblong_destreak'...\n",
      "2023-08-25 12:56:31,739 - stpipe.TweakRegStep - INFO - Performing 'general' fit\n",
      "2023-08-25 12:56:31,745 - stpipe.TweakRegStep - INFO - Computed 'general' fit for GROUP ID: jw02221002002_08201_00001_nrcblong_destreak:\n",
      "2023-08-25 12:56:31,746 - stpipe.TweakRegStep - INFO - XSH: 0.00104204  YSH: -0.00263917    PROPER ROT: 0.000511014    \n",
      "2023-08-25 12:56:31,747 - stpipe.TweakRegStep - INFO - <ROT>: 0.000511014  SKEW: 0.00178485    ROT_X: -0.000381409  ROT_Y: 0.00140344\n",
      "2023-08-25 12:56:31,748 - stpipe.TweakRegStep - INFO - <SCALE>: 1.00003  SCALE_X: 1.00006  SCALE_Y: 0.999999\n",
      "2023-08-25 12:56:31,749 - stpipe.TweakRegStep - INFO - \n",
      "2023-08-25 12:56:31,750 - stpipe.TweakRegStep - INFO - FIT RMSE: 0.0190418   FIT MAE: 0.00522468\n",
      "2023-08-25 12:56:31,752 - stpipe.TweakRegStep - INFO - Final solution based on 397 objects.\n",
      "2023-08-25 12:56:31,812 - stpipe.TweakRegStep - INFO - Added 95 unmatched sources from 'GROUP ID: jw02221002002_08201_00001_nrcblong_destreak' to the reference catalog.\n",
      "2023-08-25 12:56:33,372 - stpipe.TweakRegStep - INFO - Aligning image catalog 'GROUP ID: jw02221002002_08201_00003_nrcblong_destreak' to the reference catalog.\n",
      "2023-08-25 12:56:33,533 - stpipe.TweakRegStep - INFO - Matching sources from 'jw02221002002_08201_00003_nrcblong_destreak' catalog with sources from the reference 'jw02221002002_08201_00001_nrcblong_destreak' catalog.\n",
      "2023-08-25 12:56:33,535 - stpipe.TweakRegStep - INFO - Computing initial guess for X and Y shifts...\n",
      "2023-08-25 12:56:33,539 - stpipe.TweakRegStep - INFO - Found initial X and Y shifts of 0.01631, 0.01631 (arcsec) with significance of 429.1 and 453 matches.\n",
      "2023-08-25 12:56:33,541 - stpipe.TweakRegStep - INFO - Found 456 matches for 'GROUP ID: jw02221002002_08201_00003_nrcblong_destreak'...\n",
      "2023-08-25 12:56:33,543 - stpipe.TweakRegStep - INFO - Performing 'general' fit\n",
      "2023-08-25 12:56:33,548 - stpipe.TweakRegStep - INFO - Computed 'general' fit for GROUP ID: jw02221002002_08201_00003_nrcblong_destreak:\n",
      "2023-08-25 12:56:33,549 - stpipe.TweakRegStep - INFO - XSH: 0.000396989  YSH: -0.000527665    PROPER ROT: 0.000332658    \n",
      "2023-08-25 12:56:33,550 - stpipe.TweakRegStep - INFO - <ROT>: 0.000332658  SKEW: 0.00181807    ROT_X: -0.000576375  ROT_Y: 0.00124169\n",
      "2023-08-25 12:56:33,552 - stpipe.TweakRegStep - INFO - <SCALE>: 1.00003  SCALE_X: 1.00005  SCALE_Y: 1.00001\n",
      "2023-08-25 12:56:33,553 - stpipe.TweakRegStep - INFO - \n",
      "2023-08-25 12:56:33,554 - stpipe.TweakRegStep - INFO - FIT RMSE: 0.0110158   FIT MAE: 0.00385756\n",
      "2023-08-25 12:56:33,555 - stpipe.TweakRegStep - INFO - Final solution based on 445 objects.\n",
      "2023-08-25 12:56:33,615 - stpipe.TweakRegStep - INFO - Added 50 unmatched sources from 'GROUP ID: jw02221002002_08201_00003_nrcblong_destreak' to the reference catalog.\n",
      "2023-08-25 12:56:34,833 - stpipe.TweakRegStep - INFO - Aligning image catalog 'GROUP ID: jw02221002002_02201_00004_nrcblong_destreak' to the reference catalog.\n",
      "2023-08-25 12:56:34,989 - stpipe.TweakRegStep - INFO - Matching sources from 'jw02221002002_02201_00004_nrcblong_destreak' catalog with sources from the reference 'jw02221002002_08201_00003_nrcblong_destreak' catalog.\n",
      "2023-08-25 12:56:34,991 - stpipe.TweakRegStep - INFO - Computing initial guess for X and Y shifts...\n",
      "2023-08-25 12:56:34,994 - stpipe.TweakRegStep - INFO - Found initial X and Y shifts of 0.01631, 0.01631 (arcsec) with significance of 213 and 219 matches.\n",
      "2023-08-25 12:56:34,997 - stpipe.TweakRegStep - INFO - Found 222 matches for 'GROUP ID: jw02221002002_02201_00004_nrcblong_destreak'...\n",
      "2023-08-25 12:56:34,998 - stpipe.TweakRegStep - INFO - Performing 'general' fit\n",
      "2023-08-25 12:56:35,003 - stpipe.TweakRegStep - INFO - Computed 'general' fit for GROUP ID: jw02221002002_02201_00004_nrcblong_destreak:\n",
      "2023-08-25 12:56:35,004 - stpipe.TweakRegStep - INFO - XSH: -0.00693824  YSH: 0.0181033    PROPER ROT: -0.00041595    \n",
      "2023-08-25 12:56:35,005 - stpipe.TweakRegStep - INFO - <ROT>: -0.00041595  SKEW: 0.00414841    ROT_X: -0.00249016  ROT_Y: 0.00165826\n",
      "2023-08-25 12:56:35,007 - stpipe.TweakRegStep - INFO - <SCALE>: 1.00002  SCALE_X: 1.00002  SCALE_Y: 1.00002\n",
      "2023-08-25 12:56:35,008 - stpipe.TweakRegStep - INFO - \n",
      "2023-08-25 12:56:35,009 - stpipe.TweakRegStep - INFO - FIT RMSE: 0.0154236   FIT MAE: 0.00434278\n",
      "2023-08-25 12:56:35,010 - stpipe.TweakRegStep - INFO - Final solution based on 213 objects.\n",
      "2023-08-25 12:56:35,071 - stpipe.TweakRegStep - INFO - Added 285 unmatched sources from 'GROUP ID: jw02221002002_02201_00004_nrcblong_destreak' to the reference catalog.\n",
      "2023-08-25 12:56:37,625 - stpipe.TweakRegStep - INFO - Aligning image catalog 'GROUP ID: jw02221002002_02201_00002_nrcblong_destreak' to the reference catalog.\n",
      "2023-08-25 12:56:37,780 - stpipe.TweakRegStep - INFO - Matching sources from 'jw02221002002_02201_00002_nrcblong_destreak' catalog with sources from the reference 'jw02221002002_02201_00004_nrcblong_destreak' catalog.\n",
      "2023-08-25 12:56:37,781 - stpipe.TweakRegStep - INFO - Computing initial guess for X and Y shifts...\n",
      "2023-08-25 12:56:37,785 - stpipe.TweakRegStep - INFO - Found initial X and Y shifts of 0.01631, 0.01631 (arcsec) with significance of 351.9 and 369 matches.\n",
      "2023-08-25 12:56:37,788 - stpipe.TweakRegStep - INFO - Found 374 matches for 'GROUP ID: jw02221002002_02201_00002_nrcblong_destreak'...\n",
      "2023-08-25 12:56:37,789 - stpipe.TweakRegStep - INFO - Performing 'general' fit\n",
      "2023-08-25 12:56:37,793 - stpipe.TweakRegStep - INFO - Computed 'general' fit for GROUP ID: jw02221002002_02201_00002_nrcblong_destreak:\n",
      "2023-08-25 12:56:37,794 - stpipe.TweakRegStep - INFO - XSH: -0.000361391  YSH: 0.0169549    PROPER ROT: -0.000241226    \n",
      "2023-08-25 12:56:37,795 - stpipe.TweakRegStep - INFO - <ROT>: -0.000241226  SKEW: 0.00380944    ROT_X: -0.00214594  ROT_Y: 0.00166349\n",
      "2023-08-25 12:56:37,796 - stpipe.TweakRegStep - INFO - <SCALE>: 1.00003  SCALE_X: 1.00003  SCALE_Y: 1.00002\n",
      "2023-08-25 12:56:37,797 - stpipe.TweakRegStep - INFO - \n",
      "2023-08-25 12:56:37,799 - stpipe.TweakRegStep - INFO - FIT RMSE: 0.00340011   FIT MAE: 0.0028773\n",
      "2023-08-25 12:56:37,800 - stpipe.TweakRegStep - INFO - Final solution based on 363 objects.\n",
      "2023-08-25 12:56:37,862 - stpipe.TweakRegStep - INFO - Added 134 unmatched sources from 'GROUP ID: jw02221002002_02201_00002_nrcblong_destreak' to the reference catalog.\n",
      "2023-08-25 12:56:40,372 - stpipe.TweakRegStep - INFO - Aligning image catalog 'GROUP ID: jw02221002002_02201_00001_nrcblong_destreak' to the reference catalog.\n",
      "2023-08-25 12:56:40,525 - stpipe.TweakRegStep - INFO - Matching sources from 'jw02221002002_02201_00001_nrcblong_destreak' catalog with sources from the reference 'jw02221002002_02201_00002_nrcblong_destreak' catalog.\n",
      "2023-08-25 12:56:40,527 - stpipe.TweakRegStep - INFO - Computing initial guess for X and Y shifts...\n",
      "2023-08-25 12:56:40,531 - stpipe.TweakRegStep - INFO - Found initial X and Y shifts of 0.01631, 0.01631 (arcsec) with significance of 434.4 and 452 matches.\n",
      "2023-08-25 12:56:40,534 - stpipe.TweakRegStep - INFO - Found 454 matches for 'GROUP ID: jw02221002002_02201_00001_nrcblong_destreak'...\n",
      "2023-08-25 12:56:40,535 - stpipe.TweakRegStep - INFO - Performing 'general' fit\n",
      "2023-08-25 12:56:40,540 - stpipe.TweakRegStep - INFO - Computed 'general' fit for GROUP ID: jw02221002002_02201_00001_nrcblong_destreak:\n",
      "2023-08-25 12:56:40,542 - stpipe.TweakRegStep - INFO - XSH: -0.00224106  YSH: 0.0210851    PROPER ROT: -0.000561054    \n",
      "2023-08-25 12:56:40,543 - stpipe.TweakRegStep - INFO - <ROT>: -0.000561054  SKEW: 0.003305    ROT_X: -0.00221355  ROT_Y: 0.00109145\n",
      "2023-08-25 12:56:40,544 - stpipe.TweakRegStep - INFO - <SCALE>: 1.00003  SCALE_X: 1.00003  SCALE_Y: 1.00002\n",
      "2023-08-25 12:56:40,545 - stpipe.TweakRegStep - INFO - \n",
      "2023-08-25 12:56:40,546 - stpipe.TweakRegStep - INFO - FIT RMSE: 0.00345262   FIT MAE: 0.00289537\n",
      "2023-08-25 12:56:40,547 - stpipe.TweakRegStep - INFO - Final solution based on 442 objects.\n",
      "2023-08-25 12:56:40,610 - stpipe.TweakRegStep - INFO - Added 53 unmatched sources from 'GROUP ID: jw02221002002_02201_00001_nrcblong_destreak' to the reference catalog.\n",
      "2023-08-25 12:56:42,371 - stpipe.TweakRegStep - INFO - Aligning image catalog 'GROUP ID: jw02221002002_02201_00003_nrcblong_destreak' to the reference catalog.\n",
      "2023-08-25 12:56:42,552 - stpipe.TweakRegStep - INFO - Matching sources from 'jw02221002002_02201_00003_nrcblong_destreak' catalog with sources from the reference 'jw02221002002_02201_00001_nrcblong_destreak' catalog.\n",
      "2023-08-25 12:56:42,554 - stpipe.TweakRegStep - INFO - Computing initial guess for X and Y shifts...\n",
      "2023-08-25 12:56:42,559 - stpipe.TweakRegStep - INFO - Found initial X and Y shifts of 0.01631, 0.01631 (arcsec) with significance of 448.3 and 468 matches.\n",
      "2023-08-25 12:56:42,562 - stpipe.TweakRegStep - INFO - Found 473 matches for 'GROUP ID: jw02221002002_02201_00003_nrcblong_destreak'...\n",
      "2023-08-25 12:56:42,563 - stpipe.TweakRegStep - INFO - Performing 'general' fit\n",
      "2023-08-25 12:56:42,568 - stpipe.TweakRegStep - INFO - Computed 'general' fit for GROUP ID: jw02221002002_02201_00003_nrcblong_destreak:\n",
      "2023-08-25 12:56:42,570 - stpipe.TweakRegStep - INFO - XSH: 0.000739069  YSH: 0.0172657    PROPER ROT: -0.000152917    \n",
      "2023-08-25 12:56:42,571 - stpipe.TweakRegStep - INFO - <ROT>: -0.000152917  SKEW: 0.00453628    ROT_X: -0.00242106  ROT_Y: 0.00211522\n",
      "2023-08-25 12:56:42,572 - stpipe.TweakRegStep - INFO - <SCALE>: 1.00002  SCALE_X: 1.00002  SCALE_Y: 1.00001\n",
      "2023-08-25 12:56:42,573 - stpipe.TweakRegStep - INFO - \n",
      "2023-08-25 12:56:42,574 - stpipe.TweakRegStep - INFO - FIT RMSE: 0.0147895   FIT MAE: 0.00399139\n",
      "2023-08-25 12:56:42,575 - stpipe.TweakRegStep - INFO - Final solution based on 462 objects.\n",
      "2023-08-25 12:56:42,643 - stpipe.TweakRegStep - INFO - Added 36 unmatched sources from 'GROUP ID: jw02221002002_02201_00003_nrcblong_destreak' to the reference catalog.\n",
      "2023-08-25 12:56:43,914 - stpipe.TweakRegStep - INFO - Aligning image catalog 'GROUP ID: jw02221002001_08201_00004_nrcblong_destreak' to the reference catalog.\n",
      "2023-08-25 12:56:44,094 - stpipe.TweakRegStep - INFO - Matching sources from 'jw02221002001_08201_00004_nrcblong_destreak' catalog with sources from the reference 'jw02221002002_02201_00003_nrcblong_destreak' catalog.\n",
      "2023-08-25 12:56:44,096 - stpipe.TweakRegStep - INFO - Computing initial guess for X and Y shifts...\n",
      "2023-08-25 12:56:44,100 - stpipe.TweakRegStep - INFO - Found initial X and Y shifts of 1.403, -1.319 (arcsec) with significance of 2.962 and 5 matches.\n",
      "2023-08-25 12:56:44,103 - stpipe.TweakRegStep - INFO - Found 18 matches for 'GROUP ID: jw02221002001_08201_00004_nrcblong_destreak'...\n",
      "2023-08-25 12:56:44,104 - stpipe.TweakRegStep - INFO - Performing 'general' fit\n",
      "2023-08-25 12:56:44,107 - stpipe.TweakRegStep - INFO - Computed 'general' fit for GROUP ID: jw02221002001_08201_00004_nrcblong_destreak:\n",
      "2023-08-25 12:56:44,108 - stpipe.TweakRegStep - INFO - XSH: -1.26549  YSH: 1.47188    PROPER ROT: -0.159907    \n",
      "2023-08-25 12:56:44,109 - stpipe.TweakRegStep - INFO - <ROT>: -0.159907  SKEW: -0.341732    ROT_X: 0.0109589  ROT_Y: -0.330773\n",
      "2023-08-25 12:56:44,111 - stpipe.TweakRegStep - INFO - <SCALE>: 0.999673  SCALE_X: 0.999687  SCALE_Y: 0.999676\n",
      "2023-08-25 12:56:44,112 - stpipe.TweakRegStep - INFO - \n",
      "2023-08-25 12:56:44,113 - stpipe.TweakRegStep - INFO - FIT RMSE: 0.403927   FIT MAE: 0.362149\n",
      "2023-08-25 12:56:44,114 - stpipe.TweakRegStep - INFO - Final solution based on 18 objects.\n",
      "2023-08-25 12:56:44,183 - stpipe.TweakRegStep - INFO - Added 482 unmatched sources from 'GROUP ID: jw02221002001_08201_00004_nrcblong_destreak' to the reference catalog.\n",
      "2023-08-25 12:56:46,955 - stpipe.TweakRegStep - INFO - Aligning image catalog 'GROUP ID: jw02221002001_08201_00003_nrcblong_destreak' to the reference catalog.\n",
      "2023-08-25 12:56:47,136 - stpipe.TweakRegStep - INFO - Matching sources from 'jw02221002001_08201_00003_nrcblong_destreak' catalog with sources from the reference 'jw02221002001_08201_00004_nrcblong_destreak' catalog.\n",
      "2023-08-25 12:56:47,138 - stpipe.TweakRegStep - INFO - Computing initial guess for X and Y shifts...\n",
      "2023-08-25 12:56:47,724 - stpipe.TweakRegStep - INFO - Found initial X and Y shifts of 1.281, -1.445 (arcsec) with significance of 22.36 and 145 matches.\n",
      "2023-08-25 12:56:47,727 - stpipe.TweakRegStep - INFO - Found 323 matches for 'GROUP ID: jw02221002001_08201_00003_nrcblong_destreak'...\n",
      "2023-08-25 12:56:47,728 - stpipe.TweakRegStep - INFO - Performing 'general' fit\n",
      "2023-08-25 12:56:47,734 - stpipe.TweakRegStep - INFO - Computed 'general' fit for GROUP ID: jw02221002001_08201_00003_nrcblong_destreak:\n",
      "2023-08-25 12:56:47,735 - stpipe.TweakRegStep - INFO - XSH: -1.26496  YSH: 1.4754    PROPER ROT: -0.160101    \n",
      "2023-08-25 12:56:47,736 - stpipe.TweakRegStep - INFO - <ROT>: -0.160101  SKEW: -0.336364    ROT_X: 0.00808079  ROT_Y: -0.328283\n",
      "2023-08-25 12:56:47,737 - stpipe.TweakRegStep - INFO - <SCALE>: 0.999697  SCALE_X: 0.999723  SCALE_Y: 0.999689\n",
      "2023-08-25 12:56:47,738 - stpipe.TweakRegStep - INFO - \n",
      "2023-08-25 12:56:47,739 - stpipe.TweakRegStep - INFO - FIT RMSE: 0.0540476   FIT MAE: 0.0130734\n",
      "2023-08-25 12:56:47,741 - stpipe.TweakRegStep - INFO - Final solution based on 305 objects.\n",
      "2023-08-25 12:56:47,979 - stpipe.TweakRegStep - INFO - Added 182 unmatched sources from 'GROUP ID: jw02221002001_08201_00003_nrcblong_destreak' to the reference catalog.\n",
      "2023-08-25 12:56:50,181 - stpipe.TweakRegStep - INFO - Aligning image catalog 'GROUP ID: jw02221002001_08201_00001_nrcblong_destreak' to the reference catalog.\n",
      "2023-08-25 12:56:50,349 - stpipe.TweakRegStep - INFO - Matching sources from 'jw02221002001_08201_00001_nrcblong_destreak' catalog with sources from the reference 'jw02221002001_08201_00003_nrcblong_destreak' catalog.\n",
      "2023-08-25 12:56:50,351 - stpipe.TweakRegStep - INFO - Computing initial guess for X and Y shifts...\n",
      "2023-08-25 12:56:50,369 - stpipe.TweakRegStep - INFO - Found initial X and Y shifts of 1.4, -1.398 (arcsec) with significance of 32.49 and 176 matches.\n",
      "2023-08-25 12:56:50,372 - stpipe.TweakRegStep - INFO - Found 399 matches for 'GROUP ID: jw02221002001_08201_00001_nrcblong_destreak'...\n",
      "2023-08-25 12:56:50,374 - stpipe.TweakRegStep - INFO - Performing 'general' fit\n",
      "2023-08-25 12:56:50,379 - stpipe.TweakRegStep - INFO - Computed 'general' fit for GROUP ID: jw02221002001_08201_00001_nrcblong_destreak:\n",
      "2023-08-25 12:56:50,380 - stpipe.TweakRegStep - INFO - XSH: -1.2562  YSH: 1.47747    PROPER ROT: -0.167412    \n",
      "2023-08-25 12:56:50,381 - stpipe.TweakRegStep - INFO - <ROT>: -0.167412  SKEW: -0.339254    ROT_X: 0.002215  ROT_Y: -0.337039\n",
      "2023-08-25 12:56:50,382 - stpipe.TweakRegStep - INFO - <SCALE>: 0.99968  SCALE_X: 0.999583  SCALE_Y: 0.999794\n",
      "2023-08-25 12:56:50,384 - stpipe.TweakRegStep - INFO - \n",
      "2023-08-25 12:56:50,385 - stpipe.TweakRegStep - INFO - FIT RMSE: 0.0757829   FIT MAE: 0.0251254\n",
      "2023-08-25 12:56:50,386 - stpipe.TweakRegStep - INFO - Final solution based on 379 objects.\n",
      "2023-08-25 12:56:50,452 - stpipe.TweakRegStep - INFO - Added 109 unmatched sources from 'GROUP ID: jw02221002001_08201_00001_nrcblong_destreak' to the reference catalog.\n",
      "2023-08-25 12:56:52,310 - stpipe.TweakRegStep - INFO - Aligning image catalog 'GROUP ID: jw02221002001_08201_00002_nrcblong_destreak' to the reference catalog.\n",
      "2023-08-25 12:56:52,466 - stpipe.TweakRegStep - INFO - Matching sources from 'jw02221002001_08201_00002_nrcblong_destreak' catalog with sources from the reference 'jw02221002001_08201_00001_nrcblong_destreak' catalog.\n",
      "2023-08-25 12:56:52,468 - stpipe.TweakRegStep - INFO - Computing initial guess for X and Y shifts...\n",
      "2023-08-25 12:56:52,474 - stpipe.TweakRegStep - INFO - Found initial X and Y shifts of 1.333, -1.442 (arcsec) with significance of 34.74 and 198 matches.\n",
      "2023-08-25 12:56:52,477 - stpipe.TweakRegStep - INFO - Found 449 matches for 'GROUP ID: jw02221002001_08201_00002_nrcblong_destreak'...\n",
      "2023-08-25 12:56:52,479 - stpipe.TweakRegStep - INFO - Performing 'general' fit\n",
      "2023-08-25 12:56:52,484 - stpipe.TweakRegStep - INFO - Computed 'general' fit for GROUP ID: jw02221002001_08201_00002_nrcblong_destreak:\n",
      "2023-08-25 12:56:52,486 - stpipe.TweakRegStep - INFO - XSH: -1.25071  YSH: 1.47433    PROPER ROT: -0.159241    \n",
      "2023-08-25 12:56:52,487 - stpipe.TweakRegStep - INFO - <ROT>: -0.159241  SKEW: -0.33992    ROT_X: 0.0107193  ROT_Y: -0.329201\n",
      "2023-08-25 12:56:52,488 - stpipe.TweakRegStep - INFO - <SCALE>: 0.999693  SCALE_X: 0.999688  SCALE_Y: 0.999715\n",
      "2023-08-25 12:56:52,489 - stpipe.TweakRegStep - INFO - \n",
      "2023-08-25 12:56:52,490 - stpipe.TweakRegStep - INFO - FIT RMSE: 0.0273475   FIT MAE: 0.00762096\n",
      "2023-08-25 12:56:52,491 - stpipe.TweakRegStep - INFO - Final solution based on 427 objects.\n",
      "2023-08-25 12:56:52,558 - stpipe.TweakRegStep - INFO - Added 57 unmatched sources from 'GROUP ID: jw02221002001_08201_00002_nrcblong_destreak' to the reference catalog.\n",
      "2023-08-25 12:56:53,935 - stpipe.TweakRegStep - INFO - Aligning image catalog 'GROUP ID: jw02221002001_02201_00004_nrcblong_destreak' to the reference catalog.\n",
      "2023-08-25 12:56:54,089 - stpipe.TweakRegStep - INFO - Matching sources from 'jw02221002001_02201_00004_nrcblong_destreak' catalog with sources from the reference 'jw02221002001_08201_00002_nrcblong_destreak' catalog.\n",
      "2023-08-25 12:56:54,090 - stpipe.TweakRegStep - INFO - Computing initial guess for X and Y shifts...\n",
      "2023-08-25 12:56:54,097 - stpipe.TweakRegStep - INFO - Found initial X and Y shifts of 1.186, -1.496 (arcsec) with significance of 29.61 and 134 matches.\n",
      "2023-08-25 12:56:54,100 - stpipe.TweakRegStep - INFO - Found 206 matches for 'GROUP ID: jw02221002001_02201_00004_nrcblong_destreak'...\n",
      "2023-08-25 12:56:54,102 - stpipe.TweakRegStep - INFO - Performing 'general' fit\n",
      "2023-08-25 12:56:54,106 - stpipe.TweakRegStep - INFO - Computed 'general' fit for GROUP ID: jw02221002001_02201_00004_nrcblong_destreak:\n",
      "2023-08-25 12:56:54,108 - stpipe.TweakRegStep - INFO - XSH: -0.906829  YSH: 1.51749    PROPER ROT: -0.160297    \n",
      "2023-08-25 12:56:54,109 - stpipe.TweakRegStep - INFO - <ROT>: -0.160297  SKEW: -0.337393    ROT_X: 0.00839975  ROT_Y: -0.328993\n",
      "2023-08-25 12:56:54,110 - stpipe.TweakRegStep - INFO - <SCALE>: 0.999702  SCALE_X: 0.999689  SCALE_Y: 0.999731\n",
      "2023-08-25 12:56:54,111 - stpipe.TweakRegStep - INFO - \n",
      "2023-08-25 12:56:54,112 - stpipe.TweakRegStep - INFO - FIT RMSE: 0.00460946   FIT MAE: 0.00391025\n",
      "2023-08-25 12:56:54,113 - stpipe.TweakRegStep - INFO - Final solution based on 204 objects.\n",
      "2023-08-25 12:56:54,181 - stpipe.TweakRegStep - INFO - Added 295 unmatched sources from 'GROUP ID: jw02221002001_02201_00004_nrcblong_destreak' to the reference catalog.\n",
      "2023-08-25 12:56:55,374 - stpipe.TweakRegStep - INFO - Aligning image catalog 'GROUP ID: jw02221002001_02201_00002_nrcblong_destreak' to the reference catalog.\n",
      "2023-08-25 12:56:55,528 - stpipe.TweakRegStep - INFO - Matching sources from 'jw02221002001_02201_00002_nrcblong_destreak' catalog with sources from the reference 'jw02221002001_02201_00004_nrcblong_destreak' catalog.\n",
      "2023-08-25 12:56:55,530 - stpipe.TweakRegStep - INFO - Computing initial guess for X and Y shifts...\n",
      "2023-08-25 12:56:55,538 - stpipe.TweakRegStep - INFO - Found initial X and Y shifts of 1.177, -1.496 (arcsec) with significance of 33.02 and 151 matches.\n",
      "2023-08-25 12:56:55,541 - stpipe.TweakRegStep - INFO - Found 381 matches for 'GROUP ID: jw02221002001_02201_00002_nrcblong_destreak'...\n",
      "2023-08-25 12:56:55,543 - stpipe.TweakRegStep - INFO - Performing 'general' fit\n",
      "2023-08-25 12:56:55,548 - stpipe.TweakRegStep - INFO - Computed 'general' fit for GROUP ID: jw02221002001_02201_00002_nrcblong_destreak:\n",
      "2023-08-25 12:56:55,549 - stpipe.TweakRegStep - INFO - XSH: -0.894549  YSH: 1.52013    PROPER ROT: -0.159463    \n",
      "2023-08-25 12:56:55,550 - stpipe.TweakRegStep - INFO - <ROT>: -0.159463  SKEW: -0.335967    ROT_X: 0.00852055  ROT_Y: -0.327446\n",
      "2023-08-25 12:56:55,551 - stpipe.TweakRegStep - INFO - <SCALE>: 0.999693  SCALE_X: 0.999716  SCALE_Y: 0.999686\n",
      "2023-08-25 12:56:55,553 - stpipe.TweakRegStep - INFO - \n",
      "2023-08-25 12:56:55,554 - stpipe.TweakRegStep - INFO - FIT RMSE: 0.0236026   FIT MAE: 0.00553354\n",
      "2023-08-25 12:56:55,555 - stpipe.TweakRegStep - INFO - Final solution based on 367 objects.\n",
      "2023-08-25 12:56:55,624 - stpipe.TweakRegStep - INFO - Added 130 unmatched sources from 'GROUP ID: jw02221002001_02201_00002_nrcblong_destreak' to the reference catalog.\n",
      "2023-08-25 12:56:56,515 - stpipe.TweakRegStep - INFO - Aligning image catalog 'GROUP ID: jw02221002001_02201_00001_nrcblong_destreak' to the reference catalog.\n",
      "2023-08-25 12:56:56,700 - stpipe.TweakRegStep - INFO - Matching sources from 'jw02221002001_02201_00001_nrcblong_destreak' catalog with sources from the reference 'jw02221002001_02201_00002_nrcblong_destreak' catalog.\n",
      "2023-08-25 12:56:56,702 - stpipe.TweakRegStep - INFO - Computing initial guess for X and Y shifts...\n",
      "2023-08-25 12:56:56,711 - stpipe.TweakRegStep - INFO - Found initial X and Y shifts of 0.7656, -1.497 (arcsec) with significance of 35.55 and 201 matches.\n",
      "2023-08-25 12:56:56,715 - stpipe.TweakRegStep - INFO - Found 429 matches for 'GROUP ID: jw02221002001_02201_00001_nrcblong_destreak'...\n",
      "2023-08-25 12:56:56,716 - stpipe.TweakRegStep - INFO - Performing 'general' fit\n",
      "2023-08-25 12:56:56,721 - stpipe.TweakRegStep - INFO - Computed 'general' fit for GROUP ID: jw02221002001_02201_00001_nrcblong_destreak:\n",
      "2023-08-25 12:56:56,722 - stpipe.TweakRegStep - INFO - XSH: -0.893731  YSH: 1.52322    PROPER ROT: -0.159594    \n",
      "2023-08-25 12:56:56,724 - stpipe.TweakRegStep - INFO - <ROT>: -0.159594  SKEW: -0.33738    ROT_X: 0.00909609  ROT_Y: -0.328284\n",
      "2023-08-25 12:56:56,725 - stpipe.TweakRegStep - INFO - <SCALE>: 0.999704  SCALE_X: 0.999701  SCALE_Y: 0.999723\n",
      "2023-08-25 12:56:56,726 - stpipe.TweakRegStep - INFO - \n",
      "2023-08-25 12:56:56,727 - stpipe.TweakRegStep - INFO - FIT RMSE: 0.00393635   FIT MAE: 0.00332544\n",
      "2023-08-25 12:56:56,728 - stpipe.TweakRegStep - INFO - Final solution based on 422 objects.\n",
      "2023-08-25 12:56:56,802 - stpipe.TweakRegStep - INFO - Added 75 unmatched sources from 'GROUP ID: jw02221002001_02201_00001_nrcblong_destreak' to the reference catalog.\n",
      "2023-08-25 12:56:57,296 - stpipe.TweakRegStep - INFO - Aligning image catalog 'GROUP ID: jw02221002001_02201_00003_nrcblong_destreak' to the reference catalog.\n",
      "2023-08-25 12:56:57,475 - stpipe.TweakRegStep - INFO - Matching sources from 'jw02221002001_02201_00003_nrcblong_destreak' catalog with sources from the reference 'jw02221002001_02201_00001_nrcblong_destreak' catalog.\n",
      "2023-08-25 12:56:57,477 - stpipe.TweakRegStep - INFO - Computing initial guess for X and Y shifts...\n",
      "2023-08-25 12:56:57,487 - stpipe.TweakRegStep - INFO - Found initial X and Y shifts of 0.7705, -1.496 (arcsec) with significance of 40.17 and 229 matches.\n",
      "2023-08-25 12:56:57,490 - stpipe.TweakRegStep - INFO - Found 469 matches for 'GROUP ID: jw02221002001_02201_00003_nrcblong_destreak'...\n",
      "2023-08-25 12:56:57,492 - stpipe.TweakRegStep - INFO - Performing 'general' fit\n",
      "2023-08-25 12:56:57,497 - stpipe.TweakRegStep - INFO - Computed 'general' fit for GROUP ID: jw02221002001_02201_00003_nrcblong_destreak:\n",
      "2023-08-25 12:56:57,498 - stpipe.TweakRegStep - INFO - XSH: -0.907142  YSH: 1.51931    PROPER ROT: -0.160054    \n",
      "2023-08-25 12:56:57,499 - stpipe.TweakRegStep - INFO - <ROT>: -0.160054  SKEW: -0.337188    ROT_X: 0.00853963  ROT_Y: -0.328648\n",
      "2023-08-25 12:56:57,500 - stpipe.TweakRegStep - INFO - <SCALE>: 0.999702  SCALE_X: 0.999698  SCALE_Y: 0.999724\n",
      "2023-08-25 12:56:57,502 - stpipe.TweakRegStep - INFO - \n",
      "2023-08-25 12:56:57,503 - stpipe.TweakRegStep - INFO - FIT RMSE: 0.00399204   FIT MAE: 0.00324927\n",
      "2023-08-25 12:56:57,504 - stpipe.TweakRegStep - INFO - Final solution based on 460 objects.\n",
      "2023-08-25 12:56:57,578 - stpipe.TweakRegStep - INFO - Added 36 unmatched sources from 'GROUP ID: jw02221002001_02201_00003_nrcblong_destreak' to the reference catalog.\n",
      "2023-08-25 12:56:57,580 - stpipe.TweakRegStep - INFO -  \n",
      "2023-08-25 12:56:57,581 - stpipe.TweakRegStep - INFO - ***** tweakwcs.imalign.align_wcs() ended on 2023-08-25 12:56:57.580344\n",
      "2023-08-25 12:56:57,582 - stpipe.TweakRegStep - INFO - ***** tweakwcs.imalign.align_wcs() TOTAL RUN TIME: 0:00:55.537959\n",
      "2023-08-25 12:56:57,583 - stpipe.TweakRegStep - INFO -  \n",
      "2023-08-25 12:56:57,940 - stpipe.TweakRegStep - INFO -  \n",
      "2023-08-25 12:56:57,942 - stpipe.TweakRegStep - INFO - ***** tweakwcs.imalign.align_wcs() started on 2023-08-25 12:56:57.940669\n",
      "2023-08-25 12:56:57,943 - stpipe.TweakRegStep - INFO -       Version 0.8.2\n",
      "2023-08-25 12:56:57,944 - stpipe.TweakRegStep - INFO -  \n",
      "2023-08-25 12:58:17,686 - stpipe.TweakRegStep - INFO - Aligning image catalog 'GROUP ID: 987654' to the reference catalog.\n",
      "2023-08-25 12:58:17,886 - stpipe.TweakRegStep - INFO - Matching sources from 'jw0222100200' catalog with sources from the reference 'II/348/vvv2' catalog.\n",
      "2023-08-25 12:58:17,888 - stpipe.TweakRegStep - INFO - Computing initial guess for X and Y shifts...\n",
      "2023-08-25 12:58:18,623 - stpipe.TweakRegStep - INFO - Found initial X and Y shifts of -1.332, -3.776 (arcsec) with significance of 228.8 and 2450 matches.\n",
      "2023-08-25 12:58:18,629 - stpipe.TweakRegStep - INFO - Found 1160 matches for 'GROUP ID: 987654'...\n",
      "2023-08-25 12:58:18,630 - stpipe.TweakRegStep - INFO - Performing 'rshift' fit\n",
      "2023-08-25 12:58:18,633 - stpipe.TweakRegStep - INFO - Computed 'rshift' fit for GROUP ID: 987654:\n",
      "2023-08-25 12:58:18,634 - stpipe.TweakRegStep - INFO - XSH: 1.36938  YSH: 3.80393    ROT: 0.00165737    SCALE: 1\n",
      "2023-08-25 12:58:18,636 - stpipe.TweakRegStep - INFO - \n",
      "2023-08-25 12:58:18,637 - stpipe.TweakRegStep - INFO - FIT RMSE: 0.248457   FIT MAE: 0.17249\n",
      "2023-08-25 12:58:18,638 - stpipe.TweakRegStep - INFO - Final solution based on 1160 objects.\n",
      "2023-08-25 12:58:19,528 - stpipe.TweakRegStep - INFO -  \n",
      "2023-08-25 12:58:19,530 - stpipe.TweakRegStep - INFO - ***** tweakwcs.imalign.align_wcs() ended on 2023-08-25 12:58:19.528283\n",
      "2023-08-25 12:58:19,531 - stpipe.TweakRegStep - INFO - ***** tweakwcs.imalign.align_wcs() TOTAL RUN TIME: 0:01:21.587614\n",
      "2023-08-25 12:58:19,532 - stpipe.TweakRegStep - INFO -  \n",
      "2023-08-25 12:58:22,268 - stpipe.TweakRegStep - INFO - Saved model in /orange/adamginsburg/jwst/cloudc/F405N/pipeline/jw02221002002_08201_00004_nrcblong_destreak_tweakregstep.fits\n",
      "2023-08-25 12:58:22,622 - stpipe.TweakRegStep - INFO - Saved model in /orange/adamginsburg/jwst/cloudc/F405N/pipeline/jw02221002002_08201_00002_nrcblong_destreak_tweakregstep.fits\n",
      "2023-08-25 12:58:22,987 - stpipe.TweakRegStep - INFO - Saved model in /orange/adamginsburg/jwst/cloudc/F405N/pipeline/jw02221002002_02201_00002_nrcblong_destreak_tweakregstep.fits\n",
      "2023-08-25 12:58:23,347 - stpipe.TweakRegStep - INFO - Saved model in /orange/adamginsburg/jwst/cloudc/F405N/pipeline/jw02221002002_08201_00003_nrcblong_destreak_tweakregstep.fits\n",
      "2023-08-25 12:58:23,678 - stpipe.TweakRegStep - INFO - Saved model in /orange/adamginsburg/jwst/cloudc/F405N/pipeline/jw02221002001_08201_00002_nrcblong_destreak_tweakregstep.fits\n",
      "2023-08-25 12:58:24,014 - stpipe.TweakRegStep - INFO - Saved model in /orange/adamginsburg/jwst/cloudc/F405N/pipeline/jw02221002002_08201_00001_nrcblong_destreak_tweakregstep.fits\n",
      "2023-08-25 12:58:24,351 - stpipe.TweakRegStep - INFO - Saved model in /orange/adamginsburg/jwst/cloudc/F405N/pipeline/jw02221002002_02201_00004_nrcblong_destreak_tweakregstep.fits\n",
      "2023-08-25 12:58:24,690 - stpipe.TweakRegStep - INFO - Saved model in /orange/adamginsburg/jwst/cloudc/F405N/pipeline/jw02221002002_02201_00003_nrcblong_destreak_tweakregstep.fits\n",
      "2023-08-25 12:58:25,022 - stpipe.TweakRegStep - INFO - Saved model in /orange/adamginsburg/jwst/cloudc/F405N/pipeline/jw02221002002_02201_00001_nrcblong_destreak_tweakregstep.fits\n",
      "2023-08-25 12:58:25,372 - stpipe.TweakRegStep - INFO - Saved model in /orange/adamginsburg/jwst/cloudc/F405N/pipeline/jw02221002001_08201_00003_nrcblong_destreak_tweakregstep.fits\n",
      "2023-08-25 12:58:25,926 - stpipe.TweakRegStep - INFO - Saved model in /orange/adamginsburg/jwst/cloudc/F405N/pipeline/jw02221002001_08201_00004_nrcblong_destreak_tweakregstep.fits\n",
      "2023-08-25 12:58:26,264 - stpipe.TweakRegStep - INFO - Saved model in /orange/adamginsburg/jwst/cloudc/F405N/pipeline/jw02221002001_02201_00004_nrcblong_destreak_tweakregstep.fits\n",
      "2023-08-25 12:58:26,601 - stpipe.TweakRegStep - INFO - Saved model in /orange/adamginsburg/jwst/cloudc/F405N/pipeline/jw02221002001_08201_00001_nrcblong_destreak_tweakregstep.fits\n",
      "2023-08-25 12:58:27,080 - stpipe.TweakRegStep - INFO - Saved model in /orange/adamginsburg/jwst/cloudc/F405N/pipeline/jw02221002001_02201_00002_nrcblong_destreak_tweakregstep.fits\n",
      "2023-08-25 12:58:27,440 - stpipe.TweakRegStep - INFO - Saved model in /orange/adamginsburg/jwst/cloudc/F405N/pipeline/jw02221002001_02201_00003_nrcblong_destreak_tweakregstep.fits\n",
      "2023-08-25 12:58:27,776 - stpipe.TweakRegStep - INFO - Saved model in /orange/adamginsburg/jwst/cloudc/F405N/pipeline/jw02221002001_02201_00001_nrcblong_destreak_tweakregstep.fits\n",
      "2023-08-25 12:58:27,778 - stpipe.TweakRegStep - INFO - Step TweakRegStep done\n"
     ]
    }
   ],
   "source": [
    "tweakreg = TweakRegStep()\n",
    "tweakreg.fitgeometry = 'general'\n",
    "tweakreg.brightest = 500\n",
    "tweakreg.snr_threshold = 30\n",
    "tweakreg.abs_refcat = abs_refcat\n",
    "tweakreg.save_catalogs = True\n",
    "tweakreg.catalog_format = 'ecsv'\n",
    "tweakreg.kernel_fwhm = fwhm_pix\n",
    "tweakreg.nclip = 5\n",
    "tweakreg.sharplo = 0.3\n",
    "tweakreg.sharphi = 0.9\n",
    "tweakreg.roundlo = -0.25\n",
    "tweakreg.roundhi = 0.25\n",
    "tweakreg.separation = 0.5\n",
    "tweakreg.output_dir = output_dir\n",
    "tweakreg.save_results = True\n",
    "#tweakreg.searchrad = 4.0\n",
    "#tweakreg.xoffset = -6.0\n",
    "tweak = tweakreg.run(asn_file_each)"
   ]
  },
  {
   "cell_type": "code",
   "execution_count": 60,
   "id": "b6f3b775-7696-4124-bcc5-979c5e42d353",
   "metadata": {},
   "outputs": [
    {
     "data": {
      "text/plain": [
       "'/orange/adamginsburg/jwst/cloudc/F405N/pipeline/jw02221002001_02201_00002_nrcalong_destreak.fits'"
      ]
     },
     "execution_count": 60,
     "metadata": {},
     "output_type": "execute_result"
    }
   ],
   "source": [
    "tweak_file = os.path.join(output_dir, tweak[0].meta.filename)\n",
    "tweak_file"
   ]
  },
  {
   "cell_type": "code",
   "execution_count": 93,
   "id": "1d846201-ba05-4ffa-b6e7-f5cc233bf651",
   "metadata": {},
   "outputs": [
    {
     "name": "stdout",
     "output_type": "stream",
     "text": [
      "2023-07-27T18:11:15.734751: Cal: (266.58459696150726, -28.59355794836456)\n",
      "2023-07-27T18:11:15.743371: (266.58521464644605, -28.592042348753694)\n",
      "2023-07-27T18:11:15.758509: Difference: -0.0006176849387884431 -0.001515599610865337\n",
      "2023-07-27T18:11:15.758560:\n",
      "2023-07-27T18:11:17.259059: Cal: (266.5837675254084, -28.59355065080965)\n",
      "2023-07-27T18:11:17.266525: (266.5843875929184, -28.59203394202699)\n",
      "2023-07-27T18:11:17.282374: Difference: -0.0006200675099989894 -0.001516708782659748\n",
      "2023-07-27T18:11:17.282424:\n",
      "2023-07-27T18:11:19.396915: Cal: (266.59152968985774, -28.557172529948357)\n",
      "2023-07-27T18:11:19.402787: (266.591960745573, -28.556105881773355)\n",
      "2023-07-27T18:11:19.418529: Difference: -0.00043105571523938124 -0.0010666481750014611\n",
      "2023-07-27T18:11:19.418586:\n",
      "2023-07-27T18:11:20.500445: Cal: (266.5915389836169, -28.556444559909984)\n",
      "2023-07-27T18:11:20.506479: (266.59197136103506, -28.55537928404476)\n",
      "2023-07-27T18:11:20.522490: Difference: -0.00043237741817847564 -0.001065275865222759\n",
      "2023-07-27T18:11:20.522575:\n",
      "2023-07-27T18:11:22.143645: Cal: (266.5926079702178, -28.55649055104344)\n",
      "2023-07-27T18:11:22.150832: (266.5930373112211, -28.555424888033308)\n",
      "2023-07-27T18:11:22.167610: Difference: -0.00042934100332558955 -0.0010656630101308906\n",
      "2023-07-27T18:11:22.167667:\n",
      "2023-07-27T18:11:23.705761: Cal: (266.5923592378619, -28.557180750229442)\n",
      "2023-07-27T18:11:23.711992: (266.59279086409, -28.556115659592873)\n",
      "2023-07-27T18:11:23.728847: Difference: -0.0004316262280781302 -0.0010650906365690105\n",
      "2023-07-27T18:11:23.728901:\n",
      "2023-07-27T18:11:25.261205: Cal: (266.58377677263076, -28.592821499009368)\n",
      "2023-07-27T18:11:25.267696: (266.5843980367203, -28.591303377416097)\n",
      "2023-07-27T18:11:25.282631: Difference: -0.0006212640895455479 -0.0015181215932713599\n",
      "2023-07-27T18:11:25.282681:\n",
      "2023-07-27T18:11:26.668014: Cal: (266.5848461826587, -28.592867662094363)\n",
      "2023-07-27T18:11:26.673915: (266.5854640201144, -28.59135042703829)\n",
      "2023-07-27T18:11:26.689113: Difference: -0.000617837455706649 -0.001517235056073929\n",
      "2023-07-27T18:11:26.689161:\n"
     ]
    }
   ],
   "source": [
    "def compare(files):\n",
    "    x, y = (1024, 1024)\n",
    "    for f in files:\n",
    "        cal_file = f\n",
    "        tweak_file = f[:-8]+'destreak_tweakregstep.fits'\n",
    "        \n",
    "        cal_data = datamodels.open(cal_file)\n",
    "        tweak_data = datamodels.open(tweak_file)\n",
    "        \n",
    "        cal_detector_to_world = cal_data.meta.wcs.get_transform('detector', 'world')\n",
    "        run_detector_to_world = tweak_data.meta.wcs.get_transform('detector', 'world')\n",
    "        \n",
    "        print('Cal:', cal_detector_to_world(x, y))\n",
    "        print(run_detector_to_world(x, y))\n",
    "        diffx = cal_detector_to_world(x, y)[0] - run_detector_to_world(x, y)[0]\n",
    "        diffy = cal_detector_to_world(x, y)[1] - run_detector_to_world(x, y)[1]\n",
    "        print('Difference:', diffx, diffy)\n",
    "        \n",
    "        print()\n",
    "        \n",
    "\n",
    "point = '02201'\n",
    "files = glob(os.path.join(output_dir, f'jw02221{field}*{point}*{module}long_cal.fits'))\n",
    "compare(files)"
   ]
  },
  {
   "cell_type": "code",
   "execution_count": null,
   "id": "55dd140b-1fd1-4b1e-bb6b-81c6794ed1ce",
   "metadata": {},
   "outputs": [],
   "source": []
  },
  {
   "cell_type": "code",
   "execution_count": 65,
   "id": "ee8ba04f-8dbc-4994-bf77-79bf2fd423e3",
   "metadata": {},
   "outputs": [],
   "source": [
    "cal_data = datamodels.open('/orange/adamginsburg/jwst/cloudc/F405N/pipeline/jw02221002001_02201_00002_nrcalong_cal.fits')\n",
    "#tweak_data = datamodels.open(tweak_file)\n",
    "tweak_data = datamodels.open('/orange/adamginsburg/jwst/cloudc/F405N/pipeline/jw02221002001_02201_00002_nrcalong_destreak.fits')\n"
   ]
  },
  {
   "cell_type": "code",
   "execution_count": 66,
   "id": "048b3ebe-2a06-4d04-9d61-312f451d7d09",
   "metadata": {},
   "outputs": [],
   "source": [
    "cal_detector_to_world = cal_data.meta.wcs.get_transform('detector', 'world')\n",
    "run_detector_to_world = tweak_data.meta.wcs.get_transform('detector', 'world')"
   ]
  },
  {
   "cell_type": "code",
   "execution_count": 67,
   "id": "b33b023b-1cae-4c75-9f94-7d25fcb4a597",
   "metadata": {},
   "outputs": [],
   "source": []
  },
  {
   "cell_type": "code",
   "execution_count": 68,
   "id": "2ba137a5-0b57-4f80-821a-47ff65a96899",
   "metadata": {},
   "outputs": [
    {
     "name": "stdout",
     "output_type": "stream",
     "text": [
      "2023-07-27T14:16:44.932300: (266.58459696150726, -28.59355794836456)\n",
      "2023-07-27T14:16:44.951258: (266.58459696150726, -28.59355794836456)\n"
     ]
    }
   ],
   "source": [
    "print(cal_detector_to_world(x, y))\n",
    "print(run_detector_to_world(x, y))"
   ]
  },
  {
   "cell_type": "code",
   "execution_count": 58,
   "id": "cedfb0a7-b80c-41d1-b9a8-cecd3ef6ce21",
   "metadata": {},
   "outputs": [
    {
     "data": {
      "text/plain": [
       "<CompoundModel(offset_0=-0.093, offset_1=0.033, offset_2=1., offset_3=1., offset_4=-1024.5, offset_5=-1024.5, c0_0_7=0., c1_0_7=0.06275847, c2_0_7=0.00000012, c3_0_7=0., c4_0_7=-0., c5_0_7=0., c0_1_7=-0., c0_2_7=-0.0000001, c0_3_7=-0., c0_4_7=0., c0_5_7=0., c1_1_7=-0.00000073, c1_2_7=0., c1_3_7=-0., c1_4_7=0., c2_1_7=-0., c2_2_7=0., c2_3_7=0., c3_1_7=-0., c3_2_7=0., c4_1_7=0., c0_0_8=0., c1_0_8=-0.00009902, c2_0_8=0.00000031, c3_0_8=0., c4_0_8=0., c5_0_8=-0., c0_1_8=0.06306468, c0_2_8=-0.00000042, c0_3_8=0., c0_4_8=-0., c0_5_8=0., c1_1_8=0.00000023, c1_2_8=-0., c1_3_8=0., c1_4_8=-0., c2_1_8=0., c2_2_8=-0., c2_3_8=0., c3_1_8=0., c3_2_8=-0., c4_1_8=0., c0_0_10=0., c1_0_10=-0.99999954, c0_1_10=-0.00095806, c0_0_11=0., c1_0_11=-0.00095806, c0_1_11=0.99999954, offset_12=85.9392976, offset_13=-493.5106528, factor_14=1.00008927, factor_15=1.00008927, offset_16=-0.0076718, offset_17=0.04405571, factor_18=0.00027778, factor_19=0.00027778, angles_21=[   0.02387203,    0.13708629,  275.45960573,  -28.59355176, -266.5846083 ])>"
      ]
     },
     "execution_count": 58,
     "metadata": {},
     "output_type": "execute_result"
    }
   ],
   "source": [
    "run_detector_to_world"
   ]
  },
  {
   "cell_type": "code",
   "execution_count": 59,
   "id": "ce305727-9fbf-4c9c-ba0c-93a8ecfbaecb",
   "metadata": {
    "collapsed": true,
    "jupyter": {
     "outputs_hidden": true
    },
    "tags": []
   },
   "outputs": [
    {
     "data": {
      "text/plain": [
       "<WCS(output_frame=world, input_frame=detector, forward_transform=Model: CompoundModel\n",
       "Inputs: ('x0', 'x1')\n",
       "Outputs: ('lon', 'lat')\n",
       "Model set size: 1\n",
       "Expression: [0] & [1] | [2] & [3] | [4] & [5] | [6] | [7] & [8] | [9] | [10] & [11] | [12] & [13] | [14] & [15] | [16] & [17] | [18] & [19] | [20] | [21] | [22]\n",
       "Components: \n",
       "    [0]: <Shift(offset=-0.093)>\n",
       "\n",
       "    [1]: <Shift(offset=0.033)>\n",
       "\n",
       "    [2]: <Shift(offset=1.)>\n",
       "\n",
       "    [3]: <Shift(offset=1.)>\n",
       "\n",
       "    [4]: <Shift(offset=-1024.5)>\n",
       "\n",
       "    [5]: <Shift(offset=-1024.5)>\n",
       "\n",
       "    [6]: <Mapping((0, 1, 0, 1))>\n",
       "\n",
       "    [7]: <Polynomial2D(5, c0_0=0., c1_0=0.06275847, c2_0=0.00000012, c3_0=0., c4_0=-0., c5_0=0., c0_1=-0., c0_2=-0.0000001, c0_3=-0., c0_4=0., c0_5=0., c1_1=-0.00000073, c1_2=0., c1_3=-0., c1_4=0., c2_1=-0., c2_2=0., c2_3=0., c3_1=-0., c3_2=0., c4_1=0.)>\n",
       "\n",
       "    [8]: <Polynomial2D(5, c0_0=0., c1_0=-0.00009902, c2_0=0.00000031, c3_0=0., c4_0=0., c5_0=-0., c0_1=0.06306468, c0_2=-0.00000042, c0_3=0., c0_4=-0., c0_5=0., c1_1=0.00000023, c1_2=-0., c1_3=0., c1_4=-0., c2_1=0., c2_2=-0., c2_3=0., c3_1=0., c3_2=-0., c4_1=0.)>\n",
       "\n",
       "    [9]: <Mapping((0, 1, 0, 1))>\n",
       "\n",
       "    [10]: <Polynomial2D(1, c0_0=0., c1_0=-0.99999954, c0_1=-0.00095806)>\n",
       "\n",
       "    [11]: <Polynomial2D(1, c0_0=0., c1_0=-0.00095806, c0_1=0.99999954)>\n",
       "\n",
       "    [12]: <Shift(offset=85.9392976)>\n",
       "\n",
       "    [13]: <Shift(offset=-493.5106528)>\n",
       "\n",
       "    [14]: <Scale(factor=1.00008927, name='dva_scale_v2')>\n",
       "\n",
       "    [15]: <Scale(factor=1.00008927, name='dva_scale_v3')>\n",
       "\n",
       "    [16]: <Shift(offset=-0.0076718, name='dva_v2_shift')>\n",
       "\n",
       "    [17]: <Shift(offset=0.04405571, name='dva_v3_shift')>\n",
       "\n",
       "    [18]: <Scale(factor=0.00027778)>\n",
       "\n",
       "    [19]: <Scale(factor=0.00027778)>\n",
       "\n",
       "    [20]: <SphericalToCartesian()>\n",
       "\n",
       "    [21]: <RotationSequence3D(angles=[   0.02387203,    0.13708629,  275.45960573,  -28.59355176, -266.5846083 ])>\n",
       "\n",
       "    [22]: <CartesianToSpherical()>\n",
       "Parameters:\n",
       "    offset_0 offset_1 offset_2 offset_3 offset_4 offset_5 ...     factor_15           offset_16             offset_17            factor_18             factor_19                       angles_21                \n",
       "    -------- -------- -------- -------- -------- -------- ... ----------------- ---------------------- ------------------- --------------------- --------------------- -----------------------------------------\n",
       "      -0.093    0.033      1.0      1.0  -1024.5  -1024.5 ... 1.000089270031307 -0.0076718038229700415 0.04405571144369648 0.0002777777777777778 0.0002777777777777778 0.02387202722222222 .. -266.5846082977756)>"
      ]
     },
     "execution_count": 59,
     "metadata": {},
     "output_type": "execute_result"
    }
   ],
   "source": [
    "tweak_data.meta.wcs"
   ]
  },
  {
   "cell_type": "code",
   "execution_count": 69,
   "id": "185d5a73-6a77-4079-a758-ee7ea39d8481",
   "metadata": {},
   "outputs": [
    {
     "data": {
      "text/plain": [
       "['/orange/adamginsburg/jwst/cloudc/F405N/pipeline/jw02221-o002_20230410t190607_image3_00004_asn.json',\n",
       " '/orange/adamginsburg/jwst/cloudc/F405N/pipeline/jw02221-o002_20230622t004213_image3_00004_asn.json']"
      ]
     },
     "execution_count": 69,
     "metadata": {},
     "output_type": "execute_result"
    }
   ],
   "source": [
    "glob(os.path.join(output_dir, f'jw02221-o{field}*_image3_*0[0-9][0-9]_asn.json'))"
   ]
  },
  {
   "cell_type": "code",
   "execution_count": 76,
   "id": "25885e00-922e-40bc-a3d0-f3158a6dc886",
   "metadata": {},
   "outputs": [
    {
     "name": "stdout",
     "output_type": "stream",
     "text": [
      "2023-07-27T14:39:46.562408: test\n"
     ]
    }
   ],
   "source": [
    "print('test')"
   ]
  },
  {
   "cell_type": "code",
   "execution_count": 98,
   "id": "faa0261f-4c82-4bbc-87cb-b72d83886eef",
   "metadata": {},
   "outputs": [
    {
     "name": "stderr",
     "output_type": "stream",
     "text": [
      "2023-07-27 18:23:20,651 - stpipe.SkyMatchStep - INFO - SkyMatchStep instance created.\n",
      "2023-07-27 18:23:21,266 - stpipe.SkyMatchStep - INFO - Step SkyMatchStep running with args (<ModelContainer>,).\n",
      "2023-07-27 18:23:21,274 - stpipe.SkyMatchStep - INFO - Step SkyMatchStep parameters are: {'pre_hooks': [], 'post_hooks': [], 'output_file': None, 'output_dir': None, 'output_ext': '.fits', 'output_use_model': False, 'output_use_index': True, 'save_results': True, 'skip': False, 'suffix': None, 'search_output_file': True, 'input_dir': '', 'skymethod': 'global+match', 'match_down': True, 'subtract': False, 'stepsize': None, 'skystat': 'mode', 'dqbits': '~DO_NOT_USE+NON_SCIENCE', 'lower': None, 'upper': None, 'nclip': 5, 'lsigma': 4.0, 'usigma': 4.0, 'binwidth': 0.1}\n",
      "2023-07-27 18:23:22,185 - stpipe.SkyMatchStep - INFO -  \n",
      "2023-07-27 18:23:22,188 - stpipe.SkyMatchStep - INFO - ***** jwst.skymatch.skymatch.match() started on 2023-07-27 18:23:22.185578\n",
      "2023-07-27 18:23:22,190 - stpipe.SkyMatchStep - INFO -  \n",
      "2023-07-27 18:23:22,191 - stpipe.SkyMatchStep - INFO - Sky computation method: 'global+match'\n",
      "2023-07-27 18:23:22,193 - stpipe.SkyMatchStep - INFO - Sky matching direction: DOWN\n",
      "2023-07-27 18:23:22,195 - stpipe.SkyMatchStep - INFO - Sky subtraction from image data: OFF\n",
      "2023-07-27 18:23:22,197 - stpipe.SkyMatchStep - INFO -  \n",
      "2023-07-27 18:23:22,199 - stpipe.SkyMatchStep - INFO - ----  Computing differences in sky values in overlapping regions.\n",
      "2023-07-27 18:25:48,952 - stpipe.SkyMatchStep - INFO -    *  Image ID=jw02221002001_02201_00002_nrcalong_destreak_tweakregstep.fits. Sky background: 1.50924\n",
      "2023-07-27 18:25:48,974 - stpipe.SkyMatchStep - INFO -    *  Image ID=jw02221002001_02201_00003_nrcalong_destreak_tweakregstep.fits. Sky background: 1.50014\n",
      "2023-07-27 18:25:48,975 - stpipe.SkyMatchStep - INFO -    *  Image ID=jw02221002001_02201_00004_nrcalong_destreak_tweakregstep.fits. Sky background: 1.38001\n",
      "2023-07-27 18:25:48,976 - stpipe.SkyMatchStep - INFO -    *  Image ID=jw02221002001_02201_00001_nrcalong_destreak_tweakregstep.fits. Sky background: 1.49081\n",
      "2023-07-27 18:25:48,976 - stpipe.SkyMatchStep - INFO -    *  Image ID=jw02221002001_08201_00004_nrcalong_destreak_tweakregstep.fits. Sky background: 1.14706\n",
      "2023-07-27 18:25:48,977 - stpipe.SkyMatchStep - INFO -    *  Image ID=jw02221002001_08201_00003_nrcalong_destreak_tweakregstep.fits. Sky background: 0.960821\n",
      "2023-07-27 18:25:48,978 - stpipe.SkyMatchStep - INFO -    *  Image ID=jw02221002001_08201_00001_nrcalong_destreak_tweakregstep.fits. Sky background: 1.0444\n",
      "2023-07-27 18:25:48,979 - stpipe.SkyMatchStep - INFO -    *  Image ID=jw02221002001_08201_00002_nrcalong_destreak_tweakregstep.fits. Sky background: 1.04647\n",
      "2023-07-27 18:25:48,979 - stpipe.SkyMatchStep - INFO -    *  Image ID=jw02221002002_02201_00002_nrcalong_destreak_tweakregstep.fits. Sky background: 0.615047\n",
      "2023-07-27 18:25:48,980 - stpipe.SkyMatchStep - INFO -    *  Image ID=jw02221002002_02201_00001_nrcalong_destreak_tweakregstep.fits. Sky background: 0.547799\n",
      "2023-07-27 18:25:48,981 - stpipe.SkyMatchStep - INFO -    *  Image ID=jw02221002002_02201_00004_nrcalong_destreak_tweakregstep.fits. Sky background: 0.652192\n",
      "2023-07-27 18:25:48,982 - stpipe.SkyMatchStep - INFO -    *  Image ID=jw02221002002_08201_00003_nrcalong_destreak_tweakregstep.fits. Sky background: 0.00896662\n",
      "2023-07-27 18:25:48,982 - stpipe.SkyMatchStep - INFO -    *  Image ID=jw02221002002_08201_00004_nrcalong_destreak_tweakregstep.fits. Sky background: 0\n",
      "2023-07-27 18:25:48,983 - stpipe.SkyMatchStep - INFO -    *  Image ID=jw02221002002_08201_00002_nrcalong_destreak_tweakregstep.fits. Sky background: 0.0155481\n",
      "2023-07-27 18:25:48,984 - stpipe.SkyMatchStep - INFO -    *  Image ID=jw02221002002_08201_00001_nrcalong_destreak_tweakregstep.fits. Sky background: 0.125267\n",
      "2023-07-27 18:25:48,984 - stpipe.SkyMatchStep - INFO -    *  Image ID=jw02221002002_02201_00003_nrcalong_destreak_tweakregstep.fits. Sky background: 0.558279\n",
      "2023-07-27 18:25:48,985 - stpipe.SkyMatchStep - INFO -  \n",
      "2023-07-27 18:25:48,986 - stpipe.SkyMatchStep - INFO - ----  Computing \"global\" sky - smallest sky value across *all* input images.\n",
      "2023-07-27 18:25:51,511 - stpipe.SkyMatchStep - INFO -  \n",
      "2023-07-27 18:25:51,514 - stpipe.SkyMatchStep - INFO -    \"Global\" sky value correction: 2.123800925151547 [not converted]\n",
      "2023-07-27 18:25:51,516 - stpipe.SkyMatchStep - INFO -  \n",
      "2023-07-27 18:25:51,518 - stpipe.SkyMatchStep - INFO - ----  Final (match+global) sky for:\n",
      "2023-07-27 18:25:51,520 - stpipe.SkyMatchStep - INFO -    *  Image ID=jw02221002001_02201_00002_nrcalong_destreak_tweakregstep.fits. Sky background: 3.63304 (old=1.50924, delta=2.1238)\n",
      "2023-07-27 18:25:51,522 - stpipe.SkyMatchStep - INFO -    *  Image ID=jw02221002001_02201_00003_nrcalong_destreak_tweakregstep.fits. Sky background: 3.62394 (old=1.50014, delta=2.1238)\n",
      "2023-07-27 18:25:51,523 - stpipe.SkyMatchStep - INFO -    *  Image ID=jw02221002001_02201_00004_nrcalong_destreak_tweakregstep.fits. Sky background: 3.50381 (old=1.38001, delta=2.1238)\n",
      "2023-07-27 18:25:51,525 - stpipe.SkyMatchStep - INFO -    *  Image ID=jw02221002001_02201_00001_nrcalong_destreak_tweakregstep.fits. Sky background: 3.61461 (old=1.49081, delta=2.1238)\n",
      "2023-07-27 18:25:51,527 - stpipe.SkyMatchStep - INFO -    *  Image ID=jw02221002001_08201_00004_nrcalong_destreak_tweakregstep.fits. Sky background: 3.27086 (old=1.14706, delta=2.1238)\n",
      "2023-07-27 18:25:51,529 - stpipe.SkyMatchStep - INFO -    *  Image ID=jw02221002001_08201_00003_nrcalong_destreak_tweakregstep.fits. Sky background: 3.08462 (old=0.960821, delta=2.1238)\n",
      "2023-07-27 18:25:51,531 - stpipe.SkyMatchStep - INFO -    *  Image ID=jw02221002001_08201_00001_nrcalong_destreak_tweakregstep.fits. Sky background: 3.1682 (old=1.0444, delta=2.1238)\n",
      "2023-07-27 18:25:51,533 - stpipe.SkyMatchStep - INFO -    *  Image ID=jw02221002001_08201_00002_nrcalong_destreak_tweakregstep.fits. Sky background: 3.17027 (old=1.04647, delta=2.1238)\n",
      "2023-07-27 18:25:51,535 - stpipe.SkyMatchStep - INFO -    *  Image ID=jw02221002002_02201_00002_nrcalong_destreak_tweakregstep.fits. Sky background: 2.73885 (old=0.615047, delta=2.1238)\n",
      "2023-07-27 18:25:51,536 - stpipe.SkyMatchStep - INFO -    *  Image ID=jw02221002002_02201_00001_nrcalong_destreak_tweakregstep.fits. Sky background: 2.6716 (old=0.547799, delta=2.1238)\n",
      "2023-07-27 18:25:51,537 - stpipe.SkyMatchStep - INFO -    *  Image ID=jw02221002002_02201_00004_nrcalong_destreak_tweakregstep.fits. Sky background: 2.77599 (old=0.652192, delta=2.1238)\n",
      "2023-07-27 18:25:51,538 - stpipe.SkyMatchStep - INFO -    *  Image ID=jw02221002002_08201_00003_nrcalong_destreak_tweakregstep.fits. Sky background: 2.13277 (old=0.00896662, delta=2.1238)\n",
      "2023-07-27 18:25:51,544 - stpipe.SkyMatchStep - INFO -    *  Image ID=jw02221002002_08201_00004_nrcalong_destreak_tweakregstep.fits. Sky background: 2.1238 (old=0, delta=2.1238)\n",
      "2023-07-27 18:25:51,545 - stpipe.SkyMatchStep - INFO -    *  Image ID=jw02221002002_08201_00002_nrcalong_destreak_tweakregstep.fits. Sky background: 2.13935 (old=0.0155481, delta=2.1238)\n",
      "2023-07-27 18:25:51,546 - stpipe.SkyMatchStep - INFO -    *  Image ID=jw02221002002_08201_00001_nrcalong_destreak_tweakregstep.fits. Sky background: 2.24907 (old=0.125267, delta=2.1238)\n",
      "2023-07-27 18:25:51,546 - stpipe.SkyMatchStep - INFO -    *  Image ID=jw02221002002_02201_00003_nrcalong_destreak_tweakregstep.fits. Sky background: 2.68208 (old=0.558279, delta=2.1238)\n",
      "2023-07-27 18:25:51,547 - stpipe.SkyMatchStep - INFO -  \n",
      "2023-07-27 18:25:51,548 - stpipe.SkyMatchStep - INFO - ***** jwst.skymatch.skymatch.match() ended on 2023-07-27 18:25:51.547614\n",
      "2023-07-27 18:25:51,549 - stpipe.SkyMatchStep - INFO - ***** jwst.skymatch.skymatch.match() TOTAL RUN TIME: 0:02:29.362036\n",
      "2023-07-27 18:25:51,549 - stpipe.SkyMatchStep - INFO -  \n",
      "2023-07-27 18:25:52,376 - stpipe.SkyMatchStep - INFO - Saved model in step_SkyMatchStep_0_skymatchstep.fits\n",
      "2023-07-27 18:25:52,925 - stpipe.SkyMatchStep - INFO - Saved model in step_SkyMatchStep_1_skymatchstep.fits\n",
      "2023-07-27 18:25:53,498 - stpipe.SkyMatchStep - INFO - Saved model in step_SkyMatchStep_2_skymatchstep.fits\n",
      "2023-07-27 18:25:54,081 - stpipe.SkyMatchStep - INFO - Saved model in step_SkyMatchStep_3_skymatchstep.fits\n",
      "2023-07-27 18:25:54,639 - stpipe.SkyMatchStep - INFO - Saved model in step_SkyMatchStep_4_skymatchstep.fits\n",
      "2023-07-27 18:25:55,207 - stpipe.SkyMatchStep - INFO - Saved model in step_SkyMatchStep_5_skymatchstep.fits\n",
      "2023-07-27 18:25:55,785 - stpipe.SkyMatchStep - INFO - Saved model in step_SkyMatchStep_6_skymatchstep.fits\n",
      "2023-07-27 18:25:56,352 - stpipe.SkyMatchStep - INFO - Saved model in step_SkyMatchStep_7_skymatchstep.fits\n",
      "2023-07-27 18:25:56,887 - stpipe.SkyMatchStep - INFO - Saved model in step_SkyMatchStep_8_skymatchstep.fits\n",
      "2023-07-27 18:25:58,062 - stpipe.SkyMatchStep - INFO - Saved model in step_SkyMatchStep_9_skymatchstep.fits\n",
      "2023-07-27 18:25:58,701 - stpipe.SkyMatchStep - INFO - Saved model in step_SkyMatchStep_10_skymatchstep.fits\n",
      "2023-07-27 18:25:59,243 - stpipe.SkyMatchStep - INFO - Saved model in step_SkyMatchStep_11_skymatchstep.fits\n",
      "2023-07-27 18:25:59,798 - stpipe.SkyMatchStep - INFO - Saved model in step_SkyMatchStep_12_skymatchstep.fits\n",
      "2023-07-27 18:26:00,368 - stpipe.SkyMatchStep - INFO - Saved model in step_SkyMatchStep_13_skymatchstep.fits\n",
      "2023-07-27 18:26:00,970 - stpipe.SkyMatchStep - INFO - Saved model in step_SkyMatchStep_14_skymatchstep.fits\n",
      "2023-07-27 18:26:01,538 - stpipe.SkyMatchStep - INFO - Saved model in step_SkyMatchStep_15_skymatchstep.fits\n",
      "2023-07-27 18:26:01,547 - stpipe.SkyMatchStep - INFO - Step SkyMatchStep done\n"
     ]
    }
   ],
   "source": [
    "skymatch = SkyMatchStep()\n",
    "skymatch.skymethod = 'global+match'\n",
    "skymatch.save_results = True\n",
    "tweakreg.output_dir = output_dir\n",
    "sky = skymatch.run(tweak)"
   ]
  },
  {
   "cell_type": "code",
   "execution_count": 101,
   "id": "89d8278f-fd6f-484d-9d56-2661e0fa6f6e",
   "metadata": {},
   "outputs": [
    {
     "name": "stdout",
     "output_type": "stream",
     "text": [
      "2023-07-27T18:29:08.056126: step_SkyMatchStep_0_skymatchstep.fits\n",
      "2023-07-27T18:29:08.056256: step_SkyMatchStep_0_skymatchstep.fits\n",
      "2023-07-27T18:29:08.056277: step_SkyMatchStep_0_skymatchstep.fits\n",
      "2023-07-27T18:29:08.056294: step_SkyMatchStep_0_skymatchstep.fits\n",
      "2023-07-27T18:29:08.056309: step_SkyMatchStep_0_skymatchstep.fits\n",
      "2023-07-27T18:29:08.056325: step_SkyMatchStep_0_skymatchstep.fits\n",
      "2023-07-27T18:29:08.056340: step_SkyMatchStep_0_skymatchstep.fits\n",
      "2023-07-27T18:29:08.056355: step_SkyMatchStep_0_skymatchstep.fits\n",
      "2023-07-27T18:29:08.056371: step_SkyMatchStep_0_skymatchstep.fits\n",
      "2023-07-27T18:29:08.056386: step_SkyMatchStep_0_skymatchstep.fits\n",
      "2023-07-27T18:29:08.056400: step_SkyMatchStep_0_skymatchstep.fits\n",
      "2023-07-27T18:29:08.056415: step_SkyMatchStep_0_skymatchstep.fits\n",
      "2023-07-27T18:29:08.056430: step_SkyMatchStep_0_skymatchstep.fits\n",
      "2023-07-27T18:29:08.056445: step_SkyMatchStep_0_skymatchstep.fits\n",
      "2023-07-27T18:29:08.056461: step_SkyMatchStep_0_skymatchstep.fits\n",
      "2023-07-27T18:29:08.056477: step_SkyMatchStep_0_skymatchstep.fits\n"
     ]
    }
   ],
   "source": [
    "for i in range(16):\n",
    "    print(sky[0].meta.filename)"
   ]
  },
  {
   "cell_type": "code",
   "execution_count": 103,
   "id": "2bc5606e-c67f-4ece-811a-58b0df987c66",
   "metadata": {},
   "outputs": [
    {
     "name": "stdout",
     "output_type": "stream",
     "text": [
      "2023-07-27T18:30:17.687154: Computed background level: 3.633044370811675\n",
      "2023-07-27T18:30:17.687435: Background subtracted: False\n"
     ]
    }
   ],
   "source": [
    "sky_file = sky[0].meta.filename\n",
    "sky_header = fits.getheader(sky_file)\n",
    "print('Computed background level: {}'.format(sky_header['BKGLEVEL']))\n",
    "print('Background subtracted: {}'.format(sky_header['BKGSUB']))"
   ]
  },
  {
   "cell_type": "code",
   "execution_count": 104,
   "id": "44364658-dbb9-45cf-b24e-41ead9a788b1",
   "metadata": {},
   "outputs": [],
   "source": [
    "sky_data = datamodels.open(sky_file)"
   ]
  },
  {
   "cell_type": "code",
   "execution_count": 107,
   "id": "57d9e2e4-faf1-45e5-a020-e1b5c9b48ceb",
   "metadata": {},
   "outputs": [
    {
     "data": {
      "text/plain": [
       "(-12.855713, 0.6738281)"
      ]
     },
     "execution_count": 107,
     "metadata": {},
     "output_type": "execute_result"
    }
   ],
   "source": [
    "np.nanmin(sky_data.data - cal_data.data), np.nanmax(sky_data.data - cal_data.data) # difference is probably due to destreaking "
   ]
  },
  {
   "cell_type": "code",
   "execution_count": 108,
   "id": "51048b3f-8146-407f-bd36-ce4e295d3980",
   "metadata": {},
   "outputs": [
    {
     "name": "stderr",
     "output_type": "stream",
     "text": [
      "2023-07-27 18:31:50,994 - stpipe.OutlierDetectionStep - INFO - OutlierDetectionStep instance created.\n",
      "2023-07-27 18:31:51,448 - stpipe.OutlierDetectionStep - INFO - Step OutlierDetectionStep running with args (<ModelContainer>,).\n",
      "2023-07-27 18:31:51,456 - stpipe.OutlierDetectionStep - INFO - Step OutlierDetectionStep parameters are: {'pre_hooks': [], 'post_hooks': [], 'output_file': None, 'output_dir': None, 'output_ext': '.fits', 'output_use_model': False, 'output_use_index': True, 'save_results': True, 'skip': False, 'suffix': None, 'search_output_file': False, 'input_dir': '', 'weight_type': 'ivm', 'pixfrac': 1.0, 'kernel': 'square', 'fillval': 'INDEF', 'nlow': 0, 'nhigh': 0, 'maskpt': 0.7, 'grow': 1, 'snr': '5.0 4.0', 'scale': '1.2 0.7', 'backg': 0.0, 'kernel_size': '7 7', 'threshold_percent': 99.8, 'ifu_second_check': False, 'save_intermediate_results': False, 'resample_data': True, 'good_bits': '~DO_NOT_USE', 'scale_detection': False, 'allowed_memory': None, 'in_memory': False}\n",
      "2023-07-27 18:31:51,562 - stpipe.OutlierDetectionStep - INFO - Performing outlier detection on 16 inputs\n",
      "2023-07-27 18:31:51,565 - stpipe.OutlierDetectionStep - INFO - Driz parameter kernel: square\n",
      "2023-07-27 18:31:51,568 - stpipe.OutlierDetectionStep - INFO - Driz parameter pixfrac: 1.0\n",
      "2023-07-27 18:31:51,571 - stpipe.OutlierDetectionStep - INFO - Driz parameter fillval: INDEF\n",
      "2023-07-27 18:31:51,575 - stpipe.OutlierDetectionStep - INFO - Driz parameter weight_type: ivm\n",
      "2023-07-27 18:31:51,578 - stpipe.OutlierDetectionStep - INFO - Output pixel scale ratio: 1.0\n",
      "2023-07-27 18:31:52,640 - stpipe.OutlierDetectionStep - INFO - 1 exposures to drizzle together\n",
      "2023-07-27 18:32:00,171 - stpipe.OutlierDetectionStep - INFO - Drizzling (2048, 2048) --> (2400, 5260)\n",
      "2023-07-27 18:32:02,378 - stpipe.OutlierDetectionStep - INFO - Exposure step_SkyMatchStep_0_outlier_i2d.fits saved to file\n",
      "2023-07-27 18:32:02,431 - stpipe.OutlierDetectionStep - INFO - 1 exposures to drizzle together\n",
      "2023-07-27 18:32:09,690 - stpipe.OutlierDetectionStep - INFO - Drizzling (2048, 2048) --> (2400, 5260)\n",
      "2023-07-27 18:32:11,830 - stpipe.OutlierDetectionStep - INFO - Exposure step_SkyMatchStep_1_outlier_i2d.fits saved to file\n",
      "2023-07-27 18:32:11,902 - stpipe.OutlierDetectionStep - INFO - 1 exposures to drizzle together\n",
      "2023-07-27 18:32:19,042 - stpipe.OutlierDetectionStep - INFO - Drizzling (2048, 2048) --> (2400, 5260)\n",
      "2023-07-27 18:32:21,129 - stpipe.OutlierDetectionStep - INFO - Exposure step_SkyMatchStep_2_outlier_i2d.fits saved to file\n",
      "2023-07-27 18:32:21,190 - stpipe.OutlierDetectionStep - INFO - 1 exposures to drizzle together\n",
      "2023-07-27 18:32:28,365 - stpipe.OutlierDetectionStep - INFO - Drizzling (2048, 2048) --> (2400, 5260)\n",
      "2023-07-27 18:32:30,428 - stpipe.OutlierDetectionStep - INFO - Exposure step_SkyMatchStep_3_outlier_i2d.fits saved to file\n",
      "2023-07-27 18:32:30,488 - stpipe.OutlierDetectionStep - INFO - 1 exposures to drizzle together\n",
      "2023-07-27 18:32:37,862 - stpipe.OutlierDetectionStep - INFO - Drizzling (2048, 2048) --> (2400, 5260)\n",
      "2023-07-27 18:32:40,016 - stpipe.OutlierDetectionStep - INFO - Exposure step_SkyMatchStep_4_outlier_i2d.fits saved to file\n",
      "2023-07-27 18:32:40,087 - stpipe.OutlierDetectionStep - INFO - 1 exposures to drizzle together\n",
      "2023-07-27 18:32:47,157 - stpipe.OutlierDetectionStep - INFO - Drizzling (2048, 2048) --> (2400, 5260)\n",
      "2023-07-27 18:32:49,258 - stpipe.OutlierDetectionStep - INFO - Exposure step_SkyMatchStep_5_outlier_i2d.fits saved to file\n",
      "2023-07-27 18:32:49,328 - stpipe.OutlierDetectionStep - INFO - 1 exposures to drizzle together\n",
      "2023-07-27 18:32:56,331 - stpipe.OutlierDetectionStep - INFO - Drizzling (2048, 2048) --> (2400, 5260)\n",
      "2023-07-27 18:32:58,451 - stpipe.OutlierDetectionStep - INFO - Exposure step_SkyMatchStep_6_outlier_i2d.fits saved to file\n",
      "2023-07-27 18:32:58,521 - stpipe.OutlierDetectionStep - INFO - 1 exposures to drizzle together\n",
      "2023-07-27 18:33:05,681 - stpipe.OutlierDetectionStep - INFO - Drizzling (2048, 2048) --> (2400, 5260)\n",
      "2023-07-27 18:33:07,768 - stpipe.OutlierDetectionStep - INFO - Exposure step_SkyMatchStep_7_outlier_i2d.fits saved to file\n",
      "2023-07-27 18:33:07,835 - stpipe.OutlierDetectionStep - INFO - 1 exposures to drizzle together\n",
      "2023-07-27 18:33:14,835 - stpipe.OutlierDetectionStep - INFO - Drizzling (2048, 2048) --> (2400, 5260)\n",
      "2023-07-27 18:33:16,903 - stpipe.OutlierDetectionStep - INFO - Exposure step_SkyMatchStep_8_outlier_i2d.fits saved to file\n",
      "2023-07-27 18:33:16,957 - stpipe.OutlierDetectionStep - INFO - 1 exposures to drizzle together\n",
      "2023-07-27 18:33:24,001 - stpipe.OutlierDetectionStep - INFO - Drizzling (2048, 2048) --> (2400, 5260)\n",
      "2023-07-27 18:33:26,153 - stpipe.OutlierDetectionStep - INFO - Exposure step_SkyMatchStep_9_outlier_i2d.fits saved to file\n",
      "2023-07-27 18:33:26,214 - stpipe.OutlierDetectionStep - INFO - 1 exposures to drizzle together\n",
      "2023-07-27 18:33:33,441 - stpipe.OutlierDetectionStep - INFO - Drizzling (2048, 2048) --> (2400, 5260)\n",
      "2023-07-27 18:33:35,567 - stpipe.OutlierDetectionStep - INFO - Exposure step_SkyMatchStep_10_outlier_i2d.fits saved to file\n",
      "2023-07-27 18:33:35,627 - stpipe.OutlierDetectionStep - INFO - 1 exposures to drizzle together\n",
      "2023-07-27 18:33:42,720 - stpipe.OutlierDetectionStep - INFO - Drizzling (2048, 2048) --> (2400, 5260)\n",
      "2023-07-27 18:33:44,914 - stpipe.OutlierDetectionStep - INFO - Exposure step_SkyMatchStep_11_outlier_i2d.fits saved to file\n",
      "2023-07-27 18:33:44,969 - stpipe.OutlierDetectionStep - INFO - 1 exposures to drizzle together\n",
      "2023-07-27 18:33:52,040 - stpipe.OutlierDetectionStep - INFO - Drizzling (2048, 2048) --> (2400, 5260)\n",
      "2023-07-27 18:33:54,108 - stpipe.OutlierDetectionStep - INFO - Exposure step_SkyMatchStep_12_outlier_i2d.fits saved to file\n",
      "2023-07-27 18:33:54,170 - stpipe.OutlierDetectionStep - INFO - 1 exposures to drizzle together\n",
      "2023-07-27 18:34:01,258 - stpipe.OutlierDetectionStep - INFO - Drizzling (2048, 2048) --> (2400, 5260)\n",
      "2023-07-27 18:34:03,356 - stpipe.OutlierDetectionStep - INFO - Exposure step_SkyMatchStep_13_outlier_i2d.fits saved to file\n",
      "2023-07-27 18:34:03,415 - stpipe.OutlierDetectionStep - INFO - 1 exposures to drizzle together\n",
      "2023-07-27 18:34:10,383 - stpipe.OutlierDetectionStep - INFO - Drizzling (2048, 2048) --> (2400, 5260)\n",
      "2023-07-27 18:34:12,509 - stpipe.OutlierDetectionStep - INFO - Exposure step_SkyMatchStep_14_outlier_i2d.fits saved to file\n",
      "2023-07-27 18:34:12,576 - stpipe.OutlierDetectionStep - INFO - 1 exposures to drizzle together\n",
      "2023-07-27 18:34:19,584 - stpipe.OutlierDetectionStep - INFO - Drizzling (2048, 2048) --> (2400, 5260)\n",
      "2023-07-27 18:34:21,637 - stpipe.OutlierDetectionStep - INFO - Exposure step_SkyMatchStep_15_outlier_i2d.fits saved to file\n",
      "2023-07-27 18:39:56,214 - stpipe.OutlierDetectionStep - INFO - Blotting median...\n",
      "2023-07-27 18:40:03,540 - stpipe.OutlierDetectionStep - INFO - Blotting (2048, 2048) <-- (2400, 5260)\n",
      "2023-07-27 18:40:11,807 - stpipe.OutlierDetectionStep - INFO - Blotting (2048, 2048) <-- (2400, 5260)\n",
      "2023-07-27 18:40:20,081 - stpipe.OutlierDetectionStep - INFO - Blotting (2048, 2048) <-- (2400, 5260)\n",
      "2023-07-27 18:40:28,402 - stpipe.OutlierDetectionStep - INFO - Blotting (2048, 2048) <-- (2400, 5260)\n",
      "2023-07-27 18:40:36,547 - stpipe.OutlierDetectionStep - INFO - Blotting (2048, 2048) <-- (2400, 5260)\n",
      "2023-07-27 18:40:44,706 - stpipe.OutlierDetectionStep - INFO - Blotting (2048, 2048) <-- (2400, 5260)\n",
      "2023-07-27 18:40:52,923 - stpipe.OutlierDetectionStep - INFO - Blotting (2048, 2048) <-- (2400, 5260)\n",
      "2023-07-27 18:41:01,047 - stpipe.OutlierDetectionStep - INFO - Blotting (2048, 2048) <-- (2400, 5260)\n",
      "2023-07-27 18:41:09,281 - stpipe.OutlierDetectionStep - INFO - Blotting (2048, 2048) <-- (2400, 5260)\n",
      "2023-07-27 18:41:17,475 - stpipe.OutlierDetectionStep - INFO - Blotting (2048, 2048) <-- (2400, 5260)\n",
      "2023-07-27 18:41:25,605 - stpipe.OutlierDetectionStep - INFO - Blotting (2048, 2048) <-- (2400, 5260)\n",
      "2023-07-27 18:41:33,748 - stpipe.OutlierDetectionStep - INFO - Blotting (2048, 2048) <-- (2400, 5260)\n",
      "2023-07-27 18:41:42,480 - stpipe.OutlierDetectionStep - INFO - Blotting (2048, 2048) <-- (2400, 5260)\n",
      "2023-07-27 18:41:50,800 - stpipe.OutlierDetectionStep - INFO - Blotting (2048, 2048) <-- (2400, 5260)\n",
      "2023-07-27 18:41:59,060 - stpipe.OutlierDetectionStep - INFO - Blotting (2048, 2048) <-- (2400, 5260)\n",
      "2023-07-27 18:42:07,460 - stpipe.OutlierDetectionStep - INFO - Blotting (2048, 2048) <-- (2400, 5260)\n",
      "2023-07-27 18:42:08,690 - stpipe.OutlierDetectionStep - INFO - Flagging outliers\n",
      "2023-07-27 18:42:09,980 - stpipe.OutlierDetectionStep - INFO - New pixels flagged as outliers: 10360 (0.25%)\n",
      "2023-07-27 18:42:11,257 - stpipe.OutlierDetectionStep - INFO - New pixels flagged as outliers: 10405 (0.25%)\n",
      "2023-07-27 18:42:12,563 - stpipe.OutlierDetectionStep - INFO - New pixels flagged as outliers: 10382 (0.25%)\n",
      "2023-07-27 18:42:13,867 - stpipe.OutlierDetectionStep - INFO - New pixels flagged as outliers: 8995 (0.21%)\n",
      "2023-07-27 18:42:15,157 - stpipe.OutlierDetectionStep - INFO - New pixels flagged as outliers: 82784 (1.97%)\n",
      "2023-07-27 18:42:16,644 - stpipe.OutlierDetectionStep - INFO - New pixels flagged as outliers: 77776 (1.85%)\n",
      "2023-07-27 18:42:17,595 - stpipe.OutlierDetectionStep - INFO - New pixels flagged as outliers: 70898 (1.69%)\n",
      "2023-07-27 18:42:18,551 - stpipe.OutlierDetectionStep - INFO - New pixels flagged as outliers: 72790 (1.74%)\n",
      "2023-07-27 18:42:19,619 - stpipe.OutlierDetectionStep - INFO - New pixels flagged as outliers: 45262 (1.08%)\n",
      "2023-07-27 18:42:20,752 - stpipe.OutlierDetectionStep - INFO - New pixels flagged as outliers: 52212 (1.24%)\n",
      "2023-07-27 18:42:22,000 - stpipe.OutlierDetectionStep - INFO - New pixels flagged as outliers: 37185 (0.89%)\n",
      "2023-07-27 18:42:23,286 - stpipe.OutlierDetectionStep - INFO - New pixels flagged as outliers: 9219 (0.22%)\n",
      "2023-07-27 18:42:24,638 - stpipe.OutlierDetectionStep - INFO - New pixels flagged as outliers: 9046 (0.22%)\n",
      "2023-07-27 18:42:25,959 - stpipe.OutlierDetectionStep - INFO - New pixels flagged as outliers: 8883 (0.21%)\n",
      "2023-07-27 18:42:27,485 - stpipe.OutlierDetectionStep - INFO - New pixels flagged as outliers: 9205 (0.22%)\n",
      "2023-07-27 18:42:28,446 - stpipe.OutlierDetectionStep - INFO - New pixels flagged as outliers: 42552 (1.01%)\n",
      "2023-07-27 18:42:29,315 - stpipe.OutlierDetectionStep - INFO - Saved model in step_SkyMatchStep_0_o002_outlierdetectionstep.fits\n",
      "2023-07-27 18:42:29,920 - stpipe.OutlierDetectionStep - INFO - Saved model in step_SkyMatchStep_1_o002_outlierdetectionstep.fits\n",
      "2023-07-27 18:42:30,461 - stpipe.OutlierDetectionStep - INFO - Saved model in step_SkyMatchStep_2_o002_outlierdetectionstep.fits\n",
      "2023-07-27 18:42:31,040 - stpipe.OutlierDetectionStep - INFO - Saved model in step_SkyMatchStep_3_o002_outlierdetectionstep.fits\n",
      "2023-07-27 18:42:31,607 - stpipe.OutlierDetectionStep - INFO - Saved model in step_SkyMatchStep_4_o002_outlierdetectionstep.fits\n",
      "2023-07-27 18:42:32,188 - stpipe.OutlierDetectionStep - INFO - Saved model in step_SkyMatchStep_5_o002_outlierdetectionstep.fits\n",
      "2023-07-27 18:42:32,800 - stpipe.OutlierDetectionStep - INFO - Saved model in step_SkyMatchStep_6_o002_outlierdetectionstep.fits\n",
      "2023-07-27 18:42:33,391 - stpipe.OutlierDetectionStep - INFO - Saved model in step_SkyMatchStep_7_o002_outlierdetectionstep.fits\n",
      "2023-07-27 18:42:34,012 - stpipe.OutlierDetectionStep - INFO - Saved model in step_SkyMatchStep_8_o002_outlierdetectionstep.fits\n",
      "2023-07-27 18:42:34,662 - stpipe.OutlierDetectionStep - INFO - Saved model in step_SkyMatchStep_9_o002_outlierdetectionstep.fits\n",
      "2023-07-27 18:42:35,252 - stpipe.OutlierDetectionStep - INFO - Saved model in step_SkyMatchStep_10_o002_outlierdetectionstep.fits\n",
      "2023-07-27 18:42:35,885 - stpipe.OutlierDetectionStep - INFO - Saved model in step_SkyMatchStep_11_o002_outlierdetectionstep.fits\n",
      "2023-07-27 18:42:36,480 - stpipe.OutlierDetectionStep - INFO - Saved model in step_SkyMatchStep_12_o002_outlierdetectionstep.fits\n",
      "2023-07-27 18:42:37,184 - stpipe.OutlierDetectionStep - INFO - Saved model in step_SkyMatchStep_13_o002_outlierdetectionstep.fits\n",
      "2023-07-27 18:42:37,772 - stpipe.OutlierDetectionStep - INFO - Saved model in step_SkyMatchStep_14_o002_outlierdetectionstep.fits\n",
      "2023-07-27 18:42:38,375 - stpipe.OutlierDetectionStep - INFO - Saved model in step_SkyMatchStep_15_o002_outlierdetectionstep.fits\n",
      "2023-07-27 18:42:38,377 - stpipe.OutlierDetectionStep - INFO - Step OutlierDetectionStep done\n"
     ]
    }
   ],
   "source": [
    "outlier_detection = OutlierDetectionStep()\n",
    "outlier_detection.save_results = True\n",
    "outlier = outlier_detection.run(sky)"
   ]
  },
  {
   "cell_type": "code",
   "execution_count": 110,
   "id": "536071d9-4c7d-42c3-9f90-a8757a9c8e12",
   "metadata": {},
   "outputs": [
    {
     "data": {
      "text/plain": [
       "['step_SkyMatchStep_5_outlier_i2d.fits',\n",
       " 'step_SkyMatchStep_10_outlier_i2d.fits',\n",
       " 'step_SkyMatchStep_3_outlier_i2d.fits',\n",
       " 'step_SkyMatchStep_14_outlier_i2d.fits',\n",
       " 'step_SkyMatchStep_11_outlier_i2d.fits',\n",
       " 'step_SkyMatchStep_12_outlier_i2d.fits',\n",
       " 'step_SkyMatchStep_1_outlier_i2d.fits',\n",
       " 'step_SkyMatchStep_8_outlier_i2d.fits',\n",
       " 'step_SkyMatchStep_15_outlier_i2d.fits',\n",
       " 'step_SkyMatchStep_6_outlier_i2d.fits',\n",
       " 'step_SkyMatchStep_2_outlier_i2d.fits',\n",
       " 'step_SkyMatchStep_4_outlier_i2d.fits',\n",
       " 'step_SkyMatchStep_0_outlier_i2d.fits',\n",
       " 'step_SkyMatchStep_9_outlier_i2d.fits',\n",
       " 'step_SkyMatchStep_7_outlier_i2d.fits',\n",
       " 'step_SkyMatchStep_13_outlier_i2d.fits']"
      ]
     },
     "execution_count": 110,
     "metadata": {},
     "output_type": "execute_result"
    }
   ],
   "source": [
    "glob('*outlier*i2d.fits')"
   ]
  },
  {
   "cell_type": "code",
   "execution_count": 115,
   "id": "470c16f9-17cc-4302-851f-64a84f917fb9",
   "metadata": {},
   "outputs": [],
   "source": [
    "out_lis = np.array(['15', '10', '9', '8', '7', '6', '5', '4'])"
   ]
  },
  {
   "cell_type": "code",
   "execution_count": 123,
   "id": "493c8dec-2eed-4057-a318-aa8889385dd8",
   "metadata": {},
   "outputs": [
    {
     "data": {
      "text/plain": [
       "['step_SkyMatchStep_5_outlier_i2d.fits',\n",
       " 'step_SkyMatchStep_10_outlier_i2d.fits',\n",
       " 'step_SkyMatchStep_3_outlier_i2d.fits',\n",
       " 'step_SkyMatchStep_14_outlier_i2d.fits',\n",
       " 'step_SkyMatchStep_11_outlier_i2d.fits',\n",
       " 'step_SkyMatchStep_12_outlier_i2d.fits',\n",
       " 'step_SkyMatchStep_1_outlier_i2d.fits',\n",
       " 'step_SkyMatchStep_8_outlier_i2d.fits',\n",
       " 'step_SkyMatchStep_15_outlier_i2d.fits',\n",
       " 'step_SkyMatchStep_6_outlier_i2d.fits',\n",
       " 'step_SkyMatchStep_2_outlier_i2d.fits',\n",
       " 'step_SkyMatchStep_4_outlier_i2d.fits',\n",
       " 'step_SkyMatchStep_0_outlier_i2d.fits',\n",
       " 'step_SkyMatchStep_9_outlier_i2d.fits',\n",
       " 'step_SkyMatchStep_7_outlier_i2d.fits',\n",
       " 'step_SkyMatchStep_13_outlier_i2d.fits']"
      ]
     },
     "execution_count": 123,
     "metadata": {},
     "output_type": "execute_result"
    }
   ],
   "source": [
    "glob('step_SkyMatchStep_*_outlier_i2d.fits')"
   ]
  },
  {
   "cell_type": "code",
   "execution_count": null,
   "id": "27d0eab0-1faf-47ca-91eb-54d87bd6b93e",
   "metadata": {},
   "outputs": [],
   "source": []
  }
 ],
 "metadata": {
  "kernelspec": {
   "display_name": "Python 3 (ipykernel)",
   "language": "python",
   "name": "python3"
  },
  "language_info": {
   "codemirror_mode": {
    "name": "ipython",
    "version": 3
   },
   "file_extension": ".py",
   "mimetype": "text/x-python",
   "name": "python",
   "nbconvert_exporter": "python",
   "pygments_lexer": "ipython3",
   "version": "3.9.17"
  }
 },
 "nbformat": 4,
 "nbformat_minor": 5
}
