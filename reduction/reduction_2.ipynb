{
 "cells": [
  {
   "cell_type": "code",
   "execution_count": 1,
   "id": "935f934e-fd7d-434e-b7ba-f4b364d17db4",
   "metadata": {},
   "outputs": [
    {
     "name": "stdout",
     "output_type": "stream",
     "text": [
      "2023-09-06T13:07:41.344128: 1.11.3\n"
     ]
    }
   ],
   "source": [
    "#!/usr/bin/env python\n",
    "from glob import glob\n",
    "from astroquery.mast import Mast, Observations\n",
    "import os\n",
    "import shutil\n",
    "import numpy as np\n",
    "import json\n",
    "import requests\n",
    "import asdf\n",
    "from astropy import log\n",
    "from astropy.io import ascii, fits\n",
    "from astropy.utils.data import download_file\n",
    "from astropy.visualization import ImageNormalize, ManualInterval, LogStretch, LinearStretch\n",
    "import matplotlib.pyplot as plt\n",
    "import matplotlib as mpl\n",
    "from astropy.table import Table\n",
    "import astropy.units as u\n",
    "\n",
    "\n",
    "# do this before importing webb\n",
    "os.environ[\"CRDS_PATH\"] = \"/orange/adamginsburg/jwst/brick/crds/\"\n",
    "os.environ[\"CRDS_SERVER_URL\"] = \"https://jwst-crds.stsci.edu\"\n",
    "\n",
    "from jwst.pipeline import calwebb_image3\n",
    "from jwst.pipeline import Detector1Pipeline, Image2Pipeline\n",
    "\n",
    "# Individual steps that make up calwebb_image3\n",
    "from jwst.tweakreg import TweakRegStep\n",
    "from jwst.skymatch import SkyMatchStep\n",
    "from jwst.outlier_detection import OutlierDetectionStep\n",
    "from jwst.resample import ResampleStep\n",
    "from jwst.source_catalog import SourceCatalogStep\n",
    "from jwst import datamodels\n",
    "from jwst.associations import asn_from_list\n",
    "from jwst.associations.lib.rules_level3_base import DMS_Level3_Base\n",
    "\n",
    "from align_to_catalogs import realign_to_vvv, merge_a_plus_b, retrieve_vvv\n",
    "#from saturated_star_finding import iteratively_remove_saturated_stars, remove_saturated_stars\n",
    "\n",
    "from destreak import destreak\n",
    "\n",
    "import crds\n",
    "\n",
    "import datetime\n",
    "import jwst\n",
    "\n",
    "def print(*args, **kwargs):\n",
    "    now = datetime.datetime.now().isoformat()\n",
    "    from builtins import print as printfunc\n",
    "    return printfunc(f\"{now}:\", *args, **kwargs)\n",
    "\n",
    "\n",
    "print(jwst.__version__)\n",
    "\n",
    "# see 'destreak410.ipynb' for tests of this\n",
    "medfilt_size = {'F410M': 15, 'F405N': 256, 'F466N': 55}\n",
    "\n",
    "#basepath = '/orange/adamginsburg/jwst/brick/'\n",
    "\n",
    "filtername = 'F405N'\n",
    "module = 'merged'\n",
    "field = '002'\n",
    "regionname = 'cloudc'"
   ]
  },
  {
   "cell_type": "code",
   "execution_count": 2,
   "id": "cd78d06f-f763-4041-a98f-9ea5e7b35f20",
   "metadata": {
    "collapsed": true,
    "jupyter": {
     "outputs_hidden": true
    },
    "tags": []
   },
   "outputs": [
    {
     "data": {
      "text/plain": [
       "\u001b[0;31mSignature:\u001b[0m \u001b[0mcalwebb_image3\u001b[0m\u001b[0;34m.\u001b[0m\u001b[0mImage3Pipeline\u001b[0m\u001b[0;34m.\u001b[0m\u001b[0mcall\u001b[0m\u001b[0;34m(\u001b[0m\u001b[0;34m*\u001b[0m\u001b[0margs\u001b[0m\u001b[0;34m,\u001b[0m \u001b[0;34m**\u001b[0m\u001b[0mkwargs\u001b[0m\u001b[0;34m)\u001b[0m\u001b[0;34m\u001b[0m\u001b[0;34m\u001b[0m\u001b[0m\n",
       "\u001b[0;31mSource:\u001b[0m   \n",
       "    \u001b[0;34m@\u001b[0m\u001b[0mclassmethod\u001b[0m\u001b[0;34m\u001b[0m\n",
       "\u001b[0;34m\u001b[0m    \u001b[0;32mdef\u001b[0m \u001b[0mcall\u001b[0m\u001b[0;34m(\u001b[0m\u001b[0mcls\u001b[0m\u001b[0;34m,\u001b[0m \u001b[0;34m*\u001b[0m\u001b[0margs\u001b[0m\u001b[0;34m,\u001b[0m \u001b[0;34m**\u001b[0m\u001b[0mkwargs\u001b[0m\u001b[0;34m)\u001b[0m\u001b[0;34m:\u001b[0m\u001b[0;34m\u001b[0m\n",
       "\u001b[0;34m\u001b[0m        \u001b[0;34m\"\"\"\u001b[0m\n",
       "\u001b[0;34m        Creates and runs a new instance of the class.\u001b[0m\n",
       "\u001b[0;34m\u001b[0m\n",
       "\u001b[0;34m        Gets a config file from CRDS if one is available\u001b[0m\n",
       "\u001b[0;34m\u001b[0m\n",
       "\u001b[0;34m        To set configuration parameters, pass a `config_file` path or\u001b[0m\n",
       "\u001b[0;34m        keyword arguments.  Keyword arguments override those in the\u001b[0m\n",
       "\u001b[0;34m        specified `config_file`.\u001b[0m\n",
       "\u001b[0;34m\u001b[0m\n",
       "\u001b[0;34m        Any positional `*args` will be passed along to the step's\u001b[0m\n",
       "\u001b[0;34m        `process` method.\u001b[0m\n",
       "\u001b[0;34m\u001b[0m\n",
       "\u001b[0;34m        Note: this method creates a new instance of `Step` with the given\u001b[0m\n",
       "\u001b[0;34m        `config_file` if supplied, plus any extra `*args` and `**kwargs`.\u001b[0m\n",
       "\u001b[0;34m        If you create an instance of a Step, set parameters, and then use\u001b[0m\n",
       "\u001b[0;34m        this `call()` method, it will ignore previously-set parameters, as\u001b[0m\n",
       "\u001b[0;34m        it creates a new instance of the class with only the `config_file`,\u001b[0m\n",
       "\u001b[0;34m        `*args` and `**kwargs` passed to the `call()` method.\u001b[0m\n",
       "\u001b[0;34m\u001b[0m\n",
       "\u001b[0;34m        If not used with a `config_file` or specific `*args` and `**kwargs`,\u001b[0m\n",
       "\u001b[0;34m        it would be better to use the `run` method, which does not create\u001b[0m\n",
       "\u001b[0;34m        a new instance but simply runs the existing instance of the `Step`\u001b[0m\n",
       "\u001b[0;34m        class.\u001b[0m\n",
       "\u001b[0;34m        \"\"\"\u001b[0m\u001b[0;34m\u001b[0m\n",
       "\u001b[0;34m\u001b[0m        \u001b[0mfilename\u001b[0m \u001b[0;34m=\u001b[0m \u001b[0;32mNone\u001b[0m\u001b[0;34m\u001b[0m\n",
       "\u001b[0;34m\u001b[0m        \u001b[0;32mif\u001b[0m \u001b[0mlen\u001b[0m\u001b[0;34m(\u001b[0m\u001b[0margs\u001b[0m\u001b[0;34m)\u001b[0m \u001b[0;34m>\u001b[0m \u001b[0;36m0\u001b[0m\u001b[0;34m:\u001b[0m\u001b[0;34m\u001b[0m\n",
       "\u001b[0;34m\u001b[0m            \u001b[0mfilename\u001b[0m \u001b[0;34m=\u001b[0m \u001b[0margs\u001b[0m\u001b[0;34m[\u001b[0m\u001b[0;36m0\u001b[0m\u001b[0;34m]\u001b[0m\u001b[0;34m\u001b[0m\n",
       "\u001b[0;34m\u001b[0m        \u001b[0mconfig\u001b[0m\u001b[0;34m,\u001b[0m \u001b[0mconfig_file\u001b[0m \u001b[0;34m=\u001b[0m \u001b[0mcls\u001b[0m\u001b[0;34m.\u001b[0m\u001b[0mbuild_config\u001b[0m\u001b[0;34m(\u001b[0m\u001b[0mfilename\u001b[0m\u001b[0;34m,\u001b[0m \u001b[0;34m**\u001b[0m\u001b[0mkwargs\u001b[0m\u001b[0;34m)\u001b[0m\u001b[0;34m\u001b[0m\n",
       "\u001b[0;34m\u001b[0m\u001b[0;34m\u001b[0m\n",
       "\u001b[0;34m\u001b[0m        \u001b[0;32mif\u001b[0m \u001b[0;34m'class'\u001b[0m \u001b[0;32min\u001b[0m \u001b[0mconfig\u001b[0m\u001b[0;34m:\u001b[0m\u001b[0;34m\u001b[0m\n",
       "\u001b[0;34m\u001b[0m            \u001b[0;32mdel\u001b[0m \u001b[0mconfig\u001b[0m\u001b[0;34m[\u001b[0m\u001b[0;34m'class'\u001b[0m\u001b[0;34m]\u001b[0m\u001b[0;34m\u001b[0m\n",
       "\u001b[0;34m\u001b[0m\u001b[0;34m\u001b[0m\n",
       "\u001b[0;34m\u001b[0m        \u001b[0;32mif\u001b[0m \u001b[0;34m'logcfg'\u001b[0m \u001b[0;32min\u001b[0m \u001b[0mconfig\u001b[0m\u001b[0;34m:\u001b[0m\u001b[0;34m\u001b[0m\n",
       "\u001b[0;34m\u001b[0m            \u001b[0;32mtry\u001b[0m\u001b[0;34m:\u001b[0m\u001b[0;34m\u001b[0m\n",
       "\u001b[0;34m\u001b[0m                \u001b[0mlog\u001b[0m\u001b[0;34m.\u001b[0m\u001b[0mload_configuration\u001b[0m\u001b[0;34m(\u001b[0m\u001b[0mconfig\u001b[0m\u001b[0;34m[\u001b[0m\u001b[0;34m'logcfg'\u001b[0m\u001b[0;34m]\u001b[0m\u001b[0;34m)\u001b[0m\u001b[0;34m\u001b[0m\n",
       "\u001b[0;34m\u001b[0m            \u001b[0;32mexcept\u001b[0m \u001b[0mException\u001b[0m \u001b[0;32mas\u001b[0m \u001b[0me\u001b[0m\u001b[0;34m:\u001b[0m\u001b[0;34m\u001b[0m\n",
       "\u001b[0;34m\u001b[0m                \u001b[0;32mraise\u001b[0m \u001b[0mRuntimeError\u001b[0m\u001b[0;34m(\u001b[0m\u001b[0;34m\u001b[0m\n",
       "\u001b[0;34m\u001b[0m                    \u001b[0;34mf\"Error parsing logging config {config['logcfg']}\"\u001b[0m\u001b[0;34m\u001b[0m\n",
       "\u001b[0;34m\u001b[0m                \u001b[0;34m)\u001b[0m \u001b[0;32mfrom\u001b[0m \u001b[0me\u001b[0m\u001b[0;34m\u001b[0m\n",
       "\u001b[0;34m\u001b[0m            \u001b[0;32mdel\u001b[0m \u001b[0mconfig\u001b[0m\u001b[0;34m[\u001b[0m\u001b[0;34m'logcfg'\u001b[0m\u001b[0;34m]\u001b[0m\u001b[0;34m\u001b[0m\n",
       "\u001b[0;34m\u001b[0m\u001b[0;34m\u001b[0m\n",
       "\u001b[0;34m\u001b[0m        \u001b[0mname\u001b[0m \u001b[0;34m=\u001b[0m \u001b[0mconfig\u001b[0m\u001b[0;34m.\u001b[0m\u001b[0mget\u001b[0m\u001b[0;34m(\u001b[0m\u001b[0;34m'name'\u001b[0m\u001b[0;34m,\u001b[0m \u001b[0;32mNone\u001b[0m\u001b[0;34m)\u001b[0m\u001b[0;34m\u001b[0m\n",
       "\u001b[0;34m\u001b[0m        \u001b[0minstance\u001b[0m \u001b[0;34m=\u001b[0m \u001b[0mcls\u001b[0m\u001b[0;34m.\u001b[0m\u001b[0mfrom_config_section\u001b[0m\u001b[0;34m(\u001b[0m\u001b[0mconfig\u001b[0m\u001b[0;34m,\u001b[0m\u001b[0;34m\u001b[0m\n",
       "\u001b[0;34m\u001b[0m            \u001b[0mname\u001b[0m\u001b[0;34m=\u001b[0m\u001b[0mname\u001b[0m\u001b[0;34m,\u001b[0m \u001b[0mconfig_file\u001b[0m\u001b[0;34m=\u001b[0m\u001b[0mconfig_file\u001b[0m\u001b[0;34m)\u001b[0m\u001b[0;34m\u001b[0m\n",
       "\u001b[0;34m\u001b[0m\u001b[0;34m\u001b[0m\n",
       "\u001b[0;34m\u001b[0m        \u001b[0;32mreturn\u001b[0m \u001b[0minstance\u001b[0m\u001b[0;34m.\u001b[0m\u001b[0mrun\u001b[0m\u001b[0;34m(\u001b[0m\u001b[0;34m*\u001b[0m\u001b[0margs\u001b[0m\u001b[0;34m)\u001b[0m\u001b[0;34m\u001b[0m\u001b[0;34m\u001b[0m\u001b[0m\n",
       "\u001b[0;31mFile:\u001b[0m      /orange/adamginsburg/miniconda3/envs/python39/lib/python3.9/site-packages/stpipe/step.py\n",
       "\u001b[0;31mType:\u001b[0m      method\n"
      ]
     },
     "metadata": {},
     "output_type": "display_data"
    }
   ],
   "source": [
    "calwebb_image3.Image3Pipeline.call??"
   ]
  },
  {
   "cell_type": "code",
   "execution_count": 4,
   "id": "c4532e45-9e08-4ed7-8cff-2184538a7a09",
   "metadata": {},
   "outputs": [],
   "source": [
    "vvvcat = fits.open('/orange/adamginsburg/jwst/cloudc//F466N/pipeline/jw02221-o001_t001_nircam_clear-F466N-merged_vvvcat.fits')"
   ]
  },
  {
   "cell_type": "code",
   "execution_count": 9,
   "id": "d95a4751-1612-49c0-8d7d-92397598080d",
   "metadata": {
    "collapsed": true,
    "jupyter": {
     "outputs_hidden": true
    },
    "tags": []
   },
   "outputs": [
    {
     "data": {
      "text/plain": [
       "FITS_rec([(266.602823, -28.60222 , 'VVV J174624.67-283607.99', -1, 18.806, 0.084,  0, 17.736, 0.053,  0, 16.528, 0.034, 16,    nan,   nan,  0,    nan,   nan,  0, 266.602823, -28.60222 ),\n",
       "          (266.606742, -28.598289, 'VVV J174625.61-283553.84', -1, 16.278, 0.011,  0, 15.811, 0.011,  0, 15.225, 0.011, 16, 14.721, 0.027, 16, 14.421, 0.058, 16, 266.606742, -28.598289),\n",
       "          (266.613329, -28.597491, 'VVV J174627.19-283550.96', -1, 17.865, 0.037, 16, 17.298, 0.036, 16, 16.693, 0.039, 16, 16.261, 0.111, 16,    nan,   nan,  0, 266.613329, -28.597491),\n",
       "          ...,\n",
       "          (266.59499 , -28.520139, 'VVV J174622.79-283112.49',  1,    nan,   nan,  0,    nan,   nan,  0, 17.2  , 0.061, 16, 14.584, 0.024, 16,    nan,   nan,  0, 266.59499 , -28.520139),\n",
       "          (266.592745, -28.520205, 'VVV J174622.25-283112.73', -1,    nan,   nan,  0,    nan,   nan,  0,    nan,   nan,  0,    nan,   nan,  0, 14.23 , 0.049, 16, 266.592745, -28.520205),\n",
       "          (266.593806, -28.520737, 'VVV J174622.51-283114.65', -2, 19.541, 0.161,  0, 18.476, 0.107,  0, 17.066, 0.054, 16, 16.216, 0.105, 16,    nan,   nan,  0, 266.593806, -28.520737)],\n",
       "         dtype=(numpy.record, [('RAJ2000', '>f8'), ('DEJ2000', '>f8'), ('iauname', 'S24'), ('mClass', '>i2'), ('Zmag3', '>f4'), ('e_Zmag3', '>f8'), ('Zperrbits', '>i4'), ('Ymag3', '>f8'), ('e_Ymag3', '>f8'), ('Yperrbits', '>i4'), ('Jmag3', '>f8'), ('e_Jmag3', '>f8'), ('Jperrbits', '>i4'), ('Hmag3', '>f8'), ('e_Hmag3', '>f8'), ('Hperrbits', '>i4'), ('Ksmag3', '>f8'), ('e_Ksmag3', '>f8'), ('Ksperrbits', '>i4'), ('RA', '>f8'), ('DEC', '>f8')]))"
      ]
     },
     "execution_count": 9,
     "metadata": {},
     "output_type": "execute_result"
    }
   ],
   "source": [
    "vvvcat[1].data"
   ]
  },
  {
   "cell_type": "code",
   "execution_count": 2,
   "id": "7e89b482-7ebd-48bd-86ad-163a92a096e5",
   "metadata": {},
   "outputs": [],
   "source": [
    "from astropy.table import Table"
   ]
  },
  {
   "cell_type": "code",
   "execution_count": 16,
   "id": "4509de2e-3087-449c-a8c4-bae50cde6490",
   "metadata": {},
   "outputs": [
    {
     "data": {
      "text/plain": [
       "False"
      ]
     },
     "execution_count": 16,
     "metadata": {},
     "output_type": "execute_result"
    }
   ],
   "source": [
    "\n",
    "vvvdr2fn = '/orange/adamginsburg/jwst/cloudc//F466N/pipeline/jw02221-o002_t001_nircam_clear-F466N-merged_vvvcat.ecsv'\n",
    "#(f'{basepath}/{filtername.upper()}/pipeline/jw02221-o{field}_t001_nircam_clear-{filtername}-{module}_vvvcat.ecsv')\n",
    "\n",
    "os.path.exists(vvvdr2fn)"
   ]
  },
  {
   "cell_type": "code",
   "execution_count": null,
   "id": "f74b96ce-11aa-42f3-a336-4bb49751c37c",
   "metadata": {},
   "outputs": [],
   "source": []
  },
  {
   "cell_type": "code",
   "execution_count": 13,
   "id": "ac9e059a-1f0e-4422-931e-cf436a6b5915",
   "metadata": {
    "collapsed": true,
    "jupyter": {
     "outputs_hidden": true
    },
    "tags": []
   },
   "outputs": [
    {
     "data": {
      "text/html": [
       "<div><i>Table length=3437</i>\n",
       "<table id=\"table46918845900016\" class=\"table-striped table-bordered table-condensed\">\n",
       "<thead><tr><th>RAJ2000</th><th>DEJ2000</th><th>iauname</th><th>mClass</th><th>Zmag3</th><th>e_Zmag3</th><th>Zperrbits</th><th>Ymag3</th><th>e_Ymag3</th><th>Yperrbits</th><th>Jmag3</th><th>e_Jmag3</th><th>Jperrbits</th><th>Hmag3</th><th>e_Hmag3</th><th>Hperrbits</th><th>Ksmag3</th><th>e_Ksmag3</th><th>Ksperrbits</th><th>RA</th><th>DEC</th></tr></thead>\n",
       "<thead><tr><th>float64</th><th>float64</th><th>str24</th><th>int16</th><th>float32</th><th>float64</th><th>int32</th><th>float64</th><th>float64</th><th>int32</th><th>float64</th><th>float64</th><th>int32</th><th>float64</th><th>float64</th><th>int32</th><th>float64</th><th>float64</th><th>int32</th><th>float64</th><th>float64</th></tr></thead>\n",
       "<tr><td>266.602823</td><td>-28.60222</td><td>VVV J174624.67-283607.99</td><td>-1</td><td>18.806</td><td>0.084</td><td>0</td><td>17.736</td><td>0.053</td><td>0</td><td>16.528</td><td>0.034</td><td>16</td><td>nan</td><td>nan</td><td>0</td><td>nan</td><td>nan</td><td>0</td><td>266.602823</td><td>-28.60222</td></tr>\n",
       "<tr><td>266.606742</td><td>-28.598289</td><td>VVV J174625.61-283553.84</td><td>-1</td><td>16.278</td><td>0.011</td><td>0</td><td>15.811</td><td>0.011</td><td>0</td><td>15.225</td><td>0.011</td><td>16</td><td>14.721</td><td>0.027</td><td>16</td><td>14.421</td><td>0.058</td><td>16</td><td>266.606742</td><td>-28.598289</td></tr>\n",
       "<tr><td>266.613329</td><td>-28.597491</td><td>VVV J174627.19-283550.96</td><td>-1</td><td>17.865</td><td>0.037</td><td>16</td><td>17.298</td><td>0.036</td><td>16</td><td>16.693</td><td>0.039</td><td>16</td><td>16.261</td><td>0.111</td><td>16</td><td>nan</td><td>nan</td><td>0</td><td>266.613329</td><td>-28.597491</td></tr>\n",
       "<tr><td>266.611708</td><td>-28.596065</td><td>VVV J174626.81-283545.83</td><td>1</td><td>19.567</td><td>0.167</td><td>0</td><td>19.022</td><td>0.17</td><td>0</td><td>17.988</td><td>0.126</td><td>0</td><td>15.987</td><td>0.086</td><td>16</td><td>14.496</td><td>0.062</td><td>16</td><td>266.611708</td><td>-28.596065</td></tr>\n",
       "<tr><td>266.603496</td><td>-28.60398</td><td>VVV J174624.83-283614.32</td><td>-1</td><td>16.636</td><td>0.014</td><td>0</td><td>16.304</td><td>0.016</td><td>0</td><td>15.796</td><td>0.018</td><td>0</td><td>14.848</td><td>0.03</td><td>16</td><td>13.669</td><td>0.029</td><td>16</td><td>266.603496</td><td>-28.60398</td></tr>\n",
       "<tr><td>266.610196</td><td>-28.601597</td><td>VVV J174626.44-283605.75</td><td>-1</td><td>18.836</td><td>0.087</td><td>0</td><td>18.411</td><td>0.097</td><td>0</td><td>17.722</td><td>0.099</td><td>0</td><td>17.499</td><td>0.345</td><td>0</td><td>nan</td><td>nan</td><td>0</td><td>266.610196</td><td>-28.601597</td></tr>\n",
       "<tr><td>266.613424</td><td>-28.595982</td><td>VVV J174627.22-283545.53</td><td>1</td><td>19.395</td><td>0.143</td><td>0</td><td>18.878</td><td>0.149</td><td>0</td><td>17.766</td><td>0.103</td><td>16</td><td>nan</td><td>nan</td><td>0</td><td>nan</td><td>nan</td><td>0</td><td>266.613424</td><td>-28.595982</td></tr>\n",
       "<tr><td>266.603983</td><td>-28.60527</td><td>VVV J174624.95-283618.97</td><td>1</td><td>nan</td><td>nan</td><td>0</td><td>nan</td><td>nan</td><td>0</td><td>15.802</td><td>0.018</td><td>0</td><td>13.3</td><td>0.008</td><td>16</td><td>11.588</td><td>0.004</td><td>16</td><td>266.603983</td><td>-28.60527</td></tr>\n",
       "<tr><td>266.614028</td><td>-28.605808</td><td>VVV J174627.36-283620.90</td><td>-1</td><td>18.678</td><td>0.075</td><td>0</td><td>17.789</td><td>0.056</td><td>0</td><td>16.494</td><td>0.033</td><td>16</td><td>14.852</td><td>0.03</td><td>16</td><td>nan</td><td>nan</td><td>0</td><td>266.614028</td><td>-28.605808</td></tr>\n",
       "<tr><td>266.608224</td><td>-28.601396</td><td>VVV J174625.97-283605.02</td><td>-1</td><td>14.472</td><td>0.003</td><td>0</td><td>14.313</td><td>0.004</td><td>0</td><td>13.945</td><td>0.004</td><td>0</td><td>13.345</td><td>0.008</td><td>0</td><td>12.465</td><td>0.01</td><td>0</td><td>266.608224</td><td>-28.601396</td></tr>\n",
       "<tr><td>266.606161</td><td>-28.599634</td><td>VVV J174625.47-283558.68</td><td>-1</td><td>16.728</td><td>0.015</td><td>0</td><td>15.917</td><td>0.011</td><td>0</td><td>14.945</td><td>0.009</td><td>16</td><td>14.024</td><td>0.014</td><td>16</td><td>13.58</td><td>0.027</td><td>16</td><td>266.606161</td><td>-28.599634</td></tr>\n",
       "<tr><td>266.609194</td><td>-28.596255</td><td>VVV J174626.20-283546.51</td><td>-1</td><td>16.872</td><td>0.016</td><td>16</td><td>16.157</td><td>0.014</td><td>0</td><td>15.364</td><td>0.012</td><td>0</td><td>14.642</td><td>0.025</td><td>16</td><td>14.007</td><td>0.039</td><td>16</td><td>266.609194</td><td>-28.596255</td></tr>\n",
       "<tr><td>266.605681</td><td>-28.602197</td><td>VVV J174625.36-283607.90</td><td>1</td><td>19.784</td><td>0.203</td><td>0</td><td>18.874</td><td>0.149</td><td>0</td><td>18.1</td><td>0.14</td><td>0</td><td>nan</td><td>nan</td><td>0</td><td>nan</td><td>nan</td><td>0</td><td>266.605681</td><td>-28.602197</td></tr>\n",
       "<tr><td>266.606167</td><td>-28.602851</td><td>VVV J174625.48-283610.26</td><td>-2</td><td>18.164</td><td>0.048</td><td>0</td><td>17.741</td><td>0.054</td><td>0</td><td>16.986</td><td>0.051</td><td>16</td><td>16.273</td><td>0.112</td><td>16</td><td>nan</td><td>nan</td><td>0</td><td>266.606167</td><td>-28.602851</td></tr>\n",
       "<tr><td>266.606797</td><td>-28.601727</td><td>VVV J174625.63-283606.21</td><td>-2</td><td>19.734</td><td>0.194</td><td>0</td><td>17.994</td><td>0.067</td><td>0</td><td>16.466</td><td>0.032</td><td>0</td><td>15.061</td><td>0.037</td><td>0</td><td>14.123</td><td>0.044</td><td>0</td><td>266.606797</td><td>-28.601727</td></tr>\n",
       "<tr><td>266.614177</td><td>-28.597853</td><td>VVV J174627.40-283552.26</td><td>-1</td><td>16.828</td><td>0.016</td><td>16</td><td>16.352</td><td>0.016</td><td>16</td><td>15.686</td><td>0.016</td><td>16</td><td>15.014</td><td>0.035</td><td>16</td><td>nan</td><td>nan</td><td>0</td><td>266.614177</td><td>-28.597853</td></tr>\n",
       "<tr><td>266.608228</td><td>-28.599384</td><td>VVV J174625.97-283557.78</td><td>-1</td><td>18.618</td><td>0.071</td><td>0</td><td>18.102</td><td>0.074</td><td>0</td><td>17.681</td><td>0.096</td><td>0</td><td>nan</td><td>nan</td><td>0</td><td>nan</td><td>nan</td><td>0</td><td>266.608228</td><td>-28.599384</td></tr>\n",
       "<tr><td>266.611239</td><td>-28.598081</td><td>VVV J174626.69-283553.09</td><td>-1</td><td>17.081</td><td>0.019</td><td>0</td><td>16.495</td><td>0.018</td><td>0</td><td>15.629</td><td>0.015</td><td>16</td><td>14.377</td><td>0.02</td><td>16</td><td>13.366</td><td>0.022</td><td>16</td><td>266.611239</td><td>-28.598081</td></tr>\n",
       "<tr><td>266.604212</td><td>-28.602032</td><td>VVV J174625.01-283607.31</td><td>-2</td><td>nan</td><td>nan</td><td>0</td><td>19.172</td><td>0.195</td><td>0</td><td>18.691</td><td>0.241</td><td>0</td><td>nan</td><td>nan</td><td>0</td><td>nan</td><td>nan</td><td>0</td><td>266.604212</td><td>-28.602032</td></tr>\n",
       "<tr><td>266.609519</td><td>-28.598202</td><td>VVV J174626.28-283553.52</td><td>-1</td><td>nan</td><td>nan</td><td>0</td><td>19.452</td><td>0.251</td><td>0</td><td>17.539</td><td>0.084</td><td>0</td><td>nan</td><td>nan</td><td>0</td><td>nan</td><td>nan</td><td>0</td><td>266.609519</td><td>-28.598202</td></tr>\n",
       "<tr><td>266.608604</td><td>-28.605855</td><td>VVV J174626.06-283621.07</td><td>-1</td><td>nan</td><td>nan</td><td>0</td><td>17.519</td><td>0.044</td><td>0</td><td>13.73</td><td>0.003</td><td>16</td><td>11.13</td><td>0.001</td><td>65552</td><td>8.107</td><td>0.001</td><td>65552</td><td>266.608604</td><td>-28.605855</td></tr>\n",
       "<tr><td>266.612621</td><td>-28.595392</td><td>VVV J174627.02-283543.41</td><td>-1</td><td>nan</td><td>nan</td><td>0</td><td>18.197</td><td>0.08</td><td>0</td><td>14.79</td><td>0.008</td><td>0</td><td>11.468</td><td>0.002</td><td>65552</td><td>9.973</td><td>0.002</td><td>65552</td><td>266.612621</td><td>-28.595392</td></tr>\n",
       "<tr><td>266.61143</td><td>-28.604855</td><td>VVV J174626.74-283617.47</td><td>-1</td><td>nan</td><td>nan</td><td>0</td><td>nan</td><td>nan</td><td>0</td><td>17.503</td><td>0.081</td><td>0</td><td>14.744</td><td>0.028</td><td>16</td><td>13.345</td><td>0.022</td><td>16</td><td>266.61143</td><td>-28.604855</td></tr>\n",
       "<tr><td>266.612291</td><td>-28.604951</td><td>VVV J174626.94-283617.82</td><td>-1</td><td>nan</td><td>nan</td><td>0</td><td>nan</td><td>nan</td><td>0</td><td>18.098</td><td>0.14</td><td>0</td><td>15.005</td><td>0.035</td><td>16</td><td>13.415</td><td>0.023</td><td>16</td><td>266.612291</td><td>-28.604951</td></tr>\n",
       "<tr><td>...</td><td>...</td><td>...</td><td>...</td><td>...</td><td>...</td><td>...</td><td>...</td><td>...</td><td>...</td><td>...</td><td>...</td><td>...</td><td>...</td><td>...</td><td>...</td><td>...</td><td>...</td><td>...</td><td>...</td><td>...</td></tr>\n",
       "<tr><td>266.593954</td><td>-28.521056</td><td>VVV J174622.54-283115.80</td><td>-1</td><td>19.541</td><td>0.161</td><td>0</td><td>18.476</td><td>0.107</td><td>0</td><td>17.066</td><td>0.054</td><td>16</td><td>16.216</td><td>0.105</td><td>16</td><td>nan</td><td>nan</td><td>0</td><td>266.593954</td><td>-28.521056</td></tr>\n",
       "<tr><td>266.594571</td><td>-28.521793</td><td>VVV J174622.69-283118.45</td><td>-1</td><td>19.42</td><td>0.144</td><td>0</td><td>17.862</td><td>0.062</td><td>0</td><td>16.378</td><td>0.029</td><td>16</td><td>15.128</td><td>0.039</td><td>16</td><td>14.228</td><td>0.049</td><td>16</td><td>266.594571</td><td>-28.521793</td></tr>\n",
       "<tr><td>266.592453</td><td>-28.520984</td><td>VVV J174622.18-283115.54</td><td>-1</td><td>nan</td><td>nan</td><td>0</td><td>16.821</td><td>0.025</td><td>0</td><td>13.711</td><td>0.003</td><td>16</td><td>11.204</td><td>0.001</td><td>65552</td><td>10.118</td><td>0.001</td><td>65552</td><td>266.592453</td><td>-28.520984</td></tr>\n",
       "<tr><td>266.595912</td><td>-28.520939</td><td>VVV J174623.01-283115.37</td><td>1</td><td>nan</td><td>nan</td><td>0</td><td>18.899</td><td>0.157</td><td>0</td><td>16.818</td><td>0.043</td><td>16</td><td>nan</td><td>nan</td><td>0</td><td>nan</td><td>nan</td><td>0</td><td>266.595912</td><td>-28.520939</td></tr>\n",
       "<tr><td>266.595849</td><td>-28.520085</td><td>VVV J174623.00-283112.30</td><td>1</td><td>nan</td><td>nan</td><td>0</td><td>nan</td><td>nan</td><td>0</td><td>18.317</td><td>0.168</td><td>16</td><td>nan</td><td>nan</td><td>0</td><td>nan</td><td>nan</td><td>0</td><td>266.595849</td><td>-28.520085</td></tr>\n",
       "<tr><td>266.593137</td><td>-28.522741</td><td>VVV J174622.35-283121.86</td><td>1</td><td>nan</td><td>nan</td><td>0</td><td>nan</td><td>nan</td><td>0</td><td>16.807</td><td>0.043</td><td>16</td><td>14.344</td><td>0.019</td><td>16</td><td>12.827</td><td>0.014</td><td>16</td><td>266.593137</td><td>-28.522741</td></tr>\n",
       "<tr><td>266.589841</td><td>-28.520251</td><td>VVV J174621.56-283112.90</td><td>-1</td><td>nan</td><td>nan</td><td>0</td><td>nan</td><td>nan</td><td>0</td><td>18.791</td><td>0.261</td><td>0</td><td>15.189</td><td>0.041</td><td>16</td><td>13.593</td><td>0.027</td><td>16</td><td>266.589841</td><td>-28.520251</td></tr>\n",
       "<tr><td>266.595342</td><td>-28.520513</td><td>VVV J174622.88-283113.84</td><td>-1</td><td>nan</td><td>nan</td><td>0</td><td>nan</td><td>nan</td><td>0</td><td>17.2</td><td>0.061</td><td>16</td><td>14.584</td><td>0.024</td><td>16</td><td>nan</td><td>nan</td><td>0</td><td>266.595342</td><td>-28.520513</td></tr>\n",
       "<tr><td>266.593437</td><td>-28.520009</td><td>VVV J174622.42-283112.03</td><td>1</td><td>nan</td><td>nan</td><td>0</td><td>nan</td><td>nan</td><td>0</td><td>18.415</td><td>0.185</td><td>0</td><td>15.449</td><td>0.052</td><td>16</td><td>13.96</td><td>0.038</td><td>16</td><td>266.593437</td><td>-28.520009</td></tr>\n",
       "<tr><td>266.595303</td><td>-28.521214</td><td>VVV J174622.87-283116.37</td><td>-1</td><td>nan</td><td>nan</td><td>0</td><td>nan</td><td>nan</td><td>0</td><td>15.612</td><td>0.015</td><td>16</td><td>12.272</td><td>0.003</td><td>16</td><td>9.988</td><td>0.002</td><td>65552</td><td>266.595303</td><td>-28.521214</td></tr>\n",
       "<tr><td>266.592055</td><td>-28.520043</td><td>VVV J174622.09-283112.15</td><td>-2</td><td>nan</td><td>nan</td><td>0</td><td>nan</td><td>nan</td><td>0</td><td>17.671</td><td>0.094</td><td>16</td><td>15.067</td><td>0.037</td><td>16</td><td>13.633</td><td>0.028</td><td>16</td><td>266.592055</td><td>-28.520043</td></tr>\n",
       "<tr><td>266.593932</td><td>-28.521522</td><td>VVV J174622.54-283117.48</td><td>1</td><td>nan</td><td>nan</td><td>0</td><td>nan</td><td>nan</td><td>0</td><td>17.076</td><td>0.055</td><td>16</td><td>14.546</td><td>0.023</td><td>16</td><td>13.253</td><td>0.02</td><td>16</td><td>266.593932</td><td>-28.521522</td></tr>\n",
       "<tr><td>266.595958</td><td>-28.520048</td><td>VVV J174623.02-283112.17</td><td>1</td><td>nan</td><td>nan</td><td>0</td><td>nan</td><td>nan</td><td>0</td><td>17.047</td><td>0.053</td><td>16</td><td>14.171</td><td>0.016</td><td>16</td><td>12.826</td><td>0.014</td><td>16</td><td>266.595958</td><td>-28.520048</td></tr>\n",
       "<tr><td>266.593254</td><td>-28.521426</td><td>VVV J174622.38-283117.13</td><td>-2</td><td>nan</td><td>nan</td><td>0</td><td>nan</td><td>nan</td><td>0</td><td>nan</td><td>nan</td><td>0</td><td>15.322</td><td>0.046</td><td>16</td><td>14.198</td><td>0.048</td><td>16</td><td>266.593254</td><td>-28.521426</td></tr>\n",
       "<tr><td>266.595796</td><td>-28.522784</td><td>VVV J174622.99-283122.02</td><td>-1</td><td>nan</td><td>nan</td><td>0</td><td>nan</td><td>nan</td><td>0</td><td>nan</td><td>nan</td><td>0</td><td>16.404</td><td>0.125</td><td>0</td><td>15.042</td><td>0.103</td><td>16</td><td>266.595796</td><td>-28.522784</td></tr>\n",
       "<tr><td>266.597432</td><td>-28.520321</td><td>VVV J174623.38-283113.15</td><td>-2</td><td>nan</td><td>nan</td><td>0</td><td>nan</td><td>nan</td><td>0</td><td>nan</td><td>nan</td><td>0</td><td>13.648</td><td>0.01</td><td>16</td><td>12.523</td><td>0.01</td><td>16</td><td>266.597432</td><td>-28.520321</td></tr>\n",
       "<tr><td>266.593623</td><td>-28.523496</td><td>VVV J174622.46-283124.58</td><td>-3</td><td>nan</td><td>nan</td><td>0</td><td>nan</td><td>nan</td><td>0</td><td>nan</td><td>nan</td><td>0</td><td>14.989</td><td>0.034</td><td>16</td><td>13.43</td><td>0.024</td><td>16</td><td>266.593623</td><td>-28.523496</td></tr>\n",
       "<tr><td>266.598003</td><td>-28.520625</td><td>VVV J174623.52-283114.24</td><td>-3</td><td>nan</td><td>nan</td><td>0</td><td>nan</td><td>nan</td><td>0</td><td>nan</td><td>nan</td><td>0</td><td>16.016</td><td>0.088</td><td>16</td><td>nan</td><td>nan</td><td>0</td><td>266.598003</td><td>-28.520625</td></tr>\n",
       "<tr><td>266.593597</td><td>-28.522093</td><td>VVV J174622.46-283119.53</td><td>1</td><td>nan</td><td>nan</td><td>0</td><td>nan</td><td>nan</td><td>0</td><td>nan</td><td>nan</td><td>0</td><td>15.763</td><td>0.07</td><td>16</td><td>14.319</td><td>0.053</td><td>16</td><td>266.593597</td><td>-28.522093</td></tr>\n",
       "<tr><td>266.598487</td><td>-28.520101</td><td>VVV J174623.63-283112.36</td><td>1</td><td>nan</td><td>nan</td><td>0</td><td>nan</td><td>nan</td><td>0</td><td>nan</td><td>nan</td><td>0</td><td>15.366</td><td>0.048</td><td>16</td><td>13.919</td><td>0.037</td><td>16</td><td>266.598487</td><td>-28.520101</td></tr>\n",
       "<tr><td>266.596129</td><td>-28.522613</td><td>VVV J174623.07-283121.40</td><td>-1</td><td>nan</td><td>nan</td><td>0</td><td>nan</td><td>nan</td><td>0</td><td>nan</td><td>nan</td><td>0</td><td>nan</td><td>nan</td><td>0</td><td>15.46</td><td>0.152</td><td>16</td><td>266.596129</td><td>-28.522613</td></tr>\n",
       "<tr><td>266.59499</td><td>-28.520139</td><td>VVV J174622.79-283112.49</td><td>1</td><td>nan</td><td>nan</td><td>0</td><td>nan</td><td>nan</td><td>0</td><td>17.2</td><td>0.061</td><td>16</td><td>14.584</td><td>0.024</td><td>16</td><td>nan</td><td>nan</td><td>0</td><td>266.59499</td><td>-28.520139</td></tr>\n",
       "<tr><td>266.592745</td><td>-28.520205</td><td>VVV J174622.25-283112.73</td><td>-1</td><td>nan</td><td>nan</td><td>0</td><td>nan</td><td>nan</td><td>0</td><td>nan</td><td>nan</td><td>0</td><td>nan</td><td>nan</td><td>0</td><td>14.23</td><td>0.049</td><td>16</td><td>266.592745</td><td>-28.520205</td></tr>\n",
       "<tr><td>266.593806</td><td>-28.520737</td><td>VVV J174622.51-283114.65</td><td>-2</td><td>19.541</td><td>0.161</td><td>0</td><td>18.476</td><td>0.107</td><td>0</td><td>17.066</td><td>0.054</td><td>16</td><td>16.216</td><td>0.105</td><td>16</td><td>nan</td><td>nan</td><td>0</td><td>266.593806</td><td>-28.520737</td></tr>\n",
       "</table></div>"
      ],
      "text/plain": [
       "<Table length=3437>\n",
       " RAJ2000    DEJ2000           iauname          mClass  Zmag3  e_Zmag3 Zperrbits  Ymag3  e_Ymag3 Yperrbits ... e_Jmag3 Jperrbits  Hmag3  e_Hmag3 Hperrbits  Ksmag3 e_Ksmag3 Ksperrbits     RA        DEC    \n",
       " float64    float64            str24           int16  float32 float64   int32   float64 float64   int32   ... float64   int32   float64 float64   int32   float64 float64    int32     float64    float64  \n",
       "---------- ---------- ------------------------ ------ ------- ------- --------- ------- ------- --------- ... ------- --------- ------- ------- --------- ------- -------- ---------- ---------- ----------\n",
       "266.602823  -28.60222 VVV J174624.67-283607.99     -1  18.806   0.084         0  17.736   0.053         0 ...   0.034        16     nan     nan         0     nan      nan          0 266.602823  -28.60222\n",
       "266.606742 -28.598289 VVV J174625.61-283553.84     -1  16.278   0.011         0  15.811   0.011         0 ...   0.011        16  14.721   0.027        16  14.421    0.058         16 266.606742 -28.598289\n",
       "266.613329 -28.597491 VVV J174627.19-283550.96     -1  17.865   0.037        16  17.298   0.036        16 ...   0.039        16  16.261   0.111        16     nan      nan          0 266.613329 -28.597491\n",
       "266.611708 -28.596065 VVV J174626.81-283545.83      1  19.567   0.167         0  19.022    0.17         0 ...   0.126         0  15.987   0.086        16  14.496    0.062         16 266.611708 -28.596065\n",
       "266.603496  -28.60398 VVV J174624.83-283614.32     -1  16.636   0.014         0  16.304   0.016         0 ...   0.018         0  14.848    0.03        16  13.669    0.029         16 266.603496  -28.60398\n",
       "266.610196 -28.601597 VVV J174626.44-283605.75     -1  18.836   0.087         0  18.411   0.097         0 ...   0.099         0  17.499   0.345         0     nan      nan          0 266.610196 -28.601597\n",
       "266.613424 -28.595982 VVV J174627.22-283545.53      1  19.395   0.143         0  18.878   0.149         0 ...   0.103        16     nan     nan         0     nan      nan          0 266.613424 -28.595982\n",
       "266.603983  -28.60527 VVV J174624.95-283618.97      1     nan     nan         0     nan     nan         0 ...   0.018         0    13.3   0.008        16  11.588    0.004         16 266.603983  -28.60527\n",
       "266.614028 -28.605808 VVV J174627.36-283620.90     -1  18.678   0.075         0  17.789   0.056         0 ...   0.033        16  14.852    0.03        16     nan      nan          0 266.614028 -28.605808\n",
       "266.608224 -28.601396 VVV J174625.97-283605.02     -1  14.472   0.003         0  14.313   0.004         0 ...   0.004         0  13.345   0.008         0  12.465     0.01          0 266.608224 -28.601396\n",
       "266.606161 -28.599634 VVV J174625.47-283558.68     -1  16.728   0.015         0  15.917   0.011         0 ...   0.009        16  14.024   0.014        16   13.58    0.027         16 266.606161 -28.599634\n",
       "266.609194 -28.596255 VVV J174626.20-283546.51     -1  16.872   0.016        16  16.157   0.014         0 ...   0.012         0  14.642   0.025        16  14.007    0.039         16 266.609194 -28.596255\n",
       "266.605681 -28.602197 VVV J174625.36-283607.90      1  19.784   0.203         0  18.874   0.149         0 ...    0.14         0     nan     nan         0     nan      nan          0 266.605681 -28.602197\n",
       "266.606167 -28.602851 VVV J174625.48-283610.26     -2  18.164   0.048         0  17.741   0.054         0 ...   0.051        16  16.273   0.112        16     nan      nan          0 266.606167 -28.602851\n",
       "266.606797 -28.601727 VVV J174625.63-283606.21     -2  19.734   0.194         0  17.994   0.067         0 ...   0.032         0  15.061   0.037         0  14.123    0.044          0 266.606797 -28.601727\n",
       "266.614177 -28.597853 VVV J174627.40-283552.26     -1  16.828   0.016        16  16.352   0.016        16 ...   0.016        16  15.014   0.035        16     nan      nan          0 266.614177 -28.597853\n",
       "266.608228 -28.599384 VVV J174625.97-283557.78     -1  18.618   0.071         0  18.102   0.074         0 ...   0.096         0     nan     nan         0     nan      nan          0 266.608228 -28.599384\n",
       "266.611239 -28.598081 VVV J174626.69-283553.09     -1  17.081   0.019         0  16.495   0.018         0 ...   0.015        16  14.377    0.02        16  13.366    0.022         16 266.611239 -28.598081\n",
       "266.604212 -28.602032 VVV J174625.01-283607.31     -2     nan     nan         0  19.172   0.195         0 ...   0.241         0     nan     nan         0     nan      nan          0 266.604212 -28.602032\n",
       "266.609519 -28.598202 VVV J174626.28-283553.52     -1     nan     nan         0  19.452   0.251         0 ...   0.084         0     nan     nan         0     nan      nan          0 266.609519 -28.598202\n",
       "266.608604 -28.605855 VVV J174626.06-283621.07     -1     nan     nan         0  17.519   0.044         0 ...   0.003        16   11.13   0.001     65552   8.107    0.001      65552 266.608604 -28.605855\n",
       "266.612621 -28.595392 VVV J174627.02-283543.41     -1     nan     nan         0  18.197    0.08         0 ...   0.008         0  11.468   0.002     65552   9.973    0.002      65552 266.612621 -28.595392\n",
       " 266.61143 -28.604855 VVV J174626.74-283617.47     -1     nan     nan         0     nan     nan         0 ...   0.081         0  14.744   0.028        16  13.345    0.022         16  266.61143 -28.604855\n",
       "266.612291 -28.604951 VVV J174626.94-283617.82     -1     nan     nan         0     nan     nan         0 ...    0.14         0  15.005   0.035        16  13.415    0.023         16 266.612291 -28.604951\n",
       "       ...        ...                      ...    ...     ...     ...       ...     ...     ...       ... ...     ...       ...     ...     ...       ...     ...      ...        ...        ...        ...\n",
       "266.593954 -28.521056 VVV J174622.54-283115.80     -1  19.541   0.161         0  18.476   0.107         0 ...   0.054        16  16.216   0.105        16     nan      nan          0 266.593954 -28.521056\n",
       "266.594571 -28.521793 VVV J174622.69-283118.45     -1   19.42   0.144         0  17.862   0.062         0 ...   0.029        16  15.128   0.039        16  14.228    0.049         16 266.594571 -28.521793\n",
       "266.592453 -28.520984 VVV J174622.18-283115.54     -1     nan     nan         0  16.821   0.025         0 ...   0.003        16  11.204   0.001     65552  10.118    0.001      65552 266.592453 -28.520984\n",
       "266.595912 -28.520939 VVV J174623.01-283115.37      1     nan     nan         0  18.899   0.157         0 ...   0.043        16     nan     nan         0     nan      nan          0 266.595912 -28.520939\n",
       "266.595849 -28.520085 VVV J174623.00-283112.30      1     nan     nan         0     nan     nan         0 ...   0.168        16     nan     nan         0     nan      nan          0 266.595849 -28.520085\n",
       "266.593137 -28.522741 VVV J174622.35-283121.86      1     nan     nan         0     nan     nan         0 ...   0.043        16  14.344   0.019        16  12.827    0.014         16 266.593137 -28.522741\n",
       "266.589841 -28.520251 VVV J174621.56-283112.90     -1     nan     nan         0     nan     nan         0 ...   0.261         0  15.189   0.041        16  13.593    0.027         16 266.589841 -28.520251\n",
       "266.595342 -28.520513 VVV J174622.88-283113.84     -1     nan     nan         0     nan     nan         0 ...   0.061        16  14.584   0.024        16     nan      nan          0 266.595342 -28.520513\n",
       "266.593437 -28.520009 VVV J174622.42-283112.03      1     nan     nan         0     nan     nan         0 ...   0.185         0  15.449   0.052        16   13.96    0.038         16 266.593437 -28.520009\n",
       "266.595303 -28.521214 VVV J174622.87-283116.37     -1     nan     nan         0     nan     nan         0 ...   0.015        16  12.272   0.003        16   9.988    0.002      65552 266.595303 -28.521214\n",
       "266.592055 -28.520043 VVV J174622.09-283112.15     -2     nan     nan         0     nan     nan         0 ...   0.094        16  15.067   0.037        16  13.633    0.028         16 266.592055 -28.520043\n",
       "266.593932 -28.521522 VVV J174622.54-283117.48      1     nan     nan         0     nan     nan         0 ...   0.055        16  14.546   0.023        16  13.253     0.02         16 266.593932 -28.521522\n",
       "266.595958 -28.520048 VVV J174623.02-283112.17      1     nan     nan         0     nan     nan         0 ...   0.053        16  14.171   0.016        16  12.826    0.014         16 266.595958 -28.520048\n",
       "266.593254 -28.521426 VVV J174622.38-283117.13     -2     nan     nan         0     nan     nan         0 ...     nan         0  15.322   0.046        16  14.198    0.048         16 266.593254 -28.521426\n",
       "266.595796 -28.522784 VVV J174622.99-283122.02     -1     nan     nan         0     nan     nan         0 ...     nan         0  16.404   0.125         0  15.042    0.103         16 266.595796 -28.522784\n",
       "266.597432 -28.520321 VVV J174623.38-283113.15     -2     nan     nan         0     nan     nan         0 ...     nan         0  13.648    0.01        16  12.523     0.01         16 266.597432 -28.520321\n",
       "266.593623 -28.523496 VVV J174622.46-283124.58     -3     nan     nan         0     nan     nan         0 ...     nan         0  14.989   0.034        16   13.43    0.024         16 266.593623 -28.523496\n",
       "266.598003 -28.520625 VVV J174623.52-283114.24     -3     nan     nan         0     nan     nan         0 ...     nan         0  16.016   0.088        16     nan      nan          0 266.598003 -28.520625\n",
       "266.593597 -28.522093 VVV J174622.46-283119.53      1     nan     nan         0     nan     nan         0 ...     nan         0  15.763    0.07        16  14.319    0.053         16 266.593597 -28.522093\n",
       "266.598487 -28.520101 VVV J174623.63-283112.36      1     nan     nan         0     nan     nan         0 ...     nan         0  15.366   0.048        16  13.919    0.037         16 266.598487 -28.520101\n",
       "266.596129 -28.522613 VVV J174623.07-283121.40     -1     nan     nan         0     nan     nan         0 ...     nan         0     nan     nan         0   15.46    0.152         16 266.596129 -28.522613\n",
       " 266.59499 -28.520139 VVV J174622.79-283112.49      1     nan     nan         0     nan     nan         0 ...   0.061        16  14.584   0.024        16     nan      nan          0  266.59499 -28.520139\n",
       "266.592745 -28.520205 VVV J174622.25-283112.73     -1     nan     nan         0     nan     nan         0 ...     nan         0     nan     nan         0   14.23    0.049         16 266.592745 -28.520205\n",
       "266.593806 -28.520737 VVV J174622.51-283114.65     -2  19.541   0.161         0  18.476   0.107         0 ...   0.054        16  16.216   0.105        16     nan      nan          0 266.593806 -28.520737"
      ]
     },
     "execution_count": 13,
     "metadata": {},
     "output_type": "execute_result"
    }
   ],
   "source": [
    "Table(vvvcat[1].data)"
   ]
  },
  {
   "cell_type": "code",
   "execution_count": null,
   "id": "fe4b232a-acb2-4930-9b11-6a9ae233db30",
   "metadata": {},
   "outputs": [],
   "source": []
  },
  {
   "cell_type": "code",
   "execution_count": null,
   "id": "338dc706-ffc7-4d36-b444-746a6372b9af",
   "metadata": {},
   "outputs": [],
   "source": []
  },
  {
   "cell_type": "code",
   "execution_count": 3,
   "id": "3dc1b327-feaf-4dc2-bb0a-422ad2d0fe7c",
   "metadata": {},
   "outputs": [
    {
     "name": "stderr",
     "output_type": "stream",
     "text": [
      "2023-09-06 13:07:41,751 - stpipe - INFO - Processing filter F405N module merged\n"
     ]
    },
    {
     "name": "stdout",
     "output_type": "stream",
     "text": [
      "INFO: Processing filter F405N module merged [unknown]\n",
      "2023-09-06T13:07:41.754413: Output directory set as: /orange/adamginsburg/jwst/cloudc/F405N/pipeline/\n"
     ]
    }
   ],
   "source": [
    "#def main(filtername, module, Observations=None, regionname='brick', field='001'):\n",
    "log.info(f\"Processing filter {filtername} module {module}\")\n",
    "# sanity check\n",
    "if regionname == 'brick':\n",
    "    assert field == '001'\n",
    "elif regionname == 'cloudc':\n",
    "    assert field == '002'\n",
    "basepath = f'/orange/adamginsburg/jwst/{regionname}/'\n",
    "os.environ[\"CRDS_PATH\"] = f\"{basepath}/crds/\"\n",
    "os.environ[\"CRDS_SERVER_URL\"] = \"https://jwst-crds.stsci.edu\"\n",
    "mpl.rcParams['savefig.dpi'] = 80\n",
    "mpl.rcParams['figure.dpi'] = 80\n",
    "# Files created in this notebook will be saved\n",
    "# in a subdirectory of the base directory called `Stage3`\n",
    "output_dir = f'/orange/adamginsburg/jwst/{regionname}/{filtername}/pipeline/'\n",
    "print('Output directory set as:', output_dir)\n",
    "if not os.path.exists(output_dir):\n",
    "    os.mkdir(output_dir)\n",
    "os.chdir(output_dir)\n",
    "# the files are one directory up\n",
    "for fn in glob(\"../*cal.fits\"):\n",
    "    try:\n",
    "        os.link(fn, './'+os.path.basename(fn))\n",
    "    except Exception as ex:\n",
    "        print(f'Failed to link {fn} to {os.path.basename(fn)} because of {ex}')\n"
   ]
  },
  {
   "cell_type": "code",
   "execution_count": 4,
   "id": "64e2f9af-c0ac-4791-93fe-abc4a4641f53",
   "metadata": {
    "tags": []
   },
   "outputs": [
    {
     "name": "stdout",
     "output_type": "stream",
     "text": [
      "2023-09-06T13:07:43.456939: Obs table length: 15\n",
      "2023-09-06T13:07:47.859042: data prodcts by obs length:  29708\n"
     ]
    },
    {
     "name": "stderr",
     "output_type": "stream",
     "text": [
      "2023-09-06 13:07:48,368 - stpipe - INFO - Found cached file /orange/adamginsburg/jwst/cloudc/F405N/pipeline/mastDownload/JWST/jw02221-o001_t001_nircam_f405n-f444w/jw02221-o001_20230725t121309_image3_00001_asn.json with expected size 15301.\n"
     ]
    },
    {
     "name": "stdout",
     "output_type": "stream",
     "text": [
      "2023-09-06T13:07:48.318048: products_asn length: 82\n",
      "2023-09-06T13:07:48.318584: asn_mast_data:   obsID   obs_collection dataproduct_type                obs_id                ...  size parent_obsid    dataRights    calib_level\n",
      "--------- -------------- ---------------- ------------------------------------ ... ----- ------------ ---------------- -----------\n",
      " 90191617           JWST            image jw02221-o001_t001_nircam_f405n-f444w ... 15301     90191617           PUBLIC           3\n",
      "127345652           JWST            image jw02221-o002_t001_nircam_f405n-f444w ... 10149    127345652 EXCLUSIVE_ACCESS           3\n",
      " 90106375           JWST            image   jw02221001001_03101_00001_nrcalong ...  1812     90191617           PUBLIC           2\n",
      " 90111555           JWST            image   jw02221001001_03101_00001_nrcblong ...  1812     90191617           PUBLIC           2\n",
      " 90103980           JWST            image   jw02221001001_03101_00002_nrcalong ...  1812     90191617           PUBLIC           2\n",
      " 90112033           JWST            image   jw02221001001_03101_00002_nrcblong ...  1812     90191617           PUBLIC           2\n",
      " 90107860           JWST            image   jw02221001001_03101_00003_nrcalong ...  1812     90191617           PUBLIC           2\n",
      " 90112704           JWST            image   jw02221001001_03101_00003_nrcblong ...  1812     90191617           PUBLIC           2\n",
      " 90104009           JWST            image   jw02221001001_03101_00004_nrcalong ...  1812     90191617           PUBLIC           2\n",
      " 90112856           JWST            image   jw02221001001_03101_00004_nrcblong ...  1812     90191617           PUBLIC           2\n",
      " 90107966           JWST            image   jw02221001001_03101_00005_nrcalong ...  1812     90191617           PUBLIC           2\n",
      " 90111136           JWST            image   jw02221001001_03101_00005_nrcblong ...  1812     90191617           PUBLIC           2\n",
      " 90107203           JWST            image   jw02221001001_03101_00006_nrcalong ...  1812     90191617           PUBLIC           2\n",
      " 90114508           JWST            image   jw02221001001_03101_00006_nrcblong ...  1812     90191617           PUBLIC           2\n",
      " 90104160           JWST            image   jw02221001001_03101_00007_nrcalong ...  1812     90191617           PUBLIC           2\n",
      " 90111791           JWST            image   jw02221001001_03101_00007_nrcblong ...  1812     90191617           PUBLIC           2\n",
      "      ...            ...              ...                                  ... ...   ...          ...              ...         ...\n",
      "129260948           JWST            image   jw02221002002_02201_00001_nrcalong ...  1812    127345652 EXCLUSIVE_ACCESS           2\n",
      "129261015           JWST            image   jw02221002002_02201_00001_nrcblong ...  1812    127345652 EXCLUSIVE_ACCESS           2\n",
      "129260983           JWST            image   jw02221002002_02201_00002_nrcalong ...  1812    127345652 EXCLUSIVE_ACCESS           2\n",
      "129260867           JWST            image   jw02221002002_02201_00002_nrcblong ...  1812    127345652 EXCLUSIVE_ACCESS           2\n",
      "129272101           JWST            image   jw02221002002_02201_00003_nrcalong ...  1812    127345652 EXCLUSIVE_ACCESS           2\n",
      "129272023           JWST            image   jw02221002002_02201_00003_nrcblong ...  1812    127345652 EXCLUSIVE_ACCESS           2\n",
      "129263253           JWST            image   jw02221002002_02201_00004_nrcalong ...  1812    127345652 EXCLUSIVE_ACCESS           2\n",
      "129263219           JWST            image   jw02221002002_02201_00004_nrcblong ...  1812    127345652 EXCLUSIVE_ACCESS           2\n",
      "129272072           JWST            image   jw02221002002_08201_00001_nrcalong ...  1812    127345652 EXCLUSIVE_ACCESS           2\n",
      "129271995           JWST            image   jw02221002002_08201_00001_nrcblong ...  1812    127345652 EXCLUSIVE_ACCESS           2\n",
      "129272042           JWST            image   jw02221002002_08201_00002_nrcalong ...  1812    127345652 EXCLUSIVE_ACCESS           2\n",
      "129272014           JWST            image   jw02221002002_08201_00002_nrcblong ...  1812    127345652 EXCLUSIVE_ACCESS           2\n",
      "129272100           JWST            image   jw02221002002_08201_00003_nrcalong ...  1812    127345652 EXCLUSIVE_ACCESS           2\n",
      "129272011           JWST            image   jw02221002002_08201_00003_nrcblong ...  1812    127345652 EXCLUSIVE_ACCESS           2\n",
      "129272069           JWST            image   jw02221002002_08201_00004_nrcalong ...  1812    127345652 EXCLUSIVE_ACCESS           2\n",
      "129272089           JWST            image   jw02221002002_08201_00004_nrcblong ...  1812    127345652 EXCLUSIVE_ACCESS           2\n",
      "Length = 82 rows\n",
      "INFO: Found cached file /orange/adamginsburg/jwst/cloudc/F405N/pipeline/mastDownload/JWST/jw02221-o001_t001_nircam_f405n-f444w/jw02221-o001_20230725t121309_image3_00001_asn.json with expected size 15301. [astroquery.query]\n"
     ]
    },
    {
     "name": "stderr",
     "output_type": "stream",
     "text": [
      "2023-09-06 13:07:48,522 - stpipe - INFO - Found cached file /orange/adamginsburg/jwst/cloudc/F405N/pipeline/mastDownload/JWST/jw02221-o002_t001_nircam_f405n-f444w/jw02221-o002_20230725t121309_image3_00005_asn.json with expected size 10149.\n",
      "2023-09-06 13:07:48,675 - stpipe - INFO - Found cached file /orange/adamginsburg/jwst/cloudc/F405N/pipeline/mastDownload/JWST/jw02221001001_03101_00001_nrcalong/jw02221-o001_20230725t121309_image2_00706_asn.json with expected size 1812.\n"
     ]
    },
    {
     "name": "stdout",
     "output_type": "stream",
     "text": [
      "INFO: Found cached file /orange/adamginsburg/jwst/cloudc/F405N/pipeline/mastDownload/JWST/jw02221-o002_t001_nircam_f405n-f444w/jw02221-o002_20230725t121309_image3_00005_asn.json with expected size 10149. [astroquery.query]\n",
      "INFO: Found cached file /orange/adamginsburg/jwst/cloudc/F405N/pipeline/mastDownload/JWST/jw02221001001_03101_00001_nrcalong/jw02221-o001_20230725t121309_image2_00706_asn.json with expected size 1812. [astroquery.query]\n"
     ]
    },
    {
     "name": "stderr",
     "output_type": "stream",
     "text": [
      "2023-09-06 13:07:48,828 - stpipe - INFO - Found cached file /orange/adamginsburg/jwst/cloudc/F405N/pipeline/mastDownload/JWST/jw02221001001_03101_00001_nrcblong/jw02221-o001_20230725t121309_image2_00717_asn.json with expected size 1812.\n",
      "2023-09-06 13:07:49,009 - stpipe - INFO - Found cached file /orange/adamginsburg/jwst/cloudc/F405N/pipeline/mastDownload/JWST/jw02221001001_03101_00002_nrcalong/jw02221-o001_20230725t121309_image2_00757_asn.json with expected size 1812.\n"
     ]
    },
    {
     "name": "stdout",
     "output_type": "stream",
     "text": [
      "INFO: Found cached file /orange/adamginsburg/jwst/cloudc/F405N/pipeline/mastDownload/JWST/jw02221001001_03101_00001_nrcblong/jw02221-o001_20230725t121309_image2_00717_asn.json with expected size 1812. [astroquery.query]\n",
      "INFO: Found cached file /orange/adamginsburg/jwst/cloudc/F405N/pipeline/mastDownload/JWST/jw02221001001_03101_00002_nrcalong/jw02221-o001_20230725t121309_image2_00757_asn.json with expected size 1812. [astroquery.query]\n"
     ]
    },
    {
     "name": "stderr",
     "output_type": "stream",
     "text": [
      "2023-09-06 13:07:49,162 - stpipe - INFO - Found cached file /orange/adamginsburg/jwst/cloudc/F405N/pipeline/mastDownload/JWST/jw02221001001_03101_00002_nrcblong/jw02221-o001_20230725t121309_image2_00788_asn.json with expected size 1812.\n",
      "2023-09-06 13:07:49,316 - stpipe - INFO - Found cached file /orange/adamginsburg/jwst/cloudc/F405N/pipeline/mastDownload/JWST/jw02221001001_03101_00003_nrcalong/jw02221-o001_20230725t121309_image2_00695_asn.json with expected size 1812.\n"
     ]
    },
    {
     "name": "stdout",
     "output_type": "stream",
     "text": [
      "INFO: Found cached file /orange/adamginsburg/jwst/cloudc/F405N/pipeline/mastDownload/JWST/jw02221001001_03101_00002_nrcblong/jw02221-o001_20230725t121309_image2_00788_asn.json with expected size 1812. [astroquery.query]\n",
      "INFO: Found cached file /orange/adamginsburg/jwst/cloudc/F405N/pipeline/mastDownload/JWST/jw02221001001_03101_00003_nrcalong/jw02221-o001_20230725t121309_image2_00695_asn.json with expected size 1812. [astroquery.query]\n"
     ]
    },
    {
     "name": "stderr",
     "output_type": "stream",
     "text": [
      "2023-09-06 13:07:49,471 - stpipe - INFO - Found cached file /orange/adamginsburg/jwst/cloudc/F405N/pipeline/mastDownload/JWST/jw02221001001_03101_00003_nrcblong/jw02221-o001_20230725t121309_image2_00765_asn.json with expected size 1812.\n",
      "2023-09-06 13:07:49,631 - stpipe - INFO - Found cached file /orange/adamginsburg/jwst/cloudc/F405N/pipeline/mastDownload/JWST/jw02221001001_03101_00004_nrcalong/jw02221-o001_20230725t121309_image2_00760_asn.json with expected size 1812.\n"
     ]
    },
    {
     "name": "stdout",
     "output_type": "stream",
     "text": [
      "INFO: Found cached file /orange/adamginsburg/jwst/cloudc/F405N/pipeline/mastDownload/JWST/jw02221001001_03101_00003_nrcblong/jw02221-o001_20230725t121309_image2_00765_asn.json with expected size 1812. [astroquery.query]\n",
      "INFO: Found cached file /orange/adamginsburg/jwst/cloudc/F405N/pipeline/mastDownload/JWST/jw02221001001_03101_00004_nrcalong/jw02221-o001_20230725t121309_image2_00760_asn.json with expected size 1812. [astroquery.query]\n"
     ]
    },
    {
     "name": "stderr",
     "output_type": "stream",
     "text": [
      "2023-09-06 13:07:49,790 - stpipe - INFO - Found cached file /orange/adamginsburg/jwst/cloudc/F405N/pipeline/mastDownload/JWST/jw02221001001_03101_00004_nrcblong/jw02221-o001_20230725t121309_image2_00762_asn.json with expected size 1812.\n",
      "2023-09-06 13:07:49,945 - stpipe - INFO - Found cached file /orange/adamginsburg/jwst/cloudc/F405N/pipeline/mastDownload/JWST/jw02221001001_03101_00005_nrcalong/jw02221-o001_20230725t121309_image2_00782_asn.json with expected size 1812.\n"
     ]
    },
    {
     "name": "stdout",
     "output_type": "stream",
     "text": [
      "INFO: Found cached file /orange/adamginsburg/jwst/cloudc/F405N/pipeline/mastDownload/JWST/jw02221001001_03101_00004_nrcblong/jw02221-o001_20230725t121309_image2_00762_asn.json with expected size 1812. [astroquery.query]\n",
      "INFO: Found cached file /orange/adamginsburg/jwst/cloudc/F405N/pipeline/mastDownload/JWST/jw02221001001_03101_00005_nrcalong/jw02221-o001_20230725t121309_image2_00782_asn.json with expected size 1812. [astroquery.query]\n"
     ]
    },
    {
     "name": "stderr",
     "output_type": "stream",
     "text": [
      "2023-09-06 13:07:50,097 - stpipe - INFO - Found cached file /orange/adamginsburg/jwst/cloudc/F405N/pipeline/mastDownload/JWST/jw02221001001_03101_00005_nrcblong/jw02221-o001_20230725t121309_image2_00743_asn.json with expected size 1812.\n",
      "2023-09-06 13:07:50,250 - stpipe - INFO - Found cached file /orange/adamginsburg/jwst/cloudc/F405N/pipeline/mastDownload/JWST/jw02221001001_03101_00006_nrcalong/jw02221-o001_20230725t121309_image2_00772_asn.json with expected size 1812.\n"
     ]
    },
    {
     "name": "stdout",
     "output_type": "stream",
     "text": [
      "INFO: Found cached file /orange/adamginsburg/jwst/cloudc/F405N/pipeline/mastDownload/JWST/jw02221001001_03101_00005_nrcblong/jw02221-o001_20230725t121309_image2_00743_asn.json with expected size 1812. [astroquery.query]\n",
      "INFO: Found cached file /orange/adamginsburg/jwst/cloudc/F405N/pipeline/mastDownload/JWST/jw02221001001_03101_00006_nrcalong/jw02221-o001_20230725t121309_image2_00772_asn.json with expected size 1812. [astroquery.query]\n"
     ]
    },
    {
     "name": "stderr",
     "output_type": "stream",
     "text": [
      "2023-09-06 13:07:50,406 - stpipe - INFO - Found cached file /orange/adamginsburg/jwst/cloudc/F405N/pipeline/mastDownload/JWST/jw02221001001_03101_00006_nrcblong/jw02221-o001_20230725t121309_image2_00780_asn.json with expected size 1812.\n",
      "2023-09-06 13:07:50,559 - stpipe - INFO - Found cached file /orange/adamginsburg/jwst/cloudc/F405N/pipeline/mastDownload/JWST/jw02221001001_03101_00007_nrcalong/jw02221-o001_20230725t121309_image2_00739_asn.json with expected size 1812.\n"
     ]
    },
    {
     "name": "stdout",
     "output_type": "stream",
     "text": [
      "INFO: Found cached file /orange/adamginsburg/jwst/cloudc/F405N/pipeline/mastDownload/JWST/jw02221001001_03101_00006_nrcblong/jw02221-o001_20230725t121309_image2_00780_asn.json with expected size 1812. [astroquery.query]\n",
      "INFO: Found cached file /orange/adamginsburg/jwst/cloudc/F405N/pipeline/mastDownload/JWST/jw02221001001_03101_00007_nrcalong/jw02221-o001_20230725t121309_image2_00739_asn.json with expected size 1812. [astroquery.query]\n"
     ]
    },
    {
     "name": "stderr",
     "output_type": "stream",
     "text": [
      "2023-09-06 13:07:50,711 - stpipe - INFO - Found cached file /orange/adamginsburg/jwst/cloudc/F405N/pipeline/mastDownload/JWST/jw02221001001_03101_00007_nrcblong/jw02221-o001_20230725t121309_image2_00694_asn.json with expected size 1812.\n",
      "2023-09-06 13:07:50,864 - stpipe - INFO - Found cached file /orange/adamginsburg/jwst/cloudc/F405N/pipeline/mastDownload/JWST/jw02221001001_03101_00008_nrcalong/jw02221-o001_20230725t121309_image2_00683_asn.json with expected size 1812.\n"
     ]
    },
    {
     "name": "stdout",
     "output_type": "stream",
     "text": [
      "INFO: Found cached file /orange/adamginsburg/jwst/cloudc/F405N/pipeline/mastDownload/JWST/jw02221001001_03101_00007_nrcblong/jw02221-o001_20230725t121309_image2_00694_asn.json with expected size 1812. [astroquery.query]\n",
      "INFO: Found cached file /orange/adamginsburg/jwst/cloudc/F405N/pipeline/mastDownload/JWST/jw02221001001_03101_00008_nrcalong/jw02221-o001_20230725t121309_image2_00683_asn.json with expected size 1812. [astroquery.query]\n"
     ]
    },
    {
     "name": "stderr",
     "output_type": "stream",
     "text": [
      "2023-09-06 13:07:51,023 - stpipe - INFO - Found cached file /orange/adamginsburg/jwst/cloudc/F405N/pipeline/mastDownload/JWST/jw02221001001_03101_00008_nrcblong/jw02221-o001_20230725t121309_image2_00720_asn.json with expected size 1812.\n",
      "2023-09-06 13:07:51,180 - stpipe - INFO - Found cached file /orange/adamginsburg/jwst/cloudc/F405N/pipeline/mastDownload/JWST/jw02221001001_03101_00009_nrcalong/jw02221-o001_20230725t121309_image2_00759_asn.json with expected size 1812.\n"
     ]
    },
    {
     "name": "stdout",
     "output_type": "stream",
     "text": [
      "INFO: Found cached file /orange/adamginsburg/jwst/cloudc/F405N/pipeline/mastDownload/JWST/jw02221001001_03101_00008_nrcblong/jw02221-o001_20230725t121309_image2_00720_asn.json with expected size 1812. [astroquery.query]\n",
      "INFO: Found cached file /orange/adamginsburg/jwst/cloudc/F405N/pipeline/mastDownload/JWST/jw02221001001_03101_00009_nrcalong/jw02221-o001_20230725t121309_image2_00759_asn.json with expected size 1812. [astroquery.query]\n"
     ]
    },
    {
     "name": "stderr",
     "output_type": "stream",
     "text": [
      "2023-09-06 13:07:51,337 - stpipe - INFO - Found cached file /orange/adamginsburg/jwst/cloudc/F405N/pipeline/mastDownload/JWST/jw02221001001_03101_00009_nrcblong/jw02221-o001_20230725t121309_image2_00674_asn.json with expected size 1812.\n",
      "2023-09-06 13:07:51,500 - stpipe - INFO - Found cached file /orange/adamginsburg/jwst/cloudc/F405N/pipeline/mastDownload/JWST/jw02221001001_03101_00010_nrcalong/jw02221-o001_20230725t121309_image2_00684_asn.json with expected size 1812.\n"
     ]
    },
    {
     "name": "stdout",
     "output_type": "stream",
     "text": [
      "INFO: Found cached file /orange/adamginsburg/jwst/cloudc/F405N/pipeline/mastDownload/JWST/jw02221001001_03101_00009_nrcblong/jw02221-o001_20230725t121309_image2_00674_asn.json with expected size 1812. [astroquery.query]\n",
      "INFO: Found cached file /orange/adamginsburg/jwst/cloudc/F405N/pipeline/mastDownload/JWST/jw02221001001_03101_00010_nrcalong/jw02221-o001_20230725t121309_image2_00684_asn.json with expected size 1812. [astroquery.query]\n"
     ]
    },
    {
     "name": "stderr",
     "output_type": "stream",
     "text": [
      "2023-09-06 13:07:51,656 - stpipe - INFO - Found cached file /orange/adamginsburg/jwst/cloudc/F405N/pipeline/mastDownload/JWST/jw02221001001_03101_00010_nrcblong/jw02221-o001_20230725t121309_image2_00707_asn.json with expected size 1812.\n",
      "2023-09-06 13:07:51,807 - stpipe - INFO - Found cached file /orange/adamginsburg/jwst/cloudc/F405N/pipeline/mastDownload/JWST/jw02221001001_03101_00011_nrcalong/jw02221-o001_20230725t121309_image2_00746_asn.json with expected size 1812.\n"
     ]
    },
    {
     "name": "stdout",
     "output_type": "stream",
     "text": [
      "INFO: Found cached file /orange/adamginsburg/jwst/cloudc/F405N/pipeline/mastDownload/JWST/jw02221001001_03101_00010_nrcblong/jw02221-o001_20230725t121309_image2_00707_asn.json with expected size 1812. [astroquery.query]\n",
      "INFO: Found cached file /orange/adamginsburg/jwst/cloudc/F405N/pipeline/mastDownload/JWST/jw02221001001_03101_00011_nrcalong/jw02221-o001_20230725t121309_image2_00746_asn.json with expected size 1812. [astroquery.query]\n"
     ]
    },
    {
     "name": "stderr",
     "output_type": "stream",
     "text": [
      "2023-09-06 13:07:51,957 - stpipe - INFO - Found cached file /orange/adamginsburg/jwst/cloudc/F405N/pipeline/mastDownload/JWST/jw02221001001_03101_00011_nrcblong/jw02221-o001_20230725t121309_image2_00778_asn.json with expected size 1812.\n",
      "2023-09-06 13:07:52,109 - stpipe - INFO - Found cached file /orange/adamginsburg/jwst/cloudc/F405N/pipeline/mastDownload/JWST/jw02221001001_03101_00012_nrcalong/jw02221-o001_20230725t121309_image2_00617_asn.json with expected size 1812.\n"
     ]
    },
    {
     "name": "stdout",
     "output_type": "stream",
     "text": [
      "INFO: Found cached file /orange/adamginsburg/jwst/cloudc/F405N/pipeline/mastDownload/JWST/jw02221001001_03101_00011_nrcblong/jw02221-o001_20230725t121309_image2_00778_asn.json with expected size 1812. [astroquery.query]\n",
      "INFO: Found cached file /orange/adamginsburg/jwst/cloudc/F405N/pipeline/mastDownload/JWST/jw02221001001_03101_00012_nrcalong/jw02221-o001_20230725t121309_image2_00617_asn.json with expected size 1812. [astroquery.query]\n"
     ]
    },
    {
     "name": "stderr",
     "output_type": "stream",
     "text": [
      "2023-09-06 13:07:52,259 - stpipe - INFO - Found cached file /orange/adamginsburg/jwst/cloudc/F405N/pipeline/mastDownload/JWST/jw02221001001_03101_00012_nrcblong/jw02221-o001_20230725t121309_image2_00563_asn.json with expected size 1812.\n",
      "2023-09-06 13:07:52,415 - stpipe - INFO - Found cached file /orange/adamginsburg/jwst/cloudc/F405N/pipeline/mastDownload/JWST/jw02221001001_03101_00013_nrcalong/jw02221-o001_20230725t121309_image2_00602_asn.json with expected size 1812.\n"
     ]
    },
    {
     "name": "stdout",
     "output_type": "stream",
     "text": [
      "INFO: Found cached file /orange/adamginsburg/jwst/cloudc/F405N/pipeline/mastDownload/JWST/jw02221001001_03101_00012_nrcblong/jw02221-o001_20230725t121309_image2_00563_asn.json with expected size 1812. [astroquery.query]\n",
      "INFO: Found cached file /orange/adamginsburg/jwst/cloudc/F405N/pipeline/mastDownload/JWST/jw02221001001_03101_00013_nrcalong/jw02221-o001_20230725t121309_image2_00602_asn.json with expected size 1812. [astroquery.query]\n"
     ]
    },
    {
     "name": "stderr",
     "output_type": "stream",
     "text": [
      "2023-09-06 13:07:52,577 - stpipe - INFO - Found cached file /orange/adamginsburg/jwst/cloudc/F405N/pipeline/mastDownload/JWST/jw02221001001_03101_00013_nrcblong/jw02221-o001_20230725t121309_image2_00654_asn.json with expected size 1812.\n",
      "2023-09-06 13:07:52,733 - stpipe - INFO - Found cached file /orange/adamginsburg/jwst/cloudc/F405N/pipeline/mastDownload/JWST/jw02221001001_03101_00014_nrcalong/jw02221-o001_20230725t121309_image2_00593_asn.json with expected size 1812.\n"
     ]
    },
    {
     "name": "stdout",
     "output_type": "stream",
     "text": [
      "INFO: Found cached file /orange/adamginsburg/jwst/cloudc/F405N/pipeline/mastDownload/JWST/jw02221001001_03101_00013_nrcblong/jw02221-o001_20230725t121309_image2_00654_asn.json with expected size 1812. [astroquery.query]\n",
      "INFO: Found cached file /orange/adamginsburg/jwst/cloudc/F405N/pipeline/mastDownload/JWST/jw02221001001_03101_00014_nrcalong/jw02221-o001_20230725t121309_image2_00593_asn.json with expected size 1812. [astroquery.query]\n"
     ]
    },
    {
     "name": "stderr",
     "output_type": "stream",
     "text": [
      "2023-09-06 13:07:52,885 - stpipe - INFO - Found cached file /orange/adamginsburg/jwst/cloudc/F405N/pipeline/mastDownload/JWST/jw02221001001_03101_00014_nrcblong/jw02221-o001_20230725t121309_image2_00598_asn.json with expected size 1812.\n",
      "2023-09-06 13:07:53,041 - stpipe - INFO - Found cached file /orange/adamginsburg/jwst/cloudc/F405N/pipeline/mastDownload/JWST/jw02221001001_03101_00015_nrcalong/jw02221-o001_20230725t121309_image2_00628_asn.json with expected size 1812.\n"
     ]
    },
    {
     "name": "stdout",
     "output_type": "stream",
     "text": [
      "INFO: Found cached file /orange/adamginsburg/jwst/cloudc/F405N/pipeline/mastDownload/JWST/jw02221001001_03101_00014_nrcblong/jw02221-o001_20230725t121309_image2_00598_asn.json with expected size 1812. [astroquery.query]\n",
      "INFO: Found cached file /orange/adamginsburg/jwst/cloudc/F405N/pipeline/mastDownload/JWST/jw02221001001_03101_00015_nrcalong/jw02221-o001_20230725t121309_image2_00628_asn.json with expected size 1812. [astroquery.query]\n"
     ]
    },
    {
     "name": "stderr",
     "output_type": "stream",
     "text": [
      "2023-09-06 13:07:53,192 - stpipe - INFO - Found cached file /orange/adamginsburg/jwst/cloudc/F405N/pipeline/mastDownload/JWST/jw02221001001_03101_00015_nrcblong/jw02221-o001_20230725t121309_image2_00548_asn.json with expected size 1812.\n",
      "2023-09-06 13:07:53,345 - stpipe - INFO - Found cached file /orange/adamginsburg/jwst/cloudc/F405N/pipeline/mastDownload/JWST/jw02221001001_03101_00016_nrcalong/jw02221-o001_20230725t121309_image2_00644_asn.json with expected size 1812.\n"
     ]
    },
    {
     "name": "stdout",
     "output_type": "stream",
     "text": [
      "INFO: Found cached file /orange/adamginsburg/jwst/cloudc/F405N/pipeline/mastDownload/JWST/jw02221001001_03101_00015_nrcblong/jw02221-o001_20230725t121309_image2_00548_asn.json with expected size 1812. [astroquery.query]\n",
      "INFO: Found cached file /orange/adamginsburg/jwst/cloudc/F405N/pipeline/mastDownload/JWST/jw02221001001_03101_00016_nrcalong/jw02221-o001_20230725t121309_image2_00644_asn.json with expected size 1812. [astroquery.query]\n"
     ]
    },
    {
     "name": "stderr",
     "output_type": "stream",
     "text": [
      "2023-09-06 13:07:53,500 - stpipe - INFO - Found cached file /orange/adamginsburg/jwst/cloudc/F405N/pipeline/mastDownload/JWST/jw02221001001_03101_00016_nrcblong/jw02221-o001_20230725t121309_image2_00632_asn.json with expected size 1812.\n",
      "2023-09-06 13:07:53,649 - stpipe - INFO - Found cached file /orange/adamginsburg/jwst/cloudc/F405N/pipeline/mastDownload/JWST/jw02221001001_03101_00017_nrcalong/jw02221-o001_20230725t121309_image2_00626_asn.json with expected size 1812.\n"
     ]
    },
    {
     "name": "stdout",
     "output_type": "stream",
     "text": [
      "INFO: Found cached file /orange/adamginsburg/jwst/cloudc/F405N/pipeline/mastDownload/JWST/jw02221001001_03101_00016_nrcblong/jw02221-o001_20230725t121309_image2_00632_asn.json with expected size 1812. [astroquery.query]\n",
      "INFO: Found cached file /orange/adamginsburg/jwst/cloudc/F405N/pipeline/mastDownload/JWST/jw02221001001_03101_00017_nrcalong/jw02221-o001_20230725t121309_image2_00626_asn.json with expected size 1812. [astroquery.query]\n"
     ]
    },
    {
     "name": "stderr",
     "output_type": "stream",
     "text": [
      "2023-09-06 13:07:53,798 - stpipe - INFO - Found cached file /orange/adamginsburg/jwst/cloudc/F405N/pipeline/mastDownload/JWST/jw02221001001_03101_00017_nrcblong/jw02221-o001_20230725t121309_image2_00564_asn.json with expected size 1812.\n",
      "2023-09-06 13:07:53,945 - stpipe - INFO - Found cached file /orange/adamginsburg/jwst/cloudc/F405N/pipeline/mastDownload/JWST/jw02221001001_03101_00018_nrcalong/jw02221-o001_20230725t121309_image2_00660_asn.json with expected size 1812.\n"
     ]
    },
    {
     "name": "stdout",
     "output_type": "stream",
     "text": [
      "INFO: Found cached file /orange/adamginsburg/jwst/cloudc/F405N/pipeline/mastDownload/JWST/jw02221001001_03101_00017_nrcblong/jw02221-o001_20230725t121309_image2_00564_asn.json with expected size 1812. [astroquery.query]\n",
      "INFO: Found cached file /orange/adamginsburg/jwst/cloudc/F405N/pipeline/mastDownload/JWST/jw02221001001_03101_00018_nrcalong/jw02221-o001_20230725t121309_image2_00660_asn.json with expected size 1812. [astroquery.query]\n"
     ]
    },
    {
     "name": "stderr",
     "output_type": "stream",
     "text": [
      "2023-09-06 13:07:54,096 - stpipe - INFO - Found cached file /orange/adamginsburg/jwst/cloudc/F405N/pipeline/mastDownload/JWST/jw02221001001_03101_00018_nrcblong/jw02221-o001_20230725t121309_image2_00635_asn.json with expected size 1812.\n",
      "2023-09-06 13:07:54,254 - stpipe - INFO - Found cached file /orange/adamginsburg/jwst/cloudc/F405N/pipeline/mastDownload/JWST/jw02221001001_03101_00019_nrcalong/jw02221-o001_20230725t121309_image2_00585_asn.json with expected size 1812.\n"
     ]
    },
    {
     "name": "stdout",
     "output_type": "stream",
     "text": [
      "INFO: Found cached file /orange/adamginsburg/jwst/cloudc/F405N/pipeline/mastDownload/JWST/jw02221001001_03101_00018_nrcblong/jw02221-o001_20230725t121309_image2_00635_asn.json with expected size 1812. [astroquery.query]\n",
      "INFO: Found cached file /orange/adamginsburg/jwst/cloudc/F405N/pipeline/mastDownload/JWST/jw02221001001_03101_00019_nrcalong/jw02221-o001_20230725t121309_image2_00585_asn.json with expected size 1812. [astroquery.query]\n"
     ]
    },
    {
     "name": "stderr",
     "output_type": "stream",
     "text": [
      "2023-09-06 13:07:54,404 - stpipe - INFO - Found cached file /orange/adamginsburg/jwst/cloudc/F405N/pipeline/mastDownload/JWST/jw02221001001_03101_00019_nrcblong/jw02221-o001_20230725t121309_image2_00633_asn.json with expected size 1812.\n",
      "2023-09-06 13:07:54,555 - stpipe - INFO - Found cached file /orange/adamginsburg/jwst/cloudc/F405N/pipeline/mastDownload/JWST/jw02221001001_03101_00020_nrcalong/jw02221-o001_20230725t121309_image2_00612_asn.json with expected size 1812.\n"
     ]
    },
    {
     "name": "stdout",
     "output_type": "stream",
     "text": [
      "INFO: Found cached file /orange/adamginsburg/jwst/cloudc/F405N/pipeline/mastDownload/JWST/jw02221001001_03101_00019_nrcblong/jw02221-o001_20230725t121309_image2_00633_asn.json with expected size 1812. [astroquery.query]\n",
      "INFO: Found cached file /orange/adamginsburg/jwst/cloudc/F405N/pipeline/mastDownload/JWST/jw02221001001_03101_00020_nrcalong/jw02221-o001_20230725t121309_image2_00612_asn.json with expected size 1812. [astroquery.query]\n"
     ]
    },
    {
     "name": "stderr",
     "output_type": "stream",
     "text": [
      "2023-09-06 13:07:54,708 - stpipe - INFO - Found cached file /orange/adamginsburg/jwst/cloudc/F405N/pipeline/mastDownload/JWST/jw02221001001_03101_00020_nrcblong/jw02221-o001_20230725t121309_image2_00540_asn.json with expected size 1812.\n",
      "2023-09-06 13:07:54,858 - stpipe - INFO - Found cached file /orange/adamginsburg/jwst/cloudc/F405N/pipeline/mastDownload/JWST/jw02221001001_03101_00021_nrcalong/jw02221-o001_20230725t121309_image2_00576_asn.json with expected size 1812.\n"
     ]
    },
    {
     "name": "stdout",
     "output_type": "stream",
     "text": [
      "INFO: Found cached file /orange/adamginsburg/jwst/cloudc/F405N/pipeline/mastDownload/JWST/jw02221001001_03101_00020_nrcblong/jw02221-o001_20230725t121309_image2_00540_asn.json with expected size 1812. [astroquery.query]\n",
      "INFO: Found cached file /orange/adamginsburg/jwst/cloudc/F405N/pipeline/mastDownload/JWST/jw02221001001_03101_00021_nrcalong/jw02221-o001_20230725t121309_image2_00576_asn.json with expected size 1812. [astroquery.query]\n"
     ]
    },
    {
     "name": "stderr",
     "output_type": "stream",
     "text": [
      "2023-09-06 13:07:55,012 - stpipe - INFO - Found cached file /orange/adamginsburg/jwst/cloudc/F405N/pipeline/mastDownload/JWST/jw02221001001_03101_00021_nrcblong/jw02221-o001_20230725t121309_image2_00555_asn.json with expected size 1812.\n",
      "2023-09-06 13:07:55,162 - stpipe - INFO - Found cached file /orange/adamginsburg/jwst/cloudc/F405N/pipeline/mastDownload/JWST/jw02221001001_03101_00022_nrcalong/jw02221-o001_20230725t121309_image2_00653_asn.json with expected size 1812.\n"
     ]
    },
    {
     "name": "stdout",
     "output_type": "stream",
     "text": [
      "INFO: Found cached file /orange/adamginsburg/jwst/cloudc/F405N/pipeline/mastDownload/JWST/jw02221001001_03101_00021_nrcblong/jw02221-o001_20230725t121309_image2_00555_asn.json with expected size 1812. [astroquery.query]\n",
      "INFO: Found cached file /orange/adamginsburg/jwst/cloudc/F405N/pipeline/mastDownload/JWST/jw02221001001_03101_00022_nrcalong/jw02221-o001_20230725t121309_image2_00653_asn.json with expected size 1812. [astroquery.query]\n"
     ]
    },
    {
     "name": "stderr",
     "output_type": "stream",
     "text": [
      "2023-09-06 13:07:55,320 - stpipe - INFO - Found cached file /orange/adamginsburg/jwst/cloudc/F405N/pipeline/mastDownload/JWST/jw02221001001_03101_00022_nrcblong/jw02221-o001_20230725t121309_image2_00664_asn.json with expected size 1812.\n",
      "2023-09-06 13:07:55,473 - stpipe - INFO - Found cached file /orange/adamginsburg/jwst/cloudc/F405N/pipeline/mastDownload/JWST/jw02221001001_03101_00023_nrcalong/jw02221-o001_20230725t121309_image2_00533_asn.json with expected size 1812.\n"
     ]
    },
    {
     "name": "stdout",
     "output_type": "stream",
     "text": [
      "INFO: Found cached file /orange/adamginsburg/jwst/cloudc/F405N/pipeline/mastDownload/JWST/jw02221001001_03101_00022_nrcblong/jw02221-o001_20230725t121309_image2_00664_asn.json with expected size 1812. [astroquery.query]\n",
      "INFO: Found cached file /orange/adamginsburg/jwst/cloudc/F405N/pipeline/mastDownload/JWST/jw02221001001_03101_00023_nrcalong/jw02221-o001_20230725t121309_image2_00533_asn.json with expected size 1812. [astroquery.query]\n"
     ]
    },
    {
     "name": "stderr",
     "output_type": "stream",
     "text": [
      "2023-09-06 13:07:55,625 - stpipe - INFO - Found cached file /orange/adamginsburg/jwst/cloudc/F405N/pipeline/mastDownload/JWST/jw02221001001_03101_00023_nrcblong/jw02221-o001_20230725t121309_image2_00536_asn.json with expected size 1812.\n",
      "2023-09-06 13:07:55,774 - stpipe - INFO - Found cached file /orange/adamginsburg/jwst/cloudc/F405N/pipeline/mastDownload/JWST/jw02221001001_03101_00024_nrcalong/jw02221-o001_20230725t121309_image2_00499_asn.json with expected size 1812.\n"
     ]
    },
    {
     "name": "stdout",
     "output_type": "stream",
     "text": [
      "INFO: Found cached file /orange/adamginsburg/jwst/cloudc/F405N/pipeline/mastDownload/JWST/jw02221001001_03101_00023_nrcblong/jw02221-o001_20230725t121309_image2_00536_asn.json with expected size 1812. [astroquery.query]\n",
      "INFO: Found cached file /orange/adamginsburg/jwst/cloudc/F405N/pipeline/mastDownload/JWST/jw02221001001_03101_00024_nrcalong/jw02221-o001_20230725t121309_image2_00499_asn.json with expected size 1812. [astroquery.query]\n"
     ]
    },
    {
     "name": "stderr",
     "output_type": "stream",
     "text": [
      "2023-09-06 13:07:55,929 - stpipe - INFO - Found cached file /orange/adamginsburg/jwst/cloudc/F405N/pipeline/mastDownload/JWST/jw02221001001_03101_00024_nrcblong/jw02221-o001_20230725t121309_image2_00642_asn.json with expected size 1812.\n",
      "2023-09-06 13:07:56,085 - stpipe - INFO - Found cached file /orange/adamginsburg/jwst/cloudc/F405N/pipeline/mastDownload/JWST/jw02221002001_02201_00001_nrcalong/jw02221-o002_20230725t121309_image2_00475_asn.json with expected size 1812.\n"
     ]
    },
    {
     "name": "stdout",
     "output_type": "stream",
     "text": [
      "INFO: Found cached file /orange/adamginsburg/jwst/cloudc/F405N/pipeline/mastDownload/JWST/jw02221001001_03101_00024_nrcblong/jw02221-o001_20230725t121309_image2_00642_asn.json with expected size 1812. [astroquery.query]\n",
      "INFO: Found cached file /orange/adamginsburg/jwst/cloudc/F405N/pipeline/mastDownload/JWST/jw02221002001_02201_00001_nrcalong/jw02221-o002_20230725t121309_image2_00475_asn.json with expected size 1812. [astroquery.query]\n"
     ]
    },
    {
     "name": "stderr",
     "output_type": "stream",
     "text": [
      "2023-09-06 13:07:56,235 - stpipe - INFO - Found cached file /orange/adamginsburg/jwst/cloudc/F405N/pipeline/mastDownload/JWST/jw02221002001_02201_00001_nrcblong/jw02221-o002_20230725t121309_image2_00461_asn.json with expected size 1812.\n",
      "2023-09-06 13:07:56,383 - stpipe - INFO - Found cached file /orange/adamginsburg/jwst/cloudc/F405N/pipeline/mastDownload/JWST/jw02221002001_02201_00002_nrcalong/jw02221-o002_20230725t121309_image2_00500_asn.json with expected size 1812.\n"
     ]
    },
    {
     "name": "stdout",
     "output_type": "stream",
     "text": [
      "INFO: Found cached file /orange/adamginsburg/jwst/cloudc/F405N/pipeline/mastDownload/JWST/jw02221002001_02201_00001_nrcblong/jw02221-o002_20230725t121309_image2_00461_asn.json with expected size 1812. [astroquery.query]\n",
      "INFO: Found cached file /orange/adamginsburg/jwst/cloudc/F405N/pipeline/mastDownload/JWST/jw02221002001_02201_00002_nrcalong/jw02221-o002_20230725t121309_image2_00500_asn.json with expected size 1812. [astroquery.query]\n"
     ]
    },
    {
     "name": "stderr",
     "output_type": "stream",
     "text": [
      "2023-09-06 13:07:56,536 - stpipe - INFO - Found cached file /orange/adamginsburg/jwst/cloudc/F405N/pipeline/mastDownload/JWST/jw02221002001_02201_00002_nrcblong/jw02221-o002_20230725t121309_image2_00451_asn.json with expected size 1812.\n"
     ]
    },
    {
     "name": "stdout",
     "output_type": "stream",
     "text": [
      "INFO: Found cached file /orange/adamginsburg/jwst/cloudc/F405N/pipeline/mastDownload/JWST/jw02221002001_02201_00002_nrcblong/jw02221-o002_20230725t121309_image2_00451_asn.json with expected size 1812. [astroquery.query]\n",
      "Downloading URL https://mast.stsci.edu/api/v0.1/Download/file?uri=mast:JWST/product/jw02221-o002_20230725t121309_image2_00492_asn.json to /orange/adamginsburg/jwst/cloudc/F405N/pipeline/mastDownload/JWST/jw02221002001_02201_00003_nrcalong/jw02221-o002_20230725t121309_image2_00492_asn.json ... [Done]\n",
      "Downloading URL https://mast.stsci.edu/api/v0.1/Download/file?uri=mast:JWST/product/jw02221-o002_20230725t121309_image2_00453_asn.json to /orange/adamginsburg/jwst/cloudc/F405N/pipeline/mastDownload/JWST/jw02221002001_02201_00003_nrcblong/jw02221-o002_20230725t121309_image2_00453_asn.json ... [Done]\n",
      "Downloading URL https://mast.stsci.edu/api/v0.1/Download/file?uri=mast:JWST/product/jw02221-o002_20230725t121309_image2_00511_asn.json to /orange/adamginsburg/jwst/cloudc/F405N/pipeline/mastDownload/JWST/jw02221002001_02201_00004_nrcalong/jw02221-o002_20230725t121309_image2_00511_asn.json ... [Done]\n",
      "Downloading URL https://mast.stsci.edu/api/v0.1/Download/file?uri=mast:JWST/product/jw02221-o002_20230725t121309_image2_00411_asn.json to /orange/adamginsburg/jwst/cloudc/F405N/pipeline/mastDownload/JWST/jw02221002001_02201_00004_nrcblong/jw02221-o002_20230725t121309_image2_00411_asn.json ... [Done]\n",
      "Downloading URL https://mast.stsci.edu/api/v0.1/Download/file?uri=mast:JWST/product/jw02221-o002_20230725t121309_image2_00392_asn.json to /orange/adamginsburg/jwst/cloudc/F405N/pipeline/mastDownload/JWST/jw02221002001_08201_00001_nrcalong/jw02221-o002_20230725t121309_image2_00392_asn.json ... [Done]\n",
      "Downloading URL https://mast.stsci.edu/api/v0.1/Download/file?uri=mast:JWST/product/jw02221-o002_20230725t121309_image2_00447_asn.json to /orange/adamginsburg/jwst/cloudc/F405N/pipeline/mastDownload/JWST/jw02221002001_08201_00001_nrcblong/jw02221-o002_20230725t121309_image2_00447_asn.json ... [Done]\n",
      "Downloading URL https://mast.stsci.edu/api/v0.1/Download/file?uri=mast:JWST/product/jw02221-o002_20230725t121309_image2_00388_asn.json to /orange/adamginsburg/jwst/cloudc/F405N/pipeline/mastDownload/JWST/jw02221002001_08201_00002_nrcalong/jw02221-o002_20230725t121309_image2_00388_asn.json ... [Done]\n",
      "Downloading URL https://mast.stsci.edu/api/v0.1/Download/file?uri=mast:JWST/product/jw02221-o002_20230725t121309_image2_00175_asn.json to /orange/adamginsburg/jwst/cloudc/F405N/pipeline/mastDownload/JWST/jw02221002001_08201_00002_nrcblong/jw02221-o002_20230725t121309_image2_00175_asn.json ... [Done]\n",
      "Downloading URL https://mast.stsci.edu/api/v0.1/Download/file?uri=mast:JWST/product/jw02221-o002_20230725t121309_image2_00212_asn.json to /orange/adamginsburg/jwst/cloudc/F405N/pipeline/mastDownload/JWST/jw02221002001_08201_00003_nrcalong/jw02221-o002_20230725t121309_image2_00212_asn.json ... [Done]\n",
      "Downloading URL https://mast.stsci.edu/api/v0.1/Download/file?uri=mast:JWST/product/jw02221-o002_20230725t121309_image2_00351_asn.json to /orange/adamginsburg/jwst/cloudc/F405N/pipeline/mastDownload/JWST/jw02221002001_08201_00003_nrcblong/jw02221-o002_20230725t121309_image2_00351_asn.json ... [Done]\n",
      "Downloading URL https://mast.stsci.edu/api/v0.1/Download/file?uri=mast:JWST/product/jw02221-o002_20230725t121309_image2_00354_asn.json to /orange/adamginsburg/jwst/cloudc/F405N/pipeline/mastDownload/JWST/jw02221002001_08201_00004_nrcalong/jw02221-o002_20230725t121309_image2_00354_asn.json ... [Done]\n",
      "Downloading URL https://mast.stsci.edu/api/v0.1/Download/file?uri=mast:JWST/product/jw02221-o002_20230725t121309_image2_00382_asn.json to /orange/adamginsburg/jwst/cloudc/F405N/pipeline/mastDownload/JWST/jw02221002001_08201_00004_nrcblong/jw02221-o002_20230725t121309_image2_00382_asn.json ... [Done]\n",
      "Downloading URL https://mast.stsci.edu/api/v0.1/Download/file?uri=mast:JWST/product/jw02221-o002_20230725t121309_image2_00317_asn.json to /orange/adamginsburg/jwst/cloudc/F405N/pipeline/mastDownload/JWST/jw02221002002_02201_00001_nrcalong/jw02221-o002_20230725t121309_image2_00317_asn.json ... [Done]\n",
      "Downloading URL https://mast.stsci.edu/api/v0.1/Download/file?uri=mast:JWST/product/jw02221-o002_20230725t121309_image2_00329_asn.json to /orange/adamginsburg/jwst/cloudc/F405N/pipeline/mastDownload/JWST/jw02221002002_02201_00001_nrcblong/jw02221-o002_20230725t121309_image2_00329_asn.json ... [Done]\n",
      "Downloading URL https://mast.stsci.edu/api/v0.1/Download/file?uri=mast:JWST/product/jw02221-o002_20230725t121309_image2_00356_asn.json to /orange/adamginsburg/jwst/cloudc/F405N/pipeline/mastDownload/JWST/jw02221002002_02201_00002_nrcalong/jw02221-o002_20230725t121309_image2_00356_asn.json ... [Done]\n",
      "Downloading URL https://mast.stsci.edu/api/v0.1/Download/file?uri=mast:JWST/product/jw02221-o002_20230725t121309_image2_00102_asn.json to /orange/adamginsburg/jwst/cloudc/F405N/pipeline/mastDownload/JWST/jw02221002002_02201_00002_nrcblong/jw02221-o002_20230725t121309_image2_00102_asn.json ... [Done]\n",
      "Downloading URL https://mast.stsci.edu/api/v0.1/Download/file?uri=mast:JWST/product/jw02221-o002_20230725t121309_image2_00318_asn.json to /orange/adamginsburg/jwst/cloudc/F405N/pipeline/mastDownload/JWST/jw02221002002_02201_00003_nrcalong/jw02221-o002_20230725t121309_image2_00318_asn.json ... [Done]\n",
      "Downloading URL https://mast.stsci.edu/api/v0.1/Download/file?uri=mast:JWST/product/jw02221-o002_20230725t121309_image2_00324_asn.json to /orange/adamginsburg/jwst/cloudc/F405N/pipeline/mastDownload/JWST/jw02221002002_02201_00003_nrcblong/jw02221-o002_20230725t121309_image2_00324_asn.json ... [Done]\n",
      "Downloading URL https://mast.stsci.edu/api/v0.1/Download/file?uri=mast:JWST/product/jw02221-o002_20230725t121309_image2_00414_asn.json to /orange/adamginsburg/jwst/cloudc/F405N/pipeline/mastDownload/JWST/jw02221002002_02201_00004_nrcalong/jw02221-o002_20230725t121309_image2_00414_asn.json ... [Done]\n",
      "Downloading URL https://mast.stsci.edu/api/v0.1/Download/file?uri=mast:JWST/product/jw02221-o002_20230725t121309_image2_00245_asn.json to /orange/adamginsburg/jwst/cloudc/F405N/pipeline/mastDownload/JWST/jw02221002002_02201_00004_nrcblong/jw02221-o002_20230725t121309_image2_00245_asn.json ... [Done]\n",
      "Downloading URL https://mast.stsci.edu/api/v0.1/Download/file?uri=mast:JWST/product/jw02221-o002_20230725t121309_image2_00109_asn.json to /orange/adamginsburg/jwst/cloudc/F405N/pipeline/mastDownload/JWST/jw02221002002_08201_00001_nrcalong/jw02221-o002_20230725t121309_image2_00109_asn.json ... [Done]\n",
      "Downloading URL https://mast.stsci.edu/api/v0.1/Download/file?uri=mast:JWST/product/jw02221-o002_20230725t121309_image2_00204_asn.json to /orange/adamginsburg/jwst/cloudc/F405N/pipeline/mastDownload/JWST/jw02221002002_08201_00001_nrcblong/jw02221-o002_20230725t121309_image2_00204_asn.json ... [Done]\n",
      "Downloading URL https://mast.stsci.edu/api/v0.1/Download/file?uri=mast:JWST/product/jw02221-o002_20230725t121309_image2_00258_asn.json to /orange/adamginsburg/jwst/cloudc/F405N/pipeline/mastDownload/JWST/jw02221002002_08201_00002_nrcalong/jw02221-o002_20230725t121309_image2_00258_asn.json ... [Done]\n",
      "Downloading URL https://mast.stsci.edu/api/v0.1/Download/file?uri=mast:JWST/product/jw02221-o002_20230725t121309_image2_00032_asn.json to /orange/adamginsburg/jwst/cloudc/F405N/pipeline/mastDownload/JWST/jw02221002002_08201_00002_nrcblong/jw02221-o002_20230725t121309_image2_00032_asn.json ... [Done]\n",
      "Downloading URL https://mast.stsci.edu/api/v0.1/Download/file?uri=mast:JWST/product/jw02221-o002_20230725t121309_image2_00074_asn.json to /orange/adamginsburg/jwst/cloudc/F405N/pipeline/mastDownload/JWST/jw02221002002_08201_00003_nrcalong/jw02221-o002_20230725t121309_image2_00074_asn.json ... [Done]\n",
      "Downloading URL https://mast.stsci.edu/api/v0.1/Download/file?uri=mast:JWST/product/jw02221-o002_20230725t121309_image2_00120_asn.json to /orange/adamginsburg/jwst/cloudc/F405N/pipeline/mastDownload/JWST/jw02221002002_08201_00003_nrcblong/jw02221-o002_20230725t121309_image2_00120_asn.json ... [Done]\n",
      "Downloading URL https://mast.stsci.edu/api/v0.1/Download/file?uri=mast:JWST/product/jw02221-o002_20230725t121309_image2_00065_asn.json to /orange/adamginsburg/jwst/cloudc/F405N/pipeline/mastDownload/JWST/jw02221002002_08201_00004_nrcalong/jw02221-o002_20230725t121309_image2_00065_asn.json ... [Done]\n",
      "Downloading URL https://mast.stsci.edu/api/v0.1/Download/file?uri=mast:JWST/product/jw02221-o002_20230725t121309_image2_00004_asn.json to /orange/adamginsburg/jwst/cloudc/F405N/pipeline/mastDownload/JWST/jw02221002002_08201_00004_nrcblong/jw02221-o002_20230725t121309_image2_00004_asn.json ... [Done]\n",
      "2023-09-06T13:08:02.863904: manifest:                                                                         Local Path                                                                        ...\n",
      "--------------------------------------------------------------------------------------------------------------------------------------------------------- ...\n",
      "/orange/adamginsburg/jwst/cloudc/F405N/pipeline/mastDownload/JWST/jw02221-o001_t001_nircam_f405n-f444w/jw02221-o001_20230725t121309_image3_00001_asn.json ...\n",
      "/orange/adamginsburg/jwst/cloudc/F405N/pipeline/mastDownload/JWST/jw02221-o002_t001_nircam_f405n-f444w/jw02221-o002_20230725t121309_image3_00005_asn.json ...\n",
      "  /orange/adamginsburg/jwst/cloudc/F405N/pipeline/mastDownload/JWST/jw02221001001_03101_00001_nrcalong/jw02221-o001_20230725t121309_image2_00706_asn.json ...\n",
      "  /orange/adamginsburg/jwst/cloudc/F405N/pipeline/mastDownload/JWST/jw02221001001_03101_00001_nrcblong/jw02221-o001_20230725t121309_image2_00717_asn.json ...\n",
      "  /orange/adamginsburg/jwst/cloudc/F405N/pipeline/mastDownload/JWST/jw02221001001_03101_00002_nrcalong/jw02221-o001_20230725t121309_image2_00757_asn.json ...\n",
      "  /orange/adamginsburg/jwst/cloudc/F405N/pipeline/mastDownload/JWST/jw02221001001_03101_00002_nrcblong/jw02221-o001_20230725t121309_image2_00788_asn.json ...\n",
      "  /orange/adamginsburg/jwst/cloudc/F405N/pipeline/mastDownload/JWST/jw02221001001_03101_00003_nrcalong/jw02221-o001_20230725t121309_image2_00695_asn.json ...\n",
      "  /orange/adamginsburg/jwst/cloudc/F405N/pipeline/mastDownload/JWST/jw02221001001_03101_00003_nrcblong/jw02221-o001_20230725t121309_image2_00765_asn.json ...\n",
      "  /orange/adamginsburg/jwst/cloudc/F405N/pipeline/mastDownload/JWST/jw02221001001_03101_00004_nrcalong/jw02221-o001_20230725t121309_image2_00760_asn.json ...\n",
      "  /orange/adamginsburg/jwst/cloudc/F405N/pipeline/mastDownload/JWST/jw02221001001_03101_00004_nrcblong/jw02221-o001_20230725t121309_image2_00762_asn.json ...\n",
      "  /orange/adamginsburg/jwst/cloudc/F405N/pipeline/mastDownload/JWST/jw02221001001_03101_00005_nrcalong/jw02221-o001_20230725t121309_image2_00782_asn.json ...\n",
      "  /orange/adamginsburg/jwst/cloudc/F405N/pipeline/mastDownload/JWST/jw02221001001_03101_00005_nrcblong/jw02221-o001_20230725t121309_image2_00743_asn.json ...\n",
      "  /orange/adamginsburg/jwst/cloudc/F405N/pipeline/mastDownload/JWST/jw02221001001_03101_00006_nrcalong/jw02221-o001_20230725t121309_image2_00772_asn.json ...\n",
      "  /orange/adamginsburg/jwst/cloudc/F405N/pipeline/mastDownload/JWST/jw02221001001_03101_00006_nrcblong/jw02221-o001_20230725t121309_image2_00780_asn.json ...\n",
      "  /orange/adamginsburg/jwst/cloudc/F405N/pipeline/mastDownload/JWST/jw02221001001_03101_00007_nrcalong/jw02221-o001_20230725t121309_image2_00739_asn.json ...\n",
      "  /orange/adamginsburg/jwst/cloudc/F405N/pipeline/mastDownload/JWST/jw02221001001_03101_00007_nrcblong/jw02221-o001_20230725t121309_image2_00694_asn.json ...\n",
      "                                                                                                                                                      ... ...\n",
      "  /orange/adamginsburg/jwst/cloudc/F405N/pipeline/mastDownload/JWST/jw02221002002_02201_00001_nrcalong/jw02221-o002_20230725t121309_image2_00317_asn.json ...\n",
      "  /orange/adamginsburg/jwst/cloudc/F405N/pipeline/mastDownload/JWST/jw02221002002_02201_00001_nrcblong/jw02221-o002_20230725t121309_image2_00329_asn.json ...\n",
      "  /orange/adamginsburg/jwst/cloudc/F405N/pipeline/mastDownload/JWST/jw02221002002_02201_00002_nrcalong/jw02221-o002_20230725t121309_image2_00356_asn.json ...\n",
      "  /orange/adamginsburg/jwst/cloudc/F405N/pipeline/mastDownload/JWST/jw02221002002_02201_00002_nrcblong/jw02221-o002_20230725t121309_image2_00102_asn.json ...\n",
      "  /orange/adamginsburg/jwst/cloudc/F405N/pipeline/mastDownload/JWST/jw02221002002_02201_00003_nrcalong/jw02221-o002_20230725t121309_image2_00318_asn.json ...\n",
      "  /orange/adamginsburg/jwst/cloudc/F405N/pipeline/mastDownload/JWST/jw02221002002_02201_00003_nrcblong/jw02221-o002_20230725t121309_image2_00324_asn.json ...\n",
      "  /orange/adamginsburg/jwst/cloudc/F405N/pipeline/mastDownload/JWST/jw02221002002_02201_00004_nrcalong/jw02221-o002_20230725t121309_image2_00414_asn.json ...\n",
      "  /orange/adamginsburg/jwst/cloudc/F405N/pipeline/mastDownload/JWST/jw02221002002_02201_00004_nrcblong/jw02221-o002_20230725t121309_image2_00245_asn.json ...\n",
      "  /orange/adamginsburg/jwst/cloudc/F405N/pipeline/mastDownload/JWST/jw02221002002_08201_00001_nrcalong/jw02221-o002_20230725t121309_image2_00109_asn.json ...\n",
      "  /orange/adamginsburg/jwst/cloudc/F405N/pipeline/mastDownload/JWST/jw02221002002_08201_00001_nrcblong/jw02221-o002_20230725t121309_image2_00204_asn.json ...\n",
      "  /orange/adamginsburg/jwst/cloudc/F405N/pipeline/mastDownload/JWST/jw02221002002_08201_00002_nrcalong/jw02221-o002_20230725t121309_image2_00258_asn.json ...\n",
      "  /orange/adamginsburg/jwst/cloudc/F405N/pipeline/mastDownload/JWST/jw02221002002_08201_00002_nrcblong/jw02221-o002_20230725t121309_image2_00032_asn.json ...\n",
      "  /orange/adamginsburg/jwst/cloudc/F405N/pipeline/mastDownload/JWST/jw02221002002_08201_00003_nrcalong/jw02221-o002_20230725t121309_image2_00074_asn.json ...\n",
      "  /orange/adamginsburg/jwst/cloudc/F405N/pipeline/mastDownload/JWST/jw02221002002_08201_00003_nrcblong/jw02221-o002_20230725t121309_image2_00120_asn.json ...\n",
      "  /orange/adamginsburg/jwst/cloudc/F405N/pipeline/mastDownload/JWST/jw02221002002_08201_00004_nrcalong/jw02221-o002_20230725t121309_image2_00065_asn.json ...\n",
      "  /orange/adamginsburg/jwst/cloudc/F405N/pipeline/mastDownload/JWST/jw02221002002_08201_00004_nrcblong/jw02221-o002_20230725t121309_image2_00004_asn.json ...\n",
      "Length = 82 rows\n"
     ]
    }
   ],
   "source": [
    "Observations.cache_location = output_dir\n",
    "obs_table = Observations.query_criteria(\n",
    "                                        proposal_id=\"2221\",\n",
    "                                        proposal_pi=\"Ginsburg*\",\n",
    "                                        #calib_level=3,\n",
    "                                        )\n",
    "print(\"Obs table length:\", len(obs_table))\n",
    "msk = ((np.char.find(obs_table['filters'], filtername.upper()) >= 0) |\n",
    "       (np.char.find(obs_table['obs_id'], filtername.lower()) >= 0))\n",
    "data_products_by_obs = Observations.get_product_list(obs_table[msk])\n",
    "print(\"data prodcts by obs length: \", len(data_products_by_obs))\n",
    "products_asn = Observations.filter_products(data_products_by_obs, extension=\"json\")\n",
    "print(\"products_asn length:\", len(products_asn))\n",
    "#valid_obsids = products_asn['obs_id'][np.char.find(np.unique(products_asn['obs_id']), 'jw02221-o001', ) == 0]\n",
    "#match = [x for x in valid_obsids if filtername.lower() in x][0]\n",
    "asn_mast_data = products_asn#[products_asn['obs_id'] == match]\n",
    "print(\"asn_mast_data:\", asn_mast_data)\n",
    "manifest = Observations.download_products(asn_mast_data, download_dir=output_dir)\n",
    "print(\"manifest:\", manifest)"
   ]
  },
  {
   "cell_type": "code",
   "execution_count": 5,
   "id": "8a81c7c0-d904-4ce0-9588-da9bdcb101e9",
   "metadata": {},
   "outputs": [],
   "source": [
    "# MAST creates deep directory structures we don't want\n",
    "for row in manifest:\n",
    "    try:\n",
    "        shutil.move(row['Local Path'], os.path.join(output_dir, os.path.basename(row['Local Path'])))\n",
    "    except Exception as ex:\n",
    "        print(f\"Failed to move file with error {ex}\")\n"
   ]
  },
  {
   "cell_type": "code",
   "execution_count": 6,
   "id": "eb84cbdf-055d-4b04-b01d-07bfe3e741cd",
   "metadata": {
    "tags": []
   },
   "outputs": [
    {
     "name": "stdout",
     "output_type": "stream",
     "text": [
      "2023-09-06T13:08:03.368674: products_fits length: 29060\n",
      "2023-09-06T13:08:03.804510: uncal length: 32\n",
      "2023-09-06T13:08:06.749723: uncal to download: 0; 274 were already downloaded\n"
     ]
    }
   ],
   "source": [
    "\n",
    "products_fits = Observations.filter_products(data_products_by_obs, extension=\"fits\")\n",
    "print(\"products_fits length:\", len(products_fits))\n",
    "uncal_mask = np.array([uri.endswith('_uncal.fits') and f'jw02221{field}' in uri for uri in products_fits['dataURI']])\n",
    "uncal_mask &= products_fits['productType'] == 'SCIENCE'\n",
    "print(\"uncal length:\", (uncal_mask.sum()))\n",
    "\n",
    "already_downloaded = np.array([os.path.exists(os.path.basename(uri)) for uri in products_fits['dataURI']])\n",
    "uncal_mask &= ~already_downloaded\n",
    "print(f\"uncal to download: {uncal_mask.sum()}; {already_downloaded.sum()} were already downloaded\")"
   ]
  },
  {
   "cell_type": "code",
   "execution_count": 7,
   "id": "d5e63782-d22f-45d4-b611-31436fc95587",
   "metadata": {},
   "outputs": [
    {
     "data": {
      "text/plain": [
       "'002'"
      ]
     },
     "execution_count": 7,
     "metadata": {},
     "output_type": "execute_result"
    }
   ],
   "source": [
    "field"
   ]
  },
  {
   "cell_type": "code",
   "execution_count": 8,
   "id": "d9dfa5ca-940f-48cb-9dcb-ac8269451ca1",
   "metadata": {
    "tags": []
   },
   "outputs": [
    {
     "data": {
      "text/html": [
       "<div><i>Table masked=True length=80</i>\n",
       "<table id=\"table22489994755184\" class=\"table-striped table-bordered table-condensed\">\n",
       "<thead><tr><th>obsID</th><th>obs_collection</th><th>dataproduct_type</th><th>obs_id</th><th>description</th><th>type</th><th>dataURI</th><th>productType</th><th>productGroupDescription</th><th>productSubGroupDescription</th><th>productDocumentationURL</th><th>project</th><th>prvversion</th><th>proposal_id</th><th>productFilename</th><th>size</th><th>parent_obsid</th><th>dataRights</th><th>calib_level</th></tr></thead>\n",
       "<thead><tr><th>str9</th><th>str4</th><th>str5</th><th>str36</th><th>str64</th><th>str1</th><th>str69</th><th>str9</th><th>str28</th><th>str11</th><th>str1</th><th>str7</th><th>str6</th><th>str4</th><th>str51</th><th>int64</th><th>str9</th><th>str16</th><th>int64</th></tr></thead>\n",
       "<tr><td>90106375</td><td>JWST</td><td>image</td><td>jw02221001001_03101_00001_nrcalong</td><td>exposure (L1b): Uncalibrated 4D exposure data</td><td>S</td><td>mast:JWST/product/jw02221001001_03101_00001_nrcalong_uncal.fits</td><td>SCIENCE</td><td>--</td><td>UNCAL</td><td>--</td><td>CALJWST</td><td>--</td><td>2221</td><td>jw02221001001_03101_00001_nrcalong_uncal.fits</td><td>25225920</td><td>90191617</td><td>PUBLIC</td><td>1</td></tr>\n",
       "<tr><td>90111555</td><td>JWST</td><td>image</td><td>jw02221001001_03101_00001_nrcblong</td><td>exposure (L1b): Uncalibrated 4D exposure data</td><td>S</td><td>mast:JWST/product/jw02221001001_03101_00001_nrcblong_uncal.fits</td><td>SCIENCE</td><td>--</td><td>UNCAL</td><td>--</td><td>CALJWST</td><td>--</td><td>2221</td><td>jw02221001001_03101_00001_nrcblong_uncal.fits</td><td>25225920</td><td>90191617</td><td>PUBLIC</td><td>1</td></tr>\n",
       "<tr><td>90103980</td><td>JWST</td><td>image</td><td>jw02221001001_03101_00002_nrcalong</td><td>exposure (L1b): Uncalibrated 4D exposure data</td><td>S</td><td>mast:JWST/product/jw02221001001_03101_00002_nrcalong_uncal.fits</td><td>SCIENCE</td><td>--</td><td>UNCAL</td><td>--</td><td>CALJWST</td><td>--</td><td>2221</td><td>jw02221001001_03101_00002_nrcalong_uncal.fits</td><td>25225920</td><td>90191617</td><td>PUBLIC</td><td>1</td></tr>\n",
       "<tr><td>90112033</td><td>JWST</td><td>image</td><td>jw02221001001_03101_00002_nrcblong</td><td>exposure (L1b): Uncalibrated 4D exposure data</td><td>S</td><td>mast:JWST/product/jw02221001001_03101_00002_nrcblong_uncal.fits</td><td>SCIENCE</td><td>--</td><td>UNCAL</td><td>--</td><td>CALJWST</td><td>--</td><td>2221</td><td>jw02221001001_03101_00002_nrcblong_uncal.fits</td><td>25225920</td><td>90191617</td><td>PUBLIC</td><td>1</td></tr>\n",
       "<tr><td>90107860</td><td>JWST</td><td>image</td><td>jw02221001001_03101_00003_nrcalong</td><td>exposure (L1b): Uncalibrated 4D exposure data</td><td>S</td><td>mast:JWST/product/jw02221001001_03101_00003_nrcalong_uncal.fits</td><td>SCIENCE</td><td>--</td><td>UNCAL</td><td>--</td><td>CALJWST</td><td>--</td><td>2221</td><td>jw02221001001_03101_00003_nrcalong_uncal.fits</td><td>25225920</td><td>90191617</td><td>PUBLIC</td><td>1</td></tr>\n",
       "<tr><td>90112704</td><td>JWST</td><td>image</td><td>jw02221001001_03101_00003_nrcblong</td><td>exposure (L1b): Uncalibrated 4D exposure data</td><td>S</td><td>mast:JWST/product/jw02221001001_03101_00003_nrcblong_uncal.fits</td><td>SCIENCE</td><td>--</td><td>UNCAL</td><td>--</td><td>CALJWST</td><td>--</td><td>2221</td><td>jw02221001001_03101_00003_nrcblong_uncal.fits</td><td>25225920</td><td>90191617</td><td>PUBLIC</td><td>1</td></tr>\n",
       "<tr><td>90104009</td><td>JWST</td><td>image</td><td>jw02221001001_03101_00004_nrcalong</td><td>exposure (L1b): Uncalibrated 4D exposure data</td><td>S</td><td>mast:JWST/product/jw02221001001_03101_00004_nrcalong_uncal.fits</td><td>SCIENCE</td><td>--</td><td>UNCAL</td><td>--</td><td>CALJWST</td><td>--</td><td>2221</td><td>jw02221001001_03101_00004_nrcalong_uncal.fits</td><td>25225920</td><td>90191617</td><td>PUBLIC</td><td>1</td></tr>\n",
       "<tr><td>90112856</td><td>JWST</td><td>image</td><td>jw02221001001_03101_00004_nrcblong</td><td>exposure (L1b): Uncalibrated 4D exposure data</td><td>S</td><td>mast:JWST/product/jw02221001001_03101_00004_nrcblong_uncal.fits</td><td>SCIENCE</td><td>--</td><td>UNCAL</td><td>--</td><td>CALJWST</td><td>--</td><td>2221</td><td>jw02221001001_03101_00004_nrcblong_uncal.fits</td><td>25225920</td><td>90191617</td><td>PUBLIC</td><td>1</td></tr>\n",
       "<tr><td>90107966</td><td>JWST</td><td>image</td><td>jw02221001001_03101_00005_nrcalong</td><td>exposure (L1b): Uncalibrated 4D exposure data</td><td>S</td><td>mast:JWST/product/jw02221001001_03101_00005_nrcalong_uncal.fits</td><td>SCIENCE</td><td>--</td><td>UNCAL</td><td>--</td><td>CALJWST</td><td>--</td><td>2221</td><td>jw02221001001_03101_00005_nrcalong_uncal.fits</td><td>25225920</td><td>90191617</td><td>PUBLIC</td><td>1</td></tr>\n",
       "<tr><td>90111136</td><td>JWST</td><td>image</td><td>jw02221001001_03101_00005_nrcblong</td><td>exposure (L1b): Uncalibrated 4D exposure data</td><td>S</td><td>mast:JWST/product/jw02221001001_03101_00005_nrcblong_uncal.fits</td><td>SCIENCE</td><td>--</td><td>UNCAL</td><td>--</td><td>CALJWST</td><td>--</td><td>2221</td><td>jw02221001001_03101_00005_nrcblong_uncal.fits</td><td>25225920</td><td>90191617</td><td>PUBLIC</td><td>1</td></tr>\n",
       "<tr><td>90107203</td><td>JWST</td><td>image</td><td>jw02221001001_03101_00006_nrcalong</td><td>exposure (L1b): Uncalibrated 4D exposure data</td><td>S</td><td>mast:JWST/product/jw02221001001_03101_00006_nrcalong_uncal.fits</td><td>SCIENCE</td><td>--</td><td>UNCAL</td><td>--</td><td>CALJWST</td><td>--</td><td>2221</td><td>jw02221001001_03101_00006_nrcalong_uncal.fits</td><td>25225920</td><td>90191617</td><td>PUBLIC</td><td>1</td></tr>\n",
       "<tr><td>90114508</td><td>JWST</td><td>image</td><td>jw02221001001_03101_00006_nrcblong</td><td>exposure (L1b): Uncalibrated 4D exposure data</td><td>S</td><td>mast:JWST/product/jw02221001001_03101_00006_nrcblong_uncal.fits</td><td>SCIENCE</td><td>--</td><td>UNCAL</td><td>--</td><td>CALJWST</td><td>--</td><td>2221</td><td>jw02221001001_03101_00006_nrcblong_uncal.fits</td><td>25225920</td><td>90191617</td><td>PUBLIC</td><td>1</td></tr>\n",
       "<tr><td>90104160</td><td>JWST</td><td>image</td><td>jw02221001001_03101_00007_nrcalong</td><td>exposure (L1b): Uncalibrated 4D exposure data</td><td>S</td><td>mast:JWST/product/jw02221001001_03101_00007_nrcalong_uncal.fits</td><td>SCIENCE</td><td>--</td><td>UNCAL</td><td>--</td><td>CALJWST</td><td>--</td><td>2221</td><td>jw02221001001_03101_00007_nrcalong_uncal.fits</td><td>25225920</td><td>90191617</td><td>PUBLIC</td><td>1</td></tr>\n",
       "<tr><td>90111791</td><td>JWST</td><td>image</td><td>jw02221001001_03101_00007_nrcblong</td><td>exposure (L1b): Uncalibrated 4D exposure data</td><td>S</td><td>mast:JWST/product/jw02221001001_03101_00007_nrcblong_uncal.fits</td><td>SCIENCE</td><td>--</td><td>UNCAL</td><td>--</td><td>CALJWST</td><td>--</td><td>2221</td><td>jw02221001001_03101_00007_nrcblong_uncal.fits</td><td>25225920</td><td>90191617</td><td>PUBLIC</td><td>1</td></tr>\n",
       "<tr><td>90104260</td><td>JWST</td><td>image</td><td>jw02221001001_03101_00008_nrcalong</td><td>exposure (L1b): Uncalibrated 4D exposure data</td><td>S</td><td>mast:JWST/product/jw02221001001_03101_00008_nrcalong_uncal.fits</td><td>SCIENCE</td><td>--</td><td>UNCAL</td><td>--</td><td>CALJWST</td><td>--</td><td>2221</td><td>jw02221001001_03101_00008_nrcalong_uncal.fits</td><td>25225920</td><td>90191617</td><td>PUBLIC</td><td>1</td></tr>\n",
       "<tr><td>...</td><td>...</td><td>...</td><td>...</td><td>...</td><td>...</td><td>...</td><td>...</td><td>...</td><td>...</td><td>...</td><td>...</td><td>...</td><td>...</td><td>...</td><td>...</td><td>...</td><td>...</td><td>...</td></tr>\n",
       "<tr><td>129260948</td><td>JWST</td><td>image</td><td>jw02221002002_02201_00001_nrcalong</td><td>exposure (L1b): Uncalibrated 4D exposure data</td><td>S</td><td>mast:JWST/product/jw02221002002_02201_00001_nrcalong_uncal.fits</td><td>SCIENCE</td><td>--</td><td>UNCAL</td><td>--</td><td>CALJWST</td><td>--</td><td>2221</td><td>jw02221002002_02201_00001_nrcalong_uncal.fits</td><td>25225920</td><td>127345652</td><td>EXCLUSIVE_ACCESS</td><td>1</td></tr>\n",
       "<tr><td>129261015</td><td>JWST</td><td>image</td><td>jw02221002002_02201_00001_nrcblong</td><td>exposure (L1b): Uncalibrated 4D exposure data</td><td>S</td><td>mast:JWST/product/jw02221002002_02201_00001_nrcblong_uncal.fits</td><td>SCIENCE</td><td>--</td><td>UNCAL</td><td>--</td><td>CALJWST</td><td>--</td><td>2221</td><td>jw02221002002_02201_00001_nrcblong_uncal.fits</td><td>25225920</td><td>127345652</td><td>EXCLUSIVE_ACCESS</td><td>1</td></tr>\n",
       "<tr><td>129260983</td><td>JWST</td><td>image</td><td>jw02221002002_02201_00002_nrcalong</td><td>exposure (L1b): Uncalibrated 4D exposure data</td><td>S</td><td>mast:JWST/product/jw02221002002_02201_00002_nrcalong_uncal.fits</td><td>SCIENCE</td><td>--</td><td>UNCAL</td><td>--</td><td>CALJWST</td><td>--</td><td>2221</td><td>jw02221002002_02201_00002_nrcalong_uncal.fits</td><td>25225920</td><td>127345652</td><td>EXCLUSIVE_ACCESS</td><td>1</td></tr>\n",
       "<tr><td>129260867</td><td>JWST</td><td>image</td><td>jw02221002002_02201_00002_nrcblong</td><td>exposure (L1b): Uncalibrated 4D exposure data</td><td>S</td><td>mast:JWST/product/jw02221002002_02201_00002_nrcblong_uncal.fits</td><td>SCIENCE</td><td>--</td><td>UNCAL</td><td>--</td><td>CALJWST</td><td>--</td><td>2221</td><td>jw02221002002_02201_00002_nrcblong_uncal.fits</td><td>25225920</td><td>127345652</td><td>EXCLUSIVE_ACCESS</td><td>1</td></tr>\n",
       "<tr><td>129272101</td><td>JWST</td><td>image</td><td>jw02221002002_02201_00003_nrcalong</td><td>exposure (L1b): Uncalibrated 4D exposure data</td><td>S</td><td>mast:JWST/product/jw02221002002_02201_00003_nrcalong_uncal.fits</td><td>SCIENCE</td><td>--</td><td>UNCAL</td><td>--</td><td>CALJWST</td><td>--</td><td>2221</td><td>jw02221002002_02201_00003_nrcalong_uncal.fits</td><td>25225920</td><td>127345652</td><td>EXCLUSIVE_ACCESS</td><td>1</td></tr>\n",
       "<tr><td>129272023</td><td>JWST</td><td>image</td><td>jw02221002002_02201_00003_nrcblong</td><td>exposure (L1b): Uncalibrated 4D exposure data</td><td>S</td><td>mast:JWST/product/jw02221002002_02201_00003_nrcblong_uncal.fits</td><td>SCIENCE</td><td>--</td><td>UNCAL</td><td>--</td><td>CALJWST</td><td>--</td><td>2221</td><td>jw02221002002_02201_00003_nrcblong_uncal.fits</td><td>25225920</td><td>127345652</td><td>EXCLUSIVE_ACCESS</td><td>1</td></tr>\n",
       "<tr><td>129263253</td><td>JWST</td><td>image</td><td>jw02221002002_02201_00004_nrcalong</td><td>exposure (L1b): Uncalibrated 4D exposure data</td><td>S</td><td>mast:JWST/product/jw02221002002_02201_00004_nrcalong_uncal.fits</td><td>SCIENCE</td><td>--</td><td>UNCAL</td><td>--</td><td>CALJWST</td><td>--</td><td>2221</td><td>jw02221002002_02201_00004_nrcalong_uncal.fits</td><td>25225920</td><td>127345652</td><td>EXCLUSIVE_ACCESS</td><td>1</td></tr>\n",
       "<tr><td>129263219</td><td>JWST</td><td>image</td><td>jw02221002002_02201_00004_nrcblong</td><td>exposure (L1b): Uncalibrated 4D exposure data</td><td>S</td><td>mast:JWST/product/jw02221002002_02201_00004_nrcblong_uncal.fits</td><td>SCIENCE</td><td>--</td><td>UNCAL</td><td>--</td><td>CALJWST</td><td>--</td><td>2221</td><td>jw02221002002_02201_00004_nrcblong_uncal.fits</td><td>25225920</td><td>127345652</td><td>EXCLUSIVE_ACCESS</td><td>1</td></tr>\n",
       "<tr><td>129272072</td><td>JWST</td><td>image</td><td>jw02221002002_08201_00001_nrcalong</td><td>exposure (L1b): Uncalibrated 4D exposure data</td><td>S</td><td>mast:JWST/product/jw02221002002_08201_00001_nrcalong_uncal.fits</td><td>SCIENCE</td><td>--</td><td>UNCAL</td><td>--</td><td>CALJWST</td><td>--</td><td>2221</td><td>jw02221002002_08201_00001_nrcalong_uncal.fits</td><td>25225920</td><td>127345652</td><td>EXCLUSIVE_ACCESS</td><td>1</td></tr>\n",
       "<tr><td>129271995</td><td>JWST</td><td>image</td><td>jw02221002002_08201_00001_nrcblong</td><td>exposure (L1b): Uncalibrated 4D exposure data</td><td>S</td><td>mast:JWST/product/jw02221002002_08201_00001_nrcblong_uncal.fits</td><td>SCIENCE</td><td>--</td><td>UNCAL</td><td>--</td><td>CALJWST</td><td>--</td><td>2221</td><td>jw02221002002_08201_00001_nrcblong_uncal.fits</td><td>25225920</td><td>127345652</td><td>EXCLUSIVE_ACCESS</td><td>1</td></tr>\n",
       "<tr><td>129272042</td><td>JWST</td><td>image</td><td>jw02221002002_08201_00002_nrcalong</td><td>exposure (L1b): Uncalibrated 4D exposure data</td><td>S</td><td>mast:JWST/product/jw02221002002_08201_00002_nrcalong_uncal.fits</td><td>SCIENCE</td><td>--</td><td>UNCAL</td><td>--</td><td>CALJWST</td><td>--</td><td>2221</td><td>jw02221002002_08201_00002_nrcalong_uncal.fits</td><td>25225920</td><td>127345652</td><td>EXCLUSIVE_ACCESS</td><td>1</td></tr>\n",
       "<tr><td>129272014</td><td>JWST</td><td>image</td><td>jw02221002002_08201_00002_nrcblong</td><td>exposure (L1b): Uncalibrated 4D exposure data</td><td>S</td><td>mast:JWST/product/jw02221002002_08201_00002_nrcblong_uncal.fits</td><td>SCIENCE</td><td>--</td><td>UNCAL</td><td>--</td><td>CALJWST</td><td>--</td><td>2221</td><td>jw02221002002_08201_00002_nrcblong_uncal.fits</td><td>25225920</td><td>127345652</td><td>EXCLUSIVE_ACCESS</td><td>1</td></tr>\n",
       "<tr><td>129272100</td><td>JWST</td><td>image</td><td>jw02221002002_08201_00003_nrcalong</td><td>exposure (L1b): Uncalibrated 4D exposure data</td><td>S</td><td>mast:JWST/product/jw02221002002_08201_00003_nrcalong_uncal.fits</td><td>SCIENCE</td><td>--</td><td>UNCAL</td><td>--</td><td>CALJWST</td><td>--</td><td>2221</td><td>jw02221002002_08201_00003_nrcalong_uncal.fits</td><td>25225920</td><td>127345652</td><td>EXCLUSIVE_ACCESS</td><td>1</td></tr>\n",
       "<tr><td>129272011</td><td>JWST</td><td>image</td><td>jw02221002002_08201_00003_nrcblong</td><td>exposure (L1b): Uncalibrated 4D exposure data</td><td>S</td><td>mast:JWST/product/jw02221002002_08201_00003_nrcblong_uncal.fits</td><td>SCIENCE</td><td>--</td><td>UNCAL</td><td>--</td><td>CALJWST</td><td>--</td><td>2221</td><td>jw02221002002_08201_00003_nrcblong_uncal.fits</td><td>25225920</td><td>127345652</td><td>EXCLUSIVE_ACCESS</td><td>1</td></tr>\n",
       "<tr><td>129272069</td><td>JWST</td><td>image</td><td>jw02221002002_08201_00004_nrcalong</td><td>exposure (L1b): Uncalibrated 4D exposure data</td><td>S</td><td>mast:JWST/product/jw02221002002_08201_00004_nrcalong_uncal.fits</td><td>SCIENCE</td><td>--</td><td>UNCAL</td><td>--</td><td>CALJWST</td><td>--</td><td>2221</td><td>jw02221002002_08201_00004_nrcalong_uncal.fits</td><td>25225920</td><td>127345652</td><td>EXCLUSIVE_ACCESS</td><td>1</td></tr>\n",
       "<tr><td>129272089</td><td>JWST</td><td>image</td><td>jw02221002002_08201_00004_nrcblong</td><td>exposure (L1b): Uncalibrated 4D exposure data</td><td>S</td><td>mast:JWST/product/jw02221002002_08201_00004_nrcblong_uncal.fits</td><td>SCIENCE</td><td>--</td><td>UNCAL</td><td>--</td><td>CALJWST</td><td>--</td><td>2221</td><td>jw02221002002_08201_00004_nrcblong_uncal.fits</td><td>25225920</td><td>127345652</td><td>EXCLUSIVE_ACCESS</td><td>1</td></tr>\n",
       "</table></div>"
      ],
      "text/plain": [
       "<Table masked=True length=80>\n",
       "  obsID   obs_collection dataproduct_type               obs_id               ...   size   parent_obsid    dataRights    calib_level\n",
       "   str9        str4            str5                     str36                ...  int64       str9          str16          int64   \n",
       "--------- -------------- ---------------- ---------------------------------- ... -------- ------------ ---------------- -----------\n",
       " 90106375           JWST            image jw02221001001_03101_00001_nrcalong ... 25225920     90191617           PUBLIC           1\n",
       " 90111555           JWST            image jw02221001001_03101_00001_nrcblong ... 25225920     90191617           PUBLIC           1\n",
       " 90103980           JWST            image jw02221001001_03101_00002_nrcalong ... 25225920     90191617           PUBLIC           1\n",
       " 90112033           JWST            image jw02221001001_03101_00002_nrcblong ... 25225920     90191617           PUBLIC           1\n",
       " 90107860           JWST            image jw02221001001_03101_00003_nrcalong ... 25225920     90191617           PUBLIC           1\n",
       " 90112704           JWST            image jw02221001001_03101_00003_nrcblong ... 25225920     90191617           PUBLIC           1\n",
       " 90104009           JWST            image jw02221001001_03101_00004_nrcalong ... 25225920     90191617           PUBLIC           1\n",
       " 90112856           JWST            image jw02221001001_03101_00004_nrcblong ... 25225920     90191617           PUBLIC           1\n",
       " 90107966           JWST            image jw02221001001_03101_00005_nrcalong ... 25225920     90191617           PUBLIC           1\n",
       " 90111136           JWST            image jw02221001001_03101_00005_nrcblong ... 25225920     90191617           PUBLIC           1\n",
       " 90107203           JWST            image jw02221001001_03101_00006_nrcalong ... 25225920     90191617           PUBLIC           1\n",
       " 90114508           JWST            image jw02221001001_03101_00006_nrcblong ... 25225920     90191617           PUBLIC           1\n",
       " 90104160           JWST            image jw02221001001_03101_00007_nrcalong ... 25225920     90191617           PUBLIC           1\n",
       " 90111791           JWST            image jw02221001001_03101_00007_nrcblong ... 25225920     90191617           PUBLIC           1\n",
       " 90104260           JWST            image jw02221001001_03101_00008_nrcalong ... 25225920     90191617           PUBLIC           1\n",
       "      ...            ...              ...                                ... ...      ...          ...              ...         ...\n",
       "129260948           JWST            image jw02221002002_02201_00001_nrcalong ... 25225920    127345652 EXCLUSIVE_ACCESS           1\n",
       "129261015           JWST            image jw02221002002_02201_00001_nrcblong ... 25225920    127345652 EXCLUSIVE_ACCESS           1\n",
       "129260983           JWST            image jw02221002002_02201_00002_nrcalong ... 25225920    127345652 EXCLUSIVE_ACCESS           1\n",
       "129260867           JWST            image jw02221002002_02201_00002_nrcblong ... 25225920    127345652 EXCLUSIVE_ACCESS           1\n",
       "129272101           JWST            image jw02221002002_02201_00003_nrcalong ... 25225920    127345652 EXCLUSIVE_ACCESS           1\n",
       "129272023           JWST            image jw02221002002_02201_00003_nrcblong ... 25225920    127345652 EXCLUSIVE_ACCESS           1\n",
       "129263253           JWST            image jw02221002002_02201_00004_nrcalong ... 25225920    127345652 EXCLUSIVE_ACCESS           1\n",
       "129263219           JWST            image jw02221002002_02201_00004_nrcblong ... 25225920    127345652 EXCLUSIVE_ACCESS           1\n",
       "129272072           JWST            image jw02221002002_08201_00001_nrcalong ... 25225920    127345652 EXCLUSIVE_ACCESS           1\n",
       "129271995           JWST            image jw02221002002_08201_00001_nrcblong ... 25225920    127345652 EXCLUSIVE_ACCESS           1\n",
       "129272042           JWST            image jw02221002002_08201_00002_nrcalong ... 25225920    127345652 EXCLUSIVE_ACCESS           1\n",
       "129272014           JWST            image jw02221002002_08201_00002_nrcblong ... 25225920    127345652 EXCLUSIVE_ACCESS           1\n",
       "129272100           JWST            image jw02221002002_08201_00003_nrcalong ... 25225920    127345652 EXCLUSIVE_ACCESS           1\n",
       "129272011           JWST            image jw02221002002_08201_00003_nrcblong ... 25225920    127345652 EXCLUSIVE_ACCESS           1\n",
       "129272069           JWST            image jw02221002002_08201_00004_nrcalong ... 25225920    127345652 EXCLUSIVE_ACCESS           1\n",
       "129272089           JWST            image jw02221002002_08201_00004_nrcblong ... 25225920    127345652 EXCLUSIVE_ACCESS           1"
      ]
     },
     "execution_count": 8,
     "metadata": {},
     "output_type": "execute_result"
    }
   ],
   "source": [
    "products_fits[(products_fits['productType'] == 'SCIENCE') & np.array([uri.endswith('_uncal.fits') for uri in products_fits['dataURI']])]"
   ]
  },
  {
   "cell_type": "code",
   "execution_count": 9,
   "id": "d68222ce-8156-427f-bf97-130111c57ee5",
   "metadata": {},
   "outputs": [],
   "source": [
    "from align_to_catalogs import retrieve_vvv"
   ]
  },
  {
   "cell_type": "code",
   "execution_count": 2,
   "id": "7bba1e7c-8368-442c-9cfb-89e8da92e673",
   "metadata": {
    "collapsed": true,
    "jupyter": {
     "outputs_hidden": true
    },
    "tags": []
   },
   "outputs": [
    {
     "name": "stderr",
     "output_type": "stream",
     "text": [
      "WARNING: VerifyWarning: Keyword name 'description' is greater than 8 characters or contains characters not allowed by the FITS standard; a HIERARCH card will be created. [astropy.io.fits.card]\n"
     ]
    },
    {
     "data": {
      "text/plain": [
       "(<SkyCoord (FK5: equinox=J2000.000): (ra, dec) in deg\n",
       "     [(266.581129, -28.666482), (266.594517, -28.666434),\n",
       "      (266.604305, -28.663877), ..., (266.555803, -28.513283),\n",
       "      (266.560494, -28.514834), (266.559398, -28.51401 )]>,\n",
       " <Table length=9945>\n",
       "  RAJ2000    DEJ2000           iauname          mClass  Zmag3   e_Zmag3   Zperrbits  Ymag3  e_Ymag3  ...  Hmag3  e_Hmag3  Hperrbits  Ksmag3 e_Ksmag3 Ksperrbits     RA        DEC            skycoord      \n",
       "    deg        deg                                       mag      mag                 mag     mag    ...   mag     mag                mag     mag                  deg        deg            deg,deg       \n",
       "  float64    float64            str24           int16  float32  float64     int32   float64 float64  ... float64 float64    int32   float64 float64    int32     float64    float64          SkyCoord      \n",
       " ---------- ---------- ------------------------ ------ ------- ---------- --------- ------- -------- ... ------- -------- --------- ------- -------- ---------- ---------- ---------- ---------------------\n",
       " 266.581129 -28.666482 VVV J174619.47-283959.33     -1  19.834      0.213         0  18.378    0.095 ...      --       --         0      --       --          0 266.581129 -28.666482 266.581129,-28.666482\n",
       " 266.594517 -28.666434 VVV J174622.68-283959.16     -1  19.698      0.186         0  17.913    0.063 ...  14.765    0.028        16  13.780    0.032         16 266.594517 -28.666434 266.594517,-28.666434\n",
       " 266.604305 -28.663877 VVV J174625.03-283949.95      1  19.802      0.203         0  19.139    0.195 ...      --       --         0      --       --          0 266.604305 -28.663877 266.604305,-28.663877\n",
       " 266.591641 -28.659914 VVV J174621.99-283935.68     -2  17.080      0.019        16  16.666    0.021 ...  15.239    0.043        16  14.557    0.066         16 266.591641 -28.659914 266.591641,-28.659914\n",
       " 266.594249 -28.659873 VVV J174622.61-283935.54     -1  16.533      0.013        16  16.252    0.015 ...  14.908    0.032         0      --       --          0 266.594249 -28.659873 266.594249,-28.659873\n",
       " 266.596891 -28.657571 VVV J174623.25-283927.25      1  19.783      0.201         0  19.503    0.267 ...      --       --         0      --       --          0 266.596891 -28.657571 266.596891,-28.657571\n",
       " 266.592115 -28.663610 VVV J174622.10-283948.99      1  19.429      0.146         0  18.921    0.157 ...      --       --         0      --       --          0 266.592115 -28.663610  266.592115,-28.66361\n",
       " 266.596359 -28.665611 VVV J174623.12-283956.20     -1  18.001      0.041         0  16.417    0.017 ...  13.448    0.009        16  12.555    0.011         16 266.596359 -28.665611 266.596359,-28.665611\n",
       " 266.595743 -28.663933 VVV J174622.97-283950.15     -1  18.288      0.053         0  17.738    0.054 ...  16.486    0.135         0      --       --          0 266.595743 -28.663933 266.595743,-28.663933\n",
       " 266.599595 -28.659911 VVV J174623.90-283935.67     -1  12.426      0.001         0  11.403    0.001 ...   9.421    0.001     65552      --       --          0 266.599595 -28.659911 266.599595,-28.659911\n",
       " 266.587911 -28.662759 VVV J174621.09-283945.93     -1  19.705      0.188         0  18.984    0.165 ...      --       --         0      --       --          0 266.587911 -28.662759 266.587911,-28.662759\n",
       " 266.588618 -28.666039 VVV J174621.26-283957.73     -1  16.027      0.009         0  15.728    0.010 ...  14.780    0.028         0  14.263    0.050          0 266.588618 -28.666039 266.588618,-28.666039\n",
       " 266.586247 -28.665907 VVV J174620.69-283957.26     -2  19.545      0.163         0  19.112    0.186 ...      --       --         0      --       --          0 266.586247 -28.665907 266.586247,-28.665907\n",
       " 266.586009 -28.664312 VVV J174620.64-283951.52     -1  17.429      0.026         0  16.919    0.026 ...  15.458    0.053         0  15.029    0.102         16 266.586009 -28.664312 266.586009,-28.664312\n",
       " 266.590792 -28.661108 VVV J174621.79-283939.98     -1  18.478      0.063         0  17.577    0.047 ...  15.866    0.077        16      --       --          0 266.590792 -28.661108 266.590792,-28.661108\n",
       " 266.597314 -28.660773 VVV J174623.35-283938.78      1  19.331      0.134         0  18.036    0.071 ...  15.616    0.061        16  15.342    0.135         16 266.597314 -28.660773 266.597314,-28.660773\n",
       " 266.585033 -28.663071 VVV J174620.40-283947.05     -1  17.273      0.023         0  16.668    0.021 ...  15.135    0.039        16  14.477    0.061         16 266.585033 -28.663071 266.585033,-28.663071\n",
       " 266.587969 -28.659972 VVV J174621.11-283935.89     -1  19.087      0.108         0  17.862    0.060 ...  15.565    0.058         0  15.201    0.119         16 266.587969 -28.659972 266.587969,-28.659972\n",
       " 266.606888 -28.667453 VVV J174625.65-284002.83     -1  15.775      0.007         0  15.441    0.008 ...  14.465    0.021        16  13.950    0.037         16 266.606888 -28.667453 266.606888,-28.667453\n",
       " 266.592309 -28.657008 VVV J174622.15-283925.23     -1  10.249      0.001     65552   9.939    0.001 ...   9.001    0.001     65552   9.100    0.001      65552 266.592309 -28.657008 266.592309,-28.657008\n",
       " 266.598855 -28.657307 VVV J174623.72-283926.30      1      --         --         0      --       -- ...  16.103    0.095         0  14.184    0.047         16 266.598855 -28.657307 266.598855,-28.657307\n",
       " 266.590135 -28.659017 VVV J174621.63-283932.46      1  17.900      0.038        16  17.069    0.030 ...      --       --         0      --       --          0 266.590135 -28.659017 266.590135,-28.659017\n",
       " 266.594639 -28.658206 VVV J174622.71-283929.54      1  17.618      0.030        16  17.316    0.037 ...  16.339    0.118         0  14.910    0.091          0 266.594639 -28.658206 266.594639,-28.658206\n",
       "        ...        ...                      ...    ...     ...        ...       ...     ...      ... ...     ...      ...       ...     ...      ...        ...        ...        ...                   ...\n",
       " 266.553269 -28.518855 VVV J174612.78-283107.87     -1      --         --         0      --       -- ...  14.432    0.021        16  12.938    0.015         16 266.553269 -28.518855 266.553269,-28.518855\n",
       " 266.558297 -28.516544 VVV J174613.99-283059.55     -1      --         --         0      --       -- ...  14.313    0.018        16  12.801    0.013         16 266.558297 -28.516544 266.558297,-28.516544\n",
       " 266.556025 -28.514961 VVV J174613.44-283053.86      0      --         --         0      --       -- ...      --       --         0      --       --          0 266.556025 -28.514961 266.556025,-28.514961\n",
       " 266.553959 -28.512955 VVV J174612.95-283046.63      1      --         --         0      --       -- ...  15.608    0.060         0  14.462    0.061         16 266.553959 -28.512955 266.553959,-28.512955\n",
       " 266.557039 -28.516025 VVV J174613.68-283057.68      1      --         --         0      --       -- ...  15.080    0.037         0  13.653    0.029         16 266.557039 -28.516025 266.557039,-28.516025\n",
       " 266.553825 -28.516370 VVV J174612.91-283058.93     -1      --         --         0      --       -- ...  14.367    0.019        16      --       --          0 266.553825 -28.516370  266.553825,-28.51637\n",
       " 266.554886 -28.519588 VVV J174613.17-283110.51     -1      --         --         0      --       -- ...  14.131    0.016        16  12.771    0.013         16 266.554886 -28.519588 266.554886,-28.519588\n",
       " 266.556013 -28.514959 VVV J174613.44-283053.85      1      --         --         0      --       -- ...      --       --         0  11.538    0.004         16 266.556013 -28.514959 266.556013,-28.514959\n",
       " 266.557574 -28.514656 VVV J174613.81-283052.76     -2      --         --         0      --       -- ...      --       --         0  12.054    0.007         16 266.557574 -28.514656 266.557574,-28.514656\n",
       " 266.558319 -28.513344 VVV J174613.99-283048.03     -1      --         --         0      --       -- ...  16.355    0.119        16  14.858    0.088         16 266.558319 -28.513344 266.558319,-28.513344\n",
       " 266.561644 -28.512861 VVV J174614.79-283046.29     -1      --         --         0      --       -- ...  16.047    0.090         0  14.795    0.083         16 266.561644 -28.512861 266.561644,-28.512861\n",
       " 266.553364 -28.513896 VVV J174612.80-283050.02     -1      --         --         0      --       -- ...  17.470    0.333         0  15.774    0.203          0 266.553364 -28.513896 266.553364,-28.513896\n",
       " 266.559312 -28.513041 VVV J174614.23-283046.94     -1      --         --         0      --       -- ...  17.060    0.228         0  15.755    0.200          0 266.559312 -28.513041 266.559312,-28.513041\n",
       " 266.553792 -28.517143 VVV J174612.91-283101.71     -1      --         --         0      --       -- ...  16.209    0.104         0  15.007    0.100          0 266.553792 -28.517143 266.553792,-28.517143\n",
       " 266.554725 -28.520504 VVV J174613.13-283113.81     -1      --         --         0      --       -- ...  17.459    0.329         0  15.550    0.165          0 266.554725 -28.520504 266.554725,-28.520504\n",
       " 266.559430 -28.514934 VVV J174614.26-283053.76     -1      --         --         0      --       -- ...  16.838    0.186        16      --       --          0 266.559430 -28.514934  266.55943,-28.514934\n",
       " 266.557265 -28.516724 VVV J174613.74-283100.20     -1      --         --         0      --       -- ...  16.785    0.177         0  15.327    0.135          0 266.557265 -28.516724 266.557265,-28.516724\n",
       " 266.555460 -28.517331 VVV J174613.31-283102.39     -1      --         --         0      --       -- ...  15.418    0.051        16      --       --          0 266.555460 -28.517331  266.55546,-28.517331\n",
       " 266.553644 -28.518782 VVV J174612.87-283107.61      1      --         --         0      --       -- ...  14.370    0.019        16  12.923    0.015         16 266.553644 -28.518782 266.553644,-28.518782\n",
       " 266.561040 -28.513635 VVV J174614.64-283049.08      0      --         --         0      --       -- ...      --       --         0  17.540    1.034          0 266.561040 -28.513635  266.56104,-28.513635\n",
       " 266.556982 -28.514317 VVV J174613.67-283051.54      1      --         --         0      --       -- ...      --       --         0  12.673    0.012         16 266.556982 -28.514317 266.556982,-28.514317\n",
       " 266.555803 -28.513283 VVV J174613.39-283047.81     -1      --         --         0      --       -- ...      --       --         0  12.779    0.013         16 266.555803 -28.513283 266.555803,-28.513283\n",
       " 266.560494 -28.514834 VVV J174614.51-283053.40     -1      --         --         0      --       -- ...      --       --         0  16.794    0.520          0 266.560494 -28.514834 266.560494,-28.514834\n",
       " 266.559398 -28.514010 VVV J174614.25-283050.43     -1      --         --         0      --       -- ...      --       --         0  16.780    0.513          0 266.559398 -28.514010  266.559398,-28.51401)"
      ]
     },
     "execution_count": 2,
     "metadata": {},
     "output_type": "execute_result"
    }
   ],
   "source": [
    "retrieve_vvv(\n",
    "    basepath = '/orange/adamginsburg/jwst/cloudc/',\n",
    "    filtername = 'f405n',\n",
    "    module = 'merged',\n",
    "    imfile = None,\n",
    "    catfile = None,\n",
    "    fov_regname='regions/nircam_cloudc_fov.reg',\n",
    "    fieldnumber='002',\n",
    ")"
   ]
  },
  {
   "cell_type": "code",
   "execution_count": 9,
   "id": "6435670d-a4ce-4d1f-8485-a37694dfc97f",
   "metadata": {},
   "outputs": [
    {
     "ename": "NameError",
     "evalue": "name 'member' is not defined",
     "output_type": "error",
     "traceback": [
      "\u001b[0;31m---------------------------------------------------------------------------\u001b[0m",
      "\u001b[0;31mNameError\u001b[0m                                 Traceback (most recent call last)",
      "Cell \u001b[0;32mIn[9], line 1\u001b[0m\n\u001b[0;32m----> 1\u001b[0m \u001b[43mmember\u001b[49m[\u001b[38;5;124m'\u001b[39m\u001b[38;5;124mexpname\u001b[39m\u001b[38;5;124m'\u001b[39m]\n",
      "\u001b[0;31mNameError\u001b[0m: name 'member' is not defined"
     ]
    }
   ],
   "source": [
    "#member['expname']"
   ]
  },
  {
   "cell_type": "code",
   "execution_count": 10,
   "id": "119674e2-3fb4-48a5-9854-9ec0af085f31",
   "metadata": {},
   "outputs": [],
   "source": [
    "import shutil\n",
    "from align_to_catalogs import realign_to_vvv, realign_to_catalog, merge_a_plus_b, retrieve_vvv\n"
   ]
  },
  {
   "cell_type": "code",
   "execution_count": 7,
   "id": "6cdf62c2-6b47-4638-b562-31565339d93f",
   "metadata": {},
   "outputs": [
    {
     "name": "stdout",
     "output_type": "stream",
     "text": [
      "INFO: Kept 7752 out of 9945 VVV stars using ksmag_limit>11 [align_to_catalogs]\n",
      "INFO: For f405n merged 002 catalog /orange/adamginsburg/jwst/cloudc//F405N/pipeline/jw02221-o002_t001_nircam_clear-f405n-merged_cat.ecsv, found 9395 of 19507 sources meeting criteria mag<15 [align_to_catalogs]\n",
      "2023-07-20T14:26:15.739478: Before realignment, offset is -0.005937815103607136 arcsec, -0.01007643522541457 arcsec.  Found 319 matches.\n",
      "2023-07-20T14:26:15.746149: CRVAL before 266.5870709048492 -28.59030752349884\n",
      "2023-07-20T14:26:15.751861: CRVAL after 266.58707255424 -28.590304724489\n",
      "2023-07-20T14:26:16.012553: After realignment, offset is -0.015492051852561417 arcsec, -0.005075601654169759 arcsec with 320 mathces\n",
      "2023-07-20T14:26:16.054517: After re-realignment, offset is -0.015492051852561417 arcsec, -0.005075601654169759 arcsec using 320 matches\n"
     ]
    }
   ],
   "source": [
    "realigned_vvv_filename = '/orange/adamginsburg/jwst/cloudc/F405N/pipeline/jw02221-o002_t001_nircam_clear-f405n-merged_realigned-to-vvv.fits'\n",
    "#f'{basepath}/{filtername.upper()}/pipeline/jw02221-o{field}_t001_nircam_clear-{filtername.lower()}-{module}_realigned-to-vvv.fits'\n",
    "#shutil.copy(f'{basepath}/{filtername.upper()}/pipeline/jw02221-o{field}_t001_nircam_clear-{filtername.lower()}-{module}_i2d.fits',\n",
    "#            realigned_vvv_filename)\n",
    "shutil.copy('/orange/adamginsburg/jwst/cloudc/F405N/pipeline/jw02221-o002_t001_nircam_clear-f405n-merged_i2d.fits', realigned_vvv_filename)\n",
    "filtername='f405n'\n",
    "realigned = realign_to_vvv(filtername=filtername, fov_regname='regions/nircam_cloudc_fov.reg', basepath='/orange/adamginsburg/jwst/cloudc/', module='merged', fieldnumber='002',\n",
    "                           imfile=realigned_vvv_filename, ksmag_limit=15 if filtername=='f410m' else 11, mag_limit=15)"
   ]
  },
  {
   "cell_type": "code",
   "execution_count": null,
   "id": "d83d834e-ee5d-4f77-8e6d-579db32aa87b",
   "metadata": {},
   "outputs": [],
   "source": []
  },
  {
   "cell_type": "code",
   "execution_count": null,
   "id": "e73fd709-5256-4234-a854-883f6d9dce3e",
   "metadata": {},
   "outputs": [],
   "source": []
  },
  {
   "cell_type": "code",
   "execution_count": 3,
   "id": "8cd1b5a9-bdd3-49cc-83c5-622ca5b19862",
   "metadata": {},
   "outputs": [],
   "source": [
    "from align_to_catalogs import realign_to_vvv, merge_a_plus_b, retrieve_vvv\n"
   ]
  },
  {
   "cell_type": "code",
   "execution_count": 87,
   "id": "c3b7ee54-643b-4086-a9e0-fae79e5eb940",
   "metadata": {},
   "outputs": [],
   "source": [
    "fov_regname = {'brick': 'regions/nircam_brick_fov.reg',\n",
    "              'cloudc': 'regions/nircam_cloudc_fov.reg',\n",
    "              }\n",
    "regionname = 'cloudc'\n",
    "basepath = f'/orange/adamginsburg/jwst/{regionname}/'\n",
    "filtername = 'F405N'\n",
    "field = '002' \n",
    "module = 'nrca'\n",
    "output_dir = f'/orange/adamginsburg/jwst/{regionname}/{filtername}/pipeline/'"
   ]
  },
  {
   "cell_type": "code",
   "execution_count": 88,
   "id": "c1f4474d-1ca7-4b7e-a7e9-090cd1b90637",
   "metadata": {},
   "outputs": [],
   "source": [
    "fwhm_tbl = Table.read(f'{basepath}/reduction/fwhm_table.ecsv')\n",
    "row = fwhm_tbl[fwhm_tbl['Filter'] == filtername]\n",
    "fwhm = fwhm_arcsec = float(row['PSF FWHM (arcsec)'][0])\n",
    "fwhm_pix = float(row['PSF FWHM (pixel)'][0])"
   ]
  },
  {
   "cell_type": "code",
   "execution_count": 89,
   "id": "34815f23-9365-4b72-8a10-f938e0ee26f3",
   "metadata": {},
   "outputs": [
    {
     "name": "stdout",
     "output_type": "stream",
     "text": [
      "2023-09-06T15:42:36.267652: Searching for /orange/adamginsburg/jwst/cloudc/F405N/pipeline/jw02221-o002*_image3_*0[0-9][0-9]_asn.json\n",
      "2023-09-06T15:42:36.271284: Found multiple asn files: ['/orange/adamginsburg/jwst/cloudc/F405N/pipeline/jw02221-o002_20230725t121309_image3_00005_asn.json', '/orange/adamginsburg/jwst/cloudc/F405N/pipeline/jw02221-o002_20230410t190607_image3_00004_asn.json', '/orange/adamginsburg/jwst/cloudc/F405N/pipeline/jw02221-o002_20230622t004213_image3_00004_asn.json'].  Using the more recent one, /orange/adamginsburg/jwst/cloudc/F405N/pipeline/jw02221-o002_20230725t121309_image3_00005_asn.json.\n"
     ]
    }
   ],
   "source": [
    "print(f\"Searching for {os.path.join(output_dir, f'jw02221-o{field}*_image3_*0[0-9][0-9]_asn.json')}\")\n",
    "asn_file_search = glob(os.path.join(output_dir, f'jw02221-o{field}*_image3_*0[0-9][0-9]_asn.json'))\n",
    "if len(asn_file_search) == 1:\n",
    "    asn_file = asn_file_search[0]\n",
    "elif len(asn_file_search) > 1:\n",
    "    asn_file = sorted(asn_file_search)[-1]\n",
    "    print(f\"Found multiple asn files: {asn_file_search}.  Using the more recent one, {asn_file}.\")\n",
    "else:\n",
    "    raise ValueError(f\"Mismatch: Did not find any asn files for module {module} for field {field} in {output_dir}\")"
   ]
  },
  {
   "cell_type": "code",
   "execution_count": 90,
   "id": "f25d2460-6a2a-44f2-a4b8-f4730225889c",
   "metadata": {
    "tags": []
   },
   "outputs": [
    {
     "data": {
      "text/plain": [
       "'/orange/adamginsburg/jwst/cloudc/F405N/pipeline/jw02221-o002_20230725t121309_image3_00005_asn.json'"
      ]
     },
     "execution_count": 90,
     "metadata": {},
     "output_type": "execute_result"
    }
   ],
   "source": [
    "asn_file"
   ]
  },
  {
   "cell_type": "code",
   "execution_count": 91,
   "id": "249cb1e8-8f45-41d3-9899-85be5cc86fd8",
   "metadata": {},
   "outputs": [
    {
     "data": {
      "text/plain": [
       "['/orange/adamginsburg/jwst/cloudc/F405N/pipeline/jw02221-o002_20230725t121309_image3_00005_asn.json',\n",
       " '/orange/adamginsburg/jwst/cloudc/F405N/pipeline/jw02221-o002_20230410t190607_image3_00004_asn.json',\n",
       " '/orange/adamginsburg/jwst/cloudc/F405N/pipeline/jw02221-o002_20230622t004213_image3_00004_asn.json']"
      ]
     },
     "execution_count": 91,
     "metadata": {},
     "output_type": "execute_result"
    }
   ],
   "source": [
    "asn_file_search"
   ]
  },
  {
   "cell_type": "code",
   "execution_count": 92,
   "id": "f5818065-32a6-4bd5-a131-60014ba1e807",
   "metadata": {
    "tags": []
   },
   "outputs": [
    {
     "name": "stdout",
     "output_type": "stream",
     "text": [
      "2023-09-06T15:42:37.255701: Mapping: [('NRC_IMAGE', 'F070W', 'CLEAR', '2000-01-01 00:00:00', 'jwst_nircam_pars-tweakregstep_0030.asdf'), ('NRC_IMAGE', 'F090W', 'CLEAR', '2000-01-01 00:00:00', 'jwst_nircam_pars-tweakregstep_0046.asdf'), ('NRC_IMAGE', 'F115W', 'CLEAR', '2000-01-01 00:00:00', 'jwst_nircam_pars-tweakregstep_0039.asdf'), ('NRC_IMAGE', 'F140M', 'CLEAR', '2000-01-01 00:00:00', 'jwst_nircam_pars-tweakregstep_0034.asdf'), ('NRC_IMAGE', 'F150W', 'CLEAR', '2000-01-01 00:00:00', 'jwst_nircam_pars-tweakregstep_0041.asdf'), ('NRC_IMAGE', 'F150W2', 'CLEAR', '2000-01-01 00:00:00', 'jwst_nircam_pars-tweakregstep_0050.asdf'), ('NRC_IMAGE', 'F150W2', 'F162M', '2000-01-01 00:00:00', 'jwst_nircam_pars-tweakregstep_0055.asdf'), ('NRC_IMAGE', 'F150W2', 'F164N', '2000-01-01 00:00:00', 'jwst_nircam_pars-tweakregstep_0033.asdf'), ('NRC_IMAGE', 'F182M', 'CLEAR', '2000-01-01 00:00:00', 'jwst_nircam_pars-tweakregstep_0047.asdf'), ('NRC_IMAGE', 'F187N', 'CLEAR', '2000-01-01 00:00:00', 'jwst_nircam_pars-tweakregstep_0051.asdf'), ('NRC_IMAGE', 'F200W', 'CLEAR', '2000-01-01 00:00:00', 'jwst_nircam_pars-tweakregstep_0036.asdf'), ('NRC_IMAGE', 'F210M', 'CLEAR', '2000-01-01 00:00:00', 'jwst_nircam_pars-tweakregstep_0056.asdf'), ('NRC_IMAGE', 'F212N', 'CLEAR', '2000-01-01 00:00:00', 'jwst_nircam_pars-tweakregstep_0037.asdf'), ('NRC_IMAGE', 'F250M', 'CLEAR', '2000-01-01 00:00:00', 'jwst_nircam_pars-tweakregstep_0040.asdf'), ('NRC_IMAGE', 'F277W', 'CLEAR', '2000-01-01 00:00:00', 'jwst_nircam_pars-tweakregstep_0042.asdf'), ('NRC_IMAGE', 'F300M', 'CLEAR', '2000-01-01 00:00:00', 'jwst_nircam_pars-tweakregstep_0054.asdf'), ('NRC_IMAGE', 'F322W2', 'CLEAR', '2000-01-01 00:00:00', 'jwst_nircam_pars-tweakregstep_0044.asdf'), ('NRC_IMAGE', 'F322W2', 'F323N', '2000-01-01 00:00:00', 'jwst_nircam_pars-tweakregstep_0053.asdf'), ('NRC_IMAGE', 'F335M', 'CLEAR', '2000-01-01 00:00:00', 'jwst_nircam_pars-tweakregstep_0032.asdf'), ('NRC_IMAGE', 'F356W', 'CLEAR', '2000-01-01 00:00:00', 'jwst_nircam_pars-tweakregstep_0043.asdf'), ('NRC_IMAGE', 'F360M', 'CLEAR', '2000-01-01 00:00:00', 'jwst_nircam_pars-tweakregstep_0048.asdf'), ('NRC_IMAGE', 'F410M', 'CLEAR', '2000-01-01 00:00:00', 'jwst_nircam_pars-tweakregstep_0031.asdf'), ('NRC_IMAGE', 'F430M', 'CLEAR', '2000-01-01 00:00:00', 'jwst_nircam_pars-tweakregstep_0049.asdf'), ('NRC_IMAGE', 'F444W', 'CLEAR', '2000-01-01 00:00:00', 'jwst_nircam_pars-tweakregstep_0045.asdf'), ('NRC_IMAGE', 'F444W', 'F405N', '2000-01-01 00:00:00', 'jwst_nircam_pars-tweakregstep_0035.asdf'), ('NRC_IMAGE', 'F444W', 'F466N', '2000-01-01 00:00:00', 'jwst_nircam_pars-tweakregstep_0052.asdf'), ('NRC_IMAGE', 'F444W', 'F470N', '2000-01-01 00:00:00', 'jwst_nircam_pars-tweakregstep_0058.asdf'), ('NRC_IMAGE', 'F460M', 'CLEAR', '2000-01-01 00:00:00', 'jwst_nircam_pars-tweakregstep_0038.asdf'), ('NRC_IMAGE', 'F480M', 'CLEAR', '2000-01-01 00:00:00', 'jwst_nircam_pars-tweakregstep_0057.asdf')]\n",
      "2023-09-06T15:42:37.255967: Filtername: F405N\n",
      "2023-09-06T15:42:37.256274: Filter_match: [('NRC_IMAGE', 'F444W', 'F405N', '2000-01-01 00:00:00', 'jwst_nircam_pars-tweakregstep_0035.asdf')] n=1\n",
      "2023-09-06T15:42:37.632732: Filter F405N: {'fitgeometry': 'shift', 'kernel_fwhm': 2.165, 'separation': 2.0, 'tolerance': 1.0}\n"
     ]
    }
   ],
   "source": [
    "mapping = crds.rmap.load_mapping(f'/orange/adamginsburg/jwst/{regionname}/crds/mappings/jwst/jwst_nircam_pars-tweakregstep_0003.rmap')\n",
    "print(f\"Mapping: {mapping.todict()['selections']}\")\n",
    "print(f\"Filtername: {filtername}\")\n",
    "filter_match = [x for x in mapping.todict()['selections'] if filtername in x]\n",
    "print(f\"Filter_match: {filter_match} n={len(filter_match)}\")\n",
    "tweakreg_asdf_filename = filter_match[0][4]\n",
    "tweakreg_asdf = asdf.open(f'https://jwst-crds.stsci.edu/unchecked_get/references/jwst/{tweakreg_asdf_filename}')\n",
    "tweakreg_parameters = tweakreg_asdf.tree['parameters']\n",
    "print(f'Filter {filtername}: {tweakreg_parameters}')"
   ]
  },
  {
   "cell_type": "code",
   "execution_count": 93,
   "id": "cb99181f-7c4f-4078-9d04-5e5008bc23b0",
   "metadata": {},
   "outputs": [],
   "source": [
    "#os.path.join(output_dir, member['expname'])"
   ]
  },
  {
   "cell_type": "code",
   "execution_count": 94,
   "id": "5621a90d-7d14-4917-a40c-69eb29ca491e",
   "metadata": {},
   "outputs": [],
   "source": [
    "import astropy.units as u"
   ]
  },
  {
   "cell_type": "code",
   "execution_count": 95,
   "id": "972c99cb-07e1-400e-bc80-7157b7029982",
   "metadata": {
    "tags": []
   },
   "outputs": [
    {
     "data": {
      "text/html": [
       "<div><i>Table length=1</i>\n",
       "<table id=\"table22489874699456\" class=\"table-striped table-bordered table-condensed\">\n",
       "<thead><tr><th>Filter</th><th>Wavelength(µm)</th><th>PSF FWHM (arcsec)</th><th>PSF FWHM (pixel)</th></tr></thead>\n",
       "<thead><tr><th>str6</th><th>float64</th><th>float64</th><th>float64</th></tr></thead>\n",
       "<tr><td>F405N</td><td>4.052</td><td>0.136</td><td>2.165</td></tr>\n",
       "</table></div>"
      ],
      "text/plain": [
       "<Table length=1>\n",
       "Filter Wavelength(µm) PSF FWHM (arcsec) PSF FWHM (pixel)\n",
       " str6     float64          float64          float64     \n",
       "------ -------------- ----------------- ----------------\n",
       " F405N          4.052             0.136            2.165"
      ]
     },
     "execution_count": 95,
     "metadata": {},
     "output_type": "execute_result"
    }
   ],
   "source": [
    "row"
   ]
  },
  {
   "cell_type": "code",
   "execution_count": null,
   "id": "807a1595-7ecc-4449-b3aa-400f2a43f211",
   "metadata": {
    "collapsed": true,
    "jupyter": {
     "outputs_hidden": true
    },
    "tags": []
   },
   "outputs": [],
   "source": []
  },
  {
   "cell_type": "code",
   "execution_count": 96,
   "id": "64e8835d-106c-4e85-95d0-9b9b27f831c7",
   "metadata": {
    "tags": []
   },
   "outputs": [
    {
     "name": "stdout",
     "output_type": "stream",
     "text": [
      "2023-09-06T15:42:39.152788: Filter F405N module nrca\n",
      "2023-09-06T15:42:39.154592: jw02221002002_08201_00004_nrcalong_cal.fits\n",
      "Destreaking /orange/adamginsburg/jwst/cloudc/F405N/pipeline/jw02221002002_08201_00004_nrcalong_cal.fits\n"
     ]
    },
    {
     "name": "stderr",
     "output_type": "stream",
     "text": [
      "2023-09-06 15:42:39,859 - stpipe - WARNING - /blue/adamginsburg/adamginsburg/miniconda3/envs/python39savannah/lib/python3.9/site-packages/numpy/lib/nanfunctions.py:1577: RuntimeWarning: All-NaN slice encountered\n",
      "  result = np.apply_along_axis(_nanquantile_1d, axis, a, q,\n",
      "\n",
      "2023-09-06 15:42:40,836 - stpipe - WARNING - /blue/adamginsburg/adamginsburg/repos/astropy/astropy/wcs/wcs.py:819: FITSFixedWarning: 'datfix' made the change 'Set DATE-BEG to '2023-04-25T05:05:59.722' from MJD-BEG.\n",
      "Set DATE-AVG to '2023-04-25T05:06:26.564' from MJD-AVG.\n",
      "Set DATE-END to '2023-04-25T05:06:53.406' from MJD-END'.\n",
      "  warnings.warn(\n",
      "\n",
      "2023-09-06 15:42:40,838 - stpipe - WARNING - /blue/adamginsburg/adamginsburg/repos/astropy/astropy/wcs/wcs.py:819: FITSFixedWarning: 'obsfix' made the change 'Set OBSGEO-L to  -119.975053 from OBSGEO-[XYZ].\n",
      "Set OBSGEO-B to   -11.515215 from OBSGEO-[XYZ].\n",
      "Set OBSGEO-H to 1386464604.607 from OBSGEO-[XYZ]'.\n",
      "  warnings.warn(\n",
      "\n",
      "2023-09-06 15:42:40,848 - stpipe - WARNING - /blue/adamginsburg/adamginsburg/repos/astropy/astropy/wcs/wcs.py:819: FITSFixedWarning: 'obsfix' made the change 'Set OBSGEO-L to   -51.592060 from OBSGEO-[XYZ].\n",
      "Set OBSGEO-B to   -20.722509 from OBSGEO-[XYZ].\n",
      "Set OBSGEO-H to 1527124813.495 from OBSGEO-[XYZ]'.\n",
      "  warnings.warn(\n",
      "\n",
      "2023-09-06 15:42:41,261 - stpipe - WARNING - /scratch/local/9079035/ipykernel_3543302/174679494.py:15: ResourceWarning: unclosed file <_io.BufferedReader name='/orange/adamginsburg/jwst/cloudc/F405N/pipeline/jw02221002002_08201_00004_nrcalong_cal.fits'>\n",
      "  outname = destreak(member['expname'],\n",
      "\n"
     ]
    },
    {
     "name": "stdout",
     "output_type": "stream",
     "text": [
      "2023-09-06T15:42:41.267623: /orange/adamginsburg/jwst/cloudc/F405N/pipeline/jw02221002002_08201_00004_nrcalong_destreak.fits\n"
     ]
    },
    {
     "name": "stderr",
     "output_type": "stream",
     "text": [
      "2023-09-06 15:42:41,537 - stpipe - WARNING - /scratch/local/9079035/ipykernel_3543302/174679494.py:26: ResourceWarning: unclosed file <_io.BufferedReader name='jw02221002001_02201_00004_nrcalong_align.fits'>\n",
      "  align_fits = fits.open(align_image)\n",
      "\n"
     ]
    },
    {
     "name": "stdout",
     "output_type": "stream",
     "text": [
      "2023-09-06T15:42:41.568305: Running manual align.\n",
      "2023-09-06T15:42:41.569847: 1024.5 63.10377574671999\n",
      "2023-09-06T15:42:41.569985: 1087.60377574672\n",
      "2023-09-06T15:42:41.570141: 1024.5 15.975639429549364\n",
      "2023-09-06T15:42:41.570258: 1040.4756394295493\n",
      "2023-09-06T15:42:41.728189: jw02221002002_08201_00003_nrcalong_cal.fits\n",
      "Destreaking /orange/adamginsburg/jwst/cloudc/F405N/pipeline/jw02221002002_08201_00003_nrcalong_cal.fits\n"
     ]
    },
    {
     "name": "stderr",
     "output_type": "stream",
     "text": [
      "2023-09-06 15:42:43,078 - stpipe - WARNING - /blue/adamginsburg/adamginsburg/repos/astropy/astropy/wcs/wcs.py:819: FITSFixedWarning: 'datfix' made the change 'Set DATE-BEG to '2023-04-25T05:03:40.138' from MJD-BEG.\n",
      "Set DATE-AVG to '2023-04-25T05:04:06.980' from MJD-AVG.\n",
      "Set DATE-END to '2023-04-25T05:04:33.822' from MJD-END'.\n",
      "  warnings.warn(\n",
      "\n",
      "2023-09-06 15:42:43,080 - stpipe - WARNING - /blue/adamginsburg/adamginsburg/repos/astropy/astropy/wcs/wcs.py:819: FITSFixedWarning: 'obsfix' made the change 'Set OBSGEO-L to  -119.976913 from OBSGEO-[XYZ].\n",
      "Set OBSGEO-B to   -11.514091 from OBSGEO-[XYZ].\n",
      "Set OBSGEO-H to 1386449899.931 from OBSGEO-[XYZ]'.\n",
      "  warnings.warn(\n",
      "\n",
      "2023-09-06 15:42:43,850 - stpipe - WARNING - /scratch/local/9079035/ipykernel_3543302/174679494.py:15: ResourceWarning: unclosed file <_io.BufferedReader name='/orange/adamginsburg/jwst/cloudc/F405N/pipeline/jw02221002002_08201_00003_nrcalong_cal.fits'>\n",
      "  outname = destreak(member['expname'],\n",
      "\n"
     ]
    },
    {
     "name": "stdout",
     "output_type": "stream",
     "text": [
      "2023-09-06T15:42:43.857746: /orange/adamginsburg/jwst/cloudc/F405N/pipeline/jw02221002002_08201_00003_nrcalong_destreak.fits\n"
     ]
    },
    {
     "name": "stderr",
     "output_type": "stream",
     "text": [
      "2023-09-06 15:42:44,084 - stpipe - WARNING - /scratch/local/9079035/ipykernel_3543302/174679494.py:26: ResourceWarning: unclosed file <_io.BufferedReader name='/orange/adamginsburg/jwst/cloudc/F405N/pipeline/jw02221002002_08201_00004_nrcalong_align.fits'>\n",
      "  align_fits = fits.open(align_image)\n",
      "\n"
     ]
    },
    {
     "name": "stdout",
     "output_type": "stream",
     "text": [
      "2023-09-06T15:42:44.114294: Running manual align.\n",
      "2023-09-06T15:42:44.115910: 1024.5 63.10377574671999\n",
      "2023-09-06T15:42:44.116053: 1087.60377574672\n",
      "2023-09-06T15:42:44.116213: 1024.5 15.975639429549364\n",
      "2023-09-06T15:42:44.116337: 1040.4756394295493\n",
      "2023-09-06T15:42:44.425089: jw02221002002_08201_00001_nrcalong_cal.fits\n",
      "Destreaking /orange/adamginsburg/jwst/cloudc/F405N/pipeline/jw02221002002_08201_00001_nrcalong_cal.fits\n"
     ]
    },
    {
     "name": "stderr",
     "output_type": "stream",
     "text": [
      "2023-09-06 15:42:45,896 - stpipe - WARNING - /blue/adamginsburg/adamginsburg/repos/astropy/astropy/wcs/wcs.py:819: FITSFixedWarning: 'datfix' made the change 'Set DATE-BEG to '2023-04-25T04:58:28.778' from MJD-BEG.\n",
      "Set DATE-AVG to '2023-04-25T04:58:55.620' from MJD-AVG.\n",
      "Set DATE-END to '2023-04-25T04:59:22.462' from MJD-END'.\n",
      "  warnings.warn(\n",
      "\n",
      "2023-09-06 15:42:45,898 - stpipe - WARNING - /blue/adamginsburg/adamginsburg/repos/astropy/astropy/wcs/wcs.py:819: FITSFixedWarning: 'obsfix' made the change 'Set OBSGEO-L to  -119.982494 from OBSGEO-[XYZ].\n",
      "Set OBSGEO-B to   -11.510718 from OBSGEO-[XYZ].\n",
      "Set OBSGEO-H to 1386405788.205 from OBSGEO-[XYZ]'.\n",
      "  warnings.warn(\n",
      "\n",
      "2023-09-06 15:42:46,400 - stpipe - WARNING - /scratch/local/9079035/ipykernel_3543302/174679494.py:15: ResourceWarning: unclosed file <_io.BufferedReader name='/orange/adamginsburg/jwst/cloudc/F405N/pipeline/jw02221002002_08201_00001_nrcalong_cal.fits'>\n",
      "  outname = destreak(member['expname'],\n",
      "\n"
     ]
    },
    {
     "name": "stdout",
     "output_type": "stream",
     "text": [
      "2023-09-06T15:42:46.406612: /orange/adamginsburg/jwst/cloudc/F405N/pipeline/jw02221002002_08201_00001_nrcalong_destreak.fits\n"
     ]
    },
    {
     "name": "stderr",
     "output_type": "stream",
     "text": [
      "2023-09-06 15:42:46,703 - stpipe - WARNING - /scratch/local/9079035/ipykernel_3543302/174679494.py:26: ResourceWarning: unclosed file <_io.BufferedReader name='/orange/adamginsburg/jwst/cloudc/F405N/pipeline/jw02221002002_08201_00003_nrcalong_align.fits'>\n",
      "  align_fits = fits.open(align_image)\n",
      "\n"
     ]
    },
    {
     "name": "stdout",
     "output_type": "stream",
     "text": [
      "2023-09-06T15:42:46.738480: Running manual align.\n",
      "2023-09-06T15:42:46.740150: 1024.5 62.30499377524252\n",
      "2023-09-06T15:42:46.740300: 1086.8049937752426\n",
      "2023-09-06T15:42:46.740475: 1024.5 15.975639429549364\n",
      "2023-09-06T15:42:46.740594: 1040.4756394295493\n",
      "2023-09-06T15:42:46.919730: jw02221002001_08201_00003_nrcalong_cal.fits\n",
      "Destreaking /orange/adamginsburg/jwst/cloudc/F405N/pipeline/jw02221002001_08201_00003_nrcalong_cal.fits\n"
     ]
    },
    {
     "name": "stderr",
     "output_type": "stream",
     "text": [
      "2023-09-06 15:42:48,378 - stpipe - WARNING - /blue/adamginsburg/adamginsburg/repos/astropy/astropy/wcs/wcs.py:819: FITSFixedWarning: 'datfix' made the change 'Set DATE-BEG to '2023-04-15T16:00:34.555' from MJD-BEG.\n",
      "Set DATE-AVG to '2023-04-15T16:01:01.397' from MJD-AVG.\n",
      "Set DATE-END to '2023-04-15T16:01:28.239' from MJD-END'.\n",
      "  warnings.warn(\n",
      "\n",
      "2023-09-06 15:42:48,380 - stpipe - WARNING - /blue/adamginsburg/adamginsburg/repos/astropy/astropy/wcs/wcs.py:819: FITSFixedWarning: 'obsfix' made the change 'Set OBSGEO-L to  -134.317885 from OBSGEO-[XYZ].\n",
      "Set OBSGEO-B to    -3.211934 from OBSGEO-[XYZ].\n",
      "Set OBSGEO-H to 1299084221.372 from OBSGEO-[XYZ]'.\n",
      "  warnings.warn(\n",
      "\n",
      "2023-09-06 15:42:48,704 - stpipe - WARNING - /scratch/local/9079035/ipykernel_3543302/174679494.py:15: ResourceWarning: unclosed file <_io.BufferedReader name='/orange/adamginsburg/jwst/cloudc/F405N/pipeline/jw02221002001_08201_00003_nrcalong_cal.fits'>\n",
      "  outname = destreak(member['expname'],\n",
      "\n"
     ]
    },
    {
     "name": "stdout",
     "output_type": "stream",
     "text": [
      "2023-09-06T15:42:48.710730: /orange/adamginsburg/jwst/cloudc/F405N/pipeline/jw02221002001_08201_00003_nrcalong_destreak.fits\n"
     ]
    },
    {
     "name": "stderr",
     "output_type": "stream",
     "text": [
      "2023-09-06 15:42:48,973 - stpipe - WARNING - /scratch/local/9079035/ipykernel_3543302/174679494.py:26: ResourceWarning: unclosed file <_io.BufferedReader name='/orange/adamginsburg/jwst/cloudc/F405N/pipeline/jw02221002002_08201_00001_nrcalong_align.fits'>\n",
      "  align_fits = fits.open(align_image)\n",
      "\n"
     ]
    },
    {
     "name": "stdout",
     "output_type": "stream",
     "text": [
      "2023-09-06T15:42:49.010167: Running manual align.\n",
      "2023-09-06T15:42:49.011756: 1024.5 127.80511543639491\n",
      "2023-09-06T15:42:49.011898: 1152.305115436395\n",
      "2023-09-06T15:42:49.012058: 1024.5 -4.792691828864809\n",
      "2023-09-06T15:42:49.012181: 1019.7073081711352\n",
      "2023-09-06T15:42:49.175259: jw02221002002_08201_00002_nrcalong_cal.fits\n",
      "Destreaking /orange/adamginsburg/jwst/cloudc/F405N/pipeline/jw02221002002_08201_00002_nrcalong_cal.fits\n"
     ]
    },
    {
     "name": "stderr",
     "output_type": "stream",
     "text": [
      "2023-09-06 15:42:50,525 - stpipe - WARNING - /blue/adamginsburg/adamginsburg/repos/astropy/astropy/wcs/wcs.py:819: FITSFixedWarning: 'datfix' made the change 'Set DATE-BEG to '2023-04-25T05:00:59.050' from MJD-BEG.\n",
      "Set DATE-AVG to '2023-04-25T05:01:25.892' from MJD-AVG.\n",
      "Set DATE-END to '2023-04-25T05:01:52.734' from MJD-END'.\n",
      "  warnings.warn(\n",
      "\n",
      "2023-09-06 15:42:50,528 - stpipe - WARNING - /blue/adamginsburg/adamginsburg/repos/astropy/astropy/wcs/wcs.py:819: FITSFixedWarning: 'obsfix' made the change 'Set OBSGEO-L to  -119.979703 from OBSGEO-[XYZ].\n",
      "Set OBSGEO-B to   -11.512404 from OBSGEO-[XYZ].\n",
      "Set OBSGEO-H to 1386427843.636 from OBSGEO-[XYZ]'.\n",
      "  warnings.warn(\n",
      "\n",
      "2023-09-06 15:42:50,937 - stpipe - WARNING - /scratch/local/9079035/ipykernel_3543302/174679494.py:15: ResourceWarning: unclosed file <_io.BufferedReader name='/orange/adamginsburg/jwst/cloudc/F405N/pipeline/jw02221002002_08201_00002_nrcalong_cal.fits'>\n",
      "  outname = destreak(member['expname'],\n",
      "\n"
     ]
    },
    {
     "name": "stdout",
     "output_type": "stream",
     "text": [
      "2023-09-06T15:42:50.942996: /orange/adamginsburg/jwst/cloudc/F405N/pipeline/jw02221002002_08201_00002_nrcalong_destreak.fits\n"
     ]
    },
    {
     "name": "stderr",
     "output_type": "stream",
     "text": [
      "2023-09-06 15:42:51,166 - stpipe - WARNING - /scratch/local/9079035/ipykernel_3543302/174679494.py:26: ResourceWarning: unclosed file <_io.BufferedReader name='/orange/adamginsburg/jwst/cloudc/F405N/pipeline/jw02221002001_08201_00003_nrcalong_align.fits'>\n",
      "  align_fits = fits.open(align_image)\n",
      "\n"
     ]
    },
    {
     "name": "stdout",
     "output_type": "stream",
     "text": [
      "2023-09-06T15:42:51.197121: Running manual align.\n",
      "2023-09-06T15:42:51.198919: 1024.5 63.90255771819746\n",
      "2023-09-06T15:42:51.199058: 1088.4025577181974\n",
      "2023-09-06T15:42:51.199213: 1024.5 -1.5975639429549364\n",
      "2023-09-06T15:42:51.199327: 1022.9024360570451\n",
      "2023-09-06T15:42:51.417573: jw02221002002_02201_00001_nrcalong_cal.fits\n",
      "Destreaking /orange/adamginsburg/jwst/cloudc/F405N/pipeline/jw02221002002_02201_00001_nrcalong_cal.fits\n"
     ]
    },
    {
     "name": "stderr",
     "output_type": "stream",
     "text": [
      "2023-09-06 15:42:52,694 - stpipe - WARNING - /blue/adamginsburg/adamginsburg/repos/astropy/astropy/wcs/wcs.py:819: FITSFixedWarning: 'datfix' made the change 'Set DATE-BEG to '2023-04-25T04:11:46.413' from MJD-BEG.\n",
      "Set DATE-AVG to '2023-04-25T04:12:13.255' from MJD-AVG.\n",
      "Set DATE-END to '2023-04-25T04:12:40.097' from MJD-END'.\n",
      "  warnings.warn(\n",
      "\n",
      "2023-09-06 15:42:52,697 - stpipe - WARNING - /blue/adamginsburg/adamginsburg/repos/astropy/astropy/wcs/wcs.py:819: FITSFixedWarning: 'obsfix' made the change 'Set OBSGEO-L to  -120.025295 from OBSGEO-[XYZ].\n",
      "Set OBSGEO-B to   -11.484850 from OBSGEO-[XYZ].\n",
      "Set OBSGEO-H to 1386067713.035 from OBSGEO-[XYZ]'.\n",
      "  warnings.warn(\n",
      "\n",
      "2023-09-06 15:42:53,233 - stpipe - WARNING - /scratch/local/9079035/ipykernel_3543302/174679494.py:15: ResourceWarning: unclosed file <_io.BufferedReader name='/orange/adamginsburg/jwst/cloudc/F405N/pipeline/jw02221002002_02201_00001_nrcalong_cal.fits'>\n",
      "  outname = destreak(member['expname'],\n",
      "\n"
     ]
    },
    {
     "name": "stdout",
     "output_type": "stream",
     "text": [
      "2023-09-06T15:42:53.239551: /orange/adamginsburg/jwst/cloudc/F405N/pipeline/jw02221002002_02201_00001_nrcalong_destreak.fits\n"
     ]
    },
    {
     "name": "stderr",
     "output_type": "stream",
     "text": [
      "2023-09-06 15:42:53,552 - stpipe - WARNING - /scratch/local/9079035/ipykernel_3543302/174679494.py:26: ResourceWarning: unclosed file <_io.BufferedReader name='/orange/adamginsburg/jwst/cloudc/F405N/pipeline/jw02221002002_08201_00002_nrcalong_align.fits'>\n",
      "  align_fits = fits.open(align_image)\n",
      "\n"
     ]
    },
    {
     "name": "stdout",
     "output_type": "stream",
     "text": [
      "2023-09-06T15:42:53.604642: Running manual align.\n",
      "2023-09-06T15:42:53.615403: 1024.5 62.30499377524252\n",
      "2023-09-06T15:42:53.615587: 1086.8049937752426\n",
      "2023-09-06T15:42:53.615761: 1024.5 14.378075486594428\n",
      "2023-09-06T15:42:53.615892: 1038.8780754865945\n",
      "2023-09-06T15:42:53.908014: jw02221002002_02201_00003_nrcalong_cal.fits\n",
      "Destreaking /orange/adamginsburg/jwst/cloudc/F405N/pipeline/jw02221002002_02201_00003_nrcalong_cal.fits\n"
     ]
    },
    {
     "name": "stderr",
     "output_type": "stream",
     "text": [
      "2023-09-06 15:42:55,364 - stpipe - WARNING - /blue/adamginsburg/adamginsburg/repos/astropy/astropy/wcs/wcs.py:819: FITSFixedWarning: 'datfix' made the change 'Set DATE-BEG to '2023-04-25T04:16:36.333' from MJD-BEG.\n",
      "Set DATE-AVG to '2023-04-25T04:17:03.175' from MJD-AVG.\n",
      "Set DATE-END to '2023-04-25T04:17:30.017' from MJD-END'.\n",
      "  warnings.warn(\n",
      "\n",
      "2023-09-06 15:42:55,366 - stpipe - WARNING - /blue/adamginsburg/adamginsburg/repos/astropy/astropy/wcs/wcs.py:819: FITSFixedWarning: 'obsfix' made the change 'Set OBSGEO-L to  -120.020642 from OBSGEO-[XYZ].\n",
      "Set OBSGEO-B to   -11.487662 from OBSGEO-[XYZ].\n",
      "Set OBSGEO-H to 1386104450.505 from OBSGEO-[XYZ]'.\n",
      "  warnings.warn(\n",
      "\n",
      "2023-09-06 15:42:55,780 - stpipe - WARNING - /scratch/local/9079035/ipykernel_3543302/174679494.py:15: ResourceWarning: unclosed file <_io.BufferedReader name='/orange/adamginsburg/jwst/cloudc/F405N/pipeline/jw02221002002_02201_00003_nrcalong_cal.fits'>\n",
      "  outname = destreak(member['expname'],\n",
      "\n"
     ]
    },
    {
     "name": "stdout",
     "output_type": "stream",
     "text": [
      "2023-09-06T15:42:55.786377: /orange/adamginsburg/jwst/cloudc/F405N/pipeline/jw02221002002_02201_00003_nrcalong_destreak.fits\n"
     ]
    },
    {
     "name": "stderr",
     "output_type": "stream",
     "text": [
      "2023-09-06 15:42:56,190 - stpipe - WARNING - /scratch/local/9079035/ipykernel_3543302/174679494.py:26: ResourceWarning: unclosed file <_io.BufferedReader name='/orange/adamginsburg/jwst/cloudc/F405N/pipeline/jw02221002002_02201_00001_nrcalong_align.fits'>\n",
      "  align_fits = fits.open(align_image)\n",
      "\n"
     ]
    },
    {
     "name": "stdout",
     "output_type": "stream",
     "text": [
      "2023-09-06T15:42:56.221845: Running manual align.\n",
      "2023-09-06T15:42:56.223433: 1024.5 62.30499377524252\n",
      "2023-09-06T15:42:56.223585: 1086.8049937752426\n",
      "2023-09-06T15:42:56.223749: 1024.5 14.378075486594428\n",
      "2023-09-06T15:42:56.223866: 1038.8780754865945\n",
      "2023-09-06T15:42:56.491136: jw02221002001_08201_00004_nrcalong_cal.fits\n",
      "Destreaking /orange/adamginsburg/jwst/cloudc/F405N/pipeline/jw02221002001_08201_00004_nrcalong_cal.fits\n"
     ]
    },
    {
     "name": "stderr",
     "output_type": "stream",
     "text": [
      "2023-09-06 15:42:57,934 - stpipe - WARNING - /blue/adamginsburg/adamginsburg/repos/astropy/astropy/wcs/wcs.py:819: FITSFixedWarning: 'datfix' made the change 'Set DATE-BEG to '2023-04-15T16:03:04.827' from MJD-BEG.\n",
      "Set DATE-AVG to '2023-04-15T16:03:31.669' from MJD-AVG.\n",
      "Set DATE-END to '2023-04-15T16:03:58.511' from MJD-END'.\n",
      "  warnings.warn(\n",
      "\n",
      "2023-09-06 15:42:57,936 - stpipe - WARNING - /blue/adamginsburg/adamginsburg/repos/astropy/astropy/wcs/wcs.py:819: FITSFixedWarning: 'obsfix' made the change 'Set OBSGEO-L to  -134.315532 from OBSGEO-[XYZ].\n",
      "Set OBSGEO-B to    -3.213224 from OBSGEO-[XYZ].\n",
      "Set OBSGEO-H to 1299094589.651 from OBSGEO-[XYZ]'.\n",
      "  warnings.warn(\n",
      "\n",
      "2023-09-06 15:42:58,422 - stpipe - WARNING - /scratch/local/9079035/ipykernel_3543302/174679494.py:15: ResourceWarning: unclosed file <_io.BufferedReader name='/orange/adamginsburg/jwst/cloudc/F405N/pipeline/jw02221002001_08201_00004_nrcalong_cal.fits'>\n",
      "  outname = destreak(member['expname'],\n",
      "\n"
     ]
    },
    {
     "name": "stdout",
     "output_type": "stream",
     "text": [
      "2023-09-06T15:42:58.428423: /orange/adamginsburg/jwst/cloudc/F405N/pipeline/jw02221002001_08201_00004_nrcalong_destreak.fits\n"
     ]
    },
    {
     "name": "stderr",
     "output_type": "stream",
     "text": [
      "2023-09-06 15:42:58,690 - stpipe - WARNING - /scratch/local/9079035/ipykernel_3543302/174679494.py:26: ResourceWarning: unclosed file <_io.BufferedReader name='/orange/adamginsburg/jwst/cloudc/F405N/pipeline/jw02221002002_02201_00003_nrcalong_align.fits'>\n",
      "  align_fits = fits.open(align_image)\n",
      "\n"
     ]
    },
    {
     "name": "stdout",
     "output_type": "stream",
     "text": [
      "2023-09-06T15:42:58.719220: Running manual align.\n",
      "2023-09-06T15:42:58.720836: 1024.5 127.80511543639491\n",
      "2023-09-06T15:42:58.720977: 1152.305115436395\n",
      "2023-09-06T15:42:58.721136: 1024.5 -4.792691828864809\n",
      "2023-09-06T15:42:58.721254: 1019.7073081711352\n",
      "2023-09-06T15:42:59.020459: jw02221002002_02201_00002_nrcalong_cal.fits\n",
      "Destreaking /orange/adamginsburg/jwst/cloudc/F405N/pipeline/jw02221002002_02201_00002_nrcalong_cal.fits\n"
     ]
    },
    {
     "name": "stderr",
     "output_type": "stream",
     "text": [
      "2023-09-06 15:43:00,443 - stpipe - WARNING - /blue/adamginsburg/adamginsburg/repos/astropy/astropy/wcs/wcs.py:819: FITSFixedWarning: 'datfix' made the change 'Set DATE-BEG to '2023-04-25T04:14:05.997' from MJD-BEG.\n",
      "Set DATE-AVG to '2023-04-25T04:14:32.839' from MJD-AVG.\n",
      "Set DATE-END to '2023-04-25T04:14:59.681' from MJD-END'.\n",
      "  warnings.warn(\n",
      "\n",
      "2023-09-06 15:43:00,445 - stpipe - WARNING - /blue/adamginsburg/adamginsburg/repos/astropy/astropy/wcs/wcs.py:819: FITSFixedWarning: 'obsfix' made the change 'Set OBSGEO-L to  -120.023434 from OBSGEO-[XYZ].\n",
      "Set OBSGEO-B to   -11.485975 from OBSGEO-[XYZ].\n",
      "Set OBSGEO-H to 1386082407.725 from OBSGEO-[XYZ]'.\n",
      "  warnings.warn(\n",
      "\n",
      "2023-09-06 15:43:00,786 - stpipe - WARNING - /scratch/local/9079035/ipykernel_3543302/174679494.py:15: ResourceWarning: unclosed file <_io.BufferedReader name='/orange/adamginsburg/jwst/cloudc/F405N/pipeline/jw02221002002_02201_00002_nrcalong_cal.fits'>\n",
      "  outname = destreak(member['expname'],\n",
      "\n"
     ]
    },
    {
     "name": "stdout",
     "output_type": "stream",
     "text": [
      "2023-09-06T15:43:00.792093: /orange/adamginsburg/jwst/cloudc/F405N/pipeline/jw02221002002_02201_00002_nrcalong_destreak.fits\n"
     ]
    },
    {
     "name": "stderr",
     "output_type": "stream",
     "text": [
      "2023-09-06 15:43:01,062 - stpipe - WARNING - /scratch/local/9079035/ipykernel_3543302/174679494.py:26: ResourceWarning: unclosed file <_io.BufferedReader name='/orange/adamginsburg/jwst/cloudc/F405N/pipeline/jw02221002001_08201_00004_nrcalong_align.fits'>\n",
      "  align_fits = fits.open(align_image)\n",
      "\n"
     ]
    },
    {
     "name": "stdout",
     "output_type": "stream",
     "text": [
      "2023-09-06T15:43:01.090330: Running manual align.\n",
      "2023-09-06T15:43:01.091951: 1024.5 63.90255771819746\n",
      "2023-09-06T15:43:01.092084: 1088.4025577181974\n",
      "2023-09-06T15:43:01.092234: 1024.5 15.975639429549364\n",
      "2023-09-06T15:43:01.092350: 1040.4756394295493\n",
      "2023-09-06T15:43:01.401728: jw02221002001_08201_00002_nrcalong_cal.fits\n",
      "Destreaking /orange/adamginsburg/jwst/cloudc/F405N/pipeline/jw02221002001_08201_00002_nrcalong_cal.fits\n"
     ]
    },
    {
     "name": "stderr",
     "output_type": "stream",
     "text": [
      "2023-09-06 15:43:02,786 - stpipe - WARNING - /blue/adamginsburg/adamginsburg/repos/astropy/astropy/wcs/wcs.py:819: FITSFixedWarning: 'datfix' made the change 'Set DATE-BEG to '2023-04-15T15:58:04.219' from MJD-BEG.\n",
      "Set DATE-AVG to '2023-04-15T15:58:31.061' from MJD-AVG.\n",
      "Set DATE-END to '2023-04-15T15:58:57.903' from MJD-END'.\n",
      "  warnings.warn(\n",
      "\n",
      "2023-09-06 15:43:02,788 - stpipe - WARNING - /blue/adamginsburg/adamginsburg/repos/astropy/astropy/wcs/wcs.py:819: FITSFixedWarning: 'obsfix' made the change 'Set OBSGEO-L to  -134.321415 from OBSGEO-[XYZ].\n",
      "Set OBSGEO-B to    -3.210000 from OBSGEO-[XYZ].\n",
      "Set OBSGEO-H to 1299068670.245 from OBSGEO-[XYZ]'.\n",
      "  warnings.warn(\n",
      "\n",
      "2023-09-06 15:43:03,092 - stpipe - WARNING - /scratch/local/9079035/ipykernel_3543302/174679494.py:15: ResourceWarning: unclosed file <_io.BufferedReader name='/orange/adamginsburg/jwst/cloudc/F405N/pipeline/jw02221002001_08201_00002_nrcalong_cal.fits'>\n",
      "  outname = destreak(member['expname'],\n",
      "\n"
     ]
    },
    {
     "name": "stdout",
     "output_type": "stream",
     "text": [
      "2023-09-06T15:43:03.098934: /orange/adamginsburg/jwst/cloudc/F405N/pipeline/jw02221002001_08201_00002_nrcalong_destreak.fits\n"
     ]
    },
    {
     "name": "stderr",
     "output_type": "stream",
     "text": [
      "2023-09-06 15:43:03,347 - stpipe - WARNING - /scratch/local/9079035/ipykernel_3543302/174679494.py:26: ResourceWarning: unclosed file <_io.BufferedReader name='/orange/adamginsburg/jwst/cloudc/F405N/pipeline/jw02221002002_02201_00002_nrcalong_align.fits'>\n",
      "  align_fits = fits.open(align_image)\n",
      "\n"
     ]
    },
    {
     "name": "stdout",
     "output_type": "stream",
     "text": [
      "2023-09-06T15:43:03.373655: Running manual align.\n",
      "2023-09-06T15:43:03.375245: 1024.5 127.80511543639491\n",
      "2023-09-06T15:43:03.375381: 1152.305115436395\n",
      "2023-09-06T15:43:03.375770: 1024.5 -4.792691828864809\n",
      "2023-09-06T15:43:03.375889: 1019.7073081711352\n",
      "2023-09-06T15:43:03.712299: jw02221002001_08201_00001_nrcalong_cal.fits\n",
      "Destreaking /orange/adamginsburg/jwst/cloudc/F405N/pipeline/jw02221002001_08201_00001_nrcalong_cal.fits\n"
     ]
    },
    {
     "name": "stderr",
     "output_type": "stream",
     "text": [
      "2023-09-06 15:43:05,377 - stpipe - WARNING - /blue/adamginsburg/adamginsburg/repos/astropy/astropy/wcs/wcs.py:819: FITSFixedWarning: 'datfix' made the change 'Set DATE-BEG to '2023-04-15T15:55:33.883' from MJD-BEG.\n",
      "Set DATE-AVG to '2023-04-15T15:56:00.725' from MJD-AVG.\n",
      "Set DATE-END to '2023-04-15T15:56:27.567' from MJD-END'.\n",
      "  warnings.warn(\n",
      "\n",
      "2023-09-06 15:43:05,379 - stpipe - WARNING - /blue/adamginsburg/adamginsburg/repos/astropy/astropy/wcs/wcs.py:819: FITSFixedWarning: 'obsfix' made the change 'Set OBSGEO-L to  -134.323768 from OBSGEO-[XYZ].\n",
      "Set OBSGEO-B to    -3.208710 from OBSGEO-[XYZ].\n",
      "Set OBSGEO-H to 1299058303.688 from OBSGEO-[XYZ]'.\n",
      "  warnings.warn(\n",
      "\n",
      "2023-09-06 15:43:05,889 - stpipe - WARNING - /scratch/local/9079035/ipykernel_3543302/174679494.py:15: ResourceWarning: unclosed file <_io.BufferedReader name='/orange/adamginsburg/jwst/cloudc/F405N/pipeline/jw02221002001_08201_00001_nrcalong_cal.fits'>\n",
      "  outname = destreak(member['expname'],\n",
      "\n"
     ]
    },
    {
     "name": "stdout",
     "output_type": "stream",
     "text": [
      "2023-09-06T15:43:05.896337: /orange/adamginsburg/jwst/cloudc/F405N/pipeline/jw02221002001_08201_00001_nrcalong_destreak.fits\n"
     ]
    },
    {
     "name": "stderr",
     "output_type": "stream",
     "text": [
      "2023-09-06 15:43:06,139 - stpipe - WARNING - /scratch/local/9079035/ipykernel_3543302/174679494.py:26: ResourceWarning: unclosed file <_io.BufferedReader name='/orange/adamginsburg/jwst/cloudc/F405N/pipeline/jw02221002001_08201_00002_nrcalong_align.fits'>\n",
      "  align_fits = fits.open(align_image)\n",
      "\n"
     ]
    },
    {
     "name": "stdout",
     "output_type": "stream",
     "text": [
      "2023-09-06T15:43:06.166998: Running manual align.\n",
      "2023-09-06T15:43:06.168617: 1024.5 127.80511543639491\n",
      "2023-09-06T15:43:06.168758: 1152.305115436395\n",
      "2023-09-06T15:43:06.168916: 1024.5 -3.993909857387341\n",
      "2023-09-06T15:43:06.169035: 1020.5060901426126\n",
      "2023-09-06T15:43:06.488305: jw02221002002_02201_00004_nrcalong_cal.fits\n",
      "Destreaking /orange/adamginsburg/jwst/cloudc/F405N/pipeline/jw02221002002_02201_00004_nrcalong_cal.fits\n"
     ]
    },
    {
     "name": "stderr",
     "output_type": "stream",
     "text": [
      "2023-09-06 15:43:08,333 - stpipe - WARNING - /blue/adamginsburg/adamginsburg/repos/astropy/astropy/wcs/wcs.py:819: FITSFixedWarning: 'datfix' made the change 'Set DATE-BEG to '2023-04-25T04:19:06.604' from MJD-BEG.\n",
      "Set DATE-AVG to '2023-04-25T04:19:33.446' from MJD-AVG.\n",
      "Set DATE-END to '2023-04-25T04:20:00.288' from MJD-END'.\n",
      "  warnings.warn(\n",
      "\n",
      "2023-09-06 15:43:08,335 - stpipe - WARNING - /blue/adamginsburg/adamginsburg/repos/astropy/astropy/wcs/wcs.py:819: FITSFixedWarning: 'obsfix' made the change 'Set OBSGEO-L to  -120.018780 from OBSGEO-[XYZ].\n",
      "Set OBSGEO-B to   -11.488787 from OBSGEO-[XYZ].\n",
      "Set OBSGEO-H to 1386119146.156 from OBSGEO-[XYZ]'.\n",
      "  warnings.warn(\n",
      "\n",
      "2023-09-06 15:43:08,643 - stpipe - WARNING - /scratch/local/9079035/ipykernel_3543302/174679494.py:15: ResourceWarning: unclosed file <_io.BufferedReader name='/orange/adamginsburg/jwst/cloudc/F405N/pipeline/jw02221002002_02201_00004_nrcalong_cal.fits'>\n",
      "  outname = destreak(member['expname'],\n",
      "\n"
     ]
    },
    {
     "name": "stdout",
     "output_type": "stream",
     "text": [
      "2023-09-06T15:43:08.649329: /orange/adamginsburg/jwst/cloudc/F405N/pipeline/jw02221002002_02201_00004_nrcalong_destreak.fits\n"
     ]
    },
    {
     "name": "stderr",
     "output_type": "stream",
     "text": [
      "2023-09-06 15:43:08,887 - stpipe - WARNING - /scratch/local/9079035/ipykernel_3543302/174679494.py:26: ResourceWarning: unclosed file <_io.BufferedReader name='/orange/adamginsburg/jwst/cloudc/F405N/pipeline/jw02221002001_08201_00001_nrcalong_align.fits'>\n",
      "  align_fits = fits.open(align_image)\n",
      "\n"
     ]
    },
    {
     "name": "stdout",
     "output_type": "stream",
     "text": [
      "2023-09-06T15:43:08.921051: Running manual align.\n",
      "2023-09-06T15:43:08.922637: 1024.5 63.10377574671999\n",
      "2023-09-06T15:43:08.922777: 1087.60377574672\n",
      "2023-09-06T15:43:08.922938: 1024.5 14.378075486594428\n",
      "2023-09-06T15:43:08.923059: 1038.8780754865945\n",
      "2023-09-06T15:43:09.082473: jw02221002001_02201_00001_nrcalong_cal.fits\n",
      "Destreaking /orange/adamginsburg/jwst/cloudc/F405N/pipeline/jw02221002001_02201_00001_nrcalong_cal.fits\n"
     ]
    },
    {
     "name": "stderr",
     "output_type": "stream",
     "text": [
      "2023-09-06 15:43:10,653 - stpipe - WARNING - /blue/adamginsburg/adamginsburg/repos/astropy/astropy/wcs/wcs.py:819: FITSFixedWarning: 'datfix' made the change 'Set DATE-BEG to '2023-04-15T15:08:19.326' from MJD-BEG.\n",
      "Set DATE-AVG to '2023-04-15T15:08:46.168' from MJD-AVG.\n",
      "Set DATE-END to '2023-04-15T15:09:13.010' from MJD-END'.\n",
      "  warnings.warn(\n",
      "\n",
      "2023-09-06 15:43:10,655 - stpipe - WARNING - /blue/adamginsburg/adamginsburg/repos/astropy/astropy/wcs/wcs.py:819: FITSFixedWarning: 'obsfix' made the change 'Set OBSGEO-L to  -134.380275 from OBSGEO-[XYZ].\n",
      "Set OBSGEO-B to    -3.177752 from OBSGEO-[XYZ].\n",
      "Set OBSGEO-H to 1298809712.873 from OBSGEO-[XYZ]'.\n",
      "  warnings.warn(\n",
      "\n",
      "2023-09-06 15:43:11,181 - stpipe - WARNING - /scratch/local/9079035/ipykernel_3543302/174679494.py:15: ResourceWarning: unclosed file <_io.BufferedReader name='/orange/adamginsburg/jwst/cloudc/F405N/pipeline/jw02221002001_02201_00001_nrcalong_cal.fits'>\n",
      "  outname = destreak(member['expname'],\n",
      "\n"
     ]
    },
    {
     "name": "stdout",
     "output_type": "stream",
     "text": [
      "2023-09-06T15:43:11.186829: /orange/adamginsburg/jwst/cloudc/F405N/pipeline/jw02221002001_02201_00001_nrcalong_destreak.fits\n"
     ]
    },
    {
     "name": "stderr",
     "output_type": "stream",
     "text": [
      "2023-09-06 15:43:11,543 - stpipe - WARNING - /scratch/local/9079035/ipykernel_3543302/174679494.py:26: ResourceWarning: unclosed file <_io.BufferedReader name='/orange/adamginsburg/jwst/cloudc/F405N/pipeline/jw02221002002_02201_00004_nrcalong_align.fits'>\n",
      "  align_fits = fits.open(align_image)\n",
      "\n"
     ]
    },
    {
     "name": "stdout",
     "output_type": "stream",
     "text": [
      "2023-09-06T15:43:11.570058: Running manual align.\n",
      "2023-09-06T15:43:11.571656: 1024.5 126.20755149343998\n",
      "2023-09-06T15:43:11.571803: 1150.70755149344\n",
      "2023-09-06T15:43:11.571959: 1024.5 -4.792691828864809\n",
      "2023-09-06T15:43:11.572076: 1019.7073081711352\n",
      "2023-09-06T15:43:11.929477: jw02221002001_02201_00003_nrcalong_cal.fits\n",
      "Destreaking /orange/adamginsburg/jwst/cloudc/F405N/pipeline/jw02221002001_02201_00003_nrcalong_cal.fits\n"
     ]
    },
    {
     "name": "stderr",
     "output_type": "stream",
     "text": [
      "2023-09-06 15:43:13,295 - stpipe - WARNING - /blue/adamginsburg/adamginsburg/repos/astropy/astropy/wcs/wcs.py:819: FITSFixedWarning: 'datfix' made the change 'Set DATE-BEG to '2023-04-15T15:13:19.934' from MJD-BEG.\n",
      "Set DATE-AVG to '2023-04-15T15:13:46.776' from MJD-AVG.\n",
      "Set DATE-END to '2023-04-15T15:14:13.618' from MJD-END'.\n",
      "  warnings.warn(\n",
      "\n",
      "2023-09-06 15:43:13,297 - stpipe - WARNING - /blue/adamginsburg/adamginsburg/repos/astropy/astropy/wcs/wcs.py:819: FITSFixedWarning: 'obsfix' made the change 'Set OBSGEO-L to  -134.374386 from OBSGEO-[XYZ].\n",
      "Set OBSGEO-B to    -3.180978 from OBSGEO-[XYZ].\n",
      "Set OBSGEO-H to 1298835589.265 from OBSGEO-[XYZ]'.\n",
      "  warnings.warn(\n",
      "\n",
      "2023-09-06 15:43:13,596 - stpipe - WARNING - /scratch/local/9079035/ipykernel_3543302/174679494.py:15: ResourceWarning: unclosed file <_io.BufferedReader name='/orange/adamginsburg/jwst/cloudc/F405N/pipeline/jw02221002001_02201_00003_nrcalong_cal.fits'>\n",
      "  outname = destreak(member['expname'],\n",
      "\n"
     ]
    },
    {
     "name": "stdout",
     "output_type": "stream",
     "text": [
      "2023-09-06T15:43:13.602245: /orange/adamginsburg/jwst/cloudc/F405N/pipeline/jw02221002001_02201_00003_nrcalong_destreak.fits\n"
     ]
    },
    {
     "name": "stderr",
     "output_type": "stream",
     "text": [
      "2023-09-06 15:43:13,827 - stpipe - WARNING - /scratch/local/9079035/ipykernel_3543302/174679494.py:26: ResourceWarning: unclosed file <_io.BufferedReader name='/orange/adamginsburg/jwst/cloudc/F405N/pipeline/jw02221002001_02201_00001_nrcalong_align.fits'>\n",
      "  align_fits = fits.open(align_image)\n",
      "\n"
     ]
    },
    {
     "name": "stdout",
     "output_type": "stream",
     "text": [
      "2023-09-06T15:43:13.855905: Running manual align.\n",
      "2023-09-06T15:43:13.857630: 1024.5 125.40876952196251\n",
      "2023-09-06T15:43:13.857770: 1149.9087695219625\n",
      "2023-09-06T15:43:13.857939: 1024.5 -4.792691828864809\n",
      "2023-09-06T15:43:13.858061: 1019.7073081711352\n",
      "2023-09-06T15:43:14.203045: jw02221002001_02201_00002_nrcalong_cal.fits\n",
      "Destreaking /orange/adamginsburg/jwst/cloudc/F405N/pipeline/jw02221002001_02201_00002_nrcalong_cal.fits\n"
     ]
    },
    {
     "name": "stderr",
     "output_type": "stream",
     "text": [
      "2023-09-06 15:43:15,612 - stpipe - WARNING - /blue/adamginsburg/adamginsburg/repos/astropy/astropy/wcs/wcs.py:819: FITSFixedWarning: 'datfix' made the change 'Set DATE-BEG to '2023-04-15T15:11:00.350' from MJD-BEG.\n",
      "Set DATE-AVG to '2023-04-15T15:11:27.192' from MJD-AVG.\n",
      "Set DATE-END to '2023-04-15T15:11:54.034' from MJD-END'.\n",
      "  warnings.warn(\n",
      "\n",
      "2023-09-06 15:43:15,614 - stpipe - WARNING - /blue/adamginsburg/adamginsburg/repos/astropy/astropy/wcs/wcs.py:819: FITSFixedWarning: 'obsfix' made the change 'Set OBSGEO-L to  -134.376742 from OBSGEO-[XYZ].\n",
      "Set OBSGEO-B to    -3.179688 from OBSGEO-[XYZ].\n",
      "Set OBSGEO-H to 1298825238.212 from OBSGEO-[XYZ]'.\n",
      "  warnings.warn(\n",
      "\n",
      "2023-09-06 15:43:16,201 - stpipe - WARNING - /scratch/local/9079035/ipykernel_3543302/174679494.py:15: ResourceWarning: unclosed file <_io.BufferedReader name='/orange/adamginsburg/jwst/cloudc/F405N/pipeline/jw02221002001_02201_00002_nrcalong_cal.fits'>\n",
      "  outname = destreak(member['expname'],\n",
      "\n"
     ]
    },
    {
     "name": "stdout",
     "output_type": "stream",
     "text": [
      "2023-09-06T15:43:16.207616: /orange/adamginsburg/jwst/cloudc/F405N/pipeline/jw02221002001_02201_00002_nrcalong_destreak.fits\n"
     ]
    },
    {
     "name": "stderr",
     "output_type": "stream",
     "text": [
      "2023-09-06 15:43:16,430 - stpipe - WARNING - /scratch/local/9079035/ipykernel_3543302/174679494.py:26: ResourceWarning: unclosed file <_io.BufferedReader name='/orange/adamginsburg/jwst/cloudc/F405N/pipeline/jw02221002001_02201_00003_nrcalong_align.fits'>\n",
      "  align_fits = fits.open(align_image)\n",
      "\n"
     ]
    },
    {
     "name": "stdout",
     "output_type": "stream",
     "text": [
      "2023-09-06T15:43:16.460528: Running manual align.\n",
      "2023-09-06T15:43:16.462282: 1024.5 126.20755149343998\n",
      "2023-09-06T15:43:16.462422: 1150.70755149344\n",
      "2023-09-06T15:43:16.462590: 1024.5 -4.792691828864809\n",
      "2023-09-06T15:43:16.462709: 1019.7073081711352\n",
      "2023-09-06T15:43:16.728288: jw02221002001_02201_00004_nrcalong_cal.fits\n",
      "Destreaking /orange/adamginsburg/jwst/cloudc/F405N/pipeline/jw02221002001_02201_00004_nrcalong_cal.fits\n"
     ]
    },
    {
     "name": "stderr",
     "output_type": "stream",
     "text": [
      "2023-09-06 15:43:18,442 - stpipe - WARNING - /blue/adamginsburg/adamginsburg/repos/astropy/astropy/wcs/wcs.py:819: FITSFixedWarning: 'datfix' made the change 'Set DATE-BEG to '2023-04-15T15:16:01.022' from MJD-BEG.\n",
      "Set DATE-AVG to '2023-04-15T15:16:27.864' from MJD-AVG.\n",
      "Set DATE-END to '2023-04-15T15:16:54.706' from MJD-END'.\n",
      "  warnings.warn(\n",
      "\n",
      "2023-09-06 15:43:18,444 - stpipe - WARNING - /blue/adamginsburg/adamginsburg/repos/astropy/astropy/wcs/wcs.py:819: FITSFixedWarning: 'obsfix' made the change 'Set OBSGEO-L to  -134.370854 from OBSGEO-[XYZ].\n",
      "Set OBSGEO-B to    -3.182913 from OBSGEO-[XYZ].\n",
      "Set OBSGEO-H to 1298851117.169 from OBSGEO-[XYZ]'.\n",
      "  warnings.warn(\n",
      "\n",
      "2023-09-06 15:43:18,924 - stpipe - WARNING - /scratch/local/9079035/ipykernel_3543302/174679494.py:15: ResourceWarning: unclosed file <_io.BufferedReader name='/orange/adamginsburg/jwst/cloudc/F405N/pipeline/jw02221002001_02201_00004_nrcalong_cal.fits'>\n",
      "  outname = destreak(member['expname'],\n",
      "\n"
     ]
    },
    {
     "name": "stdout",
     "output_type": "stream",
     "text": [
      "2023-09-06T15:43:18.930350: /orange/adamginsburg/jwst/cloudc/F405N/pipeline/jw02221002001_02201_00004_nrcalong_destreak.fits\n"
     ]
    },
    {
     "name": "stderr",
     "output_type": "stream",
     "text": [
      "2023-09-06 15:43:19,192 - stpipe - WARNING - /scratch/local/9079035/ipykernel_3543302/174679494.py:26: ResourceWarning: unclosed file <_io.BufferedReader name='/orange/adamginsburg/jwst/cloudc/F405N/pipeline/jw02221002001_02201_00002_nrcalong_align.fits'>\n",
      "  align_fits = fits.open(align_image)\n",
      "\n"
     ]
    },
    {
     "name": "stdout",
     "output_type": "stream",
     "text": [
      "2023-09-06T15:43:19.223872: Running manual align.\n",
      "2023-09-06T15:43:19.225468: 1024.5 126.20755149343998\n",
      "2023-09-06T15:43:19.225606: 1150.70755149344\n",
      "2023-09-06T15:43:19.225763: 1024.5 -4.792691828864809\n",
      "2023-09-06T15:43:19.225882: 1019.7073081711352\n"
     ]
    }
   ],
   "source": [
    "if module in ('nrca', 'nrcb'):\n",
    "    print(f\"Filter {filtername} module {module}\")\n",
    "\n",
    "    with open(asn_file) as f_obj:\n",
    "        asn_data = json.load(f_obj)\n",
    "    asn_data['products'][0]['name'] = f'jw02221-o{field}_t001_nircam_clear-{filtername.lower()}-{module}'\n",
    "    asn_data['products'][0]['members'] = [row for row in asn_data['products'][0]['members']\n",
    "                                            if f'{module}' in row['expname']]\n",
    "\n",
    "    for member in asn_data['products'][0]['members']:\n",
    "        print(member['expname'])\n",
    "        member['expname'] = os.path.join(output_dir, member['expname'])\n",
    "        hdr = fits.getheader(member['expname'])\n",
    "        if filtername in (hdr['PUPIL'], hdr['FILTER']):\n",
    "            outname = destreak(member['expname'],\n",
    "                               use_background_map=True,\n",
    "                               median_filter_size=2048)  # median_filter_size=medfilt_size[filtername])\n",
    "            member['expname'] = outname\n",
    "\n",
    "        print(member['expname'])\n",
    "        if field == '002' and (filtername.lower() == 'f405n' or filtername.lower() == 'f410m' or filtername.lower() == 'f466n'):\n",
    "                align_image = member['expname'].replace(\"_destreak.fits\", \"_align.fits\")#.split('.')[0]+'_align.fits'\n",
    "                shutil.copy(member['expname'], align_image)\n",
    "                offsets_tbl = Table.read('/orange/adamginsburg/jwst/cloudc/offsets/Offsets_JWST_Cloud_C.csv')\n",
    "                row = offsets_tbl[member['expname'].split('/')[-1] == offsets_tbl['Filename_1']]\n",
    "                align_fits = fits.open(align_image)\n",
    "                pixel_scale = np.sqrt(fits.getheader(align_image, ext=1)['PIXAR_A2']*u.arcsec**2)\n",
    "                try: \n",
    "                    print('Running manual align.')\n",
    "                    print(align_fits['SCI',1].header['CRPIX1'], (float(row['xshift (arcsec)'])*u.arcsec/pixel_scale).value)\n",
    "                    print(align_fits['SCI',1].header['CRPIX1'] + (float(row['xshift (arcsec)'])*u.arcsec/pixel_scale).value)\n",
    "                    print(align_fits['SCI',1].header['CRPIX2'], (float(row['yshift (arcsec)'])*u.arcsec/pixel_scale).value)\n",
    "                    print(align_fits['SCI',1].header['CRPIX2'] + (float(row['yshift (arcsec)'])*u.arcsec/pixel_scale).value)\n",
    "                    align_fits['SCI',1].header['CRPIX1']+=(float(row['xshift (arcsec)'])*u.arcsec/pixel_scale).value\n",
    "                    align_fits['SCI',1].header['CRPIX2']+=(float(row['yshift (arcsec)'])*u.arcsec/pixel_scale).value\n",
    "                except: \n",
    "                    print('Something went wrong with manual align, running default values.')\n",
    "                    visit = member['expname'].split('_')[0][-3:]\n",
    "                    if visit == '001':\n",
    "                        align_fits['SCI',1].header['CRPIX1']+=(8*u.arcsec/pixel_scale).value\n",
    "                        align_fits['SCI',1].header['CRPIX2']+=(-0.3*u.arcsec/pixel_scale).value\n",
    "                    elif visit == '002':\n",
    "                        align_fits['SCI',1].header['CRPIX1']+=(3.9*u.arcsec/pixel_scale).value\n",
    "                        align_fits['SCI',1].header['CRPIX2']+=(1*u.arcsec/pixel_scale).value\n",
    "                    else:\n",
    "                        align_fits['SCI',1].header['CRPIX1']+=(0*u.arcsec/pixel_scale).value\n",
    "                        align_fits['SCI',1].header['CRPIX2']+=(0*u.arcsec/pixel_scale).value\n",
    "                align_fits.writeto(align_image, overwrite=True)\n",
    "                member['expname'] = align_image\n",
    "\n",
    "    asn_file_each = asn_file.replace(\"_asn.json\", f\"_{module}_asn.json\")\n",
    "    with open(asn_file_each, 'w') as fh:\n",
    "        json.dump(asn_data, fh)\n",
    "        \n",
    "if module == 'merged':\n",
    "        # try merging all frames & modules\n",
    "        log.info(\"Working on merged reduction (both modules)\")\n",
    "\n",
    "        fov_regname = {'brick': 'regions/nircam_brick_fov.reg',\n",
    "                       'cloudc': 'regions/nircam_cloudc_fov.reg',\n",
    "                      }\n",
    "\n",
    "        # Load asn_data for both modules\n",
    "        with open(asn_file) as f_obj:\n",
    "            asn_data = json.load(f_obj)\n",
    "\n",
    "        for member in asn_data['products'][0]['members']:\n",
    "            hdr = fits.getheader(member['expname'])\n",
    "            if filtername in (hdr['PUPIL'], hdr['FILTER']):\n",
    "                outname = destreak(member['expname'],\n",
    "                                   use_background_map=True,\n",
    "                                   median_filter_size=2048)  # median_filter_size=medfilt_size[filtername])\n",
    "                member['expname'] = outname\n",
    "            \n",
    "            if field == '002' and (filtername.lower() == 'f405n' or filtername.lower() == 'f410m' or filtername.lower() == 'f466n'):\n",
    "                align_image = member['expname'].replace(\"_destreak.fits\", \"_align.fits\")#.split('.')[0]+'_align.fits'\n",
    "                shutil.copy(member['expname'], align_image)\n",
    "                offsets_tbl = Table.read('/orange/adamginsburg/jwst/cloudc/offsets/Offsets_JWST_Cloud_C.csv')\n",
    "                row = offsets_tbl[member['expname'].split('/')[-1] == offsets_tbl['Filename_1']]\n",
    "                align_fits = fits.open(align_image)\n",
    "                pixel_scale = np.sqrt(fits.getheader(align_image, ext=1)['PIXAR_A2']*u.arcsec**2)\n",
    "                try: \n",
    "                    print('Running manual align.')\n",
    "                    print(align_fits['SCI',1].header['CRPIX1'], (float(row['xshift (arcsec)'])*u.arcsec/pixel_scale).value)\n",
    "                    print(align_fits['SCI',1].header['CRPIX1'] + (float(row['xshift (arcsec)'])*u.arcsec/pixel_scale).value)\n",
    "                    print(align_fits['SCI',1].header['CRPIX2'], (float(row['yshift (arcsec)'])*u.arcsec/pixel_scale).value)\n",
    "                    print(align_fits['SCI',1].header['CRPIX2'] + (float(row['yshift (arcsec)'])*u.arcsec/pixel_scale).value)\n",
    "                    align_fits['SCI',1].header['CRPIX1']+=(float(row['xshift (arcsec)'])*u.arcsec/pixel_scale).value\n",
    "                    align_fits['SCI',1].header['CRPIX2']+=(float(row['yshift (arcsec)'])*u.arcsec/pixel_scale).value\n",
    "                except: \n",
    "                    print('Something went wrong with manual align, running default values.')\n",
    "                    visit = member['expname'].split('_')[0][-3:]\n",
    "                    if visit == '001':\n",
    "                        align_fits['SCI',1].header['CRPIX1']+=(8*u.arcsec/pixel_scale).value\n",
    "                        align_fits['SCI',1].header['CRPIX2']+=(-0.3*u.arcsec/pixel_scale).value\n",
    "                    elif visit == '002':\n",
    "                        align_fits['SCI',1].header['CRPIX1']+=(3.9*u.arcsec/pixel_scale).value\n",
    "                        align_fits['SCI',1].header['CRPIX2']+=(1*u.arcsec/pixel_scale).value\n",
    "                    else:\n",
    "                        align_fits['SCI',1].header['CRPIX1']+=(0*u.arcsec/pixel_scale).value\n",
    "                        align_fits['SCI',1].header['CRPIX2']+=(0*u.arcsec/pixel_scale).value\n",
    "                align_fits.writeto(align_image, overwrite=True)\n",
    "                member['expname'] = align_image\n",
    "\n",
    "        asn_data['products'][0]['name'] = f'jw02221-o{field}_t001_nircam_clear-{filtername.lower()}-merged'\n",
    "        asn_file_merged = asn_file.replace(\"_asn.json\", f\"_merged_asn.json\")\n",
    "        with open(asn_file_merged, 'w') as fh:\n",
    "            json.dump(asn_data, fh)"
   ]
  },
  {
   "cell_type": "code",
   "execution_count": 22,
   "id": "1d527bc5-8644-473e-907b-87256d3b67cf",
   "metadata": {
    "tags": []
   },
   "outputs": [
    {
     "data": {
      "text/plain": [
       "'/orange/adamginsburg/jwst/cloudc/F405N/pipeline/jw02221-o002_20230725t121309_image3_00005_asn.json'"
      ]
     },
     "execution_count": 22,
     "metadata": {},
     "output_type": "execute_result"
    }
   ],
   "source": [
    "asn_file#['products'][0]['members']"
   ]
  },
  {
   "cell_type": "code",
   "execution_count": 18,
   "id": "de353f98-63bd-4517-986f-5e499bf47075",
   "metadata": {},
   "outputs": [
    {
     "data": {
      "text/plain": [
       "'/orange/adamginsburg/jwst/cloudc/F405N/pipeline/jw02221-o002_20230725t121309_image3_00005_nrca_asn.json'"
      ]
     },
     "execution_count": 18,
     "metadata": {},
     "output_type": "execute_result"
    }
   ],
   "source": [
    "asn_file_each"
   ]
  },
  {
   "cell_type": "code",
   "execution_count": null,
   "id": "1397c58b-54ac-499e-957e-3883cedcd1e0",
   "metadata": {},
   "outputs": [],
   "source": []
  },
  {
   "cell_type": "code",
   "execution_count": null,
   "id": "d9515665-0ae2-42fc-93b8-27fe979bcd75",
   "metadata": {},
   "outputs": [],
   "source": []
  },
  {
   "cell_type": "code",
   "execution_count": 97,
   "id": "e6102ec2-fee2-4041-922a-59c2c44ab898",
   "metadata": {},
   "outputs": [
    {
     "name": "stdout",
     "output_type": "stream",
     "text": [
      "2023-09-06T15:43:19.444221: Loaded VVV catalog /orange/adamginsburg/jwst/cloudc//F405N/pipeline/jw02221-o002_t001_nircam_clear-F405N-merged_vvvcat.ecsv\n"
     ]
    }
   ],
   "source": [
    "\n",
    "if filtername.lower() == 'f405n':\n",
    "# for the VVV cat, use the merged version: no need for independent versions\n",
    "    abs_refcat = vvvdr2fn = (f'{basepath}/{filtername.upper()}/pipeline/jw02221-o{field}_t001_nircam_clear-{filtername}-merged_vvvcat.ecsv') # file needed by crowdsource_catalogs_long\n",
    "    print(f\"Loaded VVV catalog {vvvdr2fn}\")\n",
    "    retrieve_vvv(basepath=basepath, filtername=filtername, fov_regname=fov_regname[regionname], module='merged', fieldnumber=field)\n",
    "    tweakreg_parameters['abs_refcat'] = vvvdr2fn\n",
    "    tweakreg_parameters['abs_searchrad'] = 1\n",
    "    reftbl = Table.read(abs_refcat)\n",
    "    assert 'skycoord' in reftbl.colnames\n",
    "else:\n",
    "    abs_refcat = f'{basepath}/catalogs/crowdsource_based_nircam-f405n_reference_astrometric_catalog.ecsv'\n",
    "    reftbl = Table.read(abs_refcat)\n",
    "    # For non-F410M, try aligning to F410M instead of VVV?\n",
    "    reftblversion = reftbl.meta['VERSION']\n",
    "\n",
    "    # truncate to top 10,000 sources\n",
    "    reftbl[:10000].write(f'{basepath}/catalogs/crowdsource_based_nircam-f405n_reference_astrometric_catalog_truncated10000.ecsv', overwrite=True)\n",
    "    abs_refcat = f'{basepath}/catalogs/crowdsource_based_nircam-f405n_reference_astrometric_catalog_truncated10000.ecsv'\n",
    "\n",
    "    tweakreg_parameters['abs_searchrad'] = 0.4\n",
    "    # try forcing searchrad to be tighter to avoid bad crossmatches\n",
    "    # (the raw data are very well-aligned to begin with, though CARTA\n",
    "    # can't display them b/c they are using SIP)\n",
    "    tweakreg_parameters['searchrad'] = 0.05\n",
    "    print(f\"Reference catalog is {abs_refcat} with version {reftblversion}\")\n"
   ]
  },
  {
   "cell_type": "code",
   "execution_count": 56,
   "id": "de81c6da-6b89-4039-ad4f-acc2440df84c",
   "metadata": {
    "collapsed": true,
    "jupyter": {
     "outputs_hidden": true
    },
    "tags": []
   },
   "outputs": [
    {
     "name": "stderr",
     "output_type": "stream",
     "text": [
      "2023-09-01 18:14:50,648 - stpipe - INFO - Running tweakreg (nrcb)\n"
     ]
    },
    {
     "name": "stdout",
     "output_type": "stream",
     "text": [
      "INFO: Running tweakreg (nrcb) [unknown]\n"
     ]
    },
    {
     "name": "stderr",
     "output_type": "stream",
     "text": [
      "2023-09-01 18:14:54,295 - stpipe - INFO - PARS-TWEAKREGSTEP parameters found: /orange/adamginsburg/jwst/cloudc//crds/references/jwst/nircam/jwst_nircam_pars-tweakregstep_0035.asdf\n",
      "2023-09-01 18:14:54,334 - CRDS - ERROR -  Error determining best reference for 'pars-sourcecatalogstep'  =   No match found.\n",
      "2023-09-01 18:14:54,351 - stpipe.Image3Pipeline - INFO - Image3Pipeline instance created.\n",
      "2023-09-01 18:14:54,354 - stpipe.Image3Pipeline.assign_mtwcs - INFO - AssignMTWcsStep instance created.\n",
      "2023-09-01 18:14:54,357 - stpipe.Image3Pipeline.tweakreg - INFO - TweakRegStep instance created.\n",
      "2023-09-01 18:14:54,362 - stpipe.Image3Pipeline.skymatch - INFO - SkyMatchStep instance created.\n",
      "2023-09-01 18:14:54,365 - stpipe.Image3Pipeline.outlier_detection - INFO - OutlierDetectionStep instance created.\n",
      "2023-09-01 18:14:54,368 - stpipe.Image3Pipeline.resample - INFO - ResampleStep instance created.\n",
      "2023-09-01 18:14:54,371 - stpipe.Image3Pipeline.source_catalog - INFO - SourceCatalogStep instance created.\n",
      "2023-09-01 18:14:54,536 - stpipe.Image3Pipeline - INFO - Step Image3Pipeline running with args ('/orange/adamginsburg/jwst/cloudc/F405N/pipeline/jw02221-o002_20230725t121309_image3_00005_nrcb_asn.json',).\n",
      "2023-09-01 18:14:54,546 - stpipe.Image3Pipeline - INFO - Step Image3Pipeline parameters are: {'pre_hooks': [], 'post_hooks': [], 'output_file': None, 'output_dir': '/orange/adamginsburg/jwst/cloudc/F405N/pipeline/', 'output_ext': '.fits', 'output_use_model': False, 'output_use_index': True, 'save_results': True, 'skip': False, 'suffix': None, 'search_output_file': True, 'input_dir': '', 'steps': {'assign_mtwcs': {'pre_hooks': [], 'post_hooks': [], 'output_file': None, 'output_dir': None, 'output_ext': '.fits', 'output_use_model': True, 'output_use_index': True, 'save_results': False, 'skip': False, 'suffix': 'assign_mtwcs', 'search_output_file': True, 'input_dir': ''}, 'tweakreg': {'pre_hooks': [], 'post_hooks': [], 'output_file': None, 'output_dir': None, 'output_ext': '.fits', 'output_use_model': True, 'output_use_index': True, 'save_results': False, 'skip': True, 'suffix': None, 'search_output_file': True, 'input_dir': '', 'save_catalogs': True, 'use_custom_catalogs': False, 'catalog_format': 'ecsv', 'catfile': '', 'kernel_fwhm': 2.165, 'snr_threshold': 30, 'sharplo': 0.3, 'sharphi': 0.9, 'roundlo': -0.25, 'roundhi': 0.25, 'brightest': 500, 'peakmax': None, 'bkg_boxsize': 400, 'enforce_user_order': False, 'expand_refcat': False, 'minobj': 15, 'searchrad': 2.0, 'use2dhist': True, 'separation': 0.5, 'tolerance': 1.0, 'xoffset': 0.0, 'yoffset': 0.0, 'fitgeometry': 'general', 'nclip': 5, 'sigma': 3.0, 'abs_refcat': '/orange/adamginsburg/jwst/cloudc//F405N/pipeline/jw02221-o002_t001_nircam_clear-F405N-merged_vvvcat.ecsv', 'save_abs_catalog': False, 'abs_minobj': 15, 'abs_searchrad': 1, 'abs_use2dhist': True, 'abs_separation': 0.1, 'abs_tolerance': 0.7, 'abs_fitgeometry': 'rshift', 'abs_nclip': 3, 'abs_sigma': 3.0}, 'skymatch': {'pre_hooks': [], 'post_hooks': [], 'output_file': None, 'output_dir': None, 'output_ext': '.fits', 'output_use_model': False, 'output_use_index': True, 'save_results': False, 'skip': False, 'suffix': None, 'search_output_file': True, 'input_dir': '', 'skymethod': 'match', 'match_down': True, 'subtract': False, 'stepsize': None, 'skystat': 'mode', 'dqbits': '~DO_NOT_USE+NON_SCIENCE', 'lower': None, 'upper': None, 'nclip': 5, 'lsigma': 4.0, 'usigma': 4.0, 'binwidth': 0.1}, 'outlier_detection': {'pre_hooks': [], 'post_hooks': [], 'output_file': None, 'output_dir': None, 'output_ext': '.fits', 'output_use_model': False, 'output_use_index': True, 'save_results': False, 'skip': False, 'suffix': None, 'search_output_file': False, 'input_dir': '', 'weight_type': 'ivm', 'pixfrac': 1.0, 'kernel': 'square', 'fillval': 'INDEF', 'nlow': 0, 'nhigh': 0, 'maskpt': 0.7, 'grow': 1, 'snr': '5.0 4.0', 'scale': '1.2 0.7', 'backg': 0.0, 'kernel_size': '7 7', 'threshold_percent': 99.8, 'ifu_second_check': False, 'save_intermediate_results': False, 'resample_data': True, 'good_bits': '~DO_NOT_USE', 'scale_detection': False, 'allowed_memory': None, 'in_memory': False}, 'resample': {'pre_hooks': [], 'post_hooks': [], 'output_file': None, 'output_dir': None, 'output_ext': '.fits', 'output_use_model': False, 'output_use_index': True, 'save_results': False, 'skip': False, 'suffix': None, 'search_output_file': True, 'input_dir': '', 'pixfrac': 1.0, 'kernel': 'square', 'fillval': 'INDEF', 'weight_type': 'ivm', 'output_shape': None, 'crpix': None, 'crval': None, 'rotation': None, 'pixel_scale_ratio': 1.0, 'pixel_scale': None, 'output_wcs': '', 'single': False, 'blendheaders': True, 'allowed_memory': None, 'in_memory': True}, 'source_catalog': {'pre_hooks': [], 'post_hooks': [], 'output_file': None, 'output_dir': None, 'output_ext': '.fits', 'output_use_model': False, 'output_use_index': True, 'save_results': False, 'skip': False, 'suffix': 'cat', 'search_output_file': True, 'input_dir': '', 'bkg_boxsize': 1000, 'kernel_fwhm': 2.0, 'snr_threshold': 3.0, 'npixels': 25, 'deblend': False, 'aperture_ee1': 30, 'aperture_ee2': 50, 'aperture_ee3': 70, 'ci1_star_threshold': 2.0, 'ci2_star_threshold': 1.8}}}\n",
      "2023-09-01 18:14:55,366 - stpipe.Image3Pipeline - INFO - Prefetching reference files for dataset: 'jw02221002002_08201_00004_nrcblong_align.fits' reftypes = ['abvegaoffset', 'apcorr', 'drizpars']\n",
      "2023-09-01 18:14:55,390 - stpipe.Image3Pipeline - INFO - Prefetch for ABVEGAOFFSET reference file is '/orange/adamginsburg/jwst/cloudc//crds/references/jwst/nircam/jwst_nircam_abvegaoffset_0001.asdf'.\n",
      "2023-09-01 18:14:55,393 - stpipe.Image3Pipeline - INFO - Prefetch for APCORR reference file is '/orange/adamginsburg/jwst/cloudc//crds/references/jwst/nircam/jwst_nircam_apcorr_0004.fits'.\n",
      "2023-09-01 18:14:55,394 - stpipe.Image3Pipeline - INFO - Prefetch for DRIZPARS reference file is '/orange/adamginsburg/jwst/cloudc//crds/references/jwst/nircam/jwst_nircam_drizpars_0001.fits'.\n",
      "2023-09-01 18:14:55,397 - stpipe.Image3Pipeline - INFO - Starting calwebb_image3 ...\n"
     ]
    },
    {
     "ename": "KeyboardInterrupt",
     "evalue": "",
     "output_type": "error",
     "traceback": [
      "\u001b[0;31m---------------------------------------------------------------------------\u001b[0m",
      "\u001b[0;31mKeyboardInterrupt\u001b[0m                         Traceback (most recent call last)",
      "Cell \u001b[0;32mIn[56], line 25\u001b[0m\n\u001b[1;32m      1\u001b[0m tweakreg_parameters\u001b[38;5;241m.\u001b[39mupdate({\n\u001b[1;32m      2\u001b[0m                            \u001b[38;5;124m'\u001b[39m\u001b[38;5;124mfitgeometry\u001b[39m\u001b[38;5;124m'\u001b[39m: \u001b[38;5;124m'\u001b[39m\u001b[38;5;124mgeneral\u001b[39m\u001b[38;5;124m'\u001b[39m,\n\u001b[1;32m      3\u001b[0m                            \u001b[38;5;66;03m# brightest = 5000 was causing problems- maybe the cross-alignment was getting caught on PSF artifacts?\u001b[39;00m\n\u001b[0;32m   (...)\u001b[0m\n\u001b[1;32m     21\u001b[0m                             \n\u001b[1;32m     22\u001b[0m                            })\n\u001b[1;32m     24\u001b[0m log\u001b[38;5;241m.\u001b[39minfo(\u001b[38;5;124mf\u001b[39m\u001b[38;5;124m\"\u001b[39m\u001b[38;5;124mRunning tweakreg (\u001b[39m\u001b[38;5;132;01m{\u001b[39;00mmodule\u001b[38;5;132;01m}\u001b[39;00m\u001b[38;5;124m)\u001b[39m\u001b[38;5;124m\"\u001b[39m)\n\u001b[0;32m---> 25\u001b[0m \u001b[43mcalwebb_image3\u001b[49m\u001b[38;5;241;43m.\u001b[39;49m\u001b[43mImage3Pipeline\u001b[49m\u001b[38;5;241;43m.\u001b[39;49m\u001b[43mcall\u001b[49m\u001b[43m(\u001b[49m\n\u001b[1;32m     26\u001b[0m \u001b[43m    \u001b[49m\u001b[43masn_file_each\u001b[49m\u001b[43m,\u001b[49m\n\u001b[1;32m     27\u001b[0m \u001b[43m    \u001b[49m\u001b[43msteps\u001b[49m\u001b[38;5;241;43m=\u001b[39;49m\u001b[43m{\u001b[49m\u001b[38;5;124;43m'\u001b[39;49m\u001b[38;5;124;43mtweakreg\u001b[39;49m\u001b[38;5;124;43m'\u001b[39;49m\u001b[43m:\u001b[49m\u001b[43m \u001b[49m\u001b[43mtweakreg_parameters\u001b[49m\u001b[43m,\u001b[49m\u001b[43m}\u001b[49m\u001b[43m,\u001b[49m\n\u001b[1;32m     28\u001b[0m \u001b[43m    \u001b[49m\u001b[43moutput_dir\u001b[49m\u001b[38;5;241;43m=\u001b[39;49m\u001b[43moutput_dir\u001b[49m\u001b[43m,\u001b[49m\n\u001b[1;32m     29\u001b[0m \u001b[43m    \u001b[49m\u001b[43msave_results\u001b[49m\u001b[38;5;241;43m=\u001b[39;49m\u001b[38;5;28;43;01mTrue\u001b[39;49;00m\u001b[43m)\u001b[49m\n\u001b[1;32m     30\u001b[0m \u001b[38;5;28mprint\u001b[39m(\u001b[38;5;124mf\u001b[39m\u001b[38;5;124m\"\u001b[39m\u001b[38;5;124mDONE running \u001b[39m\u001b[38;5;132;01m{\u001b[39;00masn_file_each\u001b[38;5;132;01m}\u001b[39;00m\u001b[38;5;124m\"\u001b[39m)\n",
      "File \u001b[0;32m/blue/adamginsburg/adamginsburg/miniconda3/envs/python39savannah/lib/python3.9/site-packages/stpipe/step.py:652\u001b[0m, in \u001b[0;36mStep.call\u001b[0;34m(cls, *args, **kwargs)\u001b[0m\n\u001b[1;32m    649\u001b[0m name \u001b[38;5;241m=\u001b[39m config\u001b[38;5;241m.\u001b[39mget(\u001b[38;5;124m\"\u001b[39m\u001b[38;5;124mname\u001b[39m\u001b[38;5;124m\"\u001b[39m, \u001b[38;5;28;01mNone\u001b[39;00m)\n\u001b[1;32m    650\u001b[0m instance \u001b[38;5;241m=\u001b[39m \u001b[38;5;28mcls\u001b[39m\u001b[38;5;241m.\u001b[39mfrom_config_section(config, name\u001b[38;5;241m=\u001b[39mname, config_file\u001b[38;5;241m=\u001b[39mconfig_file)\n\u001b[0;32m--> 652\u001b[0m \u001b[38;5;28;01mreturn\u001b[39;00m \u001b[43minstance\u001b[49m\u001b[38;5;241;43m.\u001b[39;49m\u001b[43mrun\u001b[49m\u001b[43m(\u001b[49m\u001b[38;5;241;43m*\u001b[39;49m\u001b[43margs\u001b[49m\u001b[43m)\u001b[49m\n",
      "File \u001b[0;32m/blue/adamginsburg/adamginsburg/miniconda3/envs/python39savannah/lib/python3.9/site-packages/stpipe/step.py:478\u001b[0m, in \u001b[0;36mStep.run\u001b[0;34m(self, *args)\u001b[0m\n\u001b[1;32m    476\u001b[0m     \u001b[38;5;28mself\u001b[39m\u001b[38;5;241m.\u001b[39mprefetch(\u001b[38;5;241m*\u001b[39margs)\n\u001b[1;32m    477\u001b[0m \u001b[38;5;28;01mtry\u001b[39;00m:\n\u001b[0;32m--> 478\u001b[0m     step_result \u001b[38;5;241m=\u001b[39m \u001b[38;5;28;43mself\u001b[39;49m\u001b[38;5;241;43m.\u001b[39;49m\u001b[43mprocess\u001b[49m\u001b[43m(\u001b[49m\u001b[38;5;241;43m*\u001b[39;49m\u001b[43margs\u001b[49m\u001b[43m)\u001b[49m\n\u001b[1;32m    479\u001b[0m \u001b[38;5;28;01mexcept\u001b[39;00m \u001b[38;5;167;01mTypeError\u001b[39;00m \u001b[38;5;28;01mas\u001b[39;00m e:\n\u001b[1;32m    480\u001b[0m     \u001b[38;5;28;01mif\u001b[39;00m \u001b[38;5;124m\"\u001b[39m\u001b[38;5;124mprocess() takes exactly\u001b[39m\u001b[38;5;124m\"\u001b[39m \u001b[38;5;129;01min\u001b[39;00m \u001b[38;5;28mstr\u001b[39m(e):\n",
      "File \u001b[0;32m/blue/adamginsburg/adamginsburg/miniconda3/envs/python39savannah/lib/python3.9/site-packages/jwst/pipeline/calwebb_image3.py:71\u001b[0m, in \u001b[0;36mImage3Pipeline.process\u001b[0;34m(self, input_data)\u001b[0m\n\u001b[1;32m     67\u001b[0m \u001b[38;5;28mself\u001b[39m\u001b[38;5;241m.\u001b[39mresample\u001b[38;5;241m.\u001b[39msave_results \u001b[38;5;241m=\u001b[39m \u001b[38;5;28mself\u001b[39m\u001b[38;5;241m.\u001b[39msave_results\n\u001b[1;32m     69\u001b[0m \u001b[38;5;28mself\u001b[39m\u001b[38;5;241m.\u001b[39msource_catalog\u001b[38;5;241m.\u001b[39msave_results \u001b[38;5;241m=\u001b[39m \u001b[38;5;28mself\u001b[39m\u001b[38;5;241m.\u001b[39msave_results\n\u001b[0;32m---> 71\u001b[0m \u001b[38;5;28;01mwith\u001b[39;00m \u001b[43mdatamodels\u001b[49m\u001b[38;5;241;43m.\u001b[39;49m\u001b[43mopen\u001b[49m\u001b[43m(\u001b[49m\u001b[43minput_data\u001b[49m\u001b[43m,\u001b[49m\u001b[43m \u001b[49m\u001b[43masn_exptypes\u001b[49m\u001b[38;5;241;43m=\u001b[39;49m\u001b[43masn_exptypes\u001b[49m\u001b[43m)\u001b[49m \u001b[38;5;28;01mas\u001b[39;00m input_models:\n\u001b[1;32m     72\u001b[0m     \u001b[38;5;66;03m# If input is an association, set the output to the product name.\u001b[39;00m\n\u001b[1;32m     73\u001b[0m     \u001b[38;5;28;01mif\u001b[39;00m \u001b[38;5;28mself\u001b[39m\u001b[38;5;241m.\u001b[39moutput_file \u001b[38;5;129;01mis\u001b[39;00m \u001b[38;5;28;01mNone\u001b[39;00m:\n\u001b[1;32m     74\u001b[0m         \u001b[38;5;28;01mtry\u001b[39;00m:\n",
      "File \u001b[0;32m/blue/adamginsburg/adamginsburg/miniconda3/envs/python39savannah/lib/python3.9/site-packages/stdatamodels/jwst/datamodels/util.py:140\u001b[0m, in \u001b[0;36mopen\u001b[0;34m(init, guess, memmap, **kwargs)\u001b[0m\n\u001b[1;32m    137\u001b[0m     \u001b[38;5;28;01mexcept\u001b[39;00m \u001b[38;5;167;01mImportError\u001b[39;00m \u001b[38;5;28;01mas\u001b[39;00m err:\n\u001b[1;32m    138\u001b[0m         \u001b[38;5;28;01mraise\u001b[39;00m \u001b[38;5;167;01mValueError\u001b[39;00m(\u001b[38;5;124m\"\u001b[39m\u001b[38;5;124mCannot open an association file without the jwst package installed\u001b[39m\u001b[38;5;124m\"\u001b[39m) \u001b[38;5;28;01mfrom\u001b[39;00m \u001b[38;5;21;01merr\u001b[39;00m\n\u001b[0;32m--> 140\u001b[0m     \u001b[38;5;28;01mreturn\u001b[39;00m \u001b[43mModelContainer\u001b[49m\u001b[43m(\u001b[49m\u001b[43minit\u001b[49m\u001b[43m,\u001b[49m\u001b[43m \u001b[49m\u001b[38;5;241;43m*\u001b[39;49m\u001b[38;5;241;43m*\u001b[39;49m\u001b[43mkwargs\u001b[49m\u001b[43m)\u001b[49m\n\u001b[1;32m    142\u001b[0m \u001b[38;5;28;01melif\u001b[39;00m file_type \u001b[38;5;241m==\u001b[39m \u001b[38;5;124m\"\u001b[39m\u001b[38;5;124masdf\u001b[39m\u001b[38;5;124m\"\u001b[39m:\n\u001b[1;32m    143\u001b[0m     asdffile \u001b[38;5;241m=\u001b[39m asdf\u001b[38;5;241m.\u001b[39mopen(init, copy_arrays\u001b[38;5;241m=\u001b[39m\u001b[38;5;129;01mnot\u001b[39;00m memmap)\n",
      "File \u001b[0;32m/blue/adamginsburg/adamginsburg/miniconda3/envs/python39savannah/lib/python3.9/site-packages/jwst/datamodels/container.py:178\u001b[0m, in \u001b[0;36mModelContainer.__init__\u001b[0;34m(self, init, asn_exptypes, asn_n_members, iscopy, **kwargs)\u001b[0m\n\u001b[1;32m    176\u001b[0m \u001b[38;5;28;01melif\u001b[39;00m \u001b[38;5;28misinstance\u001b[39m(init, \u001b[38;5;28mstr\u001b[39m):\n\u001b[1;32m    177\u001b[0m     init_from_asn \u001b[38;5;241m=\u001b[39m \u001b[38;5;28mself\u001b[39m\u001b[38;5;241m.\u001b[39mread_asn(init)\n\u001b[0;32m--> 178\u001b[0m     \u001b[38;5;28;43mself\u001b[39;49m\u001b[38;5;241;43m.\u001b[39;49m\u001b[43mfrom_asn\u001b[49m\u001b[43m(\u001b[49m\u001b[43minit_from_asn\u001b[49m\u001b[43m,\u001b[49m\u001b[43m \u001b[49m\u001b[43masn_file_path\u001b[49m\u001b[38;5;241;43m=\u001b[39;49m\u001b[43minit\u001b[49m\u001b[43m)\u001b[49m\n\u001b[1;32m    179\u001b[0m \u001b[38;5;28;01melse\u001b[39;00m:\n\u001b[1;32m    180\u001b[0m     \u001b[38;5;28;01mraise\u001b[39;00m \u001b[38;5;167;01mTypeError\u001b[39;00m(\u001b[38;5;124m'\u001b[39m\u001b[38;5;124mInput \u001b[39m\u001b[38;5;132;01m{0!r}\u001b[39;00m\u001b[38;5;124m is not a list of JwstDataModels or \u001b[39m\u001b[38;5;124m'\u001b[39m\n\u001b[1;32m    181\u001b[0m                     \u001b[38;5;124m'\u001b[39m\u001b[38;5;124man ASN file\u001b[39m\u001b[38;5;124m'\u001b[39m\u001b[38;5;241m.\u001b[39mformat(init))\n",
      "File \u001b[0;32m/blue/adamginsburg/adamginsburg/miniconda3/envs/python39savannah/lib/python3.9/site-packages/jwst/datamodels/container.py:300\u001b[0m, in \u001b[0;36mModelContainer.from_asn\u001b[0;34m(self, asn_data, asn_file_path)\u001b[0m\n\u001b[1;32m    298\u001b[0m update_model \u001b[38;5;241m=\u001b[39m \u001b[38;5;28many\u001b[39m(attr \u001b[38;5;129;01min\u001b[39;00m member \u001b[38;5;28;01mfor\u001b[39;00m attr \u001b[38;5;129;01min\u001b[39;00m RECOGNIZED_MEMBER_FIELDS)\n\u001b[1;32m    299\u001b[0m \u001b[38;5;28;01mif\u001b[39;00m update_model \u001b[38;5;129;01mor\u001b[39;00m \u001b[38;5;28mself\u001b[39m\u001b[38;5;241m.\u001b[39m_save_open:\n\u001b[0;32m--> 300\u001b[0m     m \u001b[38;5;241m=\u001b[39m \u001b[43mdatamodel_open\u001b[49m\u001b[43m(\u001b[49m\u001b[43mfilepath\u001b[49m\u001b[43m,\u001b[49m\u001b[43m \u001b[49m\u001b[43mmemmap\u001b[49m\u001b[38;5;241;43m=\u001b[39;49m\u001b[38;5;28;43mself\u001b[39;49m\u001b[38;5;241;43m.\u001b[39;49m\u001b[43m_memmap\u001b[49m\u001b[43m)\u001b[49m\n\u001b[1;32m    301\u001b[0m     m\u001b[38;5;241m.\u001b[39mmeta\u001b[38;5;241m.\u001b[39masn\u001b[38;5;241m.\u001b[39mexptype \u001b[38;5;241m=\u001b[39m member[\u001b[38;5;124m'\u001b[39m\u001b[38;5;124mexptype\u001b[39m\u001b[38;5;124m'\u001b[39m]\n\u001b[1;32m    302\u001b[0m     \u001b[38;5;28;01mfor\u001b[39;00m attr, val \u001b[38;5;129;01min\u001b[39;00m member\u001b[38;5;241m.\u001b[39mitems():\n",
      "File \u001b[0;32m/blue/adamginsburg/adamginsburg/miniconda3/envs/python39savannah/lib/python3.9/site-packages/stdatamodels/jwst/datamodels/util.py:226\u001b[0m, in \u001b[0;36mopen\u001b[0;34m(init, guess, memmap, **kwargs)\u001b[0m\n\u001b[1;32m    224\u001b[0m \u001b[38;5;66;03m# Actually open the model\u001b[39;00m\n\u001b[1;32m    225\u001b[0m \u001b[38;5;28;01mtry\u001b[39;00m:\n\u001b[0;32m--> 226\u001b[0m     model \u001b[38;5;241m=\u001b[39m \u001b[43mnew_class\u001b[49m\u001b[43m(\u001b[49m\u001b[43minit\u001b[49m\u001b[43m,\u001b[49m\u001b[43m \u001b[49m\u001b[38;5;241;43m*\u001b[39;49m\u001b[38;5;241;43m*\u001b[39;49m\u001b[43mkwargs\u001b[49m\u001b[43m)\u001b[49m\n\u001b[1;32m    227\u001b[0m \u001b[38;5;28;01mexcept\u001b[39;00m \u001b[38;5;167;01mException\u001b[39;00m:\n\u001b[1;32m    228\u001b[0m     \u001b[38;5;28;01mif\u001b[39;00m file_to_close \u001b[38;5;129;01mis\u001b[39;00m \u001b[38;5;129;01mnot\u001b[39;00m \u001b[38;5;28;01mNone\u001b[39;00m:\n",
      "File \u001b[0;32m/blue/adamginsburg/adamginsburg/miniconda3/envs/python39savannah/lib/python3.9/site-packages/stdatamodels/model_base.py:223\u001b[0m, in \u001b[0;36mDataModel.__init__\u001b[0;34m(self, init, schema, memmap, pass_invalid_values, strict_validation, validate_on_assignment, cast_fits_arrays, validate_arrays, ignore_missing_extensions, **kwargs)\u001b[0m\n\u001b[1;32m    220\u001b[0m     asdffile \u001b[38;5;241m=\u001b[39m init\n\u001b[1;32m    222\u001b[0m \u001b[38;5;28;01melif\u001b[39;00m \u001b[38;5;28misinstance\u001b[39m(init, fits\u001b[38;5;241m.\u001b[39mHDUList):\n\u001b[0;32m--> 223\u001b[0m     asdffile \u001b[38;5;241m=\u001b[39m \u001b[43mfits_support\u001b[49m\u001b[38;5;241;43m.\u001b[39;49m\u001b[43mfrom_fits\u001b[49m\u001b[43m(\u001b[49m\u001b[43minit\u001b[49m\u001b[43m,\u001b[49m\u001b[43m \u001b[49m\u001b[38;5;28;43mself\u001b[39;49m\u001b[38;5;241;43m.\u001b[39;49m\u001b[43m_schema\u001b[49m\u001b[43m,\u001b[49m\u001b[43m \u001b[49m\u001b[38;5;28;43mself\u001b[39;49m\u001b[38;5;241;43m.\u001b[39;49m\u001b[43m_ctx\u001b[49m\u001b[43m,\u001b[49m\n\u001b[1;32m    224\u001b[0m \u001b[43m                                      \u001b[49m\u001b[38;5;241;43m*\u001b[39;49m\u001b[38;5;241;43m*\u001b[39;49m\u001b[43mkwargs\u001b[49m\u001b[43m)\u001b[49m\n\u001b[1;32m    226\u001b[0m \u001b[38;5;28;01melif\u001b[39;00m \u001b[38;5;28misinstance\u001b[39m(init, (\u001b[38;5;28mstr\u001b[39m, \u001b[38;5;28mbytes\u001b[39m, PurePath)):\n\u001b[1;32m    227\u001b[0m     \u001b[38;5;28;01mif\u001b[39;00m \u001b[38;5;28misinstance\u001b[39m(init, PurePath):\n",
      "File \u001b[0;32m/blue/adamginsburg/adamginsburg/miniconda3/envs/python39savannah/lib/python3.9/site-packages/stdatamodels/fits_support.py:712\u001b[0m, in \u001b[0;36mfrom_fits\u001b[0;34m(hdulist, schema, context, skip_fits_update, **kwargs)\u001b[0m\n\u001b[1;32m    708\u001b[0m known_keywords, known_datas \u001b[38;5;241m=\u001b[39m _load_from_schema(\n\u001b[1;32m    709\u001b[0m     hdulist, schema, ff\u001b[38;5;241m.\u001b[39mtree, context, skip_fits_update\u001b[38;5;241m=\u001b[39mskip_fits_update\n\u001b[1;32m    710\u001b[0m )\n\u001b[1;32m    711\u001b[0m \u001b[38;5;28;01mif\u001b[39;00m \u001b[38;5;129;01mnot\u001b[39;00m skip_fits_update:\n\u001b[0;32m--> 712\u001b[0m     \u001b[43m_load_extra_fits\u001b[49m\u001b[43m(\u001b[49m\u001b[43mhdulist\u001b[49m\u001b[43m,\u001b[49m\u001b[43m \u001b[49m\u001b[43mknown_keywords\u001b[49m\u001b[43m,\u001b[49m\u001b[43m \u001b[49m\u001b[43mknown_datas\u001b[49m\u001b[43m,\u001b[49m\u001b[43m \u001b[49m\u001b[43mff\u001b[49m\u001b[38;5;241;43m.\u001b[39;49m\u001b[43mtree\u001b[49m\u001b[43m)\u001b[49m\n\u001b[1;32m    714\u001b[0m _load_history(hdulist, ff\u001b[38;5;241m.\u001b[39mtree)\n\u001b[1;32m    716\u001b[0m \u001b[38;5;28;01mreturn\u001b[39;00m ff\n",
      "File \u001b[0;32m/blue/adamginsburg/adamginsburg/miniconda3/envs/python39savannah/lib/python3.9/site-packages/stdatamodels/fits_support.py:644\u001b[0m, in \u001b[0;36m_load_extra_fits\u001b[0;34m(hdulist, known_keywords, known_datas, tree)\u001b[0m\n\u001b[1;32m    641\u001b[0m known \u001b[38;5;241m=\u001b[39m known_keywords\u001b[38;5;241m.\u001b[39mget(hdu, \u001b[38;5;28mset\u001b[39m())\n\u001b[1;32m    643\u001b[0m cards \u001b[38;5;241m=\u001b[39m []\n\u001b[0;32m--> 644\u001b[0m \u001b[38;5;28;01mfor\u001b[39;00m key, val, comment \u001b[38;5;129;01min\u001b[39;00m hdu\u001b[38;5;241m.\u001b[39mheader\u001b[38;5;241m.\u001b[39mcards:\n\u001b[1;32m    645\u001b[0m     \u001b[38;5;28;01mif\u001b[39;00m \u001b[38;5;129;01mnot\u001b[39;00m (is_builtin_fits_keyword(key) \u001b[38;5;129;01mor\u001b[39;00m\n\u001b[1;32m    646\u001b[0m             key \u001b[38;5;129;01min\u001b[39;00m known):\n\u001b[1;32m    647\u001b[0m         cards\u001b[38;5;241m.\u001b[39mappend([key, val, comment])\n",
      "File \u001b[0;32m/blue/adamginsburg/adamginsburg/repos/astropy/astropy/io/fits/card.py:219\u001b[0m, in \u001b[0;36mCard.__getitem__\u001b[0;34m(self, index)\u001b[0m\n\u001b[1;32m    218\u001b[0m \u001b[38;5;28;01mdef\u001b[39;00m \u001b[38;5;21m__getitem__\u001b[39m(\u001b[38;5;28mself\u001b[39m, index):\n\u001b[0;32m--> 219\u001b[0m     \u001b[38;5;28;01mreturn\u001b[39;00m (\u001b[38;5;28mself\u001b[39m\u001b[38;5;241m.\u001b[39mkeyword, \u001b[38;5;28;43mself\u001b[39;49m\u001b[38;5;241;43m.\u001b[39;49m\u001b[43mvalue\u001b[49m, \u001b[38;5;28mself\u001b[39m\u001b[38;5;241m.\u001b[39mcomment)[index]\n",
      "File \u001b[0;32m/blue/adamginsburg/adamginsburg/repos/astropy/astropy/io/fits/card.py:300\u001b[0m, in \u001b[0;36mCard.value\u001b[0;34m(self)\u001b[0m\n\u001b[1;32m    297\u001b[0m     \u001b[38;5;28;01melse\u001b[39;00m:\n\u001b[1;32m    298\u001b[0m         \u001b[38;5;28mself\u001b[39m\u001b[38;5;241m.\u001b[39m_value \u001b[38;5;241m=\u001b[39m value \u001b[38;5;241m=\u001b[39m UNDEFINED\n\u001b[0;32m--> 300\u001b[0m \u001b[38;5;28;01mif\u001b[39;00m \u001b[43mconf\u001b[49m\u001b[38;5;241;43m.\u001b[39;49m\u001b[43mstrip_header_whitespace\u001b[49m \u001b[38;5;129;01mand\u001b[39;00m \u001b[38;5;28misinstance\u001b[39m(value, \u001b[38;5;28mstr\u001b[39m):\n\u001b[1;32m    301\u001b[0m     value \u001b[38;5;241m=\u001b[39m value\u001b[38;5;241m.\u001b[39mrstrip()\n\u001b[1;32m    303\u001b[0m \u001b[38;5;28;01mreturn\u001b[39;00m value\n",
      "File \u001b[0;32m/blue/adamginsburg/adamginsburg/repos/astropy/astropy/config/configuration.py:311\u001b[0m, in \u001b[0;36mConfigItem.__get__\u001b[0;34m(self, obj, objtype)\u001b[0m\n\u001b[1;32m    309\u001b[0m \u001b[38;5;28;01mif\u001b[39;00m obj \u001b[38;5;129;01mis\u001b[39;00m \u001b[38;5;28;01mNone\u001b[39;00m:\n\u001b[1;32m    310\u001b[0m     \u001b[38;5;28;01mreturn\u001b[39;00m \u001b[38;5;28mself\u001b[39m\n\u001b[0;32m--> 311\u001b[0m \u001b[38;5;28;01mreturn\u001b[39;00m \u001b[38;5;28;43mself\u001b[39;49m\u001b[43m(\u001b[49m\u001b[43m)\u001b[49m\n",
      "File \u001b[0;32m/blue/adamginsburg/adamginsburg/repos/astropy/astropy/config/configuration.py:440\u001b[0m, in \u001b[0;36mConfigItem.__call__\u001b[0;34m(self)\u001b[0m\n\u001b[1;32m    437\u001b[0m         \u001b[38;5;28;01mreturn\u001b[39;00m \u001b[38;5;124mf\u001b[39m\u001b[38;5;124m\"\u001b[39m\u001b[38;5;124min section [\u001b[39m\u001b[38;5;132;01m{\u001b[39;00msection\u001b[38;5;132;01m}\u001b[39;00m\u001b[38;5;124m]\u001b[39m\u001b[38;5;124m\"\u001b[39m\n\u001b[1;32m    439\u001b[0m options \u001b[38;5;241m=\u001b[39m []\n\u001b[0;32m--> 440\u001b[0m sec \u001b[38;5;241m=\u001b[39m \u001b[43mget_config\u001b[49m\u001b[43m(\u001b[49m\u001b[38;5;28;43mself\u001b[39;49m\u001b[38;5;241;43m.\u001b[39;49m\u001b[43mmodule\u001b[49m\u001b[43m,\u001b[49m\u001b[43m \u001b[49m\u001b[43mrootname\u001b[49m\u001b[38;5;241;43m=\u001b[39;49m\u001b[38;5;28;43mself\u001b[39;49m\u001b[38;5;241;43m.\u001b[39;49m\u001b[43mrootname\u001b[49m\u001b[43m)\u001b[49m\n\u001b[1;32m    441\u001b[0m \u001b[38;5;28;01mif\u001b[39;00m \u001b[38;5;28mself\u001b[39m\u001b[38;5;241m.\u001b[39mname \u001b[38;5;129;01min\u001b[39;00m sec:\n\u001b[1;32m    442\u001b[0m     options\u001b[38;5;241m.\u001b[39mappend((sec[\u001b[38;5;28mself\u001b[39m\u001b[38;5;241m.\u001b[39mname], \u001b[38;5;28mself\u001b[39m\u001b[38;5;241m.\u001b[39mmodule, \u001b[38;5;28mself\u001b[39m\u001b[38;5;241m.\u001b[39mname))\n",
      "File \u001b[0;32m/blue/adamginsburg/adamginsburg/repos/astropy/astropy/config/configuration.py:601\u001b[0m, in \u001b[0;36mget_config\u001b[0;34m(packageormod, reload, rootname)\u001b[0m\n\u001b[1;32m    599\u001b[0m     \u001b[38;5;28;01mif\u001b[39;00m secname \u001b[38;5;129;01mnot\u001b[39;00m \u001b[38;5;129;01min\u001b[39;00m cobj:\n\u001b[1;32m    600\u001b[0m         cobj[secname] \u001b[38;5;241m=\u001b[39m {}\n\u001b[0;32m--> 601\u001b[0m     \u001b[38;5;28;01mreturn\u001b[39;00m \u001b[43mcobj\u001b[49m\u001b[43m[\u001b[49m\u001b[43msecname\u001b[49m\u001b[43m]\u001b[49m\n\u001b[1;32m    602\u001b[0m \u001b[38;5;28;01melse\u001b[39;00m:\n\u001b[1;32m    603\u001b[0m     \u001b[38;5;28;01mreturn\u001b[39;00m cobj\n",
      "File \u001b[0;32m/blue/adamginsburg/adamginsburg/repos/astropy/astropy/extern/configobj/configobj.py:550\u001b[0m, in \u001b[0;36mSection.__getitem__\u001b[0;34m(self, key)\u001b[0m\n\u001b[1;32m    546\u001b[0m     \u001b[38;5;66;03m# let the engine do the actual work\u001b[39;00m\n\u001b[1;32m    547\u001b[0m     \u001b[38;5;28;01mreturn\u001b[39;00m engine\u001b[38;5;241m.\u001b[39minterpolate(key, value)\n\u001b[0;32m--> 550\u001b[0m \u001b[38;5;28;01mdef\u001b[39;00m \u001b[38;5;21m__getitem__\u001b[39m(\u001b[38;5;28mself\u001b[39m, key):\n\u001b[1;32m    551\u001b[0m \u001b[38;5;250m    \u001b[39m\u001b[38;5;124;03m\"\"\"Fetch the item and do string interpolation.\"\"\"\u001b[39;00m\n\u001b[1;32m    552\u001b[0m     val \u001b[38;5;241m=\u001b[39m \u001b[38;5;28mdict\u001b[39m\u001b[38;5;241m.\u001b[39m\u001b[38;5;21m__getitem__\u001b[39m(\u001b[38;5;28mself\u001b[39m, key)\n",
      "\u001b[0;31mKeyboardInterrupt\u001b[0m: "
     ]
    }
   ],
   "source": [
    "\n",
    "tweakreg_parameters.update({\n",
    "                           'fitgeometry': 'general',\n",
    "                           # brightest = 5000 was causing problems- maybe the cross-alignment was getting caught on PSF artifacts?\n",
    "                           'brightest': 500,\n",
    "                           'snr_threshold': 30, # was 5, but that produced too many stars\n",
    "                           'abs_refcat': abs_refcat,\n",
    "                           'save_catalogs': True,\n",
    "                           'catalog_format': 'ecsv',\n",
    "                           'kernel_fwhm': fwhm_pix,\n",
    "                           'nclip': 5,\n",
    "                           # based on DebugReproduceTweakregStep\n",
    "                           'sharplo': 0.3,\n",
    "                           'sharphi': 0.9,\n",
    "                           'roundlo': -0.25,\n",
    "                           'roundhi': 0.25,\n",
    "                           #'searchrad': 4.0,\n",
    "                           #'xoffset': -6.0,\n",
    "                           'separation': 0.5, # minimum separation; default is 1\n",
    "                           'skip': True\n",
    "                           # 'clip_accum': True, # https://github.com/spacetelescope/tweakwcs/pull/169/files\n",
    "                            \n",
    "                           })\n",
    "\n",
    "log.info(f\"Running tweakreg ({module})\")\n",
    "calwebb_image3.Image3Pipeline.call(\n",
    "    asn_file_each,\n",
    "    steps={'tweakreg': tweakreg_parameters,},\n",
    "    output_dir=output_dir,\n",
    "    save_results=True)\n",
    "print(f\"DONE running {asn_file_each}\")"
   ]
  },
  {
   "cell_type": "code",
   "execution_count": null,
   "id": "55224578-fcf3-44f2-94b5-e6e70ee98702",
   "metadata": {},
   "outputs": [],
   "source": []
  },
  {
   "cell_type": "code",
   "execution_count": null,
   "id": "b24512ba-7098-4e6b-ae2e-bda9123e473f",
   "metadata": {},
   "outputs": [],
   "source": []
  },
  {
   "cell_type": "code",
   "execution_count": 13,
   "id": "a508f4bd-fa39-4f1a-8381-c398e672ec5b",
   "metadata": {},
   "outputs": [
    {
     "data": {
      "text/plain": [
       "'/orange/adamginsburg/jwst/cloudc/F405N/pipeline/'"
      ]
     },
     "execution_count": 13,
     "metadata": {},
     "output_type": "execute_result"
    }
   ],
   "source": [
    "output_dir"
   ]
  },
  {
   "cell_type": "code",
   "execution_count": 98,
   "id": "9672734c-d5dc-4fc3-884a-710a8649a026",
   "metadata": {
    "tags": []
   },
   "outputs": [
    {
     "name": "stderr",
     "output_type": "stream",
     "text": [
      "2023-09-06 15:43:20,219 - stpipe.TweakRegStep - INFO - TweakRegStep instance created.\n",
      "2023-09-06 15:43:20,426 - stpipe.TweakRegStep - INFO - Step TweakRegStep running with args ('/orange/adamginsburg/jwst/cloudc/F405N/pipeline/jw02221-o002_20230725t121309_image3_00005_nrca_asn.json',).\n",
      "2023-09-06 15:43:20,430 - stpipe.TweakRegStep - INFO - Step TweakRegStep parameters are: {'pre_hooks': [], 'post_hooks': [], 'output_file': None, 'output_dir': '/orange/adamginsburg/jwst/cloudc/F405N/pipeline/', 'output_ext': '.fits', 'output_use_model': True, 'output_use_index': True, 'save_results': True, 'skip': True, 'suffix': None, 'search_output_file': True, 'input_dir': '', 'save_catalogs': True, 'use_custom_catalogs': False, 'catalog_format': 'ecsv', 'catfile': '', 'kernel_fwhm': 2.165, 'snr_threshold': 30, 'sharplo': 0.3, 'sharphi': 0.9, 'roundlo': -0.25, 'roundhi': 0.25, 'brightest': 500, 'peakmax': None, 'bkg_boxsize': 400, 'enforce_user_order': False, 'expand_refcat': False, 'minobj': 15, 'searchrad': 2.0, 'use2dhist': True, 'separation': 0.5, 'tolerance': 0.7, 'xoffset': 0.0, 'yoffset': 0.0, 'fitgeometry': 'general', 'nclip': 5, 'sigma': 3.0, 'abs_refcat': '/orange/adamginsburg/jwst/cloudc//F405N/pipeline/jw02221-o002_t001_nircam_clear-F405N-merged_vvvcat.ecsv', 'save_abs_catalog': False, 'abs_minobj': 15, 'abs_searchrad': 6.0, 'abs_use2dhist': True, 'abs_separation': 0.1, 'abs_tolerance': 0.7, 'abs_fitgeometry': 'rshift', 'abs_nclip': 3, 'abs_sigma': 3.0}\n",
      "2023-09-06 15:43:20,432 - stpipe.TweakRegStep - INFO - Step skipped.\n",
      "2023-09-06 15:43:20,433 - stpipe.TweakRegStep - INFO - Step TweakRegStep done\n"
     ]
    }
   ],
   "source": [
    "tweakreg = TweakRegStep()\n",
    "tweakreg.fitgeometry = 'general'\n",
    "tweakreg.brightest = 500\n",
    "tweakreg.snr_threshold = 30\n",
    "tweakreg.abs_refcat = abs_refcat\n",
    "tweakreg.save_catalogs = True\n",
    "tweakreg.catalog_format = 'ecsv'\n",
    "tweakreg.kernel_fwhm = fwhm_pix\n",
    "tweakreg.nclip = 5\n",
    "tweakreg.sharplo = 0.3\n",
    "tweakreg.sharphi = 0.9\n",
    "tweakreg.roundlo = -0.25\n",
    "tweakreg.roundhi = 0.25\n",
    "tweakreg.separation = 0.5\n",
    "tweakreg.output_dir = output_dir\n",
    "tweakreg.save_results = True\n",
    "tweakreg.skip = True\n",
    "#tweakreg.searchrad = 4.0\n",
    "#tweakreg.xoffset = -6.0\n",
    "tweak = tweakreg.run(asn_file_each)"
   ]
  },
  {
   "cell_type": "code",
   "execution_count": 55,
   "id": "b6f3b775-7696-4124-bcc5-979c5e42d353",
   "metadata": {},
   "outputs": [
    {
     "ename": "AttributeError",
     "evalue": "'str' object has no attribute 'meta'",
     "output_type": "error",
     "traceback": [
      "\u001b[0;31m---------------------------------------------------------------------------\u001b[0m",
      "\u001b[0;31mAttributeError\u001b[0m                            Traceback (most recent call last)",
      "Cell \u001b[0;32mIn[55], line 1\u001b[0m\n\u001b[0;32m----> 1\u001b[0m tweak_file \u001b[38;5;241m=\u001b[39m os\u001b[38;5;241m.\u001b[39mpath\u001b[38;5;241m.\u001b[39mjoin(output_dir, \u001b[43mtweak\u001b[49m\u001b[43m[\u001b[49m\u001b[38;5;241;43m0\u001b[39;49m\u001b[43m]\u001b[49m\u001b[38;5;241;43m.\u001b[39;49m\u001b[43mmeta\u001b[49m\u001b[38;5;241m.\u001b[39mfilename)\n\u001b[1;32m      2\u001b[0m tweak_file\n",
      "\u001b[0;31mAttributeError\u001b[0m: 'str' object has no attribute 'meta'"
     ]
    }
   ],
   "source": [
    "tweak_file = os.path.join(output_dir, tweak[0].meta.filename)\n",
    "tweak_file"
   ]
  },
  {
   "cell_type": "code",
   "execution_count": 59,
   "id": "1d846201-ba05-4ffa-b6e7-f5cc233bf651",
   "metadata": {
    "collapsed": true,
    "jupyter": {
     "outputs_hidden": true
    },
    "tags": []
   },
   "outputs": [
    {
     "name": "stdout",
     "output_type": "stream",
     "text": [
      "2023-09-01T18:15:43.481795: Cal: (266.57889003017374, -28.641290897929444)\n",
      "2023-09-01T18:15:43.485653: (266.5790276601067, -28.63981286055749)\n",
      "2023-09-01T18:15:43.498388: Difference: -0.00013762993296495551 -0.001478037371953178\n",
      "2023-09-01T18:15:43.498443:\n",
      "2023-09-01T18:15:45.267377: Cal: (266.57782016520355, -28.64124472704071)\n",
      "2023-09-01T18:15:45.270898: (266.57795771862146, -28.639766169654745)\n",
      "2023-09-01T18:15:45.282605: Difference: -0.0001375534179146598 -0.0014785573859654733\n",
      "2023-09-01T18:15:45.282649:\n",
      "2023-09-01T18:15:47.064634: Cal: (266.58641178175856, -28.60560461822254)\n",
      "2023-09-01T18:15:47.068338: (266.5868443193349, -28.60454317273278)\n",
      "2023-09-01T18:15:47.079630: Difference: -0.00043253757633010537 -0.0010614454897606151\n",
      "2023-09-01T18:15:47.079672:\n"
     ]
    },
    {
     "ename": "KeyboardInterrupt",
     "evalue": "",
     "output_type": "error",
     "traceback": [
      "\u001b[0;31m---------------------------------------------------------------------------\u001b[0m",
      "\u001b[0;31mKeyboardInterrupt\u001b[0m                         Traceback (most recent call last)",
      "Cell \u001b[0;32mIn[59], line 24\u001b[0m\n\u001b[1;32m     22\u001b[0m point \u001b[38;5;241m=\u001b[39m \u001b[38;5;124m'\u001b[39m\u001b[38;5;124m02201\u001b[39m\u001b[38;5;124m'\u001b[39m\n\u001b[1;32m     23\u001b[0m files \u001b[38;5;241m=\u001b[39m glob(os\u001b[38;5;241m.\u001b[39mpath\u001b[38;5;241m.\u001b[39mjoin(output_dir, \u001b[38;5;124mf\u001b[39m\u001b[38;5;124m'\u001b[39m\u001b[38;5;124mjw02221\u001b[39m\u001b[38;5;132;01m{\u001b[39;00mfield\u001b[38;5;132;01m}\u001b[39;00m\u001b[38;5;124m*\u001b[39m\u001b[38;5;132;01m{\u001b[39;00mpoint\u001b[38;5;132;01m}\u001b[39;00m\u001b[38;5;124m*\u001b[39m\u001b[38;5;132;01m{\u001b[39;00mmodule\u001b[38;5;132;01m}\u001b[39;00m\u001b[38;5;124mlong_cal.fits\u001b[39m\u001b[38;5;124m'\u001b[39m))\n\u001b[0;32m---> 24\u001b[0m \u001b[43mcompare\u001b[49m\u001b[43m(\u001b[49m\u001b[43mfiles\u001b[49m\u001b[43m)\u001b[49m\n",
      "Cell \u001b[0;32mIn[59], line 7\u001b[0m, in \u001b[0;36mcompare\u001b[0;34m(files)\u001b[0m\n\u001b[1;32m      4\u001b[0m cal_file \u001b[38;5;241m=\u001b[39m f\n\u001b[1;32m      5\u001b[0m tweak_file \u001b[38;5;241m=\u001b[39m f[:\u001b[38;5;241m-\u001b[39m\u001b[38;5;241m8\u001b[39m]\u001b[38;5;241m+\u001b[39m\u001b[38;5;124m'\u001b[39m\u001b[38;5;124mdestreak_tweakregstep.fits\u001b[39m\u001b[38;5;124m'\u001b[39m\n\u001b[0;32m----> 7\u001b[0m cal_data \u001b[38;5;241m=\u001b[39m \u001b[43mdatamodels\u001b[49m\u001b[38;5;241;43m.\u001b[39;49m\u001b[43mopen\u001b[49m\u001b[43m(\u001b[49m\u001b[43mcal_file\u001b[49m\u001b[43m)\u001b[49m\n\u001b[1;32m      8\u001b[0m tweak_data \u001b[38;5;241m=\u001b[39m datamodels\u001b[38;5;241m.\u001b[39mopen(tweak_file)\n\u001b[1;32m     10\u001b[0m cal_detector_to_world \u001b[38;5;241m=\u001b[39m cal_data\u001b[38;5;241m.\u001b[39mmeta\u001b[38;5;241m.\u001b[39mwcs\u001b[38;5;241m.\u001b[39mget_transform(\u001b[38;5;124m'\u001b[39m\u001b[38;5;124mdetector\u001b[39m\u001b[38;5;124m'\u001b[39m, \u001b[38;5;124m'\u001b[39m\u001b[38;5;124mworld\u001b[39m\u001b[38;5;124m'\u001b[39m)\n",
      "File \u001b[0;32m/blue/adamginsburg/adamginsburg/miniconda3/envs/python39savannah/lib/python3.9/site-packages/stdatamodels/jwst/datamodels/util.py:226\u001b[0m, in \u001b[0;36mopen\u001b[0;34m(init, guess, memmap, **kwargs)\u001b[0m\n\u001b[1;32m    224\u001b[0m \u001b[38;5;66;03m# Actually open the model\u001b[39;00m\n\u001b[1;32m    225\u001b[0m \u001b[38;5;28;01mtry\u001b[39;00m:\n\u001b[0;32m--> 226\u001b[0m     model \u001b[38;5;241m=\u001b[39m \u001b[43mnew_class\u001b[49m\u001b[43m(\u001b[49m\u001b[43minit\u001b[49m\u001b[43m,\u001b[49m\u001b[43m \u001b[49m\u001b[38;5;241;43m*\u001b[39;49m\u001b[38;5;241;43m*\u001b[39;49m\u001b[43mkwargs\u001b[49m\u001b[43m)\u001b[49m\n\u001b[1;32m    227\u001b[0m \u001b[38;5;28;01mexcept\u001b[39;00m \u001b[38;5;167;01mException\u001b[39;00m:\n\u001b[1;32m    228\u001b[0m     \u001b[38;5;28;01mif\u001b[39;00m file_to_close \u001b[38;5;129;01mis\u001b[39;00m \u001b[38;5;129;01mnot\u001b[39;00m \u001b[38;5;28;01mNone\u001b[39;00m:\n",
      "File \u001b[0;32m/blue/adamginsburg/adamginsburg/miniconda3/envs/python39savannah/lib/python3.9/site-packages/stdatamodels/model_base.py:223\u001b[0m, in \u001b[0;36mDataModel.__init__\u001b[0;34m(self, init, schema, memmap, pass_invalid_values, strict_validation, validate_on_assignment, cast_fits_arrays, validate_arrays, ignore_missing_extensions, **kwargs)\u001b[0m\n\u001b[1;32m    220\u001b[0m     asdffile \u001b[38;5;241m=\u001b[39m init\n\u001b[1;32m    222\u001b[0m \u001b[38;5;28;01melif\u001b[39;00m \u001b[38;5;28misinstance\u001b[39m(init, fits\u001b[38;5;241m.\u001b[39mHDUList):\n\u001b[0;32m--> 223\u001b[0m     asdffile \u001b[38;5;241m=\u001b[39m \u001b[43mfits_support\u001b[49m\u001b[38;5;241;43m.\u001b[39;49m\u001b[43mfrom_fits\u001b[49m\u001b[43m(\u001b[49m\u001b[43minit\u001b[49m\u001b[43m,\u001b[49m\u001b[43m \u001b[49m\u001b[38;5;28;43mself\u001b[39;49m\u001b[38;5;241;43m.\u001b[39;49m\u001b[43m_schema\u001b[49m\u001b[43m,\u001b[49m\u001b[43m \u001b[49m\u001b[38;5;28;43mself\u001b[39;49m\u001b[38;5;241;43m.\u001b[39;49m\u001b[43m_ctx\u001b[49m\u001b[43m,\u001b[49m\n\u001b[1;32m    224\u001b[0m \u001b[43m                                      \u001b[49m\u001b[38;5;241;43m*\u001b[39;49m\u001b[38;5;241;43m*\u001b[39;49m\u001b[43mkwargs\u001b[49m\u001b[43m)\u001b[49m\n\u001b[1;32m    226\u001b[0m \u001b[38;5;28;01melif\u001b[39;00m \u001b[38;5;28misinstance\u001b[39m(init, (\u001b[38;5;28mstr\u001b[39m, \u001b[38;5;28mbytes\u001b[39m, PurePath)):\n\u001b[1;32m    227\u001b[0m     \u001b[38;5;28;01mif\u001b[39;00m \u001b[38;5;28misinstance\u001b[39m(init, PurePath):\n",
      "File \u001b[0;32m/blue/adamginsburg/adamginsburg/miniconda3/envs/python39savannah/lib/python3.9/site-packages/stdatamodels/fits_support.py:699\u001b[0m, in \u001b[0;36mfrom_fits\u001b[0;34m(hdulist, schema, context, skip_fits_update, **kwargs)\u001b[0m\n\u001b[1;32m    676\u001b[0m \u001b[38;5;250m\u001b[39m\u001b[38;5;124;03m\"\"\"Read model information from a FITS HDU list\u001b[39;00m\n\u001b[1;32m    677\u001b[0m \n\u001b[1;32m    678\u001b[0m \u001b[38;5;124;03mParameters\u001b[39;00m\n\u001b[0;32m   (...)\u001b[0m\n\u001b[1;32m    696\u001b[0m \u001b[38;5;124;03m    Otherwise, the default is `False`\u001b[39;00m\n\u001b[1;32m    697\u001b[0m \u001b[38;5;124;03m\"\"\"\u001b[39;00m\n\u001b[1;32m    698\u001b[0m \u001b[38;5;28;01mtry\u001b[39;00m:\n\u001b[0;32m--> 699\u001b[0m     ff \u001b[38;5;241m=\u001b[39m \u001b[43mfrom_fits_asdf\u001b[49m\u001b[43m(\u001b[49m\u001b[43mhdulist\u001b[49m\u001b[43m,\u001b[49m\u001b[43m \u001b[49m\u001b[38;5;241;43m*\u001b[39;49m\u001b[38;5;241;43m*\u001b[39;49m\u001b[43mkwargs\u001b[49m\u001b[43m)\u001b[49m\n\u001b[1;32m    700\u001b[0m \u001b[38;5;28;01mexcept\u001b[39;00m \u001b[38;5;167;01mException\u001b[39;00m \u001b[38;5;28;01mas\u001b[39;00m exc:\n\u001b[1;32m    701\u001b[0m     \u001b[38;5;28;01mraise\u001b[39;00m exc\u001b[38;5;241m.\u001b[39m\u001b[38;5;18m__class__\u001b[39m(\u001b[38;5;124m\"\u001b[39m\u001b[38;5;124mERROR loading embedded ASDF: \u001b[39m\u001b[38;5;124m\"\u001b[39m \u001b[38;5;241m+\u001b[39m \u001b[38;5;28mstr\u001b[39m(exc)) \u001b[38;5;28;01mfrom\u001b[39;00m \u001b[38;5;21;01mexc\u001b[39;00m\n",
      "File \u001b[0;32m/blue/adamginsburg/adamginsburg/miniconda3/envs/python39savannah/lib/python3.9/site-packages/stdatamodels/fits_support.py:751\u001b[0m, in \u001b[0;36mfrom_fits_asdf\u001b[0;34m(hdulist, ignore_version_mismatch, ignore_unrecognized_tag, **kwargs)\u001b[0m\n\u001b[1;32m    743\u001b[0m af \u001b[38;5;241m=\u001b[39m asdf\u001b[38;5;241m.\u001b[39mopen(\n\u001b[1;32m    744\u001b[0m     generic_file,\n\u001b[1;32m    745\u001b[0m     ignore_version_mismatch\u001b[38;5;241m=\u001b[39mignore_version_mismatch,\n\u001b[0;32m   (...)\u001b[0m\n\u001b[1;32m    748\u001b[0m     \u001b[38;5;241m*\u001b[39m\u001b[38;5;241m*\u001b[39makwargs\n\u001b[1;32m    749\u001b[0m )\n\u001b[1;32m    750\u001b[0m \u001b[38;5;66;03m# map hdulist to blocks here\u001b[39;00m\n\u001b[0;32m--> 751\u001b[0m \u001b[43m_map_hdulist_to_arrays\u001b[49m\u001b[43m(\u001b[49m\u001b[43mhdulist\u001b[49m\u001b[43m,\u001b[49m\u001b[43m \u001b[49m\u001b[43maf\u001b[49m\u001b[43m)\u001b[49m\n\u001b[1;32m    752\u001b[0m \u001b[38;5;28;01mreturn\u001b[39;00m af\n",
      "File \u001b[0;32m/blue/adamginsburg/adamginsburg/miniconda3/envs/python39savannah/lib/python3.9/site-packages/stdatamodels/fits_support.py:778\u001b[0m, in \u001b[0;36m_map_hdulist_to_arrays\u001b[0;34m(hdulist, af)\u001b[0m\n\u001b[1;32m    776\u001b[0m         \u001b[38;5;28;01mreturn\u001b[39;00m data\n\u001b[1;32m    777\u001b[0m     \u001b[38;5;28;01mreturn\u001b[39;00m node\n\u001b[0;32m--> 778\u001b[0m af\u001b[38;5;241m.\u001b[39mtree \u001b[38;5;241m=\u001b[39m \u001b[43mtreeutil\u001b[49m\u001b[38;5;241;43m.\u001b[39;49m\u001b[43mwalk_and_modify\u001b[49m\u001b[43m(\u001b[49m\u001b[43maf\u001b[49m\u001b[38;5;241;43m.\u001b[39;49m\u001b[43mtree\u001b[49m\u001b[43m,\u001b[49m\u001b[43m \u001b[49m\u001b[43mcallback\u001b[49m\u001b[43m)\u001b[49m\n",
      "File \u001b[0;32m/blue/adamginsburg/adamginsburg/miniconda3/envs/python39savannah/lib/python3.9/site-packages/asdf/treeutil.py:418\u001b[0m, in \u001b[0;36mwalk_and_modify\u001b[0;34m(top, callback, ignore_implicit_conversion, postorder, _context)\u001b[0m\n\u001b[1;32m    415\u001b[0m     _context \u001b[38;5;241m=\u001b[39m _TreeModificationContext()\n\u001b[1;32m    417\u001b[0m \u001b[38;5;28;01mwith\u001b[39;00m _context:\n\u001b[0;32m--> 418\u001b[0m     \u001b[38;5;28;01mreturn\u001b[39;00m \u001b[43m_recurse\u001b[49m\u001b[43m(\u001b[49m\u001b[43mtop\u001b[49m\u001b[43m)\u001b[49m\n",
      "File \u001b[0;32m/blue/adamginsburg/adamginsburg/miniconda3/envs/python39savannah/lib/python3.9/site-packages/asdf/treeutil.py:399\u001b[0m, in \u001b[0;36mwalk_and_modify.<locals>._recurse\u001b[0;34m(node, json_id)\u001b[0m\n\u001b[1;32m    394\u001b[0m     json_id \u001b[38;5;241m=\u001b[39m node[\u001b[38;5;124m\"\u001b[39m\u001b[38;5;124mid\u001b[39m\u001b[38;5;124m\"\u001b[39m]\n\u001b[1;32m    396\u001b[0m \u001b[38;5;28;01mif\u001b[39;00m postorder:\n\u001b[1;32m    397\u001b[0m     \u001b[38;5;66;03m# If this is a postorder modification, invoke the\u001b[39;00m\n\u001b[1;32m    398\u001b[0m     \u001b[38;5;66;03m# callback on this node's children first.\u001b[39;00m\n\u001b[0;32m--> 399\u001b[0m     result \u001b[38;5;241m=\u001b[39m \u001b[43m_handle_children\u001b[49m\u001b[43m(\u001b[49m\u001b[43mnode\u001b[49m\u001b[43m,\u001b[49m\u001b[43m \u001b[49m\u001b[43mjson_id\u001b[49m\u001b[43m)\u001b[49m\n\u001b[1;32m    400\u001b[0m     result \u001b[38;5;241m=\u001b[39m _handle_callback(result, json_id)\n\u001b[1;32m    401\u001b[0m \u001b[38;5;28;01melse\u001b[39;00m:\n\u001b[1;32m    402\u001b[0m     \u001b[38;5;66;03m# Otherwise, invoke the callback on the node first,\u001b[39;00m\n\u001b[1;32m    403\u001b[0m     \u001b[38;5;66;03m# then its children.\u001b[39;00m\n",
      "File \u001b[0;32m/blue/adamginsburg/adamginsburg/miniconda3/envs/python39savannah/lib/python3.9/site-packages/asdf/treeutil.py:375\u001b[0m, in \u001b[0;36mwalk_and_modify.<locals>._handle_children\u001b[0;34m(node, json_id)\u001b[0m\n\u001b[1;32m    372\u001b[0m \u001b[38;5;28;01melse\u001b[39;00m:\n\u001b[1;32m    373\u001b[0m     result \u001b[38;5;241m=\u001b[39m node\n\u001b[0;32m--> 375\u001b[0m \u001b[38;5;28;01mreturn\u001b[39;00m \u001b[43m_handle_generator\u001b[49m\u001b[43m(\u001b[49m\u001b[43mresult\u001b[49m\u001b[43m)\u001b[49m\n",
      "File \u001b[0;32m/blue/adamginsburg/adamginsburg/miniconda3/envs/python39savannah/lib/python3.9/site-packages/asdf/treeutil.py:279\u001b[0m, in \u001b[0;36mwalk_and_modify.<locals>._handle_generator\u001b[0;34m(result)\u001b[0m\n\u001b[1;32m    277\u001b[0m \u001b[38;5;28;01mif\u001b[39;00m \u001b[38;5;28misinstance\u001b[39m(result, types\u001b[38;5;241m.\u001b[39mGeneratorType):\n\u001b[1;32m    278\u001b[0m     generator \u001b[38;5;241m=\u001b[39m result\n\u001b[0;32m--> 279\u001b[0m     result \u001b[38;5;241m=\u001b[39m \u001b[38;5;28;43mnext\u001b[39;49m\u001b[43m(\u001b[49m\u001b[43mgenerator\u001b[49m\u001b[43m)\u001b[49m\n\u001b[1;32m    280\u001b[0m     _context\u001b[38;5;241m.\u001b[39madd_generator(generator)\n\u001b[1;32m    282\u001b[0m \u001b[38;5;28;01mreturn\u001b[39;00m result\n",
      "File \u001b[0;32m/blue/adamginsburg/adamginsburg/miniconda3/envs/python39savannah/lib/python3.9/site-packages/asdf/treeutil.py:304\u001b[0m, in \u001b[0;36mwalk_and_modify.<locals>._handle_mapping\u001b[0;34m(node, json_id)\u001b[0m\n\u001b[1;32m    301\u001b[0m         pending_items[key] \u001b[38;5;241m=\u001b[39m value\n\u001b[1;32m    302\u001b[0m         result[key] \u001b[38;5;241m=\u001b[39m PendingValue\n\u001b[0;32m--> 304\u001b[0m     \u001b[38;5;28;01melif\u001b[39;00m (val \u001b[38;5;241m:=\u001b[39m \u001b[43m_recurse\u001b[49m\u001b[43m(\u001b[49m\u001b[43mvalue\u001b[49m\u001b[43m,\u001b[49m\u001b[43m \u001b[49m\u001b[43mjson_id\u001b[49m\u001b[43m)\u001b[49m) \u001b[38;5;129;01mis\u001b[39;00m \u001b[38;5;129;01mnot\u001b[39;00m RemoveNode:\n\u001b[1;32m    305\u001b[0m         result[key] \u001b[38;5;241m=\u001b[39m val\n\u001b[1;32m    307\u001b[0m \u001b[38;5;28;01myield\u001b[39;00m result\n",
      "File \u001b[0;32m/blue/adamginsburg/adamginsburg/miniconda3/envs/python39savannah/lib/python3.9/site-packages/asdf/treeutil.py:400\u001b[0m, in \u001b[0;36mwalk_and_modify.<locals>._recurse\u001b[0;34m(node, json_id)\u001b[0m\n\u001b[1;32m    396\u001b[0m \u001b[38;5;28;01mif\u001b[39;00m postorder:\n\u001b[1;32m    397\u001b[0m     \u001b[38;5;66;03m# If this is a postorder modification, invoke the\u001b[39;00m\n\u001b[1;32m    398\u001b[0m     \u001b[38;5;66;03m# callback on this node's children first.\u001b[39;00m\n\u001b[1;32m    399\u001b[0m     result \u001b[38;5;241m=\u001b[39m _handle_children(node, json_id)\n\u001b[0;32m--> 400\u001b[0m     result \u001b[38;5;241m=\u001b[39m \u001b[43m_handle_callback\u001b[49m\u001b[43m(\u001b[49m\u001b[43mresult\u001b[49m\u001b[43m,\u001b[49m\u001b[43m \u001b[49m\u001b[43mjson_id\u001b[49m\u001b[43m)\u001b[49m\n\u001b[1;32m    401\u001b[0m \u001b[38;5;28;01melse\u001b[39;00m:\n\u001b[1;32m    402\u001b[0m     \u001b[38;5;66;03m# Otherwise, invoke the callback on the node first,\u001b[39;00m\n\u001b[1;32m    403\u001b[0m     \u001b[38;5;66;03m# then its children.\u001b[39;00m\n\u001b[1;32m    404\u001b[0m     result \u001b[38;5;241m=\u001b[39m _handle_callback(node, json_id)\n",
      "File \u001b[0;32m/blue/adamginsburg/adamginsburg/miniconda3/envs/python39savannah/lib/python3.9/site-packages/asdf/treeutil.py:285\u001b[0m, in \u001b[0;36mwalk_and_modify.<locals>._handle_callback\u001b[0;34m(node, json_id)\u001b[0m\n\u001b[1;32m    284\u001b[0m \u001b[38;5;28;01mdef\u001b[39;00m \u001b[38;5;21m_handle_callback\u001b[39m(node, json_id):\n\u001b[0;32m--> 285\u001b[0m     result \u001b[38;5;241m=\u001b[39m callback(node) \u001b[38;5;28;01mif\u001b[39;00m callback_arity \u001b[38;5;241m==\u001b[39m \u001b[38;5;241m1\u001b[39m \u001b[38;5;28;01melse\u001b[39;00m \u001b[43mcallback\u001b[49m\u001b[43m(\u001b[49m\u001b[43mnode\u001b[49m\u001b[43m,\u001b[49m\u001b[43m \u001b[49m\u001b[43mjson_id\u001b[49m\u001b[43m)\u001b[49m\n\u001b[1;32m    287\u001b[0m     \u001b[38;5;28;01mreturn\u001b[39;00m _handle_generator(result)\n",
      "File \u001b[0;32m/blue/adamginsburg/adamginsburg/miniconda3/envs/python39savannah/lib/python3.9/site-packages/stdatamodels/fits_support.py:775\u001b[0m, in \u001b[0;36m_map_hdulist_to_arrays.<locals>.callback\u001b[0;34m(node, json_id)\u001b[0m\n\u001b[1;32m    773\u001b[0m         \u001b[38;5;28;01melse\u001b[39;00m:\n\u001b[1;32m    774\u001b[0m             pair \u001b[38;5;241m=\u001b[39m ver\n\u001b[0;32m--> 775\u001b[0m     data \u001b[38;5;241m=\u001b[39m \u001b[43mhdulist\u001b[49m\u001b[43m[\u001b[49m\u001b[43mpair\u001b[49m\u001b[43m]\u001b[49m\u001b[38;5;241;43m.\u001b[39;49m\u001b[43mdata\u001b[49m\n\u001b[1;32m    776\u001b[0m     \u001b[38;5;28;01mreturn\u001b[39;00m data\n\u001b[1;32m    777\u001b[0m \u001b[38;5;28;01mreturn\u001b[39;00m node\n",
      "File \u001b[0;32m/blue/adamginsburg/adamginsburg/repos/astropy/astropy/utils/decorators.py:837\u001b[0m, in \u001b[0;36mlazyproperty.__get__\u001b[0;34m(self, obj, owner)\u001b[0m\n\u001b[1;32m    835\u001b[0m         val \u001b[38;5;241m=\u001b[39m obj_dict\u001b[38;5;241m.\u001b[39mget(\u001b[38;5;28mself\u001b[39m\u001b[38;5;241m.\u001b[39m_key, _NotFound)\n\u001b[1;32m    836\u001b[0m         \u001b[38;5;28;01mif\u001b[39;00m val \u001b[38;5;129;01mis\u001b[39;00m _NotFound:\n\u001b[0;32m--> 837\u001b[0m             val \u001b[38;5;241m=\u001b[39m \u001b[38;5;28;43mself\u001b[39;49m\u001b[38;5;241;43m.\u001b[39;49m\u001b[43mfget\u001b[49m\u001b[43m(\u001b[49m\u001b[43mobj\u001b[49m\u001b[43m)\u001b[49m\n\u001b[1;32m    838\u001b[0m             obj_dict[\u001b[38;5;28mself\u001b[39m\u001b[38;5;241m.\u001b[39m_key] \u001b[38;5;241m=\u001b[39m val\n\u001b[1;32m    839\u001b[0m \u001b[38;5;28;01mreturn\u001b[39;00m val\n",
      "File \u001b[0;32m/blue/adamginsburg/adamginsburg/repos/astropy/astropy/io/fits/hdu/image.py:250\u001b[0m, in \u001b[0;36m_ImageBaseHDU.data\u001b[0;34m(self)\u001b[0m\n\u001b[1;32m    247\u001b[0m \u001b[38;5;28;01mif\u001b[39;00m \u001b[38;5;28mlen\u001b[39m(\u001b[38;5;28mself\u001b[39m\u001b[38;5;241m.\u001b[39m_axes) \u001b[38;5;241m<\u001b[39m \u001b[38;5;241m1\u001b[39m:\n\u001b[1;32m    248\u001b[0m     \u001b[38;5;28;01mreturn\u001b[39;00m\n\u001b[0;32m--> 250\u001b[0m data \u001b[38;5;241m=\u001b[39m \u001b[38;5;28;43mself\u001b[39;49m\u001b[38;5;241;43m.\u001b[39;49m\u001b[43m_get_scaled_image_data\u001b[49m\u001b[43m(\u001b[49m\u001b[38;5;28;43mself\u001b[39;49m\u001b[38;5;241;43m.\u001b[39;49m\u001b[43m_data_offset\u001b[49m\u001b[43m,\u001b[49m\u001b[43m \u001b[49m\u001b[38;5;28;43mself\u001b[39;49m\u001b[38;5;241;43m.\u001b[39;49m\u001b[43mshape\u001b[49m\u001b[43m)\u001b[49m\n\u001b[1;32m    251\u001b[0m \u001b[38;5;28mself\u001b[39m\u001b[38;5;241m.\u001b[39m_update_header_scale_info(data\u001b[38;5;241m.\u001b[39mdtype)\n\u001b[1;32m    253\u001b[0m \u001b[38;5;28;01mreturn\u001b[39;00m data\n",
      "File \u001b[0;32m/blue/adamginsburg/adamginsburg/repos/astropy/astropy/io/fits/hdu/image.py:809\u001b[0m, in \u001b[0;36m_ImageBaseHDU._get_scaled_image_data\u001b[0;34m(self, offset, shape)\u001b[0m\n\u001b[1;32m    802\u001b[0m \u001b[38;5;250m\u001b[39m\u001b[38;5;124;03m\"\"\"\u001b[39;00m\n\u001b[1;32m    803\u001b[0m \u001b[38;5;124;03mInternal function for reading image data from a file and apply scale\u001b[39;00m\n\u001b[1;32m    804\u001b[0m \u001b[38;5;124;03mfactors to it.  Normally this is used for the entire image, but it\u001b[39;00m\n\u001b[1;32m    805\u001b[0m \u001b[38;5;124;03msupports alternate offset/shape for Section support.\u001b[39;00m\n\u001b[1;32m    806\u001b[0m \u001b[38;5;124;03m\"\"\"\u001b[39;00m\n\u001b[1;32m    807\u001b[0m code \u001b[38;5;241m=\u001b[39m BITPIX2DTYPE[\u001b[38;5;28mself\u001b[39m\u001b[38;5;241m.\u001b[39m_orig_bitpix]\n\u001b[0;32m--> 809\u001b[0m raw_data \u001b[38;5;241m=\u001b[39m \u001b[38;5;28;43mself\u001b[39;49m\u001b[38;5;241;43m.\u001b[39;49m\u001b[43m_get_raw_data\u001b[49m\u001b[43m(\u001b[49m\u001b[43mshape\u001b[49m\u001b[43m,\u001b[49m\u001b[43m \u001b[49m\u001b[43mcode\u001b[49m\u001b[43m,\u001b[49m\u001b[43m \u001b[49m\u001b[43moffset\u001b[49m\u001b[43m)\u001b[49m\n\u001b[1;32m    810\u001b[0m raw_data\u001b[38;5;241m.\u001b[39mdtype \u001b[38;5;241m=\u001b[39m raw_data\u001b[38;5;241m.\u001b[39mdtype\u001b[38;5;241m.\u001b[39mnewbyteorder(\u001b[38;5;124m\"\u001b[39m\u001b[38;5;124m>\u001b[39m\u001b[38;5;124m\"\u001b[39m)\n\u001b[1;32m    812\u001b[0m \u001b[38;5;28;01mif\u001b[39;00m \u001b[38;5;28mself\u001b[39m\u001b[38;5;241m.\u001b[39m_do_not_scale_image_data \u001b[38;5;129;01mor\u001b[39;00m (\n\u001b[1;32m    813\u001b[0m     \u001b[38;5;28mself\u001b[39m\u001b[38;5;241m.\u001b[39m_orig_bzero \u001b[38;5;241m==\u001b[39m \u001b[38;5;241m0\u001b[39m \u001b[38;5;129;01mand\u001b[39;00m \u001b[38;5;28mself\u001b[39m\u001b[38;5;241m.\u001b[39m_orig_bscale \u001b[38;5;241m==\u001b[39m \u001b[38;5;241m1\u001b[39m \u001b[38;5;129;01mand\u001b[39;00m \u001b[38;5;28mself\u001b[39m\u001b[38;5;241m.\u001b[39m_blank \u001b[38;5;129;01mis\u001b[39;00m \u001b[38;5;28;01mNone\u001b[39;00m\n\u001b[1;32m    814\u001b[0m ):\n\u001b[1;32m    815\u001b[0m     \u001b[38;5;66;03m# No further conversion of the data is necessary\u001b[39;00m\n",
      "File \u001b[0;32m/blue/adamginsburg/adamginsburg/repos/astropy/astropy/io/fits/hdu/base.py:547\u001b[0m, in \u001b[0;36m_BaseHDU._get_raw_data\u001b[0;34m(self, shape, code, offset)\u001b[0m\n\u001b[1;32m    545\u001b[0m     \u001b[38;5;28;01mreturn\u001b[39;00m np\u001b[38;5;241m.\u001b[39mndarray(shape, dtype\u001b[38;5;241m=\u001b[39mcode, buffer\u001b[38;5;241m=\u001b[39m\u001b[38;5;28mself\u001b[39m\u001b[38;5;241m.\u001b[39m_buffer, offset\u001b[38;5;241m=\u001b[39moffset)\n\u001b[1;32m    546\u001b[0m \u001b[38;5;28;01melif\u001b[39;00m \u001b[38;5;28mself\u001b[39m\u001b[38;5;241m.\u001b[39m_file:\n\u001b[0;32m--> 547\u001b[0m     \u001b[38;5;28;01mreturn\u001b[39;00m \u001b[38;5;28;43mself\u001b[39;49m\u001b[38;5;241;43m.\u001b[39;49m\u001b[43m_file\u001b[49m\u001b[38;5;241;43m.\u001b[39;49m\u001b[43mreadarray\u001b[49m\u001b[43m(\u001b[49m\u001b[43moffset\u001b[49m\u001b[38;5;241;43m=\u001b[39;49m\u001b[43moffset\u001b[49m\u001b[43m,\u001b[49m\u001b[43m \u001b[49m\u001b[43mdtype\u001b[49m\u001b[38;5;241;43m=\u001b[39;49m\u001b[43mcode\u001b[49m\u001b[43m,\u001b[49m\u001b[43m \u001b[49m\u001b[43mshape\u001b[49m\u001b[38;5;241;43m=\u001b[39;49m\u001b[43mshape\u001b[49m\u001b[43m)\u001b[49m\n\u001b[1;32m    548\u001b[0m \u001b[38;5;28;01melse\u001b[39;00m:\n\u001b[1;32m    549\u001b[0m     \u001b[38;5;28;01mreturn\u001b[39;00m \u001b[38;5;28;01mNone\u001b[39;00m\n",
      "File \u001b[0;32m/blue/adamginsburg/adamginsburg/repos/astropy/astropy/io/fits/file.py:384\u001b[0m, in \u001b[0;36m_File.readarray\u001b[0;34m(self, size, offset, dtype, shape)\u001b[0m\n\u001b[1;32m    382\u001b[0m count \u001b[38;5;241m=\u001b[39m reduce(operator\u001b[38;5;241m.\u001b[39mmul, shape)\n\u001b[1;32m    383\u001b[0m \u001b[38;5;28mself\u001b[39m\u001b[38;5;241m.\u001b[39m_file\u001b[38;5;241m.\u001b[39mseek(offset)\n\u001b[0;32m--> 384\u001b[0m data \u001b[38;5;241m=\u001b[39m \u001b[43m_array_from_file\u001b[49m\u001b[43m(\u001b[49m\u001b[38;5;28;43mself\u001b[39;49m\u001b[38;5;241;43m.\u001b[39;49m\u001b[43m_file\u001b[49m\u001b[43m,\u001b[49m\u001b[43m \u001b[49m\u001b[43mdtype\u001b[49m\u001b[43m,\u001b[49m\u001b[43m \u001b[49m\u001b[43mcount\u001b[49m\u001b[43m)\u001b[49m\n\u001b[1;32m    385\u001b[0m data\u001b[38;5;241m.\u001b[39mshape \u001b[38;5;241m=\u001b[39m shape\n\u001b[1;32m    386\u001b[0m \u001b[38;5;28;01mreturn\u001b[39;00m data\n",
      "File \u001b[0;32m/blue/adamginsburg/adamginsburg/repos/astropy/astropy/io/fits/util.py:552\u001b[0m, in \u001b[0;36m_array_from_file\u001b[0;34m(infile, dtype, count)\u001b[0m\n\u001b[1;32m    550\u001b[0m             \u001b[38;5;28;01mreturn\u001b[39;00m array\n\u001b[1;32m    551\u001b[0m     \u001b[38;5;28;01melse\u001b[39;00m:\n\u001b[0;32m--> 552\u001b[0m         \u001b[38;5;28;01mreturn\u001b[39;00m \u001b[43mnp\u001b[49m\u001b[38;5;241;43m.\u001b[39;49m\u001b[43mfromfile\u001b[49m\u001b[43m(\u001b[49m\u001b[43minfile\u001b[49m\u001b[43m,\u001b[49m\u001b[43m \u001b[49m\u001b[43mdtype\u001b[49m\u001b[38;5;241;43m=\u001b[39;49m\u001b[43mdtype\u001b[49m\u001b[43m,\u001b[49m\u001b[43m \u001b[49m\u001b[43mcount\u001b[49m\u001b[38;5;241;43m=\u001b[39;49m\u001b[43mcount\u001b[49m\u001b[43m)\u001b[49m\n\u001b[1;32m    553\u001b[0m \u001b[38;5;28;01melse\u001b[39;00m:\n\u001b[1;32m    554\u001b[0m     \u001b[38;5;66;03m# treat as file-like object with \"read\" method; this includes gzip file\u001b[39;00m\n\u001b[1;32m    555\u001b[0m     \u001b[38;5;66;03m# objects, because numpy.fromfile just reads the compressed bytes from\u001b[39;00m\n\u001b[1;32m    556\u001b[0m     \u001b[38;5;66;03m# their underlying file object, instead of the decompressed bytes\u001b[39;00m\n\u001b[1;32m    557\u001b[0m     read_size \u001b[38;5;241m=\u001b[39m np\u001b[38;5;241m.\u001b[39mdtype(dtype)\u001b[38;5;241m.\u001b[39mitemsize \u001b[38;5;241m*\u001b[39m count\n",
      "\u001b[0;31mKeyboardInterrupt\u001b[0m: "
     ]
    }
   ],
   "source": [
    "def compare(files):\n",
    "    x, y = (1024, 1024)\n",
    "    for f in files:\n",
    "        cal_file = f\n",
    "        tweak_file = f[:-8]+'destreak_tweakregstep.fits'\n",
    "        \n",
    "        cal_data = datamodels.open(cal_file)\n",
    "        tweak_data = datamodels.open(tweak_file)\n",
    "        \n",
    "        cal_detector_to_world = cal_data.meta.wcs.get_transform('detector', 'world')\n",
    "        run_detector_to_world = tweak_data.meta.wcs.get_transform('detector', 'world')\n",
    "        \n",
    "        print('Cal:', cal_detector_to_world(x, y))\n",
    "        print(run_detector_to_world(x, y))\n",
    "        diffx = cal_detector_to_world(x, y)[0] - run_detector_to_world(x, y)[0]\n",
    "        diffy = cal_detector_to_world(x, y)[1] - run_detector_to_world(x, y)[1]\n",
    "        print('Difference:', diffx, diffy)\n",
    "        \n",
    "        print()\n",
    "        \n",
    "\n",
    "point = '02201'\n",
    "files = glob(os.path.join(output_dir, f'jw02221{field}*{point}*{module}long_cal.fits'))\n",
    "compare(files)"
   ]
  },
  {
   "cell_type": "code",
   "execution_count": null,
   "id": "55dd140b-1fd1-4b1e-bb6b-81c6794ed1ce",
   "metadata": {},
   "outputs": [],
   "source": []
  },
  {
   "cell_type": "code",
   "execution_count": 64,
   "id": "ee8ba04f-8dbc-4994-bf77-79bf2fd423e3",
   "metadata": {},
   "outputs": [],
   "source": [
    "cal_data = datamodels.open('/orange/adamginsburg/jwst/cloudc/F405N/pipeline/jw02221002001_02201_00002_nrcalong_cal.fits')\n",
    "#tweak_data = datamodels.open(tweak_file)\n",
    "tweak_data = datamodels.open('/orange/adamginsburg/jwst/cloudc/F405N/pipeline/jw02221002001_02201_00002_nrcalong_destreak.fits')\n"
   ]
  },
  {
   "cell_type": "code",
   "execution_count": 66,
   "id": "048b3ebe-2a06-4d04-9d61-312f451d7d09",
   "metadata": {},
   "outputs": [],
   "source": [
    "cal_detector_to_world = cal_data.meta.wcs.get_transform('detector', 'world')\n",
    "run_detector_to_world = tweak_data.meta.wcs.get_transform('detector', 'world')"
   ]
  },
  {
   "cell_type": "code",
   "execution_count": 67,
   "id": "b33b023b-1cae-4c75-9f94-7d25fcb4a597",
   "metadata": {},
   "outputs": [],
   "source": []
  },
  {
   "cell_type": "code",
   "execution_count": 68,
   "id": "2ba137a5-0b57-4f80-821a-47ff65a96899",
   "metadata": {},
   "outputs": [
    {
     "name": "stdout",
     "output_type": "stream",
     "text": [
      "2023-07-27T14:16:44.932300: (266.58459696150726, -28.59355794836456)\n",
      "2023-07-27T14:16:44.951258: (266.58459696150726, -28.59355794836456)\n"
     ]
    }
   ],
   "source": [
    "print(cal_detector_to_world(x, y))\n",
    "print(run_detector_to_world(x, y))"
   ]
  },
  {
   "cell_type": "code",
   "execution_count": 58,
   "id": "cedfb0a7-b80c-41d1-b9a8-cecd3ef6ce21",
   "metadata": {},
   "outputs": [
    {
     "data": {
      "text/plain": [
       "<CompoundModel(offset_0=-0.093, offset_1=0.033, offset_2=1., offset_3=1., offset_4=-1024.5, offset_5=-1024.5, c0_0_7=0., c1_0_7=0.06275847, c2_0_7=0.00000012, c3_0_7=0., c4_0_7=-0., c5_0_7=0., c0_1_7=-0., c0_2_7=-0.0000001, c0_3_7=-0., c0_4_7=0., c0_5_7=0., c1_1_7=-0.00000073, c1_2_7=0., c1_3_7=-0., c1_4_7=0., c2_1_7=-0., c2_2_7=0., c2_3_7=0., c3_1_7=-0., c3_2_7=0., c4_1_7=0., c0_0_8=0., c1_0_8=-0.00009902, c2_0_8=0.00000031, c3_0_8=0., c4_0_8=0., c5_0_8=-0., c0_1_8=0.06306468, c0_2_8=-0.00000042, c0_3_8=0., c0_4_8=-0., c0_5_8=0., c1_1_8=0.00000023, c1_2_8=-0., c1_3_8=0., c1_4_8=-0., c2_1_8=0., c2_2_8=-0., c2_3_8=0., c3_1_8=0., c3_2_8=-0., c4_1_8=0., c0_0_10=0., c1_0_10=-0.99999954, c0_1_10=-0.00095806, c0_0_11=0., c1_0_11=-0.00095806, c0_1_11=0.99999954, offset_12=85.9392976, offset_13=-493.5106528, factor_14=1.00008927, factor_15=1.00008927, offset_16=-0.0076718, offset_17=0.04405571, factor_18=0.00027778, factor_19=0.00027778, angles_21=[   0.02387203,    0.13708629,  275.45960573,  -28.59355176, -266.5846083 ])>"
      ]
     },
     "execution_count": 58,
     "metadata": {},
     "output_type": "execute_result"
    }
   ],
   "source": [
    "run_detector_to_world"
   ]
  },
  {
   "cell_type": "code",
   "execution_count": 60,
   "id": "ce305727-9fbf-4c9c-ba0c-93a8ecfbaecb",
   "metadata": {
    "tags": []
   },
   "outputs": [
    {
     "ename": "NameError",
     "evalue": "name 'tweak_data' is not defined",
     "output_type": "error",
     "traceback": [
      "\u001b[0;31m---------------------------------------------------------------------------\u001b[0m",
      "\u001b[0;31mNameError\u001b[0m                                 Traceback (most recent call last)",
      "Cell \u001b[0;32mIn[60], line 1\u001b[0m\n\u001b[0;32m----> 1\u001b[0m \u001b[43mtweak_data\u001b[49m\u001b[38;5;241m.\u001b[39mmeta\u001b[38;5;241m.\u001b[39mwcs\n",
      "\u001b[0;31mNameError\u001b[0m: name 'tweak_data' is not defined"
     ]
    }
   ],
   "source": [
    "tweak_data.meta.wcs"
   ]
  },
  {
   "cell_type": "code",
   "execution_count": 69,
   "id": "185d5a73-6a77-4079-a758-ee7ea39d8481",
   "metadata": {},
   "outputs": [
    {
     "data": {
      "text/plain": [
       "['/orange/adamginsburg/jwst/cloudc/F405N/pipeline/jw02221-o002_20230410t190607_image3_00004_asn.json',\n",
       " '/orange/adamginsburg/jwst/cloudc/F405N/pipeline/jw02221-o002_20230622t004213_image3_00004_asn.json']"
      ]
     },
     "execution_count": 69,
     "metadata": {},
     "output_type": "execute_result"
    }
   ],
   "source": [
    "glob(os.path.join(output_dir, f'jw02221-o{field}*_image3_*0[0-9][0-9]_asn.json'))"
   ]
  },
  {
   "cell_type": "code",
   "execution_count": 76,
   "id": "25885e00-922e-40bc-a3d0-f3158a6dc886",
   "metadata": {},
   "outputs": [
    {
     "name": "stdout",
     "output_type": "stream",
     "text": [
      "2023-07-27T14:39:46.562408: test\n"
     ]
    }
   ],
   "source": [
    "print('test')"
   ]
  },
  {
   "cell_type": "code",
   "execution_count": 99,
   "id": "faa0261f-4c82-4bbc-87cb-b72d83886eef",
   "metadata": {
    "tags": []
   },
   "outputs": [
    {
     "name": "stderr",
     "output_type": "stream",
     "text": [
      "2023-09-06 15:43:20,445 - stpipe.SkyMatchStep - INFO - SkyMatchStep instance created.\n",
      "2023-09-06 15:43:20,634 - stpipe.SkyMatchStep - INFO - Step SkyMatchStep running with args ('/orange/adamginsburg/jwst/cloudc/F405N/pipeline/jw02221-o002_20230725t121309_image3_00005_nrca_asn.json',).\n",
      "2023-09-06 15:43:20,638 - stpipe.SkyMatchStep - INFO - Step SkyMatchStep parameters are: {'pre_hooks': [], 'post_hooks': [], 'output_file': None, 'output_dir': '/orange/adamginsburg/jwst/cloudc/F405N/pipeline/', 'output_ext': '.fits', 'output_use_model': False, 'output_use_index': True, 'save_results': True, 'skip': False, 'suffix': None, 'search_output_file': True, 'input_dir': '', 'skymethod': 'global+match', 'match_down': True, 'subtract': False, 'stepsize': None, 'skystat': 'mode', 'dqbits': '~DO_NOT_USE+NON_SCIENCE', 'lower': None, 'upper': None, 'nclip': 5, 'lsigma': 4.0, 'usigma': 4.0, 'binwidth': 0.1}\n",
      "2023-09-06 15:43:20,660 - stpipe.SkyMatchStep - WARNING - /blue/adamginsburg/adamginsburg/miniconda3/envs/python39savannah/lib/python3.9/site-packages/jwst/associations/association.py:215: UserWarning: 'expname' contains path, but should only be a filename.  All input files should be in a single directory, so no path is needed.\n",
      "  warnings.warn(err_str, UserWarning)\n",
      "\n",
      "2023-09-06 15:43:33,318 - stpipe.SkyMatchStep - INFO -  \n",
      "2023-09-06 15:43:33,320 - stpipe.SkyMatchStep - INFO - ***** jwst.skymatch.skymatch.match() started on 2023-09-06 15:43:33.318721\n",
      "2023-09-06 15:43:33,322 - stpipe.SkyMatchStep - INFO -  \n",
      "2023-09-06 15:43:33,323 - stpipe.SkyMatchStep - INFO - Sky computation method: 'global+match'\n",
      "2023-09-06 15:43:33,324 - stpipe.SkyMatchStep - INFO - Sky matching direction: DOWN\n",
      "2023-09-06 15:43:33,325 - stpipe.SkyMatchStep - INFO - Sky subtraction from image data: OFF\n",
      "2023-09-06 15:43:33,327 - stpipe.SkyMatchStep - INFO -  \n",
      "2023-09-06 15:43:33,328 - stpipe.SkyMatchStep - INFO - ----  Computing differences in sky values in overlapping regions.\n"
     ]
    },
    {
     "name": "stdout",
     "output_type": "stream",
     "text": [
      "! WARNING: Clipped data falls within 1 histogram bin\n",
      "! WARNING: Clipped data falls within 1 histogram bin\n"
     ]
    },
    {
     "name": "stderr",
     "output_type": "stream",
     "text": [
      "2023-09-06 15:45:18,181 - stpipe.SkyMatchStep - INFO -    *  Image ID=jw02221002002_08201_00004_nrcalong_align.fits. Sky background: 0\n",
      "2023-09-06 15:45:18,183 - stpipe.SkyMatchStep - INFO -    *  Image ID=jw02221002002_08201_00003_nrcalong_align.fits. Sky background: 0.00905509\n",
      "2023-09-06 15:45:18,184 - stpipe.SkyMatchStep - INFO -    *  Image ID=jw02221002002_08201_00001_nrcalong_align.fits. Sky background: 0.124691\n",
      "2023-09-06 15:45:18,186 - stpipe.SkyMatchStep - INFO -    *  Image ID=jw02221002001_08201_00003_nrcalong_align.fits. Sky background: 0.937662\n",
      "2023-09-06 15:45:18,187 - stpipe.SkyMatchStep - INFO -    *  Image ID=jw02221002002_08201_00002_nrcalong_align.fits. Sky background: 0.0156086\n",
      "2023-09-06 15:45:18,188 - stpipe.SkyMatchStep - INFO -    *  Image ID=jw02221002002_02201_00001_nrcalong_align.fits. Sky background: 0.540792\n",
      "2023-09-06 15:45:18,190 - stpipe.SkyMatchStep - INFO -    *  Image ID=jw02221002002_02201_00003_nrcalong_align.fits. Sky background: 0.55995\n",
      "2023-09-06 15:45:18,191 - stpipe.SkyMatchStep - INFO -    *  Image ID=jw02221002001_08201_00004_nrcalong_align.fits. Sky background: 1.11038\n",
      "2023-09-06 15:45:18,192 - stpipe.SkyMatchStep - INFO -    *  Image ID=jw02221002002_02201_00002_nrcalong_align.fits. Sky background: 0.633092\n",
      "2023-09-06 15:45:18,194 - stpipe.SkyMatchStep - INFO -    *  Image ID=jw02221002001_08201_00002_nrcalong_align.fits. Sky background: 1.02033\n",
      "2023-09-06 15:45:18,195 - stpipe.SkyMatchStep - INFO -    *  Image ID=jw02221002001_08201_00001_nrcalong_align.fits. Sky background: 1.02366\n",
      "2023-09-06 15:45:18,196 - stpipe.SkyMatchStep - INFO -    *  Image ID=jw02221002002_02201_00004_nrcalong_align.fits. Sky background: 0.642872\n",
      "2023-09-06 15:45:18,198 - stpipe.SkyMatchStep - INFO -    *  Image ID=jw02221002001_02201_00001_nrcalong_align.fits. Sky background: 1.46083\n",
      "2023-09-06 15:45:18,199 - stpipe.SkyMatchStep - INFO -    *  Image ID=jw02221002001_02201_00003_nrcalong_align.fits. Sky background: 1.47116\n",
      "2023-09-06 15:45:18,200 - stpipe.SkyMatchStep - INFO -    *  Image ID=jw02221002001_02201_00002_nrcalong_align.fits. Sky background: 1.47886\n",
      "2023-09-06 15:45:18,201 - stpipe.SkyMatchStep - INFO -    *  Image ID=jw02221002001_02201_00004_nrcalong_align.fits. Sky background: 1.35047\n",
      "2023-09-06 15:45:18,203 - stpipe.SkyMatchStep - INFO -  \n",
      "2023-09-06 15:45:18,204 - stpipe.SkyMatchStep - INFO - ----  Computing \"global\" sky - smallest sky value across *all* input images.\n",
      "2023-09-06 15:45:19,946 - stpipe.SkyMatchStep - INFO -  \n",
      "2023-09-06 15:45:19,949 - stpipe.SkyMatchStep - INFO -    \"Global\" sky value correction: 2.1527798900111055 [not converted]\n",
      "2023-09-06 15:45:19,950 - stpipe.SkyMatchStep - INFO -  \n",
      "2023-09-06 15:45:19,952 - stpipe.SkyMatchStep - INFO - ----  Final (match+global) sky for:\n",
      "2023-09-06 15:45:19,953 - stpipe.SkyMatchStep - INFO -    *  Image ID=jw02221002002_08201_00004_nrcalong_align.fits. Sky background: 2.15278 (old=0, delta=2.15278)\n",
      "2023-09-06 15:45:19,954 - stpipe.SkyMatchStep - INFO -    *  Image ID=jw02221002002_08201_00003_nrcalong_align.fits. Sky background: 2.16183 (old=0.00905509, delta=2.15278)\n",
      "2023-09-06 15:45:19,956 - stpipe.SkyMatchStep - INFO -    *  Image ID=jw02221002002_08201_00001_nrcalong_align.fits. Sky background: 2.27747 (old=0.124691, delta=2.15278)\n",
      "2023-09-06 15:45:19,957 - stpipe.SkyMatchStep - INFO -    *  Image ID=jw02221002001_08201_00003_nrcalong_align.fits. Sky background: 3.09044 (old=0.937662, delta=2.15278)\n",
      "2023-09-06 15:45:19,958 - stpipe.SkyMatchStep - INFO -    *  Image ID=jw02221002002_08201_00002_nrcalong_align.fits. Sky background: 2.16839 (old=0.0156086, delta=2.15278)\n",
      "2023-09-06 15:45:19,959 - stpipe.SkyMatchStep - INFO -    *  Image ID=jw02221002002_02201_00001_nrcalong_align.fits. Sky background: 2.69357 (old=0.540792, delta=2.15278)\n",
      "2023-09-06 15:45:19,961 - stpipe.SkyMatchStep - INFO -    *  Image ID=jw02221002002_02201_00003_nrcalong_align.fits. Sky background: 2.71273 (old=0.55995, delta=2.15278)\n",
      "2023-09-06 15:45:19,962 - stpipe.SkyMatchStep - INFO -    *  Image ID=jw02221002001_08201_00004_nrcalong_align.fits. Sky background: 3.26316 (old=1.11038, delta=2.15278)\n",
      "2023-09-06 15:45:19,963 - stpipe.SkyMatchStep - INFO -    *  Image ID=jw02221002002_02201_00002_nrcalong_align.fits. Sky background: 2.78587 (old=0.633092, delta=2.15278)\n",
      "2023-09-06 15:45:19,965 - stpipe.SkyMatchStep - INFO -    *  Image ID=jw02221002001_08201_00002_nrcalong_align.fits. Sky background: 3.17311 (old=1.02033, delta=2.15278)\n",
      "2023-09-06 15:45:19,966 - stpipe.SkyMatchStep - INFO -    *  Image ID=jw02221002001_08201_00001_nrcalong_align.fits. Sky background: 3.17644 (old=1.02366, delta=2.15278)\n",
      "2023-09-06 15:45:19,967 - stpipe.SkyMatchStep - INFO -    *  Image ID=jw02221002002_02201_00004_nrcalong_align.fits. Sky background: 2.79565 (old=0.642872, delta=2.15278)\n",
      "2023-09-06 15:45:19,969 - stpipe.SkyMatchStep - INFO -    *  Image ID=jw02221002001_02201_00001_nrcalong_align.fits. Sky background: 3.61361 (old=1.46083, delta=2.15278)\n",
      "2023-09-06 15:45:19,970 - stpipe.SkyMatchStep - INFO -    *  Image ID=jw02221002001_02201_00003_nrcalong_align.fits. Sky background: 3.62394 (old=1.47116, delta=2.15278)\n",
      "2023-09-06 15:45:19,971 - stpipe.SkyMatchStep - INFO -    *  Image ID=jw02221002001_02201_00002_nrcalong_align.fits. Sky background: 3.63164 (old=1.47886, delta=2.15278)\n",
      "2023-09-06 15:45:19,972 - stpipe.SkyMatchStep - INFO -    *  Image ID=jw02221002001_02201_00004_nrcalong_align.fits. Sky background: 3.50325 (old=1.35047, delta=2.15278)\n",
      "2023-09-06 15:45:19,973 - stpipe.SkyMatchStep - INFO -  \n",
      "2023-09-06 15:45:19,975 - stpipe.SkyMatchStep - INFO - ***** jwst.skymatch.skymatch.match() ended on 2023-09-06 15:45:19.973002\n",
      "2023-09-06 15:45:19,975 - stpipe.SkyMatchStep - INFO - ***** jwst.skymatch.skymatch.match() TOTAL RUN TIME: 0:01:46.654281\n",
      "2023-09-06 15:45:19,976 - stpipe.SkyMatchStep - INFO -  \n",
      "2023-09-06 15:45:20,588 - stpipe.SkyMatchStep - INFO - Saved model in /orange/adamginsburg/jwst/cloudc/F405N/pipeline/jw02221-o002_20230725t121309_image3_00005_nrca_asn_0_skymatchstep.fits\n",
      "2023-09-06 15:45:21,060 - stpipe.SkyMatchStep - INFO - Saved model in /orange/adamginsburg/jwst/cloudc/F405N/pipeline/jw02221-o002_20230725t121309_image3_00005_nrca_asn_1_skymatchstep.fits\n",
      "2023-09-06 15:45:21,797 - stpipe.SkyMatchStep - INFO - Saved model in /orange/adamginsburg/jwst/cloudc/F405N/pipeline/jw02221-o002_20230725t121309_image3_00005_nrca_asn_2_skymatchstep.fits\n",
      "2023-09-06 15:45:22,287 - stpipe.SkyMatchStep - INFO - Saved model in /orange/adamginsburg/jwst/cloudc/F405N/pipeline/jw02221-o002_20230725t121309_image3_00005_nrca_asn_3_skymatchstep.fits\n",
      "2023-09-06 15:45:22,794 - stpipe.SkyMatchStep - INFO - Saved model in /orange/adamginsburg/jwst/cloudc/F405N/pipeline/jw02221-o002_20230725t121309_image3_00005_nrca_asn_4_skymatchstep.fits\n",
      "2023-09-06 15:45:23,308 - stpipe.SkyMatchStep - INFO - Saved model in /orange/adamginsburg/jwst/cloudc/F405N/pipeline/jw02221-o002_20230725t121309_image3_00005_nrca_asn_5_skymatchstep.fits\n",
      "2023-09-06 15:45:23,867 - stpipe.SkyMatchStep - INFO - Saved model in /orange/adamginsburg/jwst/cloudc/F405N/pipeline/jw02221-o002_20230725t121309_image3_00005_nrca_asn_6_skymatchstep.fits\n",
      "2023-09-06 15:45:24,459 - stpipe.SkyMatchStep - INFO - Saved model in /orange/adamginsburg/jwst/cloudc/F405N/pipeline/jw02221-o002_20230725t121309_image3_00005_nrca_asn_7_skymatchstep.fits\n",
      "2023-09-06 15:45:24,973 - stpipe.SkyMatchStep - INFO - Saved model in /orange/adamginsburg/jwst/cloudc/F405N/pipeline/jw02221-o002_20230725t121309_image3_00005_nrca_asn_8_skymatchstep.fits\n",
      "2023-09-06 15:45:25,467 - stpipe.SkyMatchStep - INFO - Saved model in /orange/adamginsburg/jwst/cloudc/F405N/pipeline/jw02221-o002_20230725t121309_image3_00005_nrca_asn_9_skymatchstep.fits\n",
      "2023-09-06 15:45:25,948 - stpipe.SkyMatchStep - INFO - Saved model in /orange/adamginsburg/jwst/cloudc/F405N/pipeline/jw02221-o002_20230725t121309_image3_00005_nrca_asn_10_skymatchstep.fits\n",
      "2023-09-06 15:45:26,468 - stpipe.SkyMatchStep - INFO - Saved model in /orange/adamginsburg/jwst/cloudc/F405N/pipeline/jw02221-o002_20230725t121309_image3_00005_nrca_asn_11_skymatchstep.fits\n",
      "2023-09-06 15:45:26,952 - stpipe.SkyMatchStep - INFO - Saved model in /orange/adamginsburg/jwst/cloudc/F405N/pipeline/jw02221-o002_20230725t121309_image3_00005_nrca_asn_12_skymatchstep.fits\n",
      "2023-09-06 15:45:27,474 - stpipe.SkyMatchStep - INFO - Saved model in /orange/adamginsburg/jwst/cloudc/F405N/pipeline/jw02221-o002_20230725t121309_image3_00005_nrca_asn_13_skymatchstep.fits\n",
      "2023-09-06 15:45:27,938 - stpipe.SkyMatchStep - INFO - Saved model in /orange/adamginsburg/jwst/cloudc/F405N/pipeline/jw02221-o002_20230725t121309_image3_00005_nrca_asn_14_skymatchstep.fits\n",
      "2023-09-06 15:45:28,450 - stpipe.SkyMatchStep - INFO - Saved model in /orange/adamginsburg/jwst/cloudc/F405N/pipeline/jw02221-o002_20230725t121309_image3_00005_nrca_asn_15_skymatchstep.fits\n",
      "2023-09-06 15:45:28,453 - stpipe.SkyMatchStep - INFO - Step SkyMatchStep done\n"
     ]
    }
   ],
   "source": [
    "skymatch = SkyMatchStep()\n",
    "skymatch.skymethod = 'global+match'\n",
    "skymatch.save_results = True\n",
    "skymatch.output_dir = output_dir\n",
    "sky = skymatch.run(tweak)"
   ]
  },
  {
   "cell_type": "code",
   "execution_count": 101,
   "id": "89d8278f-fd6f-484d-9d56-2661e0fa6f6e",
   "metadata": {},
   "outputs": [
    {
     "name": "stdout",
     "output_type": "stream",
     "text": [
      "2023-07-27T18:29:08.056126: step_SkyMatchStep_0_skymatchstep.fits\n",
      "2023-07-27T18:29:08.056256: step_SkyMatchStep_0_skymatchstep.fits\n",
      "2023-07-27T18:29:08.056277: step_SkyMatchStep_0_skymatchstep.fits\n",
      "2023-07-27T18:29:08.056294: step_SkyMatchStep_0_skymatchstep.fits\n",
      "2023-07-27T18:29:08.056309: step_SkyMatchStep_0_skymatchstep.fits\n",
      "2023-07-27T18:29:08.056325: step_SkyMatchStep_0_skymatchstep.fits\n",
      "2023-07-27T18:29:08.056340: step_SkyMatchStep_0_skymatchstep.fits\n",
      "2023-07-27T18:29:08.056355: step_SkyMatchStep_0_skymatchstep.fits\n",
      "2023-07-27T18:29:08.056371: step_SkyMatchStep_0_skymatchstep.fits\n",
      "2023-07-27T18:29:08.056386: step_SkyMatchStep_0_skymatchstep.fits\n",
      "2023-07-27T18:29:08.056400: step_SkyMatchStep_0_skymatchstep.fits\n",
      "2023-07-27T18:29:08.056415: step_SkyMatchStep_0_skymatchstep.fits\n",
      "2023-07-27T18:29:08.056430: step_SkyMatchStep_0_skymatchstep.fits\n",
      "2023-07-27T18:29:08.056445: step_SkyMatchStep_0_skymatchstep.fits\n",
      "2023-07-27T18:29:08.056461: step_SkyMatchStep_0_skymatchstep.fits\n",
      "2023-07-27T18:29:08.056477: step_SkyMatchStep_0_skymatchstep.fits\n"
     ]
    }
   ],
   "source": [
    "for i in range(16):\n",
    "    print(sky[0].meta.filename)"
   ]
  },
  {
   "cell_type": "code",
   "execution_count": 62,
   "id": "2bc5606e-c67f-4ece-811a-58b0df987c66",
   "metadata": {},
   "outputs": [
    {
     "name": "stdout",
     "output_type": "stream",
     "text": [
      "2023-09-01T18:23:07.804229: Computed background level: 3.1323486857077834\n",
      "2023-09-01T18:23:07.804544: Background subtracted: False\n"
     ]
    }
   ],
   "source": [
    "sky_file = sky[0].meta.filename\n",
    "sky_header = fits.getheader(sky_file)\n",
    "print('Computed background level: {}'.format(sky_header['BKGLEVEL']))\n",
    "print('Background subtracted: {}'.format(sky_header['BKGSUB']))"
   ]
  },
  {
   "cell_type": "code",
   "execution_count": 63,
   "id": "44364658-dbb9-45cf-b24e-41ead9a788b1",
   "metadata": {},
   "outputs": [],
   "source": [
    "sky_data = datamodels.open(sky_file)"
   ]
  },
  {
   "cell_type": "code",
   "execution_count": 65,
   "id": "57d9e2e4-faf1-45e5-a020-e1b5c9b48ceb",
   "metadata": {},
   "outputs": [
    {
     "data": {
      "text/plain": [
       "(-28818.928, 21596.38)"
      ]
     },
     "execution_count": 65,
     "metadata": {},
     "output_type": "execute_result"
    }
   ],
   "source": [
    "np.nanmin(sky_data.data - cal_data.data), np.nanmax(sky_data.data - cal_data.data) # difference is probably due to destreaking "
   ]
  },
  {
   "cell_type": "code",
   "execution_count": 100,
   "id": "51048b3f-8146-407f-bd36-ce4e295d3980",
   "metadata": {},
   "outputs": [
    {
     "name": "stderr",
     "output_type": "stream",
     "text": [
      "2023-09-06 15:45:28,472 - stpipe.OutlierDetectionStep - INFO - OutlierDetectionStep instance created.\n",
      "2023-09-06 15:45:28,731 - stpipe.OutlierDetectionStep - INFO - Step OutlierDetectionStep running with args (<ModelContainer>,).\n",
      "2023-09-06 15:45:28,734 - stpipe.OutlierDetectionStep - INFO - Step OutlierDetectionStep parameters are: {'pre_hooks': [], 'post_hooks': [], 'output_file': None, 'output_dir': None, 'output_ext': '.fits', 'output_use_model': False, 'output_use_index': True, 'save_results': True, 'skip': False, 'suffix': None, 'search_output_file': False, 'input_dir': '', 'weight_type': 'ivm', 'pixfrac': 1.0, 'kernel': 'square', 'fillval': 'INDEF', 'nlow': 0, 'nhigh': 0, 'maskpt': 0.7, 'grow': 1, 'snr': '5.0 4.0', 'scale': '1.2 0.7', 'backg': 0.0, 'kernel_size': '7 7', 'threshold_percent': 99.8, 'ifu_second_check': False, 'save_intermediate_results': True, 'resample_data': True, 'good_bits': '~DO_NOT_USE', 'scale_detection': False, 'allowed_memory': None, 'in_memory': False}\n",
      "2023-09-06 15:45:28,747 - stpipe.OutlierDetectionStep - INFO - Performing outlier detection on 16 inputs\n",
      "2023-09-06 15:45:28,749 - stpipe.OutlierDetectionStep - INFO - Driz parameter kernel: square\n",
      "2023-09-06 15:45:28,750 - stpipe.OutlierDetectionStep - INFO - Driz parameter pixfrac: 1.0\n",
      "2023-09-06 15:45:28,752 - stpipe.OutlierDetectionStep - INFO - Driz parameter fillval: INDEF\n",
      "2023-09-06 15:45:28,753 - stpipe.OutlierDetectionStep - INFO - Driz parameter weight_type: ivm\n",
      "2023-09-06 15:45:28,754 - stpipe.OutlierDetectionStep - INFO - Output pixel scale ratio: 1.0\n",
      "2023-09-06 15:45:29,202 - stpipe.OutlierDetectionStep - INFO - 1 exposures to drizzle together\n",
      "2023-09-06 15:45:31,325 - stpipe.OutlierDetectionStep - INFO - Drizzling (2048, 2048) --> (2410, 5282)\n",
      "2023-09-06 15:45:33,234 - stpipe.OutlierDetectionStep - INFO - Exposure jw02221-o002_20230725t121309_image3_00005_nrca_asn_0_outlier_i2d.fits saved to file\n",
      "2023-09-06 15:45:33,256 - stpipe.OutlierDetectionStep - INFO - 1 exposures to drizzle together\n",
      "2023-09-06 15:45:35,379 - stpipe.OutlierDetectionStep - INFO - Drizzling (2048, 2048) --> (2410, 5282)\n",
      "2023-09-06 15:45:37,359 - stpipe.OutlierDetectionStep - INFO - Exposure jw02221-o002_20230725t121309_image3_00005_nrca_asn_1_outlier_i2d.fits saved to file\n",
      "2023-09-06 15:45:37,383 - stpipe.OutlierDetectionStep - INFO - 1 exposures to drizzle together\n",
      "2023-09-06 15:45:39,429 - stpipe.OutlierDetectionStep - INFO - Drizzling (2048, 2048) --> (2410, 5282)\n",
      "2023-09-06 15:45:41,376 - stpipe.OutlierDetectionStep - INFO - Exposure jw02221-o002_20230725t121309_image3_00005_nrca_asn_2_outlier_i2d.fits saved to file\n",
      "2023-09-06 15:45:41,399 - stpipe.OutlierDetectionStep - INFO - 1 exposures to drizzle together\n",
      "2023-09-06 15:45:43,468 - stpipe.OutlierDetectionStep - INFO - Drizzling (2048, 2048) --> (2410, 5282)\n",
      "2023-09-06 15:45:45,438 - stpipe.OutlierDetectionStep - INFO - Exposure jw02221-o002_20230725t121309_image3_00005_nrca_asn_3_outlier_i2d.fits saved to file\n",
      "2023-09-06 15:45:45,462 - stpipe.OutlierDetectionStep - INFO - 1 exposures to drizzle together\n",
      "2023-09-06 15:45:47,542 - stpipe.OutlierDetectionStep - INFO - Drizzling (2048, 2048) --> (2410, 5282)\n",
      "2023-09-06 15:45:49,566 - stpipe.OutlierDetectionStep - INFO - Exposure jw02221-o002_20230725t121309_image3_00005_nrca_asn_4_outlier_i2d.fits saved to file\n",
      "2023-09-06 15:45:49,593 - stpipe.OutlierDetectionStep - INFO - 1 exposures to drizzle together\n",
      "2023-09-06 15:45:51,709 - stpipe.OutlierDetectionStep - INFO - Drizzling (2048, 2048) --> (2410, 5282)\n",
      "2023-09-06 15:45:53,747 - stpipe.OutlierDetectionStep - INFO - Exposure jw02221-o002_20230725t121309_image3_00005_nrca_asn_5_outlier_i2d.fits saved to file\n",
      "2023-09-06 15:45:53,773 - stpipe.OutlierDetectionStep - INFO - 1 exposures to drizzle together\n",
      "2023-09-06 15:45:55,949 - stpipe.OutlierDetectionStep - INFO - Drizzling (2048, 2048) --> (2410, 5282)\n",
      "2023-09-06 15:45:57,922 - stpipe.OutlierDetectionStep - INFO - Exposure jw02221-o002_20230725t121309_image3_00005_nrca_asn_6_outlier_i2d.fits saved to file\n",
      "2023-09-06 15:45:57,944 - stpipe.OutlierDetectionStep - INFO - 1 exposures to drizzle together\n",
      "2023-09-06 15:46:00,033 - stpipe.OutlierDetectionStep - INFO - Drizzling (2048, 2048) --> (2410, 5282)\n",
      "2023-09-06 15:46:02,013 - stpipe.OutlierDetectionStep - INFO - Exposure jw02221-o002_20230725t121309_image3_00005_nrca_asn_7_outlier_i2d.fits saved to file\n",
      "2023-09-06 15:46:02,042 - stpipe.OutlierDetectionStep - INFO - 1 exposures to drizzle together\n",
      "2023-09-06 15:46:04,237 - stpipe.OutlierDetectionStep - INFO - Drizzling (2048, 2048) --> (2410, 5282)\n",
      "2023-09-06 15:46:06,183 - stpipe.OutlierDetectionStep - INFO - Exposure jw02221-o002_20230725t121309_image3_00005_nrca_asn_8_outlier_i2d.fits saved to file\n",
      "2023-09-06 15:46:06,206 - stpipe.OutlierDetectionStep - INFO - 1 exposures to drizzle together\n",
      "2023-09-06 15:46:08,273 - stpipe.OutlierDetectionStep - INFO - Drizzling (2048, 2048) --> (2410, 5282)\n",
      "2023-09-06 15:46:10,194 - stpipe.OutlierDetectionStep - INFO - Exposure jw02221-o002_20230725t121309_image3_00005_nrca_asn_9_outlier_i2d.fits saved to file\n",
      "2023-09-06 15:46:10,223 - stpipe.OutlierDetectionStep - INFO - 1 exposures to drizzle together\n",
      "2023-09-06 15:46:12,290 - stpipe.OutlierDetectionStep - INFO - Drizzling (2048, 2048) --> (2410, 5282)\n",
      "2023-09-06 15:46:14,325 - stpipe.OutlierDetectionStep - INFO - Exposure jw02221-o002_20230725t121309_image3_00005_nrca_asn_10_outlier_i2d.fits saved to file\n",
      "2023-09-06 15:46:14,350 - stpipe.OutlierDetectionStep - INFO - 1 exposures to drizzle together\n",
      "2023-09-06 15:46:16,415 - stpipe.OutlierDetectionStep - INFO - Drizzling (2048, 2048) --> (2410, 5282)\n",
      "2023-09-06 15:46:18,447 - stpipe.OutlierDetectionStep - INFO - Exposure jw02221-o002_20230725t121309_image3_00005_nrca_asn_11_outlier_i2d.fits saved to file\n",
      "2023-09-06 15:46:18,469 - stpipe.OutlierDetectionStep - INFO - 1 exposures to drizzle together\n",
      "2023-09-06 15:46:20,582 - stpipe.OutlierDetectionStep - INFO - Drizzling (2048, 2048) --> (2410, 5282)\n",
      "2023-09-06 15:46:22,525 - stpipe.OutlierDetectionStep - INFO - Exposure jw02221-o002_20230725t121309_image3_00005_nrca_asn_12_outlier_i2d.fits saved to file\n",
      "2023-09-06 15:46:22,548 - stpipe.OutlierDetectionStep - INFO - 1 exposures to drizzle together\n",
      "2023-09-06 15:46:24,627 - stpipe.OutlierDetectionStep - INFO - Drizzling (2048, 2048) --> (2410, 5282)\n",
      "2023-09-06 15:46:26,601 - stpipe.OutlierDetectionStep - INFO - Exposure jw02221-o002_20230725t121309_image3_00005_nrca_asn_13_outlier_i2d.fits saved to file\n",
      "2023-09-06 15:46:26,625 - stpipe.OutlierDetectionStep - INFO - 1 exposures to drizzle together\n",
      "2023-09-06 15:46:28,700 - stpipe.OutlierDetectionStep - INFO - Drizzling (2048, 2048) --> (2410, 5282)\n",
      "2023-09-06 15:46:30,617 - stpipe.OutlierDetectionStep - INFO - Exposure jw02221-o002_20230725t121309_image3_00005_nrca_asn_14_outlier_i2d.fits saved to file\n",
      "2023-09-06 15:46:30,639 - stpipe.OutlierDetectionStep - INFO - 1 exposures to drizzle together\n",
      "2023-09-06 15:46:32,711 - stpipe.OutlierDetectionStep - INFO - Drizzling (2048, 2048) --> (2410, 5282)\n",
      "2023-09-06 15:46:34,643 - stpipe.OutlierDetectionStep - INFO - Exposure jw02221-o002_20230725t121309_image3_00005_nrca_asn_15_outlier_i2d.fits saved to file\n",
      "2023-09-06 15:50:08,062 - stpipe.OutlierDetectionStep - INFO - Blotting median...\n",
      "2023-09-06 15:50:10,280 - stpipe.OutlierDetectionStep - INFO - Blotting (2048, 2048) <-- (2410, 5282)\n",
      "2023-09-06 15:50:13,021 - stpipe.OutlierDetectionStep - INFO - Blotting (2048, 2048) <-- (2410, 5282)\n",
      "2023-09-06 15:50:15,722 - stpipe.OutlierDetectionStep - INFO - Blotting (2048, 2048) <-- (2410, 5282)\n",
      "2023-09-06 15:50:18,456 - stpipe.OutlierDetectionStep - INFO - Blotting (2048, 2048) <-- (2410, 5282)\n",
      "2023-09-06 15:50:21,433 - stpipe.OutlierDetectionStep - INFO - Blotting (2048, 2048) <-- (2410, 5282)\n",
      "2023-09-06 15:50:24,222 - stpipe.OutlierDetectionStep - INFO - Blotting (2048, 2048) <-- (2410, 5282)\n",
      "2023-09-06 15:50:26,992 - stpipe.OutlierDetectionStep - INFO - Blotting (2048, 2048) <-- (2410, 5282)\n",
      "2023-09-06 15:50:29,764 - stpipe.OutlierDetectionStep - INFO - Blotting (2048, 2048) <-- (2410, 5282)\n",
      "2023-09-06 15:50:32,562 - stpipe.OutlierDetectionStep - INFO - Blotting (2048, 2048) <-- (2410, 5282)\n",
      "2023-09-06 15:50:35,333 - stpipe.OutlierDetectionStep - INFO - Blotting (2048, 2048) <-- (2410, 5282)\n",
      "2023-09-06 15:50:38,082 - stpipe.OutlierDetectionStep - INFO - Blotting (2048, 2048) <-- (2410, 5282)\n",
      "2023-09-06 15:50:40,869 - stpipe.OutlierDetectionStep - INFO - Blotting (2048, 2048) <-- (2410, 5282)\n",
      "2023-09-06 15:50:43,702 - stpipe.OutlierDetectionStep - INFO - Blotting (2048, 2048) <-- (2410, 5282)\n",
      "2023-09-06 15:50:46,653 - stpipe.OutlierDetectionStep - INFO - Blotting (2048, 2048) <-- (2410, 5282)\n",
      "2023-09-06 15:50:49,645 - stpipe.OutlierDetectionStep - INFO - Blotting (2048, 2048) <-- (2410, 5282)\n",
      "2023-09-06 15:50:52,709 - stpipe.OutlierDetectionStep - INFO - Blotting (2048, 2048) <-- (2410, 5282)\n",
      "2023-09-06 15:50:53,216 - stpipe.OutlierDetectionStep - INFO - Flagging outliers\n",
      "2023-09-06 15:50:54,248 - stpipe.OutlierDetectionStep - INFO - New pixels flagged as outliers: 9134 (0.22%)\n",
      "2023-09-06 15:50:55,141 - stpipe.OutlierDetectionStep - INFO - New pixels flagged as outliers: 9220 (0.22%)\n",
      "2023-09-06 15:50:56,386 - stpipe.OutlierDetectionStep - INFO - New pixels flagged as outliers: 9277 (0.22%)\n",
      "2023-09-06 15:50:57,728 - stpipe.OutlierDetectionStep - INFO - New pixels flagged as outliers: 77382 (1.84%)\n",
      "2023-09-06 15:50:58,859 - stpipe.OutlierDetectionStep - INFO - New pixels flagged as outliers: 8951 (0.21%)\n",
      "2023-09-06 15:51:00,282 - stpipe.OutlierDetectionStep - INFO - New pixels flagged as outliers: 51379 (1.22%)\n",
      "2023-09-06 15:51:01,114 - stpipe.OutlierDetectionStep - INFO - New pixels flagged as outliers: 42740 (1.02%)\n",
      "2023-09-06 15:51:02,273 - stpipe.OutlierDetectionStep - INFO - New pixels flagged as outliers: 81244 (1.94%)\n",
      "2023-09-06 15:51:03,217 - stpipe.OutlierDetectionStep - INFO - New pixels flagged as outliers: 44413 (1.06%)\n",
      "2023-09-06 15:51:04,369 - stpipe.OutlierDetectionStep - INFO - New pixels flagged as outliers: 71046 (1.69%)\n",
      "2023-09-06 15:51:05,720 - stpipe.OutlierDetectionStep - INFO - New pixels flagged as outliers: 68878 (1.64%)\n",
      "2023-09-06 15:51:06,787 - stpipe.OutlierDetectionStep - INFO - New pixels flagged as outliers: 36306 (0.87%)\n",
      "2023-09-06 15:51:07,999 - stpipe.OutlierDetectionStep - INFO - New pixels flagged as outliers: 9168 (0.22%)\n",
      "2023-09-06 15:51:09,431 - stpipe.OutlierDetectionStep - INFO - New pixels flagged as outliers: 10482 (0.25%)\n",
      "2023-09-06 15:51:10,754 - stpipe.OutlierDetectionStep - INFO - New pixels flagged as outliers: 10595 (0.25%)\n",
      "2023-09-06 15:51:11,947 - stpipe.OutlierDetectionStep - INFO - New pixels flagged as outliers: 10482 (0.25%)\n",
      "2023-09-06 15:51:12,501 - stpipe.OutlierDetectionStep - INFO - Saved model in jw02221-o002_20230725t121309_image3_00005_nrca_asn_0_o002_outlierdetectionstep.fits\n",
      "2023-09-06 15:51:12,972 - stpipe.OutlierDetectionStep - INFO - Saved model in jw02221-o002_20230725t121309_image3_00005_nrca_asn_1_o002_outlierdetectionstep.fits\n",
      "2023-09-06 15:51:13,538 - stpipe.OutlierDetectionStep - INFO - Saved model in jw02221-o002_20230725t121309_image3_00005_nrca_asn_2_o002_outlierdetectionstep.fits\n",
      "2023-09-06 15:51:14,019 - stpipe.OutlierDetectionStep - INFO - Saved model in jw02221-o002_20230725t121309_image3_00005_nrca_asn_3_o002_outlierdetectionstep.fits\n",
      "2023-09-06 15:51:14,574 - stpipe.OutlierDetectionStep - INFO - Saved model in jw02221-o002_20230725t121309_image3_00005_nrca_asn_4_o002_outlierdetectionstep.fits\n",
      "2023-09-06 15:51:15,135 - stpipe.OutlierDetectionStep - INFO - Saved model in jw02221-o002_20230725t121309_image3_00005_nrca_asn_5_o002_outlierdetectionstep.fits\n",
      "2023-09-06 15:51:15,655 - stpipe.OutlierDetectionStep - INFO - Saved model in jw02221-o002_20230725t121309_image3_00005_nrca_asn_6_o002_outlierdetectionstep.fits\n",
      "2023-09-06 15:51:16,162 - stpipe.OutlierDetectionStep - INFO - Saved model in jw02221-o002_20230725t121309_image3_00005_nrca_asn_7_o002_outlierdetectionstep.fits\n",
      "2023-09-06 15:51:16,646 - stpipe.OutlierDetectionStep - INFO - Saved model in jw02221-o002_20230725t121309_image3_00005_nrca_asn_8_o002_outlierdetectionstep.fits\n",
      "2023-09-06 15:51:17,129 - stpipe.OutlierDetectionStep - INFO - Saved model in jw02221-o002_20230725t121309_image3_00005_nrca_asn_9_o002_outlierdetectionstep.fits\n",
      "2023-09-06 15:51:17,628 - stpipe.OutlierDetectionStep - INFO - Saved model in jw02221-o002_20230725t121309_image3_00005_nrca_asn_10_o002_outlierdetectionstep.fits\n",
      "2023-09-06 15:51:18,161 - stpipe.OutlierDetectionStep - INFO - Saved model in jw02221-o002_20230725t121309_image3_00005_nrca_asn_11_o002_outlierdetectionstep.fits\n",
      "2023-09-06 15:51:18,766 - stpipe.OutlierDetectionStep - INFO - Saved model in jw02221-o002_20230725t121309_image3_00005_nrca_asn_12_o002_outlierdetectionstep.fits\n",
      "2023-09-06 15:51:19,295 - stpipe.OutlierDetectionStep - INFO - Saved model in jw02221-o002_20230725t121309_image3_00005_nrca_asn_13_o002_outlierdetectionstep.fits\n",
      "2023-09-06 15:51:19,872 - stpipe.OutlierDetectionStep - INFO - Saved model in jw02221-o002_20230725t121309_image3_00005_nrca_asn_14_o002_outlierdetectionstep.fits\n",
      "2023-09-06 15:51:20,353 - stpipe.OutlierDetectionStep - INFO - Saved model in jw02221-o002_20230725t121309_image3_00005_nrca_asn_15_o002_outlierdetectionstep.fits\n",
      "2023-09-06 15:51:20,355 - stpipe.OutlierDetectionStep - INFO - Step OutlierDetectionStep done\n"
     ]
    }
   ],
   "source": [
    "outlier_detection = OutlierDetectionStep()\n",
    "outlier_detection.save_results = True\n",
    "outlier_detection.save_intermediate_results = True\n",
    "outlier = outlier_detection.run(sky)"
   ]
  },
  {
   "cell_type": "code",
   "execution_count": 86,
   "id": "536071d9-4c7d-42c3-9f90-a8757a9c8e12",
   "metadata": {},
   "outputs": [
    {
     "data": {
      "text/plain": [
       "['jw02221002001_02201_00004_nrcblong_outlier_i2d.fits',\n",
       " 'jw02221002001_08201_00003_nrcalong_destreak_realigned_to_outlier_i2d.fits',\n",
       " 'jw02221002001_02201_00003_nrcblong_outlier_i2d.fits',\n",
       " 'jw02221002002_08201_00001_nrcblong_outlier_i2d.fits',\n",
       " 'step_SkyMatchStep_5_outlier_i2d.fits',\n",
       " 'jw02221002001_02201_00003_nrcalong_destreak_realigned_to_outlier_i2d.fits',\n",
       " 'jw02221002001_02201_00001_nrcalong_destreak_realigned_to_outlier_i2d.fits',\n",
       " 'jw02221002002_08201_00003_nrcblong_outlier_i2d.fits',\n",
       " 'step_SkyMatchStep_10_outlier_i2d.fits',\n",
       " 'jw02221002001_02201_00004_nrcblong_destreak_realigned_to_outlier_i2d.fits',\n",
       " 'jw02221002001_02201_00001_nrcalong_outlier_i2d.fits',\n",
       " 'jw02221002001_02201_00003_nrcblong_destreak_realigned_to_outlier_i2d.fits',\n",
       " 'jw02221002002_08201_00003_nrcalong_destreak_realigned_to_outlier_i2d.fits',\n",
       " 'step_SkyMatchStep_3_outlier_i2d.fits',\n",
       " 'jw02221002001_02201_00002_nrcblong_destreak_realigned_to_outlier_i2d.fits',\n",
       " 'jw02221002001_08201_00002_nrcblong_destreak_realigned_to_outlier_i2d.fits',\n",
       " 'jw02221-o002_20230725t121309_image3_00005_nrcb_asn_6_outlier_i2d.fits',\n",
       " 'jw02221002001_08201_00002_nrcalong_destreak_realigned_to_outlier_i2d.fits',\n",
       " 'jw02221002002_02201_00002_nrcblong_outlier_i2d.fits',\n",
       " 'jw02221002002_02201_00004_nrcblong_outlier_i2d.fits',\n",
       " 'jw02221002002_02201_00001_nrcalong_outlier_i2d.fits',\n",
       " 'jw02221002002_02201_00002_nrcalong_outlier_i2d.fits',\n",
       " 'jw02221002001_08201_00004_nrcalong_outlier_i2d.fits',\n",
       " 'jw02221-o002_20230725t121309_image3_00005_nrcb_asn_13_outlier_i2d.fits',\n",
       " 'jw02221-o002_20230725t121309_image3_00005_nrcb_asn_1_outlier_i2d.fits',\n",
       " 'jw02221002001_08201_00001_nrcalong_destreak_realigned_to_outlier_i2d.fits',\n",
       " 'jw02221002002_08201_00001_nrcalong_destreak_realigned_to_outlier_i2d.fits',\n",
       " 'jw02221-o002_20230725t121309_image3_00005_nrcb_asn_2_outlier_i2d.fits',\n",
       " 'jw02221002001_08201_00002_nrcblong_outlier_i2d.fits',\n",
       " 'step_SkyMatchStep_14_outlier_i2d.fits',\n",
       " 'jw02221002002_02201_00001_nrcblong_destreak_realigned_to_outlier_i2d.fits',\n",
       " 'jw02221002002_08201_00004_nrcblong_outlier_i2d.fits',\n",
       " 'jw02221002001_02201_00004_nrcalong_destreak_realigned_to_outlier_i2d.fits',\n",
       " 'jw02221-o002_20230725t121309_image3_00005_nrcb_asn_3_outlier_i2d.fits',\n",
       " 'jw02221-o002_20230725t121309_image3_00005_nrcb_asn_4_outlier_i2d.fits',\n",
       " 'jw02221-o002_20230725t121309_image3_00005_nrcb_asn_15_outlier_i2d.fits',\n",
       " 'jw02221-o002_20230725t121309_image3_00005_nrcb_asn_11_outlier_i2d.fits',\n",
       " 'jw02221002002_08201_00004_nrcalong_destreak_realigned_to_outlier_i2d.fits',\n",
       " 'jw02221002002_02201_00002_nrcblong_destreak_realigned_to_outlier_i2d.fits',\n",
       " 'jw02221002002_02201_00004_nrcblong_destreak_realigned_to_outlier_i2d.fits',\n",
       " 'jw02221002002_02201_00001_nrcblong_outlier_i2d.fits',\n",
       " 'step_SkyMatchStep_11_outlier_i2d.fits',\n",
       " 'jw02221-o002_20230725t121309_image3_00005_nrcb_asn_14_outlier_i2d.fits',\n",
       " 'step_SkyMatchStep_12_outlier_i2d.fits',\n",
       " 'step_SkyMatchStep_1_outlier_i2d.fits',\n",
       " 'step_SkyMatchStep_8_outlier_i2d.fits',\n",
       " 'jw02221-o002_20230725t121309_image3_00005_nrcb_asn_10_outlier_i2d.fits',\n",
       " 'step_SkyMatchStep_15_outlier_i2d.fits',\n",
       " 'jw02221002002_02201_00003_nrcalong_destreak_realigned_to_outlier_i2d.fits',\n",
       " 'jw02221002001_08201_00001_nrcblong_destreak_realigned_to_outlier_i2d.fits',\n",
       " 'jw02221002002_08201_00002_nrcblong_outlier_i2d.fits',\n",
       " 'jw02221002002_02201_00004_nrcalong_outlier_i2d.fits',\n",
       " 'jw02221002002_02201_00003_nrcblong_destreak_realigned_to_outlier_i2d.fits',\n",
       " 'jw02221002002_02201_00003_nrcalong_outlier_i2d.fits',\n",
       " 'jw02221002001_02201_00001_nrcblong_destreak_realigned_to_outlier_i2d.fits',\n",
       " 'jw02221002001_02201_00004_nrcalong_outlier_i2d.fits',\n",
       " 'jw02221002002_08201_00004_nrcalong_outlier_i2d.fits',\n",
       " 'jw02221-o002_20230725t121309_image3_00005_nrcb_asn_9_outlier_i2d.fits',\n",
       " 'jw02221002001_08201_00001_nrcalong_outlier_i2d.fits',\n",
       " 'jw02221002001_08201_00001_nrcblong_outlier_i2d.fits',\n",
       " 'jw02221002002_08201_00002_nrcalong_destreak_realigned_to_outlier_i2d.fits',\n",
       " 'step_SkyMatchStep_6_outlier_i2d.fits',\n",
       " 'jw02221002002_08201_00002_nrcalong_outlier_i2d.fits',\n",
       " 'jw02221002001_08201_00002_nrcalong_outlier_i2d.fits',\n",
       " 'jw02221002002_02201_00001_nrcalong_destreak_realigned_to_outlier_i2d.fits',\n",
       " 'step_SkyMatchStep_2_outlier_i2d.fits',\n",
       " 'jw02221002001_02201_00002_nrcblong_outlier_i2d.fits',\n",
       " 'step_SkyMatchStep_4_outlier_i2d.fits',\n",
       " 'step_SkyMatchStep_0_outlier_i2d.fits',\n",
       " 'jw02221002002_08201_00001_nrcalong_outlier_i2d.fits',\n",
       " 'jw02221-o002_20230725t121309_image3_00005_nrcb_asn_5_outlier_i2d.fits',\n",
       " 'jw02221002002_02201_00003_nrcblong_outlier_i2d.fits',\n",
       " 'jw02221002001_08201_00004_nrcblong_outlier_i2d.fits',\n",
       " 'step_SkyMatchStep_9_outlier_i2d.fits',\n",
       " 'jw02221002002_08201_00002_nrcblong_destreak_realigned_to_outlier_i2d.fits',\n",
       " 'jw02221002001_02201_00001_nrcblong_outlier_i2d.fits',\n",
       " 'jw02221002001_08201_00003_nrcblong_destreak_realigned_to_outlier_i2d.fits',\n",
       " 'jw02221002001_08201_00003_nrcalong_outlier_i2d.fits',\n",
       " 'jw02221002001_02201_00002_nrcalong_destreak_realigned_to_outlier_i2d.fits',\n",
       " 'jw02221002001_02201_00003_nrcalong_outlier_i2d.fits',\n",
       " 'jw02221002001_08201_00004_nrcblong_destreak_realigned_to_outlier_i2d.fits',\n",
       " 'jw02221002002_02201_00002_nrcalong_destreak_realigned_to_outlier_i2d.fits',\n",
       " 'jw02221002002_08201_00001_nrcblong_destreak_realigned_to_outlier_i2d.fits',\n",
       " 'jw02221-o002_20230725t121309_image3_00005_nrcb_asn_0_outlier_i2d.fits',\n",
       " 'jw02221002002_02201_00004_nrcalong_destreak_realigned_to_outlier_i2d.fits',\n",
       " 'jw02221002001_08201_00003_nrcblong_outlier_i2d.fits',\n",
       " 'jw02221-o002_20230725t121309_image3_00005_nrcb_asn_12_outlier_i2d.fits',\n",
       " 'step_SkyMatchStep_7_outlier_i2d.fits',\n",
       " 'jw02221002001_02201_00002_nrcalong_outlier_i2d.fits',\n",
       " 'jw02221002002_08201_00004_nrcblong_destreak_realigned_to_outlier_i2d.fits',\n",
       " 'jw02221002002_08201_00003_nrcblong_destreak_realigned_to_outlier_i2d.fits',\n",
       " 'jw02221002001_08201_00004_nrcalong_destreak_realigned_to_outlier_i2d.fits',\n",
       " 'step_SkyMatchStep_13_outlier_i2d.fits',\n",
       " 'jw02221-o002_20230725t121309_image3_00005_nrcb_asn_8_outlier_i2d.fits',\n",
       " 'jw02221002002_08201_00003_nrcalong_outlier_i2d.fits',\n",
       " 'jw02221-o002_20230725t121309_image3_00005_nrcb_asn_7_outlier_i2d.fits']"
      ]
     },
     "execution_count": 86,
     "metadata": {},
     "output_type": "execute_result"
    }
   ],
   "source": [
    "glob('*outlier*i2d.fits')"
   ]
  },
  {
   "cell_type": "code",
   "execution_count": 59,
   "id": "4d7a5756-6225-40e2-8654-91b86ddc28ec",
   "metadata": {
    "tags": []
   },
   "outputs": [
    {
     "name": "stdout",
     "output_type": "stream",
     "text": [
      "2023-09-06T13:32:42.092035: DONE\n"
     ]
    }
   ],
   "source": [
    "print('DONE')"
   ]
  },
  {
   "cell_type": "code",
   "execution_count": 115,
   "id": "470c16f9-17cc-4302-851f-64a84f917fb9",
   "metadata": {},
   "outputs": [],
   "source": [
    "out_lis = np.array(['15', '10', '9', '8', '7', '6', '5', '4'])"
   ]
  },
  {
   "cell_type": "code",
   "execution_count": 123,
   "id": "493c8dec-2eed-4057-a318-aa8889385dd8",
   "metadata": {},
   "outputs": [
    {
     "data": {
      "text/plain": [
       "['step_SkyMatchStep_5_outlier_i2d.fits',\n",
       " 'step_SkyMatchStep_10_outlier_i2d.fits',\n",
       " 'step_SkyMatchStep_3_outlier_i2d.fits',\n",
       " 'step_SkyMatchStep_14_outlier_i2d.fits',\n",
       " 'step_SkyMatchStep_11_outlier_i2d.fits',\n",
       " 'step_SkyMatchStep_12_outlier_i2d.fits',\n",
       " 'step_SkyMatchStep_1_outlier_i2d.fits',\n",
       " 'step_SkyMatchStep_8_outlier_i2d.fits',\n",
       " 'step_SkyMatchStep_15_outlier_i2d.fits',\n",
       " 'step_SkyMatchStep_6_outlier_i2d.fits',\n",
       " 'step_SkyMatchStep_2_outlier_i2d.fits',\n",
       " 'step_SkyMatchStep_4_outlier_i2d.fits',\n",
       " 'step_SkyMatchStep_0_outlier_i2d.fits',\n",
       " 'step_SkyMatchStep_9_outlier_i2d.fits',\n",
       " 'step_SkyMatchStep_7_outlier_i2d.fits',\n",
       " 'step_SkyMatchStep_13_outlier_i2d.fits']"
      ]
     },
     "execution_count": 123,
     "metadata": {},
     "output_type": "execute_result"
    }
   ],
   "source": [
    "glob('step_SkyMatchStep_*_outlier_i2d.fits')"
   ]
  },
  {
   "cell_type": "code",
   "execution_count": null,
   "id": "27d0eab0-1faf-47ca-91eb-54d87bd6b93e",
   "metadata": {},
   "outputs": [],
   "source": []
  }
 ],
 "metadata": {
  "kernelspec": {
   "display_name": "Python 3 (ipykernel)",
   "language": "python",
   "name": "python3"
  },
  "language_info": {
   "codemirror_mode": {
    "name": "ipython",
    "version": 3
   },
   "file_extension": ".py",
   "mimetype": "text/x-python",
   "name": "python",
   "nbconvert_exporter": "python",
   "pygments_lexer": "ipython3",
   "version": "3.9.17"
  }
 },
 "nbformat": 4,
 "nbformat_minor": 5
}
