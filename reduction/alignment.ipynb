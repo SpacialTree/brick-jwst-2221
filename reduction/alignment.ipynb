{
 "cells": [
  {
   "cell_type": "code",
   "execution_count": 1,
   "id": "50bfbaa2-17f7-4823-8213-12bc00ac3933",
   "metadata": {},
   "outputs": [],
   "source": [
    "from glob import glob\n",
    "from astroquery.mast import Mast, Observations\n",
    "import os\n",
    "import shutil\n",
    "import numpy as np\n",
    "import json\n",
    "import requests\n",
    "import asdf\n",
    "from astropy import log\n",
    "from astropy.io import ascii, fits\n",
    "from astropy.utils.data import download_file\n",
    "from astropy.visualization import ImageNormalize, ManualInterval, LogStretch, LinearStretch\n",
    "import matplotlib.pyplot as plt\n",
    "import matplotlib as mpl\n",
    "from astropy.table import Table\n",
    "\n",
    "from align_to_catalogs import *\n",
    "import astropy.units as u"
   ]
  },
  {
   "cell_type": "code",
   "execution_count": 2,
   "id": "eefac799-6217-468a-93f4-057e49cc2c95",
   "metadata": {},
   "outputs": [],
   "source": [
    "#realign_to_catalog(reference_coordinates, filtername='f212n',\n",
    "#                       module='nrca',\n",
    "#                       basepath='/orange/adamginsburg/jwst/brick/',\n",
    "#                       fieldnumber='001',\n",
    "#                       max_offset=0.4*u.arcsec,\n",
    "#                       mag_limit=15,\n",
    "#                       catfile=None, imfile=None)\n",
    "#\n",
    "#"
   ]
  },
  {
   "cell_type": "code",
   "execution_count": 3,
   "id": "b1cab61e-c081-4712-93a7-bce4bd7a4813",
   "metadata": {},
   "outputs": [
    {
     "data": {
      "text/latex": [
       "$1 \\; \\mathrm{{}^{\\prime\\prime}}$"
      ],
      "text/plain": [
       "<Quantity 1. arcsec>"
      ]
     },
     "execution_count": 3,
     "metadata": {},
     "output_type": "execute_result"
    }
   ],
   "source": [
    "0 + 1*u.arcsec"
   ]
  },
  {
   "cell_type": "code",
   "execution_count": 4,
   "id": "2f373695-4f08-461f-a619-a0da9ae15e9b",
   "metadata": {},
   "outputs": [],
   "source": [
    "fov_regname = {'brick': 'regions/nircam_brick_fov.reg',\n",
    "              'cloudc': 'regions/nircam_cloudc_fov.reg',\n",
    "              }\n",
    "regionname = 'cloudc'\n",
    "basepath = f'/orange/adamginsburg/jwst/{regionname}/'\n",
    "filtername = 'F405N'\n",
    "field = '002' \n",
    "module = 'merged'\n",
    "output_dir = f'/orange/adamginsburg/jwst/{regionname}/{filtername}/pipeline/'"
   ]
  },
  {
   "cell_type": "code",
   "execution_count": 5,
   "id": "f6be1e8b-8c57-41e8-91d6-e3b712056c67",
   "metadata": {},
   "outputs": [
    {
     "data": {
      "text/plain": [
       "'/orange/adamginsburg/jwst/cloudc/F405N/pipeline/jw02221002002_02201_00002_nrcalong_destreak_realigned_to_vvv.fits'"
      ]
     },
     "execution_count": 5,
     "metadata": {},
     "output_type": "execute_result"
    }
   ],
   "source": [
    "imfile = '/orange/adamginsburg/jwst/cloudc/F405N/pipeline/jw02221002002_02201_00002_nrcalong_destreak.fits'\n",
    "imfile_realigned = '/orange/adamginsburg/jwst/cloudc/F405N/pipeline/jw02221002002_02201_00002_nrcalong_destreak_realigned_to_vvv.fits'\n",
    "shutil.copy(imfile, imfile_realigned)"
   ]
  },
  {
   "cell_type": "code",
   "execution_count": 6,
   "id": "9de9ce7c-87e5-46ab-bff6-8a2a55600d2e",
   "metadata": {},
   "outputs": [],
   "source": [
    "reference_catalog = '/orange/adamginsburg/jwst/cloudc/F405N/pipeline/jw02221-o002_t001_nircam_clear-F405N-merged_vvvcat.fits'"
   ]
  },
  {
   "cell_type": "code",
   "execution_count": 7,
   "id": "a765f1cd-a049-4c4e-9346-97011584d4c2",
   "metadata": {},
   "outputs": [],
   "source": [
    "reftbl = Table.read(reference_catalog)"
   ]
  },
  {
   "cell_type": "code",
   "execution_count": 8,
   "id": "3bf1534f-2a12-49c5-b213-79a3f0c2a5fa",
   "metadata": {},
   "outputs": [],
   "source": [
    "reference_coordinates = reftbl['skycoord']"
   ]
  },
  {
   "cell_type": "code",
   "execution_count": 9,
   "id": "8bc18a98-d9ce-42dd-b070-b216deaf2b49",
   "metadata": {},
   "outputs": [
    {
     "data": {
      "text/plain": [
       "<SkyCoord (FK5: equinox=J2000.000): (ra, dec) in deg\n",
       "    [(266.581129, -28.666482), (266.594517, -28.666434),\n",
       "     (266.604305, -28.663877), ..., (266.555803, -28.513283),\n",
       "     (266.560494, -28.514834), (266.559398, -28.51401 )]>"
      ]
     },
     "execution_count": 9,
     "metadata": {},
     "output_type": "execute_result"
    }
   ],
   "source": [
    "reftbl['skycoord']"
   ]
  },
  {
   "cell_type": "code",
   "execution_count": 10,
   "id": "c6e91653-120a-48a3-a216-84f4012f0ae0",
   "metadata": {},
   "outputs": [],
   "source": [
    "cat_file = '/orange/adamginsburg/jwst/cloudc/F405N/pipeline/jw02221-o002_t001_nircam_clear-f405n-merged_cat.ecsv'\n",
    "cat = Table.read(cat_file)"
   ]
  },
  {
   "cell_type": "code",
   "execution_count": 15,
   "id": "0f49213c-3cad-4aae-bd78-fa151214dafa",
   "metadata": {
    "tags": []
   },
   "outputs": [],
   "source": [
    "#cat['xcentroid'], cat['ycentroid']"
   ]
  },
  {
   "cell_type": "code",
   "execution_count": 12,
   "id": "21cb35b9-f6df-4152-bf14-57d4486ab55b",
   "metadata": {},
   "outputs": [
    {
     "name": "stderr",
     "output_type": "stream",
     "text": [
      "WARNING: FITSFixedWarning: 'datfix' made the change 'Set DATE-BEG to '2023-04-25T04:14:05.997' from MJD-BEG.\n",
      "Set DATE-AVG to '2023-04-25T04:14:32.839' from MJD-AVG.\n",
      "Set DATE-END to '2023-04-25T04:14:59.681' from MJD-END'. [astropy.wcs.wcs]\n",
      "WARNING: FITSFixedWarning: 'obsfix' made the change 'Set OBSGEO-L to  -120.023434 from OBSGEO-[XYZ].\n",
      "Set OBSGEO-B to   -11.485975 from OBSGEO-[XYZ].\n",
      "Set OBSGEO-H to 1386082407.725 from OBSGEO-[XYZ]'. [astropy.wcs.wcs]\n"
     ]
    },
    {
     "data": {
      "text/plain": [
       "WCS Keywords\n",
       "\n",
       "Number of WCS axes: 2\n",
       "CTYPE : 'RA---TAN-SIP'  'DEC--TAN-SIP'  \n",
       "CRVAL : 266.59237008461  -28.557172894513  \n",
       "CRPIX : 1024.5  1024.5  \n",
       "CD1_1 CD1_2  : -1.6126880967505e-06  -1.7440453913269e-05  \n",
       "CD2_1 CD2_2  : -1.7358691201541e-05  1.6484453417233e-06  \n",
       "NAXIS : 2048  2048"
      ]
     },
     "execution_count": 12,
     "metadata": {},
     "output_type": "execute_result"
    }
   ],
   "source": [
    "ww =  WCS(fits.getheader(imfile, ext=('SCI', 1)))\n",
    "ww"
   ]
  },
  {
   "cell_type": "code",
   "execution_count": 13,
   "id": "c67ca62b-0c1f-45f0-b109-46ccadcb52f3",
   "metadata": {},
   "outputs": [
    {
     "data": {
      "text/plain": [
       "<SkyCoord (ICRS): (ra, dec) in deg\n",
       "    [(266.6116505 , -28.56882209), (266.61113913, -28.57424765),\n",
       "     (266.61090323, -28.57649018), ..., (266.54867726, -28.65584137),\n",
       "     (266.54533313, -28.67274956), (266.54349879, -28.68148105)]>"
      ]
     },
     "execution_count": 13,
     "metadata": {},
     "output_type": "execute_result"
    }
   ],
   "source": [
    "skycrds_cat = ww.pixel_to_world(cat['xcentroid'], cat['ycentroid'])\n",
    "skycrds_cat"
   ]
  },
  {
   "cell_type": "code",
   "execution_count": 16,
   "id": "c14eca8b-b133-462e-8b2c-b1f1b051c1b2",
   "metadata": {},
   "outputs": [
    {
     "data": {
      "text/plain": [
       "array([266.59237008, -28.55717289])"
      ]
     },
     "execution_count": 16,
     "metadata": {},
     "output_type": "execute_result"
    }
   ],
   "source": [
    "ww.wcs.crval"
   ]
  },
  {
   "cell_type": "code",
   "execution_count": 17,
   "id": "16abe73a-e9b1-4a7b-970e-2e6a847cc49a",
   "metadata": {},
   "outputs": [],
   "source": [
    "#ww.wcs.crval = ww.wcs.crval - [(0.1*u.arcsec).to(u.deg).value, (0.1*u.arcsec).to(u.deg).value]\n",
    "#ww.wcs.crval"
   ]
  },
  {
   "cell_type": "code",
   "execution_count": null,
   "id": "c1db04e6-e808-4ff1-90a6-4fd1e3cfb733",
   "metadata": {},
   "outputs": [],
   "source": []
  },
  {
   "cell_type": "code",
   "execution_count": null,
   "id": "05fce3c0-5d8b-4168-bba1-6632eb5618a9",
   "metadata": {},
   "outputs": [],
   "source": []
  },
  {
   "cell_type": "code",
   "execution_count": 18,
   "id": "f47e9ac5-d450-4753-967d-050aefc9ab40",
   "metadata": {},
   "outputs": [],
   "source": [
    "#realign_to_catalog(reference_coordinates=reference_coordinates, filtername=filtername.lower(), module=module, \n",
    "#                   basepath=basepath, fieldnumber=field, imfile=imfile_realigned, decoffset=-8*u.arcsec)"
   ]
  },
  {
   "cell_type": "code",
   "execution_count": 19,
   "id": "6b6c6bb4-81fe-43f0-a845-2f3f2647765c",
   "metadata": {},
   "outputs": [],
   "source": [
    "from jwst.scripts import asn_edit"
   ]
  },
  {
   "cell_type": "code",
   "execution_count": 19,
   "id": "dc283abb-1196-4b5b-9e74-cc80ffaa634f",
   "metadata": {
    "collapsed": true,
    "jupyter": {
     "outputs_hidden": true
    },
    "tags": []
   },
   "outputs": [
    {
     "data": {
      "text/plain": [
       "\u001b[0;31mType:\u001b[0m        module\n",
       "\u001b[0;31mString form:\u001b[0m <module 'jwst.scripts.asn_edit' from '/blue/adamginsburg/adamginsburg/repos/jwst/jwst/scripts/asn_edit.py'>\n",
       "\u001b[0;31mFile:\u001b[0m        /blue/adamginsburg/adamginsburg/repos/jwst/jwst/scripts/asn_edit.py\n",
       "\u001b[0;31mSource:\u001b[0m     \n",
       "\u001b[0;31m#!/usr/bin/env python\u001b[0m\u001b[0;34m\u001b[0m\n",
       "\u001b[0;34m\u001b[0m\u001b[0;34m\u001b[0m\n",
       "\u001b[0;34m\u001b[0m\u001b[0;32mimport\u001b[0m \u001b[0margparse\u001b[0m\u001b[0;34m\u001b[0m\n",
       "\u001b[0;34m\u001b[0m\u001b[0;34m\u001b[0m\n",
       "\u001b[0;34m\u001b[0m\u001b[0;32mfrom\u001b[0m \u001b[0mjwst\u001b[0m\u001b[0;34m.\u001b[0m\u001b[0massociations\u001b[0m \u001b[0;32mimport\u001b[0m \u001b[0masn_edit\u001b[0m\u001b[0;34m\u001b[0m\n",
       "\u001b[0;34m\u001b[0m\u001b[0;34m\u001b[0m\n",
       "\u001b[0;34m\u001b[0m\u001b[0;34m\u001b[0m\n",
       "\u001b[0;34m\u001b[0m\u001b[0;32mdef\u001b[0m \u001b[0mmain\u001b[0m\u001b[0;34m(\u001b[0m\u001b[0;34m)\u001b[0m\u001b[0;34m:\u001b[0m\u001b[0;34m\u001b[0m\n",
       "\u001b[0;34m\u001b[0m    \u001b[0;34m\"\"\"\u001b[0m\n",
       "\u001b[0;34m    Parse command line, read, edit, write association file\u001b[0m\n",
       "\u001b[0;34m    \"\"\"\u001b[0m\u001b[0;34m\u001b[0m\n",
       "\u001b[0;34m\u001b[0m\u001b[0;34m\u001b[0m\n",
       "\u001b[0;34m\u001b[0m    \u001b[0;31m# Parse command line arguments\u001b[0m\u001b[0;34m\u001b[0m\n",
       "\u001b[0;34m\u001b[0m    \u001b[0mdescription_text\u001b[0m \u001b[0;34m=\u001b[0m \u001b[0;34m\"\"\"\u001b[0m\n",
       "\u001b[0;34mEdit Association File\u001b[0m\n",
       "\u001b[0;34m\u001b[0m\n",
       "\u001b[0;34mThis script adds or removes filenames from an association file. The\u001b[0m\n",
       "\u001b[0;34mfirst argument is the name of the association file. Subsequent\u001b[0m\n",
       "\u001b[0;34marguments are the filenames. Options determine which operation is\u001b[0m\n",
       "\u001b[0;34mperformed: --add or --remove. If adding files the --type option sets\u001b[0m\n",
       "\u001b[0;34mthe exposure type for the new files. If removing file, the --ignore\u001b[0m\n",
       "\u001b[0;34moption will not use the filename suffix when matching the filenames for\u001b[0m\n",
       "\u001b[0;34mremoval. Normally the output association file is the same as the input.\u001b[0m\n",
       "\u001b[0;34mThe --output option allows you to set a different filename. All options\u001b[0m\n",
       "\u001b[0;34mcan be abbreviated to their first letter.\u001b[0m\n",
       "\u001b[0;34m\u001b[0m\n",
       "\u001b[0;34mWhen adding files to an association, the file must exist on the disk.\u001b[0m\n",
       "\u001b[0;34mWhen removing files, the filename must be found in the association. If\u001b[0m\n",
       "\u001b[0;34mnot, no change will be made to the file.\u001b[0m\n",
       "\u001b[0;34m    \"\"\"\u001b[0m\u001b[0;34m\u001b[0m\n",
       "\u001b[0;34m\u001b[0m    \u001b[0mparser\u001b[0m \u001b[0;34m=\u001b[0m \u001b[0margparse\u001b[0m\u001b[0;34m.\u001b[0m\u001b[0mArgumentParser\u001b[0m\u001b[0;34m(\u001b[0m\u001b[0;34m\u001b[0m\n",
       "\u001b[0;34m\u001b[0m        \u001b[0mdescription\u001b[0m\u001b[0;34m=\u001b[0m\u001b[0mdescription_text\u001b[0m\u001b[0;34m,\u001b[0m\u001b[0;34m\u001b[0m\n",
       "\u001b[0;34m\u001b[0m        \u001b[0mformatter_class\u001b[0m\u001b[0;34m=\u001b[0m\u001b[0margparse\u001b[0m\u001b[0;34m.\u001b[0m\u001b[0mRawDescriptionHelpFormatter\u001b[0m\u001b[0;34m,\u001b[0m\u001b[0;34m\u001b[0m\n",
       "\u001b[0;34m\u001b[0m    \u001b[0;34m)\u001b[0m\u001b[0;34m\u001b[0m\n",
       "\u001b[0;34m\u001b[0m\u001b[0;34m\u001b[0m\n",
       "\u001b[0;34m\u001b[0m    \u001b[0marg_group\u001b[0m \u001b[0;34m=\u001b[0m \u001b[0mparser\u001b[0m\u001b[0;34m.\u001b[0m\u001b[0madd_mutually_exclusive_group\u001b[0m\u001b[0;34m(\u001b[0m\u001b[0;34m)\u001b[0m\u001b[0;34m\u001b[0m\n",
       "\u001b[0;34m\u001b[0m    \u001b[0marg_group\u001b[0m\u001b[0;34m.\u001b[0m\u001b[0madd_argument\u001b[0m\u001b[0;34m(\u001b[0m\u001b[0;34m\u001b[0m\n",
       "\u001b[0;34m\u001b[0m        \u001b[0;34m'-a'\u001b[0m\u001b[0;34m,\u001b[0m \u001b[0;34m'--add'\u001b[0m\u001b[0;34m,\u001b[0m \u001b[0maction\u001b[0m\u001b[0;34m=\u001b[0m\u001b[0;34m'store_true'\u001b[0m\u001b[0;34m,\u001b[0m \u001b[0mhelp\u001b[0m\u001b[0;34m=\u001b[0m\u001b[0;34m'Add files to association'\u001b[0m\u001b[0;34m\u001b[0m\n",
       "\u001b[0;34m\u001b[0m    \u001b[0;34m)\u001b[0m\u001b[0;34m\u001b[0m\n",
       "\u001b[0;34m\u001b[0m    \u001b[0marg_group\u001b[0m\u001b[0;34m.\u001b[0m\u001b[0madd_argument\u001b[0m\u001b[0;34m(\u001b[0m\u001b[0;34m\u001b[0m\n",
       "\u001b[0;34m\u001b[0m        \u001b[0;34m'-r'\u001b[0m\u001b[0;34m,\u001b[0m \u001b[0;34m'--remove'\u001b[0m\u001b[0;34m,\u001b[0m \u001b[0maction\u001b[0m\u001b[0;34m=\u001b[0m\u001b[0;34m'store_true'\u001b[0m\u001b[0;34m,\u001b[0m \u001b[0mhelp\u001b[0m\u001b[0;34m=\u001b[0m\u001b[0;34m'Remove files to association'\u001b[0m\u001b[0;34m\u001b[0m\n",
       "\u001b[0;34m\u001b[0m    \u001b[0;34m)\u001b[0m\u001b[0;34m\u001b[0m\n",
       "\u001b[0;34m\u001b[0m\u001b[0;34m\u001b[0m\n",
       "\u001b[0;34m\u001b[0m    \u001b[0mparser\u001b[0m\u001b[0;34m.\u001b[0m\u001b[0madd_argument\u001b[0m\u001b[0;34m(\u001b[0m\u001b[0;34m\u001b[0m\n",
       "\u001b[0;34m\u001b[0m        \u001b[0;34m'-t'\u001b[0m\u001b[0;34m,\u001b[0m \u001b[0;34m'--type'\u001b[0m\u001b[0;34m,\u001b[0m \u001b[0mdefault\u001b[0m\u001b[0;34m=\u001b[0m\u001b[0;34m'science'\u001b[0m\u001b[0;34m,\u001b[0m \u001b[0mhelp\u001b[0m\u001b[0;34m=\u001b[0m\u001b[0;34m'Exptype, if adding filenames'\u001b[0m\u001b[0;34m\u001b[0m\n",
       "\u001b[0;34m\u001b[0m    \u001b[0;34m)\u001b[0m\u001b[0;34m\u001b[0m\n",
       "\u001b[0;34m\u001b[0m    \u001b[0mparser\u001b[0m\u001b[0;34m.\u001b[0m\u001b[0madd_argument\u001b[0m\u001b[0;34m(\u001b[0m\u001b[0;34m\u001b[0m\n",
       "\u001b[0;34m\u001b[0m        \u001b[0;34m'-i'\u001b[0m\u001b[0;34m,\u001b[0m\u001b[0;34m\u001b[0m\n",
       "\u001b[0;34m\u001b[0m        \u001b[0;34m'--ignore'\u001b[0m\u001b[0;34m,\u001b[0m\u001b[0;34m\u001b[0m\n",
       "\u001b[0;34m\u001b[0m        \u001b[0maction\u001b[0m\u001b[0;34m=\u001b[0m\u001b[0;34m'store_true'\u001b[0m\u001b[0;34m,\u001b[0m\u001b[0;34m\u001b[0m\n",
       "\u001b[0;34m\u001b[0m        \u001b[0mhelp\u001b[0m\u001b[0;34m=\u001b[0m\u001b[0;34m'Ignore suffix on filename when matching'\u001b[0m\u001b[0;34m,\u001b[0m\u001b[0;34m\u001b[0m\n",
       "\u001b[0;34m\u001b[0m    \u001b[0;34m)\u001b[0m\u001b[0;34m\u001b[0m\n",
       "\u001b[0;34m\u001b[0m\u001b[0;34m\u001b[0m\n",
       "\u001b[0;34m\u001b[0m    \u001b[0mparser\u001b[0m\u001b[0;34m.\u001b[0m\u001b[0madd_argument\u001b[0m\u001b[0;34m(\u001b[0m\u001b[0;34m\u001b[0m\n",
       "\u001b[0;34m\u001b[0m        \u001b[0;34m'-o'\u001b[0m\u001b[0;34m,\u001b[0m \u001b[0;34m'--output'\u001b[0m\u001b[0;34m,\u001b[0m \u001b[0mhelp\u001b[0m\u001b[0;34m=\u001b[0m\u001b[0;34m'Output association name if different than input'\u001b[0m\u001b[0;34m\u001b[0m\n",
       "\u001b[0;34m\u001b[0m    \u001b[0;34m)\u001b[0m\u001b[0;34m\u001b[0m\n",
       "\u001b[0;34m\u001b[0m\u001b[0;34m\u001b[0m\n",
       "\u001b[0;34m\u001b[0m    \u001b[0mparser\u001b[0m\u001b[0;34m.\u001b[0m\u001b[0madd_argument\u001b[0m\u001b[0;34m(\u001b[0m\u001b[0;34m'association'\u001b[0m\u001b[0;34m,\u001b[0m \u001b[0mhelp\u001b[0m\u001b[0;34m=\u001b[0m\u001b[0;34m'The association file name'\u001b[0m\u001b[0;34m)\u001b[0m\u001b[0;34m\u001b[0m\n",
       "\u001b[0;34m\u001b[0m\u001b[0;34m\u001b[0m\n",
       "\u001b[0;34m\u001b[0m    \u001b[0mparser\u001b[0m\u001b[0;34m.\u001b[0m\u001b[0madd_argument\u001b[0m\u001b[0;34m(\u001b[0m\u001b[0;34m'filenames'\u001b[0m\u001b[0;34m,\u001b[0m \u001b[0mnargs\u001b[0m\u001b[0;34m=\u001b[0m\u001b[0;34m'+'\u001b[0m\u001b[0;34m,\u001b[0m \u001b[0mhelp\u001b[0m\u001b[0;34m=\u001b[0m\u001b[0;34m'The filenames to process'\u001b[0m\u001b[0;34m)\u001b[0m\u001b[0;34m\u001b[0m\n",
       "\u001b[0;34m\u001b[0m\u001b[0;34m\u001b[0m\n",
       "\u001b[0;34m\u001b[0m    \u001b[0margs\u001b[0m \u001b[0;34m=\u001b[0m \u001b[0mparser\u001b[0m\u001b[0;34m.\u001b[0m\u001b[0mparse_args\u001b[0m\u001b[0;34m(\u001b[0m\u001b[0;34m)\u001b[0m\u001b[0;34m\u001b[0m\n",
       "\u001b[0;34m\u001b[0m\u001b[0;34m\u001b[0m\n",
       "\u001b[0;34m\u001b[0m    \u001b[0;31m# Read the association into memory\u001b[0m\u001b[0;34m\u001b[0m\n",
       "\u001b[0;34m\u001b[0m    \u001b[0masn\u001b[0m \u001b[0;34m=\u001b[0m \u001b[0masn_edit\u001b[0m\u001b[0;34m.\u001b[0m\u001b[0mreader\u001b[0m\u001b[0;34m(\u001b[0m\u001b[0margs\u001b[0m\u001b[0;34m.\u001b[0m\u001b[0massociation\u001b[0m\u001b[0;34m)\u001b[0m\u001b[0;34m\u001b[0m\n",
       "\u001b[0;34m\u001b[0m\u001b[0;34m\u001b[0m\n",
       "\u001b[0;34m\u001b[0m    \u001b[0;31m# Either add or remove filenames\u001b[0m\u001b[0;34m\u001b[0m\n",
       "\u001b[0;34m\u001b[0m    \u001b[0;32mif\u001b[0m \u001b[0margs\u001b[0m\u001b[0;34m.\u001b[0m\u001b[0madd\u001b[0m\u001b[0;34m:\u001b[0m\u001b[0;34m\u001b[0m\n",
       "\u001b[0;34m\u001b[0m        \u001b[0masn_edit\u001b[0m\u001b[0;34m.\u001b[0m\u001b[0madd\u001b[0m\u001b[0;34m(\u001b[0m\u001b[0masn\u001b[0m\u001b[0;34m,\u001b[0m \u001b[0margs\u001b[0m\u001b[0;34m.\u001b[0m\u001b[0mfilenames\u001b[0m\u001b[0;34m,\u001b[0m \u001b[0margs\u001b[0m\u001b[0;34m.\u001b[0m\u001b[0mtype\u001b[0m\u001b[0;34m)\u001b[0m\u001b[0;34m\u001b[0m\n",
       "\u001b[0;34m\u001b[0m    \u001b[0;32melif\u001b[0m \u001b[0margs\u001b[0m\u001b[0;34m.\u001b[0m\u001b[0mremove\u001b[0m\u001b[0;34m:\u001b[0m\u001b[0;34m\u001b[0m\n",
       "\u001b[0;34m\u001b[0m        \u001b[0masn_edit\u001b[0m\u001b[0;34m.\u001b[0m\u001b[0mremove\u001b[0m\u001b[0;34m(\u001b[0m\u001b[0masn\u001b[0m\u001b[0;34m,\u001b[0m \u001b[0margs\u001b[0m\u001b[0;34m.\u001b[0m\u001b[0mfilenames\u001b[0m\u001b[0;34m,\u001b[0m \u001b[0margs\u001b[0m\u001b[0;34m.\u001b[0m\u001b[0mignore\u001b[0m\u001b[0;34m)\u001b[0m\u001b[0;34m\u001b[0m\n",
       "\u001b[0;34m\u001b[0m\u001b[0;34m\u001b[0m\n",
       "\u001b[0;34m\u001b[0m    \u001b[0;31m# Write the edited file out again\u001b[0m\u001b[0;34m\u001b[0m\n",
       "\u001b[0;34m\u001b[0m    \u001b[0;32mif\u001b[0m \u001b[0margs\u001b[0m\u001b[0;34m.\u001b[0m\u001b[0moutput\u001b[0m\u001b[0;34m:\u001b[0m\u001b[0;34m\u001b[0m\n",
       "\u001b[0;34m\u001b[0m        \u001b[0moutput_file\u001b[0m \u001b[0;34m=\u001b[0m \u001b[0margs\u001b[0m\u001b[0;34m.\u001b[0m\u001b[0moutput\u001b[0m\u001b[0;34m\u001b[0m\n",
       "\u001b[0;34m\u001b[0m    \u001b[0;32melse\u001b[0m\u001b[0;34m:\u001b[0m\u001b[0;34m\u001b[0m\n",
       "\u001b[0;34m\u001b[0m        \u001b[0moutput_file\u001b[0m \u001b[0;34m=\u001b[0m \u001b[0margs\u001b[0m\u001b[0;34m.\u001b[0m\u001b[0massociation\u001b[0m\u001b[0;34m\u001b[0m\n",
       "\u001b[0;34m\u001b[0m    \u001b[0masn_edit\u001b[0m\u001b[0;34m.\u001b[0m\u001b[0mwriter\u001b[0m\u001b[0;34m(\u001b[0m\u001b[0masn\u001b[0m\u001b[0;34m,\u001b[0m \u001b[0moutput_file\u001b[0m\u001b[0;34m)\u001b[0m\u001b[0;34m\u001b[0m\n",
       "\u001b[0;34m\u001b[0m\u001b[0;34m\u001b[0m\n",
       "\u001b[0;34m\u001b[0m\u001b[0;34m\u001b[0m\n",
       "\u001b[0;34m\u001b[0m\u001b[0;32mif\u001b[0m \u001b[0m__name__\u001b[0m \u001b[0;34m==\u001b[0m \u001b[0;34m'__main__'\u001b[0m\u001b[0;34m:\u001b[0m\u001b[0;34m\u001b[0m\n",
       "\u001b[0;34m\u001b[0m    \u001b[0mmain\u001b[0m\u001b[0;34m(\u001b[0m\u001b[0;34m)\u001b[0m\u001b[0;34m\u001b[0m\u001b[0;34m\u001b[0m\u001b[0m\n"
      ]
     },
     "metadata": {},
     "output_type": "display_data"
    }
   ],
   "source": [
    "asn_edit??"
   ]
  },
  {
   "cell_type": "code",
   "execution_count": 20,
   "id": "d9197ff1-7e55-4ab8-892e-ef49fad71585",
   "metadata": {},
   "outputs": [
    {
     "data": {
      "text/plain": [
       "'/orange/adamginsburg/jwst/cloudc/F405N/pipeline/jw02221-o002_20230622t004213_image3_00004_nrca_asn_copy.json'"
      ]
     },
     "execution_count": 20,
     "metadata": {},
     "output_type": "execute_result"
    }
   ],
   "source": [
    "shutil.copy('/orange/adamginsburg/jwst/cloudc/F405N/pipeline/jw02221-o002_20230622t004213_image3_00004_nrca_asn.json', \n",
    "            '/orange/adamginsburg/jwst/cloudc/F405N/pipeline/jw02221-o002_20230622t004213_image3_00004_nrca_asn_copy.json')"
   ]
  },
  {
   "cell_type": "code",
   "execution_count": 22,
   "id": "25d105ae-77f9-4065-b38a-1c5ed040555b",
   "metadata": {},
   "outputs": [
    {
     "ename": "TypeError",
     "evalue": "'module' object is not callable",
     "output_type": "error",
     "traceback": [
      "\u001b[0;31m---------------------------------------------------------------------------\u001b[0m",
      "\u001b[0;31mTypeError\u001b[0m                                 Traceback (most recent call last)",
      "\u001b[0;32m/scratch/local/4053052/ipykernel_9621/3294215917.py\u001b[0m in \u001b[0;36m<module>\u001b[0;34m\u001b[0m\n\u001b[0;32m----> 1\u001b[0;31m \u001b[0masn_edit\u001b[0m\u001b[0;34m(\u001b[0m\u001b[0;34m'/orange/adamginsburg/jwst/cloudc/F405N/pipeline/jw02221-o002_20230622t004213_image3_00004_nrca_asn_copy.json'\u001b[0m\u001b[0;34m)\u001b[0m\u001b[0;34m\u001b[0m\u001b[0;34m\u001b[0m\u001b[0m\n\u001b[0m",
      "\u001b[0;31mTypeError\u001b[0m: 'module' object is not callable"
     ]
    }
   ],
   "source": [
    "asn_edit('/orange/adamginsburg/jwst/cloudc/F405N/pipeline/jw02221-o002_20230622t004213_image3_00004_nrca_asn_copy.json')"
   ]
  },
  {
   "cell_type": "code",
   "execution_count": null,
   "id": "d18f79c0-bd1b-4965-85e1-2e092ff76ab7",
   "metadata": {},
   "outputs": [],
   "source": [
    "#realign_to_vvv(filtername=filtername.lower(), fov_regname=fov_regname[regionname], basepath=basepath, module=module, fieldnumber=field,\n",
    "#                                   imfile=realigned_vvv_filename, ksmag_limit=15 if filtername=='f410m' else 11, mag_limit=15)"
   ]
  },
  {
   "cell_type": "code",
   "execution_count": 23,
   "id": "b3c76c43-dc4a-4c81-991b-1694aa7a19a4",
   "metadata": {},
   "outputs": [
    {
     "data": {
      "text/plain": [
       "['/orange/adamginsburg/jwst/cloudc/F405N/pipeline/jw02221002002_08201_00001_nrcalong_destreak.fits',\n",
       " '/orange/adamginsburg/jwst/cloudc/F405N/pipeline/jw02221002001_08201_00002_nrcalong_destreak.fits',\n",
       " '/orange/adamginsburg/jwst/cloudc/F405N/pipeline/jw02221002001_02201_00003_nrcalong_destreak.fits',\n",
       " '/orange/adamginsburg/jwst/cloudc/F405N/pipeline/jw02221002002_02201_00002_nrcalong_destreak.fits',\n",
       " '/orange/adamginsburg/jwst/cloudc/F405N/pipeline/jw02221002001_08201_00004_nrcalong_destreak.fits',\n",
       " '/orange/adamginsburg/jwst/cloudc/F405N/pipeline/jw02221002001_08201_00003_nrcalong_destreak.fits',\n",
       " '/orange/adamginsburg/jwst/cloudc/F405N/pipeline/jw02221002002_08201_00002_nrcalong_destreak.fits',\n",
       " '/orange/adamginsburg/jwst/cloudc/F405N/pipeline/jw02221002001_08201_00001_nrcalong_destreak.fits',\n",
       " '/orange/adamginsburg/jwst/cloudc/F405N/pipeline/jw02221002001_02201_00004_nrcalong_destreak.fits',\n",
       " '/orange/adamginsburg/jwst/cloudc/F405N/pipeline/jw02221002002_08201_00003_nrcalong_destreak.fits',\n",
       " '/orange/adamginsburg/jwst/cloudc/F405N/pipeline/jw02221002002_08201_00004_nrcalong_destreak.fits',\n",
       " '/orange/adamginsburg/jwst/cloudc/F405N/pipeline/jw02221002002_02201_00004_nrcalong_destreak.fits',\n",
       " '/orange/adamginsburg/jwst/cloudc/F405N/pipeline/jw02221002001_02201_00002_nrcalong_destreak.fits',\n",
       " '/orange/adamginsburg/jwst/cloudc/F405N/pipeline/jw02221002002_02201_00001_nrcalong_destreak.fits',\n",
       " '/orange/adamginsburg/jwst/cloudc/F405N/pipeline/jw02221002001_02201_00001_nrcalong_destreak.fits',\n",
       " '/orange/adamginsburg/jwst/cloudc/F405N/pipeline/jw02221002002_02201_00003_nrcalong_destreak.fits']"
      ]
     },
     "execution_count": 23,
     "metadata": {},
     "output_type": "execute_result"
    }
   ],
   "source": [
    "ims = glob(os.path.join(output_dir, f'*nrca*_destreak.fits'))\n",
    "ims"
   ]
  },
  {
   "cell_type": "code",
   "execution_count": 24,
   "id": "f8f64543-1334-46ff-abc4-1d3df1988848",
   "metadata": {},
   "outputs": [
    {
     "data": {
      "text/plain": [
       "'/orange/adamginsburg/jwst/cloudc/F405N/pipeline/jw02221002002_08201_00001_nrcalong_destreak_realigned.fits'"
      ]
     },
     "execution_count": 24,
     "metadata": {},
     "output_type": "execute_result"
    }
   ],
   "source": [
    "i = ims[0]\n",
    "i.split('.')[0]+'_realigned.fits'"
   ]
  },
  {
   "cell_type": "code",
   "execution_count": 25,
   "id": "0cf80727-6a17-434a-a817-4e8e97f661e5",
   "metadata": {
    "tags": []
   },
   "outputs": [
    {
     "name": "stderr",
     "output_type": "stream",
     "text": [
      "2023-07-28 16:55:30,240 - stpipe - INFO - Kept 7752 out of 9945 VVV stars using ksmag_limit>11\n"
     ]
    },
    {
     "name": "stdout",
     "output_type": "stream",
     "text": [
      "INFO: Kept 7752 out of 9945 VVV stars using ksmag_limit>11 [align_to_catalogs]\n"
     ]
    },
    {
     "name": "stderr",
     "output_type": "stream",
     "text": [
      "2023-07-28 16:55:31,588 - stpipe - INFO - For f405n merged 002 catalog /orange/adamginsburg/jwst/cloudc//F405N/pipeline/jw02221-o002_t001_nircam_clear-f405n-merged_cat.ecsv, found 9414 of 19532 sources meeting criteria mag<15\n",
      "2023-07-28 16:55:31,689 - stpipe - WARNING - /blue/adamginsburg/adamginsburg/repos/astropy/astropy/wcs/wcs.py:2966: AstropyWarning: Some non-standard WCS keywords were excluded: A_ORDER, A_0_2, A_0_3, A_1_1, A_1_2, A_2_0, A_2_1, A_3_0, B_ORDER, B_0_2, B_0_3, B_1_1, B_1_2, B_2_0, B_2_1, B_3_0, AP_ORDER, AP_0_2, AP_0_3, AP_1_1, AP_1_2, AP_2_0, AP_2_1, AP_3_0, BP_ORDER, BP_0_2, BP_0_3, BP_1_1, BP_1_2, BP_2_0, BP_2_1, BP_3_0 Use the ``relax`` kwarg to control this.\n",
      "  warnings.warn(\n",
      "\n",
      "2023-07-28 16:55:31,721 - stpipe - INFO - \n",
      "                Inconsistent SIP distortion information is present in the FITS header and the WCS object:\n",
      "                SIP coefficients were detected, but CTYPE is missing a \"-SIP\" suffix.\n",
      "                astropy.wcs is using the SIP distortion coefficients,\n",
      "                therefore the coordinates calculated here might be incorrect.\n",
      "\n",
      "                If you do not want to apply the SIP distortion coefficients,\n",
      "                please remove the SIP coefficients from the FITS header or the\n",
      "                WCS object.  As an example, if the image is already distortion-corrected\n",
      "                (e.g., drizzled) then distortion components should not apply and the SIP\n",
      "                coefficients should be removed.\n",
      "\n",
      "                While the SIP distortion coefficients are being applied here, if that was indeed the intent,\n",
      "                for consistency please append \"-SIP\" to the CTYPE in the FITS header or the WCS object.\n",
      "\n",
      "                \n",
      "2023-07-28 16:55:31,763 - stpipe - INFO - \n",
      "                Inconsistent SIP distortion information is present in the FITS header and the WCS object:\n",
      "                SIP coefficients were detected, but CTYPE is missing a \"-SIP\" suffix.\n",
      "                astropy.wcs is using the SIP distortion coefficients,\n",
      "                therefore the coordinates calculated here might be incorrect.\n",
      "\n",
      "                If you do not want to apply the SIP distortion coefficients,\n",
      "                please remove the SIP coefficients from the FITS header or the\n",
      "                WCS object.  As an example, if the image is already distortion-corrected\n",
      "                (e.g., drizzled) then distortion components should not apply and the SIP\n",
      "                coefficients should be removed.\n",
      "\n",
      "                While the SIP distortion coefficients are being applied here, if that was indeed the intent,\n",
      "                for consistency please append \"-SIP\" to the CTYPE in the FITS header or the WCS object.\n",
      "\n",
      "                \n"
     ]
    },
    {
     "name": "stdout",
     "output_type": "stream",
     "text": [
      "INFO: For f405n merged 002 catalog /orange/adamginsburg/jwst/cloudc//F405N/pipeline/jw02221-o002_t001_nircam_clear-f405n-merged_cat.ecsv, found 9414 of 19532 sources meeting criteria mag<15 [align_to_catalogs]\n",
      "2023-07-28T16:55:31.679563: Before realignment, offset is -0.012222526811456191 arcsec, -0.0226795682010561 arcsec.  Found 309 matches.\n",
      "2023-07-28T16:55:31.685560: CRVAL before 266.59541974652 -28.538974425935\n",
      "2023-07-28T16:55:31.694481: CRVAL after 266.59542314167 -28.536745903833\n",
      "INFO: \n",
      "                Inconsistent SIP distortion information is present in the FITS header and the WCS object:\n",
      "                SIP coefficients were detected, but CTYPE is missing a \"-SIP\" suffix.\n",
      "                astropy.wcs is using the SIP distortion coefficients,\n",
      "                therefore the coordinates calculated here might be incorrect.\n",
      "\n",
      "                If you do not want to apply the SIP distortion coefficients,\n",
      "                please remove the SIP coefficients from the FITS header or the\n",
      "                WCS object.  As an example, if the image is already distortion-corrected\n",
      "                (e.g., drizzled) then distortion components should not apply and the SIP\n",
      "                coefficients should be removed.\n",
      "\n",
      "                While the SIP distortion coefficients are being applied here, if that was indeed the intent,\n",
      "                for consistency please append \"-SIP\" to the CTYPE in the FITS header or the WCS object.\n",
      "\n",
      "                 [astropy.wcs.wcs]\n",
      "2023-07-28T16:55:31.750144: After realignment, offset is -0.022473658236776828 arcsec, -0.019070005581056648 arcsec with 303 mathces\n",
      "INFO: \n",
      "                Inconsistent SIP distortion information is present in the FITS header and the WCS object:\n",
      "                SIP coefficients were detected, but CTYPE is missing a \"-SIP\" suffix.\n",
      "                astropy.wcs is using the SIP distortion coefficients,\n",
      "                therefore the coordinates calculated here might be incorrect.\n",
      "\n",
      "                If you do not want to apply the SIP distortion coefficients,\n",
      "                please remove the SIP coefficients from the FITS header or the\n",
      "                WCS object.  As an example, if the image is already distortion-corrected\n",
      "                (e.g., drizzled) then distortion components should not apply and the SIP\n",
      "                coefficients should be removed.\n",
      "\n",
      "                While the SIP distortion coefficients are being applied here, if that was indeed the intent,\n",
      "                for consistency please append \"-SIP\" to the CTYPE in the FITS header or the WCS object.\n",
      "\n",
      "                 [astropy.wcs.wcs]\n",
      "2023-07-28T16:55:31.792112: After re-realignment, offset is -0.022473658236776828 arcsec, -0.019070005581056648 arcsec using 303 matches\n"
     ]
    },
    {
     "name": "stderr",
     "output_type": "stream",
     "text": [
      "2023-07-28 16:55:32,281 - stpipe - INFO - Kept 7752 out of 9945 VVV stars using ksmag_limit>11\n"
     ]
    },
    {
     "name": "stdout",
     "output_type": "stream",
     "text": [
      "INFO: Kept 7752 out of 9945 VVV stars using ksmag_limit>11 [align_to_catalogs]\n"
     ]
    },
    {
     "name": "stderr",
     "output_type": "stream",
     "text": [
      "2023-07-28 16:55:33,613 - stpipe - INFO - For f405n merged 002 catalog /orange/adamginsburg/jwst/cloudc//F405N/pipeline/jw02221-o002_t001_nircam_clear-f405n-merged_cat.ecsv, found 9414 of 19532 sources meeting criteria mag<15\n"
     ]
    },
    {
     "name": "stdout",
     "output_type": "stream",
     "text": [
      "INFO: For f405n merged 002 catalog /orange/adamginsburg/jwst/cloudc//F405N/pipeline/jw02221-o002_t001_nircam_clear-f405n-merged_cat.ecsv, found 9414 of 19532 sources meeting criteria mag<15 [align_to_catalogs]\n"
     ]
    },
    {
     "name": "stderr",
     "output_type": "stream",
     "text": [
      "2023-07-28 16:55:34,200 - stpipe - WARNING - /blue/adamginsburg/adamginsburg/repos/astropy/astropy/wcs/wcs.py:2966: AstropyWarning: Some non-standard WCS keywords were excluded: A_ORDER, A_0_2, A_0_3, A_1_1, A_1_2, A_2_0, A_2_1, A_3_0, B_ORDER, B_0_2, B_0_3, B_1_1, B_1_2, B_2_0, B_2_1, B_3_0, AP_ORDER, AP_0_2, AP_0_3, AP_1_1, AP_1_2, AP_2_0, AP_2_1, AP_3_0, BP_ORDER, BP_0_2, BP_0_3, BP_1_1, BP_1_2, BP_2_0, BP_2_1, BP_3_0 Use the ``relax`` kwarg to control this.\n",
      "  warnings.warn(\n",
      "\n",
      "2023-07-28 16:55:34,233 - stpipe - INFO - \n",
      "                Inconsistent SIP distortion information is present in the FITS header and the WCS object:\n",
      "                SIP coefficients were detected, but CTYPE is missing a \"-SIP\" suffix.\n",
      "                astropy.wcs is using the SIP distortion coefficients,\n",
      "                therefore the coordinates calculated here might be incorrect.\n",
      "\n",
      "                If you do not want to apply the SIP distortion coefficients,\n",
      "                please remove the SIP coefficients from the FITS header or the\n",
      "                WCS object.  As an example, if the image is already distortion-corrected\n",
      "                (e.g., drizzled) then distortion components should not apply and the SIP\n",
      "                coefficients should be removed.\n",
      "\n",
      "                While the SIP distortion coefficients are being applied here, if that was indeed the intent,\n",
      "                for consistency please append \"-SIP\" to the CTYPE in the FITS header or the WCS object.\n",
      "\n",
      "                \n",
      "2023-07-28 16:55:34,275 - stpipe - INFO - \n",
      "                Inconsistent SIP distortion information is present in the FITS header and the WCS object:\n",
      "                SIP coefficients were detected, but CTYPE is missing a \"-SIP\" suffix.\n",
      "                astropy.wcs is using the SIP distortion coefficients,\n",
      "                therefore the coordinates calculated here might be incorrect.\n",
      "\n",
      "                If you do not want to apply the SIP distortion coefficients,\n",
      "                please remove the SIP coefficients from the FITS header or the\n",
      "                WCS object.  As an example, if the image is already distortion-corrected\n",
      "                (e.g., drizzled) then distortion components should not apply and the SIP\n",
      "                coefficients should be removed.\n",
      "\n",
      "                While the SIP distortion coefficients are being applied here, if that was indeed the intent,\n",
      "                for consistency please append \"-SIP\" to the CTYPE in the FITS header or the WCS object.\n",
      "\n",
      "                \n"
     ]
    },
    {
     "name": "stdout",
     "output_type": "stream",
     "text": [
      "2023-07-28T16:55:34.189656: Before realignment, offset is -0.01951065955836384 arcsec, -0.013600705611338526 arcsec.  Found 221 matches.\n",
      "2023-07-28T16:55:34.195843: CRVAL before 266.58849083407 -28.575359801581\n",
      "2023-07-28T16:55:34.205227: CRVAL after 266.5884962537 -28.573133801385\n",
      "INFO: \n",
      "                Inconsistent SIP distortion information is present in the FITS header and the WCS object:\n",
      "                SIP coefficients were detected, but CTYPE is missing a \"-SIP\" suffix.\n",
      "                astropy.wcs is using the SIP distortion coefficients,\n",
      "                therefore the coordinates calculated here might be incorrect.\n",
      "\n",
      "                If you do not want to apply the SIP distortion coefficients,\n",
      "                please remove the SIP coefficients from the FITS header or the\n",
      "                WCS object.  As an example, if the image is already distortion-corrected\n",
      "                (e.g., drizzled) then distortion components should not apply and the SIP\n",
      "                coefficients should be removed.\n",
      "\n",
      "                While the SIP distortion coefficients are being applied here, if that was indeed the intent,\n",
      "                for consistency please append \"-SIP\" to the CTYPE in the FITS header or the WCS object.\n",
      "\n",
      "                 [astropy.wcs.wcs]\n",
      "2023-07-28T16:55:34.261007: After realignment, offset is -0.012574651566410466 arcsec, -0.015839801412909083 arcsec with 222 mathces\n",
      "INFO: \n",
      "                Inconsistent SIP distortion information is present in the FITS header and the WCS object:\n",
      "                SIP coefficients were detected, but CTYPE is missing a \"-SIP\" suffix.\n",
      "                astropy.wcs is using the SIP distortion coefficients,\n",
      "                therefore the coordinates calculated here might be incorrect.\n",
      "\n",
      "                If you do not want to apply the SIP distortion coefficients,\n",
      "                please remove the SIP coefficients from the FITS header or the\n",
      "                WCS object.  As an example, if the image is already distortion-corrected\n",
      "                (e.g., drizzled) then distortion components should not apply and the SIP\n",
      "                coefficients should be removed.\n",
      "\n",
      "                While the SIP distortion coefficients are being applied here, if that was indeed the intent,\n",
      "                for consistency please append \"-SIP\" to the CTYPE in the FITS header or the WCS object.\n",
      "\n",
      "                 [astropy.wcs.wcs]\n",
      "2023-07-28T16:55:34.304215: After re-realignment, offset is -0.012574651566410466 arcsec, -0.015839801412909083 arcsec using 222 matches\n"
     ]
    },
    {
     "name": "stderr",
     "output_type": "stream",
     "text": [
      "2023-07-28 16:55:34,814 - stpipe - INFO - Kept 7752 out of 9945 VVV stars using ksmag_limit>11\n"
     ]
    },
    {
     "name": "stdout",
     "output_type": "stream",
     "text": [
      "INFO: Kept 7752 out of 9945 VVV stars using ksmag_limit>11 [align_to_catalogs]\n"
     ]
    },
    {
     "name": "stderr",
     "output_type": "stream",
     "text": [
      "2023-07-28 16:55:36,177 - stpipe - INFO - For f405n merged 002 catalog /orange/adamginsburg/jwst/cloudc//F405N/pipeline/jw02221-o002_t001_nircam_clear-f405n-merged_cat.ecsv, found 9414 of 19532 sources meeting criteria mag<15\n",
      "2023-07-28 16:55:36,274 - stpipe - WARNING - /blue/adamginsburg/adamginsburg/repos/astropy/astropy/wcs/wcs.py:2966: AstropyWarning: Some non-standard WCS keywords were excluded: A_ORDER, A_0_2, A_0_3, A_1_1, A_1_2, A_2_0, A_2_1, A_3_0, B_ORDER, B_0_2, B_0_3, B_1_1, B_1_2, B_2_0, B_2_1, B_3_0, AP_ORDER, AP_0_2, AP_0_3, AP_1_1, AP_1_2, AP_2_0, AP_2_1, AP_3_0, BP_ORDER, BP_0_2, BP_0_3, BP_1_1, BP_1_2, BP_2_0, BP_2_1, BP_3_0 Use the ``relax`` kwarg to control this.\n",
      "  warnings.warn(\n",
      "\n",
      "2023-07-28 16:55:36,308 - stpipe - INFO - \n",
      "                Inconsistent SIP distortion information is present in the FITS header and the WCS object:\n",
      "                SIP coefficients were detected, but CTYPE is missing a \"-SIP\" suffix.\n",
      "                astropy.wcs is using the SIP distortion coefficients,\n",
      "                therefore the coordinates calculated here might be incorrect.\n",
      "\n",
      "                If you do not want to apply the SIP distortion coefficients,\n",
      "                please remove the SIP coefficients from the FITS header or the\n",
      "                WCS object.  As an example, if the image is already distortion-corrected\n",
      "                (e.g., drizzled) then distortion components should not apply and the SIP\n",
      "                coefficients should be removed.\n",
      "\n",
      "                While the SIP distortion coefficients are being applied here, if that was indeed the intent,\n",
      "                for consistency please append \"-SIP\" to the CTYPE in the FITS header or the WCS object.\n",
      "\n",
      "                \n",
      "2023-07-28 16:55:36,349 - stpipe - INFO - \n",
      "                Inconsistent SIP distortion information is present in the FITS header and the WCS object:\n",
      "                SIP coefficients were detected, but CTYPE is missing a \"-SIP\" suffix.\n",
      "                astropy.wcs is using the SIP distortion coefficients,\n",
      "                therefore the coordinates calculated here might be incorrect.\n",
      "\n",
      "                If you do not want to apply the SIP distortion coefficients,\n",
      "                please remove the SIP coefficients from the FITS header or the\n",
      "                WCS object.  As an example, if the image is already distortion-corrected\n",
      "                (e.g., drizzled) then distortion components should not apply and the SIP\n",
      "                coefficients should be removed.\n",
      "\n",
      "                While the SIP distortion coefficients are being applied here, if that was indeed the intent,\n",
      "                for consistency please append \"-SIP\" to the CTYPE in the FITS header or the WCS object.\n",
      "\n",
      "                \n"
     ]
    },
    {
     "name": "stdout",
     "output_type": "stream",
     "text": [
      "INFO: For f405n merged 002 catalog /orange/adamginsburg/jwst/cloudc//F405N/pipeline/jw02221-o002_t001_nircam_clear-f405n-merged_cat.ecsv, found 9414 of 19532 sources meeting criteria mag<15 [align_to_catalogs]\n",
      "2023-07-28T16:55:36.263978: Before realignment, offset is -0.04729109417667132 arcsec, -0.023601885003188272 arcsec.  Found 188 matches.\n",
      "2023-07-28T16:55:36.270246: CRVAL before 266.58378762432 -28.592813644458\n",
      "2023-07-28T16:55:36.279754: CRVAL after 266.58380076074 -28.590584866157\n",
      "INFO: \n",
      "                Inconsistent SIP distortion information is present in the FITS header and the WCS object:\n",
      "                SIP coefficients were detected, but CTYPE is missing a \"-SIP\" suffix.\n",
      "                astropy.wcs is using the SIP distortion coefficients,\n",
      "                therefore the coordinates calculated here might be incorrect.\n",
      "\n",
      "                If you do not want to apply the SIP distortion coefficients,\n",
      "                please remove the SIP coefficients from the FITS header or the\n",
      "                WCS object.  As an example, if the image is already distortion-corrected\n",
      "                (e.g., drizzled) then distortion components should not apply and the SIP\n",
      "                coefficients should be removed.\n",
      "\n",
      "                While the SIP distortion coefficients are being applied here, if that was indeed the intent,\n",
      "                for consistency please append \"-SIP\" to the CTYPE in the FITS header or the WCS object.\n",
      "\n",
      "                 [astropy.wcs.wcs]\n",
      "2023-07-28T16:55:36.335931: After realignment, offset is -0.05777585672603891 arcsec, -0.023551440912683574 arcsec with 185 mathces\n",
      "INFO: \n",
      "                Inconsistent SIP distortion information is present in the FITS header and the WCS object:\n",
      "                SIP coefficients were detected, but CTYPE is missing a \"-SIP\" suffix.\n",
      "                astropy.wcs is using the SIP distortion coefficients,\n",
      "                therefore the coordinates calculated here might be incorrect.\n",
      "\n",
      "                If you do not want to apply the SIP distortion coefficients,\n",
      "                please remove the SIP coefficients from the FITS header or the\n",
      "                WCS object.  As an example, if the image is already distortion-corrected\n",
      "                (e.g., drizzled) then distortion components should not apply and the SIP\n",
      "                coefficients should be removed.\n",
      "\n",
      "                While the SIP distortion coefficients are being applied here, if that was indeed the intent,\n",
      "                for consistency please append \"-SIP\" to the CTYPE in the FITS header or the WCS object.\n",
      "\n",
      "                 [astropy.wcs.wcs]\n",
      "2023-07-28T16:55:36.377990: After re-realignment, offset is -0.05777585672603891 arcsec, -0.023551440912683574 arcsec using 185 matches\n"
     ]
    },
    {
     "name": "stderr",
     "output_type": "stream",
     "text": [
      "2023-07-28 16:55:36,868 - stpipe - INFO - Kept 7752 out of 9945 VVV stars using ksmag_limit>11\n"
     ]
    },
    {
     "name": "stdout",
     "output_type": "stream",
     "text": [
      "INFO: Kept 7752 out of 9945 VVV stars using ksmag_limit>11 [align_to_catalogs]\n"
     ]
    },
    {
     "name": "stderr",
     "output_type": "stream",
     "text": [
      "2023-07-28 16:55:38,218 - stpipe - INFO - For f405n merged 002 catalog /orange/adamginsburg/jwst/cloudc//F405N/pipeline/jw02221-o002_t001_nircam_clear-f405n-merged_cat.ecsv, found 9414 of 19532 sources meeting criteria mag<15\n",
      "2023-07-28 16:55:38,319 - stpipe - WARNING - /blue/adamginsburg/adamginsburg/repos/astropy/astropy/wcs/wcs.py:2966: AstropyWarning: Some non-standard WCS keywords were excluded: A_ORDER, A_0_2, A_0_3, A_1_1, A_1_2, A_2_0, A_2_1, A_3_0, B_ORDER, B_0_2, B_0_3, B_1_1, B_1_2, B_2_0, B_2_1, B_3_0, AP_ORDER, AP_0_2, AP_0_3, AP_1_1, AP_1_2, AP_2_0, AP_2_1, AP_3_0, BP_ORDER, BP_0_2, BP_0_3, BP_1_1, BP_1_2, BP_2_0, BP_2_1, BP_3_0 Use the ``relax`` kwarg to control this.\n",
      "  warnings.warn(\n",
      "\n",
      "2023-07-28 16:55:38,351 - stpipe - INFO - \n",
      "                Inconsistent SIP distortion information is present in the FITS header and the WCS object:\n",
      "                SIP coefficients were detected, but CTYPE is missing a \"-SIP\" suffix.\n",
      "                astropy.wcs is using the SIP distortion coefficients,\n",
      "                therefore the coordinates calculated here might be incorrect.\n",
      "\n",
      "                If you do not want to apply the SIP distortion coefficients,\n",
      "                please remove the SIP coefficients from the FITS header or the\n",
      "                WCS object.  As an example, if the image is already distortion-corrected\n",
      "                (e.g., drizzled) then distortion components should not apply and the SIP\n",
      "                coefficients should be removed.\n",
      "\n",
      "                While the SIP distortion coefficients are being applied here, if that was indeed the intent,\n",
      "                for consistency please append \"-SIP\" to the CTYPE in the FITS header or the WCS object.\n",
      "\n",
      "                \n",
      "2023-07-28 16:55:38,392 - stpipe - INFO - \n",
      "                Inconsistent SIP distortion information is present in the FITS header and the WCS object:\n",
      "                SIP coefficients were detected, but CTYPE is missing a \"-SIP\" suffix.\n",
      "                astropy.wcs is using the SIP distortion coefficients,\n",
      "                therefore the coordinates calculated here might be incorrect.\n",
      "\n",
      "                If you do not want to apply the SIP distortion coefficients,\n",
      "                please remove the SIP coefficients from the FITS header or the\n",
      "                WCS object.  As an example, if the image is already distortion-corrected\n",
      "                (e.g., drizzled) then distortion components should not apply and the SIP\n",
      "                coefficients should be removed.\n",
      "\n",
      "                While the SIP distortion coefficients are being applied here, if that was indeed the intent,\n",
      "                for consistency please append \"-SIP\" to the CTYPE in the FITS header or the WCS object.\n",
      "\n",
      "                \n"
     ]
    },
    {
     "name": "stdout",
     "output_type": "stream",
     "text": [
      "INFO: For f405n merged 002 catalog /orange/adamginsburg/jwst/cloudc//F405N/pipeline/jw02221-o002_t001_nircam_clear-f405n-merged_cat.ecsv, found 9414 of 19532 sources meeting criteria mag<15 [align_to_catalogs]\n",
      "2023-07-28T16:55:38.308868: Before realignment, offset is -0.05503874440364598 arcsec, -0.04783729796287162 arcsec.  Found 271 matches.\n",
      "2023-07-28T16:55:38.314794: CRVAL before 266.59237008461 -28.557172894513\n",
      "2023-07-28T16:55:38.324161: CRVAL after 266.59238537315 -28.554937384152\n",
      "INFO: \n",
      "                Inconsistent SIP distortion information is present in the FITS header and the WCS object:\n",
      "                SIP coefficients were detected, but CTYPE is missing a \"-SIP\" suffix.\n",
      "                astropy.wcs is using the SIP distortion coefficients,\n",
      "                therefore the coordinates calculated here might be incorrect.\n",
      "\n",
      "                If you do not want to apply the SIP distortion coefficients,\n",
      "                please remove the SIP coefficients from the FITS header or the\n",
      "                WCS object.  As an example, if the image is already distortion-corrected\n",
      "                (e.g., drizzled) then distortion components should not apply and the SIP\n",
      "                coefficients should be removed.\n",
      "\n",
      "                While the SIP distortion coefficients are being applied here, if that was indeed the intent,\n",
      "                for consistency please append \"-SIP\" to the CTYPE in the FITS header or the WCS object.\n",
      "\n",
      "                 [astropy.wcs.wcs]\n",
      "2023-07-28T16:55:38.379296: After realignment, offset is -0.036744687190548575 arcsec, -0.04191763008378757 arcsec with 277 mathces\n",
      "INFO: \n",
      "                Inconsistent SIP distortion information is present in the FITS header and the WCS object:\n",
      "                SIP coefficients were detected, but CTYPE is missing a \"-SIP\" suffix.\n",
      "                astropy.wcs is using the SIP distortion coefficients,\n",
      "                therefore the coordinates calculated here might be incorrect.\n",
      "\n",
      "                If you do not want to apply the SIP distortion coefficients,\n",
      "                please remove the SIP coefficients from the FITS header or the\n",
      "                WCS object.  As an example, if the image is already distortion-corrected\n",
      "                (e.g., drizzled) then distortion components should not apply and the SIP\n",
      "                coefficients should be removed.\n",
      "\n",
      "                While the SIP distortion coefficients are being applied here, if that was indeed the intent,\n",
      "                for consistency please append \"-SIP\" to the CTYPE in the FITS header or the WCS object.\n",
      "\n",
      "                 [astropy.wcs.wcs]\n",
      "2023-07-28T16:55:38.420547: After re-realignment, offset is -0.036744687190548575 arcsec, -0.04191763008378757 arcsec using 277 matches\n"
     ]
    },
    {
     "name": "stderr",
     "output_type": "stream",
     "text": [
      "2023-07-28 16:55:38,907 - stpipe - INFO - Kept 7752 out of 9945 VVV stars using ksmag_limit>11\n"
     ]
    },
    {
     "name": "stdout",
     "output_type": "stream",
     "text": [
      "INFO: Kept 7752 out of 9945 VVV stars using ksmag_limit>11 [align_to_catalogs]\n"
     ]
    },
    {
     "name": "stderr",
     "output_type": "stream",
     "text": [
      "2023-07-28 16:55:40,236 - stpipe - INFO - For f405n merged 002 catalog /orange/adamginsburg/jwst/cloudc//F405N/pipeline/jw02221-o002_t001_nircam_clear-f405n-merged_cat.ecsv, found 9414 of 19532 sources meeting criteria mag<15\n"
     ]
    },
    {
     "name": "stdout",
     "output_type": "stream",
     "text": [
      "INFO: For f405n merged 002 catalog /orange/adamginsburg/jwst/cloudc//F405N/pipeline/jw02221-o002_t001_nircam_clear-f405n-merged_cat.ecsv, found 9414 of 19532 sources meeting criteria mag<15 [align_to_catalogs]\n"
     ]
    },
    {
     "name": "stderr",
     "output_type": "stream",
     "text": [
      "2023-07-28 16:55:40,752 - stpipe - WARNING - /blue/adamginsburg/adamginsburg/repos/astropy/astropy/wcs/wcs.py:2966: AstropyWarning: Some non-standard WCS keywords were excluded: A_ORDER, A_0_2, A_0_3, A_1_1, A_1_2, A_2_0, A_2_1, A_3_0, B_ORDER, B_0_2, B_0_3, B_1_1, B_1_2, B_2_0, B_2_1, B_3_0, AP_ORDER, AP_0_2, AP_0_3, AP_1_1, AP_1_2, AP_2_0, AP_2_1, AP_3_0, BP_ORDER, BP_0_2, BP_0_3, BP_1_1, BP_1_2, BP_2_0, BP_2_1, BP_3_0 Use the ``relax`` kwarg to control this.\n",
      "  warnings.warn(\n",
      "\n",
      "2023-07-28 16:55:40,785 - stpipe - INFO - \n",
      "                Inconsistent SIP distortion information is present in the FITS header and the WCS object:\n",
      "                SIP coefficients were detected, but CTYPE is missing a \"-SIP\" suffix.\n",
      "                astropy.wcs is using the SIP distortion coefficients,\n",
      "                therefore the coordinates calculated here might be incorrect.\n",
      "\n",
      "                If you do not want to apply the SIP distortion coefficients,\n",
      "                please remove the SIP coefficients from the FITS header or the\n",
      "                WCS object.  As an example, if the image is already distortion-corrected\n",
      "                (e.g., drizzled) then distortion components should not apply and the SIP\n",
      "                coefficients should be removed.\n",
      "\n",
      "                While the SIP distortion coefficients are being applied here, if that was indeed the intent,\n",
      "                for consistency please append \"-SIP\" to the CTYPE in the FITS header or the WCS object.\n",
      "\n",
      "                \n",
      "2023-07-28 16:55:40,829 - stpipe - INFO - \n",
      "                Inconsistent SIP distortion information is present in the FITS header and the WCS object:\n",
      "                SIP coefficients were detected, but CTYPE is missing a \"-SIP\" suffix.\n",
      "                astropy.wcs is using the SIP distortion coefficients,\n",
      "                therefore the coordinates calculated here might be incorrect.\n",
      "\n",
      "                If you do not want to apply the SIP distortion coefficients,\n",
      "                please remove the SIP coefficients from the FITS header or the\n",
      "                WCS object.  As an example, if the image is already distortion-corrected\n",
      "                (e.g., drizzled) then distortion components should not apply and the SIP\n",
      "                coefficients should be removed.\n",
      "\n",
      "                While the SIP distortion coefficients are being applied here, if that was indeed the intent,\n",
      "                for consistency please append \"-SIP\" to the CTYPE in the FITS header or the WCS object.\n",
      "\n",
      "                \n"
     ]
    },
    {
     "name": "stdout",
     "output_type": "stream",
     "text": [
      "2023-07-28T16:55:40.742017: Before realignment, offset is -0.024903513440222014 arcsec, -0.05622041633515096 arcsec.  Found 184 matches.\n",
      "2023-07-28T16:55:40.748301: CRVAL before 266.58873993895 -28.574669560401\n",
      "2023-07-28T16:55:40.757605: CRVAL after 266.58874685659 -28.572431721396\n",
      "INFO: \n",
      "                Inconsistent SIP distortion information is present in the FITS header and the WCS object:\n",
      "                SIP coefficients were detected, but CTYPE is missing a \"-SIP\" suffix.\n",
      "                astropy.wcs is using the SIP distortion coefficients,\n",
      "                therefore the coordinates calculated here might be incorrect.\n",
      "\n",
      "                If you do not want to apply the SIP distortion coefficients,\n",
      "                please remove the SIP coefficients from the FITS header or the\n",
      "                WCS object.  As an example, if the image is already distortion-corrected\n",
      "                (e.g., drizzled) then distortion components should not apply and the SIP\n",
      "                coefficients should be removed.\n",
      "\n",
      "                While the SIP distortion coefficients are being applied here, if that was indeed the intent,\n",
      "                for consistency please append \"-SIP\" to the CTYPE in the FITS header or the WCS object.\n",
      "\n",
      "                 [astropy.wcs.wcs]\n",
      "2023-07-28T16:55:40.814495: After realignment, offset is -0.00867955343437643 arcsec, -0.06665105116780978 arcsec with 193 mathces\n",
      "INFO: \n",
      "                Inconsistent SIP distortion information is present in the FITS header and the WCS object:\n",
      "                SIP coefficients were detected, but CTYPE is missing a \"-SIP\" suffix.\n",
      "                astropy.wcs is using the SIP distortion coefficients,\n",
      "                therefore the coordinates calculated here might be incorrect.\n",
      "\n",
      "                If you do not want to apply the SIP distortion coefficients,\n",
      "                please remove the SIP coefficients from the FITS header or the\n",
      "                WCS object.  As an example, if the image is already distortion-corrected\n",
      "                (e.g., drizzled) then distortion components should not apply and the SIP\n",
      "                coefficients should be removed.\n",
      "\n",
      "                While the SIP distortion coefficients are being applied here, if that was indeed the intent,\n",
      "                for consistency please append \"-SIP\" to the CTYPE in the FITS header or the WCS object.\n",
      "\n",
      "                 [astropy.wcs.wcs]\n",
      "2023-07-28T16:55:40.857812: After re-realignment, offset is -0.00867955343437643 arcsec, -0.06665105116780978 arcsec using 193 matches\n"
     ]
    },
    {
     "name": "stderr",
     "output_type": "stream",
     "text": [
      "2023-07-28 16:55:41,347 - stpipe - INFO - Kept 7752 out of 9945 VVV stars using ksmag_limit>11\n"
     ]
    },
    {
     "name": "stdout",
     "output_type": "stream",
     "text": [
      "INFO: Kept 7752 out of 9945 VVV stars using ksmag_limit>11 [align_to_catalogs]\n"
     ]
    },
    {
     "name": "stderr",
     "output_type": "stream",
     "text": [
      "2023-07-28 16:55:42,732 - stpipe - INFO - For f405n merged 002 catalog /orange/adamginsburg/jwst/cloudc//F405N/pipeline/jw02221-o002_t001_nircam_clear-f405n-merged_cat.ecsv, found 9414 of 19532 sources meeting criteria mag<15\n",
      "2023-07-28 16:55:42,793 - stpipe - WARNING - /blue/adamginsburg/adamginsburg/repos/astropy/astropy/wcs/wcs.py:2966: AstropyWarning: Some non-standard WCS keywords were excluded: A_ORDER, A_0_2, A_0_3, A_1_1, A_1_2, A_2_0, A_2_1, A_3_0, B_ORDER, B_0_2, B_0_3, B_1_1, B_1_2, B_2_0, B_2_1, B_3_0, AP_ORDER, AP_0_2, AP_0_3, AP_1_1, AP_1_2, AP_2_0, AP_2_1, AP_3_0, BP_ORDER, BP_0_2, BP_0_3, BP_1_1, BP_1_2, BP_2_0, BP_2_1, BP_3_0 Use the ``relax`` kwarg to control this.\n",
      "  warnings.warn(\n",
      "\n",
      "2023-07-28 16:55:42,826 - stpipe - INFO - \n",
      "                Inconsistent SIP distortion information is present in the FITS header and the WCS object:\n",
      "                SIP coefficients were detected, but CTYPE is missing a \"-SIP\" suffix.\n",
      "                astropy.wcs is using the SIP distortion coefficients,\n",
      "                therefore the coordinates calculated here might be incorrect.\n",
      "\n",
      "                If you do not want to apply the SIP distortion coefficients,\n",
      "                please remove the SIP coefficients from the FITS header or the\n",
      "                WCS object.  As an example, if the image is already distortion-corrected\n",
      "                (e.g., drizzled) then distortion components should not apply and the SIP\n",
      "                coefficients should be removed.\n",
      "\n",
      "                While the SIP distortion coefficients are being applied here, if that was indeed the intent,\n",
      "                for consistency please append \"-SIP\" to the CTYPE in the FITS header or the WCS object.\n",
      "\n",
      "                \n",
      "2023-07-28 16:55:42,867 - stpipe - INFO - \n",
      "                Inconsistent SIP distortion information is present in the FITS header and the WCS object:\n",
      "                SIP coefficients were detected, but CTYPE is missing a \"-SIP\" suffix.\n",
      "                astropy.wcs is using the SIP distortion coefficients,\n",
      "                therefore the coordinates calculated here might be incorrect.\n",
      "\n",
      "                If you do not want to apply the SIP distortion coefficients,\n",
      "                please remove the SIP coefficients from the FITS header or the\n",
      "                WCS object.  As an example, if the image is already distortion-corrected\n",
      "                (e.g., drizzled) then distortion components should not apply and the SIP\n",
      "                coefficients should be removed.\n",
      "\n",
      "                While the SIP distortion coefficients are being applied here, if that was indeed the intent,\n",
      "                for consistency please append \"-SIP\" to the CTYPE in the FITS header or the WCS object.\n",
      "\n",
      "                \n"
     ]
    },
    {
     "name": "stdout",
     "output_type": "stream",
     "text": [
      "INFO: For f405n merged 002 catalog /orange/adamginsburg/jwst/cloudc//F405N/pipeline/jw02221-o002_t001_nircam_clear-f405n-merged_cat.ecsv, found 9414 of 19532 sources meeting criteria mag<15 [align_to_catalogs]\n",
      "2023-07-28T16:55:42.783038: Before realignment, offset is -0.04833001480619714 arcsec, 0.04211255364907629 arcsec.  Found 207 matches.\n",
      "2023-07-28T16:55:42.789364: CRVAL before 266.58767076093 -28.574623328595\n",
      "2023-07-28T16:55:42.799155: CRVAL after 266.58768418593 -28.572412804304\n",
      "INFO: \n",
      "                Inconsistent SIP distortion information is present in the FITS header and the WCS object:\n",
      "                SIP coefficients were detected, but CTYPE is missing a \"-SIP\" suffix.\n",
      "                astropy.wcs is using the SIP distortion coefficients,\n",
      "                therefore the coordinates calculated here might be incorrect.\n",
      "\n",
      "                If you do not want to apply the SIP distortion coefficients,\n",
      "                please remove the SIP coefficients from the FITS header or the\n",
      "                WCS object.  As an example, if the image is already distortion-corrected\n",
      "                (e.g., drizzled) then distortion components should not apply and the SIP\n",
      "                coefficients should be removed.\n",
      "\n",
      "                While the SIP distortion coefficients are being applied here, if that was indeed the intent,\n",
      "                for consistency please append \"-SIP\" to the CTYPE in the FITS header or the WCS object.\n",
      "\n",
      "                 [astropy.wcs.wcs]\n",
      "2023-07-28T16:55:42.853438: After realignment, offset is -0.0548099507795996 arcsec, 0.041680224954632195 arcsec with 211 mathces\n",
      "INFO: \n",
      "                Inconsistent SIP distortion information is present in the FITS header and the WCS object:\n",
      "                SIP coefficients were detected, but CTYPE is missing a \"-SIP\" suffix.\n",
      "                astropy.wcs is using the SIP distortion coefficients,\n",
      "                therefore the coordinates calculated here might be incorrect.\n",
      "\n",
      "                If you do not want to apply the SIP distortion coefficients,\n",
      "                please remove the SIP coefficients from the FITS header or the\n",
      "                WCS object.  As an example, if the image is already distortion-corrected\n",
      "                (e.g., drizzled) then distortion components should not apply and the SIP\n",
      "                coefficients should be removed.\n",
      "\n",
      "                While the SIP distortion coefficients are being applied here, if that was indeed the intent,\n",
      "                for consistency please append \"-SIP\" to the CTYPE in the FITS header or the WCS object.\n",
      "\n",
      "                 [astropy.wcs.wcs]\n",
      "2023-07-28T16:55:42.895255: After re-realignment, offset is -0.0548099507795996 arcsec, 0.041680224954632195 arcsec using 211 matches\n"
     ]
    },
    {
     "name": "stderr",
     "output_type": "stream",
     "text": [
      "2023-07-28 16:55:43,386 - stpipe - INFO - Kept 7752 out of 9945 VVV stars using ksmag_limit>11\n"
     ]
    },
    {
     "name": "stdout",
     "output_type": "stream",
     "text": [
      "INFO: Kept 7752 out of 9945 VVV stars using ksmag_limit>11 [align_to_catalogs]\n"
     ]
    },
    {
     "name": "stderr",
     "output_type": "stream",
     "text": [
      "2023-07-28 16:55:44,754 - stpipe - INFO - For f405n merged 002 catalog /orange/adamginsburg/jwst/cloudc//F405N/pipeline/jw02221-o002_t001_nircam_clear-f405n-merged_cat.ecsv, found 9414 of 19532 sources meeting criteria mag<15\n",
      "2023-07-28 16:55:44,850 - stpipe - WARNING - /blue/adamginsburg/adamginsburg/repos/astropy/astropy/wcs/wcs.py:2966: AstropyWarning: Some non-standard WCS keywords were excluded: A_ORDER, A_0_2, A_0_3, A_1_1, A_1_2, A_2_0, A_2_1, A_3_0, B_ORDER, B_0_2, B_0_3, B_1_1, B_1_2, B_2_0, B_2_1, B_3_0, AP_ORDER, AP_0_2, AP_0_3, AP_1_1, AP_1_2, AP_2_0, AP_2_1, AP_3_0, BP_ORDER, BP_0_2, BP_0_3, BP_1_1, BP_1_2, BP_2_0, BP_2_1, BP_3_0 Use the ``relax`` kwarg to control this.\n",
      "  warnings.warn(\n",
      "\n",
      "2023-07-28 16:55:44,880 - stpipe - INFO - \n",
      "                Inconsistent SIP distortion information is present in the FITS header and the WCS object:\n",
      "                SIP coefficients were detected, but CTYPE is missing a \"-SIP\" suffix.\n",
      "                astropy.wcs is using the SIP distortion coefficients,\n",
      "                therefore the coordinates calculated here might be incorrect.\n",
      "\n",
      "                If you do not want to apply the SIP distortion coefficients,\n",
      "                please remove the SIP coefficients from the FITS header or the\n",
      "                WCS object.  As an example, if the image is already distortion-corrected\n",
      "                (e.g., drizzled) then distortion components should not apply and the SIP\n",
      "                coefficients should be removed.\n",
      "\n",
      "                While the SIP distortion coefficients are being applied here, if that was indeed the intent,\n",
      "                for consistency please append \"-SIP\" to the CTYPE in the FITS header or the WCS object.\n",
      "\n",
      "                \n",
      "2023-07-28 16:55:44,922 - stpipe - INFO - \n",
      "                Inconsistent SIP distortion information is present in the FITS header and the WCS object:\n",
      "                SIP coefficients were detected, but CTYPE is missing a \"-SIP\" suffix.\n",
      "                astropy.wcs is using the SIP distortion coefficients,\n",
      "                therefore the coordinates calculated here might be incorrect.\n",
      "\n",
      "                If you do not want to apply the SIP distortion coefficients,\n",
      "                please remove the SIP coefficients from the FITS header or the\n",
      "                WCS object.  As an example, if the image is already distortion-corrected\n",
      "                (e.g., drizzled) then distortion components should not apply and the SIP\n",
      "                coefficients should be removed.\n",
      "\n",
      "                While the SIP distortion coefficients are being applied here, if that was indeed the intent,\n",
      "                for consistency please append \"-SIP\" to the CTYPE in the FITS header or the WCS object.\n",
      "\n",
      "                \n"
     ]
    },
    {
     "name": "stdout",
     "output_type": "stream",
     "text": [
      "INFO: For f405n merged 002 catalog /orange/adamginsburg/jwst/cloudc//F405N/pipeline/jw02221-o002_t001_nircam_clear-f405n-merged_cat.ecsv, found 9414 of 19532 sources meeting criteria mag<15 [align_to_catalogs]\n",
      "2023-07-28T16:55:44.839788: Before realignment, offset is -0.05599435892236215 arcsec, -0.03903505960707321 arcsec.  Found 294 matches.\n",
      "2023-07-28T16:55:44.846108: CRVAL before 266.59624865738 -28.538982276864\n",
      "2023-07-28T16:55:44.855146: CRVAL after 266.59626421137 -28.53674921157\n",
      "INFO: \n",
      "                Inconsistent SIP distortion information is present in the FITS header and the WCS object:\n",
      "                SIP coefficients were detected, but CTYPE is missing a \"-SIP\" suffix.\n",
      "                astropy.wcs is using the SIP distortion coefficients,\n",
      "                therefore the coordinates calculated here might be incorrect.\n",
      "\n",
      "                If you do not want to apply the SIP distortion coefficients,\n",
      "                please remove the SIP coefficients from the FITS header or the\n",
      "                WCS object.  As an example, if the image is already distortion-corrected\n",
      "                (e.g., drizzled) then distortion components should not apply and the SIP\n",
      "                coefficients should be removed.\n",
      "\n",
      "                While the SIP distortion coefficients are being applied here, if that was indeed the intent,\n",
      "                for consistency please append \"-SIP\" to the CTYPE in the FITS header or the WCS object.\n",
      "\n",
      "                 [astropy.wcs.wcs]\n",
      "2023-07-28T16:55:44.909276: After realignment, offset is -0.060203953898962936 arcsec, -0.03103056859146136 arcsec with 304 mathces\n",
      "INFO: \n",
      "                Inconsistent SIP distortion information is present in the FITS header and the WCS object:\n",
      "                SIP coefficients were detected, but CTYPE is missing a \"-SIP\" suffix.\n",
      "                astropy.wcs is using the SIP distortion coefficients,\n",
      "                therefore the coordinates calculated here might be incorrect.\n",
      "\n",
      "                If you do not want to apply the SIP distortion coefficients,\n",
      "                please remove the SIP coefficients from the FITS header or the\n",
      "                WCS object.  As an example, if the image is already distortion-corrected\n",
      "                (e.g., drizzled) then distortion components should not apply and the SIP\n",
      "                coefficients should be removed.\n",
      "\n",
      "                While the SIP distortion coefficients are being applied here, if that was indeed the intent,\n",
      "                for consistency please append \"-SIP\" to the CTYPE in the FITS header or the WCS object.\n",
      "\n",
      "                 [astropy.wcs.wcs]\n",
      "2023-07-28T16:55:44.952008: After re-realignment, offset is -0.060203953898962936 arcsec, -0.03103056859146136 arcsec using 304 matches\n"
     ]
    },
    {
     "name": "stderr",
     "output_type": "stream",
     "text": [
      "2023-07-28 16:55:45,435 - stpipe - INFO - Kept 7752 out of 9945 VVV stars using ksmag_limit>11\n"
     ]
    },
    {
     "name": "stdout",
     "output_type": "stream",
     "text": [
      "INFO: Kept 7752 out of 9945 VVV stars using ksmag_limit>11 [align_to_catalogs]\n"
     ]
    },
    {
     "name": "stderr",
     "output_type": "stream",
     "text": [
      "2023-07-28 16:55:46,809 - stpipe - INFO - For f405n merged 002 catalog /orange/adamginsburg/jwst/cloudc//F405N/pipeline/jw02221-o002_t001_nircam_clear-f405n-merged_cat.ecsv, found 9414 of 19532 sources meeting criteria mag<15\n"
     ]
    },
    {
     "name": "stdout",
     "output_type": "stream",
     "text": [
      "INFO: For f405n merged 002 catalog /orange/adamginsburg/jwst/cloudc//F405N/pipeline/jw02221-o002_t001_nircam_clear-f405n-merged_cat.ecsv, found 9414 of 19532 sources meeting criteria mag<15 [align_to_catalogs]\n"
     ]
    },
    {
     "name": "stderr",
     "output_type": "stream",
     "text": [
      "2023-07-28 16:55:47,393 - stpipe - WARNING - /blue/adamginsburg/adamginsburg/repos/astropy/astropy/wcs/wcs.py:2966: AstropyWarning: Some non-standard WCS keywords were excluded: A_ORDER, A_0_2, A_0_3, A_1_1, A_1_2, A_2_0, A_2_1, A_3_0, B_ORDER, B_0_2, B_0_3, B_1_1, B_1_2, B_2_0, B_2_1, B_3_0, AP_ORDER, AP_0_2, AP_0_3, AP_1_1, AP_1_2, AP_2_0, AP_2_1, AP_3_0, BP_ORDER, BP_0_2, BP_0_3, BP_1_1, BP_1_2, BP_2_0, BP_2_1, BP_3_0 Use the ``relax`` kwarg to control this.\n",
      "  warnings.warn(\n",
      "\n",
      "2023-07-28 16:55:47,425 - stpipe - INFO - \n",
      "                Inconsistent SIP distortion information is present in the FITS header and the WCS object:\n",
      "                SIP coefficients were detected, but CTYPE is missing a \"-SIP\" suffix.\n",
      "                astropy.wcs is using the SIP distortion coefficients,\n",
      "                therefore the coordinates calculated here might be incorrect.\n",
      "\n",
      "                If you do not want to apply the SIP distortion coefficients,\n",
      "                please remove the SIP coefficients from the FITS header or the\n",
      "                WCS object.  As an example, if the image is already distortion-corrected\n",
      "                (e.g., drizzled) then distortion components should not apply and the SIP\n",
      "                coefficients should be removed.\n",
      "\n",
      "                While the SIP distortion coefficients are being applied here, if that was indeed the intent,\n",
      "                for consistency please append \"-SIP\" to the CTYPE in the FITS header or the WCS object.\n",
      "\n",
      "                \n",
      "2023-07-28 16:55:47,468 - stpipe - INFO - \n",
      "                Inconsistent SIP distortion information is present in the FITS header and the WCS object:\n",
      "                SIP coefficients were detected, but CTYPE is missing a \"-SIP\" suffix.\n",
      "                astropy.wcs is using the SIP distortion coefficients,\n",
      "                therefore the coordinates calculated here might be incorrect.\n",
      "\n",
      "                If you do not want to apply the SIP distortion coefficients,\n",
      "                please remove the SIP coefficients from the FITS header or the\n",
      "                WCS object.  As an example, if the image is already distortion-corrected\n",
      "                (e.g., drizzled) then distortion components should not apply and the SIP\n",
      "                coefficients should be removed.\n",
      "\n",
      "                While the SIP distortion coefficients are being applied here, if that was indeed the intent,\n",
      "                for consistency please append \"-SIP\" to the CTYPE in the FITS header or the WCS object.\n",
      "\n",
      "                \n"
     ]
    },
    {
     "name": "stdout",
     "output_type": "stream",
     "text": [
      "2023-07-28T16:55:47.383101: Before realignment, offset is -0.056170968957758305 arcsec, -0.06071379692116352 arcsec.  Found 214 matches.\n",
      "2023-07-28T16:55:47.389339: CRVAL before 266.58766161187 -28.575351603672\n",
      "2023-07-28T16:55:47.398980: CRVAL after 266.58767721492 -28.573112516506\n",
      "INFO: \n",
      "                Inconsistent SIP distortion information is present in the FITS header and the WCS object:\n",
      "                SIP coefficients were detected, but CTYPE is missing a \"-SIP\" suffix.\n",
      "                astropy.wcs is using the SIP distortion coefficients,\n",
      "                therefore the coordinates calculated here might be incorrect.\n",
      "\n",
      "                If you do not want to apply the SIP distortion coefficients,\n",
      "                please remove the SIP coefficients from the FITS header or the\n",
      "                WCS object.  As an example, if the image is already distortion-corrected\n",
      "                (e.g., drizzled) then distortion components should not apply and the SIP\n",
      "                coefficients should be removed.\n",
      "\n",
      "                While the SIP distortion coefficients are being applied here, if that was indeed the intent,\n",
      "                for consistency please append \"-SIP\" to the CTYPE in the FITS header or the WCS object.\n",
      "\n",
      "                 [astropy.wcs.wcs]\n",
      "2023-07-28T16:55:47.453974: After realignment, offset is -0.03634188282148898 arcsec, -0.05267262758437141 arcsec with 232 mathces\n",
      "INFO: \n",
      "                Inconsistent SIP distortion information is present in the FITS header and the WCS object:\n",
      "                SIP coefficients were detected, but CTYPE is missing a \"-SIP\" suffix.\n",
      "                astropy.wcs is using the SIP distortion coefficients,\n",
      "                therefore the coordinates calculated here might be incorrect.\n",
      "\n",
      "                If you do not want to apply the SIP distortion coefficients,\n",
      "                please remove the SIP coefficients from the FITS header or the\n",
      "                WCS object.  As an example, if the image is already distortion-corrected\n",
      "                (e.g., drizzled) then distortion components should not apply and the SIP\n",
      "                coefficients should be removed.\n",
      "\n",
      "                While the SIP distortion coefficients are being applied here, if that was indeed the intent,\n",
      "                for consistency please append \"-SIP\" to the CTYPE in the FITS header or the WCS object.\n",
      "\n",
      "                 [astropy.wcs.wcs]\n",
      "2023-07-28T16:55:47.496309: After re-realignment, offset is -0.03634188282148898 arcsec, -0.05267262758437141 arcsec using 232 matches\n"
     ]
    },
    {
     "name": "stderr",
     "output_type": "stream",
     "text": [
      "2023-07-28 16:55:47,993 - stpipe - INFO - Kept 7752 out of 9945 VVV stars using ksmag_limit>11\n"
     ]
    },
    {
     "name": "stdout",
     "output_type": "stream",
     "text": [
      "INFO: Kept 7752 out of 9945 VVV stars using ksmag_limit>11 [align_to_catalogs]\n"
     ]
    },
    {
     "name": "stderr",
     "output_type": "stream",
     "text": [
      "2023-07-28 16:55:49,348 - stpipe - INFO - For f405n merged 002 catalog /orange/adamginsburg/jwst/cloudc//F405N/pipeline/jw02221-o002_t001_nircam_clear-f405n-merged_cat.ecsv, found 9414 of 19532 sources meeting criteria mag<15\n",
      "2023-07-28 16:55:49,445 - stpipe - WARNING - /blue/adamginsburg/adamginsburg/repos/astropy/astropy/wcs/wcs.py:2966: AstropyWarning: Some non-standard WCS keywords were excluded: A_ORDER, A_0_2, A_0_3, A_1_1, A_1_2, A_2_0, A_2_1, A_3_0, B_ORDER, B_0_2, B_0_3, B_1_1, B_1_2, B_2_0, B_2_1, B_3_0, AP_ORDER, AP_0_2, AP_0_3, AP_1_1, AP_1_2, AP_2_0, AP_2_1, AP_3_0, BP_ORDER, BP_0_2, BP_0_3, BP_1_1, BP_1_2, BP_2_0, BP_2_1, BP_3_0 Use the ``relax`` kwarg to control this.\n",
      "  warnings.warn(\n",
      "\n",
      "2023-07-28 16:55:49,479 - stpipe - INFO - \n",
      "                Inconsistent SIP distortion information is present in the FITS header and the WCS object:\n",
      "                SIP coefficients were detected, but CTYPE is missing a \"-SIP\" suffix.\n",
      "                astropy.wcs is using the SIP distortion coefficients,\n",
      "                therefore the coordinates calculated here might be incorrect.\n",
      "\n",
      "                If you do not want to apply the SIP distortion coefficients,\n",
      "                please remove the SIP coefficients from the FITS header or the\n",
      "                WCS object.  As an example, if the image is already distortion-corrected\n",
      "                (e.g., drizzled) then distortion components should not apply and the SIP\n",
      "                coefficients should be removed.\n",
      "\n",
      "                While the SIP distortion coefficients are being applied here, if that was indeed the intent,\n",
      "                for consistency please append \"-SIP\" to the CTYPE in the FITS header or the WCS object.\n",
      "\n",
      "                \n",
      "2023-07-28 16:55:49,520 - stpipe - INFO - \n",
      "                Inconsistent SIP distortion information is present in the FITS header and the WCS object:\n",
      "                SIP coefficients were detected, but CTYPE is missing a \"-SIP\" suffix.\n",
      "                astropy.wcs is using the SIP distortion coefficients,\n",
      "                therefore the coordinates calculated here might be incorrect.\n",
      "\n",
      "                If you do not want to apply the SIP distortion coefficients,\n",
      "                please remove the SIP coefficients from the FITS header or the\n",
      "                WCS object.  As an example, if the image is already distortion-corrected\n",
      "                (e.g., drizzled) then distortion components should not apply and the SIP\n",
      "                coefficients should be removed.\n",
      "\n",
      "                While the SIP distortion coefficients are being applied here, if that was indeed the intent,\n",
      "                for consistency please append \"-SIP\" to the CTYPE in the FITS header or the WCS object.\n",
      "\n",
      "                \n"
     ]
    },
    {
     "name": "stdout",
     "output_type": "stream",
     "text": [
      "INFO: For f405n merged 002 catalog /orange/adamginsburg/jwst/cloudc//F405N/pipeline/jw02221-o002_t001_nircam_clear-f405n-merged_cat.ecsv, found 9414 of 19532 sources meeting criteria mag<15 [align_to_catalogs]\n",
      "2023-07-28T16:55:49.435508: Before realignment, offset is -0.04073248986742328 arcsec, 0.00038011130882864563 arcsec.  Found 170 matches.\n",
      "2023-07-28T16:55:49.441725: CRVAL before 266.58485703427 -28.592859807459\n",
      "2023-07-28T16:55:49.450967: CRVAL after 266.58486834885 -28.590637690823\n",
      "INFO: \n",
      "                Inconsistent SIP distortion information is present in the FITS header and the WCS object:\n",
      "                SIP coefficients were detected, but CTYPE is missing a \"-SIP\" suffix.\n",
      "                astropy.wcs is using the SIP distortion coefficients,\n",
      "                therefore the coordinates calculated here might be incorrect.\n",
      "\n",
      "                If you do not want to apply the SIP distortion coefficients,\n",
      "                please remove the SIP coefficients from the FITS header or the\n",
      "                WCS object.  As an example, if the image is already distortion-corrected\n",
      "                (e.g., drizzled) then distortion components should not apply and the SIP\n",
      "                coefficients should be removed.\n",
      "\n",
      "                While the SIP distortion coefficients are being applied here, if that was indeed the intent,\n",
      "                for consistency please append \"-SIP\" to the CTYPE in the FITS header or the WCS object.\n",
      "\n",
      "                 [astropy.wcs.wcs]\n",
      "2023-07-28T16:55:49.506566: After realignment, offset is -0.03975723363964789 arcsec, -0.002633622152359294 arcsec with 171 mathces\n",
      "INFO: \n",
      "                Inconsistent SIP distortion information is present in the FITS header and the WCS object:\n",
      "                SIP coefficients were detected, but CTYPE is missing a \"-SIP\" suffix.\n",
      "                astropy.wcs is using the SIP distortion coefficients,\n",
      "                therefore the coordinates calculated here might be incorrect.\n",
      "\n",
      "                If you do not want to apply the SIP distortion coefficients,\n",
      "                please remove the SIP coefficients from the FITS header or the\n",
      "                WCS object.  As an example, if the image is already distortion-corrected\n",
      "                (e.g., drizzled) then distortion components should not apply and the SIP\n",
      "                coefficients should be removed.\n",
      "\n",
      "                While the SIP distortion coefficients are being applied here, if that was indeed the intent,\n",
      "                for consistency please append \"-SIP\" to the CTYPE in the FITS header or the WCS object.\n",
      "\n",
      "                 [astropy.wcs.wcs]\n",
      "2023-07-28T16:55:49.547710: After re-realignment, offset is -0.03975723363964789 arcsec, -0.002633622152359294 arcsec using 171 matches\n"
     ]
    },
    {
     "name": "stderr",
     "output_type": "stream",
     "text": [
      "2023-07-28 16:55:50,027 - stpipe - INFO - Kept 7752 out of 9945 VVV stars using ksmag_limit>11\n"
     ]
    },
    {
     "name": "stdout",
     "output_type": "stream",
     "text": [
      "INFO: Kept 7752 out of 9945 VVV stars using ksmag_limit>11 [align_to_catalogs]\n"
     ]
    },
    {
     "name": "stderr",
     "output_type": "stream",
     "text": [
      "2023-07-28 16:55:51,377 - stpipe - INFO - For f405n merged 002 catalog /orange/adamginsburg/jwst/cloudc//F405N/pipeline/jw02221-o002_t001_nircam_clear-f405n-merged_cat.ecsv, found 9414 of 19532 sources meeting criteria mag<15\n",
      "2023-07-28 16:55:51,472 - stpipe - WARNING - /blue/adamginsburg/adamginsburg/repos/astropy/astropy/wcs/wcs.py:2966: AstropyWarning: Some non-standard WCS keywords were excluded: A_ORDER, A_0_2, A_0_3, A_1_1, A_1_2, A_2_0, A_2_1, A_3_0, B_ORDER, B_0_2, B_0_3, B_1_1, B_1_2, B_2_0, B_2_1, B_3_0, AP_ORDER, AP_0_2, AP_0_3, AP_1_1, AP_1_2, AP_2_0, AP_2_1, AP_3_0, BP_ORDER, BP_0_2, BP_0_3, BP_1_1, BP_1_2, BP_2_0, BP_2_1, BP_3_0 Use the ``relax`` kwarg to control this.\n",
      "  warnings.warn(\n",
      "\n",
      "2023-07-28 16:55:51,505 - stpipe - INFO - \n",
      "                Inconsistent SIP distortion information is present in the FITS header and the WCS object:\n",
      "                SIP coefficients were detected, but CTYPE is missing a \"-SIP\" suffix.\n",
      "                astropy.wcs is using the SIP distortion coefficients,\n",
      "                therefore the coordinates calculated here might be incorrect.\n",
      "\n",
      "                If you do not want to apply the SIP distortion coefficients,\n",
      "                please remove the SIP coefficients from the FITS header or the\n",
      "                WCS object.  As an example, if the image is already distortion-corrected\n",
      "                (e.g., drizzled) then distortion components should not apply and the SIP\n",
      "                coefficients should be removed.\n",
      "\n",
      "                While the SIP distortion coefficients are being applied here, if that was indeed the intent,\n",
      "                for consistency please append \"-SIP\" to the CTYPE in the FITS header or the WCS object.\n",
      "\n",
      "                \n",
      "2023-07-28 16:55:51,548 - stpipe - INFO - \n",
      "                Inconsistent SIP distortion information is present in the FITS header and the WCS object:\n",
      "                SIP coefficients were detected, but CTYPE is missing a \"-SIP\" suffix.\n",
      "                astropy.wcs is using the SIP distortion coefficients,\n",
      "                therefore the coordinates calculated here might be incorrect.\n",
      "\n",
      "                If you do not want to apply the SIP distortion coefficients,\n",
      "                please remove the SIP coefficients from the FITS header or the\n",
      "                WCS object.  As an example, if the image is already distortion-corrected\n",
      "                (e.g., drizzled) then distortion components should not apply and the SIP\n",
      "                coefficients should be removed.\n",
      "\n",
      "                While the SIP distortion coefficients are being applied here, if that was indeed the intent,\n",
      "                for consistency please append \"-SIP\" to the CTYPE in the FITS header or the WCS object.\n",
      "\n",
      "                \n"
     ]
    },
    {
     "name": "stdout",
     "output_type": "stream",
     "text": [
      "INFO: For f405n merged 002 catalog /orange/adamginsburg/jwst/cloudc//F405N/pipeline/jw02221-o002_t001_nircam_clear-f405n-merged_cat.ecsv, found 9414 of 19532 sources meeting criteria mag<15 [align_to_catalogs]\n",
      "2023-07-28T16:55:51.461710: Before realignment, offset is -0.03293831434802996 arcsec, -0.02435466701911082 arcsec.  Found 299 matches.\n",
      "2023-07-28T16:55:51.467955: CRVAL before 266.59542873995 -28.538245930861\n",
      "2023-07-28T16:55:51.477464: CRVAL after 266.59543788948 -28.536016943453\n",
      "INFO: \n",
      "                Inconsistent SIP distortion information is present in the FITS header and the WCS object:\n",
      "                SIP coefficients were detected, but CTYPE is missing a \"-SIP\" suffix.\n",
      "                astropy.wcs is using the SIP distortion coefficients,\n",
      "                therefore the coordinates calculated here might be incorrect.\n",
      "\n",
      "                If you do not want to apply the SIP distortion coefficients,\n",
      "                please remove the SIP coefficients from the FITS header or the\n",
      "                WCS object.  As an example, if the image is already distortion-corrected\n",
      "                (e.g., drizzled) then distortion components should not apply and the SIP\n",
      "                coefficients should be removed.\n",
      "\n",
      "                While the SIP distortion coefficients are being applied here, if that was indeed the intent,\n",
      "                for consistency please append \"-SIP\" to the CTYPE in the FITS header or the WCS object.\n",
      "\n",
      "                 [astropy.wcs.wcs]\n",
      "2023-07-28T16:55:51.534544: After realignment, offset is -0.011755724995055061 arcsec, -0.016326931806531775 arcsec with 296 mathces\n",
      "INFO: \n",
      "                Inconsistent SIP distortion information is present in the FITS header and the WCS object:\n",
      "                SIP coefficients were detected, but CTYPE is missing a \"-SIP\" suffix.\n",
      "                astropy.wcs is using the SIP distortion coefficients,\n",
      "                therefore the coordinates calculated here might be incorrect.\n",
      "\n",
      "                If you do not want to apply the SIP distortion coefficients,\n",
      "                please remove the SIP coefficients from the FITS header or the\n",
      "                WCS object.  As an example, if the image is already distortion-corrected\n",
      "                (e.g., drizzled) then distortion components should not apply and the SIP\n",
      "                coefficients should be removed.\n",
      "\n",
      "                While the SIP distortion coefficients are being applied here, if that was indeed the intent,\n",
      "                for consistency please append \"-SIP\" to the CTYPE in the FITS header or the WCS object.\n",
      "\n",
      "                 [astropy.wcs.wcs]\n",
      "2023-07-28T16:55:51.577991: After re-realignment, offset is -0.011755724995055061 arcsec, -0.016326931806531775 arcsec using 296 matches\n"
     ]
    },
    {
     "name": "stderr",
     "output_type": "stream",
     "text": [
      "2023-07-28 16:55:52,075 - stpipe - INFO - Kept 7752 out of 9945 VVV stars using ksmag_limit>11\n"
     ]
    },
    {
     "name": "stdout",
     "output_type": "stream",
     "text": [
      "INFO: Kept 7752 out of 9945 VVV stars using ksmag_limit>11 [align_to_catalogs]\n"
     ]
    },
    {
     "name": "stderr",
     "output_type": "stream",
     "text": [
      "2023-07-28 16:55:53,455 - stpipe - INFO - For f405n merged 002 catalog /orange/adamginsburg/jwst/cloudc//F405N/pipeline/jw02221-o002_t001_nircam_clear-f405n-merged_cat.ecsv, found 9414 of 19532 sources meeting criteria mag<15\n"
     ]
    },
    {
     "name": "stdout",
     "output_type": "stream",
     "text": [
      "INFO: For f405n merged 002 catalog /orange/adamginsburg/jwst/cloudc//F405N/pipeline/jw02221-o002_t001_nircam_clear-f405n-merged_cat.ecsv, found 9414 of 19532 sources meeting criteria mag<15 [align_to_catalogs]\n"
     ]
    },
    {
     "name": "stderr",
     "output_type": "stream",
     "text": [
      "2023-07-28 16:55:53,927 - stpipe - WARNING - /blue/adamginsburg/adamginsburg/repos/astropy/astropy/wcs/wcs.py:2966: AstropyWarning: Some non-standard WCS keywords were excluded: A_ORDER, A_0_2, A_0_3, A_1_1, A_1_2, A_2_0, A_2_1, A_3_0, B_ORDER, B_0_2, B_0_3, B_1_1, B_1_2, B_2_0, B_2_1, B_3_0, AP_ORDER, AP_0_2, AP_0_3, AP_1_1, AP_1_2, AP_2_0, AP_2_1, AP_3_0, BP_ORDER, BP_0_2, BP_0_3, BP_1_1, BP_1_2, BP_2_0, BP_2_1, BP_3_0 Use the ``relax`` kwarg to control this.\n",
      "  warnings.warn(\n",
      "\n",
      "2023-07-28 16:55:53,959 - stpipe - INFO - \n",
      "                Inconsistent SIP distortion information is present in the FITS header and the WCS object:\n",
      "                SIP coefficients were detected, but CTYPE is missing a \"-SIP\" suffix.\n",
      "                astropy.wcs is using the SIP distortion coefficients,\n",
      "                therefore the coordinates calculated here might be incorrect.\n",
      "\n",
      "                If you do not want to apply the SIP distortion coefficients,\n",
      "                please remove the SIP coefficients from the FITS header or the\n",
      "                WCS object.  As an example, if the image is already distortion-corrected\n",
      "                (e.g., drizzled) then distortion components should not apply and the SIP\n",
      "                coefficients should be removed.\n",
      "\n",
      "                While the SIP distortion coefficients are being applied here, if that was indeed the intent,\n",
      "                for consistency please append \"-SIP\" to the CTYPE in the FITS header or the WCS object.\n",
      "\n",
      "                \n",
      "2023-07-28 16:55:54,002 - stpipe - INFO - \n",
      "                Inconsistent SIP distortion information is present in the FITS header and the WCS object:\n",
      "                SIP coefficients were detected, but CTYPE is missing a \"-SIP\" suffix.\n",
      "                astropy.wcs is using the SIP distortion coefficients,\n",
      "                therefore the coordinates calculated here might be incorrect.\n",
      "\n",
      "                If you do not want to apply the SIP distortion coefficients,\n",
      "                please remove the SIP coefficients from the FITS header or the\n",
      "                WCS object.  As an example, if the image is already distortion-corrected\n",
      "                (e.g., drizzled) then distortion components should not apply and the SIP\n",
      "                coefficients should be removed.\n",
      "\n",
      "                While the SIP distortion coefficients are being applied here, if that was indeed the intent,\n",
      "                for consistency please append \"-SIP\" to the CTYPE in the FITS header or the WCS object.\n",
      "\n",
      "                \n"
     ]
    },
    {
     "name": "stdout",
     "output_type": "stream",
     "text": [
      "2023-07-28T16:55:53.917932: Before realignment, offset is 0.002007317652896745 arcsec, 0.002675578568300807 arcsec.  Found 285 matches.\n",
      "2023-07-28T16:55:53.923772: CRVAL before 266.59649741972 -28.538292015868\n",
      "2023-07-28T16:55:53.933081: CRVAL after 266.59649686213 -28.536070536862\n",
      "INFO: \n",
      "                Inconsistent SIP distortion information is present in the FITS header and the WCS object:\n",
      "                SIP coefficients were detected, but CTYPE is missing a \"-SIP\" suffix.\n",
      "                astropy.wcs is using the SIP distortion coefficients,\n",
      "                therefore the coordinates calculated here might be incorrect.\n",
      "\n",
      "                If you do not want to apply the SIP distortion coefficients,\n",
      "                please remove the SIP coefficients from the FITS header or the\n",
      "                WCS object.  As an example, if the image is already distortion-corrected\n",
      "                (e.g., drizzled) then distortion components should not apply and the SIP\n",
      "                coefficients should be removed.\n",
      "\n",
      "                While the SIP distortion coefficients are being applied here, if that was indeed the intent,\n",
      "                for consistency please append \"-SIP\" to the CTYPE in the FITS header or the WCS object.\n",
      "\n",
      "                 [astropy.wcs.wcs]\n",
      "2023-07-28T16:55:53.988438: After realignment, offset is -4.1929979488486424e-07 arcsec, 0.0019345658515135256 arcsec with 283 mathces\n",
      "INFO: \n",
      "                Inconsistent SIP distortion information is present in the FITS header and the WCS object:\n",
      "                SIP coefficients were detected, but CTYPE is missing a \"-SIP\" suffix.\n",
      "                astropy.wcs is using the SIP distortion coefficients,\n",
      "                therefore the coordinates calculated here might be incorrect.\n",
      "\n",
      "                If you do not want to apply the SIP distortion coefficients,\n",
      "                please remove the SIP coefficients from the FITS header or the\n",
      "                WCS object.  As an example, if the image is already distortion-corrected\n",
      "                (e.g., drizzled) then distortion components should not apply and the SIP\n",
      "                coefficients should be removed.\n",
      "\n",
      "                While the SIP distortion coefficients are being applied here, if that was indeed the intent,\n",
      "                for consistency please append \"-SIP\" to the CTYPE in the FITS header or the WCS object.\n",
      "\n",
      "                 [astropy.wcs.wcs]\n",
      "2023-07-28T16:55:54.030828: After re-realignment, offset is -4.1929979488486424e-07 arcsec, 0.0019345658515135256 arcsec using 283 matches\n"
     ]
    },
    {
     "name": "stderr",
     "output_type": "stream",
     "text": [
      "2023-07-28 16:55:54,515 - stpipe - INFO - Kept 7752 out of 9945 VVV stars using ksmag_limit>11\n"
     ]
    },
    {
     "name": "stdout",
     "output_type": "stream",
     "text": [
      "INFO: Kept 7752 out of 9945 VVV stars using ksmag_limit>11 [align_to_catalogs]\n"
     ]
    },
    {
     "name": "stderr",
     "output_type": "stream",
     "text": [
      "2023-07-28 16:55:55,867 - stpipe - INFO - For f405n merged 002 catalog /orange/adamginsburg/jwst/cloudc//F405N/pipeline/jw02221-o002_t001_nircam_clear-f405n-merged_cat.ecsv, found 9414 of 19532 sources meeting criteria mag<15\n",
      "2023-07-28 16:55:55,934 - stpipe - WARNING - /blue/adamginsburg/adamginsburg/repos/astropy/astropy/wcs/wcs.py:2966: AstropyWarning: Some non-standard WCS keywords were excluded: A_ORDER, A_0_2, A_0_3, A_1_1, A_1_2, A_2_0, A_2_1, A_3_0, B_ORDER, B_0_2, B_0_3, B_1_1, B_1_2, B_2_0, B_2_1, B_3_0, AP_ORDER, AP_0_2, AP_0_3, AP_1_1, AP_1_2, AP_2_0, AP_2_1, AP_3_0, BP_ORDER, BP_0_2, BP_0_3, BP_1_1, BP_1_2, BP_2_0, BP_2_1, BP_3_0 Use the ``relax`` kwarg to control this.\n",
      "  warnings.warn(\n",
      "\n",
      "2023-07-28 16:55:55,967 - stpipe - INFO - \n",
      "                Inconsistent SIP distortion information is present in the FITS header and the WCS object:\n",
      "                SIP coefficients were detected, but CTYPE is missing a \"-SIP\" suffix.\n",
      "                astropy.wcs is using the SIP distortion coefficients,\n",
      "                therefore the coordinates calculated here might be incorrect.\n",
      "\n",
      "                If you do not want to apply the SIP distortion coefficients,\n",
      "                please remove the SIP coefficients from the FITS header or the\n",
      "                WCS object.  As an example, if the image is already distortion-corrected\n",
      "                (e.g., drizzled) then distortion components should not apply and the SIP\n",
      "                coefficients should be removed.\n",
      "\n",
      "                While the SIP distortion coefficients are being applied here, if that was indeed the intent,\n",
      "                for consistency please append \"-SIP\" to the CTYPE in the FITS header or the WCS object.\n",
      "\n",
      "                \n",
      "2023-07-28 16:55:56,010 - stpipe - INFO - \n",
      "                Inconsistent SIP distortion information is present in the FITS header and the WCS object:\n",
      "                SIP coefficients were detected, but CTYPE is missing a \"-SIP\" suffix.\n",
      "                astropy.wcs is using the SIP distortion coefficients,\n",
      "                therefore the coordinates calculated here might be incorrect.\n",
      "\n",
      "                If you do not want to apply the SIP distortion coefficients,\n",
      "                please remove the SIP coefficients from the FITS header or the\n",
      "                WCS object.  As an example, if the image is already distortion-corrected\n",
      "                (e.g., drizzled) then distortion components should not apply and the SIP\n",
      "                coefficients should be removed.\n",
      "\n",
      "                While the SIP distortion coefficients are being applied here, if that was indeed the intent,\n",
      "                for consistency please append \"-SIP\" to the CTYPE in the FITS header or the WCS object.\n",
      "\n",
      "                \n"
     ]
    },
    {
     "name": "stdout",
     "output_type": "stream",
     "text": [
      "INFO: For f405n merged 002 catalog /orange/adamginsburg/jwst/cloudc//F405N/pipeline/jw02221-o002_t001_nircam_clear-f405n-merged_cat.ecsv, found 9414 of 19532 sources meeting criteria mag<15 [align_to_catalogs]\n",
      "2023-07-28T16:55:55.923946: Before realignment, offset is -0.03239487418795761 arcsec, 0.015664468480736105 arcsec.  Found 247 matches.\n",
      "2023-07-28T16:55:55.930643: CRVAL before 266.59261881688 -28.556482695308\n",
      "2023-07-28T16:55:55.940434: CRVAL after 266.59262781546 -28.554264824327\n",
      "INFO: \n",
      "                Inconsistent SIP distortion information is present in the FITS header and the WCS object:\n",
      "                SIP coefficients were detected, but CTYPE is missing a \"-SIP\" suffix.\n",
      "                astropy.wcs is using the SIP distortion coefficients,\n",
      "                therefore the coordinates calculated here might be incorrect.\n",
      "\n",
      "                If you do not want to apply the SIP distortion coefficients,\n",
      "                please remove the SIP coefficients from the FITS header or the\n",
      "                WCS object.  As an example, if the image is already distortion-corrected\n",
      "                (e.g., drizzled) then distortion components should not apply and the SIP\n",
      "                coefficients should be removed.\n",
      "\n",
      "                While the SIP distortion coefficients are being applied here, if that was indeed the intent,\n",
      "                for consistency please append \"-SIP\" to the CTYPE in the FITS header or the WCS object.\n",
      "\n",
      "                 [astropy.wcs.wcs]\n",
      "2023-07-28T16:55:55.996196: After realignment, offset is -0.018925258109447896 arcsec, 0.02970653044513938 arcsec with 249 mathces\n",
      "INFO: \n",
      "                Inconsistent SIP distortion information is present in the FITS header and the WCS object:\n",
      "                SIP coefficients were detected, but CTYPE is missing a \"-SIP\" suffix.\n",
      "                astropy.wcs is using the SIP distortion coefficients,\n",
      "                therefore the coordinates calculated here might be incorrect.\n",
      "\n",
      "                If you do not want to apply the SIP distortion coefficients,\n",
      "                please remove the SIP coefficients from the FITS header or the\n",
      "                WCS object.  As an example, if the image is already distortion-corrected\n",
      "                (e.g., drizzled) then distortion components should not apply and the SIP\n",
      "                coefficients should be removed.\n",
      "\n",
      "                While the SIP distortion coefficients are being applied here, if that was indeed the intent,\n",
      "                for consistency please append \"-SIP\" to the CTYPE in the FITS header or the WCS object.\n",
      "\n",
      "                 [astropy.wcs.wcs]\n",
      "2023-07-28T16:55:56.038267: After re-realignment, offset is -0.018925258109447896 arcsec, 0.02970653044513938 arcsec using 249 matches\n"
     ]
    },
    {
     "name": "stderr",
     "output_type": "stream",
     "text": [
      "2023-07-28 16:55:56,535 - stpipe - INFO - Kept 7752 out of 9945 VVV stars using ksmag_limit>11\n"
     ]
    },
    {
     "name": "stdout",
     "output_type": "stream",
     "text": [
      "INFO: Kept 7752 out of 9945 VVV stars using ksmag_limit>11 [align_to_catalogs]\n"
     ]
    },
    {
     "name": "stderr",
     "output_type": "stream",
     "text": [
      "2023-07-28 16:55:57,866 - stpipe - INFO - For f405n merged 002 catalog /orange/adamginsburg/jwst/cloudc//F405N/pipeline/jw02221-o002_t001_nircam_clear-f405n-merged_cat.ecsv, found 9414 of 19532 sources meeting criteria mag<15\n",
      "2023-07-28 16:55:57,971 - stpipe - WARNING - /blue/adamginsburg/adamginsburg/repos/astropy/astropy/wcs/wcs.py:2966: AstropyWarning: Some non-standard WCS keywords were excluded: A_ORDER, A_0_2, A_0_3, A_1_1, A_1_2, A_2_0, A_2_1, A_3_0, B_ORDER, B_0_2, B_0_3, B_1_1, B_1_2, B_2_0, B_2_1, B_3_0, AP_ORDER, AP_0_2, AP_0_3, AP_1_1, AP_1_2, AP_2_0, AP_2_1, AP_3_0, BP_ORDER, BP_0_2, BP_0_3, BP_1_1, BP_1_2, BP_2_0, BP_2_1, BP_3_0 Use the ``relax`` kwarg to control this.\n",
      "  warnings.warn(\n",
      "\n",
      "2023-07-28 16:55:58,002 - stpipe - INFO - \n",
      "                Inconsistent SIP distortion information is present in the FITS header and the WCS object:\n",
      "                SIP coefficients were detected, but CTYPE is missing a \"-SIP\" suffix.\n",
      "                astropy.wcs is using the SIP distortion coefficients,\n",
      "                therefore the coordinates calculated here might be incorrect.\n",
      "\n",
      "                If you do not want to apply the SIP distortion coefficients,\n",
      "                please remove the SIP coefficients from the FITS header or the\n",
      "                WCS object.  As an example, if the image is already distortion-corrected\n",
      "                (e.g., drizzled) then distortion components should not apply and the SIP\n",
      "                coefficients should be removed.\n",
      "\n",
      "                While the SIP distortion coefficients are being applied here, if that was indeed the intent,\n",
      "                for consistency please append \"-SIP\" to the CTYPE in the FITS header or the WCS object.\n",
      "\n",
      "                \n",
      "2023-07-28 16:55:58,043 - stpipe - INFO - \n",
      "                Inconsistent SIP distortion information is present in the FITS header and the WCS object:\n",
      "                SIP coefficients were detected, but CTYPE is missing a \"-SIP\" suffix.\n",
      "                astropy.wcs is using the SIP distortion coefficients,\n",
      "                therefore the coordinates calculated here might be incorrect.\n",
      "\n",
      "                If you do not want to apply the SIP distortion coefficients,\n",
      "                please remove the SIP coefficients from the FITS header or the\n",
      "                WCS object.  As an example, if the image is already distortion-corrected\n",
      "                (e.g., drizzled) then distortion components should not apply and the SIP\n",
      "                coefficients should be removed.\n",
      "\n",
      "                While the SIP distortion coefficients are being applied here, if that was indeed the intent,\n",
      "                for consistency please append \"-SIP\" to the CTYPE in the FITS header or the WCS object.\n",
      "\n",
      "                \n"
     ]
    },
    {
     "name": "stdout",
     "output_type": "stream",
     "text": [
      "INFO: For f405n merged 002 catalog /orange/adamginsburg/jwst/cloudc//F405N/pipeline/jw02221-o002_t001_nircam_clear-f405n-merged_cat.ecsv, found 9414 of 19532 sources meeting criteria mag<15 [align_to_catalogs]\n",
      "2023-07-28T16:55:57.961217: Before realignment, offset is -0.03825505508530114 arcsec, -0.01992610309073939 arcsec.  Found 186 matches.\n",
      "2023-07-28T16:55:57.967050: CRVAL before 266.58460781321 -28.593550093747\n",
      "2023-07-28T16:55:57.976300: CRVAL after 266.58461843961 -28.591322336496\n",
      "INFO: \n",
      "                Inconsistent SIP distortion information is present in the FITS header and the WCS object:\n",
      "                SIP coefficients were detected, but CTYPE is missing a \"-SIP\" suffix.\n",
      "                astropy.wcs is using the SIP distortion coefficients,\n",
      "                therefore the coordinates calculated here might be incorrect.\n",
      "\n",
      "                If you do not want to apply the SIP distortion coefficients,\n",
      "                please remove the SIP coefficients from the FITS header or the\n",
      "                WCS object.  As an example, if the image is already distortion-corrected\n",
      "                (e.g., drizzled) then distortion components should not apply and the SIP\n",
      "                coefficients should be removed.\n",
      "\n",
      "                While the SIP distortion coefficients are being applied here, if that was indeed the intent,\n",
      "                for consistency please append \"-SIP\" to the CTYPE in the FITS header or the WCS object.\n",
      "\n",
      "                 [astropy.wcs.wcs]\n",
      "2023-07-28T16:55:58.029436: After realignment, offset is -0.030904571599421615 arcsec, -0.004442837087026419 arcsec with 186 mathces\n",
      "INFO: \n",
      "                Inconsistent SIP distortion information is present in the FITS header and the WCS object:\n",
      "                SIP coefficients were detected, but CTYPE is missing a \"-SIP\" suffix.\n",
      "                astropy.wcs is using the SIP distortion coefficients,\n",
      "                therefore the coordinates calculated here might be incorrect.\n",
      "\n",
      "                If you do not want to apply the SIP distortion coefficients,\n",
      "                please remove the SIP coefficients from the FITS header or the\n",
      "                WCS object.  As an example, if the image is already distortion-corrected\n",
      "                (e.g., drizzled) then distortion components should not apply and the SIP\n",
      "                coefficients should be removed.\n",
      "\n",
      "                While the SIP distortion coefficients are being applied here, if that was indeed the intent,\n",
      "                for consistency please append \"-SIP\" to the CTYPE in the FITS header or the WCS object.\n",
      "\n",
      "                 [astropy.wcs.wcs]\n",
      "2023-07-28T16:55:58.071778: After re-realignment, offset is -0.030904571599421615 arcsec, -0.004442837087026419 arcsec using 186 matches\n"
     ]
    },
    {
     "name": "stderr",
     "output_type": "stream",
     "text": [
      "2023-07-28 16:55:58,543 - stpipe - INFO - Kept 7752 out of 9945 VVV stars using ksmag_limit>11\n"
     ]
    },
    {
     "name": "stdout",
     "output_type": "stream",
     "text": [
      "INFO: Kept 7752 out of 9945 VVV stars using ksmag_limit>11 [align_to_catalogs]\n"
     ]
    },
    {
     "name": "stderr",
     "output_type": "stream",
     "text": [
      "2023-07-28 16:55:59,883 - stpipe - INFO - For f405n merged 002 catalog /orange/adamginsburg/jwst/cloudc//F405N/pipeline/jw02221-o002_t001_nircam_clear-f405n-merged_cat.ecsv, found 9414 of 19532 sources meeting criteria mag<15\n"
     ]
    },
    {
     "name": "stdout",
     "output_type": "stream",
     "text": [
      "INFO: For f405n merged 002 catalog /orange/adamginsburg/jwst/cloudc//F405N/pipeline/jw02221-o002_t001_nircam_clear-f405n-merged_cat.ecsv, found 9414 of 19532 sources meeting criteria mag<15 [align_to_catalogs]\n"
     ]
    },
    {
     "name": "stderr",
     "output_type": "stream",
     "text": [
      "2023-07-28 16:56:00,490 - stpipe - WARNING - /blue/adamginsburg/adamginsburg/repos/astropy/astropy/wcs/wcs.py:2966: AstropyWarning: Some non-standard WCS keywords were excluded: A_ORDER, A_0_2, A_0_3, A_1_1, A_1_2, A_2_0, A_2_1, A_3_0, B_ORDER, B_0_2, B_0_3, B_1_1, B_1_2, B_2_0, B_2_1, B_3_0, AP_ORDER, AP_0_2, AP_0_3, AP_1_1, AP_1_2, AP_2_0, AP_2_1, AP_3_0, BP_ORDER, BP_0_2, BP_0_3, BP_1_1, BP_1_2, BP_2_0, BP_2_1, BP_3_0 Use the ``relax`` kwarg to control this.\n",
      "  warnings.warn(\n",
      "\n",
      "2023-07-28 16:56:00,523 - stpipe - INFO - \n",
      "                Inconsistent SIP distortion information is present in the FITS header and the WCS object:\n",
      "                SIP coefficients were detected, but CTYPE is missing a \"-SIP\" suffix.\n",
      "                astropy.wcs is using the SIP distortion coefficients,\n",
      "                therefore the coordinates calculated here might be incorrect.\n",
      "\n",
      "                If you do not want to apply the SIP distortion coefficients,\n",
      "                please remove the SIP coefficients from the FITS header or the\n",
      "                WCS object.  As an example, if the image is already distortion-corrected\n",
      "                (e.g., drizzled) then distortion components should not apply and the SIP\n",
      "                coefficients should be removed.\n",
      "\n",
      "                While the SIP distortion coefficients are being applied here, if that was indeed the intent,\n",
      "                for consistency please append \"-SIP\" to the CTYPE in the FITS header or the WCS object.\n",
      "\n",
      "                \n",
      "2023-07-28 16:56:00,566 - stpipe - INFO - \n",
      "                Inconsistent SIP distortion information is present in the FITS header and the WCS object:\n",
      "                SIP coefficients were detected, but CTYPE is missing a \"-SIP\" suffix.\n",
      "                astropy.wcs is using the SIP distortion coefficients,\n",
      "                therefore the coordinates calculated here might be incorrect.\n",
      "\n",
      "                If you do not want to apply the SIP distortion coefficients,\n",
      "                please remove the SIP coefficients from the FITS header or the\n",
      "                WCS object.  As an example, if the image is already distortion-corrected\n",
      "                (e.g., drizzled) then distortion components should not apply and the SIP\n",
      "                coefficients should be removed.\n",
      "\n",
      "                While the SIP distortion coefficients are being applied here, if that was indeed the intent,\n",
      "                for consistency please append \"-SIP\" to the CTYPE in the FITS header or the WCS object.\n",
      "\n",
      "                \n"
     ]
    },
    {
     "name": "stdout",
     "output_type": "stream",
     "text": [
      "2023-07-28T16:56:00.479538: Before realignment, offset is -0.06804608123047728 arcsec, -0.025795479812984468 arcsec.  Found 260 matches.\n",
      "2023-07-28T16:56:00.486000: CRVAL before 266.59154053673 -28.55716467436\n",
      "2023-07-28T16:56:00.495632: CRVAL after 266.59155943842 -28.554935286727\n",
      "INFO: \n",
      "                Inconsistent SIP distortion information is present in the FITS header and the WCS object:\n",
      "                SIP coefficients were detected, but CTYPE is missing a \"-SIP\" suffix.\n",
      "                astropy.wcs is using the SIP distortion coefficients,\n",
      "                therefore the coordinates calculated here might be incorrect.\n",
      "\n",
      "                If you do not want to apply the SIP distortion coefficients,\n",
      "                please remove the SIP coefficients from the FITS header or the\n",
      "                WCS object.  As an example, if the image is already distortion-corrected\n",
      "                (e.g., drizzled) then distortion components should not apply and the SIP\n",
      "                coefficients should be removed.\n",
      "\n",
      "                While the SIP distortion coefficients are being applied here, if that was indeed the intent,\n",
      "                for consistency please append \"-SIP\" to the CTYPE in the FITS header or the WCS object.\n",
      "\n",
      "                 [astropy.wcs.wcs]\n",
      "2023-07-28T16:56:00.552734: After realignment, offset is -0.07771397083615739 arcsec, -0.02887844125751826 arcsec with 261 mathces\n",
      "INFO: \n",
      "                Inconsistent SIP distortion information is present in the FITS header and the WCS object:\n",
      "                SIP coefficients were detected, but CTYPE is missing a \"-SIP\" suffix.\n",
      "                astropy.wcs is using the SIP distortion coefficients,\n",
      "                therefore the coordinates calculated here might be incorrect.\n",
      "\n",
      "                If you do not want to apply the SIP distortion coefficients,\n",
      "                please remove the SIP coefficients from the FITS header or the\n",
      "                WCS object.  As an example, if the image is already distortion-corrected\n",
      "                (e.g., drizzled) then distortion components should not apply and the SIP\n",
      "                coefficients should be removed.\n",
      "\n",
      "                While the SIP distortion coefficients are being applied here, if that was indeed the intent,\n",
      "                for consistency please append \"-SIP\" to the CTYPE in the FITS header or the WCS object.\n",
      "\n",
      "                 [astropy.wcs.wcs]\n",
      "2023-07-28T16:56:00.595335: After re-realignment, offset is -0.07771397083615739 arcsec, -0.02887844125751826 arcsec using 261 matches\n"
     ]
    },
    {
     "name": "stderr",
     "output_type": "stream",
     "text": [
      "2023-07-28 16:56:01,084 - stpipe - INFO - Kept 7752 out of 9945 VVV stars using ksmag_limit>11\n"
     ]
    },
    {
     "name": "stdout",
     "output_type": "stream",
     "text": [
      "INFO: Kept 7752 out of 9945 VVV stars using ksmag_limit>11 [align_to_catalogs]\n"
     ]
    },
    {
     "name": "stderr",
     "output_type": "stream",
     "text": [
      "2023-07-28 16:56:02,490 - stpipe - INFO - For f405n merged 002 catalog /orange/adamginsburg/jwst/cloudc//F405N/pipeline/jw02221-o002_t001_nircam_clear-f405n-merged_cat.ecsv, found 9414 of 19532 sources meeting criteria mag<15\n",
      "2023-07-28 16:56:02,585 - stpipe - WARNING - /blue/adamginsburg/adamginsburg/repos/astropy/astropy/wcs/wcs.py:2966: AstropyWarning: Some non-standard WCS keywords were excluded: A_ORDER, A_0_2, A_0_3, A_1_1, A_1_2, A_2_0, A_2_1, A_3_0, B_ORDER, B_0_2, B_0_3, B_1_1, B_1_2, B_2_0, B_2_1, B_3_0, AP_ORDER, AP_0_2, AP_0_3, AP_1_1, AP_1_2, AP_2_0, AP_2_1, AP_3_0, BP_ORDER, BP_0_2, BP_0_3, BP_1_1, BP_1_2, BP_2_0, BP_2_1, BP_3_0 Use the ``relax`` kwarg to control this.\n",
      "  warnings.warn(\n",
      "\n",
      "2023-07-28 16:56:02,617 - stpipe - INFO - \n",
      "                Inconsistent SIP distortion information is present in the FITS header and the WCS object:\n",
      "                SIP coefficients were detected, but CTYPE is missing a \"-SIP\" suffix.\n",
      "                astropy.wcs is using the SIP distortion coefficients,\n",
      "                therefore the coordinates calculated here might be incorrect.\n",
      "\n",
      "                If you do not want to apply the SIP distortion coefficients,\n",
      "                please remove the SIP coefficients from the FITS header or the\n",
      "                WCS object.  As an example, if the image is already distortion-corrected\n",
      "                (e.g., drizzled) then distortion components should not apply and the SIP\n",
      "                coefficients should be removed.\n",
      "\n",
      "                While the SIP distortion coefficients are being applied here, if that was indeed the intent,\n",
      "                for consistency please append \"-SIP\" to the CTYPE in the FITS header or the WCS object.\n",
      "\n",
      "                \n",
      "2023-07-28 16:56:02,658 - stpipe - INFO - \n",
      "                Inconsistent SIP distortion information is present in the FITS header and the WCS object:\n",
      "                SIP coefficients were detected, but CTYPE is missing a \"-SIP\" suffix.\n",
      "                astropy.wcs is using the SIP distortion coefficients,\n",
      "                therefore the coordinates calculated here might be incorrect.\n",
      "\n",
      "                If you do not want to apply the SIP distortion coefficients,\n",
      "                please remove the SIP coefficients from the FITS header or the\n",
      "                WCS object.  As an example, if the image is already distortion-corrected\n",
      "                (e.g., drizzled) then distortion components should not apply and the SIP\n",
      "                coefficients should be removed.\n",
      "\n",
      "                While the SIP distortion coefficients are being applied here, if that was indeed the intent,\n",
      "                for consistency please append \"-SIP\" to the CTYPE in the FITS header or the WCS object.\n",
      "\n",
      "                \n"
     ]
    },
    {
     "name": "stdout",
     "output_type": "stream",
     "text": [
      "INFO: For f405n merged 002 catalog /orange/adamginsburg/jwst/cloudc//F405N/pipeline/jw02221-o002_t001_nircam_clear-f405n-merged_cat.ecsv, found 9414 of 19532 sources meeting criteria mag<15 [align_to_catalogs]\n",
      "2023-07-28T16:56:02.574818: Before realignment, offset is -0.00997715246739972 arcsec, 0.010978262529448557 arcsec.  Found 200 matches.\n",
      "2023-07-28T16:56:02.580819: CRVAL before 266.58377837707 -28.593542796145\n",
      "2023-07-28T16:56:02.590249: CRVAL after 266.5837811485 -28.59132362344\n",
      "INFO: \n",
      "                Inconsistent SIP distortion information is present in the FITS header and the WCS object:\n",
      "                SIP coefficients were detected, but CTYPE is missing a \"-SIP\" suffix.\n",
      "                astropy.wcs is using the SIP distortion coefficients,\n",
      "                therefore the coordinates calculated here might be incorrect.\n",
      "\n",
      "                If you do not want to apply the SIP distortion coefficients,\n",
      "                please remove the SIP coefficients from the FITS header or the\n",
      "                WCS object.  As an example, if the image is already distortion-corrected\n",
      "                (e.g., drizzled) then distortion components should not apply and the SIP\n",
      "                coefficients should be removed.\n",
      "\n",
      "                While the SIP distortion coefficients are being applied here, if that was indeed the intent,\n",
      "                for consistency please append \"-SIP\" to the CTYPE in the FITS header or the WCS object.\n",
      "\n",
      "                 [astropy.wcs.wcs]\n",
      "2023-07-28T16:56:02.644164: After realignment, offset is -0.01645709437525511 arcsec, 0.016203974610107252 arcsec with 195 mathces\n",
      "INFO: \n",
      "                Inconsistent SIP distortion information is present in the FITS header and the WCS object:\n",
      "                SIP coefficients were detected, but CTYPE is missing a \"-SIP\" suffix.\n",
      "                astropy.wcs is using the SIP distortion coefficients,\n",
      "                therefore the coordinates calculated here might be incorrect.\n",
      "\n",
      "                If you do not want to apply the SIP distortion coefficients,\n",
      "                please remove the SIP coefficients from the FITS header or the\n",
      "                WCS object.  As an example, if the image is already distortion-corrected\n",
      "                (e.g., drizzled) then distortion components should not apply and the SIP\n",
      "                coefficients should be removed.\n",
      "\n",
      "                While the SIP distortion coefficients are being applied here, if that was indeed the intent,\n",
      "                for consistency please append \"-SIP\" to the CTYPE in the FITS header or the WCS object.\n",
      "\n",
      "                 [astropy.wcs.wcs]\n",
      "2023-07-28T16:56:02.685124: After re-realignment, offset is -0.01645709437525511 arcsec, 0.016203974610107252 arcsec using 195 matches\n"
     ]
    },
    {
     "name": "stderr",
     "output_type": "stream",
     "text": [
      "2023-07-28 16:56:03,163 - stpipe - INFO - Kept 7752 out of 9945 VVV stars using ksmag_limit>11\n"
     ]
    },
    {
     "name": "stdout",
     "output_type": "stream",
     "text": [
      "INFO: Kept 7752 out of 9945 VVV stars using ksmag_limit>11 [align_to_catalogs]\n"
     ]
    },
    {
     "name": "stderr",
     "output_type": "stream",
     "text": [
      "2023-07-28 16:56:04,486 - stpipe - INFO - For f405n merged 002 catalog /orange/adamginsburg/jwst/cloudc//F405N/pipeline/jw02221-o002_t001_nircam_clear-f405n-merged_cat.ecsv, found 9414 of 19532 sources meeting criteria mag<15\n",
      "2023-07-28 16:56:04,583 - stpipe - WARNING - /blue/adamginsburg/adamginsburg/repos/astropy/astropy/wcs/wcs.py:2966: AstropyWarning: Some non-standard WCS keywords were excluded: A_ORDER, A_0_2, A_0_3, A_1_1, A_1_2, A_2_0, A_2_1, A_3_0, B_ORDER, B_0_2, B_0_3, B_1_1, B_1_2, B_2_0, B_2_1, B_3_0, AP_ORDER, AP_0_2, AP_0_3, AP_1_1, AP_1_2, AP_2_0, AP_2_1, AP_3_0, BP_ORDER, BP_0_2, BP_0_3, BP_1_1, BP_1_2, BP_2_0, BP_2_1, BP_3_0 Use the ``relax`` kwarg to control this.\n",
      "  warnings.warn(\n",
      "\n",
      "2023-07-28 16:56:04,614 - stpipe - INFO - \n",
      "                Inconsistent SIP distortion information is present in the FITS header and the WCS object:\n",
      "                SIP coefficients were detected, but CTYPE is missing a \"-SIP\" suffix.\n",
      "                astropy.wcs is using the SIP distortion coefficients,\n",
      "                therefore the coordinates calculated here might be incorrect.\n",
      "\n",
      "                If you do not want to apply the SIP distortion coefficients,\n",
      "                please remove the SIP coefficients from the FITS header or the\n",
      "                WCS object.  As an example, if the image is already distortion-corrected\n",
      "                (e.g., drizzled) then distortion components should not apply and the SIP\n",
      "                coefficients should be removed.\n",
      "\n",
      "                While the SIP distortion coefficients are being applied here, if that was indeed the intent,\n",
      "                for consistency please append \"-SIP\" to the CTYPE in the FITS header or the WCS object.\n",
      "\n",
      "                \n",
      "2023-07-28 16:56:04,656 - stpipe - INFO - \n",
      "                Inconsistent SIP distortion information is present in the FITS header and the WCS object:\n",
      "                SIP coefficients were detected, but CTYPE is missing a \"-SIP\" suffix.\n",
      "                astropy.wcs is using the SIP distortion coefficients,\n",
      "                therefore the coordinates calculated here might be incorrect.\n",
      "\n",
      "                If you do not want to apply the SIP distortion coefficients,\n",
      "                please remove the SIP coefficients from the FITS header or the\n",
      "                WCS object.  As an example, if the image is already distortion-corrected\n",
      "                (e.g., drizzled) then distortion components should not apply and the SIP\n",
      "                coefficients should be removed.\n",
      "\n",
      "                While the SIP distortion coefficients are being applied here, if that was indeed the intent,\n",
      "                for consistency please append \"-SIP\" to the CTYPE in the FITS header or the WCS object.\n",
      "\n",
      "                \n"
     ]
    },
    {
     "name": "stdout",
     "output_type": "stream",
     "text": [
      "INFO: For f405n merged 002 catalog /orange/adamginsburg/jwst/cloudc//F405N/pipeline/jw02221-o002_t001_nircam_clear-f405n-merged_cat.ecsv, found 9414 of 19532 sources meeting criteria mag<15 [align_to_catalogs]\n",
      "2023-07-28T16:56:04.572775: Before realignment, offset is -0.0013438789665087825 arcsec, -0.04238846712354416 arcsec.  Found 229 matches.\n",
      "2023-07-28T16:56:04.578843: CRVAL before 266.59154983035 -28.556436704257\n",
      "2023-07-28T16:56:04.588157: CRVAL after 266.59155020365 -28.554202707461\n",
      "INFO: \n",
      "                Inconsistent SIP distortion information is present in the FITS header and the WCS object:\n",
      "                SIP coefficients were detected, but CTYPE is missing a \"-SIP\" suffix.\n",
      "                astropy.wcs is using the SIP distortion coefficients,\n",
      "                therefore the coordinates calculated here might be incorrect.\n",
      "\n",
      "                If you do not want to apply the SIP distortion coefficients,\n",
      "                please remove the SIP coefficients from the FITS header or the\n",
      "                WCS object.  As an example, if the image is already distortion-corrected\n",
      "                (e.g., drizzled) then distortion components should not apply and the SIP\n",
      "                coefficients should be removed.\n",
      "\n",
      "                While the SIP distortion coefficients are being applied here, if that was indeed the intent,\n",
      "                for consistency please append \"-SIP\" to the CTYPE in the FITS header or the WCS object.\n",
      "\n",
      "                 [astropy.wcs.wcs]\n",
      "2023-07-28T16:56:04.642625: After realignment, offset is -0.0008404645427617652 arcsec, -0.05342468001430234 arcsec with 236 mathces\n",
      "INFO: \n",
      "                Inconsistent SIP distortion information is present in the FITS header and the WCS object:\n",
      "                SIP coefficients were detected, but CTYPE is missing a \"-SIP\" suffix.\n",
      "                astropy.wcs is using the SIP distortion coefficients,\n",
      "                therefore the coordinates calculated here might be incorrect.\n",
      "\n",
      "                If you do not want to apply the SIP distortion coefficients,\n",
      "                please remove the SIP coefficients from the FITS header or the\n",
      "                WCS object.  As an example, if the image is already distortion-corrected\n",
      "                (e.g., drizzled) then distortion components should not apply and the SIP\n",
      "                coefficients should be removed.\n",
      "\n",
      "                While the SIP distortion coefficients are being applied here, if that was indeed the intent,\n",
      "                for consistency please append \"-SIP\" to the CTYPE in the FITS header or the WCS object.\n",
      "\n",
      "                 [astropy.wcs.wcs]\n",
      "2023-07-28T16:56:04.685479: After re-realignment, offset is -0.0008404645427617652 arcsec, -0.05342468001430234 arcsec using 236 matches\n"
     ]
    }
   ],
   "source": [
    "for i in ims:\n",
    "    realigned_vvv_i = i.split('.')[0]+'_realigned.fits'\n",
    "    shutil.copy(i, realigned_vvv_i)\n",
    "    realign_to_vvv(filtername=filtername.lower(), fov_regname=fov_regname[regionname], basepath=basepath, module=module, fieldnumber=field, \n",
    "                   imfile=realigned_vvv_i, ksmag_limit=15 if filtername=='f410m' else 11, mag_limit=15, decoffset=-8*u.arcsec)"
   ]
  },
  {
   "cell_type": "code",
   "execution_count": null,
   "id": "5bc44894-2e4c-4d59-97e4-fc426b0fe666",
   "metadata": {},
   "outputs": [],
   "source": []
  },
  {
   "cell_type": "code",
   "execution_count": null,
   "id": "83b13ad5-6714-4f0d-8401-00781ac42f50",
   "metadata": {},
   "outputs": [],
   "source": []
  },
  {
   "cell_type": "code",
   "execution_count": null,
   "id": "35737fb3-f6b3-45a2-a5e8-e4f4476c9a68",
   "metadata": {},
   "outputs": [],
   "source": []
  },
  {
   "cell_type": "code",
   "execution_count": null,
   "id": "d10bcec5-f2ed-459d-b27b-3746efdb3ed7",
   "metadata": {},
   "outputs": [],
   "source": []
  }
 ],
 "metadata": {
  "kernelspec": {
   "display_name": "Python 3 (ipykernel)",
   "language": "python",
   "name": "python3"
  },
  "language_info": {
   "codemirror_mode": {
    "name": "ipython",
    "version": 3
   },
   "file_extension": ".py",
   "mimetype": "text/x-python",
   "name": "python",
   "nbconvert_exporter": "python",
   "pygments_lexer": "ipython3",
   "version": "3.9.13"
  }
 },
 "nbformat": 4,
 "nbformat_minor": 5
}
