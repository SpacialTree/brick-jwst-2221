{
 "cells": [
  {
   "cell_type": "code",
   "execution_count": 1,
   "id": "50bfbaa2-17f7-4823-8213-12bc00ac3933",
   "metadata": {},
   "outputs": [
    {
     "name": "stderr",
     "output_type": "stream",
     "text": [
      "fatal: detected dubious ownership in repository at '/blue/adamginsburg/adamginsburg/repos/dask'\n",
      "To add an exception for this directory, call:\n",
      "\n",
      "\tgit config --global --add safe.directory /blue/adamginsburg/adamginsburg/repos/dask\n"
     ]
    }
   ],
   "source": [
    "from glob import glob\n",
    "from astroquery.mast import Mast, Observations\n",
    "import os\n",
    "import shutil\n",
    "import numpy as np\n",
    "import json\n",
    "import requests\n",
    "import asdf\n",
    "from astropy import log\n",
    "from astropy.io import ascii, fits\n",
    "from astropy.utils.data import download_file\n",
    "from astropy.visualization import ImageNormalize, ManualInterval, LogStretch, LinearStretch\n",
    "import matplotlib.pyplot as plt\n",
    "import matplotlib as mpl\n",
    "from astropy.table import Table\n",
    "\n",
    "from align_to_catalogs import *\n",
    "import astropy.units as u\n",
    "from reproject.mosaicking import find_optimal_celestial_wcs"
   ]
  },
  {
   "cell_type": "code",
   "execution_count": 2,
   "id": "9e1267f7-0e6f-494c-8332-7d69fdedb3ee",
   "metadata": {},
   "outputs": [
    {
     "ename": "SyntaxError",
     "evalue": "illegal target for annotation (1589681051.py, line 4)",
     "output_type": "error",
     "traceback": [
      "\u001b[0;36m  File \u001b[0;32m\"/scratch/local/5634095/ipykernel_45564/1589681051.py\"\u001b[0;36m, line \u001b[0;32m4\u001b[0m\n\u001b[0;31m    JP-3285: Allow negative angles in engineering format. Add support for angle units by @mcara in #7683\u001b[0m\n\u001b[0m    ^\u001b[0m\n\u001b[0;31mSyntaxError\u001b[0m\u001b[0;31m:\u001b[0m illegal target for annotation\n"
     ]
    }
   ],
   "source": [
    "import jwst\n",
    "\n",
    "print(jwst.__version__)\n",
    "JP-3285: Allow negative angles in engineering format. Add support for angle units by @mcara in #7683\n"
   ]
  },
  {
   "cell_type": "code",
   "execution_count": 2,
   "id": "eefac799-6217-468a-93f4-057e49cc2c95",
   "metadata": {},
   "outputs": [],
   "source": [
    "#realign_to_catalog(reference_coordinates, filtername='f212n',\n",
    "#                       module='nrca',\n",
    "#                       basepath='/orange/adamginsburg/jwst/brick/',\n",
    "#                       fieldnumber='001',\n",
    "#                       max_offset=0.4*u.arcsec,\n",
    "#                       mag_limit=15,\n",
    "#                       catfile=None, imfile=None)\n",
    "#\n",
    "#"
   ]
  },
  {
   "cell_type": "code",
   "execution_count": 3,
   "id": "b1cab61e-c081-4712-93a7-bce4bd7a4813",
   "metadata": {},
   "outputs": [
    {
     "data": {
      "text/latex": [
       "$1 \\; \\mathrm{{}^{\\prime\\prime}}$"
      ],
      "text/plain": [
       "<Quantity 1. arcsec>"
      ]
     },
     "execution_count": 3,
     "metadata": {},
     "output_type": "execute_result"
    }
   ],
   "source": [
    "0 + 1*u.arcsec"
   ]
  },
  {
   "cell_type": "code",
   "execution_count": 4,
   "id": "2f373695-4f08-461f-a619-a0da9ae15e9b",
   "metadata": {},
   "outputs": [],
   "source": [
    "fov_regname = {'brick': 'regions/nircam_brick_fov.reg',\n",
    "              'cloudc': 'regions/nircam_cloudc_fov.reg',\n",
    "              }\n",
    "regionname = 'cloudc'\n",
    "basepath = f'/orange/adamginsburg/jwst/{regionname}/'\n",
    "filtername = 'F405N'\n",
    "field = '002' \n",
    "module = 'merged'\n",
    "output_dir = f'/orange/adamginsburg/jwst/{regionname}/{filtername}/pipeline/'"
   ]
  },
  {
   "cell_type": "code",
   "execution_count": 5,
   "id": "f6be1e8b-8c57-41e8-91d6-e3b712056c67",
   "metadata": {},
   "outputs": [
    {
     "data": {
      "text/plain": [
       "'/orange/adamginsburg/jwst/cloudc/F405N/pipeline/jw02221002002_02201_00002_nrcalong_destreak_realigned_to_vvv.fits'"
      ]
     },
     "execution_count": 5,
     "metadata": {},
     "output_type": "execute_result"
    }
   ],
   "source": [
    "imfile = '/orange/adamginsburg/jwst/cloudc/F405N/pipeline/jw02221002002_02201_00002_nrcalong_destreak.fits'\n",
    "imfile_realigned = '/orange/adamginsburg/jwst/cloudc/F405N/pipeline/jw02221002002_02201_00002_nrcalong_destreak_realigned_to_vvv.fits'\n",
    "shutil.copy(imfile, imfile_realigned)"
   ]
  },
  {
   "cell_type": "code",
   "execution_count": 6,
   "id": "9de9ce7c-87e5-46ab-bff6-8a2a55600d2e",
   "metadata": {},
   "outputs": [],
   "source": [
    "reference_catalog = '/orange/adamginsburg/jwst/cloudc/F405N/pipeline/jw02221-o002_t001_nircam_clear-F405N-merged_vvvcat.fits'"
   ]
  },
  {
   "cell_type": "code",
   "execution_count": 7,
   "id": "a765f1cd-a049-4c4e-9346-97011584d4c2",
   "metadata": {},
   "outputs": [],
   "source": [
    "reftbl = Table.read(reference_catalog)"
   ]
  },
  {
   "cell_type": "code",
   "execution_count": 8,
   "id": "3bf1534f-2a12-49c5-b213-79a3f0c2a5fa",
   "metadata": {},
   "outputs": [],
   "source": [
    "reference_coordinates = reftbl['skycoord']"
   ]
  },
  {
   "cell_type": "code",
   "execution_count": 9,
   "id": "8bc18a98-d9ce-42dd-b070-b216deaf2b49",
   "metadata": {},
   "outputs": [
    {
     "data": {
      "text/plain": [
       "<SkyCoord (FK5: equinox=J2000.000): (ra, dec) in deg\n",
       "    [(266.581129, -28.666482), (266.594517, -28.666434),\n",
       "     (266.604305, -28.663877), ..., (266.555803, -28.513283),\n",
       "     (266.560494, -28.514834), (266.559398, -28.51401 )]>"
      ]
     },
     "execution_count": 9,
     "metadata": {},
     "output_type": "execute_result"
    }
   ],
   "source": [
    "reftbl['skycoord']"
   ]
  },
  {
   "cell_type": "code",
   "execution_count": 10,
   "id": "c6e91653-120a-48a3-a216-84f4012f0ae0",
   "metadata": {},
   "outputs": [],
   "source": [
    "cat_file = '/orange/adamginsburg/jwst/cloudc/F405N/pipeline/jw02221-o002_t001_nircam_clear-f405n-merged_cat.ecsv'\n",
    "cat = Table.read(cat_file)"
   ]
  },
  {
   "cell_type": "code",
   "execution_count": 15,
   "id": "0f49213c-3cad-4aae-bd78-fa151214dafa",
   "metadata": {
    "tags": []
   },
   "outputs": [],
   "source": [
    "#cat['xcentroid'], cat['ycentroid']"
   ]
  },
  {
   "cell_type": "code",
   "execution_count": 12,
   "id": "21cb35b9-f6df-4152-bf14-57d4486ab55b",
   "metadata": {},
   "outputs": [
    {
     "name": "stderr",
     "output_type": "stream",
     "text": [
      "WARNING: FITSFixedWarning: 'datfix' made the change 'Set DATE-BEG to '2023-04-25T04:14:05.997' from MJD-BEG.\n",
      "Set DATE-AVG to '2023-04-25T04:14:32.839' from MJD-AVG.\n",
      "Set DATE-END to '2023-04-25T04:14:59.681' from MJD-END'. [astropy.wcs.wcs]\n",
      "WARNING: FITSFixedWarning: 'obsfix' made the change 'Set OBSGEO-L to  -120.023434 from OBSGEO-[XYZ].\n",
      "Set OBSGEO-B to   -11.485975 from OBSGEO-[XYZ].\n",
      "Set OBSGEO-H to 1386082407.725 from OBSGEO-[XYZ]'. [astropy.wcs.wcs]\n"
     ]
    },
    {
     "data": {
      "text/plain": [
       "WCS Keywords\n",
       "\n",
       "Number of WCS axes: 2\n",
       "CTYPE : 'RA---TAN-SIP'  'DEC--TAN-SIP'  \n",
       "CRVAL : 266.59237008461  -28.557172894513  \n",
       "CRPIX : 1024.5  1024.5  \n",
       "CD1_1 CD1_2  : -1.6126880967505e-06  -1.7440453913269e-05  \n",
       "CD2_1 CD2_2  : -1.7358691201541e-05  1.6484453417233e-06  \n",
       "NAXIS : 2048  2048"
      ]
     },
     "execution_count": 12,
     "metadata": {},
     "output_type": "execute_result"
    }
   ],
   "source": [
    "ww =  WCS(fits.getheader(imfile, ext=('SCI', 1)))\n",
    "ww"
   ]
  },
  {
   "cell_type": "code",
   "execution_count": 13,
   "id": "c67ca62b-0c1f-45f0-b109-46ccadcb52f3",
   "metadata": {},
   "outputs": [
    {
     "data": {
      "text/plain": [
       "<SkyCoord (ICRS): (ra, dec) in deg\n",
       "    [(266.6116505 , -28.56882209), (266.61113913, -28.57424765),\n",
       "     (266.61090323, -28.57649018), ..., (266.54867726, -28.65584137),\n",
       "     (266.54533313, -28.67274956), (266.54349879, -28.68148105)]>"
      ]
     },
     "execution_count": 13,
     "metadata": {},
     "output_type": "execute_result"
    }
   ],
   "source": [
    "skycrds_cat = ww.pixel_to_world(cat['xcentroid'], cat['ycentroid'])\n",
    "skycrds_cat"
   ]
  },
  {
   "cell_type": "code",
   "execution_count": 16,
   "id": "c14eca8b-b133-462e-8b2c-b1f1b051c1b2",
   "metadata": {},
   "outputs": [
    {
     "data": {
      "text/plain": [
       "array([266.59237008, -28.55717289])"
      ]
     },
     "execution_count": 16,
     "metadata": {},
     "output_type": "execute_result"
    }
   ],
   "source": [
    "ww.wcs.crval"
   ]
  },
  {
   "cell_type": "code",
   "execution_count": 17,
   "id": "16abe73a-e9b1-4a7b-970e-2e6a847cc49a",
   "metadata": {},
   "outputs": [],
   "source": [
    "#ww.wcs.crval = ww.wcs.crval - [(0.1*u.arcsec).to(u.deg).value, (0.1*u.arcsec).to(u.deg).value]\n",
    "#ww.wcs.crval"
   ]
  },
  {
   "cell_type": "code",
   "execution_count": null,
   "id": "c1db04e6-e808-4ff1-90a6-4fd1e3cfb733",
   "metadata": {},
   "outputs": [],
   "source": []
  },
  {
   "cell_type": "code",
   "execution_count": null,
   "id": "05fce3c0-5d8b-4168-bba1-6632eb5618a9",
   "metadata": {},
   "outputs": [],
   "source": []
  },
  {
   "cell_type": "code",
   "execution_count": 18,
   "id": "f47e9ac5-d450-4753-967d-050aefc9ab40",
   "metadata": {},
   "outputs": [],
   "source": [
    "#realign_to_catalog(reference_coordinates=reference_coordinates, filtername=filtername.lower(), module=module, \n",
    "#                   basepath=basepath, fieldnumber=field, imfile=imfile_realigned, decoffset=-8*u.arcsec)"
   ]
  },
  {
   "cell_type": "code",
   "execution_count": 19,
   "id": "6b6c6bb4-81fe-43f0-a845-2f3f2647765c",
   "metadata": {},
   "outputs": [],
   "source": [
    "from jwst.scripts import asn_edit"
   ]
  },
  {
   "cell_type": "code",
   "execution_count": 19,
   "id": "dc283abb-1196-4b5b-9e74-cc80ffaa634f",
   "metadata": {
    "collapsed": true,
    "jupyter": {
     "outputs_hidden": true
    },
    "tags": []
   },
   "outputs": [
    {
     "data": {
      "text/plain": [
       "\u001b[0;31mType:\u001b[0m        module\n",
       "\u001b[0;31mString form:\u001b[0m <module 'jwst.scripts.asn_edit' from '/blue/adamginsburg/adamginsburg/repos/jwst/jwst/scripts/asn_edit.py'>\n",
       "\u001b[0;31mFile:\u001b[0m        /blue/adamginsburg/adamginsburg/repos/jwst/jwst/scripts/asn_edit.py\n",
       "\u001b[0;31mSource:\u001b[0m     \n",
       "\u001b[0;31m#!/usr/bin/env python\u001b[0m\u001b[0;34m\u001b[0m\n",
       "\u001b[0;34m\u001b[0m\u001b[0;34m\u001b[0m\n",
       "\u001b[0;34m\u001b[0m\u001b[0;32mimport\u001b[0m \u001b[0margparse\u001b[0m\u001b[0;34m\u001b[0m\n",
       "\u001b[0;34m\u001b[0m\u001b[0;34m\u001b[0m\n",
       "\u001b[0;34m\u001b[0m\u001b[0;32mfrom\u001b[0m \u001b[0mjwst\u001b[0m\u001b[0;34m.\u001b[0m\u001b[0massociations\u001b[0m \u001b[0;32mimport\u001b[0m \u001b[0masn_edit\u001b[0m\u001b[0;34m\u001b[0m\n",
       "\u001b[0;34m\u001b[0m\u001b[0;34m\u001b[0m\n",
       "\u001b[0;34m\u001b[0m\u001b[0;34m\u001b[0m\n",
       "\u001b[0;34m\u001b[0m\u001b[0;32mdef\u001b[0m \u001b[0mmain\u001b[0m\u001b[0;34m(\u001b[0m\u001b[0;34m)\u001b[0m\u001b[0;34m:\u001b[0m\u001b[0;34m\u001b[0m\n",
       "\u001b[0;34m\u001b[0m    \u001b[0;34m\"\"\"\u001b[0m\n",
       "\u001b[0;34m    Parse command line, read, edit, write association file\u001b[0m\n",
       "\u001b[0;34m    \"\"\"\u001b[0m\u001b[0;34m\u001b[0m\n",
       "\u001b[0;34m\u001b[0m\u001b[0;34m\u001b[0m\n",
       "\u001b[0;34m\u001b[0m    \u001b[0;31m# Parse command line arguments\u001b[0m\u001b[0;34m\u001b[0m\n",
       "\u001b[0;34m\u001b[0m    \u001b[0mdescription_text\u001b[0m \u001b[0;34m=\u001b[0m \u001b[0;34m\"\"\"\u001b[0m\n",
       "\u001b[0;34mEdit Association File\u001b[0m\n",
       "\u001b[0;34m\u001b[0m\n",
       "\u001b[0;34mThis script adds or removes filenames from an association file. The\u001b[0m\n",
       "\u001b[0;34mfirst argument is the name of the association file. Subsequent\u001b[0m\n",
       "\u001b[0;34marguments are the filenames. Options determine which operation is\u001b[0m\n",
       "\u001b[0;34mperformed: --add or --remove. If adding files the --type option sets\u001b[0m\n",
       "\u001b[0;34mthe exposure type for the new files. If removing file, the --ignore\u001b[0m\n",
       "\u001b[0;34moption will not use the filename suffix when matching the filenames for\u001b[0m\n",
       "\u001b[0;34mremoval. Normally the output association file is the same as the input.\u001b[0m\n",
       "\u001b[0;34mThe --output option allows you to set a different filename. All options\u001b[0m\n",
       "\u001b[0;34mcan be abbreviated to their first letter.\u001b[0m\n",
       "\u001b[0;34m\u001b[0m\n",
       "\u001b[0;34mWhen adding files to an association, the file must exist on the disk.\u001b[0m\n",
       "\u001b[0;34mWhen removing files, the filename must be found in the association. If\u001b[0m\n",
       "\u001b[0;34mnot, no change will be made to the file.\u001b[0m\n",
       "\u001b[0;34m    \"\"\"\u001b[0m\u001b[0;34m\u001b[0m\n",
       "\u001b[0;34m\u001b[0m    \u001b[0mparser\u001b[0m \u001b[0;34m=\u001b[0m \u001b[0margparse\u001b[0m\u001b[0;34m.\u001b[0m\u001b[0mArgumentParser\u001b[0m\u001b[0;34m(\u001b[0m\u001b[0;34m\u001b[0m\n",
       "\u001b[0;34m\u001b[0m        \u001b[0mdescription\u001b[0m\u001b[0;34m=\u001b[0m\u001b[0mdescription_text\u001b[0m\u001b[0;34m,\u001b[0m\u001b[0;34m\u001b[0m\n",
       "\u001b[0;34m\u001b[0m        \u001b[0mformatter_class\u001b[0m\u001b[0;34m=\u001b[0m\u001b[0margparse\u001b[0m\u001b[0;34m.\u001b[0m\u001b[0mRawDescriptionHelpFormatter\u001b[0m\u001b[0;34m,\u001b[0m\u001b[0;34m\u001b[0m\n",
       "\u001b[0;34m\u001b[0m    \u001b[0;34m)\u001b[0m\u001b[0;34m\u001b[0m\n",
       "\u001b[0;34m\u001b[0m\u001b[0;34m\u001b[0m\n",
       "\u001b[0;34m\u001b[0m    \u001b[0marg_group\u001b[0m \u001b[0;34m=\u001b[0m \u001b[0mparser\u001b[0m\u001b[0;34m.\u001b[0m\u001b[0madd_mutually_exclusive_group\u001b[0m\u001b[0;34m(\u001b[0m\u001b[0;34m)\u001b[0m\u001b[0;34m\u001b[0m\n",
       "\u001b[0;34m\u001b[0m    \u001b[0marg_group\u001b[0m\u001b[0;34m.\u001b[0m\u001b[0madd_argument\u001b[0m\u001b[0;34m(\u001b[0m\u001b[0;34m\u001b[0m\n",
       "\u001b[0;34m\u001b[0m        \u001b[0;34m'-a'\u001b[0m\u001b[0;34m,\u001b[0m \u001b[0;34m'--add'\u001b[0m\u001b[0;34m,\u001b[0m \u001b[0maction\u001b[0m\u001b[0;34m=\u001b[0m\u001b[0;34m'store_true'\u001b[0m\u001b[0;34m,\u001b[0m \u001b[0mhelp\u001b[0m\u001b[0;34m=\u001b[0m\u001b[0;34m'Add files to association'\u001b[0m\u001b[0;34m\u001b[0m\n",
       "\u001b[0;34m\u001b[0m    \u001b[0;34m)\u001b[0m\u001b[0;34m\u001b[0m\n",
       "\u001b[0;34m\u001b[0m    \u001b[0marg_group\u001b[0m\u001b[0;34m.\u001b[0m\u001b[0madd_argument\u001b[0m\u001b[0;34m(\u001b[0m\u001b[0;34m\u001b[0m\n",
       "\u001b[0;34m\u001b[0m        \u001b[0;34m'-r'\u001b[0m\u001b[0;34m,\u001b[0m \u001b[0;34m'--remove'\u001b[0m\u001b[0;34m,\u001b[0m \u001b[0maction\u001b[0m\u001b[0;34m=\u001b[0m\u001b[0;34m'store_true'\u001b[0m\u001b[0;34m,\u001b[0m \u001b[0mhelp\u001b[0m\u001b[0;34m=\u001b[0m\u001b[0;34m'Remove files to association'\u001b[0m\u001b[0;34m\u001b[0m\n",
       "\u001b[0;34m\u001b[0m    \u001b[0;34m)\u001b[0m\u001b[0;34m\u001b[0m\n",
       "\u001b[0;34m\u001b[0m\u001b[0;34m\u001b[0m\n",
       "\u001b[0;34m\u001b[0m    \u001b[0mparser\u001b[0m\u001b[0;34m.\u001b[0m\u001b[0madd_argument\u001b[0m\u001b[0;34m(\u001b[0m\u001b[0;34m\u001b[0m\n",
       "\u001b[0;34m\u001b[0m        \u001b[0;34m'-t'\u001b[0m\u001b[0;34m,\u001b[0m \u001b[0;34m'--type'\u001b[0m\u001b[0;34m,\u001b[0m \u001b[0mdefault\u001b[0m\u001b[0;34m=\u001b[0m\u001b[0;34m'science'\u001b[0m\u001b[0;34m,\u001b[0m \u001b[0mhelp\u001b[0m\u001b[0;34m=\u001b[0m\u001b[0;34m'Exptype, if adding filenames'\u001b[0m\u001b[0;34m\u001b[0m\n",
       "\u001b[0;34m\u001b[0m    \u001b[0;34m)\u001b[0m\u001b[0;34m\u001b[0m\n",
       "\u001b[0;34m\u001b[0m    \u001b[0mparser\u001b[0m\u001b[0;34m.\u001b[0m\u001b[0madd_argument\u001b[0m\u001b[0;34m(\u001b[0m\u001b[0;34m\u001b[0m\n",
       "\u001b[0;34m\u001b[0m        \u001b[0;34m'-i'\u001b[0m\u001b[0;34m,\u001b[0m\u001b[0;34m\u001b[0m\n",
       "\u001b[0;34m\u001b[0m        \u001b[0;34m'--ignore'\u001b[0m\u001b[0;34m,\u001b[0m\u001b[0;34m\u001b[0m\n",
       "\u001b[0;34m\u001b[0m        \u001b[0maction\u001b[0m\u001b[0;34m=\u001b[0m\u001b[0;34m'store_true'\u001b[0m\u001b[0;34m,\u001b[0m\u001b[0;34m\u001b[0m\n",
       "\u001b[0;34m\u001b[0m        \u001b[0mhelp\u001b[0m\u001b[0;34m=\u001b[0m\u001b[0;34m'Ignore suffix on filename when matching'\u001b[0m\u001b[0;34m,\u001b[0m\u001b[0;34m\u001b[0m\n",
       "\u001b[0;34m\u001b[0m    \u001b[0;34m)\u001b[0m\u001b[0;34m\u001b[0m\n",
       "\u001b[0;34m\u001b[0m\u001b[0;34m\u001b[0m\n",
       "\u001b[0;34m\u001b[0m    \u001b[0mparser\u001b[0m\u001b[0;34m.\u001b[0m\u001b[0madd_argument\u001b[0m\u001b[0;34m(\u001b[0m\u001b[0;34m\u001b[0m\n",
       "\u001b[0;34m\u001b[0m        \u001b[0;34m'-o'\u001b[0m\u001b[0;34m,\u001b[0m \u001b[0;34m'--output'\u001b[0m\u001b[0;34m,\u001b[0m \u001b[0mhelp\u001b[0m\u001b[0;34m=\u001b[0m\u001b[0;34m'Output association name if different than input'\u001b[0m\u001b[0;34m\u001b[0m\n",
       "\u001b[0;34m\u001b[0m    \u001b[0;34m)\u001b[0m\u001b[0;34m\u001b[0m\n",
       "\u001b[0;34m\u001b[0m\u001b[0;34m\u001b[0m\n",
       "\u001b[0;34m\u001b[0m    \u001b[0mparser\u001b[0m\u001b[0;34m.\u001b[0m\u001b[0madd_argument\u001b[0m\u001b[0;34m(\u001b[0m\u001b[0;34m'association'\u001b[0m\u001b[0;34m,\u001b[0m \u001b[0mhelp\u001b[0m\u001b[0;34m=\u001b[0m\u001b[0;34m'The association file name'\u001b[0m\u001b[0;34m)\u001b[0m\u001b[0;34m\u001b[0m\n",
       "\u001b[0;34m\u001b[0m\u001b[0;34m\u001b[0m\n",
       "\u001b[0;34m\u001b[0m    \u001b[0mparser\u001b[0m\u001b[0;34m.\u001b[0m\u001b[0madd_argument\u001b[0m\u001b[0;34m(\u001b[0m\u001b[0;34m'filenames'\u001b[0m\u001b[0;34m,\u001b[0m \u001b[0mnargs\u001b[0m\u001b[0;34m=\u001b[0m\u001b[0;34m'+'\u001b[0m\u001b[0;34m,\u001b[0m \u001b[0mhelp\u001b[0m\u001b[0;34m=\u001b[0m\u001b[0;34m'The filenames to process'\u001b[0m\u001b[0;34m)\u001b[0m\u001b[0;34m\u001b[0m\n",
       "\u001b[0;34m\u001b[0m\u001b[0;34m\u001b[0m\n",
       "\u001b[0;34m\u001b[0m    \u001b[0margs\u001b[0m \u001b[0;34m=\u001b[0m \u001b[0mparser\u001b[0m\u001b[0;34m.\u001b[0m\u001b[0mparse_args\u001b[0m\u001b[0;34m(\u001b[0m\u001b[0;34m)\u001b[0m\u001b[0;34m\u001b[0m\n",
       "\u001b[0;34m\u001b[0m\u001b[0;34m\u001b[0m\n",
       "\u001b[0;34m\u001b[0m    \u001b[0;31m# Read the association into memory\u001b[0m\u001b[0;34m\u001b[0m\n",
       "\u001b[0;34m\u001b[0m    \u001b[0masn\u001b[0m \u001b[0;34m=\u001b[0m \u001b[0masn_edit\u001b[0m\u001b[0;34m.\u001b[0m\u001b[0mreader\u001b[0m\u001b[0;34m(\u001b[0m\u001b[0margs\u001b[0m\u001b[0;34m.\u001b[0m\u001b[0massociation\u001b[0m\u001b[0;34m)\u001b[0m\u001b[0;34m\u001b[0m\n",
       "\u001b[0;34m\u001b[0m\u001b[0;34m\u001b[0m\n",
       "\u001b[0;34m\u001b[0m    \u001b[0;31m# Either add or remove filenames\u001b[0m\u001b[0;34m\u001b[0m\n",
       "\u001b[0;34m\u001b[0m    \u001b[0;32mif\u001b[0m \u001b[0margs\u001b[0m\u001b[0;34m.\u001b[0m\u001b[0madd\u001b[0m\u001b[0;34m:\u001b[0m\u001b[0;34m\u001b[0m\n",
       "\u001b[0;34m\u001b[0m        \u001b[0masn_edit\u001b[0m\u001b[0;34m.\u001b[0m\u001b[0madd\u001b[0m\u001b[0;34m(\u001b[0m\u001b[0masn\u001b[0m\u001b[0;34m,\u001b[0m \u001b[0margs\u001b[0m\u001b[0;34m.\u001b[0m\u001b[0mfilenames\u001b[0m\u001b[0;34m,\u001b[0m \u001b[0margs\u001b[0m\u001b[0;34m.\u001b[0m\u001b[0mtype\u001b[0m\u001b[0;34m)\u001b[0m\u001b[0;34m\u001b[0m\n",
       "\u001b[0;34m\u001b[0m    \u001b[0;32melif\u001b[0m \u001b[0margs\u001b[0m\u001b[0;34m.\u001b[0m\u001b[0mremove\u001b[0m\u001b[0;34m:\u001b[0m\u001b[0;34m\u001b[0m\n",
       "\u001b[0;34m\u001b[0m        \u001b[0masn_edit\u001b[0m\u001b[0;34m.\u001b[0m\u001b[0mremove\u001b[0m\u001b[0;34m(\u001b[0m\u001b[0masn\u001b[0m\u001b[0;34m,\u001b[0m \u001b[0margs\u001b[0m\u001b[0;34m.\u001b[0m\u001b[0mfilenames\u001b[0m\u001b[0;34m,\u001b[0m \u001b[0margs\u001b[0m\u001b[0;34m.\u001b[0m\u001b[0mignore\u001b[0m\u001b[0;34m)\u001b[0m\u001b[0;34m\u001b[0m\n",
       "\u001b[0;34m\u001b[0m\u001b[0;34m\u001b[0m\n",
       "\u001b[0;34m\u001b[0m    \u001b[0;31m# Write the edited file out again\u001b[0m\u001b[0;34m\u001b[0m\n",
       "\u001b[0;34m\u001b[0m    \u001b[0;32mif\u001b[0m \u001b[0margs\u001b[0m\u001b[0;34m.\u001b[0m\u001b[0moutput\u001b[0m\u001b[0;34m:\u001b[0m\u001b[0;34m\u001b[0m\n",
       "\u001b[0;34m\u001b[0m        \u001b[0moutput_file\u001b[0m \u001b[0;34m=\u001b[0m \u001b[0margs\u001b[0m\u001b[0;34m.\u001b[0m\u001b[0moutput\u001b[0m\u001b[0;34m\u001b[0m\n",
       "\u001b[0;34m\u001b[0m    \u001b[0;32melse\u001b[0m\u001b[0;34m:\u001b[0m\u001b[0;34m\u001b[0m\n",
       "\u001b[0;34m\u001b[0m        \u001b[0moutput_file\u001b[0m \u001b[0;34m=\u001b[0m \u001b[0margs\u001b[0m\u001b[0;34m.\u001b[0m\u001b[0massociation\u001b[0m\u001b[0;34m\u001b[0m\n",
       "\u001b[0;34m\u001b[0m    \u001b[0masn_edit\u001b[0m\u001b[0;34m.\u001b[0m\u001b[0mwriter\u001b[0m\u001b[0;34m(\u001b[0m\u001b[0masn\u001b[0m\u001b[0;34m,\u001b[0m \u001b[0moutput_file\u001b[0m\u001b[0;34m)\u001b[0m\u001b[0;34m\u001b[0m\n",
       "\u001b[0;34m\u001b[0m\u001b[0;34m\u001b[0m\n",
       "\u001b[0;34m\u001b[0m\u001b[0;34m\u001b[0m\n",
       "\u001b[0;34m\u001b[0m\u001b[0;32mif\u001b[0m \u001b[0m__name__\u001b[0m \u001b[0;34m==\u001b[0m \u001b[0;34m'__main__'\u001b[0m\u001b[0;34m:\u001b[0m\u001b[0;34m\u001b[0m\n",
       "\u001b[0;34m\u001b[0m    \u001b[0mmain\u001b[0m\u001b[0;34m(\u001b[0m\u001b[0;34m)\u001b[0m\u001b[0;34m\u001b[0m\u001b[0;34m\u001b[0m\u001b[0m\n"
      ]
     },
     "metadata": {},
     "output_type": "display_data"
    }
   ],
   "source": [
    "asn_edit??"
   ]
  },
  {
   "cell_type": "code",
   "execution_count": 20,
   "id": "d9197ff1-7e55-4ab8-892e-ef49fad71585",
   "metadata": {},
   "outputs": [
    {
     "data": {
      "text/plain": [
       "'/orange/adamginsburg/jwst/cloudc/F405N/pipeline/jw02221-o002_20230622t004213_image3_00004_nrca_asn_copy.json'"
      ]
     },
     "execution_count": 20,
     "metadata": {},
     "output_type": "execute_result"
    }
   ],
   "source": [
    "shutil.copy('/orange/adamginsburg/jwst/cloudc/F405N/pipeline/jw02221-o002_20230622t004213_image3_00004_nrca_asn.json', \n",
    "            '/orange/adamginsburg/jwst/cloudc/F405N/pipeline/jw02221-o002_20230622t004213_image3_00004_nrca_asn_copy.json')"
   ]
  },
  {
   "cell_type": "code",
   "execution_count": 22,
   "id": "25d105ae-77f9-4065-b38a-1c5ed040555b",
   "metadata": {},
   "outputs": [
    {
     "ename": "TypeError",
     "evalue": "'module' object is not callable",
     "output_type": "error",
     "traceback": [
      "\u001b[0;31m---------------------------------------------------------------------------\u001b[0m",
      "\u001b[0;31mTypeError\u001b[0m                                 Traceback (most recent call last)",
      "\u001b[0;32m/scratch/local/4053052/ipykernel_9621/3294215917.py\u001b[0m in \u001b[0;36m<module>\u001b[0;34m\u001b[0m\n\u001b[0;32m----> 1\u001b[0;31m \u001b[0masn_edit\u001b[0m\u001b[0;34m(\u001b[0m\u001b[0;34m'/orange/adamginsburg/jwst/cloudc/F405N/pipeline/jw02221-o002_20230622t004213_image3_00004_nrca_asn_copy.json'\u001b[0m\u001b[0;34m)\u001b[0m\u001b[0;34m\u001b[0m\u001b[0;34m\u001b[0m\u001b[0m\n\u001b[0m",
      "\u001b[0;31mTypeError\u001b[0m: 'module' object is not callable"
     ]
    }
   ],
   "source": [
    "asn_edit('/orange/adamginsburg/jwst/cloudc/F405N/pipeline/jw02221-o002_20230622t004213_image3_00004_nrca_asn_copy.json')"
   ]
  },
  {
   "cell_type": "code",
   "execution_count": null,
   "id": "d18f79c0-bd1b-4965-85e1-2e092ff76ab7",
   "metadata": {},
   "outputs": [],
   "source": [
    "#realign_to_vvv(filtername=filtername.lower(), fov_regname=fov_regname[regionname], basepath=basepath, module=module, fieldnumber=field,\n",
    "#                                   imfile=realigned_vvv_filename, ksmag_limit=15 if filtername=='f410m' else 11, mag_limit=15)"
   ]
  },
  {
   "cell_type": "code",
   "execution_count": 5,
   "id": "b3c76c43-dc4a-4c81-991b-1694aa7a19a4",
   "metadata": {},
   "outputs": [
    {
     "data": {
      "text/plain": [
       "['/orange/adamginsburg/jwst/cloudc/F405N/pipeline/jw02221002002_08201_00001_nrcalong_destreak.fits',\n",
       " '/orange/adamginsburg/jwst/cloudc/F405N/pipeline/jw02221002001_08201_00002_nrcalong_destreak.fits',\n",
       " '/orange/adamginsburg/jwst/cloudc/F405N/pipeline/jw02221002001_02201_00003_nrcalong_destreak.fits',\n",
       " '/orange/adamginsburg/jwst/cloudc/F405N/pipeline/jw02221002002_02201_00002_nrcalong_destreak.fits',\n",
       " '/orange/adamginsburg/jwst/cloudc/F405N/pipeline/jw02221002001_08201_00004_nrcalong_destreak.fits',\n",
       " '/orange/adamginsburg/jwst/cloudc/F405N/pipeline/jw02221002001_08201_00003_nrcalong_destreak.fits',\n",
       " '/orange/adamginsburg/jwst/cloudc/F405N/pipeline/jw02221002002_08201_00002_nrcalong_destreak.fits',\n",
       " '/orange/adamginsburg/jwst/cloudc/F405N/pipeline/jw02221002001_08201_00001_nrcalong_destreak.fits',\n",
       " '/orange/adamginsburg/jwst/cloudc/F405N/pipeline/jw02221002001_02201_00004_nrcalong_destreak.fits',\n",
       " '/orange/adamginsburg/jwst/cloudc/F405N/pipeline/jw02221002002_08201_00003_nrcalong_destreak.fits',\n",
       " '/orange/adamginsburg/jwst/cloudc/F405N/pipeline/jw02221002002_08201_00004_nrcalong_destreak.fits',\n",
       " '/orange/adamginsburg/jwst/cloudc/F405N/pipeline/jw02221002002_02201_00004_nrcalong_destreak.fits',\n",
       " '/orange/adamginsburg/jwst/cloudc/F405N/pipeline/jw02221002001_02201_00002_nrcalong_destreak.fits',\n",
       " '/orange/adamginsburg/jwst/cloudc/F405N/pipeline/jw02221002002_02201_00001_nrcalong_destreak.fits',\n",
       " '/orange/adamginsburg/jwst/cloudc/F405N/pipeline/jw02221002001_02201_00001_nrcalong_destreak.fits',\n",
       " '/orange/adamginsburg/jwst/cloudc/F405N/pipeline/jw02221002002_02201_00003_nrcalong_destreak.fits']"
      ]
     },
     "execution_count": 5,
     "metadata": {},
     "output_type": "execute_result"
    }
   ],
   "source": [
    "ims = glob(os.path.join(output_dir, f'*nrca*_destreak.fits'))\n",
    "ims"
   ]
  },
  {
   "cell_type": "code",
   "execution_count": 6,
   "id": "f8f64543-1334-46ff-abc4-1d3df1988848",
   "metadata": {},
   "outputs": [
    {
     "data": {
      "text/plain": [
       "'/orange/adamginsburg/jwst/cloudc/F405N/pipeline/jw02221002002_08201_00001_nrcalong_destreak_realigned.fits'"
      ]
     },
     "execution_count": 6,
     "metadata": {},
     "output_type": "execute_result"
    }
   ],
   "source": [
    "i = ims[0]\n",
    "i1 = i.split('.')[0]+'_realigned.fits'\n",
    "i1"
   ]
  },
  {
   "cell_type": "code",
   "execution_count": 21,
   "id": "5c48e8f8-6541-471d-aabb-bcfe506a654c",
   "metadata": {},
   "outputs": [
    {
     "data": {
      "text/plain": [
       "'/orange/adamginsburg/jwst/cloudc/F405N/pipeline/jw02221002002_02201_00003_nrcalong_destreak.fits'"
      ]
     },
     "execution_count": 21,
     "metadata": {},
     "output_type": "execute_result"
    }
   ],
   "source": [
    "i"
   ]
  },
  {
   "cell_type": "code",
   "execution_count": 11,
   "id": "b1f7b322-4bcd-4695-b89e-2e139d3e98d8",
   "metadata": {},
   "outputs": [
    {
     "data": {
      "text/plain": [
       "'002'"
      ]
     },
     "execution_count": 11,
     "metadata": {},
     "output_type": "execute_result"
    }
   ],
   "source": [
    "i1.split('_')[0][-3:]"
   ]
  },
  {
   "cell_type": "code",
   "execution_count": 18,
   "id": "1ea6207f-ecab-4d57-bd1b-4ce5e5c0d96a",
   "metadata": {},
   "outputs": [
    {
     "data": {
      "text/plain": [
       "'/orange/adamginsburg/jwst/cloudc/F405N/pipeline/jw02221002002_08201_00001_nrcalong_destreak_realigned.fits'"
      ]
     },
     "execution_count": 18,
     "metadata": {},
     "output_type": "execute_result"
    }
   ],
   "source": [
    "i1"
   ]
  },
  {
   "cell_type": "code",
   "execution_count": 7,
   "id": "05ec013e-a77d-4755-b12d-bbb941bb3fcd",
   "metadata": {
    "tags": []
   },
   "outputs": [
    {
     "name": "stdout",
     "output_type": "stream",
     "text": [
      "INFO: Kept 7752 out of 9945 VVV stars using ksmag_limit>11 [align_to_catalogs]\n",
      "INFO: For f405n merged 002 catalog /orange/adamginsburg/jwst/cloudc//F405N/pipeline/jw02221-o002_t001_nircam_clear-f405n-merged_cat.ecsv, found 9430 of 19563 sources meeting criteria mag<15 [align_to_catalogs]\n",
      "2023-08-07T17:35:55.788508: Before realignment, offset is -0.0015155154187596054 arcsec, -0.018448119524805406 arcsec.  Found 269 matches.\n",
      "2023-08-07T17:35:55.793358: CRVAL before 266.59541974652 -28.538974425935\n",
      "2023-08-07T17:35:55.812019: CRVAL after 266.59587850083 -28.537885968124\n",
      "INFO: \n",
      "                Inconsistent SIP distortion information is present in the FITS header and the WCS object:\n",
      "                SIP coefficients were detected, but CTYPE is missing a \"-SIP\" suffix.\n",
      "                astropy.wcs is using the SIP distortion coefficients,\n",
      "                therefore the coordinates calculated here might be incorrect.\n",
      "\n",
      "                If you do not want to apply the SIP distortion coefficients,\n",
      "                please remove the SIP coefficients from the FITS header or the\n",
      "                WCS object.  As an example, if the image is already distortion-corrected\n",
      "                (e.g., drizzled) then distortion components should not apply and the SIP\n",
      "                coefficients should be removed.\n",
      "\n",
      "                While the SIP distortion coefficients are being applied here, if that was indeed the intent,\n",
      "                for consistency please append \"-SIP\" to the CTYPE in the FITS header or the WCS object.\n",
      "\n",
      "                 [astropy.wcs.wcs]\n",
      "2023-08-07T17:35:55.851711: After realignment, offset is 1.8648506738827564e-06 arcsec, -0.021681060390221774 arcsec with 269 mathces\n",
      "INFO: \n",
      "                Inconsistent SIP distortion information is present in the FITS header and the WCS object:\n",
      "                SIP coefficients were detected, but CTYPE is missing a \"-SIP\" suffix.\n",
      "                astropy.wcs is using the SIP distortion coefficients,\n",
      "                therefore the coordinates calculated here might be incorrect.\n",
      "\n",
      "                If you do not want to apply the SIP distortion coefficients,\n",
      "                please remove the SIP coefficients from the FITS header or the\n",
      "                WCS object.  As an example, if the image is already distortion-corrected\n",
      "                (e.g., drizzled) then distortion components should not apply and the SIP\n",
      "                coefficients should be removed.\n",
      "\n",
      "                While the SIP distortion coefficients are being applied here, if that was indeed the intent,\n",
      "                for consistency please append \"-SIP\" to the CTYPE in the FITS header or the WCS object.\n",
      "\n",
      "                 [astropy.wcs.wcs]\n",
      "2023-08-07T17:35:55.881800: After re-realignment, offset is 1.8648506738827564e-06 arcsec, -0.021681060390221774 arcsec using 269 matches\n"
     ]
    },
    {
     "name": "stderr",
     "output_type": "stream",
     "text": [
      "WARNING: Some non-standard WCS keywords were excluded: A_ORDER, A_0_2, A_0_3, A_1_1, A_1_2, A_2_0, A_2_1, A_3_0, B_ORDER, B_0_2, B_0_3, B_1_1, B_1_2, B_2_0, B_2_1, B_3_0, AP_ORDER, AP_0_2, AP_0_3, AP_1_1, AP_1_2, AP_2_0, AP_2_1, AP_3_0, BP_ORDER, BP_0_2, BP_0_3, BP_1_1, BP_1_2, BP_2_0, BP_2_1, BP_3_0 Use the ``relax`` kwarg to control this. [astropy.wcs.wcs]\n"
     ]
    },
    {
     "data": {
      "text/plain": [
       "[<astropy.io.fits.hdu.image.PrimaryHDU object at 0x2b6d6cac6ee0>, <astropy.io.fits.hdu.image.ImageHDU object at 0x2b6d6a6dcbb0>, <astropy.io.fits.hdu.image.ImageHDU object at 0x2b6d6a6f54c0>, <astropy.io.fits.hdu.image.ImageHDU object at 0x2b6d6a6f5b80>, <astropy.io.fits.hdu.image.ImageHDU object at 0x2b6d6a6e3160>, <astropy.io.fits.hdu.image.ImageHDU object at 0x2b6d6a6fad00>, <astropy.io.fits.hdu.image.ImageHDU object at 0x2b6d6a6fa160>, <astropy.io.fits.hdu.image.ImageHDU object at 0x2b6d37eeaa90>, <astropy.io.fits.hdu.table.BinTableHDU object at 0x2b6d6ca7b0a0>]"
      ]
     },
     "execution_count": 7,
     "metadata": {},
     "output_type": "execute_result"
    }
   ],
   "source": [
    "realigned_vvv_i = i.split('.')[0]+'_realigned.fits'\n",
    "shutil.copy(i, realigned_vvv_i)\n",
    "\n",
    "raoffset = -1.65*u.arcsec\n",
    "decoffset = -3.9*u.arcsec\n",
    "\n",
    "realign_to_vvv(filtername=filtername.lower(), fov_regname=fov_regname[regionname], basepath=basepath, module=module, fieldnumber=field, \n",
    "               imfile=realigned_vvv_i, ksmag_limit=15 if filtername=='f410m' else 11, mag_limit=15, raoffset=raoffset, decoffset=decoffset)"
   ]
  },
  {
   "cell_type": "code",
   "execution_count": null,
   "id": "21edc15b-57aa-4a68-901e-dd84e6e9b3bc",
   "metadata": {},
   "outputs": [],
   "source": []
  },
  {
   "cell_type": "code",
   "execution_count": null,
   "id": "a9474529-c155-4838-ac19-cf0a3d76e9e0",
   "metadata": {},
   "outputs": [],
   "source": []
  },
  {
   "cell_type": "code",
   "execution_count": 10,
   "id": "0cf80727-6a17-434a-a817-4e8e97f661e5",
   "metadata": {
    "tags": []
   },
   "outputs": [
    {
     "name": "stdout",
     "output_type": "stream",
     "text": [
      "INFO: Kept 7752 out of 9945 VVV stars using ksmag_limit>11 [align_to_catalogs]\n",
      "INFO: For f405n merged 002 catalog /orange/adamginsburg/jwst/cloudc//F405N/pipeline/jw02221-o002_t001_nircam_clear-f405n-merged_cat.ecsv, found 9430 of 19563 sources meeting criteria mag<15 [align_to_catalogs]\n",
      "2023-08-07T17:41:10.185411: Before realignment, offset is -0.00253082204153543 arcsec, 0.016414905978479055 arcsec.  Found 296 matches.\n",
      "2023-08-07T17:41:10.189610: CRVAL before 266.59541974652 -28.538974425935\n",
      "2023-08-07T17:41:10.198148: CRVAL after 266.59542044953 -28.53786787452\n",
      "INFO: \n",
      "                Inconsistent SIP distortion information is present in the FITS header and the WCS object:\n",
      "                SIP coefficients were detected, but CTYPE is missing a \"-SIP\" suffix.\n",
      "                astropy.wcs is using the SIP distortion coefficients,\n",
      "                therefore the coordinates calculated here might be incorrect.\n",
      "\n",
      "                If you do not want to apply the SIP distortion coefficients,\n",
      "                please remove the SIP coefficients from the FITS header or the\n",
      "                WCS object.  As an example, if the image is already distortion-corrected\n",
      "                (e.g., drizzled) then distortion components should not apply and the SIP\n",
      "                coefficients should be removed.\n",
      "\n",
      "                While the SIP distortion coefficients are being applied here, if that was indeed the intent,\n",
      "                for consistency please append \"-SIP\" to the CTYPE in the FITS header or the WCS object.\n",
      "\n",
      "                 [astropy.wcs.wcs]\n",
      "2023-08-07T17:41:10.238373: After realignment, offset is -0.0033072075893869624 arcsec, 0.006731469238019372 arcsec with 292 mathces\n",
      "INFO: \n",
      "                Inconsistent SIP distortion information is present in the FITS header and the WCS object:\n",
      "                SIP coefficients were detected, but CTYPE is missing a \"-SIP\" suffix.\n",
      "                astropy.wcs is using the SIP distortion coefficients,\n",
      "                therefore the coordinates calculated here might be incorrect.\n",
      "\n",
      "                If you do not want to apply the SIP distortion coefficients,\n",
      "                please remove the SIP coefficients from the FITS header or the\n",
      "                WCS object.  As an example, if the image is already distortion-corrected\n",
      "                (e.g., drizzled) then distortion components should not apply and the SIP\n",
      "                coefficients should be removed.\n",
      "\n",
      "                While the SIP distortion coefficients are being applied here, if that was indeed the intent,\n",
      "                for consistency please append \"-SIP\" to the CTYPE in the FITS header or the WCS object.\n",
      "\n",
      "                 [astropy.wcs.wcs]\n",
      "2023-08-07T17:41:10.269530: After re-realignment, offset is -0.0033072075893869624 arcsec, 0.006731469238019372 arcsec using 292 matches\n"
     ]
    },
    {
     "name": "stderr",
     "output_type": "stream",
     "text": [
      "WARNING: Some non-standard WCS keywords were excluded: A_ORDER, A_0_2, A_0_3, A_1_1, A_1_2, A_2_0, A_2_1, A_3_0, B_ORDER, B_0_2, B_0_3, B_1_1, B_1_2, B_2_0, B_2_1, B_3_0, AP_ORDER, AP_0_2, AP_0_3, AP_1_1, AP_1_2, AP_2_0, AP_2_1, AP_3_0, BP_ORDER, BP_0_2, BP_0_3, BP_1_1, BP_1_2, BP_2_0, BP_2_1, BP_3_0 Use the ``relax`` kwarg to control this. [astropy.wcs.wcs]\n"
     ]
    },
    {
     "name": "stdout",
     "output_type": "stream",
     "text": [
      "INFO: Kept 7752 out of 9945 VVV stars using ksmag_limit>11 [align_to_catalogs]\n",
      "INFO: For f405n merged 002 catalog /orange/adamginsburg/jwst/cloudc//F405N/pipeline/jw02221-o002_t001_nircam_clear-f405n-merged_cat.ecsv, found 9430 of 19563 sources meeting criteria mag<15 [align_to_catalogs]\n",
      "2023-08-07T17:41:11.600529: Before realignment, offset is 0.006203131192705769 arcsec, -0.03880539459686361 arcsec.  Found 231 matches.\n",
      "2023-08-07T17:41:11.605020: CRVAL before 266.58849083407 -28.575359801581\n",
      "2023-08-07T17:41:11.613688: CRVAL after 266.58848911098 -28.573126800083\n",
      "INFO: \n",
      "                Inconsistent SIP distortion information is present in the FITS header and the WCS object:\n",
      "                SIP coefficients were detected, but CTYPE is missing a \"-SIP\" suffix.\n",
      "                astropy.wcs is using the SIP distortion coefficients,\n",
      "                therefore the coordinates calculated here might be incorrect.\n",
      "\n",
      "                If you do not want to apply the SIP distortion coefficients,\n",
      "                please remove the SIP coefficients from the FITS header or the\n",
      "                WCS object.  As an example, if the image is already distortion-corrected\n",
      "                (e.g., drizzled) then distortion components should not apply and the SIP\n",
      "                coefficients should be removed.\n",
      "\n",
      "                While the SIP distortion coefficients are being applied here, if that was indeed the intent,\n",
      "                for consistency please append \"-SIP\" to the CTYPE in the FITS header or the WCS object.\n",
      "\n",
      "                 [astropy.wcs.wcs]\n",
      "2023-08-07T17:41:11.652918: After realignment, offset is -0.004773769705934683 arcsec, -0.032033424309929615 arcsec with 234 mathces\n",
      "INFO: \n",
      "                Inconsistent SIP distortion information is present in the FITS header and the WCS object:\n",
      "                SIP coefficients were detected, but CTYPE is missing a \"-SIP\" suffix.\n",
      "                astropy.wcs is using the SIP distortion coefficients,\n",
      "                therefore the coordinates calculated here might be incorrect.\n",
      "\n",
      "                If you do not want to apply the SIP distortion coefficients,\n",
      "                please remove the SIP coefficients from the FITS header or the\n",
      "                WCS object.  As an example, if the image is already distortion-corrected\n",
      "                (e.g., drizzled) then distortion components should not apply and the SIP\n",
      "                coefficients should be removed.\n",
      "\n",
      "                While the SIP distortion coefficients are being applied here, if that was indeed the intent,\n",
      "                for consistency please append \"-SIP\" to the CTYPE in the FITS header or the WCS object.\n",
      "\n",
      "                 [astropy.wcs.wcs]\n",
      "2023-08-07T17:41:11.682756: After re-realignment, offset is -0.004773769705934683 arcsec, -0.032033424309929615 arcsec using 234 matches\n"
     ]
    },
    {
     "name": "stderr",
     "output_type": "stream",
     "text": [
      "WARNING: Some non-standard WCS keywords were excluded: A_ORDER, A_0_2, A_0_3, A_1_1, A_1_2, A_2_0, A_2_1, A_3_0, B_ORDER, B_0_2, B_0_3, B_1_1, B_1_2, B_2_0, B_2_1, B_3_0, AP_ORDER, AP_0_2, AP_0_3, AP_1_1, AP_1_2, AP_2_0, AP_2_1, AP_3_0, BP_ORDER, BP_0_2, BP_0_3, BP_1_1, BP_1_2, BP_2_0, BP_2_1, BP_3_0 Use the ``relax`` kwarg to control this. [astropy.wcs.wcs]\n"
     ]
    },
    {
     "name": "stdout",
     "output_type": "stream",
     "text": [
      "INFO: Kept 7752 out of 9945 VVV stars using ksmag_limit>11 [align_to_catalogs]\n",
      "INFO: For f405n merged 002 catalog /orange/adamginsburg/jwst/cloudc//F405N/pipeline/jw02221-o002_t001_nircam_clear-f405n-merged_cat.ecsv, found 9430 of 19563 sources meeting criteria mag<15 [align_to_catalogs]\n",
      "2023-08-07T17:41:13.311057: Before realignment, offset is -0.05898292281472095 arcsec, -0.037085173581630215 arcsec.  Found 198 matches.\n",
      "2023-08-07T17:41:13.315934: CRVAL before 266.58378762432 -28.592813644458\n",
      "2023-08-07T17:41:13.324575: CRVAL after 266.58380400847 -28.590581120799\n",
      "INFO: \n",
      "                Inconsistent SIP distortion information is present in the FITS header and the WCS object:\n",
      "                SIP coefficients were detected, but CTYPE is missing a \"-SIP\" suffix.\n",
      "                astropy.wcs is using the SIP distortion coefficients,\n",
      "                therefore the coordinates calculated here might be incorrect.\n",
      "\n",
      "                If you do not want to apply the SIP distortion coefficients,\n",
      "                please remove the SIP coefficients from the FITS header or the\n",
      "                WCS object.  As an example, if the image is already distortion-corrected\n",
      "                (e.g., drizzled) then distortion components should not apply and the SIP\n",
      "                coefficients should be removed.\n",
      "\n",
      "                While the SIP distortion coefficients are being applied here, if that was indeed the intent,\n",
      "                for consistency please append \"-SIP\" to the CTYPE in the FITS header or the WCS object.\n",
      "\n",
      "                 [astropy.wcs.wcs]\n",
      "2023-08-07T17:41:13.364263: After realignment, offset is -0.037086151928633626 arcsec, -0.023534065243779878 arcsec with 200 mathces\n",
      "INFO: \n",
      "                Inconsistent SIP distortion information is present in the FITS header and the WCS object:\n",
      "                SIP coefficients were detected, but CTYPE is missing a \"-SIP\" suffix.\n",
      "                astropy.wcs is using the SIP distortion coefficients,\n",
      "                therefore the coordinates calculated here might be incorrect.\n",
      "\n",
      "                If you do not want to apply the SIP distortion coefficients,\n",
      "                please remove the SIP coefficients from the FITS header or the\n",
      "                WCS object.  As an example, if the image is already distortion-corrected\n",
      "                (e.g., drizzled) then distortion components should not apply and the SIP\n",
      "                coefficients should be removed.\n",
      "\n",
      "                While the SIP distortion coefficients are being applied here, if that was indeed the intent,\n",
      "                for consistency please append \"-SIP\" to the CTYPE in the FITS header or the WCS object.\n",
      "\n",
      "                 [astropy.wcs.wcs]\n",
      "2023-08-07T17:41:13.394725: After re-realignment, offset is -0.037086151928633626 arcsec, -0.023534065243779878 arcsec using 200 matches\n"
     ]
    },
    {
     "name": "stderr",
     "output_type": "stream",
     "text": [
      "WARNING: Some non-standard WCS keywords were excluded: A_ORDER, A_0_2, A_0_3, A_1_1, A_1_2, A_2_0, A_2_1, A_3_0, B_ORDER, B_0_2, B_0_3, B_1_1, B_1_2, B_2_0, B_2_1, B_3_0, AP_ORDER, AP_0_2, AP_0_3, AP_1_1, AP_1_2, AP_2_0, AP_2_1, AP_3_0, BP_ORDER, BP_0_2, BP_0_3, BP_1_1, BP_1_2, BP_2_0, BP_2_1, BP_3_0 Use the ``relax`` kwarg to control this. [astropy.wcs.wcs]\n"
     ]
    },
    {
     "name": "stdout",
     "output_type": "stream",
     "text": [
      "INFO: Kept 7752 out of 9945 VVV stars using ksmag_limit>11 [align_to_catalogs]\n",
      "INFO: For f405n merged 002 catalog /orange/adamginsburg/jwst/cloudc//F405N/pipeline/jw02221-o002_t001_nircam_clear-f405n-merged_cat.ecsv, found 9430 of 19563 sources meeting criteria mag<15 [align_to_catalogs]\n",
      "2023-08-07T17:41:14.805810: Before realignment, offset is -0.034158782375470764 arcsec, 0.0019842158827998446 arcsec.  Found 234 matches.\n",
      "2023-08-07T17:41:14.810465: CRVAL before 266.59237008461 -28.557172894513\n",
      "2023-08-07T17:41:14.819331: CRVAL after 266.59237957316 -28.556062334573\n",
      "INFO: \n",
      "                Inconsistent SIP distortion information is present in the FITS header and the WCS object:\n",
      "                SIP coefficients were detected, but CTYPE is missing a \"-SIP\" suffix.\n",
      "                astropy.wcs is using the SIP distortion coefficients,\n",
      "                therefore the coordinates calculated here might be incorrect.\n",
      "\n",
      "                If you do not want to apply the SIP distortion coefficients,\n",
      "                please remove the SIP coefficients from the FITS header or the\n",
      "                WCS object.  As an example, if the image is already distortion-corrected\n",
      "                (e.g., drizzled) then distortion components should not apply and the SIP\n",
      "                coefficients should be removed.\n",
      "\n",
      "                While the SIP distortion coefficients are being applied here, if that was indeed the intent,\n",
      "                for consistency please append \"-SIP\" to the CTYPE in the FITS header or the WCS object.\n",
      "\n",
      "                 [astropy.wcs.wcs]\n",
      "2023-08-07T17:41:14.859756: After realignment, offset is -0.05975930897648141 arcsec, 2.5579538487363607e-11 arcsec with 228 mathces\n",
      "INFO: \n",
      "                Inconsistent SIP distortion information is present in the FITS header and the WCS object:\n",
      "                SIP coefficients were detected, but CTYPE is missing a \"-SIP\" suffix.\n",
      "                astropy.wcs is using the SIP distortion coefficients,\n",
      "                therefore the coordinates calculated here might be incorrect.\n",
      "\n",
      "                If you do not want to apply the SIP distortion coefficients,\n",
      "                please remove the SIP coefficients from the FITS header or the\n",
      "                WCS object.  As an example, if the image is already distortion-corrected\n",
      "                (e.g., drizzled) then distortion components should not apply and the SIP\n",
      "                coefficients should be removed.\n",
      "\n",
      "                While the SIP distortion coefficients are being applied here, if that was indeed the intent,\n",
      "                for consistency please append \"-SIP\" to the CTYPE in the FITS header or the WCS object.\n",
      "\n",
      "                 [astropy.wcs.wcs]\n",
      "2023-08-07T17:41:14.889607: After re-realignment, offset is -0.05975930897648141 arcsec, 2.5579538487363607e-11 arcsec using 228 matches\n"
     ]
    },
    {
     "name": "stderr",
     "output_type": "stream",
     "text": [
      "WARNING: Some non-standard WCS keywords were excluded: A_ORDER, A_0_2, A_0_3, A_1_1, A_1_2, A_2_0, A_2_1, A_3_0, B_ORDER, B_0_2, B_0_3, B_1_1, B_1_2, B_2_0, B_2_1, B_3_0, AP_ORDER, AP_0_2, AP_0_3, AP_1_1, AP_1_2, AP_2_0, AP_2_1, AP_3_0, BP_ORDER, BP_0_2, BP_0_3, BP_1_1, BP_1_2, BP_2_0, BP_2_1, BP_3_0 Use the ``relax`` kwarg to control this. [astropy.wcs.wcs]\n"
     ]
    },
    {
     "name": "stdout",
     "output_type": "stream",
     "text": [
      "INFO: Kept 7752 out of 9945 VVV stars using ksmag_limit>11 [align_to_catalogs]\n",
      "INFO: For f405n merged 002 catalog /orange/adamginsburg/jwst/cloudc//F405N/pipeline/jw02221-o002_t001_nircam_clear-f405n-merged_cat.ecsv, found 9430 of 19563 sources meeting criteria mag<15 [align_to_catalogs]\n",
      "2023-08-07T17:41:16.215254: Before realignment, offset is -0.008650702579870995 arcsec, -0.020027904672303976 arcsec.  Found 216 matches.\n",
      "2023-08-07T17:41:16.219737: CRVAL before 266.58873993895 -28.574669560401\n",
      "2023-08-07T17:41:16.228340: CRVAL after 266.58874234192 -28.572441774872\n",
      "INFO: \n",
      "                Inconsistent SIP distortion information is present in the FITS header and the WCS object:\n",
      "                SIP coefficients were detected, but CTYPE is missing a \"-SIP\" suffix.\n",
      "                astropy.wcs is using the SIP distortion coefficients,\n",
      "                therefore the coordinates calculated here might be incorrect.\n",
      "\n",
      "                If you do not want to apply the SIP distortion coefficients,\n",
      "                please remove the SIP coefficients from the FITS header or the\n",
      "                WCS object.  As an example, if the image is already distortion-corrected\n",
      "                (e.g., drizzled) then distortion components should not apply and the SIP\n",
      "                coefficients should be removed.\n",
      "\n",
      "                While the SIP distortion coefficients are being applied here, if that was indeed the intent,\n",
      "                for consistency please append \"-SIP\" to the CTYPE in the FITS header or the WCS object.\n",
      "\n",
      "                 [astropy.wcs.wcs]\n",
      "2023-08-07T17:41:16.267951: After realignment, offset is -0.010863194324883807 arcsec, -0.018323029506461808 arcsec with 221 mathces\n",
      "INFO: \n",
      "                Inconsistent SIP distortion information is present in the FITS header and the WCS object:\n",
      "                SIP coefficients were detected, but CTYPE is missing a \"-SIP\" suffix.\n",
      "                astropy.wcs is using the SIP distortion coefficients,\n",
      "                therefore the coordinates calculated here might be incorrect.\n",
      "\n",
      "                If you do not want to apply the SIP distortion coefficients,\n",
      "                please remove the SIP coefficients from the FITS header or the\n",
      "                WCS object.  As an example, if the image is already distortion-corrected\n",
      "                (e.g., drizzled) then distortion components should not apply and the SIP\n",
      "                coefficients should be removed.\n",
      "\n",
      "                While the SIP distortion coefficients are being applied here, if that was indeed the intent,\n",
      "                for consistency please append \"-SIP\" to the CTYPE in the FITS header or the WCS object.\n",
      "\n",
      "                 [astropy.wcs.wcs]\n"
     ]
    },
    {
     "name": "stderr",
     "output_type": "stream",
     "text": [
      "WARNING: Some non-standard WCS keywords were excluded: A_ORDER, A_0_2, A_0_3, A_1_1, A_1_2, A_2_0, A_2_1, A_3_0, B_ORDER, B_0_2, B_0_3, B_1_1, B_1_2, B_2_0, B_2_1, B_3_0, AP_ORDER, AP_0_2, AP_0_3, AP_1_1, AP_1_2, AP_2_0, AP_2_1, AP_3_0, BP_ORDER, BP_0_2, BP_0_3, BP_1_1, BP_1_2, BP_2_0, BP_2_1, BP_3_0 Use the ``relax`` kwarg to control this. [astropy.wcs.wcs]\n"
     ]
    },
    {
     "name": "stdout",
     "output_type": "stream",
     "text": [
      "2023-08-07T17:41:16.520490: After re-realignment, offset is -0.010863194324883807 arcsec, -0.018323029506461808 arcsec using 221 matches\n",
      "INFO: Kept 7752 out of 9945 VVV stars using ksmag_limit>11 [align_to_catalogs]\n",
      "INFO: For f405n merged 002 catalog /orange/adamginsburg/jwst/cloudc//F405N/pipeline/jw02221-o002_t001_nircam_clear-f405n-merged_cat.ecsv, found 9430 of 19563 sources meeting criteria mag<15 [align_to_catalogs]\n",
      "2023-08-07T17:41:17.923136: Before realignment, offset is -0.055714149607410945 arcsec, -0.03557937530516142 arcsec.  Found 224 matches.\n",
      "2023-08-07T17:41:17.927790: CRVAL before 266.58767076093 -28.574623328595\n",
      "2023-08-07T17:41:17.936733: CRVAL after 266.58768623708 -28.572391223213\n",
      "INFO: \n",
      "                Inconsistent SIP distortion information is present in the FITS header and the WCS object:\n",
      "                SIP coefficients were detected, but CTYPE is missing a \"-SIP\" suffix.\n",
      "                astropy.wcs is using the SIP distortion coefficients,\n",
      "                therefore the coordinates calculated here might be incorrect.\n",
      "\n",
      "                If you do not want to apply the SIP distortion coefficients,\n",
      "                please remove the SIP coefficients from the FITS header or the\n",
      "                WCS object.  As an example, if the image is already distortion-corrected\n",
      "                (e.g., drizzled) then distortion components should not apply and the SIP\n",
      "                coefficients should be removed.\n",
      "\n",
      "                While the SIP distortion coefficients are being applied here, if that was indeed the intent,\n",
      "                for consistency please append \"-SIP\" to the CTYPE in the FITS header or the WCS object.\n",
      "\n",
      "                 [astropy.wcs.wcs]\n",
      "2023-08-07T17:41:17.976921: After realignment, offset is -0.0404143716764338 arcsec, -0.0445951018065216 arcsec with 224 mathces\n",
      "INFO: \n",
      "                Inconsistent SIP distortion information is present in the FITS header and the WCS object:\n",
      "                SIP coefficients were detected, but CTYPE is missing a \"-SIP\" suffix.\n",
      "                astropy.wcs is using the SIP distortion coefficients,\n",
      "                therefore the coordinates calculated here might be incorrect.\n",
      "\n",
      "                If you do not want to apply the SIP distortion coefficients,\n",
      "                please remove the SIP coefficients from the FITS header or the\n",
      "                WCS object.  As an example, if the image is already distortion-corrected\n",
      "                (e.g., drizzled) then distortion components should not apply and the SIP\n",
      "                coefficients should be removed.\n",
      "\n",
      "                While the SIP distortion coefficients are being applied here, if that was indeed the intent,\n",
      "                for consistency please append \"-SIP\" to the CTYPE in the FITS header or the WCS object.\n",
      "\n",
      "                 [astropy.wcs.wcs]\n",
      "2023-08-07T17:41:18.006871: After re-realignment, offset is -0.0404143716764338 arcsec, -0.0445951018065216 arcsec using 224 matches\n"
     ]
    },
    {
     "name": "stderr",
     "output_type": "stream",
     "text": [
      "WARNING: Some non-standard WCS keywords were excluded: A_ORDER, A_0_2, A_0_3, A_1_1, A_1_2, A_2_0, A_2_1, A_3_0, B_ORDER, B_0_2, B_0_3, B_1_1, B_1_2, B_2_0, B_2_1, B_3_0, AP_ORDER, AP_0_2, AP_0_3, AP_1_1, AP_1_2, AP_2_0, AP_2_1, AP_3_0, BP_ORDER, BP_0_2, BP_0_3, BP_1_1, BP_1_2, BP_2_0, BP_2_1, BP_3_0 Use the ``relax`` kwarg to control this. [astropy.wcs.wcs]\n"
     ]
    },
    {
     "name": "stdout",
     "output_type": "stream",
     "text": [
      "INFO: Kept 7752 out of 9945 VVV stars using ksmag_limit>11 [align_to_catalogs]\n",
      "INFO: For f405n merged 002 catalog /orange/adamginsburg/jwst/cloudc//F405N/pipeline/jw02221-o002_t001_nircam_clear-f405n-merged_cat.ecsv, found 9430 of 19563 sources meeting criteria mag<15 [align_to_catalogs]\n",
      "2023-08-07T17:41:19.430834: Before realignment, offset is -0.027063536435889546 arcsec, -0.041733071820715395 arcsec.  Found 328 matches.\n",
      "2023-08-07T17:41:19.435384: CRVAL before 266.59624865738 -28.538982276864\n",
      "2023-08-07T17:41:19.443845: CRVAL after 266.59625617503 -28.537859573233\n",
      "INFO: \n",
      "                Inconsistent SIP distortion information is present in the FITS header and the WCS object:\n",
      "                SIP coefficients were detected, but CTYPE is missing a \"-SIP\" suffix.\n",
      "                astropy.wcs is using the SIP distortion coefficients,\n",
      "                therefore the coordinates calculated here might be incorrect.\n",
      "\n",
      "                If you do not want to apply the SIP distortion coefficients,\n",
      "                please remove the SIP coefficients from the FITS header or the\n",
      "                WCS object.  As an example, if the image is already distortion-corrected\n",
      "                (e.g., drizzled) then distortion components should not apply and the SIP\n",
      "                coefficients should be removed.\n",
      "\n",
      "                While the SIP distortion coefficients are being applied here, if that was indeed the intent,\n",
      "                for consistency please append \"-SIP\" to the CTYPE in the FITS header or the WCS object.\n",
      "\n",
      "                 [astropy.wcs.wcs]\n",
      "2023-08-07T17:41:19.483924: After realignment, offset is -0.0350474537071932 arcsec, -0.030136644974732008 arcsec with 323 mathces\n",
      "INFO: \n",
      "                Inconsistent SIP distortion information is present in the FITS header and the WCS object:\n",
      "                SIP coefficients were detected, but CTYPE is missing a \"-SIP\" suffix.\n",
      "                astropy.wcs is using the SIP distortion coefficients,\n",
      "                therefore the coordinates calculated here might be incorrect.\n",
      "\n",
      "                If you do not want to apply the SIP distortion coefficients,\n",
      "                please remove the SIP coefficients from the FITS header or the\n",
      "                WCS object.  As an example, if the image is already distortion-corrected\n",
      "                (e.g., drizzled) then distortion components should not apply and the SIP\n",
      "                coefficients should be removed.\n",
      "\n",
      "                While the SIP distortion coefficients are being applied here, if that was indeed the intent,\n",
      "                for consistency please append \"-SIP\" to the CTYPE in the FITS header or the WCS object.\n",
      "\n",
      "                 [astropy.wcs.wcs]\n",
      "2023-08-07T17:41:19.514724: After re-realignment, offset is -0.0350474537071932 arcsec, -0.030136644974732008 arcsec using 323 matches\n"
     ]
    },
    {
     "name": "stderr",
     "output_type": "stream",
     "text": [
      "WARNING: Some non-standard WCS keywords were excluded: A_ORDER, A_0_2, A_0_3, A_1_1, A_1_2, A_2_0, A_2_1, A_3_0, B_ORDER, B_0_2, B_0_3, B_1_1, B_1_2, B_2_0, B_2_1, B_3_0, AP_ORDER, AP_0_2, AP_0_3, AP_1_1, AP_1_2, AP_2_0, AP_2_1, AP_3_0, BP_ORDER, BP_0_2, BP_0_3, BP_1_1, BP_1_2, BP_2_0, BP_2_1, BP_3_0 Use the ``relax`` kwarg to control this. [astropy.wcs.wcs]\n"
     ]
    },
    {
     "name": "stdout",
     "output_type": "stream",
     "text": [
      "INFO: Kept 7752 out of 9945 VVV stars using ksmag_limit>11 [align_to_catalogs]\n",
      "INFO: For f405n merged 002 catalog /orange/adamginsburg/jwst/cloudc//F405N/pipeline/jw02221-o002_t001_nircam_clear-f405n-merged_cat.ecsv, found 9430 of 19563 sources meeting criteria mag<15 [align_to_catalogs]\n",
      "2023-08-07T17:41:20.939108: Before realignment, offset is -0.0360659449825107 arcsec, -0.012900816913941071 arcsec.  Found 228 matches.\n",
      "2023-08-07T17:41:21.209028: CRVAL before 266.58766161187 -28.575351603672\n",
      "2023-08-07T17:41:21.218031: CRVAL after 266.58767163019 -28.57312579789\n",
      "INFO: \n",
      "                Inconsistent SIP distortion information is present in the FITS header and the WCS object:\n",
      "                SIP coefficients were detected, but CTYPE is missing a \"-SIP\" suffix.\n",
      "                astropy.wcs is using the SIP distortion coefficients,\n",
      "                therefore the coordinates calculated here might be incorrect.\n",
      "\n",
      "                If you do not want to apply the SIP distortion coefficients,\n",
      "                please remove the SIP coefficients from the FITS header or the\n",
      "                WCS object.  As an example, if the image is already distortion-corrected\n",
      "                (e.g., drizzled) then distortion components should not apply and the SIP\n",
      "                coefficients should be removed.\n",
      "\n",
      "                While the SIP distortion coefficients are being applied here, if that was indeed the intent,\n",
      "                for consistency please append \"-SIP\" to the CTYPE in the FITS header or the WCS object.\n",
      "\n",
      "                 [astropy.wcs.wcs]\n",
      "2023-08-07T17:41:21.258083: After realignment, offset is -0.03979611198019484 arcsec, -0.026746058187399058 arcsec with 236 mathces\n",
      "INFO: \n",
      "                Inconsistent SIP distortion information is present in the FITS header and the WCS object:\n",
      "                SIP coefficients were detected, but CTYPE is missing a \"-SIP\" suffix.\n",
      "                astropy.wcs is using the SIP distortion coefficients,\n",
      "                therefore the coordinates calculated here might be incorrect.\n",
      "\n",
      "                If you do not want to apply the SIP distortion coefficients,\n",
      "                please remove the SIP coefficients from the FITS header or the\n",
      "                WCS object.  As an example, if the image is already distortion-corrected\n",
      "                (e.g., drizzled) then distortion components should not apply and the SIP\n",
      "                coefficients should be removed.\n",
      "\n",
      "                While the SIP distortion coefficients are being applied here, if that was indeed the intent,\n",
      "                for consistency please append \"-SIP\" to the CTYPE in the FITS header or the WCS object.\n",
      "\n",
      "                 [astropy.wcs.wcs]\n",
      "2023-08-07T17:41:21.287644: After re-realignment, offset is -0.03979611198019484 arcsec, -0.026746058187399058 arcsec using 236 matches\n"
     ]
    },
    {
     "name": "stderr",
     "output_type": "stream",
     "text": [
      "WARNING: Some non-standard WCS keywords were excluded: A_ORDER, A_0_2, A_0_3, A_1_1, A_1_2, A_2_0, A_2_1, A_3_0, B_ORDER, B_0_2, B_0_3, B_1_1, B_1_2, B_2_0, B_2_1, B_3_0, AP_ORDER, AP_0_2, AP_0_3, AP_1_1, AP_1_2, AP_2_0, AP_2_1, AP_3_0, BP_ORDER, BP_0_2, BP_0_3, BP_1_1, BP_1_2, BP_2_0, BP_2_1, BP_3_0 Use the ``relax`` kwarg to control this. [astropy.wcs.wcs]\n"
     ]
    },
    {
     "name": "stdout",
     "output_type": "stream",
     "text": [
      "INFO: Kept 7752 out of 9945 VVV stars using ksmag_limit>11 [align_to_catalogs]\n",
      "INFO: For f405n merged 002 catalog /orange/adamginsburg/jwst/cloudc//F405N/pipeline/jw02221-o002_t001_nircam_clear-f405n-merged_cat.ecsv, found 9430 of 19563 sources meeting criteria mag<15 [align_to_catalogs]\n",
      "2023-08-07T17:41:22.684707: Before realignment, offset is -0.053362915571142366 arcsec, -0.05633465885139799 arcsec.  Found 182 matches.\n",
      "2023-08-07T17:41:22.689917: CRVAL before 266.58485703427 -28.592859807459\n",
      "2023-08-07T17:41:22.698666: CRVAL after 266.5848718573 -28.59062193672\n",
      "INFO: \n",
      "                Inconsistent SIP distortion information is present in the FITS header and the WCS object:\n",
      "                SIP coefficients were detected, but CTYPE is missing a \"-SIP\" suffix.\n",
      "                astropy.wcs is using the SIP distortion coefficients,\n",
      "                therefore the coordinates calculated here might be incorrect.\n",
      "\n",
      "                If you do not want to apply the SIP distortion coefficients,\n",
      "                please remove the SIP coefficients from the FITS header or the\n",
      "                WCS object.  As an example, if the image is already distortion-corrected\n",
      "                (e.g., drizzled) then distortion components should not apply and the SIP\n",
      "                coefficients should be removed.\n",
      "\n",
      "                While the SIP distortion coefficients are being applied here, if that was indeed the intent,\n",
      "                for consistency please append \"-SIP\" to the CTYPE in the FITS header or the WCS object.\n",
      "\n",
      "                 [astropy.wcs.wcs]\n",
      "2023-08-07T17:41:22.738022: After realignment, offset is -0.018779731203721894 arcsec, -0.036719795025419444 arcsec with 181 mathces\n",
      "INFO: \n",
      "                Inconsistent SIP distortion information is present in the FITS header and the WCS object:\n",
      "                SIP coefficients were detected, but CTYPE is missing a \"-SIP\" suffix.\n",
      "                astropy.wcs is using the SIP distortion coefficients,\n",
      "                therefore the coordinates calculated here might be incorrect.\n",
      "\n",
      "                If you do not want to apply the SIP distortion coefficients,\n",
      "                please remove the SIP coefficients from the FITS header or the\n",
      "                WCS object.  As an example, if the image is already distortion-corrected\n",
      "                (e.g., drizzled) then distortion components should not apply and the SIP\n",
      "                coefficients should be removed.\n",
      "\n",
      "                While the SIP distortion coefficients are being applied here, if that was indeed the intent,\n",
      "                for consistency please append \"-SIP\" to the CTYPE in the FITS header or the WCS object.\n",
      "\n",
      "                 [astropy.wcs.wcs]\n",
      "2023-08-07T17:41:22.767774: After re-realignment, offset is -0.018779731203721894 arcsec, -0.036719795025419444 arcsec using 181 matches\n"
     ]
    },
    {
     "name": "stderr",
     "output_type": "stream",
     "text": [
      "WARNING: Some non-standard WCS keywords were excluded: A_ORDER, A_0_2, A_0_3, A_1_1, A_1_2, A_2_0, A_2_1, A_3_0, B_ORDER, B_0_2, B_0_3, B_1_1, B_1_2, B_2_0, B_2_1, B_3_0, AP_ORDER, AP_0_2, AP_0_3, AP_1_1, AP_1_2, AP_2_0, AP_2_1, AP_3_0, BP_ORDER, BP_0_2, BP_0_3, BP_1_1, BP_1_2, BP_2_0, BP_2_1, BP_3_0 Use the ``relax`` kwarg to control this. [astropy.wcs.wcs]\n"
     ]
    },
    {
     "name": "stdout",
     "output_type": "stream",
     "text": [
      "INFO: Kept 7752 out of 9945 VVV stars using ksmag_limit>11 [align_to_catalogs]\n",
      "INFO: For f405n merged 002 catalog /orange/adamginsburg/jwst/cloudc//F405N/pipeline/jw02221-o002_t001_nircam_clear-f405n-merged_cat.ecsv, found 9430 of 19563 sources meeting criteria mag<15 [align_to_catalogs]\n",
      "2023-08-07T17:41:24.152836: Before realignment, offset is -0.029144256313884398 arcsec, -0.022916568994446607 arcsec.  Found 299 matches.\n",
      "2023-08-07T17:41:24.157357: CRVAL before 266.59542873995 -28.538245930861\n",
      "2023-08-07T17:41:24.165814: CRVAL after 266.59543683558 -28.537128454036\n",
      "INFO: \n",
      "                Inconsistent SIP distortion information is present in the FITS header and the WCS object:\n",
      "                SIP coefficients were detected, but CTYPE is missing a \"-SIP\" suffix.\n",
      "                astropy.wcs is using the SIP distortion coefficients,\n",
      "                therefore the coordinates calculated here might be incorrect.\n",
      "\n",
      "                If you do not want to apply the SIP distortion coefficients,\n",
      "                please remove the SIP coefficients from the FITS header or the\n",
      "                WCS object.  As an example, if the image is already distortion-corrected\n",
      "                (e.g., drizzled) then distortion components should not apply and the SIP\n",
      "                coefficients should be removed.\n",
      "\n",
      "                While the SIP distortion coefficients are being applied here, if that was indeed the intent,\n",
      "                for consistency please append \"-SIP\" to the CTYPE in the FITS header or the WCS object.\n",
      "\n",
      "                 [astropy.wcs.wcs]\n",
      "2023-08-07T17:41:24.204828: After realignment, offset is -0.01579392488793019 arcsec, -0.020967707877161956 arcsec with 306 mathces\n",
      "INFO: \n",
      "                Inconsistent SIP distortion information is present in the FITS header and the WCS object:\n",
      "                SIP coefficients were detected, but CTYPE is missing a \"-SIP\" suffix.\n",
      "                astropy.wcs is using the SIP distortion coefficients,\n",
      "                therefore the coordinates calculated here might be incorrect.\n",
      "\n",
      "                If you do not want to apply the SIP distortion coefficients,\n",
      "                please remove the SIP coefficients from the FITS header or the\n",
      "                WCS object.  As an example, if the image is already distortion-corrected\n",
      "                (e.g., drizzled) then distortion components should not apply and the SIP\n",
      "                coefficients should be removed.\n",
      "\n",
      "                While the SIP distortion coefficients are being applied here, if that was indeed the intent,\n",
      "                for consistency please append \"-SIP\" to the CTYPE in the FITS header or the WCS object.\n",
      "\n",
      "                 [astropy.wcs.wcs]\n",
      "2023-08-07T17:41:24.235485: After re-realignment, offset is -0.01579392488793019 arcsec, -0.020967707877161956 arcsec using 306 matches\n"
     ]
    },
    {
     "name": "stderr",
     "output_type": "stream",
     "text": [
      "WARNING: Some non-standard WCS keywords were excluded: A_ORDER, A_0_2, A_0_3, A_1_1, A_1_2, A_2_0, A_2_1, A_3_0, B_ORDER, B_0_2, B_0_3, B_1_1, B_1_2, B_2_0, B_2_1, B_3_0, AP_ORDER, AP_0_2, AP_0_3, AP_1_1, AP_1_2, AP_2_0, AP_2_1, AP_3_0, BP_ORDER, BP_0_2, BP_0_3, BP_1_1, BP_1_2, BP_2_0, BP_2_1, BP_3_0 Use the ``relax`` kwarg to control this. [astropy.wcs.wcs]\n"
     ]
    },
    {
     "name": "stdout",
     "output_type": "stream",
     "text": [
      "INFO: Kept 7752 out of 9945 VVV stars using ksmag_limit>11 [align_to_catalogs]\n",
      "INFO: For f405n merged 002 catalog /orange/adamginsburg/jwst/cloudc//F405N/pipeline/jw02221-o002_t001_nircam_clear-f405n-merged_cat.ecsv, found 9430 of 19563 sources meeting criteria mag<15 [align_to_catalogs]\n",
      "2023-08-07T17:41:25.819901: Before realignment, offset is -0.006827032098044583 arcsec, -0.03707500892531357 arcsec.  Found 290 matches.\n",
      "2023-08-07T17:41:25.824753: CRVAL before 266.59649741972 -28.538292015868\n",
      "2023-08-07T17:41:25.833556: CRVAL after 266.59649931612 -28.537170606143\n",
      "INFO: \n",
      "                Inconsistent SIP distortion information is present in the FITS header and the WCS object:\n",
      "                SIP coefficients were detected, but CTYPE is missing a \"-SIP\" suffix.\n",
      "                astropy.wcs is using the SIP distortion coefficients,\n",
      "                therefore the coordinates calculated here might be incorrect.\n",
      "\n",
      "                If you do not want to apply the SIP distortion coefficients,\n",
      "                please remove the SIP coefficients from the FITS header or the\n",
      "                WCS object.  As an example, if the image is already distortion-corrected\n",
      "                (e.g., drizzled) then distortion components should not apply and the SIP\n",
      "                coefficients should be removed.\n",
      "\n",
      "                While the SIP distortion coefficients are being applied here, if that was indeed the intent,\n",
      "                for consistency please append \"-SIP\" to the CTYPE in the FITS header or the WCS object.\n",
      "\n",
      "                 [astropy.wcs.wcs]\n",
      "2023-08-07T17:41:25.874054: After realignment, offset is -0.00812620908163808 arcsec, -0.0623692572020218 arcsec with 303 mathces\n",
      "INFO: \n",
      "                Inconsistent SIP distortion information is present in the FITS header and the WCS object:\n",
      "                SIP coefficients were detected, but CTYPE is missing a \"-SIP\" suffix.\n",
      "                astropy.wcs is using the SIP distortion coefficients,\n",
      "                therefore the coordinates calculated here might be incorrect.\n",
      "\n",
      "                If you do not want to apply the SIP distortion coefficients,\n",
      "                please remove the SIP coefficients from the FITS header or the\n",
      "                WCS object.  As an example, if the image is already distortion-corrected\n",
      "                (e.g., drizzled) then distortion components should not apply and the SIP\n",
      "                coefficients should be removed.\n",
      "\n",
      "                While the SIP distortion coefficients are being applied here, if that was indeed the intent,\n",
      "                for consistency please append \"-SIP\" to the CTYPE in the FITS header or the WCS object.\n",
      "\n",
      "                 [astropy.wcs.wcs]\n",
      "2023-08-07T17:41:25.905184: After re-realignment, offset is -0.00812620908163808 arcsec, -0.0623692572020218 arcsec using 303 matches\n"
     ]
    },
    {
     "name": "stderr",
     "output_type": "stream",
     "text": [
      "WARNING: Some non-standard WCS keywords were excluded: A_ORDER, A_0_2, A_0_3, A_1_1, A_1_2, A_2_0, A_2_1, A_3_0, B_ORDER, B_0_2, B_0_3, B_1_1, B_1_2, B_2_0, B_2_1, B_3_0, AP_ORDER, AP_0_2, AP_0_3, AP_1_1, AP_1_2, AP_2_0, AP_2_1, AP_3_0, BP_ORDER, BP_0_2, BP_0_3, BP_1_1, BP_1_2, BP_2_0, BP_2_1, BP_3_0 Use the ``relax`` kwarg to control this. [astropy.wcs.wcs]\n"
     ]
    },
    {
     "name": "stdout",
     "output_type": "stream",
     "text": [
      "INFO: Kept 7752 out of 9945 VVV stars using ksmag_limit>11 [align_to_catalogs]\n",
      "INFO: For f405n merged 002 catalog /orange/adamginsburg/jwst/cloudc//F405N/pipeline/jw02221-o002_t001_nircam_clear-f405n-merged_cat.ecsv, found 9430 of 19563 sources meeting criteria mag<15 [align_to_catalogs]\n",
      "2023-08-07T17:41:27.301131: Before realignment, offset is -0.05801487377539161 arcsec, -0.016078091984184084 arcsec.  Found 261 matches.\n",
      "2023-08-07T17:41:27.305940: CRVAL before 266.59261881688 -28.556482695308\n",
      "2023-08-07T17:41:27.314817: CRVAL after 266.59263493212 -28.55536711806\n",
      "INFO: \n",
      "                Inconsistent SIP distortion information is present in the FITS header and the WCS object:\n",
      "                SIP coefficients were detected, but CTYPE is missing a \"-SIP\" suffix.\n",
      "                astropy.wcs is using the SIP distortion coefficients,\n",
      "                therefore the coordinates calculated here might be incorrect.\n",
      "\n",
      "                If you do not want to apply the SIP distortion coefficients,\n",
      "                please remove the SIP coefficients from the FITS header or the\n",
      "                WCS object.  As an example, if the image is already distortion-corrected\n",
      "                (e.g., drizzled) then distortion components should not apply and the SIP\n",
      "                coefficients should be removed.\n",
      "\n",
      "                While the SIP distortion coefficients are being applied here, if that was indeed the intent,\n",
      "                for consistency please append \"-SIP\" to the CTYPE in the FITS header or the WCS object.\n",
      "\n",
      "                 [astropy.wcs.wcs]\n",
      "2023-08-07T17:41:27.355837: After realignment, offset is -0.05972010567347752 arcsec, -0.00657430526018743 arcsec with 256 mathces\n",
      "INFO: \n",
      "                Inconsistent SIP distortion information is present in the FITS header and the WCS object:\n",
      "                SIP coefficients were detected, but CTYPE is missing a \"-SIP\" suffix.\n",
      "                astropy.wcs is using the SIP distortion coefficients,\n",
      "                therefore the coordinates calculated here might be incorrect.\n",
      "\n",
      "                If you do not want to apply the SIP distortion coefficients,\n",
      "                please remove the SIP coefficients from the FITS header or the\n",
      "                WCS object.  As an example, if the image is already distortion-corrected\n",
      "                (e.g., drizzled) then distortion components should not apply and the SIP\n",
      "                coefficients should be removed.\n",
      "\n",
      "                While the SIP distortion coefficients are being applied here, if that was indeed the intent,\n",
      "                for consistency please append \"-SIP\" to the CTYPE in the FITS header or the WCS object.\n",
      "\n",
      "                 [astropy.wcs.wcs]\n",
      "2023-08-07T17:41:27.387726: After re-realignment, offset is -0.05972010567347752 arcsec, -0.00657430526018743 arcsec using 256 matches\n"
     ]
    },
    {
     "name": "stderr",
     "output_type": "stream",
     "text": [
      "WARNING: Some non-standard WCS keywords were excluded: A_ORDER, A_0_2, A_0_3, A_1_1, A_1_2, A_2_0, A_2_1, A_3_0, B_ORDER, B_0_2, B_0_3, B_1_1, B_1_2, B_2_0, B_2_1, B_3_0, AP_ORDER, AP_0_2, AP_0_3, AP_1_1, AP_1_2, AP_2_0, AP_2_1, AP_3_0, BP_ORDER, BP_0_2, BP_0_3, BP_1_1, BP_1_2, BP_2_0, BP_2_1, BP_3_0 Use the ``relax`` kwarg to control this. [astropy.wcs.wcs]\n"
     ]
    },
    {
     "name": "stdout",
     "output_type": "stream",
     "text": [
      "INFO: Kept 7752 out of 9945 VVV stars using ksmag_limit>11 [align_to_catalogs]\n",
      "INFO: For f405n merged 002 catalog /orange/adamginsburg/jwst/cloudc//F405N/pipeline/jw02221-o002_t001_nircam_clear-f405n-merged_cat.ecsv, found 9430 of 19563 sources meeting criteria mag<15 [align_to_catalogs]\n",
      "2023-08-07T17:41:28.712895: Before realignment, offset is -0.015402021904264984 arcsec, -0.03960987450994935 arcsec.  Found 189 matches.\n",
      "2023-08-07T17:41:28.717314: CRVAL before 266.58460781321 -28.593550093747\n",
      "2023-08-07T17:41:28.725901: CRVAL after 266.58461209155 -28.591316868782\n",
      "INFO: \n",
      "                Inconsistent SIP distortion information is present in the FITS header and the WCS object:\n",
      "                SIP coefficients were detected, but CTYPE is missing a \"-SIP\" suffix.\n",
      "                astropy.wcs is using the SIP distortion coefficients,\n",
      "                therefore the coordinates calculated here might be incorrect.\n",
      "\n",
      "                If you do not want to apply the SIP distortion coefficients,\n",
      "                please remove the SIP coefficients from the FITS header or the\n",
      "                WCS object.  As an example, if the image is already distortion-corrected\n",
      "                (e.g., drizzled) then distortion components should not apply and the SIP\n",
      "                coefficients should be removed.\n",
      "\n",
      "                While the SIP distortion coefficients are being applied here, if that was indeed the intent,\n",
      "                for consistency please append \"-SIP\" to the CTYPE in the FITS header or the WCS object.\n",
      "\n",
      "                 [astropy.wcs.wcs]\n",
      "2023-08-07T17:41:28.765095: After realignment, offset is -0.023637323420189205 arcsec, -0.02555105036350369 arcsec with 189 mathces\n",
      "INFO: \n",
      "                Inconsistent SIP distortion information is present in the FITS header and the WCS object:\n",
      "                SIP coefficients were detected, but CTYPE is missing a \"-SIP\" suffix.\n",
      "                astropy.wcs is using the SIP distortion coefficients,\n",
      "                therefore the coordinates calculated here might be incorrect.\n",
      "\n",
      "                If you do not want to apply the SIP distortion coefficients,\n",
      "                please remove the SIP coefficients from the FITS header or the\n",
      "                WCS object.  As an example, if the image is already distortion-corrected\n",
      "                (e.g., drizzled) then distortion components should not apply and the SIP\n",
      "                coefficients should be removed.\n",
      "\n",
      "                While the SIP distortion coefficients are being applied here, if that was indeed the intent,\n",
      "                for consistency please append \"-SIP\" to the CTYPE in the FITS header or the WCS object.\n",
      "\n",
      "                 [astropy.wcs.wcs]\n"
     ]
    },
    {
     "name": "stderr",
     "output_type": "stream",
     "text": [
      "WARNING: Some non-standard WCS keywords were excluded: A_ORDER, A_0_2, A_0_3, A_1_1, A_1_2, A_2_0, A_2_1, A_3_0, B_ORDER, B_0_2, B_0_3, B_1_1, B_1_2, B_2_0, B_2_1, B_3_0, AP_ORDER, AP_0_2, AP_0_3, AP_1_1, AP_1_2, AP_2_0, AP_2_1, AP_3_0, BP_ORDER, BP_0_2, BP_0_3, BP_1_1, BP_1_2, BP_2_0, BP_2_1, BP_3_0 Use the ``relax`` kwarg to control this. [astropy.wcs.wcs]\n"
     ]
    },
    {
     "name": "stdout",
     "output_type": "stream",
     "text": [
      "2023-08-07T17:41:29.023743: After re-realignment, offset is -0.023637323420189205 arcsec, -0.02555105036350369 arcsec using 189 matches\n",
      "INFO: Kept 7752 out of 9945 VVV stars using ksmag_limit>11 [align_to_catalogs]\n",
      "INFO: For f405n merged 002 catalog /orange/adamginsburg/jwst/cloudc//F405N/pipeline/jw02221-o002_t001_nircam_clear-f405n-merged_cat.ecsv, found 9430 of 19563 sources meeting criteria mag<15 [align_to_catalogs]\n",
      "2023-08-07T17:41:30.364892: Before realignment, offset is 0.0035959925980932894 arcsec, 0.0021842864541099516 arcsec.  Found 257 matches.\n",
      "2023-08-07T17:41:30.369843: CRVAL before 266.59154053673 -28.55716467436\n",
      "2023-08-07T17:41:30.378238: CRVAL after 266.59153953784 -28.556054169995\n",
      "INFO: \n",
      "                Inconsistent SIP distortion information is present in the FITS header and the WCS object:\n",
      "                SIP coefficients were detected, but CTYPE is missing a \"-SIP\" suffix.\n",
      "                astropy.wcs is using the SIP distortion coefficients,\n",
      "                therefore the coordinates calculated here might be incorrect.\n",
      "\n",
      "                If you do not want to apply the SIP distortion coefficients,\n",
      "                please remove the SIP coefficients from the FITS header or the\n",
      "                WCS object.  As an example, if the image is already distortion-corrected\n",
      "                (e.g., drizzled) then distortion components should not apply and the SIP\n",
      "                coefficients should be removed.\n",
      "\n",
      "                While the SIP distortion coefficients are being applied here, if that was indeed the intent,\n",
      "                for consistency please append \"-SIP\" to the CTYPE in the FITS header or the WCS object.\n",
      "\n",
      "                 [astropy.wcs.wcs]\n",
      "2023-08-07T17:41:30.417543: After realignment, offset is 0.0008676221341374912 arcsec, 5.371703082346357e-10 arcsec with 259 mathces\n",
      "INFO: \n",
      "                Inconsistent SIP distortion information is present in the FITS header and the WCS object:\n",
      "                SIP coefficients were detected, but CTYPE is missing a \"-SIP\" suffix.\n",
      "                astropy.wcs is using the SIP distortion coefficients,\n",
      "                therefore the coordinates calculated here might be incorrect.\n",
      "\n",
      "                If you do not want to apply the SIP distortion coefficients,\n",
      "                please remove the SIP coefficients from the FITS header or the\n",
      "                WCS object.  As an example, if the image is already distortion-corrected\n",
      "                (e.g., drizzled) then distortion components should not apply and the SIP\n",
      "                coefficients should be removed.\n",
      "\n",
      "                While the SIP distortion coefficients are being applied here, if that was indeed the intent,\n",
      "                for consistency please append \"-SIP\" to the CTYPE in the FITS header or the WCS object.\n",
      "\n",
      "                 [astropy.wcs.wcs]\n",
      "2023-08-07T17:41:30.447682: After re-realignment, offset is 0.0008676221341374912 arcsec, 5.371703082346357e-10 arcsec using 259 matches\n"
     ]
    },
    {
     "name": "stderr",
     "output_type": "stream",
     "text": [
      "WARNING: Some non-standard WCS keywords were excluded: A_ORDER, A_0_2, A_0_3, A_1_1, A_1_2, A_2_0, A_2_1, A_3_0, B_ORDER, B_0_2, B_0_3, B_1_1, B_1_2, B_2_0, B_2_1, B_3_0, AP_ORDER, AP_0_2, AP_0_3, AP_1_1, AP_1_2, AP_2_0, AP_2_1, AP_3_0, BP_ORDER, BP_0_2, BP_0_3, BP_1_1, BP_1_2, BP_2_0, BP_2_1, BP_3_0 Use the ``relax`` kwarg to control this. [astropy.wcs.wcs]\n"
     ]
    },
    {
     "name": "stdout",
     "output_type": "stream",
     "text": [
      "INFO: Kept 7752 out of 9945 VVV stars using ksmag_limit>11 [align_to_catalogs]\n",
      "INFO: For f405n merged 002 catalog /orange/adamginsburg/jwst/cloudc//F405N/pipeline/jw02221-o002_t001_nircam_clear-f405n-merged_cat.ecsv, found 9430 of 19563 sources meeting criteria mag<15 [align_to_catalogs]\n",
      "2023-08-07T17:41:31.831025: Before realignment, offset is -0.0009048649189935531 arcsec, -0.026089722318545228 arcsec.  Found 193 matches.\n",
      "2023-08-07T17:41:31.835620: CRVAL before 266.58377837707 -28.593542796145\n",
      "2023-08-07T17:41:31.844384: CRVAL after 266.58377862842 -28.591313326778\n",
      "INFO: \n",
      "                Inconsistent SIP distortion information is present in the FITS header and the WCS object:\n",
      "                SIP coefficients were detected, but CTYPE is missing a \"-SIP\" suffix.\n",
      "                astropy.wcs is using the SIP distortion coefficients,\n",
      "                therefore the coordinates calculated here might be incorrect.\n",
      "\n",
      "                If you do not want to apply the SIP distortion coefficients,\n",
      "                please remove the SIP coefficients from the FITS header or the\n",
      "                WCS object.  As an example, if the image is already distortion-corrected\n",
      "                (e.g., drizzled) then distortion components should not apply and the SIP\n",
      "                coefficients should be removed.\n",
      "\n",
      "                While the SIP distortion coefficients are being applied here, if that was indeed the intent,\n",
      "                for consistency please append \"-SIP\" to the CTYPE in the FITS header or the WCS object.\n",
      "\n",
      "                 [astropy.wcs.wcs]\n",
      "2023-08-07T17:41:31.884308: After realignment, offset is -3.069339982175734e-06 arcsec, -0.03349092469591142 arcsec with 197 mathces\n",
      "INFO: \n",
      "                Inconsistent SIP distortion information is present in the FITS header and the WCS object:\n",
      "                SIP coefficients were detected, but CTYPE is missing a \"-SIP\" suffix.\n",
      "                astropy.wcs is using the SIP distortion coefficients,\n",
      "                therefore the coordinates calculated here might be incorrect.\n",
      "\n",
      "                If you do not want to apply the SIP distortion coefficients,\n",
      "                please remove the SIP coefficients from the FITS header or the\n",
      "                WCS object.  As an example, if the image is already distortion-corrected\n",
      "                (e.g., drizzled) then distortion components should not apply and the SIP\n",
      "                coefficients should be removed.\n",
      "\n",
      "                While the SIP distortion coefficients are being applied here, if that was indeed the intent,\n",
      "                for consistency please append \"-SIP\" to the CTYPE in the FITS header or the WCS object.\n",
      "\n",
      "                 [astropy.wcs.wcs]\n",
      "2023-08-07T17:41:31.915115: After re-realignment, offset is -3.069339982175734e-06 arcsec, -0.03349092469591142 arcsec using 197 matches\n"
     ]
    },
    {
     "name": "stderr",
     "output_type": "stream",
     "text": [
      "WARNING: Some non-standard WCS keywords were excluded: A_ORDER, A_0_2, A_0_3, A_1_1, A_1_2, A_2_0, A_2_1, A_3_0, B_ORDER, B_0_2, B_0_3, B_1_1, B_1_2, B_2_0, B_2_1, B_3_0, AP_ORDER, AP_0_2, AP_0_3, AP_1_1, AP_1_2, AP_2_0, AP_2_1, AP_3_0, BP_ORDER, BP_0_2, BP_0_3, BP_1_1, BP_1_2, BP_2_0, BP_2_1, BP_3_0 Use the ``relax`` kwarg to control this. [astropy.wcs.wcs]\n"
     ]
    },
    {
     "name": "stdout",
     "output_type": "stream",
     "text": [
      "INFO: Kept 7752 out of 9945 VVV stars using ksmag_limit>11 [align_to_catalogs]\n",
      "INFO: For f405n merged 002 catalog /orange/adamginsburg/jwst/cloudc//F405N/pipeline/jw02221-o002_t001_nircam_clear-f405n-merged_cat.ecsv, found 9430 of 19563 sources meeting criteria mag<15 [align_to_catalogs]\n",
      "2023-08-07T17:41:33.876829: Before realignment, offset is 0.0014897899745847099 arcsec, -0.029909506461933688 arcsec.  Found 273 matches.\n",
      "2023-08-07T17:41:34.469568: CRVAL before 266.59154983035 -28.556436704257\n",
      "2023-08-07T17:41:34.492170: CRVAL after 266.59154941652 -28.55531728495\n",
      "INFO: \n",
      "                Inconsistent SIP distortion information is present in the FITS header and the WCS object:\n",
      "                SIP coefficients were detected, but CTYPE is missing a \"-SIP\" suffix.\n",
      "                astropy.wcs is using the SIP distortion coefficients,\n",
      "                therefore the coordinates calculated here might be incorrect.\n",
      "\n",
      "                If you do not want to apply the SIP distortion coefficients,\n",
      "                please remove the SIP coefficients from the FITS header or the\n",
      "                WCS object.  As an example, if the image is already distortion-corrected\n",
      "                (e.g., drizzled) then distortion components should not apply and the SIP\n",
      "                coefficients should be removed.\n",
      "\n",
      "                While the SIP distortion coefficients are being applied here, if that was indeed the intent,\n",
      "                for consistency please append \"-SIP\" to the CTYPE in the FITS header or the WCS object.\n",
      "\n",
      "                 [astropy.wcs.wcs]\n",
      "2023-08-07T17:41:34.580868: After realignment, offset is -0.005517759382200893 arcsec, -0.024440738329190026 arcsec with 272 mathces\n",
      "INFO: \n",
      "                Inconsistent SIP distortion information is present in the FITS header and the WCS object:\n",
      "                SIP coefficients were detected, but CTYPE is missing a \"-SIP\" suffix.\n",
      "                astropy.wcs is using the SIP distortion coefficients,\n",
      "                therefore the coordinates calculated here might be incorrect.\n",
      "\n",
      "                If you do not want to apply the SIP distortion coefficients,\n",
      "                please remove the SIP coefficients from the FITS header or the\n",
      "                WCS object.  As an example, if the image is already distortion-corrected\n",
      "                (e.g., drizzled) then distortion components should not apply and the SIP\n",
      "                coefficients should be removed.\n",
      "\n",
      "                While the SIP distortion coefficients are being applied here, if that was indeed the intent,\n",
      "                for consistency please append \"-SIP\" to the CTYPE in the FITS header or the WCS object.\n",
      "\n",
      "                 [astropy.wcs.wcs]\n",
      "2023-08-07T17:41:34.653675: After re-realignment, offset is -0.005517759382200893 arcsec, -0.024440738329190026 arcsec using 272 matches\n"
     ]
    },
    {
     "name": "stderr",
     "output_type": "stream",
     "text": [
      "WARNING: Some non-standard WCS keywords were excluded: A_ORDER, A_0_2, A_0_3, A_1_1, A_1_2, A_2_0, A_2_1, A_3_0, B_ORDER, B_0_2, B_0_3, B_1_1, B_1_2, B_2_0, B_2_1, B_3_0, AP_ORDER, AP_0_2, AP_0_3, AP_1_1, AP_1_2, AP_2_0, AP_2_1, AP_3_0, BP_ORDER, BP_0_2, BP_0_3, BP_1_1, BP_1_2, BP_2_0, BP_2_1, BP_3_0 Use the ``relax`` kwarg to control this. [astropy.wcs.wcs]\n"
     ]
    }
   ],
   "source": [
    "for i in ims:\n",
    "    realigned_vvv_i = i.split('.')[0]+'_realigned.fits'\n",
    "    shutil.copy(i, realigned_vvv_i)\n",
    "    visit = i.split('_')[0][-3:]\n",
    "    if visit == '001':\n",
    "        raoffset = 0*u.arcsec\n",
    "        decoffset = -8*u.arcsec\n",
    "    elif visit == '002':\n",
    "        raoffset = 0*u.arcsec#-1*u.arcsec\n",
    "        decoffset = -4*u.arcsec\n",
    "    else:\n",
    "        raoffset = 0*u.arcsec\n",
    "        decoffset = 0*u.arcsec\n",
    "    realign_to_vvv(filtername=filtername.lower(), fov_regname=fov_regname[regionname], basepath=basepath, module=module, fieldnumber=field, \n",
    "                   imfile=realigned_vvv_i, ksmag_limit=15 if filtername=='f410m' else 11, mag_limit=15, raoffset=raoffset, decoffset=decoffset)"
   ]
  },
  {
   "cell_type": "code",
   "execution_count": null,
   "id": "5bc44894-2e4c-4d59-97e4-fc426b0fe666",
   "metadata": {},
   "outputs": [],
   "source": []
  },
  {
   "cell_type": "code",
   "execution_count": null,
   "id": "83b13ad5-6714-4f0d-8401-00781ac42f50",
   "metadata": {},
   "outputs": [],
   "source": []
  },
  {
   "cell_type": "code",
   "execution_count": null,
   "id": "49603b0f-3196-404e-a6d2-4ad15e57a99d",
   "metadata": {},
   "outputs": [],
   "source": []
  },
  {
   "cell_type": "code",
   "execution_count": null,
   "id": "950a398b-337d-4aef-8d3f-2cd82365d465",
   "metadata": {},
   "outputs": [],
   "source": []
  },
  {
   "cell_type": "code",
   "execution_count": null,
   "id": "d10bcec5-f2ed-459d-b27b-3746efdb3ed7",
   "metadata": {},
   "outputs": [],
   "source": []
  }
 ],
 "metadata": {
  "kernelspec": {
   "display_name": "Python 3 (ipykernel)",
   "language": "python",
   "name": "python3"
  },
  "language_info": {
   "codemirror_mode": {
    "name": "ipython",
    "version": 3
   },
   "file_extension": ".py",
   "mimetype": "text/x-python",
   "name": "python",
   "nbconvert_exporter": "python",
   "pygments_lexer": "ipython3",
   "version": "3.9.17"
  }
 },
 "nbformat": 4,
 "nbformat_minor": 5
}
