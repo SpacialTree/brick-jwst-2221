{
 "cells": [
  {
   "cell_type": "code",
   "execution_count": 2,
   "id": "f95378b5-8b56-470e-b88f-4bc2d8b7564c",
   "metadata": {
    "tags": []
   },
   "outputs": [],
   "source": [
    "import numpy as np\n",
    "import shutil\n",
    "import os\n",
    "import astropy.units as u\n",
    "from astropy.coordinates import SkyCoord\n",
    "from astroquery.gaia import Gaia\n",
    "import regions\n",
    "from astroquery.vizier import Vizier\n",
    "from astropy.visualization import quantity_support\n",
    "from astropy import log\n",
    "from astropy.table import Table\n",
    "import warnings\n",
    "\n",
    "from astropy.wcs import WCS\n",
    "from astropy.io import fits\n",
    "\n",
    "import matplotlib.pyplot as plt\n",
    "\n",
    "from align_to_catalogs import realign_to_vvv, realign_to_catalog, merge_a_plus_b, retrieve_vvv\n",
    "\n",
    "# do this before importing webb==\n",
    "os.environ[\"CRDS_PATH\"] = \"/orange/adamginsburg/jwst/brick/crds/\"\n",
    "os.environ[\"CRDS_SERVER_URL\"] = \"https://jwst-crds.stsci.edu\"\n",
    "\n",
    "from jwst.pipeline import calwebb_image3\n",
    "from jwst.pipeline import Detector1Pipeline, Image2Pipeline\n",
    "\n",
    "# Individual steps that make up calwebb_image3\n",
    "from jwst.tweakreg import TweakRegStep\n",
    "from jwst.skymatch import SkyMatchStep\n",
    "from jwst.tweakreg.utils import adjust_wcs\n",
    "from jwst.outlier_detection import OutlierDetectionStep\n",
    "from jwst.resample import ResampleStep\n",
    "from jwst.source_catalog import SourceCatalogStep\n",
    "from jwst import datamodels\n",
    "from jwst.associations import asn_from_list\n",
    "from jwst.associations.lib.rules_level3_base import DMS_Level3_Base\n",
    "from jwst.tweakreg.utils import adjust_wcs\n",
    "from destreak import destreak\n",
    "from jwst.datamodels import ImageModel"
   ]
  },
  {
   "cell_type": "code",
   "execution_count": 1,
   "id": "ea34396f-e28f-43ba-867c-137db27e4117",
   "metadata": {
    "tags": []
   },
   "outputs": [],
   "source": [
    "fn = '/orange/adamginsburg/jwst/cloudc/F187N/pipeline/jw02221-o002_t001_nircam_clear-f187n-nrca_i2d.fits'\n",
    "fn_realigned = '/orange/adamginsburg/jwst/cloudc/F187N/pipeline/jw02221-o002_t001_nircam_clear-f187n-nrca_realigned-to-vvv.fits'"
   ]
  },
  {
   "cell_type": "code",
   "execution_count": 15,
   "id": "206bbb40-5424-488d-b39c-e0861560aa9c",
   "metadata": {
    "tags": []
   },
   "outputs": [],
   "source": [
    "refcat = '/orange/adamginsburg/jwst/cloudc/catalogs/crowdsource_based_nircam-f405n_reference_astrometric_catalog.fits'\n",
    "vvvcat = '/orange/adamginsburg/jwst/cloudc/catalogs/jw02221-o002_t001_nircam_clear-F405N-merged_vvvcat.fits'"
   ]
  },
  {
   "cell_type": "code",
   "execution_count": 16,
   "id": "a460ace5-0aa6-41cc-b9d5-b9d3e0038133",
   "metadata": {
    "tags": []
   },
   "outputs": [
    {
     "name": "stdout",
     "output_type": "stream",
     "text": [
      "/orange/adamginsburg/jwst/cloudc/F187N/pipeline/jw02221-o002_t001_nircam_clear-f187n-nrca_cat.ecsv\n",
      "/orange/adamginsburg/jwst/cloudc/F187N/pipeline/jw02221-o002_t001_nircam_clear-f187n-nrca_i2d.fits\n",
      "/orange/adamginsburg/jwst/cloudc/F187N/pipeline/jw02221-o002_t001_nircam_clear-f187n-nrca_i2d_satstar_catalog.fits\n",
      "/orange/adamginsburg/jwst/cloudc/F187N/pipeline/jw02221-o002_t001_nircam_clear-f187n-nrca_i2d_unsatstar.fits\n",
      "/orange/adamginsburg/jwst/cloudc/F187N/pipeline/jw02221-o002_t001_nircam_clear-f187n-nrca_nodestreak_realigned-to-refcat.fits\n",
      "/orange/adamginsburg/jwst/cloudc/F187N/pipeline/jw02221-o002_t001_nircam_clear-f187n-nrca_nodestreak_realigned-to-vvv.fits\n",
      "/orange/adamginsburg/jwst/cloudc/F187N/pipeline/jw02221-o002_t001_nircam_clear-f187n-nrca_nodestreak_realigned-to-vvv_satstar_catalog.fits\n",
      "/orange/adamginsburg/jwst/cloudc/F187N/pipeline/jw02221-o002_t001_nircam_clear-f187n-nrca_nodestreak_realigned-to-vvv_unsatstar.fits\n",
      "/orange/adamginsburg/jwst/cloudc/F187N/pipeline/jw02221-o002_t001_nircam_clear-f187n-nrca_realigned-to-refcat.fits\n",
      "/orange/adamginsburg/jwst/cloudc/F187N/pipeline/jw02221-o002_t001_nircam_clear-f187n-nrca_realigned-to-vvv.fits\n",
      "/orange/adamginsburg/jwst/cloudc/F187N/pipeline/jw02221-o002_t001_nircam_clear-f187n-nrca_realigned-to-vvv_satstar_catalog.fits\n",
      "/orange/adamginsburg/jwst/cloudc/F187N/pipeline/jw02221-o002_t001_nircam_clear-f187n-nrca_realigned-to-vvv_unsatstar.fits\n",
      "/orange/adamginsburg/jwst/cloudc/F187N/pipeline/jw02221-o002_t001_nircam_clear-f187n-nrca_segm.fits\n",
      "/orange/adamginsburg/jwst/cloudc/F187N/pipeline/jw02221-o002_t001_nircam_clear-f187n-nrca_vvvcat.ecsv\n",
      "/orange/adamginsburg/jwst/cloudc/F187N/pipeline/jw02221-o002_t001_nircam_clear-f187n-nrca_vvvcat.fits\n"
     ]
    }
   ],
   "source": [
    "ls /orange/adamginsburg/jwst/cloudc/F187N/pipeline/*clear*nrca*"
   ]
  },
  {
   "cell_type": "code",
   "execution_count": 17,
   "id": "9d23f6e1-b9bb-4efa-8d76-c0ff7ef413dd",
   "metadata": {
    "tags": []
   },
   "outputs": [],
   "source": [
    "hdu = fits.open(fn)"
   ]
  },
  {
   "cell_type": "code",
   "execution_count": 18,
   "id": "b035251c-f452-438b-8dc3-d7b89ffde810",
   "metadata": {
    "tags": []
   },
   "outputs": [],
   "source": [
    "hdu_realigned = fits.open(fn_realigned)"
   ]
  },
  {
   "cell_type": "code",
   "execution_count": 19,
   "id": "e4aab507-8512-4149-8886-75fc8cfa0258",
   "metadata": {
    "tags": []
   },
   "outputs": [],
   "source": [
    "basepath = '/orange/adamginsburg/jwst/cloudc/'"
   ]
  },
  {
   "cell_type": "code",
   "execution_count": 23,
   "id": "1590a8e2-6ffb-4945-aee7-c2a6996cd6df",
   "metadata": {
    "tags": []
   },
   "outputs": [],
   "source": [
    "filtername = 'F187N'\n",
    "fov_regname = {'brick': 'regions_/nircam_brick_fov.reg',\n",
    "               'cloudc': 'regions_/nircam_cloudc_fov.reg',\n",
    "              }\n",
    "regionname = 'cloudc'\n",
    "field = '002'\n",
    "proposal_id = '2221'\n",
    "module = 'nrca'\n",
    "destreak_suffix = ''\n",
    "raoffset = 0*u.arcsec\n",
    "decoffset = 0*u.arcsec\n",
    "wavelength = 187"
   ]
  },
  {
   "cell_type": "code",
   "execution_count": 29,
   "id": "0a885c1f-a538-41e9-97e7-7fa556318804",
   "metadata": {
    "tags": []
   },
   "outputs": [
    {
     "name": "stdout",
     "output_type": "stream",
     "text": [
      "INFO: Kept 7752 out of 9945 VVV stars using ksmag_limit>11 [align_to_catalogs]\n",
      "INFO: For f187n nrca 002 catalog /orange/adamginsburg/jwst/cloudc//F187N/pipeline/jw02221-o002_t001_nircam_clear-f187n-nrca_cat.ecsv, found 1877 of 26210 sources meeting criteria mag<15 [align_to_catalogs]\n",
      "2024-01-12T16:26:38.333883: At realignment iteration 0, offset is 0.01683004118149256 arcsec, 0.08969860832337417 arcsec.  Found 1215 matches.\n",
      "2024-01-12T16:26:38.786245: At realignment iteration 1, offset is 0.00023751614435241208 arcsec, 0.005337756355316969 arcsec.  Found 1258 matches.\n",
      "2024-01-12T16:26:39.045864: At realignment iteration 2, offset is 5.606441391137196e-05 arcsec, 0.0001256340887323404 arcsec.  Found 1260 matches.\n",
      "2024-01-12T16:26:39.152075: CRVAL before 266.5905159646875 -28.564360356981712\n",
      "2024-01-12T16:26:39.176967: CRVAL after 266.59051120813 -28.564359013092\n",
      "2024-01-12T16:26:39.961667: After realignment, offset is 9.106315701501444e-09 arcsec, 1.7010393094096798e-09 arcsec with 1260 mathces\n",
      "2024-01-12T16:26:40.136198: After re-realignment, offset is 9.106315701501444e-09 arcsec, 1.7010393094096798e-09 arcsec using 1260 matches\n"
     ]
    }
   ],
   "source": [
    "realigned_vvv_filename = f'{basepath}/{filtername.upper()}/pipeline/jw0{proposal_id}-o{field}_t001_nircam_clear-{filtername.lower()}-{module}{destreak_suffix}_realigned-to-vvv.fits'\n",
    "shutil.copy(f'{basepath}/{filtername.upper()}/pipeline/jw0{proposal_id}-o{field}_t001_nircam_clear-{filtername.lower()}-{module}_i2d.fits',\n",
    "            realigned_vvv_filename)\n",
    "realigned = realign_to_vvv(filtername=filtername.lower(),\n",
    "                           fov_regname=fov_regname[regionname],\n",
    "                           basepath=basepath, module=module,\n",
    "                           fieldnumber=field, proposal_id=proposal_id,\n",
    "                           imfile=realigned_vvv_filename,\n",
    "                           ksmag_limit=15 if filtername.lower() == 'f410m' else 11,\n",
    "                           mag_limit=18 if filtername.lower() == 'f115w' else 15,\n",
    "                           max_offset=(0.4 if wavelength > 250 else 0.3)*u.arcsec,\n",
    "                           raoffset=raoffset,\n",
    "                           decoffset=-0.1*u.arcsec)"
   ]
  },
  {
   "cell_type": "code",
   "execution_count": 3,
   "id": "c04fd84d-956b-462a-83d6-fb23f54e6ff1",
   "metadata": {
    "tags": []
   },
   "outputs": [],
   "source": [
    "im = ImageModel(fn)"
   ]
  },
  {
   "cell_type": "code",
   "execution_count": 4,
   "id": "e601d10c-3780-4f2f-9fa8-2ede6535a781",
   "metadata": {
    "tags": []
   },
   "outputs": [
    {
     "data": {
      "text/plain": [
       "<ImageModel(5034, 10598) from jw02221-o002_t001_nircam_clear-f187n-nrca_i2d.fits>"
      ]
     },
     "execution_count": 4,
     "metadata": {},
     "output_type": "execute_result"
    }
   ],
   "source": [
    "im"
   ]
  },
  {
   "cell_type": "code",
   "execution_count": null,
   "id": "05bdd894-a989-4ab2-9bb8-a3d3cfbb248f",
   "metadata": {},
   "outputs": [],
   "source": []
  }
 ],
 "metadata": {
  "kernelspec": {
   "display_name": "Python 3 (ipykernel)",
   "language": "python",
   "name": "python3"
  },
  "language_info": {
   "codemirror_mode": {
    "name": "ipython",
    "version": 3
   },
   "file_extension": ".py",
   "mimetype": "text/x-python",
   "name": "python",
   "nbconvert_exporter": "python",
   "pygments_lexer": "ipython3",
   "version": "3.9.17"
  }
 },
 "nbformat": 4,
 "nbformat_minor": 5
}
