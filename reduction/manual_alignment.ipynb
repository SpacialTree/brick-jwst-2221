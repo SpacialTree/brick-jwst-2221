{
 "cells": [
  {
   "cell_type": "code",
   "execution_count": 1,
   "id": "43abbb89-1ca9-4bdc-8ebc-9ecbdf48084d",
   "metadata": {
    "tags": []
   },
   "outputs": [],
   "source": [
    "from glob import glob\n",
    "from astroquery.mast import Mast, Observations\n",
    "import os\n",
    "import shutil\n",
    "import numpy as np\n",
    "import json\n",
    "import requests\n",
    "import asdf\n",
    "from astropy import log\n",
    "from astropy import wcs\n",
    "from astropy.io import ascii, fits\n",
    "from astropy.utils.data import download_file\n",
    "from astropy.visualization import simple_norm\n",
    "from astropy.visualization import ImageNormalize, ManualInterval, LogStretch, LinearStretch\n",
    "from astropy.wcs.utils import skycoord_to_pixel\n",
    "from astropy.nddata import extract_array\n",
    "\n",
    "import matplotlib.pyplot as plt\n",
    "import matplotlib as mpl\n",
    "from astropy.table import Table\n",
    "\n",
    "from align_to_catalogs import *\n",
    "import astropy.units as u\n",
    "\n",
    "import align_to_catalogs\n",
    "from jwst import assign_wcs#.util.update_fits_wcsinfo\n",
    "from jwst.datamodels import ImageModel\n"
   ]
  },
  {
   "cell_type": "code",
   "execution_count": 51,
   "id": "ad61ec1c-15a2-4839-ab93-12281fe22519",
   "metadata": {
    "tags": []
   },
   "outputs": [],
   "source": [
    "plt.rcParams['figure.facecolor'] = 'w'\n",
    "plt.rcParams['image.origin'] = 'lower'"
   ]
  },
  {
   "cell_type": "code",
   "execution_count": 52,
   "id": "6b71c724-9ba2-4781-8776-e347638c2e19",
   "metadata": {
    "tags": []
   },
   "outputs": [],
   "source": [
    "os.environ[\"CRDS_PATH\"] = \"/orange/adamginsburg/jwst/brick/crds/\"\n",
    "os.environ[\"CRDS_SERVER_URL\"] = \"https://jwst-crds.stsci.edu\""
   ]
  },
  {
   "cell_type": "code",
   "execution_count": null,
   "id": "e702541a-1ce5-4486-8271-260519c89e5d",
   "metadata": {
    "tags": []
   },
   "outputs": [],
   "source": []
  },
  {
   "cell_type": "code",
   "execution_count": null,
   "id": "e9e2a41b-2cf9-4738-8eda-52d905b873a9",
   "metadata": {
    "collapsed": true,
    "jupyter": {
     "outputs_hidden": true
    },
    "tags": []
   },
   "outputs": [],
   "source": []
  },
  {
   "cell_type": "code",
   "execution_count": 53,
   "id": "df6ca232-fab5-4e45-834a-86b4b89b0dc2",
   "metadata": {
    "tags": []
   },
   "outputs": [
    {
     "data": {
      "text/plain": [
       "['/orange/adamginsburg/jwst/cloudc/F405N/pipeline/jw02221002001_08201_00004_nrcblong_destreak.fits',\n",
       " '/orange/adamginsburg/jwst/cloudc/F405N/pipeline/jw02221002001_02201_00001_nrcblong_destreak.fits',\n",
       " '/orange/adamginsburg/jwst/cloudc/F405N/pipeline/jw02221002002_08201_00001_nrcalong_destreak.fits',\n",
       " '/orange/adamginsburg/jwst/cloudc/F405N/pipeline/jw02221002001_08201_00002_nrcalong_destreak.fits',\n",
       " '/orange/adamginsburg/jwst/cloudc/F405N/pipeline/jw02221002002_08201_00002_nrcblong_destreak.fits',\n",
       " '/orange/adamginsburg/jwst/cloudc/F405N/pipeline/jw02221002001_08201_00001_nrcblong_destreak.fits',\n",
       " '/orange/adamginsburg/jwst/cloudc/F405N/pipeline/jw02221002001_02201_00003_nrcalong_destreak.fits',\n",
       " '/orange/adamginsburg/jwst/cloudc/F405N/pipeline/jw02221002002_02201_00002_nrcalong_destreak.fits',\n",
       " '/orange/adamginsburg/jwst/cloudc/F405N/pipeline/jw02221002001_08201_00004_nrcalong_destreak.fits',\n",
       " '/orange/adamginsburg/jwst/cloudc/F405N/pipeline/jw02221002001_08201_00003_nrcalong_destreak.fits',\n",
       " '/orange/adamginsburg/jwst/cloudc/F405N/pipeline/jw02221002002_08201_00002_nrcalong_destreak.fits',\n",
       " '/orange/adamginsburg/jwst/cloudc/F405N/pipeline/jw02221002001_02201_00003_nrcblong_destreak.fits',\n",
       " '/orange/adamginsburg/jwst/cloudc/F405N/pipeline/jw02221002001_08201_00001_nrcalong_destreak.fits',\n",
       " '/orange/adamginsburg/jwst/cloudc/F405N/pipeline/jw02221002001_02201_00004_nrcalong_destreak.fits',\n",
       " '/orange/adamginsburg/jwst/cloudc/F405N/pipeline/jw02221002002_08201_00001_nrcblong_destreak.fits',\n",
       " '/orange/adamginsburg/jwst/cloudc/F405N/pipeline/jw02221002002_02201_00003_nrcblong_destreak.fits',\n",
       " '/orange/adamginsburg/jwst/cloudc/F405N/pipeline/jw02221002001_02201_00004_nrcblong_destreak.fits',\n",
       " '/orange/adamginsburg/jwst/cloudc/F405N/pipeline/jw02221002002_02201_00002_nrcblong_destreak.fits',\n",
       " '/orange/adamginsburg/jwst/cloudc/F405N/pipeline/jw02221002001_08201_00002_nrcblong_destreak.fits',\n",
       " '/orange/adamginsburg/jwst/cloudc/F405N/pipeline/jw02221002002_02201_00004_nrcblong_destreak.fits',\n",
       " '/orange/adamginsburg/jwst/cloudc/F405N/pipeline/jw02221002001_08201_00003_nrcblong_destreak.fits',\n",
       " '/orange/adamginsburg/jwst/cloudc/F405N/pipeline/jw02221002002_08201_00003_nrcalong_destreak.fits',\n",
       " '/orange/adamginsburg/jwst/cloudc/F405N/pipeline/jw02221002002_08201_00004_nrcalong_destreak.fits',\n",
       " '/orange/adamginsburg/jwst/cloudc/F405N/pipeline/jw02221002001_02201_00002_nrcblong_destreak.fits',\n",
       " '/orange/adamginsburg/jwst/cloudc/F405N/pipeline/jw02221002002_02201_00004_nrcalong_destreak.fits',\n",
       " '/orange/adamginsburg/jwst/cloudc/F405N/pipeline/jw02221002001_02201_00002_nrcalong_destreak.fits',\n",
       " '/orange/adamginsburg/jwst/cloudc/F405N/pipeline/jw02221002002_08201_00003_nrcblong_destreak.fits',\n",
       " '/orange/adamginsburg/jwst/cloudc/F405N/pipeline/jw02221002002_02201_00001_nrcalong_destreak.fits',\n",
       " '/orange/adamginsburg/jwst/cloudc/F405N/pipeline/jw02221002001_02201_00001_nrcalong_destreak.fits',\n",
       " '/orange/adamginsburg/jwst/cloudc/F405N/pipeline/jw02221002002_08201_00004_nrcblong_destreak.fits',\n",
       " '/orange/adamginsburg/jwst/cloudc/F405N/pipeline/jw02221002002_02201_00003_nrcalong_destreak.fits',\n",
       " '/orange/adamginsburg/jwst/cloudc/F405N/pipeline/jw02221002002_02201_00001_nrcblong_destreak.fits']"
      ]
     },
     "execution_count": 53,
     "metadata": {},
     "output_type": "execute_result"
    }
   ],
   "source": [
    "files = glob(\"/orange/adamginsburg/jwst/cloudc/F405N/pipeline/*destreak.fits\")\n",
    "files"
   ]
  },
  {
   "cell_type": "code",
   "execution_count": null,
   "id": "d284fd43-105e-4909-ac9b-95bf0975b6f7",
   "metadata": {
    "tags": []
   },
   "outputs": [],
   "source": []
  },
  {
   "cell_type": "code",
   "execution_count": 384,
   "id": "56b8258a-b675-4d85-98ea-556823c258b6",
   "metadata": {
    "tags": []
   },
   "outputs": [
    {
     "data": {
      "text/plain": [
       "'/orange/adamginsburg/jwst/cloudc/F405N/pipeline/jw02221002001_02201_00003_nrcalong_destreak_align.fits'"
      ]
     },
     "execution_count": 384,
     "metadata": {},
     "output_type": "execute_result"
    }
   ],
   "source": [
    "ref_image = '/orange/adamginsburg/jwst/cloudc/F405N/pipeline/jw02221002001_02201_00001_nrcblong_destreak_copy.fits'\n",
    "#'/orange/adamginsburg/jwst/cloudc/F405N/pipeline/jw02221002001_02201_00001_nrcblong_destreak_realigned_to_vvv.fits'\n",
    "file = '/orange/adamginsburg/jwst/cloudc/F405N/pipeline/jw02221002001_02201_00003_nrcalong_destreak.fits'\n",
    "#'/orange/adamginsburg/jwst/cloudc/F405N/pipeline/jw02221002001_08201_00001_nrcblong_destreak.fits'\n",
    "#'/orange/adamginsburg/jwst/cloudc/F405N/pipeline/jw02221002002_08201_00002_nrcblong_destreak.fits'\n",
    "#'/orange/adamginsburg/jwst/cloudc/F405N/pipeline/jw02221002001_08201_00002_nrcalong_destreak.fits'\n",
    "#'/orange/adamginsburg/jwst/cloudc/F405N/pipeline/jw02221002002_08201_00001_nrcalong_destreak.fits'\n",
    "#'/orange/adamginsburg/jwst/cloudc/F405N/pipeline/jw02221002001_02201_00001_nrcblong_destreak.fits'\n",
    "#'/orange/adamginsburg/jwst/cloudc/F405N/pipeline/jw02221002001_08201_00004_nrcblong_destreak.fits'\n",
    "#'/orange/adamginsburg/jwst/cloudc/F405N/pipeline/jw02221002002_02201_00001_nrcblong_destreak.fits'\n",
    "#'/orange/adamginsburg/jwst/cloudc/F405N/pipeline/jw02221002002_02201_00003_nrcalong_destreak.fits'\n",
    "#'/orange/adamginsburg/jwst/cloudc/F405N/pipeline/jw02221002002_08201_00004_nrcblong_destreak.fits'\n",
    "#'/orange/adamginsburg/jwst/cloudc/F405N/pipeline/jw02221002001_02201_00001_nrcalong_destreak.fits'\n",
    "#'/orange/adamginsburg/jwst/cloudc/F405N/pipeline/jw02221002002_02201_00001_nrcalong_destreak.fits'\n",
    "#'/orange/adamginsburg/jwst/cloudc/F405N/pipeline/jw02221002002_08201_00003_nrcblong_destreak.fits'\n",
    "#'/orange/adamginsburg/jwst/cloudc/F405N/pipeline/jw02221002001_02201_00002_nrcalong_destreak.fits'\n",
    "#'/orange/adamginsburg/jwst/cloudc/F405N/pipeline/jw02221002002_02201_00004_nrcalong_destreak.fits'\n",
    "align_image = file.split('.')[0]+'_align.fits'\n",
    "shutil.copy(file, align_image)"
   ]
  },
  {
   "cell_type": "code",
   "execution_count": null,
   "id": "e22e3b6f-867c-46e9-9d5f-427010aadf08",
   "metadata": {
    "tags": []
   },
   "outputs": [],
   "source": []
  },
  {
   "cell_type": "code",
   "execution_count": null,
   "id": "fb51b0e0-d397-460e-b991-e893af4586ae",
   "metadata": {},
   "outputs": [],
   "source": []
  },
  {
   "cell_type": "code",
   "execution_count": 385,
   "id": "6f820f2a-3572-4eb7-a7dc-d7a5a3e3b3c2",
   "metadata": {
    "tags": []
   },
   "outputs": [],
   "source": [
    "ref_fits = fits.open(ref_image)\n",
    "ref_data = fits.open(ref_image)['SCI',1].data"
   ]
  },
  {
   "cell_type": "code",
   "execution_count": 386,
   "id": "25e000e6-f2a1-4acb-bb37-4514ee143124",
   "metadata": {
    "tags": []
   },
   "outputs": [
    {
     "data": {
      "text/latex": [
       "$0.062595304 \\; \\mathrm{{}^{\\prime\\prime}}$"
      ],
      "text/plain": [
       "<Quantity 0.0625953 arcsec>"
      ]
     },
     "execution_count": 386,
     "metadata": {},
     "output_type": "execute_result"
    }
   ],
   "source": [
    "pixel_scale = np.sqrt(fits.getheader(align_image, ext=1)['PIXAR_A2']*u.arcsec**2)\n",
    "pixel_scale"
   ]
  },
  {
   "cell_type": "code",
   "execution_count": 387,
   "id": "6468675b-00c2-4463-8888-d9d0f9f34043",
   "metadata": {
    "tags": []
   },
   "outputs": [
    {
     "data": {
      "text/plain": [
       "'/orange/adamginsburg/jwst/cloudc/F405N/pipeline/jw02221002001_02201_00003_nrcalong_destreak_align.fits'"
      ]
     },
     "execution_count": 387,
     "metadata": {},
     "output_type": "execute_result"
    }
   ],
   "source": [
    "align_image"
   ]
  },
  {
   "cell_type": "raw",
   "id": "3576e98d-1660-4a0e-9cf6-ba3966487f89",
   "metadata": {},
   "source": [
    "sec    pointing    frame    module    offset\n",
    "1      02201       00001    nrca      8” right\n",
    "2      02201       00001    nrca      4” right\n",
    "1      08201       00001    nrca      8” right\n",
    "2      08201       00001    nrca      4”right\n",
    "\n",
    "1      02201       00001    nrcb      8” right\n",
    "2      02201       00001    nrcb      4” right\n",
    "1      08201       00001    nrcb      8” right\n",
    "2      08201       00001    nrcb      4” right"
   ]
  },
  {
   "cell_type": "code",
   "execution_count": 388,
   "id": "f9d73309-f9d4-431e-9524-7a29cd8fa7d3",
   "metadata": {
    "tags": []
   },
   "outputs": [
    {
     "name": "stderr",
     "output_type": "stream",
     "text": [
      "2023-08-29 18:32:30,803 - stpipe - WARNING - /blue/adamginsburg/adamginsburg/repos/astropy/astropy/wcs/wcs.py:819: FITSFixedWarning: 'datfix' made the change 'Set DATE-BEG to '2023-04-15T15:13:19.934' from MJD-BEG.\n",
      "Set DATE-AVG to '2023-04-15T15:13:46.776' from MJD-AVG.\n",
      "Set DATE-END to '2023-04-15T15:14:13.618' from MJD-END'.\n",
      "  warnings.warn(\n",
      "\n",
      "2023-08-29 18:32:30,805 - stpipe - WARNING - /blue/adamginsburg/adamginsburg/repos/astropy/astropy/wcs/wcs.py:819: FITSFixedWarning: 'obsfix' made the change 'Set OBSGEO-L to  -134.374386 from OBSGEO-[XYZ].\n",
      "Set OBSGEO-B to    -3.180978 from OBSGEO-[XYZ].\n",
      "Set OBSGEO-H to 1298835589.265 from OBSGEO-[XYZ]'.\n",
      "  warnings.warn(\n",
      "\n",
      "2023-08-29 18:32:31,164 - stpipe - WARNING - /blue/adamginsburg/adamginsburg/repos/astropy/astropy/wcs/wcs.py:819: FITSFixedWarning: 'datfix' made the change 'Set DATE-BEG to '2023-04-15T15:13:19.934' from MJD-BEG.\n",
      "Set DATE-AVG to '2023-04-15T15:13:46.776' from MJD-AVG.\n",
      "Set DATE-END to '2023-04-15T15:14:13.618' from MJD-END'.\n",
      "  warnings.warn(\n",
      "\n",
      "2023-08-29 18:32:31,166 - stpipe - WARNING - /blue/adamginsburg/adamginsburg/repos/astropy/astropy/wcs/wcs.py:819: FITSFixedWarning: 'obsfix' made the change 'Set OBSGEO-L to  -134.374386 from OBSGEO-[XYZ].\n",
      "Set OBSGEO-B to    -3.180978 from OBSGEO-[XYZ].\n",
      "Set OBSGEO-H to 1298835589.265 from OBSGEO-[XYZ]'.\n",
      "  warnings.warn(\n",
      "\n",
      "2023-08-29 18:32:31,173 - stpipe - WARNING - /blue/adamginsburg/adamginsburg/repos/astropy/astropy/wcs/wcs.py:819: FITSFixedWarning: 'datfix' made the change 'Set DATE-BEG to '2023-04-15T15:13:19.934' from MJD-BEG.\n",
      "Set DATE-AVG to '2023-04-15T15:13:46.776' from MJD-AVG.\n",
      "Set DATE-END to '2023-04-15T15:14:13.618' from MJD-END'.\n",
      "  warnings.warn(\n",
      "\n",
      "2023-08-29 18:32:31,174 - stpipe - WARNING - /blue/adamginsburg/adamginsburg/repos/astropy/astropy/wcs/wcs.py:819: FITSFixedWarning: 'obsfix' made the change 'Set OBSGEO-L to  -134.374386 from OBSGEO-[XYZ].\n",
      "Set OBSGEO-B to    -3.180978 from OBSGEO-[XYZ].\n",
      "Set OBSGEO-H to 1298835589.265 from OBSGEO-[XYZ]'.\n",
      "  warnings.warn(\n",
      "\n",
      "2023-08-29 18:32:31,184 - stpipe - WARNING - /blue/adamginsburg/adamginsburg/repos/astropy/astropy/wcs/wcs.py:819: FITSFixedWarning: 'datfix' made the change 'Set DATE-BEG to '2023-04-15T15:08:19.262' from MJD-BEG.\n",
      "Set DATE-AVG to '2023-04-15T15:08:46.104' from MJD-AVG.\n",
      "Set DATE-END to '2023-04-15T15:09:12.946' from MJD-END'.\n",
      "  warnings.warn(\n",
      "\n",
      "2023-08-29 18:32:31,185 - stpipe - WARNING - /blue/adamginsburg/adamginsburg/repos/astropy/astropy/wcs/wcs.py:819: FITSFixedWarning: 'obsfix' made the change 'Set OBSGEO-L to  -134.380275 from OBSGEO-[XYZ].\n",
      "Set OBSGEO-B to    -3.177752 from OBSGEO-[XYZ].\n",
      "Set OBSGEO-H to 1298809712.873 from OBSGEO-[XYZ]'.\n",
      "  warnings.warn(\n",
      "\n",
      "2023-08-29 18:32:31,193 - stpipe - WARNING - /blue/adamginsburg/adamginsburg/repos/astropy/astropy/wcs/wcs.py:819: FITSFixedWarning: 'datfix' made the change 'Set DATE-BEG to '2023-04-15T15:13:19.934' from MJD-BEG.\n",
      "Set DATE-AVG to '2023-04-15T15:13:46.776' from MJD-AVG.\n",
      "Set DATE-END to '2023-04-15T15:14:13.618' from MJD-END'.\n",
      "  warnings.warn(\n",
      "\n",
      "2023-08-29 18:32:31,194 - stpipe - WARNING - /blue/adamginsburg/adamginsburg/repos/astropy/astropy/wcs/wcs.py:819: FITSFixedWarning: 'obsfix' made the change 'Set OBSGEO-L to  -134.374386 from OBSGEO-[XYZ].\n",
      "Set OBSGEO-B to    -3.180978 from OBSGEO-[XYZ].\n",
      "Set OBSGEO-H to 1298835589.265 from OBSGEO-[XYZ]'.\n",
      "  warnings.warn(\n",
      "\n"
     ]
    },
    {
     "data": {
      "image/png": "[encoded data removed]",
      "text/plain": [
       "<Figure size 640x480 with 3 Axes>"
      ]
     },
     "metadata": {},
     "output_type": "display_data"
    }
   ],
   "source": [
    "#01_08201_00002_nrcbl\n",
    "#star_location = SkyCoord('17:46:15.2083797761','-28:38:06.0376993433',unit=(u.hourangle,u.deg))\n",
    "#star_location2 = SkyCoord('17:46:20.7437062304','-28:36:47.6472525487',unit=(u.hourangle,u.deg))\n",
    "#star_location3 = SkyCoord('17:46:22.0306124391','-28:37:54.1817578554',unit=(u.hourangle,u.deg))\n",
    "\n",
    "#02002_02201_00003_nrcbl\n",
    "#star_location = SkyCoord('17:46:17.9811789936','-28:35:42.3738317224',unit=(u.hourangle,u.deg))\n",
    "#star_location2 = SkyCoord('17:46:20.7437062304','-28:36:47.6472525487',unit=(u.hourangle,u.deg))\n",
    "#star_location3 = SkyCoord('17:46:23.4161884422','-28:35:22.1868251239',unit=(u.hourangle,u.deg))\n",
    "\n",
    "#02002_08201_00001_nrcbl\n",
    "#star_location = SkyCoord('17:46:18.8535027647','-28:34:38.7076845587',unit=(u.hourangle,u.deg))\n",
    "#star_location2 = SkyCoord('17:46:18.5876737284','-28:35:28.8406921089',unit=(u.hourangle,u.deg))\n",
    "#star_location3 = SkyCoord('17:46:24.2418605136','-28:35:08.1008023292',unit=(u.hourangle,u.deg))\n",
    "\n",
    "##1002001_02201_00003_nrcblo\n",
    "#star_location = SkyCoord('17:46:15.2083797761','-28:38:06.0376993433',unit=(u.hourangle,u.deg))\n",
    "#star_location2 = SkyCoord('17:46:18.3002105976','-28:39:03.6362699361',unit=(u.hourangle,u.deg))\n",
    "#star_location3 = SkyCoord('17:46:22.0306124391','-28:37:54.1817578554',unit=(u.hourangle,u.deg))\n",
    "\n",
    "# 2_08201_nrca\n",
    "#star_location = SkyCoord('17:46:20.4386265585','-28:31:33.2097415319',unit=(u.hourangle,u.deg))\n",
    "#star_location2 = SkyCoord('17:46:21.5464835067','-28:32:59.3212374597',unit=(u.hourangle,u.deg))\n",
    "#star_location3 = SkyCoord('17:46:27.1877425198','-28:32:50.1176777319',unit=(u.hourangle,u.deg))\n",
    "\n",
    "#1_08201_nrca\n",
    "#star_location = SkyCoord('17:46:17.4755800183','-28:33:29.4346915100',unit=(u.hourangle,u.deg))\n",
    "#star_location2 = SkyCoord('17:46:18.1359630965','-28:33:40.6677512987',unit=(u.hourangle,u.deg))\n",
    "#star_location3 = SkyCoord('17:46:25.3210055439','-28:34:05.7468224431',unit=(u.hourangle,u.deg))\n",
    "\n",
    "#002_02201_00004_nrcal\n",
    "#star_location = SkyCoord('17:46:24.0150084345','-28:32:40.8226642774',unit=(u.hourangle,u.deg))\n",
    "#star_location2 = SkyCoord('17:46:18.1361450710','-28:33:40.6695075082',unit=(u.hourangle,u.deg))\n",
    "#star_location3 = SkyCoord('17:46:23.7190259189','-28:34:01.0263844970',unit=(u.hourangle,u.deg))\n",
    "\n",
    "#2001_02201_00004_nrcal\n",
    "star_location = SkyCoord('17:46:18.3588098638','-28:36:07.7030895747',unit=(u.hourangle,u.deg))\n",
    "star_location2 = SkyCoord('17:46:22.4969954193','-28:35:05.0118468859',unit=(u.hourangle,u.deg))\n",
    "star_location3 = SkyCoord('17:46:18.8536627456','-28:34:38.7115616933',unit=(u.hourangle,u.deg))\n",
    "\n",
    "shutil.copy(file, align_image)\n",
    "#align_image = imfile#glob.glob('mastDownload/JWST/*long*/*cal.fits')[0]\n",
    "align_fits = fits.open(align_image)\n",
    "align_fits_wcs = wcs.WCS(fits.getheader(align_image, ext=1))\n",
    "align_fits['SCI',1].header['CRPIX1']+=(7.9*u.arcsec/pixel_scale).value\n",
    "align_fits['SCI',1].header['CRPIX2']+=(-0.3*u.arcsec/pixel_scale).value\n",
    "align_fits.writeto(align_image,overwrite=True)\n",
    "\n",
    "align_data = fits.open(align_image)['SCI',1].data\n",
    "align_y,align_x = skycoord_to_pixel(star_location,wcs.WCS(align_fits['SCI',1],align_fits))\n",
    "\n",
    "align_y2,align_x2 = skycoord_to_pixel(star_location2,wcs.WCS(align_fits['SCI',1],align_fits))\n",
    "\n",
    "align_y3,align_x3 = skycoord_to_pixel(star_location3,wcs.WCS(align_fits['SCI',1],align_fits))\n",
    "\n",
    "\n",
    "ref_y,ref_x = skycoord_to_pixel(star_location,wcs.WCS(ref_fits['SCI',1],ref_fits))\n",
    "align_y,align_x = skycoord_to_pixel(star_location,wcs.WCS(align_fits['SCI',1],align_fits))\n",
    "\n",
    "cutout_size=20.\n",
    "\n",
    "align_cutout = extract_array(align_data,(cutout_size,cutout_size),(align_x,align_y))\n",
    "norm1 = simple_norm(np.nan_to_num(align_cutout), stretch='log', max_percent=99.95, log_a=1)#simple_norm(align_cutout,stretch='linear',min_cut=-.5,max_cut=3)\n",
    "\n",
    "align_cutout2 = extract_array(align_data,(cutout_size,cutout_size),(align_x2,align_y2))\n",
    "norm2 = simple_norm(np.nan_to_num(align_cutout2), stretch='log', max_percent=99.95, log_a=1)\n",
    "\n",
    "align_cutout3 = extract_array(align_data,(cutout_size,cutout_size),(align_x3,align_y3))\n",
    "norm3 = simple_norm(np.nan_to_num(align_cutout3), stretch='log', max_percent=99.95, log_a=1)\n",
    "\n",
    "fig,axes = plt.subplots(1,3)\n",
    "axes[0].imshow(align_cutout, origin='lower',\n",
    "                      norm=norm1)\n",
    "axes[0].scatter(cutout_size/2, cutout_size/2, edgecolor='r', facecolor='none')\n",
    "axes[0].set_title('Star 1')\n",
    "axes[0].tick_params(labelcolor='none',axis='both',color='none')\n",
    "\n",
    "axes[1].imshow(align_cutout2, origin='lower',\n",
    "                      norm=norm2)\n",
    "axes[1].scatter(cutout_size/2, cutout_size/2, edgecolor='r', facecolor='none')\n",
    "axes[1].set_title('Star 2')\n",
    "axes[1].tick_params(labelcolor='none',axis='both',color='none')\n",
    "\n",
    "axes[2].imshow(align_cutout3, origin='lower',\n",
    "                      norm=norm3)\n",
    "axes[2].scatter(cutout_size/2, cutout_size/2, edgecolor='r', facecolor='none')\n",
    "axes[2].set_title('Star 3')\n",
    "axes[2].tick_params(labelcolor='none',axis='both',color='none')\n",
    "\n",
    "plt.show()\n"
   ]
  },
  {
   "cell_type": "code",
   "execution_count": 421,
   "id": "07a1cff6-3a7e-49e9-8d8b-44e967c32bff",
   "metadata": {
    "tags": []
   },
   "outputs": [
    {
     "data": {
      "text/plain": [
       "<TableColumns names=('Filename','Test','Filename_1','Visit','Group','Exposure','Module','IGNORE','xshift (arcsec)','yshift (arcsec)','Notes')>"
      ]
     },
     "execution_count": 421,
     "metadata": {},
     "output_type": "execute_result"
    }
   ],
   "source": [
    "#.to_pandas()#.columns#[0]['Test'].split(\"'\")[0]\n",
    "#offsets_tbl.columns"
   ]
  },
  {
   "cell_type": "code",
   "execution_count": 422,
   "id": "7bcf3023-5623-4002-baea-a792f8daf586",
   "metadata": {
    "tags": []
   },
   "outputs": [],
   "source": [
    "#align_member = member['expname'].split('.')[0]+'_align.fits'\n",
    "#shutil.copy(member['expname'], align_member)"
   ]
  },
  {
   "cell_type": "code",
   "execution_count": 424,
   "id": "bf1f5ba1-5923-4d5b-a4d3-e27964b170c2",
   "metadata": {
    "tags": []
   },
   "outputs": [
    {
     "data": {
      "text/html": [
       "&lt;Column name=&apos;Filename_1&apos; dtype=&apos;str48&apos; length=1&gt;\n",
       "<table>\n",
       "<tr><td>jw02221002001_08201_00004_nrcblong_destreak.fits</td></tr>\n",
       "</table>"
      ],
      "text/plain": [
       "<Column name='Filename_1' dtype='str48' length=1>\n",
       "jw02221002001_08201_00004_nrcblong_destreak.fits"
      ]
     },
     "execution_count": 424,
     "metadata": {},
     "output_type": "execute_result"
    }
   ],
   "source": [
    "offsets_tbl[offsets_tbl['Filename_1']=='jw02221002001_08201_00004_nrcblong_destreak.fits']['Filename_1']"
   ]
  },
  {
   "cell_type": "code",
   "execution_count": 426,
   "id": "cbec14e2-9fcc-4111-bb19-20b4005177b6",
   "metadata": {
    "tags": []
   },
   "outputs": [
    {
     "data": {
      "text/html": [
       "&lt;Column name=&apos;xshift (arcsec)&apos; dtype=&apos;float64&apos; length=1&gt;\n",
       "<table>\n",
       "<tr><td>7.95</td></tr>\n",
       "</table>"
      ],
      "text/plain": [
       "<Column name='xshift (arcsec)' dtype='float64' length=1>\n",
       "7.95"
      ]
     },
     "execution_count": 426,
     "metadata": {},
     "output_type": "execute_result"
    }
   ],
   "source": [
    "offsets_tbl[offsets_tbl['Filename_1']=='jw02221002001_08201_00004_nrcblong_destreak.fits']['xshift (arcsec)']"
   ]
  },
  {
   "cell_type": "code",
   "execution_count": 429,
   "id": "3378c188-7803-482c-8fa6-d92b40540e04",
   "metadata": {},
   "outputs": [
    {
     "data": {
      "text/plain": [
       "'jw02221002001_08201_00004_nrcblong_align.fits'"
      ]
     },
     "execution_count": 429,
     "metadata": {},
     "output_type": "execute_result"
    }
   ],
   "source": [
    "file = 'jw02221002001_08201_00004_nrcblong_destreak.fits'\n",
    "\n",
    "file.replace(\"_destreak.fits\", \"_align.fits\")"
   ]
  },
  {
   "cell_type": "code",
   "execution_count": null,
   "id": "d6f8a3d6-43b6-4714-a295-2898fc87aa46",
   "metadata": {},
   "outputs": [],
   "source": []
  }
 ],
 "metadata": {
  "kernelspec": {
   "display_name": "Python 3 (ipykernel)",
   "language": "python",
   "name": "python3"
  },
  "language_info": {
   "codemirror_mode": {
    "name": "ipython",
    "version": 3
   },
   "file_extension": ".py",
   "mimetype": "text/x-python",
   "name": "python",
   "nbconvert_exporter": "python",
   "pygments_lexer": "ipython3",
   "version": "3.9.17"
  }
 },
 "nbformat": 4,
 "nbformat_minor": 5
}
