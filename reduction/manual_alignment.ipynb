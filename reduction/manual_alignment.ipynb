{
 "cells": [
  {
   "cell_type": "code",
   "execution_count": 1,
   "id": "43abbb89-1ca9-4bdc-8ebc-9ecbdf48084d",
   "metadata": {
    "tags": []
   },
   "outputs": [],
   "source": [
    "from glob import glob\n",
    "from astroquery.mast import Mast, Observations\n",
    "import os\n",
    "import shutil\n",
    "import numpy as np\n",
    "import json\n",
    "import requests\n",
    "import asdf\n",
    "from astropy import log\n",
    "from astropy import wcs\n",
    "from astropy.io import ascii, fits\n",
    "from astropy.utils.data import download_file\n",
    "from astropy.visualization import simple_norm\n",
    "from astropy.visualization import ImageNormalize, ManualInterval, LogStretch, LinearStretch\n",
    "from astropy.wcs.utils import skycoord_to_pixel\n",
    "from astropy.nddata import extract_array\n",
    "\n",
    "import matplotlib.pyplot as plt\n",
    "import matplotlib as mpl\n",
    "from astropy.table import Table\n",
    "\n",
    "from align_to_catalogs import *\n",
    "import astropy.units as u\n",
    "\n",
    "import align_to_catalogs\n",
    "from jwst import assign_wcs#.util.update_fits_wcsinfo\n",
    "from jwst.datamodels import ImageModel\n"
   ]
  },
  {
   "cell_type": "code",
   "execution_count": 2,
   "id": "ad61ec1c-15a2-4839-ab93-12281fe22519",
   "metadata": {
    "tags": []
   },
   "outputs": [],
   "source": [
    "plt.rcParams['figure.facecolor'] = 'w'\n",
    "plt.rcParams['image.origin'] = 'lower'"
   ]
  },
  {
   "cell_type": "code",
   "execution_count": 3,
   "id": "6b71c724-9ba2-4781-8776-e347638c2e19",
   "metadata": {
    "tags": []
   },
   "outputs": [],
   "source": [
    "os.environ[\"CRDS_PATH\"] = \"/orange/adamginsburg/jwst/brick/crds/\"\n",
    "os.environ[\"CRDS_SERVER_URL\"] = \"https://jwst-crds.stsci.edu\""
   ]
  },
  {
   "cell_type": "code",
   "execution_count": null,
   "id": "e702541a-1ce5-4486-8271-260519c89e5d",
   "metadata": {
    "tags": []
   },
   "outputs": [],
   "source": []
  },
  {
   "cell_type": "code",
   "execution_count": null,
   "id": "e9e2a41b-2cf9-4738-8eda-52d905b873a9",
   "metadata": {
    "collapsed": true,
    "jupyter": {
     "outputs_hidden": true
    },
    "tags": []
   },
   "outputs": [],
   "source": []
  },
  {
   "cell_type": "code",
   "execution_count": 4,
   "id": "df6ca232-fab5-4e45-834a-86b4b89b0dc2",
   "metadata": {
    "tags": []
   },
   "outputs": [
    {
     "data": {
      "text/plain": [
       "['/orange/adamginsburg/jwst/cloudc/F405N/pipeline/jw02221002001_08201_00004_nrcblong_destreak.fits',\n",
       " '/orange/adamginsburg/jwst/cloudc/F405N/pipeline/jw02221002001_02201_00001_nrcblong_destreak.fits',\n",
       " '/orange/adamginsburg/jwst/cloudc/F405N/pipeline/jw02221002002_08201_00001_nrcalong_destreak.fits',\n",
       " '/orange/adamginsburg/jwst/cloudc/F405N/pipeline/jw02221002001_08201_00002_nrcalong_destreak.fits',\n",
       " '/orange/adamginsburg/jwst/cloudc/F405N/pipeline/jw02221002002_08201_00002_nrcblong_destreak.fits',\n",
       " '/orange/adamginsburg/jwst/cloudc/F405N/pipeline/jw02221002001_08201_00001_nrcblong_destreak.fits',\n",
       " '/orange/adamginsburg/jwst/cloudc/F405N/pipeline/jw02221002001_02201_00003_nrcalong_destreak.fits',\n",
       " '/orange/adamginsburg/jwst/cloudc/F405N/pipeline/jw02221002002_02201_00002_nrcalong_destreak.fits',\n",
       " '/orange/adamginsburg/jwst/cloudc/F405N/pipeline/jw02221002001_08201_00004_nrcalong_destreak.fits',\n",
       " '/orange/adamginsburg/jwst/cloudc/F405N/pipeline/jw02221002001_08201_00003_nrcalong_destreak.fits',\n",
       " '/orange/adamginsburg/jwst/cloudc/F405N/pipeline/jw02221002002_08201_00002_nrcalong_destreak.fits',\n",
       " '/orange/adamginsburg/jwst/cloudc/F405N/pipeline/jw02221002001_02201_00003_nrcblong_destreak.fits',\n",
       " '/orange/adamginsburg/jwst/cloudc/F405N/pipeline/jw02221002001_08201_00001_nrcalong_destreak.fits',\n",
       " '/orange/adamginsburg/jwst/cloudc/F405N/pipeline/jw02221002001_02201_00004_nrcalong_destreak.fits',\n",
       " '/orange/adamginsburg/jwst/cloudc/F405N/pipeline/jw02221002002_08201_00001_nrcblong_destreak.fits',\n",
       " '/orange/adamginsburg/jwst/cloudc/F405N/pipeline/jw02221002002_02201_00003_nrcblong_destreak.fits',\n",
       " '/orange/adamginsburg/jwst/cloudc/F405N/pipeline/jw02221002001_02201_00004_nrcblong_destreak.fits',\n",
       " '/orange/adamginsburg/jwst/cloudc/F405N/pipeline/jw02221002002_02201_00002_nrcblong_destreak.fits',\n",
       " '/orange/adamginsburg/jwst/cloudc/F405N/pipeline/jw02221002001_08201_00002_nrcblong_destreak.fits',\n",
       " '/orange/adamginsburg/jwst/cloudc/F405N/pipeline/jw02221002002_02201_00004_nrcblong_destreak.fits',\n",
       " '/orange/adamginsburg/jwst/cloudc/F405N/pipeline/jw02221002001_08201_00003_nrcblong_destreak.fits',\n",
       " '/orange/adamginsburg/jwst/cloudc/F405N/pipeline/jw02221002002_08201_00003_nrcalong_destreak.fits',\n",
       " '/orange/adamginsburg/jwst/cloudc/F405N/pipeline/jw02221002002_08201_00004_nrcalong_destreak.fits',\n",
       " '/orange/adamginsburg/jwst/cloudc/F405N/pipeline/jw02221002001_02201_00002_nrcblong_destreak.fits',\n",
       " '/orange/adamginsburg/jwst/cloudc/F405N/pipeline/jw02221002002_02201_00004_nrcalong_destreak.fits',\n",
       " '/orange/adamginsburg/jwst/cloudc/F405N/pipeline/jw02221002001_02201_00002_nrcalong_destreak.fits',\n",
       " '/orange/adamginsburg/jwst/cloudc/F405N/pipeline/jw02221002002_08201_00003_nrcblong_destreak.fits',\n",
       " '/orange/adamginsburg/jwst/cloudc/F405N/pipeline/jw02221002002_02201_00001_nrcalong_destreak.fits',\n",
       " '/orange/adamginsburg/jwst/cloudc/F405N/pipeline/jw02221002001_02201_00001_nrcalong_destreak.fits',\n",
       " '/orange/adamginsburg/jwst/cloudc/F405N/pipeline/jw02221002002_08201_00004_nrcblong_destreak.fits',\n",
       " '/orange/adamginsburg/jwst/cloudc/F405N/pipeline/jw02221002002_02201_00003_nrcalong_destreak.fits',\n",
       " '/orange/adamginsburg/jwst/cloudc/F405N/pipeline/jw02221002002_02201_00001_nrcblong_destreak.fits']"
      ]
     },
     "execution_count": 4,
     "metadata": {},
     "output_type": "execute_result"
    }
   ],
   "source": [
    "files = glob(\"/orange/adamginsburg/jwst/cloudc/F405N/pipeline/*destreak.fits\")\n",
    "files"
   ]
  },
  {
   "cell_type": "code",
   "execution_count": null,
   "id": "d284fd43-105e-4909-ac9b-95bf0975b6f7",
   "metadata": {
    "tags": []
   },
   "outputs": [],
   "source": []
  },
  {
   "cell_type": "code",
   "execution_count": 52,
   "id": "56b8258a-b675-4d85-98ea-556823c258b6",
   "metadata": {
    "tags": []
   },
   "outputs": [
    {
     "data": {
      "text/plain": [
       "'/orange/adamginsburg/jwst/cloudc/F405N/pipeline/jw02221002002_08201_00001_nrcalong_align.fits'"
      ]
     },
     "execution_count": 52,
     "metadata": {},
     "output_type": "execute_result"
    }
   ],
   "source": [
    "ref_image = '/orange/adamginsburg/jwst/cloudc/F405N/pipeline/jw02221002001_02201_00001_nrcblong_destreak_copy.fits'\n",
    "#'/orange/adamginsburg/jwst/cloudc/F405N/pipeline/jw02221002001_02201_00001_nrcblong_destreak_realigned_to_vvv.fits'\n",
    "file = '/orange/adamginsburg/jwst/cloudc/F405N/pipeline/jw02221002002_08201_00001_nrcalong_destreak.fits'\n",
    "#'/orange/adamginsburg/jwst/cloudc/F405N/pipeline/jw02221002001_02201_00003_nrcalong_destreak.fits'\n",
    "#'/orange/adamginsburg/jwst/cloudc/F405N/pipeline/jw02221002002_02201_00004_nrcalong_destreak.fits'\n",
    "#'/orange/adamginsburg/jwst/cloudc/F405N/pipeline/jw02221002001_08201_00001_nrcblong_destreak.fits'\n",
    "#'/orange/adamginsburg/jwst/cloudc/F405N/pipeline/jw02221002002_08201_00002_nrcblong_destreak.fits'\n",
    "#'/orange/adamginsburg/jwst/cloudc/F405N/pipeline/jw02221002001_08201_00002_nrcalong_destreak.fits'\n",
    "#'/orange/adamginsburg/jwst/cloudc/F405N/pipeline/jw02221002001_02201_00001_nrcblong_destreak.fits'\n",
    "#'/orange/adamginsburg/jwst/cloudc/F405N/pipeline/jw02221002001_08201_00004_nrcblong_destreak.fits'\n",
    "#'/orange/adamginsburg/jwst/cloudc/F405N/pipeline/jw02221002002_02201_00001_nrcblong_destreak.fits'\n",
    "#'/orange/adamginsburg/jwst/cloudc/F405N/pipeline/jw02221002002_02201_00003_nrcalong_destreak.fits'\n",
    "#'/orange/adamginsburg/jwst/cloudc/F405N/pipeline/jw02221002002_08201_00004_nrcblong_destreak.fits'\n",
    "#'/orange/adamginsburg/jwst/cloudc/F405N/pipeline/jw02221002001_02201_00001_nrcalong_destreak.fits'\n",
    "#'/orange/adamginsburg/jwst/cloudc/F405N/pipeline/jw02221002002_02201_00001_nrcalong_destreak.fits'\n",
    "#'/orange/adamginsburg/jwst/cloudc/F405N/pipeline/jw02221002002_08201_00003_nrcblong_destreak.fits'\n",
    "#'/orange/adamginsburg/jwst/cloudc/F405N/pipeline/jw02221002001_02201_00002_nrcalong_destreak.fits'\n",
    "\n",
    "align_image = file.replace(\"_destreak.fits\", \"_align.fits\")\n",
    "shutil.copy(file, align_image)"
   ]
  },
  {
   "cell_type": "code",
   "execution_count": null,
   "id": "e22e3b6f-867c-46e9-9d5f-427010aadf08",
   "metadata": {
    "tags": []
   },
   "outputs": [],
   "source": []
  },
  {
   "cell_type": "code",
   "execution_count": null,
   "id": "fb51b0e0-d397-460e-b991-e893af4586ae",
   "metadata": {},
   "outputs": [],
   "source": []
  },
  {
   "cell_type": "code",
   "execution_count": 20,
   "id": "6f820f2a-3572-4eb7-a7dc-d7a5a3e3b3c2",
   "metadata": {
    "tags": []
   },
   "outputs": [],
   "source": [
    "ref_fits = fits.open(ref_image)\n",
    "ref_data = fits.open(ref_image)['SCI',1].data"
   ]
  },
  {
   "cell_type": "code",
   "execution_count": 36,
   "id": "25e000e6-f2a1-4acb-bb37-4514ee143124",
   "metadata": {
    "tags": []
   },
   "outputs": [
    {
     "data": {
      "text/latex": [
       "$0.062595304 \\; \\mathrm{\\frac{{}^{\\prime\\prime}}{pix}}$"
      ],
      "text/plain": [
       "<Quantity 0.0625953 arcsec / pix>"
      ]
     },
     "execution_count": 36,
     "metadata": {},
     "output_type": "execute_result"
    }
   ],
   "source": [
    "pixel_scale = np.sqrt(fits.getheader(align_image, ext=1)['PIXAR_A2']*u.arcsec**2)/u.pix\n",
    "pixel_scale"
   ]
  },
  {
   "cell_type": "code",
   "execution_count": 22,
   "id": "6468675b-00c2-4463-8888-d9d0f9f34043",
   "metadata": {
    "tags": []
   },
   "outputs": [
    {
     "data": {
      "text/plain": [
       "'/orange/adamginsburg/jwst/cloudc/F405N/pipeline/jw02221002001_02201_00003_nrcalong_align.fits'"
      ]
     },
     "execution_count": 22,
     "metadata": {},
     "output_type": "execute_result"
    }
   ],
   "source": [
    "align_image"
   ]
  },
  {
   "cell_type": "raw",
   "id": "3576e98d-1660-4a0e-9cf6-ba3966487f89",
   "metadata": {},
   "source": [
    "sec    pointing    frame    module    offset\n",
    "1      02201       00001    nrca      8” right\n",
    "2      02201       00001    nrca      4” right\n",
    "1      08201       00001    nrca      8” right\n",
    "2      08201       00001    nrca      4”right\n",
    "\n",
    "1      02201       00001    nrcb      8” right\n",
    "2      02201       00001    nrcb      4” right\n",
    "1      08201       00001    nrcb      8” right\n",
    "2      08201       00001    nrcb      4” right"
   ]
  },
  {
   "cell_type": "code",
   "execution_count": 26,
   "id": "aac5ec02-1838-41e7-b6bf-b1560c99cecc",
   "metadata": {
    "tags": []
   },
   "outputs": [],
   "source": [
    "from jwst.tweakreg.utils import adjust_wcs"
   ]
  },
  {
   "cell_type": "code",
   "execution_count": 35,
   "id": "b7407252-71af-42a5-8ceb-573290b7279c",
   "metadata": {
    "tags": []
   },
   "outputs": [
    {
     "data": {
      "text/latex": [
       "$0.062595304 \\; \\mathrm{{}^{\\prime\\prime}}$"
      ],
      "text/plain": [
       "<Quantity 0.0625953 arcsec>"
      ]
     },
     "execution_count": 35,
     "metadata": {},
     "output_type": "execute_result"
    }
   ],
   "source": [
    "pixel_scale"
   ]
  },
  {
   "cell_type": "code",
   "execution_count": 29,
   "id": "f9d73309-f9d4-431e-9524-7a29cd8fa7d3",
   "metadata": {
    "tags": []
   },
   "outputs": [
    {
     "ename": "AssertionError",
     "evalue": "",
     "output_type": "error",
     "traceback": [
      "\u001b[0;31m---------------------------------------------------------------------------\u001b[0m",
      "\u001b[0;31mAssertionError\u001b[0m                            Traceback (most recent call last)",
      "Cell \u001b[0;32mIn[29], line 57\u001b[0m\n\u001b[1;32m     54\u001b[0m align_fits\u001b[38;5;241m.\u001b[39msave(align_image)\n\u001b[1;32m     56\u001b[0m align_data \u001b[38;5;241m=\u001b[39m fits\u001b[38;5;241m.\u001b[39mopen(align_image)[\u001b[38;5;124m'\u001b[39m\u001b[38;5;124mSCI\u001b[39m\u001b[38;5;124m'\u001b[39m,\u001b[38;5;241m1\u001b[39m]\u001b[38;5;241m.\u001b[39mdata\n\u001b[0;32m---> 57\u001b[0m align_y,align_x \u001b[38;5;241m=\u001b[39m skycoord_to_pixel(star_location,wcs\u001b[38;5;241m.\u001b[39mWCS(\u001b[43malign_fits\u001b[49m\u001b[43m[\u001b[49m\u001b[38;5;124;43m'\u001b[39;49m\u001b[38;5;124;43mSCI\u001b[39;49m\u001b[38;5;124;43m'\u001b[39;49m\u001b[43m,\u001b[49m\u001b[38;5;241;43m1\u001b[39;49m\u001b[43m]\u001b[49m,align_fits))\n\u001b[1;32m     59\u001b[0m align_y2,align_x2 \u001b[38;5;241m=\u001b[39m skycoord_to_pixel(star_location2,wcs\u001b[38;5;241m.\u001b[39mWCS(align_fits[\u001b[38;5;124m'\u001b[39m\u001b[38;5;124mSCI\u001b[39m\u001b[38;5;124m'\u001b[39m,\u001b[38;5;241m1\u001b[39m],align_fits))\n\u001b[1;32m     61\u001b[0m align_y3,align_x3 \u001b[38;5;241m=\u001b[39m skycoord_to_pixel(star_location3,wcs\u001b[38;5;241m.\u001b[39mWCS(align_fits[\u001b[38;5;124m'\u001b[39m\u001b[38;5;124mSCI\u001b[39m\u001b[38;5;124m'\u001b[39m,\u001b[38;5;241m1\u001b[39m],align_fits))\n",
      "File \u001b[0;32m/blue/adamginsburg/adamginsburg/miniconda3/envs/python39savannah/lib/python3.9/site-packages/stdatamodels/model_base.py:775\u001b[0m, in \u001b[0;36mDataModel.__getitem__\u001b[0;34m(self, key)\u001b[0m\n\u001b[1;32m    771\u001b[0m \u001b[38;5;28;01mdef\u001b[39;00m \u001b[38;5;21m__getitem__\u001b[39m(\u001b[38;5;28mself\u001b[39m, key):\n\u001b[1;32m    772\u001b[0m \u001b[38;5;250m    \u001b[39m\u001b[38;5;124;03m\"\"\"\u001b[39;00m\n\u001b[1;32m    773\u001b[0m \u001b[38;5;124;03m    Get a metadata value using a dotted name.\u001b[39;00m\n\u001b[1;32m    774\u001b[0m \u001b[38;5;124;03m    \"\"\"\u001b[39;00m\n\u001b[0;32m--> 775\u001b[0m     \u001b[38;5;28;01massert\u001b[39;00m \u001b[38;5;28misinstance\u001b[39m(key, \u001b[38;5;28mstr\u001b[39m)\n\u001b[1;32m    776\u001b[0m     meta \u001b[38;5;241m=\u001b[39m \u001b[38;5;28mself\u001b[39m\n\u001b[1;32m    777\u001b[0m     \u001b[38;5;28;01mfor\u001b[39;00m part \u001b[38;5;129;01min\u001b[39;00m key\u001b[38;5;241m.\u001b[39msplit(\u001b[38;5;124m'\u001b[39m\u001b[38;5;124m.\u001b[39m\u001b[38;5;124m'\u001b[39m):\n",
      "\u001b[0;31mAssertionError\u001b[0m: "
     ]
    }
   ],
   "source": [
    "#01_08201_00002_nrcbl\n",
    "#star_location = SkyCoord('17:46:15.2083797761','-28:38:06.0376993433',unit=(u.hourangle,u.deg))\n",
    "#star_location2 = SkyCoord('17:46:20.7437062304','-28:36:47.6472525487',unit=(u.hourangle,u.deg))\n",
    "#star_location3 = SkyCoord('17:46:22.0306124391','-28:37:54.1817578554',unit=(u.hourangle,u.deg))\n",
    "\n",
    "#02002_02201_00003_nrcbl\n",
    "#star_location = SkyCoord('17:46:17.9811789936','-28:35:42.3738317224',unit=(u.hourangle,u.deg))\n",
    "#star_location2 = SkyCoord('17:46:20.7437062304','-28:36:47.6472525487',unit=(u.hourangle,u.deg))\n",
    "#star_location3 = SkyCoord('17:46:23.4161884422','-28:35:22.1868251239',unit=(u.hourangle,u.deg))\n",
    "\n",
    "#02002_08201_00001_nrcbl\n",
    "#star_location = SkyCoord('17:46:18.8535027647','-28:34:38.7076845587',unit=(u.hourangle,u.deg))\n",
    "#star_location2 = SkyCoord('17:46:18.5876737284','-28:35:28.8406921089',unit=(u.hourangle,u.deg))\n",
    "#star_location3 = SkyCoord('17:46:24.2418605136','-28:35:08.1008023292',unit=(u.hourangle,u.deg))\n",
    "\n",
    "##1002001_02201_00003_nrcblo\n",
    "#star_location = SkyCoord('17:46:15.2083797761','-28:38:06.0376993433',unit=(u.hourangle,u.deg))\n",
    "#star_location2 = SkyCoord('17:46:18.3002105976','-28:39:03.6362699361',unit=(u.hourangle,u.deg))\n",
    "#star_location3 = SkyCoord('17:46:22.0306124391','-28:37:54.1817578554',unit=(u.hourangle,u.deg))\n",
    "\n",
    "# 2_08201_nrca\n",
    "#star_location = SkyCoord('17:46:20.4386265585','-28:31:33.2097415319',unit=(u.hourangle,u.deg))\n",
    "#star_location2 = SkyCoord('17:46:21.5464835067','-28:32:59.3212374597',unit=(u.hourangle,u.deg))\n",
    "#star_location3 = SkyCoord('17:46:27.1877425198','-28:32:50.1176777319',unit=(u.hourangle,u.deg))\n",
    "\n",
    "#1_08201_nrca\n",
    "#star_location = SkyCoord('17:46:17.4755800183','-28:33:29.4346915100',unit=(u.hourangle,u.deg))\n",
    "#star_location2 = SkyCoord('17:46:18.1359630965','-28:33:40.6677512987',unit=(u.hourangle,u.deg))\n",
    "#star_location3 = SkyCoord('17:46:25.3210055439','-28:34:05.7468224431',unit=(u.hourangle,u.deg))\n",
    "\n",
    "#002_02201_00004_nrcal\n",
    "#star_location = SkyCoord('17:46:24.0150084345','-28:32:40.8226642774',unit=(u.hourangle,u.deg))\n",
    "#star_location2 = SkyCoord('17:46:18.1361450710','-28:33:40.6695075082',unit=(u.hourangle,u.deg))\n",
    "#star_location3 = SkyCoord('17:46:23.7190259189','-28:34:01.0263844970',unit=(u.hourangle,u.deg))\n",
    "\n",
    "#2001_02201_00004_nrcal\n",
    "star_location = SkyCoord('17:46:18.3588098638','-28:36:07.7030895747',unit=(u.hourangle,u.deg))\n",
    "star_location2 = SkyCoord('17:46:22.4969954193','-28:35:05.0118468859',unit=(u.hourangle,u.deg))\n",
    "star_location3 = SkyCoord('17:46:18.8536627456','-28:34:38.7115616933',unit=(u.hourangle,u.deg))\n",
    "\n",
    "shutil.copy(file, align_image)\n",
    "#align_image = imfile#glob.glob('mastDownload/JWST/*long*/*cal.fits')[0]\n",
    "xshift = 7.9*u.arcsec\n",
    "yshift = -0.3*u.arcsec\n",
    "\n",
    "#align_fits = fits.open(align_image)\n",
    "#align_fits_wcs = wcs.WCS(fits.getheader(align_image, ext=1))\n",
    "#align_fits['SCI',1].header['CRPIX1']+=(xshift/pixel_scale).value#(4*u.arcsec/pixel_scale).value#\n",
    "#align_fits['SCI',1].header['CRPIX2']+=(yshift/pixel_scale).value#(1*u.arcsec/pixel_scale).value#\n",
    "#align_fits.writeto(align_image,overwrite=True)\n",
    "\n",
    "align_fits = ImageModel(align_image)\n",
    "align_fits.meta.wcs = adjust_wcs(align_fits.meta.wcs, delta_ra = -yshift, delta_dec = -xshift)\n",
    "align_fits.save(align_image)\n",
    "\n",
    "align_data = fits.open(align_image)['SCI',1].data\n",
    "align_y,align_x = skycoord_to_pixel(star_location,wcs.WCS(align_fits['SCI',1],align_fits))\n",
    "\n",
    "align_y2,align_x2 = skycoord_to_pixel(star_location2,wcs.WCS(align_fits['SCI',1],align_fits))\n",
    "\n",
    "align_y3,align_x3 = skycoord_to_pixel(star_location3,wcs.WCS(align_fits['SCI',1],align_fits))\n",
    "\n",
    "\n",
    "ref_y,ref_x = skycoord_to_pixel(star_location,wcs.WCS(ref_fits['SCI',1],ref_fits))\n",
    "align_y,align_x = skycoord_to_pixel(star_location,wcs.WCS(align_fits['SCI',1],align_fits))\n",
    "\n",
    "cutout_size=20.\n",
    "\n",
    "align_cutout = extract_array(align_data,(cutout_size,cutout_size),(align_x,align_y))\n",
    "norm1 = simple_norm(np.nan_to_num(align_cutout), stretch='log', max_percent=99.95, log_a=1)#simple_norm(align_cutout,stretch='linear',min_cut=-.5,max_cut=3)\n",
    "\n",
    "align_cutout2 = extract_array(align_data,(cutout_size,cutout_size),(align_x2,align_y2))\n",
    "norm2 = simple_norm(np.nan_to_num(align_cutout2), stretch='log', max_percent=99.95, log_a=1)\n",
    "\n",
    "align_cutout3 = extract_array(align_data,(cutout_size,cutout_size),(align_x3,align_y3))\n",
    "norm3 = simple_norm(np.nan_to_num(align_cutout3), stretch='log', max_percent=99.95, log_a=1)\n",
    "\n",
    "fig,axes = plt.subplots(1,3)\n",
    "axes[0].imshow(align_cutout, origin='lower',\n",
    "                      norm=norm1)\n",
    "axes[0].scatter(cutout_size/2, cutout_size/2, edgecolor='r', facecolor='none')\n",
    "axes[0].set_title('Star 1')\n",
    "axes[0].tick_params(labelcolor='none',axis='both',color='none')\n",
    "\n",
    "axes[1].imshow(align_cutout2, origin='lower',\n",
    "                      norm=norm2)\n",
    "axes[1].scatter(cutout_size/2, cutout_size/2, edgecolor='r', facecolor='none')\n",
    "axes[1].set_title('Star 2')\n",
    "axes[1].tick_params(labelcolor='none',axis='both',color='none')\n",
    "\n",
    "axes[2].imshow(align_cutout3, origin='lower',\n",
    "                      norm=norm3)\n",
    "axes[2].scatter(cutout_size/2, cutout_size/2, edgecolor='r', facecolor='none')\n",
    "axes[2].set_title('Star 3')\n",
    "axes[2].tick_params(labelcolor='none',axis='both',color='none')\n",
    "\n",
    "plt.show()\n"
   ]
  },
  {
   "cell_type": "code",
   "execution_count": 421,
   "id": "07a1cff6-3a7e-49e9-8d8b-44e967c32bff",
   "metadata": {
    "tags": []
   },
   "outputs": [
    {
     "data": {
      "text/plain": [
       "<TableColumns names=('Filename','Test','Filename_1','Visit','Group','Exposure','Module','IGNORE','xshift (arcsec)','yshift (arcsec)','Notes')>"
      ]
     },
     "execution_count": 421,
     "metadata": {},
     "output_type": "execute_result"
    }
   ],
   "source": [
    "#.to_pandas()#.columns#[0]['Test'].split(\"'\")[0]\n",
    "#offsets_tbl.columns"
   ]
  },
  {
   "cell_type": "code",
   "execution_count": 422,
   "id": "7bcf3023-5623-4002-baea-a792f8daf586",
   "metadata": {
    "tags": []
   },
   "outputs": [],
   "source": [
    "#align_member = member['expname'].split('.')[0]+'_align.fits'\n",
    "#shutil.copy(member['expname'], align_member)"
   ]
  },
  {
   "cell_type": "code",
   "execution_count": 16,
   "id": "bf1f5ba1-5923-4d5b-a4d3-e27964b170c2",
   "metadata": {
    "tags": []
   },
   "outputs": [
    {
     "data": {
      "text/html": [
       "&lt;Column name=&apos;Filename_1&apos; dtype=&apos;str48&apos; length=1&gt;\n",
       "<table>\n",
       "<tr><td>jw02221002001_08201_00004_nrcblong_destreak.fits</td></tr>\n",
       "</table>"
      ],
      "text/plain": [
       "<Column name='Filename_1' dtype='str48' length=1>\n",
       "jw02221002001_08201_00004_nrcblong_destreak.fits"
      ]
     },
     "execution_count": 16,
     "metadata": {},
     "output_type": "execute_result"
    }
   ],
   "source": [
    "offsets_tbl[offsets_tbl['Filename_1']=='jw02221002001_08201_00004_nrcblong_destreak.fits']['Filename_1']"
   ]
  },
  {
   "cell_type": "code",
   "execution_count": 17,
   "id": "cbec14e2-9fcc-4111-bb19-20b4005177b6",
   "metadata": {
    "tags": []
   },
   "outputs": [
    {
     "data": {
      "text/html": [
       "&lt;Column name=&apos;xshift (arcsec)&apos; dtype=&apos;float64&apos; length=1&gt;\n",
       "<table>\n",
       "<tr><td>7.95</td></tr>\n",
       "</table>"
      ],
      "text/plain": [
       "<Column name='xshift (arcsec)' dtype='float64' length=1>\n",
       "7.95"
      ]
     },
     "execution_count": 17,
     "metadata": {},
     "output_type": "execute_result"
    }
   ],
   "source": [
    "offsets_tbl[offsets_tbl['Filename_1']=='jw02221002001_08201_00004_nrcblong_destreak.fits']['xshift (arcsec)']"
   ]
  },
  {
   "cell_type": "code",
   "execution_count": 429,
   "id": "3378c188-7803-482c-8fa6-d92b40540e04",
   "metadata": {},
   "outputs": [
    {
     "data": {
      "text/plain": [
       "'jw02221002001_08201_00004_nrcblong_align.fits'"
      ]
     },
     "execution_count": 429,
     "metadata": {},
     "output_type": "execute_result"
    }
   ],
   "source": [
    "file = 'jw02221002001_08201_00004_nrcblong_destreak.fits'\n",
    "\n",
    "file.replace(\"_destreak.fits\", \"_align.fits\")"
   ]
  },
  {
   "cell_type": "code",
   "execution_count": 11,
   "id": "ee572062-b264-44c4-bad8-bfaff1ecdb03",
   "metadata": {
    "collapsed": true,
    "jupyter": {
     "outputs_hidden": true
    },
    "tags": []
   },
   "outputs": [
    {
     "data": {
      "text/html": [
       "<div><i>Table length=32</i>\n",
       "<table id=\"table47730290429520\" class=\"table-striped table-bordered table-condensed\">\n",
       "<thead><tr><th>Filename</th><th>Test</th><th>Filename_1</th><th>Visit</th><th>Group</th><th>Exposure</th><th>Module</th><th>IGNORE</th><th>xshift (arcsec)</th><th>yshift (arcsec)</th><th>Notes</th></tr></thead>\n",
       "<thead><tr><th>str98</th><th>str50</th><th>str48</th><th>str13</th><th>int64</th><th>int64</th><th>str8</th><th>str15</th><th>float64</th><th>float64</th><th>str19</th></tr></thead>\n",
       "<tr><td>/orange/adamginsburg/jwst/cloudc/F405N/pipeline/jw02221002001_08201_00004_nrcblong_destreak.fits&apos;,</td><td>jw02221002001_08201_00004_nrcblong_destreak.fits&apos;,</td><td>jw02221002001_08201_00004_nrcblong_destreak.fits</td><td>jw02221002001</td><td>8201</td><td>4</td><td>nrcblong</td><td>destreak.fits&apos;,</td><td>7.95</td><td>-0.3</td><td>--</td></tr>\n",
       "<tr><td>/orange/adamginsburg/jwst/cloudc/F405N/pipeline/jw02221002001_02201_00001_nrcblong_destreak.fits&apos;,</td><td>jw02221002001_02201_00001_nrcblong_destreak.fits&apos;,</td><td>jw02221002001_02201_00001_nrcblong_destreak.fits</td><td>jw02221002001</td><td>2201</td><td>1</td><td>nrcblong</td><td>destreak.fits&apos;,</td><td>7.9</td><td>-0.3</td><td>--</td></tr>\n",
       "<tr><td>/orange/adamginsburg/jwst/cloudc/F405N/pipeline/jw02221002002_08201_00001_nrcalong_destreak.fits&apos;,</td><td>jw02221002002_08201_00001_nrcalong_destreak.fits&apos;,</td><td>jw02221002002_08201_00001_nrcalong_destreak.fits</td><td>jw02221002002</td><td>8201</td><td>1</td><td>nrcalong</td><td>destreak.fits&apos;,</td><td>3.9</td><td>1.0</td><td>--</td></tr>\n",
       "<tr><td>/orange/adamginsburg/jwst/cloudc/F405N/pipeline/jw02221002001_08201_00002_nrcalong_destreak.fits&apos;,</td><td>jw02221002001_08201_00002_nrcalong_destreak.fits&apos;,</td><td>jw02221002001_08201_00002_nrcalong_destreak.fits</td><td>jw02221002001</td><td>8201</td><td>2</td><td>nrcalong</td><td>destreak.fits&apos;,</td><td>8.0</td><td>-0.3</td><td>--</td></tr>\n",
       "<tr><td>/orange/adamginsburg/jwst/cloudc/F405N/pipeline/jw02221002002_08201_00002_nrcblong_destreak.fits&apos;,</td><td>jw02221002002_08201_00002_nrcblong_destreak.fits&apos;,</td><td>jw02221002002_08201_00002_nrcblong_destreak.fits</td><td>jw02221002002</td><td>8201</td><td>2</td><td>nrcblong</td><td>destreak.fits&apos;,</td><td>3.85</td><td>0.9</td><td>--</td></tr>\n",
       "<tr><td>/orange/adamginsburg/jwst/cloudc/F405N/pipeline/jw02221002001_08201_00001_nrcblong_destreak.fits&apos;,</td><td>jw02221002001_08201_00001_nrcblong_destreak.fits&apos;,</td><td>jw02221002001_08201_00001_nrcblong_destreak.fits</td><td>jw02221002001</td><td>8201</td><td>1</td><td>nrcblong</td><td>destreak.fits&apos;,</td><td>7.9</td><td>-0.3</td><td>--</td></tr>\n",
       "<tr><td>/orange/adamginsburg/jwst/cloudc/F405N/pipeline/jw02221002001_02201_00003_nrcalong_destreak.fits&apos;,</td><td>jw02221002001_02201_00003_nrcalong_destreak.fits&apos;,</td><td>jw02221002001_02201_00003_nrcalong_destreak.fits</td><td>jw02221002001</td><td>2201</td><td>3</td><td>nrcalong</td><td>destreak.fits&apos;,</td><td>7.85</td><td>-0.3</td><td>--</td></tr>\n",
       "<tr><td>/orange/adamginsburg/jwst/cloudc/F405N/pipeline/jw02221002002_02201_00002_nrcalong_destreak.fits&apos;,</td><td>jw02221002002_02201_00002_nrcalong_destreak.fits&apos;,</td><td>jw02221002002_02201_00002_nrcalong_destreak.fits</td><td>jw02221002002</td><td>2201</td><td>2</td><td>nrcalong</td><td>destreak.fits&apos;,</td><td>4.0</td><td>1.0</td><td>imperfect alignment</td></tr>\n",
       "<tr><td>/orange/adamginsburg/jwst/cloudc/F405N/pipeline/jw02221002001_08201_00004_nrcalong_destreak.fits&apos;,</td><td>jw02221002001_08201_00004_nrcalong_destreak.fits&apos;,</td><td>jw02221002001_08201_00004_nrcalong_destreak.fits</td><td>jw02221002001</td><td>8201</td><td>4</td><td>nrcalong</td><td>destreak.fits&apos;,</td><td>8.0</td><td>-0.3</td><td>--</td></tr>\n",
       "<tr><td>/orange/adamginsburg/jwst/cloudc/F405N/pipeline/jw02221002001_08201_00003_nrcalong_destreak.fits&apos;,</td><td>jw02221002001_08201_00003_nrcalong_destreak.fits&apos;,</td><td>jw02221002001_08201_00003_nrcalong_destreak.fits</td><td>jw02221002001</td><td>8201</td><td>3</td><td>nrcalong</td><td>destreak.fits&apos;,</td><td>8.0</td><td>-0.3</td><td>--</td></tr>\n",
       "<tr><td>/orange/adamginsburg/jwst/cloudc/F405N/pipeline/jw02221002002_08201_00002_nrcalong_destreak.fits&apos;,</td><td>jw02221002002_08201_00002_nrcalong_destreak.fits&apos;,</td><td>jw02221002002_08201_00002_nrcalong_destreak.fits</td><td>jw02221002002</td><td>8201</td><td>2</td><td>nrcalong</td><td>destreak.fits&apos;,</td><td>4.0</td><td>-0.1</td><td>--</td></tr>\n",
       "<tr><td>/orange/adamginsburg/jwst/cloudc/F405N/pipeline/jw02221002001_02201_00003_nrcblong_destreak.fits&apos;,</td><td>jw02221002001_02201_00003_nrcblong_destreak.fits&apos;,</td><td>jw02221002001_02201_00003_nrcblong_destreak.fits</td><td>jw02221002001</td><td>2201</td><td>3</td><td>nrcblong</td><td>destreak.fits&apos;,</td><td>7.9</td><td>-0.3</td><td>--</td></tr>\n",
       "<tr><td>/orange/adamginsburg/jwst/cloudc/F405N/pipeline/jw02221002001_08201_00001_nrcalong_destreak.fits&apos;,</td><td>jw02221002001_08201_00001_nrcalong_destreak.fits&apos;,</td><td>jw02221002001_08201_00001_nrcalong_destreak.fits</td><td>jw02221002001</td><td>8201</td><td>1</td><td>nrcalong</td><td>destreak.fits&apos;,</td><td>8.0</td><td>-0.25</td><td>--</td></tr>\n",
       "<tr><td>/orange/adamginsburg/jwst/cloudc/F405N/pipeline/jw02221002001_02201_00004_nrcalong_destreak.fits&apos;,</td><td>jw02221002001_02201_00004_nrcalong_destreak.fits&apos;,</td><td>jw02221002001_02201_00004_nrcalong_destreak.fits</td><td>jw02221002001</td><td>2201</td><td>4</td><td>nrcalong</td><td>destreak.fits&apos;,</td><td>7.9</td><td>-0.3</td><td>--</td></tr>\n",
       "<tr><td>/orange/adamginsburg/jwst/cloudc/F405N/pipeline/jw02221002002_08201_00001_nrcblong_destreak.fits&apos;,</td><td>jw02221002002_08201_00001_nrcblong_destreak.fits&apos;,</td><td>jw02221002002_08201_00001_nrcblong_destreak.fits</td><td>jw02221002002</td><td>8201</td><td>1</td><td>nrcblong</td><td>destreak.fits&apos;,</td><td>3.85</td><td>0.9</td><td>--</td></tr>\n",
       "<tr><td>/orange/adamginsburg/jwst/cloudc/F405N/pipeline/jw02221002002_02201_00003_nrcblong_destreak.fits&apos;,</td><td>jw02221002002_02201_00003_nrcblong_destreak.fits&apos;,</td><td>jw02221002002_02201_00003_nrcblong_destreak.fits</td><td>jw02221002002</td><td>2201</td><td>3</td><td>nrcblong</td><td>destreak.fits&apos;,</td><td>3.95</td><td>0.9</td><td>--</td></tr>\n",
       "<tr><td>/orange/adamginsburg/jwst/cloudc/F405N/pipeline/jw02221002001_02201_00004_nrcblong_destreak.fits&apos;,</td><td>jw02221002001_02201_00004_nrcblong_destreak.fits&apos;,</td><td>jw02221002001_02201_00004_nrcblong_destreak.fits</td><td>jw02221002001</td><td>2201</td><td>4</td><td>nrcblong</td><td>destreak.fits&apos;,</td><td>7.85</td><td>-0.3</td><td>--</td></tr>\n",
       "<tr><td>/orange/adamginsburg/jwst/cloudc/F405N/pipeline/jw02221002002_02201_00002_nrcblong_destreak.fits&apos;,</td><td>jw02221002002_02201_00002_nrcblong_destreak.fits&apos;,</td><td>jw02221002002_02201_00002_nrcblong_destreak.fits</td><td>jw02221002002</td><td>2201</td><td>2</td><td>nrcblong</td><td>destreak.fits&apos;,</td><td>4.0</td><td>1.0</td><td>--</td></tr>\n",
       "<tr><td>/orange/adamginsburg/jwst/cloudc/F405N/pipeline/jw02221002001_08201_00002_nrcblong_destreak.fits&apos;,</td><td>jw02221002001_08201_00002_nrcblong_destreak.fits&apos;,</td><td>jw02221002001_08201_00002_nrcblong_destreak.fits</td><td>jw02221002001</td><td>8201</td><td>2</td><td>nrcblong</td><td>destreak.fits&apos;,</td><td>7.9</td><td>-0.3</td><td>--</td></tr>\n",
       "<tr><td>/orange/adamginsburg/jwst/cloudc/F405N/pipeline/jw02221002002_02201_00004_nrcblong_destreak.fits&apos;,</td><td>jw02221002002_02201_00004_nrcblong_destreak.fits&apos;,</td><td>jw02221002002_02201_00004_nrcblong_destreak.fits</td><td>jw02221002002</td><td>2201</td><td>4</td><td>nrcblong</td><td>destreak.fits&apos;,</td><td>3.95</td><td>1.0</td><td>--</td></tr>\n",
       "<tr><td>/orange/adamginsburg/jwst/cloudc/F405N/pipeline/jw02221002001_08201_00003_nrcblong_destreak.fits&apos;,</td><td>jw02221002001_08201_00003_nrcblong_destreak.fits&apos;,</td><td>jw02221002001_08201_00003_nrcblong_destreak.fits</td><td>jw02221002001</td><td>8201</td><td>3</td><td>nrcblong</td><td>destreak.fits&apos;,</td><td>7.9</td><td>-0.3</td><td>--</td></tr>\n",
       "<tr><td>/orange/adamginsburg/jwst/cloudc/F405N/pipeline/jw02221002002_08201_00003_nrcalong_destreak.fits&apos;,</td><td>jw02221002002_08201_00003_nrcalong_destreak.fits&apos;,</td><td>jw02221002002_08201_00003_nrcalong_destreak.fits</td><td>jw02221002002</td><td>8201</td><td>3</td><td>nrcalong</td><td>destreak.fits&apos;,</td><td>3.95</td><td>1.0</td><td>--</td></tr>\n",
       "<tr><td>/orange/adamginsburg/jwst/cloudc/F405N/pipeline/jw02221002002_08201_00004_nrcalong_destreak.fits&apos;,</td><td>jw02221002002_08201_00004_nrcalong_destreak.fits&apos;,</td><td>jw02221002002_08201_00004_nrcalong_destreak.fits</td><td>jw02221002002</td><td>8201</td><td>4</td><td>nrcalong</td><td>destreak.fits&apos;,</td><td>3.95</td><td>1.0</td><td>--</td></tr>\n",
       "<tr><td>/orange/adamginsburg/jwst/cloudc/F405N/pipeline/jw02221002001_02201_00002_nrcblong_destreak.fits&apos;,</td><td>jw02221002001_02201_00002_nrcblong_destreak.fits&apos;,</td><td>jw02221002001_02201_00002_nrcblong_destreak.fits</td><td>jw02221002001</td><td>2201</td><td>2</td><td>nrcblong</td><td>destreak.fits&apos;,</td><td>7.9</td><td>-0.3</td><td>--</td></tr>\n",
       "<tr><td>/orange/adamginsburg/jwst/cloudc/F405N/pipeline/jw02221002002_02201_00004_nrcalong_destreak.fits&apos;,</td><td>jw02221002002_02201_00004_nrcalong_destreak.fits&apos;,</td><td>jw02221002002_02201_00004_nrcalong_destreak.fits</td><td>jw02221002002</td><td>2201</td><td>4</td><td>nrcalong</td><td>destreak.fits&apos;,</td><td>3.95</td><td>0.9</td><td>--</td></tr>\n",
       "<tr><td>/orange/adamginsburg/jwst/cloudc/F405N/pipeline/jw02221002001_02201_00002_nrcalong_destreak.fits&apos;,</td><td>jw02221002001_02201_00002_nrcalong_destreak.fits&apos;,</td><td>jw02221002001_02201_00002_nrcalong_destreak.fits</td><td>jw02221002001</td><td>2201</td><td>2</td><td>nrcalong</td><td>destreak.fits&apos;,</td><td>7.9</td><td>-0.3</td><td>--</td></tr>\n",
       "<tr><td>/orange/adamginsburg/jwst/cloudc/F405N/pipeline/jw02221002002_08201_00003_nrcblong_destreak.fits&apos;,</td><td>jw02221002002_08201_00003_nrcblong_destreak.fits&apos;,</td><td>jw02221002002_08201_00003_nrcblong_destreak.fits</td><td>jw02221002002</td><td>8201</td><td>3</td><td>nrcblong</td><td>destreak.fits&apos;,</td><td>3.9</td><td>0.9</td><td>--</td></tr>\n",
       "<tr><td>/orange/adamginsburg/jwst/cloudc/F405N/pipeline/jw02221002002_02201_00001_nrcalong_destreak.fits&apos;,</td><td>jw02221002002_02201_00001_nrcalong_destreak.fits&apos;,</td><td>jw02221002002_02201_00001_nrcalong_destreak.fits</td><td>jw02221002002</td><td>2201</td><td>1</td><td>nrcalong</td><td>destreak.fits&apos;,</td><td>3.9</td><td>0.9</td><td>--</td></tr>\n",
       "<tr><td>/orange/adamginsburg/jwst/cloudc/F405N/pipeline/jw02221002001_02201_00001_nrcalong_destreak.fits&apos;,</td><td>jw02221002001_02201_00001_nrcalong_destreak.fits&apos;,</td><td>jw02221002001_02201_00001_nrcalong_destreak.fits</td><td>jw02221002001</td><td>2201</td><td>1</td><td>nrcalong</td><td>destreak.fits&apos;,</td><td>7.9</td><td>-0.3</td><td>--</td></tr>\n",
       "<tr><td>/orange/adamginsburg/jwst/cloudc/F405N/pipeline/jw02221002002_08201_00004_nrcblong_destreak.fits&apos;,</td><td>jw02221002002_08201_00004_nrcblong_destreak.fits&apos;,</td><td>jw02221002002_08201_00004_nrcblong_destreak.fits</td><td>jw02221002002</td><td>8201</td><td>4</td><td>nrcblong</td><td>destreak.fits&apos;,</td><td>3.85</td><td>0.9</td><td>--</td></tr>\n",
       "<tr><td>/orange/adamginsburg/jwst/cloudc/F405N/pipeline/jw02221002002_02201_00003_nrcalong_destreak.fits&apos;,</td><td>jw02221002002_02201_00003_nrcalong_destreak.fits&apos;,</td><td>jw02221002002_02201_00003_nrcalong_destreak.fits</td><td>jw02221002002</td><td>2201</td><td>3</td><td>nrcalong</td><td>destreak.fits&apos;,</td><td>3.9</td><td>0.9</td><td>--</td></tr>\n",
       "<tr><td>/orange/adamginsburg/jwst/cloudc/F405N/pipeline/jw02221002002_02201_00001_nrcblong_destreak.fits&apos;</td><td>jw02221002002_02201_00001_nrcblong_destreak.fits&apos;</td><td>jw02221002002_02201_00001_nrcblong_destreak.fit</td><td>jw02221002002</td><td>2201</td><td>1</td><td>nrcblong</td><td>destreak.fits&apos;</td><td>3.9</td><td>0.95</td><td>--</td></tr>\n",
       "</table></div>"
      ],
      "text/plain": [
       "<Table length=32>\n",
       "                                             Filename                                              ...        Notes       \n",
       "                                              str98                                                ...        str19       \n",
       "-------------------------------------------------------------------------------------------------- ... -------------------\n",
       "/orange/adamginsburg/jwst/cloudc/F405N/pipeline/jw02221002001_08201_00004_nrcblong_destreak.fits', ...                  --\n",
       "/orange/adamginsburg/jwst/cloudc/F405N/pipeline/jw02221002001_02201_00001_nrcblong_destreak.fits', ...                  --\n",
       "/orange/adamginsburg/jwst/cloudc/F405N/pipeline/jw02221002002_08201_00001_nrcalong_destreak.fits', ...                  --\n",
       "/orange/adamginsburg/jwst/cloudc/F405N/pipeline/jw02221002001_08201_00002_nrcalong_destreak.fits', ...                  --\n",
       "/orange/adamginsburg/jwst/cloudc/F405N/pipeline/jw02221002002_08201_00002_nrcblong_destreak.fits', ...                  --\n",
       "/orange/adamginsburg/jwst/cloudc/F405N/pipeline/jw02221002001_08201_00001_nrcblong_destreak.fits', ...                  --\n",
       "/orange/adamginsburg/jwst/cloudc/F405N/pipeline/jw02221002001_02201_00003_nrcalong_destreak.fits', ...                  --\n",
       "/orange/adamginsburg/jwst/cloudc/F405N/pipeline/jw02221002002_02201_00002_nrcalong_destreak.fits', ... imperfect alignment\n",
       "/orange/adamginsburg/jwst/cloudc/F405N/pipeline/jw02221002001_08201_00004_nrcalong_destreak.fits', ...                  --\n",
       "/orange/adamginsburg/jwst/cloudc/F405N/pipeline/jw02221002001_08201_00003_nrcalong_destreak.fits', ...                  --\n",
       "/orange/adamginsburg/jwst/cloudc/F405N/pipeline/jw02221002002_08201_00002_nrcalong_destreak.fits', ...                  --\n",
       "/orange/adamginsburg/jwst/cloudc/F405N/pipeline/jw02221002001_02201_00003_nrcblong_destreak.fits', ...                  --\n",
       "/orange/adamginsburg/jwst/cloudc/F405N/pipeline/jw02221002001_08201_00001_nrcalong_destreak.fits', ...                  --\n",
       "/orange/adamginsburg/jwst/cloudc/F405N/pipeline/jw02221002001_02201_00004_nrcalong_destreak.fits', ...                  --\n",
       "/orange/adamginsburg/jwst/cloudc/F405N/pipeline/jw02221002002_08201_00001_nrcblong_destreak.fits', ...                  --\n",
       "/orange/adamginsburg/jwst/cloudc/F405N/pipeline/jw02221002002_02201_00003_nrcblong_destreak.fits', ...                  --\n",
       "/orange/adamginsburg/jwst/cloudc/F405N/pipeline/jw02221002001_02201_00004_nrcblong_destreak.fits', ...                  --\n",
       "/orange/adamginsburg/jwst/cloudc/F405N/pipeline/jw02221002002_02201_00002_nrcblong_destreak.fits', ...                  --\n",
       "/orange/adamginsburg/jwst/cloudc/F405N/pipeline/jw02221002001_08201_00002_nrcblong_destreak.fits', ...                  --\n",
       "/orange/adamginsburg/jwst/cloudc/F405N/pipeline/jw02221002002_02201_00004_nrcblong_destreak.fits', ...                  --\n",
       "/orange/adamginsburg/jwst/cloudc/F405N/pipeline/jw02221002001_08201_00003_nrcblong_destreak.fits', ...                  --\n",
       "/orange/adamginsburg/jwst/cloudc/F405N/pipeline/jw02221002002_08201_00003_nrcalong_destreak.fits', ...                  --\n",
       "/orange/adamginsburg/jwst/cloudc/F405N/pipeline/jw02221002002_08201_00004_nrcalong_destreak.fits', ...                  --\n",
       "/orange/adamginsburg/jwst/cloudc/F405N/pipeline/jw02221002001_02201_00002_nrcblong_destreak.fits', ...                  --\n",
       "/orange/adamginsburg/jwst/cloudc/F405N/pipeline/jw02221002002_02201_00004_nrcalong_destreak.fits', ...                  --\n",
       "/orange/adamginsburg/jwst/cloudc/F405N/pipeline/jw02221002001_02201_00002_nrcalong_destreak.fits', ...                  --\n",
       "/orange/adamginsburg/jwst/cloudc/F405N/pipeline/jw02221002002_08201_00003_nrcblong_destreak.fits', ...                  --\n",
       "/orange/adamginsburg/jwst/cloudc/F405N/pipeline/jw02221002002_02201_00001_nrcalong_destreak.fits', ...                  --\n",
       "/orange/adamginsburg/jwst/cloudc/F405N/pipeline/jw02221002001_02201_00001_nrcalong_destreak.fits', ...                  --\n",
       "/orange/adamginsburg/jwst/cloudc/F405N/pipeline/jw02221002002_08201_00004_nrcblong_destreak.fits', ...                  --\n",
       "/orange/adamginsburg/jwst/cloudc/F405N/pipeline/jw02221002002_02201_00003_nrcalong_destreak.fits', ...                  --\n",
       " /orange/adamginsburg/jwst/cloudc/F405N/pipeline/jw02221002002_02201_00001_nrcblong_destreak.fits' ...                  --"
      ]
     },
     "execution_count": 11,
     "metadata": {},
     "output_type": "execute_result"
    }
   ],
   "source": [
    "member = glob(\"/orange/adamginsburg/jwst/cloudc/F405N/pipeline/*destreak.fits\")\n",
    "offsets_tbl = Table.read('/orange/adamginsburg/jwst/cloudc/offsets/Offsets_JWST_Cloud_C.csv')\n",
    "offsets_tbl"
   ]
  },
  {
   "cell_type": "code",
   "execution_count": 19,
   "id": "3e73d530-6afd-49d6-8356-fd8030fcb41a",
   "metadata": {
    "tags": []
   },
   "outputs": [
    {
     "data": {
      "text/html": [
       "<div><i>Table length=0</i>\n",
       "<table id=\"table47731320009488\" class=\"table-striped table-bordered table-condensed\">\n",
       "<thead><tr><th>Filename</th><th>Test</th><th>Filename_1</th><th>Visit</th><th>Group</th><th>Exposure</th><th>Module</th><th>IGNORE</th><th>xshift (arcsec)</th><th>yshift (arcsec)</th><th>Notes</th></tr></thead>\n",
       "<thead><tr><th>str98</th><th>str50</th><th>str48</th><th>str13</th><th>int64</th><th>int64</th><th>str8</th><th>str15</th><th>float64</th><th>float64</th><th>str19</th></tr></thead>\n",
       "</table></div>"
      ],
      "text/plain": [
       "<Table length=0>\n",
       "Filename  Test Filename_1 Visit Group Exposure Module IGNORE xshift (arcsec) yshift (arcsec) Notes\n",
       " str98   str50   str48    str13 int64  int64    str8  str15      float64         float64     str19\n",
       "-------- ----- ---------- ----- ----- -------- ------ ------ --------------- --------------- -----"
      ]
     },
     "execution_count": 19,
     "metadata": {},
     "output_type": "execute_result"
    }
   ],
   "source": [
    "offsets_tbl[m == offsets_tbl['Filename_1']]"
   ]
  },
  {
   "cell_type": "code",
   "execution_count": 23,
   "id": "0a4e2441-d571-4475-874d-0ec938b45be8",
   "metadata": {
    "tags": []
   },
   "outputs": [
    {
     "name": "stdout",
     "output_type": "stream",
     "text": [
      "2023-08-31T10:14:44.111517:                    Filename_1                   \n",
      "------------------------------------------------\n",
      "jw02221002001_08201_00004_nrcblong_destreak.fits\n",
      "2023-08-31T10:14:44.112030:                    Filename_1                   \n",
      "------------------------------------------------\n",
      "jw02221002001_02201_00001_nrcblong_destreak.fits\n",
      "2023-08-31T10:14:44.112460:                    Filename_1                   \n",
      "------------------------------------------------\n",
      "jw02221002002_08201_00001_nrcalong_destreak.fits\n",
      "2023-08-31T10:14:44.112885:                    Filename_1                   \n",
      "------------------------------------------------\n",
      "jw02221002001_08201_00002_nrcalong_destreak.fits\n",
      "2023-08-31T10:14:44.113315:                    Filename_1                   \n",
      "------------------------------------------------\n",
      "jw02221002002_08201_00002_nrcblong_destreak.fits\n",
      "2023-08-31T10:14:44.113732:                    Filename_1                   \n",
      "------------------------------------------------\n",
      "jw02221002001_08201_00001_nrcblong_destreak.fits\n",
      "2023-08-31T10:14:44.114172:                    Filename_1                   \n",
      "------------------------------------------------\n",
      "jw02221002001_02201_00003_nrcalong_destreak.fits\n",
      "2023-08-31T10:14:44.114590:                    Filename_1                   \n",
      "------------------------------------------------\n",
      "jw02221002002_02201_00002_nrcalong_destreak.fits\n",
      "2023-08-31T10:14:44.115025:                    Filename_1                   \n",
      "------------------------------------------------\n",
      "jw02221002001_08201_00004_nrcalong_destreak.fits\n",
      "2023-08-31T10:14:44.115449:                    Filename_1                   \n",
      "------------------------------------------------\n",
      "jw02221002001_08201_00003_nrcalong_destreak.fits\n",
      "2023-08-31T10:14:44.115869:                    Filename_1                   \n",
      "------------------------------------------------\n",
      "jw02221002002_08201_00002_nrcalong_destreak.fits\n",
      "2023-08-31T10:14:44.116300:                    Filename_1                   \n",
      "------------------------------------------------\n",
      "jw02221002001_02201_00003_nrcblong_destreak.fits\n",
      "2023-08-31T10:14:44.116719:                    Filename_1                   \n",
      "------------------------------------------------\n",
      "jw02221002001_08201_00001_nrcalong_destreak.fits\n",
      "2023-08-31T10:14:44.117152:                    Filename_1                   \n",
      "------------------------------------------------\n",
      "jw02221002001_02201_00004_nrcalong_destreak.fits\n",
      "2023-08-31T10:14:44.117575:                    Filename_1                   \n",
      "------------------------------------------------\n",
      "jw02221002002_08201_00001_nrcblong_destreak.fits\n",
      "2023-08-31T10:14:44.118007:                    Filename_1                   \n",
      "------------------------------------------------\n",
      "jw02221002002_02201_00003_nrcblong_destreak.fits\n",
      "2023-08-31T10:14:44.118426:                    Filename_1                   \n",
      "------------------------------------------------\n",
      "jw02221002001_02201_00004_nrcblong_destreak.fits\n",
      "2023-08-31T10:14:44.118843:                    Filename_1                   \n",
      "------------------------------------------------\n",
      "jw02221002002_02201_00002_nrcblong_destreak.fits\n",
      "2023-08-31T10:14:44.119372:                    Filename_1                   \n",
      "------------------------------------------------\n",
      "jw02221002001_08201_00002_nrcblong_destreak.fits\n",
      "2023-08-31T10:14:44.120433:                    Filename_1                   \n",
      "------------------------------------------------\n",
      "jw02221002002_02201_00004_nrcblong_destreak.fits\n",
      "2023-08-31T10:14:44.120864:                    Filename_1                   \n",
      "------------------------------------------------\n",
      "jw02221002001_08201_00003_nrcblong_destreak.fits\n",
      "2023-08-31T10:14:44.121349:                    Filename_1                   \n",
      "------------------------------------------------\n",
      "jw02221002002_08201_00003_nrcalong_destreak.fits\n",
      "2023-08-31T10:14:44.121778:                    Filename_1                   \n",
      "------------------------------------------------\n",
      "jw02221002002_08201_00004_nrcalong_destreak.fits\n",
      "2023-08-31T10:14:44.122216:                    Filename_1                   \n",
      "------------------------------------------------\n",
      "jw02221002001_02201_00002_nrcblong_destreak.fits\n",
      "2023-08-31T10:14:44.122684:                    Filename_1                   \n",
      "------------------------------------------------\n",
      "jw02221002002_02201_00004_nrcalong_destreak.fits\n",
      "2023-08-31T10:14:44.123125:                    Filename_1                   \n",
      "------------------------------------------------\n",
      "jw02221002001_02201_00002_nrcalong_destreak.fits\n",
      "2023-08-31T10:14:44.123598:                    Filename_1                   \n",
      "------------------------------------------------\n",
      "jw02221002002_08201_00003_nrcblong_destreak.fits\n",
      "2023-08-31T10:14:44.124126:                    Filename_1                   \n",
      "------------------------------------------------\n",
      "jw02221002002_02201_00001_nrcalong_destreak.fits\n",
      "2023-08-31T10:14:44.124597:                    Filename_1                   \n",
      "------------------------------------------------\n",
      "jw02221002001_02201_00001_nrcalong_destreak.fits\n",
      "2023-08-31T10:14:44.125034:                    Filename_1                   \n",
      "------------------------------------------------\n",
      "jw02221002002_08201_00004_nrcblong_destreak.fits\n",
      "2023-08-31T10:14:44.125510:                    Filename_1                   \n",
      "------------------------------------------------\n",
      "jw02221002002_02201_00003_nrcalong_destreak.fits\n",
      "2023-08-31T10:14:44.125967: Filename_1\n",
      "----------\n"
     ]
    }
   ],
   "source": [
    "for m in member: \n",
    "    row = offsets_tbl[m.split('/')[-1] == offsets_tbl['Filename_1']]\n",
    "    print(row['Filename_1'])"
   ]
  },
  {
   "cell_type": "code",
   "execution_count": null,
   "id": "d6f8a3d6-43b6-4714-a295-2898fc87aa46",
   "metadata": {},
   "outputs": [],
   "source": [
    "\n",
    "#align_image = member.replace(\"_destreak.fits\", \"_align.fits\")#.split('.')[0]+'_align.fits'\n",
    "#shutil.copy(member, align_image)\n",
    "#\n",
    "#row = offsets_tbl[member in offsets_tbl['Filename_1']]\n",
    "#align_fits = fits.open(align_image)\n",
    "#pixel_scale = np.sqrt(fits.getheader(align_image, ext=1)['PIXAR_A2']*u.arcsec**2)\n",
    "#align_fits['SCI',1].header['CRPIX1']+=(row['xshift (arcsec)']*u.arcsec/pixel_scale).value\n",
    "#align_fits['SCI',1].header['CRPIX2']+=(row['yshift (arcsec)']*u.arcsec/pixel_scale).value\n",
    "#align_fits.writeto(align_image, overwrite=True)\n",
    "#member = align_image"
   ]
  }
 ],
 "metadata": {
  "kernelspec": {
   "display_name": "Python 3 (ipykernel)",
   "language": "python",
   "name": "python3"
  },
  "language_info": {
   "codemirror_mode": {
    "name": "ipython",
    "version": 3
   },
   "file_extension": ".py",
   "mimetype": "text/x-python",
   "name": "python",
   "nbconvert_exporter": "python",
   "pygments_lexer": "ipython3",
   "version": "3.9.17"
  }
 },
 "nbformat": 4,
 "nbformat_minor": 5
}
