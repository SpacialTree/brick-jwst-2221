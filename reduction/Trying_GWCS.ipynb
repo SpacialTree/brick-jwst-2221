{
 "cells": [
  {
   "cell_type": "code",
   "execution_count": 89,
   "id": "9cb7dc54-6c2f-413e-a969-4b3509941068",
   "metadata": {
    "tags": []
   },
   "outputs": [],
   "source": [
    "from glob import glob\n",
    "from astroquery.mast import Mast, Observations\n",
    "import os\n",
    "import shutil\n",
    "import numpy as np\n",
    "import json\n",
    "import requests\n",
    "import asdf\n",
    "from asdf import fits_embed\n",
    "from astropy import log\n",
    "from astropy import wcs as fwcs\n",
    "from astropy.io import ascii, fits\n",
    "from astropy.utils.data import download_file\n",
    "from astropy.visualization import simple_norm\n",
    "from astropy.visualization import ImageNormalize, ManualInterval, LogStretch, LinearStretch\n",
    "from astropy.wcs.utils import skycoord_to_pixel\n",
    "from astropy.nddata import extract_array\n",
    "\n",
    "import matplotlib.pyplot as plt\n",
    "import matplotlib as mpl\n",
    "from astropy.table import Table\n",
    "\n",
    "from align_to_catalogs import *\n",
    "import astropy.units as u\n",
    "\n",
    "import align_to_catalogs\n",
    "from jwst import assign_wcs#.util.update_fits_wcsinfo\n",
    "from jwst.datamodels import ImageModel\n",
    "\n",
    "from astropy.modeling import models\n",
    "from astropy import coordinates as coord\n",
    "from astropy import units as u\n",
    "from gwcs import wcs\n",
    "from gwcs import coordinate_frames as cf\n",
    "\n",
    "import asdf\n"
   ]
  },
  {
   "cell_type": "code",
   "execution_count": 2,
   "id": "5c31fec2-0324-4d81-9bf9-23b96a45c6b1",
   "metadata": {
    "tags": []
   },
   "outputs": [],
   "source": [
    "plt.rcParams['figure.facecolor'] = 'w'\n",
    "plt.rcParams['image.origin'] = 'lower'"
   ]
  },
  {
   "cell_type": "code",
   "execution_count": 3,
   "id": "36ee57c6-cc1a-4e9b-8c99-34f3b3bc344a",
   "metadata": {
    "tags": []
   },
   "outputs": [],
   "source": [
    "os.environ[\"CRDS_PATH\"] = \"/orange/adamginsburg/jwst/brick/crds/\"\n",
    "os.environ[\"CRDS_SERVER_URL\"] = \"https://jwst-crds.stsci.edu\""
   ]
  },
  {
   "cell_type": "code",
   "execution_count": 4,
   "id": "ec7b74d2-f547-434c-a6ca-a1ed956b842d",
   "metadata": {
    "collapsed": true,
    "jupyter": {
     "outputs_hidden": true
    },
    "tags": []
   },
   "outputs": [
    {
     "data": {
      "text/plain": [
       "['/orange/adamginsburg/jwst/cloudc/F405N/pipeline/jw02221002001_08201_00004_nrcblong_destreak.fits',\n",
       " '/orange/adamginsburg/jwst/cloudc/F405N/pipeline/jw02221002001_02201_00001_nrcblong_destreak.fits',\n",
       " '/orange/adamginsburg/jwst/cloudc/F405N/pipeline/jw02221002002_08201_00001_nrcalong_destreak.fits',\n",
       " '/orange/adamginsburg/jwst/cloudc/F405N/pipeline/jw02221002001_08201_00002_nrcalong_destreak.fits',\n",
       " '/orange/adamginsburg/jwst/cloudc/F405N/pipeline/jw02221002002_08201_00002_nrcblong_destreak.fits',\n",
       " '/orange/adamginsburg/jwst/cloudc/F405N/pipeline/jw02221002001_08201_00001_nrcblong_destreak.fits',\n",
       " '/orange/adamginsburg/jwst/cloudc/F405N/pipeline/jw02221002001_02201_00003_nrcalong_destreak.fits',\n",
       " '/orange/adamginsburg/jwst/cloudc/F405N/pipeline/jw02221002002_02201_00002_nrcalong_destreak.fits',\n",
       " '/orange/adamginsburg/jwst/cloudc/F405N/pipeline/jw02221002001_08201_00004_nrcalong_destreak.fits',\n",
       " '/orange/adamginsburg/jwst/cloudc/F405N/pipeline/jw02221002001_08201_00003_nrcalong_destreak.fits',\n",
       " '/orange/adamginsburg/jwst/cloudc/F405N/pipeline/jw02221002002_08201_00002_nrcalong_destreak.fits',\n",
       " '/orange/adamginsburg/jwst/cloudc/F405N/pipeline/jw02221002001_02201_00003_nrcblong_destreak.fits',\n",
       " '/orange/adamginsburg/jwst/cloudc/F405N/pipeline/jw02221002001_08201_00001_nrcalong_destreak.fits',\n",
       " '/orange/adamginsburg/jwst/cloudc/F405N/pipeline/jw02221002001_02201_00004_nrcalong_destreak.fits',\n",
       " '/orange/adamginsburg/jwst/cloudc/F405N/pipeline/jw02221002002_08201_00001_nrcblong_destreak.fits',\n",
       " '/orange/adamginsburg/jwst/cloudc/F405N/pipeline/jw02221002002_02201_00003_nrcblong_destreak.fits',\n",
       " '/orange/adamginsburg/jwst/cloudc/F405N/pipeline/jw02221002001_02201_00004_nrcblong_destreak.fits',\n",
       " '/orange/adamginsburg/jwst/cloudc/F405N/pipeline/jw02221002002_02201_00002_nrcblong_destreak.fits',\n",
       " '/orange/adamginsburg/jwst/cloudc/F405N/pipeline/jw02221002001_08201_00002_nrcblong_destreak.fits',\n",
       " '/orange/adamginsburg/jwst/cloudc/F405N/pipeline/jw02221002002_02201_00004_nrcblong_destreak.fits',\n",
       " '/orange/adamginsburg/jwst/cloudc/F405N/pipeline/jw02221002001_08201_00003_nrcblong_destreak.fits',\n",
       " '/orange/adamginsburg/jwst/cloudc/F405N/pipeline/jw02221002002_08201_00003_nrcalong_destreak.fits',\n",
       " '/orange/adamginsburg/jwst/cloudc/F405N/pipeline/jw02221002002_08201_00004_nrcalong_destreak.fits',\n",
       " '/orange/adamginsburg/jwst/cloudc/F405N/pipeline/jw02221002001_02201_00002_nrcblong_destreak.fits',\n",
       " '/orange/adamginsburg/jwst/cloudc/F405N/pipeline/jw02221002002_02201_00004_nrcalong_destreak.fits',\n",
       " '/orange/adamginsburg/jwst/cloudc/F405N/pipeline/jw02221002001_02201_00002_nrcalong_destreak.fits',\n",
       " '/orange/adamginsburg/jwst/cloudc/F405N/pipeline/jw02221002002_08201_00003_nrcblong_destreak.fits',\n",
       " '/orange/adamginsburg/jwst/cloudc/F405N/pipeline/jw02221002002_02201_00001_nrcalong_destreak.fits',\n",
       " '/orange/adamginsburg/jwst/cloudc/F405N/pipeline/jw02221002001_02201_00001_nrcalong_destreak.fits',\n",
       " '/orange/adamginsburg/jwst/cloudc/F405N/pipeline/jw02221002002_08201_00004_nrcblong_destreak.fits',\n",
       " '/orange/adamginsburg/jwst/cloudc/F405N/pipeline/jw02221002002_02201_00003_nrcalong_destreak.fits',\n",
       " '/orange/adamginsburg/jwst/cloudc/F405N/pipeline/jw02221002002_02201_00001_nrcblong_destreak.fits']"
      ]
     },
     "execution_count": 4,
     "metadata": {},
     "output_type": "execute_result"
    }
   ],
   "source": [
    "files = glob(\"/orange/adamginsburg/jwst/cloudc/F405N/pipeline/*destreak.fits\")\n",
    "files"
   ]
  },
  {
   "cell_type": "code",
   "execution_count": 85,
   "id": "d7d9382e-fefd-4b70-b732-4d13151c0f43",
   "metadata": {
    "tags": []
   },
   "outputs": [
    {
     "data": {
      "text/plain": [
       "'/orange/adamginsburg/jwst/cloudc/F405N/pipeline/jw02221002001_08201_00004_nrcblong_destreak_gwcs.fits'"
      ]
     },
     "execution_count": 85,
     "metadata": {},
     "output_type": "execute_result"
    }
   ],
   "source": [
    "im = files[0]\n",
    "im_align = im.split('.')[0]+'_align.fits'\n",
    "im_gwcs = im.split('.')[0]+'_gwcs.fits'\n",
    "shutil.copy(im, im_align)\n",
    "shutil.copy(im, im_gwcs)"
   ]
  },
  {
   "cell_type": "code",
   "execution_count": 68,
   "id": "60c148c9-9328-47de-9881-a54422e7296f",
   "metadata": {
    "tags": []
   },
   "outputs": [],
   "source": [
    "fa = asdf.open(im_align)\n",
    "wcsobj = fa.tree['meta']['wcs']"
   ]
  },
  {
   "cell_type": "code",
   "execution_count": 88,
   "id": "0f7e1401-9947-4475-b3fd-8fef027732d0",
   "metadata": {
    "collapsed": true,
    "jupyter": {
     "outputs_hidden": true
    },
    "tags": []
   },
   "outputs": [
    {
     "data": {
      "text/plain": [
       "{'asdf_library': {'author': 'The ASDF Developers',\n",
       "  'homepage': 'http://github.com/asdf-format/asdf',\n",
       "  'name': 'asdf',\n",
       "  'version': '2.14.3'},\n",
       " 'history': {'extensions': [{'extension_class': 'asdf.extension.BuiltinExtension',\n",
       "    'software': {'name': 'asdf', 'version': '2.14.3'}},\n",
       "   {'extension_class': 'asdf.extension._manifest.ManifestExtension',\n",
       "    'extension_uri': 'asdf://asdf-format.org/core/extensions/core-1.5.0',\n",
       "    'software': {'name': 'asdf-astropy', 'version': '0.3.0'}},\n",
       "   {'extension_class': 'asdf.extension._manifest.ManifestExtension',\n",
       "    'extension_uri': 'asdf://asdf-format.org/astronomy/gwcs/extensions/gwcs-1.0.0',\n",
       "    'software': {'name': 'gwcs', 'version': '0.18.3'}},\n",
       "   {'extension_class': 'asdf.extension._manifest.ManifestExtension',\n",
       "    'extension_uri': 'asdf://asdf-format.org/astronomy/coordinates/extensions/coordinates-1.0.0',\n",
       "    'software': {'name': 'asdf-astropy', 'version': '0.3.0'}},\n",
       "   {'extension_class': 'asdf.extension._manifest.ManifestExtension',\n",
       "    'extension_uri': 'asdf://asdf-format.org/transform/extensions/transform-1.5.0',\n",
       "    'software': {'name': 'asdf-astropy', 'version': '0.3.0'}}]},\n",
       " '_fits_hash': '4342ce98f5966e78b883d56a694e04354bb10082c2efa3cc1c9ff23da317280f',\n",
       " 'area': <array (unloaded) shape: [2048, 2048] dtype: >f4>,\n",
       " 'data': <array (unloaded) shape: [2048, 2048] dtype: >f4>,\n",
       " 'dq': <array (unloaded) shape: [2048, 2048] dtype: >u4>,\n",
       " 'err': <array (unloaded) shape: [2048, 2048] dtype: >f4>,\n",
       " 'meta': {'aperture': {'name': 'NRCB5_FULL',\n",
       "   'position_angle': 275.490216742052,\n",
       "   'pps_name': 'NRCALL_FULL'},\n",
       "  'asn': {'pool_name': 'singleton', 'table_name': 'singleton'},\n",
       "  'background': {},\n",
       "  'bunit_data': 'MJy/sr',\n",
       "  'bunit_err': 'MJy/sr',\n",
       "  'cal_step': {'assign_wcs': 'COMPLETE',\n",
       "   'dark_sub': 'COMPLETE',\n",
       "   'dq_init': 'COMPLETE',\n",
       "   'flat_field': 'COMPLETE',\n",
       "   'gain_scale': 'SKIPPED',\n",
       "   'group_scale': 'SKIPPED',\n",
       "   'ipc': 'SKIPPED',\n",
       "   'jump': 'SKIPPED',\n",
       "   'linearity': 'COMPLETE',\n",
       "   'persistence': 'COMPLETE',\n",
       "   'photom': 'COMPLETE',\n",
       "   'ramp_fit': 'COMPLETE',\n",
       "   'refpix': 'COMPLETE',\n",
       "   'saturation': 'COMPLETE',\n",
       "   'superbias': 'COMPLETE'},\n",
       "  'calibration_software_revision': '99753465',\n",
       "  'calibration_software_version': '1.11.1.dev1+g99753465',\n",
       "  'compress': False,\n",
       "  'coordinates': {'reference_frame': 'ICRS'},\n",
       "  'data_processing_software_version': '2022_5c',\n",
       "  'date': '2023-09-01T20:00:36.650',\n",
       "  'dither': {'position_number': 4,\n",
       "   'primary_type': 'NONE',\n",
       "   'total_points': 1,\n",
       "   'x_offset': 420.9233794739885,\n",
       "   'y_offset': 119.8052979482178},\n",
       "  'ephemeris': {'reference_frame': 'EME2000',\n",
       "   'spatial_x_bary': -138134004.430692,\n",
       "   'spatial_x_geo': -910581576.545572,\n",
       "   'spatial_y_bary': -59491073.81593959,\n",
       "   'spatial_y_geo': -932601704.701136,\n",
       "   'spatial_z_bary': -25421672.93850157,\n",
       "   'spatial_z_geo': -73171890.67916851,\n",
       "   'time': 60049.66875,\n",
       "   'type': 'Predicted',\n",
       "   'velocity_x_bary': 12.42304658669634,\n",
       "   'velocity_x_geo': 268.49941667773,\n",
       "   'velocity_y_bary': -25.23897999330756,\n",
       "   'velocity_y_geo': -363.550406853972,\n",
       "   'velocity_z_bary': -11.03309553748922,\n",
       "   'velocity_z_geo': -249.302332999721},\n",
       "  'exposure': {'clock_adjust_rate': 0.0,\n",
       "   'count': 25,\n",
       "   'data_problem': False,\n",
       "   'datamode': 31,\n",
       "   'drop_frames1': 0,\n",
       "   'drop_frames3': 0,\n",
       "   'duration': 42.947,\n",
       "   'effective_exposure_time': 42.947,\n",
       "   'elapsed_exposure_time': 42.947,\n",
       "   'end_time': 60049.66942721065,\n",
       "   'end_time_mjd': 60049.66942721065,\n",
       "   'end_time_tdb': 60049.66577436501,\n",
       "   'exposure_time': 42.947,\n",
       "   'frame_divisor': 2,\n",
       "   'frame_time': 10.73677,\n",
       "   'group_time': 21.47354,\n",
       "   'groupgap': 0,\n",
       "   'integration_time': 42.94708,\n",
       "   'mid_time': 60049.66911654022,\n",
       "   'mid_time_mjd': 60049.66911654022,\n",
       "   'mid_time_tdb': 60049.66546369433,\n",
       "   'nframes': 2,\n",
       "   'ngroups': 2,\n",
       "   'nints': 1,\n",
       "   'noutputs': 4,\n",
       "   'nresets_at_start': 1,\n",
       "   'nresets_between_ints': 1,\n",
       "   'nsamples': 1,\n",
       "   'osf_file': '2023105T213014098_002_osf.xml',\n",
       "   'prime_parallel': 'PARALLEL_COORDINATED',\n",
       "   'readpatt': 'BRIGHT2',\n",
       "   'sample_time': 10.0,\n",
       "   'sca_num': 490,\n",
       "   'start_time': 60049.66880586979,\n",
       "   'start_time_mjd': 60049.66880586979,\n",
       "   'start_time_tdb': 60049.66515302365,\n",
       "   'type': 'NRC_IMAGE',\n",
       "   'zero_frame': True},\n",
       "  'filename': 'jw02221002001_08201_00004_nrcblong_cal.fits',\n",
       "  'group_id': 'jw02221002001_08201_4',\n",
       "  'guidestar': {'gs_dec': -28.60017799999999,\n",
       "   'gs_id': 'S8DH352953',\n",
       "   'gs_mag': 12.50583267211914,\n",
       "   'gs_order': 1,\n",
       "   'gs_pcs_mode': 'FINEGUIDE',\n",
       "   'gs_ra': 266.661334,\n",
       "   'gs_start_time': '2023-04-15 14:57:46.4190000',\n",
       "   'gs_stop_time': '2023-04-15 15:04:22.7060000',\n",
       "   'gs_udec': 0.05455784439007803,\n",
       "   'gs_umag': 0.02315579727292061,\n",
       "   'gs_ura': 0.06498800884503966,\n",
       "   'gs_v3_pa_science': 275.4197158470101,\n",
       "   'visit_end_time': '2023-04-15 16:34:26.3490000'},\n",
       "  'hga_move': False,\n",
       "  'instrument': {'channel': 'LONG',\n",
       "   'detector': 'NRCBLONG',\n",
       "   'filter': 'F444W',\n",
       "   'lamp_mode': 'NONE',\n",
       "   'module': 'B',\n",
       "   'name': 'NIRCAM',\n",
       "   'pupil': 'F405N',\n",
       "   'pupil_imaging_lens': False},\n",
       "  'model_type': 'ImageModel',\n",
       "  'nircam_focus': {'fa1value': 0,\n",
       "   'fa2value': 0,\n",
       "   'fa3value': 0,\n",
       "   'fam_la1': 0,\n",
       "   'fam_la2': 0,\n",
       "   'fam_la3': 0,\n",
       "   'faphase1': 'NULL',\n",
       "   'faphase2': 'NULL',\n",
       "   'faphase3': 'NULL',\n",
       "   'fastep1': 0,\n",
       "   'fastep2': 0,\n",
       "   'fastep3': 0,\n",
       "   'faunit1': 0.0,\n",
       "   'faunit2': 0.0,\n",
       "   'faunit3': 0.0},\n",
       "  'nwfsest': 60049.7533277662,\n",
       "  'observation': {'activity_id': '01',\n",
       "   'bkgdtarg': False,\n",
       "   'date': '2023-04-15',\n",
       "   'date_beg': '2023-04-15T16:03:04.827',\n",
       "   'date_end': '2023-04-15T16:03:58.511',\n",
       "   'exposure_number': '4',\n",
       "   'obs_id': 'V02221002001P0222100208201',\n",
       "   'observation_folder': 'The Brick and Cloud C',\n",
       "   'observation_label': 'The Brick/Cloud C, MIRI/NIRCam',\n",
       "   'observation_number': '002',\n",
       "   'program_number': '02221',\n",
       "   'sequence_id': '2',\n",
       "   'template': 'MIRI Imaging',\n",
       "   'time': '16:03:04.827',\n",
       "   'visit_group': '08',\n",
       "   'visit_id': '02221002001',\n",
       "   'visit_number': '001'},\n",
       "  'origin': 'STSCI',\n",
       "  'oss_software_version': '8.6',\n",
       "  'photometry': {'conversion_megajanskys': 9.710800170898438,\n",
       "   'conversion_microjanskys': 228.24682809594225,\n",
       "   'pixelarea_arcsecsq': 0.003930066880054539,\n",
       "   'pixelarea_steradians': 9.2373983996251e-14},\n",
       "  'pointing': {'dec_v1': -28.58530444983399,\n",
       "   'pa_v3': 275.533548794002,\n",
       "   'ra_v1': 266.4307464467832},\n",
       "  'prd_software_version': 'PRDOPSSOC-060',\n",
       "  'program': {'category': 'GO',\n",
       "   'pi_name': 'Ginsburg, Adam G',\n",
       "   'science_category': 'Stellar Populations and the Interstellar Medium',\n",
       "   'title': 'Star Formation along the Galactic Dust Ridge: The Brick and Cloud C'},\n",
       "  'pwfseet': 60047.99943643519,\n",
       "  'ref_file': {'area': {'name': 'crds://jwst_nircam_area_0044.fits'},\n",
       "   'camera': {'name': 'N/A'},\n",
       "   'collimator': {'name': 'N/A'},\n",
       "   'crds': {'context_used': 'jwst_1121.pmap', 'sw_version': '11.17.1'},\n",
       "   'dark': {'name': 'crds://jwst_nircam_dark_0377.fits'},\n",
       "   'dflat': {'name': 'N/A'},\n",
       "   'disperser': {'name': 'N/A'},\n",
       "   'distortion': {'name': 'crds://jwst_nircam_distortion_0148.asdf'},\n",
       "   'fflat': {'name': 'N/A'},\n",
       "   'filteroffset': {'name': 'crds://jwst_nircam_filteroffset_0008.asdf'},\n",
       "   'flat': {'name': 'crds://jwst_nircam_flat_0625.fits'},\n",
       "   'fore': {'name': 'N/A'},\n",
       "   'fpa': {'name': 'N/A'},\n",
       "   'gain': {'name': 'crds://jwst_nircam_gain_0089.fits'},\n",
       "   'ifufore': {'name': 'N/A'},\n",
       "   'ifupost': {'name': 'N/A'},\n",
       "   'ifuslicer': {'name': 'N/A'},\n",
       "   'linearity': {'name': 'crds://jwst_nircam_linearity_0049.fits'},\n",
       "   'mask': {'name': 'crds://jwst_nircam_mask_0065.fits'},\n",
       "   'msa': {'name': 'N/A'},\n",
       "   'ote': {'name': 'N/A'},\n",
       "   'persat': {'name': 'crds://jwst_nircam_persat_0023.fits'},\n",
       "   'photom': {'name': 'crds://jwst_nircam_photom_0139.fits'},\n",
       "   'readnoise': {'name': 'crds://jwst_nircam_readnoise_0159.fits'},\n",
       "   'regions': {'name': 'N/A'},\n",
       "   'saturation': {'name': 'crds://jwst_nircam_saturation_0098.fits'},\n",
       "   'sflat': {'name': 'N/A'},\n",
       "   'specwcs': {'name': 'N/A'},\n",
       "   'superbias': {'name': 'crds://jwst_nircam_superbias_0147.fits'},\n",
       "   'trapdensity': {'name': 'crds://jwst_nircam_trapdensity_0003.fits'},\n",
       "   'trappars': {'name': 'crds://jwst_nircam_trappars_0006.fits'},\n",
       "   'wavelengthrange': {'name': 'N/A'}},\n",
       "  'subarray': {'fastaxis': 1,\n",
       "   'name': 'FULL',\n",
       "   'slowaxis': -2,\n",
       "   'xsize': 2048,\n",
       "   'xstart': 1,\n",
       "   'ysize': 2048,\n",
       "   'ystart': 1},\n",
       "  'target': {'catalog_name': 'G0.253+0.015',\n",
       "   'dec': -28.71222222222224,\n",
       "   'dec_uncertainty': 0.1,\n",
       "   'proper_motion_dec': 0.0,\n",
       "   'proper_motion_epoch': '2015-07-02 12:00:00.0000000',\n",
       "   'proper_motion_ra': 0.0,\n",
       "   'proposer_dec': -28.71222222222222,\n",
       "   'proposer_name': 'BRICK-IKP2016-G0.253+0.015',\n",
       "   'proposer_ra': 266.535625,\n",
       "   'ra': 266.535625,\n",
       "   'ra_uncertainty': 0.1,\n",
       "   'type': 'FIXED'},\n",
       "  'telescope': 'JWST',\n",
       "  'time': {'barycentric_correction': -315.6059066997841,\n",
       "   'barycentric_expend': 60049.66577436501,\n",
       "   'barycentric_expmid': 60049.66546369433,\n",
       "   'barycentric_expstart': 60049.66515302365,\n",
       "   'heliocentric_correction': -312.34623757191,\n",
       "   'heliocentric_expend': 60049.66581209267,\n",
       "   'heliocentric_expmid': 60049.66550142199,\n",
       "   'heliocentric_expstart': 60049.6651907513},\n",
       "  'time_sys': 'UTC',\n",
       "  'time_unit': 's',\n",
       "  'velocity_aberration': {'scale_factor': 1.000089235116709,\n",
       "   'va_dec_ref': -28.62270708113315,\n",
       "   'va_ra_ref': 266.5858107676105},\n",
       "  'visit': {'crowded_field': True,\n",
       "   'engdb_pointing_quality': 'CALCULATED_TRACK_TR_202111',\n",
       "   'engineering_quality': 'OK',\n",
       "   'exp_only': False,\n",
       "   'internal_target': False,\n",
       "   'start_time': '2023-04-15 14:37:18.6440000',\n",
       "   'status': 'SUCCESSFUL',\n",
       "   'too_visit': False,\n",
       "   'total_exposures': 48,\n",
       "   'tsovisit': False,\n",
       "   'type': 'PRIME_TARGETED_FIXED'},\n",
       "  'wcs': <WCS(output_frame=world, input_frame=detector, forward_transform=Model: CompoundModel\n",
       "  Inputs: ('x0', 'x1')\n",
       "  Outputs: ('lon', 'lat')\n",
       "  Model set size: 1\n",
       "  Expression: [0] & [1] | [2] & [3] | [4] & [5] | [6] | [7] & [8] | [9] | [10] & [11] | [12] & [13] | [14] & [15] | [16] & [17] | [18] & [19] | [20] | [21] | [22]\n",
       "  Components: \n",
       "      [0]: <Shift(offset=-0.132)>\n",
       "  \n",
       "      [1]: <Shift(offset=-0.137)>\n",
       "  \n",
       "      [2]: <Shift(offset=1.)>\n",
       "  \n",
       "      [3]: <Shift(offset=1.)>\n",
       "  \n",
       "      [4]: <Shift(offset=-1024.5)>\n",
       "  \n",
       "      [5]: <Shift(offset=-1024.5)>\n",
       "  \n",
       "      [6]: <Mapping((0, 1, 0, 1))>\n",
       "  \n",
       "      [7]: <Polynomial2D(5, c0_0=0., c1_0=0.06285605, c2_0=-0.00000012, c3_0=0., c4_0=0., c5_0=-0., c0_1=-0., c0_2=0.0000001, c0_3=0., c0_4=0., c0_5=-0., c1_1=-0.00000074, c1_2=0., c1_3=-0., c1_4=0., c2_1=0., c2_2=0., c2_3=-0., c3_1=-0., c3_2=0., c4_1=-0.)>\n",
       "  \n",
       "      [8]: <Polynomial2D(5, c0_0=0., c1_0=0.00008378, c2_0=0.00000031, c3_0=0., c4_0=0., c5_0=-0., c0_1=0.06315358, c0_2=-0.00000044, c0_3=0., c0_4=-0., c0_5=0., c1_1=-0.00000023, c1_2=0., c1_3=-0., c1_4=-0., c2_1=0., c2_2=0., c2_3=0., c3_1=-0., c3_2=-0., c4_1=-0.)>\n",
       "  \n",
       "      [9]: <Mapping((0, 1, 0, 1))>\n",
       "  \n",
       "      [10]: <Polynomial2D(1, c0_0=0., c1_0=-0.99999987, c0_1=0.00051463)>\n",
       "  \n",
       "      [11]: <Polynomial2D(1, c0_0=0., c1_0=0.00051463, c0_1=0.99999987)>\n",
       "  \n",
       "      [12]: <Shift(offset=-89.38741167)>\n",
       "  \n",
       "      [13]: <Shift(offset=-491.35239433)>\n",
       "  \n",
       "      [14]: <Scale(factor=1.00008924, name='dva_scale_v2')>\n",
       "  \n",
       "      [15]: <Scale(factor=1.00008924, name='dva_scale_v3')>\n",
       "  \n",
       "      [16]: <Shift(offset=0.0079765, name='dva_v2_shift')>\n",
       "  \n",
       "      [17]: <Shift(offset=0.04384589, name='dva_v3_shift')>\n",
       "  \n",
       "      [18]: <Scale(factor=0.00027778)>\n",
       "  \n",
       "      [19]: <Scale(factor=0.00027778)>\n",
       "  \n",
       "      [20]: <SphericalToCartesian()>\n",
       "  \n",
       "      [21]: <RotationSequence3D(angles=[  -0.02482984,    0.13648678,  275.46073057,  -28.623095  , -266.58278335])>\n",
       "  \n",
       "      [22]: <CartesianToSpherical()>\n",
       "  Parameters:\n",
       "      offset_0 offset_1 offset_2 offset_3 offset_4 ...     offset_17            factor_18             factor_19                        angles_21                 \n",
       "      -------- -------- -------- -------- -------- ... ------------------ --------------------- --------------------- -------------------------------------------\n",
       "        -0.132   -0.137      1.0      1.0  -1024.5 ... 0.0438458882238349 0.0002777777777777778 0.0002777777777777778 -0.02482983666666667 .. -266.58278334806715)>,\n",
       "  'wcsinfo': {'a_0_2': 1.6227443118067714e-06,\n",
       "   'a_0_3': -1.3144011912269691e-11,\n",
       "   'a_1_1': -1.1815214987149595e-05,\n",
       "   'a_1_2': 1.8318733193922825e-09,\n",
       "   'a_2_0': -1.8818935451845807e-06,\n",
       "   'a_2_1': 6.067179918032018e-11,\n",
       "   'a_3_0': 1.6837551761726936e-09,\n",
       "   'a_order': 3,\n",
       "   'ap_0_1': -3.4370179947500507e-07,\n",
       "   'ap_0_2': -1.6155370304989226e-06,\n",
       "   'ap_0_3': -2.819561082782724e-11,\n",
       "   'ap_1_0': -1.0249438597837351e-05,\n",
       "   'ap_1_1': 1.1690284249114538e-05,\n",
       "   'ap_1_2': -1.6061175723833482e-09,\n",
       "   'ap_2_0': 1.8642412173056933e-06,\n",
       "   'ap_2_1': 6.513472234654482e-11,\n",
       "   'ap_3_0': -1.7149804348823662e-09,\n",
       "   'ap_order': 3,\n",
       "   'b_0_2': -6.991384683256143e-06,\n",
       "   'b_0_3': 1.7758823416558923e-09,\n",
       "   'b_1_1': -3.6750494885453807e-06,\n",
       "   'b_1_2': 5.375530334225113e-11,\n",
       "   'b_2_0': 4.945144681145743e-06,\n",
       "   'b_2_1': 1.7216936438144048e-09,\n",
       "   'b_3_0': -3.316904430920765e-11,\n",
       "   'b_order': 3,\n",
       "   'bp_0_1': -1.0162430990221056e-05,\n",
       "   'bp_0_2': 6.92284684464512e-06,\n",
       "   'bp_0_3': -1.6649587598758853e-09,\n",
       "   'bp_1_0': -4.0758010730465913e-07,\n",
       "   'bp_1_1': 3.637696819655419e-06,\n",
       "   'bp_1_2': 8.212963257327438e-11,\n",
       "   'bp_2_0': -4.924450687941576e-06,\n",
       "   'bp_2_1': -1.8623029879660652e-09,\n",
       "   'bp_3_0': -3.173660473775012e-12,\n",
       "   'bp_order': 3,\n",
       "   'cd1_1': -1.6940434486916e-06,\n",
       "   'cd1_2': -1.7463274901009e-05,\n",
       "   'cd2_1': -1.7378788023915e-05,\n",
       "   'cd2_2': 1.6781818804158e-06,\n",
       "   'crpix1': 1024.5,\n",
       "   'crpix2': 1024.5,\n",
       "   'crval1': 266.58278632853,\n",
       "   'crval2': -28.623092937712,\n",
       "   'ctype1': 'RA---TAN-SIP',\n",
       "   'ctype2': 'DEC--TAN-SIP',\n",
       "   'cunit1': 'deg',\n",
       "   'cunit2': 'deg',\n",
       "   'dec_ref': -28.62309500188895,\n",
       "   'latpole': -28.623092937712,\n",
       "   'lonpole': 180.0,\n",
       "   'mjdref': 0.0,\n",
       "   'ra_ref': 266.5827833480671,\n",
       "   'radesys': 'ICRS',\n",
       "   'roll_ref': 275.460730572052,\n",
       "   's_region': 'POLYGON ICRS  266.605346484 -28.606751261 266.564258105 -28.603722148 266.560485028 -28.639026411 266.601184242 -28.642893850',\n",
       "   'sipiverr': 0.06767813089119726,\n",
       "   'sipmxerr': 0.07573923090765913,\n",
       "   'v2_ref': -89.387412,\n",
       "   'v3_ref': -491.352394,\n",
       "   'v3yangle': 0.02948617,\n",
       "   'velosys': -26737.15,\n",
       "   'vparity': -1,\n",
       "   'wcsaxes': 2,\n",
       "   'wcsname': 'world'}},\n",
       " 'var_flat': <array (unloaded) shape: [2048, 2048] dtype: >f4>,\n",
       " 'var_poisson': <array (unloaded) shape: [2048, 2048] dtype: >f4>,\n",
       " 'var_rnoise': <array (unloaded) shape: [2048, 2048] dtype: >f4>}"
      ]
     },
     "execution_count": 88,
     "metadata": {},
     "output_type": "execute_result"
    }
   ],
   "source": [
    "fa.tree"
   ]
  },
  {
   "cell_type": "code",
   "execution_count": 69,
   "id": "322b118c-75ab-4f9c-b283-fad79c77742d",
   "metadata": {
    "tags": []
   },
   "outputs": [
    {
     "name": "stdout",
     "output_type": "stream",
     "text": [
      "2023-09-15T15:51:08.423465:    From      Transform   \n",
      "---------- --------------\n",
      "  detector  CompoundModel\n",
      "      v2v3 DVA_Correction\n",
      "v2v3vacorr       v23tosky\n",
      "     world           None\n"
     ]
    }
   ],
   "source": [
    "print(wcsobj)"
   ]
  },
  {
   "cell_type": "code",
   "execution_count": 52,
   "id": "d8436ea2-a424-4757-b532-14bd086c9985",
   "metadata": {
    "tags": []
   },
   "outputs": [
    {
     "data": {
      "text/plain": [
       "<CompoundModel(offset_0=-0.132, offset_1=-0.137, offset_2=1., offset_3=1., offset_4=-1024.5, offset_5=-1024.5, c0_0_7=0., c1_0_7=0.06285605, c2_0_7=-0.00000012, c3_0_7=0., c4_0_7=0., c5_0_7=-0., c0_1_7=-0., c0_2_7=0.0000001, c0_3_7=0., c0_4_7=0., c0_5_7=-0., c1_1_7=-0.00000074, c1_2_7=0., c1_3_7=-0., c1_4_7=0., c2_1_7=0., c2_2_7=0., c2_3_7=-0., c3_1_7=-0., c3_2_7=0., c4_1_7=-0., c0_0_8=0., c1_0_8=0.00008378, c2_0_8=0.00000031, c3_0_8=0., c4_0_8=0., c5_0_8=-0., c0_1_8=0.06315358, c0_2_8=-0.00000044, c0_3_8=0., c0_4_8=-0., c0_5_8=0., c1_1_8=-0.00000023, c1_2_8=0., c1_3_8=-0., c1_4_8=-0., c2_1_8=0., c2_2_8=0., c2_3_8=0., c3_1_8=-0., c3_2_8=-0., c4_1_8=-0., c0_0_10=0., c1_0_10=-0.99999987, c0_1_10=0.00051463, c0_0_11=0., c1_0_11=0.00051463, c0_1_11=0.99999987, offset_12=-89.38741167, offset_13=-491.35239433)>"
      ]
     },
     "execution_count": 52,
     "metadata": {},
     "output_type": "execute_result"
    }
   ],
   "source": [
    "dist = wcsobj.get_transform('detector', 'v2v3')\n",
    "dist"
   ]
  },
  {
   "cell_type": "code",
   "execution_count": 53,
   "id": "3b60a5c4-e8d8-4c88-ab09-97baf1f65f27",
   "metadata": {
    "tags": []
   },
   "outputs": [
    {
     "data": {
      "text/plain": [
       "<WCS(output_frame=world, input_frame=detector, forward_transform=Model: CompoundModel\n",
       "Inputs: ('x0', 'x1')\n",
       "Outputs: ('lon', 'lat')\n",
       "Model set size: 1\n",
       "Expression: [0] & [1] | [2] & [3] | [4] & [5] | [6] | [7] & [8] | [9] | [10] & [11] | [12] & [13] | [14] & [15] | [16] & [17] | [18] & [19] | [20] | [21] | [22]\n",
       "Components: \n",
       "    [0]: <Shift(offset=-0.132)>\n",
       "\n",
       "    [1]: <Shift(offset=-0.137)>\n",
       "\n",
       "    [2]: <Shift(offset=1.)>\n",
       "\n",
       "    [3]: <Shift(offset=1.)>\n",
       "\n",
       "    [4]: <Shift(offset=-1024.5)>\n",
       "\n",
       "    [5]: <Shift(offset=-1024.5)>\n",
       "\n",
       "    [6]: <Mapping((0, 1, 0, 1))>\n",
       "\n",
       "    [7]: <Polynomial2D(5, c0_0=0., c1_0=0.06285605, c2_0=-0.00000012, c3_0=0., c4_0=0., c5_0=-0., c0_1=-0., c0_2=0.0000001, c0_3=0., c0_4=0., c0_5=-0., c1_1=-0.00000074, c1_2=0., c1_3=-0., c1_4=0., c2_1=0., c2_2=0., c2_3=-0., c3_1=-0., c3_2=0., c4_1=-0.)>\n",
       "\n",
       "    [8]: <Polynomial2D(5, c0_0=0., c1_0=0.00008378, c2_0=0.00000031, c3_0=0., c4_0=0., c5_0=-0., c0_1=0.06315358, c0_2=-0.00000044, c0_3=0., c0_4=-0., c0_5=0., c1_1=-0.00000023, c1_2=0., c1_3=-0., c1_4=-0., c2_1=0., c2_2=0., c2_3=0., c3_1=-0., c3_2=-0., c4_1=-0.)>\n",
       "\n",
       "    [9]: <Mapping((0, 1, 0, 1))>\n",
       "\n",
       "    [10]: <Polynomial2D(1, c0_0=0., c1_0=-0.99999987, c0_1=0.00051463)>\n",
       "\n",
       "    [11]: <Polynomial2D(1, c0_0=0., c1_0=0.00051463, c0_1=0.99999987)>\n",
       "\n",
       "    [12]: <Shift(offset=-89.38741167)>\n",
       "\n",
       "    [13]: <Shift(offset=-491.35239433)>\n",
       "\n",
       "    [14]: <Scale(factor=1.00008924, name='dva_scale_v2')>\n",
       "\n",
       "    [15]: <Scale(factor=1.00008924, name='dva_scale_v3')>\n",
       "\n",
       "    [16]: <Shift(offset=0.0079765, name='dva_v2_shift')>\n",
       "\n",
       "    [17]: <Shift(offset=0.04384589, name='dva_v3_shift')>\n",
       "\n",
       "    [18]: <Scale(factor=0.00027778)>\n",
       "\n",
       "    [19]: <Scale(factor=0.00027778)>\n",
       "\n",
       "    [20]: <SphericalToCartesian()>\n",
       "\n",
       "    [21]: <RotationSequence3D(angles=[  -0.02482984,    0.13648678,  275.46073057,  -28.623095  , -266.58278335])>\n",
       "\n",
       "    [22]: <CartesianToSpherical()>\n",
       "Parameters:\n",
       "    offset_0 offset_1 offset_2 offset_3 offset_4 ...     offset_17            factor_18             factor_19                        angles_21                 \n",
       "    -------- -------- -------- -------- -------- ... ------------------ --------------------- --------------------- -------------------------------------------\n",
       "      -0.132   -0.137      1.0      1.0  -1024.5 ... 0.0438458882238349 0.0002777777777777778 0.0002777777777777778 -0.02482983666666667 .. -266.58278334806715)>"
      ]
     },
     "execution_count": 53,
     "metadata": {},
     "output_type": "execute_result"
    }
   ],
   "source": [
    "wcsobj"
   ]
  },
  {
   "cell_type": "code",
   "execution_count": 54,
   "id": "bc1be976-6f36-41d2-a904-d847d3059ec6",
   "metadata": {
    "tags": []
   },
   "outputs": [
    {
     "data": {
      "text/latex": [
       "$0.062690245 \\; \\mathrm{\\frac{{}^{\\prime\\prime}}{pix}}$"
      ],
      "text/plain": [
       "<Quantity 0.06269025 arcsec / pix>"
      ]
     },
     "execution_count": 54,
     "metadata": {},
     "output_type": "execute_result"
    }
   ],
   "source": [
    "pixel_scale = np.sqrt(fits.getheader(im, ext=1)['PIXAR_A2']*u.arcsec**2)/u.pix\n",
    "pixel_scale"
   ]
  },
  {
   "cell_type": "code",
   "execution_count": 55,
   "id": "4396a1cb-67d2-4387-a00f-106148f223bb",
   "metadata": {
    "tags": []
   },
   "outputs": [],
   "source": [
    "xshift = 7.95 * u.arcsec / pixel_scale\n",
    "yshift = -0.3 * u.arcsec / pixel_scale"
   ]
  },
  {
   "cell_type": "code",
   "execution_count": 56,
   "id": "5e70a272-de8a-4455-82f3-48ccf8d609a4",
   "metadata": {
    "tags": []
   },
   "outputs": [
    {
     "data": {
      "text/latex": [
       "$126.81399 \\; \\mathrm{pix}$"
      ],
      "text/plain": [
       "<Quantity 126.81398737 pix>"
      ]
     },
     "execution_count": 56,
     "metadata": {},
     "output_type": "execute_result"
    }
   ],
   "source": [
    "xshift"
   ]
  },
  {
   "cell_type": "code",
   "execution_count": 57,
   "id": "bc0633af-a316-415b-a124-451e6413698d",
   "metadata": {
    "tags": []
   },
   "outputs": [
    {
     "data": {
      "text/latex": [
       "$-4.7854335 \\; \\mathrm{pix}$"
      ],
      "text/plain": [
       "<Quantity -4.78543349 pix>"
      ]
     },
     "execution_count": 57,
     "metadata": {},
     "output_type": "execute_result"
    }
   ],
   "source": [
    "yshift"
   ]
  },
  {
   "cell_type": "code",
   "execution_count": 58,
   "id": "5af0d53e-2231-4ba5-8865-d5c85b97988a",
   "metadata": {
    "tags": []
   },
   "outputs": [],
   "source": [
    "shift = models.Shift(xshift) & models.Shift(yshift)"
   ]
  },
  {
   "cell_type": "code",
   "execution_count": 59,
   "id": "962ecc02-ec82-4a01-821a-2c256e8c4f89",
   "metadata": {
    "tags": []
   },
   "outputs": [
    {
     "data": {
      "text/plain": [
       "<CompoundModel(offset_0=126.81398737 pix, offset_1=-4.78543349 pix)>"
      ]
     },
     "execution_count": 59,
     "metadata": {},
     "output_type": "execute_result"
    }
   ],
   "source": [
    "shift"
   ]
  },
  {
   "cell_type": "code",
   "execution_count": null,
   "id": "777ccd07-7c86-48d6-b9e8-b6474ed0e5b9",
   "metadata": {},
   "outputs": [],
   "source": [
    "#wcsobj.insert_transform('world', shift, after=True)"
   ]
  },
  {
   "cell_type": "code",
   "execution_count": 60,
   "id": "25644b19-57d2-4a37-8a08-06b72ee9bc9f",
   "metadata": {
    "tags": []
   },
   "outputs": [
    {
     "data": {
      "text/plain": [
       "['detector', 'v2v3', 'v2v3vacorr', 'world']"
      ]
     },
     "execution_count": 60,
     "metadata": {},
     "output_type": "execute_result"
    }
   ],
   "source": [
    "wcsobj.available_frames"
   ]
  },
  {
   "cell_type": "code",
   "execution_count": 61,
   "id": "04679a4a-811f-461b-96c5-3fd135101b09",
   "metadata": {
    "tags": []
   },
   "outputs": [
    {
     "data": {
      "text/plain": [
       "<Frame2D(name=\"detector\", unit=(Unit(\"pix\"), Unit(\"pix\")), axes_names=('x', 'y'), axes_order=(0, 1))>"
      ]
     },
     "execution_count": 61,
     "metadata": {},
     "output_type": "execute_result"
    }
   ],
   "source": [
    "wcsobj.input_frame"
   ]
  },
  {
   "cell_type": "code",
   "execution_count": 62,
   "id": "a227b813-9ae1-478f-a801-40183a2840e0",
   "metadata": {
    "tags": []
   },
   "outputs": [
    {
     "data": {
      "text/plain": [
       "<CelestialFrame(name=\"world\", unit=(Unit(\"deg\"), Unit(\"deg\")), axes_names=('lon', 'lat'), axes_order=(0, 1), reference_frame=<ICRS Frame>)>"
      ]
     },
     "execution_count": 62,
     "metadata": {},
     "output_type": "execute_result"
    }
   ],
   "source": [
    "wcsobj.output_frame"
   ]
  },
  {
   "cell_type": "code",
   "execution_count": 65,
   "id": "73b24f69-fe2f-447e-bb0b-eed2300723bd",
   "metadata": {
    "tags": []
   },
   "outputs": [
    {
     "data": {
      "text/plain": [
       "(266.6053037136666, -28.606766057100106)"
      ]
     },
     "execution_count": 65,
     "metadata": {},
     "output_type": "execute_result"
    }
   ],
   "source": [
    "wcsobj(1, 2)"
   ]
  },
  {
   "cell_type": "code",
   "execution_count": 70,
   "id": "69ebc7d3-948c-4ad7-a56b-19cd8dacd388",
   "metadata": {
    "tags": []
   },
   "outputs": [
    {
     "data": {
      "text/plain": [
       "'/orange/adamginsburg/jwst/cloudc/F405N/pipeline/jw02221002001_08201_00004_nrcblong_destreak.fits'"
      ]
     },
     "execution_count": 70,
     "metadata": {},
     "output_type": "execute_result"
    }
   ],
   "source": [
    "im"
   ]
  },
  {
   "cell_type": "code",
   "execution_count": 82,
   "id": "fca5be7a-6871-4d56-b8b4-7fa3f1f26d11",
   "metadata": {
    "tags": []
   },
   "outputs": [],
   "source": [
    "ref_fits = fits.open(im)"
   ]
  },
  {
   "cell_type": "code",
   "execution_count": 84,
   "id": "28ac227c-7402-4273-8a84-d83fa9b0c0ea",
   "metadata": {
    "tags": []
   },
   "outputs": [
    {
     "data": {
      "text/plain": [
       "WCS Keywords\n",
       "\n",
       "Number of WCS axes: 2\n",
       "CTYPE : 'RA---TAN-SIP'  'DEC--TAN-SIP'  \n",
       "CRVAL : 266.58278632853  -28.623092937712  \n",
       "CRPIX : 1024.5  1024.5  \n",
       "CD1_1 CD1_2  : -1.6940434486916e-06  -1.7463274901009e-05  \n",
       "CD2_1 CD2_2  : -1.7378788023915e-05  1.6781818804158e-06  \n",
       "NAXIS : 2048  2048"
      ]
     },
     "execution_count": 84,
     "metadata": {},
     "output_type": "execute_result"
    }
   ],
   "source": [
    "align_fits_wcs"
   ]
  },
  {
   "cell_type": "code",
   "execution_count": 87,
   "id": "e26b6a01-817f-4ef2-969e-0a7ede1e479a",
   "metadata": {
    "tags": []
   },
   "outputs": [
    {
     "name": "stdout",
     "output_type": "stream",
     "text": [
      "Filename: /orange/adamginsburg/jwst/cloudc/F405N/pipeline/jw02221002001_08201_00004_nrcblong_destreak_gwcs.fits\n",
      "No.    Name      Ver    Type      Cards   Dimensions   Format\n",
      "  0  PRIMARY       1 PrimaryHDU     348   ()      \n",
      "  1  SCI           1 ImageHDU       112   (2048, 2048)   float32   \n",
      "  2  ERR           1 ImageHDU        10   (2048, 2048)   float32   \n",
      "  3  DQ            1 ImageHDU        11   (2048, 2048)   int32 (rescales to uint32)   \n",
      "  4  AREA          1 ImageHDU         9   (2048, 2048)   float32   \n",
      "  5  VAR_POISSON    1 ImageHDU         9   (2048, 2048)   float32   \n",
      "  6  VAR_RNOISE    1 ImageHDU         9   (2048, 2048)   float32   \n",
      "  7  VAR_FLAT      1 ImageHDU         9   (2048, 2048)   float32   \n",
      "  8  ASDF          1 BinTableHDU     11   1R x 1C   [24983B]   \n"
     ]
    }
   ],
   "source": [
    "gwcs_fits = fits.open(im_gwcs)\n",
    "gwcs_fits.info()"
   ]
  },
  {
   "cell_type": "code",
   "execution_count": 99,
   "id": "82f3a936-eebf-4098-848f-579ae3e8ac86",
   "metadata": {
    "tags": []
   },
   "outputs": [
    {
     "name": "stderr",
     "output_type": "stream",
     "text": [
      "2023-09-15 16:35:21,081 - stpipe - WARNING - /blue/adamginsburg/adamginsburg/repos/astropy/astropy/wcs/wcs.py:819: FITSFixedWarning: 'datfix' made the change 'Set DATE-BEG to '2023-04-15T16:03:04.827' from MJD-BEG.\n",
      "Set DATE-AVG to '2023-04-15T16:03:31.669' from MJD-AVG.\n",
      "Set DATE-END to '2023-04-15T16:03:58.511' from MJD-END'.\n",
      "  warnings.warn(\n",
      "\n",
      "2023-09-15 16:35:21,090 - stpipe - WARNING - /blue/adamginsburg/adamginsburg/repos/astropy/astropy/wcs/wcs.py:819: FITSFixedWarning: 'obsfix' made the change 'Set OBSGEO-L to  -134.315532 from OBSGEO-[XYZ].\n",
      "Set OBSGEO-B to    -3.213224 from OBSGEO-[XYZ].\n",
      "Set OBSGEO-H to 1299094589.651 from OBSGEO-[XYZ]'.\n",
      "  warnings.warn(\n",
      "\n",
      "2023-09-15 16:35:21,107 - stpipe - WARNING - /blue/adamginsburg/adamginsburg/repos/astropy/astropy/wcs/wcs.py:819: FITSFixedWarning: 'datfix' made the change 'Set DATE-BEG to '2023-04-15T16:03:04.827' from MJD-BEG.\n",
      "Set DATE-AVG to '2023-04-15T16:03:31.669' from MJD-AVG.\n",
      "Set DATE-END to '2023-04-15T16:03:58.511' from MJD-END'.\n",
      "  warnings.warn(\n",
      "\n",
      "2023-09-15 16:35:21,111 - stpipe - WARNING - /blue/adamginsburg/adamginsburg/repos/astropy/astropy/wcs/wcs.py:819: FITSFixedWarning: 'obsfix' made the change 'Set OBSGEO-L to  -134.315532 from OBSGEO-[XYZ].\n",
      "Set OBSGEO-B to    -3.213224 from OBSGEO-[XYZ].\n",
      "Set OBSGEO-H to 1299094589.651 from OBSGEO-[XYZ]'.\n",
      "  warnings.warn(\n",
      "\n",
      "2023-09-15 16:35:21,126 - stpipe - WARNING - /blue/adamginsburg/adamginsburg/repos/astropy/astropy/wcs/wcs.py:819: FITSFixedWarning: 'datfix' made the change 'Set DATE-BEG to '2023-04-15T16:03:04.827' from MJD-BEG.\n",
      "Set DATE-AVG to '2023-04-15T16:03:31.669' from MJD-AVG.\n",
      "Set DATE-END to '2023-04-15T16:03:58.511' from MJD-END'.\n",
      "  warnings.warn(\n",
      "\n",
      "2023-09-15 16:35:21,129 - stpipe - WARNING - /blue/adamginsburg/adamginsburg/repos/astropy/astropy/wcs/wcs.py:819: FITSFixedWarning: 'obsfix' made the change 'Set OBSGEO-L to  -134.315532 from OBSGEO-[XYZ].\n",
      "Set OBSGEO-B to    -3.213224 from OBSGEO-[XYZ].\n",
      "Set OBSGEO-H to 1299094589.651 from OBSGEO-[XYZ]'.\n",
      "  warnings.warn(\n",
      "\n",
      "2023-09-15 16:35:21,141 - stpipe - WARNING - /blue/adamginsburg/adamginsburg/repos/astropy/astropy/wcs/wcs.py:819: FITSFixedWarning: 'datfix' made the change 'Set DATE-BEG to '2023-04-15T16:03:04.827' from MJD-BEG.\n",
      "Set DATE-AVG to '2023-04-15T16:03:31.669' from MJD-AVG.\n",
      "Set DATE-END to '2023-04-15T16:03:58.511' from MJD-END'.\n",
      "  warnings.warn(\n",
      "\n",
      "2023-09-15 16:35:21,145 - stpipe - WARNING - /blue/adamginsburg/adamginsburg/repos/astropy/astropy/wcs/wcs.py:819: FITSFixedWarning: 'obsfix' made the change 'Set OBSGEO-L to  -134.315532 from OBSGEO-[XYZ].\n",
      "Set OBSGEO-B to    -3.213224 from OBSGEO-[XYZ].\n",
      "Set OBSGEO-H to 1299094589.651 from OBSGEO-[XYZ]'.\n",
      "  warnings.warn(\n",
      "\n"
     ]
    },
    {
     "data": {
      "image/png": "[encoded data removed]",
      "text/plain": [
       "<Figure size 640x480 with 3 Axes>"
      ]
     },
     "metadata": {},
     "output_type": "display_data"
    }
   ],
   "source": [
    "#01_08201_00002_nrcbl\n",
    "star_location = SkyCoord('17:46:15.2083797761','-28:38:06.0376993433',unit=(u.hourangle,u.deg))\n",
    "#star_location2 = SkyCoord('17:46:20.7437062304','-28:36:47.6472525487',unit=(u.hourangle,u.deg))\n",
    "#star_location3 = SkyCoord('17:46:22.0306124391','-28:37:54.1817578554',unit=(u.hourangle,u.deg))\n",
    "\n",
    "shutil.copy(im, im_align)\n",
    "shutil.copy(im, im_gwcs)\n",
    "#align_image = imfile#glob.glob('mastDownload/JWST/*long*/*cal.fits')[0]\n",
    "align_fits = fits.open(im_align)\n",
    "align_fits_wcs = fwcs.WCS(fits.getheader(im_align, ext=1))\n",
    "align_fits['SCI',1].header['CRPIX1']+=(7.9*u.arcsec/pixel_scale).value\n",
    "align_fits['SCI',1].header['CRPIX2']+=(-0.3*u.arcsec/pixel_scale).value\n",
    "align_fits.writeto(im_align, overwrite=True)\n",
    "\n",
    "gwcs_fits = fits.open(im_gwcs)\n",
    "fa = asdf.open(im_gwcs)\n",
    "xshift = 7.95 * u.arcsec / pixel_scale\n",
    "yshift = -0.3 * u.arcsec / pixel_scale\n",
    "shift = models.Shift(xshift) & models.Shift(yshift)\n",
    "wcsobj.insert_transform('detector', shift, after=True)\n",
    "tree = fa.tree\n",
    "tree['meta']['wcs'] = wcsobj\n",
    "fa = fits_embed.AsdfInFits(gwcs_fits, tree)\n",
    "gwcs_fits.writeto(im_gwcs, overwrite=True)\n",
    "\n",
    "ref_data = fits.open(im)['SCI',1].data\n",
    "align_data = fits.open(im_align)['SCI',1].data\n",
    "gwcs_data = fits.open(im_gwcs)['SCI',1].data\n",
    "\n",
    "ref_fits = fits.open(im)\n",
    "align_fits = fits.open(im_align)\n",
    "gwcs_fits = fits.open(im_gwcs)\n",
    "\n",
    "align_y,align_x = skycoord_to_pixel(star_location, fwcs.WCS(ref_fits['SCI', 1], ref_fits))\n",
    "\n",
    "align_y2,align_x2 = skycoord_to_pixel(star_location, fwcs.WCS(align_fits['SCI', 1], align_fits))\n",
    "\n",
    "align_y3,align_x3 = skycoord_to_pixel(star_location, fwcs.WCS(gwcs_fits['SCI', 1], gwcs_fits))\n",
    "\n",
    "\n",
    "ref_y,ref_x = skycoord_to_pixel(star_location, fwcs.WCS(ref_fits['SCI', 1], ref_fits))\n",
    "#align_y,align_x = skycoord_to_pixel(star_location, fwcs.WCS(align_fits['SCI',1], align_fits))\n",
    "\n",
    "cutout_size=20.\n",
    "\n",
    "ref_cutout = extract_array(ref_data,(cutout_size,cutout_size),(align_x,align_y))\n",
    "norm1 = simple_norm(np.nan_to_num(ref_cutout), stretch='log', max_percent=99.95, log_a=1)#simple_norm(align_cutout,stretch='linear',min_cut=-.5,max_cut=3)\n",
    "\n",
    "align_cutout = extract_array(align_data,(cutout_size,cutout_size),(align_x2,align_y2))\n",
    "norm2 = simple_norm(np.nan_to_num(align_cutout), stretch='log', max_percent=99.95, log_a=1)\n",
    "\n",
    "gwcs_cutout = extract_array(gwcs_data,(cutout_size,cutout_size),(align_x3,align_y3))\n",
    "norm3 = simple_norm(np.nan_to_num(gwcs_cutout), stretch='log', max_percent=99.95, log_a=1)\n",
    "\n",
    "fig,axes = plt.subplots(1,3)\n",
    "axes[0].imshow(ref_cutout, origin='lower',\n",
    "                      norm=norm1)\n",
    "axes[0].scatter(cutout_size/2, cutout_size/2, edgecolor='r', facecolor='none')\n",
    "axes[0].set_title('Reference')\n",
    "axes[0].tick_params(labelcolor='none',axis='both',color='none')\n",
    "\n",
    "axes[1].imshow(align_cutout, origin='lower',\n",
    "                      norm=norm2)\n",
    "axes[1].scatter(cutout_size/2, cutout_size/2, edgecolor='r', facecolor='none')\n",
    "axes[1].set_title('Align')\n",
    "axes[1].tick_params(labelcolor='none',axis='both',color='none')\n",
    "\n",
    "axes[2].imshow(gwcs_cutout, origin='lower',\n",
    "                      norm=norm3)\n",
    "axes[2].scatter(cutout_size/2, cutout_size/2, edgecolor='r', facecolor='none')\n",
    "axes[2].set_title('GWCS')\n",
    "axes[2].tick_params(labelcolor='none',axis='both',color='none')\n",
    "\n",
    "plt.show()\n"
   ]
  },
  {
   "cell_type": "code",
   "execution_count": 95,
   "id": "12f35990-6ab1-4997-8826-2fe1449dfd17",
   "metadata": {
    "tags": []
   },
   "outputs": [
    {
     "name": "stdout",
     "output_type": "stream",
     "text": [
      "2023-09-15T16:33:31.055431:    From      Transform   \n",
      "---------- --------------\n",
      "  detector  CompoundModel\n",
      "      v2v3 DVA_Correction\n",
      "v2v3vacorr       v23tosky\n",
      "     world           None\n"
     ]
    }
   ],
   "source": [
    "print(wcsobj)"
   ]
  },
  {
   "cell_type": "code",
   "execution_count": 100,
   "id": "1f4a8ed3-3b3b-405b-8c80-d68400ac337f",
   "metadata": {
    "tags": []
   },
   "outputs": [
    {
     "data": {
      "text/plain": [
       "<CompoundModel(offset_0=126.81398737 pix, offset_1=-4.78543349 pix)>"
      ]
     },
     "execution_count": 100,
     "metadata": {},
     "output_type": "execute_result"
    }
   ],
   "source": [
    "shift"
   ]
  },
  {
   "cell_type": "code",
   "execution_count": 101,
   "id": "d85def7d-b83b-4544-ba75-4576628d41b0",
   "metadata": {
    "tags": []
   },
   "outputs": [
    {
     "data": {
      "text/plain": [
       "<WCS(output_frame=world, input_frame=detector, forward_transform=Model: CompoundModel\n",
       "Inputs: ('x0', 'x1')\n",
       "Outputs: ('lon', 'lat')\n",
       "Model set size: 1\n",
       "Expression: [0] & [1] | [2] & [3] | [4] & [5] | [6] & [7] | [8] & [9] | [10] | [11] & [12] | [13] | [14] & [15] | [16] & [17] | [18] & [19] | [20] & [21] | [22] & [23] | [24] | [25] | [26]\n",
       "Components: \n",
       "    [0]: <Shift(offset=126.81398737 pix)>\n",
       "\n",
       "    [1]: <Shift(offset=-4.78543349 pix)>\n",
       "\n",
       "    [2]: <Shift(offset=126.81398737 pix)>\n",
       "\n",
       "    [3]: <Shift(offset=-4.78543349 pix)>\n",
       "\n",
       "    [4]: <Shift(offset=-0.132)>\n",
       "\n",
       "    [5]: <Shift(offset=-0.137)>\n",
       "\n",
       "    [6]: <Shift(offset=1.)>\n",
       "\n",
       "    [7]: <Shift(offset=1.)>\n",
       "\n",
       "    [8]: <Shift(offset=-1024.5)>\n",
       "\n",
       "    [9]: <Shift(offset=-1024.5)>\n",
       "\n",
       "    [10]: <Mapping((0, 1, 0, 1))>\n",
       "\n",
       "    [11]: <Polynomial2D(5, c0_0=0., c1_0=0.06285605, c2_0=-0.00000012, c3_0=0., c4_0=0., c5_0=-0., c0_1=-0., c0_2=0.0000001, c0_3=0., c0_4=0., c0_5=-0., c1_1=-0.00000074, c1_2=0., c1_3=-0., c1_4=0., c2_1=0., c2_2=0., c2_3=-0., c3_1=-0., c3_2=0., c4_1=-0.)>\n",
       "\n",
       "    [12]: <Polynomial2D(5, c0_0=0., c1_0=0.00008378, c2_0=0.00000031, c3_0=0., c4_0=0., c5_0=-0., c0_1=0.06315358, c0_2=-0.00000044, c0_3=0., c0_4=-0., c0_5=0., c1_1=-0.00000023, c1_2=0., c1_3=-0., c1_4=-0., c2_1=0., c2_2=0., c2_3=0., c3_1=-0., c3_2=-0., c4_1=-0.)>\n",
       "\n",
       "    [13]: <Mapping((0, 1, 0, 1))>\n",
       "\n",
       "    [14]: <Polynomial2D(1, c0_0=0., c1_0=-0.99999987, c0_1=0.00051463)>\n",
       "\n",
       "    [15]: <Polynomial2D(1, c0_0=0., c1_0=0.00051463, c0_1=0.99999987)>\n",
       "\n",
       "    [16]: <Shift(offset=-89.38741167)>\n",
       "\n",
       "    [17]: <Shift(offset=-491.35239433)>\n",
       "\n",
       "    [18]: <Scale(factor=1.00008924, name='dva_scale_v2')>\n",
       "\n",
       "    [19]: <Scale(factor=1.00008924, name='dva_scale_v3')>\n",
       "\n",
       "    [20]: <Shift(offset=0.0079765, name='dva_v2_shift')>\n",
       "\n",
       "    [21]: <Shift(offset=0.04384589, name='dva_v3_shift')>\n",
       "\n",
       "    [22]: <Scale(factor=0.00027778)>\n",
       "\n",
       "    [23]: <Scale(factor=0.00027778)>\n",
       "\n",
       "    [24]: <SphericalToCartesian()>\n",
       "\n",
       "    [25]: <RotationSequence3D(angles=[  -0.02482984,    0.13648678,  275.46073057,  -28.623095  , -266.58278335])>\n",
       "\n",
       "    [26]: <CartesianToSpherical()>\n",
       "Parameters:\n",
       "         offset_0           offset_1           offset_2      ...       factor_22             factor_23                        angles_25                 \n",
       "           pix                pix                pix         ...                                                                                        \n",
       "    ------------------ ------------------ ------------------ ... --------------------- --------------------- -------------------------------------------\n",
       "    126.81398736594242 -4.785433485507261 126.81398736594242 ... 0.0002777777777777778 0.0002777777777777778 -0.02482983666666667 .. -266.58278334806715)>"
      ]
     },
     "execution_count": 101,
     "metadata": {},
     "output_type": "execute_result"
    }
   ],
   "source": [
    "wcsobj"
   ]
  },
  {
   "cell_type": "code",
   "execution_count": null,
   "id": "063033b0-f26f-4788-b368-155d1fe13b34",
   "metadata": {},
   "outputs": [],
   "source": []
  }
 ],
 "metadata": {
  "kernelspec": {
   "display_name": "Python 3 (ipykernel)",
   "language": "python",
   "name": "python3"
  },
  "language_info": {
   "codemirror_mode": {
    "name": "ipython",
    "version": 3
   },
   "file_extension": ".py",
   "mimetype": "text/x-python",
   "name": "python",
   "nbconvert_exporter": "python",
   "pygments_lexer": "ipython3",
   "version": "3.9.17"
  }
 },
 "nbformat": 4,
 "nbformat_minor": 5
}
